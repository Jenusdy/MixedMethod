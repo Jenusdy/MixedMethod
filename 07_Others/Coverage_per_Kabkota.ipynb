{
 "cells": [
  {
   "cell_type": "code",
   "execution_count": 15,
   "id": "7a485ae6-cfb2-4c73-b107-ccaf0e1de46e",
   "metadata": {},
   "outputs": [],
   "source": [
    "from geopandas import gpd\n",
    "from shapely.geometry import box, Polygon\n",
    "import asf_search as asf\n",
    "from datetime import date,datetime,timedelta\n",
    "import json\n",
    "import os\n",
    "from tqdm import tqdm"
   ]
  },
  {
   "cell_type": "markdown",
   "id": "68bd76d8-24d2-421d-b87f-3b9aef77ba3e",
   "metadata": {},
   "source": [
    "### Get Image Acquisition"
   ]
  },
  {
   "cell_type": "code",
   "execution_count": 4,
   "id": "24891e26-a437-43f5-8424-18c04b39e0ce",
   "metadata": {},
   "outputs": [
    {
     "name": "stderr",
     "output_type": "stream",
     "text": [
      "100%|██████████| 517/517 [00:00<00:00, 172992.04it/s]\n"
     ]
    }
   ],
   "source": [
    "data_kabkota=gpd.read_file('/data/raw/kab_indo_ST23.gpkg')\n",
    "for i in tqdm(data_kabkota.idkab.unique()):\n",
    "    if not os.path.exists(f'/data/ksa/01_Image_Acquisition/06_SatelliteCoverageKabkota/{i}_metadata_ASF.json'):\n",
    "        kabkota_=data_kabkota.query('idkab==@i')\n",
    "        bounds = kabkota_.total_bounds\n",
    "        gdf_bounds = gpd.GeoSeries([box(*bounds)])\n",
    "        wkt_aoi = gdf_bounds.to_wkt().values.tolist()[0]\n",
    "        results = asf.search(\n",
    "            platform= asf.PLATFORM.SENTINEL1A,\n",
    "            processingLevel=[asf.PRODUCT_TYPE.GRD_HD],\n",
    "            start = date(2023, 1, 1),\n",
    "            end = date(2023, 12, 31),\n",
    "            intersectsWith = wkt_aoi\n",
    "            )\n",
    "        metadata = results.geojson()\n",
    "        json_object = json.dumps(metadata)\n",
    "        with open(f'/data/ksa/01_Image_Acquisition/06_SatelliteCoverageKabkota/{i}_metadata_ASF.json', 'w') as f:\n",
    "            f.write(json_object)"
   ]
  },
  {
   "cell_type": "markdown",
   "id": "abc95c70-7089-4b67-afbc-8ad30aadf92a",
   "metadata": {},
   "source": [
    "## Get the coverage"
   ]
  },
  {
   "cell_type": "code",
   "execution_count": 5,
   "id": "eef35b2e-e593-4fda-9801-b742dd124a98",
   "metadata": {},
   "outputs": [],
   "source": [
    "def read_json(idkabkot):\n",
    "    path_file = f'/data/ksa/01_Image_Acquisition/06_SatelliteCoverageKabkota/{idkabkot}_metadata_ASF.json'\n",
    "    with open(path_file, 'r') as file:\n",
    "        data = json.load(file)\n",
    "    return data\n",
    "def write_json(idkabkot, dict_list):\n",
    "    path_file = f'/data/ksa/01_Image_Acquisition/06_SatelliteCoverageKabkota/{idkabkot}_coverage_ASF.json'\n",
    "    with open(path_file, 'w') as json_file:\n",
    "        json.dump(dict_list, json_file, ensure_ascii=False, indent=4)\n",
    "def get_df_asf(idkabkot):\n",
    "    data = read_json(idkabkot)\n",
    "    asf_images = []\n",
    "    for item in data['features']:\n",
    "        filename = item['properties']['fileName'][:-4]\n",
    "        tahun = item['properties']['processingDate'][:4]\n",
    "        bulan = item['properties']['processingDate'][5:7]\n",
    "        tanggal = item['properties']['processingDate'][8:10]\n",
    "        geometry = item['geometry']['coordinates'][0]\n",
    "        polygon = Polygon(geometry)\n",
    "        asf_images.append(\n",
    "           {\n",
    "               'filename': filename, \n",
    "               'tahun': tahun,\n",
    "               'bulan': bulan,\n",
    "               'tanggal': tanggal,\n",
    "               'geometry': polygon\n",
    "           }\n",
    "        )\n",
    "    return gpd.GeoDataFrame(asf_images, geometry='geometry')\n",
    "def get_df_input(idkabkot):\n",
    "    gdf_mgrs = gpd.read_file('/data/ksa/00_Data_Input/indo_mgrs_grid_100km_overlay.gpkg')\n",
    "    gdf_kabkot = gpd.read_file('/data/raw/kab_indo_ST23.gpkg')\n",
    "    gdf_kabkot = gdf_kabkot[gdf_kabkot['idkab'] == idkabkot]\n",
    "    intersecting_gdf = gpd.sjoin(gdf_mgrs, gdf_kabkot, how='inner', predicate='intersects')\n",
    "    gdf_mgrs = gdf_mgrs[gdf_mgrs.index.isin(intersecting_gdf.index)]\n",
    "    return gdf_mgrs, gdf_kabkot\n",
    "def generate_date_pairs(year):\n",
    "    start_date = datetime(year, 1, 1)\n",
    "    date_pairs = []\n",
    "    while start_date.year == year:\n",
    "        end_date = start_date + timedelta(days=11)\n",
    "        # Ensure the end date is still within the same year\n",
    "        if end_date.year != year:\n",
    "            break\n",
    "        date_pairs.append([start_date.strftime('%Y-%m-%d'), end_date.strftime('%Y-%m-%d')])\n",
    "        start_date = end_date + timedelta(days=1)\n",
    "    return date_pairs\n",
    "def get_periode_data(row, periode, gdf_asf):\n",
    "    startPeriode = periode[0].split('-')\n",
    "    endPeriode = periode[1].split('-')\n",
    "    periode = {\n",
    "        'start_periode': periode[0],\n",
    "        'end_periode': periode[1]\n",
    "    }\n",
    "    gdf_asf_filter = gdf_asf[\n",
    "        ((gdf_asf['tahun'] >= startPeriode[0]) & (gdf_asf['bulan'] >= startPeriode[1]) & (gdf_asf['tanggal'] >= startPeriode[2])) &\n",
    "        ((gdf_asf['tahun'] <= endPeriode[0]) & (gdf_asf['bulan'] <= endPeriode[1]) & (gdf_asf['tanggal'] <= endPeriode[2]))\n",
    "    ]\n",
    "    if gdf_asf_filter.empty:\n",
    "        periode.update({\n",
    "            'image_asf': '',\n",
    "            'coverage': 0,\n",
    "            'alasan': 'Tidak ada image periode tersebut'\n",
    "        })\n",
    "        return periode\n",
    "    overlapping_rows = gdf_asf_filter[gdf_asf_filter.intersects(row['geometry'])]\n",
    "    if overlapping_rows.empty:\n",
    "        periode.update({\n",
    "            'image_asf': '',\n",
    "            'coverage': 0,\n",
    "            'alasan': 'Tidak ada image yang overlap dengan MGRS'\n",
    "        })\n",
    "        return periode\n",
    "    periode['image_asf'] = overlapping_rows['filename'].to_list()\n",
    "    df_temp = overlapping_rows.dissolve()\n",
    "    area1 = row['geometry'].area\n",
    "    intersection = row['geometry'].intersection(df_temp['geometry'])[0].area\n",
    "    percentage_covered = (intersection / area1) * 100\n",
    "    periode['coverage'] = percentage_covered\n",
    "    periode['alasan'] = 'Coverage di bawah 80%' if percentage_covered < 80 else 'Sudah OK!'\n",
    "    return periode\n",
    "def process_rows(gdf_mgrs, gdf_asf):\n",
    "    dict_list = []\n",
    "    periode_range = []\n",
    "    years = [2021, 2022, 2023]\n",
    "    for year in years:\n",
    "        date_pairs = generate_date_pairs(year)\n",
    "        date_pairs[-1][1] = date_pairs[-1][1][:-2] + '31'\n",
    "        periode_range = periode_range + date_pairs  \n",
    "    for _, row in gdf_mgrs.iterrows():\n",
    "        periode_list = [get_periode_data(row, periode, gdf_asf) for periode in periode_range]\n",
    "        dict_list.append({\n",
    "            'id': row['MGRS'],\n",
    "            'geometry': row['geometry'].wkt,\n",
    "            'periode': periode_list\n",
    "        })\n",
    "    return dict_list"
   ]
  },
  {
   "cell_type": "code",
   "execution_count": 14,
   "id": "2ff1b876-ad68-4493-8324-c0a23ca964d7",
   "metadata": {},
   "outputs": [
    {
     "name": "stderr",
     "output_type": "stream",
     "text": [
      "100%|██████████| 517/517 [00:00<00:00, 221655.44it/s]\n"
     ]
    }
   ],
   "source": [
    "for i in tqdm(data_kabkota.idkab.unique()):\n",
    "    if not os.path.exists(f'/data/ksa/01_Image_Acquisition/06_SatelliteCoverageKabkota/{i}_coverage_ASF.json'):\n",
    "        gdf_mgrs, gdf_prov = get_df_input(i)\n",
    "        gdf_asf = get_df_asf(i)\n",
    "        dict_list = process_rows(gdf_mgrs, gdf_asf)\n",
    "        write_json(i, dict_list)"
   ]
  },
  {
   "cell_type": "markdown",
   "id": "c456e132-060d-4b9c-9d62-b667da8fccc4",
   "metadata": {},
   "source": [
    "## Calculate the precentage"
   ]
  },
  {
   "cell_type": "code",
   "execution_count": 19,
   "id": "3f8fe820-b8b1-464f-9b9e-e48a3c6c52cb",
   "metadata": {},
   "outputs": [],
   "source": [
    "with open('/data/ksa/01_Image_Acquisition/06_SatelliteCoverageKabkota/3507_coverage_ASF.json') as file:\n",
    "    y=json.load(file)"
   ]
  },
  {
   "cell_type": "code",
   "execution_count": 26,
   "id": "d8e227b3-2ec1-467b-b15d-b96437df6551",
   "metadata": {},
   "outputs": [
    {
     "data": {
      "text/plain": [
       "{'start_periode': '2023-01-01',\n",
       " 'end_periode': '2023-01-12',\n",
       " 'image_asf': ['S1A_IW_GRDH_1SDV_20230112T105819_20230112T105849_046749_059AC9_5348'],\n",
       " 'coverage': 69.6608290481277,\n",
       " 'alasan': 'Coverage di bawah 80%'}"
      ]
     },
     "execution_count": 26,
     "metadata": {},
     "output_type": "execute_result"
    }
   ],
   "source": [
    "y[0]['periode'][60]"
   ]
  },
  {
   "cell_type": "code",
   "execution_count": null,
   "id": "225c98a6-d51d-4116-897e-fc5f3b22dfa1",
   "metadata": {},
   "outputs": [],
   "source": []
  }
 ],
 "metadata": {
  "kernelspec": {
   "display_name": "Python 3 (ipykernel)",
   "language": "python",
   "name": "python3"
  },
  "language_info": {
   "codemirror_mode": {
    "name": "ipython",
    "version": 3
   },
   "file_extension": ".py",
   "mimetype": "text/x-python",
   "name": "python",
   "nbconvert_exporter": "python",
   "pygments_lexer": "ipython3",
   "version": "3.10.14"
  }
 },
 "nbformat": 4,
 "nbformat_minor": 5
}
