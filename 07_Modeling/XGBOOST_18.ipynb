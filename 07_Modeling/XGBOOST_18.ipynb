{
 "cells": [
  {
   "cell_type": "code",
   "execution_count": 1,
   "id": "d37f5160-5e12-40a3-8dc9-2d929bd94327",
   "metadata": {
    "execution": {
     "iopub.execute_input": "2024-10-18T08:58:47.878847Z",
     "iopub.status.busy": "2024-10-18T08:58:47.877563Z",
     "iopub.status.idle": "2024-10-18T08:58:49.845196Z",
     "shell.execute_reply": "2024-10-18T08:58:49.844320Z"
    },
    "papermill": {
     "duration": 1.975662,
     "end_time": "2024-10-18T08:58:49.847261",
     "exception": false,
     "start_time": "2024-10-18T08:58:47.871599",
     "status": "completed"
    },
    "tags": []
   },
   "outputs": [
    {
     "name": "stderr",
     "output_type": "stream",
     "text": [
      "/data/home/farhan.arsyi/.local/lib/python3.10/site-packages/tqdm/auto.py:21: TqdmWarning: IProgress not found. Please update jupyter and ipywidgets. See https://ipywidgets.readthedocs.io/en/stable/user_install.html\n",
      "  from .autonotebook import tqdm as notebook_tqdm\n"
     ]
    }
   ],
   "source": [
    "import pandas as pd\n",
    "import geopandas as gpd\n",
    "import numpy as np\n",
    "import matplotlib.pyplot as plt\n",
    "import seaborn as sns\n",
    "import os\n",
    "from glob import glob\n",
    "import polars as pl\n",
    "import xgboost as xgb\n",
    "import optuna\n",
    "from sklearn.model_selection import StratifiedKFold, cross_val_score\n",
    "from sklearn.metrics import accuracy_score\n",
    "from sklearn.model_selection import train_test_split, cross_validate\n",
    "from sklearn.metrics import classification_report, confusion_matrix, ConfusionMatrixDisplay, accuracy_score, make_scorer, f1_score, roc_auc_score\n",
    "from sklearn.preprocessing import LabelEncoder\n",
    "import warnings\n",
    "\n",
    "# Suppress warnings globally\n",
    "warnings.filterwarnings(\"ignore\", category=UserWarning)\n",
    "warnings.filterwarnings(\"ignore\", category=DeprecationWarning)\n",
    "import pickle\n",
    "import warnings\n",
    "warnings.simplefilter(action='ignore', category=FutureWarning)\n",
    "warnings.simplefilter(action='ignore', category=pd.errors.SettingWithCopyWarning)\n",
    "from collections import Counter\n",
    "import numpy as np\n",
    "warnings.filterwarnings(\"ignore\", category=RuntimeWarning)"
   ]
  },
  {
   "cell_type": "code",
   "execution_count": 2,
   "id": "1164ac8a-4c5a-456c-a6c9-4e3f8f1fff85",
   "metadata": {
    "execution": {
     "iopub.execute_input": "2024-10-18T08:58:49.856266Z",
     "iopub.status.busy": "2024-10-18T08:58:49.855372Z",
     "iopub.status.idle": "2024-10-18T08:58:49.862200Z",
     "shell.execute_reply": "2024-10-18T08:58:49.861236Z"
    },
    "papermill": {
     "duration": 0.013169,
     "end_time": "2024-10-18T08:58:49.864125",
     "exception": false,
     "start_time": "2024-10-18T08:58:49.850956",
     "status": "completed"
    },
    "tags": []
   },
   "outputs": [],
   "source": [
    "def get_train_test(df, test_size):\n",
    "    # Make X and Y dataset\n",
    "    y = df.observation\n",
    "    print(y.unique())\n",
    "    X = df.loc[:,'VH_30':'VH_0']\n",
    "    X['nth'] = df.loc[:,'nth']\n",
    "    X['nth'] = X.nth.astype('category')\n",
    "    X_train, X_test, y_train, y_test = train_test_split(X, y, test_size=test_size, random_state=1234, stratify=y)\n",
    "    return X_train, X_test, y_train, y_test"
   ]
  },
  {
   "cell_type": "code",
   "execution_count": 3,
   "id": "02aaee39-f4fe-424f-a54a-71ae90874e0c",
   "metadata": {
    "execution": {
     "iopub.execute_input": "2024-10-18T08:58:49.872937Z",
     "iopub.status.busy": "2024-10-18T08:58:49.872376Z",
     "iopub.status.idle": "2024-10-18T08:58:49.878477Z",
     "shell.execute_reply": "2024-10-18T08:58:49.877773Z"
    },
    "papermill": {
     "duration": 0.012328,
     "end_time": "2024-10-18T08:58:49.880080",
     "exception": false,
     "start_time": "2024-10-18T08:58:49.867752",
     "status": "completed"
    },
    "tags": []
   },
   "outputs": [],
   "source": [
    "def akurasi_kelas_generatif(y_true, y_pred):\n",
    "    # Calculate accuracy specifically for class 3\n",
    "    class_3_mask = (y_true == 3)\n",
    "    if np.any(class_3_mask):  # Check if class 3 is present in the true labels\n",
    "        return accuracy_score(y_true[class_3_mask], y_pred[class_3_mask])\n",
    "    else:\n",
    "        return 0.0  # Return 0 if class 3 is not present in the true labels\n",
    "\n",
    "def akurasi_fase_padi(y_true, y_pred):\n",
    "    # Calculate accuracy specifically for classes 1, 2, 3, and 4\n",
    "    class_1234_mask = (y_true >= 1) & (y_true <= 4)\n",
    "    if np.any(class_1234_mask):  # Check if classes 1,2,3,4 are present in the true labels\n",
    "        return accuracy_score(y_true[class_1234_mask], y_pred[class_1234_mask])\n",
    "    else:\n",
    "        return 0.0  # Return 0 if none of the classes 0-3 are present in the true labels"
   ]
  },
  {
   "cell_type": "code",
   "execution_count": 4,
   "id": "9bc8ab03-1717-47d9-95ea-75e3db819b06",
   "metadata": {
    "editable": true,
    "execution": {
     "iopub.execute_input": "2024-10-18T08:58:49.888550Z",
     "iopub.status.busy": "2024-10-18T08:58:49.887777Z",
     "iopub.status.idle": "2024-10-18T08:58:49.892109Z",
     "shell.execute_reply": "2024-10-18T08:58:49.891378Z"
    },
    "papermill": {
     "duration": 0.010498,
     "end_time": "2024-10-18T08:58:49.893780",
     "exception": false,
     "start_time": "2024-10-18T08:58:49.883282",
     "status": "completed"
    },
    "slideshow": {
     "slide_type": ""
    },
    "tags": [
     "parameters"
    ]
   },
   "outputs": [],
   "source": [
    "kdprov='32'"
   ]
  },
  {
   "cell_type": "code",
   "execution_count": 5,
   "id": "2a541243",
   "metadata": {
    "execution": {
     "iopub.execute_input": "2024-10-18T08:58:49.901883Z",
     "iopub.status.busy": "2024-10-18T08:58:49.901280Z",
     "iopub.status.idle": "2024-10-18T08:58:49.904985Z",
     "shell.execute_reply": "2024-10-18T08:58:49.904188Z"
    },
    "papermill": {
     "duration": 0.009567,
     "end_time": "2024-10-18T08:58:49.906593",
     "exception": false,
     "start_time": "2024-10-18T08:58:49.897026",
     "status": "completed"
    },
    "tags": [
     "injected-parameters"
    ]
   },
   "outputs": [],
   "source": [
    "# Parameters\n",
    "kdprov = 18\n"
   ]
  },
  {
   "cell_type": "code",
   "execution_count": 6,
   "id": "7e0bd5e8-90ad-4dac-938b-2892a96e6ea4",
   "metadata": {
    "editable": true,
    "execution": {
     "iopub.execute_input": "2024-10-18T08:58:49.917416Z",
     "iopub.status.busy": "2024-10-18T08:58:49.916779Z",
     "iopub.status.idle": "2024-10-18T08:58:50.245094Z",
     "shell.execute_reply": "2024-10-18T08:58:50.244178Z"
    },
    "papermill": {
     "duration": 0.337028,
     "end_time": "2024-10-18T08:58:50.246805",
     "exception": false,
     "start_time": "2024-10-18T08:58:49.909777",
     "status": "completed"
    },
    "slideshow": {
     "slide_type": ""
    },
    "tags": []
   },
   "outputs": [
    {
     "name": "stdout",
     "output_type": "stream",
     "text": [
      "(418264, 44)\n"
     ]
    },
    {
     "data": {
      "text/html": [
       "<div>\n",
       "<style scoped>\n",
       "    .dataframe tbody tr th:only-of-type {\n",
       "        vertical-align: middle;\n",
       "    }\n",
       "\n",
       "    .dataframe tbody tr th {\n",
       "        vertical-align: top;\n",
       "    }\n",
       "\n",
       "    .dataframe thead th {\n",
       "        text-align: right;\n",
       "    }\n",
       "</style>\n",
       "<table border=\"1\" class=\"dataframe\">\n",
       "  <thead>\n",
       "    <tr style=\"text-align: right;\">\n",
       "      <th></th>\n",
       "      <th>idpoint</th>\n",
       "      <th>idsubsegment</th>\n",
       "      <th>idsegment</th>\n",
       "      <th>nth</th>\n",
       "      <th>periode</th>\n",
       "      <th>observation</th>\n",
       "      <th>class</th>\n",
       "      <th>MGRS</th>\n",
       "      <th>VH_30</th>\n",
       "      <th>VH_29</th>\n",
       "      <th>...</th>\n",
       "      <th>VH_4</th>\n",
       "      <th>VH_3</th>\n",
       "      <th>VH_2</th>\n",
       "      <th>VH_1</th>\n",
       "      <th>VH_0</th>\n",
       "      <th>idkabkota</th>\n",
       "      <th>cluster_data</th>\n",
       "      <th>Sigma0VH_variance</th>\n",
       "      <th>winner</th>\n",
       "      <th>prior</th>\n",
       "    </tr>\n",
       "  </thead>\n",
       "  <tbody>\n",
       "    <tr>\n",
       "      <th>0</th>\n",
       "      <td>180803002A1#17</td>\n",
       "      <td>180803002A1</td>\n",
       "      <td>180803002</td>\n",
       "      <td>1</td>\n",
       "      <td>2022_03</td>\n",
       "      <td>6</td>\n",
       "      <td>NP</td>\n",
       "      <td>48MWA</td>\n",
       "      <td>0.0</td>\n",
       "      <td>0.0</td>\n",
       "      <td>...</td>\n",
       "      <td>0.0</td>\n",
       "      <td>0.0</td>\n",
       "      <td>0.0</td>\n",
       "      <td>0.0</td>\n",
       "      <td>0.0</td>\n",
       "      <td>1808</td>\n",
       "      <td>2</td>\n",
       "      <td>0.0</td>\n",
       "      <td>R0C0</td>\n",
       "      <td>0.452188</td>\n",
       "    </tr>\n",
       "    <tr>\n",
       "      <th>1</th>\n",
       "      <td>180803002A2#12</td>\n",
       "      <td>180803002A2</td>\n",
       "      <td>180803002</td>\n",
       "      <td>1</td>\n",
       "      <td>2022_03</td>\n",
       "      <td>6</td>\n",
       "      <td>NP</td>\n",
       "      <td>48MWA</td>\n",
       "      <td>0.0</td>\n",
       "      <td>0.0</td>\n",
       "      <td>...</td>\n",
       "      <td>0.0</td>\n",
       "      <td>0.0</td>\n",
       "      <td>0.0</td>\n",
       "      <td>0.0</td>\n",
       "      <td>0.0</td>\n",
       "      <td>1808</td>\n",
       "      <td>2</td>\n",
       "      <td>0.0</td>\n",
       "      <td>R0C0</td>\n",
       "      <td>0.452188</td>\n",
       "    </tr>\n",
       "    <tr>\n",
       "      <th>2</th>\n",
       "      <td>180803002B2#04</td>\n",
       "      <td>180803002B2</td>\n",
       "      <td>180803002</td>\n",
       "      <td>1</td>\n",
       "      <td>2022_03</td>\n",
       "      <td>6</td>\n",
       "      <td>NP</td>\n",
       "      <td>48MWA</td>\n",
       "      <td>0.0</td>\n",
       "      <td>0.0</td>\n",
       "      <td>...</td>\n",
       "      <td>0.0</td>\n",
       "      <td>0.0</td>\n",
       "      <td>0.0</td>\n",
       "      <td>0.0</td>\n",
       "      <td>0.0</td>\n",
       "      <td>1808</td>\n",
       "      <td>2</td>\n",
       "      <td>0.0</td>\n",
       "      <td>R0C0</td>\n",
       "      <td>0.452188</td>\n",
       "    </tr>\n",
       "    <tr>\n",
       "      <th>3</th>\n",
       "      <td>180803002C2#06</td>\n",
       "      <td>180803002C2</td>\n",
       "      <td>180803002</td>\n",
       "      <td>1</td>\n",
       "      <td>2022_03</td>\n",
       "      <td>6</td>\n",
       "      <td>NP</td>\n",
       "      <td>48MWA</td>\n",
       "      <td>0.0</td>\n",
       "      <td>0.0</td>\n",
       "      <td>...</td>\n",
       "      <td>0.0</td>\n",
       "      <td>0.0</td>\n",
       "      <td>0.0</td>\n",
       "      <td>0.0</td>\n",
       "      <td>0.0</td>\n",
       "      <td>1808</td>\n",
       "      <td>2</td>\n",
       "      <td>0.0</td>\n",
       "      <td>R0C0</td>\n",
       "      <td>0.452188</td>\n",
       "    </tr>\n",
       "    <tr>\n",
       "      <th>4</th>\n",
       "      <td>180803002C2#15</td>\n",
       "      <td>180803002C2</td>\n",
       "      <td>180803002</td>\n",
       "      <td>1</td>\n",
       "      <td>2022_03</td>\n",
       "      <td>6</td>\n",
       "      <td>NP</td>\n",
       "      <td>48MWA</td>\n",
       "      <td>0.0</td>\n",
       "      <td>0.0</td>\n",
       "      <td>...</td>\n",
       "      <td>0.0</td>\n",
       "      <td>0.0</td>\n",
       "      <td>0.0</td>\n",
       "      <td>0.0</td>\n",
       "      <td>0.0</td>\n",
       "      <td>1808</td>\n",
       "      <td>2</td>\n",
       "      <td>0.0</td>\n",
       "      <td>R0C0</td>\n",
       "      <td>0.452188</td>\n",
       "    </tr>\n",
       "  </tbody>\n",
       "</table>\n",
       "<p>5 rows × 44 columns</p>\n",
       "</div>"
      ],
      "text/plain": [
       "          idpoint idsubsegment  idsegment  nth  periode  observation class  \\\n",
       "0  180803002A1#17  180803002A1  180803002    1  2022_03            6    NP   \n",
       "1  180803002A2#12  180803002A2  180803002    1  2022_03            6    NP   \n",
       "2  180803002B2#04  180803002B2  180803002    1  2022_03            6    NP   \n",
       "3  180803002C2#06  180803002C2  180803002    1  2022_03            6    NP   \n",
       "4  180803002C2#15  180803002C2  180803002    1  2022_03            6    NP   \n",
       "\n",
       "    MGRS  VH_30  VH_29  ...  VH_4  VH_3  VH_2  VH_1  VH_0  idkabkota  \\\n",
       "0  48MWA    0.0    0.0  ...   0.0   0.0   0.0   0.0   0.0       1808   \n",
       "1  48MWA    0.0    0.0  ...   0.0   0.0   0.0   0.0   0.0       1808   \n",
       "2  48MWA    0.0    0.0  ...   0.0   0.0   0.0   0.0   0.0       1808   \n",
       "3  48MWA    0.0    0.0  ...   0.0   0.0   0.0   0.0   0.0       1808   \n",
       "4  48MWA    0.0    0.0  ...   0.0   0.0   0.0   0.0   0.0       1808   \n",
       "\n",
       "   cluster_data  Sigma0VH_variance  winner     prior  \n",
       "0             2                0.0    R0C0  0.452188  \n",
       "1             2                0.0    R0C0  0.452188  \n",
       "2             2                0.0    R0C0  0.452188  \n",
       "3             2                0.0    R0C0  0.452188  \n",
       "4             2                0.0    R0C0  0.452188  \n",
       "\n",
       "[5 rows x 44 columns]"
      ]
     },
     "execution_count": 6,
     "metadata": {},
     "output_type": "execute_result"
    }
   ],
   "source": [
    "## Read VH dataset\n",
    "with open(f'/data/ksa/04_Data_Preprocessing/training-test/{kdprov}/training_VH_v2.pkl','rb') as file:\n",
    "    df=pickle.load(file)\n",
    "    if isinstance(df, pl.DataFrame):\n",
    "        df=df.to_pandas()\n",
    "print(df.shape)\n",
    "df.head()"
   ]
  },
  {
   "cell_type": "code",
   "execution_count": 7,
   "id": "ba9b5bc3-277c-4dc7-8e2b-40debb17c2cf",
   "metadata": {
    "execution": {
     "iopub.execute_input": "2024-10-18T08:58:50.256692Z",
     "iopub.status.busy": "2024-10-18T08:58:50.255829Z",
     "iopub.status.idle": "2024-10-18T08:58:51.682844Z",
     "shell.execute_reply": "2024-10-18T08:58:51.681916Z"
    },
    "papermill": {
     "duration": 1.433964,
     "end_time": "2024-10-18T08:58:51.684876",
     "exception": false,
     "start_time": "2024-10-18T08:58:50.250912",
     "status": "completed"
    },
    "tags": []
   },
   "outputs": [
    {
     "data": {
      "image/png": "[encoded data removed]",
      "text/plain": [
       "<Figure size 640x480 with 1 Axes>"
      ]
     },
     "metadata": {},
     "output_type": "display_data"
    }
   ],
   "source": [
    "sns.countplot(x='observation', hue='cluster_data', data=df,palette=sns.color_palette(\"Set2\"))\n",
    "plt.savefig(f\"/data/ksa/05_Modelling/picture/{kdprov}_distirbution_plot.png\", dpi=300, bbox_inches='tight')\n"
   ]
  },
  {
   "cell_type": "markdown",
   "id": "da80a265-9a12-4d2c-8b96-17ad999f2b53",
   "metadata": {
    "papermill": {
     "duration": 0.003909,
     "end_time": "2024-10-18T08:58:51.693719",
     "exception": false,
     "start_time": "2024-10-18T08:58:51.689810",
     "status": "completed"
    },
    "tags": []
   },
   "source": [
    "### Running Data"
   ]
  },
  {
   "cell_type": "code",
   "execution_count": 8,
   "id": "94f2a9fa-36a6-47a7-ab48-85cdb1f2f569",
   "metadata": {
    "execution": {
     "iopub.execute_input": "2024-10-18T08:58:51.703992Z",
     "iopub.status.busy": "2024-10-18T08:58:51.702936Z",
     "iopub.status.idle": "2024-10-18T08:58:51.714370Z",
     "shell.execute_reply": "2024-10-18T08:58:51.713334Z"
    },
    "papermill": {
     "duration": 0.018537,
     "end_time": "2024-10-18T08:58:51.716092",
     "exception": false,
     "start_time": "2024-10-18T08:58:51.697555",
     "status": "completed"
    },
    "tags": []
   },
   "outputs": [],
   "source": [
    "import optuna\n",
    "from xgboost import XGBClassifier\n",
    "\n",
    "# Example dataset\n",
    "\n",
    "# Define the objective function for Bayesian Optimization\n",
    "def objective(trial,X_train, y_train, n_splits=3):\n",
    "    \n",
    "    param = {\n",
    "        'max_depth': trial.suggest_int('max_depth', 6, 10),\n",
    "        'learning_rate': trial.suggest_uniform('learning_rate', 0.01, 0.1),\n",
    "        #'subsample': trial.suggest_uniform('subsample', 0.5, 0.7),\n",
    "        #'colsample_bytree': trial.suggest_uniform('colsample_bytree', 0.5, 0.7),\n",
    "        #'colsample_bylevel': trial.suggest_uniform('colsample_bylevel', 0.5, 0.7),\n",
    "        'reg_lambda': trial.suggest_uniform('reg_lambda', 0.1, 5),\n",
    "        'min_child_weight': trial.suggest_int('min_child_weight', 50, 100),\n",
    "        'objective': 'multi:softprob',  # Multiclass classification\n",
    "        'eval_metric': ['mlogloss'],\n",
    "        \"tree_method\":'hist',\n",
    "        \"num_class\": len(set(y_train)),\n",
    "        \"nthread\":20\n",
    "    }\n",
    "    \n",
    "    # Define the model\n",
    "    skf = StratifiedKFold(n_splits=n_splits,shuffle=True, random_state=42)\n",
    "    f1_macros=[]\n",
    "    for train_index, val_index in skf.split(X_train, y_train):\n",
    "        X_train_fold, X_val_fold = X_train.iloc[train_index], X_train.iloc[val_index]\n",
    "        y_train_fold, y_val_fold = y_train[train_index], y_train[val_index]\n",
    "\n",
    "        class_counts = Counter(y_train_fold)\n",
    "        total_samples = len(y_train_fold)\n",
    "        # Step 3: Calculate class weights as inverse of class frequency\n",
    "        class_weights = {cls: total_samples / count for cls, count in class_counts.items()}\n",
    "        sample_weights = np.array([class_weights[label] for label in y_train_fold])\n",
    "        # Create DMatrix with sample weights\n",
    "        dtrain_fold = xgb.DMatrix(X_train_fold, label=y_train_fold, enable_categorical=True, weight=sample_weights)\n",
    "        dval_fold = xgb.DMatrix(X_val_fold, label=y_val_fold, enable_categorical=True)\n",
    "        \n",
    "        evals = [(dtrain_fold, 'train'), (dval_fold, 'eval')]\n",
    "        model = xgb.train(param, dtrain_fold, \n",
    "                          num_boost_round=1000, evals=evals,early_stopping_rounds=50,\n",
    "                          verbose_eval=False)\n",
    "        y_val_pred_prob = model.predict(dval_fold)\n",
    "        y_val_pred = y_val_pred_prob.argmax(axis=1)\n",
    "        f1_macros.append(f1_score(y_val_fold, y_val_pred, average='macro'))\n",
    "    score=np.mean(f1_macros)\n",
    "    \n",
    "    return score"
   ]
  },
  {
   "cell_type": "code",
   "execution_count": 9,
   "id": "d60642b2-2944-4f3d-b337-3250ba03a3cd",
   "metadata": {
    "execution": {
     "iopub.execute_input": "2024-10-18T08:58:51.726423Z",
     "iopub.status.busy": "2024-10-18T08:58:51.726050Z",
     "iopub.status.idle": "2024-10-18T08:58:51.747000Z",
     "shell.execute_reply": "2024-10-18T08:58:51.746102Z"
    },
    "papermill": {
     "duration": 0.028815,
     "end_time": "2024-10-18T08:58:51.748925",
     "exception": false,
     "start_time": "2024-10-18T08:58:51.720110",
     "status": "completed"
    },
    "tags": []
   },
   "outputs": [],
   "source": [
    "def evaluate_model(X_train, y_train, X_test, y_test,cluster, best_params, n_splits=3):\n",
    "    # Convert data to DMatrix for XGBoost\n",
    "    class_counts = Counter(y_train)\n",
    "    total_samples = len(y_train)\n",
    "        # Step 3: Calculate class weights as inverse of class frequency\n",
    "    class_weights = {cls: total_samples / count for cls, count in class_counts.items()}\n",
    "    sample_weights = np.array([class_weights[label] for label in y_train])\n",
    "        # Create DMatrix with sample weights\n",
    "        \n",
    "    dtrain = xgb.DMatrix(X_train, label=y_train, enable_categorical=True,weight=sample_weights)\n",
    "    dtest = xgb.DMatrix(X_test, label=y_test, enable_categorical=True)\n",
    "    \n",
    "    params = best_params\n",
    "    params['objective']=\"multi:softprob\"\n",
    "    #params['tree_method']='approx'\n",
    "    params['eval_metric']='mlogloss'\n",
    "    params['num_class']=len(set(y_train))\n",
    "    params['nthread']=20\n",
    "    # Stratified K-Fold Cross Validation\n",
    "    skf = StratifiedKFold(n_splits=n_splits, shuffle=True, random_state=42)\n",
    "    \n",
    "    accuracies = []\n",
    "    f1_macros = []\n",
    "    f1_micros = []\n",
    "    aucs = []\n",
    "    acc_kelas_generatifs = []\n",
    "    acc_fase_padis = []\n",
    "\n",
    "    for train_index, val_index in skf.split(X_train, y_train):\n",
    "        X_train_fold, X_val_fold = X_train.iloc[train_index], X_train.iloc[val_index]\n",
    "        y_train_fold, y_val_fold = y_train[train_index], y_train[val_index]\n",
    "\n",
    "        class_counts = Counter(y_train_fold)\n",
    "        total_samples = len(y_train_fold)\n",
    "        # Step 3: Calculate class weights as inverse of class frequency\n",
    "        class_weights = {cls: total_samples / count for cls, count in class_counts.items()}\n",
    "        sample_weights = np.array([class_weights[label] for label in y_train_fold])\n",
    "        # Create DMatrix with sample weights\n",
    "        dtrain_fold = xgb.DMatrix(X_train_fold, label=y_train_fold, enable_categorical=True, weight=sample_weights)\n",
    "        dval_fold = xgb.DMatrix(X_val_fold, label=y_val_fold, enable_categorical=True)\n",
    "        \n",
    "        evals = [(dtrain_fold, 'train'), (dval_fold, 'eval')]\n",
    "        model = xgb.train(params, dtrain_fold, \n",
    "                          num_boost_round=10000, evals=evals,early_stopping_rounds=1000,verbose_eval=100)\n",
    "        \n",
    "        y_val_pred_prob = model.predict(dval_fold)\n",
    "        y_val_pred = y_val_pred_prob.argmax(axis=1)\n",
    "        \n",
    "        accuracies.append(accuracy_score(y_val_fold, y_val_pred))\n",
    "        f1_macros.append(f1_score(y_val_fold, y_val_pred, average='macro'))\n",
    "        f1_micros.append(f1_score(y_val_fold, y_val_pred, average='micro'))\n",
    "        aucs.append(roc_auc_score(y_val_fold, y_val_pred_prob, multi_class='ovr'))\n",
    "        acc_kelas_generatifs.append(akurasi_kelas_generatif(y_val_fold, y_val_pred))\n",
    "        acc_fase_padis.append(akurasi_fase_padi(y_val_fold, y_val_pred))\n",
    "\n",
    "    # Calculate average metrics\n",
    "    avg_accuracy = sum(accuracies) / len(accuracies)\n",
    "    avg_f1_macro = sum(f1_macros) / len(f1_macros)\n",
    "    avg_f1_micro = sum(f1_micros) / len(f1_micros)\n",
    "    avg_auc = sum(aucs) / len(aucs)\n",
    "    avg_acc_kelas_generatif = sum(acc_kelas_generatifs) / len(acc_kelas_generatifs)\n",
    "    avg_acc_fase_padi = sum(acc_fase_padis) / len(acc_fase_padis)\n",
    "    training_metrics = {\n",
    "        \"average_accuracy\": avg_accuracy,\n",
    "        \"average_f1_macro\": avg_f1_macro,\n",
    "        \"average_f1_micro\": avg_f1_micro,\n",
    "        \"average_auc\": avg_auc,\n",
    "        \"average_acc_kelas_generatif\": avg_acc_kelas_generatif,\n",
    "        \"average_acc_fase_padi\": avg_acc_fase_padi\n",
    "    }\n",
    "\n",
    "    \n",
    "    # Final model evaluation on the test set\n",
    "    evals = [(dtrain, 'train'), (dtest, 'eval')]\n",
    "    model = xgb.train(params, dtrain, \n",
    "                      num_boost_round=1000, evals=evals,early_stopping_rounds=50,\n",
    "                      verbose_eval=50)\n",
    "    y_test_pred_prob = model.predict(dtest)\n",
    "    y_test_pred = y_test_pred_prob.argmax(axis=1)\n",
    "\n",
    "    accuracy = accuracy_score(y_test, y_test_pred)\n",
    "    f1_macro = f1_score(y_test, y_test_pred, average='macro')\n",
    "    f1_micro = f1_score(y_test, y_test_pred, average='micro')\n",
    "    auc = roc_auc_score(y_test, y_test_pred_prob, multi_class='ovr')\n",
    "    acc_kelas_generatif = akurasi_kelas_generatif(y_test, y_test_pred)\n",
    "    acc_fase_padi = akurasi_fase_padi(y_test, y_test_pred)\n",
    "    \n",
    "    cm = confusion_matrix(y_test, y_test_pred)\n",
    "    relative_acc = 100 * (sum(cm[1, 1:3]) + sum(cm[1, 5:6]) + \n",
    "                          sum(cm[2, 1:4]) + \n",
    "                          sum(cm[3, 2:5]) + \n",
    "                          sum(cm[4, 3:6]) + \n",
    "                          sum(cm[5, 4:6])+sum(cm[5,1:2])) / sum(sum(cm[1:6, 1:6]))\n",
    "    validation_metrics = {\n",
    "        \"val_accuracy\": accuracy,\n",
    "        \"val_f1_macro\": f1_macro,\n",
    "        \"val_f1_micro\": f1_micro,\n",
    "        \"val_auc\": auc,\n",
    "        \"val_acc_kelas_generatif\": acc_kelas_generatif,\n",
    "        \"val_acc_fase_padi\": acc_fase_padi,\n",
    "        \"val_relative_acc\": relative_acc\n",
    "    }\n",
    "\n",
    "    print(\"\\nClassification Report on Test Set:\")\n",
    "    report = classification_report(y_test, y_test_pred)\n",
    "    print(report)\n",
    "    \n",
    "    # Display Confusion Matrix\n",
    "    cm_percentage = cm.astype('float') / cm.sum(axis=1)[:, np.newaxis] * 100\n",
    "\n",
    "    disp = ConfusionMatrixDisplay(confusion_matrix=cm_percentage)\n",
    "    disp.plot(cmap=plt.cm.Blues)\n",
    "    plt.savefig(f\"/data/ksa/05_Modelling/picture/{kdprov}_cm_cluster_{cluster}.png\", dpi=300, bbox_inches='tight')\n",
    "    plt.show()\n",
    "    \n",
    "    return model, training_metrics, validation_metrics, report, cm"
   ]
  },
  {
   "cell_type": "code",
   "execution_count": 10,
   "id": "f4462c6e-e78a-4409-8951-07e164e2986c",
   "metadata": {
    "editable": true,
    "execution": {
     "iopub.execute_input": "2024-10-18T08:58:51.758988Z",
     "iopub.status.busy": "2024-10-18T08:58:51.758521Z",
     "iopub.status.idle": "2024-10-18T10:16:41.591638Z",
     "shell.execute_reply": "2024-10-18T10:16:41.590782Z"
    },
    "papermill": {
     "duration": 4669.840414,
     "end_time": "2024-10-18T10:16:41.593534",
     "exception": false,
     "start_time": "2024-10-18T08:58:51.753120",
     "status": "completed"
    },
    "slideshow": {
     "slide_type": ""
    },
    "tags": []
   },
   "outputs": [
    {
     "name": "stdout",
     "output_type": "stream",
     "text": [
      "=============================================================================\n",
      "CLUSTER:  0\n"
     ]
    },
    {
     "name": "stderr",
     "output_type": "stream",
     "text": [
      "[I 2024-10-18 15:58:52,482] A new study created in memory with name: no-name-3e498982-7402-4160-a479-1b8cd73d2f7b\n"
     ]
    },
    {
     "name": "stdout",
     "output_type": "stream",
     "text": [
      "[4 0 6 3 2 5 1]\n",
      "[0 1 2 3 4 5 6]\n",
      "Mapping of original to encoded classes: {0: 0, 1: 1, 2: 2, 3: 3, 4: 4, 5: 5, 6: 6}\n",
      "Build Best Parameter using Optuna-Hyperparameter Tuning\n"
     ]
    },
    {
     "name": "stderr",
     "output_type": "stream",
     "text": [
      "[I 2024-10-18 15:59:20,310] Trial 0 finished with value: 0.8274607851838107 and parameters: {'max_depth': 7, 'learning_rate': 0.06296957380012548, 'reg_lambda': 4.98008810132309, 'min_child_weight': 76}. Best is trial 0 with value: 0.8274607851838107.\n"
     ]
    },
    {
     "name": "stderr",
     "output_type": "stream",
     "text": [
      "[I 2024-10-18 15:59:49,796] Trial 1 finished with value: 0.8286764491831479 and parameters: {'max_depth': 7, 'learning_rate': 0.0608182575073838, 'reg_lambda': 4.9724026651397155, 'min_child_weight': 93}. Best is trial 1 with value: 0.8286764491831479.\n"
     ]
    },
    {
     "name": "stderr",
     "output_type": "stream",
     "text": [
      "[I 2024-10-18 16:00:09,061] Trial 2 finished with value: 0.8275802041914977 and parameters: {'max_depth': 6, 'learning_rate': 0.08652645731475779, 'reg_lambda': 4.604511038312738, 'min_child_weight': 93}. Best is trial 1 with value: 0.8286764491831479.\n"
     ]
    },
    {
     "name": "stderr",
     "output_type": "stream",
     "text": [
      "[I 2024-10-18 16:00:52,840] Trial 3 finished with value: 0.8284173960953077 and parameters: {'max_depth': 7, 'learning_rate': 0.03566531463296035, 'reg_lambda': 1.2938445998018, 'min_child_weight': 93}. Best is trial 1 with value: 0.8286764491831479.\n"
     ]
    },
    {
     "name": "stderr",
     "output_type": "stream",
     "text": [
      "[I 2024-10-18 16:02:05,041] Trial 4 finished with value: 0.8285018017889004 and parameters: {'max_depth': 8, 'learning_rate': 0.022550223369043786, 'reg_lambda': 4.0279294798757475, 'min_child_weight': 66}. Best is trial 1 with value: 0.8286764491831479.\n"
     ]
    },
    {
     "name": "stderr",
     "output_type": "stream",
     "text": [
      "[I 2024-10-18 16:03:18,534] Trial 5 finished with value: 0.829162839434712 and parameters: {'max_depth': 8, 'learning_rate': 0.024108697267927956, 'reg_lambda': 3.837895999429546, 'min_child_weight': 67}. Best is trial 5 with value: 0.829162839434712.\n"
     ]
    },
    {
     "name": "stderr",
     "output_type": "stream",
     "text": [
      "[I 2024-10-18 16:04:25,617] Trial 6 finished with value: 0.8285515114252514 and parameters: {'max_depth': 7, 'learning_rate': 0.024544428788725686, 'reg_lambda': 3.785491368136965, 'min_child_weight': 91}. Best is trial 5 with value: 0.829162839434712.\n"
     ]
    },
    {
     "name": "stderr",
     "output_type": "stream",
     "text": [
      "[I 2024-10-18 16:04:45,694] Trial 7 finished with value: 0.8296337969480607 and parameters: {'max_depth': 10, 'learning_rate': 0.09949014182559474, 'reg_lambda': 2.798449167908198, 'min_child_weight': 88}. Best is trial 7 with value: 0.8296337969480607.\n"
     ]
    },
    {
     "name": "stderr",
     "output_type": "stream",
     "text": [
      "[I 2024-10-18 16:05:06,416] Trial 8 finished with value: 0.8282097132385638 and parameters: {'max_depth': 8, 'learning_rate': 0.07561636655968197, 'reg_lambda': 1.7154297218606953, 'min_child_weight': 52}. Best is trial 7 with value: 0.8296337969480607.\n"
     ]
    },
    {
     "name": "stderr",
     "output_type": "stream",
     "text": [
      "[I 2024-10-18 16:05:26,217] Trial 9 finished with value: 0.8294828795879773 and parameters: {'max_depth': 7, 'learning_rate': 0.06602154313695381, 'reg_lambda': 4.219402337168372, 'min_child_weight': 87}. Best is trial 7 with value: 0.8296337969480607.\n"
     ]
    },
    {
     "name": "stderr",
     "output_type": "stream",
     "text": [
      "[I 2024-10-18 16:05:43,709] Trial 10 finished with value: 0.8302539015830916 and parameters: {'max_depth': 10, 'learning_rate': 0.09904691634651121, 'reg_lambda': 0.13360076634980222, 'min_child_weight': 81}. Best is trial 10 with value: 0.8302539015830916.\n"
     ]
    },
    {
     "name": "stderr",
     "output_type": "stream",
     "text": [
      "[I 2024-10-18 16:06:05,647] Trial 11 finished with value: 0.8286563970585242 and parameters: {'max_depth': 10, 'learning_rate': 0.09966838308658932, 'reg_lambda': 0.30110177001323857, 'min_child_weight': 79}. Best is trial 10 with value: 0.8302539015830916.\n"
     ]
    },
    {
     "name": "stderr",
     "output_type": "stream",
     "text": [
      "[I 2024-10-18 16:06:27,217] Trial 12 finished with value: 0.8317762643602017 and parameters: {'max_depth': 10, 'learning_rate': 0.09299325372390269, 'reg_lambda': 2.7805120367372633, 'min_child_weight': 83}. Best is trial 12 with value: 0.8317762643602017.\n"
     ]
    },
    {
     "name": "stderr",
     "output_type": "stream",
     "text": [
      "[I 2024-10-18 16:06:50,510] Trial 13 finished with value: 0.8297010708078251 and parameters: {'max_depth': 9, 'learning_rate': 0.08460761837298565, 'reg_lambda': 2.711037527044465, 'min_child_weight': 81}. Best is trial 12 with value: 0.8317762643602017.\n"
     ]
    },
    {
     "name": "stderr",
     "output_type": "stream",
     "text": [
      "[I 2024-10-18 16:07:32,644] Trial 14 finished with value: 0.8298009733812509 and parameters: {'max_depth': 10, 'learning_rate': 0.0479849040268059, 'reg_lambda': 1.8070508255728543, 'min_child_weight': 67}. Best is trial 12 with value: 0.8317762643602017.\n"
     ]
    },
    {
     "name": "stderr",
     "output_type": "stream",
     "text": [
      "[I 2024-10-18 16:07:54,960] Trial 15 finished with value: 0.8298183366221524 and parameters: {'max_depth': 9, 'learning_rate': 0.08835184415933489, 'reg_lambda': 0.1671502422861817, 'min_child_weight': 100}. Best is trial 12 with value: 0.8317762643602017.\n"
     ]
    },
    {
     "name": "stderr",
     "output_type": "stream",
     "text": [
      "[I 2024-10-18 16:08:18,451] Trial 16 finished with value: 0.829906738364623 and parameters: {'max_depth': 9, 'learning_rate': 0.07699938565004014, 'reg_lambda': 3.2488855646598953, 'min_child_weight': 83}. Best is trial 12 with value: 0.8317762643602017.\n"
     ]
    },
    {
     "name": "stderr",
     "output_type": "stream",
     "text": [
      "[I 2024-10-18 16:08:59,168] Trial 17 finished with value: 0.8295165117143074 and parameters: {'max_depth': 10, 'learning_rate': 0.04450756057639375, 'reg_lambda': 1.1660518442947518, 'min_child_weight': 72}. Best is trial 12 with value: 0.8317762643602017.\n"
     ]
    },
    {
     "name": "stderr",
     "output_type": "stream",
     "text": [
      "[I 2024-10-18 16:09:18,822] Trial 18 finished with value: 0.8302958724535774 and parameters: {'max_depth': 9, 'learning_rate': 0.09280454800454346, 'reg_lambda': 2.1814955655938997, 'min_child_weight': 57}. Best is trial 12 with value: 0.8317762643602017.\n"
     ]
    },
    {
     "name": "stderr",
     "output_type": "stream",
     "text": [
      "[I 2024-10-18 16:09:42,278] Trial 19 finished with value: 0.8312076385799895 and parameters: {'max_depth': 9, 'learning_rate': 0.07785039382616973, 'reg_lambda': 3.2361344148947597, 'min_child_weight': 52}. Best is trial 12 with value: 0.8317762643602017.\n"
     ]
    },
    {
     "name": "stdout",
     "output_type": "stream",
     "text": [
      "Best Parameters: {'max_depth': 10, 'learning_rate': 0.09299325372390269, 'reg_lambda': 2.7805120367372633, 'min_child_weight': 83}\n",
      "Best Score: 0.8317762643602017\n",
      "Start the modelling\n"
     ]
    },
    {
     "name": "stdout",
     "output_type": "stream",
     "text": [
      "[0]\ttrain-mlogloss:1.75777\teval-mlogloss:1.76540\n"
     ]
    },
    {
     "name": "stdout",
     "output_type": "stream",
     "text": [
      "[100]\ttrain-mlogloss:0.17315\teval-mlogloss:0.48537\n"
     ]
    },
    {
     "name": "stdout",
     "output_type": "stream",
     "text": [
      "[200]\ttrain-mlogloss:0.09564\teval-mlogloss:0.48053\n"
     ]
    },
    {
     "name": "stdout",
     "output_type": "stream",
     "text": [
      "[300]\ttrain-mlogloss:0.06303\teval-mlogloss:0.48925\n"
     ]
    },
    {
     "name": "stdout",
     "output_type": "stream",
     "text": [
      "[400]\ttrain-mlogloss:0.04629\teval-mlogloss:0.49929\n"
     ]
    },
    {
     "name": "stdout",
     "output_type": "stream",
     "text": [
      "[500]\ttrain-mlogloss:0.03668\teval-mlogloss:0.51005\n"
     ]
    },
    {
     "name": "stdout",
     "output_type": "stream",
     "text": [
      "[600]\ttrain-mlogloss:0.03066\teval-mlogloss:0.51954\n"
     ]
    },
    {
     "name": "stdout",
     "output_type": "stream",
     "text": [
      "[700]\ttrain-mlogloss:0.02620\teval-mlogloss:0.52921\n"
     ]
    },
    {
     "name": "stdout",
     "output_type": "stream",
     "text": [
      "[800]\ttrain-mlogloss:0.02312\teval-mlogloss:0.53756\n"
     ]
    },
    {
     "name": "stdout",
     "output_type": "stream",
     "text": [
      "[900]\ttrain-mlogloss:0.02067\teval-mlogloss:0.54491\n"
     ]
    },
    {
     "name": "stdout",
     "output_type": "stream",
     "text": [
      "[1000]\ttrain-mlogloss:0.01878\teval-mlogloss:0.55161\n"
     ]
    },
    {
     "name": "stdout",
     "output_type": "stream",
     "text": [
      "[1100]\ttrain-mlogloss:0.01731\teval-mlogloss:0.55747\n"
     ]
    },
    {
     "name": "stdout",
     "output_type": "stream",
     "text": [
      "[1173]\ttrain-mlogloss:0.01640\teval-mlogloss:0.56166\n"
     ]
    },
    {
     "name": "stdout",
     "output_type": "stream",
     "text": [
      "[0]\ttrain-mlogloss:1.76205\teval-mlogloss:1.76998\n"
     ]
    },
    {
     "name": "stdout",
     "output_type": "stream",
     "text": [
      "[100]\ttrain-mlogloss:0.17275\teval-mlogloss:0.46794\n"
     ]
    },
    {
     "name": "stdout",
     "output_type": "stream",
     "text": [
      "[200]\ttrain-mlogloss:0.09435\teval-mlogloss:0.46457\n"
     ]
    },
    {
     "name": "stdout",
     "output_type": "stream",
     "text": [
      "[300]\ttrain-mlogloss:0.06286\teval-mlogloss:0.47166\n"
     ]
    },
    {
     "name": "stdout",
     "output_type": "stream",
     "text": [
      "[400]\ttrain-mlogloss:0.04633\teval-mlogloss:0.48213\n"
     ]
    },
    {
     "name": "stdout",
     "output_type": "stream",
     "text": [
      "[500]\ttrain-mlogloss:0.03682\teval-mlogloss:0.49238\n"
     ]
    },
    {
     "name": "stdout",
     "output_type": "stream",
     "text": [
      "[600]\ttrain-mlogloss:0.03054\teval-mlogloss:0.50159\n"
     ]
    },
    {
     "name": "stdout",
     "output_type": "stream",
     "text": [
      "[700]\ttrain-mlogloss:0.02635\teval-mlogloss:0.50893\n"
     ]
    },
    {
     "name": "stdout",
     "output_type": "stream",
     "text": [
      "[800]\ttrain-mlogloss:0.02318\teval-mlogloss:0.51605\n"
     ]
    },
    {
     "name": "stdout",
     "output_type": "stream",
     "text": [
      "[900]\ttrain-mlogloss:0.02085\teval-mlogloss:0.52262\n"
     ]
    },
    {
     "name": "stdout",
     "output_type": "stream",
     "text": [
      "[1000]\ttrain-mlogloss:0.01899\teval-mlogloss:0.52877\n"
     ]
    },
    {
     "name": "stdout",
     "output_type": "stream",
     "text": [
      "[1100]\ttrain-mlogloss:0.01750\teval-mlogloss:0.53431\n"
     ]
    },
    {
     "name": "stdout",
     "output_type": "stream",
     "text": [
      "[1153]\ttrain-mlogloss:0.01683\teval-mlogloss:0.53690\n"
     ]
    },
    {
     "name": "stdout",
     "output_type": "stream",
     "text": [
      "[0]\ttrain-mlogloss:1.75909\teval-mlogloss:1.76618\n"
     ]
    },
    {
     "name": "stdout",
     "output_type": "stream",
     "text": [
      "[100]\ttrain-mlogloss:0.17659\teval-mlogloss:0.47242\n"
     ]
    },
    {
     "name": "stdout",
     "output_type": "stream",
     "text": [
      "[200]\ttrain-mlogloss:0.09469\teval-mlogloss:0.46832\n"
     ]
    },
    {
     "name": "stdout",
     "output_type": "stream",
     "text": [
      "[300]\ttrain-mlogloss:0.06273\teval-mlogloss:0.47539\n"
     ]
    },
    {
     "name": "stdout",
     "output_type": "stream",
     "text": [
      "[400]\ttrain-mlogloss:0.04590\teval-mlogloss:0.48504\n"
     ]
    },
    {
     "name": "stdout",
     "output_type": "stream",
     "text": [
      "[500]\ttrain-mlogloss:0.03642\teval-mlogloss:0.49663\n"
     ]
    },
    {
     "name": "stdout",
     "output_type": "stream",
     "text": [
      "[600]\ttrain-mlogloss:0.03048\teval-mlogloss:0.50582\n"
     ]
    },
    {
     "name": "stdout",
     "output_type": "stream",
     "text": [
      "[700]\ttrain-mlogloss:0.02618\teval-mlogloss:0.51385\n"
     ]
    },
    {
     "name": "stdout",
     "output_type": "stream",
     "text": [
      "[800]\ttrain-mlogloss:0.02305\teval-mlogloss:0.52078\n"
     ]
    },
    {
     "name": "stdout",
     "output_type": "stream",
     "text": [
      "[900]\ttrain-mlogloss:0.02071\teval-mlogloss:0.52718\n"
     ]
    },
    {
     "name": "stdout",
     "output_type": "stream",
     "text": [
      "[1000]\ttrain-mlogloss:0.01888\teval-mlogloss:0.53324\n"
     ]
    },
    {
     "name": "stdout",
     "output_type": "stream",
     "text": [
      "[1100]\ttrain-mlogloss:0.01738\teval-mlogloss:0.53861\n"
     ]
    },
    {
     "name": "stdout",
     "output_type": "stream",
     "text": [
      "[1156]\ttrain-mlogloss:0.01665\teval-mlogloss:0.54163\n"
     ]
    },
    {
     "name": "stdout",
     "output_type": "stream",
     "text": [
      "[0]\ttrain-mlogloss:1.75514\teval-mlogloss:1.76165\n"
     ]
    },
    {
     "name": "stdout",
     "output_type": "stream",
     "text": [
      "[50]\ttrain-mlogloss:0.30743\teval-mlogloss:0.50370\n"
     ]
    },
    {
     "name": "stdout",
     "output_type": "stream",
     "text": [
      "[100]\ttrain-mlogloss:0.18852\teval-mlogloss:0.45784\n"
     ]
    },
    {
     "name": "stdout",
     "output_type": "stream",
     "text": [
      "[150]\ttrain-mlogloss:0.13722\teval-mlogloss:0.45138\n"
     ]
    },
    {
     "name": "stdout",
     "output_type": "stream",
     "text": [
      "[200]\ttrain-mlogloss:0.10670\teval-mlogloss:0.45148\n"
     ]
    },
    {
     "name": "stdout",
     "output_type": "stream",
     "text": [
      "[227]\ttrain-mlogloss:0.09463\teval-mlogloss:0.45249\n"
     ]
    },
    {
     "name": "stdout",
     "output_type": "stream",
     "text": [
      "\n",
      "Classification Report on Test Set:\n",
      "              precision    recall  f1-score   support\n",
      "\n",
      "           0       0.91      0.94      0.92      6293\n",
      "           1       0.88      0.84      0.86      5279\n",
      "           2       0.73      0.70      0.71      6501\n",
      "           3       0.91      0.94      0.92      7040\n",
      "           4       0.84      0.75      0.79      6177\n",
      "           5       0.72      0.69      0.70      5994\n",
      "           6       0.91      0.99      0.95     10882\n",
      "\n",
      "    accuracy                           0.85     48166\n",
      "   macro avg       0.84      0.83      0.84     48166\n",
      "weighted avg       0.85      0.85      0.85     48166\n",
      "\n"
     ]
    },
    {
     "data": {
      "image/png": "[encoded data removed]",
      "text/plain": [
       "<Figure size 640x480 with 1 Axes>"
      ]
     },
     "metadata": {},
     "output_type": "display_data"
    },
    {
     "data": {
      "image/png": "[encoded data removed]",
      "text/plain": [
       "<Figure size 640x480 with 2 Axes>"
      ]
     },
     "metadata": {},
     "output_type": "display_data"
    },
    {
     "name": "stdout",
     "output_type": "stream",
     "text": [
      "{'average_accuracy': 0.8436198810002602, 'average_f1_macro': 0.8288149575622473, 'average_f1_micro': 0.8436198810002602, 'average_auc': 0.969972191290613, 'average_acc_kelas_generatif': 0.9353665733624785, 'average_acc_fase_padi': 0.8066653227145428}\n",
      "{'val_accuracy': 0.8505377237055184, 'val_f1_macro': 0.8363910532805743, 'val_f1_micro': 0.8505377237055184, 'val_auc': 0.9728654924137465, 'val_acc_kelas_generatif': 0.9372159090909091, 'val_acc_fase_padi': 0.8087770532463896, 'val_relative_acc': 93.18398799781778}\n",
      "=============================================================================\n",
      "=============================================================================\n",
      "CLUSTER:  1\n"
     ]
    },
    {
     "name": "stderr",
     "output_type": "stream",
     "text": [
      "[I 2024-10-18 16:11:13,607] A new study created in memory with name: no-name-98522c2b-8eb8-4b79-a5dd-d9c5d12132f3\n"
     ]
    },
    {
     "name": "stdout",
     "output_type": "stream",
     "text": [
      "[4 3 6 1 2 5 0]\n",
      "[0 1 2 3 4 5 6]\n",
      "Mapping of original to encoded classes: {0: 0, 1: 1, 2: 2, 3: 3, 4: 4, 5: 5, 6: 6}\n",
      "Build Best Parameter using Optuna-Hyperparameter Tuning\n"
     ]
    },
    {
     "name": "stderr",
     "output_type": "stream",
     "text": [
      "[I 2024-10-18 16:11:31,095] Trial 0 finished with value: 0.42078120747782694 and parameters: {'max_depth': 9, 'learning_rate': 0.07091700296512121, 'reg_lambda': 3.7312266527892217, 'min_child_weight': 81}. Best is trial 0 with value: 0.42078120747782694.\n"
     ]
    },
    {
     "name": "stderr",
     "output_type": "stream",
     "text": [
      "[I 2024-10-18 16:11:51,207] Trial 1 finished with value: 0.422800629351266 and parameters: {'max_depth': 10, 'learning_rate': 0.06899485084617167, 'reg_lambda': 3.3093038843099705, 'min_child_weight': 60}. Best is trial 1 with value: 0.422800629351266.\n"
     ]
    },
    {
     "name": "stderr",
     "output_type": "stream",
     "text": [
      "[I 2024-10-18 16:12:13,503] Trial 2 finished with value: 0.4244984133175646 and parameters: {'max_depth': 9, 'learning_rate': 0.05938736452216968, 'reg_lambda': 1.7840528227431653, 'min_child_weight': 60}. Best is trial 2 with value: 0.4244984133175646.\n"
     ]
    },
    {
     "name": "stderr",
     "output_type": "stream",
     "text": [
      "[I 2024-10-18 16:13:21,873] Trial 3 finished with value: 0.41899809267305893 and parameters: {'max_depth': 7, 'learning_rate': 0.013713274147393081, 'reg_lambda': 2.344906582151532, 'min_child_weight': 69}. Best is trial 2 with value: 0.4244984133175646.\n"
     ]
    },
    {
     "name": "stderr",
     "output_type": "stream",
     "text": [
      "[I 2024-10-18 16:14:02,516] Trial 4 finished with value: 0.419553048502661 and parameters: {'max_depth': 8, 'learning_rate': 0.022765937565971853, 'reg_lambda': 0.4239896268032647, 'min_child_weight': 87}. Best is trial 2 with value: 0.4244984133175646.\n"
     ]
    },
    {
     "name": "stderr",
     "output_type": "stream",
     "text": [
      "[I 2024-10-18 16:14:25,843] Trial 5 finished with value: 0.4202784179158166 and parameters: {'max_depth': 8, 'learning_rate': 0.04218124715519516, 'reg_lambda': 2.0383688029645572, 'min_child_weight': 90}. Best is trial 2 with value: 0.4244984133175646.\n"
     ]
    },
    {
     "name": "stderr",
     "output_type": "stream",
     "text": [
      "[I 2024-10-18 16:14:41,498] Trial 6 finished with value: 0.42079850911265754 and parameters: {'max_depth': 9, 'learning_rate': 0.07417830118076155, 'reg_lambda': 3.5138694881790626, 'min_child_weight': 95}. Best is trial 2 with value: 0.4244984133175646.\n"
     ]
    },
    {
     "name": "stderr",
     "output_type": "stream",
     "text": [
      "[I 2024-10-18 16:15:35,218] Trial 7 finished with value: 0.4245669830213325 and parameters: {'max_depth': 8, 'learning_rate': 0.021407381267521414, 'reg_lambda': 3.391288051599701, 'min_child_weight': 58}. Best is trial 7 with value: 0.4245669830213325.\n"
     ]
    },
    {
     "name": "stderr",
     "output_type": "stream",
     "text": [
      "[I 2024-10-18 16:16:51,636] Trial 8 finished with value: 0.4219590637617316 and parameters: {'max_depth': 7, 'learning_rate': 0.014581194079912208, 'reg_lambda': 4.165207998547118, 'min_child_weight': 89}. Best is trial 7 with value: 0.4245669830213325.\n"
     ]
    },
    {
     "name": "stderr",
     "output_type": "stream",
     "text": [
      "[I 2024-10-18 16:17:21,269] Trial 9 finished with value: 0.4194761143009633 and parameters: {'max_depth': 8, 'learning_rate': 0.0368461018216975, 'reg_lambda': 3.6783439071075352, 'min_child_weight': 95}. Best is trial 7 with value: 0.4245669830213325.\n"
     ]
    },
    {
     "name": "stderr",
     "output_type": "stream",
     "text": [
      "[I 2024-10-18 16:17:33,590] Trial 10 finished with value: 0.42088867705948846 and parameters: {'max_depth': 6, 'learning_rate': 0.095272716736994, 'reg_lambda': 4.982759038124339, 'min_child_weight': 51}. Best is trial 7 with value: 0.4245669830213325.\n"
     ]
    },
    {
     "name": "stderr",
     "output_type": "stream",
     "text": [
      "[I 2024-10-18 16:17:52,043] Trial 11 finished with value: 0.4228606182691694 and parameters: {'max_depth': 10, 'learning_rate': 0.052897793551981896, 'reg_lambda': 1.3443737498339194, 'min_child_weight': 66}. Best is trial 7 with value: 0.4245669830213325.\n"
     ]
    },
    {
     "name": "stderr",
     "output_type": "stream",
     "text": [
      "[I 2024-10-18 16:18:23,134] Trial 12 finished with value: 0.4227218384571796 and parameters: {'max_depth': 9, 'learning_rate': 0.036445542165268685, 'reg_lambda': 1.4256032519130075, 'min_child_weight': 50}. Best is trial 7 with value: 0.4245669830213325.\n"
     ]
    },
    {
     "name": "stderr",
     "output_type": "stream",
     "text": [
      "[I 2024-10-18 16:18:46,985] Trial 13 finished with value: 0.4232790016698609 and parameters: {'max_depth': 7, 'learning_rate': 0.05618301925453695, 'reg_lambda': 2.761937682003035, 'min_child_weight': 59}. Best is trial 7 with value: 0.4245669830213325.\n"
     ]
    },
    {
     "name": "stderr",
     "output_type": "stream",
     "text": [
      "[I 2024-10-18 16:19:01,740] Trial 14 finished with value: 0.42241711775961127 and parameters: {'max_depth': 9, 'learning_rate': 0.08874796390183683, 'reg_lambda': 1.5361593141640248, 'min_child_weight': 73}. Best is trial 7 with value: 0.4245669830213325.\n"
     ]
    },
    {
     "name": "stderr",
     "output_type": "stream",
     "text": [
      "[I 2024-10-18 16:19:25,536] Trial 15 finished with value: 0.4234051068938924 and parameters: {'max_depth': 8, 'learning_rate': 0.0555971481781036, 'reg_lambda': 0.5964390112504239, 'min_child_weight': 61}. Best is trial 7 with value: 0.4245669830213325.\n"
     ]
    },
    {
     "name": "stderr",
     "output_type": "stream",
     "text": [
      "[I 2024-10-18 16:20:07,737] Trial 16 finished with value: 0.42290418160267523 and parameters: {'max_depth': 10, 'learning_rate': 0.02749776390281876, 'reg_lambda': 2.9586757540743487, 'min_child_weight': 55}. Best is trial 7 with value: 0.4245669830213325.\n"
     ]
    },
    {
     "name": "stderr",
     "output_type": "stream",
     "text": [
      "[I 2024-10-18 16:20:25,288] Trial 17 finished with value: 0.4211475964780765 and parameters: {'max_depth': 6, 'learning_rate': 0.08319407359658818, 'reg_lambda': 4.425596330740019, 'min_child_weight': 66}. Best is trial 7 with value: 0.4245669830213325.\n"
     ]
    },
    {
     "name": "stderr",
     "output_type": "stream",
     "text": [
      "[I 2024-10-18 16:20:51,834] Trial 18 finished with value: 0.4199457858449754 and parameters: {'max_depth': 9, 'learning_rate': 0.04973975314677985, 'reg_lambda': 2.0377573089416314, 'min_child_weight': 78}. Best is trial 7 with value: 0.4245669830213325.\n"
     ]
    },
    {
     "name": "stderr",
     "output_type": "stream",
     "text": [
      "[I 2024-10-18 16:21:12,613] Trial 19 finished with value: 0.42120427249740633 and parameters: {'max_depth': 7, 'learning_rate': 0.06023341170705017, 'reg_lambda': 0.8194911853975047, 'min_child_weight': 56}. Best is trial 7 with value: 0.4245669830213325.\n"
     ]
    },
    {
     "name": "stdout",
     "output_type": "stream",
     "text": [
      "Best Parameters: {'max_depth': 8, 'learning_rate': 0.021407381267521414, 'reg_lambda': 3.391288051599701, 'min_child_weight': 58}\n",
      "Best Score: 0.4245669830213325\n",
      "Start the modelling\n"
     ]
    },
    {
     "name": "stdout",
     "output_type": "stream",
     "text": [
      "[0]\ttrain-mlogloss:1.92915\teval-mlogloss:1.93416\n"
     ]
    },
    {
     "name": "stdout",
     "output_type": "stream",
     "text": [
      "[100]\ttrain-mlogloss:1.33419\teval-mlogloss:1.56269\n"
     ]
    },
    {
     "name": "stdout",
     "output_type": "stream",
     "text": [
      "[200]\ttrain-mlogloss:1.18774\teval-mlogloss:1.51210\n"
     ]
    },
    {
     "name": "stdout",
     "output_type": "stream",
     "text": [
      "[300]\ttrain-mlogloss:1.10731\teval-mlogloss:1.50058\n"
     ]
    },
    {
     "name": "stdout",
     "output_type": "stream",
     "text": [
      "[400]\ttrain-mlogloss:1.05085\teval-mlogloss:1.49794\n"
     ]
    },
    {
     "name": "stdout",
     "output_type": "stream",
     "text": [
      "[500]\ttrain-mlogloss:1.00112\teval-mlogloss:1.49618\n"
     ]
    },
    {
     "name": "stdout",
     "output_type": "stream",
     "text": [
      "[600]\ttrain-mlogloss:0.96181\teval-mlogloss:1.49628\n"
     ]
    },
    {
     "name": "stdout",
     "output_type": "stream",
     "text": [
      "[700]\ttrain-mlogloss:0.92466\teval-mlogloss:1.49707\n"
     ]
    },
    {
     "name": "stdout",
     "output_type": "stream",
     "text": [
      "[800]\ttrain-mlogloss:0.89258\teval-mlogloss:1.49805\n"
     ]
    },
    {
     "name": "stdout",
     "output_type": "stream",
     "text": [
      "[900]\ttrain-mlogloss:0.86215\teval-mlogloss:1.49956\n"
     ]
    },
    {
     "name": "stdout",
     "output_type": "stream",
     "text": [
      "[1000]\ttrain-mlogloss:0.83577\teval-mlogloss:1.50130\n"
     ]
    },
    {
     "name": "stdout",
     "output_type": "stream",
     "text": [
      "[1100]\ttrain-mlogloss:0.81218\teval-mlogloss:1.50395\n"
     ]
    },
    {
     "name": "stdout",
     "output_type": "stream",
     "text": [
      "[1200]\ttrain-mlogloss:0.79026\teval-mlogloss:1.50693\n"
     ]
    },
    {
     "name": "stdout",
     "output_type": "stream",
     "text": [
      "[1300]\ttrain-mlogloss:0.76919\teval-mlogloss:1.50945\n"
     ]
    },
    {
     "name": "stdout",
     "output_type": "stream",
     "text": [
      "[1400]\ttrain-mlogloss:0.75115\teval-mlogloss:1.51191\n"
     ]
    },
    {
     "name": "stdout",
     "output_type": "stream",
     "text": [
      "[1500]\ttrain-mlogloss:0.73337\teval-mlogloss:1.51512\n"
     ]
    },
    {
     "name": "stdout",
     "output_type": "stream",
     "text": [
      "[1535]\ttrain-mlogloss:0.72842\teval-mlogloss:1.51600\n"
     ]
    },
    {
     "name": "stdout",
     "output_type": "stream",
     "text": [
      "[0]\ttrain-mlogloss:1.92889\teval-mlogloss:1.93371\n"
     ]
    },
    {
     "name": "stdout",
     "output_type": "stream",
     "text": [
      "[100]\ttrain-mlogloss:1.32807\teval-mlogloss:1.56252\n"
     ]
    },
    {
     "name": "stdout",
     "output_type": "stream",
     "text": [
      "[200]\ttrain-mlogloss:1.18000\teval-mlogloss:1.51407\n"
     ]
    },
    {
     "name": "stdout",
     "output_type": "stream",
     "text": [
      "[300]\ttrain-mlogloss:1.10589\teval-mlogloss:1.50331\n"
     ]
    },
    {
     "name": "stdout",
     "output_type": "stream",
     "text": [
      "[400]\ttrain-mlogloss:1.05222\teval-mlogloss:1.50093\n"
     ]
    },
    {
     "name": "stdout",
     "output_type": "stream",
     "text": [
      "[500]\ttrain-mlogloss:1.00589\teval-mlogloss:1.49947\n"
     ]
    },
    {
     "name": "stdout",
     "output_type": "stream",
     "text": [
      "[600]\ttrain-mlogloss:0.96768\teval-mlogloss:1.50017\n"
     ]
    },
    {
     "name": "stdout",
     "output_type": "stream",
     "text": [
      "[700]\ttrain-mlogloss:0.93426\teval-mlogloss:1.50132\n"
     ]
    },
    {
     "name": "stdout",
     "output_type": "stream",
     "text": [
      "[800]\ttrain-mlogloss:0.90159\teval-mlogloss:1.50323\n"
     ]
    },
    {
     "name": "stdout",
     "output_type": "stream",
     "text": [
      "[900]\ttrain-mlogloss:0.86923\teval-mlogloss:1.50479\n"
     ]
    },
    {
     "name": "stdout",
     "output_type": "stream",
     "text": [
      "[1000]\ttrain-mlogloss:0.84237\teval-mlogloss:1.50694\n"
     ]
    },
    {
     "name": "stdout",
     "output_type": "stream",
     "text": [
      "[1100]\ttrain-mlogloss:0.81821\teval-mlogloss:1.50941\n"
     ]
    },
    {
     "name": "stdout",
     "output_type": "stream",
     "text": [
      "[1200]\ttrain-mlogloss:0.79837\teval-mlogloss:1.51118\n"
     ]
    },
    {
     "name": "stdout",
     "output_type": "stream",
     "text": [
      "[1300]\ttrain-mlogloss:0.77781\teval-mlogloss:1.51375\n"
     ]
    },
    {
     "name": "stdout",
     "output_type": "stream",
     "text": [
      "[1400]\ttrain-mlogloss:0.75907\teval-mlogloss:1.51660\n"
     ]
    },
    {
     "name": "stdout",
     "output_type": "stream",
     "text": [
      "[1500]\ttrain-mlogloss:0.74322\teval-mlogloss:1.51926\n"
     ]
    },
    {
     "name": "stdout",
     "output_type": "stream",
     "text": [
      "[1501]\ttrain-mlogloss:0.74302\teval-mlogloss:1.51930\n"
     ]
    },
    {
     "name": "stdout",
     "output_type": "stream",
     "text": [
      "[0]\ttrain-mlogloss:1.92874\teval-mlogloss:1.93416\n"
     ]
    },
    {
     "name": "stdout",
     "output_type": "stream",
     "text": [
      "[100]\ttrain-mlogloss:1.33331\teval-mlogloss:1.56440\n"
     ]
    },
    {
     "name": "stdout",
     "output_type": "stream",
     "text": [
      "[200]\ttrain-mlogloss:1.18048\teval-mlogloss:1.51587\n"
     ]
    },
    {
     "name": "stdout",
     "output_type": "stream",
     "text": [
      "[300]\ttrain-mlogloss:1.10277\teval-mlogloss:1.50538\n"
     ]
    },
    {
     "name": "stdout",
     "output_type": "stream",
     "text": [
      "[400]\ttrain-mlogloss:1.04618\teval-mlogloss:1.50090\n"
     ]
    },
    {
     "name": "stdout",
     "output_type": "stream",
     "text": [
      "[500]\ttrain-mlogloss:0.99905\teval-mlogloss:1.49934\n"
     ]
    },
    {
     "name": "stdout",
     "output_type": "stream",
     "text": [
      "[600]\ttrain-mlogloss:0.95471\teval-mlogloss:1.49897\n"
     ]
    },
    {
     "name": "stdout",
     "output_type": "stream",
     "text": [
      "[700]\ttrain-mlogloss:0.91850\teval-mlogloss:1.49985\n"
     ]
    },
    {
     "name": "stdout",
     "output_type": "stream",
     "text": [
      "[800]\ttrain-mlogloss:0.88621\teval-mlogloss:1.50110\n"
     ]
    },
    {
     "name": "stdout",
     "output_type": "stream",
     "text": [
      "[900]\ttrain-mlogloss:0.85870\teval-mlogloss:1.50303\n"
     ]
    },
    {
     "name": "stdout",
     "output_type": "stream",
     "text": [
      "[1000]\ttrain-mlogloss:0.83372\teval-mlogloss:1.50543\n"
     ]
    },
    {
     "name": "stdout",
     "output_type": "stream",
     "text": [
      "[1100]\ttrain-mlogloss:0.81238\teval-mlogloss:1.50751\n"
     ]
    },
    {
     "name": "stdout",
     "output_type": "stream",
     "text": [
      "[1200]\ttrain-mlogloss:0.79170\teval-mlogloss:1.50955\n"
     ]
    },
    {
     "name": "stdout",
     "output_type": "stream",
     "text": [
      "[1300]\ttrain-mlogloss:0.77465\teval-mlogloss:1.51180\n"
     ]
    },
    {
     "name": "stdout",
     "output_type": "stream",
     "text": [
      "[1400]\ttrain-mlogloss:0.75679\teval-mlogloss:1.51451\n"
     ]
    },
    {
     "name": "stdout",
     "output_type": "stream",
     "text": [
      "[1500]\ttrain-mlogloss:0.73936\teval-mlogloss:1.51669\n"
     ]
    },
    {
     "name": "stdout",
     "output_type": "stream",
     "text": [
      "[1600]\ttrain-mlogloss:0.72396\teval-mlogloss:1.51906\n"
     ]
    },
    {
     "name": "stdout",
     "output_type": "stream",
     "text": [
      "[1624]\ttrain-mlogloss:0.72043\teval-mlogloss:1.51974\n"
     ]
    },
    {
     "name": "stdout",
     "output_type": "stream",
     "text": [
      "[0]\ttrain-mlogloss:1.92916\teval-mlogloss:1.93348\n"
     ]
    },
    {
     "name": "stdout",
     "output_type": "stream",
     "text": [
      "[50]\ttrain-mlogloss:1.51562\teval-mlogloss:1.63981\n"
     ]
    },
    {
     "name": "stdout",
     "output_type": "stream",
     "text": [
      "[100]\ttrain-mlogloss:1.35998\teval-mlogloss:1.54864\n"
     ]
    },
    {
     "name": "stdout",
     "output_type": "stream",
     "text": [
      "[150]\ttrain-mlogloss:1.27529\teval-mlogloss:1.51209\n"
     ]
    },
    {
     "name": "stdout",
     "output_type": "stream",
     "text": [
      "[200]\ttrain-mlogloss:1.22148\teval-mlogloss:1.49566\n"
     ]
    },
    {
     "name": "stdout",
     "output_type": "stream",
     "text": [
      "[250]\ttrain-mlogloss:1.18169\teval-mlogloss:1.48563\n"
     ]
    },
    {
     "name": "stdout",
     "output_type": "stream",
     "text": [
      "[300]\ttrain-mlogloss:1.15195\teval-mlogloss:1.47993\n"
     ]
    },
    {
     "name": "stdout",
     "output_type": "stream",
     "text": [
      "[350]\ttrain-mlogloss:1.12641\teval-mlogloss:1.47649\n"
     ]
    },
    {
     "name": "stdout",
     "output_type": "stream",
     "text": [
      "[400]\ttrain-mlogloss:1.10131\teval-mlogloss:1.47373\n"
     ]
    },
    {
     "name": "stdout",
     "output_type": "stream",
     "text": [
      "[450]\ttrain-mlogloss:1.07921\teval-mlogloss:1.47219\n"
     ]
    },
    {
     "name": "stdout",
     "output_type": "stream",
     "text": [
      "[500]\ttrain-mlogloss:1.05764\teval-mlogloss:1.47093\n"
     ]
    },
    {
     "name": "stdout",
     "output_type": "stream",
     "text": [
      "[550]\ttrain-mlogloss:1.03806\teval-mlogloss:1.46994\n"
     ]
    },
    {
     "name": "stdout",
     "output_type": "stream",
     "text": [
      "[600]\ttrain-mlogloss:1.02063\teval-mlogloss:1.46938\n"
     ]
    },
    {
     "name": "stdout",
     "output_type": "stream",
     "text": [
      "[650]\ttrain-mlogloss:1.00463\teval-mlogloss:1.46909\n"
     ]
    },
    {
     "name": "stdout",
     "output_type": "stream",
     "text": [
      "[700]\ttrain-mlogloss:0.98888\teval-mlogloss:1.46909\n"
     ]
    },
    {
     "name": "stdout",
     "output_type": "stream",
     "text": [
      "[716]\ttrain-mlogloss:0.98463\teval-mlogloss:1.46908\n"
     ]
    },
    {
     "name": "stdout",
     "output_type": "stream",
     "text": [
      "\n",
      "Classification Report on Test Set:\n",
      "              precision    recall  f1-score   support\n",
      "\n",
      "           0       0.82      0.64      0.72      4660\n",
      "           1       0.35      0.31      0.33      6592\n",
      "           2       0.36      0.47      0.41      6509\n",
      "           3       0.35      0.39      0.37      6653\n",
      "           4       0.37      0.41      0.39      6231\n",
      "           5       0.37      0.42      0.39      6463\n",
      "           6       0.47      0.39      0.42     13753\n",
      "\n",
      "    accuracy                           0.42     50861\n",
      "   macro avg       0.44      0.43      0.43     50861\n",
      "weighted avg       0.43      0.42      0.42     50861\n",
      "\n"
     ]
    },
    {
     "data": {
      "image/png": "[encoded data removed]",
      "text/plain": [
       "<Figure size 640x480 with 1 Axes>"
      ]
     },
     "metadata": {},
     "output_type": "display_data"
    },
    {
     "data": {
      "image/png": "[encoded data removed]",
      "text/plain": [
       "<Figure size 640x480 with 2 Axes>"
      ]
     },
     "metadata": {},
     "output_type": "display_data"
    },
    {
     "name": "stdout",
     "output_type": "stream",
     "text": [
      "{'average_accuracy': 0.4143232231727631, 'average_f1_macro': 0.4250765773934959, 'average_f1_micro': 0.4143232231727631, 'average_auc': 0.778552077239873, 'average_acc_kelas_generatif': 0.3746128728761968, 'average_acc_fase_padi': 0.37625718390804597}\n",
      "{'val_accuracy': 0.41701893395725603, 'val_f1_macro': 0.4320359288164636, 'val_f1_micro': 0.41701893395725603, 'val_auc': 0.7929631295793149, 'val_acc_kelas_generatif': 0.3868931309183827, 'val_acc_fase_padi': 0.3918414469886473, 'val_relative_acc': 81.33938961672736}\n",
      "=============================================================================\n",
      "=============================================================================\n",
      "CLUSTER:  2\n"
     ]
    },
    {
     "name": "stderr",
     "output_type": "stream",
     "text": [
      "[I 2024-10-18 16:23:30,828] A new study created in memory with name: no-name-4c928843-95e7-4ff1-8ac7-172d7dd4b7a8\n"
     ]
    },
    {
     "name": "stdout",
     "output_type": "stream",
     "text": [
      "[6 2 5 0 3 4 1]\n",
      "[0 1 2 3 4 5 6]\n",
      "Mapping of original to encoded classes: {0: 0, 1: 1, 2: 2, 3: 3, 4: 4, 5: 5, 6: 6}\n",
      "Build Best Parameter using Optuna-Hyperparameter Tuning\n"
     ]
    },
    {
     "name": "stderr",
     "output_type": "stream",
     "text": [
      "[I 2024-10-18 16:23:45,067] Trial 0 finished with value: 0.7910076103382314 and parameters: {'max_depth': 9, 'learning_rate': 0.08970254897856103, 'reg_lambda': 3.776165017166907, 'min_child_weight': 54}. Best is trial 0 with value: 0.7910076103382314.\n"
     ]
    },
    {
     "name": "stderr",
     "output_type": "stream",
     "text": [
      "[I 2024-10-18 16:24:34,140] Trial 1 finished with value: 0.7923979085311359 and parameters: {'max_depth': 8, 'learning_rate': 0.02231269475410643, 'reg_lambda': 1.5590685186687128, 'min_child_weight': 66}. Best is trial 1 with value: 0.7923979085311359.\n"
     ]
    },
    {
     "name": "stderr",
     "output_type": "stream",
     "text": [
      "[I 2024-10-18 16:25:51,546] Trial 2 finished with value: 0.7923409394549269 and parameters: {'max_depth': 8, 'learning_rate': 0.016287549421291424, 'reg_lambda': 4.2295236708093835, 'min_child_weight': 88}. Best is trial 1 with value: 0.7923979085311359.\n"
     ]
    },
    {
     "name": "stderr",
     "output_type": "stream",
     "text": [
      "[I 2024-10-18 16:26:17,950] Trial 3 finished with value: 0.7898785759080198 and parameters: {'max_depth': 9, 'learning_rate': 0.051393965698351925, 'reg_lambda': 2.8707693101644822, 'min_child_weight': 82}. Best is trial 1 with value: 0.7923979085311359.\n"
     ]
    },
    {
     "name": "stderr",
     "output_type": "stream",
     "text": [
      "[I 2024-10-18 16:26:32,379] Trial 4 finished with value: 0.7899784386685097 and parameters: {'max_depth': 7, 'learning_rate': 0.08734489755315883, 'reg_lambda': 0.8090178376217523, 'min_child_weight': 66}. Best is trial 1 with value: 0.7923979085311359.\n"
     ]
    },
    {
     "name": "stderr",
     "output_type": "stream",
     "text": [
      "[I 2024-10-18 16:27:04,957] Trial 5 finished with value: 0.7896749852458953 and parameters: {'max_depth': 8, 'learning_rate': 0.03833796387513729, 'reg_lambda': 1.7845360607446534, 'min_child_weight': 96}. Best is trial 1 with value: 0.7923979085311359.\n"
     ]
    },
    {
     "name": "stderr",
     "output_type": "stream",
     "text": [
      "[I 2024-10-18 16:27:24,490] Trial 6 finished with value: 0.790210393774858 and parameters: {'max_depth': 8, 'learning_rate': 0.06628933359649809, 'reg_lambda': 2.2361806531824597, 'min_child_weight': 59}. Best is trial 1 with value: 0.7923979085311359.\n"
     ]
    },
    {
     "name": "stderr",
     "output_type": "stream",
     "text": [
      "[I 2024-10-18 16:28:02,090] Trial 7 finished with value: 0.7896547217524889 and parameters: {'max_depth': 9, 'learning_rate': 0.03140994201578299, 'reg_lambda': 4.168748823783808, 'min_child_weight': 75}. Best is trial 1 with value: 0.7923979085311359.\n"
     ]
    },
    {
     "name": "stderr",
     "output_type": "stream",
     "text": [
      "[I 2024-10-18 16:28:47,838] Trial 8 finished with value: 0.7892327203790748 and parameters: {'max_depth': 9, 'learning_rate': 0.019993645690579806, 'reg_lambda': 1.5951934143979811, 'min_child_weight': 63}. Best is trial 1 with value: 0.7923979085311359.\n"
     ]
    },
    {
     "name": "stderr",
     "output_type": "stream",
     "text": [
      "[I 2024-10-18 16:29:04,541] Trial 9 finished with value: 0.789445487481904 and parameters: {'max_depth': 8, 'learning_rate': 0.07693717824722433, 'reg_lambda': 3.36483486348628, 'min_child_weight': 95}. Best is trial 1 with value: 0.7923979085311359.\n"
     ]
    },
    {
     "name": "stderr",
     "output_type": "stream",
     "text": [
      "[I 2024-10-18 16:29:31,643] Trial 10 finished with value: 0.7930708013952626 and parameters: {'max_depth': 6, 'learning_rate': 0.04668771942572982, 'reg_lambda': 0.29150875231976725, 'min_child_weight': 73}. Best is trial 10 with value: 0.7930708013952626.\n"
     ]
    },
    {
     "name": "stderr",
     "output_type": "stream",
     "text": [
      "[I 2024-10-18 16:30:08,122] Trial 11 finished with value: 0.7927617271218278 and parameters: {'max_depth': 6, 'learning_rate': 0.04684741674177642, 'reg_lambda': 0.11684954818874796, 'min_child_weight': 72}. Best is trial 10 with value: 0.7930708013952626.\n"
     ]
    },
    {
     "name": "stderr",
     "output_type": "stream",
     "text": [
      "[I 2024-10-18 16:30:32,893] Trial 12 finished with value: 0.790758589621051 and parameters: {'max_depth': 6, 'learning_rate': 0.05328228407421949, 'reg_lambda': 0.2186255074370571, 'min_child_weight': 73}. Best is trial 10 with value: 0.7930708013952626.\n"
     ]
    },
    {
     "name": "stderr",
     "output_type": "stream",
     "text": [
      "[I 2024-10-18 16:31:03,895] Trial 13 finished with value: 0.7929749122647539 and parameters: {'max_depth': 6, 'learning_rate': 0.04018237045654404, 'reg_lambda': 0.10420104560527109, 'min_child_weight': 82}. Best is trial 10 with value: 0.7930708013952626.\n"
     ]
    },
    {
     "name": "stderr",
     "output_type": "stream",
     "text": [
      "[I 2024-10-18 16:31:25,109] Trial 14 finished with value: 0.7905162608362349 and parameters: {'max_depth': 7, 'learning_rate': 0.06648268540451459, 'reg_lambda': 0.9031021436143514, 'min_child_weight': 83}. Best is trial 10 with value: 0.7930708013952626.\n"
     ]
    },
    {
     "name": "stderr",
     "output_type": "stream",
     "text": [
      "[I 2024-10-18 16:31:57,789] Trial 15 finished with value: 0.7898933521507301 and parameters: {'max_depth': 6, 'learning_rate': 0.03971537968714153, 'reg_lambda': 0.889753611657564, 'min_child_weight': 82}. Best is trial 10 with value: 0.7930708013952626.\n"
     ]
    },
    {
     "name": "stderr",
     "output_type": "stream",
     "text": [
      "[I 2024-10-18 16:32:18,231] Trial 16 finished with value: 0.7909627955084361 and parameters: {'max_depth': 7, 'learning_rate': 0.06532804767848405, 'reg_lambda': 0.5897078307565548, 'min_child_weight': 87}. Best is trial 10 with value: 0.7930708013952626.\n"
     ]
    },
    {
     "name": "stderr",
     "output_type": "stream",
     "text": [
      "[I 2024-10-18 16:33:03,444] Trial 17 finished with value: 0.7889151718531947 and parameters: {'max_depth': 10, 'learning_rate': 0.02751186709403481, 'reg_lambda': 4.908201432710715, 'min_child_weight': 78}. Best is trial 10 with value: 0.7930708013952626.\n"
     ]
    },
    {
     "name": "stderr",
     "output_type": "stream",
     "text": [
      "[I 2024-10-18 16:33:56,718] Trial 18 finished with value: 0.7938499381783694 and parameters: {'max_depth': 6, 'learning_rate': 0.011104751955179286, 'reg_lambda': 1.1945315776332817, 'min_child_weight': 88}. Best is trial 18 with value: 0.7938499381783694.\n"
     ]
    },
    {
     "name": "stderr",
     "output_type": "stream",
     "text": [
      "[I 2024-10-18 16:35:03,486] Trial 19 finished with value: 0.7941674617461921 and parameters: {'max_depth': 7, 'learning_rate': 0.011981231262808797, 'reg_lambda': 1.2572492597705718, 'min_child_weight': 90}. Best is trial 19 with value: 0.7941674617461921.\n"
     ]
    },
    {
     "name": "stdout",
     "output_type": "stream",
     "text": [
      "Best Parameters: {'max_depth': 7, 'learning_rate': 0.011981231262808797, 'reg_lambda': 1.2572492597705718, 'min_child_weight': 90}\n",
      "Best Score: 0.7941674617461921\n",
      "Start the modelling\n"
     ]
    },
    {
     "name": "stdout",
     "output_type": "stream",
     "text": [
      "[0]\ttrain-mlogloss:1.92068\teval-mlogloss:1.92363\n"
     ]
    },
    {
     "name": "stdout",
     "output_type": "stream",
     "text": [
      "[100]\ttrain-mlogloss:0.91676\teval-mlogloss:1.01694\n"
     ]
    },
    {
     "name": "stdout",
     "output_type": "stream",
     "text": [
      "[200]\ttrain-mlogloss:0.65084\teval-mlogloss:0.78323\n"
     ]
    },
    {
     "name": "stdout",
     "output_type": "stream",
     "text": [
      "[300]\ttrain-mlogloss:0.54631\teval-mlogloss:0.69735\n"
     ]
    },
    {
     "name": "stdout",
     "output_type": "stream",
     "text": [
      "[400]\ttrain-mlogloss:0.49580\teval-mlogloss:0.66116\n"
     ]
    },
    {
     "name": "stdout",
     "output_type": "stream",
     "text": [
      "[500]\ttrain-mlogloss:0.46540\teval-mlogloss:0.64279\n"
     ]
    },
    {
     "name": "stdout",
     "output_type": "stream",
     "text": [
      "[600]\ttrain-mlogloss:0.44483\teval-mlogloss:0.63230\n"
     ]
    },
    {
     "name": "stdout",
     "output_type": "stream",
     "text": [
      "[700]\ttrain-mlogloss:0.43077\teval-mlogloss:0.62619\n"
     ]
    },
    {
     "name": "stdout",
     "output_type": "stream",
     "text": [
      "[800]\ttrain-mlogloss:0.41999\teval-mlogloss:0.62248\n"
     ]
    },
    {
     "name": "stdout",
     "output_type": "stream",
     "text": [
      "[900]\ttrain-mlogloss:0.41164\teval-mlogloss:0.62009\n"
     ]
    },
    {
     "name": "stdout",
     "output_type": "stream",
     "text": [
      "[1000]\ttrain-mlogloss:0.40449\teval-mlogloss:0.61838\n"
     ]
    },
    {
     "name": "stdout",
     "output_type": "stream",
     "text": [
      "[1100]\ttrain-mlogloss:0.39802\teval-mlogloss:0.61731\n"
     ]
    },
    {
     "name": "stdout",
     "output_type": "stream",
     "text": [
      "[1200]\ttrain-mlogloss:0.39261\teval-mlogloss:0.61656\n"
     ]
    },
    {
     "name": "stdout",
     "output_type": "stream",
     "text": [
      "[1300]\ttrain-mlogloss:0.38785\teval-mlogloss:0.61610\n"
     ]
    },
    {
     "name": "stdout",
     "output_type": "stream",
     "text": [
      "[1400]\ttrain-mlogloss:0.38337\teval-mlogloss:0.61576\n"
     ]
    },
    {
     "name": "stdout",
     "output_type": "stream",
     "text": [
      "[1500]\ttrain-mlogloss:0.37951\teval-mlogloss:0.61571\n"
     ]
    },
    {
     "name": "stdout",
     "output_type": "stream",
     "text": [
      "[1600]\ttrain-mlogloss:0.37626\teval-mlogloss:0.61578\n"
     ]
    },
    {
     "name": "stdout",
     "output_type": "stream",
     "text": [
      "[1700]\ttrain-mlogloss:0.37338\teval-mlogloss:0.61596\n"
     ]
    },
    {
     "name": "stdout",
     "output_type": "stream",
     "text": [
      "[1800]\ttrain-mlogloss:0.37074\teval-mlogloss:0.61591\n"
     ]
    },
    {
     "name": "stdout",
     "output_type": "stream",
     "text": [
      "[1900]\ttrain-mlogloss:0.36821\teval-mlogloss:0.61619\n"
     ]
    },
    {
     "name": "stdout",
     "output_type": "stream",
     "text": [
      "[2000]\ttrain-mlogloss:0.36573\teval-mlogloss:0.61636\n"
     ]
    },
    {
     "name": "stdout",
     "output_type": "stream",
     "text": [
      "[2100]\ttrain-mlogloss:0.36369\teval-mlogloss:0.61674\n"
     ]
    },
    {
     "name": "stdout",
     "output_type": "stream",
     "text": [
      "[2200]\ttrain-mlogloss:0.36169\teval-mlogloss:0.61718\n"
     ]
    },
    {
     "name": "stdout",
     "output_type": "stream",
     "text": [
      "[2300]\ttrain-mlogloss:0.35974\teval-mlogloss:0.61761\n"
     ]
    },
    {
     "name": "stdout",
     "output_type": "stream",
     "text": [
      "[2400]\ttrain-mlogloss:0.35795\teval-mlogloss:0.61845\n"
     ]
    },
    {
     "name": "stdout",
     "output_type": "stream",
     "text": [
      "[2500]\ttrain-mlogloss:0.35625\teval-mlogloss:0.61918\n"
     ]
    },
    {
     "name": "stdout",
     "output_type": "stream",
     "text": [
      "[2546]\ttrain-mlogloss:0.35560\teval-mlogloss:0.61936\n"
     ]
    },
    {
     "name": "stdout",
     "output_type": "stream",
     "text": [
      "[0]\ttrain-mlogloss:1.92081\teval-mlogloss:1.92358\n"
     ]
    },
    {
     "name": "stdout",
     "output_type": "stream",
     "text": [
      "[100]\ttrain-mlogloss:0.91427\teval-mlogloss:1.01437\n"
     ]
    },
    {
     "name": "stdout",
     "output_type": "stream",
     "text": [
      "[200]\ttrain-mlogloss:0.64662\teval-mlogloss:0.77792\n"
     ]
    },
    {
     "name": "stdout",
     "output_type": "stream",
     "text": [
      "[300]\ttrain-mlogloss:0.54082\teval-mlogloss:0.69079\n"
     ]
    },
    {
     "name": "stdout",
     "output_type": "stream",
     "text": [
      "[400]\ttrain-mlogloss:0.48907\teval-mlogloss:0.65388\n"
     ]
    },
    {
     "name": "stdout",
     "output_type": "stream",
     "text": [
      "[500]\ttrain-mlogloss:0.45865\teval-mlogloss:0.63559\n"
     ]
    },
    {
     "name": "stdout",
     "output_type": "stream",
     "text": [
      "[600]\ttrain-mlogloss:0.43786\teval-mlogloss:0.62562\n"
     ]
    },
    {
     "name": "stdout",
     "output_type": "stream",
     "text": [
      "[700]\ttrain-mlogloss:0.42306\teval-mlogloss:0.62037\n"
     ]
    },
    {
     "name": "stdout",
     "output_type": "stream",
     "text": [
      "[800]\ttrain-mlogloss:0.41184\teval-mlogloss:0.61769\n"
     ]
    },
    {
     "name": "stdout",
     "output_type": "stream",
     "text": [
      "[900]\ttrain-mlogloss:0.40260\teval-mlogloss:0.61572\n"
     ]
    },
    {
     "name": "stdout",
     "output_type": "stream",
     "text": [
      "[1000]\ttrain-mlogloss:0.39470\teval-mlogloss:0.61433\n"
     ]
    },
    {
     "name": "stdout",
     "output_type": "stream",
     "text": [
      "[1100]\ttrain-mlogloss:0.38770\teval-mlogloss:0.61356\n"
     ]
    },
    {
     "name": "stdout",
     "output_type": "stream",
     "text": [
      "[1200]\ttrain-mlogloss:0.38178\teval-mlogloss:0.61285\n"
     ]
    },
    {
     "name": "stdout",
     "output_type": "stream",
     "text": [
      "[1300]\ttrain-mlogloss:0.37679\teval-mlogloss:0.61238\n"
     ]
    },
    {
     "name": "stdout",
     "output_type": "stream",
     "text": [
      "[1400]\ttrain-mlogloss:0.37214\teval-mlogloss:0.61242\n"
     ]
    },
    {
     "name": "stdout",
     "output_type": "stream",
     "text": [
      "[1500]\ttrain-mlogloss:0.36824\teval-mlogloss:0.61247\n"
     ]
    },
    {
     "name": "stdout",
     "output_type": "stream",
     "text": [
      "[1600]\ttrain-mlogloss:0.36484\teval-mlogloss:0.61269\n"
     ]
    },
    {
     "name": "stdout",
     "output_type": "stream",
     "text": [
      "[1700]\ttrain-mlogloss:0.36192\teval-mlogloss:0.61297\n"
     ]
    },
    {
     "name": "stdout",
     "output_type": "stream",
     "text": [
      "[1800]\ttrain-mlogloss:0.35886\teval-mlogloss:0.61324\n"
     ]
    },
    {
     "name": "stdout",
     "output_type": "stream",
     "text": [
      "[1900]\ttrain-mlogloss:0.35610\teval-mlogloss:0.61352\n"
     ]
    },
    {
     "name": "stdout",
     "output_type": "stream",
     "text": [
      "[2000]\ttrain-mlogloss:0.35376\teval-mlogloss:0.61386\n"
     ]
    },
    {
     "name": "stdout",
     "output_type": "stream",
     "text": [
      "[2100]\ttrain-mlogloss:0.35161\teval-mlogloss:0.61413\n"
     ]
    },
    {
     "name": "stdout",
     "output_type": "stream",
     "text": [
      "[2200]\ttrain-mlogloss:0.34974\teval-mlogloss:0.61442\n"
     ]
    },
    {
     "name": "stdout",
     "output_type": "stream",
     "text": [
      "[2300]\ttrain-mlogloss:0.34775\teval-mlogloss:0.61501\n"
     ]
    },
    {
     "name": "stdout",
     "output_type": "stream",
     "text": [
      "[2331]\ttrain-mlogloss:0.34710\teval-mlogloss:0.61522\n"
     ]
    },
    {
     "name": "stdout",
     "output_type": "stream",
     "text": [
      "[0]\ttrain-mlogloss:1.92089\teval-mlogloss:1.92363\n"
     ]
    },
    {
     "name": "stdout",
     "output_type": "stream",
     "text": [
      "[100]\ttrain-mlogloss:0.91681\teval-mlogloss:1.01759\n"
     ]
    },
    {
     "name": "stdout",
     "output_type": "stream",
     "text": [
      "[200]\ttrain-mlogloss:0.65144\teval-mlogloss:0.78231\n"
     ]
    },
    {
     "name": "stdout",
     "output_type": "stream",
     "text": [
      "[300]\ttrain-mlogloss:0.54613\teval-mlogloss:0.69454\n"
     ]
    },
    {
     "name": "stdout",
     "output_type": "stream",
     "text": [
      "[400]\ttrain-mlogloss:0.49455\teval-mlogloss:0.65691\n"
     ]
    },
    {
     "name": "stdout",
     "output_type": "stream",
     "text": [
      "[500]\ttrain-mlogloss:0.46433\teval-mlogloss:0.63741\n"
     ]
    },
    {
     "name": "stdout",
     "output_type": "stream",
     "text": [
      "[600]\ttrain-mlogloss:0.44498\teval-mlogloss:0.62662\n"
     ]
    },
    {
     "name": "stdout",
     "output_type": "stream",
     "text": [
      "[700]\ttrain-mlogloss:0.43059\teval-mlogloss:0.62081\n"
     ]
    },
    {
     "name": "stdout",
     "output_type": "stream",
     "text": [
      "[800]\ttrain-mlogloss:0.41999\teval-mlogloss:0.61738\n"
     ]
    },
    {
     "name": "stdout",
     "output_type": "stream",
     "text": [
      "[900]\ttrain-mlogloss:0.41030\teval-mlogloss:0.61462\n"
     ]
    },
    {
     "name": "stdout",
     "output_type": "stream",
     "text": [
      "[1000]\ttrain-mlogloss:0.40256\teval-mlogloss:0.61288\n"
     ]
    },
    {
     "name": "stdout",
     "output_type": "stream",
     "text": [
      "[1100]\ttrain-mlogloss:0.39598\teval-mlogloss:0.61170\n"
     ]
    },
    {
     "name": "stdout",
     "output_type": "stream",
     "text": [
      "[1200]\ttrain-mlogloss:0.39002\teval-mlogloss:0.61132\n"
     ]
    },
    {
     "name": "stdout",
     "output_type": "stream",
     "text": [
      "[1300]\ttrain-mlogloss:0.38537\teval-mlogloss:0.61114\n"
     ]
    },
    {
     "name": "stdout",
     "output_type": "stream",
     "text": [
      "[1400]\ttrain-mlogloss:0.38131\teval-mlogloss:0.61127\n"
     ]
    },
    {
     "name": "stdout",
     "output_type": "stream",
     "text": [
      "[1500]\ttrain-mlogloss:0.37737\teval-mlogloss:0.61130\n"
     ]
    },
    {
     "name": "stdout",
     "output_type": "stream",
     "text": [
      "[1600]\ttrain-mlogloss:0.37392\teval-mlogloss:0.61128\n"
     ]
    },
    {
     "name": "stdout",
     "output_type": "stream",
     "text": [
      "[1700]\ttrain-mlogloss:0.37084\teval-mlogloss:0.61128\n"
     ]
    },
    {
     "name": "stdout",
     "output_type": "stream",
     "text": [
      "[1800]\ttrain-mlogloss:0.36807\teval-mlogloss:0.61156\n"
     ]
    },
    {
     "name": "stdout",
     "output_type": "stream",
     "text": [
      "[1900]\ttrain-mlogloss:0.36550\teval-mlogloss:0.61191\n"
     ]
    },
    {
     "name": "stdout",
     "output_type": "stream",
     "text": [
      "[2000]\ttrain-mlogloss:0.36309\teval-mlogloss:0.61235\n"
     ]
    },
    {
     "name": "stdout",
     "output_type": "stream",
     "text": [
      "[2100]\ttrain-mlogloss:0.36110\teval-mlogloss:0.61296\n"
     ]
    },
    {
     "name": "stdout",
     "output_type": "stream",
     "text": [
      "[2200]\ttrain-mlogloss:0.35913\teval-mlogloss:0.61341\n"
     ]
    },
    {
     "name": "stdout",
     "output_type": "stream",
     "text": [
      "[2300]\ttrain-mlogloss:0.35727\teval-mlogloss:0.61399\n"
     ]
    },
    {
     "name": "stdout",
     "output_type": "stream",
     "text": [
      "[2350]\ttrain-mlogloss:0.35643\teval-mlogloss:0.61429\n"
     ]
    },
    {
     "name": "stdout",
     "output_type": "stream",
     "text": [
      "[0]\ttrain-mlogloss:1.92057\teval-mlogloss:1.92319\n"
     ]
    },
    {
     "name": "stdout",
     "output_type": "stream",
     "text": [
      "[50]\ttrain-mlogloss:1.21726\teval-mlogloss:1.28287\n"
     ]
    },
    {
     "name": "stdout",
     "output_type": "stream",
     "text": [
      "[100]\ttrain-mlogloss:0.91554\teval-mlogloss:1.00676\n"
     ]
    },
    {
     "name": "stdout",
     "output_type": "stream",
     "text": [
      "[150]\ttrain-mlogloss:0.74975\teval-mlogloss:0.85763\n"
     ]
    },
    {
     "name": "stdout",
     "output_type": "stream",
     "text": [
      "[200]\ttrain-mlogloss:0.65122\teval-mlogloss:0.77093\n"
     ]
    },
    {
     "name": "stdout",
     "output_type": "stream",
     "text": [
      "[250]\ttrain-mlogloss:0.58766\teval-mlogloss:0.71726\n"
     ]
    },
    {
     "name": "stdout",
     "output_type": "stream",
     "text": [
      "[300]\ttrain-mlogloss:0.54674\teval-mlogloss:0.68373\n"
     ]
    },
    {
     "name": "stdout",
     "output_type": "stream",
     "text": [
      "[350]\ttrain-mlogloss:0.51848\teval-mlogloss:0.66214\n"
     ]
    },
    {
     "name": "stdout",
     "output_type": "stream",
     "text": [
      "[400]\ttrain-mlogloss:0.49746\teval-mlogloss:0.64728\n"
     ]
    },
    {
     "name": "stdout",
     "output_type": "stream",
     "text": [
      "[450]\ttrain-mlogloss:0.48105\teval-mlogloss:0.63645\n"
     ]
    },
    {
     "name": "stdout",
     "output_type": "stream",
     "text": [
      "[500]\ttrain-mlogloss:0.46816\teval-mlogloss:0.62891\n"
     ]
    },
    {
     "name": "stdout",
     "output_type": "stream",
     "text": [
      "[550]\ttrain-mlogloss:0.45765\teval-mlogloss:0.62294\n"
     ]
    },
    {
     "name": "stdout",
     "output_type": "stream",
     "text": [
      "[600]\ttrain-mlogloss:0.44904\teval-mlogloss:0.61883\n"
     ]
    },
    {
     "name": "stdout",
     "output_type": "stream",
     "text": [
      "[650]\ttrain-mlogloss:0.44169\teval-mlogloss:0.61562\n"
     ]
    },
    {
     "name": "stdout",
     "output_type": "stream",
     "text": [
      "[700]\ttrain-mlogloss:0.43529\teval-mlogloss:0.61312\n"
     ]
    },
    {
     "name": "stdout",
     "output_type": "stream",
     "text": [
      "[750]\ttrain-mlogloss:0.42995\teval-mlogloss:0.61129\n"
     ]
    },
    {
     "name": "stdout",
     "output_type": "stream",
     "text": [
      "[800]\ttrain-mlogloss:0.42507\teval-mlogloss:0.60971\n"
     ]
    },
    {
     "name": "stdout",
     "output_type": "stream",
     "text": [
      "[850]\ttrain-mlogloss:0.42069\teval-mlogloss:0.60836\n"
     ]
    },
    {
     "name": "stdout",
     "output_type": "stream",
     "text": [
      "[900]\ttrain-mlogloss:0.41684\teval-mlogloss:0.60736\n"
     ]
    },
    {
     "name": "stdout",
     "output_type": "stream",
     "text": [
      "[950]\ttrain-mlogloss:0.41330\teval-mlogloss:0.60637\n"
     ]
    },
    {
     "name": "stdout",
     "output_type": "stream",
     "text": [
      "[999]\ttrain-mlogloss:0.40958\teval-mlogloss:0.60541\n"
     ]
    },
    {
     "name": "stdout",
     "output_type": "stream",
     "text": [
      "\n",
      "Classification Report on Test Set:\n",
      "              precision    recall  f1-score   support\n",
      "\n",
      "           0       0.88      0.82      0.85      4170\n",
      "           1       0.92      0.97      0.95      4897\n",
      "           2       0.86      0.67      0.76      4805\n",
      "           3       0.95      0.96      0.95      6148\n",
      "           4       0.87      0.74      0.80      4653\n",
      "           5       0.50      0.61      0.55      6761\n",
      "           6       0.73      0.74      0.74     13948\n",
      "\n",
      "    accuracy                           0.78     45382\n",
      "   macro avg       0.82      0.79      0.80     45382\n",
      "weighted avg       0.79      0.78      0.78     45382\n",
      "\n"
     ]
    },
    {
     "data": {
      "image/png": "[encoded data removed]",
      "text/plain": [
       "<Figure size 640x480 with 1 Axes>"
      ]
     },
     "metadata": {},
     "output_type": "display_data"
    },
    {
     "data": {
      "image/png": "[encoded data removed]",
      "text/plain": [
       "<Figure size 640x480 with 2 Axes>"
      ]
     },
     "metadata": {},
     "output_type": "display_data"
    },
    {
     "name": "stdout",
     "output_type": "stream",
     "text": [
      "{'average_accuracy': 0.7705794642398067, 'average_f1_macro': 0.7901476818607449, 'average_f1_micro': 0.7705794642398067, 'average_auc': 0.9505252974425806, 'average_acc_kelas_generatif': 0.9612907433466104, 'average_acc_fase_padi': 0.8471605781267783}\n",
      "{'val_accuracy': 0.7761667621523952, 'val_f1_macro': 0.798398670990688, 'val_f1_micro': 0.7761667621523952, 'val_auc': 0.9525928087365199, 'val_acc_kelas_generatif': 0.9627521145087834, 'val_acc_fase_padi': 0.8461688533385359, 'val_relative_acc': 97.21654749744637}\n",
      "=============================================================================\n",
      "=============================================================================\n",
      "CLUSTER:  3\n"
     ]
    },
    {
     "name": "stderr",
     "output_type": "stream",
     "text": [
      "[I 2024-10-18 16:38:15,300] A new study created in memory with name: no-name-e0aa6c3e-5a91-4a84-818e-855c59c76cf0\n"
     ]
    },
    {
     "name": "stdout",
     "output_type": "stream",
     "text": [
      "[1 6 2 3 5 0 4]\n",
      "[0 1 2 3 4 5 6]\n",
      "Mapping of original to encoded classes: {0: 0, 1: 1, 2: 2, 3: 3, 4: 4, 5: 5, 6: 6}\n",
      "Build Best Parameter using Optuna-Hyperparameter Tuning\n"
     ]
    },
    {
     "name": "stderr",
     "output_type": "stream",
     "text": [
      "[I 2024-10-18 16:39:19,907] Trial 0 finished with value: 0.9369428124230123 and parameters: {'max_depth': 9, 'learning_rate': 0.03533720372181492, 'reg_lambda': 3.2862289095038917, 'min_child_weight': 98}. Best is trial 0 with value: 0.9369428124230123.\n"
     ]
    },
    {
     "name": "stderr",
     "output_type": "stream",
     "text": [
      "[I 2024-10-18 16:40:06,887] Trial 1 finished with value: 0.9368944877489035 and parameters: {'max_depth': 10, 'learning_rate': 0.0682567052498242, 'reg_lambda': 0.2178328483800155, 'min_child_weight': 68}. Best is trial 0 with value: 0.9369428124230123.\n"
     ]
    },
    {
     "name": "stderr",
     "output_type": "stream",
     "text": [
      "[I 2024-10-18 16:41:12,745] Trial 2 finished with value: 0.937096850109335 and parameters: {'max_depth': 7, 'learning_rate': 0.04247214154168514, 'reg_lambda': 2.7038095584420994, 'min_child_weight': 58}. Best is trial 2 with value: 0.937096850109335.\n"
     ]
    },
    {
     "name": "stderr",
     "output_type": "stream",
     "text": [
      "[I 2024-10-18 16:41:52,356] Trial 3 finished with value: 0.9378463796769738 and parameters: {'max_depth': 7, 'learning_rate': 0.0828085650449572, 'reg_lambda': 2.6890203811461575, 'min_child_weight': 50}. Best is trial 3 with value: 0.9378463796769738.\n"
     ]
    },
    {
     "name": "stderr",
     "output_type": "stream",
     "text": [
      "[I 2024-10-18 16:42:26,515] Trial 4 finished with value: 0.9372524109519901 and parameters: {'max_depth': 7, 'learning_rate': 0.09352737325004552, 'reg_lambda': 3.3787721076618227, 'min_child_weight': 88}. Best is trial 3 with value: 0.9378463796769738.\n"
     ]
    },
    {
     "name": "stderr",
     "output_type": "stream",
     "text": [
      "[I 2024-10-18 16:43:50,363] Trial 5 finished with value: 0.936977936402091 and parameters: {'max_depth': 8, 'learning_rate': 0.030262681931088616, 'reg_lambda': 2.432217312970222, 'min_child_weight': 57}. Best is trial 3 with value: 0.9378463796769738.\n"
     ]
    },
    {
     "name": "stderr",
     "output_type": "stream",
     "text": [
      "[I 2024-10-18 16:44:38,581] Trial 6 finished with value: 0.9377337442478576 and parameters: {'max_depth': 10, 'learning_rate': 0.04672145770348837, 'reg_lambda': 3.9827885704897295, 'min_child_weight': 85}. Best is trial 3 with value: 0.9378463796769738.\n"
     ]
    },
    {
     "name": "stderr",
     "output_type": "stream",
     "text": [
      "[I 2024-10-18 16:46:36,631] Trial 7 finished with value: 0.9295114648271104 and parameters: {'max_depth': 8, 'learning_rate': 0.010357962723395803, 'reg_lambda': 3.5436352826635233, 'min_child_weight': 68}. Best is trial 3 with value: 0.9378463796769738.\n"
     ]
    },
    {
     "name": "stderr",
     "output_type": "stream",
     "text": [
      "[I 2024-10-18 16:47:24,371] Trial 8 finished with value: 0.9368117229533298 and parameters: {'max_depth': 8, 'learning_rate': 0.060053388301205365, 'reg_lambda': 3.475453203130529, 'min_child_weight': 76}. Best is trial 3 with value: 0.9378463796769738.\n"
     ]
    },
    {
     "name": "stderr",
     "output_type": "stream",
     "text": [
      "[I 2024-10-18 16:47:58,573] Trial 9 finished with value: 0.9363000045846822 and parameters: {'max_depth': 7, 'learning_rate': 0.08654084375249439, 'reg_lambda': 3.190417812098699, 'min_child_weight': 68}. Best is trial 3 with value: 0.9378463796769738.\n"
     ]
    },
    {
     "name": "stderr",
     "output_type": "stream",
     "text": [
      "[I 2024-10-18 16:48:37,833] Trial 10 finished with value: 0.9378891617630399 and parameters: {'max_depth': 6, 'learning_rate': 0.08076332635089473, 'reg_lambda': 1.4217813156477115, 'min_child_weight': 50}. Best is trial 10 with value: 0.9378891617630399.\n"
     ]
    },
    {
     "name": "stderr",
     "output_type": "stream",
     "text": [
      "[I 2024-10-18 16:49:22,057] Trial 11 finished with value: 0.9367736745470293 and parameters: {'max_depth': 6, 'learning_rate': 0.0725116151050679, 'reg_lambda': 1.5733358993958684, 'min_child_weight': 51}. Best is trial 10 with value: 0.9378891617630399.\n"
     ]
    },
    {
     "name": "stderr",
     "output_type": "stream",
     "text": [
      "[I 2024-10-18 16:49:51,366] Trial 12 finished with value: 0.9365580300025518 and parameters: {'max_depth': 6, 'learning_rate': 0.08143018221636036, 'reg_lambda': 4.87548874671462, 'min_child_weight': 51}. Best is trial 10 with value: 0.9378891617630399.\n"
     ]
    },
    {
     "name": "stderr",
     "output_type": "stream",
     "text": [
      "[I 2024-10-18 16:50:21,665] Trial 13 finished with value: 0.9371130260347061 and parameters: {'max_depth': 6, 'learning_rate': 0.0959366005188825, 'reg_lambda': 1.4094588409719186, 'min_child_weight': 59}. Best is trial 10 with value: 0.9378891617630399.\n"
     ]
    },
    {
     "name": "stderr",
     "output_type": "stream",
     "text": [
      "[I 2024-10-18 16:50:56,356] Trial 14 finished with value: 0.9375619387175903 and parameters: {'max_depth': 7, 'learning_rate': 0.0775762045537205, 'reg_lambda': 1.589004296483945, 'min_child_weight': 50}. Best is trial 10 with value: 0.9378891617630399.\n"
     ]
    },
    {
     "name": "stderr",
     "output_type": "stream",
     "text": [
      "[I 2024-10-18 16:51:45,618] Trial 15 finished with value: 0.9367571916575228 and parameters: {'max_depth': 6, 'learning_rate': 0.060690902659021606, 'reg_lambda': 0.5345968119189108, 'min_child_weight': 62}. Best is trial 10 with value: 0.9378891617630399.\n"
     ]
    },
    {
     "name": "stderr",
     "output_type": "stream",
     "text": [
      "[I 2024-10-18 16:52:15,907] Trial 16 finished with value: 0.9369580027061661 and parameters: {'max_depth': 7, 'learning_rate': 0.09967025241368979, 'reg_lambda': 2.214016053478102, 'min_child_weight': 76}. Best is trial 10 with value: 0.9378891617630399.\n"
     ]
    },
    {
     "name": "stderr",
     "output_type": "stream",
     "text": [
      "[I 2024-10-18 16:52:50,125] Trial 17 finished with value: 0.9363930850719262 and parameters: {'max_depth': 6, 'learning_rate': 0.08571689492045162, 'reg_lambda': 0.7507246977527563, 'min_child_weight': 64}. Best is trial 10 with value: 0.9378891617630399.\n"
     ]
    },
    {
     "name": "stderr",
     "output_type": "stream",
     "text": [
      "[I 2024-10-18 16:53:20,267] Trial 18 finished with value: 0.9374224539569344 and parameters: {'max_depth': 9, 'learning_rate': 0.07031701865918771, 'reg_lambda': 2.022830819401488, 'min_child_weight': 55}. Best is trial 10 with value: 0.9378891617630399.\n"
     ]
    },
    {
     "name": "stderr",
     "output_type": "stream",
     "text": [
      "[I 2024-10-18 16:54:05,963] Trial 19 finished with value: 0.9370549606161905 and parameters: {'max_depth': 7, 'learning_rate': 0.05570316231062471, 'reg_lambda': 1.098458121671938, 'min_child_weight': 84}. Best is trial 10 with value: 0.9378891617630399.\n"
     ]
    },
    {
     "name": "stdout",
     "output_type": "stream",
     "text": [
      "Best Parameters: {'max_depth': 6, 'learning_rate': 0.08076332635089473, 'reg_lambda': 1.4217813156477115, 'min_child_weight': 50}\n",
      "Best Score: 0.9378891617630399\n",
      "Start the modelling\n"
     ]
    },
    {
     "name": "stdout",
     "output_type": "stream",
     "text": [
      "[0]\ttrain-mlogloss:1.74352\teval-mlogloss:1.74724\n"
     ]
    },
    {
     "name": "stdout",
     "output_type": "stream",
     "text": [
      "[100]\ttrain-mlogloss:0.11850\teval-mlogloss:0.19572\n"
     ]
    },
    {
     "name": "stdout",
     "output_type": "stream",
     "text": [
      "[200]\ttrain-mlogloss:0.05932\teval-mlogloss:0.16920\n"
     ]
    },
    {
     "name": "stdout",
     "output_type": "stream",
     "text": [
      "[300]\ttrain-mlogloss:0.03437\teval-mlogloss:0.16188\n"
     ]
    },
    {
     "name": "stdout",
     "output_type": "stream",
     "text": [
      "[400]\ttrain-mlogloss:0.02198\teval-mlogloss:0.16037\n"
     ]
    },
    {
     "name": "stdout",
     "output_type": "stream",
     "text": [
      "[500]\ttrain-mlogloss:0.01541\teval-mlogloss:0.16143\n"
     ]
    },
    {
     "name": "stdout",
     "output_type": "stream",
     "text": [
      "[600]\ttrain-mlogloss:0.01153\teval-mlogloss:0.16308\n"
     ]
    },
    {
     "name": "stdout",
     "output_type": "stream",
     "text": [
      "[700]\ttrain-mlogloss:0.00916\teval-mlogloss:0.16479\n"
     ]
    },
    {
     "name": "stdout",
     "output_type": "stream",
     "text": [
      "[800]\ttrain-mlogloss:0.00754\teval-mlogloss:0.16674\n"
     ]
    },
    {
     "name": "stdout",
     "output_type": "stream",
     "text": [
      "[900]\ttrain-mlogloss:0.00647\teval-mlogloss:0.16887\n"
     ]
    },
    {
     "name": "stdout",
     "output_type": "stream",
     "text": [
      "[1000]\ttrain-mlogloss:0.00565\teval-mlogloss:0.17046\n"
     ]
    },
    {
     "name": "stdout",
     "output_type": "stream",
     "text": [
      "[1100]\ttrain-mlogloss:0.00504\teval-mlogloss:0.17194\n"
     ]
    },
    {
     "name": "stdout",
     "output_type": "stream",
     "text": [
      "[1200]\ttrain-mlogloss:0.00457\teval-mlogloss:0.17343\n"
     ]
    },
    {
     "name": "stdout",
     "output_type": "stream",
     "text": [
      "[1300]\ttrain-mlogloss:0.00421\teval-mlogloss:0.17499\n"
     ]
    },
    {
     "name": "stdout",
     "output_type": "stream",
     "text": [
      "[1400]\ttrain-mlogloss:0.00392\teval-mlogloss:0.17602\n"
     ]
    },
    {
     "name": "stdout",
     "output_type": "stream",
     "text": [
      "[1402]\ttrain-mlogloss:0.00391\teval-mlogloss:0.17604\n"
     ]
    },
    {
     "name": "stdout",
     "output_type": "stream",
     "text": [
      "[0]\ttrain-mlogloss:1.74236\teval-mlogloss:1.74832\n"
     ]
    },
    {
     "name": "stdout",
     "output_type": "stream",
     "text": [
      "[100]\ttrain-mlogloss:0.11244\teval-mlogloss:0.21085\n"
     ]
    },
    {
     "name": "stdout",
     "output_type": "stream",
     "text": [
      "[200]\ttrain-mlogloss:0.05591\teval-mlogloss:0.18064\n"
     ]
    },
    {
     "name": "stdout",
     "output_type": "stream",
     "text": [
      "[300]\ttrain-mlogloss:0.03164\teval-mlogloss:0.17242\n"
     ]
    },
    {
     "name": "stdout",
     "output_type": "stream",
     "text": [
      "[400]\ttrain-mlogloss:0.01990\teval-mlogloss:0.17127\n"
     ]
    },
    {
     "name": "stdout",
     "output_type": "stream",
     "text": [
      "[500]\ttrain-mlogloss:0.01389\teval-mlogloss:0.17272\n"
     ]
    },
    {
     "name": "stdout",
     "output_type": "stream",
     "text": [
      "[600]\ttrain-mlogloss:0.01069\teval-mlogloss:0.17455\n"
     ]
    },
    {
     "name": "stdout",
     "output_type": "stream",
     "text": [
      "[700]\ttrain-mlogloss:0.00853\teval-mlogloss:0.17658\n"
     ]
    },
    {
     "name": "stdout",
     "output_type": "stream",
     "text": [
      "[800]\ttrain-mlogloss:0.00705\teval-mlogloss:0.17875\n"
     ]
    },
    {
     "name": "stdout",
     "output_type": "stream",
     "text": [
      "[900]\ttrain-mlogloss:0.00604\teval-mlogloss:0.18057\n"
     ]
    },
    {
     "name": "stdout",
     "output_type": "stream",
     "text": [
      "[1000]\ttrain-mlogloss:0.00531\teval-mlogloss:0.18234\n"
     ]
    },
    {
     "name": "stdout",
     "output_type": "stream",
     "text": [
      "[1100]\ttrain-mlogloss:0.00476\teval-mlogloss:0.18385\n"
     ]
    },
    {
     "name": "stdout",
     "output_type": "stream",
     "text": [
      "[1200]\ttrain-mlogloss:0.00434\teval-mlogloss:0.18575\n"
     ]
    },
    {
     "name": "stdout",
     "output_type": "stream",
     "text": [
      "[1300]\ttrain-mlogloss:0.00402\teval-mlogloss:0.18717\n"
     ]
    },
    {
     "name": "stdout",
     "output_type": "stream",
     "text": [
      "[1400]\ttrain-mlogloss:0.00375\teval-mlogloss:0.18825\n"
     ]
    },
    {
     "name": "stdout",
     "output_type": "stream",
     "text": [
      "[1403]\ttrain-mlogloss:0.00374\teval-mlogloss:0.18830\n"
     ]
    },
    {
     "name": "stdout",
     "output_type": "stream",
     "text": [
      "[0]\ttrain-mlogloss:1.74300\teval-mlogloss:1.74896\n"
     ]
    },
    {
     "name": "stdout",
     "output_type": "stream",
     "text": [
      "[100]\ttrain-mlogloss:0.11626\teval-mlogloss:0.20469\n"
     ]
    },
    {
     "name": "stdout",
     "output_type": "stream",
     "text": [
      "[200]\ttrain-mlogloss:0.05555\teval-mlogloss:0.17211\n"
     ]
    },
    {
     "name": "stdout",
     "output_type": "stream",
     "text": [
      "[300]\ttrain-mlogloss:0.03136\teval-mlogloss:0.16324\n"
     ]
    },
    {
     "name": "stdout",
     "output_type": "stream",
     "text": [
      "[400]\ttrain-mlogloss:0.02000\teval-mlogloss:0.16151\n"
     ]
    },
    {
     "name": "stdout",
     "output_type": "stream",
     "text": [
      "[500]\ttrain-mlogloss:0.01410\teval-mlogloss:0.16205\n"
     ]
    },
    {
     "name": "stdout",
     "output_type": "stream",
     "text": [
      "[600]\ttrain-mlogloss:0.01072\teval-mlogloss:0.16333\n"
     ]
    },
    {
     "name": "stdout",
     "output_type": "stream",
     "text": [
      "[700]\ttrain-mlogloss:0.00860\teval-mlogloss:0.16546\n"
     ]
    },
    {
     "name": "stdout",
     "output_type": "stream",
     "text": [
      "[800]\ttrain-mlogloss:0.00717\teval-mlogloss:0.16715\n"
     ]
    },
    {
     "name": "stdout",
     "output_type": "stream",
     "text": [
      "[900]\ttrain-mlogloss:0.00616\teval-mlogloss:0.16904\n"
     ]
    },
    {
     "name": "stdout",
     "output_type": "stream",
     "text": [
      "[1000]\ttrain-mlogloss:0.00541\teval-mlogloss:0.17060\n"
     ]
    },
    {
     "name": "stdout",
     "output_type": "stream",
     "text": [
      "[1100]\ttrain-mlogloss:0.00485\teval-mlogloss:0.17179\n"
     ]
    },
    {
     "name": "stdout",
     "output_type": "stream",
     "text": [
      "[1200]\ttrain-mlogloss:0.00442\teval-mlogloss:0.17312\n"
     ]
    },
    {
     "name": "stdout",
     "output_type": "stream",
     "text": [
      "[1300]\ttrain-mlogloss:0.00409\teval-mlogloss:0.17446\n"
     ]
    },
    {
     "name": "stdout",
     "output_type": "stream",
     "text": [
      "[1400]\ttrain-mlogloss:0.00382\teval-mlogloss:0.17559\n"
     ]
    },
    {
     "name": "stdout",
     "output_type": "stream",
     "text": [
      "[1405]\ttrain-mlogloss:0.00380\teval-mlogloss:0.17565\n"
     ]
    },
    {
     "name": "stdout",
     "output_type": "stream",
     "text": [
      "[0]\ttrain-mlogloss:1.74406\teval-mlogloss:1.74749\n"
     ]
    },
    {
     "name": "stdout",
     "output_type": "stream",
     "text": [
      "[50]\ttrain-mlogloss:0.21868\teval-mlogloss:0.27259\n"
     ]
    },
    {
     "name": "stdout",
     "output_type": "stream",
     "text": [
      "[100]\ttrain-mlogloss:0.12664\teval-mlogloss:0.19467\n"
     ]
    },
    {
     "name": "stdout",
     "output_type": "stream",
     "text": [
      "[150]\ttrain-mlogloss:0.09165\teval-mlogloss:0.17169\n"
     ]
    },
    {
     "name": "stdout",
     "output_type": "stream",
     "text": [
      "[200]\ttrain-mlogloss:0.06781\teval-mlogloss:0.15939\n"
     ]
    },
    {
     "name": "stdout",
     "output_type": "stream",
     "text": [
      "[250]\ttrain-mlogloss:0.05227\teval-mlogloss:0.15267\n"
     ]
    },
    {
     "name": "stdout",
     "output_type": "stream",
     "text": [
      "[300]\ttrain-mlogloss:0.04091\teval-mlogloss:0.14810\n"
     ]
    },
    {
     "name": "stdout",
     "output_type": "stream",
     "text": [
      "[350]\ttrain-mlogloss:0.03287\teval-mlogloss:0.14499\n"
     ]
    },
    {
     "name": "stdout",
     "output_type": "stream",
     "text": [
      "[400]\ttrain-mlogloss:0.02653\teval-mlogloss:0.14312\n"
     ]
    },
    {
     "name": "stdout",
     "output_type": "stream",
     "text": [
      "[450]\ttrain-mlogloss:0.02209\teval-mlogloss:0.14229\n"
     ]
    },
    {
     "name": "stdout",
     "output_type": "stream",
     "text": [
      "[500]\ttrain-mlogloss:0.01838\teval-mlogloss:0.14153\n"
     ]
    },
    {
     "name": "stdout",
     "output_type": "stream",
     "text": [
      "[550]\ttrain-mlogloss:0.01565\teval-mlogloss:0.14149\n"
     ]
    },
    {
     "name": "stdout",
     "output_type": "stream",
     "text": [
      "[578]\ttrain-mlogloss:0.01443\teval-mlogloss:0.14152\n"
     ]
    },
    {
     "name": "stdout",
     "output_type": "stream",
     "text": [
      "\n",
      "Classification Report on Test Set:\n",
      "              precision    recall  f1-score   support\n",
      "\n",
      "           0       0.94      0.91      0.93     12407\n",
      "           1       0.95      0.94      0.95     12691\n",
      "           2       0.93      0.94      0.93     12065\n",
      "           3       0.94      0.94      0.94     12665\n",
      "           4       0.96      0.96      0.96     12556\n",
      "           5       0.90      0.94      0.92     10410\n",
      "           6       0.99      0.99      0.99     13698\n",
      "\n",
      "    accuracy                           0.95     86492\n",
      "   macro avg       0.95      0.95      0.95     86492\n",
      "weighted avg       0.95      0.95      0.95     86492\n",
      "\n"
     ]
    },
    {
     "data": {
      "image/png": "[encoded data removed]",
      "text/plain": [
       "<Figure size 640x480 with 1 Axes>"
      ]
     },
     "metadata": {},
     "output_type": "display_data"
    },
    {
     "data": {
      "image/png": "[encoded data removed]",
      "text/plain": [
       "<Figure size 640x480 with 2 Axes>"
      ]
     },
     "metadata": {},
     "output_type": "display_data"
    },
    {
     "name": "stdout",
     "output_type": "stream",
     "text": [
      "{'average_accuracy': 0.9404052695960745, 'average_f1_macro': 0.9390351367530928, 'average_f1_micro': 0.9404052695960745, 'average_auc': 0.997149691626174, 'average_acc_kelas_generatif': 0.9301770256554347, 'average_acc_fase_padi': 0.9367848638264663}\n",
      "{'val_accuracy': 0.9466655875687925, 'val_f1_macro': 0.9454356977469143, 'val_f1_micro': 0.9466655875687925, 'val_auc': 0.9977862870381501, 'val_acc_kelas_generatif': 0.9393604421634426, 'val_acc_fase_padi': 0.9445144766592632, 'val_relative_acc': 99.92453336463801}\n",
      "=============================================================================\n",
      "=============================================================================\n",
      "CLUSTER:  4\n"
     ]
    },
    {
     "name": "stderr",
     "output_type": "stream",
     "text": [
      "[I 2024-10-18 16:56:17,766] A new study created in memory with name: no-name-47afb520-856b-4de1-b88f-d43ef4af0a26\n"
     ]
    },
    {
     "name": "stdout",
     "output_type": "stream",
     "text": [
      "[1 2 6 3 4 0 5]\n",
      "[0 1 2 3 4 5 6]\n",
      "Mapping of original to encoded classes: {0: 0, 1: 1, 2: 2, 3: 3, 4: 4, 5: 5, 6: 6}\n",
      "Build Best Parameter using Optuna-Hyperparameter Tuning\n"
     ]
    },
    {
     "name": "stderr",
     "output_type": "stream",
     "text": [
      "[I 2024-10-18 16:57:08,965] Trial 0 finished with value: 0.821795768877649 and parameters: {'max_depth': 9, 'learning_rate': 0.030460726653898658, 'reg_lambda': 4.289338037762597, 'min_child_weight': 90}. Best is trial 0 with value: 0.821795768877649.\n"
     ]
    },
    {
     "name": "stderr",
     "output_type": "stream",
     "text": [
      "[I 2024-10-18 16:57:52,673] Trial 1 finished with value: 0.8223116302620749 and parameters: {'max_depth': 10, 'learning_rate': 0.04116025249196777, 'reg_lambda': 2.1996276883556978, 'min_child_weight': 75}. Best is trial 1 with value: 0.8223116302620749.\n"
     ]
    },
    {
     "name": "stderr",
     "output_type": "stream",
     "text": [
      "[I 2024-10-18 16:58:25,139] Trial 2 finished with value: 0.821124427492638 and parameters: {'max_depth': 6, 'learning_rate': 0.08015781600327698, 'reg_lambda': 2.5576577090867207, 'min_child_weight': 64}. Best is trial 1 with value: 0.8223116302620749.\n"
     ]
    },
    {
     "name": "stderr",
     "output_type": "stream",
     "text": [
      "[I 2024-10-18 16:59:56,154] Trial 3 finished with value: 0.8180927673016783 and parameters: {'max_depth': 7, 'learning_rate': 0.01098108963488098, 'reg_lambda': 2.4541414601629983, 'min_child_weight': 98}. Best is trial 1 with value: 0.8223116302620749.\n"
     ]
    },
    {
     "name": "stderr",
     "output_type": "stream",
     "text": [
      "[I 2024-10-18 17:00:24,164] Trial 4 finished with value: 0.8208214473341809 and parameters: {'max_depth': 7, 'learning_rate': 0.08676880720182105, 'reg_lambda': 2.9022357079024963, 'min_child_weight': 65}. Best is trial 1 with value: 0.8223116302620749.\n"
     ]
    },
    {
     "name": "stderr",
     "output_type": "stream",
     "text": [
      "[I 2024-10-18 17:01:21,339] Trial 5 finished with value: 0.8208785795184053 and parameters: {'max_depth': 10, 'learning_rate': 0.047948524591080545, 'reg_lambda': 0.8693860778198238, 'min_child_weight': 91}. Best is trial 1 with value: 0.8223116302620749.\n"
     ]
    },
    {
     "name": "stderr",
     "output_type": "stream",
     "text": [
      "[I 2024-10-18 17:02:07,843] Trial 6 finished with value: 0.8226548579469849 and parameters: {'max_depth': 10, 'learning_rate': 0.04130529979759143, 'reg_lambda': 1.5025190927039593, 'min_child_weight': 53}. Best is trial 6 with value: 0.8226548579469849.\n"
     ]
    },
    {
     "name": "stderr",
     "output_type": "stream",
     "text": [
      "[I 2024-10-18 17:02:35,359] Trial 7 finished with value: 0.8214011031630318 and parameters: {'max_depth': 10, 'learning_rate': 0.06008548566287295, 'reg_lambda': 4.055551677525037, 'min_child_weight': 85}. Best is trial 6 with value: 0.8226548579469849.\n"
     ]
    },
    {
     "name": "stderr",
     "output_type": "stream",
     "text": [
      "[I 2024-10-18 17:03:18,466] Trial 8 finished with value: 0.8211924563231613 and parameters: {'max_depth': 8, 'learning_rate': 0.038995896635835525, 'reg_lambda': 2.1681564297612774, 'min_child_weight': 91}. Best is trial 6 with value: 0.8226548579469849.\n"
     ]
    },
    {
     "name": "stderr",
     "output_type": "stream",
     "text": [
      "[I 2024-10-18 17:03:54,897] Trial 9 finished with value: 0.822089880654357 and parameters: {'max_depth': 9, 'learning_rate': 0.054444723854599364, 'reg_lambda': 0.9108194835981684, 'min_child_weight': 87}. Best is trial 6 with value: 0.8226548579469849.\n"
     ]
    },
    {
     "name": "stderr",
     "output_type": "stream",
     "text": [
      "[I 2024-10-18 17:04:21,525] Trial 10 finished with value: 0.8225200348667895 and parameters: {'max_depth': 9, 'learning_rate': 0.07052414169563676, 'reg_lambda': 0.3099000892153856, 'min_child_weight': 50}. Best is trial 6 with value: 0.8226548579469849.\n"
     ]
    },
    {
     "name": "stderr",
     "output_type": "stream",
     "text": [
      "[I 2024-10-18 17:04:50,027] Trial 11 finished with value: 0.8224800158679288 and parameters: {'max_depth': 9, 'learning_rate': 0.06911928091748927, 'reg_lambda': 0.32186086375640016, 'min_child_weight': 51}. Best is trial 6 with value: 0.8226548579469849.\n"
     ]
    },
    {
     "name": "stderr",
     "output_type": "stream",
     "text": [
      "[I 2024-10-18 17:06:05,601] Trial 12 finished with value: 0.8225461182586732 and parameters: {'max_depth': 9, 'learning_rate': 0.023584630079289244, 'reg_lambda': 1.3900552199378302, 'min_child_weight': 52}. Best is trial 6 with value: 0.8226548579469849.\n"
     ]
    },
    {
     "name": "stderr",
     "output_type": "stream",
     "text": [
      "[I 2024-10-18 17:07:29,804] Trial 13 finished with value: 0.8229079117275185 and parameters: {'max_depth': 8, 'learning_rate': 0.01977512550164093, 'reg_lambda': 1.4853323689326765, 'min_child_weight': 59}. Best is trial 13 with value: 0.8229079117275185.\n"
     ]
    },
    {
     "name": "stderr",
     "output_type": "stream",
     "text": [
      "[I 2024-10-18 17:09:09,494] Trial 14 finished with value: 0.820928043772757 and parameters: {'max_depth': 8, 'learning_rate': 0.011446609290940763, 'reg_lambda': 1.3213440093975506, 'min_child_weight': 62}. Best is trial 13 with value: 0.8229079117275185.\n"
     ]
    },
    {
     "name": "stderr",
     "output_type": "stream",
     "text": [
      "[I 2024-10-18 17:09:31,470] Trial 15 finished with value: 0.8216594031806194 and parameters: {'max_depth': 7, 'learning_rate': 0.09974947605415552, 'reg_lambda': 1.380504877505909, 'min_child_weight': 58}. Best is trial 13 with value: 0.8229079117275185.\n"
     ]
    },
    {
     "name": "stderr",
     "output_type": "stream",
     "text": [
      "[I 2024-10-18 17:10:41,222] Trial 16 finished with value: 0.821166436615474 and parameters: {'max_depth': 8, 'learning_rate': 0.027182647756400856, 'reg_lambda': 3.4067772294499417, 'min_child_weight': 72}. Best is trial 13 with value: 0.8229079117275185.\n"
     ]
    },
    {
     "name": "stderr",
     "output_type": "stream",
     "text": [
      "[I 2024-10-18 17:11:56,693] Trial 17 finished with value: 0.8207675679599088 and parameters: {'max_depth': 6, 'learning_rate': 0.02044158189886751, 'reg_lambda': 1.8075544291031722, 'min_child_weight': 71}. Best is trial 13 with value: 0.8229079117275185.\n"
     ]
    },
    {
     "name": "stderr",
     "output_type": "stream",
     "text": [
      "[I 2024-10-18 17:12:49,114] Trial 18 finished with value: 0.8233322785048142 and parameters: {'max_depth': 7, 'learning_rate': 0.03434545634478595, 'reg_lambda': 4.856016411066261, 'min_child_weight': 58}. Best is trial 18 with value: 0.8233322785048142.\n"
     ]
    },
    {
     "name": "stderr",
     "output_type": "stream",
     "text": [
      "[I 2024-10-18 17:13:46,283] Trial 19 finished with value: 0.8203691878232817 and parameters: {'max_depth': 7, 'learning_rate': 0.03084728188683735, 'reg_lambda': 4.997144583111341, 'min_child_weight': 79}. Best is trial 18 with value: 0.8233322785048142.\n"
     ]
    },
    {
     "name": "stdout",
     "output_type": "stream",
     "text": [
      "Best Parameters: {'max_depth': 7, 'learning_rate': 0.03434545634478595, 'reg_lambda': 4.856016411066261, 'min_child_weight': 58}\n",
      "Best Score: 0.8233322785048142\n",
      "Start the modelling\n"
     ]
    },
    {
     "name": "stdout",
     "output_type": "stream",
     "text": [
      "[0]\ttrain-mlogloss:1.87377\teval-mlogloss:1.87482\n"
     ]
    },
    {
     "name": "stdout",
     "output_type": "stream",
     "text": [
      "[100]\ttrain-mlogloss:0.44258\teval-mlogloss:0.54206\n"
     ]
    },
    {
     "name": "stdout",
     "output_type": "stream",
     "text": [
      "[200]\ttrain-mlogloss:0.29836\teval-mlogloss:0.45595\n"
     ]
    },
    {
     "name": "stdout",
     "output_type": "stream",
     "text": [
      "[300]\ttrain-mlogloss:0.23765\teval-mlogloss:0.43673\n"
     ]
    },
    {
     "name": "stdout",
     "output_type": "stream",
     "text": [
      "[400]\ttrain-mlogloss:0.19190\teval-mlogloss:0.42904\n"
     ]
    },
    {
     "name": "stdout",
     "output_type": "stream",
     "text": [
      "[500]\ttrain-mlogloss:0.15844\teval-mlogloss:0.42549\n"
     ]
    },
    {
     "name": "stdout",
     "output_type": "stream",
     "text": [
      "[600]\ttrain-mlogloss:0.13368\teval-mlogloss:0.42481\n"
     ]
    },
    {
     "name": "stdout",
     "output_type": "stream",
     "text": [
      "[700]\ttrain-mlogloss:0.11511\teval-mlogloss:0.42600\n"
     ]
    },
    {
     "name": "stdout",
     "output_type": "stream",
     "text": [
      "[800]\ttrain-mlogloss:0.10006\teval-mlogloss:0.42759\n"
     ]
    },
    {
     "name": "stdout",
     "output_type": "stream",
     "text": [
      "[900]\ttrain-mlogloss:0.08725\teval-mlogloss:0.42967\n"
     ]
    },
    {
     "name": "stdout",
     "output_type": "stream",
     "text": [
      "[1000]\ttrain-mlogloss:0.07692\teval-mlogloss:0.43236\n"
     ]
    },
    {
     "name": "stdout",
     "output_type": "stream",
     "text": [
      "[1100]\ttrain-mlogloss:0.06874\teval-mlogloss:0.43526\n"
     ]
    },
    {
     "name": "stdout",
     "output_type": "stream",
     "text": [
      "[1200]\ttrain-mlogloss:0.06200\teval-mlogloss:0.43773\n"
     ]
    },
    {
     "name": "stdout",
     "output_type": "stream",
     "text": [
      "[1300]\ttrain-mlogloss:0.05632\teval-mlogloss:0.44072\n"
     ]
    },
    {
     "name": "stdout",
     "output_type": "stream",
     "text": [
      "[1400]\ttrain-mlogloss:0.05153\teval-mlogloss:0.44404\n"
     ]
    },
    {
     "name": "stdout",
     "output_type": "stream",
     "text": [
      "[1500]\ttrain-mlogloss:0.04761\teval-mlogloss:0.44711\n"
     ]
    },
    {
     "name": "stdout",
     "output_type": "stream",
     "text": [
      "[1595]\ttrain-mlogloss:0.04404\teval-mlogloss:0.45064\n"
     ]
    },
    {
     "name": "stdout",
     "output_type": "stream",
     "text": [
      "[0]\ttrain-mlogloss:1.87329\teval-mlogloss:1.87398\n"
     ]
    },
    {
     "name": "stdout",
     "output_type": "stream",
     "text": [
      "[100]\ttrain-mlogloss:0.44265\teval-mlogloss:0.54225\n"
     ]
    },
    {
     "name": "stdout",
     "output_type": "stream",
     "text": [
      "[200]\ttrain-mlogloss:0.30433\teval-mlogloss:0.45651\n"
     ]
    },
    {
     "name": "stdout",
     "output_type": "stream",
     "text": [
      "[300]\ttrain-mlogloss:0.23846\teval-mlogloss:0.43686\n"
     ]
    },
    {
     "name": "stdout",
     "output_type": "stream",
     "text": [
      "[400]\ttrain-mlogloss:0.19345\teval-mlogloss:0.42880\n"
     ]
    },
    {
     "name": "stdout",
     "output_type": "stream",
     "text": [
      "[500]\ttrain-mlogloss:0.16014\teval-mlogloss:0.42528\n"
     ]
    },
    {
     "name": "stdout",
     "output_type": "stream",
     "text": [
      "[600]\ttrain-mlogloss:0.13391\teval-mlogloss:0.42460\n"
     ]
    },
    {
     "name": "stdout",
     "output_type": "stream",
     "text": [
      "[700]\ttrain-mlogloss:0.11538\teval-mlogloss:0.42466\n"
     ]
    },
    {
     "name": "stdout",
     "output_type": "stream",
     "text": [
      "[800]\ttrain-mlogloss:0.09978\teval-mlogloss:0.42541\n"
     ]
    },
    {
     "name": "stdout",
     "output_type": "stream",
     "text": [
      "[900]\ttrain-mlogloss:0.08725\teval-mlogloss:0.42763\n"
     ]
    },
    {
     "name": "stdout",
     "output_type": "stream",
     "text": [
      "[1000]\ttrain-mlogloss:0.07646\teval-mlogloss:0.43038\n"
     ]
    },
    {
     "name": "stdout",
     "output_type": "stream",
     "text": [
      "[1100]\ttrain-mlogloss:0.06841\teval-mlogloss:0.43293\n"
     ]
    },
    {
     "name": "stdout",
     "output_type": "stream",
     "text": [
      "[1200]\ttrain-mlogloss:0.06136\teval-mlogloss:0.43593\n"
     ]
    },
    {
     "name": "stdout",
     "output_type": "stream",
     "text": [
      "[1300]\ttrain-mlogloss:0.05575\teval-mlogloss:0.43843\n"
     ]
    },
    {
     "name": "stdout",
     "output_type": "stream",
     "text": [
      "[1400]\ttrain-mlogloss:0.05077\teval-mlogloss:0.44116\n"
     ]
    },
    {
     "name": "stdout",
     "output_type": "stream",
     "text": [
      "[1500]\ttrain-mlogloss:0.04686\teval-mlogloss:0.44404\n"
     ]
    },
    {
     "name": "stdout",
     "output_type": "stream",
     "text": [
      "[1600]\ttrain-mlogloss:0.04356\teval-mlogloss:0.44730\n"
     ]
    },
    {
     "name": "stdout",
     "output_type": "stream",
     "text": [
      "[1658]\ttrain-mlogloss:0.04148\teval-mlogloss:0.44941\n"
     ]
    },
    {
     "name": "stdout",
     "output_type": "stream",
     "text": [
      "[0]\ttrain-mlogloss:1.87309\teval-mlogloss:1.87446\n"
     ]
    },
    {
     "name": "stdout",
     "output_type": "stream",
     "text": [
      "[100]\ttrain-mlogloss:0.43341\teval-mlogloss:0.55577\n"
     ]
    },
    {
     "name": "stdout",
     "output_type": "stream",
     "text": [
      "[200]\ttrain-mlogloss:0.28858\teval-mlogloss:0.47275\n"
     ]
    },
    {
     "name": "stdout",
     "output_type": "stream",
     "text": [
      "[300]\ttrain-mlogloss:0.22507\teval-mlogloss:0.45431\n"
     ]
    },
    {
     "name": "stdout",
     "output_type": "stream",
     "text": [
      "[400]\ttrain-mlogloss:0.18170\teval-mlogloss:0.44615\n"
     ]
    },
    {
     "name": "stdout",
     "output_type": "stream",
     "text": [
      "[500]\ttrain-mlogloss:0.15078\teval-mlogloss:0.44359\n"
     ]
    },
    {
     "name": "stdout",
     "output_type": "stream",
     "text": [
      "[600]\ttrain-mlogloss:0.12841\teval-mlogloss:0.44451\n"
     ]
    },
    {
     "name": "stdout",
     "output_type": "stream",
     "text": [
      "[700]\ttrain-mlogloss:0.10965\teval-mlogloss:0.44596\n"
     ]
    },
    {
     "name": "stdout",
     "output_type": "stream",
     "text": [
      "[800]\ttrain-mlogloss:0.09483\teval-mlogloss:0.44883\n"
     ]
    },
    {
     "name": "stdout",
     "output_type": "stream",
     "text": [
      "[900]\ttrain-mlogloss:0.08326\teval-mlogloss:0.45183\n"
     ]
    },
    {
     "name": "stdout",
     "output_type": "stream",
     "text": [
      "[1000]\ttrain-mlogloss:0.07376\teval-mlogloss:0.45566\n"
     ]
    },
    {
     "name": "stdout",
     "output_type": "stream",
     "text": [
      "[1100]\ttrain-mlogloss:0.06609\teval-mlogloss:0.45916\n"
     ]
    },
    {
     "name": "stdout",
     "output_type": "stream",
     "text": [
      "[1200]\ttrain-mlogloss:0.05956\teval-mlogloss:0.46314\n"
     ]
    },
    {
     "name": "stdout",
     "output_type": "stream",
     "text": [
      "[1300]\ttrain-mlogloss:0.05471\teval-mlogloss:0.46707\n"
     ]
    },
    {
     "name": "stdout",
     "output_type": "stream",
     "text": [
      "[1400]\ttrain-mlogloss:0.05037\teval-mlogloss:0.47085\n"
     ]
    },
    {
     "name": "stdout",
     "output_type": "stream",
     "text": [
      "[1500]\ttrain-mlogloss:0.04619\teval-mlogloss:0.47430\n"
     ]
    },
    {
     "name": "stdout",
     "output_type": "stream",
     "text": [
      "[1525]\ttrain-mlogloss:0.04522\teval-mlogloss:0.47506\n"
     ]
    },
    {
     "name": "stdout",
     "output_type": "stream",
     "text": [
      "[0]\ttrain-mlogloss:1.87263\teval-mlogloss:1.87286\n"
     ]
    },
    {
     "name": "stdout",
     "output_type": "stream",
     "text": [
      "[50]\ttrain-mlogloss:0.69858\teval-mlogloss:0.73179\n"
     ]
    },
    {
     "name": "stdout",
     "output_type": "stream",
     "text": [
      "[100]\ttrain-mlogloss:0.45843\teval-mlogloss:0.52591\n"
     ]
    },
    {
     "name": "stdout",
     "output_type": "stream",
     "text": [
      "[150]\ttrain-mlogloss:0.36877\teval-mlogloss:0.46152\n"
     ]
    },
    {
     "name": "stdout",
     "output_type": "stream",
     "text": [
      "[200]\ttrain-mlogloss:0.32211\teval-mlogloss:0.43644\n"
     ]
    },
    {
     "name": "stdout",
     "output_type": "stream",
     "text": [
      "[250]\ttrain-mlogloss:0.28875\teval-mlogloss:0.42272\n"
     ]
    },
    {
     "name": "stdout",
     "output_type": "stream",
     "text": [
      "[300]\ttrain-mlogloss:0.26354\teval-mlogloss:0.41480\n"
     ]
    },
    {
     "name": "stdout",
     "output_type": "stream",
     "text": [
      "[350]\ttrain-mlogloss:0.24281\teval-mlogloss:0.40971\n"
     ]
    },
    {
     "name": "stdout",
     "output_type": "stream",
     "text": [
      "[400]\ttrain-mlogloss:0.22504\teval-mlogloss:0.40615\n"
     ]
    },
    {
     "name": "stdout",
     "output_type": "stream",
     "text": [
      "[450]\ttrain-mlogloss:0.20776\teval-mlogloss:0.40295\n"
     ]
    },
    {
     "name": "stdout",
     "output_type": "stream",
     "text": [
      "[500]\ttrain-mlogloss:0.19322\teval-mlogloss:0.40066\n"
     ]
    },
    {
     "name": "stdout",
     "output_type": "stream",
     "text": [
      "[550]\ttrain-mlogloss:0.18110\teval-mlogloss:0.39885\n"
     ]
    },
    {
     "name": "stdout",
     "output_type": "stream",
     "text": [
      "[600]\ttrain-mlogloss:0.16872\teval-mlogloss:0.39742\n"
     ]
    },
    {
     "name": "stdout",
     "output_type": "stream",
     "text": [
      "[650]\ttrain-mlogloss:0.15808\teval-mlogloss:0.39645\n"
     ]
    },
    {
     "name": "stdout",
     "output_type": "stream",
     "text": [
      "[700]\ttrain-mlogloss:0.14752\teval-mlogloss:0.39573\n"
     ]
    },
    {
     "name": "stdout",
     "output_type": "stream",
     "text": [
      "[750]\ttrain-mlogloss:0.13869\teval-mlogloss:0.39532\n"
     ]
    },
    {
     "name": "stdout",
     "output_type": "stream",
     "text": [
      "[800]\ttrain-mlogloss:0.13051\teval-mlogloss:0.39513\n"
     ]
    },
    {
     "name": "stdout",
     "output_type": "stream",
     "text": [
      "[850]\ttrain-mlogloss:0.12171\teval-mlogloss:0.39506\n"
     ]
    },
    {
     "name": "stdout",
     "output_type": "stream",
     "text": [
      "[883]\ttrain-mlogloss:0.11696\teval-mlogloss:0.39522\n"
     ]
    },
    {
     "name": "stdout",
     "output_type": "stream",
     "text": [
      "\n",
      "Classification Report on Test Set:\n",
      "              precision    recall  f1-score   support\n",
      "\n",
      "           0       0.85      0.89      0.87     11421\n",
      "           1       0.90      0.94      0.92     11152\n",
      "           2       0.85      0.81      0.83      6521\n",
      "           3       0.95      0.95      0.95     11569\n",
      "           4       0.93      0.95      0.94      9180\n",
      "           5       0.72      0.65      0.68      5468\n",
      "           6       0.68      0.64      0.66      6575\n",
      "\n",
      "    accuracy                           0.86     61886\n",
      "   macro avg       0.84      0.83      0.84     61886\n",
      "weighted avg       0.86      0.86      0.86     61886\n",
      "\n"
     ]
    },
    {
     "data": {
      "image/png": "[encoded data removed]",
      "text/plain": [
       "<Figure size 640x480 with 1 Axes>"
      ]
     },
     "metadata": {},
     "output_type": "display_data"
    },
    {
     "data": {
      "image/png": "[encoded data removed]",
      "text/plain": [
       "<Figure size 640x480 with 2 Axes>"
      ]
     },
     "metadata": {},
     "output_type": "display_data"
    },
    {
     "name": "stdout",
     "output_type": "stream",
     "text": [
      "{'average_accuracy': 0.8514816390043441, 'average_f1_macro': 0.8221848088780684, 'average_f1_micro': 0.8514816390043441, 'average_auc': 0.9732416870431922, 'average_acc_kelas_generatif': 0.947357679216549, 'average_acc_fase_padi': 0.9152749022207326}\n",
      "{'val_accuracy': 0.8625214103351323, 'val_f1_macro': 0.8353796582424476, 'val_f1_micro': 0.8625214103351323, 'val_auc': 0.9769273455778463, 'val_acc_kelas_generatif': 0.9452848128619586, 'val_acc_fase_padi': 0.9220498672635469, 'val_relative_acc': 99.80358398603263}\n",
      "=============================================================================\n"
     ]
    }
   ],
   "source": [
    "from sklearn.preprocessing import StandardScaler, LabelEncoder\n",
    "df['observation']=df['observation'].apply(lambda y: int(y))\n",
    "dict_report={}\n",
    "for i in np.sort(df.cluster_data.unique()):\n",
    "    print('=============================================================================')\n",
    "    print('CLUSTER: ', i)\n",
    "    df_x = df.query('cluster_data==@i')\n",
    "    sns.countplot(x='observation', hue='cluster_data', data=df_x,palette=sns.color_palette(\"Set2\"))\n",
    "    plt.savefig(f\"/data/ksa/05_Modelling/picture/{kdprov}_distplot_cluster_{i}.png\", dpi=300, bbox_inches='tight')\n",
    "    X_train, X_test, y_train, y_test = get_train_test(df_x, 0.7)\n",
    "    # Encode the labels\n",
    "    label_encoder = LabelEncoder()\n",
    "    y_train_encoded = label_encoder.fit_transform(y_train)\n",
    "    y_test_encoded = label_encoder.transform(y_test)\n",
    "    \n",
    "    # Output the unique encoded labels and the mapping\n",
    "    print(np.unique(y_train_encoded))\n",
    "    class_mapping = dict(zip(label_encoder.classes_, label_encoder.transform(label_encoder.classes_)))\n",
    "    print(\"Mapping of original to encoded classes:\", class_mapping)\n",
    "    \n",
    "    # Create an Optuna study and optimize the objective function\n",
    "    print('Build Best Parameter using Optuna-Hyperparameter Tuning')\n",
    "    study = optuna.create_study(direction='maximize')  # 'maximize' because we are optimizing accuracy\n",
    "    study.optimize(lambda trial: objective(trial, X_train, y_train_encoded), n_trials=20)  # Run for 50 trials\n",
    "    # Print the best parameters and the best score\n",
    "    print(f\"Best Parameters: {study.best_params}\")\n",
    "    print(f\"Best Score: {study.best_value}\")\n",
    "\n",
    "    print('Start the modelling')\n",
    "    model0, training_metrics0, validation_metrics0, report0, cm0 = evaluate_model(\n",
    "        X_train, y_train_encoded, X_test, y_test_encoded,cluster=i,best_params=study.best_params)\n",
    "    \n",
    "    dict_report[i]={'model':model0,\n",
    "                    'training_metrics':training_metrics0,\n",
    "                    'validation_metrics':validation_metrics0,\n",
    "                    'reports':report0,\n",
    "                    'cm':cm0,\n",
    "                    'params':study.best_params}\n",
    "    # Print the training and validation metrics\n",
    "    print(training_metrics0)\n",
    "    print(validation_metrics0)\n",
    "    print('=============================================================================')\n",
    "\n",
    "\n"
   ]
  },
  {
   "cell_type": "code",
   "execution_count": 11,
   "id": "26743d1e-45c9-4c26-81de-46e9f11f1698",
   "metadata": {
    "execution": {
     "iopub.execute_input": "2024-10-18T10:16:41.668771Z",
     "iopub.status.busy": "2024-10-18T10:16:41.667991Z",
     "iopub.status.idle": "2024-10-18T10:16:42.271593Z",
     "shell.execute_reply": "2024-10-18T10:16:42.270451Z"
    },
    "papermill": {
     "duration": 0.643669,
     "end_time": "2024-10-18T10:16:42.274229",
     "exception": false,
     "start_time": "2024-10-18T10:16:41.630560",
     "status": "completed"
    },
    "tags": []
   },
   "outputs": [],
   "source": [
    "with open(f'/data/ksa/05_Modelling/model/xgboost{kdprov}_v2.pkl','wb') as file:\n",
    "    pickle.dump(dict_report,file)"
   ]
  }
 ],
 "metadata": {
  "kernelspec": {
   "display_name": "Python 3 (ipykernel)",
   "language": "python",
   "name": "python3"
  },
  "language_info": {
   "codemirror_mode": {
    "name": "ipython",
    "version": 3
   },
   "file_extension": ".py",
   "mimetype": "text/x-python",
   "name": "python",
   "nbconvert_exporter": "python",
   "pygments_lexer": "ipython3",
   "version": "3.10.14"
  },
  "papermill": {
   "default_parameters": {},
   "duration": 4677.117165,
   "end_time": "2024-10-18T10:16:43.716870",
   "environment_variables": {},
   "exception": null,
   "input_path": "XGBOOST Base model.ipynb",
   "output_path": "XGBOOST_18.ipynb",
   "parameters": {
    "kdprov": 18
   },
   "start_time": "2024-10-18T08:58:46.599705",
   "version": "2.6.0"
  }
 },
 "nbformat": 4,
 "nbformat_minor": 5
}
