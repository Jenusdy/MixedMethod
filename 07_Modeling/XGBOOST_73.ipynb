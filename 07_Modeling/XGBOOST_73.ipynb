{
 "cells": [
  {
   "cell_type": "code",
   "execution_count": 1,
   "id": "d37f5160-5e12-40a3-8dc9-2d929bd94327",
   "metadata": {
    "execution": {
     "iopub.execute_input": "2024-10-23T03:54:47.706530Z",
     "iopub.status.busy": "2024-10-23T03:54:47.705425Z",
     "iopub.status.idle": "2024-10-23T03:54:51.578759Z",
     "shell.execute_reply": "2024-10-23T03:54:51.577796Z"
    },
    "papermill": {
     "duration": 3.882544,
     "end_time": "2024-10-23T03:54:51.580527",
     "exception": false,
     "start_time": "2024-10-23T03:54:47.697983",
     "status": "completed"
    },
    "tags": []
   },
   "outputs": [
    {
     "name": "stderr",
     "output_type": "stream",
     "text": [
      "/data/home/defi.nurshaleha/.local/lib/python3.10/site-packages/tqdm/auto.py:21: TqdmWarning: IProgress not found. Please update jupyter and ipywidgets. See https://ipywidgets.readthedocs.io/en/stable/user_install.html\n",
      "  from .autonotebook import tqdm as notebook_tqdm\n"
     ]
    }
   ],
   "source": [
    "import pandas as pd\n",
    "import geopandas as gpd\n",
    "import numpy as np\n",
    "import matplotlib.pyplot as plt\n",
    "import seaborn as sns\n",
    "import os\n",
    "from glob import glob\n",
    "import polars as pl\n",
    "import xgboost as xgb\n",
    "import optuna\n",
    "from sklearn.model_selection import StratifiedKFold, cross_val_score\n",
    "from sklearn.metrics import accuracy_score\n",
    "from sklearn.model_selection import train_test_split, cross_validate\n",
    "from sklearn.metrics import classification_report, confusion_matrix, ConfusionMatrixDisplay, accuracy_score, make_scorer, f1_score, roc_auc_score\n",
    "from sklearn.preprocessing import LabelEncoder\n",
    "import warnings\n",
    "\n",
    "# Suppress warnings globally\n",
    "warnings.filterwarnings(\"ignore\", category=UserWarning)\n",
    "warnings.filterwarnings(\"ignore\", category=DeprecationWarning)\n",
    "import pickle\n",
    "import warnings\n",
    "warnings.simplefilter(action='ignore', category=FutureWarning)\n",
    "warnings.simplefilter(action='ignore', category=pd.errors.SettingWithCopyWarning)\n",
    "from collections import Counter\n",
    "import numpy as np\n",
    "warnings.filterwarnings(\"ignore\", category=RuntimeWarning)"
   ]
  },
  {
   "cell_type": "code",
   "execution_count": 2,
   "id": "1164ac8a-4c5a-456c-a6c9-4e3f8f1fff85",
   "metadata": {
    "execution": {
     "iopub.execute_input": "2024-10-23T03:54:51.591388Z",
     "iopub.status.busy": "2024-10-23T03:54:51.590523Z",
     "iopub.status.idle": "2024-10-23T03:54:51.596850Z",
     "shell.execute_reply": "2024-10-23T03:54:51.596095Z"
    },
    "papermill": {
     "duration": 0.013775,
     "end_time": "2024-10-23T03:54:51.598785",
     "exception": false,
     "start_time": "2024-10-23T03:54:51.585010",
     "status": "completed"
    },
    "tags": []
   },
   "outputs": [],
   "source": [
    "def get_train_test(df, test_size):\n",
    "    # Make X and Y dataset\n",
    "    y = df.observation\n",
    "    print(y.unique())\n",
    "    X = df.loc[:,'VH_30':'VH_0']\n",
    "    X['nth'] = df.loc[:,'nth']\n",
    "    X['nth'] = X.nth.astype('category')\n",
    "    X_train, X_test, y_train, y_test = train_test_split(X, y, test_size=test_size, random_state=1234, stratify=y)\n",
    "    return X_train, X_test, y_train, y_test"
   ]
  },
  {
   "cell_type": "code",
   "execution_count": 3,
   "id": "02aaee39-f4fe-424f-a54a-71ae90874e0c",
   "metadata": {
    "execution": {
     "iopub.execute_input": "2024-10-23T03:54:51.609517Z",
     "iopub.status.busy": "2024-10-23T03:54:51.609163Z",
     "iopub.status.idle": "2024-10-23T03:54:51.616091Z",
     "shell.execute_reply": "2024-10-23T03:54:51.615323Z"
    },
    "papermill": {
     "duration": 0.018275,
     "end_time": "2024-10-23T03:54:51.621654",
     "exception": false,
     "start_time": "2024-10-23T03:54:51.603379",
     "status": "completed"
    },
    "tags": []
   },
   "outputs": [],
   "source": [
    "def akurasi_kelas_generatif(y_true, y_pred):\n",
    "    # Calculate accuracy specifically for class 3\n",
    "    class_3_mask = (y_true == 3)\n",
    "    if np.any(class_3_mask):  # Check if class 3 is present in the true labels\n",
    "        return accuracy_score(y_true[class_3_mask], y_pred[class_3_mask])\n",
    "    else:\n",
    "        return 0.0  # Return 0 if class 3 is not present in the true labels\n",
    "\n",
    "def akurasi_fase_padi(y_true, y_pred):\n",
    "    # Calculate accuracy specifically for classes 1, 2, 3, and 4\n",
    "    class_1234_mask = (y_true >= 1) & (y_true <= 4)\n",
    "    if np.any(class_1234_mask):  # Check if classes 1,2,3,4 are present in the true labels\n",
    "        return accuracy_score(y_true[class_1234_mask], y_pred[class_1234_mask])\n",
    "    else:\n",
    "        return 0.0  # Return 0 if none of the classes 0-3 are present in the true labels"
   ]
  },
  {
   "cell_type": "code",
   "execution_count": 4,
   "id": "9bc8ab03-1717-47d9-95ea-75e3db819b06",
   "metadata": {
    "editable": true,
    "execution": {
     "iopub.execute_input": "2024-10-23T03:54:51.629870Z",
     "iopub.status.busy": "2024-10-23T03:54:51.629203Z",
     "iopub.status.idle": "2024-10-23T03:54:51.633310Z",
     "shell.execute_reply": "2024-10-23T03:54:51.632458Z"
    },
    "papermill": {
     "duration": 0.010079,
     "end_time": "2024-10-23T03:54:51.634965",
     "exception": false,
     "start_time": "2024-10-23T03:54:51.624886",
     "status": "completed"
    },
    "slideshow": {
     "slide_type": ""
    },
    "tags": [
     "parameters"
    ]
   },
   "outputs": [],
   "source": [
    "kdprov='32'"
   ]
  },
  {
   "cell_type": "code",
   "execution_count": 5,
   "id": "143a8617",
   "metadata": {
    "execution": {
     "iopub.execute_input": "2024-10-23T03:54:51.643216Z",
     "iopub.status.busy": "2024-10-23T03:54:51.642341Z",
     "iopub.status.idle": "2024-10-23T03:54:51.646616Z",
     "shell.execute_reply": "2024-10-23T03:54:51.645715Z"
    },
    "papermill": {
     "duration": 0.010076,
     "end_time": "2024-10-23T03:54:51.648428",
     "exception": false,
     "start_time": "2024-10-23T03:54:51.638352",
     "status": "completed"
    },
    "tags": [
     "injected-parameters"
    ]
   },
   "outputs": [],
   "source": [
    "# Parameters\n",
    "kdprov = 73\n"
   ]
  },
  {
   "cell_type": "code",
   "execution_count": 6,
   "id": "7e0bd5e8-90ad-4dac-938b-2892a96e6ea4",
   "metadata": {
    "editable": true,
    "execution": {
     "iopub.execute_input": "2024-10-23T03:54:51.657866Z",
     "iopub.status.busy": "2024-10-23T03:54:51.657456Z",
     "iopub.status.idle": "2024-10-23T03:54:52.377534Z",
     "shell.execute_reply": "2024-10-23T03:54:52.376189Z"
    },
    "papermill": {
     "duration": 0.729733,
     "end_time": "2024-10-23T03:54:52.381697",
     "exception": false,
     "start_time": "2024-10-23T03:54:51.651964",
     "status": "completed"
    },
    "slideshow": {
     "slide_type": ""
    },
    "tags": []
   },
   "outputs": [
    {
     "name": "stdout",
     "output_type": "stream",
     "text": [
      "(759334, 44)\n"
     ]
    },
    {
     "data": {
      "text/html": [
       "<div>\n",
       "<style scoped>\n",
       "    .dataframe tbody tr th:only-of-type {\n",
       "        vertical-align: middle;\n",
       "    }\n",
       "\n",
       "    .dataframe tbody tr th {\n",
       "        vertical-align: top;\n",
       "    }\n",
       "\n",
       "    .dataframe thead th {\n",
       "        text-align: right;\n",
       "    }\n",
       "</style>\n",
       "<table border=\"1\" class=\"dataframe\">\n",
       "  <thead>\n",
       "    <tr style=\"text-align: right;\">\n",
       "      <th></th>\n",
       "      <th>idpoint</th>\n",
       "      <th>idsubsegment</th>\n",
       "      <th>idsegment</th>\n",
       "      <th>nth</th>\n",
       "      <th>periode</th>\n",
       "      <th>observation</th>\n",
       "      <th>class</th>\n",
       "      <th>MGRS</th>\n",
       "      <th>VH_30</th>\n",
       "      <th>VH_29</th>\n",
       "      <th>...</th>\n",
       "      <th>VH_4</th>\n",
       "      <th>VH_3</th>\n",
       "      <th>VH_2</th>\n",
       "      <th>VH_1</th>\n",
       "      <th>VH_0</th>\n",
       "      <th>idkabkota</th>\n",
       "      <th>cluster_data</th>\n",
       "      <th>Sigma0VH_variance</th>\n",
       "      <th>winner</th>\n",
       "      <th>prior</th>\n",
       "    </tr>\n",
       "  </thead>\n",
       "  <tbody>\n",
       "    <tr>\n",
       "      <th>0</th>\n",
       "      <td>730401003B1#06</td>\n",
       "      <td>730401003B1</td>\n",
       "      <td>730401003</td>\n",
       "      <td>1</td>\n",
       "      <td>2022_03</td>\n",
       "      <td>6</td>\n",
       "      <td>NP</td>\n",
       "      <td>50MQU</td>\n",
       "      <td>-15.026655</td>\n",
       "      <td>-14.199703</td>\n",
       "      <td>...</td>\n",
       "      <td>-15.914576</td>\n",
       "      <td>-15.166912</td>\n",
       "      <td>-15.157628</td>\n",
       "      <td>-14.478301</td>\n",
       "      <td>-15.180691</td>\n",
       "      <td>7304</td>\n",
       "      <td>1</td>\n",
       "      <td>0.698795</td>\n",
       "      <td>R0C8</td>\n",
       "      <td>0.543411</td>\n",
       "    </tr>\n",
       "    <tr>\n",
       "      <th>1</th>\n",
       "      <td>730401005B2#11</td>\n",
       "      <td>730401005B2</td>\n",
       "      <td>730401005</td>\n",
       "      <td>1</td>\n",
       "      <td>2022_03</td>\n",
       "      <td>6</td>\n",
       "      <td>NP</td>\n",
       "      <td>50MQU</td>\n",
       "      <td>-16.516833</td>\n",
       "      <td>-16.747320</td>\n",
       "      <td>...</td>\n",
       "      <td>-17.791132</td>\n",
       "      <td>-15.621688</td>\n",
       "      <td>-13.369461</td>\n",
       "      <td>-15.770675</td>\n",
       "      <td>-15.094735</td>\n",
       "      <td>7304</td>\n",
       "      <td>1</td>\n",
       "      <td>0.812662</td>\n",
       "      <td>R16C16</td>\n",
       "      <td>0.418226</td>\n",
       "    </tr>\n",
       "    <tr>\n",
       "      <th>2</th>\n",
       "      <td>730401005B2#13</td>\n",
       "      <td>730401005B2</td>\n",
       "      <td>730401005</td>\n",
       "      <td>1</td>\n",
       "      <td>2022_03</td>\n",
       "      <td>6</td>\n",
       "      <td>NP</td>\n",
       "      <td>50MQU</td>\n",
       "      <td>-17.081285</td>\n",
       "      <td>-16.987770</td>\n",
       "      <td>...</td>\n",
       "      <td>-16.734287</td>\n",
       "      <td>-14.950584</td>\n",
       "      <td>-13.286027</td>\n",
       "      <td>-15.321240</td>\n",
       "      <td>-14.959860</td>\n",
       "      <td>7304</td>\n",
       "      <td>1</td>\n",
       "      <td>0.812662</td>\n",
       "      <td>R16C16</td>\n",
       "      <td>0.418226</td>\n",
       "    </tr>\n",
       "    <tr>\n",
       "      <th>3</th>\n",
       "      <td>730401007B1#01</td>\n",
       "      <td>730401007B1</td>\n",
       "      <td>730401007</td>\n",
       "      <td>1</td>\n",
       "      <td>2022_03</td>\n",
       "      <td>2</td>\n",
       "      <td>V2</td>\n",
       "      <td>50MQU</td>\n",
       "      <td>-20.461194</td>\n",
       "      <td>-18.684690</td>\n",
       "      <td>...</td>\n",
       "      <td>-22.450989</td>\n",
       "      <td>-22.957167</td>\n",
       "      <td>-26.829348</td>\n",
       "      <td>-23.570656</td>\n",
       "      <td>-21.312048</td>\n",
       "      <td>7304</td>\n",
       "      <td>1</td>\n",
       "      <td>0.639578</td>\n",
       "      <td>R5C18</td>\n",
       "      <td>0.475817</td>\n",
       "    </tr>\n",
       "    <tr>\n",
       "      <th>4</th>\n",
       "      <td>730401007B1#02</td>\n",
       "      <td>730401007B1</td>\n",
       "      <td>730401007</td>\n",
       "      <td>1</td>\n",
       "      <td>2022_03</td>\n",
       "      <td>2</td>\n",
       "      <td>V2</td>\n",
       "      <td>50MQU</td>\n",
       "      <td>-20.795874</td>\n",
       "      <td>-18.227310</td>\n",
       "      <td>...</td>\n",
       "      <td>-20.526600</td>\n",
       "      <td>-22.162128</td>\n",
       "      <td>-26.000465</td>\n",
       "      <td>-23.961231</td>\n",
       "      <td>-21.411504</td>\n",
       "      <td>7304</td>\n",
       "      <td>1</td>\n",
       "      <td>0.639578</td>\n",
       "      <td>R5C18</td>\n",
       "      <td>0.475817</td>\n",
       "    </tr>\n",
       "  </tbody>\n",
       "</table>\n",
       "<p>5 rows × 44 columns</p>\n",
       "</div>"
      ],
      "text/plain": [
       "          idpoint idsubsegment  idsegment  nth  periode  observation class  \\\n",
       "0  730401003B1#06  730401003B1  730401003    1  2022_03            6    NP   \n",
       "1  730401005B2#11  730401005B2  730401005    1  2022_03            6    NP   \n",
       "2  730401005B2#13  730401005B2  730401005    1  2022_03            6    NP   \n",
       "3  730401007B1#01  730401007B1  730401007    1  2022_03            2    V2   \n",
       "4  730401007B1#02  730401007B1  730401007    1  2022_03            2    V2   \n",
       "\n",
       "    MGRS      VH_30      VH_29  ...       VH_4       VH_3       VH_2  \\\n",
       "0  50MQU -15.026655 -14.199703  ... -15.914576 -15.166912 -15.157628   \n",
       "1  50MQU -16.516833 -16.747320  ... -17.791132 -15.621688 -13.369461   \n",
       "2  50MQU -17.081285 -16.987770  ... -16.734287 -14.950584 -13.286027   \n",
       "3  50MQU -20.461194 -18.684690  ... -22.450989 -22.957167 -26.829348   \n",
       "4  50MQU -20.795874 -18.227310  ... -20.526600 -22.162128 -26.000465   \n",
       "\n",
       "        VH_1       VH_0  idkabkota  cluster_data  Sigma0VH_variance  winner  \\\n",
       "0 -14.478301 -15.180691       7304             1           0.698795    R0C8   \n",
       "1 -15.770675 -15.094735       7304             1           0.812662  R16C16   \n",
       "2 -15.321240 -14.959860       7304             1           0.812662  R16C16   \n",
       "3 -23.570656 -21.312048       7304             1           0.639578   R5C18   \n",
       "4 -23.961231 -21.411504       7304             1           0.639578   R5C18   \n",
       "\n",
       "      prior  \n",
       "0  0.543411  \n",
       "1  0.418226  \n",
       "2  0.418226  \n",
       "3  0.475817  \n",
       "4  0.475817  \n",
       "\n",
       "[5 rows x 44 columns]"
      ]
     },
     "execution_count": 6,
     "metadata": {},
     "output_type": "execute_result"
    }
   ],
   "source": [
    "## Read VH dataset\n",
    "with open(f'/data/ksa/04_Data_Preprocessing/training-test/{kdprov}/training_VH_v2.pkl','rb') as file:\n",
    "    df=pickle.load(file)\n",
    "    if isinstance(df, pl.DataFrame):\n",
    "        df=df.to_pandas()\n",
    "print(df.shape)\n",
    "df.head()"
   ]
  },
  {
   "cell_type": "code",
   "execution_count": 7,
   "id": "ba9b5bc3-277c-4dc7-8e2b-40debb17c2cf",
   "metadata": {
    "execution": {
     "iopub.execute_input": "2024-10-23T03:54:52.391222Z",
     "iopub.status.busy": "2024-10-23T03:54:52.390504Z",
     "iopub.status.idle": "2024-10-23T03:54:54.577945Z",
     "shell.execute_reply": "2024-10-23T03:54:54.577161Z"
    },
    "papermill": {
     "duration": 2.19406,
     "end_time": "2024-10-23T03:54:54.579810",
     "exception": false,
     "start_time": "2024-10-23T03:54:52.385750",
     "status": "completed"
    },
    "tags": []
   },
   "outputs": [
    {
     "data": {
      "image/png": "[encoded data removed]",
      "text/plain": [
       "<Figure size 640x480 with 1 Axes>"
      ]
     },
     "metadata": {},
     "output_type": "display_data"
    }
   ],
   "source": [
    "sns.countplot(x='observation', hue='cluster_data', data=df,palette=sns.color_palette(\"Set2\"))\n",
    "plt.savefig(f\"/data/ksa/05_Modelling/picture/{kdprov}_distirbution_plot.png\", dpi=300, bbox_inches='tight')\n"
   ]
  },
  {
   "cell_type": "markdown",
   "id": "da80a265-9a12-4d2c-8b96-17ad999f2b53",
   "metadata": {
    "papermill": {
     "duration": 0.003911,
     "end_time": "2024-10-23T03:54:54.588100",
     "exception": false,
     "start_time": "2024-10-23T03:54:54.584189",
     "status": "completed"
    },
    "tags": []
   },
   "source": [
    "### Running Data"
   ]
  },
  {
   "cell_type": "code",
   "execution_count": 8,
   "id": "94f2a9fa-36a6-47a7-ab48-85cdb1f2f569",
   "metadata": {
    "execution": {
     "iopub.execute_input": "2024-10-23T03:54:54.645846Z",
     "iopub.status.busy": "2024-10-23T03:54:54.645277Z",
     "iopub.status.idle": "2024-10-23T03:54:54.656055Z",
     "shell.execute_reply": "2024-10-23T03:54:54.655317Z"
    },
    "papermill": {
     "duration": 0.021485,
     "end_time": "2024-10-23T03:54:54.660835",
     "exception": false,
     "start_time": "2024-10-23T03:54:54.639350",
     "status": "completed"
    },
    "tags": []
   },
   "outputs": [],
   "source": [
    "import optuna\n",
    "from xgboost import XGBClassifier\n",
    "\n",
    "# Example dataset\n",
    "\n",
    "# Define the objective function for Bayesian Optimization\n",
    "def objective(trial,X_train, y_train, n_splits=3):\n",
    "    \n",
    "    param = {\n",
    "        'max_depth': trial.suggest_int('max_depth', 6, 10),\n",
    "        'learning_rate': trial.suggest_uniform('learning_rate', 0.01, 0.1),\n",
    "        #'subsample': trial.suggest_uniform('subsample', 0.5, 0.7),\n",
    "        #'colsample_bytree': trial.suggest_uniform('colsample_bytree', 0.5, 0.7),\n",
    "        #'colsample_bylevel': trial.suggest_uniform('colsample_bylevel', 0.5, 0.7),\n",
    "        'reg_lambda': trial.suggest_uniform('reg_lambda', 0.1, 5),\n",
    "        'min_child_weight': trial.suggest_int('min_child_weight', 50, 100),\n",
    "        'objective': 'multi:softprob',  # Multiclass classification\n",
    "        'eval_metric': ['mlogloss'],\n",
    "        \"tree_method\":'hist',\n",
    "        \"num_class\": len(set(y_train)),\n",
    "        \"nthread\":20\n",
    "    }\n",
    "    \n",
    "    # Define the model\n",
    "    skf = StratifiedKFold(n_splits=n_splits,shuffle=True, random_state=42)\n",
    "    f1_macros=[]\n",
    "    for train_index, val_index in skf.split(X_train, y_train):\n",
    "        X_train_fold, X_val_fold = X_train.iloc[train_index], X_train.iloc[val_index]\n",
    "        y_train_fold, y_val_fold = y_train[train_index], y_train[val_index]\n",
    "\n",
    "        class_counts = Counter(y_train_fold)\n",
    "        total_samples = len(y_train_fold)\n",
    "        # Step 3: Calculate class weights as inverse of class frequency\n",
    "        class_weights = {cls: total_samples / count for cls, count in class_counts.items()}\n",
    "        sample_weights = np.array([class_weights[label] for label in y_train_fold])\n",
    "        # Create DMatrix with sample weights\n",
    "        dtrain_fold = xgb.DMatrix(X_train_fold, label=y_train_fold, enable_categorical=True, weight=sample_weights)\n",
    "        dval_fold = xgb.DMatrix(X_val_fold, label=y_val_fold, enable_categorical=True)\n",
    "        \n",
    "        evals = [(dtrain_fold, 'train'), (dval_fold, 'eval')]\n",
    "        model = xgb.train(param, dtrain_fold, \n",
    "                          num_boost_round=1000, evals=evals,early_stopping_rounds=50,\n",
    "                          verbose_eval=False)\n",
    "        y_val_pred_prob = model.predict(dval_fold)\n",
    "        y_val_pred = y_val_pred_prob.argmax(axis=1)\n",
    "        f1_macros.append(f1_score(y_val_fold, y_val_pred, average='macro'))\n",
    "    score=np.mean(f1_macros)\n",
    "    \n",
    "    return score"
   ]
  },
  {
   "cell_type": "code",
   "execution_count": 9,
   "id": "d60642b2-2944-4f3d-b337-3250ba03a3cd",
   "metadata": {
    "execution": {
     "iopub.execute_input": "2024-10-23T03:54:54.670644Z",
     "iopub.status.busy": "2024-10-23T03:54:54.670264Z",
     "iopub.status.idle": "2024-10-23T03:54:54.690843Z",
     "shell.execute_reply": "2024-10-23T03:54:54.690050Z"
    },
    "papermill": {
     "duration": 0.029804,
     "end_time": "2024-10-23T03:54:54.694622",
     "exception": false,
     "start_time": "2024-10-23T03:54:54.664818",
     "status": "completed"
    },
    "tags": []
   },
   "outputs": [],
   "source": [
    "def evaluate_model(X_train, y_train, X_test, y_test,cluster, best_params, n_splits=3):\n",
    "    # Convert data to DMatrix for XGBoost\n",
    "    class_counts = Counter(y_train)\n",
    "    total_samples = len(y_train)\n",
    "        # Step 3: Calculate class weights as inverse of class frequency\n",
    "    class_weights = {cls: total_samples / count for cls, count in class_counts.items()}\n",
    "    sample_weights = np.array([class_weights[label] for label in y_train])\n",
    "        # Create DMatrix with sample weights\n",
    "        \n",
    "    dtrain = xgb.DMatrix(X_train, label=y_train, enable_categorical=True,weight=sample_weights)\n",
    "    dtest = xgb.DMatrix(X_test, label=y_test, enable_categorical=True)\n",
    "    \n",
    "    params = best_params\n",
    "    params['objective']=\"multi:softprob\"\n",
    "    #params['tree_method']='approx'\n",
    "    params['eval_metric']='mlogloss'\n",
    "    params['num_class']=len(set(y_train))\n",
    "    params['nthread']=20\n",
    "    # Stratified K-Fold Cross Validation\n",
    "    skf = StratifiedKFold(n_splits=n_splits, shuffle=True, random_state=42)\n",
    "    \n",
    "    accuracies = []\n",
    "    f1_macros = []\n",
    "    f1_micros = []\n",
    "    aucs = []\n",
    "    acc_kelas_generatifs = []\n",
    "    acc_fase_padis = []\n",
    "\n",
    "    for train_index, val_index in skf.split(X_train, y_train):\n",
    "        X_train_fold, X_val_fold = X_train.iloc[train_index], X_train.iloc[val_index]\n",
    "        y_train_fold, y_val_fold = y_train[train_index], y_train[val_index]\n",
    "\n",
    "        class_counts = Counter(y_train_fold)\n",
    "        total_samples = len(y_train_fold)\n",
    "        # Step 3: Calculate class weights as inverse of class frequency\n",
    "        class_weights = {cls: total_samples / count for cls, count in class_counts.items()}\n",
    "        sample_weights = np.array([class_weights[label] for label in y_train_fold])\n",
    "        # Create DMatrix with sample weights\n",
    "        dtrain_fold = xgb.DMatrix(X_train_fold, label=y_train_fold, enable_categorical=True, weight=sample_weights)\n",
    "        dval_fold = xgb.DMatrix(X_val_fold, label=y_val_fold, enable_categorical=True)\n",
    "        \n",
    "        evals = [(dtrain_fold, 'train'), (dval_fold, 'eval')]\n",
    "        model = xgb.train(params, dtrain_fold, \n",
    "                          num_boost_round=10000, evals=evals,early_stopping_rounds=1000,verbose_eval=100)\n",
    "        \n",
    "        y_val_pred_prob = model.predict(dval_fold)\n",
    "        y_val_pred = y_val_pred_prob.argmax(axis=1)\n",
    "        \n",
    "        accuracies.append(accuracy_score(y_val_fold, y_val_pred))\n",
    "        f1_macros.append(f1_score(y_val_fold, y_val_pred, average='macro'))\n",
    "        f1_micros.append(f1_score(y_val_fold, y_val_pred, average='micro'))\n",
    "        aucs.append(roc_auc_score(y_val_fold, y_val_pred_prob, multi_class='ovr'))\n",
    "        acc_kelas_generatifs.append(akurasi_kelas_generatif(y_val_fold, y_val_pred))\n",
    "        acc_fase_padis.append(akurasi_fase_padi(y_val_fold, y_val_pred))\n",
    "\n",
    "    # Calculate average metrics\n",
    "    avg_accuracy = sum(accuracies) / len(accuracies)\n",
    "    avg_f1_macro = sum(f1_macros) / len(f1_macros)\n",
    "    avg_f1_micro = sum(f1_micros) / len(f1_micros)\n",
    "    avg_auc = sum(aucs) / len(aucs)\n",
    "    avg_acc_kelas_generatif = sum(acc_kelas_generatifs) / len(acc_kelas_generatifs)\n",
    "    avg_acc_fase_padi = sum(acc_fase_padis) / len(acc_fase_padis)\n",
    "    training_metrics = {\n",
    "        \"average_accuracy\": avg_accuracy,\n",
    "        \"average_f1_macro\": avg_f1_macro,\n",
    "        \"average_f1_micro\": avg_f1_micro,\n",
    "        \"average_auc\": avg_auc,\n",
    "        \"average_acc_kelas_generatif\": avg_acc_kelas_generatif,\n",
    "        \"average_acc_fase_padi\": avg_acc_fase_padi\n",
    "    }\n",
    "\n",
    "    \n",
    "    # Final model evaluation on the test set\n",
    "    evals = [(dtrain, 'train'), (dtest, 'eval')]\n",
    "    model = xgb.train(params, dtrain, \n",
    "                      num_boost_round=1000, evals=evals,early_stopping_rounds=50,\n",
    "                      verbose_eval=50)\n",
    "    y_test_pred_prob = model.predict(dtest)\n",
    "    y_test_pred = y_test_pred_prob.argmax(axis=1)\n",
    "\n",
    "    accuracy = accuracy_score(y_test, y_test_pred)\n",
    "    f1_macro = f1_score(y_test, y_test_pred, average='macro')\n",
    "    f1_micro = f1_score(y_test, y_test_pred, average='micro')\n",
    "    auc = roc_auc_score(y_test, y_test_pred_prob, multi_class='ovr')\n",
    "    acc_kelas_generatif = akurasi_kelas_generatif(y_test, y_test_pred)\n",
    "    acc_fase_padi = akurasi_fase_padi(y_test, y_test_pred)\n",
    "    \n",
    "    cm = confusion_matrix(y_test, y_test_pred)\n",
    "    relative_acc = 100 * (sum(cm[1, 1:3]) + sum(cm[1, 5:6]) + \n",
    "                          sum(cm[2, 1:4]) + \n",
    "                          sum(cm[3, 2:5]) + \n",
    "                          sum(cm[4, 3:6]) + \n",
    "                          sum(cm[5, 4:6])+sum(cm[5,1:2])) / sum(sum(cm[1:6, 1:6]))\n",
    "    validation_metrics = {\n",
    "        \"val_accuracy\": accuracy,\n",
    "        \"val_f1_macro\": f1_macro,\n",
    "        \"val_f1_micro\": f1_micro,\n",
    "        \"val_auc\": auc,\n",
    "        \"val_acc_kelas_generatif\": acc_kelas_generatif,\n",
    "        \"val_acc_fase_padi\": acc_fase_padi,\n",
    "        \"val_relative_acc\": relative_acc\n",
    "    }\n",
    "\n",
    "    print(\"\\nClassification Report on Test Set:\")\n",
    "    report = classification_report(y_test, y_test_pred)\n",
    "    print(report)\n",
    "    \n",
    "    # Display Confusion Matrix\n",
    "    cm_percentage = cm.astype('float') / cm.sum(axis=1)[:, np.newaxis] * 100\n",
    "\n",
    "    disp = ConfusionMatrixDisplay(confusion_matrix=cm_percentage)\n",
    "    disp.plot(cmap=plt.cm.Blues)\n",
    "    plt.savefig(f\"/data/ksa/05_Modelling/picture/{kdprov}_cm_cluster_{cluster}.png\", dpi=300, bbox_inches='tight')\n",
    "    plt.show()\n",
    "    \n",
    "    return model, training_metrics, validation_metrics, report, cm"
   ]
  },
  {
   "cell_type": "code",
   "execution_count": 10,
   "id": "f4462c6e-e78a-4409-8951-07e164e2986c",
   "metadata": {
    "editable": true,
    "execution": {
     "iopub.execute_input": "2024-10-23T03:54:54.708615Z",
     "iopub.status.busy": "2024-10-23T03:54:54.708290Z",
     "iopub.status.idle": "2024-10-23T05:34:45.109881Z",
     "shell.execute_reply": "2024-10-23T05:34:45.108366Z"
    },
    "papermill": {
     "duration": 5990.408753,
     "end_time": "2024-10-23T05:34:45.111666",
     "exception": false,
     "start_time": "2024-10-23T03:54:54.702913",
     "status": "completed"
    },
    "slideshow": {
     "slide_type": ""
    },
    "tags": []
   },
   "outputs": [
    {
     "name": "stdout",
     "output_type": "stream",
     "text": [
      "=============================================================================\n",
      "CLUSTER:  0\n"
     ]
    },
    {
     "name": "stderr",
     "output_type": "stream",
     "text": [
      "[I 2024-10-23 10:54:55,745] A new study created in memory with name: no-name-74ec41c3-c676-4105-9c9a-4a69d19da90b\n"
     ]
    },
    {
     "name": "stdout",
     "output_type": "stream",
     "text": [
      "[1 2 3 4 0 5 6]\n",
      "[0 1 2 3 4 5 6]\n",
      "Mapping of original to encoded classes: {np.int64(0): np.int64(0), np.int64(1): np.int64(1), np.int64(2): np.int64(2), np.int64(3): np.int64(3), np.int64(4): np.int64(4), np.int64(5): np.int64(5), np.int64(6): np.int64(6)}\n",
      "Build Best Parameter using Optuna-Hyperparameter Tuning\n"
     ]
    },
    {
     "name": "stderr",
     "output_type": "stream",
     "text": [
      "[I 2024-10-23 10:55:36,720] Trial 0 finished with value: 0.9174083056807393 and parameters: {'max_depth': 10, 'learning_rate': 0.043996832508152936, 'reg_lambda': 0.4073485219773061, 'min_child_weight': 51}. Best is trial 0 with value: 0.9174083056807393.\n"
     ]
    },
    {
     "name": "stderr",
     "output_type": "stream",
     "text": [
      "[I 2024-10-23 10:56:06,580] Trial 1 finished with value: 0.9173167873069281 and parameters: {'max_depth': 8, 'learning_rate': 0.07206337332005117, 'reg_lambda': 3.3073042933239623, 'min_child_weight': 77}. Best is trial 0 with value: 0.9174083056807393.\n"
     ]
    },
    {
     "name": "stderr",
     "output_type": "stream",
     "text": [
      "[I 2024-10-23 10:56:29,900] Trial 2 finished with value: 0.9174982483102793 and parameters: {'max_depth': 10, 'learning_rate': 0.09147766283848563, 'reg_lambda': 0.29573088430608907, 'min_child_weight': 54}. Best is trial 2 with value: 0.9174982483102793.\n"
     ]
    },
    {
     "name": "stderr",
     "output_type": "stream",
     "text": [
      "[I 2024-10-23 10:57:39,168] Trial 3 finished with value: 0.9175981285959568 and parameters: {'max_depth': 10, 'learning_rate': 0.02776803516329151, 'reg_lambda': 3.05794793739292, 'min_child_weight': 76}. Best is trial 3 with value: 0.9175981285959568.\n"
     ]
    },
    {
     "name": "stderr",
     "output_type": "stream",
     "text": [
      "[I 2024-10-23 10:58:35,845] Trial 4 finished with value: 0.9145029725748812 and parameters: {'max_depth': 6, 'learning_rate': 0.03957031902825333, 'reg_lambda': 1.497483180901955, 'min_child_weight': 72}. Best is trial 3 with value: 0.9175981285959568.\n"
     ]
    },
    {
     "name": "stderr",
     "output_type": "stream",
     "text": [
      "[I 2024-10-23 10:59:37,049] Trial 5 finished with value: 0.917288941343026 and parameters: {'max_depth': 9, 'learning_rate': 0.033365370601717306, 'reg_lambda': 2.260827418220665, 'min_child_weight': 89}. Best is trial 3 with value: 0.9175981285959568.\n"
     ]
    },
    {
     "name": "stderr",
     "output_type": "stream",
     "text": [
      "[I 2024-10-23 11:00:06,324] Trial 6 finished with value: 0.916273585651545 and parameters: {'max_depth': 8, 'learning_rate': 0.07389298746221129, 'reg_lambda': 2.7191976623228085, 'min_child_weight': 65}. Best is trial 3 with value: 0.9175981285959568.\n"
     ]
    },
    {
     "name": "stderr",
     "output_type": "stream",
     "text": [
      "[I 2024-10-23 11:00:35,242] Trial 7 finished with value: 0.9156605351759688 and parameters: {'max_depth': 6, 'learning_rate': 0.08957995932068889, 'reg_lambda': 1.2103286019455606, 'min_child_weight': 63}. Best is trial 3 with value: 0.9175981285959568.\n"
     ]
    },
    {
     "name": "stderr",
     "output_type": "stream",
     "text": [
      "[I 2024-10-23 11:01:53,546] Trial 8 finished with value: 0.9172612887899229 and parameters: {'max_depth': 10, 'learning_rate': 0.025950582710970165, 'reg_lambda': 3.6751979987889047, 'min_child_weight': 100}. Best is trial 3 with value: 0.9175981285959568.\n"
     ]
    },
    {
     "name": "stderr",
     "output_type": "stream",
     "text": [
      "[I 2024-10-23 11:03:09,322] Trial 9 finished with value: 0.9171905955557303 and parameters: {'max_depth': 9, 'learning_rate': 0.026168629077386582, 'reg_lambda': 2.5237725223536414, 'min_child_weight': 100}. Best is trial 3 with value: 0.9175981285959568.\n"
     ]
    },
    {
     "name": "stderr",
     "output_type": "stream",
     "text": [
      "[I 2024-10-23 11:04:21,059] Trial 10 finished with value: 0.9072900055632319 and parameters: {'max_depth': 7, 'learning_rate': 0.011362525293656146, 'reg_lambda': 4.971743431408642, 'min_child_weight': 82}. Best is trial 3 with value: 0.9175981285959568.\n"
     ]
    },
    {
     "name": "stderr",
     "output_type": "stream",
     "text": [
      "[I 2024-10-23 11:04:43,504] Trial 11 finished with value: 0.9176974219431097 and parameters: {'max_depth': 10, 'learning_rate': 0.09667280476665972, 'reg_lambda': 0.2898695977796674, 'min_child_weight': 53}. Best is trial 11 with value: 0.9176974219431097.\n"
     ]
    },
    {
     "name": "stderr",
     "output_type": "stream",
     "text": [
      "[I 2024-10-23 11:05:18,762] Trial 12 finished with value: 0.9168892236032513 and parameters: {'max_depth': 9, 'learning_rate': 0.05878653999671463, 'reg_lambda': 4.27590235502166, 'min_child_weight': 64}. Best is trial 11 with value: 0.9176974219431097.\n"
     ]
    },
    {
     "name": "stderr",
     "output_type": "stream",
     "text": [
      "[I 2024-10-23 11:05:41,230] Trial 13 finished with value: 0.917976294741083 and parameters: {'max_depth': 10, 'learning_rate': 0.09952001372577197, 'reg_lambda': 1.5621648446187248, 'min_child_weight': 86}. Best is trial 13 with value: 0.917976294741083.\n"
     ]
    },
    {
     "name": "stderr",
     "output_type": "stream",
     "text": [
      "[I 2024-10-23 11:06:04,771] Trial 14 finished with value: 0.9173546357494741 and parameters: {'max_depth': 9, 'learning_rate': 0.098799786001639, 'reg_lambda': 1.4008798715685236, 'min_child_weight': 90}. Best is trial 13 with value: 0.917976294741083.\n"
     ]
    },
    {
     "name": "stderr",
     "output_type": "stream",
     "text": [
      "[I 2024-10-23 11:06:34,160] Trial 15 finished with value: 0.917059394762067 and parameters: {'max_depth': 8, 'learning_rate': 0.07742373913184274, 'reg_lambda': 0.8096742254333198, 'min_child_weight': 87}. Best is trial 13 with value: 0.917976294741083.\n"
     ]
    },
    {
     "name": "stderr",
     "output_type": "stream",
     "text": [
      "[I 2024-10-23 11:06:59,651] Trial 16 finished with value: 0.9178763647860316 and parameters: {'max_depth': 10, 'learning_rate': 0.08409232805005323, 'reg_lambda': 1.8819346041335363, 'min_child_weight': 59}. Best is trial 13 with value: 0.917976294741083.\n"
     ]
    },
    {
     "name": "stderr",
     "output_type": "stream",
     "text": [
      "[I 2024-10-23 11:07:26,628] Trial 17 finished with value: 0.9171327862662806 and parameters: {'max_depth': 9, 'learning_rate': 0.08143319542259109, 'reg_lambda': 1.9145946613031963, 'min_child_weight': 70}. Best is trial 13 with value: 0.917976294741083.\n"
     ]
    },
    {
     "name": "stderr",
     "output_type": "stream",
     "text": [
      "[I 2024-10-23 11:08:02,447] Trial 18 finished with value: 0.9166215133158705 and parameters: {'max_depth': 7, 'learning_rate': 0.06233309171967105, 'reg_lambda': 1.9017210119597239, 'min_child_weight': 58}. Best is trial 13 with value: 0.917976294741083.\n"
     ]
    },
    {
     "name": "stderr",
     "output_type": "stream",
     "text": [
      "[I 2024-10-23 11:08:28,140] Trial 19 finished with value: 0.9174343894253716 and parameters: {'max_depth': 10, 'learning_rate': 0.08482360153121989, 'reg_lambda': 1.0085348205482387, 'min_child_weight': 83}. Best is trial 13 with value: 0.917976294741083.\n"
     ]
    },
    {
     "name": "stdout",
     "output_type": "stream",
     "text": [
      "Best Parameters: {'max_depth': 10, 'learning_rate': 0.09952001372577197, 'reg_lambda': 1.5621648446187248, 'min_child_weight': 86}\n",
      "Best Score: 0.917976294741083\n",
      "Start the modelling\n",
      "[0]\ttrain-mlogloss:1.69647\teval-mlogloss:1.70704\n"
     ]
    },
    {
     "name": "stdout",
     "output_type": "stream",
     "text": [
      "[100]\ttrain-mlogloss:0.07587\teval-mlogloss:0.23578\n"
     ]
    },
    {
     "name": "stdout",
     "output_type": "stream",
     "text": [
      "[200]\ttrain-mlogloss:0.03394\teval-mlogloss:0.22332\n"
     ]
    },
    {
     "name": "stdout",
     "output_type": "stream",
     "text": [
      "[300]\ttrain-mlogloss:0.02103\teval-mlogloss:0.22462\n"
     ]
    },
    {
     "name": "stdout",
     "output_type": "stream",
     "text": [
      "[400]\ttrain-mlogloss:0.01536\teval-mlogloss:0.22758\n"
     ]
    },
    {
     "name": "stdout",
     "output_type": "stream",
     "text": [
      "[500]\ttrain-mlogloss:0.01233\teval-mlogloss:0.23033\n"
     ]
    },
    {
     "name": "stdout",
     "output_type": "stream",
     "text": [
      "[600]\ttrain-mlogloss:0.01050\teval-mlogloss:0.23327\n"
     ]
    },
    {
     "name": "stdout",
     "output_type": "stream",
     "text": [
      "[700]\ttrain-mlogloss:0.00925\teval-mlogloss:0.23544\n"
     ]
    },
    {
     "name": "stdout",
     "output_type": "stream",
     "text": [
      "[800]\ttrain-mlogloss:0.00836\teval-mlogloss:0.23751\n"
     ]
    },
    {
     "name": "stdout",
     "output_type": "stream",
     "text": [
      "[900]\ttrain-mlogloss:0.00768\teval-mlogloss:0.23944\n"
     ]
    },
    {
     "name": "stdout",
     "output_type": "stream",
     "text": [
      "[1000]\ttrain-mlogloss:0.00715\teval-mlogloss:0.24117\n"
     ]
    },
    {
     "name": "stdout",
     "output_type": "stream",
     "text": [
      "[1100]\ttrain-mlogloss:0.00672\teval-mlogloss:0.24255\n"
     ]
    },
    {
     "name": "stdout",
     "output_type": "stream",
     "text": [
      "[1200]\ttrain-mlogloss:0.00635\teval-mlogloss:0.24414\n"
     ]
    },
    {
     "name": "stdout",
     "output_type": "stream",
     "text": [
      "[1216]\ttrain-mlogloss:0.00630\teval-mlogloss:0.24434\n"
     ]
    },
    {
     "name": "stdout",
     "output_type": "stream",
     "text": [
      "[0]\ttrain-mlogloss:1.69525\teval-mlogloss:1.70719\n"
     ]
    },
    {
     "name": "stdout",
     "output_type": "stream",
     "text": [
      "[100]\ttrain-mlogloss:0.07764\teval-mlogloss:0.23432\n"
     ]
    },
    {
     "name": "stdout",
     "output_type": "stream",
     "text": [
      "[200]\ttrain-mlogloss:0.03396\teval-mlogloss:0.22021\n"
     ]
    },
    {
     "name": "stdout",
     "output_type": "stream",
     "text": [
      "[300]\ttrain-mlogloss:0.02101\teval-mlogloss:0.22133\n"
     ]
    },
    {
     "name": "stdout",
     "output_type": "stream",
     "text": [
      "[400]\ttrain-mlogloss:0.01542\teval-mlogloss:0.22507\n"
     ]
    },
    {
     "name": "stdout",
     "output_type": "stream",
     "text": [
      "[500]\ttrain-mlogloss:0.01239\teval-mlogloss:0.22832\n"
     ]
    },
    {
     "name": "stdout",
     "output_type": "stream",
     "text": [
      "[600]\ttrain-mlogloss:0.01055\teval-mlogloss:0.23135\n"
     ]
    },
    {
     "name": "stdout",
     "output_type": "stream",
     "text": [
      "[700]\ttrain-mlogloss:0.00930\teval-mlogloss:0.23382\n"
     ]
    },
    {
     "name": "stdout",
     "output_type": "stream",
     "text": [
      "[800]\ttrain-mlogloss:0.00840\teval-mlogloss:0.23614\n"
     ]
    },
    {
     "name": "stdout",
     "output_type": "stream",
     "text": [
      "[900]\ttrain-mlogloss:0.00769\teval-mlogloss:0.23804\n"
     ]
    },
    {
     "name": "stdout",
     "output_type": "stream",
     "text": [
      "[1000]\ttrain-mlogloss:0.00715\teval-mlogloss:0.23972\n"
     ]
    },
    {
     "name": "stdout",
     "output_type": "stream",
     "text": [
      "[1100]\ttrain-mlogloss:0.00672\teval-mlogloss:0.24132\n"
     ]
    },
    {
     "name": "stdout",
     "output_type": "stream",
     "text": [
      "[1200]\ttrain-mlogloss:0.00635\teval-mlogloss:0.24258\n"
     ]
    },
    {
     "name": "stdout",
     "output_type": "stream",
     "text": [
      "[1221]\ttrain-mlogloss:0.00628\teval-mlogloss:0.24279\n"
     ]
    },
    {
     "name": "stdout",
     "output_type": "stream",
     "text": [
      "[0]\ttrain-mlogloss:1.69675\teval-mlogloss:1.70729\n"
     ]
    },
    {
     "name": "stdout",
     "output_type": "stream",
     "text": [
      "[100]\ttrain-mlogloss:0.07684\teval-mlogloss:0.22473\n"
     ]
    },
    {
     "name": "stdout",
     "output_type": "stream",
     "text": [
      "[200]\ttrain-mlogloss:0.03353\teval-mlogloss:0.20978\n"
     ]
    },
    {
     "name": "stdout",
     "output_type": "stream",
     "text": [
      "[300]\ttrain-mlogloss:0.02095\teval-mlogloss:0.21030\n"
     ]
    },
    {
     "name": "stdout",
     "output_type": "stream",
     "text": [
      "[400]\ttrain-mlogloss:0.01544\teval-mlogloss:0.21176\n"
     ]
    },
    {
     "name": "stdout",
     "output_type": "stream",
     "text": [
      "[500]\ttrain-mlogloss:0.01245\teval-mlogloss:0.21404\n"
     ]
    },
    {
     "name": "stdout",
     "output_type": "stream",
     "text": [
      "[600]\ttrain-mlogloss:0.01060\teval-mlogloss:0.21625\n"
     ]
    },
    {
     "name": "stdout",
     "output_type": "stream",
     "text": [
      "[700]\ttrain-mlogloss:0.00934\teval-mlogloss:0.21806\n"
     ]
    },
    {
     "name": "stdout",
     "output_type": "stream",
     "text": [
      "[800]\ttrain-mlogloss:0.00845\teval-mlogloss:0.21993\n"
     ]
    },
    {
     "name": "stdout",
     "output_type": "stream",
     "text": [
      "[900]\ttrain-mlogloss:0.00775\teval-mlogloss:0.22176\n"
     ]
    },
    {
     "name": "stdout",
     "output_type": "stream",
     "text": [
      "[1000]\ttrain-mlogloss:0.00720\teval-mlogloss:0.22308\n"
     ]
    },
    {
     "name": "stdout",
     "output_type": "stream",
     "text": [
      "[1100]\ttrain-mlogloss:0.00676\teval-mlogloss:0.22456\n"
     ]
    },
    {
     "name": "stdout",
     "output_type": "stream",
     "text": [
      "[1200]\ttrain-mlogloss:0.00639\teval-mlogloss:0.22579\n"
     ]
    },
    {
     "name": "stdout",
     "output_type": "stream",
     "text": [
      "[1227]\ttrain-mlogloss:0.00630\teval-mlogloss:0.22614\n"
     ]
    },
    {
     "name": "stdout",
     "output_type": "stream",
     "text": [
      "[0]\ttrain-mlogloss:1.69199\teval-mlogloss:1.70161\n"
     ]
    },
    {
     "name": "stdout",
     "output_type": "stream",
     "text": [
      "[50]\ttrain-mlogloss:0.15033\teval-mlogloss:0.25480\n"
     ]
    },
    {
     "name": "stdout",
     "output_type": "stream",
     "text": [
      "[100]\ttrain-mlogloss:0.08215\teval-mlogloss:0.20752\n"
     ]
    },
    {
     "name": "stdout",
     "output_type": "stream",
     "text": [
      "[150]\ttrain-mlogloss:0.05249\teval-mlogloss:0.19436\n"
     ]
    },
    {
     "name": "stdout",
     "output_type": "stream",
     "text": [
      "[200]\ttrain-mlogloss:0.03649\teval-mlogloss:0.18940\n"
     ]
    },
    {
     "name": "stdout",
     "output_type": "stream",
     "text": [
      "[250]\ttrain-mlogloss:0.02756\teval-mlogloss:0.18793\n"
     ]
    },
    {
     "name": "stdout",
     "output_type": "stream",
     "text": [
      "[300]\ttrain-mlogloss:0.02201\teval-mlogloss:0.18791\n"
     ]
    },
    {
     "name": "stdout",
     "output_type": "stream",
     "text": [
      "[319]\ttrain-mlogloss:0.02036\teval-mlogloss:0.18791\n"
     ]
    },
    {
     "name": "stdout",
     "output_type": "stream",
     "text": [
      "\n",
      "Classification Report on Test Set:\n",
      "              precision    recall  f1-score   support\n",
      "\n",
      "           0       0.93      0.92      0.93     13489\n",
      "           1       0.92      0.90      0.91     13140\n",
      "           2       0.92      0.94      0.93     12793\n",
      "           3       0.92      0.91      0.92     13395\n",
      "           4       0.90      0.91      0.91     13173\n",
      "           5       0.91      0.93      0.92     11303\n",
      "           6       0.99      0.99      0.99     11006\n",
      "\n",
      "    accuracy                           0.93     88299\n",
      "   macro avg       0.93      0.93      0.93     88299\n",
      "weighted avg       0.93      0.93      0.93     88299\n",
      "\n"
     ]
    },
    {
     "data": {
      "image/png": "[encoded data removed]",
      "text/plain": [
       "<Figure size 640x480 with 1 Axes>"
      ]
     },
     "metadata": {},
     "output_type": "display_data"
    },
    {
     "data": {
      "image/png": "[encoded data removed]",
      "text/plain": [
       "<Figure size 640x480 with 2 Axes>"
      ]
     },
     "metadata": {},
     "output_type": "display_data"
    },
    {
     "name": "stdout",
     "output_type": "stream",
     "text": [
      "{'average_accuracy': 0.9175519264309497, 'average_f1_macro': np.float64(0.9190948592136919), 'average_f1_micro': np.float64(0.9175519264309497), 'average_auc': np.float64(0.995132960611377), 'average_acc_kelas_generatif': 0.9029787210024066, 'average_acc_fase_padi': 0.9038222222222222}\n",
      "{'val_accuracy': 0.927417071541014, 'val_f1_macro': np.float64(0.9288082767685725), 'val_f1_micro': np.float64(0.927417071541014), 'val_auc': np.float64(0.9962633668913182), 'val_acc_kelas_generatif': 0.9136244867487868, 'val_acc_fase_padi': 0.9146873392887754, 'val_relative_acc': np.float64(99.95547852633922)}\n",
      "=============================================================================\n",
      "=============================================================================\n",
      "CLUSTER:  1\n"
     ]
    },
    {
     "name": "stderr",
     "output_type": "stream",
     "text": [
      "[I 2024-10-23 11:09:56,830] A new study created in memory with name: no-name-7cf7175e-47d9-475c-98a4-19c9bf67a29d\n"
     ]
    },
    {
     "name": "stdout",
     "output_type": "stream",
     "text": [
      "[6 2 3 1 5 0 4]\n",
      "[0 1 2 3 4 5 6]\n",
      "Mapping of original to encoded classes: {np.int64(0): np.int64(0), np.int64(1): np.int64(1), np.int64(2): np.int64(2), np.int64(3): np.int64(3), np.int64(4): np.int64(4), np.int64(5): np.int64(5), np.int64(6): np.int64(6)}\n",
      "Build Best Parameter using Optuna-Hyperparameter Tuning\n"
     ]
    },
    {
     "name": "stderr",
     "output_type": "stream",
     "text": [
      "[I 2024-10-23 11:10:56,796] Trial 0 finished with value: 0.8805061533205535 and parameters: {'max_depth': 8, 'learning_rate': 0.03128942514825682, 'reg_lambda': 2.2028658277488815, 'min_child_weight': 76}. Best is trial 0 with value: 0.8805061533205535.\n"
     ]
    },
    {
     "name": "stderr",
     "output_type": "stream",
     "text": [
      "[I 2024-10-23 11:11:19,148] Trial 1 finished with value: 0.8826465699347531 and parameters: {'max_depth': 10, 'learning_rate': 0.09715851500934965, 'reg_lambda': 3.278806372609209, 'min_child_weight': 96}. Best is trial 1 with value: 0.8826465699347531.\n"
     ]
    },
    {
     "name": "stderr",
     "output_type": "stream",
     "text": [
      "[I 2024-10-23 11:12:39,374] Trial 2 finished with value: 0.8750517286169526 and parameters: {'max_depth': 8, 'learning_rate': 0.0118947384344835, 'reg_lambda': 0.21358193291916028, 'min_child_weight': 73}. Best is trial 1 with value: 0.8826465699347531.\n"
     ]
    },
    {
     "name": "stderr",
     "output_type": "stream",
     "text": [
      "[I 2024-10-23 11:13:41,663] Trial 3 finished with value: 0.8805229023700827 and parameters: {'max_depth': 7, 'learning_rate': 0.034699331522423923, 'reg_lambda': 4.309876824299642, 'min_child_weight': 76}. Best is trial 1 with value: 0.8826465699347531.\n"
     ]
    },
    {
     "name": "stderr",
     "output_type": "stream",
     "text": [
      "[I 2024-10-23 11:14:38,779] Trial 4 finished with value: 0.8820511298883907 and parameters: {'max_depth': 10, 'learning_rate': 0.0369433206319941, 'reg_lambda': 0.11606211293660981, 'min_child_weight': 96}. Best is trial 1 with value: 0.8826465699347531.\n"
     ]
    },
    {
     "name": "stderr",
     "output_type": "stream",
     "text": [
      "[I 2024-10-23 11:15:06,596] Trial 5 finished with value: 0.8814243815949245 and parameters: {'max_depth': 7, 'learning_rate': 0.0751005424697689, 'reg_lambda': 1.9619468441415517, 'min_child_weight': 54}. Best is trial 1 with value: 0.8826465699347531.\n"
     ]
    },
    {
     "name": "stderr",
     "output_type": "stream",
     "text": [
      "[I 2024-10-23 11:16:02,217] Trial 6 finished with value: 0.8827995735879037 and parameters: {'max_depth': 10, 'learning_rate': 0.037056452000373025, 'reg_lambda': 3.7231422775358194, 'min_child_weight': 96}. Best is trial 6 with value: 0.8827995735879037.\n"
     ]
    },
    {
     "name": "stderr",
     "output_type": "stream",
     "text": [
      "[I 2024-10-23 11:16:34,255] Trial 7 finished with value: 0.881733518917998 and parameters: {'max_depth': 8, 'learning_rate': 0.06849848800137484, 'reg_lambda': 1.010155978980255, 'min_child_weight': 81}. Best is trial 6 with value: 0.8827995735879037.\n"
     ]
    },
    {
     "name": "stderr",
     "output_type": "stream",
     "text": [
      "[I 2024-10-23 11:17:15,219] Trial 8 finished with value: 0.8838791472060006 and parameters: {'max_depth': 9, 'learning_rate': 0.048091519483633945, 'reg_lambda': 4.490353834172416, 'min_child_weight': 61}. Best is trial 8 with value: 0.8838791472060006.\n"
     ]
    },
    {
     "name": "stderr",
     "output_type": "stream",
     "text": [
      "[I 2024-10-23 11:17:41,216] Trial 9 finished with value: 0.8804166688186806 and parameters: {'max_depth': 6, 'learning_rate': 0.08795074721482363, 'reg_lambda': 2.7309705470846835, 'min_child_weight': 68}. Best is trial 8 with value: 0.8838791472060006.\n"
     ]
    },
    {
     "name": "stderr",
     "output_type": "stream",
     "text": [
      "[I 2024-10-23 11:18:15,781] Trial 10 finished with value: 0.8827867647286358 and parameters: {'max_depth': 9, 'learning_rate': 0.0559829519042688, 'reg_lambda': 4.873645464121943, 'min_child_weight': 52}. Best is trial 8 with value: 0.8838791472060006.\n"
     ]
    },
    {
     "name": "stderr",
     "output_type": "stream",
     "text": [
      "[I 2024-10-23 11:18:55,076] Trial 11 finished with value: 0.8825829726192227 and parameters: {'max_depth': 9, 'learning_rate': 0.05119175500934304, 'reg_lambda': 3.6895833562877867, 'min_child_weight': 62}. Best is trial 8 with value: 0.8838791472060006.\n"
     ]
    },
    {
     "name": "stderr",
     "output_type": "stream",
     "text": [
      "[I 2024-10-23 11:20:16,294] Trial 12 finished with value: 0.880025084371634 and parameters: {'max_depth': 9, 'learning_rate': 0.017874469422487375, 'reg_lambda': 4.010105671638891, 'min_child_weight': 86}. Best is trial 8 with value: 0.8838791472060006.\n"
     ]
    },
    {
     "name": "stderr",
     "output_type": "stream",
     "text": [
      "[I 2024-10-23 11:20:58,642] Trial 13 finished with value: 0.8831009993317293 and parameters: {'max_depth': 10, 'learning_rate': 0.04867246123472894, 'reg_lambda': 4.83446402029181, 'min_child_weight': 88}. Best is trial 8 with value: 0.8838791472060006.\n"
     ]
    },
    {
     "name": "stderr",
     "output_type": "stream",
     "text": [
      "[I 2024-10-23 11:21:39,252] Trial 14 finished with value: 0.8828396160661051 and parameters: {'max_depth': 9, 'learning_rate': 0.05245637248860864, 'reg_lambda': 4.911212353637635, 'min_child_weight': 87}. Best is trial 8 with value: 0.8838791472060006.\n"
     ]
    },
    {
     "name": "stderr",
     "output_type": "stream",
     "text": [
      "[I 2024-10-23 11:22:10,332] Trial 15 finished with value: 0.8837271204755736 and parameters: {'max_depth': 10, 'learning_rate': 0.06495054970412197, 'reg_lambda': 4.3812489427037535, 'min_child_weight': 62}. Best is trial 8 with value: 0.8838791472060006.\n"
     ]
    },
    {
     "name": "stderr",
     "output_type": "stream",
     "text": [
      "[I 2024-10-23 11:22:41,089] Trial 16 finished with value: 0.8827789572423396 and parameters: {'max_depth': 9, 'learning_rate': 0.06446287827611592, 'reg_lambda': 3.001663411739958, 'min_child_weight': 61}. Best is trial 8 with value: 0.8838791472060006.\n"
     ]
    },
    {
     "name": "stderr",
     "output_type": "stream",
     "text": [
      "[I 2024-10-23 11:23:09,949] Trial 17 finished with value: 0.8841154097834968 and parameters: {'max_depth': 10, 'learning_rate': 0.07257521763904894, 'reg_lambda': 4.216785968386431, 'min_child_weight': 60}. Best is trial 17 with value: 0.8841154097834968.\n"
     ]
    },
    {
     "name": "stderr",
     "output_type": "stream",
     "text": [
      "[I 2024-10-23 11:23:35,007] Trial 18 finished with value: 0.8827478625825069 and parameters: {'max_depth': 9, 'learning_rate': 0.0815346728863932, 'reg_lambda': 3.3571707487936826, 'min_child_weight': 56}. Best is trial 17 with value: 0.8841154097834968.\n"
     ]
    },
    {
     "name": "stderr",
     "output_type": "stream",
     "text": [
      "[I 2024-10-23 11:23:57,106] Trial 19 finished with value: 0.8811853726346007 and parameters: {'max_depth': 7, 'learning_rate': 0.09987186798286828, 'reg_lambda': 1.3857231168186113, 'min_child_weight': 66}. Best is trial 17 with value: 0.8841154097834968.\n"
     ]
    },
    {
     "name": "stdout",
     "output_type": "stream",
     "text": [
      "Best Parameters: {'max_depth': 10, 'learning_rate': 0.07257521763904894, 'reg_lambda': 4.216785968386431, 'min_child_weight': 60}\n",
      "Best Score: 0.8841154097834968\n",
      "Start the modelling\n",
      "[0]\ttrain-mlogloss:1.78013\teval-mlogloss:1.78709\n"
     ]
    },
    {
     "name": "stdout",
     "output_type": "stream",
     "text": [
      "[100]\ttrain-mlogloss:0.10844\teval-mlogloss:0.31308\n"
     ]
    },
    {
     "name": "stdout",
     "output_type": "stream",
     "text": [
      "[200]\ttrain-mlogloss:0.04598\teval-mlogloss:0.28624\n"
     ]
    },
    {
     "name": "stdout",
     "output_type": "stream",
     "text": [
      "[300]\ttrain-mlogloss:0.02767\teval-mlogloss:0.28443\n"
     ]
    },
    {
     "name": "stdout",
     "output_type": "stream",
     "text": [
      "[400]\ttrain-mlogloss:0.01970\teval-mlogloss:0.28755\n"
     ]
    },
    {
     "name": "stdout",
     "output_type": "stream",
     "text": [
      "[500]\ttrain-mlogloss:0.01530\teval-mlogloss:0.29170\n"
     ]
    },
    {
     "name": "stdout",
     "output_type": "stream",
     "text": [
      "[600]\ttrain-mlogloss:0.01265\teval-mlogloss:0.29521\n"
     ]
    },
    {
     "name": "stdout",
     "output_type": "stream",
     "text": [
      "[700]\ttrain-mlogloss:0.01084\teval-mlogloss:0.29899\n"
     ]
    },
    {
     "name": "stdout",
     "output_type": "stream",
     "text": [
      "[800]\ttrain-mlogloss:0.00958\teval-mlogloss:0.30216\n"
     ]
    },
    {
     "name": "stdout",
     "output_type": "stream",
     "text": [
      "[900]\ttrain-mlogloss:0.00864\teval-mlogloss:0.30520\n"
     ]
    },
    {
     "name": "stdout",
     "output_type": "stream",
     "text": [
      "[1000]\ttrain-mlogloss:0.00792\teval-mlogloss:0.30766\n"
     ]
    },
    {
     "name": "stdout",
     "output_type": "stream",
     "text": [
      "[1100]\ttrain-mlogloss:0.00736\teval-mlogloss:0.31014\n"
     ]
    },
    {
     "name": "stdout",
     "output_type": "stream",
     "text": [
      "[1200]\ttrain-mlogloss:0.00690\teval-mlogloss:0.31220\n"
     ]
    },
    {
     "name": "stdout",
     "output_type": "stream",
     "text": [
      "[1280]\ttrain-mlogloss:0.00658\teval-mlogloss:0.31382\n"
     ]
    },
    {
     "name": "stdout",
     "output_type": "stream",
     "text": [
      "[0]\ttrain-mlogloss:1.77925\teval-mlogloss:1.78790\n"
     ]
    },
    {
     "name": "stdout",
     "output_type": "stream",
     "text": [
      "[100]\ttrain-mlogloss:0.11197\teval-mlogloss:0.31481\n"
     ]
    },
    {
     "name": "stdout",
     "output_type": "stream",
     "text": [
      "[200]\ttrain-mlogloss:0.04769\teval-mlogloss:0.28382\n"
     ]
    },
    {
     "name": "stdout",
     "output_type": "stream",
     "text": [
      "[300]\ttrain-mlogloss:0.02798\teval-mlogloss:0.28084\n"
     ]
    },
    {
     "name": "stdout",
     "output_type": "stream",
     "text": [
      "[400]\ttrain-mlogloss:0.01979\teval-mlogloss:0.28280\n"
     ]
    },
    {
     "name": "stdout",
     "output_type": "stream",
     "text": [
      "[500]\ttrain-mlogloss:0.01542\teval-mlogloss:0.28578\n"
     ]
    },
    {
     "name": "stdout",
     "output_type": "stream",
     "text": [
      "[600]\ttrain-mlogloss:0.01269\teval-mlogloss:0.28868\n"
     ]
    },
    {
     "name": "stdout",
     "output_type": "stream",
     "text": [
      "[700]\ttrain-mlogloss:0.01090\teval-mlogloss:0.29211\n"
     ]
    },
    {
     "name": "stdout",
     "output_type": "stream",
     "text": [
      "[800]\ttrain-mlogloss:0.00965\teval-mlogloss:0.29500\n"
     ]
    },
    {
     "name": "stdout",
     "output_type": "stream",
     "text": [
      "[900]\ttrain-mlogloss:0.00871\teval-mlogloss:0.29755\n"
     ]
    },
    {
     "name": "stdout",
     "output_type": "stream",
     "text": [
      "[1000]\ttrain-mlogloss:0.00798\teval-mlogloss:0.29996\n"
     ]
    },
    {
     "name": "stdout",
     "output_type": "stream",
     "text": [
      "[1100]\ttrain-mlogloss:0.00741\teval-mlogloss:0.30216\n"
     ]
    },
    {
     "name": "stdout",
     "output_type": "stream",
     "text": [
      "[1200]\ttrain-mlogloss:0.00694\teval-mlogloss:0.30419\n"
     ]
    },
    {
     "name": "stdout",
     "output_type": "stream",
     "text": [
      "[1286]\ttrain-mlogloss:0.00660\teval-mlogloss:0.30586\n"
     ]
    },
    {
     "name": "stdout",
     "output_type": "stream",
     "text": [
      "[0]\ttrain-mlogloss:1.77922\teval-mlogloss:1.78766\n"
     ]
    },
    {
     "name": "stdout",
     "output_type": "stream",
     "text": [
      "[100]\ttrain-mlogloss:0.10727\teval-mlogloss:0.31204\n"
     ]
    },
    {
     "name": "stdout",
     "output_type": "stream",
     "text": [
      "[200]\ttrain-mlogloss:0.04536\teval-mlogloss:0.28554\n"
     ]
    },
    {
     "name": "stdout",
     "output_type": "stream",
     "text": [
      "[300]\ttrain-mlogloss:0.02696\teval-mlogloss:0.28463\n"
     ]
    },
    {
     "name": "stdout",
     "output_type": "stream",
     "text": [
      "[400]\ttrain-mlogloss:0.01919\teval-mlogloss:0.28728\n"
     ]
    },
    {
     "name": "stdout",
     "output_type": "stream",
     "text": [
      "[500]\ttrain-mlogloss:0.01499\teval-mlogloss:0.29197\n"
     ]
    },
    {
     "name": "stdout",
     "output_type": "stream",
     "text": [
      "[600]\ttrain-mlogloss:0.01239\teval-mlogloss:0.29573\n"
     ]
    },
    {
     "name": "stdout",
     "output_type": "stream",
     "text": [
      "[700]\ttrain-mlogloss:0.01065\teval-mlogloss:0.29911\n"
     ]
    },
    {
     "name": "stdout",
     "output_type": "stream",
     "text": [
      "[800]\ttrain-mlogloss:0.00945\teval-mlogloss:0.30210\n"
     ]
    },
    {
     "name": "stdout",
     "output_type": "stream",
     "text": [
      "[900]\ttrain-mlogloss:0.00855\teval-mlogloss:0.30494\n"
     ]
    },
    {
     "name": "stdout",
     "output_type": "stream",
     "text": [
      "[1000]\ttrain-mlogloss:0.00784\teval-mlogloss:0.30762\n"
     ]
    },
    {
     "name": "stdout",
     "output_type": "stream",
     "text": [
      "[1100]\ttrain-mlogloss:0.00727\teval-mlogloss:0.31014\n"
     ]
    },
    {
     "name": "stdout",
     "output_type": "stream",
     "text": [
      "[1200]\ttrain-mlogloss:0.00682\teval-mlogloss:0.31246\n"
     ]
    },
    {
     "name": "stdout",
     "output_type": "stream",
     "text": [
      "[1264]\ttrain-mlogloss:0.00657\teval-mlogloss:0.31387\n"
     ]
    },
    {
     "name": "stdout",
     "output_type": "stream",
     "text": [
      "[0]\ttrain-mlogloss:1.77704\teval-mlogloss:1.78446\n"
     ]
    },
    {
     "name": "stdout",
     "output_type": "stream",
     "text": [
      "[50]\ttrain-mlogloss:0.23960\teval-mlogloss:0.38483\n"
     ]
    },
    {
     "name": "stdout",
     "output_type": "stream",
     "text": [
      "[100]\ttrain-mlogloss:0.11442\teval-mlogloss:0.29573\n"
     ]
    },
    {
     "name": "stdout",
     "output_type": "stream",
     "text": [
      "[150]\ttrain-mlogloss:0.07490\teval-mlogloss:0.27342\n"
     ]
    },
    {
     "name": "stdout",
     "output_type": "stream",
     "text": [
      "[200]\ttrain-mlogloss:0.05256\teval-mlogloss:0.26358\n"
     ]
    },
    {
     "name": "stdout",
     "output_type": "stream",
     "text": [
      "[250]\ttrain-mlogloss:0.03883\teval-mlogloss:0.25961\n"
     ]
    },
    {
     "name": "stdout",
     "output_type": "stream",
     "text": [
      "[300]\ttrain-mlogloss:0.03034\teval-mlogloss:0.25824\n"
     ]
    },
    {
     "name": "stdout",
     "output_type": "stream",
     "text": [
      "[350]\ttrain-mlogloss:0.02474\teval-mlogloss:0.25850\n"
     ]
    },
    {
     "name": "stdout",
     "output_type": "stream",
     "text": [
      "[351]\ttrain-mlogloss:0.02462\teval-mlogloss:0.25848\n"
     ]
    },
    {
     "name": "stdout",
     "output_type": "stream",
     "text": [
      "\n",
      "Classification Report on Test Set:\n",
      "              precision    recall  f1-score   support\n",
      "\n",
      "           0       0.89      0.91      0.90     11992\n",
      "           1       0.92      0.93      0.92     11487\n",
      "           2       0.94      0.95      0.95     10924\n",
      "           3       0.95      0.96      0.95     12205\n",
      "           4       0.92      0.95      0.94     10248\n",
      "           5       0.78      0.62      0.69      5521\n",
      "           6       0.88      0.90      0.89     13037\n",
      "\n",
      "    accuracy                           0.91     75414\n",
      "   macro avg       0.90      0.89      0.89     75414\n",
      "weighted avg       0.91      0.91      0.91     75414\n",
      "\n"
     ]
    },
    {
     "data": {
      "image/png": "[encoded data removed]",
      "text/plain": [
       "<Figure size 640x480 with 1 Axes>"
      ]
     },
     "metadata": {},
     "output_type": "display_data"
    },
    {
     "data": {
      "image/png": "[encoded data removed]",
      "text/plain": [
       "<Figure size 640x480 with 2 Axes>"
      ]
     },
     "metadata": {},
     "output_type": "display_data"
    },
    {
     "name": "stdout",
     "output_type": "stream",
     "text": [
      "{'average_accuracy': 0.9025371256543985, 'average_f1_macro': np.float64(0.884333942682647), 'average_f1_micro': np.float64(0.9025371256543985), 'average_auc': np.float64(0.9876449549715942), 'average_acc_kelas_generatif': 0.9543016978354659, 'average_acc_fase_padi': 0.940500338066261}\n",
      "{'val_accuracy': 0.9085183122497149, 'val_f1_macro': np.float64(0.8914168587797455), 'val_f1_micro': np.float64(0.9085183122497149), 'val_auc': np.float64(0.9897813535075574), 'val_acc_kelas_generatif': 0.957230643179025, 'val_acc_fase_padi': 0.9460814907275321, 'val_relative_acc': np.float64(99.7160019614253)}\n",
      "=============================================================================\n",
      "=============================================================================\n",
      "CLUSTER:  2\n"
     ]
    },
    {
     "name": "stderr",
     "output_type": "stream",
     "text": [
      "[I 2024-10-23 11:25:37,438] A new study created in memory with name: no-name-c381abd5-c031-4672-a498-185c517c64b1\n"
     ]
    },
    {
     "name": "stdout",
     "output_type": "stream",
     "text": [
      "[2 1 0 4 6 3 5]\n",
      "[0 1 2 3 4 5 6]\n",
      "Mapping of original to encoded classes: {np.int64(0): np.int64(0), np.int64(1): np.int64(1), np.int64(2): np.int64(2), np.int64(3): np.int64(3), np.int64(4): np.int64(4), np.int64(5): np.int64(5), np.int64(6): np.int64(6)}\n",
      "Build Best Parameter using Optuna-Hyperparameter Tuning\n"
     ]
    },
    {
     "name": "stderr",
     "output_type": "stream",
     "text": [
      "[I 2024-10-23 11:26:06,050] Trial 0 finished with value: 0.6877055184460134 and parameters: {'max_depth': 9, 'learning_rate': 0.05050254107262216, 'reg_lambda': 1.618029223845682, 'min_child_weight': 61}. Best is trial 0 with value: 0.6877055184460134.\n"
     ]
    },
    {
     "name": "stderr",
     "output_type": "stream",
     "text": [
      "[I 2024-10-23 11:26:23,768] Trial 1 finished with value: 0.6890812919115884 and parameters: {'max_depth': 8, 'learning_rate': 0.09501196683518374, 'reg_lambda': 0.5187192189233394, 'min_child_weight': 87}. Best is trial 1 with value: 0.6890812919115884.\n"
     ]
    },
    {
     "name": "stderr",
     "output_type": "stream",
     "text": [
      "[I 2024-10-23 11:27:36,848] Trial 2 finished with value: 0.6855704243385424 and parameters: {'max_depth': 9, 'learning_rate': 0.01738548084295765, 'reg_lambda': 4.075309242257729, 'min_child_weight': 61}. Best is trial 1 with value: 0.6890812919115884.\n"
     ]
    },
    {
     "name": "stderr",
     "output_type": "stream",
     "text": [
      "[I 2024-10-23 11:27:57,411] Trial 3 finished with value: 0.683641988814163 and parameters: {'max_depth': 6, 'learning_rate': 0.08598406471893218, 'reg_lambda': 2.7078992254055407, 'min_child_weight': 86}. Best is trial 1 with value: 0.6890812919115884.\n"
     ]
    },
    {
     "name": "stderr",
     "output_type": "stream",
     "text": [
      "[I 2024-10-23 11:28:33,047] Trial 4 finished with value: 0.684264086535428 and parameters: {'max_depth': 6, 'learning_rate': 0.0464870775194512, 'reg_lambda': 1.5601700271015078, 'min_child_weight': 85}. Best is trial 1 with value: 0.6890812919115884.\n"
     ]
    },
    {
     "name": "stderr",
     "output_type": "stream",
     "text": [
      "[I 2024-10-23 11:28:59,027] Trial 5 finished with value: 0.6886730106043175 and parameters: {'max_depth': 7, 'learning_rate': 0.05876314010033369, 'reg_lambda': 0.4745114696428486, 'min_child_weight': 59}. Best is trial 1 with value: 0.6890812919115884.\n"
     ]
    },
    {
     "name": "stderr",
     "output_type": "stream",
     "text": [
      "[I 2024-10-23 11:29:20,603] Trial 6 finished with value: 0.6876088310019105 and parameters: {'max_depth': 8, 'learning_rate': 0.07507437506449473, 'reg_lambda': 0.21888802236487276, 'min_child_weight': 57}. Best is trial 1 with value: 0.6890812919115884.\n"
     ]
    },
    {
     "name": "stderr",
     "output_type": "stream",
     "text": [
      "[I 2024-10-23 11:29:40,261] Trial 7 finished with value: 0.6884358612554581 and parameters: {'max_depth': 8, 'learning_rate': 0.08298375104314737, 'reg_lambda': 3.0528547866969746, 'min_child_weight': 63}. Best is trial 1 with value: 0.6890812919115884.\n"
     ]
    },
    {
     "name": "stderr",
     "output_type": "stream",
     "text": [
      "[I 2024-10-23 11:30:29,267] Trial 8 finished with value: 0.6789197722452794 and parameters: {'max_depth': 6, 'learning_rate': 0.018368790118744028, 'reg_lambda': 0.9342365080671085, 'min_child_weight': 78}. Best is trial 1 with value: 0.6890812919115884.\n"
     ]
    },
    {
     "name": "stderr",
     "output_type": "stream",
     "text": [
      "[I 2024-10-23 11:31:04,950] Trial 9 finished with value: 0.6863052776558677 and parameters: {'max_depth': 6, 'learning_rate': 0.049743937134555535, 'reg_lambda': 3.3473130963303364, 'min_child_weight': 94}. Best is trial 1 with value: 0.6890812919115884.\n"
     ]
    },
    {
     "name": "stderr",
     "output_type": "stream",
     "text": [
      "[I 2024-10-23 11:31:23,911] Trial 10 finished with value: 0.6868807714877647 and parameters: {'max_depth': 10, 'learning_rate': 0.09845072595404497, 'reg_lambda': 4.750723154691984, 'min_child_weight': 99}. Best is trial 1 with value: 0.6890812919115884.\n"
     ]
    },
    {
     "name": "stderr",
     "output_type": "stream",
     "text": [
      "[I 2024-10-23 11:31:48,015] Trial 11 finished with value: 0.6868023753223466 and parameters: {'max_depth': 7, 'learning_rate': 0.0661934692342663, 'reg_lambda': 0.12040550837095243, 'min_child_weight': 50}. Best is trial 1 with value: 0.6890812919115884.\n"
     ]
    },
    {
     "name": "stderr",
     "output_type": "stream",
     "text": [
      "[I 2024-10-23 11:32:38,909] Trial 12 finished with value: 0.6888184460098197 and parameters: {'max_depth': 8, 'learning_rate': 0.030101829639944087, 'reg_lambda': 1.4566763955065751, 'min_child_weight': 72}. Best is trial 1 with value: 0.6890812919115884.\n"
     ]
    },
    {
     "name": "stderr",
     "output_type": "stream",
     "text": [
      "[I 2024-10-23 11:33:21,877] Trial 13 finished with value: 0.6880036377071245 and parameters: {'max_depth': 9, 'learning_rate': 0.03600377918880019, 'reg_lambda': 1.797131709150917, 'min_child_weight': 73}. Best is trial 1 with value: 0.6890812919115884.\n"
     ]
    },
    {
     "name": "stderr",
     "output_type": "stream",
     "text": [
      "[I 2024-10-23 11:34:13,161] Trial 14 finished with value: 0.685702312652421 and parameters: {'max_depth': 7, 'learning_rate': 0.03077285227233834, 'reg_lambda': 1.0687132030732065, 'min_child_weight': 74}. Best is trial 1 with value: 0.6890812919115884.\n"
     ]
    },
    {
     "name": "stderr",
     "output_type": "stream",
     "text": [
      "[I 2024-10-23 11:34:31,670] Trial 15 finished with value: 0.6893016992979222 and parameters: {'max_depth': 8, 'learning_rate': 0.09939776477599126, 'reg_lambda': 2.220308414019091, 'min_child_weight': 83}. Best is trial 15 with value: 0.6893016992979222.\n"
     ]
    },
    {
     "name": "stderr",
     "output_type": "stream",
     "text": [
      "[I 2024-10-23 11:34:50,732] Trial 16 finished with value: 0.6883801691198338 and parameters: {'max_depth': 8, 'learning_rate': 0.09694327204624792, 'reg_lambda': 2.225459685539334, 'min_child_weight': 86}. Best is trial 15 with value: 0.6893016992979222.\n"
     ]
    },
    {
     "name": "stderr",
     "output_type": "stream",
     "text": [
      "[I 2024-10-23 11:35:10,663] Trial 17 finished with value: 0.6878145047821563 and parameters: {'max_depth': 10, 'learning_rate': 0.08907024841691498, 'reg_lambda': 3.811719031421851, 'min_child_weight': 82}. Best is trial 15 with value: 0.6893016992979222.\n"
     ]
    },
    {
     "name": "stderr",
     "output_type": "stream",
     "text": [
      "[I 2024-10-23 11:35:34,449] Trial 18 finished with value: 0.6895021664823316 and parameters: {'max_depth': 9, 'learning_rate': 0.07411742461292413, 'reg_lambda': 2.3400249591438897, 'min_child_weight': 93}. Best is trial 18 with value: 0.6895021664823316.\n"
     ]
    },
    {
     "name": "stderr",
     "output_type": "stream",
     "text": [
      "[I 2024-10-23 11:35:59,460] Trial 19 finished with value: 0.6892694455094369 and parameters: {'max_depth': 9, 'learning_rate': 0.07174427963037236, 'reg_lambda': 2.5372315031961445, 'min_child_weight': 94}. Best is trial 18 with value: 0.6895021664823316.\n"
     ]
    },
    {
     "name": "stdout",
     "output_type": "stream",
     "text": [
      "Best Parameters: {'max_depth': 9, 'learning_rate': 0.07411742461292413, 'reg_lambda': 2.3400249591438897, 'min_child_weight': 93}\n",
      "Best Score: 0.6895021664823316\n",
      "Start the modelling\n",
      "[0]\ttrain-mlogloss:1.83687\teval-mlogloss:1.85406\n"
     ]
    },
    {
     "name": "stdout",
     "output_type": "stream",
     "text": [
      "[100]\ttrain-mlogloss:0.41798\teval-mlogloss:0.84802\n"
     ]
    },
    {
     "name": "stdout",
     "output_type": "stream",
     "text": [
      "[200]\ttrain-mlogloss:0.27782\teval-mlogloss:0.82195\n"
     ]
    },
    {
     "name": "stdout",
     "output_type": "stream",
     "text": [
      "[300]\ttrain-mlogloss:0.19669\teval-mlogloss:0.81404\n"
     ]
    },
    {
     "name": "stdout",
     "output_type": "stream",
     "text": [
      "[400]\ttrain-mlogloss:0.14628\teval-mlogloss:0.81568\n"
     ]
    },
    {
     "name": "stdout",
     "output_type": "stream",
     "text": [
      "[500]\ttrain-mlogloss:0.11428\teval-mlogloss:0.82112\n"
     ]
    },
    {
     "name": "stdout",
     "output_type": "stream",
     "text": [
      "[600]\ttrain-mlogloss:0.09064\teval-mlogloss:0.82818\n"
     ]
    },
    {
     "name": "stdout",
     "output_type": "stream",
     "text": [
      "[700]\ttrain-mlogloss:0.07599\teval-mlogloss:0.83705\n"
     ]
    },
    {
     "name": "stdout",
     "output_type": "stream",
     "text": [
      "[800]\ttrain-mlogloss:0.06512\teval-mlogloss:0.84494\n"
     ]
    },
    {
     "name": "stdout",
     "output_type": "stream",
     "text": [
      "[900]\ttrain-mlogloss:0.05692\teval-mlogloss:0.85223\n"
     ]
    },
    {
     "name": "stdout",
     "output_type": "stream",
     "text": [
      "[1000]\ttrain-mlogloss:0.05026\teval-mlogloss:0.85932\n"
     ]
    },
    {
     "name": "stdout",
     "output_type": "stream",
     "text": [
      "[1100]\ttrain-mlogloss:0.04479\teval-mlogloss:0.86627\n"
     ]
    },
    {
     "name": "stdout",
     "output_type": "stream",
     "text": [
      "[1200]\ttrain-mlogloss:0.04050\teval-mlogloss:0.87326\n"
     ]
    },
    {
     "name": "stdout",
     "output_type": "stream",
     "text": [
      "[1300]\ttrain-mlogloss:0.03704\teval-mlogloss:0.87977\n"
     ]
    },
    {
     "name": "stdout",
     "output_type": "stream",
     "text": [
      "[1337]\ttrain-mlogloss:0.03583\teval-mlogloss:0.88208\n"
     ]
    },
    {
     "name": "stdout",
     "output_type": "stream",
     "text": [
      "[0]\ttrain-mlogloss:1.83578\teval-mlogloss:1.85458\n"
     ]
    },
    {
     "name": "stdout",
     "output_type": "stream",
     "text": [
      "[100]\ttrain-mlogloss:0.42305\teval-mlogloss:0.87082\n"
     ]
    },
    {
     "name": "stdout",
     "output_type": "stream",
     "text": [
      "[200]\ttrain-mlogloss:0.26974\teval-mlogloss:0.83818\n"
     ]
    },
    {
     "name": "stdout",
     "output_type": "stream",
     "text": [
      "[300]\ttrain-mlogloss:0.19082\teval-mlogloss:0.83451\n"
     ]
    },
    {
     "name": "stdout",
     "output_type": "stream",
     "text": [
      "[400]\ttrain-mlogloss:0.14230\teval-mlogloss:0.83794\n"
     ]
    },
    {
     "name": "stdout",
     "output_type": "stream",
     "text": [
      "[500]\ttrain-mlogloss:0.11269\teval-mlogloss:0.84711\n"
     ]
    },
    {
     "name": "stdout",
     "output_type": "stream",
     "text": [
      "[600]\ttrain-mlogloss:0.09265\teval-mlogloss:0.85674\n"
     ]
    },
    {
     "name": "stdout",
     "output_type": "stream",
     "text": [
      "[700]\ttrain-mlogloss:0.07769\teval-mlogloss:0.86653\n"
     ]
    },
    {
     "name": "stdout",
     "output_type": "stream",
     "text": [
      "[800]\ttrain-mlogloss:0.06568\teval-mlogloss:0.87614\n"
     ]
    },
    {
     "name": "stdout",
     "output_type": "stream",
     "text": [
      "[900]\ttrain-mlogloss:0.05734\teval-mlogloss:0.88554\n"
     ]
    },
    {
     "name": "stdout",
     "output_type": "stream",
     "text": [
      "[1000]\ttrain-mlogloss:0.05003\teval-mlogloss:0.89613\n"
     ]
    },
    {
     "name": "stdout",
     "output_type": "stream",
     "text": [
      "[1100]\ttrain-mlogloss:0.04466\teval-mlogloss:0.90563\n"
     ]
    },
    {
     "name": "stdout",
     "output_type": "stream",
     "text": [
      "[1200]\ttrain-mlogloss:0.04049\teval-mlogloss:0.91398\n"
     ]
    },
    {
     "name": "stdout",
     "output_type": "stream",
     "text": [
      "[1294]\ttrain-mlogloss:0.03700\teval-mlogloss:0.92122\n"
     ]
    },
    {
     "name": "stdout",
     "output_type": "stream",
     "text": [
      "[0]\ttrain-mlogloss:1.83627\teval-mlogloss:1.85530\n"
     ]
    },
    {
     "name": "stdout",
     "output_type": "stream",
     "text": [
      "[100]\ttrain-mlogloss:0.40642\teval-mlogloss:0.85678\n"
     ]
    },
    {
     "name": "stdout",
     "output_type": "stream",
     "text": [
      "[200]\ttrain-mlogloss:0.26425\teval-mlogloss:0.82746\n"
     ]
    },
    {
     "name": "stdout",
     "output_type": "stream",
     "text": [
      "[300]\ttrain-mlogloss:0.18735\teval-mlogloss:0.82317\n"
     ]
    },
    {
     "name": "stdout",
     "output_type": "stream",
     "text": [
      "[400]\ttrain-mlogloss:0.13679\teval-mlogloss:0.82512\n"
     ]
    },
    {
     "name": "stdout",
     "output_type": "stream",
     "text": [
      "[500]\ttrain-mlogloss:0.10633\teval-mlogloss:0.83209\n"
     ]
    },
    {
     "name": "stdout",
     "output_type": "stream",
     "text": [
      "[600]\ttrain-mlogloss:0.08568\teval-mlogloss:0.84098\n"
     ]
    },
    {
     "name": "stdout",
     "output_type": "stream",
     "text": [
      "[700]\ttrain-mlogloss:0.07235\teval-mlogloss:0.84958\n"
     ]
    },
    {
     "name": "stdout",
     "output_type": "stream",
     "text": [
      "[800]\ttrain-mlogloss:0.06200\teval-mlogloss:0.85916\n"
     ]
    },
    {
     "name": "stdout",
     "output_type": "stream",
     "text": [
      "[900]\ttrain-mlogloss:0.05422\teval-mlogloss:0.86809\n"
     ]
    },
    {
     "name": "stdout",
     "output_type": "stream",
     "text": [
      "[1000]\ttrain-mlogloss:0.04813\teval-mlogloss:0.87750\n"
     ]
    },
    {
     "name": "stdout",
     "output_type": "stream",
     "text": [
      "[1100]\ttrain-mlogloss:0.04307\teval-mlogloss:0.88544\n"
     ]
    },
    {
     "name": "stdout",
     "output_type": "stream",
     "text": [
      "[1200]\ttrain-mlogloss:0.03877\teval-mlogloss:0.89304\n"
     ]
    },
    {
     "name": "stdout",
     "output_type": "stream",
     "text": [
      "[1272]\ttrain-mlogloss:0.03626\teval-mlogloss:0.89922\n"
     ]
    },
    {
     "name": "stdout",
     "output_type": "stream",
     "text": [
      "[0]\ttrain-mlogloss:1.83461\teval-mlogloss:1.85160\n"
     ]
    },
    {
     "name": "stdout",
     "output_type": "stream",
     "text": [
      "[50]\ttrain-mlogloss:0.61305\teval-mlogloss:0.90826\n"
     ]
    },
    {
     "name": "stdout",
     "output_type": "stream",
     "text": [
      "[100]\ttrain-mlogloss:0.44086\teval-mlogloss:0.82787\n"
     ]
    },
    {
     "name": "stdout",
     "output_type": "stream",
     "text": [
      "[150]\ttrain-mlogloss:0.35779\teval-mlogloss:0.80319\n"
     ]
    },
    {
     "name": "stdout",
     "output_type": "stream",
     "text": [
      "[200]\ttrain-mlogloss:0.29963\teval-mlogloss:0.79200\n"
     ]
    },
    {
     "name": "stdout",
     "output_type": "stream",
     "text": [
      "[250]\ttrain-mlogloss:0.25288\teval-mlogloss:0.78437\n"
     ]
    },
    {
     "name": "stdout",
     "output_type": "stream",
     "text": [
      "[300]\ttrain-mlogloss:0.21634\teval-mlogloss:0.78006\n"
     ]
    },
    {
     "name": "stdout",
     "output_type": "stream",
     "text": [
      "[350]\ttrain-mlogloss:0.18673\teval-mlogloss:0.77812\n"
     ]
    },
    {
     "name": "stdout",
     "output_type": "stream",
     "text": [
      "[400]\ttrain-mlogloss:0.16318\teval-mlogloss:0.77757\n"
     ]
    },
    {
     "name": "stdout",
     "output_type": "stream",
     "text": [
      "[445]\ttrain-mlogloss:0.14549\teval-mlogloss:0.77753\n"
     ]
    },
    {
     "name": "stdout",
     "output_type": "stream",
     "text": [
      "\n",
      "Classification Report on Test Set:\n",
      "              precision    recall  f1-score   support\n",
      "\n",
      "           0       0.72      0.72      0.72     12859\n",
      "           1       0.77      0.76      0.76      4498\n",
      "           2       0.71      0.64      0.67      5863\n",
      "           3       0.87      0.92      0.89      7563\n",
      "           4       0.85      0.90      0.87      4945\n",
      "           5       0.57      0.50      0.53      5873\n",
      "           6       0.46      0.50      0.48      6032\n",
      "\n",
      "    accuracy                           0.71     47633\n",
      "   macro avg       0.71      0.71      0.70     47633\n",
      "weighted avg       0.71      0.71      0.71     47633\n",
      "\n"
     ]
    },
    {
     "data": {
      "image/png": "[encoded data removed]",
      "text/plain": [
       "<Figure size 640x480 with 1 Axes>"
      ]
     },
     "metadata": {},
     "output_type": "display_data"
    },
    {
     "data": {
      "image/png": "[encoded data removed]",
      "text/plain": [
       "<Figure size 640x480 with 2 Axes>"
      ]
     },
     "metadata": {},
     "output_type": "display_data"
    },
    {
     "name": "stdout",
     "output_type": "stream",
     "text": [
      "{'average_accuracy': 0.7000927837322646, 'average_f1_macro': np.float64(0.6899358200606747), 'average_f1_micro': np.float64(0.7000927837322646), 'average_auc': np.float64(0.9264288867861534), 'average_acc_kelas_generatif': 0.921629778097555, 'average_acc_fase_padi': 0.797368758301197}\n",
      "{'val_accuracy': 0.7094871202737598, 'val_f1_macro': np.float64(0.7048212420415542), 'val_f1_micro': np.float64(0.7094871202737598), 'val_auc': np.float64(0.9350884887448203), 'val_acc_kelas_generatif': 0.9233108554806294, 'val_acc_fase_padi': 0.8125847216756308, 'val_relative_acc': np.float64(97.44358465340518)}\n",
      "=============================================================================\n",
      "=============================================================================\n",
      "CLUSTER:  3\n"
     ]
    },
    {
     "name": "stderr",
     "output_type": "stream",
     "text": [
      "[I 2024-10-23 11:37:29,540] A new study created in memory with name: no-name-49253c00-8388-4050-b803-b467bb5cebd3\n"
     ]
    },
    {
     "name": "stdout",
     "output_type": "stream",
     "text": [
      "[1 2 3 4 0 5 6]\n",
      "[0 1 2 3 4 5 6]\n",
      "Mapping of original to encoded classes: {np.int64(0): np.int64(0), np.int64(1): np.int64(1), np.int64(2): np.int64(2), np.int64(3): np.int64(3), np.int64(4): np.int64(4), np.int64(5): np.int64(5), np.int64(6): np.int64(6)}\n",
      "Build Best Parameter using Optuna-Hyperparameter Tuning\n"
     ]
    },
    {
     "name": "stderr",
     "output_type": "stream",
     "text": [
      "[I 2024-10-23 11:38:23,700] Trial 0 finished with value: 0.9260388521303019 and parameters: {'max_depth': 6, 'learning_rate': 0.02635941546185417, 'reg_lambda': 1.5938843265912221, 'min_child_weight': 52}. Best is trial 0 with value: 0.9260388521303019.\n"
     ]
    },
    {
     "name": "stderr",
     "output_type": "stream",
     "text": [
      "[I 2024-10-23 11:39:00,853] Trial 1 finished with value: 0.9262724369941736 and parameters: {'max_depth': 10, 'learning_rate': 0.04042872157143568, 'reg_lambda': 0.6849612463486459, 'min_child_weight': 95}. Best is trial 1 with value: 0.9262724369941736.\n"
     ]
    },
    {
     "name": "stderr",
     "output_type": "stream",
     "text": [
      "[I 2024-10-23 11:39:51,980] Trial 2 finished with value: 0.9258549116381419 and parameters: {'max_depth': 10, 'learning_rate': 0.029427847554497982, 'reg_lambda': 2.5703364461491476, 'min_child_weight': 89}. Best is trial 1 with value: 0.9262724369941736.\n"
     ]
    },
    {
     "name": "stderr",
     "output_type": "stream",
     "text": [
      "[I 2024-10-23 11:40:45,066] Trial 3 finished with value: 0.9253285426791594 and parameters: {'max_depth': 6, 'learning_rate': 0.02778055781468214, 'reg_lambda': 1.373990463199246, 'min_child_weight': 58}. Best is trial 1 with value: 0.9262724369941736.\n"
     ]
    },
    {
     "name": "stderr",
     "output_type": "stream",
     "text": [
      "[I 2024-10-23 11:41:55,555] Trial 4 finished with value: 0.9254332814571168 and parameters: {'max_depth': 8, 'learning_rate': 0.017088753846668452, 'reg_lambda': 4.298199589070735, 'min_child_weight': 66}. Best is trial 1 with value: 0.9262724369941736.\n"
     ]
    },
    {
     "name": "stderr",
     "output_type": "stream",
     "text": [
      "[I 2024-10-23 11:42:15,764] Trial 5 finished with value: 0.9269673417027073 and parameters: {'max_depth': 10, 'learning_rate': 0.0799464909324228, 'reg_lambda': 2.424381888084999, 'min_child_weight': 75}. Best is trial 5 with value: 0.9269673417027073.\n"
     ]
    },
    {
     "name": "stderr",
     "output_type": "stream",
     "text": [
      "[I 2024-10-23 11:43:26,457] Trial 6 finished with value: 0.926540973618089 and parameters: {'max_depth': 8, 'learning_rate': 0.018822764249217125, 'reg_lambda': 3.1188206745726137, 'min_child_weight': 53}. Best is trial 5 with value: 0.9269673417027073.\n"
     ]
    },
    {
     "name": "stderr",
     "output_type": "stream",
     "text": [
      "[I 2024-10-23 11:44:27,783] Trial 7 finished with value: 0.9262286228687908 and parameters: {'max_depth': 10, 'learning_rate': 0.023798965874642614, 'reg_lambda': 0.45311040153967663, 'min_child_weight': 94}. Best is trial 5 with value: 0.9269673417027073.\n"
     ]
    },
    {
     "name": "stderr",
     "output_type": "stream",
     "text": [
      "[I 2024-10-23 11:45:01,183] Trial 8 finished with value: 0.9259660200019181 and parameters: {'max_depth': 9, 'learning_rate': 0.045169877353609854, 'reg_lambda': 3.603738575860377, 'min_child_weight': 77}. Best is trial 5 with value: 0.9269673417027073.\n"
     ]
    },
    {
     "name": "stderr",
     "output_type": "stream",
     "text": [
      "[I 2024-10-23 11:45:44,577] Trial 9 finished with value: 0.926390236813741 and parameters: {'max_depth': 9, 'learning_rate': 0.034727969443809924, 'reg_lambda': 4.18916137725941, 'min_child_weight': 79}. Best is trial 5 with value: 0.9269673417027073.\n"
     ]
    },
    {
     "name": "stderr",
     "output_type": "stream",
     "text": [
      "[I 2024-10-23 11:46:05,637] Trial 10 finished with value: 0.9258959168894249 and parameters: {'max_depth': 7, 'learning_rate': 0.08373709258849393, 'reg_lambda': 2.1935708190481984, 'min_child_weight': 65}. Best is trial 5 with value: 0.9269673417027073.\n"
     ]
    },
    {
     "name": "stderr",
     "output_type": "stream",
     "text": [
      "[I 2024-10-23 11:46:28,237] Trial 11 finished with value: 0.9267587475665064 and parameters: {'max_depth': 8, 'learning_rate': 0.07192455303732881, 'reg_lambda': 3.044418263343852, 'min_child_weight': 68}. Best is trial 5 with value: 0.9269673417027073.\n"
     ]
    },
    {
     "name": "stderr",
     "output_type": "stream",
     "text": [
      "[I 2024-10-23 11:46:50,066] Trial 12 finished with value: 0.9262748841714242 and parameters: {'max_depth': 8, 'learning_rate': 0.07477098031008995, 'reg_lambda': 2.9832813623994734, 'min_child_weight': 71}. Best is trial 5 with value: 0.9269673417027073.\n"
     ]
    },
    {
     "name": "stderr",
     "output_type": "stream",
     "text": [
      "[I 2024-10-23 11:47:13,404] Trial 13 finished with value: 0.9263804732326842 and parameters: {'max_depth': 9, 'learning_rate': 0.06752947256021087, 'reg_lambda': 4.86024151586513, 'min_child_weight': 84}. Best is trial 5 with value: 0.9269673417027073.\n"
     ]
    },
    {
     "name": "stderr",
     "output_type": "stream",
     "text": [
      "[I 2024-10-23 11:47:32,644] Trial 14 finished with value: 0.926232735332453 and parameters: {'max_depth': 7, 'learning_rate': 0.09660906337972142, 'reg_lambda': 2.0491432951676467, 'min_child_weight': 70}. Best is trial 5 with value: 0.9269673417027073.\n"
     ]
    },
    {
     "name": "stderr",
     "output_type": "stream",
     "text": [
      "[I 2024-10-23 11:48:00,559] Trial 15 finished with value: 0.9256878376638008 and parameters: {'max_depth': 7, 'learning_rate': 0.05713950922058106, 'reg_lambda': 3.5099405318816066, 'min_child_weight': 82}. Best is trial 5 with value: 0.9269673417027073.\n"
     ]
    },
    {
     "name": "stderr",
     "output_type": "stream",
     "text": [
      "[I 2024-10-23 11:48:17,674] Trial 16 finished with value: 0.9266515459062307 and parameters: {'max_depth': 9, 'learning_rate': 0.09464285157379608, 'reg_lambda': 1.260493443302576, 'min_child_weight': 61}. Best is trial 5 with value: 0.9269673417027073.\n"
     ]
    },
    {
     "name": "stderr",
     "output_type": "stream",
     "text": [
      "[I 2024-10-23 11:48:44,993] Trial 17 finished with value: 0.9259647309755569 and parameters: {'max_depth': 7, 'learning_rate': 0.061300039920400604, 'reg_lambda': 2.713360264267877, 'min_child_weight': 75}. Best is trial 5 with value: 0.9269673417027073.\n"
     ]
    },
    {
     "name": "stderr",
     "output_type": "stream",
     "text": [
      "[I 2024-10-23 11:49:04,804] Trial 18 finished with value: 0.9268198464717815 and parameters: {'max_depth': 9, 'learning_rate': 0.08186647211591253, 'reg_lambda': 2.036522556250652, 'min_child_weight': 72}. Best is trial 5 with value: 0.9269673417027073.\n"
     ]
    },
    {
     "name": "stderr",
     "output_type": "stream",
     "text": [
      "[I 2024-10-23 11:49:25,181] Trial 19 finished with value: 0.9259670409370916 and parameters: {'max_depth': 10, 'learning_rate': 0.0844499700101853, 'reg_lambda': 1.8860776581603458, 'min_child_weight': 86}. Best is trial 5 with value: 0.9269673417027073.\n"
     ]
    },
    {
     "name": "stdout",
     "output_type": "stream",
     "text": [
      "Best Parameters: {'max_depth': 10, 'learning_rate': 0.0799464909324228, 'reg_lambda': 2.424381888084999, 'min_child_weight': 75}\n",
      "Best Score: 0.9269673417027073\n",
      "Start the modelling\n",
      "[0]\ttrain-mlogloss:1.72926\teval-mlogloss:1.73774\n"
     ]
    },
    {
     "name": "stdout",
     "output_type": "stream",
     "text": [
      "[100]\ttrain-mlogloss:0.06849\teval-mlogloss:0.19687\n"
     ]
    },
    {
     "name": "stdout",
     "output_type": "stream",
     "text": [
      "[200]\ttrain-mlogloss:0.03123\teval-mlogloss:0.18593\n"
     ]
    },
    {
     "name": "stdout",
     "output_type": "stream",
     "text": [
      "[300]\ttrain-mlogloss:0.01961\teval-mlogloss:0.18765\n"
     ]
    },
    {
     "name": "stdout",
     "output_type": "stream",
     "text": [
      "[400]\ttrain-mlogloss:0.01432\teval-mlogloss:0.19127\n"
     ]
    },
    {
     "name": "stdout",
     "output_type": "stream",
     "text": [
      "[500]\ttrain-mlogloss:0.01148\teval-mlogloss:0.19462\n"
     ]
    },
    {
     "name": "stdout",
     "output_type": "stream",
     "text": [
      "[600]\ttrain-mlogloss:0.00973\teval-mlogloss:0.19746\n"
     ]
    },
    {
     "name": "stdout",
     "output_type": "stream",
     "text": [
      "[700]\ttrain-mlogloss:0.00854\teval-mlogloss:0.19999\n"
     ]
    },
    {
     "name": "stdout",
     "output_type": "stream",
     "text": [
      "[800]\ttrain-mlogloss:0.00769\teval-mlogloss:0.20215\n"
     ]
    },
    {
     "name": "stdout",
     "output_type": "stream",
     "text": [
      "[900]\ttrain-mlogloss:0.00705\teval-mlogloss:0.20416\n"
     ]
    },
    {
     "name": "stdout",
     "output_type": "stream",
     "text": [
      "[1000]\ttrain-mlogloss:0.00654\teval-mlogloss:0.20572\n"
     ]
    },
    {
     "name": "stdout",
     "output_type": "stream",
     "text": [
      "[1100]\ttrain-mlogloss:0.00612\teval-mlogloss:0.20724\n"
     ]
    },
    {
     "name": "stdout",
     "output_type": "stream",
     "text": [
      "[1200]\ttrain-mlogloss:0.00577\teval-mlogloss:0.20860\n"
     ]
    },
    {
     "name": "stdout",
     "output_type": "stream",
     "text": [
      "[1215]\ttrain-mlogloss:0.00573\teval-mlogloss:0.20870\n"
     ]
    },
    {
     "name": "stdout",
     "output_type": "stream",
     "text": [
      "[0]\ttrain-mlogloss:1.73058\teval-mlogloss:1.73838\n"
     ]
    },
    {
     "name": "stdout",
     "output_type": "stream",
     "text": [
      "[100]\ttrain-mlogloss:0.07012\teval-mlogloss:0.19913\n"
     ]
    },
    {
     "name": "stdout",
     "output_type": "stream",
     "text": [
      "[200]\ttrain-mlogloss:0.03224\teval-mlogloss:0.18784\n"
     ]
    },
    {
     "name": "stdout",
     "output_type": "stream",
     "text": [
      "[300]\ttrain-mlogloss:0.01982\teval-mlogloss:0.18954\n"
     ]
    },
    {
     "name": "stdout",
     "output_type": "stream",
     "text": [
      "[400]\ttrain-mlogloss:0.01442\teval-mlogloss:0.19271\n"
     ]
    },
    {
     "name": "stdout",
     "output_type": "stream",
     "text": [
      "[500]\ttrain-mlogloss:0.01152\teval-mlogloss:0.19615\n"
     ]
    },
    {
     "name": "stdout",
     "output_type": "stream",
     "text": [
      "[600]\ttrain-mlogloss:0.00974\teval-mlogloss:0.19928\n"
     ]
    },
    {
     "name": "stdout",
     "output_type": "stream",
     "text": [
      "[700]\ttrain-mlogloss:0.00854\teval-mlogloss:0.20201\n"
     ]
    },
    {
     "name": "stdout",
     "output_type": "stream",
     "text": [
      "[800]\ttrain-mlogloss:0.00768\teval-mlogloss:0.20433\n"
     ]
    },
    {
     "name": "stdout",
     "output_type": "stream",
     "text": [
      "[900]\ttrain-mlogloss:0.00702\teval-mlogloss:0.20637\n"
     ]
    },
    {
     "name": "stdout",
     "output_type": "stream",
     "text": [
      "[1000]\ttrain-mlogloss:0.00650\teval-mlogloss:0.20831\n"
     ]
    },
    {
     "name": "stdout",
     "output_type": "stream",
     "text": [
      "[1100]\ttrain-mlogloss:0.00610\teval-mlogloss:0.20993\n"
     ]
    },
    {
     "name": "stdout",
     "output_type": "stream",
     "text": [
      "[1200]\ttrain-mlogloss:0.00575\teval-mlogloss:0.21143\n"
     ]
    },
    {
     "name": "stdout",
     "output_type": "stream",
     "text": [
      "[0]\ttrain-mlogloss:1.72863\teval-mlogloss:1.73685\n"
     ]
    },
    {
     "name": "stdout",
     "output_type": "stream",
     "text": [
      "[100]\ttrain-mlogloss:0.06901\teval-mlogloss:0.20141\n"
     ]
    },
    {
     "name": "stdout",
     "output_type": "stream",
     "text": [
      "[200]\ttrain-mlogloss:0.03188\teval-mlogloss:0.19072\n"
     ]
    },
    {
     "name": "stdout",
     "output_type": "stream",
     "text": [
      "[300]\ttrain-mlogloss:0.01946\teval-mlogloss:0.19265\n"
     ]
    },
    {
     "name": "stdout",
     "output_type": "stream",
     "text": [
      "[400]\ttrain-mlogloss:0.01417\teval-mlogloss:0.19613\n"
     ]
    },
    {
     "name": "stdout",
     "output_type": "stream",
     "text": [
      "[500]\ttrain-mlogloss:0.01133\teval-mlogloss:0.19947\n"
     ]
    },
    {
     "name": "stdout",
     "output_type": "stream",
     "text": [
      "[600]\ttrain-mlogloss:0.00959\teval-mlogloss:0.20281\n"
     ]
    },
    {
     "name": "stdout",
     "output_type": "stream",
     "text": [
      "[700]\ttrain-mlogloss:0.00842\teval-mlogloss:0.20535\n"
     ]
    },
    {
     "name": "stdout",
     "output_type": "stream",
     "text": [
      "[800]\ttrain-mlogloss:0.00758\teval-mlogloss:0.20779\n"
     ]
    },
    {
     "name": "stdout",
     "output_type": "stream",
     "text": [
      "[900]\ttrain-mlogloss:0.00694\teval-mlogloss:0.20978\n"
     ]
    },
    {
     "name": "stdout",
     "output_type": "stream",
     "text": [
      "[1000]\ttrain-mlogloss:0.00643\teval-mlogloss:0.21161\n"
     ]
    },
    {
     "name": "stdout",
     "output_type": "stream",
     "text": [
      "[1100]\ttrain-mlogloss:0.00603\teval-mlogloss:0.21296\n"
     ]
    },
    {
     "name": "stdout",
     "output_type": "stream",
     "text": [
      "[1200]\ttrain-mlogloss:0.00569\teval-mlogloss:0.21448\n"
     ]
    },
    {
     "name": "stdout",
     "output_type": "stream",
     "text": [
      "[1206]\ttrain-mlogloss:0.00567\teval-mlogloss:0.21454\n"
     ]
    },
    {
     "name": "stdout",
     "output_type": "stream",
     "text": [
      "[0]\ttrain-mlogloss:1.72693\teval-mlogloss:1.73391\n"
     ]
    },
    {
     "name": "stdout",
     "output_type": "stream",
     "text": [
      "[50]\ttrain-mlogloss:0.14487\teval-mlogloss:0.24098\n"
     ]
    },
    {
     "name": "stdout",
     "output_type": "stream",
     "text": [
      "[100]\ttrain-mlogloss:0.07424\teval-mlogloss:0.18861\n"
     ]
    },
    {
     "name": "stdout",
     "output_type": "stream",
     "text": [
      "[150]\ttrain-mlogloss:0.05082\teval-mlogloss:0.17890\n"
     ]
    },
    {
     "name": "stdout",
     "output_type": "stream",
     "text": [
      "[200]\ttrain-mlogloss:0.03603\teval-mlogloss:0.17559\n"
     ]
    },
    {
     "name": "stdout",
     "output_type": "stream",
     "text": [
      "[250]\ttrain-mlogloss:0.02717\teval-mlogloss:0.17515\n"
     ]
    },
    {
     "name": "stdout",
     "output_type": "stream",
     "text": [
      "[284]\ttrain-mlogloss:0.02305\teval-mlogloss:0.17562\n"
     ]
    },
    {
     "name": "stdout",
     "output_type": "stream",
     "text": [
      "\n",
      "Classification Report on Test Set:\n",
      "              precision    recall  f1-score   support\n",
      "\n",
      "           0       0.90      0.91      0.90     12534\n",
      "           1       0.92      0.90      0.91     12952\n",
      "           2       0.91      0.93      0.92     12625\n",
      "           3       0.95      0.94      0.95     13029\n",
      "           4       0.93      0.93      0.93     12758\n",
      "           5       0.91      0.91      0.91     12181\n",
      "           6       0.99      0.99      0.99     12086\n",
      "\n",
      "    accuracy                           0.93     88165\n",
      "   macro avg       0.93      0.93      0.93     88165\n",
      "weighted avg       0.93      0.93      0.93     88165\n",
      "\n"
     ]
    },
    {
     "data": {
      "image/png": "[encoded data removed]",
      "text/plain": [
       "<Figure size 640x480 with 1 Axes>"
      ]
     },
     "metadata": {},
     "output_type": "display_data"
    },
    {
     "data": {
      "image/png": "[encoded data removed]",
      "text/plain": [
       "<Figure size 640x480 with 2 Axes>"
      ]
     },
     "metadata": {},
     "output_type": "display_data"
    },
    {
     "name": "stdout",
     "output_type": "stream",
     "text": [
      "{'average_accuracy': 0.9281990207754399, 'average_f1_macro': np.float64(0.9284366915520413), 'average_f1_micro': np.float64(0.9281990207754399), 'average_auc': np.float64(0.9961943840133819), 'average_acc_kelas_generatif': 0.941260035788404, 'average_acc_fase_padi': 0.9241319694387425}\n",
      "{'val_accuracy': 0.9306981228378608, 'val_f1_macro': np.float64(0.9309611005882757), 'val_f1_micro': np.float64(0.9306981228378608), 'val_auc': np.float64(0.9966730364379054), 'val_acc_kelas_generatif': 0.9422826003530586, 'val_acc_fase_padi': 0.9260376917685539, 'val_relative_acc': np.float64(99.99197431781701)}\n",
      "=============================================================================\n",
      "=============================================================================\n",
      "CLUSTER:  4\n"
     ]
    },
    {
     "name": "stderr",
     "output_type": "stream",
     "text": [
      "[I 2024-10-23 11:50:50,529] A new study created in memory with name: no-name-7eeded51-8fbb-4cce-931d-c319319e3764\n"
     ]
    },
    {
     "name": "stdout",
     "output_type": "stream",
     "text": [
      "[1 6 3 2 4 5 0]\n",
      "[0 1 2 3 4 5 6]\n",
      "Mapping of original to encoded classes: {np.int64(0): np.int64(0), np.int64(1): np.int64(1), np.int64(2): np.int64(2), np.int64(3): np.int64(3), np.int64(4): np.int64(4), np.int64(5): np.int64(5), np.int64(6): np.int64(6)}\n",
      "Build Best Parameter using Optuna-Hyperparameter Tuning\n"
     ]
    },
    {
     "name": "stderr",
     "output_type": "stream",
     "text": [
      "[I 2024-10-23 11:51:21,403] Trial 0 finished with value: 0.9583280888312656 and parameters: {'max_depth': 7, 'learning_rate': 0.06354212428289283, 'reg_lambda': 3.028262933868155, 'min_child_weight': 59}. Best is trial 0 with value: 0.9583280888312656.\n"
     ]
    },
    {
     "name": "stderr",
     "output_type": "stream",
     "text": [
      "[I 2024-10-23 11:52:02,748] Trial 1 finished with value: 0.957282410631485 and parameters: {'max_depth': 10, 'learning_rate': 0.045992270046187944, 'reg_lambda': 2.617901706005055, 'min_child_weight': 72}. Best is trial 0 with value: 0.9583280888312656.\n"
     ]
    },
    {
     "name": "stderr",
     "output_type": "stream",
     "text": [
      "[I 2024-10-23 11:52:58,549] Trial 2 finished with value: 0.9545123838371281 and parameters: {'max_depth': 7, 'learning_rate': 0.02408258640125974, 'reg_lambda': 1.1594095491478307, 'min_child_weight': 96}. Best is trial 0 with value: 0.9583280888312656.\n"
     ]
    },
    {
     "name": "stderr",
     "output_type": "stream",
     "text": [
      "[I 2024-10-23 11:53:48,678] Trial 3 finished with value: 0.9560910946727365 and parameters: {'max_depth': 6, 'learning_rate': 0.04012864590852677, 'reg_lambda': 3.0666072680103467, 'min_child_weight': 92}. Best is trial 0 with value: 0.9583280888312656.\n"
     ]
    },
    {
     "name": "stderr",
     "output_type": "stream",
     "text": [
      "[I 2024-10-23 11:54:41,069] Trial 4 finished with value: 0.952965959561479 and parameters: {'max_depth': 6, 'learning_rate': 0.019843842639320687, 'reg_lambda': 0.20702403458810875, 'min_child_weight': 97}. Best is trial 0 with value: 0.9583280888312656.\n"
     ]
    },
    {
     "name": "stderr",
     "output_type": "stream",
     "text": [
      "[I 2024-10-23 11:55:21,103] Trial 5 finished with value: 0.9565670336788302 and parameters: {'max_depth': 10, 'learning_rate': 0.05535595848557516, 'reg_lambda': 4.654711059360209, 'min_child_weight': 100}. Best is trial 0 with value: 0.9583280888312656.\n"
     ]
    },
    {
     "name": "stderr",
     "output_type": "stream",
     "text": [
      "[I 2024-10-23 11:55:57,287] Trial 6 finished with value: 0.9564672243707939 and parameters: {'max_depth': 6, 'learning_rate': 0.06476424670385265, 'reg_lambda': 3.9333334255047396, 'min_child_weight': 88}. Best is trial 0 with value: 0.9583280888312656.\n"
     ]
    },
    {
     "name": "stderr",
     "output_type": "stream",
     "text": [
      "[I 2024-10-23 11:56:23,942] Trial 7 finished with value: 0.9575239484733208 and parameters: {'max_depth': 8, 'learning_rate': 0.07871430009241455, 'reg_lambda': 2.5420558020652204, 'min_child_weight': 84}. Best is trial 0 with value: 0.9583280888312656.\n"
     ]
    },
    {
     "name": "stderr",
     "output_type": "stream",
     "text": [
      "[I 2024-10-23 11:56:59,082] Trial 8 finished with value: 0.958148420090127 and parameters: {'max_depth': 7, 'learning_rate': 0.054815524278115924, 'reg_lambda': 0.5631115708648087, 'min_child_weight': 51}. Best is trial 0 with value: 0.9583280888312656.\n"
     ]
    },
    {
     "name": "stderr",
     "output_type": "stream",
     "text": [
      "[I 2024-10-23 11:58:00,074] Trial 9 finished with value: 0.9556235197374662 and parameters: {'max_depth': 7, 'learning_rate': 0.018644539991473252, 'reg_lambda': 1.282447958522048, 'min_child_weight': 56}. Best is trial 0 with value: 0.9583280888312656.\n"
     ]
    },
    {
     "name": "stderr",
     "output_type": "stream",
     "text": [
      "[I 2024-10-23 11:58:21,328] Trial 10 finished with value: 0.9574508189120591 and parameters: {'max_depth': 9, 'learning_rate': 0.09810499972160126, 'reg_lambda': 3.377544584334563, 'min_child_weight': 64}. Best is trial 0 with value: 0.9583280888312656.\n"
     ]
    },
    {
     "name": "stderr",
     "output_type": "stream",
     "text": [
      "[I 2024-10-23 11:58:50,158] Trial 11 finished with value: 0.9573530997518437 and parameters: {'max_depth': 8, 'learning_rate': 0.07152776190762701, 'reg_lambda': 1.7246815807613032, 'min_child_weight': 50}. Best is trial 0 with value: 0.9583280888312656.\n"
     ]
    },
    {
     "name": "stderr",
     "output_type": "stream",
     "text": [
      "[I 2024-10-23 11:59:15,052] Trial 12 finished with value: 0.957969880660305 and parameters: {'max_depth': 7, 'learning_rate': 0.08687206791598372, 'reg_lambda': 0.5917631914972072, 'min_child_weight': 62}. Best is trial 0 with value: 0.9583280888312656.\n"
     ]
    },
    {
     "name": "stderr",
     "output_type": "stream",
     "text": [
      "[I 2024-10-23 11:59:48,950] Trial 13 finished with value: 0.9575097346495469 and parameters: {'max_depth': 7, 'learning_rate': 0.05494661840711612, 'reg_lambda': 1.6957315163725186, 'min_child_weight': 51}. Best is trial 0 with value: 0.9583280888312656.\n"
     ]
    },
    {
     "name": "stderr",
     "output_type": "stream",
     "text": [
      "[I 2024-10-23 12:00:40,822] Trial 14 finished with value: 0.9565201105305711 and parameters: {'max_depth': 8, 'learning_rate': 0.03582165275138087, 'reg_lambda': 2.355392680625501, 'min_child_weight': 72}. Best is trial 0 with value: 0.9583280888312656.\n"
     ]
    },
    {
     "name": "stderr",
     "output_type": "stream",
     "text": [
      "[I 2024-10-23 12:01:11,320] Trial 15 finished with value: 0.9569891433930645 and parameters: {'max_depth': 8, 'learning_rate': 0.06218169993979454, 'reg_lambda': 3.96614649313151, 'min_child_weight': 61}. Best is trial 0 with value: 0.9583280888312656.\n"
     ]
    },
    {
     "name": "stderr",
     "output_type": "stream",
     "text": [
      "[I 2024-10-23 12:01:39,288] Trial 16 finished with value: 0.9568702644486354 and parameters: {'max_depth': 9, 'learning_rate': 0.08088685344613346, 'reg_lambda': 3.525870790331842, 'min_child_weight': 79}. Best is trial 0 with value: 0.9583280888312656.\n"
     ]
    },
    {
     "name": "stderr",
     "output_type": "stream",
     "text": [
      "[I 2024-10-23 12:02:24,922] Trial 17 finished with value: 0.9579650129624215 and parameters: {'max_depth': 7, 'learning_rate': 0.0488521902002567, 'reg_lambda': 4.845000742927973, 'min_child_weight': 66}. Best is trial 0 with value: 0.9583280888312656.\n"
     ]
    },
    {
     "name": "stderr",
     "output_type": "stream",
     "text": [
      "[I 2024-10-23 12:03:17,808] Trial 18 finished with value: 0.9568076056830196 and parameters: {'max_depth': 6, 'learning_rate': 0.0335299068283386, 'reg_lambda': 2.033345877364523, 'min_child_weight': 56}. Best is trial 0 with value: 0.9583280888312656.\n"
     ]
    },
    {
     "name": "stderr",
     "output_type": "stream",
     "text": [
      "[I 2024-10-23 12:03:46,155] Trial 19 finished with value: 0.9573521786538599 and parameters: {'max_depth': 9, 'learning_rate': 0.06839531249678486, 'reg_lambda': 0.8328647996492273, 'min_child_weight': 56}. Best is trial 0 with value: 0.9583280888312656.\n"
     ]
    },
    {
     "name": "stdout",
     "output_type": "stream",
     "text": [
      "Best Parameters: {'max_depth': 7, 'learning_rate': 0.06354212428289283, 'reg_lambda': 3.028262933868155, 'min_child_weight': 59}\n",
      "Best Score: 0.9583280888312656\n",
      "Start the modelling\n",
      "[0]\ttrain-mlogloss:1.77270\teval-mlogloss:1.77776\n"
     ]
    },
    {
     "name": "stdout",
     "output_type": "stream",
     "text": [
      "[100]\ttrain-mlogloss:0.08079\teval-mlogloss:0.15905\n"
     ]
    },
    {
     "name": "stdout",
     "output_type": "stream",
     "text": [
      "[200]\ttrain-mlogloss:0.03284\teval-mlogloss:0.12429\n"
     ]
    },
    {
     "name": "stdout",
     "output_type": "stream",
     "text": [
      "[300]\ttrain-mlogloss:0.01824\teval-mlogloss:0.11541\n"
     ]
    },
    {
     "name": "stdout",
     "output_type": "stream",
     "text": [
      "[400]\ttrain-mlogloss:0.01243\teval-mlogloss:0.11249\n"
     ]
    },
    {
     "name": "stdout",
     "output_type": "stream",
     "text": [
      "[500]\ttrain-mlogloss:0.00948\teval-mlogloss:0.11181\n"
     ]
    },
    {
     "name": "stdout",
     "output_type": "stream",
     "text": [
      "[600]\ttrain-mlogloss:0.00775\teval-mlogloss:0.11191\n"
     ]
    },
    {
     "name": "stdout",
     "output_type": "stream",
     "text": [
      "[700]\ttrain-mlogloss:0.00668\teval-mlogloss:0.11203\n"
     ]
    },
    {
     "name": "stdout",
     "output_type": "stream",
     "text": [
      "[800]\ttrain-mlogloss:0.00594\teval-mlogloss:0.11239\n"
     ]
    },
    {
     "name": "stdout",
     "output_type": "stream",
     "text": [
      "[900]\ttrain-mlogloss:0.00541\teval-mlogloss:0.11268\n"
     ]
    },
    {
     "name": "stdout",
     "output_type": "stream",
     "text": [
      "[1000]\ttrain-mlogloss:0.00501\teval-mlogloss:0.11289\n"
     ]
    },
    {
     "name": "stdout",
     "output_type": "stream",
     "text": [
      "[1100]\ttrain-mlogloss:0.00469\teval-mlogloss:0.11321\n"
     ]
    },
    {
     "name": "stdout",
     "output_type": "stream",
     "text": [
      "[1200]\ttrain-mlogloss:0.00444\teval-mlogloss:0.11350\n"
     ]
    },
    {
     "name": "stdout",
     "output_type": "stream",
     "text": [
      "[1300]\ttrain-mlogloss:0.00422\teval-mlogloss:0.11403\n"
     ]
    },
    {
     "name": "stdout",
     "output_type": "stream",
     "text": [
      "[1400]\ttrain-mlogloss:0.00403\teval-mlogloss:0.11435\n"
     ]
    },
    {
     "name": "stdout",
     "output_type": "stream",
     "text": [
      "[1500]\ttrain-mlogloss:0.00388\teval-mlogloss:0.11483\n"
     ]
    },
    {
     "name": "stdout",
     "output_type": "stream",
     "text": [
      "[1512]\ttrain-mlogloss:0.00386\teval-mlogloss:0.11485\n"
     ]
    },
    {
     "name": "stdout",
     "output_type": "stream",
     "text": [
      "[0]\ttrain-mlogloss:1.77331\teval-mlogloss:1.77847\n"
     ]
    },
    {
     "name": "stdout",
     "output_type": "stream",
     "text": [
      "[100]\ttrain-mlogloss:0.07917\teval-mlogloss:0.16245\n"
     ]
    },
    {
     "name": "stdout",
     "output_type": "stream",
     "text": [
      "[200]\ttrain-mlogloss:0.03261\teval-mlogloss:0.12690\n"
     ]
    },
    {
     "name": "stdout",
     "output_type": "stream",
     "text": [
      "[300]\ttrain-mlogloss:0.01855\teval-mlogloss:0.11909\n"
     ]
    },
    {
     "name": "stdout",
     "output_type": "stream",
     "text": [
      "[400]\ttrain-mlogloss:0.01262\teval-mlogloss:0.11683\n"
     ]
    },
    {
     "name": "stdout",
     "output_type": "stream",
     "text": [
      "[500]\ttrain-mlogloss:0.00954\teval-mlogloss:0.11623\n"
     ]
    },
    {
     "name": "stdout",
     "output_type": "stream",
     "text": [
      "[600]\ttrain-mlogloss:0.00779\teval-mlogloss:0.11623\n"
     ]
    },
    {
     "name": "stdout",
     "output_type": "stream",
     "text": [
      "[700]\ttrain-mlogloss:0.00671\teval-mlogloss:0.11660\n"
     ]
    },
    {
     "name": "stdout",
     "output_type": "stream",
     "text": [
      "[800]\ttrain-mlogloss:0.00597\teval-mlogloss:0.11709\n"
     ]
    },
    {
     "name": "stdout",
     "output_type": "stream",
     "text": [
      "[900]\ttrain-mlogloss:0.00543\teval-mlogloss:0.11767\n"
     ]
    },
    {
     "name": "stdout",
     "output_type": "stream",
     "text": [
      "[1000]\ttrain-mlogloss:0.00502\teval-mlogloss:0.11826\n"
     ]
    },
    {
     "name": "stdout",
     "output_type": "stream",
     "text": [
      "[1100]\ttrain-mlogloss:0.00470\teval-mlogloss:0.11867\n"
     ]
    },
    {
     "name": "stdout",
     "output_type": "stream",
     "text": [
      "[1200]\ttrain-mlogloss:0.00445\teval-mlogloss:0.11918\n"
     ]
    },
    {
     "name": "stdout",
     "output_type": "stream",
     "text": [
      "[1300]\ttrain-mlogloss:0.00423\teval-mlogloss:0.11952\n"
     ]
    },
    {
     "name": "stdout",
     "output_type": "stream",
     "text": [
      "[1400]\ttrain-mlogloss:0.00405\teval-mlogloss:0.11988\n"
     ]
    },
    {
     "name": "stdout",
     "output_type": "stream",
     "text": [
      "[1500]\ttrain-mlogloss:0.00390\teval-mlogloss:0.12024\n"
     ]
    },
    {
     "name": "stdout",
     "output_type": "stream",
     "text": [
      "[1552]\ttrain-mlogloss:0.00382\teval-mlogloss:0.12040\n"
     ]
    },
    {
     "name": "stdout",
     "output_type": "stream",
     "text": [
      "[0]\ttrain-mlogloss:1.77298\teval-mlogloss:1.77939\n"
     ]
    },
    {
     "name": "stdout",
     "output_type": "stream",
     "text": [
      "[100]\ttrain-mlogloss:0.07891\teval-mlogloss:0.15913\n"
     ]
    },
    {
     "name": "stdout",
     "output_type": "stream",
     "text": [
      "[200]\ttrain-mlogloss:0.03200\teval-mlogloss:0.12389\n"
     ]
    },
    {
     "name": "stdout",
     "output_type": "stream",
     "text": [
      "[300]\ttrain-mlogloss:0.01800\teval-mlogloss:0.11562\n"
     ]
    },
    {
     "name": "stdout",
     "output_type": "stream",
     "text": [
      "[400]\ttrain-mlogloss:0.01219\teval-mlogloss:0.11363\n"
     ]
    },
    {
     "name": "stdout",
     "output_type": "stream",
     "text": [
      "[500]\ttrain-mlogloss:0.00933\teval-mlogloss:0.11279\n"
     ]
    },
    {
     "name": "stdout",
     "output_type": "stream",
     "text": [
      "[600]\ttrain-mlogloss:0.00766\teval-mlogloss:0.11286\n"
     ]
    },
    {
     "name": "stdout",
     "output_type": "stream",
     "text": [
      "[700]\ttrain-mlogloss:0.00662\teval-mlogloss:0.11326\n"
     ]
    },
    {
     "name": "stdout",
     "output_type": "stream",
     "text": [
      "[800]\ttrain-mlogloss:0.00589\teval-mlogloss:0.11366\n"
     ]
    },
    {
     "name": "stdout",
     "output_type": "stream",
     "text": [
      "[900]\ttrain-mlogloss:0.00537\teval-mlogloss:0.11407\n"
     ]
    },
    {
     "name": "stdout",
     "output_type": "stream",
     "text": [
      "[1000]\ttrain-mlogloss:0.00497\teval-mlogloss:0.11437\n"
     ]
    },
    {
     "name": "stdout",
     "output_type": "stream",
     "text": [
      "[1100]\ttrain-mlogloss:0.00466\teval-mlogloss:0.11499\n"
     ]
    },
    {
     "name": "stdout",
     "output_type": "stream",
     "text": [
      "[1200]\ttrain-mlogloss:0.00441\teval-mlogloss:0.11579\n"
     ]
    },
    {
     "name": "stdout",
     "output_type": "stream",
     "text": [
      "[1300]\ttrain-mlogloss:0.00420\teval-mlogloss:0.11621\n"
     ]
    },
    {
     "name": "stdout",
     "output_type": "stream",
     "text": [
      "[1400]\ttrain-mlogloss:0.00401\teval-mlogloss:0.11656\n"
     ]
    },
    {
     "name": "stdout",
     "output_type": "stream",
     "text": [
      "[1500]\ttrain-mlogloss:0.00386\teval-mlogloss:0.11689\n"
     ]
    },
    {
     "name": "stdout",
     "output_type": "stream",
     "text": [
      "[1553]\ttrain-mlogloss:0.00379\teval-mlogloss:0.11701\n"
     ]
    },
    {
     "name": "stdout",
     "output_type": "stream",
     "text": [
      "[0]\ttrain-mlogloss:1.77218\teval-mlogloss:1.77675\n"
     ]
    },
    {
     "name": "stdout",
     "output_type": "stream",
     "text": [
      "[50]\ttrain-mlogloss:0.19525\teval-mlogloss:0.25279\n"
     ]
    },
    {
     "name": "stdout",
     "output_type": "stream",
     "text": [
      "[100]\ttrain-mlogloss:0.08258\teval-mlogloss:0.14917\n"
     ]
    },
    {
     "name": "stdout",
     "output_type": "stream",
     "text": [
      "[150]\ttrain-mlogloss:0.05245\teval-mlogloss:0.12440\n"
     ]
    },
    {
     "name": "stdout",
     "output_type": "stream",
     "text": [
      "[200]\ttrain-mlogloss:0.03645\teval-mlogloss:0.11300\n"
     ]
    },
    {
     "name": "stdout",
     "output_type": "stream",
     "text": [
      "[250]\ttrain-mlogloss:0.02646\teval-mlogloss:0.10646\n"
     ]
    },
    {
     "name": "stdout",
     "output_type": "stream",
     "text": [
      "[300]\ttrain-mlogloss:0.02036\teval-mlogloss:0.10273\n"
     ]
    },
    {
     "name": "stdout",
     "output_type": "stream",
     "text": [
      "[350]\ttrain-mlogloss:0.01626\teval-mlogloss:0.10042\n"
     ]
    },
    {
     "name": "stdout",
     "output_type": "stream",
     "text": [
      "[400]\ttrain-mlogloss:0.01339\teval-mlogloss:0.09906\n"
     ]
    },
    {
     "name": "stdout",
     "output_type": "stream",
     "text": [
      "[450]\ttrain-mlogloss:0.01132\teval-mlogloss:0.09810\n"
     ]
    },
    {
     "name": "stdout",
     "output_type": "stream",
     "text": [
      "[500]\ttrain-mlogloss:0.00978\teval-mlogloss:0.09745\n"
     ]
    },
    {
     "name": "stdout",
     "output_type": "stream",
     "text": [
      "[550]\ttrain-mlogloss:0.00861\teval-mlogloss:0.09716\n"
     ]
    },
    {
     "name": "stdout",
     "output_type": "stream",
     "text": [
      "[600]\ttrain-mlogloss:0.00772\teval-mlogloss:0.09706\n"
     ]
    },
    {
     "name": "stdout",
     "output_type": "stream",
     "text": [
      "[650]\ttrain-mlogloss:0.00699\teval-mlogloss:0.09700\n"
     ]
    },
    {
     "name": "stdout",
     "output_type": "stream",
     "text": [
      "[700]\ttrain-mlogloss:0.00640\teval-mlogloss:0.09704\n"
     ]
    },
    {
     "name": "stdout",
     "output_type": "stream",
     "text": [
      "[717]\ttrain-mlogloss:0.00623\teval-mlogloss:0.09706\n"
     ]
    },
    {
     "name": "stdout",
     "output_type": "stream",
     "text": [
      "\n",
      "Classification Report on Test Set:\n",
      "              precision    recall  f1-score   support\n",
      "\n",
      "           0       0.98      0.97      0.97     12261\n",
      "           1       0.97      0.96      0.97     11349\n",
      "           2       0.94      0.95      0.95      8769\n",
      "           3       0.96      0.96      0.96     11806\n",
      "           4       0.96      0.97      0.96     10412\n",
      "           5       0.94      0.96      0.95      4467\n",
      "           6       0.99      0.99      0.99     11778\n",
      "\n",
      "    accuracy                           0.97     70842\n",
      "   macro avg       0.96      0.97      0.96     70842\n",
      "weighted avg       0.97      0.97      0.97     70842\n",
      "\n"
     ]
    },
    {
     "data": {
      "image/png": "[encoded data removed]",
      "text/plain": [
       "<Figure size 640x480 with 1 Axes>"
      ]
     },
     "metadata": {},
     "output_type": "display_data"
    },
    {
     "data": {
      "image/png": "[encoded data removed]",
      "text/plain": [
       "<Figure size 640x480 with 2 Axes>"
      ]
     },
     "metadata": {},
     "output_type": "display_data"
    },
    {
     "name": "stdout",
     "output_type": "stream",
     "text": [
      "{'average_accuracy': 0.9604413702239789, 'average_f1_macro': np.float64(0.9586642031866375), 'average_f1_micro': np.float64(0.9604413702239789), 'average_auc': np.float64(0.9986155556961837), 'average_acc_kelas_generatif': 0.946243961276226, 'average_acc_fase_padi': 0.9521053791887125}\n",
      "{'val_accuracy': 0.9659241692781119, 'val_f1_macro': np.float64(0.9642131913268436), 'val_f1_micro': np.float64(0.9659241692781119), 'val_auc': np.float64(0.9989803287951897), 'val_acc_kelas_generatif': 0.9580721666949009, 'val_acc_fase_padi': 0.9598686696900982, 'val_relative_acc': np.float64(99.9806746687853)}\n",
      "=============================================================================\n",
      "=============================================================================\n",
      "CLUSTER:  5\n"
     ]
    },
    {
     "name": "stderr",
     "output_type": "stream",
     "text": [
      "[I 2024-10-23 12:05:18,626] A new study created in memory with name: no-name-8eaa513a-049c-45a2-80a8-2e0caf617f56\n"
     ]
    },
    {
     "name": "stdout",
     "output_type": "stream",
     "text": [
      "[6 1 2 3 5 4 0]\n",
      "[0 1 2 3 4 5 6]\n",
      "Mapping of original to encoded classes: {np.int64(0): np.int64(0), np.int64(1): np.int64(1), np.int64(2): np.int64(2), np.int64(3): np.int64(3), np.int64(4): np.int64(4), np.int64(5): np.int64(5), np.int64(6): np.int64(6)}\n",
      "Build Best Parameter using Optuna-Hyperparameter Tuning\n"
     ]
    },
    {
     "name": "stderr",
     "output_type": "stream",
     "text": [
      "[I 2024-10-23 12:05:52,297] Trial 0 finished with value: 0.9418191412993177 and parameters: {'max_depth': 8, 'learning_rate': 0.055659163492284336, 'reg_lambda': 3.136934253040033, 'min_child_weight': 84}. Best is trial 0 with value: 0.9418191412993177.\n"
     ]
    },
    {
     "name": "stderr",
     "output_type": "stream",
     "text": [
      "[I 2024-10-23 12:06:19,802] Trial 1 finished with value: 0.9412340779265219 and parameters: {'max_depth': 9, 'learning_rate': 0.07229061324224728, 'reg_lambda': 2.0438996095171316, 'min_child_weight': 79}. Best is trial 0 with value: 0.9418191412993177.\n"
     ]
    },
    {
     "name": "stderr",
     "output_type": "stream",
     "text": [
      "[I 2024-10-23 12:06:50,610] Trial 2 finished with value: 0.9426610720833012 and parameters: {'max_depth': 9, 'learning_rate': 0.06485155459100103, 'reg_lambda': 4.779073494624765, 'min_child_weight': 60}. Best is trial 2 with value: 0.9426610720833012.\n"
     ]
    },
    {
     "name": "stderr",
     "output_type": "stream",
     "text": [
      "[I 2024-10-23 12:07:45,066] Trial 3 finished with value: 0.9419732399536406 and parameters: {'max_depth': 7, 'learning_rate': 0.03830407930956869, 'reg_lambda': 0.4166838892043966, 'min_child_weight': 83}. Best is trial 2 with value: 0.9426610720833012.\n"
     ]
    },
    {
     "name": "stderr",
     "output_type": "stream",
     "text": [
      "[I 2024-10-23 12:08:29,216] Trial 4 finished with value: 0.9412005333628958 and parameters: {'max_depth': 6, 'learning_rate': 0.052589113986516105, 'reg_lambda': 1.527190421137445, 'min_child_weight': 100}. Best is trial 2 with value: 0.9426610720833012.\n"
     ]
    },
    {
     "name": "stderr",
     "output_type": "stream",
     "text": [
      "[I 2024-10-23 12:09:07,669] Trial 5 finished with value: 0.9417086284197262 and parameters: {'max_depth': 7, 'learning_rate': 0.05264010593191535, 'reg_lambda': 4.689487258486727, 'min_child_weight': 57}. Best is trial 2 with value: 0.9426610720833012.\n"
     ]
    },
    {
     "name": "stderr",
     "output_type": "stream",
     "text": [
      "[I 2024-10-23 12:09:37,674] Trial 6 finished with value: 0.9423767599645784 and parameters: {'max_depth': 8, 'learning_rate': 0.06717157867752148, 'reg_lambda': 1.9499363229237339, 'min_child_weight': 50}. Best is trial 2 with value: 0.9426610720833012.\n"
     ]
    },
    {
     "name": "stderr",
     "output_type": "stream",
     "text": [
      "[I 2024-10-23 12:10:01,716] Trial 7 finished with value: 0.9419284036762031 and parameters: {'max_depth': 7, 'learning_rate': 0.09605027068189219, 'reg_lambda': 2.266330904836833, 'min_child_weight': 92}. Best is trial 2 with value: 0.9426610720833012.\n"
     ]
    },
    {
     "name": "stderr",
     "output_type": "stream",
     "text": [
      "[I 2024-10-23 12:10:55,840] Trial 8 finished with value: 0.9417188878778577 and parameters: {'max_depth': 6, 'learning_rate': 0.0413860098430675, 'reg_lambda': 4.54339816480473, 'min_child_weight': 74}. Best is trial 2 with value: 0.9426610720833012.\n"
     ]
    },
    {
     "name": "stderr",
     "output_type": "stream",
     "text": [
      "[I 2024-10-23 12:11:45,063] Trial 9 finished with value: 0.9415503573037848 and parameters: {'max_depth': 9, 'learning_rate': 0.040511710772665945, 'reg_lambda': 1.603954084738315, 'min_child_weight': 86}. Best is trial 2 with value: 0.9426610720833012.\n"
     ]
    },
    {
     "name": "stderr",
     "output_type": "stream",
     "text": [
      "[I 2024-10-23 12:13:10,658] Trial 10 finished with value: 0.9377913555708712 and parameters: {'max_depth': 10, 'learning_rate': 0.011340649820555881, 'reg_lambda': 3.8302462362673175, 'min_child_weight': 65}. Best is trial 2 with value: 0.9426610720833012.\n"
     ]
    },
    {
     "name": "stderr",
     "output_type": "stream",
     "text": [
      "[I 2024-10-23 12:13:36,780] Trial 11 finished with value: 0.9420621532191679 and parameters: {'max_depth': 9, 'learning_rate': 0.07877058014418237, 'reg_lambda': 3.1326566432827017, 'min_child_weight': 52}. Best is trial 2 with value: 0.9426610720833012.\n"
     ]
    },
    {
     "name": "stderr",
     "output_type": "stream",
     "text": [
      "[I 2024-10-23 12:14:04,042] Trial 12 finished with value: 0.9419399288440257 and parameters: {'max_depth': 8, 'learning_rate': 0.07608196086605179, 'reg_lambda': 0.42508384523476295, 'min_child_weight': 63}. Best is trial 2 with value: 0.9426610720833012.\n"
     ]
    },
    {
     "name": "stderr",
     "output_type": "stream",
     "text": [
      "[I 2024-10-23 12:14:33,326] Trial 13 finished with value: 0.9416051795883678 and parameters: {'max_depth': 10, 'learning_rate': 0.06621899856658704, 'reg_lambda': 3.0443268098068135, 'min_child_weight': 52}. Best is trial 2 with value: 0.9426610720833012.\n"
     ]
    },
    {
     "name": "stderr",
     "output_type": "stream",
     "text": [
      "[I 2024-10-23 12:14:56,108] Trial 14 finished with value: 0.9424964485951294 and parameters: {'max_depth': 8, 'learning_rate': 0.0929228258186497, 'reg_lambda': 1.1716117050903472, 'min_child_weight': 68}. Best is trial 2 with value: 0.9426610720833012.\n"
     ]
    },
    {
     "name": "stderr",
     "output_type": "stream",
     "text": [
      "[I 2024-10-23 12:15:17,531] Trial 15 finished with value: 0.942150933155895 and parameters: {'max_depth': 9, 'learning_rate': 0.09921341067940764, 'reg_lambda': 1.1907448866673824, 'min_child_weight': 70}. Best is trial 2 with value: 0.9426610720833012.\n"
     ]
    },
    {
     "name": "stderr",
     "output_type": "stream",
     "text": [
      "[I 2024-10-23 12:15:41,619] Trial 16 finished with value: 0.9419761794850827 and parameters: {'max_depth': 10, 'learning_rate': 0.08530758983798573, 'reg_lambda': 0.9064368663672755, 'min_child_weight': 62}. Best is trial 2 with value: 0.9426610720833012.\n"
     ]
    },
    {
     "name": "stderr",
     "output_type": "stream",
     "text": [
      "[I 2024-10-23 12:16:05,336] Trial 17 finished with value: 0.941998499581464 and parameters: {'max_depth': 9, 'learning_rate': 0.08750418190014572, 'reg_lambda': 4.106261579438234, 'min_child_weight': 70}. Best is trial 2 with value: 0.9426610720833012.\n"
     ]
    },
    {
     "name": "stderr",
     "output_type": "stream",
     "text": [
      "[I 2024-10-23 12:17:13,132] Trial 18 finished with value: 0.9409882113321105 and parameters: {'max_depth': 8, 'learning_rate': 0.02328431082413443, 'reg_lambda': 2.492424727017397, 'min_child_weight': 60}. Best is trial 2 with value: 0.9426610720833012.\n"
     ]
    },
    {
     "name": "stderr",
     "output_type": "stream",
     "text": [
      "[I 2024-10-23 12:17:35,485] Trial 19 finished with value: 0.9410382399416188 and parameters: {'max_depth': 8, 'learning_rate': 0.08668741187126629, 'reg_lambda': 3.696562745957838, 'min_child_weight': 70}. Best is trial 2 with value: 0.9426610720833012.\n"
     ]
    },
    {
     "name": "stdout",
     "output_type": "stream",
     "text": [
      "Best Parameters: {'max_depth': 9, 'learning_rate': 0.06485155459100103, 'reg_lambda': 4.779073494624765, 'min_child_weight': 60}\n",
      "Best Score: 0.9426610720833012\n",
      "Start the modelling\n",
      "[0]\ttrain-mlogloss:1.77314\teval-mlogloss:1.78067\n"
     ]
    },
    {
     "name": "stdout",
     "output_type": "stream",
     "text": [
      "[100]\ttrain-mlogloss:0.08421\teval-mlogloss:0.20177\n"
     ]
    },
    {
     "name": "stdout",
     "output_type": "stream",
     "text": [
      "[200]\ttrain-mlogloss:0.03546\teval-mlogloss:0.17179\n"
     ]
    },
    {
     "name": "stdout",
     "output_type": "stream",
     "text": [
      "[300]\ttrain-mlogloss:0.02026\teval-mlogloss:0.16641\n"
     ]
    },
    {
     "name": "stdout",
     "output_type": "stream",
     "text": [
      "[400]\ttrain-mlogloss:0.01408\teval-mlogloss:0.16668\n"
     ]
    },
    {
     "name": "stdout",
     "output_type": "stream",
     "text": [
      "[500]\ttrain-mlogloss:0.01092\teval-mlogloss:0.16776\n"
     ]
    },
    {
     "name": "stdout",
     "output_type": "stream",
     "text": [
      "[600]\ttrain-mlogloss:0.00904\teval-mlogloss:0.16893\n"
     ]
    },
    {
     "name": "stdout",
     "output_type": "stream",
     "text": [
      "[700]\ttrain-mlogloss:0.00782\teval-mlogloss:0.17060\n"
     ]
    },
    {
     "name": "stdout",
     "output_type": "stream",
     "text": [
      "[800]\ttrain-mlogloss:0.00696\teval-mlogloss:0.17197\n"
     ]
    },
    {
     "name": "stdout",
     "output_type": "stream",
     "text": [
      "[900]\ttrain-mlogloss:0.00634\teval-mlogloss:0.17340\n"
     ]
    },
    {
     "name": "stdout",
     "output_type": "stream",
     "text": [
      "[1000]\ttrain-mlogloss:0.00584\teval-mlogloss:0.17439\n"
     ]
    },
    {
     "name": "stdout",
     "output_type": "stream",
     "text": [
      "[1100]\ttrain-mlogloss:0.00545\teval-mlogloss:0.17542\n"
     ]
    },
    {
     "name": "stdout",
     "output_type": "stream",
     "text": [
      "[1200]\ttrain-mlogloss:0.00512\teval-mlogloss:0.17615\n"
     ]
    },
    {
     "name": "stdout",
     "output_type": "stream",
     "text": [
      "[1300]\ttrain-mlogloss:0.00485\teval-mlogloss:0.17710\n"
     ]
    },
    {
     "name": "stdout",
     "output_type": "stream",
     "text": [
      "[1361]\ttrain-mlogloss:0.00471\teval-mlogloss:0.17761\n"
     ]
    },
    {
     "name": "stdout",
     "output_type": "stream",
     "text": [
      "[0]\ttrain-mlogloss:1.77227\teval-mlogloss:1.78230\n"
     ]
    },
    {
     "name": "stdout",
     "output_type": "stream",
     "text": [
      "[100]\ttrain-mlogloss:0.08112\teval-mlogloss:0.20621\n"
     ]
    },
    {
     "name": "stdout",
     "output_type": "stream",
     "text": [
      "[200]\ttrain-mlogloss:0.03472\teval-mlogloss:0.17333\n"
     ]
    },
    {
     "name": "stdout",
     "output_type": "stream",
     "text": [
      "[300]\ttrain-mlogloss:0.02016\teval-mlogloss:0.16640\n"
     ]
    },
    {
     "name": "stdout",
     "output_type": "stream",
     "text": [
      "[400]\ttrain-mlogloss:0.01413\teval-mlogloss:0.16484\n"
     ]
    },
    {
     "name": "stdout",
     "output_type": "stream",
     "text": [
      "[500]\ttrain-mlogloss:0.01102\teval-mlogloss:0.16555\n"
     ]
    },
    {
     "name": "stdout",
     "output_type": "stream",
     "text": [
      "[600]\ttrain-mlogloss:0.00913\teval-mlogloss:0.16622\n"
     ]
    },
    {
     "name": "stdout",
     "output_type": "stream",
     "text": [
      "[700]\ttrain-mlogloss:0.00790\teval-mlogloss:0.16702\n"
     ]
    },
    {
     "name": "stdout",
     "output_type": "stream",
     "text": [
      "[800]\ttrain-mlogloss:0.00704\teval-mlogloss:0.16789\n"
     ]
    },
    {
     "name": "stdout",
     "output_type": "stream",
     "text": [
      "[900]\ttrain-mlogloss:0.00640\teval-mlogloss:0.16887\n"
     ]
    },
    {
     "name": "stdout",
     "output_type": "stream",
     "text": [
      "[1000]\ttrain-mlogloss:0.00590\teval-mlogloss:0.16975\n"
     ]
    },
    {
     "name": "stdout",
     "output_type": "stream",
     "text": [
      "[1100]\ttrain-mlogloss:0.00549\teval-mlogloss:0.17040\n"
     ]
    },
    {
     "name": "stdout",
     "output_type": "stream",
     "text": [
      "[1200]\ttrain-mlogloss:0.00515\teval-mlogloss:0.17124\n"
     ]
    },
    {
     "name": "stdout",
     "output_type": "stream",
     "text": [
      "[1300]\ttrain-mlogloss:0.00488\teval-mlogloss:0.17208\n"
     ]
    },
    {
     "name": "stdout",
     "output_type": "stream",
     "text": [
      "[1400]\ttrain-mlogloss:0.00465\teval-mlogloss:0.17272\n"
     ]
    },
    {
     "name": "stdout",
     "output_type": "stream",
     "text": [
      "[1436]\ttrain-mlogloss:0.00457\teval-mlogloss:0.17300\n"
     ]
    },
    {
     "name": "stdout",
     "output_type": "stream",
     "text": [
      "[0]\ttrain-mlogloss:1.77228\teval-mlogloss:1.78217\n"
     ]
    },
    {
     "name": "stdout",
     "output_type": "stream",
     "text": [
      "[100]\ttrain-mlogloss:0.08383\teval-mlogloss:0.20322\n"
     ]
    },
    {
     "name": "stdout",
     "output_type": "stream",
     "text": [
      "[200]\ttrain-mlogloss:0.03505\teval-mlogloss:0.16869\n"
     ]
    },
    {
     "name": "stdout",
     "output_type": "stream",
     "text": [
      "[300]\ttrain-mlogloss:0.02022\teval-mlogloss:0.16201\n"
     ]
    },
    {
     "name": "stdout",
     "output_type": "stream",
     "text": [
      "[400]\ttrain-mlogloss:0.01415\teval-mlogloss:0.16058\n"
     ]
    },
    {
     "name": "stdout",
     "output_type": "stream",
     "text": [
      "[500]\ttrain-mlogloss:0.01101\teval-mlogloss:0.16099\n"
     ]
    },
    {
     "name": "stdout",
     "output_type": "stream",
     "text": [
      "[600]\ttrain-mlogloss:0.00910\teval-mlogloss:0.16174\n"
     ]
    },
    {
     "name": "stdout",
     "output_type": "stream",
     "text": [
      "[700]\ttrain-mlogloss:0.00786\teval-mlogloss:0.16268\n"
     ]
    },
    {
     "name": "stdout",
     "output_type": "stream",
     "text": [
      "[800]\ttrain-mlogloss:0.00699\teval-mlogloss:0.16375\n"
     ]
    },
    {
     "name": "stdout",
     "output_type": "stream",
     "text": [
      "[900]\ttrain-mlogloss:0.00635\teval-mlogloss:0.16479\n"
     ]
    },
    {
     "name": "stdout",
     "output_type": "stream",
     "text": [
      "[1000]\ttrain-mlogloss:0.00586\teval-mlogloss:0.16564\n"
     ]
    },
    {
     "name": "stdout",
     "output_type": "stream",
     "text": [
      "[1100]\ttrain-mlogloss:0.00547\teval-mlogloss:0.16645\n"
     ]
    },
    {
     "name": "stdout",
     "output_type": "stream",
     "text": [
      "[1200]\ttrain-mlogloss:0.00514\teval-mlogloss:0.16732\n"
     ]
    },
    {
     "name": "stdout",
     "output_type": "stream",
     "text": [
      "[1300]\ttrain-mlogloss:0.00487\teval-mlogloss:0.16814\n"
     ]
    },
    {
     "name": "stdout",
     "output_type": "stream",
     "text": [
      "[1400]\ttrain-mlogloss:0.00464\teval-mlogloss:0.16888\n"
     ]
    },
    {
     "name": "stdout",
     "output_type": "stream",
     "text": [
      "[1410]\ttrain-mlogloss:0.00462\teval-mlogloss:0.16892\n"
     ]
    },
    {
     "name": "stdout",
     "output_type": "stream",
     "text": [
      "[0]\ttrain-mlogloss:1.77035\teval-mlogloss:1.77848\n"
     ]
    },
    {
     "name": "stdout",
     "output_type": "stream",
     "text": [
      "[50]\ttrain-mlogloss:0.19407\teval-mlogloss:0.28768\n"
     ]
    },
    {
     "name": "stdout",
     "output_type": "stream",
     "text": [
      "[100]\ttrain-mlogloss:0.08532\teval-mlogloss:0.19204\n"
     ]
    },
    {
     "name": "stdout",
     "output_type": "stream",
     "text": [
      "[150]\ttrain-mlogloss:0.05494\teval-mlogloss:0.16998\n"
     ]
    },
    {
     "name": "stdout",
     "output_type": "stream",
     "text": [
      "[200]\ttrain-mlogloss:0.03845\teval-mlogloss:0.16069\n"
     ]
    },
    {
     "name": "stdout",
     "output_type": "stream",
     "text": [
      "[250]\ttrain-mlogloss:0.02829\teval-mlogloss:0.15589\n"
     ]
    },
    {
     "name": "stdout",
     "output_type": "stream",
     "text": [
      "[300]\ttrain-mlogloss:0.02173\teval-mlogloss:0.15370\n"
     ]
    },
    {
     "name": "stdout",
     "output_type": "stream",
     "text": [
      "[350]\ttrain-mlogloss:0.01755\teval-mlogloss:0.15278\n"
     ]
    },
    {
     "name": "stdout",
     "output_type": "stream",
     "text": [
      "[400]\ttrain-mlogloss:0.01464\teval-mlogloss:0.15266\n"
     ]
    },
    {
     "name": "stdout",
     "output_type": "stream",
     "text": [
      "[430]\ttrain-mlogloss:0.01337\teval-mlogloss:0.15279\n"
     ]
    },
    {
     "name": "stdout",
     "output_type": "stream",
     "text": [
      "\n",
      "Classification Report on Test Set:\n",
      "              precision    recall  f1-score   support\n",
      "\n",
      "           0       0.96      0.94      0.95     13230\n",
      "           1       0.95      0.94      0.94     12299\n",
      "           2       0.93      0.94      0.93     11894\n",
      "           3       0.94      0.92      0.93     12788\n",
      "           4       0.93      0.95      0.94     12367\n",
      "           5       0.92      0.95      0.93      9640\n",
      "           6       0.99      0.99      0.99      7335\n",
      "\n",
      "    accuracy                           0.94     79553\n",
      "   macro avg       0.95      0.95      0.95     79553\n",
      "weighted avg       0.94      0.94      0.94     79553\n",
      "\n"
     ]
    },
    {
     "data": {
      "image/png": "[encoded data removed]",
      "text/plain": [
       "<Figure size 640x480 with 1 Axes>"
      ]
     },
     "metadata": {},
     "output_type": "display_data"
    },
    {
     "data": {
      "image/png": "[encoded data removed]",
      "text/plain": [
       "<Figure size 640x480 with 2 Axes>"
      ]
     },
     "metadata": {},
     "output_type": "display_data"
    },
    {
     "name": "stdout",
     "output_type": "stream",
     "text": [
      "{'average_accuracy': 0.9411902468923018, 'average_f1_macro': np.float64(0.9438352218322176), 'average_f1_micro': np.float64(0.9411902468923018), 'average_auc': np.float64(0.9973025460123964), 'average_acc_kelas_generatif': 0.9191601455830787, 'average_acc_fase_padi': 0.9320030237510006}\n",
      "{'val_accuracy': 0.9431448216911996, 'val_f1_macro': np.float64(0.9457415566970456), 'val_f1_micro': np.float64(0.9431448216911996), 'val_auc': np.float64(0.9975818321575735), 'val_acc_kelas_generatif': 0.9202377228651861, 'val_acc_fase_padi': 0.9355394342222583, 'val_relative_acc': np.float64(99.96921498204208)}\n",
      "=============================================================================\n",
      "=============================================================================\n",
      "CLUSTER:  6\n"
     ]
    },
    {
     "name": "stderr",
     "output_type": "stream",
     "text": [
      "[I 2024-10-23 12:19:08,008] A new study created in memory with name: no-name-55c44989-19f5-41a4-9e74-5ff52cfa800f\n"
     ]
    },
    {
     "name": "stdout",
     "output_type": "stream",
     "text": [
      "[1 2 0 5 6 3 4]\n",
      "[0 1 2 3 4 5 6]\n",
      "Mapping of original to encoded classes: {np.int64(0): np.int64(0), np.int64(1): np.int64(1), np.int64(2): np.int64(2), np.int64(3): np.int64(3), np.int64(4): np.int64(4), np.int64(5): np.int64(5), np.int64(6): np.int64(6)}\n",
      "Build Best Parameter using Optuna-Hyperparameter Tuning\n"
     ]
    },
    {
     "name": "stderr",
     "output_type": "stream",
     "text": [
      "[I 2024-10-23 12:20:02,524] Trial 0 finished with value: 0.8994157381639954 and parameters: {'max_depth': 6, 'learning_rate': 0.03439798737960328, 'reg_lambda': 4.814687310504189, 'min_child_weight': 54}. Best is trial 0 with value: 0.8994157381639954.\n"
     ]
    },
    {
     "name": "stderr",
     "output_type": "stream",
     "text": [
      "[I 2024-10-23 12:20:53,132] Trial 1 finished with value: 0.8991418698618387 and parameters: {'max_depth': 6, 'learning_rate': 0.03599226782478897, 'reg_lambda': 2.3812005144806965, 'min_child_weight': 56}. Best is trial 0 with value: 0.8994157381639954.\n"
     ]
    },
    {
     "name": "stderr",
     "output_type": "stream",
     "text": [
      "[I 2024-10-23 12:21:27,616] Trial 2 finished with value: 0.9008334263023299 and parameters: {'max_depth': 10, 'learning_rate': 0.052883064790492575, 'reg_lambda': 3.402399082301691, 'min_child_weight': 86}. Best is trial 2 with value: 0.9008334263023299.\n"
     ]
    },
    {
     "name": "stderr",
     "output_type": "stream",
     "text": [
      "[I 2024-10-23 12:22:35,914] Trial 3 finished with value: 0.899036441066355 and parameters: {'max_depth': 9, 'learning_rate': 0.02125274249917105, 'reg_lambda': 3.3695910910524685, 'min_child_weight': 54}. Best is trial 2 with value: 0.9008334263023299.\n"
     ]
    },
    {
     "name": "stderr",
     "output_type": "stream",
     "text": [
      "[I 2024-10-23 12:23:37,081] Trial 4 finished with value: 0.8993918474715802 and parameters: {'max_depth': 10, 'learning_rate': 0.02567705683942753, 'reg_lambda': 2.5914470627333914, 'min_child_weight': 74}. Best is trial 2 with value: 0.9008334263023299.\n"
     ]
    },
    {
     "name": "stderr",
     "output_type": "stream",
     "text": [
      "[I 2024-10-23 12:24:34,892] Trial 5 finished with value: 0.887485524656547 and parameters: {'max_depth': 6, 'learning_rate': 0.010645426766016444, 'reg_lambda': 2.4790178876727498, 'min_child_weight': 87}. Best is trial 2 with value: 0.9008334263023299.\n"
     ]
    },
    {
     "name": "stderr",
     "output_type": "stream",
     "text": [
      "[I 2024-10-23 12:25:13,276] Trial 6 finished with value: 0.89954146299413 and parameters: {'max_depth': 10, 'learning_rate': 0.04344876629292136, 'reg_lambda': 1.0102097592824093, 'min_child_weight': 69}. Best is trial 2 with value: 0.9008334263023299.\n"
     ]
    },
    {
     "name": "stderr",
     "output_type": "stream",
     "text": [
      "[I 2024-10-23 12:26:32,648] Trial 7 finished with value: 0.8962257695970091 and parameters: {'max_depth': 9, 'learning_rate': 0.01328097917444745, 'reg_lambda': 2.537895183884692, 'min_child_weight': 73}. Best is trial 2 with value: 0.9008334263023299.\n"
     ]
    },
    {
     "name": "stderr",
     "output_type": "stream",
     "text": [
      "[I 2024-10-23 12:26:57,744] Trial 8 finished with value: 0.8989931977493678 and parameters: {'max_depth': 7, 'learning_rate': 0.08411141772729243, 'reg_lambda': 3.1501857385702543, 'min_child_weight': 96}. Best is trial 2 with value: 0.9008334263023299.\n"
     ]
    },
    {
     "name": "stderr",
     "output_type": "stream",
     "text": [
      "[I 2024-10-23 12:27:52,978] Trial 9 finished with value: 0.8996266676159985 and parameters: {'max_depth': 7, 'learning_rate': 0.032662121793424044, 'reg_lambda': 1.5309982431654845, 'min_child_weight': 51}. Best is trial 2 with value: 0.9008334263023299.\n"
     ]
    },
    {
     "name": "stderr",
     "output_type": "stream",
     "text": [
      "[I 2024-10-23 12:28:20,787] Trial 10 finished with value: 0.8992406820926329 and parameters: {'max_depth': 9, 'learning_rate': 0.06905318613667685, 'reg_lambda': 4.45938008993392, 'min_child_weight': 86}. Best is trial 2 with value: 0.9008334263023299.\n"
     ]
    },
    {
     "name": "stderr",
     "output_type": "stream",
     "text": [
      "[I 2024-10-23 12:28:53,950] Trial 11 finished with value: 0.9002353512330914 and parameters: {'max_depth': 8, 'learning_rate': 0.056369503594967, 'reg_lambda': 0.8268265818792179, 'min_child_weight': 85}. Best is trial 2 with value: 0.9008334263023299.\n"
     ]
    },
    {
     "name": "stderr",
     "output_type": "stream",
     "text": [
      "[I 2024-10-23 12:29:25,427] Trial 12 finished with value: 0.8997551414025576 and parameters: {'max_depth': 8, 'learning_rate': 0.05829575427074727, 'reg_lambda': 0.6627276781254876, 'min_child_weight': 85}. Best is trial 2 with value: 0.9008334263023299.\n"
     ]
    },
    {
     "name": "stderr",
     "output_type": "stream",
     "text": [
      "[I 2024-10-23 12:29:55,880] Trial 13 finished with value: 0.8977406464690966 and parameters: {'max_depth': 8, 'learning_rate': 0.05914622479451304, 'reg_lambda': 0.1875599683613074, 'min_child_weight': 99}. Best is trial 2 with value: 0.9008334263023299.\n"
     ]
    },
    {
     "name": "stderr",
     "output_type": "stream",
     "text": [
      "[I 2024-10-23 12:30:16,937] Trial 14 finished with value: 0.9001136046432762 and parameters: {'max_depth': 7, 'learning_rate': 0.09916509314204064, 'reg_lambda': 3.6383560560302017, 'min_child_weight': 81}. Best is trial 2 with value: 0.9008334263023299.\n"
     ]
    },
    {
     "name": "stderr",
     "output_type": "stream",
     "text": [
      "[I 2024-10-23 12:30:42,361] Trial 15 finished with value: 0.8988493816667565 and parameters: {'max_depth': 9, 'learning_rate': 0.0721197178737279, 'reg_lambda': 1.5967924719086068, 'min_child_weight': 93}. Best is trial 2 with value: 0.9008334263023299.\n"
     ]
    },
    {
     "name": "stderr",
     "output_type": "stream",
     "text": [
      "[I 2024-10-23 12:31:18,026] Trial 16 finished with value: 0.9002910653862238 and parameters: {'max_depth': 10, 'learning_rate': 0.04738029463685311, 'reg_lambda': 3.9560353911644306, 'min_child_weight': 63}. Best is trial 2 with value: 0.9008334263023299.\n"
     ]
    },
    {
     "name": "stderr",
     "output_type": "stream",
     "text": [
      "[I 2024-10-23 12:31:54,304] Trial 17 finished with value: 0.8997878334117567 and parameters: {'max_depth': 10, 'learning_rate': 0.046618271311382416, 'reg_lambda': 4.104150067384091, 'min_child_weight': 63}. Best is trial 2 with value: 0.9008334263023299.\n"
     ]
    },
    {
     "name": "stderr",
     "output_type": "stream",
     "text": [
      "[I 2024-10-23 12:32:30,094] Trial 18 finished with value: 0.9001639922576494 and parameters: {'max_depth': 10, 'learning_rate': 0.04589711185644137, 'reg_lambda': 3.89693562303137, 'min_child_weight': 64}. Best is trial 2 with value: 0.9008334263023299.\n"
     ]
    },
    {
     "name": "stderr",
     "output_type": "stream",
     "text": [
      "[I 2024-10-23 12:32:55,064] Trial 19 finished with value: 0.9000968464054537 and parameters: {'max_depth': 10, 'learning_rate': 0.06807191064503823, 'reg_lambda': 3.0642982710685724, 'min_child_weight': 63}. Best is trial 2 with value: 0.9008334263023299.\n"
     ]
    },
    {
     "name": "stdout",
     "output_type": "stream",
     "text": [
      "Best Parameters: {'max_depth': 10, 'learning_rate': 0.052883064790492575, 'reg_lambda': 3.402399082301691, 'min_child_weight': 86}\n",
      "Best Score: 0.9008334263023299\n",
      "Start the modelling\n",
      "[0]\ttrain-mlogloss:1.81393\teval-mlogloss:1.81956\n"
     ]
    },
    {
     "name": "stdout",
     "output_type": "stream",
     "text": [
      "[100]\ttrain-mlogloss:0.15857\teval-mlogloss:0.29728\n"
     ]
    },
    {
     "name": "stdout",
     "output_type": "stream",
     "text": [
      "[200]\ttrain-mlogloss:0.08540\teval-mlogloss:0.26109\n"
     ]
    },
    {
     "name": "stdout",
     "output_type": "stream",
     "text": [
      "[300]\ttrain-mlogloss:0.05348\teval-mlogloss:0.25283\n"
     ]
    },
    {
     "name": "stdout",
     "output_type": "stream",
     "text": [
      "[400]\ttrain-mlogloss:0.03751\teval-mlogloss:0.25214\n"
     ]
    },
    {
     "name": "stdout",
     "output_type": "stream",
     "text": [
      "[500]\ttrain-mlogloss:0.02867\teval-mlogloss:0.25408\n"
     ]
    },
    {
     "name": "stdout",
     "output_type": "stream",
     "text": [
      "[600]\ttrain-mlogloss:0.02325\teval-mlogloss:0.25647\n"
     ]
    },
    {
     "name": "stdout",
     "output_type": "stream",
     "text": [
      "[700]\ttrain-mlogloss:0.01961\teval-mlogloss:0.25907\n"
     ]
    },
    {
     "name": "stdout",
     "output_type": "stream",
     "text": [
      "[800]\ttrain-mlogloss:0.01706\teval-mlogloss:0.26151\n"
     ]
    },
    {
     "name": "stdout",
     "output_type": "stream",
     "text": [
      "[900]\ttrain-mlogloss:0.01520\teval-mlogloss:0.26367\n"
     ]
    },
    {
     "name": "stdout",
     "output_type": "stream",
     "text": [
      "[1000]\ttrain-mlogloss:0.01377\teval-mlogloss:0.26579\n"
     ]
    },
    {
     "name": "stdout",
     "output_type": "stream",
     "text": [
      "[1100]\ttrain-mlogloss:0.01265\teval-mlogloss:0.26765\n"
     ]
    },
    {
     "name": "stdout",
     "output_type": "stream",
     "text": [
      "[1200]\ttrain-mlogloss:0.01174\teval-mlogloss:0.26946\n"
     ]
    },
    {
     "name": "stdout",
     "output_type": "stream",
     "text": [
      "[1300]\ttrain-mlogloss:0.01098\teval-mlogloss:0.27097\n"
     ]
    },
    {
     "name": "stdout",
     "output_type": "stream",
     "text": [
      "[1390]\ttrain-mlogloss:0.01041\teval-mlogloss:0.27240\n"
     ]
    },
    {
     "name": "stdout",
     "output_type": "stream",
     "text": [
      "[0]\ttrain-mlogloss:1.81327\teval-mlogloss:1.81881\n"
     ]
    },
    {
     "name": "stdout",
     "output_type": "stream",
     "text": [
      "[100]\ttrain-mlogloss:0.16161\teval-mlogloss:0.29487\n"
     ]
    },
    {
     "name": "stdout",
     "output_type": "stream",
     "text": [
      "[200]\ttrain-mlogloss:0.08785\teval-mlogloss:0.25798\n"
     ]
    },
    {
     "name": "stdout",
     "output_type": "stream",
     "text": [
      "[300]\ttrain-mlogloss:0.05514\teval-mlogloss:0.24994\n"
     ]
    },
    {
     "name": "stdout",
     "output_type": "stream",
     "text": [
      "[400]\ttrain-mlogloss:0.03857\teval-mlogloss:0.24915\n"
     ]
    },
    {
     "name": "stdout",
     "output_type": "stream",
     "text": [
      "[500]\ttrain-mlogloss:0.02932\teval-mlogloss:0.25036\n"
     ]
    },
    {
     "name": "stdout",
     "output_type": "stream",
     "text": [
      "[600]\ttrain-mlogloss:0.02365\teval-mlogloss:0.25257\n"
     ]
    },
    {
     "name": "stdout",
     "output_type": "stream",
     "text": [
      "[700]\ttrain-mlogloss:0.01993\teval-mlogloss:0.25488\n"
     ]
    },
    {
     "name": "stdout",
     "output_type": "stream",
     "text": [
      "[800]\ttrain-mlogloss:0.01733\teval-mlogloss:0.25704\n"
     ]
    },
    {
     "name": "stdout",
     "output_type": "stream",
     "text": [
      "[900]\ttrain-mlogloss:0.01540\teval-mlogloss:0.25925\n"
     ]
    },
    {
     "name": "stdout",
     "output_type": "stream",
     "text": [
      "[1000]\ttrain-mlogloss:0.01394\teval-mlogloss:0.26138\n"
     ]
    },
    {
     "name": "stdout",
     "output_type": "stream",
     "text": [
      "[1100]\ttrain-mlogloss:0.01280\teval-mlogloss:0.26348\n"
     ]
    },
    {
     "name": "stdout",
     "output_type": "stream",
     "text": [
      "[1200]\ttrain-mlogloss:0.01187\teval-mlogloss:0.26489\n"
     ]
    },
    {
     "name": "stdout",
     "output_type": "stream",
     "text": [
      "[1300]\ttrain-mlogloss:0.01112\teval-mlogloss:0.26663\n"
     ]
    },
    {
     "name": "stdout",
     "output_type": "stream",
     "text": [
      "[1400]\ttrain-mlogloss:0.01047\teval-mlogloss:0.26806\n"
     ]
    },
    {
     "name": "stdout",
     "output_type": "stream",
     "text": [
      "[1408]\ttrain-mlogloss:0.01042\teval-mlogloss:0.26815\n"
     ]
    },
    {
     "name": "stdout",
     "output_type": "stream",
     "text": [
      "[0]\ttrain-mlogloss:1.81384\teval-mlogloss:1.81988\n"
     ]
    },
    {
     "name": "stdout",
     "output_type": "stream",
     "text": [
      "[100]\ttrain-mlogloss:0.15694\teval-mlogloss:0.30459\n"
     ]
    },
    {
     "name": "stdout",
     "output_type": "stream",
     "text": [
      "[200]\ttrain-mlogloss:0.08201\teval-mlogloss:0.26969\n"
     ]
    },
    {
     "name": "stdout",
     "output_type": "stream",
     "text": [
      "[300]\ttrain-mlogloss:0.05095\teval-mlogloss:0.26248\n"
     ]
    },
    {
     "name": "stdout",
     "output_type": "stream",
     "text": [
      "[400]\ttrain-mlogloss:0.03549\teval-mlogloss:0.26255\n"
     ]
    },
    {
     "name": "stdout",
     "output_type": "stream",
     "text": [
      "[500]\ttrain-mlogloss:0.02725\teval-mlogloss:0.26524\n"
     ]
    },
    {
     "name": "stdout",
     "output_type": "stream",
     "text": [
      "[600]\ttrain-mlogloss:0.02210\teval-mlogloss:0.26813\n"
     ]
    },
    {
     "name": "stdout",
     "output_type": "stream",
     "text": [
      "[700]\ttrain-mlogloss:0.01873\teval-mlogloss:0.27116\n"
     ]
    },
    {
     "name": "stdout",
     "output_type": "stream",
     "text": [
      "[800]\ttrain-mlogloss:0.01635\teval-mlogloss:0.27415\n"
     ]
    },
    {
     "name": "stdout",
     "output_type": "stream",
     "text": [
      "[900]\ttrain-mlogloss:0.01463\teval-mlogloss:0.27669\n"
     ]
    },
    {
     "name": "stdout",
     "output_type": "stream",
     "text": [
      "[1000]\ttrain-mlogloss:0.01330\teval-mlogloss:0.27918\n"
     ]
    },
    {
     "name": "stdout",
     "output_type": "stream",
     "text": [
      "[1100]\ttrain-mlogloss:0.01225\teval-mlogloss:0.28167\n"
     ]
    },
    {
     "name": "stdout",
     "output_type": "stream",
     "text": [
      "[1200]\ttrain-mlogloss:0.01140\teval-mlogloss:0.28372\n"
     ]
    },
    {
     "name": "stdout",
     "output_type": "stream",
     "text": [
      "[1300]\ttrain-mlogloss:0.01070\teval-mlogloss:0.28553\n"
     ]
    },
    {
     "name": "stdout",
     "output_type": "stream",
     "text": [
      "[1374]\ttrain-mlogloss:0.01025\teval-mlogloss:0.28674\n"
     ]
    },
    {
     "name": "stdout",
     "output_type": "stream",
     "text": [
      "[0]\ttrain-mlogloss:1.81140\teval-mlogloss:1.81621\n"
     ]
    },
    {
     "name": "stdout",
     "output_type": "stream",
     "text": [
      "[50]\ttrain-mlogloss:0.31656\teval-mlogloss:0.40750\n"
     ]
    },
    {
     "name": "stdout",
     "output_type": "stream",
     "text": [
      "[100]\ttrain-mlogloss:0.16265\teval-mlogloss:0.28211\n"
     ]
    },
    {
     "name": "stdout",
     "output_type": "stream",
     "text": [
      "[150]\ttrain-mlogloss:0.12060\teval-mlogloss:0.25497\n"
     ]
    },
    {
     "name": "stdout",
     "output_type": "stream",
     "text": [
      "[200]\ttrain-mlogloss:0.09547\teval-mlogloss:0.24356\n"
     ]
    },
    {
     "name": "stdout",
     "output_type": "stream",
     "text": [
      "[250]\ttrain-mlogloss:0.07512\teval-mlogloss:0.23587\n"
     ]
    },
    {
     "name": "stdout",
     "output_type": "stream",
     "text": [
      "[300]\ttrain-mlogloss:0.06083\teval-mlogloss:0.23166\n"
     ]
    },
    {
     "name": "stdout",
     "output_type": "stream",
     "text": [
      "[350]\ttrain-mlogloss:0.05065\teval-mlogloss:0.22933\n"
     ]
    },
    {
     "name": "stdout",
     "output_type": "stream",
     "text": [
      "[400]\ttrain-mlogloss:0.04283\teval-mlogloss:0.22800\n"
     ]
    },
    {
     "name": "stdout",
     "output_type": "stream",
     "text": [
      "[450]\ttrain-mlogloss:0.03688\teval-mlogloss:0.22759\n"
     ]
    },
    {
     "name": "stdout",
     "output_type": "stream",
     "text": [
      "[500]\ttrain-mlogloss:0.03221\teval-mlogloss:0.22765\n"
     ]
    },
    {
     "name": "stdout",
     "output_type": "stream",
     "text": [
      "[526]\ttrain-mlogloss:0.03014\teval-mlogloss:0.22784\n"
     ]
    },
    {
     "name": "stdout",
     "output_type": "stream",
     "text": [
      "\n",
      "Classification Report on Test Set:\n",
      "              precision    recall  f1-score   support\n",
      "\n",
      "           0       0.92      0.92      0.92     12654\n",
      "           1       0.92      0.91      0.92     12873\n",
      "           2       0.91      0.93      0.92     12925\n",
      "           3       0.92      0.92      0.92     13285\n",
      "           4       0.92      0.93      0.93     12833\n",
      "           5       0.92      0.93      0.92     11875\n",
      "           6       0.88      0.80      0.84      5186\n",
      "\n",
      "    accuracy                           0.92     81631\n",
      "   macro avg       0.91      0.91      0.91     81631\n",
      "weighted avg       0.92      0.92      0.91     81631\n",
      "\n"
     ]
    },
    {
     "data": {
      "image/png": "[encoded data removed]",
      "text/plain": [
       "<Figure size 640x480 with 1 Axes>"
      ]
     },
     "metadata": {},
     "output_type": "display_data"
    },
    {
     "data": {
      "image/png": "[encoded data removed]",
      "text/plain": [
       "<Figure size 640x480 with 2 Axes>"
      ]
     },
     "metadata": {},
     "output_type": "display_data"
    },
    {
     "name": "stdout",
     "output_type": "stream",
     "text": [
      "{'average_accuracy': 0.9091298763615852, 'average_f1_macro': np.float64(0.9025267056362724), 'average_f1_micro': np.float64(0.9091298763615852), 'average_auc': np.float64(0.9915772728692825), 'average_acc_kelas_generatif': 0.9151593322345989, 'average_acc_fase_padi': 0.9170748577194475}\n",
      "{'val_accuracy': 0.9151915326285357, 'val_f1_macro': np.float64(0.9087174144890395), 'val_f1_micro': np.float64(0.9151915326285357), 'val_auc': np.float64(0.9937376786682083), 'val_acc_kelas_generatif': 0.9223936770794129, 'val_acc_fase_padi': 0.9227983665921874, 'val_relative_acc': np.float64(99.99361471170424)}\n",
      "=============================================================================\n"
     ]
    }
   ],
   "source": [
    "from sklearn.preprocessing import StandardScaler, LabelEncoder\n",
    "df['observation']=df['observation'].apply(lambda y: int(y))\n",
    "dict_report={}\n",
    "for i in np.sort(df.cluster_data.unique()):\n",
    "    print('=============================================================================')\n",
    "    print('CLUSTER: ', i)\n",
    "    df_x = df.query('cluster_data==@i')\n",
    "    sns.countplot(x='observation', hue='cluster_data', data=df_x,palette=sns.color_palette(\"Set2\"))\n",
    "    plt.savefig(f\"/data/ksa/05_Modelling/picture/{kdprov}_distplot_cluster_{i}.png\", dpi=300, bbox_inches='tight')\n",
    "    X_train, X_test, y_train, y_test = get_train_test(df_x, 0.7)\n",
    "    # Encode the labels\n",
    "    label_encoder = LabelEncoder()\n",
    "    y_train_encoded = label_encoder.fit_transform(y_train)\n",
    "    y_test_encoded = label_encoder.transform(y_test)\n",
    "    \n",
    "    # Output the unique encoded labels and the mapping\n",
    "    print(np.unique(y_train_encoded))\n",
    "    class_mapping = dict(zip(label_encoder.classes_, label_encoder.transform(label_encoder.classes_)))\n",
    "    print(\"Mapping of original to encoded classes:\", class_mapping)\n",
    "    \n",
    "    # Create an Optuna study and optimize the objective function\n",
    "    print('Build Best Parameter using Optuna-Hyperparameter Tuning')\n",
    "    study = optuna.create_study(direction='maximize')  # 'maximize' because we are optimizing accuracy\n",
    "    study.optimize(lambda trial: objective(trial, X_train, y_train_encoded), n_trials=20)  # Run for 50 trials\n",
    "    # Print the best parameters and the best score\n",
    "    print(f\"Best Parameters: {study.best_params}\")\n",
    "    print(f\"Best Score: {study.best_value}\")\n",
    "\n",
    "    print('Start the modelling')\n",
    "    model0, training_metrics0, validation_metrics0, report0, cm0 = evaluate_model(\n",
    "        X_train, y_train_encoded, X_test, y_test_encoded,cluster=i,best_params=study.best_params)\n",
    "    \n",
    "    dict_report[i]={'model':model0,\n",
    "                    'training_metrics':training_metrics0,\n",
    "                    'validation_metrics':validation_metrics0,\n",
    "                    'reports':report0,\n",
    "                    'cm':cm0,\n",
    "                    'params':study.best_params}\n",
    "    # Print the training and validation metrics\n",
    "    print(training_metrics0)\n",
    "    print(validation_metrics0)\n",
    "    print('=============================================================================')\n",
    "\n",
    "\n"
   ]
  },
  {
   "cell_type": "code",
   "execution_count": 11,
   "id": "26743d1e-45c9-4c26-81de-46e9f11f1698",
   "metadata": {
    "execution": {
     "iopub.execute_input": "2024-10-23T05:34:45.199497Z",
     "iopub.status.busy": "2024-10-23T05:34:45.198834Z",
     "iopub.status.idle": "2024-10-23T05:34:45.765806Z",
     "shell.execute_reply": "2024-10-23T05:34:45.764753Z"
    },
    "papermill": {
     "duration": 0.613551,
     "end_time": "2024-10-23T05:34:45.768257",
     "exception": false,
     "start_time": "2024-10-23T05:34:45.154706",
     "status": "completed"
    },
    "tags": []
   },
   "outputs": [],
   "source": [
    "with open(f'/data/ksa/05_Modelling/model/xgboost{kdprov}_v2.pkl','wb') as file:\n",
    "    pickle.dump(dict_report,file)"
   ]
  },
  {
   "cell_type": "code",
   "execution_count": null,
   "id": "76b68ced-340e-48b6-a01f-a22c31637ad8",
   "metadata": {
    "papermill": {
     "duration": 0.042333,
     "end_time": "2024-10-23T05:34:45.853471",
     "exception": false,
     "start_time": "2024-10-23T05:34:45.811138",
     "status": "completed"
    },
    "tags": []
   },
   "outputs": [],
   "source": []
  }
 ],
 "metadata": {
  "kernelspec": {
   "display_name": "Python 3 (ipykernel)",
   "language": "python",
   "name": "python3"
  },
  "language_info": {
   "codemirror_mode": {
    "name": "ipython",
    "version": 3
   },
   "file_extension": ".py",
   "mimetype": "text/x-python",
   "name": "python",
   "nbconvert_exporter": "python",
   "pygments_lexer": "ipython3",
   "version": "3.10.14"
  },
  "papermill": {
   "default_parameters": {},
   "duration": 6000.687118,
   "end_time": "2024-10-23T05:34:47.031308",
   "environment_variables": {},
   "exception": null,
   "input_path": "XGBOOST Base model.ipynb",
   "output_path": "XGBOOST_73.ipynb",
   "parameters": {
    "kdprov": 73
   },
   "start_time": "2024-10-23T03:54:46.344190",
   "version": "2.6.0"
  }
 },
 "nbformat": 4,
 "nbformat_minor": 5
}