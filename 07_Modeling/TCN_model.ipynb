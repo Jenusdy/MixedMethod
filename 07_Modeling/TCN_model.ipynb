{
 "cells": [
  {
   "cell_type": "code",
   "execution_count": 11,
   "id": "4bcf839b-a566-46d8-9227-e1ba20cc8a38",
   "metadata": {},
   "outputs": [],
   "source": [
    "import torch\n",
    "import torch.nn as nn\n",
    "import torch.nn.functional as F\n",
    "\n",
    "class TemporalBlock(nn.Module):\n",
    "    def __init__(self, in_channels, out_channels, kernel_size, stride, dilation, padding, dropout=0.2):\n",
    "        super(TemporalBlock, self).__init__()\n",
    "        self.conv1 = nn.Conv1d(in_channels, out_channels, kernel_size, stride=stride,\n",
    "                               padding=padding, dilation=dilation)\n",
    "        self.batch_norm1 = nn.BatchNorm1d(out_channels)\n",
    "        self.dropout1 = nn.Dropout(dropout)\n",
    "\n",
    "        self.conv2 = nn.Conv1d(out_channels, out_channels, kernel_size, stride=stride,\n",
    "                               padding=padding, dilation=dilation)\n",
    "        self.batch_norm2 = nn.BatchNorm1d(out_channels)\n",
    "        self.dropout2 = nn.Dropout(dropout)\n",
    "\n",
    "        self.downsample = nn.Conv1d(in_channels, out_channels, kernel_size=1) if in_channels != out_channels else None\n",
    "\n",
    "        # Initializing weights\n",
    "        self.init_weights()\n",
    "\n",
    "    def init_weights(self):\n",
    "        self.conv1.weight.data.normal_(0, 0.01)\n",
    "        self.conv2.weight.data.normal_(0, 0.01)\n",
    "        if self.downsample is not None:\n",
    "            self.downsample.weight.data.normal_(0, 0.01)\n",
    "\n",
    "    def forward(self, x):\n",
    "        out = F.relu(self.batch_norm1(self.conv1(x)))\n",
    "        out = self.dropout1(out)\n",
    "        out = F.relu(self.batch_norm2(self.conv2(out)))\n",
    "        out = self.dropout2(out)\n",
    "\n",
    "        # Downsample (if necessary)\n",
    "        res = x if self.downsample is None else self.downsample(x)\n",
    "\n",
    "        # Ensure the sequence length matches\n",
    "        if res.shape[2] != out.shape[2]:\n",
    "            diff = res.shape[2] - out.shape[2]\n",
    "            out = F.pad(out, (0, diff))\n",
    "\n",
    "        return F.relu(out + res)\n",
    "\n",
    "\n",
    "class TemporalConvNet(nn.Module):\n",
    "    def __init__(self, num_inputs, num_channels, kernel_size=2, dropout=0.2):\n",
    "        super(TemporalConvNet, self).__init__()\n",
    "        layers = []\n",
    "        num_levels = len(num_channels)\n",
    "        for i in range(num_levels):\n",
    "            dilation_size = 2 ** i\n",
    "            in_channels = num_inputs if i == 0 else num_channels[i - 1]\n",
    "            out_channels = num_channels[i]\n",
    "            padding = (kernel_size - 1) * dilation_size\n",
    "\n",
    "            layers += [TemporalBlock(in_channels, out_channels, kernel_size, stride=1, dilation=dilation_size,\n",
    "                                     padding=padding, dropout=dropout)]\n",
    "\n",
    "        self.network = nn.Sequential(*layers)\n",
    "\n",
    "    def forward(self, x):\n",
    "        return self.network(x)\n",
    "\n",
    "\n",
    "class TCNClassifier(nn.Module):\n",
    "    def __init__(self, input_size, num_classes, num_channels, kernel_size=2, dropout=0.2):\n",
    "        super(TCNClassifier, self).__init__()\n",
    "        self.tcn = TemporalConvNet(input_size, num_channels, kernel_size, dropout)\n",
    "        self.linear = nn.Linear(num_channels[-1], num_classes)\n",
    "\n",
    "    def forward(self, x):\n",
    "        y = self.tcn(x)\n",
    "        y = y[:, :, -1]  # Use the last output for classification\n",
    "        y = self.linear(y)\n",
    "        return F.softmax(y, dim=1) \n"
   ]
  },
  {
   "cell_type": "code",
   "execution_count": 12,
   "id": "0efd554d-3b52-42f0-9fe2-6ce59f6b0d92",
   "metadata": {},
   "outputs": [
    {
     "name": "stdout",
     "output_type": "stream",
     "text": [
      "Epoch 1, Loss: 2.304046630859375\n",
      "Epoch 2, Loss: 2.303402900695801\n",
      "Epoch 3, Loss: 2.3032405376434326\n",
      "Epoch 4, Loss: 2.3026256561279297\n",
      "Epoch 5, Loss: 2.301750898361206\n",
      "Epoch 6, Loss: 2.3014299869537354\n",
      "Epoch 7, Loss: 2.300898313522339\n",
      "Epoch 8, Loss: 2.3011722564697266\n",
      "Epoch 9, Loss: 2.300260066986084\n",
      "Epoch 10, Loss: 2.300034523010254\n"
     ]
    }
   ],
   "source": [
    "# Example data\n",
    "batch_size = 10000\n",
    "sequence_length = 30\n",
    "num_features = 2  # Input size\n",
    "num_classes = 10  # Number of classes\n",
    "\n",
    "# Random data for demonstration\n",
    "x = torch.randn(batch_size, num_features, sequence_length)\n",
    "y = torch.randint(0, num_classes, (batch_size,))\n",
    "\n",
    "# Define model, loss, and optimizer\n",
    "model = TCNClassifier(input_size=num_features, num_classes=num_classes, num_channels=[25, 50, 75])\n",
    "criterion = nn.CrossEntropyLoss()\n",
    "optimizer = torch.optim.Adam(model.parameters(), lr=0.001)\n",
    "\n",
    "# Training loop (simplified)\n",
    "model.train()\n",
    "for epoch in range(10):  # Number of epochs\n",
    "    optimizer.zero_grad()\n",
    "    output = model(x)\n",
    "    loss = criterion(output, y)\n",
    "    loss.backward()\n",
    "    optimizer.step()\n",
    "\n",
    "    print(f'Epoch {epoch+1}, Loss: {loss.item()}')\n"
   ]
  },
  {
   "cell_type": "code",
   "execution_count": 9,
   "id": "85636cc1-81a3-4dc2-9cb5-c43974335bc7",
   "metadata": {},
   "outputs": [
    {
     "data": {
      "text/plain": [
       "10000"
      ]
     },
     "execution_count": 9,
     "metadata": {},
     "output_type": "execute_result"
    }
   ],
   "source": [
    "len(y)"
   ]
  },
  {
   "cell_type": "code",
   "execution_count": null,
   "id": "38ed7020-b29d-4742-8779-5facd2478141",
   "metadata": {},
   "outputs": [],
   "source": [
    "# Example data\n",
    "batch_size = 32\n",
    "sequence_length = 100\n",
    "num_features = 10  # Input size\n",
    "num_classes = 5  # Number of classes\n",
    "\n",
    "# Random data for demonstration\n",
    "x = torch.randn(batch_size, num_features, sequence_length)\n",
    "y = torch.randint(0, num_classes, (batch_size,))\n",
    "\n",
    "# Define model, loss, and optimizer\n",
    "model = TCNClassifier(input_size=num_features, num_classes=num_classes, num_channels=[25, 50, 75])\n",
    "criterion = nn.CrossEntropyLoss()\n",
    "optimizer = torch.optim.Adam(model.parameters(), lr=0.001)\n",
    "\n",
    "# Training loop (simplified)\n",
    "model.train()\n",
    "for epoch in range(10):  # Number of epochs\n",
    "    optimizer.zero_grad()\n",
    "    output = model(x)\n",
    "    loss = criterion(output, y)\n",
    "    loss.backward()\n",
    "    optimizer.step()\n",
    "\n",
    "    print(f'Epoch {epoch+1}, Loss: {loss.item()}')\n"
   ]
  }
 ],
 "metadata": {
  "kernelspec": {
   "display_name": "Python 3 (ipykernel)",
   "language": "python",
   "name": "python3"
  },
  "language_info": {
   "codemirror_mode": {
    "name": "ipython",
    "version": 3
   },
   "file_extension": ".py",
   "mimetype": "text/x-python",
   "name": "python",
   "nbconvert_exporter": "python",
   "pygments_lexer": "ipython3",
   "version": "3.10.14"
  }
 },
 "nbformat": 4,
 "nbformat_minor": 5
}
