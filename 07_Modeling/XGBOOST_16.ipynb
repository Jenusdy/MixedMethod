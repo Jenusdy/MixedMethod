{
 "cells": [
  {
   "cell_type": "code",
   "execution_count": 2,
   "id": "d37f5160-5e12-40a3-8dc9-2d929bd94327",
   "metadata": {
    "papermill": {
     "duration": 2.968801,
     "end_time": "2024-10-16T08:31:02.734547",
     "exception": false,
     "start_time": "2024-10-16T08:30:59.765746",
     "status": "completed"
    },
    "tags": []
   },
   "outputs": [
    {
     "name": "stderr",
     "output_type": "stream",
     "text": [
      "/data/home/handy.geraldy/.local/lib/python3.10/site-packages/tqdm/auto.py:21: TqdmWarning: IProgress not found. Please update jupyter and ipywidgets. See https://ipywidgets.readthedocs.io/en/stable/user_install.html\n",
      "  from .autonotebook import tqdm as notebook_tqdm\n"
     ]
    }
   ],
   "source": [
    "import pandas as pd\n",
    "import geopandas as gpd\n",
    "import numpy as np\n",
    "import matplotlib.pyplot as plt\n",
    "import seaborn as sns\n",
    "import os\n",
    "from glob import glob\n",
    "import polars as pl\n",
    "import xgboost as xgb\n",
    "import optuna\n",
    "from sklearn.model_selection import StratifiedKFold, cross_val_score\n",
    "from sklearn.metrics import accuracy_score\n",
    "from sklearn.model_selection import train_test_split, cross_validate\n",
    "from sklearn.metrics import classification_report, confusion_matrix, ConfusionMatrixDisplay, accuracy_score, make_scorer, f1_score, roc_auc_score\n",
    "from sklearn.preprocessing import LabelEncoder\n",
    "import warnings\n",
    "\n",
    "# Suppress warnings globally\n",
    "warnings.filterwarnings(\"ignore\", category=UserWarning)\n",
    "warnings.filterwarnings(\"ignore\", category=DeprecationWarning)\n",
    "import pickle\n",
    "import warnings\n",
    "warnings.simplefilter(action='ignore', category=FutureWarning)\n",
    "warnings.simplefilter(action='ignore', category=pd.errors.SettingWithCopyWarning)\n",
    "from collections import Counter\n",
    "import numpy as np\n",
    "warnings.filterwarnings(\"ignore\", category=RuntimeWarning)"
   ]
  },
  {
   "cell_type": "code",
   "execution_count": 2,
   "id": "1164ac8a-4c5a-456c-a6c9-4e3f8f1fff85",
   "metadata": {
    "execution": {
     "iopub.execute_input": "2024-10-16T08:31:02.745266Z",
     "iopub.status.busy": "2024-10-16T08:31:02.743881Z",
     "iopub.status.idle": "2024-10-16T08:31:02.751995Z",
     "shell.execute_reply": "2024-10-16T08:31:02.750674Z"
    },
    "papermill": {
     "duration": 0.015354,
     "end_time": "2024-10-16T08:31:02.753986",
     "exception": false,
     "start_time": "2024-10-16T08:31:02.738632",
     "status": "completed"
    },
    "tags": []
   },
   "outputs": [],
   "source": [
    "def get_train_test(df, test_size):\n",
    "    # Make X and Y dataset\n",
    "    y = df.observation\n",
    "    print(y.unique())\n",
    "    X = df.loc[:,'VH_30':'VH_0']\n",
    "    X['nth'] = df.loc[:,'nth']\n",
    "    X['nth'] = X.nth.astype('category')\n",
    "    X_train, X_test, y_train, y_test = train_test_split(X, y, test_size=test_size, random_state=1234, stratify=y)\n",
    "    return X_train, X_test, y_train, y_test"
   ]
  },
  {
   "cell_type": "code",
   "execution_count": 3,
   "id": "02aaee39-f4fe-424f-a54a-71ae90874e0c",
   "metadata": {
    "execution": {
     "iopub.execute_input": "2024-10-16T08:31:02.763229Z",
     "iopub.status.busy": "2024-10-16T08:31:02.762371Z",
     "iopub.status.idle": "2024-10-16T08:31:02.769409Z",
     "shell.execute_reply": "2024-10-16T08:31:02.768417Z"
    },
    "papermill": {
     "duration": 0.014008,
     "end_time": "2024-10-16T08:31:02.771478",
     "exception": false,
     "start_time": "2024-10-16T08:31:02.757470",
     "status": "completed"
    },
    "tags": []
   },
   "outputs": [],
   "source": [
    "def akurasi_kelas_generatif(y_true, y_pred):\n",
    "    # Calculate accuracy specifically for class 3\n",
    "    class_3_mask = (y_true == 3)\n",
    "    if np.any(class_3_mask):  # Check if class 3 is present in the true labels\n",
    "        return accuracy_score(y_true[class_3_mask], y_pred[class_3_mask])\n",
    "    else:\n",
    "        return 0.0  # Return 0 if class 3 is not present in the true labels\n",
    "\n",
    "def akurasi_fase_padi(y_true, y_pred):\n",
    "    # Calculate accuracy specifically for classes 1, 2, 3, and 4\n",
    "    class_1234_mask = (y_true >= 1) & (y_true <= 4)\n",
    "    if np.any(class_1234_mask):  # Check if classes 1,2,3,4 are present in the true labels\n",
    "        return accuracy_score(y_true[class_1234_mask], y_pred[class_1234_mask])\n",
    "    else:\n",
    "        return 0.0  # Return 0 if none of the classes 0-3 are present in the true labels"
   ]
  },
  {
   "cell_type": "code",
   "execution_count": 4,
   "id": "9bc8ab03-1717-47d9-95ea-75e3db819b06",
   "metadata": {
    "editable": true,
    "execution": {
     "iopub.execute_input": "2024-10-16T08:31:02.781035Z",
     "iopub.status.busy": "2024-10-16T08:31:02.779775Z",
     "iopub.status.idle": "2024-10-16T08:31:02.784681Z",
     "shell.execute_reply": "2024-10-16T08:31:02.783743Z"
    },
    "papermill": {
     "duration": 0.011842,
     "end_time": "2024-10-16T08:31:02.786614",
     "exception": false,
     "start_time": "2024-10-16T08:31:02.774772",
     "status": "completed"
    },
    "slideshow": {
     "slide_type": ""
    },
    "tags": [
     "parameters"
    ]
   },
   "outputs": [],
   "source": [
    "kdprov='32'"
   ]
  },
  {
   "cell_type": "code",
   "execution_count": 5,
   "id": "badff298",
   "metadata": {
    "execution": {
     "iopub.execute_input": "2024-10-16T08:31:02.795953Z",
     "iopub.status.busy": "2024-10-16T08:31:02.794876Z",
     "iopub.status.idle": "2024-10-16T08:31:02.799638Z",
     "shell.execute_reply": "2024-10-16T08:31:02.798482Z"
    },
    "papermill": {
     "duration": 0.011678,
     "end_time": "2024-10-16T08:31:02.801714",
     "exception": false,
     "start_time": "2024-10-16T08:31:02.790036",
     "status": "completed"
    },
    "tags": [
     "injected-parameters"
    ]
   },
   "outputs": [],
   "source": [
    "# Parameters\n",
    "kdprov = 16\n"
   ]
  },
  {
   "cell_type": "code",
   "execution_count": 6,
   "id": "7e0bd5e8-90ad-4dac-938b-2892a96e6ea4",
   "metadata": {
    "editable": true,
    "execution": {
     "iopub.execute_input": "2024-10-16T08:31:02.812436Z",
     "iopub.status.busy": "2024-10-16T08:31:02.811418Z",
     "iopub.status.idle": "2024-10-16T08:31:03.095409Z",
     "shell.execute_reply": "2024-10-16T08:31:03.094217Z"
    },
    "papermill": {
     "duration": 0.292212,
     "end_time": "2024-10-16T08:31:03.097232",
     "exception": false,
     "start_time": "2024-10-16T08:31:02.805020",
     "status": "completed"
    },
    "slideshow": {
     "slide_type": ""
    },
    "tags": []
   },
   "outputs": [
    {
     "name": "stdout",
     "output_type": "stream",
     "text": [
      "(424881, 44)\n"
     ]
    },
    {
     "data": {
      "text/html": [
       "<div>\n",
       "<style scoped>\n",
       "    .dataframe tbody tr th:only-of-type {\n",
       "        vertical-align: middle;\n",
       "    }\n",
       "\n",
       "    .dataframe tbody tr th {\n",
       "        vertical-align: top;\n",
       "    }\n",
       "\n",
       "    .dataframe thead th {\n",
       "        text-align: right;\n",
       "    }\n",
       "</style>\n",
       "<table border=\"1\" class=\"dataframe\">\n",
       "  <thead>\n",
       "    <tr style=\"text-align: right;\">\n",
       "      <th></th>\n",
       "      <th>idpoint</th>\n",
       "      <th>idsubsegment</th>\n",
       "      <th>idsegment</th>\n",
       "      <th>nth</th>\n",
       "      <th>periode</th>\n",
       "      <th>observation</th>\n",
       "      <th>class</th>\n",
       "      <th>MGRS</th>\n",
       "      <th>VH_30</th>\n",
       "      <th>VH_29</th>\n",
       "      <th>...</th>\n",
       "      <th>VH_4</th>\n",
       "      <th>VH_3</th>\n",
       "      <th>VH_2</th>\n",
       "      <th>VH_1</th>\n",
       "      <th>VH_0</th>\n",
       "      <th>idkabkota</th>\n",
       "      <th>cluster_data</th>\n",
       "      <th>Sigma0VH_variance</th>\n",
       "      <th>winner</th>\n",
       "      <th>prior</th>\n",
       "    </tr>\n",
       "  </thead>\n",
       "  <tbody>\n",
       "    <tr>\n",
       "      <th>0</th>\n",
       "      <td>160305107C1#02</td>\n",
       "      <td>160305107C1</td>\n",
       "      <td>160305107</td>\n",
       "      <td>1</td>\n",
       "      <td>2022_03</td>\n",
       "      <td>6</td>\n",
       "      <td>NV</td>\n",
       "      <td>48MUB</td>\n",
       "      <td>-14.417054</td>\n",
       "      <td>-15.453288</td>\n",
       "      <td>...</td>\n",
       "      <td>-14.411136</td>\n",
       "      <td>-14.507049</td>\n",
       "      <td>-14.778535</td>\n",
       "      <td>-14.411583</td>\n",
       "      <td>-14.427826</td>\n",
       "      <td>1603</td>\n",
       "      <td>1</td>\n",
       "      <td>1.333619</td>\n",
       "      <td>R17C8</td>\n",
       "      <td>0.475810</td>\n",
       "    </tr>\n",
       "    <tr>\n",
       "      <th>1</th>\n",
       "      <td>160305107C1#06</td>\n",
       "      <td>160305107C1</td>\n",
       "      <td>160305107</td>\n",
       "      <td>1</td>\n",
       "      <td>2022_03</td>\n",
       "      <td>6</td>\n",
       "      <td>NV</td>\n",
       "      <td>48MUB</td>\n",
       "      <td>-12.813298</td>\n",
       "      <td>-12.910084</td>\n",
       "      <td>...</td>\n",
       "      <td>-14.241682</td>\n",
       "      <td>-14.623736</td>\n",
       "      <td>-15.423254</td>\n",
       "      <td>-13.421648</td>\n",
       "      <td>-13.539691</td>\n",
       "      <td>1603</td>\n",
       "      <td>1</td>\n",
       "      <td>1.333619</td>\n",
       "      <td>R0C17</td>\n",
       "      <td>0.470588</td>\n",
       "    </tr>\n",
       "    <tr>\n",
       "      <th>2</th>\n",
       "      <td>160305108B2#11</td>\n",
       "      <td>160305108B2</td>\n",
       "      <td>160305108</td>\n",
       "      <td>1</td>\n",
       "      <td>2022_03</td>\n",
       "      <td>6</td>\n",
       "      <td>NV</td>\n",
       "      <td>48MUB</td>\n",
       "      <td>-15.112636</td>\n",
       "      <td>-14.575656</td>\n",
       "      <td>...</td>\n",
       "      <td>-15.117046</td>\n",
       "      <td>-14.210211</td>\n",
       "      <td>-13.167871</td>\n",
       "      <td>-14.001276</td>\n",
       "      <td>-13.880877</td>\n",
       "      <td>1603</td>\n",
       "      <td>1</td>\n",
       "      <td>4.148099</td>\n",
       "      <td>R8C3</td>\n",
       "      <td>0.544771</td>\n",
       "    </tr>\n",
       "    <tr>\n",
       "      <th>6</th>\n",
       "      <td>160305108B2#12</td>\n",
       "      <td>160305108B2</td>\n",
       "      <td>160305108</td>\n",
       "      <td>1</td>\n",
       "      <td>2022_03</td>\n",
       "      <td>6</td>\n",
       "      <td>NV</td>\n",
       "      <td>48MUB</td>\n",
       "      <td>-15.153728</td>\n",
       "      <td>-14.256364</td>\n",
       "      <td>...</td>\n",
       "      <td>-16.040712</td>\n",
       "      <td>-14.209383</td>\n",
       "      <td>-12.665653</td>\n",
       "      <td>-13.330966</td>\n",
       "      <td>-13.522510</td>\n",
       "      <td>1603</td>\n",
       "      <td>1</td>\n",
       "      <td>4.148099</td>\n",
       "      <td>R6C9</td>\n",
       "      <td>0.409669</td>\n",
       "    </tr>\n",
       "    <tr>\n",
       "      <th>10</th>\n",
       "      <td>160305108B2#13</td>\n",
       "      <td>160305108B2</td>\n",
       "      <td>160305108</td>\n",
       "      <td>1</td>\n",
       "      <td>2022_03</td>\n",
       "      <td>6</td>\n",
       "      <td>NV</td>\n",
       "      <td>48MUB</td>\n",
       "      <td>-15.317593</td>\n",
       "      <td>-14.713882</td>\n",
       "      <td>...</td>\n",
       "      <td>-16.066772</td>\n",
       "      <td>-14.741725</td>\n",
       "      <td>-14.202780</td>\n",
       "      <td>-13.020895</td>\n",
       "      <td>-13.985903</td>\n",
       "      <td>1603</td>\n",
       "      <td>1</td>\n",
       "      <td>4.148099</td>\n",
       "      <td>R6C9</td>\n",
       "      <td>0.409669</td>\n",
       "    </tr>\n",
       "  </tbody>\n",
       "</table>\n",
       "<p>5 rows × 44 columns</p>\n",
       "</div>"
      ],
      "text/plain": [
       "           idpoint idsubsegment  idsegment  nth  periode  observation class  \\\n",
       "0   160305107C1#02  160305107C1  160305107    1  2022_03            6    NV   \n",
       "1   160305107C1#06  160305107C1  160305107    1  2022_03            6    NV   \n",
       "2   160305108B2#11  160305108B2  160305108    1  2022_03            6    NV   \n",
       "6   160305108B2#12  160305108B2  160305108    1  2022_03            6    NV   \n",
       "10  160305108B2#13  160305108B2  160305108    1  2022_03            6    NV   \n",
       "\n",
       "     MGRS      VH_30      VH_29  ...       VH_4       VH_3       VH_2  \\\n",
       "0   48MUB -14.417054 -15.453288  ... -14.411136 -14.507049 -14.778535   \n",
       "1   48MUB -12.813298 -12.910084  ... -14.241682 -14.623736 -15.423254   \n",
       "2   48MUB -15.112636 -14.575656  ... -15.117046 -14.210211 -13.167871   \n",
       "6   48MUB -15.153728 -14.256364  ... -16.040712 -14.209383 -12.665653   \n",
       "10  48MUB -15.317593 -14.713882  ... -16.066772 -14.741725 -14.202780   \n",
       "\n",
       "         VH_1       VH_0  idkabkota  cluster_data  Sigma0VH_variance  winner  \\\n",
       "0  -14.411583 -14.427826       1603             1           1.333619   R17C8   \n",
       "1  -13.421648 -13.539691       1603             1           1.333619   R0C17   \n",
       "2  -14.001276 -13.880877       1603             1           4.148099    R8C3   \n",
       "6  -13.330966 -13.522510       1603             1           4.148099    R6C9   \n",
       "10 -13.020895 -13.985903       1603             1           4.148099    R6C9   \n",
       "\n",
       "       prior  \n",
       "0   0.475810  \n",
       "1   0.470588  \n",
       "2   0.544771  \n",
       "6   0.409669  \n",
       "10  0.409669  \n",
       "\n",
       "[5 rows x 44 columns]"
      ]
     },
     "execution_count": 6,
     "metadata": {},
     "output_type": "execute_result"
    }
   ],
   "source": [
    "## Read VH dataset\n",
    "with open(f'/data/ksa/04_Data_Preprocessing/training-test/{kdprov}/training_VH_v2.pkl','rb') as file:\n",
    "    df=pickle.load(file)\n",
    "    if isinstance(df, pl.DataFrame):\n",
    "        df=df.to_pandas()\n",
    "print(df.shape)\n",
    "df.head()"
   ]
  },
  {
   "cell_type": "code",
   "execution_count": 7,
   "id": "ba9b5bc3-277c-4dc7-8e2b-40debb17c2cf",
   "metadata": {
    "execution": {
     "iopub.execute_input": "2024-10-16T08:31:03.107172Z",
     "iopub.status.busy": "2024-10-16T08:31:03.106750Z",
     "iopub.status.idle": "2024-10-16T08:31:04.564996Z",
     "shell.execute_reply": "2024-10-16T08:31:04.563796Z"
    },
    "papermill": {
     "duration": 1.465635,
     "end_time": "2024-10-16T08:31:04.567024",
     "exception": false,
     "start_time": "2024-10-16T08:31:03.101389",
     "status": "completed"
    },
    "tags": []
   },
   "outputs": [
    {
     "data": {
      "image/png": "[encoded data removed]",
      "text/plain": [
       "<Figure size 640x480 with 1 Axes>"
      ]
     },
     "metadata": {},
     "output_type": "display_data"
    }
   ],
   "source": [
    "sns.countplot(x='observation', hue='cluster_data', data=df,palette=sns.color_palette(\"Set2\"))\n",
    "plt.savefig(f\"/data/ksa/05_Modelling/picture/{kdprov}_distirbution_plot.png\", dpi=300, bbox_inches='tight')\n"
   ]
  },
  {
   "cell_type": "markdown",
   "id": "da80a265-9a12-4d2c-8b96-17ad999f2b53",
   "metadata": {
    "papermill": {
     "duration": 0.004138,
     "end_time": "2024-10-16T08:31:04.575666",
     "exception": false,
     "start_time": "2024-10-16T08:31:04.571528",
     "status": "completed"
    },
    "tags": []
   },
   "source": [
    "### Running Data"
   ]
  },
  {
   "cell_type": "code",
   "execution_count": 8,
   "id": "94f2a9fa-36a6-47a7-ab48-85cdb1f2f569",
   "metadata": {
    "execution": {
     "iopub.execute_input": "2024-10-16T08:31:04.652851Z",
     "iopub.status.busy": "2024-10-16T08:31:04.651981Z",
     "iopub.status.idle": "2024-10-16T08:31:04.665095Z",
     "shell.execute_reply": "2024-10-16T08:31:04.663794Z"
    },
    "papermill": {
     "duration": 0.021453,
     "end_time": "2024-10-16T08:31:04.667058",
     "exception": false,
     "start_time": "2024-10-16T08:31:04.645605",
     "status": "completed"
    },
    "tags": []
   },
   "outputs": [],
   "source": [
    "import optuna\n",
    "from xgboost import XGBClassifier\n",
    "\n",
    "# Example dataset\n",
    "\n",
    "# Define the objective function for Bayesian Optimization\n",
    "def objective(trial,X_train, y_train, n_splits=3):\n",
    "    \n",
    "    param = {\n",
    "        'max_depth': trial.suggest_int('max_depth', 6, 10),\n",
    "        'learning_rate': trial.suggest_uniform('learning_rate', 0.01, 0.1),\n",
    "        #'subsample': trial.suggest_uniform('subsample', 0.5, 0.7),\n",
    "        #'colsample_bytree': trial.suggest_uniform('colsample_bytree', 0.5, 0.7),\n",
    "        #'colsample_bylevel': trial.suggest_uniform('colsample_bylevel', 0.5, 0.7),\n",
    "        'reg_lambda': trial.suggest_uniform('reg_lambda', 0.1, 5),\n",
    "        'min_child_weight': trial.suggest_int('min_child_weight', 50, 100),\n",
    "        'objective': 'multi:softprob',  # Multiclass classification\n",
    "        'eval_metric': ['mlogloss'],\n",
    "        \"tree_method\":'hist',\n",
    "        \"num_class\": len(set(y_train)),\n",
    "        \"nthread\":20\n",
    "    }\n",
    "    \n",
    "    # Define the model\n",
    "    skf = StratifiedKFold(n_splits=n_splits,shuffle=True, random_state=42)\n",
    "    f1_macros=[]\n",
    "    for train_index, val_index in skf.split(X_train, y_train):\n",
    "        X_train_fold, X_val_fold = X_train.iloc[train_index], X_train.iloc[val_index]\n",
    "        y_train_fold, y_val_fold = y_train[train_index], y_train[val_index]\n",
    "\n",
    "        class_counts = Counter(y_train_fold)\n",
    "        total_samples = len(y_train_fold)\n",
    "        # Step 3: Calculate class weights as inverse of class frequency\n",
    "        class_weights = {cls: total_samples / count for cls, count in class_counts.items()}\n",
    "        sample_weights = np.array([class_weights[label] for label in y_train_fold])\n",
    "        # Create DMatrix with sample weights\n",
    "        dtrain_fold = xgb.DMatrix(X_train_fold, label=y_train_fold, enable_categorical=True, weight=sample_weights)\n",
    "        dval_fold = xgb.DMatrix(X_val_fold, label=y_val_fold, enable_categorical=True)\n",
    "        \n",
    "        evals = [(dtrain_fold, 'train'), (dval_fold, 'eval')]\n",
    "        model = xgb.train(param, dtrain_fold, \n",
    "                          num_boost_round=1000, evals=evals,early_stopping_rounds=50,\n",
    "                          verbose_eval=False)\n",
    "        y_val_pred_prob = model.predict(dval_fold)\n",
    "        y_val_pred = y_val_pred_prob.argmax(axis=1)\n",
    "        f1_macros.append(f1_score(y_val_fold, y_val_pred, average='macro'))\n",
    "    score=np.mean(f1_macros)\n",
    "    \n",
    "    return score"
   ]
  },
  {
   "cell_type": "code",
   "execution_count": 9,
   "id": "d60642b2-2944-4f3d-b337-3250ba03a3cd",
   "metadata": {
    "execution": {
     "iopub.execute_input": "2024-10-16T08:31:04.679083Z",
     "iopub.status.busy": "2024-10-16T08:31:04.678024Z",
     "iopub.status.idle": "2024-10-16T08:31:04.700710Z",
     "shell.execute_reply": "2024-10-16T08:31:04.699589Z"
    },
    "papermill": {
     "duration": 0.031341,
     "end_time": "2024-10-16T08:31:04.703118",
     "exception": false,
     "start_time": "2024-10-16T08:31:04.671777",
     "status": "completed"
    },
    "tags": []
   },
   "outputs": [],
   "source": [
    "def evaluate_model(X_train, y_train, X_test, y_test,cluster, best_params, n_splits=3):\n",
    "    # Convert data to DMatrix for XGBoost\n",
    "    class_counts = Counter(y_train)\n",
    "    total_samples = len(y_train)\n",
    "        # Step 3: Calculate class weights as inverse of class frequency\n",
    "    class_weights = {cls: total_samples / count for cls, count in class_counts.items()}\n",
    "    sample_weights = np.array([class_weights[label] for label in y_train])\n",
    "        # Create DMatrix with sample weights\n",
    "        \n",
    "    dtrain = xgb.DMatrix(X_train, label=y_train, enable_categorical=True,weight=sample_weights)\n",
    "    dtest = xgb.DMatrix(X_test, label=y_test, enable_categorical=True)\n",
    "    \n",
    "    params = best_params\n",
    "    params['objective']=\"multi:softprob\"\n",
    "    #params['tree_method']='approx'\n",
    "    params['eval_metric']='mlogloss'\n",
    "    params['num_class']=len(set(y_train))\n",
    "    params['nthread']=20\n",
    "    # Stratified K-Fold Cross Validation\n",
    "    skf = StratifiedKFold(n_splits=n_splits, shuffle=True, random_state=42)\n",
    "    \n",
    "    accuracies = []\n",
    "    f1_macros = []\n",
    "    f1_micros = []\n",
    "    aucs = []\n",
    "    acc_kelas_generatifs = []\n",
    "    acc_fase_padis = []\n",
    "\n",
    "    for train_index, val_index in skf.split(X_train, y_train):\n",
    "        X_train_fold, X_val_fold = X_train.iloc[train_index], X_train.iloc[val_index]\n",
    "        y_train_fold, y_val_fold = y_train[train_index], y_train[val_index]\n",
    "\n",
    "        class_counts = Counter(y_train_fold)\n",
    "        total_samples = len(y_train_fold)\n",
    "        # Step 3: Calculate class weights as inverse of class frequency\n",
    "        class_weights = {cls: total_samples / count for cls, count in class_counts.items()}\n",
    "        sample_weights = np.array([class_weights[label] for label in y_train_fold])\n",
    "        # Create DMatrix with sample weights\n",
    "        dtrain_fold = xgb.DMatrix(X_train_fold, label=y_train_fold, enable_categorical=True, weight=sample_weights)\n",
    "        dval_fold = xgb.DMatrix(X_val_fold, label=y_val_fold, enable_categorical=True)\n",
    "        \n",
    "        evals = [(dtrain_fold, 'train'), (dval_fold, 'eval')]\n",
    "        model = xgb.train(params, dtrain_fold, \n",
    "                          num_boost_round=10000, evals=evals,early_stopping_rounds=1000,verbose_eval=100)\n",
    "        \n",
    "        y_val_pred_prob = model.predict(dval_fold)\n",
    "        y_val_pred = y_val_pred_prob.argmax(axis=1)\n",
    "        \n",
    "        accuracies.append(accuracy_score(y_val_fold, y_val_pred))\n",
    "        f1_macros.append(f1_score(y_val_fold, y_val_pred, average='macro'))\n",
    "        f1_micros.append(f1_score(y_val_fold, y_val_pred, average='micro'))\n",
    "        aucs.append(roc_auc_score(y_val_fold, y_val_pred_prob, multi_class='ovr'))\n",
    "        acc_kelas_generatifs.append(akurasi_kelas_generatif(y_val_fold, y_val_pred))\n",
    "        acc_fase_padis.append(akurasi_fase_padi(y_val_fold, y_val_pred))\n",
    "\n",
    "    # Calculate average metrics\n",
    "    avg_accuracy = sum(accuracies) / len(accuracies)\n",
    "    avg_f1_macro = sum(f1_macros) / len(f1_macros)\n",
    "    avg_f1_micro = sum(f1_micros) / len(f1_micros)\n",
    "    avg_auc = sum(aucs) / len(aucs)\n",
    "    avg_acc_kelas_generatif = sum(acc_kelas_generatifs) / len(acc_kelas_generatifs)\n",
    "    avg_acc_fase_padi = sum(acc_fase_padis) / len(acc_fase_padis)\n",
    "    training_metrics = {\n",
    "        \"average_accuracy\": avg_accuracy,\n",
    "        \"average_f1_macro\": avg_f1_macro,\n",
    "        \"average_f1_micro\": avg_f1_micro,\n",
    "        \"average_auc\": avg_auc,\n",
    "        \"average_acc_kelas_generatif\": avg_acc_kelas_generatif,\n",
    "        \"average_acc_fase_padi\": avg_acc_fase_padi\n",
    "    }\n",
    "\n",
    "    \n",
    "    # Final model evaluation on the test set\n",
    "    evals = [(dtrain, 'train'), (dtest, 'eval')]\n",
    "    model = xgb.train(params, dtrain, \n",
    "                      num_boost_round=1000, evals=evals,early_stopping_rounds=50,\n",
    "                      verbose_eval=50)\n",
    "    y_test_pred_prob = model.predict(dtest)\n",
    "    y_test_pred = y_test_pred_prob.argmax(axis=1)\n",
    "\n",
    "    accuracy = accuracy_score(y_test, y_test_pred)\n",
    "    f1_macro = f1_score(y_test, y_test_pred, average='macro')\n",
    "    f1_micro = f1_score(y_test, y_test_pred, average='micro')\n",
    "    auc = roc_auc_score(y_test, y_test_pred_prob, multi_class='ovr')\n",
    "    acc_kelas_generatif = akurasi_kelas_generatif(y_test, y_test_pred)\n",
    "    acc_fase_padi = akurasi_fase_padi(y_test, y_test_pred)\n",
    "    \n",
    "    cm = confusion_matrix(y_test, y_test_pred)\n",
    "    relative_acc = 100 * (sum(cm[1, 1:3]) + sum(cm[1, 5:6]) + \n",
    "                          sum(cm[2, 1:4]) + \n",
    "                          sum(cm[3, 2:5]) + \n",
    "                          sum(cm[4, 3:6]) + \n",
    "                          sum(cm[5, 4:6])+sum(cm[5,1:2])) / sum(sum(cm[1:6, 1:6]))\n",
    "    validation_metrics = {\n",
    "        \"val_accuracy\": accuracy,\n",
    "        \"val_f1_macro\": f1_macro,\n",
    "        \"val_f1_micro\": f1_micro,\n",
    "        \"val_auc\": auc,\n",
    "        \"val_acc_kelas_generatif\": acc_kelas_generatif,\n",
    "        \"val_acc_fase_padi\": acc_fase_padi,\n",
    "        \"val_relative_acc\": relative_acc\n",
    "    }\n",
    "\n",
    "    print(\"\\nClassification Report on Test Set:\")\n",
    "    report = classification_report(y_test, y_test_pred)\n",
    "    print(report)\n",
    "    \n",
    "    # Display Confusion Matrix\n",
    "    cm_percentage = cm.astype('float') / cm.sum(axis=1)[:, np.newaxis] * 100\n",
    "\n",
    "    disp = ConfusionMatrixDisplay(confusion_matrix=cm_percentage)\n",
    "    disp.plot(cmap=plt.cm.Blues)\n",
    "    plt.savefig(f\"/data/ksa/05_Modelling/picture/{kdprov}_cm_cluster_{cluster}.png\", dpi=300, bbox_inches='tight')\n",
    "    plt.show()\n",
    "    \n",
    "    return model, training_metrics, validation_metrics, report, cm"
   ]
  },
  {
   "cell_type": "code",
   "execution_count": 10,
   "id": "f4462c6e-e78a-4409-8951-07e164e2986c",
   "metadata": {
    "editable": true,
    "execution": {
     "iopub.execute_input": "2024-10-16T08:31:04.714426Z",
     "iopub.status.busy": "2024-10-16T08:31:04.713397Z",
     "iopub.status.idle": "2024-10-16T10:28:22.603336Z",
     "shell.execute_reply": "2024-10-16T10:28:22.602278Z"
    },
    "papermill": {
     "duration": 7037.89755,
     "end_time": "2024-10-16T10:28:22.605157",
     "exception": false,
     "start_time": "2024-10-16T08:31:04.707607",
     "status": "completed"
    },
    "slideshow": {
     "slide_type": ""
    },
    "tags": []
   },
   "outputs": [
    {
     "name": "stdout",
     "output_type": "stream",
     "text": [
      "=============================================================================\n",
      "CLUSTER:  0\n"
     ]
    },
    {
     "name": "stderr",
     "output_type": "stream",
     "text": [
      "[I 2024-10-16 15:31:05,462] A new study created in memory with name: no-name-3e4e7967-ed71-4c03-a6fd-064191ed413d\n"
     ]
    },
    {
     "name": "stdout",
     "output_type": "stream",
     "text": [
      "[6 1 3 4 2 0 5]\n",
      "[0 1 2 3 4 5 6]\n",
      "Mapping of original to encoded classes: {0: 0, 1: 1, 2: 2, 3: 3, 4: 4, 5: 5, 6: 6}\n",
      "Build Best Parameter using Optuna-Hyperparameter Tuning\n"
     ]
    },
    {
     "name": "stderr",
     "output_type": "stream",
     "text": [
      "[I 2024-10-16 15:31:26,850] Trial 0 finished with value: 0.803266087455304 and parameters: {'max_depth': 8, 'learning_rate': 0.09207903205066158, 'reg_lambda': 3.9294884866152007, 'min_child_weight': 79}. Best is trial 0 with value: 0.803266087455304.\n"
     ]
    },
    {
     "name": "stderr",
     "output_type": "stream",
     "text": [
      "[I 2024-10-16 15:31:57,123] Trial 1 finished with value: 0.8052092935560289 and parameters: {'max_depth': 10, 'learning_rate': 0.07586383786700272, 'reg_lambda': 3.150493037769875, 'min_child_weight': 91}. Best is trial 1 with value: 0.8052092935560289.\n"
     ]
    },
    {
     "name": "stderr",
     "output_type": "stream",
     "text": [
      "[I 2024-10-16 15:32:28,576] Trial 2 finished with value: 0.8005659742182946 and parameters: {'max_depth': 7, 'learning_rate': 0.07870073494681748, 'reg_lambda': 0.14882133337308484, 'min_child_weight': 96}. Best is trial 1 with value: 0.8052092935560289.\n"
     ]
    },
    {
     "name": "stderr",
     "output_type": "stream",
     "text": [
      "[I 2024-10-16 15:33:50,196] Trial 3 finished with value: 0.7966319641761976 and parameters: {'max_depth': 6, 'learning_rate': 0.018089495342636264, 'reg_lambda': 4.123330490721615, 'min_child_weight': 65}. Best is trial 1 with value: 0.8052092935560289.\n"
     ]
    },
    {
     "name": "stderr",
     "output_type": "stream",
     "text": [
      "[I 2024-10-16 15:35:48,078] Trial 4 finished with value: 0.8006455804439793 and parameters: {'max_depth': 9, 'learning_rate': 0.010166454262575455, 'reg_lambda': 1.5938980811131218, 'min_child_weight': 66}. Best is trial 1 with value: 0.8052092935560289.\n"
     ]
    },
    {
     "name": "stderr",
     "output_type": "stream",
     "text": [
      "[I 2024-10-16 15:36:47,145] Trial 5 finished with value: 0.8013313280205231 and parameters: {'max_depth': 7, 'learning_rate': 0.033992891349390104, 'reg_lambda': 3.7625619167280386, 'min_child_weight': 95}. Best is trial 1 with value: 0.8052092935560289.\n"
     ]
    },
    {
     "name": "stderr",
     "output_type": "stream",
     "text": [
      "[I 2024-10-16 15:37:16,775] Trial 6 finished with value: 0.8059541424677503 and parameters: {'max_depth': 10, 'learning_rate': 0.07700080077241848, 'reg_lambda': 4.302475274628808, 'min_child_weight': 92}. Best is trial 6 with value: 0.8059541424677503.\n"
     ]
    },
    {
     "name": "stderr",
     "output_type": "stream",
     "text": [
      "[I 2024-10-16 15:38:45,602] Trial 7 finished with value: 0.8039136628113356 and parameters: {'max_depth': 9, 'learning_rate': 0.02643350818607889, 'reg_lambda': 0.23178185544346452, 'min_child_weight': 82}. Best is trial 6 with value: 0.8059541424677503.\n"
     ]
    },
    {
     "name": "stderr",
     "output_type": "stream",
     "text": [
      "[I 2024-10-16 15:40:21,150] Trial 8 finished with value: 0.8021893772476658 and parameters: {'max_depth': 8, 'learning_rate': 0.03182300913803295, 'reg_lambda': 1.568039999349884, 'min_child_weight': 95}. Best is trial 6 with value: 0.8059541424677503.\n"
     ]
    },
    {
     "name": "stderr",
     "output_type": "stream",
     "text": [
      "[I 2024-10-16 15:41:18,859] Trial 9 finished with value: 0.8041126281734332 and parameters: {'max_depth': 9, 'learning_rate': 0.036136506015715164, 'reg_lambda': 2.924113068087455, 'min_child_weight': 90}. Best is trial 6 with value: 0.8059541424677503.\n"
     ]
    },
    {
     "name": "stderr",
     "output_type": "stream",
     "text": [
      "[I 2024-10-16 15:41:54,491] Trial 10 finished with value: 0.8071801057630563 and parameters: {'max_depth': 10, 'learning_rate': 0.05460669473984336, 'reg_lambda': 4.927869057933277, 'min_child_weight': 57}. Best is trial 10 with value: 0.8071801057630563.\n"
     ]
    },
    {
     "name": "stderr",
     "output_type": "stream",
     "text": [
      "[I 2024-10-16 15:42:22,721] Trial 11 finished with value: 0.8059048108717765 and parameters: {'max_depth': 10, 'learning_rate': 0.05716697850777114, 'reg_lambda': 4.956512455694927, 'min_child_weight': 50}. Best is trial 10 with value: 0.8071801057630563.\n"
     ]
    },
    {
     "name": "stderr",
     "output_type": "stream",
     "text": [
      "[I 2024-10-16 15:42:54,854] Trial 12 finished with value: 0.8090387449453286 and parameters: {'max_depth': 10, 'learning_rate': 0.0586179676681119, 'reg_lambda': 4.9798041164041305, 'min_child_weight': 50}. Best is trial 12 with value: 0.8090387449453286.\n"
     ]
    },
    {
     "name": "stderr",
     "output_type": "stream",
     "text": [
      "[I 2024-10-16 15:43:32,046] Trial 13 finished with value: 0.8074748582362551 and parameters: {'max_depth': 10, 'learning_rate': 0.05252851695465162, 'reg_lambda': 4.968660401656705, 'min_child_weight': 50}. Best is trial 12 with value: 0.8090387449453286.\n"
     ]
    },
    {
     "name": "stderr",
     "output_type": "stream",
     "text": [
      "[I 2024-10-16 15:44:09,292] Trial 14 finished with value: 0.805710886538317 and parameters: {'max_depth': 9, 'learning_rate': 0.05302641393522603, 'reg_lambda': 2.1083607017469834, 'min_child_weight': 52}. Best is trial 12 with value: 0.8090387449453286.\n"
     ]
    },
    {
     "name": "stderr",
     "output_type": "stream",
     "text": [
      "[I 2024-10-16 15:44:43,021] Trial 15 finished with value: 0.8039663547902887 and parameters: {'max_depth': 8, 'learning_rate': 0.06311502407592424, 'reg_lambda': 4.560322662849776, 'min_child_weight': 64}. Best is trial 12 with value: 0.8090387449453286.\n"
     ]
    },
    {
     "name": "stderr",
     "output_type": "stream",
     "text": [
      "[I 2024-10-16 15:45:29,802] Trial 16 finished with value: 0.8082691596551502 and parameters: {'max_depth': 10, 'learning_rate': 0.04567136843041536, 'reg_lambda': 3.50576180485814, 'min_child_weight': 58}. Best is trial 12 with value: 0.8090387449453286.\n"
     ]
    },
    {
     "name": "stderr",
     "output_type": "stream",
     "text": [
      "[I 2024-10-16 15:45:57,516] Trial 17 finished with value: 0.8051343681996229 and parameters: {'max_depth': 9, 'learning_rate': 0.06652700837148254, 'reg_lambda': 3.400239871039118, 'min_child_weight': 59}. Best is trial 12 with value: 0.8090387449453286.\n"
     ]
    },
    {
     "name": "stderr",
     "output_type": "stream",
     "text": [
      "[I 2024-10-16 15:46:36,790] Trial 18 finished with value: 0.8027168815353681 and parameters: {'max_depth': 7, 'learning_rate': 0.043309135905570034, 'reg_lambda': 2.215777190031991, 'min_child_weight': 71}. Best is trial 12 with value: 0.8090387449453286.\n"
     ]
    },
    {
     "name": "stderr",
     "output_type": "stream",
     "text": [
      "[I 2024-10-16 15:47:15,403] Trial 19 finished with value: 0.806869697129115 and parameters: {'max_depth': 10, 'learning_rate': 0.0447685540013336, 'reg_lambda': 3.5546853436883734, 'min_child_weight': 57}. Best is trial 12 with value: 0.8090387449453286.\n"
     ]
    },
    {
     "name": "stdout",
     "output_type": "stream",
     "text": [
      "Best Parameters: {'max_depth': 10, 'learning_rate': 0.0586179676681119, 'reg_lambda': 4.9798041164041305, 'min_child_weight': 50}\n",
      "Best Score: 0.8090387449453286\n",
      "Start the modelling\n"
     ]
    },
    {
     "name": "stdout",
     "output_type": "stream",
     "text": [
      "[0]\ttrain-mlogloss:1.82604\teval-mlogloss:1.83953\n"
     ]
    },
    {
     "name": "stdout",
     "output_type": "stream",
     "text": [
      "[100]\ttrain-mlogloss:0.21665\teval-mlogloss:0.56431\n"
     ]
    },
    {
     "name": "stdout",
     "output_type": "stream",
     "text": [
      "[200]\ttrain-mlogloss:0.11246\teval-mlogloss:0.53368\n"
     ]
    },
    {
     "name": "stdout",
     "output_type": "stream",
     "text": [
      "[300]\ttrain-mlogloss:0.06679\teval-mlogloss:0.53181\n"
     ]
    },
    {
     "name": "stdout",
     "output_type": "stream",
     "text": [
      "[400]\ttrain-mlogloss:0.04571\teval-mlogloss:0.53728\n"
     ]
    },
    {
     "name": "stdout",
     "output_type": "stream",
     "text": [
      "[500]\ttrain-mlogloss:0.03427\teval-mlogloss:0.54565\n"
     ]
    },
    {
     "name": "stdout",
     "output_type": "stream",
     "text": [
      "[600]\ttrain-mlogloss:0.02778\teval-mlogloss:0.55365\n"
     ]
    },
    {
     "name": "stdout",
     "output_type": "stream",
     "text": [
      "[700]\ttrain-mlogloss:0.02340\teval-mlogloss:0.56040\n"
     ]
    },
    {
     "name": "stdout",
     "output_type": "stream",
     "text": [
      "[800]\ttrain-mlogloss:0.02039\teval-mlogloss:0.56640\n"
     ]
    },
    {
     "name": "stdout",
     "output_type": "stream",
     "text": [
      "[900]\ttrain-mlogloss:0.01799\teval-mlogloss:0.57258\n"
     ]
    },
    {
     "name": "stdout",
     "output_type": "stream",
     "text": [
      "[1000]\ttrain-mlogloss:0.01618\teval-mlogloss:0.57792\n"
     ]
    },
    {
     "name": "stdout",
     "output_type": "stream",
     "text": [
      "[1100]\ttrain-mlogloss:0.01474\teval-mlogloss:0.58316\n"
     ]
    },
    {
     "name": "stdout",
     "output_type": "stream",
     "text": [
      "[1200]\ttrain-mlogloss:0.01352\teval-mlogloss:0.58776\n"
     ]
    },
    {
     "name": "stdout",
     "output_type": "stream",
     "text": [
      "[1266]\ttrain-mlogloss:0.01285\teval-mlogloss:0.59112\n"
     ]
    },
    {
     "name": "stdout",
     "output_type": "stream",
     "text": [
      "[0]\ttrain-mlogloss:1.82566\teval-mlogloss:1.84037\n"
     ]
    },
    {
     "name": "stdout",
     "output_type": "stream",
     "text": [
      "[100]\ttrain-mlogloss:0.21931\teval-mlogloss:0.58370\n"
     ]
    },
    {
     "name": "stdout",
     "output_type": "stream",
     "text": [
      "[200]\ttrain-mlogloss:0.11058\teval-mlogloss:0.55693\n"
     ]
    },
    {
     "name": "stdout",
     "output_type": "stream",
     "text": [
      "[300]\ttrain-mlogloss:0.06789\teval-mlogloss:0.56187\n"
     ]
    },
    {
     "name": "stdout",
     "output_type": "stream",
     "text": [
      "[400]\ttrain-mlogloss:0.04639\teval-mlogloss:0.57046\n"
     ]
    },
    {
     "name": "stdout",
     "output_type": "stream",
     "text": [
      "[500]\ttrain-mlogloss:0.03520\teval-mlogloss:0.57967\n"
     ]
    },
    {
     "name": "stdout",
     "output_type": "stream",
     "text": [
      "[600]\ttrain-mlogloss:0.02853\teval-mlogloss:0.58828\n"
     ]
    },
    {
     "name": "stdout",
     "output_type": "stream",
     "text": [
      "[700]\ttrain-mlogloss:0.02385\teval-mlogloss:0.59648\n"
     ]
    },
    {
     "name": "stdout",
     "output_type": "stream",
     "text": [
      "[800]\ttrain-mlogloss:0.02069\teval-mlogloss:0.60334\n"
     ]
    },
    {
     "name": "stdout",
     "output_type": "stream",
     "text": [
      "[900]\ttrain-mlogloss:0.01819\teval-mlogloss:0.61054\n"
     ]
    },
    {
     "name": "stdout",
     "output_type": "stream",
     "text": [
      "[1000]\ttrain-mlogloss:0.01630\teval-mlogloss:0.61683\n"
     ]
    },
    {
     "name": "stdout",
     "output_type": "stream",
     "text": [
      "[1100]\ttrain-mlogloss:0.01473\teval-mlogloss:0.62252\n"
     ]
    },
    {
     "name": "stdout",
     "output_type": "stream",
     "text": [
      "[1200]\ttrain-mlogloss:0.01351\teval-mlogloss:0.62762\n"
     ]
    },
    {
     "name": "stdout",
     "output_type": "stream",
     "text": [
      "[1217]\ttrain-mlogloss:0.01333\teval-mlogloss:0.62851\n"
     ]
    },
    {
     "name": "stdout",
     "output_type": "stream",
     "text": [
      "[0]\ttrain-mlogloss:1.82544\teval-mlogloss:1.83978\n"
     ]
    },
    {
     "name": "stdout",
     "output_type": "stream",
     "text": [
      "[100]\ttrain-mlogloss:0.21243\teval-mlogloss:0.56979\n"
     ]
    },
    {
     "name": "stdout",
     "output_type": "stream",
     "text": [
      "[200]\ttrain-mlogloss:0.10797\teval-mlogloss:0.53958\n"
     ]
    },
    {
     "name": "stdout",
     "output_type": "stream",
     "text": [
      "[300]\ttrain-mlogloss:0.06385\teval-mlogloss:0.54011\n"
     ]
    },
    {
     "name": "stdout",
     "output_type": "stream",
     "text": [
      "[400]\ttrain-mlogloss:0.04412\teval-mlogloss:0.54862\n"
     ]
    },
    {
     "name": "stdout",
     "output_type": "stream",
     "text": [
      "[500]\ttrain-mlogloss:0.03363\teval-mlogloss:0.55716\n"
     ]
    },
    {
     "name": "stdout",
     "output_type": "stream",
     "text": [
      "[600]\ttrain-mlogloss:0.02724\teval-mlogloss:0.56614\n"
     ]
    },
    {
     "name": "stdout",
     "output_type": "stream",
     "text": [
      "[700]\ttrain-mlogloss:0.02298\teval-mlogloss:0.57410\n"
     ]
    },
    {
     "name": "stdout",
     "output_type": "stream",
     "text": [
      "[800]\ttrain-mlogloss:0.01998\teval-mlogloss:0.58077\n"
     ]
    },
    {
     "name": "stdout",
     "output_type": "stream",
     "text": [
      "[900]\ttrain-mlogloss:0.01766\teval-mlogloss:0.58752\n"
     ]
    },
    {
     "name": "stdout",
     "output_type": "stream",
     "text": [
      "[1000]\ttrain-mlogloss:0.01590\teval-mlogloss:0.59349\n"
     ]
    },
    {
     "name": "stdout",
     "output_type": "stream",
     "text": [
      "[1100]\ttrain-mlogloss:0.01448\teval-mlogloss:0.59913\n"
     ]
    },
    {
     "name": "stdout",
     "output_type": "stream",
     "text": [
      "[1200]\ttrain-mlogloss:0.01330\teval-mlogloss:0.60434\n"
     ]
    },
    {
     "name": "stdout",
     "output_type": "stream",
     "text": [
      "[1238]\ttrain-mlogloss:0.01293\teval-mlogloss:0.60645\n"
     ]
    },
    {
     "name": "stdout",
     "output_type": "stream",
     "text": [
      "[0]\ttrain-mlogloss:1.82313\teval-mlogloss:1.83589\n"
     ]
    },
    {
     "name": "stdout",
     "output_type": "stream",
     "text": [
      "[50]\ttrain-mlogloss:0.40612\teval-mlogloss:0.66594\n"
     ]
    },
    {
     "name": "stdout",
     "output_type": "stream",
     "text": [
      "[100]\ttrain-mlogloss:0.23487\teval-mlogloss:0.56436\n"
     ]
    },
    {
     "name": "stdout",
     "output_type": "stream",
     "text": [
      "[150]\ttrain-mlogloss:0.16949\teval-mlogloss:0.54132\n"
     ]
    },
    {
     "name": "stdout",
     "output_type": "stream",
     "text": [
      "[200]\ttrain-mlogloss:0.12862\teval-mlogloss:0.53254\n"
     ]
    },
    {
     "name": "stdout",
     "output_type": "stream",
     "text": [
      "[250]\ttrain-mlogloss:0.10009\teval-mlogloss:0.52929\n"
     ]
    },
    {
     "name": "stdout",
     "output_type": "stream",
     "text": [
      "[300]\ttrain-mlogloss:0.07873\teval-mlogloss:0.52881\n"
     ]
    },
    {
     "name": "stdout",
     "output_type": "stream",
     "text": [
      "[336]\ttrain-mlogloss:0.06796\teval-mlogloss:0.52982\n"
     ]
    },
    {
     "name": "stdout",
     "output_type": "stream",
     "text": [
      "\n",
      "Classification Report on Test Set:\n",
      "              precision    recall  f1-score   support\n",
      "\n",
      "           0       0.85      0.88      0.87     10133\n",
      "           1       0.88      0.92      0.90      8637\n",
      "           2       0.88      0.91      0.89      4765\n",
      "           3       0.90      0.91      0.90      5797\n",
      "           4       0.87      0.87      0.87      5367\n",
      "           5       0.67      0.56      0.61      5637\n",
      "           6       0.64      0.63      0.63      6362\n",
      "\n",
      "    accuracy                           0.82     46698\n",
      "   macro avg       0.81      0.81      0.81     46698\n",
      "weighted avg       0.82      0.82      0.82     46698\n",
      "\n"
     ]
    },
    {
     "data": {
      "image/png": "[encoded data removed]",
      "text/plain": [
       "<Figure size 640x480 with 1 Axes>"
      ]
     },
     "metadata": {},
     "output_type": "display_data"
    },
    {
     "data": {
      "image/png": "[encoded data removed]",
      "text/plain": [
       "<Figure size 640x480 with 2 Axes>"
      ]
     },
     "metadata": {},
     "output_type": "display_data"
    },
    {
     "name": "stdout",
     "output_type": "stream",
     "text": [
      "{'average_accuracy': 0.8199170539149553, 'average_f1_macro': 0.8102704443209419, 'average_f1_micro': 0.8199170539149553, 'average_auc': 0.9655707423313302, 'average_acc_kelas_generatif': 0.9126802367479977, 'average_acc_fase_padi': 0.8972269055887452}\n",
      "{'val_accuracy': 0.8210630005567691, 'val_f1_macro': 0.8117666077077271, 'val_f1_micro': 0.8210630005567691, 'val_auc': 0.9663542619295706, 'val_acc_kelas_generatif': 0.9085734000345006, 'val_acc_fase_padi': 0.9052348774729301, 'val_relative_acc': 99.52379221345741}\n",
      "=============================================================================\n",
      "=============================================================================\n",
      "CLUSTER:  1\n"
     ]
    },
    {
     "name": "stderr",
     "output_type": "stream",
     "text": [
      "[I 2024-10-16 15:49:14,857] A new study created in memory with name: no-name-d4d61f85-be57-49f7-a9f9-6168322370e0\n"
     ]
    },
    {
     "name": "stdout",
     "output_type": "stream",
     "text": [
      "[6 2 1 4 3 0 5]\n",
      "[0 1 2 3 4 5 6]\n",
      "Mapping of original to encoded classes: {0: 0, 1: 1, 2: 2, 3: 3, 4: 4, 5: 5, 6: 6}\n",
      "Build Best Parameter using Optuna-Hyperparameter Tuning\n"
     ]
    },
    {
     "name": "stderr",
     "output_type": "stream",
     "text": [
      "[I 2024-10-16 15:50:00,827] Trial 0 finished with value: 0.8528954911178195 and parameters: {'max_depth': 10, 'learning_rate': 0.07843702270275346, 'reg_lambda': 0.5665489009955318, 'min_child_weight': 55}. Best is trial 0 with value: 0.8528954911178195.\n"
     ]
    },
    {
     "name": "stderr",
     "output_type": "stream",
     "text": [
      "[I 2024-10-16 15:51:07,133] Trial 1 finished with value: 0.8537122854122764 and parameters: {'max_depth': 7, 'learning_rate': 0.04646958425402291, 'reg_lambda': 2.9287855615422402, 'min_child_weight': 82}. Best is trial 1 with value: 0.8537122854122764.\n"
     ]
    },
    {
     "name": "stderr",
     "output_type": "stream",
     "text": [
      "[I 2024-10-16 15:52:23,274] Trial 2 finished with value: 0.853994236831523 and parameters: {'max_depth': 9, 'learning_rate': 0.055079488378026085, 'reg_lambda': 0.931413620372608, 'min_child_weight': 79}. Best is trial 2 with value: 0.853994236831523.\n"
     ]
    },
    {
     "name": "stderr",
     "output_type": "stream",
     "text": [
      "[I 2024-10-16 15:52:52,593] Trial 3 finished with value: 0.853782110783515 and parameters: {'max_depth': 6, 'learning_rate': 0.09370303830470013, 'reg_lambda': 1.924406267286281, 'min_child_weight': 77}. Best is trial 2 with value: 0.853994236831523.\n"
     ]
    },
    {
     "name": "stderr",
     "output_type": "stream",
     "text": [
      "[I 2024-10-16 15:53:29,059] Trial 4 finished with value: 0.8527937606378161 and parameters: {'max_depth': 6, 'learning_rate': 0.07053890031913461, 'reg_lambda': 4.288092277634869, 'min_child_weight': 91}. Best is trial 2 with value: 0.853994236831523.\n"
     ]
    },
    {
     "name": "stderr",
     "output_type": "stream",
     "text": [
      "[I 2024-10-16 15:54:06,201] Trial 5 finished with value: 0.8532687068982922 and parameters: {'max_depth': 8, 'learning_rate': 0.055143687864473455, 'reg_lambda': 4.391604818902191, 'min_child_weight': 62}. Best is trial 2 with value: 0.853994236831523.\n"
     ]
    },
    {
     "name": "stderr",
     "output_type": "stream",
     "text": [
      "[I 2024-10-16 15:55:18,719] Trial 6 finished with value: 0.8547570435138835 and parameters: {'max_depth': 7, 'learning_rate': 0.03648175189823444, 'reg_lambda': 1.8392711962476578, 'min_child_weight': 77}. Best is trial 6 with value: 0.8547570435138835.\n"
     ]
    },
    {
     "name": "stderr",
     "output_type": "stream",
     "text": [
      "[I 2024-10-16 15:56:03,544] Trial 7 finished with value: 0.8540566134800595 and parameters: {'max_depth': 7, 'learning_rate': 0.05520966717848947, 'reg_lambda': 3.473064701520157, 'min_child_weight': 64}. Best is trial 6 with value: 0.8547570435138835.\n"
     ]
    },
    {
     "name": "stderr",
     "output_type": "stream",
     "text": [
      "[I 2024-10-16 15:56:46,451] Trial 8 finished with value: 0.8534827412534596 and parameters: {'max_depth': 6, 'learning_rate': 0.06892372542258635, 'reg_lambda': 3.2534281196779182, 'min_child_weight': 76}. Best is trial 6 with value: 0.8547570435138835.\n"
     ]
    },
    {
     "name": "stderr",
     "output_type": "stream",
     "text": [
      "[I 2024-10-16 15:57:48,977] Trial 9 finished with value: 0.8544591363287591 and parameters: {'max_depth': 9, 'learning_rate': 0.038938067446758894, 'reg_lambda': 2.7168825468060858, 'min_child_weight': 61}. Best is trial 6 with value: 0.8547570435138835.\n"
     ]
    },
    {
     "name": "stderr",
     "output_type": "stream",
     "text": [
      "[I 2024-10-16 15:59:57,395] Trial 10 finished with value: 0.8507956226157608 and parameters: {'max_depth': 8, 'learning_rate': 0.015588079824020447, 'reg_lambda': 1.6190128084801303, 'min_child_weight': 95}. Best is trial 6 with value: 0.8547570435138835.\n"
     ]
    },
    {
     "name": "stderr",
     "output_type": "stream",
     "text": [
      "[I 2024-10-16 16:01:05,354] Trial 11 finished with value: 0.8541697105808131 and parameters: {'max_depth': 10, 'learning_rate': 0.02852197927588212, 'reg_lambda': 2.1111945571720057, 'min_child_weight': 66}. Best is trial 6 with value: 0.8547570435138835.\n"
     ]
    },
    {
     "name": "stderr",
     "output_type": "stream",
     "text": [
      "[I 2024-10-16 16:02:15,796] Trial 12 finished with value: 0.85426036713342 and parameters: {'max_depth': 9, 'learning_rate': 0.03653095264146257, 'reg_lambda': 1.2969746432130667, 'min_child_weight': 51}. Best is trial 6 with value: 0.8547570435138835.\n"
     ]
    },
    {
     "name": "stderr",
     "output_type": "stream",
     "text": [
      "[I 2024-10-16 16:04:46,402] Trial 13 finished with value: 0.8482401915729031 and parameters: {'max_depth': 8, 'learning_rate': 0.010385355417429954, 'reg_lambda': 2.573010934573091, 'min_child_weight': 69}. Best is trial 6 with value: 0.8547570435138835.\n"
     ]
    },
    {
     "name": "stderr",
     "output_type": "stream",
     "text": [
      "[I 2024-10-16 16:06:06,573] Trial 14 finished with value: 0.8539168456618906 and parameters: {'max_depth': 9, 'learning_rate': 0.028150742146200808, 'reg_lambda': 3.721448883248226, 'min_child_weight': 88}. Best is trial 6 with value: 0.8547570435138835.\n"
     ]
    },
    {
     "name": "stderr",
     "output_type": "stream",
     "text": [
      "[I 2024-10-16 16:06:54,482] Trial 15 finished with value: 0.853832421022863 and parameters: {'max_depth': 7, 'learning_rate': 0.03921114992691317, 'reg_lambda': 2.3894521529441124, 'min_child_weight': 57}. Best is trial 6 with value: 0.8547570435138835.\n"
     ]
    },
    {
     "name": "stderr",
     "output_type": "stream",
     "text": [
      "[I 2024-10-16 16:08:22,504] Trial 16 finished with value: 0.8525253163070889 and parameters: {'max_depth': 8, 'learning_rate': 0.02380285343403661, 'reg_lambda': 4.952762113877319, 'min_child_weight': 71}. Best is trial 6 with value: 0.8547570435138835.\n"
     ]
    },
    {
     "name": "stderr",
     "output_type": "stream",
     "text": [
      "[I 2024-10-16 16:09:22,541] Trial 17 finished with value: 0.8545067115101235 and parameters: {'max_depth': 9, 'learning_rate': 0.04290193212736297, 'reg_lambda': 0.33439747190130076, 'min_child_weight': 85}. Best is trial 6 with value: 0.8547570435138835.\n"
     ]
    },
    {
     "name": "stderr",
     "output_type": "stream",
     "text": [
      "[I 2024-10-16 16:10:16,052] Trial 18 finished with value: 0.8545437327766553 and parameters: {'max_depth': 7, 'learning_rate': 0.044117429568098755, 'reg_lambda': 0.11612437559490596, 'min_child_weight': 85}. Best is trial 6 with value: 0.8547570435138835.\n"
     ]
    },
    {
     "name": "stderr",
     "output_type": "stream",
     "text": [
      "[I 2024-10-16 16:11:08,986] Trial 19 finished with value: 0.8542545293104241 and parameters: {'max_depth': 7, 'learning_rate': 0.06458457841091153, 'reg_lambda': 0.2082642251330949, 'min_child_weight': 97}. Best is trial 6 with value: 0.8547570435138835.\n"
     ]
    },
    {
     "name": "stdout",
     "output_type": "stream",
     "text": [
      "Best Parameters: {'max_depth': 7, 'learning_rate': 0.03648175189823444, 'reg_lambda': 1.8392711962476578, 'min_child_weight': 77}\n",
      "Best Score: 0.8547570435138835\n",
      "Start the modelling\n"
     ]
    },
    {
     "name": "stdout",
     "output_type": "stream",
     "text": [
      "[0]\ttrain-mlogloss:1.86619\teval-mlogloss:1.86818\n"
     ]
    },
    {
     "name": "stdout",
     "output_type": "stream",
     "text": [
      "[100]\ttrain-mlogloss:0.38591\teval-mlogloss:0.48884\n"
     ]
    },
    {
     "name": "stdout",
     "output_type": "stream",
     "text": [
      "[200]\ttrain-mlogloss:0.24710\teval-mlogloss:0.40583\n"
     ]
    },
    {
     "name": "stdout",
     "output_type": "stream",
     "text": [
      "[300]\ttrain-mlogloss:0.18730\teval-mlogloss:0.38572\n"
     ]
    },
    {
     "name": "stdout",
     "output_type": "stream",
     "text": [
      "[400]\ttrain-mlogloss:0.14361\teval-mlogloss:0.37644\n"
     ]
    },
    {
     "name": "stdout",
     "output_type": "stream",
     "text": [
      "[500]\ttrain-mlogloss:0.11393\teval-mlogloss:0.37146\n"
     ]
    },
    {
     "name": "stdout",
     "output_type": "stream",
     "text": [
      "[600]\ttrain-mlogloss:0.09263\teval-mlogloss:0.36964\n"
     ]
    },
    {
     "name": "stdout",
     "output_type": "stream",
     "text": [
      "[700]\ttrain-mlogloss:0.07621\teval-mlogloss:0.36932\n"
     ]
    },
    {
     "name": "stdout",
     "output_type": "stream",
     "text": [
      "[800]\ttrain-mlogloss:0.06464\teval-mlogloss:0.37064\n"
     ]
    },
    {
     "name": "stdout",
     "output_type": "stream",
     "text": [
      "[900]\ttrain-mlogloss:0.05583\teval-mlogloss:0.37281\n"
     ]
    },
    {
     "name": "stdout",
     "output_type": "stream",
     "text": [
      "[1000]\ttrain-mlogloss:0.04874\teval-mlogloss:0.37556\n"
     ]
    },
    {
     "name": "stdout",
     "output_type": "stream",
     "text": [
      "[1100]\ttrain-mlogloss:0.04318\teval-mlogloss:0.37850\n"
     ]
    },
    {
     "name": "stdout",
     "output_type": "stream",
     "text": [
      "[1200]\ttrain-mlogloss:0.03863\teval-mlogloss:0.38122\n"
     ]
    },
    {
     "name": "stdout",
     "output_type": "stream",
     "text": [
      "[1300]\ttrain-mlogloss:0.03485\teval-mlogloss:0.38392\n"
     ]
    },
    {
     "name": "stdout",
     "output_type": "stream",
     "text": [
      "[1400]\ttrain-mlogloss:0.03170\teval-mlogloss:0.38710\n"
     ]
    },
    {
     "name": "stdout",
     "output_type": "stream",
     "text": [
      "[1500]\ttrain-mlogloss:0.02906\teval-mlogloss:0.39024\n"
     ]
    },
    {
     "name": "stdout",
     "output_type": "stream",
     "text": [
      "[1600]\ttrain-mlogloss:0.02675\teval-mlogloss:0.39373\n"
     ]
    },
    {
     "name": "stdout",
     "output_type": "stream",
     "text": [
      "[1638]\ttrain-mlogloss:0.02602\teval-mlogloss:0.39499\n"
     ]
    },
    {
     "name": "stdout",
     "output_type": "stream",
     "text": [
      "[0]\ttrain-mlogloss:1.86697\teval-mlogloss:1.86834\n"
     ]
    },
    {
     "name": "stdout",
     "output_type": "stream",
     "text": [
      "[100]\ttrain-mlogloss:0.39729\teval-mlogloss:0.48264\n"
     ]
    },
    {
     "name": "stdout",
     "output_type": "stream",
     "text": [
      "[200]\ttrain-mlogloss:0.25375\teval-mlogloss:0.39555\n"
     ]
    },
    {
     "name": "stdout",
     "output_type": "stream",
     "text": [
      "[300]\ttrain-mlogloss:0.19166\teval-mlogloss:0.37440\n"
     ]
    },
    {
     "name": "stdout",
     "output_type": "stream",
     "text": [
      "[400]\ttrain-mlogloss:0.14976\teval-mlogloss:0.36360\n"
     ]
    },
    {
     "name": "stdout",
     "output_type": "stream",
     "text": [
      "[500]\ttrain-mlogloss:0.11906\teval-mlogloss:0.35846\n"
     ]
    },
    {
     "name": "stdout",
     "output_type": "stream",
     "text": [
      "[600]\ttrain-mlogloss:0.09711\teval-mlogloss:0.35536\n"
     ]
    },
    {
     "name": "stdout",
     "output_type": "stream",
     "text": [
      "[700]\ttrain-mlogloss:0.08154\teval-mlogloss:0.35437\n"
     ]
    },
    {
     "name": "stdout",
     "output_type": "stream",
     "text": [
      "[800]\ttrain-mlogloss:0.06996\teval-mlogloss:0.35504\n"
     ]
    },
    {
     "name": "stdout",
     "output_type": "stream",
     "text": [
      "[900]\ttrain-mlogloss:0.06035\teval-mlogloss:0.35622\n"
     ]
    },
    {
     "name": "stdout",
     "output_type": "stream",
     "text": [
      "[1000]\ttrain-mlogloss:0.05257\teval-mlogloss:0.35804\n"
     ]
    },
    {
     "name": "stdout",
     "output_type": "stream",
     "text": [
      "[1100]\ttrain-mlogloss:0.04667\teval-mlogloss:0.36033\n"
     ]
    },
    {
     "name": "stdout",
     "output_type": "stream",
     "text": [
      "[1200]\ttrain-mlogloss:0.04185\teval-mlogloss:0.36260\n"
     ]
    },
    {
     "name": "stdout",
     "output_type": "stream",
     "text": [
      "[1300]\ttrain-mlogloss:0.03741\teval-mlogloss:0.36485\n"
     ]
    },
    {
     "name": "stdout",
     "output_type": "stream",
     "text": [
      "[1400]\ttrain-mlogloss:0.03403\teval-mlogloss:0.36773\n"
     ]
    },
    {
     "name": "stdout",
     "output_type": "stream",
     "text": [
      "[1500]\ttrain-mlogloss:0.03110\teval-mlogloss:0.37032\n"
     ]
    },
    {
     "name": "stdout",
     "output_type": "stream",
     "text": [
      "[1600]\ttrain-mlogloss:0.02861\teval-mlogloss:0.37296\n"
     ]
    },
    {
     "name": "stdout",
     "output_type": "stream",
     "text": [
      "[1698]\ttrain-mlogloss:0.02650\teval-mlogloss:0.37528\n"
     ]
    },
    {
     "name": "stdout",
     "output_type": "stream",
     "text": [
      "[0]\ttrain-mlogloss:1.86624\teval-mlogloss:1.86752\n"
     ]
    },
    {
     "name": "stdout",
     "output_type": "stream",
     "text": [
      "[100]\ttrain-mlogloss:0.38878\teval-mlogloss:0.48917\n"
     ]
    },
    {
     "name": "stdout",
     "output_type": "stream",
     "text": [
      "[200]\ttrain-mlogloss:0.24809\teval-mlogloss:0.40493\n"
     ]
    },
    {
     "name": "stdout",
     "output_type": "stream",
     "text": [
      "[300]\ttrain-mlogloss:0.18867\teval-mlogloss:0.38534\n"
     ]
    },
    {
     "name": "stdout",
     "output_type": "stream",
     "text": [
      "[400]\ttrain-mlogloss:0.14679\teval-mlogloss:0.37682\n"
     ]
    },
    {
     "name": "stdout",
     "output_type": "stream",
     "text": [
      "[500]\ttrain-mlogloss:0.11661\teval-mlogloss:0.37209\n"
     ]
    },
    {
     "name": "stdout",
     "output_type": "stream",
     "text": [
      "[600]\ttrain-mlogloss:0.09470\teval-mlogloss:0.37057\n"
     ]
    },
    {
     "name": "stdout",
     "output_type": "stream",
     "text": [
      "[700]\ttrain-mlogloss:0.07863\teval-mlogloss:0.37046\n"
     ]
    },
    {
     "name": "stdout",
     "output_type": "stream",
     "text": [
      "[800]\ttrain-mlogloss:0.06651\teval-mlogloss:0.37120\n"
     ]
    },
    {
     "name": "stdout",
     "output_type": "stream",
     "text": [
      "[900]\ttrain-mlogloss:0.05688\teval-mlogloss:0.37271\n"
     ]
    },
    {
     "name": "stdout",
     "output_type": "stream",
     "text": [
      "[1000]\ttrain-mlogloss:0.04949\teval-mlogloss:0.37504\n"
     ]
    },
    {
     "name": "stdout",
     "output_type": "stream",
     "text": [
      "[1100]\ttrain-mlogloss:0.04393\teval-mlogloss:0.37756\n"
     ]
    },
    {
     "name": "stdout",
     "output_type": "stream",
     "text": [
      "[1200]\ttrain-mlogloss:0.03943\teval-mlogloss:0.38042\n"
     ]
    },
    {
     "name": "stdout",
     "output_type": "stream",
     "text": [
      "[1300]\ttrain-mlogloss:0.03561\teval-mlogloss:0.38293\n"
     ]
    },
    {
     "name": "stdout",
     "output_type": "stream",
     "text": [
      "[1400]\ttrain-mlogloss:0.03234\teval-mlogloss:0.38614\n"
     ]
    },
    {
     "name": "stdout",
     "output_type": "stream",
     "text": [
      "[1500]\ttrain-mlogloss:0.02967\teval-mlogloss:0.38910\n"
     ]
    },
    {
     "name": "stdout",
     "output_type": "stream",
     "text": [
      "[1600]\ttrain-mlogloss:0.02721\teval-mlogloss:0.39250\n"
     ]
    },
    {
     "name": "stdout",
     "output_type": "stream",
     "text": [
      "[1637]\ttrain-mlogloss:0.02646\teval-mlogloss:0.39358\n"
     ]
    },
    {
     "name": "stdout",
     "output_type": "stream",
     "text": [
      "[0]\ttrain-mlogloss:1.86599\teval-mlogloss:1.86705\n"
     ]
    },
    {
     "name": "stdout",
     "output_type": "stream",
     "text": [
      "[50]\ttrain-mlogloss:0.63502\teval-mlogloss:0.67733\n"
     ]
    },
    {
     "name": "stdout",
     "output_type": "stream",
     "text": [
      "[100]\ttrain-mlogloss:0.40384\teval-mlogloss:0.47718\n"
     ]
    },
    {
     "name": "stdout",
     "output_type": "stream",
     "text": [
      "[150]\ttrain-mlogloss:0.31619\teval-mlogloss:0.41569\n"
     ]
    },
    {
     "name": "stdout",
     "output_type": "stream",
     "text": [
      "[200]\ttrain-mlogloss:0.27252\teval-mlogloss:0.39175\n"
     ]
    },
    {
     "name": "stdout",
     "output_type": "stream",
     "text": [
      "[250]\ttrain-mlogloss:0.24221\teval-mlogloss:0.37839\n"
     ]
    },
    {
     "name": "stdout",
     "output_type": "stream",
     "text": [
      "[300]\ttrain-mlogloss:0.21769\teval-mlogloss:0.36955\n"
     ]
    },
    {
     "name": "stdout",
     "output_type": "stream",
     "text": [
      "[350]\ttrain-mlogloss:0.19552\teval-mlogloss:0.36302\n"
     ]
    },
    {
     "name": "stdout",
     "output_type": "stream",
     "text": [
      "[400]\ttrain-mlogloss:0.17598\teval-mlogloss:0.35783\n"
     ]
    },
    {
     "name": "stdout",
     "output_type": "stream",
     "text": [
      "[450]\ttrain-mlogloss:0.15920\teval-mlogloss:0.35386\n"
     ]
    },
    {
     "name": "stdout",
     "output_type": "stream",
     "text": [
      "[500]\ttrain-mlogloss:0.14459\teval-mlogloss:0.35104\n"
     ]
    },
    {
     "name": "stdout",
     "output_type": "stream",
     "text": [
      "[550]\ttrain-mlogloss:0.13158\teval-mlogloss:0.34865\n"
     ]
    },
    {
     "name": "stdout",
     "output_type": "stream",
     "text": [
      "[600]\ttrain-mlogloss:0.11991\teval-mlogloss:0.34698\n"
     ]
    },
    {
     "name": "stdout",
     "output_type": "stream",
     "text": [
      "[650]\ttrain-mlogloss:0.10959\teval-mlogloss:0.34566\n"
     ]
    },
    {
     "name": "stdout",
     "output_type": "stream",
     "text": [
      "[700]\ttrain-mlogloss:0.10182\teval-mlogloss:0.34498\n"
     ]
    },
    {
     "name": "stdout",
     "output_type": "stream",
     "text": [
      "[750]\ttrain-mlogloss:0.09443\teval-mlogloss:0.34435\n"
     ]
    },
    {
     "name": "stdout",
     "output_type": "stream",
     "text": [
      "[800]\ttrain-mlogloss:0.08727\teval-mlogloss:0.34418\n"
     ]
    },
    {
     "name": "stdout",
     "output_type": "stream",
     "text": [
      "[850]\ttrain-mlogloss:0.08115\teval-mlogloss:0.34408\n"
     ]
    },
    {
     "name": "stdout",
     "output_type": "stream",
     "text": [
      "[889]\ttrain-mlogloss:0.07694\teval-mlogloss:0.34419\n"
     ]
    },
    {
     "name": "stdout",
     "output_type": "stream",
     "text": [
      "\n",
      "Classification Report on Test Set:\n",
      "              precision    recall  f1-score   support\n",
      "\n",
      "           0       0.90      0.92      0.91     12676\n",
      "           1       0.93      0.95      0.94      9796\n",
      "           2       0.93      0.95      0.94      5341\n",
      "           3       0.95      0.96      0.96      9804\n",
      "           4       0.84      0.72      0.77      6437\n",
      "           5       0.66      0.56      0.61      6513\n",
      "           6       0.87      0.95      0.91     13308\n",
      "\n",
      "    accuracy                           0.88     63875\n",
      "   macro avg       0.87      0.86      0.86     63875\n",
      "weighted avg       0.88      0.88      0.88     63875\n",
      "\n"
     ]
    },
    {
     "data": {
      "image/png": "[encoded data removed]",
      "text/plain": [
       "<Figure size 640x480 with 1 Axes>"
      ]
     },
     "metadata": {},
     "output_type": "display_data"
    },
    {
     "data": {
      "image/png": "[encoded data removed]",
      "text/plain": [
       "<Figure size 640x480 with 2 Axes>"
      ]
     },
     "metadata": {},
     "output_type": "display_data"
    },
    {
     "name": "stdout",
     "output_type": "stream",
     "text": [
      "{'average_accuracy': 0.879082305886027, 'average_f1_macro': 0.8559766690628221, 'average_f1_micro': 0.879082305886027, 'average_auc': 0.9749412689179718, 'average_acc_kelas_generatif': 0.9588187009279086, 'average_acc_fase_padi': 0.8998291726899668}\n",
      "{'val_accuracy': 0.8828336594911937, 'val_f1_macro': 0.8626582464981575, 'val_f1_micro': 0.8828336594911937, 'val_auc': 0.9771072732186991, 'val_acc_kelas_generatif': 0.9647082823337413, 'val_acc_fase_padi': 0.9066224743450826, 'val_relative_acc': 99.16226761533164}\n",
      "=============================================================================\n",
      "=============================================================================\n",
      "CLUSTER:  2\n"
     ]
    },
    {
     "name": "stderr",
     "output_type": "stream",
     "text": [
      "[I 2024-10-16 16:14:08,378] A new study created in memory with name: no-name-9632bf16-3dd8-43dc-abc5-ef997cffa6d3\n"
     ]
    },
    {
     "name": "stdout",
     "output_type": "stream",
     "text": [
      "[1 4 5 3 6 2 0]\n",
      "[0 1 2 3 4 5 6]\n",
      "Mapping of original to encoded classes: {0: 0, 1: 1, 2: 2, 3: 3, 4: 4, 5: 5, 6: 6}\n",
      "Build Best Parameter using Optuna-Hyperparameter Tuning\n"
     ]
    },
    {
     "name": "stderr",
     "output_type": "stream",
     "text": [
      "[I 2024-10-16 16:15:06,688] Trial 0 finished with value: 0.7317823833858162 and parameters: {'max_depth': 10, 'learning_rate': 0.052332546634154535, 'reg_lambda': 0.851788974474551, 'min_child_weight': 84}. Best is trial 0 with value: 0.7317823833858162.\n"
     ]
    },
    {
     "name": "stderr",
     "output_type": "stream",
     "text": [
      "[I 2024-10-16 16:16:07,859] Trial 1 finished with value: 0.7291108032219205 and parameters: {'max_depth': 6, 'learning_rate': 0.08948615957449378, 'reg_lambda': 1.0716983429938285, 'min_child_weight': 65}. Best is trial 0 with value: 0.7317823833858162.\n"
     ]
    },
    {
     "name": "stderr",
     "output_type": "stream",
     "text": [
      "[I 2024-10-16 16:16:55,162] Trial 2 finished with value: 0.7288177502730235 and parameters: {'max_depth': 6, 'learning_rate': 0.05341103433473779, 'reg_lambda': 3.077518774066238, 'min_child_weight': 63}. Best is trial 0 with value: 0.7317823833858162.\n"
     ]
    },
    {
     "name": "stderr",
     "output_type": "stream",
     "text": [
      "[I 2024-10-16 16:17:58,016] Trial 3 finished with value: 0.7329707887292926 and parameters: {'max_depth': 8, 'learning_rate': 0.0401556858863999, 'reg_lambda': 2.373513279027832, 'min_child_weight': 69}. Best is trial 3 with value: 0.7329707887292926.\n"
     ]
    },
    {
     "name": "stderr",
     "output_type": "stream",
     "text": [
      "[I 2024-10-16 16:19:15,005] Trial 4 finished with value: 0.7299836433428308 and parameters: {'max_depth': 8, 'learning_rate': 0.02992071927329462, 'reg_lambda': 1.5711815025273188, 'min_child_weight': 99}. Best is trial 3 with value: 0.7329707887292926.\n"
     ]
    },
    {
     "name": "stderr",
     "output_type": "stream",
     "text": [
      "[I 2024-10-16 16:20:05,143] Trial 5 finished with value: 0.731246895150087 and parameters: {'max_depth': 9, 'learning_rate': 0.04356849973209705, 'reg_lambda': 4.296331781952203, 'min_child_weight': 53}. Best is trial 3 with value: 0.7329707887292926.\n"
     ]
    },
    {
     "name": "stderr",
     "output_type": "stream",
     "text": [
      "[I 2024-10-16 16:21:55,638] Trial 6 finished with value: 0.7327799330544528 and parameters: {'max_depth': 9, 'learning_rate': 0.022542703889743047, 'reg_lambda': 3.4319460521102068, 'min_child_weight': 53}. Best is trial 3 with value: 0.7329707887292926.\n"
     ]
    },
    {
     "name": "stderr",
     "output_type": "stream",
     "text": [
      "[I 2024-10-16 16:22:34,151] Trial 7 finished with value: 0.7301810802088792 and parameters: {'max_depth': 7, 'learning_rate': 0.07322941977385615, 'reg_lambda': 3.3411595592248204, 'min_child_weight': 76}. Best is trial 3 with value: 0.7329707887292926.\n"
     ]
    },
    {
     "name": "stderr",
     "output_type": "stream",
     "text": [
      "[I 2024-10-16 16:23:14,650] Trial 8 finished with value: 0.7314872909365984 and parameters: {'max_depth': 8, 'learning_rate': 0.07877570233666975, 'reg_lambda': 0.4162554138882315, 'min_child_weight': 88}. Best is trial 3 with value: 0.7329707887292926.\n"
     ]
    },
    {
     "name": "stderr",
     "output_type": "stream",
     "text": [
      "[I 2024-10-16 16:23:55,712] Trial 9 finished with value: 0.7296767447137363 and parameters: {'max_depth': 9, 'learning_rate': 0.07845896001362869, 'reg_lambda': 0.5443304265027059, 'min_child_weight': 98}. Best is trial 3 with value: 0.7329707887292926.\n"
     ]
    },
    {
     "name": "stderr",
     "output_type": "stream",
     "text": [
      "[I 2024-10-16 16:25:26,825] Trial 10 finished with value: 0.7247873192342759 and parameters: {'max_depth': 7, 'learning_rate': 0.014267049338009322, 'reg_lambda': 1.883561996311847, 'min_child_weight': 67}. Best is trial 3 with value: 0.7329707887292926.\n"
     ]
    },
    {
     "name": "stderr",
     "output_type": "stream",
     "text": [
      "[I 2024-10-16 16:27:20,026] Trial 11 finished with value: 0.733905700040611 and parameters: {'max_depth': 9, 'learning_rate': 0.024937624777154475, 'reg_lambda': 4.283944739404182, 'min_child_weight': 51}. Best is trial 11 with value: 0.733905700040611.\n"
     ]
    },
    {
     "name": "stderr",
     "output_type": "stream",
     "text": [
      "[I 2024-10-16 16:28:21,572] Trial 12 finished with value: 0.7341921752627631 and parameters: {'max_depth': 10, 'learning_rate': 0.03584334651434269, 'reg_lambda': 4.928124456138386, 'min_child_weight': 50}. Best is trial 12 with value: 0.7341921752627631.\n"
     ]
    },
    {
     "name": "stderr",
     "output_type": "stream",
     "text": [
      "[I 2024-10-16 16:29:27,326] Trial 13 finished with value: 0.7332713416000742 and parameters: {'max_depth': 10, 'learning_rate': 0.03357774221133566, 'reg_lambda': 4.73685796397142, 'min_child_weight': 51}. Best is trial 12 with value: 0.7341921752627631.\n"
     ]
    },
    {
     "name": "stderr",
     "output_type": "stream",
     "text": [
      "[I 2024-10-16 16:31:16,447] Trial 14 finished with value: 0.733352238996814 and parameters: {'max_depth': 10, 'learning_rate': 0.01944241019761304, 'reg_lambda': 4.176455934322515, 'min_child_weight': 59}. Best is trial 12 with value: 0.7341921752627631.\n"
     ]
    },
    {
     "name": "stderr",
     "output_type": "stream",
     "text": [
      "[I 2024-10-16 16:33:26,195] Trial 15 finished with value: 0.726981259268098 and parameters: {'max_depth': 9, 'learning_rate': 0.010801358641490415, 'reg_lambda': 4.977843555606702, 'min_child_weight': 57}. Best is trial 12 with value: 0.7341921752627631.\n"
     ]
    },
    {
     "name": "stderr",
     "output_type": "stream",
     "text": [
      "[I 2024-10-16 16:34:45,016] Trial 16 finished with value: 0.7333873357223624 and parameters: {'max_depth': 10, 'learning_rate': 0.030082889142156753, 'reg_lambda': 4.042363897863023, 'min_child_weight': 74}. Best is trial 12 with value: 0.7341921752627631.\n"
     ]
    },
    {
     "name": "stderr",
     "output_type": "stream",
     "text": [
      "[I 2024-10-16 16:35:21,632] Trial 17 finished with value: 0.7309979418221454 and parameters: {'max_depth': 9, 'learning_rate': 0.06129569519098308, 'reg_lambda': 3.7542752308514835, 'min_child_weight': 59}. Best is trial 12 with value: 0.7341921752627631.\n"
     ]
    },
    {
     "name": "stderr",
     "output_type": "stream",
     "text": [
      "[I 2024-10-16 16:36:03,322] Trial 18 finished with value: 0.7345212511477314 and parameters: {'max_depth': 10, 'learning_rate': 0.043425812520620624, 'reg_lambda': 4.627311155128478, 'min_child_weight': 50}. Best is trial 18 with value: 0.7345212511477314.\n"
     ]
    },
    {
     "name": "stderr",
     "output_type": "stream",
     "text": [
      "[I 2024-10-16 16:36:40,243] Trial 19 finished with value: 0.7325308673235535 and parameters: {'max_depth': 10, 'learning_rate': 0.062057535448959714, 'reg_lambda': 2.7448034996972286, 'min_child_weight': 78}. Best is trial 18 with value: 0.7345212511477314.\n"
     ]
    },
    {
     "name": "stdout",
     "output_type": "stream",
     "text": [
      "Best Parameters: {'max_depth': 10, 'learning_rate': 0.043425812520620624, 'reg_lambda': 4.627311155128478, 'min_child_weight': 50}\n",
      "Best Score: 0.7345212511477314\n",
      "Start the modelling\n"
     ]
    },
    {
     "name": "stdout",
     "output_type": "stream",
     "text": [
      "[0]\ttrain-mlogloss:1.86814\teval-mlogloss:1.87719\n"
     ]
    },
    {
     "name": "stdout",
     "output_type": "stream",
     "text": [
      "[100]\ttrain-mlogloss:0.35992\teval-mlogloss:0.72644\n"
     ]
    },
    {
     "name": "stdout",
     "output_type": "stream",
     "text": [
      "[200]\ttrain-mlogloss:0.20741\teval-mlogloss:0.67208\n"
     ]
    },
    {
     "name": "stdout",
     "output_type": "stream",
     "text": [
      "[300]\ttrain-mlogloss:0.13667\teval-mlogloss:0.66134\n"
     ]
    },
    {
     "name": "stdout",
     "output_type": "stream",
     "text": [
      "[400]\ttrain-mlogloss:0.09652\teval-mlogloss:0.65979\n"
     ]
    },
    {
     "name": "stdout",
     "output_type": "stream",
     "text": [
      "[500]\ttrain-mlogloss:0.07246\teval-mlogloss:0.66315\n"
     ]
    },
    {
     "name": "stdout",
     "output_type": "stream",
     "text": [
      "[600]\ttrain-mlogloss:0.05712\teval-mlogloss:0.66932\n"
     ]
    },
    {
     "name": "stdout",
     "output_type": "stream",
     "text": [
      "[700]\ttrain-mlogloss:0.04657\teval-mlogloss:0.67603\n"
     ]
    },
    {
     "name": "stdout",
     "output_type": "stream",
     "text": [
      "[800]\ttrain-mlogloss:0.03955\teval-mlogloss:0.68411\n"
     ]
    },
    {
     "name": "stdout",
     "output_type": "stream",
     "text": [
      "[900]\ttrain-mlogloss:0.03401\teval-mlogloss:0.69131\n"
     ]
    },
    {
     "name": "stdout",
     "output_type": "stream",
     "text": [
      "[1000]\ttrain-mlogloss:0.02980\teval-mlogloss:0.69816\n"
     ]
    },
    {
     "name": "stdout",
     "output_type": "stream",
     "text": [
      "[1100]\ttrain-mlogloss:0.02653\teval-mlogloss:0.70500\n"
     ]
    },
    {
     "name": "stdout",
     "output_type": "stream",
     "text": [
      "[1200]\ttrain-mlogloss:0.02390\teval-mlogloss:0.71143\n"
     ]
    },
    {
     "name": "stdout",
     "output_type": "stream",
     "text": [
      "[1300]\ttrain-mlogloss:0.02172\teval-mlogloss:0.71810\n"
     ]
    },
    {
     "name": "stdout",
     "output_type": "stream",
     "text": [
      "[1370]\ttrain-mlogloss:0.02041\teval-mlogloss:0.72207\n"
     ]
    },
    {
     "name": "stdout",
     "output_type": "stream",
     "text": [
      "[0]\ttrain-mlogloss:1.86795\teval-mlogloss:1.87660\n"
     ]
    },
    {
     "name": "stdout",
     "output_type": "stream",
     "text": [
      "[100]\ttrain-mlogloss:0.35259\teval-mlogloss:0.72108\n"
     ]
    },
    {
     "name": "stdout",
     "output_type": "stream",
     "text": [
      "[200]\ttrain-mlogloss:0.20528\teval-mlogloss:0.66870\n"
     ]
    },
    {
     "name": "stdout",
     "output_type": "stream",
     "text": [
      "[300]\ttrain-mlogloss:0.13446\teval-mlogloss:0.65938\n"
     ]
    },
    {
     "name": "stdout",
     "output_type": "stream",
     "text": [
      "[400]\ttrain-mlogloss:0.09600\teval-mlogloss:0.66186\n"
     ]
    },
    {
     "name": "stdout",
     "output_type": "stream",
     "text": [
      "[500]\ttrain-mlogloss:0.07213\teval-mlogloss:0.66727\n"
     ]
    },
    {
     "name": "stdout",
     "output_type": "stream",
     "text": [
      "[600]\ttrain-mlogloss:0.05668\teval-mlogloss:0.67527\n"
     ]
    },
    {
     "name": "stdout",
     "output_type": "stream",
     "text": [
      "[700]\ttrain-mlogloss:0.04683\teval-mlogloss:0.68339\n"
     ]
    },
    {
     "name": "stdout",
     "output_type": "stream",
     "text": [
      "[800]\ttrain-mlogloss:0.03962\teval-mlogloss:0.69122\n"
     ]
    },
    {
     "name": "stdout",
     "output_type": "stream",
     "text": [
      "[900]\ttrain-mlogloss:0.03427\teval-mlogloss:0.69907\n"
     ]
    },
    {
     "name": "stdout",
     "output_type": "stream",
     "text": [
      "[1000]\ttrain-mlogloss:0.03012\teval-mlogloss:0.70685\n"
     ]
    },
    {
     "name": "stdout",
     "output_type": "stream",
     "text": [
      "[1100]\ttrain-mlogloss:0.02679\teval-mlogloss:0.71382\n"
     ]
    },
    {
     "name": "stdout",
     "output_type": "stream",
     "text": [
      "[1200]\ttrain-mlogloss:0.02407\teval-mlogloss:0.72095\n"
     ]
    },
    {
     "name": "stdout",
     "output_type": "stream",
     "text": [
      "[1300]\ttrain-mlogloss:0.02193\teval-mlogloss:0.72753\n"
     ]
    },
    {
     "name": "stdout",
     "output_type": "stream",
     "text": [
      "[1314]\ttrain-mlogloss:0.02166\teval-mlogloss:0.72840\n"
     ]
    },
    {
     "name": "stdout",
     "output_type": "stream",
     "text": [
      "[0]\ttrain-mlogloss:1.86868\teval-mlogloss:1.87658\n"
     ]
    },
    {
     "name": "stdout",
     "output_type": "stream",
     "text": [
      "[100]\ttrain-mlogloss:0.35726\teval-mlogloss:0.71459\n"
     ]
    },
    {
     "name": "stdout",
     "output_type": "stream",
     "text": [
      "[200]\ttrain-mlogloss:0.20472\teval-mlogloss:0.65861\n"
     ]
    },
    {
     "name": "stdout",
     "output_type": "stream",
     "text": [
      "[300]\ttrain-mlogloss:0.13455\teval-mlogloss:0.64723\n"
     ]
    },
    {
     "name": "stdout",
     "output_type": "stream",
     "text": [
      "[400]\ttrain-mlogloss:0.09525\teval-mlogloss:0.64562\n"
     ]
    },
    {
     "name": "stdout",
     "output_type": "stream",
     "text": [
      "[500]\ttrain-mlogloss:0.07255\teval-mlogloss:0.64971\n"
     ]
    },
    {
     "name": "stdout",
     "output_type": "stream",
     "text": [
      "[600]\ttrain-mlogloss:0.05761\teval-mlogloss:0.65520\n"
     ]
    },
    {
     "name": "stdout",
     "output_type": "stream",
     "text": [
      "[700]\ttrain-mlogloss:0.04739\teval-mlogloss:0.66305\n"
     ]
    },
    {
     "name": "stdout",
     "output_type": "stream",
     "text": [
      "[800]\ttrain-mlogloss:0.03983\teval-mlogloss:0.66981\n"
     ]
    },
    {
     "name": "stdout",
     "output_type": "stream",
     "text": [
      "[900]\ttrain-mlogloss:0.03431\teval-mlogloss:0.67664\n"
     ]
    },
    {
     "name": "stdout",
     "output_type": "stream",
     "text": [
      "[1000]\ttrain-mlogloss:0.02999\teval-mlogloss:0.68377\n"
     ]
    },
    {
     "name": "stdout",
     "output_type": "stream",
     "text": [
      "[1100]\ttrain-mlogloss:0.02677\teval-mlogloss:0.69024\n"
     ]
    },
    {
     "name": "stdout",
     "output_type": "stream",
     "text": [
      "[1200]\ttrain-mlogloss:0.02405\teval-mlogloss:0.69691\n"
     ]
    },
    {
     "name": "stdout",
     "output_type": "stream",
     "text": [
      "[1300]\ttrain-mlogloss:0.02185\teval-mlogloss:0.70289\n"
     ]
    },
    {
     "name": "stdout",
     "output_type": "stream",
     "text": [
      "[1394]\ttrain-mlogloss:0.02014\teval-mlogloss:0.70799\n"
     ]
    },
    {
     "name": "stdout",
     "output_type": "stream",
     "text": [
      "[0]\ttrain-mlogloss:1.86728\teval-mlogloss:1.87507\n"
     ]
    },
    {
     "name": "stdout",
     "output_type": "stream",
     "text": [
      "[50]\ttrain-mlogloss:0.62836\teval-mlogloss:0.85238\n"
     ]
    },
    {
     "name": "stdout",
     "output_type": "stream",
     "text": [
      "[100]\ttrain-mlogloss:0.38208\teval-mlogloss:0.69902\n"
     ]
    },
    {
     "name": "stdout",
     "output_type": "stream",
     "text": [
      "[150]\ttrain-mlogloss:0.29136\teval-mlogloss:0.65839\n"
     ]
    },
    {
     "name": "stdout",
     "output_type": "stream",
     "text": [
      "[200]\ttrain-mlogloss:0.23662\teval-mlogloss:0.64111\n"
     ]
    },
    {
     "name": "stdout",
     "output_type": "stream",
     "text": [
      "[250]\ttrain-mlogloss:0.19408\teval-mlogloss:0.63133\n"
     ]
    },
    {
     "name": "stdout",
     "output_type": "stream",
     "text": [
      "[300]\ttrain-mlogloss:0.15988\teval-mlogloss:0.62533\n"
     ]
    },
    {
     "name": "stdout",
     "output_type": "stream",
     "text": [
      "[350]\ttrain-mlogloss:0.13296\teval-mlogloss:0.62218\n"
     ]
    },
    {
     "name": "stdout",
     "output_type": "stream",
     "text": [
      "[400]\ttrain-mlogloss:0.11243\teval-mlogloss:0.62087\n"
     ]
    },
    {
     "name": "stdout",
     "output_type": "stream",
     "text": [
      "[450]\ttrain-mlogloss:0.09580\teval-mlogloss:0.62086\n"
     ]
    },
    {
     "name": "stdout",
     "output_type": "stream",
     "text": [
      "[488]\ttrain-mlogloss:0.08635\teval-mlogloss:0.62172\n"
     ]
    },
    {
     "name": "stdout",
     "output_type": "stream",
     "text": [
      "\n",
      "Classification Report on Test Set:\n",
      "              precision    recall  f1-score   support\n",
      "\n",
      "           0       0.86      0.87      0.87     12194\n",
      "           1       0.84      0.89      0.87      4445\n",
      "           2       0.70      0.62      0.66      5642\n",
      "           3       0.71      0.64      0.67      5850\n",
      "           4       0.68      0.63      0.65      5891\n",
      "           5       0.71      0.62      0.67      5653\n",
      "           6       0.80      0.94      0.86     12207\n",
      "\n",
      "    accuracy                           0.78     51882\n",
      "   macro avg       0.76      0.74      0.75     51882\n",
      "weighted avg       0.77      0.78      0.78     51882\n",
      "\n"
     ]
    },
    {
     "data": {
      "image/png": "[encoded data removed]",
      "text/plain": [
       "<Figure size 640x480 with 1 Axes>"
      ]
     },
     "metadata": {},
     "output_type": "display_data"
    },
    {
     "data": {
      "image/png": "[encoded data removed]",
      "text/plain": [
       "<Figure size 640x480 with 2 Axes>"
      ]
     },
     "metadata": {},
     "output_type": "display_data"
    },
    {
     "name": "stdout",
     "output_type": "stream",
     "text": [
      "{'average_accuracy': 0.773365172208802, 'average_f1_macro': 0.7384820996104681, 'average_f1_micro': 0.773365172208802, 'average_auc': 0.9517656107470457, 'average_acc_kelas_generatif': 0.6274331719336447, 'average_acc_fase_padi': 0.664528543938422}\n",
      "{'val_accuracy': 0.7799622219652288, 'val_f1_macro': 0.7492831843860305, 'val_f1_micro': 0.7799622219652288, 'val_auc': 0.9567786827303767, 'val_acc_kelas_generatif': 0.6381196581196581, 'val_acc_fase_padi': 0.6826553051126993, 'val_relative_acc': 96.06410862372707}\n",
      "=============================================================================\n",
      "=============================================================================\n",
      "CLUSTER:  3\n"
     ]
    },
    {
     "name": "stderr",
     "output_type": "stream",
     "text": [
      "[I 2024-10-16 16:40:01,903] A new study created in memory with name: no-name-6f0a2dcf-3d25-42a0-8535-a6b0ce145355\n"
     ]
    },
    {
     "name": "stdout",
     "output_type": "stream",
     "text": [
      "[6 3 1 4 0 2 5]\n",
      "[0 1 2 3 4 5 6]\n",
      "Mapping of original to encoded classes: {0: 0, 1: 1, 2: 2, 3: 3, 4: 4, 5: 5, 6: 6}\n",
      "Build Best Parameter using Optuna-Hyperparameter Tuning\n"
     ]
    },
    {
     "name": "stderr",
     "output_type": "stream",
     "text": [
      "[I 2024-10-16 16:40:29,944] Trial 0 finished with value: 0.8983584369667102 and parameters: {'max_depth': 9, 'learning_rate': 0.08336676362866398, 'reg_lambda': 3.121600234762223, 'min_child_weight': 82}. Best is trial 0 with value: 0.8983584369667102.\n"
     ]
    },
    {
     "name": "stderr",
     "output_type": "stream",
     "text": [
      "[I 2024-10-16 16:41:00,907] Trial 1 finished with value: 0.8996860610166187 and parameters: {'max_depth': 7, 'learning_rate': 0.08399059601944997, 'reg_lambda': 2.1486978176392233, 'min_child_weight': 74}. Best is trial 1 with value: 0.8996860610166187.\n"
     ]
    },
    {
     "name": "stderr",
     "output_type": "stream",
     "text": [
      "[I 2024-10-16 16:43:12,143] Trial 2 finished with value: 0.8973795894313357 and parameters: {'max_depth': 10, 'learning_rate': 0.01785407555381624, 'reg_lambda': 1.9624170741921925, 'min_child_weight': 83}. Best is trial 1 with value: 0.8996860610166187.\n"
     ]
    },
    {
     "name": "stderr",
     "output_type": "stream",
     "text": [
      "[I 2024-10-16 16:44:54,866] Trial 3 finished with value: 0.8952768669553727 and parameters: {'max_depth': 8, 'learning_rate': 0.01744403952455087, 'reg_lambda': 0.3915775209716371, 'min_child_weight': 100}. Best is trial 1 with value: 0.8996860610166187.\n"
     ]
    },
    {
     "name": "stderr",
     "output_type": "stream",
     "text": [
      "[I 2024-10-16 16:46:43,311] Trial 4 finished with value: 0.8966826518789964 and parameters: {'max_depth': 9, 'learning_rate': 0.015427358651381036, 'reg_lambda': 4.87994440573689, 'min_child_weight': 93}. Best is trial 1 with value: 0.8996860610166187.\n"
     ]
    },
    {
     "name": "stderr",
     "output_type": "stream",
     "text": [
      "[I 2024-10-16 16:47:26,579] Trial 5 finished with value: 0.8984047309131481 and parameters: {'max_depth': 8, 'learning_rate': 0.08179063491161358, 'reg_lambda': 2.534732450319096, 'min_child_weight': 95}. Best is trial 1 with value: 0.8996860610166187.\n"
     ]
    },
    {
     "name": "stderr",
     "output_type": "stream",
     "text": [
      "[I 2024-10-16 16:48:20,264] Trial 6 finished with value: 0.8990334235197014 and parameters: {'max_depth': 10, 'learning_rate': 0.04824837835831725, 'reg_lambda': 3.970703672873204, 'min_child_weight': 72}. Best is trial 1 with value: 0.8996860610166187.\n"
     ]
    },
    {
     "name": "stderr",
     "output_type": "stream",
     "text": [
      "[I 2024-10-16 16:48:57,698] Trial 7 finished with value: 0.8985283585939595 and parameters: {'max_depth': 7, 'learning_rate': 0.0849848271252607, 'reg_lambda': 4.526201346128909, 'min_child_weight': 84}. Best is trial 1 with value: 0.8996860610166187.\n"
     ]
    },
    {
     "name": "stderr",
     "output_type": "stream",
     "text": [
      "[I 2024-10-16 16:51:06,244] Trial 8 finished with value: 0.8985657441775006 and parameters: {'max_depth': 10, 'learning_rate': 0.025531045400320772, 'reg_lambda': 4.562394237420832, 'min_child_weight': 75}. Best is trial 1 with value: 0.8996860610166187.\n"
     ]
    },
    {
     "name": "stderr",
     "output_type": "stream",
     "text": [
      "[I 2024-10-16 16:52:47,954] Trial 9 finished with value: 0.8937760995854958 and parameters: {'max_depth': 7, 'learning_rate': 0.01469069688049681, 'reg_lambda': 2.1167467570768554, 'min_child_weight': 74}. Best is trial 1 with value: 0.8996860610166187.\n"
     ]
    },
    {
     "name": "stderr",
     "output_type": "stream",
     "text": [
      "[I 2024-10-16 16:53:09,436] Trial 10 finished with value: 0.8993224199726445 and parameters: {'max_depth': 6, 'learning_rate': 0.09971462610866559, 'reg_lambda': 1.0006605998896496, 'min_child_weight': 55}. Best is trial 1 with value: 0.8996860610166187.\n"
     ]
    },
    {
     "name": "stderr",
     "output_type": "stream",
     "text": [
      "[I 2024-10-16 16:53:34,781] Trial 11 finished with value: 0.8989468407197702 and parameters: {'max_depth': 6, 'learning_rate': 0.09920468459909448, 'reg_lambda': 0.846481527465784, 'min_child_weight': 54}. Best is trial 1 with value: 0.8996860610166187.\n"
     ]
    },
    {
     "name": "stderr",
     "output_type": "stream",
     "text": [
      "[I 2024-10-16 16:54:04,080] Trial 12 finished with value: 0.9001802365425293 and parameters: {'max_depth': 6, 'learning_rate': 0.09983000833217476, 'reg_lambda': 1.259048447578058, 'min_child_weight': 55}. Best is trial 12 with value: 0.9001802365425293.\n"
     ]
    },
    {
     "name": "stderr",
     "output_type": "stream",
     "text": [
      "[I 2024-10-16 16:54:55,513] Trial 13 finished with value: 0.8997111282032065 and parameters: {'max_depth': 7, 'learning_rate': 0.06246101394671262, 'reg_lambda': 1.4621019098829802, 'min_child_weight': 63}. Best is trial 12 with value: 0.9001802365425293.\n"
     ]
    },
    {
     "name": "stderr",
     "output_type": "stream",
     "text": [
      "[I 2024-10-16 16:55:55,799] Trial 14 finished with value: 0.8977571679320265 and parameters: {'max_depth': 6, 'learning_rate': 0.05771945454340169, 'reg_lambda': 1.4635846128829804, 'min_child_weight': 62}. Best is trial 12 with value: 0.9001802365425293.\n"
     ]
    },
    {
     "name": "stderr",
     "output_type": "stream",
     "text": [
      "[I 2024-10-16 16:56:55,519] Trial 15 finished with value: 0.8998637338754044 and parameters: {'max_depth': 7, 'learning_rate': 0.05976224692133192, 'reg_lambda': 0.12534936618844172, 'min_child_weight': 63}. Best is trial 12 with value: 0.9001802365425293.\n"
     ]
    },
    {
     "name": "stderr",
     "output_type": "stream",
     "text": [
      "[I 2024-10-16 16:57:59,258] Trial 16 finished with value: 0.8996486650743645 and parameters: {'max_depth': 6, 'learning_rate': 0.04369014439096005, 'reg_lambda': 0.15543959767811005, 'min_child_weight': 50}. Best is trial 12 with value: 0.9001802365425293.\n"
     ]
    },
    {
     "name": "stderr",
     "output_type": "stream",
     "text": [
      "[I 2024-10-16 16:58:40,381] Trial 17 finished with value: 0.900097370188147 and parameters: {'max_depth': 7, 'learning_rate': 0.07208063880734965, 'reg_lambda': 0.8166922390822657, 'min_child_weight': 61}. Best is trial 12 with value: 0.9001802365425293.\n"
     ]
    },
    {
     "name": "stderr",
     "output_type": "stream",
     "text": [
      "[I 2024-10-16 16:59:17,483] Trial 18 finished with value: 0.89990009682839 and parameters: {'max_depth': 8, 'learning_rate': 0.07121321932063965, 'reg_lambda': 3.1043629185368222, 'min_child_weight': 68}. Best is trial 12 with value: 0.9001802365425293.\n"
     ]
    },
    {
     "name": "stderr",
     "output_type": "stream",
     "text": [
      "[I 2024-10-16 16:59:59,888] Trial 19 finished with value: 0.898696328871495 and parameters: {'max_depth': 6, 'learning_rate': 0.07230307115055325, 'reg_lambda': 0.8981853538267236, 'min_child_weight': 60}. Best is trial 12 with value: 0.9001802365425293.\n"
     ]
    },
    {
     "name": "stdout",
     "output_type": "stream",
     "text": [
      "Best Parameters: {'max_depth': 6, 'learning_rate': 0.09983000833217476, 'reg_lambda': 1.259048447578058, 'min_child_weight': 55}\n",
      "Best Score: 0.9001802365425293\n",
      "Start the modelling\n"
     ]
    },
    {
     "name": "stdout",
     "output_type": "stream",
     "text": [
      "[0]\ttrain-mlogloss:1.72600\teval-mlogloss:1.73916\n"
     ]
    },
    {
     "name": "stdout",
     "output_type": "stream",
     "text": [
      "[100]\ttrain-mlogloss:0.14888\teval-mlogloss:0.31933\n"
     ]
    },
    {
     "name": "stdout",
     "output_type": "stream",
     "text": [
      "[200]\ttrain-mlogloss:0.07538\teval-mlogloss:0.28733\n"
     ]
    },
    {
     "name": "stdout",
     "output_type": "stream",
     "text": [
      "[300]\ttrain-mlogloss:0.04496\teval-mlogloss:0.28164\n"
     ]
    },
    {
     "name": "stdout",
     "output_type": "stream",
     "text": [
      "[400]\ttrain-mlogloss:0.03098\teval-mlogloss:0.28242\n"
     ]
    },
    {
     "name": "stdout",
     "output_type": "stream",
     "text": [
      "[500]\ttrain-mlogloss:0.02366\teval-mlogloss:0.28556\n"
     ]
    },
    {
     "name": "stdout",
     "output_type": "stream",
     "text": [
      "[600]\ttrain-mlogloss:0.01850\teval-mlogloss:0.28915\n"
     ]
    },
    {
     "name": "stdout",
     "output_type": "stream",
     "text": [
      "[700]\ttrain-mlogloss:0.01529\teval-mlogloss:0.29274\n"
     ]
    },
    {
     "name": "stdout",
     "output_type": "stream",
     "text": [
      "[800]\ttrain-mlogloss:0.01305\teval-mlogloss:0.29629\n"
     ]
    },
    {
     "name": "stdout",
     "output_type": "stream",
     "text": [
      "[900]\ttrain-mlogloss:0.01153\teval-mlogloss:0.29907\n"
     ]
    },
    {
     "name": "stdout",
     "output_type": "stream",
     "text": [
      "[1000]\ttrain-mlogloss:0.01038\teval-mlogloss:0.30186\n"
     ]
    },
    {
     "name": "stdout",
     "output_type": "stream",
     "text": [
      "[1100]\ttrain-mlogloss:0.00937\teval-mlogloss:0.30467\n"
     ]
    },
    {
     "name": "stdout",
     "output_type": "stream",
     "text": [
      "[1200]\ttrain-mlogloss:0.00856\teval-mlogloss:0.30770\n"
     ]
    },
    {
     "name": "stdout",
     "output_type": "stream",
     "text": [
      "[1300]\ttrain-mlogloss:0.00793\teval-mlogloss:0.31038\n"
     ]
    },
    {
     "name": "stdout",
     "output_type": "stream",
     "text": [
      "[1331]\ttrain-mlogloss:0.00776\teval-mlogloss:0.31110\n"
     ]
    },
    {
     "name": "stdout",
     "output_type": "stream",
     "text": [
      "[0]\ttrain-mlogloss:1.72445\teval-mlogloss:1.73663\n"
     ]
    },
    {
     "name": "stdout",
     "output_type": "stream",
     "text": [
      "[100]\ttrain-mlogloss:0.15243\teval-mlogloss:0.30644\n"
     ]
    },
    {
     "name": "stdout",
     "output_type": "stream",
     "text": [
      "[200]\ttrain-mlogloss:0.07594\teval-mlogloss:0.27553\n"
     ]
    },
    {
     "name": "stdout",
     "output_type": "stream",
     "text": [
      "[300]\ttrain-mlogloss:0.04566\teval-mlogloss:0.26780\n"
     ]
    },
    {
     "name": "stdout",
     "output_type": "stream",
     "text": [
      "[400]\ttrain-mlogloss:0.03174\teval-mlogloss:0.26816\n"
     ]
    },
    {
     "name": "stdout",
     "output_type": "stream",
     "text": [
      "[500]\ttrain-mlogloss:0.02390\teval-mlogloss:0.27078\n"
     ]
    },
    {
     "name": "stdout",
     "output_type": "stream",
     "text": [
      "[600]\ttrain-mlogloss:0.01887\teval-mlogloss:0.27430\n"
     ]
    },
    {
     "name": "stdout",
     "output_type": "stream",
     "text": [
      "[700]\ttrain-mlogloss:0.01578\teval-mlogloss:0.27797\n"
     ]
    },
    {
     "name": "stdout",
     "output_type": "stream",
     "text": [
      "[800]\ttrain-mlogloss:0.01366\teval-mlogloss:0.28133\n"
     ]
    },
    {
     "name": "stdout",
     "output_type": "stream",
     "text": [
      "[900]\ttrain-mlogloss:0.01197\teval-mlogloss:0.28445\n"
     ]
    },
    {
     "name": "stdout",
     "output_type": "stream",
     "text": [
      "[1000]\ttrain-mlogloss:0.01061\teval-mlogloss:0.28750\n"
     ]
    },
    {
     "name": "stdout",
     "output_type": "stream",
     "text": [
      "[1100]\ttrain-mlogloss:0.00959\teval-mlogloss:0.29045\n"
     ]
    },
    {
     "name": "stdout",
     "output_type": "stream",
     "text": [
      "[1200]\ttrain-mlogloss:0.00881\teval-mlogloss:0.29305\n"
     ]
    },
    {
     "name": "stdout",
     "output_type": "stream",
     "text": [
      "[1300]\ttrain-mlogloss:0.00814\teval-mlogloss:0.29563\n"
     ]
    },
    {
     "name": "stdout",
     "output_type": "stream",
     "text": [
      "[1331]\ttrain-mlogloss:0.00794\teval-mlogloss:0.29639\n"
     ]
    },
    {
     "name": "stdout",
     "output_type": "stream",
     "text": [
      "[0]\ttrain-mlogloss:1.72599\teval-mlogloss:1.73866\n"
     ]
    },
    {
     "name": "stdout",
     "output_type": "stream",
     "text": [
      "[100]\ttrain-mlogloss:0.14330\teval-mlogloss:0.30597\n"
     ]
    },
    {
     "name": "stdout",
     "output_type": "stream",
     "text": [
      "[200]\ttrain-mlogloss:0.07215\teval-mlogloss:0.27760\n"
     ]
    },
    {
     "name": "stdout",
     "output_type": "stream",
     "text": [
      "[300]\ttrain-mlogloss:0.04393\teval-mlogloss:0.27394\n"
     ]
    },
    {
     "name": "stdout",
     "output_type": "stream",
     "text": [
      "[400]\ttrain-mlogloss:0.03033\teval-mlogloss:0.27697\n"
     ]
    },
    {
     "name": "stdout",
     "output_type": "stream",
     "text": [
      "[500]\ttrain-mlogloss:0.02290\teval-mlogloss:0.28044\n"
     ]
    },
    {
     "name": "stdout",
     "output_type": "stream",
     "text": [
      "[600]\ttrain-mlogloss:0.01836\teval-mlogloss:0.28456\n"
     ]
    },
    {
     "name": "stdout",
     "output_type": "stream",
     "text": [
      "[700]\ttrain-mlogloss:0.01516\teval-mlogloss:0.28875\n"
     ]
    },
    {
     "name": "stdout",
     "output_type": "stream",
     "text": [
      "[800]\ttrain-mlogloss:0.01303\teval-mlogloss:0.29361\n"
     ]
    },
    {
     "name": "stdout",
     "output_type": "stream",
     "text": [
      "[900]\ttrain-mlogloss:0.01131\teval-mlogloss:0.29821\n"
     ]
    },
    {
     "name": "stdout",
     "output_type": "stream",
     "text": [
      "[1000]\ttrain-mlogloss:0.01005\teval-mlogloss:0.30193\n"
     ]
    },
    {
     "name": "stdout",
     "output_type": "stream",
     "text": [
      "[1100]\ttrain-mlogloss:0.00909\teval-mlogloss:0.30510\n"
     ]
    },
    {
     "name": "stdout",
     "output_type": "stream",
     "text": [
      "[1200]\ttrain-mlogloss:0.00832\teval-mlogloss:0.30826\n"
     ]
    },
    {
     "name": "stdout",
     "output_type": "stream",
     "text": [
      "[1293]\ttrain-mlogloss:0.00777\teval-mlogloss:0.31033\n"
     ]
    },
    {
     "name": "stdout",
     "output_type": "stream",
     "text": [
      "[0]\ttrain-mlogloss:1.72551\teval-mlogloss:1.73692\n"
     ]
    },
    {
     "name": "stdout",
     "output_type": "stream",
     "text": [
      "[50]\ttrain-mlogloss:0.26697\teval-mlogloss:0.36822\n"
     ]
    },
    {
     "name": "stdout",
     "output_type": "stream",
     "text": [
      "[100]\ttrain-mlogloss:0.16663\teval-mlogloss:0.29314\n"
     ]
    },
    {
     "name": "stdout",
     "output_type": "stream",
     "text": [
      "[150]\ttrain-mlogloss:0.12112\teval-mlogloss:0.26974\n"
     ]
    },
    {
     "name": "stdout",
     "output_type": "stream",
     "text": [
      "[200]\ttrain-mlogloss:0.09066\teval-mlogloss:0.25735\n"
     ]
    },
    {
     "name": "stdout",
     "output_type": "stream",
     "text": [
      "[250]\ttrain-mlogloss:0.06964\teval-mlogloss:0.24980\n"
     ]
    },
    {
     "name": "stdout",
     "output_type": "stream",
     "text": [
      "[300]\ttrain-mlogloss:0.05583\teval-mlogloss:0.24614\n"
     ]
    },
    {
     "name": "stdout",
     "output_type": "stream",
     "text": [
      "[350]\ttrain-mlogloss:0.04624\teval-mlogloss:0.24451\n"
     ]
    },
    {
     "name": "stdout",
     "output_type": "stream",
     "text": [
      "[400]\ttrain-mlogloss:0.03878\teval-mlogloss:0.24393\n"
     ]
    },
    {
     "name": "stdout",
     "output_type": "stream",
     "text": [
      "[450]\ttrain-mlogloss:0.03290\teval-mlogloss:0.24404\n"
     ]
    },
    {
     "name": "stdout",
     "output_type": "stream",
     "text": [
      "[481]\ttrain-mlogloss:0.02968\teval-mlogloss:0.24438\n"
     ]
    },
    {
     "name": "stdout",
     "output_type": "stream",
     "text": [
      "\n",
      "Classification Report on Test Set:\n",
      "              precision    recall  f1-score   support\n",
      "\n",
      "           0       0.88      0.87      0.88     12816\n",
      "           1       0.95      0.97      0.96     10671\n",
      "           2       0.93      0.94      0.94      6606\n",
      "           3       0.93      0.95      0.94     10453\n",
      "           4       0.93      0.95      0.94     10836\n",
      "           5       0.93      0.95      0.94      4497\n",
      "           6       0.80      0.73      0.77      6666\n",
      "\n",
      "    accuracy                           0.91     62545\n",
      "   macro avg       0.91      0.91      0.91     62545\n",
      "weighted avg       0.91      0.91      0.91     62545\n",
      "\n"
     ]
    },
    {
     "data": {
      "image/png": "[encoded data removed]",
      "text/plain": [
       "<Figure size 640x480 with 1 Axes>"
      ]
     },
     "metadata": {},
     "output_type": "display_data"
    },
    {
     "data": {
      "image/png": "[encoded data removed]",
      "text/plain": [
       "<Figure size 640x480 with 2 Axes>"
      ]
     },
     "metadata": {},
     "output_type": "display_data"
    },
    {
     "name": "stdout",
     "output_type": "stream",
     "text": [
      "{'average_accuracy': 0.906207861359894, 'average_f1_macro': 0.9013060411749709, 'average_f1_micro': 0.906207861359894, 'average_auc': 0.9886582482324971, 'average_acc_kelas_generatif': 0.9437511899200582, 'average_acc_fase_padi': 0.9496009544056471}\n",
      "{'val_accuracy': 0.9127827963866016, 'val_f1_macro': 0.9089535041023575, 'val_f1_micro': 0.9127827963866016, 'val_auc': 0.9909863400060598, 'val_acc_kelas_generatif': 0.9470965273127332, 'val_acc_fase_padi': 0.9520302857439196, 'val_relative_acc': 99.92229992229993}\n",
      "=============================================================================\n",
      "=============================================================================\n",
      "CLUSTER:  4\n"
     ]
    },
    {
     "name": "stderr",
     "output_type": "stream",
     "text": [
      "[I 2024-10-16 17:02:38,170] A new study created in memory with name: no-name-2dbde144-557f-4130-9a88-eca4118d19b7\n"
     ]
    },
    {
     "name": "stdout",
     "output_type": "stream",
     "text": [
      "[0 2 1 3 4 6 5]\n",
      "[0 1 2 3 4 5 6]\n",
      "Mapping of original to encoded classes: {0: 0, 1: 1, 2: 2, 3: 3, 4: 4, 5: 5, 6: 6}\n",
      "Build Best Parameter using Optuna-Hyperparameter Tuning\n"
     ]
    },
    {
     "name": "stderr",
     "output_type": "stream",
     "text": [
      "[I 2024-10-16 17:04:12,569] Trial 0 finished with value: 0.9639883986506321 and parameters: {'max_depth': 6, 'learning_rate': 0.024894990849363613, 'reg_lambda': 0.9980363438478806, 'min_child_weight': 61}. Best is trial 0 with value: 0.9639883986506321.\n"
     ]
    },
    {
     "name": "stderr",
     "output_type": "stream",
     "text": [
      "[I 2024-10-16 17:04:49,948] Trial 1 finished with value: 0.9658529203698465 and parameters: {'max_depth': 6, 'learning_rate': 0.09978245275239626, 'reg_lambda': 1.2548875989830552, 'min_child_weight': 56}. Best is trial 1 with value: 0.9658529203698465.\n"
     ]
    },
    {
     "name": "stderr",
     "output_type": "stream",
     "text": [
      "[I 2024-10-16 17:06:19,334] Trial 2 finished with value: 0.9652706460733583 and parameters: {'max_depth': 9, 'learning_rate': 0.023193434565422825, 'reg_lambda': 0.8276494453725025, 'min_child_weight': 68}. Best is trial 1 with value: 0.9658529203698465.\n"
     ]
    },
    {
     "name": "stderr",
     "output_type": "stream",
     "text": [
      "[I 2024-10-16 17:08:12,042] Trial 3 finished with value: 0.9649660607290002 and parameters: {'max_depth': 6, 'learning_rate': 0.034792085246846495, 'reg_lambda': 3.7704369161799027, 'min_child_weight': 54}. Best is trial 1 with value: 0.9658529203698465.\n"
     ]
    },
    {
     "name": "stderr",
     "output_type": "stream",
     "text": [
      "[I 2024-10-16 17:09:06,638] Trial 4 finished with value: 0.9655282192659046 and parameters: {'max_depth': 8, 'learning_rate': 0.05868385083786465, 'reg_lambda': 0.8915817208569621, 'min_child_weight': 70}. Best is trial 1 with value: 0.9658529203698465.\n"
     ]
    },
    {
     "name": "stderr",
     "output_type": "stream",
     "text": [
      "[I 2024-10-16 17:10:02,986] Trial 5 finished with value: 0.9653318247962104 and parameters: {'max_depth': 7, 'learning_rate': 0.0626138567576201, 'reg_lambda': 2.0907816671962736, 'min_child_weight': 53}. Best is trial 1 with value: 0.9658529203698465.\n"
     ]
    },
    {
     "name": "stderr",
     "output_type": "stream",
     "text": [
      "[I 2024-10-16 17:11:04,956] Trial 6 finished with value: 0.966751523767003 and parameters: {'max_depth': 8, 'learning_rate': 0.05809987272179141, 'reg_lambda': 1.186729164320424, 'min_child_weight': 50}. Best is trial 6 with value: 0.966751523767003.\n"
     ]
    },
    {
     "name": "stderr",
     "output_type": "stream",
     "text": [
      "[I 2024-10-16 17:11:39,880] Trial 7 finished with value: 0.9655303612510369 and parameters: {'max_depth': 6, 'learning_rate': 0.0942061370232696, 'reg_lambda': 1.9261284081318397, 'min_child_weight': 67}. Best is trial 6 with value: 0.966751523767003.\n"
     ]
    },
    {
     "name": "stderr",
     "output_type": "stream",
     "text": [
      "[I 2024-10-16 17:12:19,210] Trial 8 finished with value: 0.9655767239032983 and parameters: {'max_depth': 6, 'learning_rate': 0.0957988405843492, 'reg_lambda': 0.2918945949474815, 'min_child_weight': 90}. Best is trial 6 with value: 0.966751523767003.\n"
     ]
    },
    {
     "name": "stderr",
     "output_type": "stream",
     "text": [
      "[I 2024-10-16 17:13:00,875] Trial 9 finished with value: 0.9652519486583193 and parameters: {'max_depth': 7, 'learning_rate': 0.08790848825535812, 'reg_lambda': 4.504983880513354, 'min_child_weight': 98}. Best is trial 6 with value: 0.966751523767003.\n"
     ]
    },
    {
     "name": "stderr",
     "output_type": "stream",
     "text": [
      "[I 2024-10-16 17:13:56,968] Trial 10 finished with value: 0.9655166943196667 and parameters: {'max_depth': 10, 'learning_rate': 0.07223022785387949, 'reg_lambda': 3.1613671013290565, 'min_child_weight': 82}. Best is trial 6 with value: 0.966751523767003.\n"
     ]
    },
    {
     "name": "stderr",
     "output_type": "stream",
     "text": [
      "[I 2024-10-16 17:15:24,236] Trial 11 finished with value: 0.9661847656484128 and parameters: {'max_depth': 8, 'learning_rate': 0.04099940650196007, 'reg_lambda': 1.6876694903582456, 'min_child_weight': 53}. Best is trial 6 with value: 0.966751523767003.\n"
     ]
    },
    {
     "name": "stderr",
     "output_type": "stream",
     "text": [
      "[I 2024-10-16 17:16:54,943] Trial 12 finished with value: 0.9662971592398654 and parameters: {'max_depth': 8, 'learning_rate': 0.04111130387495585, 'reg_lambda': 2.6356674941868503, 'min_child_weight': 50}. Best is trial 6 with value: 0.966751523767003.\n"
     ]
    },
    {
     "name": "stderr",
     "output_type": "stream",
     "text": [
      "[I 2024-10-16 17:18:14,368] Trial 13 finished with value: 0.9659079631942834 and parameters: {'max_depth': 8, 'learning_rate': 0.04923321286998059, 'reg_lambda': 2.892668692147892, 'min_child_weight': 79}. Best is trial 6 with value: 0.966751523767003.\n"
     ]
    },
    {
     "name": "stderr",
     "output_type": "stream",
     "text": [
      "[I 2024-10-16 17:18:57,593] Trial 14 finished with value: 0.9662141932151987 and parameters: {'max_depth': 9, 'learning_rate': 0.07608143826697114, 'reg_lambda': 2.5889153966055884, 'min_child_weight': 60}. Best is trial 6 with value: 0.966751523767003.\n"
     ]
    },
    {
     "name": "stderr",
     "output_type": "stream",
     "text": [
      "[I 2024-10-16 17:21:22,679] Trial 15 finished with value: 0.9613848576270442 and parameters: {'max_depth': 9, 'learning_rate': 0.01030811773602007, 'reg_lambda': 3.6185225912953896, 'min_child_weight': 62}. Best is trial 6 with value: 0.966751523767003.\n"
     ]
    },
    {
     "name": "stderr",
     "output_type": "stream",
     "text": [
      "[I 2024-10-16 17:22:24,294] Trial 16 finished with value: 0.9657023637855771 and parameters: {'max_depth': 7, 'learning_rate': 0.0483807679383628, 'reg_lambda': 2.253586439576864, 'min_child_weight': 50}. Best is trial 6 with value: 0.966751523767003.\n"
     ]
    },
    {
     "name": "stderr",
     "output_type": "stream",
     "text": [
      "[I 2024-10-16 17:23:05,252] Trial 17 finished with value: 0.9659923258129695 and parameters: {'max_depth': 10, 'learning_rate': 0.06977581495256693, 'reg_lambda': 0.18093962534766872, 'min_child_weight': 74}. Best is trial 6 with value: 0.966751523767003.\n"
     ]
    },
    {
     "name": "stderr",
     "output_type": "stream",
     "text": [
      "[I 2024-10-16 17:24:57,162] Trial 18 finished with value: 0.9661191137652295 and parameters: {'max_depth': 9, 'learning_rate': 0.03626677261157158, 'reg_lambda': 4.933504741907167, 'min_child_weight': 50}. Best is trial 6 with value: 0.966751523767003.\n"
     ]
    },
    {
     "name": "stderr",
     "output_type": "stream",
     "text": [
      "[I 2024-10-16 17:26:09,736] Trial 19 finished with value: 0.9656810055007004 and parameters: {'max_depth': 7, 'learning_rate': 0.05173645371349073, 'reg_lambda': 1.4655785164775275, 'min_child_weight': 63}. Best is trial 6 with value: 0.966751523767003.\n"
     ]
    },
    {
     "name": "stdout",
     "output_type": "stream",
     "text": [
      "Best Parameters: {'max_depth': 8, 'learning_rate': 0.05809987272179141, 'reg_lambda': 1.186729164320424, 'min_child_weight': 50}\n",
      "Best Score: 0.966751523767003\n",
      "Start the modelling\n"
     ]
    },
    {
     "name": "stdout",
     "output_type": "stream",
     "text": [
      "[0]\ttrain-mlogloss:1.78588\teval-mlogloss:1.79410\n"
     ]
    },
    {
     "name": "stdout",
     "output_type": "stream",
     "text": [
      "[100]\ttrain-mlogloss:0.05989\teval-mlogloss:0.15571\n"
     ]
    },
    {
     "name": "stdout",
     "output_type": "stream",
     "text": [
      "[200]\ttrain-mlogloss:0.01978\teval-mlogloss:0.11648\n"
     ]
    },
    {
     "name": "stdout",
     "output_type": "stream",
     "text": [
      "[300]\ttrain-mlogloss:0.01149\teval-mlogloss:0.10941\n"
     ]
    },
    {
     "name": "stdout",
     "output_type": "stream",
     "text": [
      "[400]\ttrain-mlogloss:0.00827\teval-mlogloss:0.10704\n"
     ]
    },
    {
     "name": "stdout",
     "output_type": "stream",
     "text": [
      "[500]\ttrain-mlogloss:0.00658\teval-mlogloss:0.10615\n"
     ]
    },
    {
     "name": "stdout",
     "output_type": "stream",
     "text": [
      "[600]\ttrain-mlogloss:0.00558\teval-mlogloss:0.10574\n"
     ]
    },
    {
     "name": "stdout",
     "output_type": "stream",
     "text": [
      "[700]\ttrain-mlogloss:0.00493\teval-mlogloss:0.10591\n"
     ]
    },
    {
     "name": "stdout",
     "output_type": "stream",
     "text": [
      "[800]\ttrain-mlogloss:0.00445\teval-mlogloss:0.10598\n"
     ]
    },
    {
     "name": "stdout",
     "output_type": "stream",
     "text": [
      "[900]\ttrain-mlogloss:0.00409\teval-mlogloss:0.10625\n"
     ]
    },
    {
     "name": "stdout",
     "output_type": "stream",
     "text": [
      "[1000]\ttrain-mlogloss:0.00381\teval-mlogloss:0.10646\n"
     ]
    },
    {
     "name": "stdout",
     "output_type": "stream",
     "text": [
      "[1100]\ttrain-mlogloss:0.00359\teval-mlogloss:0.10664\n"
     ]
    },
    {
     "name": "stdout",
     "output_type": "stream",
     "text": [
      "[1200]\ttrain-mlogloss:0.00340\teval-mlogloss:0.10682\n"
     ]
    },
    {
     "name": "stdout",
     "output_type": "stream",
     "text": [
      "[1300]\ttrain-mlogloss:0.00325\teval-mlogloss:0.10701\n"
     ]
    },
    {
     "name": "stdout",
     "output_type": "stream",
     "text": [
      "[1400]\ttrain-mlogloss:0.00312\teval-mlogloss:0.10731\n"
     ]
    },
    {
     "name": "stdout",
     "output_type": "stream",
     "text": [
      "[1500]\ttrain-mlogloss:0.00301\teval-mlogloss:0.10740\n"
     ]
    },
    {
     "name": "stdout",
     "output_type": "stream",
     "text": [
      "[1558]\ttrain-mlogloss:0.00295\teval-mlogloss:0.10762\n"
     ]
    },
    {
     "name": "stdout",
     "output_type": "stream",
     "text": [
      "[0]\ttrain-mlogloss:1.78472\teval-mlogloss:1.79218\n"
     ]
    },
    {
     "name": "stdout",
     "output_type": "stream",
     "text": [
      "[100]\ttrain-mlogloss:0.05999\teval-mlogloss:0.15012\n"
     ]
    },
    {
     "name": "stdout",
     "output_type": "stream",
     "text": [
      "[200]\ttrain-mlogloss:0.02028\teval-mlogloss:0.11274\n"
     ]
    },
    {
     "name": "stdout",
     "output_type": "stream",
     "text": [
      "[300]\ttrain-mlogloss:0.01164\teval-mlogloss:0.10538\n"
     ]
    },
    {
     "name": "stdout",
     "output_type": "stream",
     "text": [
      "[400]\ttrain-mlogloss:0.00828\teval-mlogloss:0.10309\n"
     ]
    },
    {
     "name": "stdout",
     "output_type": "stream",
     "text": [
      "[500]\ttrain-mlogloss:0.00658\teval-mlogloss:0.10227\n"
     ]
    },
    {
     "name": "stdout",
     "output_type": "stream",
     "text": [
      "[600]\ttrain-mlogloss:0.00554\teval-mlogloss:0.10229\n"
     ]
    },
    {
     "name": "stdout",
     "output_type": "stream",
     "text": [
      "[700]\ttrain-mlogloss:0.00488\teval-mlogloss:0.10244\n"
     ]
    },
    {
     "name": "stdout",
     "output_type": "stream",
     "text": [
      "[800]\ttrain-mlogloss:0.00440\teval-mlogloss:0.10259\n"
     ]
    },
    {
     "name": "stdout",
     "output_type": "stream",
     "text": [
      "[900]\ttrain-mlogloss:0.00405\teval-mlogloss:0.10293\n"
     ]
    },
    {
     "name": "stdout",
     "output_type": "stream",
     "text": [
      "[1000]\ttrain-mlogloss:0.00377\teval-mlogloss:0.10321\n"
     ]
    },
    {
     "name": "stdout",
     "output_type": "stream",
     "text": [
      "[1100]\ttrain-mlogloss:0.00356\teval-mlogloss:0.10339\n"
     ]
    },
    {
     "name": "stdout",
     "output_type": "stream",
     "text": [
      "[1200]\ttrain-mlogloss:0.00338\teval-mlogloss:0.10367\n"
     ]
    },
    {
     "name": "stdout",
     "output_type": "stream",
     "text": [
      "[1300]\ttrain-mlogloss:0.00322\teval-mlogloss:0.10405\n"
     ]
    },
    {
     "name": "stdout",
     "output_type": "stream",
     "text": [
      "[1400]\ttrain-mlogloss:0.00310\teval-mlogloss:0.10424\n"
     ]
    },
    {
     "name": "stdout",
     "output_type": "stream",
     "text": [
      "[1500]\ttrain-mlogloss:0.00299\teval-mlogloss:0.10456\n"
     ]
    },
    {
     "name": "stdout",
     "output_type": "stream",
     "text": [
      "[1600]\ttrain-mlogloss:0.00289\teval-mlogloss:0.10484\n"
     ]
    },
    {
     "name": "stdout",
     "output_type": "stream",
     "text": [
      "[1625]\ttrain-mlogloss:0.00287\teval-mlogloss:0.10495\n"
     ]
    },
    {
     "name": "stdout",
     "output_type": "stream",
     "text": [
      "[0]\ttrain-mlogloss:1.78538\teval-mlogloss:1.79093\n"
     ]
    },
    {
     "name": "stdout",
     "output_type": "stream",
     "text": [
      "[100]\ttrain-mlogloss:0.06188\teval-mlogloss:0.15035\n"
     ]
    },
    {
     "name": "stdout",
     "output_type": "stream",
     "text": [
      "[200]\ttrain-mlogloss:0.02108\teval-mlogloss:0.11319\n"
     ]
    },
    {
     "name": "stdout",
     "output_type": "stream",
     "text": [
      "[300]\ttrain-mlogloss:0.01200\teval-mlogloss:0.10585\n"
     ]
    },
    {
     "name": "stdout",
     "output_type": "stream",
     "text": [
      "[400]\ttrain-mlogloss:0.00855\teval-mlogloss:0.10413\n"
     ]
    },
    {
     "name": "stdout",
     "output_type": "stream",
     "text": [
      "[500]\ttrain-mlogloss:0.00676\teval-mlogloss:0.10355\n"
     ]
    },
    {
     "name": "stdout",
     "output_type": "stream",
     "text": [
      "[600]\ttrain-mlogloss:0.00569\teval-mlogloss:0.10313\n"
     ]
    },
    {
     "name": "stdout",
     "output_type": "stream",
     "text": [
      "[700]\ttrain-mlogloss:0.00498\teval-mlogloss:0.10324\n"
     ]
    },
    {
     "name": "stdout",
     "output_type": "stream",
     "text": [
      "[800]\ttrain-mlogloss:0.00447\teval-mlogloss:0.10336\n"
     ]
    },
    {
     "name": "stdout",
     "output_type": "stream",
     "text": [
      "[900]\ttrain-mlogloss:0.00411\teval-mlogloss:0.10360\n"
     ]
    },
    {
     "name": "stdout",
     "output_type": "stream",
     "text": [
      "[1000]\ttrain-mlogloss:0.00382\teval-mlogloss:0.10389\n"
     ]
    },
    {
     "name": "stdout",
     "output_type": "stream",
     "text": [
      "[1100]\ttrain-mlogloss:0.00360\teval-mlogloss:0.10418\n"
     ]
    },
    {
     "name": "stdout",
     "output_type": "stream",
     "text": [
      "[1200]\ttrain-mlogloss:0.00341\teval-mlogloss:0.10438\n"
     ]
    },
    {
     "name": "stdout",
     "output_type": "stream",
     "text": [
      "[1300]\ttrain-mlogloss:0.00326\teval-mlogloss:0.10471\n"
     ]
    },
    {
     "name": "stdout",
     "output_type": "stream",
     "text": [
      "[1400]\ttrain-mlogloss:0.00313\teval-mlogloss:0.10500\n"
     ]
    },
    {
     "name": "stdout",
     "output_type": "stream",
     "text": [
      "[1500]\ttrain-mlogloss:0.00302\teval-mlogloss:0.10532\n"
     ]
    },
    {
     "name": "stdout",
     "output_type": "stream",
     "text": [
      "[1600]\ttrain-mlogloss:0.00292\teval-mlogloss:0.10542\n"
     ]
    },
    {
     "name": "stdout",
     "output_type": "stream",
     "text": [
      "[1611]\ttrain-mlogloss:0.00291\teval-mlogloss:0.10542\n"
     ]
    },
    {
     "name": "stdout",
     "output_type": "stream",
     "text": [
      "[0]\ttrain-mlogloss:1.78359\teval-mlogloss:1.78928\n"
     ]
    },
    {
     "name": "stdout",
     "output_type": "stream",
     "text": [
      "[50]\ttrain-mlogloss:0.19054\teval-mlogloss:0.26144\n"
     ]
    },
    {
     "name": "stdout",
     "output_type": "stream",
     "text": [
      "[100]\ttrain-mlogloss:0.06178\teval-mlogloss:0.13962\n"
     ]
    },
    {
     "name": "stdout",
     "output_type": "stream",
     "text": [
      "[150]\ttrain-mlogloss:0.03298\teval-mlogloss:0.11320\n"
     ]
    },
    {
     "name": "stdout",
     "output_type": "stream",
     "text": [
      "[200]\ttrain-mlogloss:0.02166\teval-mlogloss:0.10254\n"
     ]
    },
    {
     "name": "stdout",
     "output_type": "stream",
     "text": [
      "[250]\ttrain-mlogloss:0.01554\teval-mlogloss:0.09722\n"
     ]
    },
    {
     "name": "stdout",
     "output_type": "stream",
     "text": [
      "[300]\ttrain-mlogloss:0.01199\teval-mlogloss:0.09444\n"
     ]
    },
    {
     "name": "stdout",
     "output_type": "stream",
     "text": [
      "[350]\ttrain-mlogloss:0.00978\teval-mlogloss:0.09306\n"
     ]
    },
    {
     "name": "stdout",
     "output_type": "stream",
     "text": [
      "[400]\ttrain-mlogloss:0.00825\teval-mlogloss:0.09221\n"
     ]
    },
    {
     "name": "stdout",
     "output_type": "stream",
     "text": [
      "[450]\ttrain-mlogloss:0.00716\teval-mlogloss:0.09176\n"
     ]
    },
    {
     "name": "stdout",
     "output_type": "stream",
     "text": [
      "[500]\ttrain-mlogloss:0.00634\teval-mlogloss:0.09157\n"
     ]
    },
    {
     "name": "stdout",
     "output_type": "stream",
     "text": [
      "[550]\ttrain-mlogloss:0.00571\teval-mlogloss:0.09143\n"
     ]
    },
    {
     "name": "stdout",
     "output_type": "stream",
     "text": [
      "[600]\ttrain-mlogloss:0.00521\teval-mlogloss:0.09143\n"
     ]
    },
    {
     "name": "stdout",
     "output_type": "stream",
     "text": [
      "[636]\ttrain-mlogloss:0.00492\teval-mlogloss:0.09158\n"
     ]
    },
    {
     "name": "stdout",
     "output_type": "stream",
     "text": [
      "\n",
      "Classification Report on Test Set:\n",
      "              precision    recall  f1-score   support\n",
      "\n",
      "           0       0.97      0.95      0.96     13824\n",
      "           1       0.96      0.95      0.96     12382\n",
      "           2       0.96      0.97      0.96      9003\n",
      "           3       0.98      0.98      0.98      8310\n",
      "           4       0.97      0.98      0.98      9441\n",
      "           5       0.97      0.97      0.97      8912\n",
      "           6       0.98      0.99      0.99     10548\n",
      "\n",
      "    accuracy                           0.97     72420\n",
      "   macro avg       0.97      0.97      0.97     72420\n",
      "weighted avg       0.97      0.97      0.97     72420\n",
      "\n"
     ]
    },
    {
     "data": {
      "image/png": "[encoded data removed]",
      "text/plain": [
       "<Figure size 640x480 with 1 Axes>"
      ]
     },
     "metadata": {},
     "output_type": "display_data"
    },
    {
     "data": {
      "image/png": "[encoded data removed]",
      "text/plain": [
       "<Figure size 640x480 with 2 Axes>"
      ]
     },
     "metadata": {},
     "output_type": "display_data"
    },
    {
     "name": "stdout",
     "output_type": "stream",
     "text": [
      "{'average_accuracy': 0.965942818623835, 'average_f1_macro': 0.9670538183098394, 'average_f1_micro': 0.965942818623835, 'average_auc': 0.998772281125114, 'average_acc_kelas_generatif': 0.9817467003650661, 'average_acc_fase_padi': 0.9673284445239373}\n",
      "{'val_accuracy': 0.9693040596520298, 'val_f1_macro': 0.970398924095045, 'val_f1_micro': 0.9693040596520298, 'val_auc': 0.9990237302143079, 'val_acc_kelas_generatif': 0.9847172081829122, 'val_acc_fase_padi': 0.9696187653311529, 'val_relative_acc': 99.7799849132512}\n",
      "=============================================================================\n"
     ]
    }
   ],
   "source": [
    "from sklearn.preprocessing import StandardScaler, LabelEncoder\n",
    "df['observation']=df['observation'].apply(lambda y: int(y))\n",
    "dict_report={}\n",
    "for i in np.sort(df.cluster_data.unique()):\n",
    "    print('=============================================================================')\n",
    "    print('CLUSTER: ', i)\n",
    "    df_x = df.query('cluster_data==@i')\n",
    "    sns.countplot(x='observation', hue='cluster_data', data=df_x,palette=sns.color_palette(\"Set2\"))\n",
    "    plt.savefig(f\"/data/ksa/05_Modelling/picture/{kdprov}_distplot_cluster_{i}.png\", dpi=300, bbox_inches='tight')\n",
    "    X_train, X_test, y_train, y_test = get_train_test(df_x, 0.7)\n",
    "    # Encode the labels\n",
    "    label_encoder = LabelEncoder()\n",
    "    y_train_encoded = label_encoder.fit_transform(y_train)\n",
    "    y_test_encoded = label_encoder.transform(y_test)\n",
    "    \n",
    "    # Output the unique encoded labels and the mapping\n",
    "    print(np.unique(y_train_encoded))\n",
    "    class_mapping = dict(zip(label_encoder.classes_, label_encoder.transform(label_encoder.classes_)))\n",
    "    print(\"Mapping of original to encoded classes:\", class_mapping)\n",
    "    \n",
    "    # Create an Optuna study and optimize the objective function\n",
    "    print('Build Best Parameter using Optuna-Hyperparameter Tuning')\n",
    "    study = optuna.create_study(direction='maximize')  # 'maximize' because we are optimizing accuracy\n",
    "    study.optimize(lambda trial: objective(trial, X_train, y_train_encoded), n_trials=20)  # Run for 50 trials\n",
    "    # Print the best parameters and the best score\n",
    "    print(f\"Best Parameters: {study.best_params}\")\n",
    "    print(f\"Best Score: {study.best_value}\")\n",
    "\n",
    "    print('Start the modelling')\n",
    "    model0, training_metrics0, validation_metrics0, report0, cm0 = evaluate_model(\n",
    "        X_train, y_train_encoded, X_test, y_test_encoded,cluster=i,best_params=study.best_params)\n",
    "    \n",
    "    dict_report[i]={'model':model0,\n",
    "                    'training_metrics':training_metrics0,\n",
    "                    'validation_metrics':validation_metrics0,\n",
    "                    'reports':report0,\n",
    "                    'cm':cm0,\n",
    "                    'params':study.best_params}\n",
    "    # Print the training and validation metrics\n",
    "    print(training_metrics0)\n",
    "    print(validation_metrics0)\n",
    "    print('=============================================================================')\n",
    "\n",
    "\n"
   ]
  },
  {
   "cell_type": "code",
   "execution_count": 11,
   "id": "26743d1e-45c9-4c26-81de-46e9f11f1698",
   "metadata": {
    "execution": {
     "iopub.execute_input": "2024-10-16T10:28:22.677370Z",
     "iopub.status.busy": "2024-10-16T10:28:22.676623Z",
     "iopub.status.idle": "2024-10-16T10:28:23.273815Z",
     "shell.execute_reply": "2024-10-16T10:28:23.272491Z"
    },
    "papermill": {
     "duration": 0.63682,
     "end_time": "2024-10-16T10:28:23.276396",
     "exception": false,
     "start_time": "2024-10-16T10:28:22.639576",
     "status": "completed"
    },
    "tags": []
   },
   "outputs": [],
   "source": [
    "with open(f'/data/ksa/05_Modelling/model/xgboost{kdprov}_v2.pkl','wb') as file:\n",
    "    pickle.dump(dict_report,file)"
   ]
  },
  {
   "cell_type": "code",
   "execution_count": 3,
   "id": "76b68ced-340e-48b6-a01f-a22c31637ad8",
   "metadata": {
    "papermill": {
     "duration": 0.035786,
     "end_time": "2024-10-16T10:28:23.347843",
     "exception": false,
     "start_time": "2024-10-16T10:28:23.312057",
     "status": "completed"
    },
    "tags": []
   },
   "outputs": [],
   "source": [
    "with open(\"/data/ksa/05_Modelling/model/xgboost16_v2.pkl\", 'rb') as f:\n",
    "    dict_report = pickle.load(f)"
   ]
  },
  {
   "cell_type": "code",
   "execution_count": 4,
   "id": "67da8159-8b6e-47cf-a9be-100521c44e63",
   "metadata": {},
   "outputs": [
    {
     "data": {
      "text/plain": [
       "{0: {'model': <xgboost.core.Booster at 0x7f435c63db10>,\n",
       "  'training_metrics': {'average_accuracy': 0.8199170539149553,\n",
       "   'average_f1_macro': 0.8102704443209419,\n",
       "   'average_f1_micro': 0.8199170539149553,\n",
       "   'average_auc': 0.9655707423313302,\n",
       "   'average_acc_kelas_generatif': 0.9126802367479977,\n",
       "   'average_acc_fase_padi': 0.8972269055887452},\n",
       "  'validation_metrics': {'val_accuracy': 0.8210630005567691,\n",
       "   'val_f1_macro': 0.8117666077077271,\n",
       "   'val_f1_micro': 0.8210630005567691,\n",
       "   'val_auc': 0.9663542619295706,\n",
       "   'val_acc_kelas_generatif': 0.9085734000345006,\n",
       "   'val_acc_fase_padi': 0.9052348774729301,\n",
       "   'val_relative_acc': 99.52379221345741},\n",
       "  'reports': '              precision    recall  f1-score   support\\n\\n           0       0.85      0.88      0.87     10133\\n           1       0.88      0.92      0.90      8637\\n           2       0.88      0.91      0.89      4765\\n           3       0.90      0.91      0.90      5797\\n           4       0.87      0.87      0.87      5367\\n           5       0.67      0.56      0.61      5637\\n           6       0.64      0.63      0.63      6362\\n\\n    accuracy                           0.82     46698\\n   macro avg       0.81      0.81      0.81     46698\\nweighted avg       0.82      0.82      0.82     46698\\n',\n",
       "  'cm': array([[8917,   66,    3,   21,  159,  538,  429],\n",
       "         [  55, 7948,  243,    2,    0,  268,  121],\n",
       "         [   7,  155, 4329,  127,    4,   14,  129],\n",
       "         [  21,    9,  118, 5267,  173,   21,  188],\n",
       "         [ 146,    8,    3,  169, 4694,   51,  296],\n",
       "         [ 590,  541,   38,   32,  118, 3177, 1141],\n",
       "         [ 720,  320,  199,  234,  220,  659, 4010]]),\n",
       "  'params': {'max_depth': 10,\n",
       "   'learning_rate': 0.0586179676681119,\n",
       "   'reg_lambda': 4.9798041164041305,\n",
       "   'min_child_weight': 50}},\n",
       " 1: {'model': <xgboost.core.Booster at 0x7f436c2cdc60>,\n",
       "  'training_metrics': {'average_accuracy': 0.879082305886027,\n",
       "   'average_f1_macro': 0.8559766690628221,\n",
       "   'average_f1_micro': 0.879082305886027,\n",
       "   'average_auc': 0.9749412689179718,\n",
       "   'average_acc_kelas_generatif': 0.9588187009279086,\n",
       "   'average_acc_fase_padi': 0.8998291726899668},\n",
       "  'validation_metrics': {'val_accuracy': 0.8828336594911937,\n",
       "   'val_f1_macro': 0.8626582464981575,\n",
       "   'val_f1_micro': 0.8828336594911937,\n",
       "   'val_auc': 0.9771072732186991,\n",
       "   'val_acc_kelas_generatif': 0.9647082823337413,\n",
       "   'val_acc_fase_padi': 0.9066224743450826,\n",
       "   'val_relative_acc': 99.16226761533164},\n",
       "  'reports': '              precision    recall  f1-score   support\\n\\n           0       0.90      0.92      0.91     12676\\n           1       0.93      0.95      0.94      9796\\n           2       0.93      0.95      0.94      5341\\n           3       0.95      0.96      0.96      9804\\n           4       0.84      0.72      0.77      6437\\n           5       0.66      0.56      0.61      6513\\n           6       0.87      0.95      0.91     13308\\n\\n    accuracy                           0.88     63875\\n   macro avg       0.87      0.86      0.86     63875\\nweighted avg       0.88      0.88      0.88     63875\\n',\n",
       "  'cm': array([[11623,    67,     4,    29,   200,   683,    70],\n",
       "         [   43,  9300,   190,     5,     1,   249,     8],\n",
       "         [    4,   134,  5079,    82,     7,    33,     2],\n",
       "         [   36,     6,    97,  9458,   183,    24,     0],\n",
       "         [  387,    48,    22,   230,  4611,   474,   665],\n",
       "         [  792,   466,    43,   103,   341,  3670,  1098],\n",
       "         [   75,    12,     2,     4,   133,   432, 12650]]),\n",
       "  'params': {'max_depth': 7,\n",
       "   'learning_rate': 0.03648175189823444,\n",
       "   'reg_lambda': 1.8392711962476578,\n",
       "   'min_child_weight': 77}},\n",
       " 2: {'model': <xgboost.core.Booster at 0x7f436c2cc6d0>,\n",
       "  'training_metrics': {'average_accuracy': 0.773365172208802,\n",
       "   'average_f1_macro': 0.7384820996104681,\n",
       "   'average_f1_micro': 0.773365172208802,\n",
       "   'average_auc': 0.9517656107470457,\n",
       "   'average_acc_kelas_generatif': 0.6274331719336447,\n",
       "   'average_acc_fase_padi': 0.664528543938422},\n",
       "  'validation_metrics': {'val_accuracy': 0.7799622219652288,\n",
       "   'val_f1_macro': 0.7492831843860305,\n",
       "   'val_f1_micro': 0.7799622219652288,\n",
       "   'val_auc': 0.9567786827303767,\n",
       "   'val_acc_kelas_generatif': 0.6381196581196581,\n",
       "   'val_acc_fase_padi': 0.6826553051126993,\n",
       "   'val_relative_acc': 96.06410862372707},\n",
       "  'reports': '              precision    recall  f1-score   support\\n\\n           0       0.86      0.87      0.87     12194\\n           1       0.84      0.89      0.87      4445\\n           2       0.70      0.62      0.66      5642\\n           3       0.71      0.64      0.67      5850\\n           4       0.68      0.63      0.65      5891\\n           5       0.71      0.62      0.67      5653\\n           6       0.80      0.94      0.86     12207\\n\\n    accuracy                           0.78     51882\\n   macro avg       0.76      0.74      0.75     51882\\nweighted avg       0.77      0.78      0.78     51882\\n',\n",
       "  'cm': array([[10622,    34,   122,    91,   628,   606,    91],\n",
       "         [   11,  3975,   179,    38,     2,   240,     0],\n",
       "         [  220,   275,  3497,   667,   121,   153,   709],\n",
       "         [  229,    19,   640,  3733,   628,    86,   515],\n",
       "         [  547,    25,   168,   529,  3696,   156,   770],\n",
       "         [  517,   404,   209,    95,   209,  3529,   690],\n",
       "         [  157,     7,   161,   102,   186,   180, 11414]]),\n",
       "  'params': {'max_depth': 10,\n",
       "   'learning_rate': 0.043425812520620624,\n",
       "   'reg_lambda': 4.627311155128478,\n",
       "   'min_child_weight': 50}},\n",
       " 3: {'model': <xgboost.core.Booster at 0x7f436c2cd5a0>,\n",
       "  'training_metrics': {'average_accuracy': 0.906207861359894,\n",
       "   'average_f1_macro': 0.9013060411749709,\n",
       "   'average_f1_micro': 0.906207861359894,\n",
       "   'average_auc': 0.9886582482324971,\n",
       "   'average_acc_kelas_generatif': 0.9437511899200582,\n",
       "   'average_acc_fase_padi': 0.9496009544056471},\n",
       "  'validation_metrics': {'val_accuracy': 0.9127827963866016,\n",
       "   'val_f1_macro': 0.9089535041023575,\n",
       "   'val_f1_micro': 0.9127827963866016,\n",
       "   'val_auc': 0.9909863400060598,\n",
       "   'val_acc_kelas_generatif': 0.9470965273127332,\n",
       "   'val_acc_fase_padi': 0.9520302857439196,\n",
       "   'val_relative_acc': 99.92229992229993},\n",
       "  'reports': '              precision    recall  f1-score   support\\n\\n           0       0.88      0.87      0.88     12816\\n           1       0.95      0.97      0.96     10671\\n           2       0.93      0.94      0.94      6606\\n           3       0.93      0.95      0.94     10453\\n           4       0.93      0.95      0.94     10836\\n           5       0.93      0.95      0.94      4497\\n           6       0.80      0.73      0.77      6666\\n\\n    accuracy                           0.91     62545\\n   macro avg       0.91      0.91      0.91     62545\\nweighted avg       0.91      0.91      0.91     62545\\n',\n",
       "  'cm': array([[11193,   118,    48,    45,   238,   152,  1022],\n",
       "         [   78, 10318,   123,     9,     7,    78,    58],\n",
       "         [   20,   121,  6218,   240,     0,     1,     6],\n",
       "         [   27,     5,   235,  9900,   226,     1,    59],\n",
       "         [  197,    10,     0,   258, 10280,    13,    78],\n",
       "         [   59,   115,     0,     0,    29,  4284,    10],\n",
       "         [ 1144,   137,    47,   148,   223,    70,  4897]]),\n",
       "  'params': {'max_depth': 6,\n",
       "   'learning_rate': 0.09983000833217476,\n",
       "   'reg_lambda': 1.259048447578058,\n",
       "   'min_child_weight': 55}},\n",
       " 4: {'model': <xgboost.core.Booster at 0x7f436c2cd900>,\n",
       "  'training_metrics': {'average_accuracy': 0.965942818623835,\n",
       "   'average_f1_macro': 0.9670538183098394,\n",
       "   'average_f1_micro': 0.965942818623835,\n",
       "   'average_auc': 0.998772281125114,\n",
       "   'average_acc_kelas_generatif': 0.9817467003650661,\n",
       "   'average_acc_fase_padi': 0.9673284445239373},\n",
       "  'validation_metrics': {'val_accuracy': 0.9693040596520298,\n",
       "   'val_f1_macro': 0.970398924095045,\n",
       "   'val_f1_micro': 0.9693040596520298,\n",
       "   'val_auc': 0.9990237302143079,\n",
       "   'val_acc_kelas_generatif': 0.9847172081829122,\n",
       "   'val_acc_fase_padi': 0.9696187653311529,\n",
       "   'val_relative_acc': 99.7799849132512},\n",
       "  'reports': '              precision    recall  f1-score   support\\n\\n           0       0.97      0.95      0.96     13824\\n           1       0.96      0.95      0.96     12382\\n           2       0.96      0.97      0.96      9003\\n           3       0.98      0.98      0.98      8310\\n           4       0.97      0.98      0.98      9441\\n           5       0.97      0.97      0.97      8912\\n           6       0.98      0.99      0.99     10548\\n\\n    accuracy                           0.97     72420\\n   macro avg       0.97      0.97      0.97     72420\\nweighted avg       0.97      0.97      0.97     72420\\n',\n",
       "  'cm': array([[13072,   162,    50,    20,   132,   137,   251],\n",
       "         [  127, 11786,   311,    20,     4,   133,     1],\n",
       "         [   33,   175,  8703,    55,    37,     0,     0],\n",
       "         [   20,    10,    35,  8183,    57,     5,     0],\n",
       "         [   65,     7,     7,    60,  9275,    27,     0],\n",
       "         [   78,   101,     4,    11,    29,  8689,     0],\n",
       "         [   59,     0,     0,     0,     0,     0, 10489]]),\n",
       "  'params': {'max_depth': 8,\n",
       "   'learning_rate': 0.05809987272179141,\n",
       "   'reg_lambda': 1.186729164320424,\n",
       "   'min_child_weight': 50}}}"
      ]
     },
     "execution_count": 4,
     "metadata": {},
     "output_type": "execute_result"
    }
   ],
   "source": [
    "dict_report"
   ]
  },
  {
   "cell_type": "code",
   "execution_count": 6,
   "id": "8cdccf6d-6b05-4b9f-b643-db405bd779e5",
   "metadata": {},
   "outputs": [],
   "source": [
    "df = pd.DataFrame()\n",
    "for cluster_id, metrics in dict_report.items():\n",
    "    # Training metrics\n",
    "    df.loc[cluster_id, 'ACCURACY'] = metrics['training_metrics']['average_accuracy']\n",
    "    df.loc[cluster_id, 'F1 MACRO'] = metrics['training_metrics']['average_f1_macro']\n",
    "    df.loc[cluster_id, 'F1 MICRO'] = metrics['training_metrics']['average_f1_micro']\n",
    "    df.loc[cluster_id, 'AUC'] = metrics['training_metrics']['average_auc']\n",
    "    df.loc[cluster_id, 'ACC [GENERATIVE]'] = metrics['training_metrics']['average_acc_kelas_generatif']\n",
    "    df.loc[cluster_id, '[FASE PADI]'] = metrics['training_metrics']['average_acc_fase_padi']\n",
    "    \n",
    "    # Validation metrics\n",
    "    df.loc[cluster_id, 'VAL ACCURACY'] = metrics['validation_metrics']['val_accuracy']\n",
    "    df.loc[cluster_id, 'VAL F1 MACRO'] = metrics['validation_metrics']['val_f1_macro']\n",
    "    df.loc[cluster_id, 'VAL F1 MICRO'] = metrics['validation_metrics']['val_f1_micro']\n",
    "    df.loc[cluster_id, 'VAL AUC'] = metrics['validation_metrics']['val_auc']\n",
    "    df.loc[cluster_id, 'VAL ACC [GENERATIVE]'] = metrics['validation_metrics']['val_acc_kelas_generatif']\n",
    "    df.loc[cluster_id, 'VAL ACC [FASE PADI]'] = metrics['validation_metrics']['val_acc_fase_padi']\n",
    "    df.loc[cluster_id, 'RELATIVE ACCURACY'] = metrics['validation_metrics']['val_relative_acc']\n",
    "\n",
    "df.to_csv(\"Progress16.csv\")"
   ]
  }
 ],
 "metadata": {
  "kernelspec": {
   "display_name": "Python 3 (ipykernel)",
   "language": "python",
   "name": "python3"
  },
  "language_info": {
   "codemirror_mode": {
    "name": "ipython",
    "version": 3
   },
   "file_extension": ".py",
   "mimetype": "text/x-python",
   "name": "python",
   "nbconvert_exporter": "python",
   "pygments_lexer": "ipython3",
   "version": "3.10.14"
  },
  "papermill": {
   "default_parameters": {},
   "duration": 7046.321622,
   "end_time": "2024-10-16T10:28:24.621829",
   "environment_variables": {},
   "exception": null,
   "input_path": "XGBOOST Base model.ipynb",
   "output_path": "XGBOOST_16.ipynb",
   "parameters": {
    "kdprov": 16
   },
   "start_time": "2024-10-16T08:30:58.300207",
   "version": "2.6.0"
  }
 },
 "nbformat": 4,
 "nbformat_minor": 5
}
