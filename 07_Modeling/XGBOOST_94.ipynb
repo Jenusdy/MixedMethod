{
 "cells": [
  {
   "cell_type": "code",
   "execution_count": 1,
   "id": "d37f5160-5e12-40a3-8dc9-2d929bd94327",
   "metadata": {
    "papermill": {
     "duration": 4.308228,
     "end_time": "2024-10-24T02:36:00.639685",
     "exception": false,
     "start_time": "2024-10-24T02:35:56.331457",
     "status": "completed"
    },
    "tags": []
   },
   "outputs": [
    {
     "name": "stderr",
     "output_type": "stream",
     "text": [
      "/data/home/arifhandoyo/.local/lib/python3.10/site-packages/tqdm/auto.py:21: TqdmWarning: IProgress not found. Please update jupyter and ipywidgets. See https://ipywidgets.readthedocs.io/en/stable/user_install.html\n",
      "  from .autonotebook import tqdm as notebook_tqdm\n"
     ]
    }
   ],
   "source": [
    "import pandas as pd\n",
    "import geopandas as gpd\n",
    "import numpy as np\n",
    "import matplotlib.pyplot as plt\n",
    "import seaborn as sns\n",
    "import os\n",
    "from glob import glob\n",
    "import polars as pl\n",
    "import xgboost as xgb\n",
    "import optuna\n",
    "from sklearn.model_selection import StratifiedKFold, cross_val_score\n",
    "from sklearn.metrics import accuracy_score\n",
    "from sklearn.model_selection import train_test_split, cross_validate\n",
    "from sklearn.metrics import classification_report, confusion_matrix, ConfusionMatrixDisplay, accuracy_score, make_scorer, f1_score, roc_auc_score\n",
    "from sklearn.preprocessing import LabelEncoder\n",
    "import warnings\n",
    "\n",
    "# Suppress warnings globally\n",
    "warnings.filterwarnings(\"ignore\", category=UserWarning)\n",
    "warnings.filterwarnings(\"ignore\", category=DeprecationWarning)\n",
    "import pickle\n",
    "import warnings\n",
    "warnings.simplefilter(action='ignore', category=FutureWarning)\n",
    "warnings.simplefilter(action='ignore', category=pd.errors.SettingWithCopyWarning)\n",
    "from collections import Counter\n",
    "import numpy as np\n",
    "warnings.filterwarnings(\"ignore\", category=RuntimeWarning)"
   ]
  },
  {
   "cell_type": "code",
   "execution_count": 2,
   "id": "1164ac8a-4c5a-456c-a6c9-4e3f8f1fff85",
   "metadata": {
    "papermill": {
     "duration": 0.01291,
     "end_time": "2024-10-24T02:36:00.656301",
     "exception": false,
     "start_time": "2024-10-24T02:36:00.643391",
     "status": "completed"
    },
    "tags": []
   },
   "outputs": [],
   "source": [
    "def get_train_test(df, test_size):\n",
    "    # Make X and Y dataset\n",
    "    y = df.observation\n",
    "    print(y.unique())\n",
    "    X = df.loc[:,'VH_30':'VH_0']\n",
    "    X['nth'] = df.loc[:,'nth']\n",
    "    X['nth'] = X.nth.astype('category')\n",
    "    X_train, X_test, y_train, y_test = train_test_split(X, y, test_size=test_size, random_state=1234, stratify=y)\n",
    "    return X_train, X_test, y_train, y_test"
   ]
  },
  {
   "cell_type": "code",
   "execution_count": 3,
   "id": "02aaee39-f4fe-424f-a54a-71ae90874e0c",
   "metadata": {
    "papermill": {
     "duration": 0.012443,
     "end_time": "2024-10-24T02:36:00.672097",
     "exception": false,
     "start_time": "2024-10-24T02:36:00.659654",
     "status": "completed"
    },
    "tags": []
   },
   "outputs": [],
   "source": [
    "def akurasi_kelas_generatif(y_true, y_pred):\n",
    "    # Calculate accuracy specifically for class 3\n",
    "    class_3_mask = (y_true == 3)\n",
    "    if np.any(class_3_mask):  # Check if class 3 is present in the true labels\n",
    "        return accuracy_score(y_true[class_3_mask], y_pred[class_3_mask])\n",
    "    else:\n",
    "        return 0.0  # Return 0 if class 3 is not present in the true labels\n",
    "\n",
    "def akurasi_fase_padi(y_true, y_pred):\n",
    "    # Calculate accuracy specifically for classes 1, 2, 3, and 4\n",
    "    class_1234_mask = (y_true >= 1) & (y_true <= 4)\n",
    "    if np.any(class_1234_mask):  # Check if classes 1,2,3,4 are present in the true labels\n",
    "        return accuracy_score(y_true[class_1234_mask], y_pred[class_1234_mask])\n",
    "    else:\n",
    "        return 0.0  # Return 0 if none of the classes 0-3 are present in the true labels"
   ]
  },
  {
   "cell_type": "code",
   "execution_count": 4,
   "id": "9bc8ab03-1717-47d9-95ea-75e3db819b06",
   "metadata": {
    "editable": true,
    "papermill": {
     "duration": 0.009763,
     "end_time": "2024-10-24T02:36:00.685018",
     "exception": false,
     "start_time": "2024-10-24T02:36:00.675255",
     "status": "completed"
    },
    "slideshow": {
     "slide_type": ""
    },
    "tags": [
     "parameters"
    ]
   },
   "outputs": [],
   "source": [
    "kdprov='32'"
   ]
  },
  {
   "cell_type": "code",
   "execution_count": 5,
   "id": "c9fdbf2a",
   "metadata": {
    "papermill": {
     "duration": 0.009042,
     "end_time": "2024-10-24T02:36:00.697347",
     "exception": false,
     "start_time": "2024-10-24T02:36:00.688305",
     "status": "completed"
    },
    "tags": [
     "injected-parameters"
    ]
   },
   "outputs": [],
   "source": [
    "# Parameters\n",
    "kdprov = 94\n"
   ]
  },
  {
   "cell_type": "code",
   "execution_count": 6,
   "id": "7e0bd5e8-90ad-4dac-938b-2892a96e6ea4",
   "metadata": {
    "editable": true,
    "papermill": {
     "duration": 0.139813,
     "end_time": "2024-10-24T02:36:00.841977",
     "exception": false,
     "start_time": "2024-10-24T02:36:00.702164",
     "status": "completed"
    },
    "slideshow": {
     "slide_type": ""
    },
    "tags": []
   },
   "outputs": [
    {
     "name": "stdout",
     "output_type": "stream",
     "text": [
      "(39895, 44)\n"
     ]
    },
    {
     "data": {
      "text/html": [
       "<div>\n",
       "<style scoped>\n",
       "    .dataframe tbody tr th:only-of-type {\n",
       "        vertical-align: middle;\n",
       "    }\n",
       "\n",
       "    .dataframe tbody tr th {\n",
       "        vertical-align: top;\n",
       "    }\n",
       "\n",
       "    .dataframe thead th {\n",
       "        text-align: right;\n",
       "    }\n",
       "</style>\n",
       "<table border=\"1\" class=\"dataframe\">\n",
       "  <thead>\n",
       "    <tr style=\"text-align: right;\">\n",
       "      <th></th>\n",
       "      <th>idpoint</th>\n",
       "      <th>idsubsegment</th>\n",
       "      <th>idsegment</th>\n",
       "      <th>nth</th>\n",
       "      <th>periode</th>\n",
       "      <th>observation</th>\n",
       "      <th>class</th>\n",
       "      <th>MGRS</th>\n",
       "      <th>VH_30</th>\n",
       "      <th>VH_29</th>\n",
       "      <th>...</th>\n",
       "      <th>VH_4</th>\n",
       "      <th>VH_3</th>\n",
       "      <th>VH_2</th>\n",
       "      <th>VH_1</th>\n",
       "      <th>VH_0</th>\n",
       "      <th>idkabkota</th>\n",
       "      <th>cluster_data</th>\n",
       "      <th>Sigma0VH_variance</th>\n",
       "      <th>winner</th>\n",
       "      <th>prior</th>\n",
       "    </tr>\n",
       "  </thead>\n",
       "  <tbody>\n",
       "    <tr>\n",
       "      <th>0</th>\n",
       "      <td>942601104A1#03</td>\n",
       "      <td>942601104A1</td>\n",
       "      <td>942601104</td>\n",
       "      <td>1</td>\n",
       "      <td>2022_03</td>\n",
       "      <td>6</td>\n",
       "      <td>NP</td>\n",
       "      <td>53MPT</td>\n",
       "      <td>-14.776987</td>\n",
       "      <td>-15.182467</td>\n",
       "      <td>...</td>\n",
       "      <td>-13.212063</td>\n",
       "      <td>-14.294167</td>\n",
       "      <td>-14.038715</td>\n",
       "      <td>-16.208555</td>\n",
       "      <td>-14.420630</td>\n",
       "      <td>9426</td>\n",
       "      <td>0</td>\n",
       "      <td>0.866393</td>\n",
       "      <td>R15C7</td>\n",
       "      <td>0.822281</td>\n",
       "    </tr>\n",
       "    <tr>\n",
       "      <th>1</th>\n",
       "      <td>942601104A1#05</td>\n",
       "      <td>942601104A1</td>\n",
       "      <td>942601104</td>\n",
       "      <td>1</td>\n",
       "      <td>2022_03</td>\n",
       "      <td>6</td>\n",
       "      <td>NP</td>\n",
       "      <td>53MPT</td>\n",
       "      <td>-15.166569</td>\n",
       "      <td>-14.831324</td>\n",
       "      <td>...</td>\n",
       "      <td>-14.706003</td>\n",
       "      <td>-14.648756</td>\n",
       "      <td>-13.807638</td>\n",
       "      <td>-15.991085</td>\n",
       "      <td>-15.009001</td>\n",
       "      <td>9426</td>\n",
       "      <td>0</td>\n",
       "      <td>0.866393</td>\n",
       "      <td>R15C7</td>\n",
       "      <td>0.822281</td>\n",
       "    </tr>\n",
       "    <tr>\n",
       "      <th>2</th>\n",
       "      <td>942601104A1#11</td>\n",
       "      <td>942601104A1</td>\n",
       "      <td>942601104</td>\n",
       "      <td>1</td>\n",
       "      <td>2022_03</td>\n",
       "      <td>6</td>\n",
       "      <td>NP</td>\n",
       "      <td>53MPT</td>\n",
       "      <td>-17.008646</td>\n",
       "      <td>-16.666145</td>\n",
       "      <td>...</td>\n",
       "      <td>-15.382391</td>\n",
       "      <td>-15.002567</td>\n",
       "      <td>-13.984061</td>\n",
       "      <td>-15.684948</td>\n",
       "      <td>-15.577260</td>\n",
       "      <td>9426</td>\n",
       "      <td>0</td>\n",
       "      <td>0.866393</td>\n",
       "      <td>R13C14</td>\n",
       "      <td>0.708233</td>\n",
       "    </tr>\n",
       "    <tr>\n",
       "      <th>3</th>\n",
       "      <td>942601104A1#12</td>\n",
       "      <td>942601104A1</td>\n",
       "      <td>942601104</td>\n",
       "      <td>1</td>\n",
       "      <td>2022_03</td>\n",
       "      <td>6</td>\n",
       "      <td>NP</td>\n",
       "      <td>53MPT</td>\n",
       "      <td>-16.779637</td>\n",
       "      <td>-16.071871</td>\n",
       "      <td>...</td>\n",
       "      <td>-14.780792</td>\n",
       "      <td>-15.104682</td>\n",
       "      <td>-14.952440</td>\n",
       "      <td>-16.174284</td>\n",
       "      <td>-15.360878</td>\n",
       "      <td>9426</td>\n",
       "      <td>0</td>\n",
       "      <td>0.866393</td>\n",
       "      <td>R3C7</td>\n",
       "      <td>0.665882</td>\n",
       "    </tr>\n",
       "    <tr>\n",
       "      <th>4</th>\n",
       "      <td>942601104A1#14</td>\n",
       "      <td>942601104A1</td>\n",
       "      <td>942601104</td>\n",
       "      <td>1</td>\n",
       "      <td>2022_03</td>\n",
       "      <td>6</td>\n",
       "      <td>NP</td>\n",
       "      <td>53MPT</td>\n",
       "      <td>-14.387767</td>\n",
       "      <td>-14.195407</td>\n",
       "      <td>...</td>\n",
       "      <td>-15.074583</td>\n",
       "      <td>-14.689997</td>\n",
       "      <td>-15.340458</td>\n",
       "      <td>-14.071941</td>\n",
       "      <td>-14.686443</td>\n",
       "      <td>9426</td>\n",
       "      <td>0</td>\n",
       "      <td>0.866393</td>\n",
       "      <td>R14C14</td>\n",
       "      <td>0.831658</td>\n",
       "    </tr>\n",
       "  </tbody>\n",
       "</table>\n",
       "<p>5 rows × 44 columns</p>\n",
       "</div>"
      ],
      "text/plain": [
       "          idpoint idsubsegment  idsegment  nth  periode  observation class  \\\n",
       "0  942601104A1#03  942601104A1  942601104    1  2022_03            6    NP   \n",
       "1  942601104A1#05  942601104A1  942601104    1  2022_03            6    NP   \n",
       "2  942601104A1#11  942601104A1  942601104    1  2022_03            6    NP   \n",
       "3  942601104A1#12  942601104A1  942601104    1  2022_03            6    NP   \n",
       "4  942601104A1#14  942601104A1  942601104    1  2022_03            6    NP   \n",
       "\n",
       "    MGRS      VH_30      VH_29  ...       VH_4       VH_3       VH_2  \\\n",
       "0  53MPT -14.776987 -15.182467  ... -13.212063 -14.294167 -14.038715   \n",
       "1  53MPT -15.166569 -14.831324  ... -14.706003 -14.648756 -13.807638   \n",
       "2  53MPT -17.008646 -16.666145  ... -15.382391 -15.002567 -13.984061   \n",
       "3  53MPT -16.779637 -16.071871  ... -14.780792 -15.104682 -14.952440   \n",
       "4  53MPT -14.387767 -14.195407  ... -15.074583 -14.689997 -15.340458   \n",
       "\n",
       "        VH_1       VH_0  idkabkota  cluster_data  Sigma0VH_variance  winner  \\\n",
       "0 -16.208555 -14.420630       9426             0           0.866393   R15C7   \n",
       "1 -15.991085 -15.009001       9426             0           0.866393   R15C7   \n",
       "2 -15.684948 -15.577260       9426             0           0.866393  R13C14   \n",
       "3 -16.174284 -15.360878       9426             0           0.866393    R3C7   \n",
       "4 -14.071941 -14.686443       9426             0           0.866393  R14C14   \n",
       "\n",
       "      prior  \n",
       "0  0.822281  \n",
       "1  0.822281  \n",
       "2  0.708233  \n",
       "3  0.665882  \n",
       "4  0.831658  \n",
       "\n",
       "[5 rows x 44 columns]"
      ]
     },
     "execution_count": 6,
     "metadata": {},
     "output_type": "execute_result"
    }
   ],
   "source": [
    "## Read VH dataset\n",
    "with open(f'/data/ksa/04_Data_Preprocessing/training-test/{kdprov}/training_VH_v2.pkl','rb') as file:\n",
    "    df=pickle.load(file)\n",
    "    if isinstance(df, pl.DataFrame):\n",
    "        df=df.to_pandas()\n",
    "print(df.shape)\n",
    "df.head()"
   ]
  },
  {
   "cell_type": "code",
   "execution_count": 7,
   "id": "ba9b5bc3-277c-4dc7-8e2b-40debb17c2cf",
   "metadata": {
    "papermill": {
     "duration": 0.594207,
     "end_time": "2024-10-24T02:36:01.440312",
     "exception": false,
     "start_time": "2024-10-24T02:36:00.846105",
     "status": "completed"
    },
    "tags": []
   },
   "outputs": [
    {
     "data": {
      "image/png": "[encoded data removed]",
      "text/plain": [
       "<Figure size 640x480 with 1 Axes>"
      ]
     },
     "metadata": {},
     "output_type": "display_data"
    }
   ],
   "source": [
    "sns.countplot(x='observation', hue='cluster_data', data=df,palette=sns.color_palette(\"Set2\"))\n",
    "plt.savefig(f\"/data/ksa/05_Modelling/picture/{kdprov}_distirbution_plot.png\", dpi=300, bbox_inches='tight')\n"
   ]
  },
  {
   "cell_type": "markdown",
   "id": "da80a265-9a12-4d2c-8b96-17ad999f2b53",
   "metadata": {
    "papermill": {
     "duration": 0.071859,
     "end_time": "2024-10-24T02:36:01.524018",
     "exception": false,
     "start_time": "2024-10-24T02:36:01.452159",
     "status": "completed"
    },
    "tags": []
   },
   "source": [
    "### Running Data"
   ]
  },
  {
   "cell_type": "code",
   "execution_count": 8,
   "id": "94f2a9fa-36a6-47a7-ab48-85cdb1f2f569",
   "metadata": {
    "papermill": {
     "duration": 0.020788,
     "end_time": "2024-10-24T02:36:01.549294",
     "exception": false,
     "start_time": "2024-10-24T02:36:01.528506",
     "status": "completed"
    },
    "tags": []
   },
   "outputs": [],
   "source": [
    "import optuna\n",
    "from xgboost import XGBClassifier\n",
    "\n",
    "# Example dataset\n",
    "\n",
    "# Define the objective function for Bayesian Optimization\n",
    "def objective(trial,X_train, y_train, n_splits=3):\n",
    "    \n",
    "    param = {\n",
    "        'max_depth': trial.suggest_int('max_depth', 6, 10),\n",
    "        'learning_rate': trial.suggest_uniform('learning_rate', 0.01, 0.1),\n",
    "        #'subsample': trial.suggest_uniform('subsample', 0.5, 0.7),\n",
    "        #'colsample_bytree': trial.suggest_uniform('colsample_bytree', 0.5, 0.7),\n",
    "        #'colsample_bylevel': trial.suggest_uniform('colsample_bylevel', 0.5, 0.7),\n",
    "        'reg_lambda': trial.suggest_uniform('reg_lambda', 0.1, 5),\n",
    "        'min_child_weight': trial.suggest_int('min_child_weight', 50, 100),\n",
    "        'objective': 'multi:softprob',  # Multiclass classification\n",
    "        'eval_metric': ['mlogloss'],\n",
    "        \"tree_method\":'hist',\n",
    "        \"num_class\": len(set(y_train)),\n",
    "        \"nthread\":20\n",
    "    }\n",
    "    \n",
    "    # Define the model\n",
    "    skf = StratifiedKFold(n_splits=n_splits,shuffle=True, random_state=42)\n",
    "    f1_macros=[]\n",
    "    for train_index, val_index in skf.split(X_train, y_train):\n",
    "        X_train_fold, X_val_fold = X_train.iloc[train_index], X_train.iloc[val_index]\n",
    "        y_train_fold, y_val_fold = y_train[train_index], y_train[val_index]\n",
    "\n",
    "        class_counts = Counter(y_train_fold)\n",
    "        total_samples = len(y_train_fold)\n",
    "        # Step 3: Calculate class weights as inverse of class frequency\n",
    "        class_weights = {cls: total_samples / count for cls, count in class_counts.items()}\n",
    "        sample_weights = np.array([class_weights[label] for label in y_train_fold])\n",
    "        # Create DMatrix with sample weights\n",
    "        dtrain_fold = xgb.DMatrix(X_train_fold, label=y_train_fold, enable_categorical=True, weight=sample_weights)\n",
    "        dval_fold = xgb.DMatrix(X_val_fold, label=y_val_fold, enable_categorical=True)\n",
    "        \n",
    "        evals = [(dtrain_fold, 'train'), (dval_fold, 'eval')]\n",
    "        model = xgb.train(param, dtrain_fold, \n",
    "                          num_boost_round=1000, evals=evals,early_stopping_rounds=50,\n",
    "                          verbose_eval=False)\n",
    "        y_val_pred_prob = model.predict(dval_fold)\n",
    "        y_val_pred = y_val_pred_prob.argmax(axis=1)\n",
    "        f1_macros.append(f1_score(y_val_fold, y_val_pred, average='macro'))\n",
    "    score=np.mean(f1_macros)\n",
    "    \n",
    "    return score"
   ]
  },
  {
   "cell_type": "code",
   "execution_count": 9,
   "id": "d60642b2-2944-4f3d-b337-3250ba03a3cd",
   "metadata": {
    "papermill": {
     "duration": 0.03022,
     "end_time": "2024-10-24T02:36:01.583958",
     "exception": false,
     "start_time": "2024-10-24T02:36:01.553738",
     "status": "completed"
    },
    "tags": []
   },
   "outputs": [],
   "source": [
    "def evaluate_model(X_train, y_train, X_test, y_test,cluster, best_params, n_splits=3):\n",
    "    # Convert data to DMatrix for XGBoost\n",
    "    class_counts = Counter(y_train)\n",
    "    total_samples = len(y_train)\n",
    "        # Step 3: Calculate class weights as inverse of class frequency\n",
    "    class_weights = {cls: total_samples / count for cls, count in class_counts.items()}\n",
    "    sample_weights = np.array([class_weights[label] for label in y_train])\n",
    "        # Create DMatrix with sample weights\n",
    "        \n",
    "    dtrain = xgb.DMatrix(X_train, label=y_train, enable_categorical=True,weight=sample_weights)\n",
    "    dtest = xgb.DMatrix(X_test, label=y_test, enable_categorical=True)\n",
    "    \n",
    "    params = best_params\n",
    "    params['objective']=\"multi:softprob\"\n",
    "    #params['tree_method']='approx'\n",
    "    params['eval_metric']='mlogloss'\n",
    "    params['num_class']=len(set(y_train))\n",
    "    params['nthread']=20\n",
    "    # Stratified K-Fold Cross Validation\n",
    "    skf = StratifiedKFold(n_splits=n_splits, shuffle=True, random_state=42)\n",
    "    \n",
    "    accuracies = []\n",
    "    f1_macros = []\n",
    "    f1_micros = []\n",
    "    aucs = []\n",
    "    acc_kelas_generatifs = []\n",
    "    acc_fase_padis = []\n",
    "\n",
    "    for train_index, val_index in skf.split(X_train, y_train):\n",
    "        X_train_fold, X_val_fold = X_train.iloc[train_index], X_train.iloc[val_index]\n",
    "        y_train_fold, y_val_fold = y_train[train_index], y_train[val_index]\n",
    "\n",
    "        class_counts = Counter(y_train_fold)\n",
    "        total_samples = len(y_train_fold)\n",
    "        # Step 3: Calculate class weights as inverse of class frequency\n",
    "        class_weights = {cls: total_samples / count for cls, count in class_counts.items()}\n",
    "        sample_weights = np.array([class_weights[label] for label in y_train_fold])\n",
    "        # Create DMatrix with sample weights\n",
    "        dtrain_fold = xgb.DMatrix(X_train_fold, label=y_train_fold, enable_categorical=True, weight=sample_weights)\n",
    "        dval_fold = xgb.DMatrix(X_val_fold, label=y_val_fold, enable_categorical=True)\n",
    "        \n",
    "        evals = [(dtrain_fold, 'train'), (dval_fold, 'eval')]\n",
    "        model = xgb.train(params, dtrain_fold, \n",
    "                          num_boost_round=10000, evals=evals,early_stopping_rounds=1000,verbose_eval=100)\n",
    "        \n",
    "        y_val_pred_prob = model.predict(dval_fold)\n",
    "        y_val_pred = y_val_pred_prob.argmax(axis=1)\n",
    "        \n",
    "        accuracies.append(accuracy_score(y_val_fold, y_val_pred))\n",
    "        f1_macros.append(f1_score(y_val_fold, y_val_pred, average='macro'))\n",
    "        f1_micros.append(f1_score(y_val_fold, y_val_pred, average='micro'))\n",
    "        aucs.append(roc_auc_score(y_val_fold, y_val_pred_prob, multi_class='ovr'))\n",
    "        acc_kelas_generatifs.append(akurasi_kelas_generatif(y_val_fold, y_val_pred))\n",
    "        acc_fase_padis.append(akurasi_fase_padi(y_val_fold, y_val_pred))\n",
    "\n",
    "    # Calculate average metrics\n",
    "    avg_accuracy = sum(accuracies) / len(accuracies)\n",
    "    avg_f1_macro = sum(f1_macros) / len(f1_macros)\n",
    "    avg_f1_micro = sum(f1_micros) / len(f1_micros)\n",
    "    avg_auc = sum(aucs) / len(aucs)\n",
    "    avg_acc_kelas_generatif = sum(acc_kelas_generatifs) / len(acc_kelas_generatifs)\n",
    "    avg_acc_fase_padi = sum(acc_fase_padis) / len(acc_fase_padis)\n",
    "    training_metrics = {\n",
    "        \"average_accuracy\": avg_accuracy,\n",
    "        \"average_f1_macro\": avg_f1_macro,\n",
    "        \"average_f1_micro\": avg_f1_micro,\n",
    "        \"average_auc\": avg_auc,\n",
    "        \"average_acc_kelas_generatif\": avg_acc_kelas_generatif,\n",
    "        \"average_acc_fase_padi\": avg_acc_fase_padi\n",
    "    }\n",
    "\n",
    "    \n",
    "    # Final model evaluation on the test set\n",
    "    evals = [(dtrain, 'train'), (dtest, 'eval')]\n",
    "    model = xgb.train(params, dtrain, \n",
    "                      num_boost_round=1000, evals=evals,early_stopping_rounds=50,\n",
    "                      verbose_eval=50)\n",
    "    y_test_pred_prob = model.predict(dtest)\n",
    "    y_test_pred = y_test_pred_prob.argmax(axis=1)\n",
    "\n",
    "    accuracy = accuracy_score(y_test, y_test_pred)\n",
    "    f1_macro = f1_score(y_test, y_test_pred, average='macro')\n",
    "    f1_micro = f1_score(y_test, y_test_pred, average='micro')\n",
    "    auc = roc_auc_score(y_test, y_test_pred_prob, multi_class='ovr')\n",
    "    acc_kelas_generatif = akurasi_kelas_generatif(y_test, y_test_pred)\n",
    "    acc_fase_padi = akurasi_fase_padi(y_test, y_test_pred)\n",
    "    \n",
    "    cm = confusion_matrix(y_test, y_test_pred)\n",
    "    relative_acc = 100 * (sum(cm[1, 1:3]) + sum(cm[1, 5:6]) + \n",
    "                          sum(cm[2, 1:4]) + \n",
    "                          sum(cm[3, 2:5]) + \n",
    "                          sum(cm[4, 3:6]) + \n",
    "                          sum(cm[5, 4:6])+sum(cm[5,1:2])) / sum(sum(cm[1:6, 1:6]))\n",
    "    validation_metrics = {\n",
    "        \"val_accuracy\": accuracy,\n",
    "        \"val_f1_macro\": f1_macro,\n",
    "        \"val_f1_micro\": f1_micro,\n",
    "        \"val_auc\": auc,\n",
    "        \"val_acc_kelas_generatif\": acc_kelas_generatif,\n",
    "        \"val_acc_fase_padi\": acc_fase_padi,\n",
    "        \"val_relative_acc\": relative_acc\n",
    "    }\n",
    "\n",
    "    print(\"\\nClassification Report on Test Set:\")\n",
    "    report = classification_report(y_test, y_test_pred)\n",
    "    print(report)\n",
    "    \n",
    "    # Display Confusion Matrix\n",
    "    cm_percentage = cm.astype('float') / cm.sum(axis=1)[:, np.newaxis] * 100\n",
    "\n",
    "    disp = ConfusionMatrixDisplay(confusion_matrix=cm_percentage)\n",
    "    disp.plot(cmap=plt.cm.Blues)\n",
    "    plt.savefig(f\"/data/ksa/05_Modelling/picture/{kdprov}_cm_cluster_{cluster}.png\", dpi=300, bbox_inches='tight')\n",
    "    plt.show()\n",
    "    \n",
    "    return model, training_metrics, validation_metrics, report, cm"
   ]
  },
  {
   "cell_type": "code",
   "execution_count": null,
   "id": "f4462c6e-e78a-4409-8951-07e164e2986c",
   "metadata": {
    "editable": true,
    "papermill": {
     "duration": 1309.496315,
     "end_time": "2024-10-24T02:57:51.084511",
     "exception": false,
     "start_time": "2024-10-24T02:36:01.588196",
     "status": "completed"
    },
    "slideshow": {
     "slide_type": ""
    },
    "tags": []
   },
   "outputs": [
    {
     "name": "stdout",
     "output_type": "stream",
     "text": [
      "=============================================================================\n",
      "CLUSTER:  0\n"
     ]
    },
    {
     "name": "stderr",
     "output_type": "stream",
     "text": [
      "[I 2024-10-25 13:54:46,626] A new study created in memory with name: no-name-98dfc9d5-6818-4edf-b389-3e9f90aa9ed0\n"
     ]
    },
    {
     "name": "stdout",
     "output_type": "stream",
     "text": [
      "[6 4 1 2 3 5 0]\n",
      "[0 1 2 3 4 5 6]\n",
      "Mapping of original to encoded classes: {0: 0, 1: 1, 2: 2, 3: 3, 4: 4, 5: 5, 6: 6}\n",
      "Build Best Parameter using Optuna-Hyperparameter Tuning\n"
     ]
    },
    {
     "name": "stderr",
     "output_type": "stream",
     "text": [
      "[I 2024-10-25 13:55:48,760] Trial 0 finished with value: 0.4761347232262854 and parameters: {'max_depth': 10, 'learning_rate': 0.04725324257623295, 'reg_lambda': 4.788264693691611, 'min_child_weight': 84}. Best is trial 0 with value: 0.4761347232262854.\n",
      "[I 2024-10-25 13:56:18,192] Trial 1 finished with value: 0.4601921418980613 and parameters: {'max_depth': 7, 'learning_rate': 0.06958296560556217, 'reg_lambda': 1.3911817598690943, 'min_child_weight': 65}. Best is trial 0 with value: 0.4761347232262854.\n",
      "[I 2024-10-25 13:56:45,435] Trial 2 finished with value: 0.46178316760583793 and parameters: {'max_depth': 7, 'learning_rate': 0.05686872367976736, 'reg_lambda': 0.6497236569973827, 'min_child_weight': 59}. Best is trial 0 with value: 0.4761347232262854.\n",
      "[I 2024-10-25 13:57:19,527] Trial 3 finished with value: 0.4687063453763323 and parameters: {'max_depth': 8, 'learning_rate': 0.04814997685986038, 'reg_lambda': 3.409867329628546, 'min_child_weight': 80}. Best is trial 0 with value: 0.4761347232262854.\n",
      "[I 2024-10-25 13:57:43,295] Trial 4 finished with value: 0.4647592618525671 and parameters: {'max_depth': 6, 'learning_rate': 0.07194350504712407, 'reg_lambda': 1.1086594194290051, 'min_child_weight': 58}. Best is trial 0 with value: 0.4761347232262854.\n",
      "[I 2024-10-25 13:58:04,527] Trial 5 finished with value: 0.45520510434034334 and parameters: {'max_depth': 6, 'learning_rate': 0.08063839208865385, 'reg_lambda': 1.4138111666074407, 'min_child_weight': 62}. Best is trial 0 with value: 0.4761347232262854.\n",
      "[I 2024-10-25 13:58:21,942] Trial 6 finished with value: 0.4664976793676314 and parameters: {'max_depth': 8, 'learning_rate': 0.09227700855845165, 'reg_lambda': 4.302995025158272, 'min_child_weight': 50}. Best is trial 0 with value: 0.4761347232262854.\n",
      "[I 2024-10-25 13:58:52,880] Trial 7 finished with value: 0.4610431362849676 and parameters: {'max_depth': 6, 'learning_rate': 0.061864732898580424, 'reg_lambda': 1.8464588067586991, 'min_child_weight': 98}. Best is trial 0 with value: 0.4761347232262854.\n",
      "[I 2024-10-25 13:59:17,387] Trial 8 finished with value: 0.4670899452478914 and parameters: {'max_depth': 8, 'learning_rate': 0.06769488933876365, 'reg_lambda': 4.23803395308915, 'min_child_weight': 55}. Best is trial 0 with value: 0.4761347232262854.\n"
     ]
    },
    {
     "name": "stderr",
     "output_type": "stream",
     "text": [
      "[I 2024-10-24 09:47:04,347] Trial 10 finished with value: 0.47764201625077735 and parameters: {'max_depth': 10, 'learning_rate': 0.06683280267291698, 'reg_lambda': 0.3345003813486147, 'min_child_weight': 50}. Best is trial 10 with value: 0.47764201625077735.\n"
     ]
    },
    {
     "name": "stderr",
     "output_type": "stream",
     "text": [
      "[I 2024-10-24 09:47:42,557] Trial 11 finished with value: 0.47596178174543663 and parameters: {'max_depth': 10, 'learning_rate': 0.07022297525675059, 'reg_lambda': 0.19603317637107387, 'min_child_weight': 50}. Best is trial 10 with value: 0.47764201625077735.\n"
     ]
    },
    {
     "name": "stderr",
     "output_type": "stream",
     "text": [
      "[I 2024-10-24 09:48:34,215] Trial 12 finished with value: 0.4759688321520894 and parameters: {'max_depth': 10, 'learning_rate': 0.05097953242449267, 'reg_lambda': 0.21431556089069279, 'min_child_weight': 51}. Best is trial 10 with value: 0.47764201625077735.\n"
     ]
    },
    {
     "name": "stderr",
     "output_type": "stream",
     "text": [
      "[I 2024-10-24 09:49:37,865] Trial 13 finished with value: 0.4770634485382527 and parameters: {'max_depth': 10, 'learning_rate': 0.04301190296384359, 'reg_lambda': 0.10364752945817912, 'min_child_weight': 66}. Best is trial 10 with value: 0.47764201625077735.\n"
     ]
    },
    {
     "name": "stderr",
     "output_type": "stream",
     "text": [
      "[I 2024-10-24 09:50:51,505] Trial 14 finished with value: 0.47300301235029224 and parameters: {'max_depth': 9, 'learning_rate': 0.03647480959347015, 'reg_lambda': 1.9307613212687473, 'min_child_weight': 66}. Best is trial 10 with value: 0.47764201625077735.\n"
     ]
    },
    {
     "name": "stderr",
     "output_type": "stream",
     "text": [
      "[I 2024-10-24 09:52:10,739] Trial 15 finished with value: 0.46855325063911396 and parameters: {'max_depth': 10, 'learning_rate': 0.03550980164147698, 'reg_lambda': 1.899221830001889, 'min_child_weight': 80}. Best is trial 10 with value: 0.47764201625077735.\n"
     ]
    },
    {
     "name": "stderr",
     "output_type": "stream",
     "text": [
      "[I 2024-10-24 09:52:58,912] Trial 16 finished with value: 0.47460518373573374 and parameters: {'max_depth': 9, 'learning_rate': 0.06114038209296488, 'reg_lambda': 0.2526926658040529, 'min_child_weight': 66}. Best is trial 10 with value: 0.47764201625077735.\n"
     ]
    },
    {
     "name": "stderr",
     "output_type": "stream",
     "text": [
      "[I 2024-10-24 09:54:04,329] Trial 17 finished with value: 0.4686755501882664 and parameters: {'max_depth': 10, 'learning_rate': 0.04626550589667163, 'reg_lambda': 3.6138879594076307, 'min_child_weight': 84}. Best is trial 10 with value: 0.47764201625077735.\n"
     ]
    },
    {
     "name": "stderr",
     "output_type": "stream",
     "text": [
      "[I 2024-10-24 09:54:42,977] Trial 18 finished with value: 0.4640711485838385 and parameters: {'max_depth': 7, 'learning_rate': 0.07770780531794357, 'reg_lambda': 1.9045069568149997, 'min_child_weight': 64}. Best is trial 10 with value: 0.47764201625077735.\n"
     ]
    },
    {
     "name": "stderr",
     "output_type": "stream",
     "text": [
      "[I 2024-10-24 09:55:32,754] Trial 19 finished with value: 0.46932094590387674 and parameters: {'max_depth': 9, 'learning_rate': 0.057968455711484075, 'reg_lambda': 4.951499362274207, 'min_child_weight': 58}. Best is trial 10 with value: 0.47764201625077735.\n"
     ]
    },
    {
     "name": "stdout",
     "output_type": "stream",
     "text": [
      "Best Parameters: {'max_depth': 10, 'learning_rate': 0.06683280267291698, 'reg_lambda': 0.3345003813486147, 'min_child_weight': 50}\n",
      "Best Score: 0.47764201625077735\n",
      "Start the modelling\n"
     ]
    },
    {
     "name": "stdout",
     "output_type": "stream",
     "text": [
      "[0]\ttrain-mlogloss:1.86439\teval-mlogloss:1.90109\n"
     ]
    },
    {
     "name": "stdout",
     "output_type": "stream",
     "text": [
      "[100]\ttrain-mlogloss:0.35069\teval-mlogloss:1.16354\n"
     ]
    },
    {
     "name": "stdout",
     "output_type": "stream",
     "text": [
      "[200]\ttrain-mlogloss:0.17000\teval-mlogloss:1.09015\n"
     ]
    },
    {
     "name": "stdout",
     "output_type": "stream",
     "text": [
      "[300]\ttrain-mlogloss:0.10258\teval-mlogloss:1.08015\n"
     ]
    },
    {
     "name": "stdout",
     "output_type": "stream",
     "text": [
      "[400]\ttrain-mlogloss:0.07155\teval-mlogloss:1.08728\n"
     ]
    },
    {
     "name": "stdout",
     "output_type": "stream",
     "text": [
      "[500]\ttrain-mlogloss:0.05441\teval-mlogloss:1.10045\n"
     ]
    },
    {
     "name": "stdout",
     "output_type": "stream",
     "text": [
      "[600]\ttrain-mlogloss:0.04361\teval-mlogloss:1.11365\n"
     ]
    },
    {
     "name": "stdout",
     "output_type": "stream",
     "text": [
      "[700]\ttrain-mlogloss:0.03634\teval-mlogloss:1.12655\n"
     ]
    },
    {
     "name": "stdout",
     "output_type": "stream",
     "text": [
      "[800]\ttrain-mlogloss:0.03127\teval-mlogloss:1.13839\n"
     ]
    },
    {
     "name": "stdout",
     "output_type": "stream",
     "text": [
      "[900]\ttrain-mlogloss:0.02743\teval-mlogloss:1.15029\n"
     ]
    },
    {
     "name": "stdout",
     "output_type": "stream",
     "text": [
      "[1000]\ttrain-mlogloss:0.02455\teval-mlogloss:1.16003\n"
     ]
    },
    {
     "name": "stdout",
     "output_type": "stream",
     "text": [
      "[1100]\ttrain-mlogloss:0.02226\teval-mlogloss:1.16917\n"
     ]
    },
    {
     "name": "stdout",
     "output_type": "stream",
     "text": [
      "[1200]\ttrain-mlogloss:0.02045\teval-mlogloss:1.17804\n"
     ]
    },
    {
     "name": "stdout",
     "output_type": "stream",
     "text": [
      "[1296]\ttrain-mlogloss:0.01901\teval-mlogloss:1.18585\n"
     ]
    },
    {
     "name": "stdout",
     "output_type": "stream",
     "text": [
      "[0]\ttrain-mlogloss:1.86254\teval-mlogloss:1.89897\n"
     ]
    },
    {
     "name": "stdout",
     "output_type": "stream",
     "text": [
      "[100]\ttrain-mlogloss:0.34009\teval-mlogloss:1.15414\n"
     ]
    },
    {
     "name": "stdout",
     "output_type": "stream",
     "text": [
      "[200]\ttrain-mlogloss:0.17197\teval-mlogloss:1.09741\n"
     ]
    },
    {
     "name": "stdout",
     "output_type": "stream",
     "text": [
      "[300]\ttrain-mlogloss:0.10636\teval-mlogloss:1.09247\n"
     ]
    },
    {
     "name": "stdout",
     "output_type": "stream",
     "text": [
      "[400]\ttrain-mlogloss:0.07415\teval-mlogloss:1.10189\n"
     ]
    },
    {
     "name": "stdout",
     "output_type": "stream",
     "text": [
      "[500]\ttrain-mlogloss:0.05570\teval-mlogloss:1.11475\n"
     ]
    },
    {
     "name": "stdout",
     "output_type": "stream",
     "text": [
      "[600]\ttrain-mlogloss:0.04446\teval-mlogloss:1.12955\n"
     ]
    },
    {
     "name": "stdout",
     "output_type": "stream",
     "text": [
      "[700]\ttrain-mlogloss:0.03698\teval-mlogloss:1.14281\n"
     ]
    },
    {
     "name": "stdout",
     "output_type": "stream",
     "text": [
      "[800]\ttrain-mlogloss:0.03161\teval-mlogloss:1.15656\n"
     ]
    },
    {
     "name": "stdout",
     "output_type": "stream",
     "text": [
      "[900]\ttrain-mlogloss:0.02770\teval-mlogloss:1.17031\n"
     ]
    },
    {
     "name": "stdout",
     "output_type": "stream",
     "text": [
      "[1000]\ttrain-mlogloss:0.02464\teval-mlogloss:1.18206\n"
     ]
    },
    {
     "name": "stdout",
     "output_type": "stream",
     "text": [
      "[1100]\ttrain-mlogloss:0.02232\teval-mlogloss:1.19211\n"
     ]
    },
    {
     "name": "stdout",
     "output_type": "stream",
     "text": [
      "[1200]\ttrain-mlogloss:0.02047\teval-mlogloss:1.20134\n"
     ]
    },
    {
     "name": "stdout",
     "output_type": "stream",
     "text": [
      "[1291]\ttrain-mlogloss:0.01910\teval-mlogloss:1.20916\n"
     ]
    },
    {
     "name": "stdout",
     "output_type": "stream",
     "text": [
      "[0]\ttrain-mlogloss:1.86281\teval-mlogloss:1.90250\n"
     ]
    },
    {
     "name": "stdout",
     "output_type": "stream",
     "text": [
      "[100]\ttrain-mlogloss:0.32764\teval-mlogloss:1.18408\n"
     ]
    },
    {
     "name": "stdout",
     "output_type": "stream",
     "text": [
      "[200]\ttrain-mlogloss:0.16490\teval-mlogloss:1.12171\n"
     ]
    },
    {
     "name": "stdout",
     "output_type": "stream",
     "text": [
      "[300]\ttrain-mlogloss:0.10137\teval-mlogloss:1.11607\n"
     ]
    },
    {
     "name": "stdout",
     "output_type": "stream",
     "text": [
      "[400]\ttrain-mlogloss:0.07087\teval-mlogloss:1.12619\n"
     ]
    },
    {
     "name": "stdout",
     "output_type": "stream",
     "text": [
      "[500]\ttrain-mlogloss:0.05347\teval-mlogloss:1.13963\n"
     ]
    },
    {
     "name": "stdout",
     "output_type": "stream",
     "text": [
      "[600]\ttrain-mlogloss:0.04293\teval-mlogloss:1.15521\n"
     ]
    },
    {
     "name": "stdout",
     "output_type": "stream",
     "text": [
      "[700]\ttrain-mlogloss:0.03587\teval-mlogloss:1.16938\n"
     ]
    },
    {
     "name": "stdout",
     "output_type": "stream",
     "text": [
      "[800]\ttrain-mlogloss:0.03108\teval-mlogloss:1.18138\n"
     ]
    },
    {
     "name": "stdout",
     "output_type": "stream",
     "text": [
      "[900]\ttrain-mlogloss:0.02726\teval-mlogloss:1.19362\n"
     ]
    },
    {
     "name": "stdout",
     "output_type": "stream",
     "text": [
      "[1000]\ttrain-mlogloss:0.02430\teval-mlogloss:1.20561\n"
     ]
    },
    {
     "name": "stdout",
     "output_type": "stream",
     "text": [
      "[1100]\ttrain-mlogloss:0.02208\teval-mlogloss:1.21595\n"
     ]
    },
    {
     "name": "stdout",
     "output_type": "stream",
     "text": [
      "[1200]\ttrain-mlogloss:0.02023\teval-mlogloss:1.22523\n"
     ]
    },
    {
     "name": "stdout",
     "output_type": "stream",
     "text": [
      "[1274]\ttrain-mlogloss:0.01909\teval-mlogloss:1.23146\n"
     ]
    },
    {
     "name": "stdout",
     "output_type": "stream",
     "text": [
      "[0]\ttrain-mlogloss:1.86381\teval-mlogloss:1.89820\n"
     ]
    },
    {
     "name": "stdout",
     "output_type": "stream",
     "text": [
      "[50]\ttrain-mlogloss:0.60765\teval-mlogloss:1.25766\n"
     ]
    },
    {
     "name": "stdout",
     "output_type": "stream",
     "text": [
      "[100]\ttrain-mlogloss:0.38368\teval-mlogloss:1.14538\n"
     ]
    },
    {
     "name": "stdout",
     "output_type": "stream",
     "text": [
      "[150]\ttrain-mlogloss:0.27239\teval-mlogloss:1.09169\n"
     ]
    },
    {
     "name": "stdout",
     "output_type": "stream",
     "text": [
      "[200]\ttrain-mlogloss:0.20221\teval-mlogloss:1.06125\n"
     ]
    },
    {
     "name": "stdout",
     "output_type": "stream",
     "text": [
      "[250]\ttrain-mlogloss:0.15635\teval-mlogloss:1.04580\n"
     ]
    },
    {
     "name": "stdout",
     "output_type": "stream",
     "text": [
      "[300]\ttrain-mlogloss:0.12528\teval-mlogloss:1.03872\n"
     ]
    },
    {
     "name": "stdout",
     "output_type": "stream",
     "text": [
      "[350]\ttrain-mlogloss:0.10320\teval-mlogloss:1.03661\n"
     ]
    },
    {
     "name": "stdout",
     "output_type": "stream",
     "text": [
      "[400]\ttrain-mlogloss:0.08696\teval-mlogloss:1.03788\n"
     ]
    },
    {
     "name": "stdout",
     "output_type": "stream",
     "text": [
      "[412]\ttrain-mlogloss:0.08350\teval-mlogloss:1.03859\n"
     ]
    },
    {
     "name": "stdout",
     "output_type": "stream",
     "text": [
      "\n",
      "Classification Report on Test Set:\n",
      "              precision    recall  f1-score   support\n",
      "\n",
      "           0       0.62      0.63      0.63      5389\n",
      "           1       0.58      0.54      0.56      4043\n",
      "           2       0.57      0.28      0.38      1365\n",
      "           3       0.54      0.32      0.40      1032\n",
      "           4       0.56      0.38      0.45      1540\n",
      "           5       0.54      0.32      0.41      2013\n",
      "           6       0.68      0.81      0.74     12545\n",
      "\n",
      "    accuracy                           0.64     27927\n",
      "   macro avg       0.58      0.47      0.51     27927\n",
      "weighted avg       0.62      0.64      0.62     27927\n",
      "\n"
     ]
    },
    {
     "data": {
      "image/png": "[encoded data removed]",
      "text/plain": [
       "<Figure size 640x480 with 1 Axes>"
      ]
     },
     "metadata": {},
     "output_type": "display_data"
    },
    {
     "data": {
      "image/png": "[encoded data removed]",
      "text/plain": [
       "<Figure size 640x480 with 2 Axes>"
      ]
     },
     "metadata": {},
     "output_type": "display_data"
    },
    {
     "name": "stdout",
     "output_type": "stream",
     "text": [
      "{'average_accuracy': 0.6239137787646186, 'average_f1_macro': np.float64(0.4748605200576912), 'average_f1_micro': np.float64(0.6239137787646186), 'average_auc': np.float64(0.8429621573520917), 'average_acc_kelas_generatif': 0.3114389900104186, 'average_acc_fase_padi': 0.37982456140350873}\n",
      "{'val_accuracy': 0.6359437103877967, 'val_f1_macro': np.float64(0.5095847532831218), 'val_f1_micro': np.float64(0.6359437103877967), 'val_auc': np.float64(0.8667603060742011), 'val_acc_kelas_generatif': 0.3246124031007752, 'val_acc_fase_padi': 0.4370927318295739, 'val_relative_acc': np.float64(91.32412104250481)}\n",
      "=============================================================================\n"
     ]
    }
   ],
   "source": [
    "from sklearn.preprocessing import StandardScaler, LabelEncoder\n",
    "df['observation']=df['observation'].apply(lambda y: int(y))\n",
    "dict_report={}\n",
    "for i in np.sort(df.cluster_data.unique()):\n",
    "    print('=============================================================================')\n",
    "    print('CLUSTER: ', i)\n",
    "    df_x = df.query('cluster_data==@i')\n",
    "    sns.countplot(x='observation', hue='cluster_data', data=df_x,palette=sns.color_palette(\"Set2\"))\n",
    "    plt.savefig(f\"/data/ksa/05_Modelling/picture/{kdprov}_distplot_cluster_{i}.png\", dpi=300, bbox_inches='tight')\n",
    "    X_train, X_test, y_train, y_test = get_train_test(df_x, 0.7)\n",
    "    # Encode the labels\n",
    "    label_encoder = LabelEncoder()\n",
    "    y_train_encoded = label_encoder.fit_transform(y_train)\n",
    "    y_test_encoded = label_encoder.transform(y_test)\n",
    "    \n",
    "    # Output the unique encoded labels and the mapping\n",
    "    print(np.unique(y_train_encoded))\n",
    "    class_mapping = dict(zip(label_encoder.classes_, label_encoder.transform(label_encoder.classes_)))\n",
    "    print(\"Mapping of original to encoded classes:\", class_mapping)\n",
    "    \n",
    "    # Create an Optuna study and optimize the objective function\n",
    "    print('Build Best Parameter using Optuna-Hyperparameter Tuning')\n",
    "    study = optuna.create_study(direction='maximize')  # 'maximize' because we are optimizing accuracy\n",
    "    study.optimize(lambda trial: objective(trial, X_train, y_train_encoded), n_trials=20)  # Run for 50 trials\n",
    "    # Print the best parameters and the best score\n",
    "    print(f\"Best Parameters: {study.best_params}\")\n",
    "    print(f\"Best Score: {study.best_value}\")\n",
    "\n",
    "    print('Start the modelling')\n",
    "    model0, training_metrics0, validation_metrics0, report0, cm0 = evaluate_model(\n",
    "        X_train, y_train_encoded, X_test, y_test_encoded,cluster=i,best_params=study.best_params)\n",
    "    \n",
    "    dict_report[i]={'model':model0,\n",
    "                    'training_metrics':training_metrics0,\n",
    "                    'validation_metrics':validation_metrics0,\n",
    "                    'reports':report0,\n",
    "                    'cm':cm0,\n",
    "                    'params':study.best_params}\n",
    "    # Print the training and validation metrics\n",
    "    print(training_metrics0)\n",
    "    print(validation_metrics0)\n",
    "    print('=============================================================================')\n",
    "\n",
    "\n"
   ]
  },
  {
   "cell_type": "code",
   "execution_count": null,
   "id": "26743d1e-45c9-4c26-81de-46e9f11f1698",
   "metadata": {
    "papermill": {
     "duration": 0.089702,
     "end_time": "2024-10-24T02:57:51.184743",
     "exception": false,
     "start_time": "2024-10-24T02:57:51.095041",
     "status": "completed"
    },
    "tags": []
   },
   "outputs": [],
   "source": [
    "with open(f'/data/ksa/05_Modelling/model/xgboost{kdprov}_v2.pkl','wb') as file:\n",
    "    pickle.dump(dict_report,file)"
   ]
  },
  {
   "cell_type": "code",
   "execution_count": null,
   "id": "76b68ced-340e-48b6-a01f-a22c31637ad8",
   "metadata": {
    "papermill": {
     "duration": 0.010047,
     "end_time": "2024-10-24T02:57:51.205765",
     "exception": false,
     "start_time": "2024-10-24T02:57:51.195718",
     "status": "completed"
    },
    "tags": []
   },
   "outputs": [],
   "source": []
  }
 ],
 "metadata": {
  "kernelspec": {
   "display_name": "Python 3 (ipykernel)",
   "language": "python",
   "name": "python3"
  },
  "language_info": {
   "codemirror_mode": {
    "name": "ipython",
    "version": 3
   },
   "file_extension": ".py",
   "mimetype": "text/x-python",
   "name": "python",
   "nbconvert_exporter": "python",
   "pygments_lexer": "ipython3",
   "version": "3.10.14"
  },
  "papermill": {
   "default_parameters": {},
   "duration": 1317.018538,
   "end_time": "2024-10-24T02:57:52.141623",
   "environment_variables": {},
   "exception": null,
   "input_path": "XGBOOST Base model.ipynb",
   "output_path": "XGBOOST_94.ipynb",
   "parameters": {
    "kdprov": 94
   },
   "start_time": "2024-10-24T02:35:55.123085",
   "version": "2.6.0"
  }
 },
 "nbformat": 4,
 "nbformat_minor": 5
}
