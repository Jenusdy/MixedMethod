{
 "cells": [
  {
   "cell_type": "code",
   "execution_count": 1,
   "id": "d37f5160-5e12-40a3-8dc9-2d929bd94327",
   "metadata": {
    "papermill": {
     "duration": 2.968801,
     "end_time": "2024-10-16T08:31:02.734547",
     "exception": false,
     "start_time": "2024-10-16T08:30:59.765746",
     "status": "completed"
    },
    "tags": []
   },
   "outputs": [],
   "source": [
    "import pandas as pd\n",
    "import geopandas as gpd\n",
    "import numpy as np\n",
    "import matplotlib.pyplot as plt\n",
    "import seaborn as sns\n",
    "import os\n",
    "from glob import glob\n",
    "import polars as pl\n",
    "import xgboost as xgb\n",
    "import optuna\n",
    "from sklearn.model_selection import StratifiedKFold, cross_val_score\n",
    "from sklearn.metrics import accuracy_score\n",
    "from sklearn.model_selection import train_test_split, cross_validate\n",
    "from sklearn.metrics import classification_report, confusion_matrix, ConfusionMatrixDisplay, accuracy_score, make_scorer, f1_score, roc_auc_score\n",
    "from sklearn.preprocessing import LabelEncoder\n",
    "import warnings\n",
    "\n",
    "# Suppress warnings globally\n",
    "warnings.filterwarnings(\"ignore\", category=UserWarning)\n",
    "warnings.filterwarnings(\"ignore\", category=DeprecationWarning)\n",
    "import pickle\n",
    "import warnings\n",
    "warnings.simplefilter(action='ignore', category=FutureWarning)\n",
    "warnings.simplefilter(action='ignore', category=pd.errors.SettingWithCopyWarning)\n",
    "from collections import Counter\n",
    "import numpy as np\n",
    "warnings.filterwarnings(\"ignore\", category=RuntimeWarning)"
   ]
  },
  {
   "cell_type": "code",
   "execution_count": 2,
   "id": "1164ac8a-4c5a-456c-a6c9-4e3f8f1fff85",
   "metadata": {
    "papermill": {
     "duration": 0.015354,
     "end_time": "2024-10-16T08:31:02.753986",
     "exception": false,
     "start_time": "2024-10-16T08:31:02.738632",
     "status": "completed"
    },
    "tags": []
   },
   "outputs": [],
   "source": [
    "def get_train_test(df, test_size):\n",
    "    # Make X and Y dataset\n",
    "    y = df.observation\n",
    "    print(y.unique())\n",
    "    X = df.loc[:,'VH_30':'VH_0']\n",
    "    X['nth'] = df.loc[:,'nth']\n",
    "    X['nth'] = X.nth.astype('category')\n",
    "    X_train, X_test, y_train, y_test = train_test_split(X, y, test_size=test_size, random_state=1234, stratify=y)\n",
    "    return X_train, X_test, y_train, y_test"
   ]
  },
  {
   "cell_type": "code",
   "execution_count": 3,
   "id": "02aaee39-f4fe-424f-a54a-71ae90874e0c",
   "metadata": {
    "papermill": {
     "duration": 0.014008,
     "end_time": "2024-10-16T08:31:02.771478",
     "exception": false,
     "start_time": "2024-10-16T08:31:02.757470",
     "status": "completed"
    },
    "tags": []
   },
   "outputs": [],
   "source": [
    "def akurasi_kelas_generatif(y_true, y_pred):\n",
    "    # Calculate accuracy specifically for class 3\n",
    "    class_3_mask = (y_true == 3)\n",
    "    if np.any(class_3_mask):  # Check if class 3 is present in the true labels\n",
    "        return accuracy_score(y_true[class_3_mask], y_pred[class_3_mask])\n",
    "    else:\n",
    "        return 0.0  # Return 0 if class 3 is not present in the true labels\n",
    "\n",
    "def akurasi_fase_padi(y_true, y_pred):\n",
    "    # Calculate accuracy specifically for classes 1, 2, 3, and 4\n",
    "    class_1234_mask = (y_true >= 1) & (y_true <= 4)\n",
    "    if np.any(class_1234_mask):  # Check if classes 1,2,3,4 are present in the true labels\n",
    "        return accuracy_score(y_true[class_1234_mask], y_pred[class_1234_mask])\n",
    "    else:\n",
    "        return 0.0  # Return 0 if none of the classes 0-3 are present in the true labels"
   ]
  },
  {
   "cell_type": "code",
   "execution_count": 4,
   "id": "9bc8ab03-1717-47d9-95ea-75e3db819b06",
   "metadata": {
    "editable": true,
    "papermill": {
     "duration": 0.011842,
     "end_time": "2024-10-16T08:31:02.786614",
     "exception": false,
     "start_time": "2024-10-16T08:31:02.774772",
     "status": "completed"
    },
    "slideshow": {
     "slide_type": ""
    },
    "tags": [
     "parameters"
    ]
   },
   "outputs": [],
   "source": [
    "kdprov='53'"
   ]
  },
  {
   "cell_type": "code",
   "execution_count": 5,
   "id": "badff298",
   "metadata": {
    "papermill": {
     "duration": 0.011678,
     "end_time": "2024-10-16T08:31:02.801714",
     "exception": false,
     "start_time": "2024-10-16T08:31:02.790036",
     "status": "completed"
    },
    "tags": [
     "injected-parameters"
    ]
   },
   "outputs": [],
   "source": [
    "# Parameters\n",
    "kdprov = 53\n"
   ]
  },
  {
   "cell_type": "code",
   "execution_count": 6,
   "id": "7e0bd5e8-90ad-4dac-938b-2892a96e6ea4",
   "metadata": {
    "editable": true,
    "papermill": {
     "duration": 0.292212,
     "end_time": "2024-10-16T08:31:03.097232",
     "exception": false,
     "start_time": "2024-10-16T08:31:02.805020",
     "status": "completed"
    },
    "slideshow": {
     "slide_type": ""
    },
    "tags": []
   },
   "outputs": [
    {
     "name": "stdout",
     "output_type": "stream",
     "text": [
      "(507905, 44)\n"
     ]
    },
    {
     "data": {
      "text/html": [
       "<div>\n",
       "<style scoped>\n",
       "    .dataframe tbody tr th:only-of-type {\n",
       "        vertical-align: middle;\n",
       "    }\n",
       "\n",
       "    .dataframe tbody tr th {\n",
       "        vertical-align: top;\n",
       "    }\n",
       "\n",
       "    .dataframe thead th {\n",
       "        text-align: right;\n",
       "    }\n",
       "</style>\n",
       "<table border=\"1\" class=\"dataframe\">\n",
       "  <thead>\n",
       "    <tr style=\"text-align: right;\">\n",
       "      <th></th>\n",
       "      <th>idpoint</th>\n",
       "      <th>idsubsegment</th>\n",
       "      <th>idsegment</th>\n",
       "      <th>nth</th>\n",
       "      <th>periode</th>\n",
       "      <th>observation</th>\n",
       "      <th>class</th>\n",
       "      <th>MGRS</th>\n",
       "      <th>VH_30</th>\n",
       "      <th>VH_29</th>\n",
       "      <th>...</th>\n",
       "      <th>VH_4</th>\n",
       "      <th>VH_3</th>\n",
       "      <th>VH_2</th>\n",
       "      <th>VH_1</th>\n",
       "      <th>VH_0</th>\n",
       "      <th>idkabkota</th>\n",
       "      <th>cluster_data</th>\n",
       "      <th>Sigma0VH_variance</th>\n",
       "      <th>winner</th>\n",
       "      <th>prior</th>\n",
       "    </tr>\n",
       "  </thead>\n",
       "  <tbody>\n",
       "    <tr>\n",
       "      <th>0</th>\n",
       "      <td>530203005A3#03</td>\n",
       "      <td>530203005A3</td>\n",
       "      <td>530203005</td>\n",
       "      <td>1</td>\n",
       "      <td>2022_03</td>\n",
       "      <td>6</td>\n",
       "      <td>NP</td>\n",
       "      <td>51LTJ</td>\n",
       "      <td>-15.003157</td>\n",
       "      <td>-14.839792</td>\n",
       "      <td>...</td>\n",
       "      <td>-13.897276</td>\n",
       "      <td>-14.796861</td>\n",
       "      <td>-14.661230</td>\n",
       "      <td>-15.619116</td>\n",
       "      <td>-14.951990</td>\n",
       "      <td>5302</td>\n",
       "      <td>0</td>\n",
       "      <td>0.829796</td>\n",
       "      <td>R1C13</td>\n",
       "      <td>0.528853</td>\n",
       "    </tr>\n",
       "    <tr>\n",
       "      <th>2</th>\n",
       "      <td>530203005A3#09</td>\n",
       "      <td>530203005A3</td>\n",
       "      <td>530203005</td>\n",
       "      <td>1</td>\n",
       "      <td>2022_03</td>\n",
       "      <td>6</td>\n",
       "      <td>NP</td>\n",
       "      <td>51LTJ</td>\n",
       "      <td>-14.024279</td>\n",
       "      <td>-15.679726</td>\n",
       "      <td>...</td>\n",
       "      <td>-13.819187</td>\n",
       "      <td>-14.062122</td>\n",
       "      <td>-13.394154</td>\n",
       "      <td>-15.788738</td>\n",
       "      <td>-13.603525</td>\n",
       "      <td>5302</td>\n",
       "      <td>0</td>\n",
       "      <td>0.829796</td>\n",
       "      <td>R1C13</td>\n",
       "      <td>0.528853</td>\n",
       "    </tr>\n",
       "    <tr>\n",
       "      <th>6</th>\n",
       "      <td>530203005A3#10</td>\n",
       "      <td>530203005A3</td>\n",
       "      <td>530203005</td>\n",
       "      <td>1</td>\n",
       "      <td>2022_03</td>\n",
       "      <td>6</td>\n",
       "      <td>NP</td>\n",
       "      <td>51LTJ</td>\n",
       "      <td>-13.940150</td>\n",
       "      <td>-15.205002</td>\n",
       "      <td>...</td>\n",
       "      <td>-14.051441</td>\n",
       "      <td>-13.974236</td>\n",
       "      <td>-12.852287</td>\n",
       "      <td>-15.443974</td>\n",
       "      <td>-13.848682</td>\n",
       "      <td>5302</td>\n",
       "      <td>0</td>\n",
       "      <td>0.829796</td>\n",
       "      <td>R10C3</td>\n",
       "      <td>0.580280</td>\n",
       "    </tr>\n",
       "    <tr>\n",
       "      <th>8</th>\n",
       "      <td>530203005A3#16</td>\n",
       "      <td>530203005A3</td>\n",
       "      <td>530203005</td>\n",
       "      <td>1</td>\n",
       "      <td>2022_03</td>\n",
       "      <td>6</td>\n",
       "      <td>NP</td>\n",
       "      <td>51LTJ</td>\n",
       "      <td>-13.811125</td>\n",
       "      <td>-13.073202</td>\n",
       "      <td>...</td>\n",
       "      <td>-13.449095</td>\n",
       "      <td>-13.657732</td>\n",
       "      <td>-13.136038</td>\n",
       "      <td>-13.469506</td>\n",
       "      <td>-13.738852</td>\n",
       "      <td>5302</td>\n",
       "      <td>0</td>\n",
       "      <td>0.829796</td>\n",
       "      <td>R14C14</td>\n",
       "      <td>0.510204</td>\n",
       "    </tr>\n",
       "    <tr>\n",
       "      <th>10</th>\n",
       "      <td>530203005A3#18</td>\n",
       "      <td>530203005A3</td>\n",
       "      <td>530203005</td>\n",
       "      <td>1</td>\n",
       "      <td>2022_03</td>\n",
       "      <td>6</td>\n",
       "      <td>NP</td>\n",
       "      <td>51LTJ</td>\n",
       "      <td>-13.002995</td>\n",
       "      <td>-13.710638</td>\n",
       "      <td>...</td>\n",
       "      <td>-12.984497</td>\n",
       "      <td>-12.618353</td>\n",
       "      <td>-11.922312</td>\n",
       "      <td>-12.557711</td>\n",
       "      <td>-12.023638</td>\n",
       "      <td>5302</td>\n",
       "      <td>0</td>\n",
       "      <td>0.829796</td>\n",
       "      <td>R11C12</td>\n",
       "      <td>0.612252</td>\n",
       "    </tr>\n",
       "  </tbody>\n",
       "</table>\n",
       "<p>5 rows × 44 columns</p>\n",
       "</div>"
      ],
      "text/plain": [
       "           idpoint idsubsegment  idsegment  nth  periode  observation class  \\\n",
       "0   530203005A3#03  530203005A3  530203005    1  2022_03            6    NP   \n",
       "2   530203005A3#09  530203005A3  530203005    1  2022_03            6    NP   \n",
       "6   530203005A3#10  530203005A3  530203005    1  2022_03            6    NP   \n",
       "8   530203005A3#16  530203005A3  530203005    1  2022_03            6    NP   \n",
       "10  530203005A3#18  530203005A3  530203005    1  2022_03            6    NP   \n",
       "\n",
       "     MGRS      VH_30      VH_29  ...       VH_4       VH_3       VH_2  \\\n",
       "0   51LTJ -15.003157 -14.839792  ... -13.897276 -14.796861 -14.661230   \n",
       "2   51LTJ -14.024279 -15.679726  ... -13.819187 -14.062122 -13.394154   \n",
       "6   51LTJ -13.940150 -15.205002  ... -14.051441 -13.974236 -12.852287   \n",
       "8   51LTJ -13.811125 -13.073202  ... -13.449095 -13.657732 -13.136038   \n",
       "10  51LTJ -13.002995 -13.710638  ... -12.984497 -12.618353 -11.922312   \n",
       "\n",
       "         VH_1       VH_0  idkabkota  cluster_data  Sigma0VH_variance  winner  \\\n",
       "0  -15.619116 -14.951990       5302             0           0.829796   R1C13   \n",
       "2  -15.788738 -13.603525       5302             0           0.829796   R1C13   \n",
       "6  -15.443974 -13.848682       5302             0           0.829796   R10C3   \n",
       "8  -13.469506 -13.738852       5302             0           0.829796  R14C14   \n",
       "10 -12.557711 -12.023638       5302             0           0.829796  R11C12   \n",
       "\n",
       "       prior  \n",
       "0   0.528853  \n",
       "2   0.528853  \n",
       "6   0.580280  \n",
       "8   0.510204  \n",
       "10  0.612252  \n",
       "\n",
       "[5 rows x 44 columns]"
      ]
     },
     "execution_count": 6,
     "metadata": {},
     "output_type": "execute_result"
    }
   ],
   "source": [
    "## Read VH dataset\n",
    "with open(f'/data/ksa/04_Data_Preprocessing/training-test/{kdprov}/training_VH_v2.pkl','rb') as file:\n",
    "    df=pickle.load(file)\n",
    "    if isinstance(df, pl.DataFrame):\n",
    "        df=df.to_pandas()\n",
    "print(df.shape)\n",
    "df.head()"
   ]
  },
  {
   "cell_type": "code",
   "execution_count": 7,
   "id": "ba9b5bc3-277c-4dc7-8e2b-40debb17c2cf",
   "metadata": {
    "papermill": {
     "duration": 1.465635,
     "end_time": "2024-10-16T08:31:04.567024",
     "exception": false,
     "start_time": "2024-10-16T08:31:03.101389",
     "status": "completed"
    },
    "tags": []
   },
   "outputs": [
    {
     "data": {
      "image/png": "[encoded data removed]",
      "text/plain": [
       "<Figure size 640x480 with 1 Axes>"
      ]
     },
     "metadata": {},
     "output_type": "display_data"
    }
   ],
   "source": [
    "sns.countplot(x='observation', hue='cluster_data', data=df,palette=sns.color_palette(\"Set2\"))\n",
    "plt.savefig(f\"/data/ksa/05_Modelling/picture/{kdprov}_distirbution_plot.png\", dpi=300, bbox_inches='tight')"
   ]
  },
  {
   "cell_type": "code",
   "execution_count": 14,
   "id": "538d7670-5398-4e04-8777-4b81d927eb6d",
   "metadata": {},
   "outputs": [
    {
     "name": "stdout",
     "output_type": "stream",
     "text": [
      "cluster_data\n",
      "0    40600\n",
      "1    40600\n",
      "2    40600\n",
      "3    40600\n",
      "4    40600\n",
      "5    40600\n",
      "6    40600\n",
      "Name: count, dtype: int64\n"
     ]
    }
   ],
   "source": [
    "# Import library\n",
    "import pandas as pd\n",
    "\n",
    "# Menentukan jumlah sampel minimum dari setiap 'cluster_data'\n",
    "min_count = df.groupby(['cluster_data','observation'])['observation'].count().min()\n",
    "\n",
    "# Mengambil sampel agar setiap 'cluster_data' memiliki jumlah 'observation' yang sama\n",
    "df_balanced = df.groupby(['cluster_data', 'observation']).apply(lambda x: x.sample(n=min_count, random_state=42)).reset_index(drop=True)\n",
    "\n",
    "# Menampilkan hasil\n",
    "print(df_balanced['cluster_data'].value_counts())\n"
   ]
  },
  {
   "cell_type": "code",
   "execution_count": 15,
   "id": "77f4b7d3-d68d-4e2f-92c9-33b87b1c0d29",
   "metadata": {},
   "outputs": [
    {
     "data": {
      "image/png": "[encoded data removed]",
      "text/plain": [
       "<Figure size 640x480 with 1 Axes>"
      ]
     },
     "metadata": {},
     "output_type": "display_data"
    }
   ],
   "source": [
    "sns.countplot(x='observation', hue='cluster_data', data=df_balanced,palette=sns.color_palette(\"Set2\"))\n",
    "plt.savefig(f\"/data/ksa/05_Modelling/picture/{kdprov}_distirbution_plot.png\", dpi=300, bbox_inches='tight')"
   ]
  },
  {
   "cell_type": "code",
   "execution_count": 18,
   "id": "faf6a8e1-c605-4a3c-856d-39b250bf3246",
   "metadata": {},
   "outputs": [],
   "source": [
    "df = df_balanced.copy()"
   ]
  },
  {
   "cell_type": "markdown",
   "id": "da80a265-9a12-4d2c-8b96-17ad999f2b53",
   "metadata": {
    "papermill": {
     "duration": 0.004138,
     "end_time": "2024-10-16T08:31:04.575666",
     "exception": false,
     "start_time": "2024-10-16T08:31:04.571528",
     "status": "completed"
    },
    "tags": []
   },
   "source": [
    "### Running Data"
   ]
  },
  {
   "cell_type": "code",
   "execution_count": 19,
   "id": "94f2a9fa-36a6-47a7-ab48-85cdb1f2f569",
   "metadata": {
    "papermill": {
     "duration": 0.021453,
     "end_time": "2024-10-16T08:31:04.667058",
     "exception": false,
     "start_time": "2024-10-16T08:31:04.645605",
     "status": "completed"
    },
    "tags": []
   },
   "outputs": [],
   "source": [
    "import optuna\n",
    "from xgboost import XGBClassifier\n",
    "\n",
    "# Example dataset\n",
    "\n",
    "# Define the objective function for Bayesian Optimization\n",
    "def objective(trial,X_train, y_train, n_splits=3):\n",
    "    \n",
    "    param = {\n",
    "        'max_depth': trial.suggest_int('max_depth', 6, 10),\n",
    "        'learning_rate': trial.suggest_uniform('learning_rate', 0.01, 0.1),\n",
    "        #'subsample': trial.suggest_uniform('subsample', 0.5, 0.7),\n",
    "        #'colsample_bytree': trial.suggest_uniform('colsample_bytree', 0.5, 0.7),\n",
    "        #'colsample_bylevel': trial.suggest_uniform('colsample_bylevel', 0.5, 0.7),\n",
    "        'reg_lambda': trial.suggest_uniform('reg_lambda', 0.1, 5),\n",
    "        'min_child_weight': trial.suggest_int('min_child_weight', 50, 100),\n",
    "        'objective': 'multi:softprob',  # Multiclass classification\n",
    "        'eval_metric': ['mlogloss'],\n",
    "        \"tree_method\":'hist',\n",
    "        \"num_class\": len(set(y_train)),\n",
    "        \"nthread\":20\n",
    "    }\n",
    "    \n",
    "    # Define the model\n",
    "    skf = StratifiedKFold(n_splits=n_splits,shuffle=True, random_state=42)\n",
    "    f1_macros=[]\n",
    "    for train_index, val_index in skf.split(X_train, y_train):\n",
    "        X_train_fold, X_val_fold = X_train.iloc[train_index], X_train.iloc[val_index]\n",
    "        y_train_fold, y_val_fold = y_train[train_index], y_train[val_index]\n",
    "\n",
    "        class_counts = Counter(y_train_fold)\n",
    "        total_samples = len(y_train_fold)\n",
    "        # Step 3: Calculate class weights as inverse of class frequency\n",
    "        class_weights = {cls: total_samples / count for cls, count in class_counts.items()}\n",
    "        sample_weights = np.array([class_weights[label] for label in y_train_fold])\n",
    "        # Create DMatrix with sample weights\n",
    "        dtrain_fold = xgb.DMatrix(X_train_fold, label=y_train_fold, enable_categorical=True, weight=sample_weights)\n",
    "        dval_fold = xgb.DMatrix(X_val_fold, label=y_val_fold, enable_categorical=True)\n",
    "        \n",
    "        evals = [(dtrain_fold, 'train'), (dval_fold, 'eval')]\n",
    "        model = xgb.train(param, dtrain_fold, \n",
    "                          num_boost_round=1000, evals=evals,early_stopping_rounds=50,\n",
    "                          verbose_eval=False)\n",
    "        y_val_pred_prob = model.predict(dval_fold)\n",
    "        y_val_pred = y_val_pred_prob.argmax(axis=1)\n",
    "        f1_macros.append(f1_score(y_val_fold, y_val_pred, average='macro'))\n",
    "    score=np.mean(f1_macros)\n",
    "    \n",
    "    return score"
   ]
  },
  {
   "cell_type": "code",
   "execution_count": 22,
   "id": "d60642b2-2944-4f3d-b337-3250ba03a3cd",
   "metadata": {
    "papermill": {
     "duration": 0.031341,
     "end_time": "2024-10-16T08:31:04.703118",
     "exception": false,
     "start_time": "2024-10-16T08:31:04.671777",
     "status": "completed"
    },
    "tags": []
   },
   "outputs": [],
   "source": [
    "def evaluate_model(X_train, y_train, X_test, y_test,cluster, best_params, n_splits=3):\n",
    "    # Convert data to DMatrix for XGBoost\n",
    "    class_counts = Counter(y_train)\n",
    "    total_samples = len(y_train)\n",
    "        # Step 3: Calculate class weights as inverse of class frequency\n",
    "    class_weights = {cls: total_samples / count for cls, count in class_counts.items()}\n",
    "    sample_weights = np.array([class_weights[label] for label in y_train])\n",
    "        # Create DMatrix with sample weights\n",
    "        \n",
    "    dtrain = xgb.DMatrix(X_train, label=y_train, enable_categorical=True,weight=sample_weights)\n",
    "    dtest = xgb.DMatrix(X_test, label=y_test, enable_categorical=True)\n",
    "    \n",
    "    params = best_params\n",
    "    params['objective']=\"multi:softprob\"\n",
    "    #params['tree_method']='approx'\n",
    "    params['eval_metric']='mlogloss'\n",
    "    params['num_class']=len(set(y_train))\n",
    "    params['nthread']=20\n",
    "    # Stratified K-Fold Cross Validation\n",
    "    skf = StratifiedKFold(n_splits=n_splits, shuffle=True, random_state=42)\n",
    "    \n",
    "    accuracies = []\n",
    "    f1_macros = []\n",
    "    f1_micros = []\n",
    "    aucs = []\n",
    "    acc_kelas_generatifs = []\n",
    "    acc_fase_padis = []\n",
    "\n",
    "    for train_index, val_index in skf.split(X_train, y_train):\n",
    "        X_train_fold, X_val_fold = X_train.iloc[train_index], X_train.iloc[val_index]\n",
    "        y_train_fold, y_val_fold = y_train[train_index], y_train[val_index]\n",
    "\n",
    "        class_counts = Counter(y_train_fold)\n",
    "        total_samples = len(y_train_fold)\n",
    "        # Step 3: Calculate class weights as inverse of class frequency\n",
    "        class_weights = {cls: total_samples / count for cls, count in class_counts.items()}\n",
    "        sample_weights = np.array([class_weights[label] for label in y_train_fold])\n",
    "        # Create DMatrix with sample weights\n",
    "        dtrain_fold = xgb.DMatrix(X_train_fold, label=y_train_fold, enable_categorical=True, weight=sample_weights)\n",
    "        dval_fold = xgb.DMatrix(X_val_fold, label=y_val_fold, enable_categorical=True)\n",
    "        \n",
    "        evals = [(dtrain_fold, 'train'), (dval_fold, 'eval')]\n",
    "        model = xgb.train(params, dtrain_fold, \n",
    "                          num_boost_round=10000, evals=evals,early_stopping_rounds=1000,verbose_eval=100)\n",
    "        \n",
    "        y_val_pred_prob = model.predict(dval_fold)\n",
    "        y_val_pred = y_val_pred_prob.argmax(axis=1)\n",
    "        \n",
    "        accuracies.append(accuracy_score(y_val_fold, y_val_pred))\n",
    "        f1_macros.append(f1_score(y_val_fold, y_val_pred, average='macro'))\n",
    "        f1_micros.append(f1_score(y_val_fold, y_val_pred, average='micro'))\n",
    "        aucs.append(roc_auc_score(y_val_fold, y_val_pred_prob, multi_class='ovr'))\n",
    "        acc_kelas_generatifs.append(akurasi_kelas_generatif(y_val_fold, y_val_pred))\n",
    "        acc_fase_padis.append(akurasi_fase_padi(y_val_fold, y_val_pred))\n",
    "\n",
    "    # Calculate average metrics\n",
    "    avg_accuracy = sum(accuracies) / len(accuracies)\n",
    "    avg_f1_macro = sum(f1_macros) / len(f1_macros)\n",
    "    avg_f1_micro = sum(f1_micros) / len(f1_micros)\n",
    "    avg_auc = sum(aucs) / len(aucs)\n",
    "    avg_acc_kelas_generatif = sum(acc_kelas_generatifs) / len(acc_kelas_generatifs)\n",
    "    avg_acc_fase_padi = sum(acc_fase_padis) / len(acc_fase_padis)\n",
    "    training_metrics = {\n",
    "        \"average_accuracy\": avg_accuracy,\n",
    "        \"average_f1_macro\": avg_f1_macro,\n",
    "        \"average_f1_micro\": avg_f1_micro,\n",
    "        \"average_auc\": avg_auc,\n",
    "        \"average_acc_kelas_generatif\": avg_acc_kelas_generatif,\n",
    "        \"average_acc_fase_padi\": avg_acc_fase_padi\n",
    "    }\n",
    "\n",
    "    \n",
    "    # Final model evaluation on the test set\n",
    "    evals = [(dtrain, 'train'), (dtest, 'eval')]\n",
    "    model = xgb.train(params, dtrain, \n",
    "                      num_boost_round=1000, evals=evals,early_stopping_rounds=50,\n",
    "                      verbose_eval=50)\n",
    "    y_test_pred_prob = model.predict(dtest)\n",
    "    y_test_pred = y_test_pred_prob.argmax(axis=1)\n",
    "\n",
    "    accuracy = accuracy_score(y_test, y_test_pred)\n",
    "    f1_macro = f1_score(y_test, y_test_pred, average='macro')\n",
    "    f1_micro = f1_score(y_test, y_test_pred, average='micro')\n",
    "    auc = roc_auc_score(y_test, y_test_pred_prob, multi_class='ovr')\n",
    "    acc_kelas_generatif = akurasi_kelas_generatif(y_test, y_test_pred)\n",
    "    acc_fase_padi = akurasi_fase_padi(y_test, y_test_pred)\n",
    "    \n",
    "    cm = confusion_matrix(y_test, y_test_pred)\n",
    "    relative_acc = 100 * (sum(cm[1, 1:3]) + sum(cm[1, 5:6]) + \n",
    "                          sum(cm[2, 1:4]) + \n",
    "                          sum(cm[3, 2:5]) + \n",
    "                          sum(cm[4, 3:6]) + \n",
    "                          sum(cm[5, 4:6])+sum(cm[5,1:2])) / sum(sum(cm[1:6, 1:6]))\n",
    "    validation_metrics = {\n",
    "        \"val_accuracy\": accuracy,\n",
    "        \"val_f1_macro\": f1_macro,\n",
    "        \"val_f1_micro\": f1_micro,\n",
    "        \"val_auc\": auc,\n",
    "        \"val_acc_kelas_generatif\": acc_kelas_generatif,\n",
    "        \"val_acc_fase_padi\": acc_fase_padi,\n",
    "        \"val_relative_acc\": relative_acc\n",
    "    }\n",
    "\n",
    "    print(\"\\nClassification Report on Test Set:\")\n",
    "    report = classification_report(y_test, y_test_pred)\n",
    "    print(report)\n",
    "    \n",
    "    # Display Confusion Matrix\n",
    "    cm_percentage = cm.astype('float') / cm.sum(axis=1)[:, np.newaxis] * 100\n",
    "\n",
    "    disp = ConfusionMatrixDisplay(confusion_matrix=cm_percentage)\n",
    "    disp.plot(cmap=plt.cm.Blues)\n",
    "    plt.savefig(f\"/data/ksa/05_Modelling/picture/{kdprov}_cm_cluster_{cluster}_balanced.png\", dpi=300, bbox_inches='tight')\n",
    "    plt.show()\n",
    "    \n",
    "    return model, training_metrics, validation_metrics, report, cm"
   ]
  },
  {
   "cell_type": "code",
   "execution_count": null,
   "id": "f4462c6e-e78a-4409-8951-07e164e2986c",
   "metadata": {
    "editable": true,
    "papermill": {
     "duration": 7037.89755,
     "end_time": "2024-10-16T10:28:22.605157",
     "exception": false,
     "start_time": "2024-10-16T08:31:04.707607",
     "status": "completed"
    },
    "slideshow": {
     "slide_type": ""
    },
    "tags": []
   },
   "outputs": [
    {
     "name": "stdout",
     "output_type": "stream",
     "text": [
      "=============================================================================\n",
      "CLUSTER:  0\n"
     ]
    },
    {
     "name": "stderr",
     "output_type": "stream",
     "text": [
      "[I 2024-10-29 08:59:30,560] A new study created in memory with name: no-name-b72bedb8-8993-474f-b402-c023f946024a\n"
     ]
    },
    {
     "name": "stdout",
     "output_type": "stream",
     "text": [
      "[0 1 2 3 4 5 6]\n",
      "[0 1 2 3 4 5 6]\n",
      "Mapping of original to encoded classes: {np.int64(0): np.int64(0), np.int64(1): np.int64(1), np.int64(2): np.int64(2), np.int64(3): np.int64(3), np.int64(4): np.int64(4), np.int64(5): np.int64(5), np.int64(6): np.int64(6)}\n",
      "Build Best Parameter using Optuna-Hyperparameter Tuning\n"
     ]
    },
    {
     "name": "stderr",
     "output_type": "stream",
     "text": [
      "[I 2024-10-29 08:59:40,282] Trial 0 finished with value: 0.6687892836725805 and parameters: {'max_depth': 7, 'learning_rate': 0.08843357506403776, 'reg_lambda': 4.996452115075493, 'min_child_weight': 86}. Best is trial 0 with value: 0.6687892836725805.\n",
      "[I 2024-10-29 08:59:54,804] Trial 1 finished with value: 0.6676636296603081 and parameters: {'max_depth': 7, 'learning_rate': 0.05453130090897565, 'reg_lambda': 0.5152394753546592, 'min_child_weight': 58}. Best is trial 0 with value: 0.6687892836725805.\n",
      "[I 2024-10-29 09:00:06,522] Trial 2 finished with value: 0.6704286014221742 and parameters: {'max_depth': 8, 'learning_rate': 0.07959124363978089, 'reg_lambda': 4.076175291769102, 'min_child_weight': 79}. Best is trial 2 with value: 0.6704286014221742.\n",
      "[I 2024-10-29 09:00:19,036] Trial 3 finished with value: 0.672185205577081 and parameters: {'max_depth': 8, 'learning_rate': 0.06908735926399574, 'reg_lambda': 4.9119459669619685, 'min_child_weight': 91}. Best is trial 3 with value: 0.672185205577081.\n",
      "[I 2024-10-29 09:00:30,611] Trial 4 finished with value: 0.6676268096549943 and parameters: {'max_depth': 7, 'learning_rate': 0.07779575386349598, 'reg_lambda': 1.7328501491387613, 'min_child_weight': 78}. Best is trial 3 with value: 0.672185205577081.\n",
      "[I 2024-10-29 09:01:15,874] Trial 5 finished with value: 0.6719184686741074 and parameters: {'max_depth': 10, 'learning_rate': 0.01739772526170626, 'reg_lambda': 0.6361890348161071, 'min_child_weight': 83}. Best is trial 3 with value: 0.672185205577081.\n",
      "[I 2024-10-29 09:01:54,467] Trial 6 finished with value: 0.6665666217045597 and parameters: {'max_depth': 6, 'learning_rate': 0.018435516045090344, 'reg_lambda': 2.712290566859101, 'min_child_weight': 83}. Best is trial 3 with value: 0.672185205577081.\n",
      "[I 2024-10-29 09:02:09,016] Trial 7 finished with value: 0.6761285244190733 and parameters: {'max_depth': 10, 'learning_rate': 0.06783666409012698, 'reg_lambda': 4.90864690342972, 'min_child_weight': 60}. Best is trial 7 with value: 0.6761285244190733.\n",
      "[I 2024-10-29 09:02:23,716] Trial 8 finished with value: 0.6707196012063449 and parameters: {'max_depth': 8, 'learning_rate': 0.05855270266303936, 'reg_lambda': 3.6355815309928325, 'min_child_weight': 96}. Best is trial 7 with value: 0.6761285244190733.\n",
      "[I 2024-10-29 09:03:20,394] Trial 9 finished with value: 0.67013414841449 and parameters: {'max_depth': 8, 'learning_rate': 0.012756088763271294, 'reg_lambda': 1.6695552626234211, 'min_child_weight': 98}. Best is trial 7 with value: 0.6761285244190733.\n"
     ]
    },
    {
     "name": "stdout",
     "output_type": "stream",
     "text": [
      "Best Parameters: {'max_depth': 10, 'learning_rate': 0.06783666409012698, 'reg_lambda': 4.90864690342972, 'min_child_weight': 60}\n",
      "Best Score: 0.6761285244190733\n",
      "Start the modelling\n",
      "[0]\ttrain-mlogloss:1.83748\teval-mlogloss:1.85581\n",
      "[100]\ttrain-mlogloss:0.32040\teval-mlogloss:0.92778\n",
      "[200]\ttrain-mlogloss:0.16759\teval-mlogloss:0.92866\n",
      "[300]\ttrain-mlogloss:0.10016\teval-mlogloss:0.95073\n",
      "[400]\ttrain-mlogloss:0.06873\teval-mlogloss:0.97286\n",
      "[500]\ttrain-mlogloss:0.05172\teval-mlogloss:0.99433\n",
      "[600]\ttrain-mlogloss:0.04169\teval-mlogloss:1.01273\n",
      "[700]\ttrain-mlogloss:0.03513\teval-mlogloss:1.02877\n",
      "[800]\ttrain-mlogloss:0.03064\teval-mlogloss:1.04283\n",
      "[900]\ttrain-mlogloss:0.02731\teval-mlogloss:1.05423\n",
      "[1000]\ttrain-mlogloss:0.02479\teval-mlogloss:1.06587\n",
      "[1100]\ttrain-mlogloss:0.02282\teval-mlogloss:1.07622\n",
      "[1131]\ttrain-mlogloss:0.02230\teval-mlogloss:1.07874\n",
      "[0]\ttrain-mlogloss:1.83851\teval-mlogloss:1.85561\n",
      "[100]\ttrain-mlogloss:0.31023\teval-mlogloss:0.93056\n",
      "[200]\ttrain-mlogloss:0.16162\teval-mlogloss:0.92782\n",
      "[300]\ttrain-mlogloss:0.09771\teval-mlogloss:0.94701\n",
      "[400]\ttrain-mlogloss:0.06742\teval-mlogloss:0.96956\n",
      "[500]\ttrain-mlogloss:0.05106\teval-mlogloss:0.99115\n",
      "[600]\ttrain-mlogloss:0.04147\teval-mlogloss:1.01093\n",
      "[700]\ttrain-mlogloss:0.03504\teval-mlogloss:1.02915\n",
      "[800]\ttrain-mlogloss:0.03058\teval-mlogloss:1.04377\n",
      "[900]\ttrain-mlogloss:0.02725\teval-mlogloss:1.05719\n",
      "[1000]\ttrain-mlogloss:0.02471\teval-mlogloss:1.06840\n",
      "[1100]\ttrain-mlogloss:0.02274\teval-mlogloss:1.07789\n",
      "[1146]\ttrain-mlogloss:0.02197\teval-mlogloss:1.08252\n",
      "[0]\ttrain-mlogloss:1.83853\teval-mlogloss:1.85297\n",
      "[100]\ttrain-mlogloss:0.31159\teval-mlogloss:0.90521\n",
      "[200]\ttrain-mlogloss:0.16414\teval-mlogloss:0.90749\n",
      "[300]\ttrain-mlogloss:0.09995\teval-mlogloss:0.92598\n",
      "[400]\ttrain-mlogloss:0.06831\teval-mlogloss:0.94705\n",
      "[500]\ttrain-mlogloss:0.05135\teval-mlogloss:0.96586\n",
      "[600]\ttrain-mlogloss:0.04140\teval-mlogloss:0.98303\n",
      "[700]\ttrain-mlogloss:0.03501\teval-mlogloss:0.99743\n",
      "[800]\ttrain-mlogloss:0.03050\teval-mlogloss:1.01085\n",
      "[900]\ttrain-mlogloss:0.02719\teval-mlogloss:1.02303\n",
      "[1000]\ttrain-mlogloss:0.02469\teval-mlogloss:1.03405\n",
      "[1100]\ttrain-mlogloss:0.02273\teval-mlogloss:1.04448\n",
      "[1165]\ttrain-mlogloss:0.02166\teval-mlogloss:1.05007\n",
      "[0]\ttrain-mlogloss:1.83544\teval-mlogloss:1.85242\n",
      "[50]\ttrain-mlogloss:0.53328\teval-mlogloss:0.95834\n",
      "[100]\ttrain-mlogloss:0.34004\teval-mlogloss:0.90339\n",
      "[150]\ttrain-mlogloss:0.25660\teval-mlogloss:0.89768\n",
      "[200]\ttrain-mlogloss:0.19676\teval-mlogloss:0.89865\n",
      "[217]\ttrain-mlogloss:0.18041\teval-mlogloss:0.89970\n",
      "\n",
      "Classification Report on Test Set:\n",
      "              precision    recall  f1-score   support\n",
      "\n",
      "           0       0.75      0.79      0.77      4060\n",
      "           1       0.78      0.72      0.75      4060\n",
      "           2       0.61      0.56      0.58      4060\n",
      "           3       0.83      0.84      0.83      4060\n",
      "           4       0.67      0.59      0.63      4060\n",
      "           5       0.57      0.53      0.55      4060\n",
      "           6       0.59      0.76      0.67      4060\n",
      "\n",
      "    accuracy                           0.68     28420\n",
      "   macro avg       0.69      0.68      0.68     28420\n",
      "weighted avg       0.69      0.68      0.68     28420\n",
      "\n"
     ]
    },
    {
     "data": {
      "image/png": "[encoded data removed]",
      "text/plain": [
       "<Figure size 640x480 with 1 Axes>"
      ]
     },
     "metadata": {},
     "output_type": "display_data"
    },
    {
     "data": {
      "image/png": "[encoded data removed]",
      "text/plain": [
       "<Figure size 640x480 with 2 Axes>"
      ]
     },
     "metadata": {},
     "output_type": "display_data"
    },
    {
     "name": "stdout",
     "output_type": "stream",
     "text": [
      "{'average_accuracy': 0.6784072249589491, 'average_f1_macro': np.float64(0.6761083532472685), 'average_f1_micro': np.float64(0.6784072249589491), 'average_auc': np.float64(0.9200185672762963), 'average_acc_kelas_generatif': 0.8195402298850575, 'average_acc_fase_padi': 0.6676724137931034}\n",
      "{'val_accuracy': 0.6847290640394089, 'val_f1_macro': np.float64(0.6829263730475521), 'val_f1_micro': np.float64(0.6847290640394089), 'val_auc': np.float64(0.9254559264677503), 'val_acc_kelas_generatif': 0.8426108374384237, 'val_acc_fase_padi': 0.6773399014778325, 'val_relative_acc': np.float64(93.98282464894974)}\n",
      "=============================================================================\n",
      "=============================================================================\n",
      "CLUSTER:  1\n"
     ]
    },
    {
     "name": "stderr",
     "output_type": "stream",
     "text": [
      "[I 2024-10-29 09:04:32,062] A new study created in memory with name: no-name-48d1c2e2-dcc4-48cd-8ccb-2a76dd870c01\n"
     ]
    },
    {
     "name": "stdout",
     "output_type": "stream",
     "text": [
      "[0 1 2 3 4 5 6]\n",
      "[0 1 2 3 4 5 6]\n",
      "Mapping of original to encoded classes: {np.int64(0): np.int64(0), np.int64(1): np.int64(1), np.int64(2): np.int64(2), np.int64(3): np.int64(3), np.int64(4): np.int64(4), np.int64(5): np.int64(5), np.int64(6): np.int64(6)}\n",
      "Build Best Parameter using Optuna-Hyperparameter Tuning\n"
     ]
    },
    {
     "name": "stderr",
     "output_type": "stream",
     "text": [
      "[I 2024-10-29 09:05:02,098] Trial 0 finished with value: 0.7189546977346571 and parameters: {'max_depth': 8, 'learning_rate': 0.03518837762426845, 'reg_lambda': 3.7747973112420263, 'min_child_weight': 78}. Best is trial 0 with value: 0.7189546977346571.\n",
      "[I 2024-10-29 09:05:38,056] Trial 1 finished with value: 0.7171742065044202 and parameters: {'max_depth': 7, 'learning_rate': 0.030668455238535848, 'reg_lambda': 3.271346087277093, 'min_child_weight': 83}. Best is trial 0 with value: 0.7189546977346571.\n",
      "[I 2024-10-29 09:06:07,411] Trial 2 finished with value: 0.7229725274843376 and parameters: {'max_depth': 10, 'learning_rate': 0.034591912961435003, 'reg_lambda': 0.4091530118683695, 'min_child_weight': 90}. Best is trial 2 with value: 0.7229725274843376.\n",
      "[I 2024-10-29 09:06:39,461] Trial 3 finished with value: 0.7180930903463757 and parameters: {'max_depth': 8, 'learning_rate': 0.03244906389492609, 'reg_lambda': 1.2450900104251676, 'min_child_weight': 99}. Best is trial 2 with value: 0.7229725274843376.\n",
      "[I 2024-10-29 09:06:55,447] Trial 4 finished with value: 0.717867746005589 and parameters: {'max_depth': 6, 'learning_rate': 0.07392676354821962, 'reg_lambda': 0.1231834021472743, 'min_child_weight': 66}. Best is trial 2 with value: 0.7229725274843376.\n",
      "[I 2024-10-29 09:07:12,306] Trial 5 finished with value: 0.7189077755079722 and parameters: {'max_depth': 6, 'learning_rate': 0.07782590216206324, 'reg_lambda': 3.4197751847754367, 'min_child_weight': 81}. Best is trial 2 with value: 0.7229725274843376.\n",
      "[I 2024-10-29 09:07:25,696] Trial 6 finished with value: 0.7135984941346308 and parameters: {'max_depth': 6, 'learning_rate': 0.09133451305517484, 'reg_lambda': 0.18156221461725522, 'min_child_weight': 97}. Best is trial 2 with value: 0.7229725274843376.\n",
      "[I 2024-10-29 09:07:59,698] Trial 7 finished with value: 0.7244670931117314 and parameters: {'max_depth': 10, 'learning_rate': 0.03472362382629191, 'reg_lambda': 1.3178033039368438, 'min_child_weight': 81}. Best is trial 7 with value: 0.7244670931117314.\n"
     ]
    },
    {
     "name": "stdout",
     "output_type": "stream",
     "text": [
      "[400]\ttrain-mlogloss:0.03878\teval-mlogloss:0.24393\n"
     ]
    },
    {
     "name": "stdout",
     "output_type": "stream",
     "text": [
      "[450]\ttrain-mlogloss:0.03290\teval-mlogloss:0.24404\n"
     ]
    },
    {
     "name": "stdout",
     "output_type": "stream",
     "text": [
      "[481]\ttrain-mlogloss:0.02968\teval-mlogloss:0.24438\n"
     ]
    },
    {
     "name": "stdout",
     "output_type": "stream",
     "text": [
      "\n",
      "Classification Report on Test Set:\n",
      "              precision    recall  f1-score   support\n",
      "\n",
      "           0       0.88      0.87      0.88     12816\n",
      "           1       0.95      0.97      0.96     10671\n",
      "           2       0.93      0.94      0.94      6606\n",
      "           3       0.93      0.95      0.94     10453\n",
      "           4       0.93      0.95      0.94     10836\n",
      "           5       0.93      0.95      0.94      4497\n",
      "           6       0.80      0.73      0.77      6666\n",
      "\n",
      "    accuracy                           0.91     62545\n",
      "   macro avg       0.91      0.91      0.91     62545\n",
      "weighted avg       0.91      0.91      0.91     62545\n",
      "\n"
     ]
    },
    {
     "data": {
      "image/png": "[encoded data removed]",
      "text/plain": [
       "<Figure size 640x480 with 1 Axes>"
      ]
     },
     "metadata": {},
     "output_type": "display_data"
    },
    {
     "data": {
      "image/png": "[encoded data removed]",
      "text/plain": [
       "<Figure size 640x480 with 2 Axes>"
      ]
     },
     "metadata": {},
     "output_type": "display_data"
    },
    {
     "name": "stdout",
     "output_type": "stream",
     "text": [
      "{'average_accuracy': 0.906207861359894, 'average_f1_macro': 0.9013060411749709, 'average_f1_micro': 0.906207861359894, 'average_auc': 0.9886582482324971, 'average_acc_kelas_generatif': 0.9437511899200582, 'average_acc_fase_padi': 0.9496009544056471}\n",
      "{'val_accuracy': 0.9127827963866016, 'val_f1_macro': 0.9089535041023575, 'val_f1_micro': 0.9127827963866016, 'val_auc': 0.9909863400060598, 'val_acc_kelas_generatif': 0.9470965273127332, 'val_acc_fase_padi': 0.9520302857439196, 'val_relative_acc': 99.92229992229993}\n",
      "=============================================================================\n",
      "=============================================================================\n",
      "CLUSTER:  4\n"
     ]
    },
    {
     "name": "stderr",
     "output_type": "stream",
     "text": [
      "[I 2024-10-16 17:02:38,170] A new study created in memory with name: no-name-2dbde144-557f-4130-9a88-eca4118d19b7\n"
     ]
    },
    {
     "name": "stdout",
     "output_type": "stream",
     "text": [
      "[0 2 1 3 4 6 5]\n",
      "[0 1 2 3 4 5 6]\n",
      "Mapping of original to encoded classes: {0: 0, 1: 1, 2: 2, 3: 3, 4: 4, 5: 5, 6: 6}\n",
      "Build Best Parameter using Optuna-Hyperparameter Tuning\n"
     ]
    },
    {
     "name": "stderr",
     "output_type": "stream",
     "text": [
      "[I 2024-10-16 17:04:12,569] Trial 0 finished with value: 0.9639883986506321 and parameters: {'max_depth': 6, 'learning_rate': 0.024894990849363613, 'reg_lambda': 0.9980363438478806, 'min_child_weight': 61}. Best is trial 0 with value: 0.9639883986506321.\n"
     ]
    },
    {
     "name": "stderr",
     "output_type": "stream",
     "text": [
      "[I 2024-10-16 17:04:49,948] Trial 1 finished with value: 0.9658529203698465 and parameters: {'max_depth': 6, 'learning_rate': 0.09978245275239626, 'reg_lambda': 1.2548875989830552, 'min_child_weight': 56}. Best is trial 1 with value: 0.9658529203698465.\n"
     ]
    },
    {
     "name": "stderr",
     "output_type": "stream",
     "text": [
      "[I 2024-10-16 17:06:19,334] Trial 2 finished with value: 0.9652706460733583 and parameters: {'max_depth': 9, 'learning_rate': 0.023193434565422825, 'reg_lambda': 0.8276494453725025, 'min_child_weight': 68}. Best is trial 1 with value: 0.9658529203698465.\n"
     ]
    },
    {
     "name": "stderr",
     "output_type": "stream",
     "text": [
      "[I 2024-10-16 17:08:12,042] Trial 3 finished with value: 0.9649660607290002 and parameters: {'max_depth': 6, 'learning_rate': 0.034792085246846495, 'reg_lambda': 3.7704369161799027, 'min_child_weight': 54}. Best is trial 1 with value: 0.9658529203698465.\n"
     ]
    },
    {
     "name": "stderr",
     "output_type": "stream",
     "text": [
      "[I 2024-10-16 17:09:06,638] Trial 4 finished with value: 0.9655282192659046 and parameters: {'max_depth': 8, 'learning_rate': 0.05868385083786465, 'reg_lambda': 0.8915817208569621, 'min_child_weight': 70}. Best is trial 1 with value: 0.9658529203698465.\n"
     ]
    },
    {
     "name": "stderr",
     "output_type": "stream",
     "text": [
      "[I 2024-10-16 17:10:02,986] Trial 5 finished with value: 0.9653318247962104 and parameters: {'max_depth': 7, 'learning_rate': 0.0626138567576201, 'reg_lambda': 2.0907816671962736, 'min_child_weight': 53}. Best is trial 1 with value: 0.9658529203698465.\n"
     ]
    },
    {
     "name": "stderr",
     "output_type": "stream",
     "text": [
      "[I 2024-10-16 17:11:04,956] Trial 6 finished with value: 0.966751523767003 and parameters: {'max_depth': 8, 'learning_rate': 0.05809987272179141, 'reg_lambda': 1.186729164320424, 'min_child_weight': 50}. Best is trial 6 with value: 0.966751523767003.\n"
     ]
    },
    {
     "name": "stderr",
     "output_type": "stream",
     "text": [
      "[I 2024-10-16 17:11:39,880] Trial 7 finished with value: 0.9655303612510369 and parameters: {'max_depth': 6, 'learning_rate': 0.0942061370232696, 'reg_lambda': 1.9261284081318397, 'min_child_weight': 67}. Best is trial 6 with value: 0.966751523767003.\n"
     ]
    },
    {
     "name": "stderr",
     "output_type": "stream",
     "text": [
      "[I 2024-10-16 17:12:19,210] Trial 8 finished with value: 0.9655767239032983 and parameters: {'max_depth': 6, 'learning_rate': 0.0957988405843492, 'reg_lambda': 0.2918945949474815, 'min_child_weight': 90}. Best is trial 6 with value: 0.966751523767003.\n"
     ]
    },
    {
     "name": "stderr",
     "output_type": "stream",
     "text": [
      "[I 2024-10-16 17:13:00,875] Trial 9 finished with value: 0.9652519486583193 and parameters: {'max_depth': 7, 'learning_rate': 0.08790848825535812, 'reg_lambda': 4.504983880513354, 'min_child_weight': 98}. Best is trial 6 with value: 0.966751523767003.\n"
     ]
    },
    {
     "name": "stderr",
     "output_type": "stream",
     "text": [
      "[I 2024-10-16 17:13:56,968] Trial 10 finished with value: 0.9655166943196667 and parameters: {'max_depth': 10, 'learning_rate': 0.07223022785387949, 'reg_lambda': 3.1613671013290565, 'min_child_weight': 82}. Best is trial 6 with value: 0.966751523767003.\n"
     ]
    },
    {
     "name": "stderr",
     "output_type": "stream",
     "text": [
      "[I 2024-10-16 17:15:24,236] Trial 11 finished with value: 0.9661847656484128 and parameters: {'max_depth': 8, 'learning_rate': 0.04099940650196007, 'reg_lambda': 1.6876694903582456, 'min_child_weight': 53}. Best is trial 6 with value: 0.966751523767003.\n"
     ]
    },
    {
     "name": "stderr",
     "output_type": "stream",
     "text": [
      "[I 2024-10-16 17:16:54,943] Trial 12 finished with value: 0.9662971592398654 and parameters: {'max_depth': 8, 'learning_rate': 0.04111130387495585, 'reg_lambda': 2.6356674941868503, 'min_child_weight': 50}. Best is trial 6 with value: 0.966751523767003.\n"
     ]
    },
    {
     "name": "stderr",
     "output_type": "stream",
     "text": [
      "[I 2024-10-16 17:18:14,368] Trial 13 finished with value: 0.9659079631942834 and parameters: {'max_depth': 8, 'learning_rate': 0.04923321286998059, 'reg_lambda': 2.892668692147892, 'min_child_weight': 79}. Best is trial 6 with value: 0.966751523767003.\n"
     ]
    },
    {
     "name": "stderr",
     "output_type": "stream",
     "text": [
      "[I 2024-10-16 17:18:57,593] Trial 14 finished with value: 0.9662141932151987 and parameters: {'max_depth': 9, 'learning_rate': 0.07608143826697114, 'reg_lambda': 2.5889153966055884, 'min_child_weight': 60}. Best is trial 6 with value: 0.966751523767003.\n"
     ]
    },
    {
     "name": "stderr",
     "output_type": "stream",
     "text": [
      "[I 2024-10-16 17:21:22,679] Trial 15 finished with value: 0.9613848576270442 and parameters: {'max_depth': 9, 'learning_rate': 0.01030811773602007, 'reg_lambda': 3.6185225912953896, 'min_child_weight': 62}. Best is trial 6 with value: 0.966751523767003.\n"
     ]
    },
    {
     "name": "stderr",
     "output_type": "stream",
     "text": [
      "[I 2024-10-16 17:22:24,294] Trial 16 finished with value: 0.9657023637855771 and parameters: {'max_depth': 7, 'learning_rate': 0.0483807679383628, 'reg_lambda': 2.253586439576864, 'min_child_weight': 50}. Best is trial 6 with value: 0.966751523767003.\n"
     ]
    },
    {
     "name": "stderr",
     "output_type": "stream",
     "text": [
      "[I 2024-10-16 17:23:05,252] Trial 17 finished with value: 0.9659923258129695 and parameters: {'max_depth': 10, 'learning_rate': 0.06977581495256693, 'reg_lambda': 0.18093962534766872, 'min_child_weight': 74}. Best is trial 6 with value: 0.966751523767003.\n"
     ]
    },
    {
     "name": "stderr",
     "output_type": "stream",
     "text": [
      "[I 2024-10-16 17:24:57,162] Trial 18 finished with value: 0.9661191137652295 and parameters: {'max_depth': 9, 'learning_rate': 0.03626677261157158, 'reg_lambda': 4.933504741907167, 'min_child_weight': 50}. Best is trial 6 with value: 0.966751523767003.\n"
     ]
    },
    {
     "name": "stderr",
     "output_type": "stream",
     "text": [
      "[I 2024-10-16 17:26:09,736] Trial 19 finished with value: 0.9656810055007004 and parameters: {'max_depth': 7, 'learning_rate': 0.05173645371349073, 'reg_lambda': 1.4655785164775275, 'min_child_weight': 63}. Best is trial 6 with value: 0.966751523767003.\n"
     ]
    },
    {
     "name": "stdout",
     "output_type": "stream",
     "text": [
      "Best Parameters: {'max_depth': 8, 'learning_rate': 0.05809987272179141, 'reg_lambda': 1.186729164320424, 'min_child_weight': 50}\n",
      "Best Score: 0.966751523767003\n",
      "Start the modelling\n"
     ]
    },
    {
     "name": "stdout",
     "output_type": "stream",
     "text": [
      "[0]\ttrain-mlogloss:1.78588\teval-mlogloss:1.79410\n"
     ]
    },
    {
     "name": "stdout",
     "output_type": "stream",
     "text": [
      "[100]\ttrain-mlogloss:0.05989\teval-mlogloss:0.15571\n"
     ]
    },
    {
     "name": "stdout",
     "output_type": "stream",
     "text": [
      "[200]\ttrain-mlogloss:0.01978\teval-mlogloss:0.11648\n"
     ]
    },
    {
     "name": "stdout",
     "output_type": "stream",
     "text": [
      "[300]\ttrain-mlogloss:0.01149\teval-mlogloss:0.10941\n"
     ]
    },
    {
     "name": "stdout",
     "output_type": "stream",
     "text": [
      "[400]\ttrain-mlogloss:0.00827\teval-mlogloss:0.10704\n"
     ]
    },
    {
     "name": "stdout",
     "output_type": "stream",
     "text": [
      "[500]\ttrain-mlogloss:0.00658\teval-mlogloss:0.10615\n"
     ]
    },
    {
     "name": "stdout",
     "output_type": "stream",
     "text": [
      "[600]\ttrain-mlogloss:0.00558\teval-mlogloss:0.10574\n"
     ]
    },
    {
     "name": "stdout",
     "output_type": "stream",
     "text": [
      "[700]\ttrain-mlogloss:0.00493\teval-mlogloss:0.10591\n"
     ]
    },
    {
     "name": "stdout",
     "output_type": "stream",
     "text": [
      "[800]\ttrain-mlogloss:0.00445\teval-mlogloss:0.10598\n"
     ]
    },
    {
     "name": "stdout",
     "output_type": "stream",
     "text": [
      "[900]\ttrain-mlogloss:0.00409\teval-mlogloss:0.10625\n"
     ]
    },
    {
     "name": "stdout",
     "output_type": "stream",
     "text": [
      "[1000]\ttrain-mlogloss:0.00381\teval-mlogloss:0.10646\n"
     ]
    },
    {
     "name": "stdout",
     "output_type": "stream",
     "text": [
      "[1100]\ttrain-mlogloss:0.00359\teval-mlogloss:0.10664\n"
     ]
    },
    {
     "name": "stdout",
     "output_type": "stream",
     "text": [
      "[1200]\ttrain-mlogloss:0.00340\teval-mlogloss:0.10682\n"
     ]
    },
    {
     "name": "stdout",
     "output_type": "stream",
     "text": [
      "[1300]\ttrain-mlogloss:0.00325\teval-mlogloss:0.10701\n"
     ]
    },
    {
     "name": "stdout",
     "output_type": "stream",
     "text": [
      "[1400]\ttrain-mlogloss:0.00312\teval-mlogloss:0.10731\n"
     ]
    },
    {
     "name": "stdout",
     "output_type": "stream",
     "text": [
      "[1500]\ttrain-mlogloss:0.00301\teval-mlogloss:0.10740\n"
     ]
    },
    {
     "name": "stdout",
     "output_type": "stream",
     "text": [
      "[1558]\ttrain-mlogloss:0.00295\teval-mlogloss:0.10762\n"
     ]
    },
    {
     "name": "stdout",
     "output_type": "stream",
     "text": [
      "[0]\ttrain-mlogloss:1.78472\teval-mlogloss:1.79218\n"
     ]
    },
    {
     "name": "stdout",
     "output_type": "stream",
     "text": [
      "[100]\ttrain-mlogloss:0.05999\teval-mlogloss:0.15012\n"
     ]
    },
    {
     "name": "stdout",
     "output_type": "stream",
     "text": [
      "[200]\ttrain-mlogloss:0.02028\teval-mlogloss:0.11274\n"
     ]
    },
    {
     "name": "stdout",
     "output_type": "stream",
     "text": [
      "[300]\ttrain-mlogloss:0.01164\teval-mlogloss:0.10538\n"
     ]
    },
    {
     "name": "stdout",
     "output_type": "stream",
     "text": [
      "[400]\ttrain-mlogloss:0.00828\teval-mlogloss:0.10309\n"
     ]
    },
    {
     "name": "stdout",
     "output_type": "stream",
     "text": [
      "[500]\ttrain-mlogloss:0.00658\teval-mlogloss:0.10227\n"
     ]
    },
    {
     "name": "stdout",
     "output_type": "stream",
     "text": [
      "[600]\ttrain-mlogloss:0.00554\teval-mlogloss:0.10229\n"
     ]
    },
    {
     "name": "stdout",
     "output_type": "stream",
     "text": [
      "[700]\ttrain-mlogloss:0.00488\teval-mlogloss:0.10244\n"
     ]
    },
    {
     "name": "stdout",
     "output_type": "stream",
     "text": [
      "[800]\ttrain-mlogloss:0.00440\teval-mlogloss:0.10259\n"
     ]
    },
    {
     "name": "stdout",
     "output_type": "stream",
     "text": [
      "[900]\ttrain-mlogloss:0.00405\teval-mlogloss:0.10293\n"
     ]
    },
    {
     "name": "stdout",
     "output_type": "stream",
     "text": [
      "[1000]\ttrain-mlogloss:0.00377\teval-mlogloss:0.10321\n"
     ]
    },
    {
     "name": "stdout",
     "output_type": "stream",
     "text": [
      "[1100]\ttrain-mlogloss:0.00356\teval-mlogloss:0.10339\n"
     ]
    },
    {
     "name": "stdout",
     "output_type": "stream",
     "text": [
      "[1200]\ttrain-mlogloss:0.00338\teval-mlogloss:0.10367\n"
     ]
    },
    {
     "name": "stdout",
     "output_type": "stream",
     "text": [
      "[1300]\ttrain-mlogloss:0.00322\teval-mlogloss:0.10405\n"
     ]
    },
    {
     "name": "stdout",
     "output_type": "stream",
     "text": [
      "[1400]\ttrain-mlogloss:0.00310\teval-mlogloss:0.10424\n"
     ]
    },
    {
     "name": "stdout",
     "output_type": "stream",
     "text": [
      "[1500]\ttrain-mlogloss:0.00299\teval-mlogloss:0.10456\n"
     ]
    },
    {
     "name": "stdout",
     "output_type": "stream",
     "text": [
      "[1600]\ttrain-mlogloss:0.00289\teval-mlogloss:0.10484\n"
     ]
    },
    {
     "name": "stdout",
     "output_type": "stream",
     "text": [
      "[1625]\ttrain-mlogloss:0.00287\teval-mlogloss:0.10495\n"
     ]
    },
    {
     "name": "stdout",
     "output_type": "stream",
     "text": [
      "[0]\ttrain-mlogloss:1.78538\teval-mlogloss:1.79093\n"
     ]
    },
    {
     "name": "stdout",
     "output_type": "stream",
     "text": [
      "[100]\ttrain-mlogloss:0.06188\teval-mlogloss:0.15035\n"
     ]
    },
    {
     "name": "stdout",
     "output_type": "stream",
     "text": [
      "[200]\ttrain-mlogloss:0.02108\teval-mlogloss:0.11319\n"
     ]
    },
    {
     "name": "stdout",
     "output_type": "stream",
     "text": [
      "[300]\ttrain-mlogloss:0.01200\teval-mlogloss:0.10585\n"
     ]
    },
    {
     "name": "stdout",
     "output_type": "stream",
     "text": [
      "[400]\ttrain-mlogloss:0.00855\teval-mlogloss:0.10413\n"
     ]
    },
    {
     "name": "stdout",
     "output_type": "stream",
     "text": [
      "[500]\ttrain-mlogloss:0.00676\teval-mlogloss:0.10355\n"
     ]
    },
    {
     "name": "stdout",
     "output_type": "stream",
     "text": [
      "[600]\ttrain-mlogloss:0.00569\teval-mlogloss:0.10313\n"
     ]
    },
    {
     "name": "stdout",
     "output_type": "stream",
     "text": [
      "[700]\ttrain-mlogloss:0.00498\teval-mlogloss:0.10324\n"
     ]
    },
    {
     "name": "stdout",
     "output_type": "stream",
     "text": [
      "[800]\ttrain-mlogloss:0.00447\teval-mlogloss:0.10336\n"
     ]
    },
    {
     "name": "stdout",
     "output_type": "stream",
     "text": [
      "[900]\ttrain-mlogloss:0.00411\teval-mlogloss:0.10360\n"
     ]
    },
    {
     "name": "stdout",
     "output_type": "stream",
     "text": [
      "[1000]\ttrain-mlogloss:0.00382\teval-mlogloss:0.10389\n"
     ]
    },
    {
     "name": "stdout",
     "output_type": "stream",
     "text": [
      "[1100]\ttrain-mlogloss:0.00360\teval-mlogloss:0.10418\n"
     ]
    },
    {
     "name": "stdout",
     "output_type": "stream",
     "text": [
      "[1200]\ttrain-mlogloss:0.00341\teval-mlogloss:0.10438\n"
     ]
    },
    {
     "name": "stdout",
     "output_type": "stream",
     "text": [
      "[1300]\ttrain-mlogloss:0.00326\teval-mlogloss:0.10471\n"
     ]
    },
    {
     "name": "stdout",
     "output_type": "stream",
     "text": [
      "[1400]\ttrain-mlogloss:0.00313\teval-mlogloss:0.10500\n"
     ]
    },
    {
     "name": "stdout",
     "output_type": "stream",
     "text": [
      "[1500]\ttrain-mlogloss:0.00302\teval-mlogloss:0.10532\n"
     ]
    },
    {
     "name": "stdout",
     "output_type": "stream",
     "text": [
      "[1600]\ttrain-mlogloss:0.00292\teval-mlogloss:0.10542\n"
     ]
    },
    {
     "name": "stdout",
     "output_type": "stream",
     "text": [
      "[1611]\ttrain-mlogloss:0.00291\teval-mlogloss:0.10542\n"
     ]
    },
    {
     "name": "stdout",
     "output_type": "stream",
     "text": [
      "[0]\ttrain-mlogloss:1.78359\teval-mlogloss:1.78928\n"
     ]
    },
    {
     "name": "stdout",
     "output_type": "stream",
     "text": [
      "[50]\ttrain-mlogloss:0.19054\teval-mlogloss:0.26144\n"
     ]
    },
    {
     "name": "stdout",
     "output_type": "stream",
     "text": [
      "[100]\ttrain-mlogloss:0.06178\teval-mlogloss:0.13962\n"
     ]
    },
    {
     "name": "stdout",
     "output_type": "stream",
     "text": [
      "[150]\ttrain-mlogloss:0.03298\teval-mlogloss:0.11320\n"
     ]
    },
    {
     "name": "stdout",
     "output_type": "stream",
     "text": [
      "[200]\ttrain-mlogloss:0.02166\teval-mlogloss:0.10254\n"
     ]
    },
    {
     "name": "stdout",
     "output_type": "stream",
     "text": [
      "[250]\ttrain-mlogloss:0.01554\teval-mlogloss:0.09722\n"
     ]
    },
    {
     "name": "stdout",
     "output_type": "stream",
     "text": [
      "[300]\ttrain-mlogloss:0.01199\teval-mlogloss:0.09444\n"
     ]
    },
    {
     "name": "stdout",
     "output_type": "stream",
     "text": [
      "[350]\ttrain-mlogloss:0.00978\teval-mlogloss:0.09306\n"
     ]
    },
    {
     "name": "stdout",
     "output_type": "stream",
     "text": [
      "[400]\ttrain-mlogloss:0.00825\teval-mlogloss:0.09221\n"
     ]
    },
    {
     "name": "stdout",
     "output_type": "stream",
     "text": [
      "[450]\ttrain-mlogloss:0.00716\teval-mlogloss:0.09176\n"
     ]
    },
    {
     "name": "stdout",
     "output_type": "stream",
     "text": [
      "[500]\ttrain-mlogloss:0.00634\teval-mlogloss:0.09157\n"
     ]
    },
    {
     "name": "stdout",
     "output_type": "stream",
     "text": [
      "[550]\ttrain-mlogloss:0.00571\teval-mlogloss:0.09143\n"
     ]
    },
    {
     "name": "stdout",
     "output_type": "stream",
     "text": [
      "[600]\ttrain-mlogloss:0.00521\teval-mlogloss:0.09143\n"
     ]
    },
    {
     "name": "stdout",
     "output_type": "stream",
     "text": [
      "[636]\ttrain-mlogloss:0.00492\teval-mlogloss:0.09158\n"
     ]
    },
    {
     "name": "stdout",
     "output_type": "stream",
     "text": [
      "\n",
      "Classification Report on Test Set:\n",
      "              precision    recall  f1-score   support\n",
      "\n",
      "           0       0.97      0.95      0.96     13824\n",
      "           1       0.96      0.95      0.96     12382\n",
      "           2       0.96      0.97      0.96      9003\n",
      "           3       0.98      0.98      0.98      8310\n",
      "           4       0.97      0.98      0.98      9441\n",
      "           5       0.97      0.97      0.97      8912\n",
      "           6       0.98      0.99      0.99     10548\n",
      "\n",
      "    accuracy                           0.97     72420\n",
      "   macro avg       0.97      0.97      0.97     72420\n",
      "weighted avg       0.97      0.97      0.97     72420\n",
      "\n"
     ]
    },
    {
     "data": {
      "image/png": "[encoded data removed]",
      "text/plain": [
       "<Figure size 640x480 with 1 Axes>"
      ]
     },
     "metadata": {},
     "output_type": "display_data"
    },
    {
     "data": {
      "image/png": "[encoded data removed]",
      "text/plain": [
       "<Figure size 640x480 with 2 Axes>"
      ]
     },
     "metadata": {},
     "output_type": "display_data"
    },
    {
     "name": "stdout",
     "output_type": "stream",
     "text": [
      "{'average_accuracy': 0.965942818623835, 'average_f1_macro': 0.9670538183098394, 'average_f1_micro': 0.965942818623835, 'average_auc': 0.998772281125114, 'average_acc_kelas_generatif': 0.9817467003650661, 'average_acc_fase_padi': 0.9673284445239373}\n",
      "{'val_accuracy': 0.9693040596520298, 'val_f1_macro': 0.970398924095045, 'val_f1_micro': 0.9693040596520298, 'val_auc': 0.9990237302143079, 'val_acc_kelas_generatif': 0.9847172081829122, 'val_acc_fase_padi': 0.9696187653311529, 'val_relative_acc': 99.7799849132512}\n",
      "=============================================================================\n"
     ]
    }
   ],
   "source": [
    "from sklearn.preprocessing import StandardScaler, LabelEncoder\n",
    "df['observation']=df['observation'].apply(lambda y: int(y))\n",
    "dict_report={}\n",
    "for i in list(range(0,7)):\n",
    "    print('=============================================================================')\n",
    "    print('CLUSTER: ', i)\n",
    "    df_x = df.query('cluster_data==@i')\n",
    "    sns.countplot(x='observation', hue='cluster_data', data=df_x,palette=sns.color_palette(\"Set2\"))\n",
    "    plt.savefig(f\"/data/ksa/05_Modelling/picture/{kdprov}_distplot_cluster_{i}_balanced.png\", dpi=300, bbox_inches='tight')\n",
    "    X_train, X_test, y_train, y_test = get_train_test(df_x, 0.7)\n",
    "    # Encode the labels\n",
    "    label_encoder = LabelEncoder()\n",
    "    y_train_encoded = label_encoder.fit_transform(y_train)\n",
    "    y_test_encoded = label_encoder.transform(y_test)\n",
    "    \n",
    "    # Output the unique encoded labels and the mapping\n",
    "    print(np.unique(y_train_encoded))\n",
    "    class_mapping = dict(zip(label_encoder.classes_, label_encoder.transform(label_encoder.classes_)))\n",
    "    print(\"Mapping of original to encoded classes:\", class_mapping)\n",
    "    \n",
    "    # Create an Optuna study and optimize the objective function\n",
    "    print('Build Best Parameter using Optuna-Hyperparameter Tuning')\n",
    "    study = optuna.create_study(direction='maximize')  # 'maximize' because we are optimizing accuracy\n",
    "    study.optimize(lambda trial: objective(trial, X_train, y_train_encoded), n_trials=10)  # Run for 50 trials\n",
    "    # Print the best parameters and the best score\n",
    "    print(f\"Best Parameters: {study.best_params}\")\n",
    "    print(f\"Best Score: {study.best_value}\")\n",
    "\n",
    "    print('Start the modelling')\n",
    "    model0, training_metrics0, validation_metrics0, report0, cm0 = evaluate_model(\n",
    "        X_train, y_train_encoded, X_test, y_test_encoded,cluster=i,best_params=study.best_params)\n",
    "    \n",
    "    dict_report[i]={'model':model0,\n",
    "                    'training_metrics':training_metrics0,\n",
    "                    'validation_metrics':validation_metrics0,\n",
    "                    'reports':report0,\n",
    "                    'cm':cm0,\n",
    "                    'params':study.best_params}\n",
    "    # Print the training and validation metrics\n",
    "    print(training_metrics0)\n",
    "    print(validation_metrics0)\n",
    "    print('=============================================================================')"
   ]
  },
  {
   "cell_type": "code",
   "execution_count": null,
   "id": "67da8159-8b6e-47cf-a9be-100521c44e63",
   "metadata": {},
   "outputs": [],
   "source": [
    "dict_report"
   ]
  },
  {
   "cell_type": "code",
   "execution_count": null,
   "id": "26743d1e-45c9-4c26-81de-46e9f11f1698",
   "metadata": {
    "papermill": {
     "duration": 0.63682,
     "end_time": "2024-10-16T10:28:23.276396",
     "exception": false,
     "start_time": "2024-10-16T10:28:22.639576",
     "status": "completed"
    },
    "tags": []
   },
   "outputs": [],
   "source": [
    "with open(f'/data/ksa/05_Modelling/model/xgboost{kdprov}_v2_new.pkl','wb') as file:\n",
    "    pickle.dump(dict_report,file)"
   ]
  },
  {
   "cell_type": "code",
   "execution_count": 15,
   "id": "76b68ced-340e-48b6-a01f-a22c31637ad8",
   "metadata": {
    "papermill": {
     "duration": 0.035786,
     "end_time": "2024-10-16T10:28:23.347843",
     "exception": false,
     "start_time": "2024-10-16T10:28:23.312057",
     "status": "completed"
    },
    "tags": []
   },
   "outputs": [],
   "source": [
    "with open(\"/data/ksa/05_Modelling/model/xgboost53_v2_5+5.pkl\", 'rb') as f:\n",
    "    dict_report = pickle.load(f)"
   ]
  },
  {
   "cell_type": "code",
   "execution_count": 16,
   "id": "8cdccf6d-6b05-4b9f-b643-db405bd779e5",
   "metadata": {},
   "outputs": [],
   "source": [
    "df = pd.DataFrame()\n",
    "for cluster_id, metrics in dict_report.items():\n",
    "    # Training metrics\n",
    "    df.loc[cluster_id, 'ACCURACY'] = metrics['training_metrics']['average_accuracy']\n",
    "    df.loc[cluster_id, 'F1 MACRO'] = metrics['training_metrics']['average_f1_macro']\n",
    "    df.loc[cluster_id, 'F1 MICRO'] = metrics['training_metrics']['average_f1_micro']\n",
    "    df.loc[cluster_id, 'AUC'] = metrics['training_metrics']['average_auc']\n",
    "    df.loc[cluster_id, 'ACC [GENERATIVE]'] = metrics['training_metrics']['average_acc_kelas_generatif']\n",
    "    df.loc[cluster_id, '[FASE PADI]'] = metrics['training_metrics']['average_acc_fase_padi']\n",
    "    \n",
    "    # Validation metrics\n",
    "    df.loc[cluster_id, 'VAL ACCURACY'] = metrics['validation_metrics']['val_accuracy']\n",
    "    df.loc[cluster_id, 'VAL F1 MACRO'] = metrics['validation_metrics']['val_f1_macro']\n",
    "    df.loc[cluster_id, 'VAL F1 MICRO'] = metrics['validation_metrics']['val_f1_micro']\n",
    "    df.loc[cluster_id, 'VAL AUC'] = metrics['validation_metrics']['val_auc']\n",
    "    df.loc[cluster_id, 'VAL ACC [GENERATIVE]'] = metrics['validation_metrics']['val_acc_kelas_generatif']\n",
    "    df.loc[cluster_id, 'VAL ACC [FASE PADI]'] = metrics['validation_metrics']['val_acc_fase_padi']\n",
    "    df.loc[cluster_id, 'RELATIVE ACCURACY'] = metrics['validation_metrics']['val_relative_acc']\n",
    "\n",
    "df.to_csv(\"Progress53.csv\")"
   ]
  },
  {
   "cell_type": "code",
   "execution_count": 17,
   "id": "176f151f-a9ee-4237-afb5-51cd5db39c9f",
   "metadata": {},
   "outputs": [
    {
     "data": {
      "text/html": [
       "<div>\n",
       "<style scoped>\n",
       "    .dataframe tbody tr th:only-of-type {\n",
       "        vertical-align: middle;\n",
       "    }\n",
       "\n",
       "    .dataframe tbody tr th {\n",
       "        vertical-align: top;\n",
       "    }\n",
       "\n",
       "    .dataframe thead th {\n",
       "        text-align: right;\n",
       "    }\n",
       "</style>\n",
       "<table border=\"1\" class=\"dataframe\">\n",
       "  <thead>\n",
       "    <tr style=\"text-align: right;\">\n",
       "      <th></th>\n",
       "      <th>ACCURACY</th>\n",
       "      <th>F1 MACRO</th>\n",
       "      <th>F1 MICRO</th>\n",
       "      <th>AUC</th>\n",
       "      <th>ACC [GENERATIVE]</th>\n",
       "      <th>[FASE PADI]</th>\n",
       "      <th>VAL ACCURACY</th>\n",
       "      <th>VAL F1 MACRO</th>\n",
       "      <th>VAL F1 MICRO</th>\n",
       "      <th>VAL AUC</th>\n",
       "      <th>VAL ACC [GENERATIVE]</th>\n",
       "      <th>VAL ACC [FASE PADI]</th>\n",
       "      <th>RELATIVE ACCURACY</th>\n",
       "    </tr>\n",
       "  </thead>\n",
       "  <tbody>\n",
       "    <tr>\n",
       "      <th>5</th>\n",
       "      <td>0.758053</td>\n",
       "      <td>0.719125</td>\n",
       "      <td>0.758053</td>\n",
       "      <td>0.936980</td>\n",
       "      <td>0.655732</td>\n",
       "      <td>0.632290</td>\n",
       "      <td>0.762596</td>\n",
       "      <td>0.726835</td>\n",
       "      <td>0.762596</td>\n",
       "      <td>0.941196</td>\n",
       "      <td>0.656673</td>\n",
       "      <td>0.645502</td>\n",
       "      <td>96.135821</td>\n",
       "    </tr>\n",
       "    <tr>\n",
       "      <th>6</th>\n",
       "      <td>0.424646</td>\n",
       "      <td>0.394083</td>\n",
       "      <td>0.424646</td>\n",
       "      <td>0.774667</td>\n",
       "      <td>0.402711</td>\n",
       "      <td>0.368718</td>\n",
       "      <td>0.432106</td>\n",
       "      <td>0.412377</td>\n",
       "      <td>0.432106</td>\n",
       "      <td>0.789845</td>\n",
       "      <td>0.421233</td>\n",
       "      <td>0.401277</td>\n",
       "      <td>83.832924</td>\n",
       "    </tr>\n",
       "  </tbody>\n",
       "</table>\n",
       "</div>"
      ],
      "text/plain": [
       "   ACCURACY  F1 MACRO  F1 MICRO       AUC  ACC [GENERATIVE]  [FASE PADI]  \\\n",
       "5  0.758053  0.719125  0.758053  0.936980          0.655732     0.632290   \n",
       "6  0.424646  0.394083  0.424646  0.774667          0.402711     0.368718   \n",
       "\n",
       "   VAL ACCURACY  VAL F1 MACRO  VAL F1 MICRO   VAL AUC  VAL ACC [GENERATIVE]  \\\n",
       "5      0.762596      0.726835      0.762596  0.941196              0.656673   \n",
       "6      0.432106      0.412377      0.432106  0.789845              0.421233   \n",
       "\n",
       "   VAL ACC [FASE PADI]  RELATIVE ACCURACY  \n",
       "5             0.645502          96.135821  \n",
       "6             0.401277          83.832924  "
      ]
     },
     "execution_count": 17,
     "metadata": {},
     "output_type": "execute_result"
    }
   ],
   "source": [
    "df"
   ]
  },
  {
   "cell_type": "code",
   "execution_count": null,
   "id": "a1e9c065-9666-4c21-bde5-f41fd34207c1",
   "metadata": {},
   "outputs": [],
   "source": []
  },
  {
   "cell_type": "code",
   "execution_count": null,
   "id": "9fcb6520-3659-4c73-af42-69af012946e9",
   "metadata": {},
   "outputs": [],
   "source": []
  }
 ],
 "metadata": {
  "kernelspec": {
   "display_name": "Python 3 (ipykernel)",
   "language": "python",
   "name": "python3"
  },
  "language_info": {
   "codemirror_mode": {
    "name": "ipython",
    "version": 3
   },
   "file_extension": ".py",
   "mimetype": "text/x-python",
   "name": "python",
   "nbconvert_exporter": "python",
   "pygments_lexer": "ipython3",
   "version": "3.10.14"
  },
  "papermill": {
   "default_parameters": {},
   "duration": 7046.321622,
   "end_time": "2024-10-16T10:28:24.621829",
   "environment_variables": {},
   "exception": null,
   "input_path": "XGBOOST Base model.ipynb",
   "output_path": "XGBOOST_16.ipynb",
   "parameters": {
    "kdprov": 16
   },
   "start_time": "2024-10-16T08:30:58.300207",
   "version": "2.6.0"
  }
 },
 "nbformat": 4,
 "nbformat_minor": 5
}
