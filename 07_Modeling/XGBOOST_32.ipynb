{
 "cells": [
  {
   "cell_type": "code",
   "execution_count": 1,
   "id": "d37f5160-5e12-40a3-8dc9-2d929bd94327",
   "metadata": {
    "execution": {
     "iopub.execute_input": "2024-10-16T00:57:12.084716Z",
     "iopub.status.busy": "2024-10-16T00:57:12.083173Z",
     "iopub.status.idle": "2024-10-16T00:57:16.056778Z",
     "shell.execute_reply": "2024-10-16T00:57:16.055667Z"
    },
    "papermill": {
     "duration": 3.986016,
     "end_time": "2024-10-16T00:57:16.059481",
     "exception": false,
     "start_time": "2024-10-16T00:57:12.073465",
     "status": "completed"
    },
    "tags": []
   },
   "outputs": [],
   "source": [
    "import pandas as pd\n",
    "import geopandas as gpd\n",
    "import numpy as np\n",
    "import matplotlib.pyplot as plt\n",
    "import seaborn as sns\n",
    "import os\n",
    "from glob import glob\n",
    "import polars as pl\n",
    "import xgboost as xgb\n",
    "import optuna\n",
    "from sklearn.model_selection import StratifiedKFold, cross_val_score\n",
    "from sklearn.metrics import accuracy_score\n",
    "from sklearn.model_selection import train_test_split, cross_validate\n",
    "from sklearn.metrics import classification_report, confusion_matrix, ConfusionMatrixDisplay, accuracy_score, make_scorer, f1_score, roc_auc_score\n",
    "from sklearn.preprocessing import LabelEncoder\n",
    "import warnings\n",
    "\n",
    "# Suppress warnings globally\n",
    "warnings.filterwarnings(\"ignore\", category=UserWarning)\n",
    "warnings.filterwarnings(\"ignore\", category=DeprecationWarning)\n",
    "import pickle\n",
    "import warnings\n",
    "warnings.simplefilter(action='ignore', category=FutureWarning)\n",
    "warnings.simplefilter(action='ignore', category=pd.errors.SettingWithCopyWarning)\n",
    "from collections import Counter\n",
    "import numpy as np\n",
    "warnings.filterwarnings(\"ignore\", category=RuntimeWarning)"
   ]
  },
  {
   "cell_type": "code",
   "execution_count": 2,
   "id": "1164ac8a-4c5a-456c-a6c9-4e3f8f1fff85",
   "metadata": {
    "execution": {
     "iopub.execute_input": "2024-10-16T00:57:16.069366Z",
     "iopub.status.busy": "2024-10-16T00:57:16.068112Z",
     "iopub.status.idle": "2024-10-16T00:57:16.075254Z",
     "shell.execute_reply": "2024-10-16T00:57:16.074481Z"
    },
    "papermill": {
     "duration": 0.013765,
     "end_time": "2024-10-16T00:57:16.077013",
     "exception": false,
     "start_time": "2024-10-16T00:57:16.063248",
     "status": "completed"
    },
    "tags": []
   },
   "outputs": [],
   "source": [
    "def get_train_test(df, test_size):\n",
    "    # Make X and Y dataset\n",
    "    y = df.observation\n",
    "    print(y.unique())\n",
    "    X = df.loc[:,'VH_30':'VH_0']\n",
    "    X['nth'] = df.loc[:,'nth']\n",
    "    X['nth'] = X.nth.astype('category')\n",
    "    X_train, X_test, y_train, y_test = train_test_split(X, y, test_size=test_size, random_state=1234, stratify=y)\n",
    "    return X_train, X_test, y_train, y_test"
   ]
  },
  {
   "cell_type": "code",
   "execution_count": 3,
   "id": "02aaee39-f4fe-424f-a54a-71ae90874e0c",
   "metadata": {
    "execution": {
     "iopub.execute_input": "2024-10-16T00:57:16.085687Z",
     "iopub.status.busy": "2024-10-16T00:57:16.084750Z",
     "iopub.status.idle": "2024-10-16T00:57:16.090889Z",
     "shell.execute_reply": "2024-10-16T00:57:16.090092Z"
    },
    "papermill": {
     "duration": 0.012371,
     "end_time": "2024-10-16T00:57:16.092732",
     "exception": false,
     "start_time": "2024-10-16T00:57:16.080361",
     "status": "completed"
    },
    "tags": []
   },
   "outputs": [],
   "source": [
    "def akurasi_kelas_generatif(y_true, y_pred):\n",
    "    # Calculate accuracy specifically for class 3\n",
    "    class_3_mask = (y_true == 3)\n",
    "    if np.any(class_3_mask):  # Check if class 3 is present in the true labels\n",
    "        return accuracy_score(y_true[class_3_mask], y_pred[class_3_mask])\n",
    "    else:\n",
    "        return 0.0  # Return 0 if class 3 is not present in the true labels\n",
    "\n",
    "def akurasi_fase_padi(y_true, y_pred):\n",
    "    # Calculate accuracy specifically for classes 1, 2, 3, and 4\n",
    "    class_1234_mask = (y_true >= 1) & (y_true <= 4)\n",
    "    if np.any(class_1234_mask):  # Check if classes 1,2,3,4 are present in the true labels\n",
    "        return accuracy_score(y_true[class_1234_mask], y_pred[class_1234_mask])\n",
    "    else:\n",
    "        return 0.0  # Return 0 if none of the classes 0-3 are present in the true labels"
   ]
  },
  {
   "cell_type": "code",
   "execution_count": 4,
   "id": "9bc8ab03-1717-47d9-95ea-75e3db819b06",
   "metadata": {
    "editable": true,
    "execution": {
     "iopub.execute_input": "2024-10-16T00:57:16.156606Z",
     "iopub.status.busy": "2024-10-16T00:57:16.155234Z",
     "iopub.status.idle": "2024-10-16T00:57:16.160559Z",
     "shell.execute_reply": "2024-10-16T00:57:16.159608Z"
    },
    "papermill": {
     "duration": 0.012617,
     "end_time": "2024-10-16T00:57:16.162535",
     "exception": false,
     "start_time": "2024-10-16T00:57:16.149918",
     "status": "completed"
    },
    "slideshow": {
     "slide_type": ""
    },
    "tags": [
     "parameters"
    ]
   },
   "outputs": [],
   "source": [
    "kdprov='32'"
   ]
  },
  {
   "cell_type": "code",
   "execution_count": 5,
   "id": "aa96f6ed",
   "metadata": {
    "execution": {
     "iopub.execute_input": "2024-10-16T00:57:16.171510Z",
     "iopub.status.busy": "2024-10-16T00:57:16.170356Z",
     "iopub.status.idle": "2024-10-16T00:57:16.175533Z",
     "shell.execute_reply": "2024-10-16T00:57:16.174437Z"
    },
    "papermill": {
     "duration": 0.011663,
     "end_time": "2024-10-16T00:57:16.177466",
     "exception": false,
     "start_time": "2024-10-16T00:57:16.165803",
     "status": "completed"
    },
    "tags": [
     "injected-parameters"
    ]
   },
   "outputs": [],
   "source": [
    "# Parameters\n",
    "kdprov = 32\n"
   ]
  },
  {
   "cell_type": "code",
   "execution_count": 6,
   "id": "7e0bd5e8-90ad-4dac-938b-2892a96e6ea4",
   "metadata": {
    "editable": true,
    "execution": {
     "iopub.execute_input": "2024-10-16T00:57:16.186441Z",
     "iopub.status.busy": "2024-10-16T00:57:16.185359Z",
     "iopub.status.idle": "2024-10-16T00:57:16.787989Z",
     "shell.execute_reply": "2024-10-16T00:57:16.787148Z"
    },
    "papermill": {
     "duration": 0.609342,
     "end_time": "2024-10-16T00:57:16.789921",
     "exception": false,
     "start_time": "2024-10-16T00:57:16.180579",
     "status": "completed"
    },
    "slideshow": {
     "slide_type": ""
    },
    "tags": []
   },
   "outputs": [
    {
     "name": "stdout",
     "output_type": "stream",
     "text": [
      "(595044, 44)\n"
     ]
    },
    {
     "data": {
      "text/html": [
       "<div>\n",
       "<style scoped>\n",
       "    .dataframe tbody tr th:only-of-type {\n",
       "        vertical-align: middle;\n",
       "    }\n",
       "\n",
       "    .dataframe tbody tr th {\n",
       "        vertical-align: top;\n",
       "    }\n",
       "\n",
       "    .dataframe thead th {\n",
       "        text-align: right;\n",
       "    }\n",
       "</style>\n",
       "<table border=\"1\" class=\"dataframe\">\n",
       "  <thead>\n",
       "    <tr style=\"text-align: right;\">\n",
       "      <th></th>\n",
       "      <th>idpoint</th>\n",
       "      <th>idsubsegment</th>\n",
       "      <th>idsegment</th>\n",
       "      <th>nth</th>\n",
       "      <th>periode</th>\n",
       "      <th>observation</th>\n",
       "      <th>class</th>\n",
       "      <th>MGRS</th>\n",
       "      <th>VH_30</th>\n",
       "      <th>VH_29</th>\n",
       "      <th>...</th>\n",
       "      <th>VH_4</th>\n",
       "      <th>VH_3</th>\n",
       "      <th>VH_2</th>\n",
       "      <th>VH_1</th>\n",
       "      <th>VH_0</th>\n",
       "      <th>idkabkota</th>\n",
       "      <th>cluster_data</th>\n",
       "      <th>Sigma0VH_variance</th>\n",
       "      <th>winner</th>\n",
       "      <th>prior</th>\n",
       "    </tr>\n",
       "  </thead>\n",
       "  <tbody>\n",
       "    <tr>\n",
       "      <th>0</th>\n",
       "      <td>320201009B1#15</td>\n",
       "      <td>320201009B1</td>\n",
       "      <td>320201009</td>\n",
       "      <td>1</td>\n",
       "      <td>2022_03</td>\n",
       "      <td>2</td>\n",
       "      <td>V2</td>\n",
       "      <td>48MXS</td>\n",
       "      <td>-16.549404</td>\n",
       "      <td>-14.999514</td>\n",
       "      <td>...</td>\n",
       "      <td>-18.853233</td>\n",
       "      <td>-17.381054</td>\n",
       "      <td>-18.202223</td>\n",
       "      <td>-16.116438</td>\n",
       "      <td>-16.160796</td>\n",
       "      <td>3202</td>\n",
       "      <td>4</td>\n",
       "      <td>0.344137</td>\n",
       "      <td>R4C7</td>\n",
       "      <td>0.424818</td>\n",
       "    </tr>\n",
       "    <tr>\n",
       "      <th>1</th>\n",
       "      <td>320201009B2#01</td>\n",
       "      <td>320201009B2</td>\n",
       "      <td>320201009</td>\n",
       "      <td>1</td>\n",
       "      <td>2022_03</td>\n",
       "      <td>2</td>\n",
       "      <td>V2</td>\n",
       "      <td>48MXS</td>\n",
       "      <td>-15.978812</td>\n",
       "      <td>-15.069147</td>\n",
       "      <td>...</td>\n",
       "      <td>-17.101982</td>\n",
       "      <td>-16.543168</td>\n",
       "      <td>-18.296526</td>\n",
       "      <td>-14.865002</td>\n",
       "      <td>-15.466443</td>\n",
       "      <td>3202</td>\n",
       "      <td>4</td>\n",
       "      <td>0.978193</td>\n",
       "      <td>R2C6</td>\n",
       "      <td>0.090024</td>\n",
       "    </tr>\n",
       "    <tr>\n",
       "      <th>2</th>\n",
       "      <td>320201009B2#06</td>\n",
       "      <td>320201009B2</td>\n",
       "      <td>320201009</td>\n",
       "      <td>1</td>\n",
       "      <td>2022_03</td>\n",
       "      <td>2</td>\n",
       "      <td>V2</td>\n",
       "      <td>48MXS</td>\n",
       "      <td>-15.993364</td>\n",
       "      <td>-15.453169</td>\n",
       "      <td>...</td>\n",
       "      <td>-18.790699</td>\n",
       "      <td>-17.235619</td>\n",
       "      <td>-18.362673</td>\n",
       "      <td>-15.773630</td>\n",
       "      <td>-15.978312</td>\n",
       "      <td>3202</td>\n",
       "      <td>4</td>\n",
       "      <td>0.978193</td>\n",
       "      <td>R4C7</td>\n",
       "      <td>0.424818</td>\n",
       "    </tr>\n",
       "    <tr>\n",
       "      <th>3</th>\n",
       "      <td>320201009B2#12</td>\n",
       "      <td>320201009B2</td>\n",
       "      <td>320201009</td>\n",
       "      <td>1</td>\n",
       "      <td>2022_03</td>\n",
       "      <td>2</td>\n",
       "      <td>V2</td>\n",
       "      <td>48MXS</td>\n",
       "      <td>-16.197764</td>\n",
       "      <td>-15.287817</td>\n",
       "      <td>...</td>\n",
       "      <td>-19.319721</td>\n",
       "      <td>-17.882680</td>\n",
       "      <td>-18.393202</td>\n",
       "      <td>-17.158922</td>\n",
       "      <td>-16.851794</td>\n",
       "      <td>3202</td>\n",
       "      <td>4</td>\n",
       "      <td>0.978193</td>\n",
       "      <td>R4C7</td>\n",
       "      <td>0.424818</td>\n",
       "    </tr>\n",
       "    <tr>\n",
       "      <th>4</th>\n",
       "      <td>320201009B2#13</td>\n",
       "      <td>320201009B2</td>\n",
       "      <td>320201009</td>\n",
       "      <td>1</td>\n",
       "      <td>2022_03</td>\n",
       "      <td>2</td>\n",
       "      <td>V2</td>\n",
       "      <td>48MXS</td>\n",
       "      <td>-16.280010</td>\n",
       "      <td>-15.319181</td>\n",
       "      <td>...</td>\n",
       "      <td>-19.520969</td>\n",
       "      <td>-17.860558</td>\n",
       "      <td>-18.972132</td>\n",
       "      <td>-15.877630</td>\n",
       "      <td>-16.433705</td>\n",
       "      <td>3202</td>\n",
       "      <td>4</td>\n",
       "      <td>0.978193</td>\n",
       "      <td>R4C7</td>\n",
       "      <td>0.424818</td>\n",
       "    </tr>\n",
       "  </tbody>\n",
       "</table>\n",
       "<p>5 rows × 44 columns</p>\n",
       "</div>"
      ],
      "text/plain": [
       "          idpoint idsubsegment  idsegment  nth  periode  observation class  \\\n",
       "0  320201009B1#15  320201009B1  320201009    1  2022_03            2    V2   \n",
       "1  320201009B2#01  320201009B2  320201009    1  2022_03            2    V2   \n",
       "2  320201009B2#06  320201009B2  320201009    1  2022_03            2    V2   \n",
       "3  320201009B2#12  320201009B2  320201009    1  2022_03            2    V2   \n",
       "4  320201009B2#13  320201009B2  320201009    1  2022_03            2    V2   \n",
       "\n",
       "    MGRS      VH_30      VH_29  ...       VH_4       VH_3       VH_2  \\\n",
       "0  48MXS -16.549404 -14.999514  ... -18.853233 -17.381054 -18.202223   \n",
       "1  48MXS -15.978812 -15.069147  ... -17.101982 -16.543168 -18.296526   \n",
       "2  48MXS -15.993364 -15.453169  ... -18.790699 -17.235619 -18.362673   \n",
       "3  48MXS -16.197764 -15.287817  ... -19.319721 -17.882680 -18.393202   \n",
       "4  48MXS -16.280010 -15.319181  ... -19.520969 -17.860558 -18.972132   \n",
       "\n",
       "        VH_1       VH_0  idkabkota  cluster_data  Sigma0VH_variance  winner  \\\n",
       "0 -16.116438 -16.160796       3202             4           0.344137    R4C7   \n",
       "1 -14.865002 -15.466443       3202             4           0.978193    R2C6   \n",
       "2 -15.773630 -15.978312       3202             4           0.978193    R4C7   \n",
       "3 -17.158922 -16.851794       3202             4           0.978193    R4C7   \n",
       "4 -15.877630 -16.433705       3202             4           0.978193    R4C7   \n",
       "\n",
       "      prior  \n",
       "0  0.424818  \n",
       "1  0.090024  \n",
       "2  0.424818  \n",
       "3  0.424818  \n",
       "4  0.424818  \n",
       "\n",
       "[5 rows x 44 columns]"
      ]
     },
     "execution_count": 6,
     "metadata": {},
     "output_type": "execute_result"
    }
   ],
   "source": [
    "## Read VH dataset\n",
    "with open(f'/data/ksa/04_Data_Preprocessing/training-test/{kdprov}/training_VH_v2.pkl','rb') as file:\n",
    "    df=pickle.load(file)\n",
    "    if isinstance(df, pl.DataFrame):\n",
    "        df=df.to_pandas()\n",
    "print(df.shape)\n",
    "df.head()"
   ]
  },
  {
   "cell_type": "code",
   "execution_count": 7,
   "id": "ba9b5bc3-277c-4dc7-8e2b-40debb17c2cf",
   "metadata": {
    "execution": {
     "iopub.execute_input": "2024-10-16T00:57:16.799976Z",
     "iopub.status.busy": "2024-10-16T00:57:16.798890Z",
     "iopub.status.idle": "2024-10-16T00:57:19.494086Z",
     "shell.execute_reply": "2024-10-16T00:57:19.493041Z"
    },
    "papermill": {
     "duration": 2.702584,
     "end_time": "2024-10-16T00:57:19.496513",
     "exception": false,
     "start_time": "2024-10-16T00:57:16.793929",
     "status": "completed"
    },
    "tags": []
   },
   "outputs": [
    {
     "data": {
      "image/png": "[encoded data removed]",
      "text/plain": [
       "<Figure size 640x480 with 1 Axes>"
      ]
     },
     "metadata": {},
     "output_type": "display_data"
    }
   ],
   "source": [
    "sns.countplot(x='observation', hue='cluster_data', data=df,palette=sns.color_palette(\"Set2\"))\n",
    "plt.savefig(f\"/data/ksa/05_Modelling/picture/{kdprov}_distirbution_plot.png\", dpi=300, bbox_inches='tight')\n"
   ]
  },
  {
   "cell_type": "markdown",
   "id": "da80a265-9a12-4d2c-8b96-17ad999f2b53",
   "metadata": {
    "papermill": {
     "duration": 0.00595,
     "end_time": "2024-10-16T00:57:19.508671",
     "exception": false,
     "start_time": "2024-10-16T00:57:19.502721",
     "status": "completed"
    },
    "tags": []
   },
   "source": [
    "### Running Data"
   ]
  },
  {
   "cell_type": "code",
   "execution_count": 8,
   "id": "94f2a9fa-36a6-47a7-ab48-85cdb1f2f569",
   "metadata": {
    "execution": {
     "iopub.execute_input": "2024-10-16T00:57:19.524495Z",
     "iopub.status.busy": "2024-10-16T00:57:19.523627Z",
     "iopub.status.idle": "2024-10-16T00:57:19.535575Z",
     "shell.execute_reply": "2024-10-16T00:57:19.534731Z"
    },
    "papermill": {
     "duration": 0.021904,
     "end_time": "2024-10-16T00:57:19.537327",
     "exception": false,
     "start_time": "2024-10-16T00:57:19.515423",
     "status": "completed"
    },
    "tags": []
   },
   "outputs": [],
   "source": [
    "import optuna\n",
    "from xgboost import XGBClassifier\n",
    "\n",
    "# Example dataset\n",
    "\n",
    "# Define the objective function for Bayesian Optimization\n",
    "def objective(trial,X_train, y_train, n_splits=3):\n",
    "    \n",
    "    param = {\n",
    "        'max_depth': trial.suggest_int('max_depth', 6, 10),\n",
    "        'learning_rate': trial.suggest_uniform('learning_rate', 0.01, 0.1),\n",
    "        #'subsample': trial.suggest_uniform('subsample', 0.5, 0.7),\n",
    "        #'colsample_bytree': trial.suggest_uniform('colsample_bytree', 0.5, 0.7),\n",
    "        #'colsample_bylevel': trial.suggest_uniform('colsample_bylevel', 0.5, 0.7),\n",
    "        'reg_lambda': trial.suggest_uniform('reg_lambda', 0.1, 5),\n",
    "        'min_child_weight': trial.suggest_int('min_child_weight', 50, 100),\n",
    "        'objective': 'multi:softprob',  # Multiclass classification\n",
    "        'eval_metric': ['mlogloss'],\n",
    "        \"tree_method\":'hist',\n",
    "        \"num_class\": len(set(y_train)),\n",
    "        \"nthread\":20\n",
    "    }\n",
    "    \n",
    "    # Define the model\n",
    "    skf = StratifiedKFold(n_splits=n_splits,shuffle=True, random_state=42)\n",
    "    f1_macros=[]\n",
    "    for train_index, val_index in skf.split(X_train, y_train):\n",
    "        X_train_fold, X_val_fold = X_train.iloc[train_index], X_train.iloc[val_index]\n",
    "        y_train_fold, y_val_fold = y_train[train_index], y_train[val_index]\n",
    "\n",
    "        class_counts = Counter(y_train_fold)\n",
    "        total_samples = len(y_train_fold)\n",
    "        # Step 3: Calculate class weights as inverse of class frequency\n",
    "        class_weights = {cls: total_samples / count for cls, count in class_counts.items()}\n",
    "        sample_weights = np.array([class_weights[label] for label in y_train_fold])\n",
    "        # Create DMatrix with sample weights\n",
    "        dtrain_fold = xgb.DMatrix(X_train_fold, label=y_train_fold, enable_categorical=True, weight=sample_weights)\n",
    "        dval_fold = xgb.DMatrix(X_val_fold, label=y_val_fold, enable_categorical=True)\n",
    "        \n",
    "        evals = [(dtrain_fold, 'train'), (dval_fold, 'eval')]\n",
    "        model = xgb.train(param, dtrain_fold, \n",
    "                          num_boost_round=1000, evals=evals,early_stopping_rounds=50,\n",
    "                          verbose_eval=False)\n",
    "        y_val_pred_prob = model.predict(dval_fold)\n",
    "        y_val_pred = y_val_pred_prob.argmax(axis=1)\n",
    "        f1_macros.append(f1_score(y_val_fold, y_val_pred, average='macro'))\n",
    "    score=np.mean(f1_macros)\n",
    "    \n",
    "    return score"
   ]
  },
  {
   "cell_type": "code",
   "execution_count": 9,
   "id": "d60642b2-2944-4f3d-b337-3250ba03a3cd",
   "metadata": {
    "execution": {
     "iopub.execute_input": "2024-10-16T00:57:19.548429Z",
     "iopub.status.busy": "2024-10-16T00:57:19.547629Z",
     "iopub.status.idle": "2024-10-16T00:57:19.568361Z",
     "shell.execute_reply": "2024-10-16T00:57:19.567402Z"
    },
    "papermill": {
     "duration": 0.028571,
     "end_time": "2024-10-16T00:57:19.570198",
     "exception": false,
     "start_time": "2024-10-16T00:57:19.541627",
     "status": "completed"
    },
    "tags": []
   },
   "outputs": [],
   "source": [
    "def evaluate_model(X_train, y_train, X_test, y_test,cluster, best_params, n_splits=3):\n",
    "    # Convert data to DMatrix for XGBoost\n",
    "    class_counts = Counter(y_train)\n",
    "    total_samples = len(y_train)\n",
    "        # Step 3: Calculate class weights as inverse of class frequency\n",
    "    class_weights = {cls: total_samples / count for cls, count in class_counts.items()}\n",
    "    sample_weights = np.array([class_weights[label] for label in y_train])\n",
    "        # Create DMatrix with sample weights\n",
    "        \n",
    "    dtrain = xgb.DMatrix(X_train, label=y_train, enable_categorical=True,weight=sample_weights)\n",
    "    dtest = xgb.DMatrix(X_test, label=y_test, enable_categorical=True)\n",
    "    \n",
    "    params = best_params\n",
    "    params['objective']=\"multi:softprob\"\n",
    "    #params['tree_method']='approx'\n",
    "    params['eval_metric']='mlogloss'\n",
    "    params['num_class']=len(set(y_train))\n",
    "    params['nthread']=20\n",
    "    # Stratified K-Fold Cross Validation\n",
    "    skf = StratifiedKFold(n_splits=n_splits, shuffle=True, random_state=42)\n",
    "    \n",
    "    accuracies = []\n",
    "    f1_macros = []\n",
    "    f1_micros = []\n",
    "    aucs = []\n",
    "    acc_kelas_generatifs = []\n",
    "    acc_fase_padis = []\n",
    "\n",
    "    for train_index, val_index in skf.split(X_train, y_train):\n",
    "        X_train_fold, X_val_fold = X_train.iloc[train_index], X_train.iloc[val_index]\n",
    "        y_train_fold, y_val_fold = y_train[train_index], y_train[val_index]\n",
    "\n",
    "        class_counts = Counter(y_train_fold)\n",
    "        total_samples = len(y_train_fold)\n",
    "        # Step 3: Calculate class weights as inverse of class frequency\n",
    "        class_weights = {cls: total_samples / count for cls, count in class_counts.items()}\n",
    "        sample_weights = np.array([class_weights[label] for label in y_train_fold])\n",
    "        # Create DMatrix with sample weights\n",
    "        dtrain_fold = xgb.DMatrix(X_train_fold, label=y_train_fold, enable_categorical=True, weight=sample_weights)\n",
    "        dval_fold = xgb.DMatrix(X_val_fold, label=y_val_fold, enable_categorical=True)\n",
    "        \n",
    "        evals = [(dtrain_fold, 'train'), (dval_fold, 'eval')]\n",
    "        model = xgb.train(params, dtrain_fold, \n",
    "                          num_boost_round=10000, evals=evals,early_stopping_rounds=1000,verbose_eval=100)\n",
    "        \n",
    "        y_val_pred_prob = model.predict(dval_fold)\n",
    "        y_val_pred = y_val_pred_prob.argmax(axis=1)\n",
    "        \n",
    "        accuracies.append(accuracy_score(y_val_fold, y_val_pred))\n",
    "        f1_macros.append(f1_score(y_val_fold, y_val_pred, average='macro'))\n",
    "        f1_micros.append(f1_score(y_val_fold, y_val_pred, average='micro'))\n",
    "        aucs.append(roc_auc_score(y_val_fold, y_val_pred_prob, multi_class='ovr'))\n",
    "        acc_kelas_generatifs.append(akurasi_kelas_generatif(y_val_fold, y_val_pred))\n",
    "        acc_fase_padis.append(akurasi_fase_padi(y_val_fold, y_val_pred))\n",
    "\n",
    "    # Calculate average metrics\n",
    "    avg_accuracy = sum(accuracies) / len(accuracies)\n",
    "    avg_f1_macro = sum(f1_macros) / len(f1_macros)\n",
    "    avg_f1_micro = sum(f1_micros) / len(f1_micros)\n",
    "    avg_auc = sum(aucs) / len(aucs)\n",
    "    avg_acc_kelas_generatif = sum(acc_kelas_generatifs) / len(acc_kelas_generatifs)\n",
    "    avg_acc_fase_padi = sum(acc_fase_padis) / len(acc_fase_padis)\n",
    "    training_metrics = {\n",
    "        \"average_accuracy\": avg_accuracy,\n",
    "        \"average_f1_macro\": avg_f1_macro,\n",
    "        \"average_f1_micro\": avg_f1_micro,\n",
    "        \"average_auc\": avg_auc,\n",
    "        \"average_acc_kelas_generatif\": avg_acc_kelas_generatif,\n",
    "        \"average_acc_fase_padi\": avg_acc_fase_padi\n",
    "    }\n",
    "\n",
    "    \n",
    "    # Final model evaluation on the test set\n",
    "    evals = [(dtrain, 'train'), (dtest, 'eval')]\n",
    "    model = xgb.train(params, dtrain, \n",
    "                      num_boost_round=1000, evals=evals,early_stopping_rounds=50,\n",
    "                      verbose_eval=50)\n",
    "    y_test_pred_prob = model.predict(dtest)\n",
    "    y_test_pred = y_test_pred_prob.argmax(axis=1)\n",
    "\n",
    "    accuracy = accuracy_score(y_test, y_test_pred)\n",
    "    f1_macro = f1_score(y_test, y_test_pred, average='macro')\n",
    "    f1_micro = f1_score(y_test, y_test_pred, average='micro')\n",
    "    auc = roc_auc_score(y_test, y_test_pred_prob, multi_class='ovr')\n",
    "    acc_kelas_generatif = akurasi_kelas_generatif(y_test, y_test_pred)\n",
    "    acc_fase_padi = akurasi_fase_padi(y_test, y_test_pred)\n",
    "    \n",
    "    cm = confusion_matrix(y_test, y_test_pred)\n",
    "    relative_acc = 100 * (sum(cm[1, 1:3]) + sum(cm[1, 5:6]) + \n",
    "                          sum(cm[2, 1:4]) + \n",
    "                          sum(cm[3, 2:5]) + \n",
    "                          sum(cm[4, 3:6]) + \n",
    "                          sum(cm[5, 4:6])+sum(cm[5,1:2])) / sum(sum(cm[1:6, 1:6]))\n",
    "    validation_metrics = {\n",
    "        \"val_accuracy\": accuracy,\n",
    "        \"val_f1_macro\": f1_macro,\n",
    "        \"val_f1_micro\": f1_micro,\n",
    "        \"val_auc\": auc,\n",
    "        \"val_acc_kelas_generatif\": acc_kelas_generatif,\n",
    "        \"val_acc_fase_padi\": acc_fase_padi,\n",
    "        \"val_relative_acc\": relative_acc\n",
    "    }\n",
    "\n",
    "    print(\"\\nClassification Report on Test Set:\")\n",
    "    report = classification_report(y_test, y_test_pred)\n",
    "    print(report)\n",
    "    \n",
    "    # Display Confusion Matrix\n",
    "    cm_percentage = cm.astype('float') / cm.sum(axis=1)[:, np.newaxis] * 100\n",
    "\n",
    "    disp = ConfusionMatrixDisplay(confusion_matrix=cm_percentage)\n",
    "    disp.plot(cmap=plt.cm.Blues)\n",
    "    plt.savefig(f\"/data/ksa/05_Modelling/picture/{kdprov}_cm_cluster_{cluster}.png\", dpi=300, bbox_inches='tight')\n",
    "    plt.show()\n",
    "    \n",
    "    return model, training_metrics, validation_metrics, report, cm"
   ]
  },
  {
   "cell_type": "code",
   "execution_count": 10,
   "id": "f4462c6e-e78a-4409-8951-07e164e2986c",
   "metadata": {
    "editable": true,
    "execution": {
     "iopub.execute_input": "2024-10-16T00:57:19.581610Z",
     "iopub.status.busy": "2024-10-16T00:57:19.580150Z",
     "iopub.status.idle": "2024-10-16T03:02:20.618185Z",
     "shell.execute_reply": "2024-10-16T03:02:20.616751Z"
    },
    "papermill": {
     "duration": 7501.045833,
     "end_time": "2024-10-16T03:02:20.620236",
     "exception": false,
     "start_time": "2024-10-16T00:57:19.574403",
     "status": "completed"
    },
    "slideshow": {
     "slide_type": ""
    },
    "tags": []
   },
   "outputs": [
    {
     "name": "stdout",
     "output_type": "stream",
     "text": [
      "=============================================================================\n",
      "CLUSTER:  0\n"
     ]
    },
    {
     "name": "stderr",
     "output_type": "stream",
     "text": [
      "[I 2024-10-16 07:57:20,715] A new study created in memory with name: no-name-f041195a-594e-4291-acd4-e3d7144fb341\n"
     ]
    },
    {
     "name": "stdout",
     "output_type": "stream",
     "text": [
      "[2 4 1 3 0 6 5]\n",
      "[0 1 2 3 4 5 6]\n",
      "Mapping of original to encoded classes: {np.int64(0): np.int64(0), np.int64(1): np.int64(1), np.int64(2): np.int64(2), np.int64(3): np.int64(3), np.int64(4): np.int64(4), np.int64(5): np.int64(5), np.int64(6): np.int64(6)}\n",
      "Build Best Parameter using Optuna-Hyperparameter Tuning\n"
     ]
    },
    {
     "name": "stderr",
     "output_type": "stream",
     "text": [
      "[I 2024-10-16 07:58:05,824] Trial 0 finished with value: 0.8994703058901689 and parameters: {'max_depth': 6, 'learning_rate': 0.06423235110913215, 'reg_lambda': 2.399480361614388, 'min_child_weight': 76}. Best is trial 0 with value: 0.8994703058901689.\n"
     ]
    },
    {
     "name": "stderr",
     "output_type": "stream",
     "text": [
      "[I 2024-10-16 07:58:45,194] Trial 1 finished with value: 0.8981801800214972 and parameters: {'max_depth': 9, 'learning_rate': 0.06473937502641422, 'reg_lambda': 1.8921258049906018, 'min_child_weight': 86}. Best is trial 0 with value: 0.8994703058901689.\n"
     ]
    },
    {
     "name": "stderr",
     "output_type": "stream",
     "text": [
      "[I 2024-10-16 07:59:36,068] Trial 2 finished with value: 0.8991151963986663 and parameters: {'max_depth': 6, 'learning_rate': 0.06321564864411172, 'reg_lambda': 4.749390568866303, 'min_child_weight': 61}. Best is trial 0 with value: 0.8994703058901689.\n"
     ]
    },
    {
     "name": "stderr",
     "output_type": "stream",
     "text": [
      "[I 2024-10-16 08:00:21,702] Trial 3 finished with value: 0.8995540357818719 and parameters: {'max_depth': 10, 'learning_rate': 0.043571394364652405, 'reg_lambda': 1.5719928518153476, 'min_child_weight': 83}. Best is trial 3 with value: 0.8995540357818719.\n"
     ]
    },
    {
     "name": "stderr",
     "output_type": "stream",
     "text": [
      "[I 2024-10-16 08:01:33,531] Trial 4 finished with value: 0.8990856686653231 and parameters: {'max_depth': 8, 'learning_rate': 0.052183049377718754, 'reg_lambda': 0.970277714719843, 'min_child_weight': 83}. Best is trial 3 with value: 0.8995540357818719.\n"
     ]
    },
    {
     "name": "stderr",
     "output_type": "stream",
     "text": [
      "[I 2024-10-16 08:02:02,613] Trial 5 finished with value: 0.8983486814475059 and parameters: {'max_depth': 9, 'learning_rate': 0.09838248312789194, 'reg_lambda': 3.040671604275848, 'min_child_weight': 73}. Best is trial 3 with value: 0.8995540357818719.\n"
     ]
    },
    {
     "name": "stderr",
     "output_type": "stream",
     "text": [
      "[I 2024-10-16 08:02:43,010] Trial 6 finished with value: 0.899389550795723 and parameters: {'max_depth': 6, 'learning_rate': 0.07133357402761359, 'reg_lambda': 4.571942894376443, 'min_child_weight': 66}. Best is trial 3 with value: 0.8995540357818719.\n"
     ]
    },
    {
     "name": "stderr",
     "output_type": "stream",
     "text": [
      "[I 2024-10-16 08:03:16,989] Trial 7 finished with value: 0.9001176775377216 and parameters: {'max_depth': 7, 'learning_rate': 0.08652741672609919, 'reg_lambda': 2.1797819453979748, 'min_child_weight': 53}. Best is trial 7 with value: 0.9001176775377216.\n"
     ]
    },
    {
     "name": "stderr",
     "output_type": "stream",
     "text": [
      "[I 2024-10-16 08:04:07,279] Trial 8 finished with value: 0.8987237761483918 and parameters: {'max_depth': 7, 'learning_rate': 0.05763970930247083, 'reg_lambda': 2.4162784526827465, 'min_child_weight': 65}. Best is trial 7 with value: 0.9001176775377216.\n"
     ]
    },
    {
     "name": "stderr",
     "output_type": "stream",
     "text": [
      "[I 2024-10-16 08:04:38,084] Trial 9 finished with value: 0.8986053290787517 and parameters: {'max_depth': 10, 'learning_rate': 0.09706033944809989, 'reg_lambda': 2.8108349705722593, 'min_child_weight': 68}. Best is trial 7 with value: 0.9001176775377216.\n"
     ]
    },
    {
     "name": "stderr",
     "output_type": "stream",
     "text": [
      "[I 2024-10-16 08:06:18,767] Trial 10 finished with value: 0.8949160378467983 and parameters: {'max_depth': 7, 'learning_rate': 0.014242150667420295, 'reg_lambda': 0.12024375756611771, 'min_child_weight': 51}. Best is trial 7 with value: 0.9001176775377216.\n"
     ]
    },
    {
     "name": "stderr",
     "output_type": "stream",
     "text": [
      "[I 2024-10-16 08:07:48,082] Trial 11 finished with value: 0.8990443624497555 and parameters: {'max_depth': 10, 'learning_rate': 0.03509819483779539, 'reg_lambda': 1.3728000249210297, 'min_child_weight': 96}. Best is trial 7 with value: 0.9001176775377216.\n"
     ]
    },
    {
     "name": "stderr",
     "output_type": "stream",
     "text": [
      "[I 2024-10-16 08:09:01,222] Trial 12 finished with value: 0.8981240195887915 and parameters: {'max_depth': 8, 'learning_rate': 0.03604891896173671, 'reg_lambda': 3.695573886505917, 'min_child_weight': 53}. Best is trial 7 with value: 0.9001176775377216.\n"
     ]
    },
    {
     "name": "stderr",
     "output_type": "stream",
     "text": [
      "[I 2024-10-16 08:09:37,833] Trial 13 finished with value: 0.8999897241250338 and parameters: {'max_depth': 7, 'learning_rate': 0.08613724674156199, 'reg_lambda': 0.9852971624009917, 'min_child_weight': 100}. Best is trial 7 with value: 0.9001176775377216.\n"
     ]
    },
    {
     "name": "stderr",
     "output_type": "stream",
     "text": [
      "[I 2024-10-16 08:10:13,916] Trial 14 finished with value: 0.8992188798457846 and parameters: {'max_depth': 7, 'learning_rate': 0.08272524061809639, 'reg_lambda': 0.33403343417890174, 'min_child_weight': 100}. Best is trial 7 with value: 0.9001176775377216.\n"
     ]
    },
    {
     "name": "stderr",
     "output_type": "stream",
     "text": [
      "[I 2024-10-16 08:10:48,406] Trial 15 finished with value: 0.9004347905234488 and parameters: {'max_depth': 8, 'learning_rate': 0.08180150648794125, 'reg_lambda': 0.7808267275601752, 'min_child_weight': 92}. Best is trial 15 with value: 0.9004347905234488.\n"
     ]
    },
    {
     "name": "stderr",
     "output_type": "stream",
     "text": [
      "[I 2024-10-16 08:11:24,423] Trial 16 finished with value: 0.9004551965114262 and parameters: {'max_depth': 8, 'learning_rate': 0.08269804213198961, 'reg_lambda': 3.545435721102551, 'min_child_weight': 92}. Best is trial 16 with value: 0.9004551965114262.\n"
     ]
    },
    {
     "name": "stderr",
     "output_type": "stream",
     "text": [
      "[I 2024-10-16 08:11:55,481] Trial 17 finished with value: 0.8987948393583163 and parameters: {'max_depth': 8, 'learning_rate': 0.0776917962163529, 'reg_lambda': 3.6956191248981773, 'min_child_weight': 91}. Best is trial 16 with value: 0.9004551965114262.\n"
     ]
    },
    {
     "name": "stderr",
     "output_type": "stream",
     "text": [
      "[I 2024-10-16 08:12:24,876] Trial 18 finished with value: 0.899448717271324 and parameters: {'max_depth': 9, 'learning_rate': 0.07523279335276446, 'reg_lambda': 3.4532826209495187, 'min_child_weight': 91}. Best is trial 16 with value: 0.9004551965114262.\n"
     ]
    },
    {
     "name": "stderr",
     "output_type": "stream",
     "text": [
      "[I 2024-10-16 08:12:56,031] Trial 19 finished with value: 0.8985701365786133 and parameters: {'max_depth': 9, 'learning_rate': 0.09140614735288999, 'reg_lambda': 4.270899641081227, 'min_child_weight': 90}. Best is trial 16 with value: 0.9004551965114262.\n"
     ]
    },
    {
     "name": "stdout",
     "output_type": "stream",
     "text": [
      "Best Parameters: {'max_depth': 8, 'learning_rate': 0.08269804213198961, 'reg_lambda': 3.545435721102551, 'min_child_weight': 92}\n",
      "Best Score: 0.9004551965114262\n",
      "Start the modelling\n"
     ]
    },
    {
     "name": "stdout",
     "output_type": "stream",
     "text": [
      "[0]\ttrain-mlogloss:1.75511\teval-mlogloss:1.76095\n"
     ]
    },
    {
     "name": "stdout",
     "output_type": "stream",
     "text": [
      "[100]\ttrain-mlogloss:0.13120\teval-mlogloss:0.27243\n"
     ]
    },
    {
     "name": "stdout",
     "output_type": "stream",
     "text": [
      "[200]\ttrain-mlogloss:0.06354\teval-mlogloss:0.24679\n"
     ]
    },
    {
     "name": "stdout",
     "output_type": "stream",
     "text": [
      "[300]\ttrain-mlogloss:0.03934\teval-mlogloss:0.24426\n"
     ]
    },
    {
     "name": "stdout",
     "output_type": "stream",
     "text": [
      "[400]\ttrain-mlogloss:0.02806\teval-mlogloss:0.24615\n"
     ]
    },
    {
     "name": "stdout",
     "output_type": "stream",
     "text": [
      "[500]\ttrain-mlogloss:0.02186\teval-mlogloss:0.25040\n"
     ]
    },
    {
     "name": "stdout",
     "output_type": "stream",
     "text": [
      "[600]\ttrain-mlogloss:0.01810\teval-mlogloss:0.25341\n"
     ]
    },
    {
     "name": "stdout",
     "output_type": "stream",
     "text": [
      "[700]\ttrain-mlogloss:0.01558\teval-mlogloss:0.25615\n"
     ]
    },
    {
     "name": "stdout",
     "output_type": "stream",
     "text": [
      "[800]\ttrain-mlogloss:0.01369\teval-mlogloss:0.25961\n"
     ]
    },
    {
     "name": "stdout",
     "output_type": "stream",
     "text": [
      "[900]\ttrain-mlogloss:0.01227\teval-mlogloss:0.26251\n"
     ]
    },
    {
     "name": "stdout",
     "output_type": "stream",
     "text": [
      "[1000]\ttrain-mlogloss:0.01113\teval-mlogloss:0.26513\n"
     ]
    },
    {
     "name": "stdout",
     "output_type": "stream",
     "text": [
      "[1100]\ttrain-mlogloss:0.01024\teval-mlogloss:0.26762\n"
     ]
    },
    {
     "name": "stdout",
     "output_type": "stream",
     "text": [
      "[1200]\ttrain-mlogloss:0.00952\teval-mlogloss:0.26965\n"
     ]
    },
    {
     "name": "stdout",
     "output_type": "stream",
     "text": [
      "[1286]\ttrain-mlogloss:0.00901\teval-mlogloss:0.27121\n"
     ]
    },
    {
     "name": "stdout",
     "output_type": "stream",
     "text": [
      "[0]\ttrain-mlogloss:1.75710\teval-mlogloss:1.75882\n"
     ]
    },
    {
     "name": "stdout",
     "output_type": "stream",
     "text": [
      "[100]\ttrain-mlogloss:0.13704\teval-mlogloss:0.25885\n"
     ]
    },
    {
     "name": "stdout",
     "output_type": "stream",
     "text": [
      "[200]\ttrain-mlogloss:0.06889\teval-mlogloss:0.23231\n"
     ]
    },
    {
     "name": "stdout",
     "output_type": "stream",
     "text": [
      "[300]\ttrain-mlogloss:0.04300\teval-mlogloss:0.22814\n"
     ]
    },
    {
     "name": "stdout",
     "output_type": "stream",
     "text": [
      "[400]\ttrain-mlogloss:0.03062\teval-mlogloss:0.22920\n"
     ]
    },
    {
     "name": "stdout",
     "output_type": "stream",
     "text": [
      "[500]\ttrain-mlogloss:0.02356\teval-mlogloss:0.23177\n"
     ]
    },
    {
     "name": "stdout",
     "output_type": "stream",
     "text": [
      "[600]\ttrain-mlogloss:0.01920\teval-mlogloss:0.23514\n"
     ]
    },
    {
     "name": "stdout",
     "output_type": "stream",
     "text": [
      "[700]\ttrain-mlogloss:0.01627\teval-mlogloss:0.23837\n"
     ]
    },
    {
     "name": "stdout",
     "output_type": "stream",
     "text": [
      "[800]\ttrain-mlogloss:0.01424\teval-mlogloss:0.24089\n"
     ]
    },
    {
     "name": "stdout",
     "output_type": "stream",
     "text": [
      "[900]\ttrain-mlogloss:0.01273\teval-mlogloss:0.24354\n"
     ]
    },
    {
     "name": "stdout",
     "output_type": "stream",
     "text": [
      "[1000]\ttrain-mlogloss:0.01156\teval-mlogloss:0.24584\n"
     ]
    },
    {
     "name": "stdout",
     "output_type": "stream",
     "text": [
      "[1100]\ttrain-mlogloss:0.01061\teval-mlogloss:0.24799\n"
     ]
    },
    {
     "name": "stdout",
     "output_type": "stream",
     "text": [
      "[1200]\ttrain-mlogloss:0.00988\teval-mlogloss:0.24999\n"
     ]
    },
    {
     "name": "stdout",
     "output_type": "stream",
     "text": [
      "[1299]\ttrain-mlogloss:0.00927\teval-mlogloss:0.25184\n"
     ]
    },
    {
     "name": "stdout",
     "output_type": "stream",
     "text": [
      "[0]\ttrain-mlogloss:1.75601\teval-mlogloss:1.75942\n"
     ]
    },
    {
     "name": "stdout",
     "output_type": "stream",
     "text": [
      "[100]\ttrain-mlogloss:0.13035\teval-mlogloss:0.26525\n"
     ]
    },
    {
     "name": "stdout",
     "output_type": "stream",
     "text": [
      "[200]\ttrain-mlogloss:0.06341\teval-mlogloss:0.24224\n"
     ]
    },
    {
     "name": "stdout",
     "output_type": "stream",
     "text": [
      "[300]\ttrain-mlogloss:0.03964\teval-mlogloss:0.24039\n"
     ]
    },
    {
     "name": "stdout",
     "output_type": "stream",
     "text": [
      "[400]\ttrain-mlogloss:0.02804\teval-mlogloss:0.24391\n"
     ]
    },
    {
     "name": "stdout",
     "output_type": "stream",
     "text": [
      "[500]\ttrain-mlogloss:0.02188\teval-mlogloss:0.24809\n"
     ]
    },
    {
     "name": "stdout",
     "output_type": "stream",
     "text": [
      "[600]\ttrain-mlogloss:0.01816\teval-mlogloss:0.25170\n"
     ]
    },
    {
     "name": "stdout",
     "output_type": "stream",
     "text": [
      "[700]\ttrain-mlogloss:0.01556\teval-mlogloss:0.25550\n"
     ]
    },
    {
     "name": "stdout",
     "output_type": "stream",
     "text": [
      "[800]\ttrain-mlogloss:0.01370\teval-mlogloss:0.25885\n"
     ]
    },
    {
     "name": "stdout",
     "output_type": "stream",
     "text": [
      "[900]\ttrain-mlogloss:0.01226\teval-mlogloss:0.26186\n"
     ]
    },
    {
     "name": "stdout",
     "output_type": "stream",
     "text": [
      "[1000]\ttrain-mlogloss:0.01114\teval-mlogloss:0.26448\n"
     ]
    },
    {
     "name": "stdout",
     "output_type": "stream",
     "text": [
      "[1100]\ttrain-mlogloss:0.01028\teval-mlogloss:0.26724\n"
     ]
    },
    {
     "name": "stdout",
     "output_type": "stream",
     "text": [
      "[1200]\ttrain-mlogloss:0.00957\teval-mlogloss:0.26956\n"
     ]
    },
    {
     "name": "stdout",
     "output_type": "stream",
     "text": [
      "[1262]\ttrain-mlogloss:0.00920\teval-mlogloss:0.27088\n"
     ]
    },
    {
     "name": "stdout",
     "output_type": "stream",
     "text": [
      "[0]\ttrain-mlogloss:1.75360\teval-mlogloss:1.75503\n"
     ]
    },
    {
     "name": "stdout",
     "output_type": "stream",
     "text": [
      "[50]\ttrain-mlogloss:0.25101\teval-mlogloss:0.32010\n"
     ]
    },
    {
     "name": "stdout",
     "output_type": "stream",
     "text": [
      "[100]\ttrain-mlogloss:0.14238\teval-mlogloss:0.24523\n"
     ]
    },
    {
     "name": "stdout",
     "output_type": "stream",
     "text": [
      "[150]\ttrain-mlogloss:0.10191\teval-mlogloss:0.22587\n"
     ]
    },
    {
     "name": "stdout",
     "output_type": "stream",
     "text": [
      "[200]\ttrain-mlogloss:0.07644\teval-mlogloss:0.21707\n"
     ]
    },
    {
     "name": "stdout",
     "output_type": "stream",
     "text": [
      "[250]\ttrain-mlogloss:0.06033\teval-mlogloss:0.21294\n"
     ]
    },
    {
     "name": "stdout",
     "output_type": "stream",
     "text": [
      "[300]\ttrain-mlogloss:0.04863\teval-mlogloss:0.21101\n"
     ]
    },
    {
     "name": "stdout",
     "output_type": "stream",
     "text": [
      "[350]\ttrain-mlogloss:0.04029\teval-mlogloss:0.21031\n"
     ]
    },
    {
     "name": "stdout",
     "output_type": "stream",
     "text": [
      "[400]\ttrain-mlogloss:0.03372\teval-mlogloss:0.21038\n"
     ]
    },
    {
     "name": "stdout",
     "output_type": "stream",
     "text": [
      "[424]\ttrain-mlogloss:0.03137\teval-mlogloss:0.21043\n"
     ]
    },
    {
     "name": "stdout",
     "output_type": "stream",
     "text": [
      "\n",
      "Classification Report on Test Set:\n",
      "              precision    recall  f1-score   support\n",
      "\n",
      "           0       0.95      0.97      0.96      9277\n",
      "           1       0.93      0.96      0.94     11167\n",
      "           2       0.95      0.96      0.96     11261\n",
      "           3       0.95      0.95      0.95     12044\n",
      "           4       0.94      0.97      0.96      9325\n",
      "           5       0.80      0.58      0.67      6741\n",
      "           6       0.91      0.97      0.94     13569\n",
      "\n",
      "    accuracy                           0.93     73384\n",
      "   macro avg       0.92      0.91      0.91     73384\n",
      "weighted avg       0.93      0.93      0.92     73384\n",
      "\n"
     ]
    },
    {
     "data": {
      "image/png": "[encoded data removed]",
      "text/plain": [
       "<Figure size 640x480 with 1 Axes>"
      ]
     },
     "metadata": {},
     "output_type": "display_data"
    },
    {
     "data": {
      "image/png": "[encoded data removed]",
      "text/plain": [
       "<Figure size 640x480 with 2 Axes>"
      ]
     },
     "metadata": {},
     "output_type": "display_data"
    },
    {
     "name": "stdout",
     "output_type": "stream",
     "text": [
      "{'average_accuracy': 0.9201564437660975, 'average_f1_macro': np.float64(0.9015335905996142), 'average_f1_micro': np.float64(0.9201564437660975), 'average_auc': np.float64(0.9855602858519155), 'average_acc_kelas_generatif': 0.9453702327383123, 'average_acc_fase_padi': 0.9519444615892093}\n",
      "{'val_accuracy': 0.9281587266979178, 'val_f1_macro': np.float64(0.9113807235740349), 'val_f1_micro': np.float64(0.9281587266979178), 'val_auc': np.float64(0.9879296936063172), 'val_acc_kelas_generatif': 0.9494354035204251, 'val_acc_fase_padi': 0.9580336552731922, 'val_relative_acc': np.float64(99.46397765546702)}\n",
      "=============================================================================\n",
      "=============================================================================\n",
      "CLUSTER:  1\n"
     ]
    },
    {
     "name": "stderr",
     "output_type": "stream",
     "text": [
      "[I 2024-10-16 08:15:26,617] A new study created in memory with name: no-name-707a7411-7100-4767-9ac8-867c51797372\n"
     ]
    },
    {
     "name": "stdout",
     "output_type": "stream",
     "text": [
      "[1 6 2 5 4 3 0]\n",
      "[0 1 2 3 4 5 6]\n",
      "Mapping of original to encoded classes: {np.int64(0): np.int64(0), np.int64(1): np.int64(1), np.int64(2): np.int64(2), np.int64(3): np.int64(3), np.int64(4): np.int64(4), np.int64(5): np.int64(5), np.int64(6): np.int64(6)}\n",
      "Build Best Parameter using Optuna-Hyperparameter Tuning\n"
     ]
    },
    {
     "name": "stderr",
     "output_type": "stream",
     "text": [
      "[I 2024-10-16 08:16:06,599] Trial 0 finished with value: 0.8744833423907906 and parameters: {'max_depth': 7, 'learning_rate': 0.07601512126679062, 'reg_lambda': 1.5339074729706879, 'min_child_weight': 61}. Best is trial 0 with value: 0.8744833423907906.\n"
     ]
    },
    {
     "name": "stderr",
     "output_type": "stream",
     "text": [
      "[I 2024-10-16 08:16:52,962] Trial 1 finished with value: 0.8760665802411509 and parameters: {'max_depth': 10, 'learning_rate': 0.05252093348816326, 'reg_lambda': 0.7051418655014592, 'min_child_weight': 73}. Best is trial 1 with value: 0.8760665802411509.\n"
     ]
    },
    {
     "name": "stderr",
     "output_type": "stream",
     "text": [
      "[I 2024-10-16 08:17:52,451] Trial 2 finished with value: 0.8734923206300155 and parameters: {'max_depth': 7, 'learning_rate': 0.06830416363982066, 'reg_lambda': 4.797005891401888, 'min_child_weight': 90}. Best is trial 1 with value: 0.8760665802411509.\n"
     ]
    },
    {
     "name": "stderr",
     "output_type": "stream",
     "text": [
      "[I 2024-10-16 08:18:45,513] Trial 3 finished with value: 0.8748587051985813 and parameters: {'max_depth': 9, 'learning_rate': 0.06572620386308241, 'reg_lambda': 3.9276781199638227, 'min_child_weight': 72}. Best is trial 1 with value: 0.8760665802411509.\n"
     ]
    },
    {
     "name": "stderr",
     "output_type": "stream",
     "text": [
      "[I 2024-10-16 08:19:35,440] Trial 4 finished with value: 0.8734305183270918 and parameters: {'max_depth': 6, 'learning_rate': 0.09061323181218678, 'reg_lambda': 1.291826204577716, 'min_child_weight': 92}. Best is trial 1 with value: 0.8760665802411509.\n"
     ]
    },
    {
     "name": "stderr",
     "output_type": "stream",
     "text": [
      "[I 2024-10-16 08:20:29,464] Trial 5 finished with value: 0.8747104088692222 and parameters: {'max_depth': 8, 'learning_rate': 0.0737287183093058, 'reg_lambda': 1.4797691051238713, 'min_child_weight': 100}. Best is trial 1 with value: 0.8760665802411509.\n"
     ]
    },
    {
     "name": "stderr",
     "output_type": "stream",
     "text": [
      "[I 2024-10-16 08:21:07,808] Trial 6 finished with value: 0.8773041647730803 and parameters: {'max_depth': 10, 'learning_rate': 0.08461132597629227, 'reg_lambda': 0.3013569526638342, 'min_child_weight': 99}. Best is trial 6 with value: 0.8773041647730803.\n"
     ]
    },
    {
     "name": "stderr",
     "output_type": "stream",
     "text": [
      "[I 2024-10-16 08:22:02,408] Trial 7 finished with value: 0.8739796734741598 and parameters: {'max_depth': 7, 'learning_rate': 0.06817681160734884, 'reg_lambda': 4.622885895924284, 'min_child_weight': 100}. Best is trial 6 with value: 0.8773041647730803.\n"
     ]
    },
    {
     "name": "stderr",
     "output_type": "stream",
     "text": [
      "[I 2024-10-16 08:23:27,112] Trial 8 finished with value: 0.8728640786173193 and parameters: {'max_depth': 6, 'learning_rate': 0.05124191131297511, 'reg_lambda': 2.7966232512072384, 'min_child_weight': 98}. Best is trial 6 with value: 0.8773041647730803.\n"
     ]
    },
    {
     "name": "stderr",
     "output_type": "stream",
     "text": [
      "[I 2024-10-16 08:25:18,141] Trial 9 finished with value: 0.8747501801848926 and parameters: {'max_depth': 7, 'learning_rate': 0.029491579359680886, 'reg_lambda': 4.293298433293468, 'min_child_weight': 50}. Best is trial 6 with value: 0.8773041647730803.\n"
     ]
    },
    {
     "name": "stderr",
     "output_type": "stream",
     "text": [
      "[I 2024-10-16 08:26:27,372] Trial 10 finished with value: 0.8768006108107412 and parameters: {'max_depth': 10, 'learning_rate': 0.09992602743678758, 'reg_lambda': 0.19376130900084387, 'min_child_weight': 85}. Best is trial 6 with value: 0.8773041647730803.\n"
     ]
    },
    {
     "name": "stderr",
     "output_type": "stream",
     "text": [
      "[I 2024-10-16 08:26:58,626] Trial 11 finished with value: 0.8764873930079982 and parameters: {'max_depth': 10, 'learning_rate': 0.09985797092107494, 'reg_lambda': 0.42430840300791084, 'min_child_weight': 83}. Best is trial 6 with value: 0.8773041647730803.\n"
     ]
    },
    {
     "name": "stderr",
     "output_type": "stream",
     "text": [
      "[I 2024-10-16 08:27:27,025] Trial 12 finished with value: 0.876224099109352 and parameters: {'max_depth': 9, 'learning_rate': 0.08932268527299106, 'reg_lambda': 0.12204208202576866, 'min_child_weight': 86}. Best is trial 6 with value: 0.8773041647730803.\n"
     ]
    },
    {
     "name": "stderr",
     "output_type": "stream",
     "text": [
      "[I 2024-10-16 08:28:03,326] Trial 13 finished with value: 0.8764161560997407 and parameters: {'max_depth': 9, 'learning_rate': 0.09862613111295851, 'reg_lambda': 2.432790052538821, 'min_child_weight': 80}. Best is trial 6 with value: 0.8773041647730803.\n"
     ]
    },
    {
     "name": "stderr",
     "output_type": "stream",
     "text": [
      "[I 2024-10-16 08:29:37,922] Trial 14 finished with value: 0.8758674724712199 and parameters: {'max_depth': 10, 'learning_rate': 0.031683998826883844, 'reg_lambda': 2.3749868043087345, 'min_child_weight': 92}. Best is trial 6 with value: 0.8773041647730803.\n"
     ]
    },
    {
     "name": "stderr",
     "output_type": "stream",
     "text": [
      "[I 2024-10-16 08:30:24,275] Trial 15 finished with value: 0.8756582257416784 and parameters: {'max_depth': 9, 'learning_rate': 0.081742216015722, 'reg_lambda': 0.8929344000747304, 'min_child_weight': 78}. Best is trial 6 with value: 0.8773041647730803.\n"
     ]
    },
    {
     "name": "stderr",
     "output_type": "stream",
     "text": [
      "[I 2024-10-16 08:31:07,687] Trial 16 finished with value: 0.8765936935389158 and parameters: {'max_depth': 10, 'learning_rate': 0.08754647151162989, 'reg_lambda': 3.1895973696346407, 'min_child_weight': 68}. Best is trial 6 with value: 0.8773041647730803.\n"
     ]
    },
    {
     "name": "stderr",
     "output_type": "stream",
     "text": [
      "[I 2024-10-16 08:33:30,275] Trial 17 finished with value: 0.8689708740771449 and parameters: {'max_depth': 8, 'learning_rate': 0.013167776232855394, 'reg_lambda': 1.8677375222454797, 'min_child_weight': 87}. Best is trial 6 with value: 0.8773041647730803.\n"
     ]
    },
    {
     "name": "stderr",
     "output_type": "stream",
     "text": [
      "[I 2024-10-16 08:34:03,246] Trial 18 finished with value: 0.8767787122282344 and parameters: {'max_depth': 10, 'learning_rate': 0.0995344319197396, 'reg_lambda': 0.10552537679827201, 'min_child_weight': 93}. Best is trial 6 with value: 0.8773041647730803.\n"
     ]
    },
    {
     "name": "stderr",
     "output_type": "stream",
     "text": [
      "[I 2024-10-16 08:35:07,547] Trial 19 finished with value: 0.8764690082026689 and parameters: {'max_depth': 9, 'learning_rate': 0.04461017153499405, 'reg_lambda': 0.9502906204465693, 'min_child_weight': 64}. Best is trial 6 with value: 0.8773041647730803.\n"
     ]
    },
    {
     "name": "stdout",
     "output_type": "stream",
     "text": [
      "Best Parameters: {'max_depth': 10, 'learning_rate': 0.08461132597629227, 'reg_lambda': 0.3013569526638342, 'min_child_weight': 99}\n",
      "Best Score: 0.8773041647730803\n",
      "Start the modelling\n"
     ]
    },
    {
     "name": "stdout",
     "output_type": "stream",
     "text": [
      "[0]\ttrain-mlogloss:1.75688\teval-mlogloss:1.76287\n"
     ]
    },
    {
     "name": "stdout",
     "output_type": "stream",
     "text": [
      "[100]\ttrain-mlogloss:0.13973\teval-mlogloss:0.33010\n"
     ]
    },
    {
     "name": "stdout",
     "output_type": "stream",
     "text": [
      "[200]\ttrain-mlogloss:0.06473\teval-mlogloss:0.30530\n"
     ]
    },
    {
     "name": "stdout",
     "output_type": "stream",
     "text": [
      "[300]\ttrain-mlogloss:0.03878\teval-mlogloss:0.30396\n"
     ]
    },
    {
     "name": "stdout",
     "output_type": "stream",
     "text": [
      "[400]\ttrain-mlogloss:0.02778\teval-mlogloss:0.30737\n"
     ]
    },
    {
     "name": "stdout",
     "output_type": "stream",
     "text": [
      "[500]\ttrain-mlogloss:0.02167\teval-mlogloss:0.31143\n"
     ]
    },
    {
     "name": "stdout",
     "output_type": "stream",
     "text": [
      "[600]\ttrain-mlogloss:0.01788\teval-mlogloss:0.31560\n"
     ]
    },
    {
     "name": "stdout",
     "output_type": "stream",
     "text": [
      "[700]\ttrain-mlogloss:0.01544\teval-mlogloss:0.31984\n"
     ]
    },
    {
     "name": "stdout",
     "output_type": "stream",
     "text": [
      "[800]\ttrain-mlogloss:0.01368\teval-mlogloss:0.32329\n"
     ]
    },
    {
     "name": "stdout",
     "output_type": "stream",
     "text": [
      "[900]\ttrain-mlogloss:0.01238\teval-mlogloss:0.32642\n"
     ]
    },
    {
     "name": "stdout",
     "output_type": "stream",
     "text": [
      "[1000]\ttrain-mlogloss:0.01136\teval-mlogloss:0.32886\n"
     ]
    },
    {
     "name": "stdout",
     "output_type": "stream",
     "text": [
      "[1100]\ttrain-mlogloss:0.01055\teval-mlogloss:0.33129\n"
     ]
    },
    {
     "name": "stdout",
     "output_type": "stream",
     "text": [
      "[1200]\ttrain-mlogloss:0.00990\teval-mlogloss:0.33317\n"
     ]
    },
    {
     "name": "stdout",
     "output_type": "stream",
     "text": [
      "[1269]\ttrain-mlogloss:0.00951\teval-mlogloss:0.33436\n"
     ]
    },
    {
     "name": "stdout",
     "output_type": "stream",
     "text": [
      "[0]\ttrain-mlogloss:1.75571\teval-mlogloss:1.76258\n"
     ]
    },
    {
     "name": "stdout",
     "output_type": "stream",
     "text": [
      "[100]\ttrain-mlogloss:0.13601\teval-mlogloss:0.33321\n"
     ]
    },
    {
     "name": "stdout",
     "output_type": "stream",
     "text": [
      "[200]\ttrain-mlogloss:0.06286\teval-mlogloss:0.31050\n"
     ]
    },
    {
     "name": "stdout",
     "output_type": "stream",
     "text": [
      "[300]\ttrain-mlogloss:0.03820\teval-mlogloss:0.30948\n"
     ]
    },
    {
     "name": "stdout",
     "output_type": "stream",
     "text": [
      "[400]\ttrain-mlogloss:0.02713\teval-mlogloss:0.31324\n"
     ]
    },
    {
     "name": "stdout",
     "output_type": "stream",
     "text": [
      "[500]\ttrain-mlogloss:0.02121\teval-mlogloss:0.31740\n"
     ]
    },
    {
     "name": "stdout",
     "output_type": "stream",
     "text": [
      "[600]\ttrain-mlogloss:0.01759\teval-mlogloss:0.32144\n"
     ]
    },
    {
     "name": "stdout",
     "output_type": "stream",
     "text": [
      "[700]\ttrain-mlogloss:0.01520\teval-mlogloss:0.32558\n"
     ]
    },
    {
     "name": "stdout",
     "output_type": "stream",
     "text": [
      "[800]\ttrain-mlogloss:0.01350\teval-mlogloss:0.32905\n"
     ]
    },
    {
     "name": "stdout",
     "output_type": "stream",
     "text": [
      "[900]\ttrain-mlogloss:0.01222\teval-mlogloss:0.33203\n"
     ]
    },
    {
     "name": "stdout",
     "output_type": "stream",
     "text": [
      "[1000]\ttrain-mlogloss:0.01122\teval-mlogloss:0.33426\n"
     ]
    },
    {
     "name": "stdout",
     "output_type": "stream",
     "text": [
      "[1100]\ttrain-mlogloss:0.01044\teval-mlogloss:0.33644\n"
     ]
    },
    {
     "name": "stdout",
     "output_type": "stream",
     "text": [
      "[1200]\ttrain-mlogloss:0.00980\teval-mlogloss:0.33886\n"
     ]
    },
    {
     "name": "stdout",
     "output_type": "stream",
     "text": [
      "[1254]\ttrain-mlogloss:0.00950\teval-mlogloss:0.33988\n"
     ]
    },
    {
     "name": "stdout",
     "output_type": "stream",
     "text": [
      "[0]\ttrain-mlogloss:1.75494\teval-mlogloss:1.76300\n"
     ]
    },
    {
     "name": "stdout",
     "output_type": "stream",
     "text": [
      "[100]\ttrain-mlogloss:0.12877\teval-mlogloss:0.34065\n"
     ]
    },
    {
     "name": "stdout",
     "output_type": "stream",
     "text": [
      "[200]\ttrain-mlogloss:0.05937\teval-mlogloss:0.31991\n"
     ]
    },
    {
     "name": "stdout",
     "output_type": "stream",
     "text": [
      "[300]\ttrain-mlogloss:0.03628\teval-mlogloss:0.32024\n"
     ]
    },
    {
     "name": "stdout",
     "output_type": "stream",
     "text": [
      "[400]\ttrain-mlogloss:0.02617\teval-mlogloss:0.32536\n"
     ]
    },
    {
     "name": "stdout",
     "output_type": "stream",
     "text": [
      "[500]\ttrain-mlogloss:0.02066\teval-mlogloss:0.33040\n"
     ]
    },
    {
     "name": "stdout",
     "output_type": "stream",
     "text": [
      "[600]\ttrain-mlogloss:0.01723\teval-mlogloss:0.33423\n"
     ]
    },
    {
     "name": "stdout",
     "output_type": "stream",
     "text": [
      "[700]\ttrain-mlogloss:0.01490\teval-mlogloss:0.33824\n"
     ]
    },
    {
     "name": "stdout",
     "output_type": "stream",
     "text": [
      "[800]\ttrain-mlogloss:0.01329\teval-mlogloss:0.34169\n"
     ]
    },
    {
     "name": "stdout",
     "output_type": "stream",
     "text": [
      "[900]\ttrain-mlogloss:0.01205\teval-mlogloss:0.34468\n"
     ]
    },
    {
     "name": "stdout",
     "output_type": "stream",
     "text": [
      "[1000]\ttrain-mlogloss:0.01110\teval-mlogloss:0.34733\n"
     ]
    },
    {
     "name": "stdout",
     "output_type": "stream",
     "text": [
      "[1100]\ttrain-mlogloss:0.01034\teval-mlogloss:0.34992\n"
     ]
    },
    {
     "name": "stdout",
     "output_type": "stream",
     "text": [
      "[1200]\ttrain-mlogloss:0.00970\teval-mlogloss:0.35222\n"
     ]
    },
    {
     "name": "stdout",
     "output_type": "stream",
     "text": [
      "[1255]\ttrain-mlogloss:0.00940\teval-mlogloss:0.35328\n"
     ]
    },
    {
     "name": "stdout",
     "output_type": "stream",
     "text": [
      "[0]\ttrain-mlogloss:1.75190\teval-mlogloss:1.75862\n"
     ]
    },
    {
     "name": "stdout",
     "output_type": "stream",
     "text": [
      "[50]\ttrain-mlogloss:0.24277\teval-mlogloss:0.38704\n"
     ]
    },
    {
     "name": "stdout",
     "output_type": "stream",
     "text": [
      "[100]\ttrain-mlogloss:0.14645\teval-mlogloss:0.32668\n"
     ]
    },
    {
     "name": "stdout",
     "output_type": "stream",
     "text": [
      "[150]\ttrain-mlogloss:0.09952\teval-mlogloss:0.30784\n"
     ]
    },
    {
     "name": "stdout",
     "output_type": "stream",
     "text": [
      "[200]\ttrain-mlogloss:0.07095\teval-mlogloss:0.29969\n"
     ]
    },
    {
     "name": "stdout",
     "output_type": "stream",
     "text": [
      "[250]\ttrain-mlogloss:0.05338\teval-mlogloss:0.29684\n"
     ]
    },
    {
     "name": "stdout",
     "output_type": "stream",
     "text": [
      "[300]\ttrain-mlogloss:0.04224\teval-mlogloss:0.29666\n"
     ]
    },
    {
     "name": "stdout",
     "output_type": "stream",
     "text": [
      "[324]\ttrain-mlogloss:0.03839\teval-mlogloss:0.29700\n"
     ]
    },
    {
     "name": "stdout",
     "output_type": "stream",
     "text": [
      "\n",
      "Classification Report on Test Set:\n",
      "              precision    recall  f1-score   support\n",
      "\n",
      "           0       0.90      0.91      0.90     13464\n",
      "           1       0.91      0.91      0.91     13514\n",
      "           2       0.89      0.92      0.91     13253\n",
      "           3       0.91      0.91      0.91     13634\n",
      "           4       0.91      0.93      0.92     13365\n",
      "           5       0.90      0.93      0.91     12891\n",
      "           6       0.78      0.63      0.70      6532\n",
      "\n",
      "    accuracy                           0.90     86653\n",
      "   macro avg       0.89      0.88      0.88     86653\n",
      "weighted avg       0.89      0.90      0.90     86653\n",
      "\n"
     ]
    },
    {
     "data": {
      "image/png": "[encoded data removed]",
      "text/plain": [
       "<Figure size 640x480 with 1 Axes>"
      ]
     },
     "metadata": {},
     "output_type": "display_data"
    },
    {
     "data": {
      "image/png": "[encoded data removed]",
      "text/plain": [
       "<Figure size 640x480 with 2 Axes>"
      ]
     },
     "metadata": {},
     "output_type": "display_data"
    },
    {
     "name": "stdout",
     "output_type": "stream",
     "text": [
      "{'average_accuracy': 0.8958720413603684, 'average_f1_macro': np.float64(0.8794122318376837), 'average_f1_micro': np.float64(0.8958720413603684), 'average_auc': np.float64(0.9842601246064935), 'average_acc_kelas_generatif': 0.9135725226370129, 'average_acc_fase_padi': 0.9211038412346427}\n",
      "{'val_accuracy': 0.8966798610550125, 'val_f1_macro': np.float64(0.8807881655297928), 'val_f1_micro': np.float64(0.8966798610550125), 'val_auc': np.float64(0.9857884085417314), 'val_acc_kelas_generatif': 0.9091242482030218, 'val_acc_fase_padi': 0.9182568909719897, 'val_relative_acc': np.float64(99.96921798285442)}\n",
      "=============================================================================\n",
      "=============================================================================\n",
      "CLUSTER:  2\n"
     ]
    },
    {
     "name": "stderr",
     "output_type": "stream",
     "text": [
      "[I 2024-10-16 08:38:08,381] A new study created in memory with name: no-name-a8e06753-1fb0-4924-8219-d00aec1ac2fc\n"
     ]
    },
    {
     "name": "stdout",
     "output_type": "stream",
     "text": [
      "[6 2 1 0 4 3 5]\n",
      "[0 1 2 3 4 5 6]\n",
      "Mapping of original to encoded classes: {np.int64(0): np.int64(0), np.int64(1): np.int64(1), np.int64(2): np.int64(2), np.int64(3): np.int64(3), np.int64(4): np.int64(4), np.int64(5): np.int64(5), np.int64(6): np.int64(6)}\n",
      "Build Best Parameter using Optuna-Hyperparameter Tuning\n"
     ]
    },
    {
     "name": "stderr",
     "output_type": "stream",
     "text": [
      "[I 2024-10-16 08:38:37,276] Trial 0 finished with value: 0.9192297498828185 and parameters: {'max_depth': 6, 'learning_rate': 0.09652007136372698, 'reg_lambda': 3.6151251519209286, 'min_child_weight': 53}. Best is trial 0 with value: 0.9192297498828185.\n"
     ]
    },
    {
     "name": "stderr",
     "output_type": "stream",
     "text": [
      "[I 2024-10-16 08:39:22,532] Trial 1 finished with value: 0.9188984014548741 and parameters: {'max_depth': 8, 'learning_rate': 0.05621786140786244, 'reg_lambda': 1.7465039945557037, 'min_child_weight': 96}. Best is trial 0 with value: 0.9192297498828185.\n"
     ]
    },
    {
     "name": "stderr",
     "output_type": "stream",
     "text": [
      "[I 2024-10-16 08:39:49,439] Trial 2 finished with value: 0.9185252567103136 and parameters: {'max_depth': 7, 'learning_rate': 0.07978261689611586, 'reg_lambda': 1.4769248710784744, 'min_child_weight': 90}. Best is trial 0 with value: 0.9192297498828185.\n"
     ]
    },
    {
     "name": "stderr",
     "output_type": "stream",
     "text": [
      "[I 2024-10-16 08:40:19,500] Trial 3 finished with value: 0.920193742266763 and parameters: {'max_depth': 9, 'learning_rate': 0.08216594107105876, 'reg_lambda': 3.8722476111743567, 'min_child_weight': 62}. Best is trial 3 with value: 0.920193742266763.\n"
     ]
    },
    {
     "name": "stderr",
     "output_type": "stream",
     "text": [
      "[I 2024-10-16 08:41:02,609] Trial 4 finished with value: 0.9192213766269979 and parameters: {'max_depth': 10, 'learning_rate': 0.06204271861656283, 'reg_lambda': 2.55655566795009, 'min_child_weight': 64}. Best is trial 3 with value: 0.920193742266763.\n"
     ]
    },
    {
     "name": "stderr",
     "output_type": "stream",
     "text": [
      "[I 2024-10-16 08:41:53,880] Trial 5 finished with value: 0.9196586635030078 and parameters: {'max_depth': 7, 'learning_rate': 0.05866181343296043, 'reg_lambda': 0.6319887823925507, 'min_child_weight': 65}. Best is trial 3 with value: 0.920193742266763.\n"
     ]
    },
    {
     "name": "stderr",
     "output_type": "stream",
     "text": [
      "[I 2024-10-16 08:44:03,388] Trial 6 finished with value: 0.9175417292166353 and parameters: {'max_depth': 10, 'learning_rate': 0.016720313231091972, 'reg_lambda': 4.357202537731213, 'min_child_weight': 98}. Best is trial 3 with value: 0.920193742266763.\n"
     ]
    },
    {
     "name": "stderr",
     "output_type": "stream",
     "text": [
      "[I 2024-10-16 08:45:39,524] Trial 7 finished with value: 0.9154524973310085 and parameters: {'max_depth': 6, 'learning_rate': 0.019365741646706153, 'reg_lambda': 1.296463583426492, 'min_child_weight': 82}. Best is trial 3 with value: 0.920193742266763.\n"
     ]
    },
    {
     "name": "stderr",
     "output_type": "stream",
     "text": [
      "[I 2024-10-16 08:46:42,258] Trial 8 finished with value: 0.9185698854592372 and parameters: {'max_depth': 6, 'learning_rate': 0.0334183822405442, 'reg_lambda': 1.8808505654850818, 'min_child_weight': 64}. Best is trial 3 with value: 0.920193742266763.\n"
     ]
    },
    {
     "name": "stderr",
     "output_type": "stream",
     "text": [
      "[I 2024-10-16 08:47:12,290] Trial 9 finished with value: 0.91896423908707 and parameters: {'max_depth': 6, 'learning_rate': 0.09606727642923084, 'reg_lambda': 3.8789944969624837, 'min_child_weight': 88}. Best is trial 3 with value: 0.920193742266763.\n"
     ]
    },
    {
     "name": "stderr",
     "output_type": "stream",
     "text": [
      "[I 2024-10-16 08:47:48,084] Trial 10 finished with value: 0.9192495531596409 and parameters: {'max_depth': 9, 'learning_rate': 0.07466181325075039, 'reg_lambda': 4.997481163420689, 'min_child_weight': 53}. Best is trial 3 with value: 0.920193742266763.\n"
     ]
    },
    {
     "name": "stderr",
     "output_type": "stream",
     "text": [
      "[I 2024-10-16 08:48:54,411] Trial 11 finished with value: 0.9180119675352169 and parameters: {'max_depth': 8, 'learning_rate': 0.03741173502332487, 'reg_lambda': 2.7538220852656177, 'min_child_weight': 68}. Best is trial 3 with value: 0.920193742266763.\n"
     ]
    },
    {
     "name": "stderr",
     "output_type": "stream",
     "text": [
      "[I 2024-10-16 08:49:30,910] Trial 12 finished with value: 0.9182352858003152 and parameters: {'max_depth': 8, 'learning_rate': 0.07693673206619125, 'reg_lambda': 0.2740975502473342, 'min_child_weight': 74}. Best is trial 3 with value: 0.920193742266763.\n"
     ]
    },
    {
     "name": "stderr",
     "output_type": "stream",
     "text": [
      "[I 2024-10-16 08:50:34,056] Trial 13 finished with value: 0.9185459847144442 and parameters: {'max_depth': 9, 'learning_rate': 0.040993909981169786, 'reg_lambda': 0.3055759685631396, 'min_child_weight': 58}. Best is trial 3 with value: 0.920193742266763.\n"
     ]
    },
    {
     "name": "stderr",
     "output_type": "stream",
     "text": [
      "[I 2024-10-16 08:51:12,737] Trial 14 finished with value: 0.9198118065852489 and parameters: {'max_depth': 7, 'learning_rate': 0.06621702414298844, 'reg_lambda': 3.237164797974856, 'min_child_weight': 74}. Best is trial 3 with value: 0.920193742266763.\n"
     ]
    },
    {
     "name": "stderr",
     "output_type": "stream",
     "text": [
      "[I 2024-10-16 08:51:59,163] Trial 15 finished with value: 0.9192957291887165 and parameters: {'max_depth': 9, 'learning_rate': 0.08478099446907367, 'reg_lambda': 3.3273051047204527, 'min_child_weight': 76}. Best is trial 3 with value: 0.920193742266763.\n"
     ]
    },
    {
     "name": "stderr",
     "output_type": "stream",
     "text": [
      "[I 2024-10-16 08:52:42,099] Trial 16 finished with value: 0.9200151811182021 and parameters: {'max_depth': 7, 'learning_rate': 0.06882965331619405, 'reg_lambda': 3.031814973821959, 'min_child_weight': 74}. Best is trial 3 with value: 0.920193742266763.\n"
     ]
    },
    {
     "name": "stderr",
     "output_type": "stream",
     "text": [
      "[I 2024-10-16 08:53:22,074] Trial 17 finished with value: 0.9184556699018288 and parameters: {'max_depth': 8, 'learning_rate': 0.08863327966081291, 'reg_lambda': 4.449586710824498, 'min_child_weight': 80}. Best is trial 3 with value: 0.920193742266763.\n"
     ]
    },
    {
     "name": "stderr",
     "output_type": "stream",
     "text": [
      "[I 2024-10-16 08:53:58,841] Trial 18 finished with value: 0.9194231780813822 and parameters: {'max_depth': 9, 'learning_rate': 0.07171908894479792, 'reg_lambda': 2.9356783357839507, 'min_child_weight': 70}. Best is trial 3 with value: 0.920193742266763.\n"
     ]
    },
    {
     "name": "stderr",
     "output_type": "stream",
     "text": [
      "[I 2024-10-16 08:54:52,792] Trial 19 finished with value: 0.920348326779199 and parameters: {'max_depth': 7, 'learning_rate': 0.046823677592178266, 'reg_lambda': 2.2657862256305954, 'min_child_weight': 58}. Best is trial 19 with value: 0.920348326779199.\n"
     ]
    },
    {
     "name": "stdout",
     "output_type": "stream",
     "text": [
      "Best Parameters: {'max_depth': 7, 'learning_rate': 0.046823677592178266, 'reg_lambda': 2.2657862256305954, 'min_child_weight': 58}\n",
      "Best Score: 0.920348326779199\n",
      "Start the modelling\n"
     ]
    },
    {
     "name": "stdout",
     "output_type": "stream",
     "text": [
      "[0]\ttrain-mlogloss:1.82654\teval-mlogloss:1.83190\n"
     ]
    },
    {
     "name": "stdout",
     "output_type": "stream",
     "text": [
      "[100]\ttrain-mlogloss:0.18007\teval-mlogloss:0.30828\n"
     ]
    },
    {
     "name": "stdout",
     "output_type": "stream",
     "text": [
      "[200]\ttrain-mlogloss:0.08990\teval-mlogloss:0.24943\n"
     ]
    },
    {
     "name": "stdout",
     "output_type": "stream",
     "text": [
      "[300]\ttrain-mlogloss:0.05364\teval-mlogloss:0.23392\n"
     ]
    },
    {
     "name": "stdout",
     "output_type": "stream",
     "text": [
      "[400]\ttrain-mlogloss:0.03619\teval-mlogloss:0.22869\n"
     ]
    },
    {
     "name": "stdout",
     "output_type": "stream",
     "text": [
      "[500]\ttrain-mlogloss:0.02657\teval-mlogloss:0.22744\n"
     ]
    },
    {
     "name": "stdout",
     "output_type": "stream",
     "text": [
      "[600]\ttrain-mlogloss:0.02079\teval-mlogloss:0.22749\n"
     ]
    },
    {
     "name": "stdout",
     "output_type": "stream",
     "text": [
      "[700]\ttrain-mlogloss:0.01703\teval-mlogloss:0.22861\n"
     ]
    },
    {
     "name": "stdout",
     "output_type": "stream",
     "text": [
      "[800]\ttrain-mlogloss:0.01442\teval-mlogloss:0.22994\n"
     ]
    },
    {
     "name": "stdout",
     "output_type": "stream",
     "text": [
      "[900]\ttrain-mlogloss:0.01261\teval-mlogloss:0.23116\n"
     ]
    },
    {
     "name": "stdout",
     "output_type": "stream",
     "text": [
      "[1000]\ttrain-mlogloss:0.01114\teval-mlogloss:0.23283\n"
     ]
    },
    {
     "name": "stdout",
     "output_type": "stream",
     "text": [
      "[1100]\ttrain-mlogloss:0.01002\teval-mlogloss:0.23464\n"
     ]
    },
    {
     "name": "stdout",
     "output_type": "stream",
     "text": [
      "[1200]\ttrain-mlogloss:0.00913\teval-mlogloss:0.23604\n"
     ]
    },
    {
     "name": "stdout",
     "output_type": "stream",
     "text": [
      "[1300]\ttrain-mlogloss:0.00842\teval-mlogloss:0.23755\n"
     ]
    },
    {
     "name": "stdout",
     "output_type": "stream",
     "text": [
      "[1400]\ttrain-mlogloss:0.00781\teval-mlogloss:0.23871\n"
     ]
    },
    {
     "name": "stdout",
     "output_type": "stream",
     "text": [
      "[1500]\ttrain-mlogloss:0.00732\teval-mlogloss:0.24008\n"
     ]
    },
    {
     "name": "stdout",
     "output_type": "stream",
     "text": [
      "[1560]\ttrain-mlogloss:0.00706\teval-mlogloss:0.24089\n"
     ]
    },
    {
     "name": "stdout",
     "output_type": "stream",
     "text": [
      "[0]\ttrain-mlogloss:1.82716\teval-mlogloss:1.83175\n"
     ]
    },
    {
     "name": "stdout",
     "output_type": "stream",
     "text": [
      "[100]\ttrain-mlogloss:0.18283\teval-mlogloss:0.31039\n"
     ]
    },
    {
     "name": "stdout",
     "output_type": "stream",
     "text": [
      "[200]\ttrain-mlogloss:0.09104\teval-mlogloss:0.24737\n"
     ]
    },
    {
     "name": "stdout",
     "output_type": "stream",
     "text": [
      "[300]\ttrain-mlogloss:0.05631\teval-mlogloss:0.23073\n"
     ]
    },
    {
     "name": "stdout",
     "output_type": "stream",
     "text": [
      "[400]\ttrain-mlogloss:0.03708\teval-mlogloss:0.22478\n"
     ]
    },
    {
     "name": "stdout",
     "output_type": "stream",
     "text": [
      "[500]\ttrain-mlogloss:0.02709\teval-mlogloss:0.22350\n"
     ]
    },
    {
     "name": "stdout",
     "output_type": "stream",
     "text": [
      "[600]\ttrain-mlogloss:0.02089\teval-mlogloss:0.22402\n"
     ]
    },
    {
     "name": "stdout",
     "output_type": "stream",
     "text": [
      "[700]\ttrain-mlogloss:0.01698\teval-mlogloss:0.22536\n"
     ]
    },
    {
     "name": "stdout",
     "output_type": "stream",
     "text": [
      "[800]\ttrain-mlogloss:0.01439\teval-mlogloss:0.22714\n"
     ]
    },
    {
     "name": "stdout",
     "output_type": "stream",
     "text": [
      "[900]\ttrain-mlogloss:0.01252\teval-mlogloss:0.22914\n"
     ]
    },
    {
     "name": "stdout",
     "output_type": "stream",
     "text": [
      "[1000]\ttrain-mlogloss:0.01112\teval-mlogloss:0.23085\n"
     ]
    },
    {
     "name": "stdout",
     "output_type": "stream",
     "text": [
      "[1100]\ttrain-mlogloss:0.01000\teval-mlogloss:0.23247\n"
     ]
    },
    {
     "name": "stdout",
     "output_type": "stream",
     "text": [
      "[1200]\ttrain-mlogloss:0.00910\teval-mlogloss:0.23419\n"
     ]
    },
    {
     "name": "stdout",
     "output_type": "stream",
     "text": [
      "[1300]\ttrain-mlogloss:0.00840\teval-mlogloss:0.23582\n"
     ]
    },
    {
     "name": "stdout",
     "output_type": "stream",
     "text": [
      "[1400]\ttrain-mlogloss:0.00782\teval-mlogloss:0.23732\n"
     ]
    },
    {
     "name": "stdout",
     "output_type": "stream",
     "text": [
      "[1500]\ttrain-mlogloss:0.00735\teval-mlogloss:0.23881\n"
     ]
    },
    {
     "name": "stdout",
     "output_type": "stream",
     "text": [
      "[1537]\ttrain-mlogloss:0.00719\teval-mlogloss:0.23932\n"
     ]
    },
    {
     "name": "stdout",
     "output_type": "stream",
     "text": [
      "[0]\ttrain-mlogloss:1.82699\teval-mlogloss:1.83116\n"
     ]
    },
    {
     "name": "stdout",
     "output_type": "stream",
     "text": [
      "[100]\ttrain-mlogloss:0.18398\teval-mlogloss:0.30223\n"
     ]
    },
    {
     "name": "stdout",
     "output_type": "stream",
     "text": [
      "[200]\ttrain-mlogloss:0.09271\teval-mlogloss:0.24504\n"
     ]
    },
    {
     "name": "stdout",
     "output_type": "stream",
     "text": [
      "[300]\ttrain-mlogloss:0.05747\teval-mlogloss:0.23119\n"
     ]
    },
    {
     "name": "stdout",
     "output_type": "stream",
     "text": [
      "[400]\ttrain-mlogloss:0.03804\teval-mlogloss:0.22609\n"
     ]
    },
    {
     "name": "stdout",
     "output_type": "stream",
     "text": [
      "[500]\ttrain-mlogloss:0.02782\teval-mlogloss:0.22556\n"
     ]
    },
    {
     "name": "stdout",
     "output_type": "stream",
     "text": [
      "[600]\ttrain-mlogloss:0.02150\teval-mlogloss:0.22598\n"
     ]
    },
    {
     "name": "stdout",
     "output_type": "stream",
     "text": [
      "[700]\ttrain-mlogloss:0.01742\teval-mlogloss:0.22752\n"
     ]
    },
    {
     "name": "stdout",
     "output_type": "stream",
     "text": [
      "[800]\ttrain-mlogloss:0.01459\teval-mlogloss:0.22926\n"
     ]
    },
    {
     "name": "stdout",
     "output_type": "stream",
     "text": [
      "[900]\ttrain-mlogloss:0.01265\teval-mlogloss:0.23101\n"
     ]
    },
    {
     "name": "stdout",
     "output_type": "stream",
     "text": [
      "[1000]\ttrain-mlogloss:0.01118\teval-mlogloss:0.23248\n"
     ]
    },
    {
     "name": "stdout",
     "output_type": "stream",
     "text": [
      "[1100]\ttrain-mlogloss:0.01003\teval-mlogloss:0.23408\n"
     ]
    },
    {
     "name": "stdout",
     "output_type": "stream",
     "text": [
      "[1200]\ttrain-mlogloss:0.00915\teval-mlogloss:0.23550\n"
     ]
    },
    {
     "name": "stdout",
     "output_type": "stream",
     "text": [
      "[1300]\ttrain-mlogloss:0.00844\teval-mlogloss:0.23715\n"
     ]
    },
    {
     "name": "stdout",
     "output_type": "stream",
     "text": [
      "[1400]\ttrain-mlogloss:0.00783\teval-mlogloss:0.23846\n"
     ]
    },
    {
     "name": "stdout",
     "output_type": "stream",
     "text": [
      "[1500]\ttrain-mlogloss:0.00733\teval-mlogloss:0.23987\n"
     ]
    },
    {
     "name": "stdout",
     "output_type": "stream",
     "text": [
      "[1526]\ttrain-mlogloss:0.00722\teval-mlogloss:0.24031\n"
     ]
    },
    {
     "name": "stdout",
     "output_type": "stream",
     "text": [
      "[0]\ttrain-mlogloss:1.82653\teval-mlogloss:1.83013\n"
     ]
    },
    {
     "name": "stdout",
     "output_type": "stream",
     "text": [
      "[50]\ttrain-mlogloss:0.38126\teval-mlogloss:0.45982\n"
     ]
    },
    {
     "name": "stdout",
     "output_type": "stream",
     "text": [
      "[100]\ttrain-mlogloss:0.19311\teval-mlogloss:0.30257\n"
     ]
    },
    {
     "name": "stdout",
     "output_type": "stream",
     "text": [
      "[150]\ttrain-mlogloss:0.13493\teval-mlogloss:0.26255\n"
     ]
    },
    {
     "name": "stdout",
     "output_type": "stream",
     "text": [
      "[200]\ttrain-mlogloss:0.10217\teval-mlogloss:0.24445\n"
     ]
    },
    {
     "name": "stdout",
     "output_type": "stream",
     "text": [
      "[250]\ttrain-mlogloss:0.08115\teval-mlogloss:0.23449\n"
     ]
    },
    {
     "name": "stdout",
     "output_type": "stream",
     "text": [
      "[300]\ttrain-mlogloss:0.06520\teval-mlogloss:0.22817\n"
     ]
    },
    {
     "name": "stdout",
     "output_type": "stream",
     "text": [
      "[350]\ttrain-mlogloss:0.05380\teval-mlogloss:0.22436\n"
     ]
    },
    {
     "name": "stdout",
     "output_type": "stream",
     "text": [
      "[400]\ttrain-mlogloss:0.04554\teval-mlogloss:0.22215\n"
     ]
    },
    {
     "name": "stdout",
     "output_type": "stream",
     "text": [
      "[450]\ttrain-mlogloss:0.03901\teval-mlogloss:0.22077\n"
     ]
    },
    {
     "name": "stdout",
     "output_type": "stream",
     "text": [
      "[500]\ttrain-mlogloss:0.03368\teval-mlogloss:0.22011\n"
     ]
    },
    {
     "name": "stdout",
     "output_type": "stream",
     "text": [
      "[550]\ttrain-mlogloss:0.02932\teval-mlogloss:0.21979\n"
     ]
    },
    {
     "name": "stdout",
     "output_type": "stream",
     "text": [
      "[600]\ttrain-mlogloss:0.02579\teval-mlogloss:0.21983\n"
     ]
    },
    {
     "name": "stdout",
     "output_type": "stream",
     "text": [
      "[622]\ttrain-mlogloss:0.02445\teval-mlogloss:0.21998\n"
     ]
    },
    {
     "name": "stdout",
     "output_type": "stream",
     "text": [
      "\n",
      "Classification Report on Test Set:\n",
      "              precision    recall  f1-score   support\n",
      "\n",
      "           0       0.92      0.94      0.93     10697\n",
      "           1       0.96      0.97      0.96     10852\n",
      "           2       0.91      0.88      0.89      5419\n",
      "           3       0.95      0.95      0.95     12403\n",
      "           4       0.96      0.98      0.97     11447\n",
      "           5       0.93      0.97      0.95      4462\n",
      "           6       0.84      0.76      0.80      6878\n",
      "\n",
      "    accuracy                           0.93     62158\n",
      "   macro avg       0.92      0.92      0.92     62158\n",
      "weighted avg       0.93      0.93      0.93     62158\n",
      "\n"
     ]
    },
    {
     "data": {
      "image/png": "[encoded data removed]",
      "text/plain": [
       "<Figure size 640x480 with 1 Axes>"
      ]
     },
     "metadata": {},
     "output_type": "display_data"
    },
    {
     "data": {
      "image/png": "[encoded data removed]",
      "text/plain": [
       "<Figure size 640x480 with 2 Axes>"
      ]
     },
     "metadata": {},
     "output_type": "display_data"
    },
    {
     "name": "stdout",
     "output_type": "stream",
     "text": [
      "{'average_accuracy': 0.9319043998948832, 'average_f1_macro': np.float64(0.9220954726250093), 'average_f1_micro': np.float64(0.9319043998948832), 'average_auc': np.float64(0.9911527905573045), 'average_acc_kelas_generatif': 0.9525959367945824, 'average_acc_fase_padi': 0.9532447368391068}\n",
      "{'val_accuracy': 0.9314488883168699, 'val_f1_macro': np.float64(0.9220252271314325), 'val_f1_micro': np.float64(0.9314488883168699), 'val_auc': np.float64(0.9911111363122126), 'val_acc_kelas_generatif': 0.9486414577118439, 'val_acc_fase_padi': 0.9525684803469505, 'val_relative_acc': np.float64(99.73856209150327)}\n",
      "=============================================================================\n",
      "=============================================================================\n",
      "CLUSTER:  3\n"
     ]
    },
    {
     "name": "stderr",
     "output_type": "stream",
     "text": [
      "[I 2024-10-16 08:57:36,730] A new study created in memory with name: no-name-15f513d5-e9b6-46ef-8a51-96f97538ecb8\n"
     ]
    },
    {
     "name": "stdout",
     "output_type": "stream",
     "text": [
      "[6 4 5 2 1 3 0]\n",
      "[0 1 2 3 4 5 6]\n",
      "Mapping of original to encoded classes: {np.int64(0): np.int64(0), np.int64(1): np.int64(1), np.int64(2): np.int64(2), np.int64(3): np.int64(3), np.int64(4): np.int64(4), np.int64(5): np.int64(5), np.int64(6): np.int64(6)}\n",
      "Build Best Parameter using Optuna-Hyperparameter Tuning\n"
     ]
    },
    {
     "name": "stderr",
     "output_type": "stream",
     "text": [
      "[I 2024-10-16 08:58:04,653] Trial 0 finished with value: 0.5770863323766137 and parameters: {'max_depth': 6, 'learning_rate': 0.06638548518879962, 'reg_lambda': 3.4863975703366115, 'min_child_weight': 96}. Best is trial 0 with value: 0.5770863323766137.\n"
     ]
    },
    {
     "name": "stderr",
     "output_type": "stream",
     "text": [
      "[I 2024-10-16 08:58:45,230] Trial 1 finished with value: 0.5744974566102625 and parameters: {'max_depth': 8, 'learning_rate': 0.04856957477421152, 'reg_lambda': 3.208547101437683, 'min_child_weight': 92}. Best is trial 0 with value: 0.5770863323766137.\n"
     ]
    },
    {
     "name": "stderr",
     "output_type": "stream",
     "text": [
      "[I 2024-10-16 08:59:52,880] Trial 2 finished with value: 0.576511069356664 and parameters: {'max_depth': 8, 'learning_rate': 0.026910066327897643, 'reg_lambda': 2.544651804646782, 'min_child_weight': 75}. Best is trial 0 with value: 0.5770863323766137.\n"
     ]
    },
    {
     "name": "stderr",
     "output_type": "stream",
     "text": [
      "[I 2024-10-16 09:00:31,758] Trial 3 finished with value: 0.5763627003654389 and parameters: {'max_depth': 7, 'learning_rate': 0.049958810854913105, 'reg_lambda': 4.272278315485476, 'min_child_weight': 91}. Best is trial 0 with value: 0.5770863323766137.\n"
     ]
    },
    {
     "name": "stderr",
     "output_type": "stream",
     "text": [
      "[I 2024-10-16 09:01:09,612] Trial 4 finished with value: 0.575140011664118 and parameters: {'max_depth': 10, 'learning_rate': 0.05895194351290883, 'reg_lambda': 2.6754232760052568, 'min_child_weight': 73}. Best is trial 0 with value: 0.5770863323766137.\n"
     ]
    },
    {
     "name": "stderr",
     "output_type": "stream",
     "text": [
      "[I 2024-10-16 09:01:40,756] Trial 5 finished with value: 0.5743385481257379 and parameters: {'max_depth': 8, 'learning_rate': 0.07373422065163986, 'reg_lambda': 4.193771632278576, 'min_child_weight': 86}. Best is trial 0 with value: 0.5770863323766137.\n"
     ]
    },
    {
     "name": "stderr",
     "output_type": "stream",
     "text": [
      "[I 2024-10-16 09:02:28,794] Trial 6 finished with value: 0.5749087357161987 and parameters: {'max_depth': 10, 'learning_rate': 0.04404855435605013, 'reg_lambda': 1.1329864715281817, 'min_child_weight': 52}. Best is trial 0 with value: 0.5770863323766137.\n"
     ]
    },
    {
     "name": "stderr",
     "output_type": "stream",
     "text": [
      "[I 2024-10-16 09:04:17,068] Trial 7 finished with value: 0.5753615492123688 and parameters: {'max_depth': 8, 'learning_rate': 0.013991639162061066, 'reg_lambda': 1.07525286482245, 'min_child_weight': 83}. Best is trial 0 with value: 0.5770863323766137.\n"
     ]
    },
    {
     "name": "stderr",
     "output_type": "stream",
     "text": [
      "[I 2024-10-16 09:04:34,020] Trial 8 finished with value: 0.5709840517875316 and parameters: {'max_depth': 10, 'learning_rate': 0.09762725998259295, 'reg_lambda': 3.1199925022115242, 'min_child_weight': 59}. Best is trial 0 with value: 0.5770863323766137.\n"
     ]
    },
    {
     "name": "stderr",
     "output_type": "stream",
     "text": [
      "[I 2024-10-16 09:05:01,334] Trial 9 finished with value: 0.5736997497519484 and parameters: {'max_depth': 9, 'learning_rate': 0.06239749564658047, 'reg_lambda': 4.266913554387182, 'min_child_weight': 59}. Best is trial 0 with value: 0.5770863323766137.\n"
     ]
    },
    {
     "name": "stderr",
     "output_type": "stream",
     "text": [
      "[I 2024-10-16 09:05:23,662] Trial 10 finished with value: 0.576675759688379 and parameters: {'max_depth': 6, 'learning_rate': 0.0874084892633974, 'reg_lambda': 4.982715591372157, 'min_child_weight': 99}. Best is trial 0 with value: 0.5770863323766137.\n"
     ]
    },
    {
     "name": "stderr",
     "output_type": "stream",
     "text": [
      "[I 2024-10-16 09:05:42,743] Trial 11 finished with value: 0.5765361615388831 and parameters: {'max_depth': 6, 'learning_rate': 0.0877878647704096, 'reg_lambda': 4.928661238232852, 'min_child_weight': 99}. Best is trial 0 with value: 0.5770863323766137.\n"
     ]
    },
    {
     "name": "stderr",
     "output_type": "stream",
     "text": [
      "[I 2024-10-16 09:06:04,078] Trial 12 finished with value: 0.5739687007428069 and parameters: {'max_depth': 6, 'learning_rate': 0.07784286624162255, 'reg_lambda': 4.89017517399482, 'min_child_weight': 99}. Best is trial 0 with value: 0.5770863323766137.\n"
     ]
    },
    {
     "name": "stderr",
     "output_type": "stream",
     "text": [
      "[I 2024-10-16 09:06:28,726] Trial 13 finished with value: 0.5735035095111276 and parameters: {'max_depth': 6, 'learning_rate': 0.0760655904504651, 'reg_lambda': 1.8077262400617193, 'min_child_weight': 99}. Best is trial 0 with value: 0.5770863323766137.\n"
     ]
    },
    {
     "name": "stderr",
     "output_type": "stream",
     "text": [
      "[I 2024-10-16 09:06:50,281] Trial 14 finished with value: 0.5740582851442267 and parameters: {'max_depth': 7, 'learning_rate': 0.09947232939178802, 'reg_lambda': 3.6029487152056614, 'min_child_weight': 79}. Best is trial 0 with value: 0.5770863323766137.\n"
     ]
    },
    {
     "name": "stderr",
     "output_type": "stream",
     "text": [
      "[I 2024-10-16 09:07:15,371] Trial 15 finished with value: 0.5751452474931656 and parameters: {'max_depth': 7, 'learning_rate': 0.08486417673081907, 'reg_lambda': 0.2944934860333208, 'min_child_weight': 91}. Best is trial 0 with value: 0.5770863323766137.\n"
     ]
    },
    {
     "name": "stderr",
     "output_type": "stream",
     "text": [
      "[I 2024-10-16 09:07:47,122] Trial 16 finished with value: 0.5761869132493308 and parameters: {'max_depth': 6, 'learning_rate': 0.06677500627210385, 'reg_lambda': 3.8060560182570877, 'min_child_weight': 71}. Best is trial 0 with value: 0.5770863323766137.\n"
     ]
    },
    {
     "name": "stderr",
     "output_type": "stream",
     "text": [
      "[I 2024-10-16 09:08:36,527] Trial 17 finished with value: 0.5723799242628754 and parameters: {'max_depth': 7, 'learning_rate': 0.036067058847999246, 'reg_lambda': 2.290371920486647, 'min_child_weight': 93}. Best is trial 0 with value: 0.5770863323766137.\n"
     ]
    },
    {
     "name": "stderr",
     "output_type": "stream",
     "text": [
      "[I 2024-10-16 09:08:58,662] Trial 18 finished with value: 0.5739996833210594 and parameters: {'max_depth': 6, 'learning_rate': 0.09035879839755859, 'reg_lambda': 4.963288349969521, 'min_child_weight': 85}. Best is trial 0 with value: 0.5770863323766137.\n"
     ]
    },
    {
     "name": "stderr",
     "output_type": "stream",
     "text": [
      "[I 2024-10-16 09:09:28,272] Trial 19 finished with value: 0.5756623806712358 and parameters: {'max_depth': 7, 'learning_rate': 0.06785138633831539, 'reg_lambda': 3.520429301673258, 'min_child_weight': 66}. Best is trial 0 with value: 0.5770863323766137.\n"
     ]
    },
    {
     "name": "stdout",
     "output_type": "stream",
     "text": [
      "Best Parameters: {'max_depth': 6, 'learning_rate': 0.06638548518879962, 'reg_lambda': 3.4863975703366115, 'min_child_weight': 96}\n",
      "Best Score: 0.5770863323766137\n",
      "Start the modelling\n"
     ]
    },
    {
     "name": "stdout",
     "output_type": "stream",
     "text": [
      "[0]\ttrain-mlogloss:1.87255\teval-mlogloss:1.87498\n"
     ]
    },
    {
     "name": "stdout",
     "output_type": "stream",
     "text": [
      "[100]\ttrain-mlogloss:0.85122\teval-mlogloss:1.05461\n"
     ]
    },
    {
     "name": "stdout",
     "output_type": "stream",
     "text": [
      "[200]\ttrain-mlogloss:0.69607\teval-mlogloss:1.02533\n"
     ]
    },
    {
     "name": "stdout",
     "output_type": "stream",
     "text": [
      "[300]\ttrain-mlogloss:0.58453\teval-mlogloss:1.02168\n"
     ]
    },
    {
     "name": "stdout",
     "output_type": "stream",
     "text": [
      "[400]\ttrain-mlogloss:0.49109\teval-mlogloss:1.02340\n"
     ]
    },
    {
     "name": "stdout",
     "output_type": "stream",
     "text": [
      "[500]\ttrain-mlogloss:0.41119\teval-mlogloss:1.02793\n"
     ]
    },
    {
     "name": "stdout",
     "output_type": "stream",
     "text": [
      "[600]\ttrain-mlogloss:0.34736\teval-mlogloss:1.03466\n"
     ]
    },
    {
     "name": "stdout",
     "output_type": "stream",
     "text": [
      "[700]\ttrain-mlogloss:0.29829\teval-mlogloss:1.04259\n"
     ]
    },
    {
     "name": "stdout",
     "output_type": "stream",
     "text": [
      "[800]\ttrain-mlogloss:0.25595\teval-mlogloss:1.04964\n"
     ]
    },
    {
     "name": "stdout",
     "output_type": "stream",
     "text": [
      "[900]\ttrain-mlogloss:0.22292\teval-mlogloss:1.05751\n"
     ]
    },
    {
     "name": "stdout",
     "output_type": "stream",
     "text": [
      "[1000]\ttrain-mlogloss:0.19457\teval-mlogloss:1.06559\n"
     ]
    },
    {
     "name": "stdout",
     "output_type": "stream",
     "text": [
      "[1100]\ttrain-mlogloss:0.17074\teval-mlogloss:1.07500\n"
     ]
    },
    {
     "name": "stdout",
     "output_type": "stream",
     "text": [
      "[1200]\ttrain-mlogloss:0.15139\teval-mlogloss:1.08395\n"
     ]
    },
    {
     "name": "stdout",
     "output_type": "stream",
     "text": [
      "[1283]\ttrain-mlogloss:0.13753\teval-mlogloss:1.09181\n"
     ]
    },
    {
     "name": "stdout",
     "output_type": "stream",
     "text": [
      "[0]\ttrain-mlogloss:1.87356\teval-mlogloss:1.87368\n"
     ]
    },
    {
     "name": "stdout",
     "output_type": "stream",
     "text": [
      "[100]\ttrain-mlogloss:0.85324\teval-mlogloss:1.04724\n"
     ]
    },
    {
     "name": "stdout",
     "output_type": "stream",
     "text": [
      "[200]\ttrain-mlogloss:0.69943\teval-mlogloss:1.01854\n"
     ]
    },
    {
     "name": "stdout",
     "output_type": "stream",
     "text": [
      "[300]\ttrain-mlogloss:0.58528\teval-mlogloss:1.01327\n"
     ]
    },
    {
     "name": "stdout",
     "output_type": "stream",
     "text": [
      "[400]\ttrain-mlogloss:0.49262\teval-mlogloss:1.01529\n"
     ]
    },
    {
     "name": "stdout",
     "output_type": "stream",
     "text": [
      "[500]\ttrain-mlogloss:0.41609\teval-mlogloss:1.01964\n"
     ]
    },
    {
     "name": "stdout",
     "output_type": "stream",
     "text": [
      "[600]\ttrain-mlogloss:0.35124\teval-mlogloss:1.02608\n"
     ]
    },
    {
     "name": "stdout",
     "output_type": "stream",
     "text": [
      "[700]\ttrain-mlogloss:0.29778\teval-mlogloss:1.03418\n"
     ]
    },
    {
     "name": "stdout",
     "output_type": "stream",
     "text": [
      "[800]\ttrain-mlogloss:0.25705\teval-mlogloss:1.04150\n"
     ]
    },
    {
     "name": "stdout",
     "output_type": "stream",
     "text": [
      "[900]\ttrain-mlogloss:0.22212\teval-mlogloss:1.05067\n"
     ]
    },
    {
     "name": "stdout",
     "output_type": "stream",
     "text": [
      "[1000]\ttrain-mlogloss:0.19323\teval-mlogloss:1.05965\n"
     ]
    },
    {
     "name": "stdout",
     "output_type": "stream",
     "text": [
      "[1100]\ttrain-mlogloss:0.16926\teval-mlogloss:1.06819\n"
     ]
    },
    {
     "name": "stdout",
     "output_type": "stream",
     "text": [
      "[1200]\ttrain-mlogloss:0.14868\teval-mlogloss:1.07694\n"
     ]
    },
    {
     "name": "stdout",
     "output_type": "stream",
     "text": [
      "[1289]\ttrain-mlogloss:0.13391\teval-mlogloss:1.08494\n"
     ]
    },
    {
     "name": "stdout",
     "output_type": "stream",
     "text": [
      "[0]\ttrain-mlogloss:1.87284\teval-mlogloss:1.87500\n"
     ]
    },
    {
     "name": "stdout",
     "output_type": "stream",
     "text": [
      "[100]\ttrain-mlogloss:0.85777\teval-mlogloss:1.04896\n"
     ]
    },
    {
     "name": "stdout",
     "output_type": "stream",
     "text": [
      "[200]\ttrain-mlogloss:0.70070\teval-mlogloss:1.02118\n"
     ]
    },
    {
     "name": "stdout",
     "output_type": "stream",
     "text": [
      "[300]\ttrain-mlogloss:0.58530\teval-mlogloss:1.01456\n"
     ]
    },
    {
     "name": "stdout",
     "output_type": "stream",
     "text": [
      "[400]\ttrain-mlogloss:0.49058\teval-mlogloss:1.01564\n"
     ]
    },
    {
     "name": "stdout",
     "output_type": "stream",
     "text": [
      "[500]\ttrain-mlogloss:0.41407\teval-mlogloss:1.02072\n"
     ]
    },
    {
     "name": "stdout",
     "output_type": "stream",
     "text": [
      "[600]\ttrain-mlogloss:0.35009\teval-mlogloss:1.02677\n"
     ]
    },
    {
     "name": "stdout",
     "output_type": "stream",
     "text": [
      "[700]\ttrain-mlogloss:0.29914\teval-mlogloss:1.03398\n"
     ]
    },
    {
     "name": "stdout",
     "output_type": "stream",
     "text": [
      "[800]\ttrain-mlogloss:0.25725\teval-mlogloss:1.04249\n"
     ]
    },
    {
     "name": "stdout",
     "output_type": "stream",
     "text": [
      "[900]\ttrain-mlogloss:0.22486\teval-mlogloss:1.05121\n"
     ]
    },
    {
     "name": "stdout",
     "output_type": "stream",
     "text": [
      "[1000]\ttrain-mlogloss:0.19618\teval-mlogloss:1.06025\n"
     ]
    },
    {
     "name": "stdout",
     "output_type": "stream",
     "text": [
      "[1100]\ttrain-mlogloss:0.17280\teval-mlogloss:1.06874\n"
     ]
    },
    {
     "name": "stdout",
     "output_type": "stream",
     "text": [
      "[1200]\ttrain-mlogloss:0.15252\teval-mlogloss:1.07758\n"
     ]
    },
    {
     "name": "stdout",
     "output_type": "stream",
     "text": [
      "[1300]\ttrain-mlogloss:0.13439\teval-mlogloss:1.08627\n"
     ]
    },
    {
     "name": "stdout",
     "output_type": "stream",
     "text": [
      "[1349]\ttrain-mlogloss:0.12753\teval-mlogloss:1.09044\n"
     ]
    },
    {
     "name": "stdout",
     "output_type": "stream",
     "text": [
      "[0]\ttrain-mlogloss:1.87311\teval-mlogloss:1.87410\n"
     ]
    },
    {
     "name": "stdout",
     "output_type": "stream",
     "text": [
      "[50]\ttrain-mlogloss:1.02976\teval-mlogloss:1.11482\n"
     ]
    },
    {
     "name": "stdout",
     "output_type": "stream",
     "text": [
      "[100]\ttrain-mlogloss:0.89037\teval-mlogloss:1.04010\n"
     ]
    },
    {
     "name": "stdout",
     "output_type": "stream",
     "text": [
      "[150]\ttrain-mlogloss:0.81383\teval-mlogloss:1.01872\n"
     ]
    },
    {
     "name": "stdout",
     "output_type": "stream",
     "text": [
      "[200]\ttrain-mlogloss:0.74884\teval-mlogloss:1.00788\n"
     ]
    },
    {
     "name": "stdout",
     "output_type": "stream",
     "text": [
      "[250]\ttrain-mlogloss:0.69572\teval-mlogloss:1.00226\n"
     ]
    },
    {
     "name": "stdout",
     "output_type": "stream",
     "text": [
      "[300]\ttrain-mlogloss:0.64612\teval-mlogloss:0.99902\n"
     ]
    },
    {
     "name": "stdout",
     "output_type": "stream",
     "text": [
      "[350]\ttrain-mlogloss:0.60275\teval-mlogloss:0.99722\n"
     ]
    },
    {
     "name": "stdout",
     "output_type": "stream",
     "text": [
      "[400]\ttrain-mlogloss:0.55835\teval-mlogloss:0.99652\n"
     ]
    },
    {
     "name": "stdout",
     "output_type": "stream",
     "text": [
      "[450]\ttrain-mlogloss:0.51788\teval-mlogloss:0.99643\n"
     ]
    },
    {
     "name": "stdout",
     "output_type": "stream",
     "text": [
      "[485]\ttrain-mlogloss:0.49542\teval-mlogloss:0.99721\n"
     ]
    },
    {
     "name": "stdout",
     "output_type": "stream",
     "text": [
      "\n",
      "Classification Report on Test Set:\n",
      "              precision    recall  f1-score   support\n",
      "\n",
      "           0       0.46      0.46      0.46      6935\n",
      "           1       0.86      0.91      0.89     11608\n",
      "           2       0.52      0.47      0.49      6905\n",
      "           3       0.92      0.97      0.95      6192\n",
      "           4       0.55      0.52      0.53      6855\n",
      "           5       0.45      0.42      0.44      6817\n",
      "           6       0.33      0.34      0.33      6925\n",
      "\n",
      "    accuracy                           0.61     52237\n",
      "   macro avg       0.58      0.59      0.58     52237\n",
      "weighted avg       0.60      0.61      0.61     52237\n",
      "\n"
     ]
    },
    {
     "data": {
      "image/png": "[encoded data removed]",
      "text/plain": [
       "<Figure size 640x480 with 1 Axes>"
      ]
     },
     "metadata": {},
     "output_type": "display_data"
    },
    {
     "data": {
      "image/png": "[encoded data removed]",
      "text/plain": [
       "<Figure size 640x480 with 2 Axes>"
      ]
     },
     "metadata": {},
     "output_type": "display_data"
    },
    {
     "name": "stdout",
     "output_type": "stream",
     "text": [
      "{'average_accuracy': 0.6020280532475654, 'average_f1_macro': np.float64(0.5729476505860949), 'average_f1_micro': np.float64(0.6020280532475654), 'average_auc': np.float64(0.8761278806350132), 'average_acc_kelas_generatif': 0.9747560736593638, 'average_acc_fase_padi': 0.7450837586714899}\n",
      "{'val_accuracy': 0.6109079771043513, 'val_f1_macro': np.float64(0.5844990586007006), 'val_f1_micro': np.float64(0.6109079771043513), 'val_auc': np.float64(0.8841581879825409), 'val_acc_kelas_generatif': 0.974967700258398, 'val_acc_fase_padi': 0.7445817490494296, 'val_relative_acc': np.float64(93.4067980754307)}\n",
      "=============================================================================\n",
      "=============================================================================\n",
      "CLUSTER:  4\n"
     ]
    },
    {
     "name": "stderr",
     "output_type": "stream",
     "text": [
      "[I 2024-10-16 09:11:28,962] A new study created in memory with name: no-name-ae974137-60e4-48e5-88cf-aac2c22503ac\n"
     ]
    },
    {
     "name": "stdout",
     "output_type": "stream",
     "text": [
      "[2 6 3 1 4 5 0]\n",
      "[0 1 2 3 4 5 6]\n",
      "Mapping of original to encoded classes: {np.int64(0): np.int64(0), np.int64(1): np.int64(1), np.int64(2): np.int64(2), np.int64(3): np.int64(3), np.int64(4): np.int64(4), np.int64(5): np.int64(5), np.int64(6): np.int64(6)}\n",
      "Build Best Parameter using Optuna-Hyperparameter Tuning\n"
     ]
    },
    {
     "name": "stderr",
     "output_type": "stream",
     "text": [
      "[I 2024-10-16 09:11:58,058] Trial 0 finished with value: 0.840371589915247 and parameters: {'max_depth': 9, 'learning_rate': 0.08973609153145921, 'reg_lambda': 3.550435127458888, 'min_child_weight': 90}. Best is trial 0 with value: 0.840371589915247.\n"
     ]
    },
    {
     "name": "stderr",
     "output_type": "stream",
     "text": [
      "[I 2024-10-16 09:12:45,690] Trial 1 finished with value: 0.8402821341041782 and parameters: {'max_depth': 8, 'learning_rate': 0.053187871833425986, 'reg_lambda': 1.7046759807814678, 'min_child_weight': 82}. Best is trial 0 with value: 0.840371589915247.\n"
     ]
    },
    {
     "name": "stderr",
     "output_type": "stream",
     "text": [
      "[I 2024-10-16 09:14:36,285] Trial 2 finished with value: 0.8398229339719173 and parameters: {'max_depth': 9, 'learning_rate': 0.016995811354969543, 'reg_lambda': 1.2648751526659479, 'min_child_weight': 91}. Best is trial 0 with value: 0.840371589915247.\n"
     ]
    },
    {
     "name": "stderr",
     "output_type": "stream",
     "text": [
      "[I 2024-10-16 09:15:32,930] Trial 3 finished with value: 0.8392314288565078 and parameters: {'max_depth': 8, 'learning_rate': 0.07514414311197413, 'reg_lambda': 0.5602801077360956, 'min_child_weight': 94}. Best is trial 0 with value: 0.840371589915247.\n"
     ]
    },
    {
     "name": "stderr",
     "output_type": "stream",
     "text": [
      "[I 2024-10-16 09:16:19,620] Trial 4 finished with value: 0.840357138176663 and parameters: {'max_depth': 6, 'learning_rate': 0.06196950367851938, 'reg_lambda': 0.6490951835616231, 'min_child_weight': 97}. Best is trial 0 with value: 0.840371589915247.\n"
     ]
    },
    {
     "name": "stderr",
     "output_type": "stream",
     "text": [
      "[I 2024-10-16 09:17:04,794] Trial 5 finished with value: 0.839744230044165 and parameters: {'max_depth': 10, 'learning_rate': 0.05729563629537696, 'reg_lambda': 1.4070654002521539, 'min_child_weight': 86}. Best is trial 0 with value: 0.840371589915247.\n"
     ]
    },
    {
     "name": "stderr",
     "output_type": "stream",
     "text": [
      "[I 2024-10-16 09:17:46,786] Trial 6 finished with value: 0.8396181680329096 and parameters: {'max_depth': 10, 'learning_rate': 0.06246715794172069, 'reg_lambda': 0.5049660669282126, 'min_child_weight': 88}. Best is trial 0 with value: 0.840371589915247.\n"
     ]
    },
    {
     "name": "stderr",
     "output_type": "stream",
     "text": [
      "[I 2024-10-16 09:18:38,807] Trial 7 finished with value: 0.8407945403040523 and parameters: {'max_depth': 8, 'learning_rate': 0.0542812214551496, 'reg_lambda': 4.85163579789338, 'min_child_weight': 65}. Best is trial 7 with value: 0.8407945403040523.\n"
     ]
    },
    {
     "name": "stderr",
     "output_type": "stream",
     "text": [
      "[I 2024-10-16 09:20:11,730] Trial 8 finished with value: 0.8367290531370598 and parameters: {'max_depth': 6, 'learning_rate': 0.01555326266584951, 'reg_lambda': 4.951568125386041, 'min_child_weight': 64}. Best is trial 7 with value: 0.8407945403040523.\n"
     ]
    },
    {
     "name": "stderr",
     "output_type": "stream",
     "text": [
      "[I 2024-10-16 09:21:40,734] Trial 9 finished with value: 0.8375290003448197 and parameters: {'max_depth': 9, 'learning_rate': 0.024700287360800835, 'reg_lambda': 2.098935376327573, 'min_child_weight': 51}. Best is trial 7 with value: 0.8407945403040523.\n"
     ]
    },
    {
     "name": "stderr",
     "output_type": "stream",
     "text": [
      "[I 2024-10-16 09:23:07,190] Trial 10 finished with value: 0.8398158711719937 and parameters: {'max_depth': 7, 'learning_rate': 0.0356986220967188, 'reg_lambda': 3.376619882550805, 'min_child_weight': 69}. Best is trial 7 with value: 0.8407945403040523.\n"
     ]
    },
    {
     "name": "stderr",
     "output_type": "stream",
     "text": [
      "[I 2024-10-16 09:23:35,017] Trial 11 finished with value: 0.8400748926433735 and parameters: {'max_depth': 8, 'learning_rate': 0.09722874311647842, 'reg_lambda': 4.501357337309328, 'min_child_weight': 76}. Best is trial 7 with value: 0.8407945403040523.\n"
     ]
    },
    {
     "name": "stderr",
     "output_type": "stream",
     "text": [
      "[I 2024-10-16 09:24:04,303] Trial 12 finished with value: 0.8393832639688913 and parameters: {'max_depth': 9, 'learning_rate': 0.08943747600200386, 'reg_lambda': 3.4300296465151288, 'min_child_weight': 60}. Best is trial 7 with value: 0.8407945403040523.\n"
     ]
    },
    {
     "name": "stderr",
     "output_type": "stream",
     "text": [
      "[I 2024-10-16 09:25:07,637] Trial 13 finished with value: 0.8413592737000094 and parameters: {'max_depth': 7, 'learning_rate': 0.04116691148153201, 'reg_lambda': 3.883222376506388, 'min_child_weight': 77}. Best is trial 13 with value: 0.8413592737000094.\n"
     ]
    },
    {
     "name": "stderr",
     "output_type": "stream",
     "text": [
      "[I 2024-10-16 09:25:58,633] Trial 14 finished with value: 0.8405421476280495 and parameters: {'max_depth': 7, 'learning_rate': 0.04068262901608076, 'reg_lambda': 4.227874934075474, 'min_child_weight': 75}. Best is trial 13 with value: 0.8413592737000094.\n"
     ]
    },
    {
     "name": "stderr",
     "output_type": "stream",
     "text": [
      "[I 2024-10-16 09:27:12,579] Trial 15 finished with value: 0.8401022679514609 and parameters: {'max_depth': 7, 'learning_rate': 0.040200557952874444, 'reg_lambda': 2.7296321420022833, 'min_child_weight': 56}. Best is trial 13 with value: 0.8413592737000094.\n"
     ]
    },
    {
     "name": "stderr",
     "output_type": "stream",
     "text": [
      "[I 2024-10-16 09:28:30,301] Trial 16 finished with value: 0.8404652624400284 and parameters: {'max_depth': 7, 'learning_rate': 0.04843097739892138, 'reg_lambda': 4.169861564897459, 'min_child_weight': 68}. Best is trial 13 with value: 0.8413592737000094.\n"
     ]
    },
    {
     "name": "stderr",
     "output_type": "stream",
     "text": [
      "[I 2024-10-16 09:29:08,963] Trial 17 finished with value: 0.8406441043351885 and parameters: {'max_depth': 6, 'learning_rate': 0.06915159737773684, 'reg_lambda': 4.7549997576139065, 'min_child_weight': 77}. Best is trial 13 with value: 0.8413592737000094.\n"
     ]
    },
    {
     "name": "stderr",
     "output_type": "stream",
     "text": [
      "[I 2024-10-16 09:30:33,335] Trial 18 finished with value: 0.8394655922094073 and parameters: {'max_depth': 7, 'learning_rate': 0.029446960621353886, 'reg_lambda': 3.9785969930848353, 'min_child_weight': 69}. Best is trial 13 with value: 0.8413592737000094.\n"
     ]
    },
    {
     "name": "stderr",
     "output_type": "stream",
     "text": [
      "[I 2024-10-16 09:31:29,072] Trial 19 finished with value: 0.8398245719613356 and parameters: {'max_depth': 8, 'learning_rate': 0.04587887131351056, 'reg_lambda': 2.7489973289846636, 'min_child_weight': 81}. Best is trial 13 with value: 0.8413592737000094.\n"
     ]
    },
    {
     "name": "stdout",
     "output_type": "stream",
     "text": [
      "Best Parameters: {'max_depth': 7, 'learning_rate': 0.04116691148153201, 'reg_lambda': 3.883222376506388, 'min_child_weight': 77}\n",
      "Best Score: 0.8413592737000094\n",
      "Start the modelling\n"
     ]
    },
    {
     "name": "stdout",
     "output_type": "stream",
     "text": [
      "[0]\ttrain-mlogloss:1.86071\teval-mlogloss:1.85866\n"
     ]
    },
    {
     "name": "stdout",
     "output_type": "stream",
     "text": [
      "[100]\ttrain-mlogloss:0.38844\teval-mlogloss:0.47097\n"
     ]
    },
    {
     "name": "stdout",
     "output_type": "stream",
     "text": [
      "[200]\ttrain-mlogloss:0.25704\teval-mlogloss:0.39884\n"
     ]
    },
    {
     "name": "stdout",
     "output_type": "stream",
     "text": [
      "[300]\ttrain-mlogloss:0.19720\teval-mlogloss:0.38108\n"
     ]
    },
    {
     "name": "stdout",
     "output_type": "stream",
     "text": [
      "[400]\ttrain-mlogloss:0.15404\teval-mlogloss:0.37229\n"
     ]
    },
    {
     "name": "stdout",
     "output_type": "stream",
     "text": [
      "[500]\ttrain-mlogloss:0.12324\teval-mlogloss:0.36818\n"
     ]
    },
    {
     "name": "stdout",
     "output_type": "stream",
     "text": [
      "[600]\ttrain-mlogloss:0.09980\teval-mlogloss:0.36679\n"
     ]
    },
    {
     "name": "stdout",
     "output_type": "stream",
     "text": [
      "[700]\ttrain-mlogloss:0.08275\teval-mlogloss:0.36798\n"
     ]
    },
    {
     "name": "stdout",
     "output_type": "stream",
     "text": [
      "[800]\ttrain-mlogloss:0.06994\teval-mlogloss:0.36994\n"
     ]
    },
    {
     "name": "stdout",
     "output_type": "stream",
     "text": [
      "[900]\ttrain-mlogloss:0.05977\teval-mlogloss:0.37249\n"
     ]
    },
    {
     "name": "stdout",
     "output_type": "stream",
     "text": [
      "[1000]\ttrain-mlogloss:0.05172\teval-mlogloss:0.37588\n"
     ]
    },
    {
     "name": "stdout",
     "output_type": "stream",
     "text": [
      "[1100]\ttrain-mlogloss:0.04541\teval-mlogloss:0.37882\n"
     ]
    },
    {
     "name": "stdout",
     "output_type": "stream",
     "text": [
      "[1200]\ttrain-mlogloss:0.04036\teval-mlogloss:0.38203\n"
     ]
    },
    {
     "name": "stdout",
     "output_type": "stream",
     "text": [
      "[1300]\ttrain-mlogloss:0.03583\teval-mlogloss:0.38552\n"
     ]
    },
    {
     "name": "stdout",
     "output_type": "stream",
     "text": [
      "[1400]\ttrain-mlogloss:0.03232\teval-mlogloss:0.38925\n"
     ]
    },
    {
     "name": "stdout",
     "output_type": "stream",
     "text": [
      "[1500]\ttrain-mlogloss:0.02973\teval-mlogloss:0.39218\n"
     ]
    },
    {
     "name": "stdout",
     "output_type": "stream",
     "text": [
      "[1598]\ttrain-mlogloss:0.02732\teval-mlogloss:0.39500\n"
     ]
    },
    {
     "name": "stdout",
     "output_type": "stream",
     "text": [
      "[0]\ttrain-mlogloss:1.86086\teval-mlogloss:1.85967\n"
     ]
    },
    {
     "name": "stdout",
     "output_type": "stream",
     "text": [
      "[100]\ttrain-mlogloss:0.38756\teval-mlogloss:0.46703\n"
     ]
    },
    {
     "name": "stdout",
     "output_type": "stream",
     "text": [
      "[200]\ttrain-mlogloss:0.25530\teval-mlogloss:0.39430\n"
     ]
    },
    {
     "name": "stdout",
     "output_type": "stream",
     "text": [
      "[300]\ttrain-mlogloss:0.19721\teval-mlogloss:0.37594\n"
     ]
    },
    {
     "name": "stdout",
     "output_type": "stream",
     "text": [
      "[400]\ttrain-mlogloss:0.15140\teval-mlogloss:0.36778\n"
     ]
    },
    {
     "name": "stdout",
     "output_type": "stream",
     "text": [
      "[500]\ttrain-mlogloss:0.11972\teval-mlogloss:0.36357\n"
     ]
    },
    {
     "name": "stdout",
     "output_type": "stream",
     "text": [
      "[600]\ttrain-mlogloss:0.09745\teval-mlogloss:0.36235\n"
     ]
    },
    {
     "name": "stdout",
     "output_type": "stream",
     "text": [
      "[700]\ttrain-mlogloss:0.08170\teval-mlogloss:0.36401\n"
     ]
    },
    {
     "name": "stdout",
     "output_type": "stream",
     "text": [
      "[800]\ttrain-mlogloss:0.06927\teval-mlogloss:0.36600\n"
     ]
    },
    {
     "name": "stdout",
     "output_type": "stream",
     "text": [
      "[900]\ttrain-mlogloss:0.05904\teval-mlogloss:0.36870\n"
     ]
    },
    {
     "name": "stdout",
     "output_type": "stream",
     "text": [
      "[1000]\ttrain-mlogloss:0.05098\teval-mlogloss:0.37162\n"
     ]
    },
    {
     "name": "stdout",
     "output_type": "stream",
     "text": [
      "[1100]\ttrain-mlogloss:0.04472\teval-mlogloss:0.37483\n"
     ]
    },
    {
     "name": "stdout",
     "output_type": "stream",
     "text": [
      "[1200]\ttrain-mlogloss:0.03984\teval-mlogloss:0.37818\n"
     ]
    },
    {
     "name": "stdout",
     "output_type": "stream",
     "text": [
      "[1300]\ttrain-mlogloss:0.03588\teval-mlogloss:0.38194\n"
     ]
    },
    {
     "name": "stdout",
     "output_type": "stream",
     "text": [
      "[1400]\ttrain-mlogloss:0.03263\teval-mlogloss:0.38568\n"
     ]
    },
    {
     "name": "stdout",
     "output_type": "stream",
     "text": [
      "[1500]\ttrain-mlogloss:0.02964\teval-mlogloss:0.38927\n"
     ]
    },
    {
     "name": "stdout",
     "output_type": "stream",
     "text": [
      "[1593]\ttrain-mlogloss:0.02735\teval-mlogloss:0.39263\n"
     ]
    },
    {
     "name": "stdout",
     "output_type": "stream",
     "text": [
      "[0]\ttrain-mlogloss:1.86066\teval-mlogloss:1.86015\n"
     ]
    },
    {
     "name": "stdout",
     "output_type": "stream",
     "text": [
      "[100]\ttrain-mlogloss:0.38462\teval-mlogloss:0.47615\n"
     ]
    },
    {
     "name": "stdout",
     "output_type": "stream",
     "text": [
      "[200]\ttrain-mlogloss:0.25232\teval-mlogloss:0.40338\n"
     ]
    },
    {
     "name": "stdout",
     "output_type": "stream",
     "text": [
      "[300]\ttrain-mlogloss:0.19125\teval-mlogloss:0.38516\n"
     ]
    },
    {
     "name": "stdout",
     "output_type": "stream",
     "text": [
      "[400]\ttrain-mlogloss:0.14826\teval-mlogloss:0.37759\n"
     ]
    },
    {
     "name": "stdout",
     "output_type": "stream",
     "text": [
      "[500]\ttrain-mlogloss:0.11777\teval-mlogloss:0.37455\n"
     ]
    },
    {
     "name": "stdout",
     "output_type": "stream",
     "text": [
      "[600]\ttrain-mlogloss:0.09606\teval-mlogloss:0.37405\n"
     ]
    },
    {
     "name": "stdout",
     "output_type": "stream",
     "text": [
      "[700]\ttrain-mlogloss:0.07955\teval-mlogloss:0.37558\n"
     ]
    },
    {
     "name": "stdout",
     "output_type": "stream",
     "text": [
      "[800]\ttrain-mlogloss:0.06672\teval-mlogloss:0.37795\n"
     ]
    },
    {
     "name": "stdout",
     "output_type": "stream",
     "text": [
      "[900]\ttrain-mlogloss:0.05712\teval-mlogloss:0.38087\n"
     ]
    },
    {
     "name": "stdout",
     "output_type": "stream",
     "text": [
      "[1000]\ttrain-mlogloss:0.04981\teval-mlogloss:0.38354\n"
     ]
    },
    {
     "name": "stdout",
     "output_type": "stream",
     "text": [
      "[1100]\ttrain-mlogloss:0.04362\teval-mlogloss:0.38697\n"
     ]
    },
    {
     "name": "stdout",
     "output_type": "stream",
     "text": [
      "[1200]\ttrain-mlogloss:0.03877\teval-mlogloss:0.39032\n"
     ]
    },
    {
     "name": "stdout",
     "output_type": "stream",
     "text": [
      "[1300]\ttrain-mlogloss:0.03469\teval-mlogloss:0.39397\n"
     ]
    },
    {
     "name": "stdout",
     "output_type": "stream",
     "text": [
      "[1400]\ttrain-mlogloss:0.03165\teval-mlogloss:0.39745\n"
     ]
    },
    {
     "name": "stdout",
     "output_type": "stream",
     "text": [
      "[1500]\ttrain-mlogloss:0.02885\teval-mlogloss:0.40054\n"
     ]
    },
    {
     "name": "stdout",
     "output_type": "stream",
     "text": [
      "[1547]\ttrain-mlogloss:0.02776\teval-mlogloss:0.40210\n"
     ]
    },
    {
     "name": "stdout",
     "output_type": "stream",
     "text": [
      "[0]\ttrain-mlogloss:1.86067\teval-mlogloss:1.85841\n"
     ]
    },
    {
     "name": "stdout",
     "output_type": "stream",
     "text": [
      "[50]\ttrain-mlogloss:0.62691\teval-mlogloss:0.64084\n"
     ]
    },
    {
     "name": "stdout",
     "output_type": "stream",
     "text": [
      "[100]\ttrain-mlogloss:0.40404\teval-mlogloss:0.45649\n"
     ]
    },
    {
     "name": "stdout",
     "output_type": "stream",
     "text": [
      "[150]\ttrain-mlogloss:0.32189\teval-mlogloss:0.40295\n"
     ]
    },
    {
     "name": "stdout",
     "output_type": "stream",
     "text": [
      "[200]\ttrain-mlogloss:0.27740\teval-mlogloss:0.38121\n"
     ]
    },
    {
     "name": "stdout",
     "output_type": "stream",
     "text": [
      "[250]\ttrain-mlogloss:0.24619\teval-mlogloss:0.36949\n"
     ]
    },
    {
     "name": "stdout",
     "output_type": "stream",
     "text": [
      "[300]\ttrain-mlogloss:0.22150\teval-mlogloss:0.36135\n"
     ]
    },
    {
     "name": "stdout",
     "output_type": "stream",
     "text": [
      "[350]\ttrain-mlogloss:0.19815\teval-mlogloss:0.35498\n"
     ]
    },
    {
     "name": "stdout",
     "output_type": "stream",
     "text": [
      "[400]\ttrain-mlogloss:0.17943\teval-mlogloss:0.35038\n"
     ]
    },
    {
     "name": "stdout",
     "output_type": "stream",
     "text": [
      "[450]\ttrain-mlogloss:0.16308\teval-mlogloss:0.34707\n"
     ]
    },
    {
     "name": "stdout",
     "output_type": "stream",
     "text": [
      "[500]\ttrain-mlogloss:0.14716\teval-mlogloss:0.34447\n"
     ]
    },
    {
     "name": "stdout",
     "output_type": "stream",
     "text": [
      "[550]\ttrain-mlogloss:0.13391\teval-mlogloss:0.34247\n"
     ]
    },
    {
     "name": "stdout",
     "output_type": "stream",
     "text": [
      "[600]\ttrain-mlogloss:0.12251\teval-mlogloss:0.34117\n"
     ]
    },
    {
     "name": "stdout",
     "output_type": "stream",
     "text": [
      "[650]\ttrain-mlogloss:0.11146\teval-mlogloss:0.34021\n"
     ]
    },
    {
     "name": "stdout",
     "output_type": "stream",
     "text": [
      "[700]\ttrain-mlogloss:0.10155\teval-mlogloss:0.33956\n"
     ]
    },
    {
     "name": "stdout",
     "output_type": "stream",
     "text": [
      "[750]\ttrain-mlogloss:0.09371\teval-mlogloss:0.33933\n"
     ]
    },
    {
     "name": "stdout",
     "output_type": "stream",
     "text": [
      "[800]\ttrain-mlogloss:0.08658\teval-mlogloss:0.33942\n"
     ]
    },
    {
     "name": "stdout",
     "output_type": "stream",
     "text": [
      "[810]\ttrain-mlogloss:0.08528\teval-mlogloss:0.33943\n"
     ]
    },
    {
     "name": "stdout",
     "output_type": "stream",
     "text": [
      "\n",
      "Classification Report on Test Set:\n",
      "              precision    recall  f1-score   support\n",
      "\n",
      "           0       0.96      0.97      0.96     10256\n",
      "           1       0.91      0.95      0.93     11741\n",
      "           2       0.77      0.59      0.67      6652\n",
      "           3       0.93      0.96      0.95     12408\n",
      "           4       0.95      0.98      0.97     10397\n",
      "           5       0.69      0.51      0.59      6848\n",
      "           6       0.84      0.96      0.90     13673\n",
      "\n",
      "    accuracy                           0.89     71975\n",
      "   macro avg       0.86      0.85      0.85     71975\n",
      "weighted avg       0.88      0.89      0.88     71975\n",
      "\n"
     ]
    },
    {
     "data": {
      "image/png": "[encoded data removed]",
      "text/plain": [
       "<Figure size 640x480 with 1 Axes>"
      ]
     },
     "metadata": {},
     "output_type": "display_data"
    },
    {
     "data": {
      "image/png": "[encoded data removed]",
      "text/plain": [
       "<Figure size 640x480 with 2 Axes>"
      ]
     },
     "metadata": {},
     "output_type": "display_data"
    },
    {
     "name": "stdout",
     "output_type": "stream",
     "text": [
      "{'average_accuracy': 0.8806004019970174, 'average_f1_macro': np.float64(0.8425227832329877), 'average_f1_micro': np.float64(0.8806004019970174), 'average_auc': np.float64(0.9687906616187553), 'average_acc_kelas_generatif': 0.9575021102848216, 'average_acc_fase_padi': 0.896018325336111}\n",
      "{'val_accuracy': 0.8867940257033692, 'val_f1_macro': np.float64(0.8515421996734858), 'val_f1_micro': np.float64(0.8867940257033692), 'val_auc': np.float64(0.9726160212831158), 'val_acc_kelas_generatif': 0.9616376531270149, 'val_acc_fase_padi': 0.9030535462886548, 'val_relative_acc': np.float64(96.46933664309935)}\n",
      "=============================================================================\n",
      "=============================================================================\n",
      "CLUSTER:  5\n"
     ]
    },
    {
     "name": "stderr",
     "output_type": "stream",
     "text": [
      "[I 2024-10-16 09:34:42,590] A new study created in memory with name: no-name-6107664e-a2f1-4e8f-b911-40b56cb98a07\n"
     ]
    },
    {
     "name": "stdout",
     "output_type": "stream",
     "text": [
      "[6 1 5 4 2 3 0]\n",
      "[0 1 2 3 4 5 6]\n",
      "Mapping of original to encoded classes: {np.int64(0): np.int64(0), np.int64(1): np.int64(1), np.int64(2): np.int64(2), np.int64(3): np.int64(3), np.int64(4): np.int64(4), np.int64(5): np.int64(5), np.int64(6): np.int64(6)}\n",
      "Build Best Parameter using Optuna-Hyperparameter Tuning\n"
     ]
    },
    {
     "name": "stderr",
     "output_type": "stream",
     "text": [
      "[I 2024-10-16 09:35:29,762] Trial 0 finished with value: 0.7441126883865187 and parameters: {'max_depth': 8, 'learning_rate': 0.05380518584332537, 'reg_lambda': 2.4121034874097624, 'min_child_weight': 81}. Best is trial 0 with value: 0.7441126883865187.\n"
     ]
    },
    {
     "name": "stderr",
     "output_type": "stream",
     "text": [
      "[I 2024-10-16 09:36:03,298] Trial 1 finished with value: 0.744666546023515 and parameters: {'max_depth': 10, 'learning_rate': 0.07863614624219033, 'reg_lambda': 2.9664654473927365, 'min_child_weight': 92}. Best is trial 1 with value: 0.744666546023515.\n"
     ]
    },
    {
     "name": "stderr",
     "output_type": "stream",
     "text": [
      "[I 2024-10-16 09:36:43,480] Trial 2 finished with value: 0.7443127801548034 and parameters: {'max_depth': 10, 'learning_rate': 0.054625849753358775, 'reg_lambda': 4.982132155253181, 'min_child_weight': 57}. Best is trial 1 with value: 0.744666546023515.\n"
     ]
    },
    {
     "name": "stderr",
     "output_type": "stream",
     "text": [
      "[I 2024-10-16 09:37:25,177] Trial 3 finished with value: 0.7436946207392618 and parameters: {'max_depth': 8, 'learning_rate': 0.07092074812269425, 'reg_lambda': 3.677473130838876, 'min_child_weight': 71}. Best is trial 1 with value: 0.744666546023515.\n"
     ]
    },
    {
     "name": "stderr",
     "output_type": "stream",
     "text": [
      "[I 2024-10-16 09:38:21,940] Trial 4 finished with value: 0.7407885818303427 and parameters: {'max_depth': 7, 'learning_rate': 0.04157489811524897, 'reg_lambda': 0.6978204459453035, 'min_child_weight': 74}. Best is trial 1 with value: 0.744666546023515.\n"
     ]
    },
    {
     "name": "stderr",
     "output_type": "stream",
     "text": [
      "[I 2024-10-16 09:39:53,990] Trial 5 finished with value: 0.7455430473664378 and parameters: {'max_depth': 9, 'learning_rate': 0.030679517786405604, 'reg_lambda': 0.30773133182560314, 'min_child_weight': 91}. Best is trial 5 with value: 0.7455430473664378.\n"
     ]
    },
    {
     "name": "stderr",
     "output_type": "stream",
     "text": [
      "[I 2024-10-16 09:40:36,273] Trial 6 finished with value: 0.7437656145346372 and parameters: {'max_depth': 9, 'learning_rate': 0.08173613881437329, 'reg_lambda': 4.862522047566305, 'min_child_weight': 54}. Best is trial 5 with value: 0.7455430473664378.\n"
     ]
    },
    {
     "name": "stderr",
     "output_type": "stream",
     "text": [
      "[I 2024-10-16 09:41:25,171] Trial 7 finished with value: 0.7448847048317863 and parameters: {'max_depth': 10, 'learning_rate': 0.0503173946227212, 'reg_lambda': 1.9128633149876502, 'min_child_weight': 93}. Best is trial 5 with value: 0.7455430473664378.\n"
     ]
    },
    {
     "name": "stderr",
     "output_type": "stream",
     "text": [
      "[I 2024-10-16 09:42:05,866] Trial 8 finished with value: 0.7418681460925529 and parameters: {'max_depth': 6, 'learning_rate': 0.07055268600578064, 'reg_lambda': 4.863511466778397, 'min_child_weight': 69}. Best is trial 5 with value: 0.7455430473664378.\n"
     ]
    },
    {
     "name": "stderr",
     "output_type": "stream",
     "text": [
      "[I 2024-10-16 09:43:12,939] Trial 9 finished with value: 0.7428782956831558 and parameters: {'max_depth': 6, 'learning_rate': 0.043912573971774914, 'reg_lambda': 1.3288043809298553, 'min_child_weight': 83}. Best is trial 5 with value: 0.7455430473664378.\n"
     ]
    },
    {
     "name": "stderr",
     "output_type": "stream",
     "text": [
      "[I 2024-10-16 09:45:04,022] Trial 10 finished with value: 0.7427663182179431 and parameters: {'max_depth': 8, 'learning_rate': 0.014996350954673714, 'reg_lambda': 0.12479074849381805, 'min_child_weight': 98}. Best is trial 5 with value: 0.7455430473664378.\n"
     ]
    },
    {
     "name": "stderr",
     "output_type": "stream",
     "text": [
      "[I 2024-10-16 09:47:10,971] Trial 11 finished with value: 0.7452293500231458 and parameters: {'max_depth': 9, 'learning_rate': 0.01982451752510614, 'reg_lambda': 1.6203007716790472, 'min_child_weight': 92}. Best is trial 5 with value: 0.7455430473664378.\n"
     ]
    },
    {
     "name": "stderr",
     "output_type": "stream",
     "text": [
      "[I 2024-10-16 09:49:07,354] Trial 12 finished with value: 0.7450044702651543 and parameters: {'max_depth': 9, 'learning_rate': 0.02099066124549879, 'reg_lambda': 1.0213305375694017, 'min_child_weight': 86}. Best is trial 5 with value: 0.7455430473664378.\n"
     ]
    },
    {
     "name": "stderr",
     "output_type": "stream",
     "text": [
      "[I 2024-10-16 09:50:31,235] Trial 13 finished with value: 0.7446723440836709 and parameters: {'max_depth': 9, 'learning_rate': 0.029052738247113262, 'reg_lambda': 0.1319007351166234, 'min_child_weight': 96}. Best is trial 5 with value: 0.7455430473664378.\n"
     ]
    },
    {
     "name": "stderr",
     "output_type": "stream",
     "text": [
      "[I 2024-10-16 09:51:30,555] Trial 14 finished with value: 0.7430869145730982 and parameters: {'max_depth': 9, 'learning_rate': 0.033610771027503046, 'reg_lambda': 1.6647707215608438, 'min_child_weight': 88}. Best is trial 5 with value: 0.7455430473664378.\n"
     ]
    },
    {
     "name": "stderr",
     "output_type": "stream",
     "text": [
      "[I 2024-10-16 09:54:01,399] Trial 15 finished with value: 0.7433915006087822 and parameters: {'max_depth': 8, 'learning_rate': 0.013026778516291717, 'reg_lambda': 0.7507041619826134, 'min_child_weight': 64}. Best is trial 5 with value: 0.7455430473664378.\n"
     ]
    },
    {
     "name": "stderr",
     "output_type": "stream",
     "text": [
      "[I 2024-10-16 09:55:27,796] Trial 16 finished with value: 0.7423361577998268 and parameters: {'max_depth': 7, 'learning_rate': 0.027861894586636588, 'reg_lambda': 2.3107940026394482, 'min_child_weight': 100}. Best is trial 5 with value: 0.7455430473664378.\n"
     ]
    },
    {
     "name": "stderr",
     "output_type": "stream",
     "text": [
      "[I 2024-10-16 09:56:35,972] Trial 17 finished with value: 0.7434937197443912 and parameters: {'max_depth': 9, 'learning_rate': 0.03665424488683604, 'reg_lambda': 3.156213981353133, 'min_child_weight': 79}. Best is trial 5 with value: 0.7455430473664378.\n"
     ]
    },
    {
     "name": "stderr",
     "output_type": "stream",
     "text": [
      "[I 2024-10-16 09:57:56,737] Trial 18 finished with value: 0.7428887756068338 and parameters: {'max_depth': 7, 'learning_rate': 0.023247792488730136, 'reg_lambda': 1.5751348208856912, 'min_child_weight': 89}. Best is trial 5 with value: 0.7455430473664378.\n"
     ]
    },
    {
     "name": "stderr",
     "output_type": "stream",
     "text": [
      "[I 2024-10-16 09:58:28,319] Trial 19 finished with value: 0.7445026338957988 and parameters: {'max_depth': 10, 'learning_rate': 0.09435586971766696, 'reg_lambda': 0.7209733034986607, 'min_child_weight': 79}. Best is trial 5 with value: 0.7455430473664378.\n"
     ]
    },
    {
     "name": "stdout",
     "output_type": "stream",
     "text": [
      "Best Parameters: {'max_depth': 9, 'learning_rate': 0.030679517786405604, 'reg_lambda': 0.30773133182560314, 'min_child_weight': 91}\n",
      "Best Score: 0.7455430473664378\n",
      "Start the modelling\n"
     ]
    },
    {
     "name": "stdout",
     "output_type": "stream",
     "text": [
      "[0]\ttrain-mlogloss:1.89046\teval-mlogloss:1.88952\n"
     ]
    },
    {
     "name": "stdout",
     "output_type": "stream",
     "text": [
      "[100]\ttrain-mlogloss:0.56561\teval-mlogloss:0.68055\n"
     ]
    },
    {
     "name": "stdout",
     "output_type": "stream",
     "text": [
      "[200]\ttrain-mlogloss:0.39435\teval-mlogloss:0.58198\n"
     ]
    },
    {
     "name": "stdout",
     "output_type": "stream",
     "text": [
      "[300]\ttrain-mlogloss:0.31838\teval-mlogloss:0.55902\n"
     ]
    },
    {
     "name": "stdout",
     "output_type": "stream",
     "text": [
      "[400]\ttrain-mlogloss:0.26159\teval-mlogloss:0.55011\n"
     ]
    },
    {
     "name": "stdout",
     "output_type": "stream",
     "text": [
      "[500]\ttrain-mlogloss:0.21760\teval-mlogloss:0.54696\n"
     ]
    },
    {
     "name": "stdout",
     "output_type": "stream",
     "text": [
      "[600]\ttrain-mlogloss:0.18395\teval-mlogloss:0.54636\n"
     ]
    },
    {
     "name": "stdout",
     "output_type": "stream",
     "text": [
      "[700]\ttrain-mlogloss:0.15521\teval-mlogloss:0.54733\n"
     ]
    },
    {
     "name": "stdout",
     "output_type": "stream",
     "text": [
      "[800]\ttrain-mlogloss:0.13349\teval-mlogloss:0.54984\n"
     ]
    },
    {
     "name": "stdout",
     "output_type": "stream",
     "text": [
      "[900]\ttrain-mlogloss:0.11737\teval-mlogloss:0.55288\n"
     ]
    },
    {
     "name": "stdout",
     "output_type": "stream",
     "text": [
      "[1000]\ttrain-mlogloss:0.10312\teval-mlogloss:0.55658\n"
     ]
    },
    {
     "name": "stdout",
     "output_type": "stream",
     "text": [
      "[1100]\ttrain-mlogloss:0.09213\teval-mlogloss:0.56019\n"
     ]
    },
    {
     "name": "stdout",
     "output_type": "stream",
     "text": [
      "[1200]\ttrain-mlogloss:0.08261\teval-mlogloss:0.56431\n"
     ]
    },
    {
     "name": "stdout",
     "output_type": "stream",
     "text": [
      "[1300]\ttrain-mlogloss:0.07412\teval-mlogloss:0.56825\n"
     ]
    },
    {
     "name": "stdout",
     "output_type": "stream",
     "text": [
      "[1400]\ttrain-mlogloss:0.06741\teval-mlogloss:0.57209\n"
     ]
    },
    {
     "name": "stdout",
     "output_type": "stream",
     "text": [
      "[1500]\ttrain-mlogloss:0.06159\teval-mlogloss:0.57609\n"
     ]
    },
    {
     "name": "stdout",
     "output_type": "stream",
     "text": [
      "[1600]\ttrain-mlogloss:0.05708\teval-mlogloss:0.57979\n"
     ]
    },
    {
     "name": "stdout",
     "output_type": "stream",
     "text": [
      "[1621]\ttrain-mlogloss:0.05621\teval-mlogloss:0.58067\n"
     ]
    },
    {
     "name": "stdout",
     "output_type": "stream",
     "text": [
      "[0]\ttrain-mlogloss:1.89073\teval-mlogloss:1.88948\n"
     ]
    },
    {
     "name": "stdout",
     "output_type": "stream",
     "text": [
      "[100]\ttrain-mlogloss:0.57589\teval-mlogloss:0.68005\n"
     ]
    },
    {
     "name": "stdout",
     "output_type": "stream",
     "text": [
      "[200]\ttrain-mlogloss:0.40264\teval-mlogloss:0.57852\n"
     ]
    },
    {
     "name": "stdout",
     "output_type": "stream",
     "text": [
      "[300]\ttrain-mlogloss:0.32924\teval-mlogloss:0.55470\n"
     ]
    },
    {
     "name": "stdout",
     "output_type": "stream",
     "text": [
      "[400]\ttrain-mlogloss:0.27462\teval-mlogloss:0.54502\n"
     ]
    },
    {
     "name": "stdout",
     "output_type": "stream",
     "text": [
      "[500]\ttrain-mlogloss:0.22972\teval-mlogloss:0.54027\n"
     ]
    },
    {
     "name": "stdout",
     "output_type": "stream",
     "text": [
      "[600]\ttrain-mlogloss:0.19413\teval-mlogloss:0.53774\n"
     ]
    },
    {
     "name": "stdout",
     "output_type": "stream",
     "text": [
      "[700]\ttrain-mlogloss:0.16375\teval-mlogloss:0.53682\n"
     ]
    },
    {
     "name": "stdout",
     "output_type": "stream",
     "text": [
      "[800]\ttrain-mlogloss:0.14042\teval-mlogloss:0.53742\n"
     ]
    },
    {
     "name": "stdout",
     "output_type": "stream",
     "text": [
      "[900]\ttrain-mlogloss:0.12210\teval-mlogloss:0.53891\n"
     ]
    },
    {
     "name": "stdout",
     "output_type": "stream",
     "text": [
      "[1000]\ttrain-mlogloss:0.10811\teval-mlogloss:0.54114\n"
     ]
    },
    {
     "name": "stdout",
     "output_type": "stream",
     "text": [
      "[1100]\ttrain-mlogloss:0.09536\teval-mlogloss:0.54414\n"
     ]
    },
    {
     "name": "stdout",
     "output_type": "stream",
     "text": [
      "[1200]\ttrain-mlogloss:0.08611\teval-mlogloss:0.54742\n"
     ]
    },
    {
     "name": "stdout",
     "output_type": "stream",
     "text": [
      "[1300]\ttrain-mlogloss:0.07740\teval-mlogloss:0.55119\n"
     ]
    },
    {
     "name": "stdout",
     "output_type": "stream",
     "text": [
      "[1400]\ttrain-mlogloss:0.07038\teval-mlogloss:0.55429\n"
     ]
    },
    {
     "name": "stdout",
     "output_type": "stream",
     "text": [
      "[1500]\ttrain-mlogloss:0.06499\teval-mlogloss:0.55754\n"
     ]
    },
    {
     "name": "stdout",
     "output_type": "stream",
     "text": [
      "[1600]\ttrain-mlogloss:0.06014\teval-mlogloss:0.56076\n"
     ]
    },
    {
     "name": "stdout",
     "output_type": "stream",
     "text": [
      "[1700]\ttrain-mlogloss:0.05564\teval-mlogloss:0.56400\n"
     ]
    },
    {
     "name": "stdout",
     "output_type": "stream",
     "text": [
      "[1703]\ttrain-mlogloss:0.05553\teval-mlogloss:0.56405\n"
     ]
    },
    {
     "name": "stdout",
     "output_type": "stream",
     "text": [
      "[0]\ttrain-mlogloss:1.88988\teval-mlogloss:1.88901\n"
     ]
    },
    {
     "name": "stdout",
     "output_type": "stream",
     "text": [
      "[100]\ttrain-mlogloss:0.55916\teval-mlogloss:0.68297\n"
     ]
    },
    {
     "name": "stdout",
     "output_type": "stream",
     "text": [
      "[200]\ttrain-mlogloss:0.39578\teval-mlogloss:0.58193\n"
     ]
    },
    {
     "name": "stdout",
     "output_type": "stream",
     "text": [
      "[300]\ttrain-mlogloss:0.32010\teval-mlogloss:0.55909\n"
     ]
    },
    {
     "name": "stdout",
     "output_type": "stream",
     "text": [
      "[400]\ttrain-mlogloss:0.26431\teval-mlogloss:0.55016\n"
     ]
    },
    {
     "name": "stdout",
     "output_type": "stream",
     "text": [
      "[500]\ttrain-mlogloss:0.21902\teval-mlogloss:0.54631\n"
     ]
    },
    {
     "name": "stdout",
     "output_type": "stream",
     "text": [
      "[600]\ttrain-mlogloss:0.18343\teval-mlogloss:0.54543\n"
     ]
    },
    {
     "name": "stdout",
     "output_type": "stream",
     "text": [
      "[700]\ttrain-mlogloss:0.15504\teval-mlogloss:0.54666\n"
     ]
    },
    {
     "name": "stdout",
     "output_type": "stream",
     "text": [
      "[800]\ttrain-mlogloss:0.13227\teval-mlogloss:0.54877\n"
     ]
    },
    {
     "name": "stdout",
     "output_type": "stream",
     "text": [
      "[900]\ttrain-mlogloss:0.11579\teval-mlogloss:0.55192\n"
     ]
    },
    {
     "name": "stdout",
     "output_type": "stream",
     "text": [
      "[1000]\ttrain-mlogloss:0.10064\teval-mlogloss:0.55573\n"
     ]
    },
    {
     "name": "stdout",
     "output_type": "stream",
     "text": [
      "[1100]\ttrain-mlogloss:0.08915\teval-mlogloss:0.55988\n"
     ]
    },
    {
     "name": "stdout",
     "output_type": "stream",
     "text": [
      "[1200]\ttrain-mlogloss:0.08001\teval-mlogloss:0.56425\n"
     ]
    },
    {
     "name": "stdout",
     "output_type": "stream",
     "text": [
      "[1300]\ttrain-mlogloss:0.07288\teval-mlogloss:0.56815\n"
     ]
    },
    {
     "name": "stdout",
     "output_type": "stream",
     "text": [
      "[1400]\ttrain-mlogloss:0.06602\teval-mlogloss:0.57252\n"
     ]
    },
    {
     "name": "stdout",
     "output_type": "stream",
     "text": [
      "[1500]\ttrain-mlogloss:0.06059\teval-mlogloss:0.57696\n"
     ]
    },
    {
     "name": "stdout",
     "output_type": "stream",
     "text": [
      "[1584]\ttrain-mlogloss:0.05663\teval-mlogloss:0.58058\n"
     ]
    },
    {
     "name": "stdout",
     "output_type": "stream",
     "text": [
      "[0]\ttrain-mlogloss:1.89000\teval-mlogloss:1.88814\n"
     ]
    },
    {
     "name": "stdout",
     "output_type": "stream",
     "text": [
      "[50]\ttrain-mlogloss:0.84805\teval-mlogloss:0.87374\n"
     ]
    },
    {
     "name": "stdout",
     "output_type": "stream",
     "text": [
      "[100]\ttrain-mlogloss:0.58495\teval-mlogloss:0.65841\n"
     ]
    },
    {
     "name": "stdout",
     "output_type": "stream",
     "text": [
      "[150]\ttrain-mlogloss:0.47843\teval-mlogloss:0.58700\n"
     ]
    },
    {
     "name": "stdout",
     "output_type": "stream",
     "text": [
      "[200]\ttrain-mlogloss:0.42435\teval-mlogloss:0.55777\n"
     ]
    },
    {
     "name": "stdout",
     "output_type": "stream",
     "text": [
      "[250]\ttrain-mlogloss:0.38867\teval-mlogloss:0.54343\n"
     ]
    },
    {
     "name": "stdout",
     "output_type": "stream",
     "text": [
      "[300]\ttrain-mlogloss:0.35765\teval-mlogloss:0.53458\n"
     ]
    },
    {
     "name": "stdout",
     "output_type": "stream",
     "text": [
      "[350]\ttrain-mlogloss:0.33236\teval-mlogloss:0.52897\n"
     ]
    },
    {
     "name": "stdout",
     "output_type": "stream",
     "text": [
      "[400]\ttrain-mlogloss:0.31010\teval-mlogloss:0.52436\n"
     ]
    },
    {
     "name": "stdout",
     "output_type": "stream",
     "text": [
      "[450]\ttrain-mlogloss:0.28861\teval-mlogloss:0.52092\n"
     ]
    },
    {
     "name": "stdout",
     "output_type": "stream",
     "text": [
      "[500]\ttrain-mlogloss:0.26825\teval-mlogloss:0.51811\n"
     ]
    },
    {
     "name": "stdout",
     "output_type": "stream",
     "text": [
      "[550]\ttrain-mlogloss:0.24953\teval-mlogloss:0.51600\n"
     ]
    },
    {
     "name": "stdout",
     "output_type": "stream",
     "text": [
      "[600]\ttrain-mlogloss:0.23159\teval-mlogloss:0.51418\n"
     ]
    },
    {
     "name": "stdout",
     "output_type": "stream",
     "text": [
      "[650]\ttrain-mlogloss:0.21628\teval-mlogloss:0.51322\n"
     ]
    },
    {
     "name": "stdout",
     "output_type": "stream",
     "text": [
      "[700]\ttrain-mlogloss:0.20210\teval-mlogloss:0.51244\n"
     ]
    },
    {
     "name": "stdout",
     "output_type": "stream",
     "text": [
      "[750]\ttrain-mlogloss:0.18817\teval-mlogloss:0.51205\n"
     ]
    },
    {
     "name": "stdout",
     "output_type": "stream",
     "text": [
      "[800]\ttrain-mlogloss:0.17535\teval-mlogloss:0.51185\n"
     ]
    },
    {
     "name": "stdout",
     "output_type": "stream",
     "text": [
      "[850]\ttrain-mlogloss:0.16338\teval-mlogloss:0.51189\n"
     ]
    },
    {
     "name": "stdout",
     "output_type": "stream",
     "text": [
      "[881]\ttrain-mlogloss:0.15559\teval-mlogloss:0.51206\n"
     ]
    },
    {
     "name": "stdout",
     "output_type": "stream",
     "text": [
      "\n",
      "Classification Report on Test Set:\n",
      "              precision    recall  f1-score   support\n",
      "\n",
      "           0       0.63      0.53      0.57      6866\n",
      "           1       0.90      0.93      0.92     12250\n",
      "           2       0.96      0.99      0.97     11409\n",
      "           3       0.95      0.97      0.96     12447\n",
      "           4       0.59      0.50      0.54      6891\n",
      "           5       0.55      0.45      0.50      6805\n",
      "           6       0.79      0.95      0.87     13458\n",
      "\n",
      "    accuracy                           0.82     70126\n",
      "   macro avg       0.77      0.76      0.76     70126\n",
      "weighted avg       0.81      0.82      0.81     70126\n",
      "\n"
     ]
    },
    {
     "data": {
      "image/png": "[encoded data removed]",
      "text/plain": [
       "<Figure size 640x480 with 1 Axes>"
      ]
     },
     "metadata": {},
     "output_type": "display_data"
    },
    {
     "data": {
      "image/png": "[encoded data removed]",
      "text/plain": [
       "<Figure size 640x480 with 2 Axes>"
      ]
     },
     "metadata": {},
     "output_type": "display_data"
    },
    {
     "name": "stdout",
     "output_type": "stream",
     "text": [
      "{'average_accuracy': 0.8096093698010248, 'average_f1_macro': np.float64(0.7456920957130452), 'average_f1_micro': np.float64(0.8096093698010248), 'average_auc': np.float64(0.9474084199947095), 'average_acc_kelas_generatif': 0.964386724003513, 'average_acc_fase_padi': 0.8777404738426099}\n",
      "{'val_accuracy': 0.8204945384023045, 'val_f1_macro': np.float64(0.7605025996768938), 'val_f1_micro': np.float64(0.8204945384023045), 'val_auc': np.float64(0.9528175874457043), 'val_acc_kelas_generatif': 0.965212501004258, 'val_acc_fase_padi': 0.8849687187478196, 'val_relative_acc': np.float64(98.80808921802765)}\n",
      "=============================================================================\n"
     ]
    }
   ],
   "source": [
    "from sklearn.preprocessing import StandardScaler, LabelEncoder\n",
    "df['observation']=df['observation'].apply(lambda y: int(y))\n",
    "dict_report={}\n",
    "for i in np.sort(df.cluster_data.unique()):\n",
    "    print('=============================================================================')\n",
    "    print('CLUSTER: ', i)\n",
    "    df_x = df.query('cluster_data==@i')\n",
    "    sns.countplot(x='observation', hue='cluster_data', data=df_x,palette=sns.color_palette(\"Set2\"))\n",
    "    plt.savefig(f\"/data/ksa/05_Modelling/picture/{kdprov}_distplot_cluster_{i}.png\", dpi=300, bbox_inches='tight')\n",
    "    X_train, X_test, y_train, y_test = get_train_test(df_x, 0.7)\n",
    "    # Encode the labels\n",
    "    label_encoder = LabelEncoder()\n",
    "    y_train_encoded = label_encoder.fit_transform(y_train)\n",
    "    y_test_encoded = label_encoder.transform(y_test)\n",
    "    \n",
    "    # Output the unique encoded labels and the mapping\n",
    "    print(np.unique(y_train_encoded))\n",
    "    class_mapping = dict(zip(label_encoder.classes_, label_encoder.transform(label_encoder.classes_)))\n",
    "    print(\"Mapping of original to encoded classes:\", class_mapping)\n",
    "    \n",
    "    # Create an Optuna study and optimize the objective function\n",
    "    print('Build Best Parameter using Optuna-Hyperparameter Tuning')\n",
    "    study = optuna.create_study(direction='maximize')  # 'maximize' because we are optimizing accuracy\n",
    "    study.optimize(lambda trial: objective(trial, X_train, y_train_encoded), n_trials=20)  # Run for 50 trials\n",
    "    # Print the best parameters and the best score\n",
    "    print(f\"Best Parameters: {study.best_params}\")\n",
    "    print(f\"Best Score: {study.best_value}\")\n",
    "\n",
    "    print('Start the modelling')\n",
    "    model0, training_metrics0, validation_metrics0, report0, cm0 = evaluate_model(\n",
    "        X_train, y_train_encoded, X_test, y_test_encoded,cluster=i,best_params=study.best_params)\n",
    "    \n",
    "    dict_report[i]={'model':model0,\n",
    "                    'training_metrics':training_metrics0,\n",
    "                    'validation_metrics':validation_metrics0,\n",
    "                    'reports':report0,\n",
    "                    'cm':cm0,\n",
    "                    'params':study.best_params}\n",
    "    # Print the training and validation metrics\n",
    "    print(training_metrics0)\n",
    "    print(validation_metrics0)\n",
    "    print('=============================================================================')\n",
    "\n",
    "\n"
   ]
  },
  {
   "cell_type": "code",
   "execution_count": 11,
   "id": "26743d1e-45c9-4c26-81de-46e9f11f1698",
   "metadata": {
    "execution": {
     "iopub.execute_input": "2024-10-16T03:02:20.863519Z",
     "iopub.status.busy": "2024-10-16T03:02:20.862311Z",
     "iopub.status.idle": "2024-10-16T03:02:21.798758Z",
     "shell.execute_reply": "2024-10-16T03:02:21.797626Z"
    },
    "papermill": {
     "duration": 1.143085,
     "end_time": "2024-10-16T03:02:21.801592",
     "exception": false,
     "start_time": "2024-10-16T03:02:20.658507",
     "status": "completed"
    },
    "tags": []
   },
   "outputs": [],
   "source": [
    "with open(f'/data/ksa/05_Modelling/model/xgboost{kdprov}_v2.pkl','wb') as file:\n",
    "    pickle.dump(dict_report,file)"
   ]
  },
  {
   "cell_type": "code",
   "execution_count": null,
   "id": "76b68ced-340e-48b6-a01f-a22c31637ad8",
   "metadata": {
    "papermill": {
     "duration": 0.037455,
     "end_time": "2024-10-16T03:02:21.878710",
     "exception": false,
     "start_time": "2024-10-16T03:02:21.841255",
     "status": "completed"
    },
    "tags": []
   },
   "outputs": [],
   "source": []
  }
 ],
 "metadata": {
  "kernelspec": {
   "display_name": "Python 3 (ipykernel)",
   "language": "python",
   "name": "python3"
  },
  "language_info": {
   "codemirror_mode": {
    "name": "ipython",
    "version": 3
   },
   "file_extension": ".py",
   "mimetype": "text/x-python",
   "name": "python",
   "nbconvert_exporter": "python",
   "pygments_lexer": "ipython3",
   "version": "3.10.14"
  },
  "papermill": {
   "default_parameters": {},
   "duration": 7513.096643,
   "end_time": "2024-10-16T03:02:23.354285",
   "environment_variables": {},
   "exception": null,
   "input_path": "XGBOOST Base model.ipynb",
   "output_path": "XGBOOST_32.ipynb",
   "parameters": {
    "kdprov": 32
   },
   "start_time": "2024-10-16T00:57:10.257642",
   "version": "2.6.0"
  }
 },
 "nbformat": 4,
 "nbformat_minor": 5
}