{
 "cells": [
  {
   "cell_type": "code",
   "execution_count": 1,
   "id": "d37f5160-5e12-40a3-8dc9-2d929bd94327",
   "metadata": {
    "papermill": {
     "duration": 3.60284,
     "end_time": "2024-10-25T00:14:32.462362",
     "exception": false,
     "start_time": "2024-10-25T00:14:28.859522",
     "status": "completed"
    },
    "tags": []
   },
   "outputs": [
    {
     "name": "stderr",
     "output_type": "stream",
     "text": [
      "/data/home/arifhandoyo/.local/lib/python3.10/site-packages/tqdm/auto.py:21: TqdmWarning: IProgress not found. Please update jupyter and ipywidgets. See https://ipywidgets.readthedocs.io/en/stable/user_install.html\n",
      "  from .autonotebook import tqdm as notebook_tqdm\n"
     ]
    }
   ],
   "source": [
    "import pandas as pd\n",
    "import geopandas as gpd\n",
    "import numpy as np\n",
    "import matplotlib.pyplot as plt\n",
    "import seaborn as sns\n",
    "import os\n",
    "from glob import glob\n",
    "import polars as pl\n",
    "import xgboost as xgb\n",
    "import optuna\n",
    "from sklearn.model_selection import StratifiedKFold, cross_val_score\n",
    "from sklearn.metrics import accuracy_score\n",
    "from sklearn.model_selection import train_test_split, cross_validate\n",
    "from sklearn.metrics import classification_report, confusion_matrix, ConfusionMatrixDisplay, accuracy_score, make_scorer, f1_score, roc_auc_score\n",
    "from sklearn.preprocessing import LabelEncoder\n",
    "import warnings\n",
    "\n",
    "# Suppress warnings globally\n",
    "warnings.filterwarnings(\"ignore\", category=UserWarning)\n",
    "warnings.filterwarnings(\"ignore\", category=DeprecationWarning)\n",
    "import pickle\n",
    "import warnings\n",
    "warnings.simplefilter(action='ignore', category=FutureWarning)\n",
    "warnings.simplefilter(action='ignore', category=pd.errors.SettingWithCopyWarning)\n",
    "from collections import Counter\n",
    "import numpy as np\n",
    "warnings.filterwarnings(\"ignore\", category=RuntimeWarning)"
   ]
  },
  {
   "cell_type": "code",
   "execution_count": 2,
   "id": "1164ac8a-4c5a-456c-a6c9-4e3f8f1fff85",
   "metadata": {
    "papermill": {
     "duration": 0.012925,
     "end_time": "2024-10-25T00:14:32.478856",
     "exception": false,
     "start_time": "2024-10-25T00:14:32.465931",
     "status": "completed"
    },
    "tags": []
   },
   "outputs": [],
   "source": [
    "def get_train_test(df, test_size):\n",
    "    # Make X and Y dataset\n",
    "    y = df.observation\n",
    "    print(y.unique())\n",
    "    X = df.loc[:,'VH_30':'VH_0']\n",
    "    X['nth'] = df.loc[:,'nth']\n",
    "    X['nth'] = X.nth.astype('category')\n",
    "    X_train, X_test, y_train, y_test = train_test_split(X, y, test_size=test_size, random_state=1234, stratify=y)\n",
    "    return X_train, X_test, y_train, y_test\n",
    "\n",
    "def akurasi_kelas_generatif(y_true, y_pred):\n",
    "    # Calculate accuracy specifically for class 3\n",
    "    class_3_mask = (y_true == 3)\n",
    "    if np.any(class_3_mask):  # Check if class 3 is present in the true labels\n",
    "        return accuracy_score(y_true[class_3_mask], y_pred[class_3_mask])\n",
    "    else:\n",
    "        return 0.0  # Return 0 if class 3 is not present in the true labels\n",
    "\n",
    "def akurasi_fase_padi(y_true, y_pred):\n",
    "    # Calculate accuracy specifically for classes 1, 2, 3, and 4\n",
    "    class_1234_mask = (y_true >= 1) & (y_true <= 4)\n",
    "    if np.any(class_1234_mask):  # Check if classes 1,2,3,4 are present in the true labels\n",
    "        return accuracy_score(y_true[class_1234_mask], y_pred[class_1234_mask])\n",
    "    else:\n",
    "        return 0.0  # Return 0 if none of the classes 0-3 are present in the true labels"
   ]
  },
  {
   "cell_type": "code",
   "execution_count": 3,
   "id": "9a452da6",
   "metadata": {
    "papermill": {
     "duration": 0.010361,
     "end_time": "2024-10-25T00:14:32.523720",
     "exception": false,
     "start_time": "2024-10-25T00:14:32.513359",
     "status": "completed"
    },
    "tags": [
     "injected-parameters"
    ]
   },
   "outputs": [],
   "source": [
    "# Parameters\n",
    "kdprov='32'\n",
    "kdprov = 94\n"
   ]
  },
  {
   "cell_type": "code",
   "execution_count": 10,
   "id": "7e0bd5e8-90ad-4dac-938b-2892a96e6ea4",
   "metadata": {
    "editable": true,
    "papermill": {
     "duration": 0.095607,
     "end_time": "2024-10-25T00:14:32.622375",
     "exception": false,
     "start_time": "2024-10-25T00:14:32.526768",
     "status": "completed"
    },
    "slideshow": {
     "slide_type": ""
    },
    "tags": []
   },
   "outputs": [
    {
     "name": "stdout",
     "output_type": "stream",
     "text": [
      "(39895, 44)\n"
     ]
    },
    {
     "data": {
      "text/plain": [
       "observation\n",
       "0    1400\n",
       "1    1400\n",
       "2    1400\n",
       "3    1400\n",
       "4    1400\n",
       "5    1400\n",
       "6    1400\n",
       "Name: count, dtype: int64"
      ]
     },
     "execution_count": 10,
     "metadata": {},
     "output_type": "execute_result"
    }
   ],
   "source": [
    "## Read VH dataset\n",
    "with open(f'/data/ksa/04_Data_Preprocessing/training-test/{kdprov}/training_VH_v2.pkl','rb') as file:\n",
    "    df=pickle.load(file)\n",
    "    if isinstance(df, pl.DataFrame):\n",
    "        df=df.to_pandas()\n",
    "print(df.shape)\n",
    "df.head()\n",
    "\n",
    "\n",
    "nMax = 1400 #change to 2500\n",
    "\n",
    "df = df.groupby('observation').apply(lambda x: x.sample(n=min(nMax, len(x))))\n",
    "\n",
    "df['observation'].value_counts()"
   ]
  },
  {
   "cell_type": "code",
   "execution_count": 11,
   "id": "ba9b5bc3-277c-4dc7-8e2b-40debb17c2cf",
   "metadata": {
    "papermill": {
     "duration": 0.611071,
     "end_time": "2024-10-25T00:14:33.237973",
     "exception": false,
     "start_time": "2024-10-25T00:14:32.626902",
     "status": "completed"
    },
    "tags": []
   },
   "outputs": [
    {
     "data": {
      "image/png": "[encoded data removed]",
      "text/plain": [
       "<Figure size 640x480 with 1 Axes>"
      ]
     },
     "metadata": {},
     "output_type": "display_data"
    }
   ],
   "source": [
    "sns.countplot(x='observation', hue='cluster_data', data=df,palette=sns.color_palette(\"Set2\"))\n",
    "plt.savefig(f\"/data/ksa/05_Modelling/picture/{kdprov}_distirbution_plot.png\", dpi=300, bbox_inches='tight')\n"
   ]
  },
  {
   "cell_type": "markdown",
   "id": "da80a265-9a12-4d2c-8b96-17ad999f2b53",
   "metadata": {
    "papermill": {
     "duration": 0.003838,
     "end_time": "2024-10-25T00:14:33.245991",
     "exception": false,
     "start_time": "2024-10-25T00:14:33.242153",
     "status": "completed"
    },
    "tags": []
   },
   "source": [
    "### Running Data"
   ]
  },
  {
   "cell_type": "code",
   "execution_count": 12,
   "id": "94f2a9fa-36a6-47a7-ab48-85cdb1f2f569",
   "metadata": {
    "papermill": {
     "duration": 0.020109,
     "end_time": "2024-10-25T00:14:33.270142",
     "exception": false,
     "start_time": "2024-10-25T00:14:33.250033",
     "status": "completed"
    },
    "tags": []
   },
   "outputs": [],
   "source": [
    "import optuna\n",
    "from xgboost import XGBClassifier\n",
    "\n",
    "# Example dataset\n",
    "\n",
    "# Define the objective function for Bayesian Optimization\n",
    "def objective(trial,X_train, y_train, n_splits=3):\n",
    "    \n",
    "    param = {\n",
    "        'max_depth': trial.suggest_int('max_depth', 6, 10),\n",
    "        'learning_rate': trial.suggest_uniform('learning_rate', 0.01, 0.1),\n",
    "        #'subsample': trial.suggest_uniform('subsample', 0.5, 0.7),\n",
    "        #'colsample_bytree': trial.suggest_uniform('colsample_bytree', 0.5, 0.7),\n",
    "        #'colsample_bylevel': trial.suggest_uniform('colsample_bylevel', 0.5, 0.7),\n",
    "        'reg_lambda': trial.suggest_uniform('reg_lambda', 0.1, 5),\n",
    "        'min_child_weight': trial.suggest_int('min_child_weight', 50, 100),\n",
    "        'objective': 'multi:softprob',  # Multiclass classification\n",
    "        'eval_metric': ['mlogloss'],\n",
    "        \"tree_method\":'hist',\n",
    "        \"num_class\": len(set(y_train)),\n",
    "        \"nthread\":20\n",
    "    }\n",
    "    \n",
    "    # Define the model\n",
    "    skf = StratifiedKFold(n_splits=n_splits,shuffle=True, random_state=42)\n",
    "    f1_macros=[]\n",
    "    for train_index, val_index in skf.split(X_train, y_train):\n",
    "        X_train_fold, X_val_fold = X_train.iloc[train_index], X_train.iloc[val_index]\n",
    "        y_train_fold, y_val_fold = y_train[train_index], y_train[val_index]\n",
    "\n",
    "        class_counts = Counter(y_train_fold)\n",
    "        total_samples = len(y_train_fold)\n",
    "        # Step 3: Calculate class weights as inverse of class frequency\n",
    "        class_weights = {cls: total_samples / count for cls, count in class_counts.items()}\n",
    "        sample_weights = np.array([class_weights[label] for label in y_train_fold])\n",
    "        # Create DMatrix with sample weights\n",
    "        dtrain_fold = xgb.DMatrix(X_train_fold, label=y_train_fold, enable_categorical=True, weight=sample_weights)\n",
    "        dval_fold = xgb.DMatrix(X_val_fold, label=y_val_fold, enable_categorical=True)\n",
    "        \n",
    "        evals = [(dtrain_fold, 'train'), (dval_fold, 'eval')]\n",
    "        model = xgb.train(param, dtrain_fold, \n",
    "                          num_boost_round=1000, evals=evals,early_stopping_rounds=50,\n",
    "                          verbose_eval=False)\n",
    "        y_val_pred_prob = model.predict(dval_fold)\n",
    "        y_val_pred = y_val_pred_prob.argmax(axis=1)\n",
    "        f1_macros.append(f1_score(y_val_fold, y_val_pred, average='macro'))\n",
    "    score=np.mean(f1_macros)\n",
    "    \n",
    "    return score"
   ]
  },
  {
   "cell_type": "code",
   "execution_count": 13,
   "id": "d60642b2-2944-4f3d-b337-3250ba03a3cd",
   "metadata": {
    "papermill": {
     "duration": 0.02908,
     "end_time": "2024-10-25T00:14:33.303126",
     "exception": false,
     "start_time": "2024-10-25T00:14:33.274046",
     "status": "completed"
    },
    "tags": []
   },
   "outputs": [],
   "source": [
    "def evaluate_model(X_train, y_train, X_test, y_test,cluster, best_params, n_splits=3):\n",
    "    # Convert data to DMatrix for XGBoost\n",
    "    class_counts = Counter(y_train)\n",
    "    total_samples = len(y_train)\n",
    "        # Step 3: Calculate class weights as inverse of class frequency\n",
    "    class_weights = {cls: total_samples / count for cls, count in class_counts.items()}\n",
    "    sample_weights = np.array([class_weights[label] for label in y_train])\n",
    "        # Create DMatrix with sample weights\n",
    "        \n",
    "    dtrain = xgb.DMatrix(X_train, label=y_train, enable_categorical=True,weight=sample_weights)\n",
    "    dtest = xgb.DMatrix(X_test, label=y_test, enable_categorical=True)\n",
    "    \n",
    "    params = best_params\n",
    "    params['objective']=\"multi:softprob\"\n",
    "    #params['tree_method']='approx'\n",
    "    params['eval_metric']='mlogloss'\n",
    "    params['num_class']=len(set(y_train))\n",
    "    params['nthread']=20\n",
    "    # Stratified K-Fold Cross Validation\n",
    "    skf = StratifiedKFold(n_splits=n_splits, shuffle=True, random_state=42)\n",
    "    \n",
    "    accuracies = []\n",
    "    f1_macros = []\n",
    "    f1_micros = []\n",
    "    aucs = []\n",
    "    acc_kelas_generatifs = []\n",
    "    acc_fase_padis = []\n",
    "\n",
    "    for train_index, val_index in skf.split(X_train, y_train):\n",
    "        X_train_fold, X_val_fold = X_train.iloc[train_index], X_train.iloc[val_index]\n",
    "        y_train_fold, y_val_fold = y_train[train_index], y_train[val_index]\n",
    "\n",
    "        class_counts = Counter(y_train_fold)\n",
    "        total_samples = len(y_train_fold)\n",
    "        # Step 3: Calculate class weights as inverse of class frequency\n",
    "        class_weights = {cls: total_samples / count for cls, count in class_counts.items()}\n",
    "        sample_weights = np.array([class_weights[label] for label in y_train_fold])\n",
    "        # Create DMatrix with sample weights\n",
    "        dtrain_fold = xgb.DMatrix(X_train_fold, label=y_train_fold, enable_categorical=True, weight=sample_weights)\n",
    "        dval_fold = xgb.DMatrix(X_val_fold, label=y_val_fold, enable_categorical=True)\n",
    "        \n",
    "        evals = [(dtrain_fold, 'train'), (dval_fold, 'eval')]\n",
    "        model = xgb.train(params, dtrain_fold, \n",
    "                          num_boost_round=10000, evals=evals,early_stopping_rounds=1000,verbose_eval=100)\n",
    "        \n",
    "        y_val_pred_prob = model.predict(dval_fold)\n",
    "        y_val_pred = y_val_pred_prob.argmax(axis=1)\n",
    "        \n",
    "        accuracies.append(accuracy_score(y_val_fold, y_val_pred))\n",
    "        f1_macros.append(f1_score(y_val_fold, y_val_pred, average='macro'))\n",
    "        f1_micros.append(f1_score(y_val_fold, y_val_pred, average='micro'))\n",
    "        aucs.append(roc_auc_score(y_val_fold, y_val_pred_prob, multi_class='ovr'))\n",
    "        acc_kelas_generatifs.append(akurasi_kelas_generatif(y_val_fold, y_val_pred))\n",
    "        acc_fase_padis.append(akurasi_fase_padi(y_val_fold, y_val_pred))\n",
    "\n",
    "    # Calculate average metrics\n",
    "    avg_accuracy = sum(accuracies) / len(accuracies)\n",
    "    avg_f1_macro = sum(f1_macros) / len(f1_macros)\n",
    "    avg_f1_micro = sum(f1_micros) / len(f1_micros)\n",
    "    avg_auc = sum(aucs) / len(aucs)\n",
    "    avg_acc_kelas_generatif = sum(acc_kelas_generatifs) / len(acc_kelas_generatifs)\n",
    "    avg_acc_fase_padi = sum(acc_fase_padis) / len(acc_fase_padis)\n",
    "    training_metrics = {\n",
    "        \"average_accuracy\": avg_accuracy,\n",
    "        \"average_f1_macro\": avg_f1_macro,\n",
    "        \"average_f1_micro\": avg_f1_micro,\n",
    "        \"average_auc\": avg_auc,\n",
    "        \"average_acc_kelas_generatif\": avg_acc_kelas_generatif,\n",
    "        \"average_acc_fase_padi\": avg_acc_fase_padi\n",
    "    }\n",
    "\n",
    "    \n",
    "    # Final model evaluation on the test set\n",
    "    evals = [(dtrain, 'train'), (dtest, 'eval')]\n",
    "    model = xgb.train(params, dtrain, \n",
    "                      num_boost_round=1000, evals=evals,early_stopping_rounds=50,\n",
    "                      verbose_eval=50)\n",
    "    y_test_pred_prob = model.predict(dtest)\n",
    "    y_test_pred = y_test_pred_prob.argmax(axis=1)\n",
    "\n",
    "    accuracy = accuracy_score(y_test, y_test_pred)\n",
    "    f1_macro = f1_score(y_test, y_test_pred, average='macro')\n",
    "    f1_micro = f1_score(y_test, y_test_pred, average='micro')\n",
    "    auc = roc_auc_score(y_test, y_test_pred_prob, multi_class='ovr')\n",
    "    acc_kelas_generatif = akurasi_kelas_generatif(y_test, y_test_pred)\n",
    "    acc_fase_padi = akurasi_fase_padi(y_test, y_test_pred)\n",
    "    \n",
    "    cm = confusion_matrix(y_test, y_test_pred)\n",
    "    relative_acc = 100 * (sum(cm[1, 1:3]) + sum(cm[1, 5:6]) + \n",
    "                          sum(cm[2, 1:4]) + \n",
    "                          sum(cm[3, 2:5]) + \n",
    "                          sum(cm[4, 3:6]) + \n",
    "                          sum(cm[5, 4:6])+sum(cm[5,1:2])) / sum(sum(cm[1:6, 1:6]))\n",
    "    validation_metrics = {\n",
    "        \"val_accuracy\": accuracy,\n",
    "        \"val_f1_macro\": f1_macro,\n",
    "        \"val_f1_micro\": f1_micro,\n",
    "        \"val_auc\": auc,\n",
    "        \"val_acc_kelas_generatif\": acc_kelas_generatif,\n",
    "        \"val_acc_fase_padi\": acc_fase_padi,\n",
    "        \"val_relative_acc\": relative_acc\n",
    "    }\n",
    "\n",
    "    print(\"\\nClassification Report on Test Set:\")\n",
    "    report = classification_report(y_test, y_test_pred)\n",
    "    print(report)\n",
    "    \n",
    "    # Display Confusion Matrix\n",
    "    cm_percentage = cm.astype('float') / cm.sum(axis=1)[:, np.newaxis] * 100\n",
    "\n",
    "    disp = ConfusionMatrixDisplay(confusion_matrix=cm_percentage)\n",
    "    disp.plot(cmap=plt.cm.Blues)\n",
    "    plt.savefig(f\"/data/ksa/05_Modelling/picture/{kdprov}_cm_cluster_{cluster}.png\", dpi=300, bbox_inches='tight')\n",
    "    plt.show()\n",
    "    \n",
    "    return model, training_metrics, validation_metrics, report, cm"
   ]
  },
  {
   "cell_type": "code",
   "execution_count": 14,
   "id": "f4462c6e-e78a-4409-8951-07e164e2986c",
   "metadata": {
    "editable": true,
    "papermill": {
     "duration": 893.35108,
     "end_time": "2024-10-25T00:29:26.658282",
     "exception": false,
     "start_time": "2024-10-25T00:14:33.307202",
     "status": "completed"
    },
    "slideshow": {
     "slide_type": ""
    },
    "tags": []
   },
   "outputs": [
    {
     "name": "stdout",
     "output_type": "stream",
     "text": [
      "=============================================================================\n",
      "CLUSTER:  0\n"
     ]
    },
    {
     "name": "stderr",
     "output_type": "stream",
     "text": [
      "[I 2024-10-25 13:52:13,594] A new study created in memory with name: no-name-c3bd369e-8f7f-41a4-b43a-bdd4e90821c9\n"
     ]
    },
    {
     "name": "stdout",
     "output_type": "stream",
     "text": [
      "[0 1 2 3 4 5 6]\n",
      "[0 1 2 3 4 5 6]\n",
      "Mapping of original to encoded classes: {0: 0, 1: 1, 2: 2, 3: 3, 4: 4, 5: 5, 6: 6}\n",
      "Build Best Parameter using Optuna-Hyperparameter Tuning\n"
     ]
    },
    {
     "name": "stderr",
     "output_type": "stream",
     "text": [
      "[I 2024-10-25 13:52:19,966] Trial 0 finished with value: 0.4297634345007746 and parameters: {'max_depth': 9, 'learning_rate': 0.0830564727719715, 'reg_lambda': 1.252501668876073, 'min_child_weight': 73}. Best is trial 0 with value: 0.4297634345007746.\n",
      "[I 2024-10-25 13:52:27,567] Trial 1 finished with value: 0.4330172857582279 and parameters: {'max_depth': 9, 'learning_rate': 0.05961309043186312, 'reg_lambda': 1.9260299424972818, 'min_child_weight': 65}. Best is trial 1 with value: 0.4330172857582279.\n",
      "[I 2024-10-25 13:52:43,433] Trial 2 finished with value: 0.41075935942260305 and parameters: {'max_depth': 6, 'learning_rate': 0.018664992561787348, 'reg_lambda': 4.9667753558466385, 'min_child_weight': 64}. Best is trial 1 with value: 0.4330172857582279.\n",
      "[I 2024-10-25 13:52:50,804] Trial 3 finished with value: 0.4368735748654305 and parameters: {'max_depth': 10, 'learning_rate': 0.06285429947173064, 'reg_lambda': 2.208236541470173, 'min_child_weight': 51}. Best is trial 3 with value: 0.4368735748654305.\n",
      "[I 2024-10-25 13:52:59,691] Trial 4 finished with value: 0.4174474472414495 and parameters: {'max_depth': 6, 'learning_rate': 0.042234615591696674, 'reg_lambda': 4.141280378035104, 'min_child_weight': 59}. Best is trial 3 with value: 0.4368735748654305.\n",
      "[I 2024-10-25 13:53:14,925] Trial 5 finished with value: 0.4184089320985865 and parameters: {'max_depth': 6, 'learning_rate': 0.018987306174448278, 'reg_lambda': 1.0496518622734812, 'min_child_weight': 75}. Best is trial 3 with value: 0.4368735748654305.\n",
      "[I 2024-10-25 13:53:21,745] Trial 6 finished with value: 0.4216039900263168 and parameters: {'max_depth': 6, 'learning_rate': 0.05096262334592646, 'reg_lambda': 0.5025973056807861, 'min_child_weight': 85}. Best is trial 3 with value: 0.4368735748654305.\n",
      "[I 2024-10-25 13:53:27,815] Trial 7 finished with value: 0.4301884460640215 and parameters: {'max_depth': 9, 'learning_rate': 0.0785524845893204, 'reg_lambda': 3.7979868002915635, 'min_child_weight': 68}. Best is trial 3 with value: 0.4368735748654305.\n",
      "[I 2024-10-25 13:53:35,182] Trial 8 finished with value: 0.42076792059817375 and parameters: {'max_depth': 6, 'learning_rate': 0.04491555811001301, 'reg_lambda': 0.20087623916268266, 'min_child_weight': 83}. Best is trial 3 with value: 0.4368735748654305.\n",
      "[I 2024-10-25 13:53:40,904] Trial 9 finished with value: 0.4226639794923062 and parameters: {'max_depth': 7, 'learning_rate': 0.0709351988384742, 'reg_lambda': 2.1441224256591602, 'min_child_weight': 70}. Best is trial 3 with value: 0.4368735748654305.\n",
      "[I 2024-10-25 13:53:46,742] Trial 10 finished with value: 0.43387864106385693 and parameters: {'max_depth': 10, 'learning_rate': 0.09333754421454618, 'reg_lambda': 3.0495952047544144, 'min_child_weight': 52}. Best is trial 3 with value: 0.4368735748654305.\n",
      "[I 2024-10-25 13:53:52,042] Trial 11 finished with value: 0.42823782386546044 and parameters: {'max_depth': 10, 'learning_rate': 0.09781312066744446, 'reg_lambda': 2.9066069097385587, 'min_child_weight': 50}. Best is trial 3 with value: 0.4368735748654305.\n",
      "[I 2024-10-25 13:53:57,704] Trial 12 finished with value: 0.4214940330108787 and parameters: {'max_depth': 10, 'learning_rate': 0.09204746087830798, 'reg_lambda': 2.906827443151721, 'min_child_weight': 100}. Best is trial 3 with value: 0.4368735748654305.\n",
      "[I 2024-10-25 13:54:05,136] Trial 13 finished with value: 0.4349113347831263 and parameters: {'max_depth': 10, 'learning_rate': 0.06527530562258145, 'reg_lambda': 3.5087385665608277, 'min_child_weight': 50}. Best is trial 3 with value: 0.4368735748654305.\n",
      "[I 2024-10-25 13:54:11,634] Trial 14 finished with value: 0.433175403967454 and parameters: {'max_depth': 8, 'learning_rate': 0.062430168551548565, 'reg_lambda': 3.708911222805692, 'min_child_weight': 57}. Best is trial 3 with value: 0.4368735748654305.\n",
      "[I 2024-10-25 13:54:21,087] Trial 15 finished with value: 0.4306260883855059 and parameters: {'max_depth': 8, 'learning_rate': 0.03365573441537845, 'reg_lambda': 2.0323546374349903, 'min_child_weight': 54}. Best is trial 3 with value: 0.4368735748654305.\n",
      "[I 2024-10-25 13:54:27,257] Trial 16 finished with value: 0.42963858526608895 and parameters: {'max_depth': 9, 'learning_rate': 0.0683082861572261, 'reg_lambda': 4.493146269708879, 'min_child_weight': 60}. Best is trial 3 with value: 0.4368735748654305.\n",
      "[I 2024-10-25 13:54:39,330] Trial 17 finished with value: 0.42650376687742036 and parameters: {'max_depth': 10, 'learning_rate': 0.033140671781852496, 'reg_lambda': 3.4541702345723175, 'min_child_weight': 82}. Best is trial 3 with value: 0.4368735748654305.\n",
      "[I 2024-10-25 13:54:45,176] Trial 18 finished with value: 0.4190496807026976 and parameters: {'max_depth': 10, 'learning_rate': 0.07884295152403814, 'reg_lambda': 2.4994627189540912, 'min_child_weight': 100}. Best is trial 3 with value: 0.4368735748654305.\n",
      "[I 2024-10-25 13:54:56,382] Trial 19 finished with value: 0.4184099630597647 and parameters: {'max_depth': 7, 'learning_rate': 0.05369366761038154, 'reg_lambda': 1.3202221076452574, 'min_child_weight': 89}. Best is trial 3 with value: 0.4368735748654305.\n"
     ]
    },
    {
     "name": "stdout",
     "output_type": "stream",
     "text": [
      "Best Parameters: {'max_depth': 10, 'learning_rate': 0.06285429947173064, 'reg_lambda': 2.208236541470173, 'min_child_weight': 51}\n",
      "Best Score: 0.4368735748654305\n",
      "Start the modelling\n",
      "[0]\ttrain-mlogloss:1.88917\teval-mlogloss:1.91781\n",
      "[100]\ttrain-mlogloss:0.37245\teval-mlogloss:1.54352\n",
      "[200]\ttrain-mlogloss:0.16079\teval-mlogloss:1.55865\n",
      "[300]\ttrain-mlogloss:0.10127\teval-mlogloss:1.59235\n",
      "[400]\ttrain-mlogloss:0.07640\teval-mlogloss:1.62155\n",
      "[500]\ttrain-mlogloss:0.06284\teval-mlogloss:1.64441\n",
      "[600]\ttrain-mlogloss:0.05433\teval-mlogloss:1.66149\n",
      "[700]\ttrain-mlogloss:0.04858\teval-mlogloss:1.67725\n",
      "[800]\ttrain-mlogloss:0.04449\teval-mlogloss:1.69120\n",
      "[900]\ttrain-mlogloss:0.04136\teval-mlogloss:1.70182\n",
      "[1000]\ttrain-mlogloss:0.03888\teval-mlogloss:1.71347\n",
      "[1100]\ttrain-mlogloss:0.03686\teval-mlogloss:1.72239\n",
      "[1112]\ttrain-mlogloss:0.03665\teval-mlogloss:1.72332\n",
      "[0]\ttrain-mlogloss:1.89011\teval-mlogloss:1.91693\n",
      "[100]\ttrain-mlogloss:0.37743\teval-mlogloss:1.51065\n",
      "[200]\ttrain-mlogloss:0.16099\teval-mlogloss:1.53002\n",
      "[300]\ttrain-mlogloss:0.10126\teval-mlogloss:1.56584\n",
      "[400]\ttrain-mlogloss:0.07659\teval-mlogloss:1.59846\n",
      "[500]\ttrain-mlogloss:0.06345\teval-mlogloss:1.62379\n",
      "[600]\ttrain-mlogloss:0.05506\teval-mlogloss:1.64357\n",
      "[700]\ttrain-mlogloss:0.04932\teval-mlogloss:1.66216\n",
      "[800]\ttrain-mlogloss:0.04510\teval-mlogloss:1.67341\n",
      "[900]\ttrain-mlogloss:0.04190\teval-mlogloss:1.68273\n",
      "[1000]\ttrain-mlogloss:0.03939\teval-mlogloss:1.69214\n",
      "[1098]\ttrain-mlogloss:0.03736\teval-mlogloss:1.69932\n",
      "[0]\ttrain-mlogloss:1.88809\teval-mlogloss:1.91569\n",
      "[100]\ttrain-mlogloss:0.38266\teval-mlogloss:1.51242\n",
      "[200]\ttrain-mlogloss:0.16359\teval-mlogloss:1.52814\n",
      "[300]\ttrain-mlogloss:0.10267\teval-mlogloss:1.55528\n",
      "[400]\ttrain-mlogloss:0.07723\teval-mlogloss:1.58329\n",
      "[500]\ttrain-mlogloss:0.06368\teval-mlogloss:1.60873\n",
      "[600]\ttrain-mlogloss:0.05524\teval-mlogloss:1.63240\n",
      "[700]\ttrain-mlogloss:0.04943\teval-mlogloss:1.65149\n",
      "[800]\ttrain-mlogloss:0.04519\teval-mlogloss:1.66525\n",
      "[900]\ttrain-mlogloss:0.04200\teval-mlogloss:1.67807\n",
      "[1000]\ttrain-mlogloss:0.03949\teval-mlogloss:1.68958\n",
      "[1100]\ttrain-mlogloss:0.03738\teval-mlogloss:1.70041\n",
      "[1115]\ttrain-mlogloss:0.03710\teval-mlogloss:1.70162\n",
      "[0]\ttrain-mlogloss:1.88595\teval-mlogloss:1.91442\n",
      "[50]\ttrain-mlogloss:0.70700\teval-mlogloss:1.48307\n",
      "[100]\ttrain-mlogloss:0.41065\teval-mlogloss:1.42899\n",
      "[150]\ttrain-mlogloss:0.25875\teval-mlogloss:1.42080\n",
      "[200]\ttrain-mlogloss:0.17642\teval-mlogloss:1.42619\n",
      "[212]\ttrain-mlogloss:0.16314\teval-mlogloss:1.42748\n",
      "\n",
      "Classification Report on Test Set:\n",
      "              precision    recall  f1-score   support\n",
      "\n",
      "           0       0.52      0.51      0.51       980\n",
      "           1       0.45      0.41      0.43       980\n",
      "           2       0.48      0.43      0.45       980\n",
      "           3       0.55      0.54      0.54       980\n",
      "           4       0.48      0.46      0.47       980\n",
      "           5       0.49      0.47      0.48       980\n",
      "           6       0.36      0.48      0.41       980\n",
      "\n",
      "    accuracy                           0.47      6860\n",
      "   macro avg       0.48      0.47      0.47      6860\n",
      "weighted avg       0.48      0.47      0.47      6860\n",
      "\n"
     ]
    },
    {
     "data": {
      "image/png": "[encoded data removed]",
      "text/plain": [
       "<Figure size 640x480 with 1 Axes>"
      ]
     },
     "metadata": {},
     "output_type": "display_data"
    },
    {
     "data": {
      "image/png": "[encoded data removed]",
      "text/plain": [
       "<Figure size 640x480 with 2 Axes>"
      ]
     },
     "metadata": {},
     "output_type": "display_data"
    },
    {
     "name": "stdout",
     "output_type": "stream",
     "text": [
      "{'average_accuracy': 0.42687074829931976, 'average_f1_macro': 0.42656410380465687, 'average_f1_micro': 0.42687074829931976, 'average_auc': 0.7860572562358277, 'average_acc_kelas_generatif': 0.4761904761904762, 'average_acc_fase_padi': 0.4148809523809524}\n",
      "{'val_accuracy': 0.46924198250728866, 'val_f1_macro': 0.470520097614402, 'val_f1_micro': 0.46924198250728866, 'val_auc': 0.8235240648737628, 'val_acc_kelas_generatif': 0.5357142857142857, 'val_acc_fase_padi': 0.4576530612244898, 'val_relative_acc': 83.72574385510997}\n",
      "=============================================================================\n"
     ]
    },
    {
     "name": "stderr",
     "output_type": "stream",
     "text": [
      "[I 2024-10-25 07:25:08,412] Trial 15 finished with value: 0.471315210372379 and parameters: {'max_depth': 10, 'learning_rate': 0.05153835164172826, 'reg_lambda': 2.311756543428877, 'min_child_weight': 71}. Best is trial 12 with value: 0.47497433884892554.\n"
     ]
    },
    {
     "name": "stderr",
     "output_type": "stream",
     "text": [
      "[I 2024-10-25 07:25:57,234] Trial 16 finished with value: 0.46746761106610074 and parameters: {'max_depth': 7, 'learning_rate': 0.029577451337261088, 'reg_lambda': 4.98130931446365, 'min_child_weight': 73}. Best is trial 12 with value: 0.47497433884892554.\n"
     ]
    },
    {
     "name": "stderr",
     "output_type": "stream",
     "text": [
      "[I 2024-10-25 07:26:50,606] Trial 17 finished with value: 0.470550109251409 and parameters: {'max_depth': 10, 'learning_rate': 0.032094791274092385, 'reg_lambda': 3.022674417743192, 'min_child_weight': 100}. Best is trial 12 with value: 0.47497433884892554.\n"
     ]
    },
    {
     "name": "stderr",
     "output_type": "stream",
     "text": [
      "[I 2024-10-25 07:27:22,722] Trial 18 finished with value: 0.46905135259545877 and parameters: {'max_depth': 8, 'learning_rate': 0.053484328662466885, 'reg_lambda': 1.6148393434560804, 'min_child_weight': 86}. Best is trial 12 with value: 0.47497433884892554.\n"
     ]
    },
    {
     "name": "stderr",
     "output_type": "stream",
     "text": [
      "[I 2024-10-25 07:27:42,040] Trial 19 finished with value: 0.4744910164912601 and parameters: {'max_depth': 10, 'learning_rate': 0.09137640694085908, 'reg_lambda': 3.631733590297949, 'min_child_weight': 76}. Best is trial 12 with value: 0.47497433884892554.\n"
     ]
    },
    {
     "name": "stdout",
     "output_type": "stream",
     "text": [
      "Best Parameters: {'max_depth': 10, 'learning_rate': 0.04359192543420393, 'reg_lambda': 4.736828578737553, 'min_child_weight': 83}\n",
      "Best Score: 0.47497433884892554\n",
      "Start the modelling\n",
      "[0]\ttrain-mlogloss:1.90254\teval-mlogloss:1.91947\n"
     ]
    },
    {
     "name": "stdout",
     "output_type": "stream",
     "text": [
      "[100]\ttrain-mlogloss:0.61835\teval-mlogloss:1.27010\n"
     ]
    },
    {
     "name": "stdout",
     "output_type": "stream",
     "text": [
      "[200]\ttrain-mlogloss:0.37896\teval-mlogloss:1.16383\n"
     ]
    },
    {
     "name": "stdout",
     "output_type": "stream",
     "text": [
      "[300]\ttrain-mlogloss:0.25484\teval-mlogloss:1.11164\n"
     ]
    },
    {
     "name": "stdout",
     "output_type": "stream",
     "text": [
      "[400]\ttrain-mlogloss:0.19027\teval-mlogloss:1.09233\n"
     ]
    },
    {
     "name": "stdout",
     "output_type": "stream",
     "text": [
      "[500]\ttrain-mlogloss:0.15037\teval-mlogloss:1.08670\n"
     ]
    },
    {
     "name": "stdout",
     "output_type": "stream",
     "text": [
      "[600]\ttrain-mlogloss:0.12316\teval-mlogloss:1.08616\n"
     ]
    },
    {
     "name": "stdout",
     "output_type": "stream",
     "text": [
      "[700]\ttrain-mlogloss:0.10359\teval-mlogloss:1.08961\n"
     ]
    },
    {
     "name": "stdout",
     "output_type": "stream",
     "text": [
      "[800]\ttrain-mlogloss:0.08865\teval-mlogloss:1.09459\n"
     ]
    },
    {
     "name": "stdout",
     "output_type": "stream",
     "text": [
      "[900]\ttrain-mlogloss:0.07710\teval-mlogloss:1.10018\n"
     ]
    },
    {
     "name": "stdout",
     "output_type": "stream",
     "text": [
      "[1000]\ttrain-mlogloss:0.06828\teval-mlogloss:1.10655\n"
     ]
    },
    {
     "name": "stdout",
     "output_type": "stream",
     "text": [
      "[1100]\ttrain-mlogloss:0.06154\teval-mlogloss:1.11236\n"
     ]
    },
    {
     "name": "stdout",
     "output_type": "stream",
     "text": [
      "[1200]\ttrain-mlogloss:0.05595\teval-mlogloss:1.11815\n"
     ]
    },
    {
     "name": "stdout",
     "output_type": "stream",
     "text": [
      "[1300]\ttrain-mlogloss:0.05128\teval-mlogloss:1.12354\n"
     ]
    },
    {
     "name": "stdout",
     "output_type": "stream",
     "text": [
      "[1400]\ttrain-mlogloss:0.04739\teval-mlogloss:1.12828\n"
     ]
    },
    {
     "name": "stdout",
     "output_type": "stream",
     "text": [
      "[1500]\ttrain-mlogloss:0.04417\teval-mlogloss:1.13368\n"
     ]
    },
    {
     "name": "stdout",
     "output_type": "stream",
     "text": [
      "[1553]\ttrain-mlogloss:0.04262\teval-mlogloss:1.13686\n"
     ]
    },
    {
     "name": "stdout",
     "output_type": "stream",
     "text": [
      "[0]\ttrain-mlogloss:1.90190\teval-mlogloss:1.91846\n"
     ]
    },
    {
     "name": "stdout",
     "output_type": "stream",
     "text": [
      "[100]\ttrain-mlogloss:0.61148\teval-mlogloss:1.26141\n"
     ]
    },
    {
     "name": "stdout",
     "output_type": "stream",
     "text": [
      "[200]\ttrain-mlogloss:0.38030\teval-mlogloss:1.16140\n"
     ]
    },
    {
     "name": "stdout",
     "output_type": "stream",
     "text": [
      "[300]\ttrain-mlogloss:0.26449\teval-mlogloss:1.11963\n"
     ]
    },
    {
     "name": "stdout",
     "output_type": "stream",
     "text": [
      "[400]\ttrain-mlogloss:0.19617\teval-mlogloss:1.10159\n"
     ]
    },
    {
     "name": "stdout",
     "output_type": "stream",
     "text": [
      "[500]\ttrain-mlogloss:0.15265\teval-mlogloss:1.09351\n"
     ]
    },
    {
     "name": "stdout",
     "output_type": "stream",
     "text": [
      "[600]\ttrain-mlogloss:0.12288\teval-mlogloss:1.09318\n"
     ]
    },
    {
     "name": "stdout",
     "output_type": "stream",
     "text": [
      "[700]\ttrain-mlogloss:0.10277\teval-mlogloss:1.09640\n"
     ]
    },
    {
     "name": "stdout",
     "output_type": "stream",
     "text": [
      "[800]\ttrain-mlogloss:0.08794\teval-mlogloss:1.10194\n"
     ]
    },
    {
     "name": "stdout",
     "output_type": "stream",
     "text": [
      "[900]\ttrain-mlogloss:0.07697\teval-mlogloss:1.10816\n"
     ]
    },
    {
     "name": "stdout",
     "output_type": "stream",
     "text": [
      "[1000]\ttrain-mlogloss:0.06841\teval-mlogloss:1.11496\n"
     ]
    },
    {
     "name": "stdout",
     "output_type": "stream",
     "text": [
      "[1100]\ttrain-mlogloss:0.06153\teval-mlogloss:1.12191\n"
     ]
    },
    {
     "name": "stdout",
     "output_type": "stream",
     "text": [
      "[1200]\ttrain-mlogloss:0.05578\teval-mlogloss:1.12880\n"
     ]
    },
    {
     "name": "stdout",
     "output_type": "stream",
     "text": [
      "[1300]\ttrain-mlogloss:0.05097\teval-mlogloss:1.13598\n"
     ]
    },
    {
     "name": "stdout",
     "output_type": "stream",
     "text": [
      "[1400]\ttrain-mlogloss:0.04706\teval-mlogloss:1.14335\n"
     ]
    },
    {
     "name": "stdout",
     "output_type": "stream",
     "text": [
      "[1500]\ttrain-mlogloss:0.04379\teval-mlogloss:1.14980\n"
     ]
    },
    {
     "name": "stdout",
     "output_type": "stream",
     "text": [
      "[1549]\ttrain-mlogloss:0.04230\teval-mlogloss:1.15247\n"
     ]
    },
    {
     "name": "stdout",
     "output_type": "stream",
     "text": [
      "[0]\ttrain-mlogloss:1.90073\teval-mlogloss:1.92044\n"
     ]
    },
    {
     "name": "stdout",
     "output_type": "stream",
     "text": [
      "[100]\ttrain-mlogloss:0.58795\teval-mlogloss:1.29312\n"
     ]
    },
    {
     "name": "stdout",
     "output_type": "stream",
     "text": [
      "[200]\ttrain-mlogloss:0.36221\teval-mlogloss:1.19214\n"
     ]
    },
    {
     "name": "stdout",
     "output_type": "stream",
     "text": [
      "[300]\ttrain-mlogloss:0.25279\teval-mlogloss:1.14998\n"
     ]
    },
    {
     "name": "stdout",
     "output_type": "stream",
     "text": [
      "[400]\ttrain-mlogloss:0.18905\teval-mlogloss:1.13064\n"
     ]
    },
    {
     "name": "stdout",
     "output_type": "stream",
     "text": [
      "[500]\ttrain-mlogloss:0.14852\teval-mlogloss:1.12451\n"
     ]
    },
    {
     "name": "stdout",
     "output_type": "stream",
     "text": [
      "[600]\ttrain-mlogloss:0.12078\teval-mlogloss:1.12423\n"
     ]
    },
    {
     "name": "stdout",
     "output_type": "stream",
     "text": [
      "[700]\ttrain-mlogloss:0.10126\teval-mlogloss:1.12786\n"
     ]
    },
    {
     "name": "stdout",
     "output_type": "stream",
     "text": [
      "[800]\ttrain-mlogloss:0.08661\teval-mlogloss:1.13321\n"
     ]
    },
    {
     "name": "stdout",
     "output_type": "stream",
     "text": [
      "[900]\ttrain-mlogloss:0.07568\teval-mlogloss:1.14054\n"
     ]
    },
    {
     "name": "stdout",
     "output_type": "stream",
     "text": [
      "[1000]\ttrain-mlogloss:0.06746\teval-mlogloss:1.14800\n"
     ]
    },
    {
     "name": "stdout",
     "output_type": "stream",
     "text": [
      "[1100]\ttrain-mlogloss:0.06085\teval-mlogloss:1.15525\n"
     ]
    },
    {
     "name": "stdout",
     "output_type": "stream",
     "text": [
      "[1200]\ttrain-mlogloss:0.05528\teval-mlogloss:1.16236\n"
     ]
    },
    {
     "name": "stdout",
     "output_type": "stream",
     "text": [
      "[1300]\ttrain-mlogloss:0.05072\teval-mlogloss:1.16858\n"
     ]
    },
    {
     "name": "stdout",
     "output_type": "stream",
     "text": [
      "[1400]\ttrain-mlogloss:0.04699\teval-mlogloss:1.17521\n"
     ]
    },
    {
     "name": "stdout",
     "output_type": "stream",
     "text": [
      "[1500]\ttrain-mlogloss:0.04366\teval-mlogloss:1.18161\n"
     ]
    },
    {
     "name": "stdout",
     "output_type": "stream",
     "text": [
      "[1572]\ttrain-mlogloss:0.04156\teval-mlogloss:1.18585\n"
     ]
    },
    {
     "name": "stdout",
     "output_type": "stream",
     "text": [
      "[0]\ttrain-mlogloss:1.90097\teval-mlogloss:1.91780\n"
     ]
    },
    {
     "name": "stdout",
     "output_type": "stream",
     "text": [
      "[50]\ttrain-mlogloss:0.91242\teval-mlogloss:1.38391\n"
     ]
    },
    {
     "name": "stdout",
     "output_type": "stream",
     "text": [
      "[100]\ttrain-mlogloss:0.62279\teval-mlogloss:1.25003\n"
     ]
    },
    {
     "name": "stdout",
     "output_type": "stream",
     "text": [
      "[150]\ttrain-mlogloss:0.49562\teval-mlogloss:1.18902\n"
     ]
    },
    {
     "name": "stdout",
     "output_type": "stream",
     "text": [
      "[200]\ttrain-mlogloss:0.40617\teval-mlogloss:1.14633\n"
     ]
    },
    {
     "name": "stdout",
     "output_type": "stream",
     "text": [
      "[250]\ttrain-mlogloss:0.34134\teval-mlogloss:1.11628\n"
     ]
    },
    {
     "name": "stdout",
     "output_type": "stream",
     "text": [
      "[300]\ttrain-mlogloss:0.28922\teval-mlogloss:1.09281\n"
     ]
    },
    {
     "name": "stdout",
     "output_type": "stream",
     "text": [
      "[350]\ttrain-mlogloss:0.24587\teval-mlogloss:1.07480\n"
     ]
    },
    {
     "name": "stdout",
     "output_type": "stream",
     "text": [
      "[400]\ttrain-mlogloss:0.21566\teval-mlogloss:1.06367\n"
     ]
    },
    {
     "name": "stdout",
     "output_type": "stream",
     "text": [
      "[450]\ttrain-mlogloss:0.19177\teval-mlogloss:1.05552\n"
     ]
    },
    {
     "name": "stdout",
     "output_type": "stream",
     "text": [
      "[500]\ttrain-mlogloss:0.17145\teval-mlogloss:1.04994\n"
     ]
    },
    {
     "name": "stdout",
     "output_type": "stream",
     "text": [
      "[550]\ttrain-mlogloss:0.15499\teval-mlogloss:1.04660\n"
     ]
    },
    {
     "name": "stdout",
     "output_type": "stream",
     "text": [
      "[600]\ttrain-mlogloss:0.13993\teval-mlogloss:1.04386\n"
     ]
    },
    {
     "name": "stdout",
     "output_type": "stream",
     "text": [
      "[650]\ttrain-mlogloss:0.12781\teval-mlogloss:1.04239\n"
     ]
    },
    {
     "name": "stdout",
     "output_type": "stream",
     "text": [
      "[700]\ttrain-mlogloss:0.11737\teval-mlogloss:1.04207\n"
     ]
    },
    {
     "name": "stdout",
     "output_type": "stream",
     "text": [
      "[742]\ttrain-mlogloss:0.10969\teval-mlogloss:1.04260\n"
     ]
    },
    {
     "name": "stdout",
     "output_type": "stream",
     "text": [
      "\n",
      "Classification Report on Test Set:\n",
      "              precision    recall  f1-score   support\n",
      "\n",
      "           0       0.61      0.63      0.62      5389\n",
      "           1       0.58      0.54      0.56      4043\n",
      "           2       0.54      0.31      0.39      1365\n",
      "           3       0.53      0.34      0.41      1032\n",
      "           4       0.54      0.39      0.45      1540\n",
      "           5       0.50      0.33      0.40      2013\n",
      "           6       0.68      0.80      0.73     12545\n",
      "\n",
      "    accuracy                           0.63     27927\n",
      "   macro avg       0.57      0.48      0.51     27927\n",
      "weighted avg       0.62      0.63      0.62     27927\n",
      "\n"
     ]
    },
    {
     "data": {
      "image/png": "[encoded data removed]",
      "text/plain": [
       "<Figure size 640x480 with 1 Axes>"
      ]
     },
     "metadata": {},
     "output_type": "display_data"
    },
    {
     "data": {
      "image/png": "[encoded data removed]",
      "text/plain": [
       "<Figure size 640x480 with 2 Axes>"
      ]
     },
     "metadata": {},
     "output_type": "display_data"
    },
    {
     "name": "stdout",
     "output_type": "stream",
     "text": [
      "{'average_accuracy': 0.6183987167718744, 'average_f1_macro': 0.4684839960659242, 'average_f1_micro': 0.6183987167718744, 'average_auc': 0.8424458838637636, 'average_acc_kelas_generatif': 0.2934209719924005, 'average_acc_fase_padi': 0.3769005847953217}\n",
      "{'val_accuracy': 0.6323629462527304, 'val_f1_macro': 0.5108353736782776, 'val_f1_micro': 0.6323629462527304, 'val_auc': 0.8657289151560914, 'val_acc_kelas_generatif': 0.3372093023255814, 'val_acc_fase_padi': 0.4444862155388471, 'val_relative_acc': 91.40263743791745}\n",
      "=============================================================================\n"
     ]
    }
   ],
   "source": [
    "from sklearn.preprocessing import StandardScaler, LabelEncoder\n",
    "df['observation']=df['observation'].apply(lambda y: int(y))\n",
    "dict_report={}\n",
    "for i in np.sort(df.cluster_data.unique()):\n",
    "    print('=============================================================================')\n",
    "    print('CLUSTER: ', i)\n",
    "    df_x = df.query('cluster_data==@i')\n",
    "    sns.countplot(x='observation', hue='cluster_data', data=df_x,palette=sns.color_palette(\"Set2\"))\n",
    "    plt.savefig(f\"/data/ksa/05_Modelling/picture/{kdprov}_distplot_cluster_{i}.png\", dpi=300, bbox_inches='tight')\n",
    "    X_train, X_test, y_train, y_test = get_train_test(df_x, 0.7)\n",
    "    # Encode the labels\n",
    "    label_encoder = LabelEncoder()\n",
    "    y_train_encoded = label_encoder.fit_transform(y_train)\n",
    "    y_test_encoded = label_encoder.transform(y_test)\n",
    "    \n",
    "    # Output the unique encoded labels and the mapping\n",
    "    print(np.unique(y_train_encoded))\n",
    "    class_mapping = dict(zip(label_encoder.classes_, label_encoder.transform(label_encoder.classes_)))\n",
    "    print(\"Mapping of original to encoded classes:\", class_mapping)\n",
    "    \n",
    "    # Create an Optuna study and optimize the objective function\n",
    "    print('Build Best Parameter using Optuna-Hyperparameter Tuning')\n",
    "    study = optuna.create_study(direction='maximize')  # 'maximize' because we are optimizing accuracy\n",
    "    study.optimize(lambda trial: objective(trial, X_train, y_train_encoded), n_trials=20)  # Run for 50 trials\n",
    "    # Print the best parameters and the best score\n",
    "    print(f\"Best Parameters: {study.best_params}\")\n",
    "    print(f\"Best Score: {study.best_value}\")\n",
    "\n",
    "    print('Start the modelling')\n",
    "    model0, training_metrics0, validation_metrics0, report0, cm0 = evaluate_model(\n",
    "        X_train, y_train_encoded, X_test, y_test_encoded,cluster=i,best_params=study.best_params)\n",
    "    \n",
    "    dict_report[i]={'model':model0,\n",
    "                    'training_metrics':training_metrics0,\n",
    "                    'validation_metrics':validation_metrics0,\n",
    "                    'reports':report0,\n",
    "                    'cm':cm0,\n",
    "                    'params':study.best_params}\n",
    "    # Print the training and validation metrics\n",
    "    print(training_metrics0)\n",
    "    print(validation_metrics0)\n",
    "    print('=============================================================================')\n",
    "\n",
    "\n"
   ]
  },
  {
   "cell_type": "code",
   "execution_count": 9,
   "id": "26743d1e-45c9-4c26-81de-46e9f11f1698",
   "metadata": {
    "papermill": {
     "duration": 0.138076,
     "end_time": "2024-10-25T00:29:26.806757",
     "exception": false,
     "start_time": "2024-10-25T00:29:26.668681",
     "status": "completed"
    },
    "tags": []
   },
   "outputs": [],
   "source": [
    "with open(f'/data/ksa/05_Modelling/model/xgboost{kdprov}_v2_1.pkl','wb') as file:\n",
    "    pickle.dump(dict_report,file)"
   ]
  },
  {
   "cell_type": "code",
   "execution_count": null,
   "id": "76b68ced-340e-48b6-a01f-a22c31637ad8",
   "metadata": {
    "papermill": {
     "duration": 0.009824,
     "end_time": "2024-10-25T00:29:26.827410",
     "exception": false,
     "start_time": "2024-10-25T00:29:26.817586",
     "status": "completed"
    },
    "tags": []
   },
   "outputs": [],
   "source": []
  }
 ],
 "metadata": {
  "kernelspec": {
   "display_name": "Python 3 (ipykernel)",
   "language": "python",
   "name": "python3"
  },
  "language_info": {
   "codemirror_mode": {
    "name": "ipython",
    "version": 3
   },
   "file_extension": ".py",
   "mimetype": "text/x-python",
   "name": "python",
   "nbconvert_exporter": "python",
   "pygments_lexer": "ipython3",
   "version": "3.10.14"
  },
  "papermill": {
   "default_parameters": {},
   "duration": 900.204723,
   "end_time": "2024-10-25T00:29:27.762807",
   "environment_variables": {},
   "exception": null,
   "input_path": "XGBOOST Base model.ipynb",
   "output_path": "XGBOOST_94_2.ipynb",
   "parameters": {
    "kdprov": 94
   },
   "start_time": "2024-10-25T00:14:27.558084",
   "version": "2.6.0"
  }
 },
 "nbformat": 4,
 "nbformat_minor": 5
}
