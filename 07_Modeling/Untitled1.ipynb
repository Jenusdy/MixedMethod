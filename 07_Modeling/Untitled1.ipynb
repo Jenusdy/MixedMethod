{
 "cells": [
  {
   "cell_type": "code",
   "execution_count": 27,
   "id": "81c4e2dd-03c8-412e-b01c-a3619729235f",
   "metadata": {},
   "outputs": [],
   "source": [
    "import pickle\n",
    "import pandas as pd\n",
    "import geopandas as gpd"
   ]
  },
  {
   "cell_type": "code",
   "execution_count": 28,
   "id": "49a2c513-87fb-4d95-881b-afad9cb9bf7e",
   "metadata": {},
   "outputs": [],
   "source": [
    "kdprov='32'"
   ]
  },
  {
   "cell_type": "code",
   "execution_count": 29,
   "id": "36bc82d2-176b-45cb-87ff-c51d3e68ee98",
   "metadata": {},
   "outputs": [],
   "source": [
    "with open(f'/data/ksa/05_Modelling/metrics_results/{kdprov}_pivot_cm.pkl', 'rb') as file:\n",
    "    pivoted=pickle.load(file)"
   ]
  },
  {
   "cell_type": "code",
   "execution_count": 30,
   "id": "bfec0f0d-8dce-47c2-80ab-8ceea80181e0",
   "metadata": {},
   "outputs": [],
   "source": [
    "gdf=gpd.read_file(f'/data/ksa/00_Data_Input/cluster_data/cluster_{kdprov}_ok.gpkg')[['idkab','cluster_data']]\n",
    "gdf['idkab']=gdf.idkab.astype(str)"
   ]
  },
  {
   "cell_type": "code",
   "execution_count": 25,
   "id": "62c2783b-dd99-4aba-98cf-3ee22419599f",
   "metadata": {},
   "outputs": [],
   "source": [
    "dfz=pivoted['pivot'].sort_values('idkabkota')[['idkabkota','acc_fase_padi_titik','relative_acc_titik','acc_fase_padi_dom',\n",
    "                                                   'relative_acc_dom','acc_fase_padi_center','relative_acc_center']].merge(gdf,left_on='idkabkota',\n",
    "                                                                                                                           right_on='idkab')"
   ]
  },
  {
   "cell_type": "code",
   "execution_count": 26,
   "id": "fc2d8f1f-206e-4fa5-8400-c48610987347",
   "metadata": {},
   "outputs": [],
   "source": [
    "dfz.to_csv(f'/data/ksa/085_Compile/{kdprov}_compiled_utilization.csv')"
   ]
  },
  {
   "cell_type": "code",
   "execution_count": 6,
   "id": "1db5b863-4288-4680-80e1-240bd793298f",
   "metadata": {},
   "outputs": [],
   "source": [
    "import asf_search as asf\n",
    "from datetime import date"
   ]
  },
  {
   "cell_type": "code",
   "execution_count": 7,
   "id": "7c11d38b-b195-45f8-99db-617389680d22",
   "metadata": {},
   "outputs": [],
   "source": [
    "results = asf.search(\n",
    "        platform= asf.PLATFORM.SENTINEL1A,\n",
    "        processingLevel=[asf.PRODUCT_TYPE.GRD_HD],\n",
    "        start = date(2023, 8, 1),\n",
    "        end = date(2024,9 , 30),\n",
    "        intersectsWith = 'POLYGON ((103.0997646189899939 -3.2276248186388998, 103.0997646189899939 -3.0024926791334101, 102.8946930909289961 -3.0024926791334101, 102.8946930909289961 -3.2276248186388998, 103.0997646189899939 -3.2276248186388998))',\n",
    "        )"
   ]
  },
  {
   "cell_type": "code",
   "execution_count": 9,
   "id": "f3474eed-460a-44b8-99ca-5835e2667cc1",
   "metadata": {},
   "outputs": [
    {
     "data": {
      "text/plain": [
       "94"
      ]
     },
     "execution_count": 9,
     "metadata": {},
     "output_type": "execute_result"
    }
   ],
   "source": [
    "len(results)"
   ]
  }
 ],
 "metadata": {
  "kernelspec": {
   "display_name": "Python 3 (ipykernel)",
   "language": "python",
   "name": "python3"
  },
  "language_info": {
   "codemirror_mode": {
    "name": "ipython",
    "version": 3
   },
   "file_extension": ".py",
   "mimetype": "text/x-python",
   "name": "python",
   "nbconvert_exporter": "python",
   "pygments_lexer": "ipython3",
   "version": "3.10.14"
  }
 },
 "nbformat": 4,
 "nbformat_minor": 5
}
