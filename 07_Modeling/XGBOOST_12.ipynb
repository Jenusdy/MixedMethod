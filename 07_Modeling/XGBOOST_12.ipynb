{
 "cells": [
  {
   "cell_type": "code",
   "execution_count": 1,
   "id": "d37f5160-5e12-40a3-8dc9-2d929bd94327",
   "metadata": {
    "execution": {
     "iopub.execute_input": "2024-10-17T01:41:23.298992Z",
     "iopub.status.busy": "2024-10-17T01:41:23.297902Z",
     "iopub.status.idle": "2024-10-17T01:41:26.968857Z",
     "shell.execute_reply": "2024-10-17T01:41:26.967945Z"
    },
    "papermill": {
     "duration": 3.679462,
     "end_time": "2024-10-17T01:41:26.970708",
     "exception": false,
     "start_time": "2024-10-17T01:41:23.291246",
     "status": "completed"
    },
    "tags": []
   },
   "outputs": [
    {
     "name": "stderr",
     "output_type": "stream",
     "text": [
      "/data/home/novia.permatasari/.local/lib/python3.10/site-packages/tqdm/auto.py:21: TqdmWarning: IProgress not found. Please update jupyter and ipywidgets. See https://ipywidgets.readthedocs.io/en/stable/user_install.html\n",
      "  from .autonotebook import tqdm as notebook_tqdm\n"
     ]
    }
   ],
   "source": [
    "import pandas as pd\n",
    "import geopandas as gpd\n",
    "import numpy as np\n",
    "import matplotlib.pyplot as plt\n",
    "import seaborn as sns\n",
    "import os\n",
    "from glob import glob\n",
    "import polars as pl\n",
    "import xgboost as xgb\n",
    "import optuna\n",
    "from sklearn.model_selection import StratifiedKFold, cross_val_score\n",
    "from sklearn.metrics import accuracy_score\n",
    "from sklearn.model_selection import train_test_split, cross_validate\n",
    "from sklearn.metrics import classification_report, confusion_matrix, ConfusionMatrixDisplay, accuracy_score, make_scorer, f1_score, roc_auc_score\n",
    "from sklearn.preprocessing import LabelEncoder\n",
    "import warnings\n",
    "\n",
    "# Suppress warnings globally\n",
    "warnings.filterwarnings(\"ignore\", category=UserWarning)\n",
    "warnings.filterwarnings(\"ignore\", category=DeprecationWarning)\n",
    "import pickle\n",
    "import warnings\n",
    "warnings.simplefilter(action='ignore', category=FutureWarning)\n",
    "warnings.simplefilter(action='ignore', category=pd.errors.SettingWithCopyWarning)\n",
    "from collections import Counter\n",
    "import numpy as np\n",
    "warnings.filterwarnings(\"ignore\", category=RuntimeWarning)"
   ]
  },
  {
   "cell_type": "code",
   "execution_count": 2,
   "id": "1164ac8a-4c5a-456c-a6c9-4e3f8f1fff85",
   "metadata": {
    "execution": {
     "iopub.execute_input": "2024-10-17T01:41:26.980148Z",
     "iopub.status.busy": "2024-10-17T01:41:26.978782Z",
     "iopub.status.idle": "2024-10-17T01:41:26.985222Z",
     "shell.execute_reply": "2024-10-17T01:41:26.984437Z"
    },
    "papermill": {
     "duration": 0.012834,
     "end_time": "2024-10-17T01:41:26.987264",
     "exception": false,
     "start_time": "2024-10-17T01:41:26.974430",
     "status": "completed"
    },
    "tags": []
   },
   "outputs": [],
   "source": [
    "def get_train_test(df, test_size):\n",
    "    # Make X and Y dataset\n",
    "    y = df.observation\n",
    "    print(y.unique())\n",
    "    X = df.loc[:,'VH_30':'VH_0']\n",
    "    X['nth'] = df.loc[:,'nth']\n",
    "    X['nth'] = X.nth.astype('category')\n",
    "    X_train, X_test, y_train, y_test = train_test_split(X, y, test_size=test_size, random_state=1234, stratify=y)\n",
    "    return X_train, X_test, y_train, y_test"
   ]
  },
  {
   "cell_type": "code",
   "execution_count": 3,
   "id": "02aaee39-f4fe-424f-a54a-71ae90874e0c",
   "metadata": {
    "execution": {
     "iopub.execute_input": "2024-10-17T01:41:26.999039Z",
     "iopub.status.busy": "2024-10-17T01:41:26.997877Z",
     "iopub.status.idle": "2024-10-17T01:41:27.004201Z",
     "shell.execute_reply": "2024-10-17T01:41:27.003334Z"
    },
    "papermill": {
     "duration": 0.0131,
     "end_time": "2024-10-17T01:41:27.006228",
     "exception": false,
     "start_time": "2024-10-17T01:41:26.993128",
     "status": "completed"
    },
    "tags": []
   },
   "outputs": [],
   "source": [
    "def akurasi_kelas_generatif(y_true, y_pred):\n",
    "    # Calculate accuracy specifically for class 3\n",
    "    class_3_mask = (y_true == 3)\n",
    "    if np.any(class_3_mask):  # Check if class 3 is present in the true labels\n",
    "        return accuracy_score(y_true[class_3_mask], y_pred[class_3_mask])\n",
    "    else:\n",
    "        return 0.0  # Return 0 if class 3 is not present in the true labels\n",
    "\n",
    "def akurasi_fase_padi(y_true, y_pred):\n",
    "    # Calculate accuracy specifically for classes 1, 2, 3, and 4\n",
    "    class_1234_mask = (y_true >= 1) & (y_true <= 4)\n",
    "    if np.any(class_1234_mask):  # Check if classes 1,2,3,4 are present in the true labels\n",
    "        return accuracy_score(y_true[class_1234_mask], y_pred[class_1234_mask])\n",
    "    else:\n",
    "        return 0.0  # Return 0 if none of the classes 0-3 are present in the true labels"
   ]
  },
  {
   "cell_type": "code",
   "execution_count": 4,
   "id": "9bc8ab03-1717-47d9-95ea-75e3db819b06",
   "metadata": {
    "editable": true,
    "execution": {
     "iopub.execute_input": "2024-10-17T01:41:27.016849Z",
     "iopub.status.busy": "2024-10-17T01:41:27.016520Z",
     "iopub.status.idle": "2024-10-17T01:41:27.021081Z",
     "shell.execute_reply": "2024-10-17T01:41:27.020335Z"
    },
    "papermill": {
     "duration": 0.011926,
     "end_time": "2024-10-17T01:41:27.022665",
     "exception": false,
     "start_time": "2024-10-17T01:41:27.010739",
     "status": "completed"
    },
    "slideshow": {
     "slide_type": ""
    },
    "tags": [
     "parameters"
    ]
   },
   "outputs": [],
   "source": [
    "kdprov='32'"
   ]
  },
  {
   "cell_type": "code",
   "execution_count": 5,
   "id": "1e85897a",
   "metadata": {
    "execution": {
     "iopub.execute_input": "2024-10-17T01:41:27.030261Z",
     "iopub.status.busy": "2024-10-17T01:41:27.029774Z",
     "iopub.status.idle": "2024-10-17T01:41:27.034387Z",
     "shell.execute_reply": "2024-10-17T01:41:27.033494Z"
    },
    "papermill": {
     "duration": 0.010539,
     "end_time": "2024-10-17T01:41:27.036242",
     "exception": false,
     "start_time": "2024-10-17T01:41:27.025703",
     "status": "completed"
    },
    "tags": [
     "injected-parameters"
    ]
   },
   "outputs": [],
   "source": [
    "# Parameters\n",
    "kdprov = 12\n"
   ]
  },
  {
   "cell_type": "code",
   "execution_count": 6,
   "id": "7e0bd5e8-90ad-4dac-938b-2892a96e6ea4",
   "metadata": {
    "editable": true,
    "execution": {
     "iopub.execute_input": "2024-10-17T01:41:27.100574Z",
     "iopub.status.busy": "2024-10-17T01:41:27.100062Z",
     "iopub.status.idle": "2024-10-17T01:41:27.714909Z",
     "shell.execute_reply": "2024-10-17T01:41:27.713980Z"
    },
    "papermill": {
     "duration": 0.621907,
     "end_time": "2024-10-17T01:41:27.716658",
     "exception": false,
     "start_time": "2024-10-17T01:41:27.094751",
     "status": "completed"
    },
    "slideshow": {
     "slide_type": ""
    },
    "tags": []
   },
   "outputs": [
    {
     "name": "stdout",
     "output_type": "stream",
     "text": [
      "(722579, 44)\n"
     ]
    },
    {
     "data": {
      "text/html": [
       "<div>\n",
       "<style scoped>\n",
       "    .dataframe tbody tr th:only-of-type {\n",
       "        vertical-align: middle;\n",
       "    }\n",
       "\n",
       "    .dataframe tbody tr th {\n",
       "        vertical-align: top;\n",
       "    }\n",
       "\n",
       "    .dataframe thead th {\n",
       "        text-align: right;\n",
       "    }\n",
       "</style>\n",
       "<table border=\"1\" class=\"dataframe\">\n",
       "  <thead>\n",
       "    <tr style=\"text-align: right;\">\n",
       "      <th></th>\n",
       "      <th>idpoint</th>\n",
       "      <th>idsubsegment</th>\n",
       "      <th>idsegment</th>\n",
       "      <th>nth</th>\n",
       "      <th>periode</th>\n",
       "      <th>observation</th>\n",
       "      <th>class</th>\n",
       "      <th>MGRS</th>\n",
       "      <th>VH_30</th>\n",
       "      <th>VH_29</th>\n",
       "      <th>...</th>\n",
       "      <th>VH_4</th>\n",
       "      <th>VH_3</th>\n",
       "      <th>VH_2</th>\n",
       "      <th>VH_1</th>\n",
       "      <th>VH_0</th>\n",
       "      <th>idkabkota</th>\n",
       "      <th>cluster_data</th>\n",
       "      <th>Sigma0VH_variance</th>\n",
       "      <th>winner</th>\n",
       "      <th>prior</th>\n",
       "    </tr>\n",
       "  </thead>\n",
       "  <tbody>\n",
       "    <tr>\n",
       "      <th>0</th>\n",
       "      <td>121223001B1#04</td>\n",
       "      <td>121223001B1</td>\n",
       "      <td>121223001</td>\n",
       "      <td>1</td>\n",
       "      <td>2022_03</td>\n",
       "      <td>3</td>\n",
       "      <td>G</td>\n",
       "      <td>47NME</td>\n",
       "      <td>-14.856341</td>\n",
       "      <td>-13.121625</td>\n",
       "      <td>...</td>\n",
       "      <td>-18.439123</td>\n",
       "      <td>-17.559748</td>\n",
       "      <td>-17.274088</td>\n",
       "      <td>-15.348845</td>\n",
       "      <td>-15.690381</td>\n",
       "      <td>1212</td>\n",
       "      <td>0</td>\n",
       "      <td>0.610976</td>\n",
       "      <td>R19C13</td>\n",
       "      <td>0.426942</td>\n",
       "    </tr>\n",
       "    <tr>\n",
       "      <th>1</th>\n",
       "      <td>121223001B2#22</td>\n",
       "      <td>121223001B2</td>\n",
       "      <td>121223001</td>\n",
       "      <td>1</td>\n",
       "      <td>2022_03</td>\n",
       "      <td>3</td>\n",
       "      <td>G</td>\n",
       "      <td>47NME</td>\n",
       "      <td>-15.540250</td>\n",
       "      <td>-14.765509</td>\n",
       "      <td>...</td>\n",
       "      <td>-19.653685</td>\n",
       "      <td>-17.499609</td>\n",
       "      <td>-15.869226</td>\n",
       "      <td>-15.332003</td>\n",
       "      <td>-15.602660</td>\n",
       "      <td>1212</td>\n",
       "      <td>0</td>\n",
       "      <td>0.271942</td>\n",
       "      <td>R13C14</td>\n",
       "      <td>0.523004</td>\n",
       "    </tr>\n",
       "    <tr>\n",
       "      <th>2</th>\n",
       "      <td>121223001C2#04</td>\n",
       "      <td>121223001C2</td>\n",
       "      <td>121223001</td>\n",
       "      <td>1</td>\n",
       "      <td>2022_03</td>\n",
       "      <td>6</td>\n",
       "      <td>NV</td>\n",
       "      <td>47NME</td>\n",
       "      <td>-14.738515</td>\n",
       "      <td>-14.240182</td>\n",
       "      <td>...</td>\n",
       "      <td>-17.750420</td>\n",
       "      <td>-15.499076</td>\n",
       "      <td>-14.326104</td>\n",
       "      <td>-14.101879</td>\n",
       "      <td>-14.877516</td>\n",
       "      <td>1212</td>\n",
       "      <td>0</td>\n",
       "      <td>0.570854</td>\n",
       "      <td>R13C15</td>\n",
       "      <td>0.527508</td>\n",
       "    </tr>\n",
       "    <tr>\n",
       "      <th>3</th>\n",
       "      <td>121223001C3#08</td>\n",
       "      <td>121223001C3</td>\n",
       "      <td>121223001</td>\n",
       "      <td>1</td>\n",
       "      <td>2022_03</td>\n",
       "      <td>6</td>\n",
       "      <td>NV</td>\n",
       "      <td>47NME</td>\n",
       "      <td>-14.912815</td>\n",
       "      <td>-13.943422</td>\n",
       "      <td>...</td>\n",
       "      <td>-14.655459</td>\n",
       "      <td>-14.402657</td>\n",
       "      <td>-13.954058</td>\n",
       "      <td>-14.101485</td>\n",
       "      <td>-14.168874</td>\n",
       "      <td>1212</td>\n",
       "      <td>0</td>\n",
       "      <td>0.141770</td>\n",
       "      <td>R4C3</td>\n",
       "      <td>0.559560</td>\n",
       "    </tr>\n",
       "    <tr>\n",
       "      <th>4</th>\n",
       "      <td>121223001C3#16</td>\n",
       "      <td>121223001C3</td>\n",
       "      <td>121223001</td>\n",
       "      <td>1</td>\n",
       "      <td>2022_03</td>\n",
       "      <td>6</td>\n",
       "      <td>NV</td>\n",
       "      <td>47NME</td>\n",
       "      <td>-14.349282</td>\n",
       "      <td>-13.383128</td>\n",
       "      <td>...</td>\n",
       "      <td>-15.849930</td>\n",
       "      <td>-14.498304</td>\n",
       "      <td>-14.702327</td>\n",
       "      <td>-13.784433</td>\n",
       "      <td>-13.866371</td>\n",
       "      <td>1212</td>\n",
       "      <td>0</td>\n",
       "      <td>0.141770</td>\n",
       "      <td>R7C1</td>\n",
       "      <td>0.599513</td>\n",
       "    </tr>\n",
       "  </tbody>\n",
       "</table>\n",
       "<p>5 rows × 44 columns</p>\n",
       "</div>"
      ],
      "text/plain": [
       "          idpoint idsubsegment  idsegment  nth  periode  observation class  \\\n",
       "0  121223001B1#04  121223001B1  121223001    1  2022_03            3     G   \n",
       "1  121223001B2#22  121223001B2  121223001    1  2022_03            3     G   \n",
       "2  121223001C2#04  121223001C2  121223001    1  2022_03            6    NV   \n",
       "3  121223001C3#08  121223001C3  121223001    1  2022_03            6    NV   \n",
       "4  121223001C3#16  121223001C3  121223001    1  2022_03            6    NV   \n",
       "\n",
       "    MGRS      VH_30      VH_29  ...       VH_4       VH_3       VH_2  \\\n",
       "0  47NME -14.856341 -13.121625  ... -18.439123 -17.559748 -17.274088   \n",
       "1  47NME -15.540250 -14.765509  ... -19.653685 -17.499609 -15.869226   \n",
       "2  47NME -14.738515 -14.240182  ... -17.750420 -15.499076 -14.326104   \n",
       "3  47NME -14.912815 -13.943422  ... -14.655459 -14.402657 -13.954058   \n",
       "4  47NME -14.349282 -13.383128  ... -15.849930 -14.498304 -14.702327   \n",
       "\n",
       "        VH_1       VH_0  idkabkota  cluster_data  Sigma0VH_variance  winner  \\\n",
       "0 -15.348845 -15.690381       1212             0           0.610976  R19C13   \n",
       "1 -15.332003 -15.602660       1212             0           0.271942  R13C14   \n",
       "2 -14.101879 -14.877516       1212             0           0.570854  R13C15   \n",
       "3 -14.101485 -14.168874       1212             0           0.141770    R4C3   \n",
       "4 -13.784433 -13.866371       1212             0           0.141770    R7C1   \n",
       "\n",
       "      prior  \n",
       "0  0.426942  \n",
       "1  0.523004  \n",
       "2  0.527508  \n",
       "3  0.559560  \n",
       "4  0.599513  \n",
       "\n",
       "[5 rows x 44 columns]"
      ]
     },
     "execution_count": 6,
     "metadata": {},
     "output_type": "execute_result"
    }
   ],
   "source": [
    "## Read VH dataset\n",
    "with open(f'/data/ksa/04_Data_Preprocessing/training-test/{kdprov}/training_VH_v2.pkl','rb') as file:\n",
    "    df=pickle.load(file)\n",
    "    if isinstance(df, pl.DataFrame):\n",
    "        df=df.to_pandas()\n",
    "print(df.shape)\n",
    "df.head()"
   ]
  },
  {
   "cell_type": "code",
   "execution_count": 7,
   "id": "ba9b5bc3-277c-4dc7-8e2b-40debb17c2cf",
   "metadata": {
    "execution": {
     "iopub.execute_input": "2024-10-17T01:41:27.725790Z",
     "iopub.status.busy": "2024-10-17T01:41:27.725415Z",
     "iopub.status.idle": "2024-10-17T01:41:31.552194Z",
     "shell.execute_reply": "2024-10-17T01:41:31.551075Z"
    },
    "papermill": {
     "duration": 3.83408,
     "end_time": "2024-10-17T01:41:31.554582",
     "exception": false,
     "start_time": "2024-10-17T01:41:27.720502",
     "status": "completed"
    },
    "tags": []
   },
   "outputs": [
    {
     "data": {
      "image/png": "[encoded data removed]",
      "text/plain": [
       "<Figure size 640x480 with 1 Axes>"
      ]
     },
     "metadata": {},
     "output_type": "display_data"
    }
   ],
   "source": [
    "sns.countplot(x='observation', hue='cluster_data', data=df,palette=sns.color_palette(\"Set2\"))\n",
    "plt.savefig(f\"/data/ksa/05_Modelling/picture/{kdprov}_distirbution_plot.png\", dpi=300, bbox_inches='tight')\n"
   ]
  },
  {
   "cell_type": "markdown",
   "id": "da80a265-9a12-4d2c-8b96-17ad999f2b53",
   "metadata": {
    "papermill": {
     "duration": 0.004059,
     "end_time": "2024-10-17T01:41:31.563770",
     "exception": false,
     "start_time": "2024-10-17T01:41:31.559711",
     "status": "completed"
    },
    "tags": []
   },
   "source": [
    "### Running Data"
   ]
  },
  {
   "cell_type": "code",
   "execution_count": 8,
   "id": "94f2a9fa-36a6-47a7-ab48-85cdb1f2f569",
   "metadata": {
    "execution": {
     "iopub.execute_input": "2024-10-17T01:41:31.574308Z",
     "iopub.status.busy": "2024-10-17T01:41:31.573665Z",
     "iopub.status.idle": "2024-10-17T01:41:31.585963Z",
     "shell.execute_reply": "2024-10-17T01:41:31.584977Z"
    },
    "papermill": {
     "duration": 0.020263,
     "end_time": "2024-10-17T01:41:31.587843",
     "exception": false,
     "start_time": "2024-10-17T01:41:31.567580",
     "status": "completed"
    },
    "tags": []
   },
   "outputs": [],
   "source": [
    "import optuna\n",
    "from xgboost import XGBClassifier\n",
    "\n",
    "# Example dataset\n",
    "\n",
    "# Define the objective function for Bayesian Optimization\n",
    "def objective(trial,X_train, y_train, n_splits=3):\n",
    "    \n",
    "    param = {\n",
    "        'max_depth': trial.suggest_int('max_depth', 6, 10),\n",
    "        'learning_rate': trial.suggest_uniform('learning_rate', 0.01, 0.1),\n",
    "        #'subsample': trial.suggest_uniform('subsample', 0.5, 0.7),\n",
    "        #'colsample_bytree': trial.suggest_uniform('colsample_bytree', 0.5, 0.7),\n",
    "        #'colsample_bylevel': trial.suggest_uniform('colsample_bylevel', 0.5, 0.7),\n",
    "        'reg_lambda': trial.suggest_uniform('reg_lambda', 0.1, 5),\n",
    "        'min_child_weight': trial.suggest_int('min_child_weight', 50, 100),\n",
    "        'objective': 'multi:softprob',  # Multiclass classification\n",
    "        'eval_metric': ['mlogloss'],\n",
    "        \"tree_method\":'hist',\n",
    "        \"num_class\": len(set(y_train)),\n",
    "        \"nthread\":20\n",
    "    }\n",
    "    \n",
    "    # Define the model\n",
    "    skf = StratifiedKFold(n_splits=n_splits,shuffle=True, random_state=42)\n",
    "    f1_macros=[]\n",
    "    for train_index, val_index in skf.split(X_train, y_train):\n",
    "        X_train_fold, X_val_fold = X_train.iloc[train_index], X_train.iloc[val_index]\n",
    "        y_train_fold, y_val_fold = y_train[train_index], y_train[val_index]\n",
    "\n",
    "        class_counts = Counter(y_train_fold)\n",
    "        total_samples = len(y_train_fold)\n",
    "        # Step 3: Calculate class weights as inverse of class frequency\n",
    "        class_weights = {cls: total_samples / count for cls, count in class_counts.items()}\n",
    "        sample_weights = np.array([class_weights[label] for label in y_train_fold])\n",
    "        # Create DMatrix with sample weights\n",
    "        dtrain_fold = xgb.DMatrix(X_train_fold, label=y_train_fold, enable_categorical=True, weight=sample_weights)\n",
    "        dval_fold = xgb.DMatrix(X_val_fold, label=y_val_fold, enable_categorical=True)\n",
    "        \n",
    "        evals = [(dtrain_fold, 'train'), (dval_fold, 'eval')]\n",
    "        model = xgb.train(param, dtrain_fold, \n",
    "                          num_boost_round=1000, evals=evals,early_stopping_rounds=50,\n",
    "                          verbose_eval=False)\n",
    "        y_val_pred_prob = model.predict(dval_fold)\n",
    "        y_val_pred = y_val_pred_prob.argmax(axis=1)\n",
    "        f1_macros.append(f1_score(y_val_fold, y_val_pred, average='macro'))\n",
    "    score=np.mean(f1_macros)\n",
    "    \n",
    "    return score"
   ]
  },
  {
   "cell_type": "code",
   "execution_count": 9,
   "id": "d60642b2-2944-4f3d-b337-3250ba03a3cd",
   "metadata": {
    "execution": {
     "iopub.execute_input": "2024-10-17T01:41:31.598780Z",
     "iopub.status.busy": "2024-10-17T01:41:31.597902Z",
     "iopub.status.idle": "2024-10-17T01:41:31.621124Z",
     "shell.execute_reply": "2024-10-17T01:41:31.620192Z"
    },
    "papermill": {
     "duration": 0.033135,
     "end_time": "2024-10-17T01:41:31.625082",
     "exception": false,
     "start_time": "2024-10-17T01:41:31.591947",
     "status": "completed"
    },
    "tags": []
   },
   "outputs": [],
   "source": [
    "def evaluate_model(X_train, y_train, X_test, y_test,cluster, best_params, n_splits=3):\n",
    "    # Convert data to DMatrix for XGBoost\n",
    "    class_counts = Counter(y_train)\n",
    "    total_samples = len(y_train)\n",
    "        # Step 3: Calculate class weights as inverse of class frequency\n",
    "    class_weights = {cls: total_samples / count for cls, count in class_counts.items()}\n",
    "    sample_weights = np.array([class_weights[label] for label in y_train])\n",
    "        # Create DMatrix with sample weights\n",
    "        \n",
    "    dtrain = xgb.DMatrix(X_train, label=y_train, enable_categorical=True,weight=sample_weights)\n",
    "    dtest = xgb.DMatrix(X_test, label=y_test, enable_categorical=True)\n",
    "    \n",
    "    params = best_params\n",
    "    params['objective']=\"multi:softprob\"\n",
    "    #params['tree_method']='approx'\n",
    "    params['eval_metric']='mlogloss'\n",
    "    params['num_class']=len(set(y_train))\n",
    "    params['nthread']=20\n",
    "    # Stratified K-Fold Cross Validation\n",
    "    skf = StratifiedKFold(n_splits=n_splits, shuffle=True, random_state=42)\n",
    "    \n",
    "    accuracies = []\n",
    "    f1_macros = []\n",
    "    f1_micros = []\n",
    "    aucs = []\n",
    "    acc_kelas_generatifs = []\n",
    "    acc_fase_padis = []\n",
    "\n",
    "    for train_index, val_index in skf.split(X_train, y_train):\n",
    "        X_train_fold, X_val_fold = X_train.iloc[train_index], X_train.iloc[val_index]\n",
    "        y_train_fold, y_val_fold = y_train[train_index], y_train[val_index]\n",
    "\n",
    "        class_counts = Counter(y_train_fold)\n",
    "        total_samples = len(y_train_fold)\n",
    "        # Step 3: Calculate class weights as inverse of class frequency\n",
    "        class_weights = {cls: total_samples / count for cls, count in class_counts.items()}\n",
    "        sample_weights = np.array([class_weights[label] for label in y_train_fold])\n",
    "        # Create DMatrix with sample weights\n",
    "        dtrain_fold = xgb.DMatrix(X_train_fold, label=y_train_fold, enable_categorical=True, weight=sample_weights)\n",
    "        dval_fold = xgb.DMatrix(X_val_fold, label=y_val_fold, enable_categorical=True)\n",
    "        \n",
    "        evals = [(dtrain_fold, 'train'), (dval_fold, 'eval')]\n",
    "        model = xgb.train(params, dtrain_fold, \n",
    "                          num_boost_round=10000, evals=evals,early_stopping_rounds=1000,verbose_eval=100)\n",
    "        \n",
    "        y_val_pred_prob = model.predict(dval_fold)\n",
    "        y_val_pred = y_val_pred_prob.argmax(axis=1)\n",
    "        \n",
    "        accuracies.append(accuracy_score(y_val_fold, y_val_pred))\n",
    "        f1_macros.append(f1_score(y_val_fold, y_val_pred, average='macro'))\n",
    "        f1_micros.append(f1_score(y_val_fold, y_val_pred, average='micro'))\n",
    "        aucs.append(roc_auc_score(y_val_fold, y_val_pred_prob, multi_class='ovr'))\n",
    "        acc_kelas_generatifs.append(akurasi_kelas_generatif(y_val_fold, y_val_pred))\n",
    "        acc_fase_padis.append(akurasi_fase_padi(y_val_fold, y_val_pred))\n",
    "\n",
    "    # Calculate average metrics\n",
    "    avg_accuracy = sum(accuracies) / len(accuracies)\n",
    "    avg_f1_macro = sum(f1_macros) / len(f1_macros)\n",
    "    avg_f1_micro = sum(f1_micros) / len(f1_micros)\n",
    "    avg_auc = sum(aucs) / len(aucs)\n",
    "    avg_acc_kelas_generatif = sum(acc_kelas_generatifs) / len(acc_kelas_generatifs)\n",
    "    avg_acc_fase_padi = sum(acc_fase_padis) / len(acc_fase_padis)\n",
    "    training_metrics = {\n",
    "        \"average_accuracy\": avg_accuracy,\n",
    "        \"average_f1_macro\": avg_f1_macro,\n",
    "        \"average_f1_micro\": avg_f1_micro,\n",
    "        \"average_auc\": avg_auc,\n",
    "        \"average_acc_kelas_generatif\": avg_acc_kelas_generatif,\n",
    "        \"average_acc_fase_padi\": avg_acc_fase_padi\n",
    "    }\n",
    "\n",
    "    \n",
    "    # Final model evaluation on the test set\n",
    "    evals = [(dtrain, 'train'), (dtest, 'eval')]\n",
    "    model = xgb.train(params, dtrain, \n",
    "                      num_boost_round=1000, evals=evals,early_stopping_rounds=50,\n",
    "                      verbose_eval=50)\n",
    "    y_test_pred_prob = model.predict(dtest)\n",
    "    y_test_pred = y_test_pred_prob.argmax(axis=1)\n",
    "\n",
    "    accuracy = accuracy_score(y_test, y_test_pred)\n",
    "    f1_macro = f1_score(y_test, y_test_pred, average='macro')\n",
    "    f1_micro = f1_score(y_test, y_test_pred, average='micro')\n",
    "    auc = roc_auc_score(y_test, y_test_pred_prob, multi_class='ovr')\n",
    "    acc_kelas_generatif = akurasi_kelas_generatif(y_test, y_test_pred)\n",
    "    acc_fase_padi = akurasi_fase_padi(y_test, y_test_pred)\n",
    "    \n",
    "    cm = confusion_matrix(y_test, y_test_pred)\n",
    "    relative_acc = 100 * (sum(cm[1, 1:3]) + sum(cm[1, 5:6]) + \n",
    "                          sum(cm[2, 1:4]) + \n",
    "                          sum(cm[3, 2:5]) + \n",
    "                          sum(cm[4, 3:6]) + \n",
    "                          sum(cm[5, 4:6])+sum(cm[5,1:2])) / sum(sum(cm[1:6, 1:6]))\n",
    "    validation_metrics = {\n",
    "        \"val_accuracy\": accuracy,\n",
    "        \"val_f1_macro\": f1_macro,\n",
    "        \"val_f1_micro\": f1_micro,\n",
    "        \"val_auc\": auc,\n",
    "        \"val_acc_kelas_generatif\": acc_kelas_generatif,\n",
    "        \"val_acc_fase_padi\": acc_fase_padi,\n",
    "        \"val_relative_acc\": relative_acc\n",
    "    }\n",
    "\n",
    "    print(\"\\nClassification Report on Test Set:\")\n",
    "    report = classification_report(y_test, y_test_pred)\n",
    "    print(report)\n",
    "    \n",
    "    # Display Confusion Matrix\n",
    "    cm_percentage = cm.astype('float') / cm.sum(axis=1)[:, np.newaxis] * 100\n",
    "\n",
    "    disp = ConfusionMatrixDisplay(confusion_matrix=cm_percentage)\n",
    "    disp.plot(cmap=plt.cm.Blues)\n",
    "    plt.savefig(f\"/data/ksa/05_Modelling/picture/{kdprov}_cm_cluster_{cluster}.png\", dpi=300, bbox_inches='tight')\n",
    "    plt.show()\n",
    "    \n",
    "    return model, training_metrics, validation_metrics, report, cm"
   ]
  },
  {
   "cell_type": "code",
   "execution_count": 10,
   "id": "f4462c6e-e78a-4409-8951-07e164e2986c",
   "metadata": {
    "editable": true,
    "execution": {
     "iopub.execute_input": "2024-10-17T01:41:31.636169Z",
     "iopub.status.busy": "2024-10-17T01:41:31.635734Z",
     "iopub.status.idle": "2024-10-17T04:10:23.493350Z",
     "shell.execute_reply": "2024-10-17T04:10:23.492287Z"
    },
    "papermill": {
     "duration": 8931.865538,
     "end_time": "2024-10-17T04:10:23.495228",
     "exception": false,
     "start_time": "2024-10-17T01:41:31.629690",
     "status": "completed"
    },
    "slideshow": {
     "slide_type": ""
    },
    "tags": []
   },
   "outputs": [
    {
     "name": "stdout",
     "output_type": "stream",
     "text": [
      "=============================================================================\n",
      "CLUSTER:  0\n"
     ]
    },
    {
     "name": "stdout",
     "output_type": "stream",
     "text": [
      "[3 6 4 1 2 5 0]\n"
     ]
    },
    {
     "name": "stderr",
     "output_type": "stream",
     "text": [
      "[I 2024-10-17 08:41:32,987] A new study created in memory with name: no-name-2559ed48-439b-4fd4-9248-c3a3353c8c91\n"
     ]
    },
    {
     "name": "stdout",
     "output_type": "stream",
     "text": [
      "[0 1 2 3 4 5 6]\n",
      "Mapping of original to encoded classes: {np.int64(0): np.int64(0), np.int64(1): np.int64(1), np.int64(2): np.int64(2), np.int64(3): np.int64(3), np.int64(4): np.int64(4), np.int64(5): np.int64(5), np.int64(6): np.int64(6)}\n",
      "Build Best Parameter using Optuna-Hyperparameter Tuning\n"
     ]
    },
    {
     "name": "stderr",
     "output_type": "stream",
     "text": [
      "[I 2024-10-17 08:42:35,315] Trial 0 finished with value: 0.9384290165893288 and parameters: {'max_depth': 9, 'learning_rate': 0.03893747388424033, 'reg_lambda': 2.8372480178100594, 'min_child_weight': 69}. Best is trial 0 with value: 0.9384290165893288.\n"
     ]
    },
    {
     "name": "stderr",
     "output_type": "stream",
     "text": [
      "[I 2024-10-17 08:44:15,746] Trial 1 finished with value: 0.9370273789707211 and parameters: {'max_depth': 8, 'learning_rate': 0.020894317730423908, 'reg_lambda': 0.7279149022887818, 'min_child_weight': 92}. Best is trial 0 with value: 0.9384290165893288.\n"
     ]
    },
    {
     "name": "stderr",
     "output_type": "stream",
     "text": [
      "[I 2024-10-17 08:44:50,125] Trial 2 finished with value: 0.9383051402376267 and parameters: {'max_depth': 9, 'learning_rate': 0.092597598698149, 'reg_lambda': 3.970248467769863, 'min_child_weight': 97}. Best is trial 0 with value: 0.9384290165893288.\n"
     ]
    },
    {
     "name": "stderr",
     "output_type": "stream",
     "text": [
      "[I 2024-10-17 08:46:31,063] Trial 3 finished with value: 0.9383286435275883 and parameters: {'max_depth': 8, 'learning_rate': 0.026187847491471954, 'reg_lambda': 3.458167897105007, 'min_child_weight': 59}. Best is trial 0 with value: 0.9384290165893288.\n"
     ]
    },
    {
     "name": "stderr",
     "output_type": "stream",
     "text": [
      "[I 2024-10-17 08:47:13,543] Trial 4 finished with value: 0.9382611364419629 and parameters: {'max_depth': 9, 'learning_rate': 0.06578981139035396, 'reg_lambda': 0.18171025663556722, 'min_child_weight': 63}. Best is trial 0 with value: 0.9384290165893288.\n"
     ]
    },
    {
     "name": "stderr",
     "output_type": "stream",
     "text": [
      "[I 2024-10-17 08:47:48,422] Trial 5 finished with value: 0.9378840865969914 and parameters: {'max_depth': 6, 'learning_rate': 0.09462648984318033, 'reg_lambda': 4.82358854001796, 'min_child_weight': 80}. Best is trial 0 with value: 0.9384290165893288.\n"
     ]
    },
    {
     "name": "stderr",
     "output_type": "stream",
     "text": [
      "[I 2024-10-17 08:48:16,251] Trial 6 finished with value: 0.93892985985402 and parameters: {'max_depth': 10, 'learning_rate': 0.08783988258012967, 'reg_lambda': 2.224061799906946, 'min_child_weight': 93}. Best is trial 6 with value: 0.93892985985402.\n"
     ]
    },
    {
     "name": "stderr",
     "output_type": "stream",
     "text": [
      "[I 2024-10-17 08:48:53,841] Trial 7 finished with value: 0.9381981377056666 and parameters: {'max_depth': 7, 'learning_rate': 0.06875347124735048, 'reg_lambda': 4.24493300384913, 'min_child_weight': 80}. Best is trial 6 with value: 0.93892985985402.\n"
     ]
    },
    {
     "name": "stderr",
     "output_type": "stream",
     "text": [
      "[I 2024-10-17 08:49:24,737] Trial 8 finished with value: 0.9385634940526494 and parameters: {'max_depth': 7, 'learning_rate': 0.09905466021342756, 'reg_lambda': 4.204458745779677, 'min_child_weight': 53}. Best is trial 6 with value: 0.93892985985402.\n"
     ]
    },
    {
     "name": "stderr",
     "output_type": "stream",
     "text": [
      "[I 2024-10-17 08:50:49,400] Trial 9 finished with value: 0.9390502922028708 and parameters: {'max_depth': 9, 'learning_rate': 0.03504558022913872, 'reg_lambda': 0.8128077709453962, 'min_child_weight': 67}. Best is trial 9 with value: 0.9390502922028708.\n"
     ]
    },
    {
     "name": "stderr",
     "output_type": "stream",
     "text": [
      "[I 2024-10-17 08:51:51,478] Trial 10 finished with value: 0.9392050652936144 and parameters: {'max_depth': 10, 'learning_rate': 0.04435790428753487, 'reg_lambda': 1.4658454571544037, 'min_child_weight': 72}. Best is trial 10 with value: 0.9392050652936144.\n"
     ]
    },
    {
     "name": "stderr",
     "output_type": "stream",
     "text": [
      "[I 2024-10-17 08:52:55,765] Trial 11 finished with value: 0.9387316297328586 and parameters: {'max_depth': 10, 'learning_rate': 0.043515410281027095, 'reg_lambda': 1.5031551597587545, 'min_child_weight': 73}. Best is trial 10 with value: 0.9392050652936144.\n"
     ]
    },
    {
     "name": "stderr",
     "output_type": "stream",
     "text": [
      "[I 2024-10-17 08:53:41,780] Trial 12 finished with value: 0.9384591557529819 and parameters: {'max_depth': 10, 'learning_rate': 0.0469741669381133, 'reg_lambda': 1.4085577810534797, 'min_child_weight': 67}. Best is trial 10 with value: 0.9392050652936144.\n"
     ]
    },
    {
     "name": "stderr",
     "output_type": "stream",
     "text": [
      "[I 2024-10-17 08:55:39,341] Trial 13 finished with value: 0.9354363530008518 and parameters: {'max_depth': 9, 'learning_rate': 0.012653699449249552, 'reg_lambda': 1.4915076499676454, 'min_child_weight': 83}. Best is trial 10 with value: 0.9392050652936144.\n"
     ]
    },
    {
     "name": "stderr",
     "output_type": "stream",
     "text": [
      "[I 2024-10-17 08:56:26,172] Trial 14 finished with value: 0.9388516508134468 and parameters: {'max_depth': 10, 'learning_rate': 0.05885746348650474, 'reg_lambda': 0.7317176003518178, 'min_child_weight': 51}. Best is trial 10 with value: 0.9392050652936144.\n"
     ]
    },
    {
     "name": "stderr",
     "output_type": "stream",
     "text": [
      "[I 2024-10-17 08:57:47,839] Trial 15 finished with value: 0.9386368765688013 and parameters: {'max_depth': 8, 'learning_rate': 0.03270988900924949, 'reg_lambda': 2.3132747153093245, 'min_child_weight': 73}. Best is trial 10 with value: 0.9392050652936144.\n"
     ]
    },
    {
     "name": "stderr",
     "output_type": "stream",
     "text": [
      "[I 2024-10-17 08:58:38,720] Trial 16 finished with value: 0.938432608889081 and parameters: {'max_depth': 9, 'learning_rate': 0.050511375577362995, 'reg_lambda': 0.8678389975817782, 'min_child_weight': 60}. Best is trial 10 with value: 0.9392050652936144.\n"
     ]
    },
    {
     "name": "stderr",
     "output_type": "stream",
     "text": [
      "[I 2024-10-17 08:59:09,123] Trial 17 finished with value: 0.9387202059123153 and parameters: {'max_depth': 10, 'learning_rate': 0.0745708380474046, 'reg_lambda': 0.1533864778341133, 'min_child_weight': 86}. Best is trial 10 with value: 0.9392050652936144.\n"
     ]
    },
    {
     "name": "stderr",
     "output_type": "stream",
     "text": [
      "[I 2024-10-17 09:00:27,511] Trial 18 finished with value: 0.9387035065481489 and parameters: {'max_depth': 9, 'learning_rate': 0.0327251987337036, 'reg_lambda': 1.6857688366421153, 'min_child_weight': 66}. Best is trial 10 with value: 0.9392050652936144.\n"
     ]
    },
    {
     "name": "stderr",
     "output_type": "stream",
     "text": [
      "[I 2024-10-17 09:02:16,857] Trial 19 finished with value: 0.9324285355751488 and parameters: {'max_depth': 7, 'learning_rate': 0.011716096756730954, 'reg_lambda': 1.9038464908312567, 'min_child_weight': 77}. Best is trial 10 with value: 0.9392050652936144.\n"
     ]
    },
    {
     "name": "stdout",
     "output_type": "stream",
     "text": [
      "Best Parameters: {'max_depth': 10, 'learning_rate': 0.04435790428753487, 'reg_lambda': 1.4658454571544037, 'min_child_weight': 72}\n",
      "Best Score: 0.9392050652936144\n",
      "Start the modelling\n"
     ]
    },
    {
     "name": "stdout",
     "output_type": "stream",
     "text": [
      "[0]\ttrain-mlogloss:1.82561\teval-mlogloss:1.82970\n"
     ]
    },
    {
     "name": "stdout",
     "output_type": "stream",
     "text": [
      "[100]\ttrain-mlogloss:0.12631\teval-mlogloss:0.23070\n"
     ]
    },
    {
     "name": "stdout",
     "output_type": "stream",
     "text": [
      "[200]\ttrain-mlogloss:0.05524\teval-mlogloss:0.17570\n"
     ]
    },
    {
     "name": "stdout",
     "output_type": "stream",
     "text": [
      "[300]\ttrain-mlogloss:0.03184\teval-mlogloss:0.16391\n"
     ]
    },
    {
     "name": "stdout",
     "output_type": "stream",
     "text": [
      "[400]\ttrain-mlogloss:0.02207\teval-mlogloss:0.16072\n"
     ]
    },
    {
     "name": "stdout",
     "output_type": "stream",
     "text": [
      "[500]\ttrain-mlogloss:0.01696\teval-mlogloss:0.15957\n"
     ]
    },
    {
     "name": "stdout",
     "output_type": "stream",
     "text": [
      "[600]\ttrain-mlogloss:0.01389\teval-mlogloss:0.15953\n"
     ]
    },
    {
     "name": "stdout",
     "output_type": "stream",
     "text": [
      "[700]\ttrain-mlogloss:0.01187\teval-mlogloss:0.15994\n"
     ]
    },
    {
     "name": "stdout",
     "output_type": "stream",
     "text": [
      "[800]\ttrain-mlogloss:0.01043\teval-mlogloss:0.16047\n"
     ]
    },
    {
     "name": "stdout",
     "output_type": "stream",
     "text": [
      "[900]\ttrain-mlogloss:0.00938\teval-mlogloss:0.16118\n"
     ]
    },
    {
     "name": "stdout",
     "output_type": "stream",
     "text": [
      "[1000]\ttrain-mlogloss:0.00857\teval-mlogloss:0.16197\n"
     ]
    },
    {
     "name": "stdout",
     "output_type": "stream",
     "text": [
      "[1100]\ttrain-mlogloss:0.00791\teval-mlogloss:0.16247\n"
     ]
    },
    {
     "name": "stdout",
     "output_type": "stream",
     "text": [
      "[1200]\ttrain-mlogloss:0.00738\teval-mlogloss:0.16322\n"
     ]
    },
    {
     "name": "stdout",
     "output_type": "stream",
     "text": [
      "[1300]\ttrain-mlogloss:0.00694\teval-mlogloss:0.16396\n"
     ]
    },
    {
     "name": "stdout",
     "output_type": "stream",
     "text": [
      "[1400]\ttrain-mlogloss:0.00658\teval-mlogloss:0.16450\n"
     ]
    },
    {
     "name": "stdout",
     "output_type": "stream",
     "text": [
      "[1500]\ttrain-mlogloss:0.00627\teval-mlogloss:0.16508\n"
     ]
    },
    {
     "name": "stdout",
     "output_type": "stream",
     "text": [
      "[1578]\ttrain-mlogloss:0.00605\teval-mlogloss:0.16558\n"
     ]
    },
    {
     "name": "stdout",
     "output_type": "stream",
     "text": [
      "[0]\ttrain-mlogloss:1.82489\teval-mlogloss:1.82904\n"
     ]
    },
    {
     "name": "stdout",
     "output_type": "stream",
     "text": [
      "[100]\ttrain-mlogloss:0.12416\teval-mlogloss:0.23288\n"
     ]
    },
    {
     "name": "stdout",
     "output_type": "stream",
     "text": [
      "[200]\ttrain-mlogloss:0.05232\teval-mlogloss:0.17888\n"
     ]
    },
    {
     "name": "stdout",
     "output_type": "stream",
     "text": [
      "[300]\ttrain-mlogloss:0.03126\teval-mlogloss:0.16864\n"
     ]
    },
    {
     "name": "stdout",
     "output_type": "stream",
     "text": [
      "[400]\ttrain-mlogloss:0.02169\teval-mlogloss:0.16599\n"
     ]
    },
    {
     "name": "stdout",
     "output_type": "stream",
     "text": [
      "[500]\ttrain-mlogloss:0.01671\teval-mlogloss:0.16537\n"
     ]
    },
    {
     "name": "stdout",
     "output_type": "stream",
     "text": [
      "[600]\ttrain-mlogloss:0.01371\teval-mlogloss:0.16595\n"
     ]
    },
    {
     "name": "stdout",
     "output_type": "stream",
     "text": [
      "[700]\ttrain-mlogloss:0.01174\teval-mlogloss:0.16694\n"
     ]
    },
    {
     "name": "stdout",
     "output_type": "stream",
     "text": [
      "[800]\ttrain-mlogloss:0.01034\teval-mlogloss:0.16768\n"
     ]
    },
    {
     "name": "stdout",
     "output_type": "stream",
     "text": [
      "[900]\ttrain-mlogloss:0.00929\teval-mlogloss:0.16834\n"
     ]
    },
    {
     "name": "stdout",
     "output_type": "stream",
     "text": [
      "[1000]\ttrain-mlogloss:0.00849\teval-mlogloss:0.16915\n"
     ]
    },
    {
     "name": "stdout",
     "output_type": "stream",
     "text": [
      "[1100]\ttrain-mlogloss:0.00784\teval-mlogloss:0.16968\n"
     ]
    },
    {
     "name": "stdout",
     "output_type": "stream",
     "text": [
      "[1200]\ttrain-mlogloss:0.00732\teval-mlogloss:0.17029\n"
     ]
    },
    {
     "name": "stdout",
     "output_type": "stream",
     "text": [
      "[1300]\ttrain-mlogloss:0.00688\teval-mlogloss:0.17110\n"
     ]
    },
    {
     "name": "stdout",
     "output_type": "stream",
     "text": [
      "[1400]\ttrain-mlogloss:0.00651\teval-mlogloss:0.17171\n"
     ]
    },
    {
     "name": "stdout",
     "output_type": "stream",
     "text": [
      "[1491]\ttrain-mlogloss:0.00623\teval-mlogloss:0.17229\n"
     ]
    },
    {
     "name": "stdout",
     "output_type": "stream",
     "text": [
      "[0]\ttrain-mlogloss:1.82491\teval-mlogloss:1.83025\n"
     ]
    },
    {
     "name": "stdout",
     "output_type": "stream",
     "text": [
      "[100]\ttrain-mlogloss:0.12230\teval-mlogloss:0.24134\n"
     ]
    },
    {
     "name": "stdout",
     "output_type": "stream",
     "text": [
      "[200]\ttrain-mlogloss:0.05157\teval-mlogloss:0.18956\n"
     ]
    },
    {
     "name": "stdout",
     "output_type": "stream",
     "text": [
      "[300]\ttrain-mlogloss:0.02993\teval-mlogloss:0.17957\n"
     ]
    },
    {
     "name": "stdout",
     "output_type": "stream",
     "text": [
      "[400]\ttrain-mlogloss:0.02091\teval-mlogloss:0.17778\n"
     ]
    },
    {
     "name": "stdout",
     "output_type": "stream",
     "text": [
      "[500]\ttrain-mlogloss:0.01613\teval-mlogloss:0.17799\n"
     ]
    },
    {
     "name": "stdout",
     "output_type": "stream",
     "text": [
      "[600]\ttrain-mlogloss:0.01329\teval-mlogloss:0.17920\n"
     ]
    },
    {
     "name": "stdout",
     "output_type": "stream",
     "text": [
      "[700]\ttrain-mlogloss:0.01140\teval-mlogloss:0.18042\n"
     ]
    },
    {
     "name": "stdout",
     "output_type": "stream",
     "text": [
      "[800]\ttrain-mlogloss:0.01008\teval-mlogloss:0.18195\n"
     ]
    },
    {
     "name": "stdout",
     "output_type": "stream",
     "text": [
      "[900]\ttrain-mlogloss:0.00909\teval-mlogloss:0.18335\n"
     ]
    },
    {
     "name": "stdout",
     "output_type": "stream",
     "text": [
      "[1000]\ttrain-mlogloss:0.00833\teval-mlogloss:0.18461\n"
     ]
    },
    {
     "name": "stdout",
     "output_type": "stream",
     "text": [
      "[1100]\ttrain-mlogloss:0.00772\teval-mlogloss:0.18587\n"
     ]
    },
    {
     "name": "stdout",
     "output_type": "stream",
     "text": [
      "[1200]\ttrain-mlogloss:0.00722\teval-mlogloss:0.18710\n"
     ]
    },
    {
     "name": "stdout",
     "output_type": "stream",
     "text": [
      "[1300]\ttrain-mlogloss:0.00680\teval-mlogloss:0.18819\n"
     ]
    },
    {
     "name": "stdout",
     "output_type": "stream",
     "text": [
      "[1400]\ttrain-mlogloss:0.00646\teval-mlogloss:0.18932\n"
     ]
    },
    {
     "name": "stdout",
     "output_type": "stream",
     "text": [
      "[1416]\ttrain-mlogloss:0.00640\teval-mlogloss:0.18949\n"
     ]
    },
    {
     "name": "stdout",
     "output_type": "stream",
     "text": [
      "[0]\ttrain-mlogloss:1.82387\teval-mlogloss:1.82760\n"
     ]
    },
    {
     "name": "stdout",
     "output_type": "stream",
     "text": [
      "[50]\ttrain-mlogloss:0.30945\teval-mlogloss:0.38533\n"
     ]
    },
    {
     "name": "stdout",
     "output_type": "stream",
     "text": [
      "[100]\ttrain-mlogloss:0.12400\teval-mlogloss:0.22098\n"
     ]
    },
    {
     "name": "stdout",
     "output_type": "stream",
     "text": [
      "[150]\ttrain-mlogloss:0.07591\teval-mlogloss:0.18231\n"
     ]
    },
    {
     "name": "stdout",
     "output_type": "stream",
     "text": [
      "[200]\ttrain-mlogloss:0.05476\teval-mlogloss:0.16720\n"
     ]
    },
    {
     "name": "stdout",
     "output_type": "stream",
     "text": [
      "[250]\ttrain-mlogloss:0.04184\teval-mlogloss:0.16003\n"
     ]
    },
    {
     "name": "stdout",
     "output_type": "stream",
     "text": [
      "[300]\ttrain-mlogloss:0.03289\teval-mlogloss:0.15577\n"
     ]
    },
    {
     "name": "stdout",
     "output_type": "stream",
     "text": [
      "[350]\ttrain-mlogloss:0.02675\teval-mlogloss:0.15335\n"
     ]
    },
    {
     "name": "stdout",
     "output_type": "stream",
     "text": [
      "[400]\ttrain-mlogloss:0.02235\teval-mlogloss:0.15177\n"
     ]
    },
    {
     "name": "stdout",
     "output_type": "stream",
     "text": [
      "[450]\ttrain-mlogloss:0.01924\teval-mlogloss:0.15101\n"
     ]
    },
    {
     "name": "stdout",
     "output_type": "stream",
     "text": [
      "[500]\ttrain-mlogloss:0.01688\teval-mlogloss:0.15068\n"
     ]
    },
    {
     "name": "stdout",
     "output_type": "stream",
     "text": [
      "[550]\ttrain-mlogloss:0.01498\teval-mlogloss:0.15060\n"
     ]
    },
    {
     "name": "stdout",
     "output_type": "stream",
     "text": [
      "[600]\ttrain-mlogloss:0.01353\teval-mlogloss:0.15080\n"
     ]
    },
    {
     "name": "stdout",
     "output_type": "stream",
     "text": [
      "[606]\ttrain-mlogloss:0.01337\teval-mlogloss:0.15082\n"
     ]
    },
    {
     "name": "stdout",
     "output_type": "stream",
     "text": [
      "\n",
      "Classification Report on Test Set:\n",
      "              precision    recall  f1-score   support\n",
      "\n",
      "           0       0.96      0.96      0.96     12341\n",
      "           1       0.93      0.91      0.92     12923\n",
      "           2       0.92      0.93      0.93     12263\n",
      "           3       0.95      0.93      0.94     13197\n",
      "           4       0.94      0.95      0.95     12815\n",
      "           5       0.93      0.94      0.94     11859\n",
      "           6       0.98      0.98      0.98     13624\n",
      "\n",
      "    accuracy                           0.94     89022\n",
      "   macro avg       0.94      0.94      0.94     89022\n",
      "weighted avg       0.94      0.94      0.94     89022\n",
      "\n"
     ]
    },
    {
     "data": {
      "image/png": "[encoded data removed]",
      "text/plain": [
       "<Figure size 640x480 with 1 Axes>"
      ]
     },
     "metadata": {},
     "output_type": "display_data"
    },
    {
     "data": {
      "image/png": "[encoded data removed]",
      "text/plain": [
       "<Figure size 640x480 with 2 Axes>"
      ]
     },
     "metadata": {},
     "output_type": "display_data"
    },
    {
     "name": "stdout",
     "output_type": "stream",
     "text": [
      "{'average_accuracy': 0.9408418082458597, 'average_f1_macro': np.float64(0.9404044372837195), 'average_f1_micro': np.float64(0.9408418082458597), 'average_auc': np.float64(0.997131905776968), 'average_acc_kelas_generatif': 0.935113400147956, 'average_acc_fase_padi': 0.929043224811974}\n",
      "{'val_accuracy': 0.9445979645480892, 'val_f1_macro': np.float64(0.9442262830284458), 'val_f1_micro': np.float64(0.9445979645480892), 'val_auc': np.float64(0.9976348745601195), 'val_acc_kelas_generatif': 0.9343032507388043, 'val_acc_fase_padi': 0.9332981757099886, 'val_relative_acc': np.float64(99.93275158113842)}\n",
      "=============================================================================\n",
      "=============================================================================\n",
      "CLUSTER:  1\n"
     ]
    },
    {
     "name": "stderr",
     "output_type": "stream",
     "text": [
      "[I 2024-10-17 09:04:56,024] A new study created in memory with name: no-name-823031a6-5d53-4554-be97-441f56443e2b\n"
     ]
    },
    {
     "name": "stdout",
     "output_type": "stream",
     "text": [
      "[6 2 0 5 1 4 3]\n",
      "[0 1 2 3 4 5 6]\n",
      "Mapping of original to encoded classes: {np.int64(0): np.int64(0), np.int64(1): np.int64(1), np.int64(2): np.int64(2), np.int64(3): np.int64(3), np.int64(4): np.int64(4), np.int64(5): np.int64(5), np.int64(6): np.int64(6)}\n",
      "Build Best Parameter using Optuna-Hyperparameter Tuning\n"
     ]
    },
    {
     "name": "stderr",
     "output_type": "stream",
     "text": [
      "[I 2024-10-17 09:06:09,616] Trial 0 finished with value: 0.9396533008391188 and parameters: {'max_depth': 6, 'learning_rate': 0.04171213852216778, 'reg_lambda': 4.045343594355378, 'min_child_weight': 57}. Best is trial 0 with value: 0.9396533008391188.\n"
     ]
    },
    {
     "name": "stderr",
     "output_type": "stream",
     "text": [
      "[I 2024-10-17 09:07:31,505] Trial 1 finished with value: 0.9339755776183578 and parameters: {'max_depth': 6, 'learning_rate': 0.016827998462749114, 'reg_lambda': 1.2101577260977063, 'min_child_weight': 53}. Best is trial 0 with value: 0.9396533008391188.\n"
     ]
    },
    {
     "name": "stderr",
     "output_type": "stream",
     "text": [
      "[I 2024-10-17 09:08:12,548] Trial 2 finished with value: 0.9390468388073742 and parameters: {'max_depth': 9, 'learning_rate': 0.09092542401516648, 'reg_lambda': 1.1918722597894742, 'min_child_weight': 80}. Best is trial 0 with value: 0.9396533008391188.\n"
     ]
    },
    {
     "name": "stderr",
     "output_type": "stream",
     "text": [
      "[I 2024-10-17 09:09:03,165] Trial 3 finished with value: 0.9382656042494871 and parameters: {'max_depth': 9, 'learning_rate': 0.057567774948246914, 'reg_lambda': 4.973547943135471, 'min_child_weight': 91}. Best is trial 0 with value: 0.9396533008391188.\n"
     ]
    },
    {
     "name": "stderr",
     "output_type": "stream",
     "text": [
      "[I 2024-10-17 09:10:07,282] Trial 4 finished with value: 0.9373413821792641 and parameters: {'max_depth': 6, 'learning_rate': 0.03556099801699158, 'reg_lambda': 4.5093099538771755, 'min_child_weight': 99}. Best is trial 0 with value: 0.9396533008391188.\n"
     ]
    },
    {
     "name": "stderr",
     "output_type": "stream",
     "text": [
      "[I 2024-10-17 09:10:42,902] Trial 5 finished with value: 0.9398918119861324 and parameters: {'max_depth': 6, 'learning_rate': 0.08013082381646511, 'reg_lambda': 0.5713979912330037, 'min_child_weight': 56}. Best is trial 5 with value: 0.9398918119861324.\n"
     ]
    },
    {
     "name": "stderr",
     "output_type": "stream",
     "text": [
      "[I 2024-10-17 09:11:14,579] Trial 6 finished with value: 0.938447736180731 and parameters: {'max_depth': 7, 'learning_rate': 0.0920209561942356, 'reg_lambda': 1.1211718766776884, 'min_child_weight': 72}. Best is trial 5 with value: 0.9398918119861324.\n"
     ]
    },
    {
     "name": "stderr",
     "output_type": "stream",
     "text": [
      "[I 2024-10-17 09:12:04,270] Trial 7 finished with value: 0.9385189512285114 and parameters: {'max_depth': 7, 'learning_rate': 0.05874642534784781, 'reg_lambda': 2.2399906211820486, 'min_child_weight': 75}. Best is trial 5 with value: 0.9398918119861324.\n"
     ]
    },
    {
     "name": "stderr",
     "output_type": "stream",
     "text": [
      "[I 2024-10-17 09:12:42,574] Trial 8 finished with value: 0.938522629830735 and parameters: {'max_depth': 9, 'learning_rate': 0.07245353723752258, 'reg_lambda': 0.9602532073313508, 'min_child_weight': 77}. Best is trial 5 with value: 0.9398918119861324.\n"
     ]
    },
    {
     "name": "stderr",
     "output_type": "stream",
     "text": [
      "[I 2024-10-17 09:13:37,347] Trial 9 finished with value: 0.9387503979874045 and parameters: {'max_depth': 10, 'learning_rate': 0.05233866413242948, 'reg_lambda': 3.9218994151484896, 'min_child_weight': 84}. Best is trial 5 with value: 0.9398918119861324.\n"
     ]
    },
    {
     "name": "stderr",
     "output_type": "stream",
     "text": [
      "[I 2024-10-17 09:14:16,772] Trial 10 finished with value: 0.9396160401298701 and parameters: {'max_depth': 7, 'learning_rate': 0.07559662609932913, 'reg_lambda': 0.21726427408934357, 'min_child_weight': 63}. Best is trial 5 with value: 0.9398918119861324.\n"
     ]
    },
    {
     "name": "stderr",
     "output_type": "stream",
     "text": [
      "[I 2024-10-17 09:15:13,690] Trial 11 finished with value: 0.9393666394025587 and parameters: {'max_depth': 6, 'learning_rate': 0.039259985983145854, 'reg_lambda': 3.1400572945440706, 'min_child_weight': 51}. Best is trial 5 with value: 0.9398918119861324.\n"
     ]
    },
    {
     "name": "stderr",
     "output_type": "stream",
     "text": [
      "[I 2024-10-17 09:17:06,159] Trial 12 finished with value: 0.9319814199000193 and parameters: {'max_depth': 8, 'learning_rate': 0.0104826956242325, 'reg_lambda': 2.7534963860283588, 'min_child_weight': 61}. Best is trial 5 with value: 0.9398918119861324.\n"
     ]
    },
    {
     "name": "stderr",
     "output_type": "stream",
     "text": [
      "[I 2024-10-17 09:18:22,411] Trial 13 finished with value: 0.93924078095994 and parameters: {'max_depth': 6, 'learning_rate': 0.03558022966386939, 'reg_lambda': 3.887719525055504, 'min_child_weight': 62}. Best is trial 5 with value: 0.9398918119861324.\n"
     ]
    },
    {
     "name": "stderr",
     "output_type": "stream",
     "text": [
      "[I 2024-10-17 09:19:02,765] Trial 14 finished with value: 0.9393819408868542 and parameters: {'max_depth': 7, 'learning_rate': 0.07469621505517582, 'reg_lambda': 1.9626192455452292, 'min_child_weight': 68}. Best is trial 5 with value: 0.9398918119861324.\n"
     ]
    },
    {
     "name": "stderr",
     "output_type": "stream",
     "text": [
      "[I 2024-10-17 09:19:56,901] Trial 15 finished with value: 0.9391295698315236 and parameters: {'max_depth': 8, 'learning_rate': 0.04674168224193197, 'reg_lambda': 0.16705321839304343, 'min_child_weight': 56}. Best is trial 5 with value: 0.9398918119861324.\n"
     ]
    },
    {
     "name": "stderr",
     "output_type": "stream",
     "text": [
      "[I 2024-10-17 09:21:05,637] Trial 16 finished with value: 0.9374157132345297 and parameters: {'max_depth': 6, 'learning_rate': 0.02524383315766921, 'reg_lambda': 3.399683508301747, 'min_child_weight': 57}. Best is trial 5 with value: 0.9398918119861324.\n"
     ]
    },
    {
     "name": "stderr",
     "output_type": "stream",
     "text": [
      "[I 2024-10-17 09:21:51,665] Trial 17 finished with value: 0.939796413972438 and parameters: {'max_depth': 7, 'learning_rate': 0.06407138989949857, 'reg_lambda': 2.0370841181332757, 'min_child_weight': 68}. Best is trial 5 with value: 0.9398918119861324.\n"
     ]
    },
    {
     "name": "stderr",
     "output_type": "stream",
     "text": [
      "[I 2024-10-17 09:22:20,450] Trial 18 finished with value: 0.9382064286468955 and parameters: {'max_depth': 7, 'learning_rate': 0.09958560470932537, 'reg_lambda': 1.913021920999629, 'min_child_weight': 68}. Best is trial 5 with value: 0.9398918119861324.\n"
     ]
    },
    {
     "name": "stderr",
     "output_type": "stream",
     "text": [
      "[I 2024-10-17 09:23:12,892] Trial 19 finished with value: 0.9385710173530214 and parameters: {'max_depth': 8, 'learning_rate': 0.06558750867551459, 'reg_lambda': 0.6461049464752558, 'min_child_weight': 67}. Best is trial 5 with value: 0.9398918119861324.\n"
     ]
    },
    {
     "name": "stdout",
     "output_type": "stream",
     "text": [
      "Best Parameters: {'max_depth': 6, 'learning_rate': 0.08013082381646511, 'reg_lambda': 0.5713979912330037, 'min_child_weight': 56}\n",
      "Best Score: 0.9398918119861324\n",
      "Start the modelling\n"
     ]
    },
    {
     "name": "stdout",
     "output_type": "stream",
     "text": [
      "[0]\ttrain-mlogloss:1.74520\teval-mlogloss:1.75144\n"
     ]
    },
    {
     "name": "stdout",
     "output_type": "stream",
     "text": [
      "[100]\ttrain-mlogloss:0.11337\teval-mlogloss:0.20944\n"
     ]
    },
    {
     "name": "stdout",
     "output_type": "stream",
     "text": [
      "[200]\ttrain-mlogloss:0.05361\teval-mlogloss:0.17470\n"
     ]
    },
    {
     "name": "stdout",
     "output_type": "stream",
     "text": [
      "[300]\ttrain-mlogloss:0.03071\teval-mlogloss:0.16623\n"
     ]
    },
    {
     "name": "stdout",
     "output_type": "stream",
     "text": [
      "[400]\ttrain-mlogloss:0.01969\teval-mlogloss:0.16440\n"
     ]
    },
    {
     "name": "stdout",
     "output_type": "stream",
     "text": [
      "[500]\ttrain-mlogloss:0.01392\teval-mlogloss:0.16453\n"
     ]
    },
    {
     "name": "stdout",
     "output_type": "stream",
     "text": [
      "[600]\ttrain-mlogloss:0.01070\teval-mlogloss:0.16539\n"
     ]
    },
    {
     "name": "stdout",
     "output_type": "stream",
     "text": [
      "[700]\ttrain-mlogloss:0.00870\teval-mlogloss:0.16648\n"
     ]
    },
    {
     "name": "stdout",
     "output_type": "stream",
     "text": [
      "[800]\ttrain-mlogloss:0.00733\teval-mlogloss:0.16808\n"
     ]
    },
    {
     "name": "stdout",
     "output_type": "stream",
     "text": [
      "[900]\ttrain-mlogloss:0.00638\teval-mlogloss:0.16964\n"
     ]
    },
    {
     "name": "stdout",
     "output_type": "stream",
     "text": [
      "[1000]\ttrain-mlogloss:0.00570\teval-mlogloss:0.17100\n"
     ]
    },
    {
     "name": "stdout",
     "output_type": "stream",
     "text": [
      "[1100]\ttrain-mlogloss:0.00518\teval-mlogloss:0.17232\n"
     ]
    },
    {
     "name": "stdout",
     "output_type": "stream",
     "text": [
      "[1200]\ttrain-mlogloss:0.00479\teval-mlogloss:0.17336\n"
     ]
    },
    {
     "name": "stdout",
     "output_type": "stream",
     "text": [
      "[1300]\ttrain-mlogloss:0.00447\teval-mlogloss:0.17450\n"
     ]
    },
    {
     "name": "stdout",
     "output_type": "stream",
     "text": [
      "[1400]\ttrain-mlogloss:0.00422\teval-mlogloss:0.17529\n"
     ]
    },
    {
     "name": "stdout",
     "output_type": "stream",
     "text": [
      "[1411]\ttrain-mlogloss:0.00419\teval-mlogloss:0.17545\n"
     ]
    },
    {
     "name": "stdout",
     "output_type": "stream",
     "text": [
      "[0]\ttrain-mlogloss:1.74592\teval-mlogloss:1.75006\n"
     ]
    },
    {
     "name": "stdout",
     "output_type": "stream",
     "text": [
      "[100]\ttrain-mlogloss:0.11382\teval-mlogloss:0.19920\n"
     ]
    },
    {
     "name": "stdout",
     "output_type": "stream",
     "text": [
      "[200]\ttrain-mlogloss:0.05464\teval-mlogloss:0.16600\n"
     ]
    },
    {
     "name": "stdout",
     "output_type": "stream",
     "text": [
      "[300]\ttrain-mlogloss:0.03073\teval-mlogloss:0.15706\n"
     ]
    },
    {
     "name": "stdout",
     "output_type": "stream",
     "text": [
      "[400]\ttrain-mlogloss:0.01968\teval-mlogloss:0.15519\n"
     ]
    },
    {
     "name": "stdout",
     "output_type": "stream",
     "text": [
      "[500]\ttrain-mlogloss:0.01411\teval-mlogloss:0.15556\n"
     ]
    },
    {
     "name": "stdout",
     "output_type": "stream",
     "text": [
      "[600]\ttrain-mlogloss:0.01086\teval-mlogloss:0.15676\n"
     ]
    },
    {
     "name": "stdout",
     "output_type": "stream",
     "text": [
      "[700]\ttrain-mlogloss:0.00879\teval-mlogloss:0.15809\n"
     ]
    },
    {
     "name": "stdout",
     "output_type": "stream",
     "text": [
      "[800]\ttrain-mlogloss:0.00743\teval-mlogloss:0.15964\n"
     ]
    },
    {
     "name": "stdout",
     "output_type": "stream",
     "text": [
      "[900]\ttrain-mlogloss:0.00646\teval-mlogloss:0.16124\n"
     ]
    },
    {
     "name": "stdout",
     "output_type": "stream",
     "text": [
      "[1000]\ttrain-mlogloss:0.00575\teval-mlogloss:0.16284\n"
     ]
    },
    {
     "name": "stdout",
     "output_type": "stream",
     "text": [
      "[1100]\ttrain-mlogloss:0.00522\teval-mlogloss:0.16368\n"
     ]
    },
    {
     "name": "stdout",
     "output_type": "stream",
     "text": [
      "[1200]\ttrain-mlogloss:0.00482\teval-mlogloss:0.16477\n"
     ]
    },
    {
     "name": "stdout",
     "output_type": "stream",
     "text": [
      "[1300]\ttrain-mlogloss:0.00449\teval-mlogloss:0.16549\n"
     ]
    },
    {
     "name": "stdout",
     "output_type": "stream",
     "text": [
      "[1400]\ttrain-mlogloss:0.00423\teval-mlogloss:0.16628\n"
     ]
    },
    {
     "name": "stdout",
     "output_type": "stream",
     "text": [
      "[1432]\ttrain-mlogloss:0.00415\teval-mlogloss:0.16641\n"
     ]
    },
    {
     "name": "stdout",
     "output_type": "stream",
     "text": [
      "[0]\ttrain-mlogloss:1.74501\teval-mlogloss:1.75305\n"
     ]
    },
    {
     "name": "stdout",
     "output_type": "stream",
     "text": [
      "[100]\ttrain-mlogloss:0.11317\teval-mlogloss:0.20625\n"
     ]
    },
    {
     "name": "stdout",
     "output_type": "stream",
     "text": [
      "[200]\ttrain-mlogloss:0.05286\teval-mlogloss:0.17075\n"
     ]
    },
    {
     "name": "stdout",
     "output_type": "stream",
     "text": [
      "[300]\ttrain-mlogloss:0.02999\teval-mlogloss:0.16212\n"
     ]
    },
    {
     "name": "stdout",
     "output_type": "stream",
     "text": [
      "[400]\ttrain-mlogloss:0.01951\teval-mlogloss:0.16063\n"
     ]
    },
    {
     "name": "stdout",
     "output_type": "stream",
     "text": [
      "[500]\ttrain-mlogloss:0.01395\teval-mlogloss:0.16098\n"
     ]
    },
    {
     "name": "stdout",
     "output_type": "stream",
     "text": [
      "[600]\ttrain-mlogloss:0.01088\teval-mlogloss:0.16240\n"
     ]
    },
    {
     "name": "stdout",
     "output_type": "stream",
     "text": [
      "[700]\ttrain-mlogloss:0.00882\teval-mlogloss:0.16362\n"
     ]
    },
    {
     "name": "stdout",
     "output_type": "stream",
     "text": [
      "[800]\ttrain-mlogloss:0.00745\teval-mlogloss:0.16545\n"
     ]
    },
    {
     "name": "stdout",
     "output_type": "stream",
     "text": [
      "[900]\ttrain-mlogloss:0.00647\teval-mlogloss:0.16695\n"
     ]
    },
    {
     "name": "stdout",
     "output_type": "stream",
     "text": [
      "[1000]\ttrain-mlogloss:0.00575\teval-mlogloss:0.16836\n"
     ]
    },
    {
     "name": "stdout",
     "output_type": "stream",
     "text": [
      "[1100]\ttrain-mlogloss:0.00522\teval-mlogloss:0.16985\n"
     ]
    },
    {
     "name": "stdout",
     "output_type": "stream",
     "text": [
      "[1200]\ttrain-mlogloss:0.00481\teval-mlogloss:0.17063\n"
     ]
    },
    {
     "name": "stdout",
     "output_type": "stream",
     "text": [
      "[1300]\ttrain-mlogloss:0.00450\teval-mlogloss:0.17160\n"
     ]
    },
    {
     "name": "stdout",
     "output_type": "stream",
     "text": [
      "[1400]\ttrain-mlogloss:0.00423\teval-mlogloss:0.17249\n"
     ]
    },
    {
     "name": "stdout",
     "output_type": "stream",
     "text": [
      "[1450]\ttrain-mlogloss:0.00412\teval-mlogloss:0.17288\n"
     ]
    },
    {
     "name": "stdout",
     "output_type": "stream",
     "text": [
      "[0]\ttrain-mlogloss:1.74618\teval-mlogloss:1.75108\n"
     ]
    },
    {
     "name": "stdout",
     "output_type": "stream",
     "text": [
      "[50]\ttrain-mlogloss:0.21613\teval-mlogloss:0.27071\n"
     ]
    },
    {
     "name": "stdout",
     "output_type": "stream",
     "text": [
      "[100]\ttrain-mlogloss:0.12111\teval-mlogloss:0.18873\n"
     ]
    },
    {
     "name": "stdout",
     "output_type": "stream",
     "text": [
      "[150]\ttrain-mlogloss:0.08639\teval-mlogloss:0.16499\n"
     ]
    },
    {
     "name": "stdout",
     "output_type": "stream",
     "text": [
      "[200]\ttrain-mlogloss:0.06328\teval-mlogloss:0.15207\n"
     ]
    },
    {
     "name": "stdout",
     "output_type": "stream",
     "text": [
      "[250]\ttrain-mlogloss:0.04863\teval-mlogloss:0.14508\n"
     ]
    },
    {
     "name": "stdout",
     "output_type": "stream",
     "text": [
      "[300]\ttrain-mlogloss:0.03807\teval-mlogloss:0.14043\n"
     ]
    },
    {
     "name": "stdout",
     "output_type": "stream",
     "text": [
      "[350]\ttrain-mlogloss:0.03010\teval-mlogloss:0.13761\n"
     ]
    },
    {
     "name": "stdout",
     "output_type": "stream",
     "text": [
      "[400]\ttrain-mlogloss:0.02418\teval-mlogloss:0.13542\n"
     ]
    },
    {
     "name": "stdout",
     "output_type": "stream",
     "text": [
      "[450]\ttrain-mlogloss:0.02016\teval-mlogloss:0.13434\n"
     ]
    },
    {
     "name": "stdout",
     "output_type": "stream",
     "text": [
      "[500]\ttrain-mlogloss:0.01705\teval-mlogloss:0.13385\n"
     ]
    },
    {
     "name": "stdout",
     "output_type": "stream",
     "text": [
      "[547]\ttrain-mlogloss:0.01489\teval-mlogloss:0.13387\n"
     ]
    },
    {
     "name": "stdout",
     "output_type": "stream",
     "text": [
      "\n",
      "Classification Report on Test Set:\n",
      "              precision    recall  f1-score   support\n",
      "\n",
      "           0       0.94      0.94      0.94     13073\n",
      "           1       0.95      0.94      0.95     11843\n",
      "           2       0.94      0.95      0.95      8168\n",
      "           3       0.95      0.95      0.95     12427\n",
      "           4       0.94      0.95      0.94     11016\n",
      "           5       0.91      0.93      0.92      8369\n",
      "           6       0.99      0.99      0.99     13279\n",
      "\n",
      "    accuracy                           0.95     78175\n",
      "   macro avg       0.95      0.95      0.95     78175\n",
      "weighted avg       0.95      0.95      0.95     78175\n",
      "\n"
     ]
    },
    {
     "data": {
      "image/png": "[encoded data removed]",
      "text/plain": [
       "<Figure size 640x480 with 1 Axes>"
      ]
     },
     "metadata": {},
     "output_type": "display_data"
    },
    {
     "data": {
      "image/png": "[encoded data removed]",
      "text/plain": [
       "<Figure size 640x480 with 2 Axes>"
      ]
     },
     "metadata": {},
     "output_type": "display_data"
    },
    {
     "name": "stdout",
     "output_type": "stream",
     "text": [
      "{'average_accuracy': 0.9435871841143347, 'average_f1_macro': np.float64(0.9412785760513372), 'average_f1_micro': np.float64(0.9435871841143347), 'average_auc': np.float64(0.9972886158314433), 'average_acc_kelas_generatif': 0.9463004906314766, 'average_acc_fase_padi': 0.9404498741721049}\n",
      "{'val_accuracy': 0.9494851295171091, 'val_f1_macro': np.float64(0.9474898556768164), 'val_f1_micro': np.float64(0.9494851295171091), 'val_auc': np.float64(0.9980072590638548), 'val_acc_kelas_generatif': 0.9512352136477026, 'val_acc_fase_padi': 0.9459428361025453, 'val_relative_acc': np.float64(99.74958427076201)}\n",
      "=============================================================================\n",
      "=============================================================================\n",
      "CLUSTER:  2\n"
     ]
    },
    {
     "name": "stderr",
     "output_type": "stream",
     "text": [
      "[I 2024-10-17 09:25:16,551] A new study created in memory with name: no-name-6a2236ed-687f-4d35-b1b6-8ccaae58dfb7\n"
     ]
    },
    {
     "name": "stdout",
     "output_type": "stream",
     "text": [
      "[6 4 3 0 2 1 5]\n",
      "[0 1 2 3 4 5 6]\n",
      "Mapping of original to encoded classes: {np.int64(0): np.int64(0), np.int64(1): np.int64(1), np.int64(2): np.int64(2), np.int64(3): np.int64(3), np.int64(4): np.int64(4), np.int64(5): np.int64(5), np.int64(6): np.int64(6)}\n",
      "Build Best Parameter using Optuna-Hyperparameter Tuning\n"
     ]
    },
    {
     "name": "stderr",
     "output_type": "stream",
     "text": [
      "[I 2024-10-17 09:25:43,736] Trial 0 finished with value: 0.8388674390415022 and parameters: {'max_depth': 10, 'learning_rate': 0.051095862135958764, 'reg_lambda': 1.5760272492767908, 'min_child_weight': 55}. Best is trial 0 with value: 0.8388674390415022.\n"
     ]
    },
    {
     "name": "stderr",
     "output_type": "stream",
     "text": [
      "[I 2024-10-17 09:26:06,638] Trial 1 finished with value: 0.8390717585041033 and parameters: {'max_depth': 6, 'learning_rate': 0.0897854252282301, 'reg_lambda': 3.680655686159189, 'min_child_weight': 74}. Best is trial 1 with value: 0.8390717585041033.\n"
     ]
    },
    {
     "name": "stderr",
     "output_type": "stream",
     "text": [
      "[I 2024-10-17 09:26:44,892] Trial 2 finished with value: 0.8411772879701255 and parameters: {'max_depth': 7, 'learning_rate': 0.05096051928851941, 'reg_lambda': 0.11978988411614405, 'min_child_weight': 51}. Best is trial 2 with value: 0.8411772879701255.\n"
     ]
    },
    {
     "name": "stderr",
     "output_type": "stream",
     "text": [
      "[I 2024-10-17 09:27:34,362] Trial 3 finished with value: 0.8415402222138487 and parameters: {'max_depth': 10, 'learning_rate': 0.04418382934501583, 'reg_lambda': 0.4516329890232449, 'min_child_weight': 62}. Best is trial 3 with value: 0.8415402222138487.\n"
     ]
    },
    {
     "name": "stderr",
     "output_type": "stream",
     "text": [
      "[I 2024-10-17 09:29:03,004] Trial 4 finished with value: 0.8355503360317004 and parameters: {'max_depth': 8, 'learning_rate': 0.01306177942205284, 'reg_lambda': 0.5434935690914616, 'min_child_weight': 99}. Best is trial 3 with value: 0.8415402222138487.\n"
     ]
    },
    {
     "name": "stderr",
     "output_type": "stream",
     "text": [
      "[I 2024-10-17 09:29:30,527] Trial 5 finished with value: 0.8373373952872468 and parameters: {'max_depth': 8, 'learning_rate': 0.08542786166045689, 'reg_lambda': 0.33591513996355626, 'min_child_weight': 97}. Best is trial 3 with value: 0.8415402222138487.\n"
     ]
    },
    {
     "name": "stderr",
     "output_type": "stream",
     "text": [
      "[I 2024-10-17 09:30:40,364] Trial 6 finished with value: 0.8396628360831729 and parameters: {'max_depth': 10, 'learning_rate': 0.02908674030147578, 'reg_lambda': 2.8486871415551227, 'min_child_weight': 56}. Best is trial 3 with value: 0.8415402222138487.\n"
     ]
    },
    {
     "name": "stderr",
     "output_type": "stream",
     "text": [
      "[I 2024-10-17 09:31:07,964] Trial 7 finished with value: 0.8398320376948701 and parameters: {'max_depth': 9, 'learning_rate': 0.05750528656878257, 'reg_lambda': 1.4379274837826814, 'min_child_weight': 57}. Best is trial 3 with value: 0.8415402222138487.\n"
     ]
    },
    {
     "name": "stderr",
     "output_type": "stream",
     "text": [
      "[I 2024-10-17 09:31:51,760] Trial 8 finished with value: 0.8381808491203833 and parameters: {'max_depth': 6, 'learning_rate': 0.04249110641683284, 'reg_lambda': 0.4976658567988774, 'min_child_weight': 93}. Best is trial 3 with value: 0.8415402222138487.\n"
     ]
    },
    {
     "name": "stderr",
     "output_type": "stream",
     "text": [
      "[I 2024-10-17 09:32:22,475] Trial 9 finished with value: 0.8395040518455593 and parameters: {'max_depth': 6, 'learning_rate': 0.07952028427764883, 'reg_lambda': 3.475036783127443, 'min_child_weight': 77}. Best is trial 3 with value: 0.8415402222138487.\n"
     ]
    },
    {
     "name": "stderr",
     "output_type": "stream",
     "text": [
      "[I 2024-10-17 09:32:53,492] Trial 10 finished with value: 0.8411347471256166 and parameters: {'max_depth': 9, 'learning_rate': 0.06803729599296769, 'reg_lambda': 4.9747604061808115, 'min_child_weight': 71}. Best is trial 3 with value: 0.8415402222138487.\n"
     ]
    },
    {
     "name": "stderr",
     "output_type": "stream",
     "text": [
      "[I 2024-10-17 09:33:52,457] Trial 11 finished with value: 0.8400585525924952 and parameters: {'max_depth': 7, 'learning_rate': 0.032813648995175304, 'reg_lambda': 1.4633837131340963, 'min_child_weight': 50}. Best is trial 3 with value: 0.8415402222138487.\n"
     ]
    },
    {
     "name": "stderr",
     "output_type": "stream",
     "text": [
      "[I 2024-10-17 09:34:26,935] Trial 12 finished with value: 0.8415863904834855 and parameters: {'max_depth': 7, 'learning_rate': 0.06427601195028218, 'reg_lambda': 0.12649310339975658, 'min_child_weight': 64}. Best is trial 12 with value: 0.8415863904834855.\n"
     ]
    },
    {
     "name": "stderr",
     "output_type": "stream",
     "text": [
      "[I 2024-10-17 09:34:59,785] Trial 13 finished with value: 0.8421031154443042 and parameters: {'max_depth': 7, 'learning_rate': 0.06555306741160075, 'reg_lambda': 1.1423386558456634, 'min_child_weight': 67}. Best is trial 13 with value: 0.8421031154443042.\n"
     ]
    },
    {
     "name": "stderr",
     "output_type": "stream",
     "text": [
      "[I 2024-10-17 09:35:30,697] Trial 14 finished with value: 0.8388944053337942 and parameters: {'max_depth': 7, 'learning_rate': 0.06909581985067285, 'reg_lambda': 1.9069563788527373, 'min_child_weight': 67}. Best is trial 13 with value: 0.8421031154443042.\n"
     ]
    },
    {
     "name": "stderr",
     "output_type": "stream",
     "text": [
      "[I 2024-10-17 09:35:58,936] Trial 15 finished with value: 0.8380683711421413 and parameters: {'max_depth': 7, 'learning_rate': 0.06961725458908699, 'reg_lambda': 1.0947730725360778, 'min_child_weight': 84}. Best is trial 13 with value: 0.8421031154443042.\n"
     ]
    },
    {
     "name": "stderr",
     "output_type": "stream",
     "text": [
      "[I 2024-10-17 09:36:15,574] Trial 16 finished with value: 0.8399001582194233 and parameters: {'max_depth': 8, 'learning_rate': 0.09664073190525493, 'reg_lambda': 2.3552269033460087, 'min_child_weight': 65}. Best is trial 13 with value: 0.8421031154443042.\n"
     ]
    },
    {
     "name": "stderr",
     "output_type": "stream",
     "text": [
      "[I 2024-10-17 09:36:42,719] Trial 17 finished with value: 0.8400833843233438 and parameters: {'max_depth': 7, 'learning_rate': 0.061373956038849875, 'reg_lambda': 0.9165011919800778, 'min_child_weight': 81}. Best is trial 13 with value: 0.8421031154443042.\n"
     ]
    },
    {
     "name": "stderr",
     "output_type": "stream",
     "text": [
      "[I 2024-10-17 09:37:09,538] Trial 18 finished with value: 0.841101201536769 and parameters: {'max_depth': 9, 'learning_rate': 0.07950620919659399, 'reg_lambda': 0.9071731796860671, 'min_child_weight': 63}. Best is trial 13 with value: 0.8421031154443042.\n"
     ]
    },
    {
     "name": "stderr",
     "output_type": "stream",
     "text": [
      "[I 2024-10-17 09:37:40,291] Trial 19 finished with value: 0.8387331928965059 and parameters: {'max_depth': 6, 'learning_rate': 0.0746124414613315, 'reg_lambda': 2.17164788359965, 'min_child_weight': 70}. Best is trial 13 with value: 0.8421031154443042.\n"
     ]
    },
    {
     "name": "stdout",
     "output_type": "stream",
     "text": [
      "Best Parameters: {'max_depth': 7, 'learning_rate': 0.06555306741160075, 'reg_lambda': 1.1423386558456634, 'min_child_weight': 67}\n",
      "Best Score: 0.8421031154443042\n",
      "Start the modelling\n"
     ]
    },
    {
     "name": "stdout",
     "output_type": "stream",
     "text": [
      "[0]\ttrain-mlogloss:1.80421\teval-mlogloss:1.81416\n"
     ]
    },
    {
     "name": "stdout",
     "output_type": "stream",
     "text": [
      "[100]\ttrain-mlogloss:0.27499\teval-mlogloss:0.48693\n"
     ]
    },
    {
     "name": "stdout",
     "output_type": "stream",
     "text": [
      "[200]\ttrain-mlogloss:0.16735\teval-mlogloss:0.44990\n"
     ]
    },
    {
     "name": "stdout",
     "output_type": "stream",
     "text": [
      "[300]\ttrain-mlogloss:0.10904\teval-mlogloss:0.43966\n"
     ]
    },
    {
     "name": "stdout",
     "output_type": "stream",
     "text": [
      "[400]\ttrain-mlogloss:0.07685\teval-mlogloss:0.44014\n"
     ]
    },
    {
     "name": "stdout",
     "output_type": "stream",
     "text": [
      "[500]\ttrain-mlogloss:0.05712\teval-mlogloss:0.44414\n"
     ]
    },
    {
     "name": "stdout",
     "output_type": "stream",
     "text": [
      "[600]\ttrain-mlogloss:0.04422\teval-mlogloss:0.45037\n"
     ]
    },
    {
     "name": "stdout",
     "output_type": "stream",
     "text": [
      "[700]\ttrain-mlogloss:0.03558\teval-mlogloss:0.45747\n"
     ]
    },
    {
     "name": "stdout",
     "output_type": "stream",
     "text": [
      "[800]\ttrain-mlogloss:0.02955\teval-mlogloss:0.46463\n"
     ]
    },
    {
     "name": "stdout",
     "output_type": "stream",
     "text": [
      "[900]\ttrain-mlogloss:0.02509\teval-mlogloss:0.47121\n"
     ]
    },
    {
     "name": "stdout",
     "output_type": "stream",
     "text": [
      "[1000]\ttrain-mlogloss:0.02180\teval-mlogloss:0.47709\n"
     ]
    },
    {
     "name": "stdout",
     "output_type": "stream",
     "text": [
      "[1100]\ttrain-mlogloss:0.01925\teval-mlogloss:0.48265\n"
     ]
    },
    {
     "name": "stdout",
     "output_type": "stream",
     "text": [
      "[1200]\ttrain-mlogloss:0.01725\teval-mlogloss:0.48794\n"
     ]
    },
    {
     "name": "stdout",
     "output_type": "stream",
     "text": [
      "[1300]\ttrain-mlogloss:0.01567\teval-mlogloss:0.49311\n"
     ]
    },
    {
     "name": "stdout",
     "output_type": "stream",
     "text": [
      "[1330]\ttrain-mlogloss:0.01523\teval-mlogloss:0.49459\n"
     ]
    },
    {
     "name": "stdout",
     "output_type": "stream",
     "text": [
      "[0]\ttrain-mlogloss:1.80435\teval-mlogloss:1.81326\n"
     ]
    },
    {
     "name": "stdout",
     "output_type": "stream",
     "text": [
      "[100]\ttrain-mlogloss:0.28397\teval-mlogloss:0.47937\n"
     ]
    },
    {
     "name": "stdout",
     "output_type": "stream",
     "text": [
      "[200]\ttrain-mlogloss:0.16837\teval-mlogloss:0.43918\n"
     ]
    },
    {
     "name": "stdout",
     "output_type": "stream",
     "text": [
      "[300]\ttrain-mlogloss:0.11110\teval-mlogloss:0.42954\n"
     ]
    },
    {
     "name": "stdout",
     "output_type": "stream",
     "text": [
      "[400]\ttrain-mlogloss:0.07640\teval-mlogloss:0.42732\n"
     ]
    },
    {
     "name": "stdout",
     "output_type": "stream",
     "text": [
      "[500]\ttrain-mlogloss:0.05584\teval-mlogloss:0.42997\n"
     ]
    },
    {
     "name": "stdout",
     "output_type": "stream",
     "text": [
      "[600]\ttrain-mlogloss:0.04278\teval-mlogloss:0.43441\n"
     ]
    },
    {
     "name": "stdout",
     "output_type": "stream",
     "text": [
      "[700]\ttrain-mlogloss:0.03467\teval-mlogloss:0.44045\n"
     ]
    },
    {
     "name": "stdout",
     "output_type": "stream",
     "text": [
      "[800]\ttrain-mlogloss:0.02893\teval-mlogloss:0.44632\n"
     ]
    },
    {
     "name": "stdout",
     "output_type": "stream",
     "text": [
      "[900]\ttrain-mlogloss:0.02468\teval-mlogloss:0.45237\n"
     ]
    },
    {
     "name": "stdout",
     "output_type": "stream",
     "text": [
      "[1000]\ttrain-mlogloss:0.02142\teval-mlogloss:0.45833\n"
     ]
    },
    {
     "name": "stdout",
     "output_type": "stream",
     "text": [
      "[1100]\ttrain-mlogloss:0.01888\teval-mlogloss:0.46424\n"
     ]
    },
    {
     "name": "stdout",
     "output_type": "stream",
     "text": [
      "[1200]\ttrain-mlogloss:0.01690\teval-mlogloss:0.46942\n"
     ]
    },
    {
     "name": "stdout",
     "output_type": "stream",
     "text": [
      "[1300]\ttrain-mlogloss:0.01533\teval-mlogloss:0.47495\n"
     ]
    },
    {
     "name": "stdout",
     "output_type": "stream",
     "text": [
      "[1400]\ttrain-mlogloss:0.01406\teval-mlogloss:0.47951\n"
     ]
    },
    {
     "name": "stdout",
     "output_type": "stream",
     "text": [
      "[1402]\ttrain-mlogloss:0.01404\teval-mlogloss:0.47957\n"
     ]
    },
    {
     "name": "stdout",
     "output_type": "stream",
     "text": [
      "[0]\ttrain-mlogloss:1.80497\teval-mlogloss:1.81333\n"
     ]
    },
    {
     "name": "stdout",
     "output_type": "stream",
     "text": [
      "[100]\ttrain-mlogloss:0.27890\teval-mlogloss:0.48986\n"
     ]
    },
    {
     "name": "stdout",
     "output_type": "stream",
     "text": [
      "[200]\ttrain-mlogloss:0.16858\teval-mlogloss:0.45661\n"
     ]
    },
    {
     "name": "stdout",
     "output_type": "stream",
     "text": [
      "[300]\ttrain-mlogloss:0.11079\teval-mlogloss:0.44749\n"
     ]
    },
    {
     "name": "stdout",
     "output_type": "stream",
     "text": [
      "[400]\ttrain-mlogloss:0.07627\teval-mlogloss:0.44655\n"
     ]
    },
    {
     "name": "stdout",
     "output_type": "stream",
     "text": [
      "[500]\ttrain-mlogloss:0.05665\teval-mlogloss:0.44871\n"
     ]
    },
    {
     "name": "stdout",
     "output_type": "stream",
     "text": [
      "[600]\ttrain-mlogloss:0.04346\teval-mlogloss:0.45444\n"
     ]
    },
    {
     "name": "stdout",
     "output_type": "stream",
     "text": [
      "[700]\ttrain-mlogloss:0.03510\teval-mlogloss:0.46110\n"
     ]
    },
    {
     "name": "stdout",
     "output_type": "stream",
     "text": [
      "[800]\ttrain-mlogloss:0.02900\teval-mlogloss:0.46892\n"
     ]
    },
    {
     "name": "stdout",
     "output_type": "stream",
     "text": [
      "[900]\ttrain-mlogloss:0.02473\teval-mlogloss:0.47563\n"
     ]
    },
    {
     "name": "stdout",
     "output_type": "stream",
     "text": [
      "[1000]\ttrain-mlogloss:0.02141\teval-mlogloss:0.48193\n"
     ]
    },
    {
     "name": "stdout",
     "output_type": "stream",
     "text": [
      "[1100]\ttrain-mlogloss:0.01905\teval-mlogloss:0.48741\n"
     ]
    },
    {
     "name": "stdout",
     "output_type": "stream",
     "text": [
      "[1200]\ttrain-mlogloss:0.01708\teval-mlogloss:0.49299\n"
     ]
    },
    {
     "name": "stdout",
     "output_type": "stream",
     "text": [
      "[1300]\ttrain-mlogloss:0.01549\teval-mlogloss:0.49800\n"
     ]
    },
    {
     "name": "stdout",
     "output_type": "stream",
     "text": [
      "[1352]\ttrain-mlogloss:0.01479\teval-mlogloss:0.50058\n"
     ]
    },
    {
     "name": "stdout",
     "output_type": "stream",
     "text": [
      "[0]\ttrain-mlogloss:1.80400\teval-mlogloss:1.81251\n"
     ]
    },
    {
     "name": "stdout",
     "output_type": "stream",
     "text": [
      "[50]\ttrain-mlogloss:0.43540\teval-mlogloss:0.56947\n"
     ]
    },
    {
     "name": "stdout",
     "output_type": "stream",
     "text": [
      "[100]\ttrain-mlogloss:0.29976\teval-mlogloss:0.47870\n"
     ]
    },
    {
     "name": "stdout",
     "output_type": "stream",
     "text": [
      "[150]\ttrain-mlogloss:0.24185\teval-mlogloss:0.45367\n"
     ]
    },
    {
     "name": "stdout",
     "output_type": "stream",
     "text": [
      "[200]\ttrain-mlogloss:0.19757\teval-mlogloss:0.43972\n"
     ]
    },
    {
     "name": "stdout",
     "output_type": "stream",
     "text": [
      "[250]\ttrain-mlogloss:0.16262\teval-mlogloss:0.43134\n"
     ]
    },
    {
     "name": "stdout",
     "output_type": "stream",
     "text": [
      "[300]\ttrain-mlogloss:0.13750\teval-mlogloss:0.42731\n"
     ]
    },
    {
     "name": "stdout",
     "output_type": "stream",
     "text": [
      "[350]\ttrain-mlogloss:0.11652\teval-mlogloss:0.42482\n"
     ]
    },
    {
     "name": "stdout",
     "output_type": "stream",
     "text": [
      "[400]\ttrain-mlogloss:0.10016\teval-mlogloss:0.42404\n"
     ]
    },
    {
     "name": "stdout",
     "output_type": "stream",
     "text": [
      "[450]\ttrain-mlogloss:0.08603\teval-mlogloss:0.42388\n"
     ]
    },
    {
     "name": "stdout",
     "output_type": "stream",
     "text": [
      "[500]\ttrain-mlogloss:0.07435\teval-mlogloss:0.42455\n"
     ]
    },
    {
     "name": "stdout",
     "output_type": "stream",
     "text": [
      "[516]\ttrain-mlogloss:0.07127\teval-mlogloss:0.42484\n"
     ]
    },
    {
     "name": "stdout",
     "output_type": "stream",
     "text": [
      "\n",
      "Classification Report on Test Set:\n",
      "              precision    recall  f1-score   support\n",
      "\n",
      "           0       0.92      0.90      0.91     11921\n",
      "           1       0.91      0.94      0.92      5262\n",
      "           2       0.93      0.93      0.93      4409\n",
      "           3       0.91      0.88      0.90      5403\n",
      "           4       0.75      0.69      0.72      6360\n",
      "           5       0.73      0.67      0.70      5362\n",
      "           6       0.82      0.90      0.85     12353\n",
      "\n",
      "    accuracy                           0.85     51070\n",
      "   macro avg       0.85      0.84      0.85     51070\n",
      "weighted avg       0.85      0.85      0.85     51070\n",
      "\n"
     ]
    },
    {
     "data": {
      "image/png": "[encoded data removed]",
      "text/plain": [
       "<Figure size 640x480 with 1 Axes>"
      ]
     },
     "metadata": {},
     "output_type": "display_data"
    },
    {
     "data": {
      "image/png": "[encoded data removed]",
      "text/plain": [
       "<Figure size 640x480 with 2 Axes>"
      ]
     },
     "metadata": {},
     "output_type": "display_data"
    },
    {
     "name": "stdout",
     "output_type": "stream",
     "text": [
      "{'average_accuracy': 0.8492711226747471, 'average_f1_macro': np.float64(0.8407481111553986), 'average_f1_micro': np.float64(0.8492711226747471), 'average_auc': np.float64(0.9752830437345076), 'average_acc_kelas_generatif': 0.8544905008635578, 'average_acc_fase_padi': 0.8357282821685174}\n",
      "{'val_accuracy': 0.8532014881535148, 'val_f1_macro': np.float64(0.8472555354856013), 'val_f1_micro': np.float64(0.8532014881535148), 'val_auc': np.float64(0.9767192042176965), 'val_acc_kelas_generatif': 0.8772903942254303, 'val_acc_fase_padi': 0.8508444527386395, 'val_relative_acc': np.float64(99.5210285282131)}\n",
      "=============================================================================\n",
      "=============================================================================\n",
      "CLUSTER:  3\n"
     ]
    },
    {
     "name": "stderr",
     "output_type": "stream",
     "text": [
      "[I 2024-10-17 09:39:44,231] A new study created in memory with name: no-name-aa1ede84-e8fc-4f73-be66-45b8b7ba0767\n"
     ]
    },
    {
     "name": "stdout",
     "output_type": "stream",
     "text": [
      "[5 6 2 3 1 4 0]\n",
      "[0 1 2 3 4 5 6]\n",
      "Mapping of original to encoded classes: {np.int64(0): np.int64(0), np.int64(1): np.int64(1), np.int64(2): np.int64(2), np.int64(3): np.int64(3), np.int64(4): np.int64(4), np.int64(5): np.int64(5), np.int64(6): np.int64(6)}\n",
      "Build Best Parameter using Optuna-Hyperparameter Tuning\n"
     ]
    },
    {
     "name": "stderr",
     "output_type": "stream",
     "text": [
      "[I 2024-10-17 09:40:19,193] Trial 0 finished with value: 0.6767143657630145 and parameters: {'max_depth': 9, 'learning_rate': 0.06323813876779932, 'reg_lambda': 1.7017120421728822, 'min_child_weight': 66}. Best is trial 0 with value: 0.6767143657630145.\n"
     ]
    },
    {
     "name": "stderr",
     "output_type": "stream",
     "text": [
      "[I 2024-10-17 09:40:42,940] Trial 1 finished with value: 0.6745925016683877 and parameters: {'max_depth': 9, 'learning_rate': 0.09763947797369288, 'reg_lambda': 1.1574631450636368, 'min_child_weight': 70}. Best is trial 0 with value: 0.6767143657630145.\n"
     ]
    },
    {
     "name": "stderr",
     "output_type": "stream",
     "text": [
      "[I 2024-10-17 09:41:11,495] Trial 2 finished with value: 0.6771905905773332 and parameters: {'max_depth': 9, 'learning_rate': 0.08247199961769401, 'reg_lambda': 4.966154079260148, 'min_child_weight': 85}. Best is trial 2 with value: 0.6771905905773332.\n"
     ]
    },
    {
     "name": "stderr",
     "output_type": "stream",
     "text": [
      "[I 2024-10-17 09:41:34,159] Trial 3 finished with value: 0.6744224033807179 and parameters: {'max_depth': 6, 'learning_rate': 0.07868397386188665, 'reg_lambda': 4.400843415271553, 'min_child_weight': 65}. Best is trial 2 with value: 0.6771905905773332.\n"
     ]
    },
    {
     "name": "stderr",
     "output_type": "stream",
     "text": [
      "[I 2024-10-17 09:42:18,171] Trial 4 finished with value: 0.6748763316306797 and parameters: {'max_depth': 6, 'learning_rate': 0.05326092132897758, 'reg_lambda': 0.9898245292460482, 'min_child_weight': 54}. Best is trial 2 with value: 0.6771905905773332.\n"
     ]
    },
    {
     "name": "stderr",
     "output_type": "stream",
     "text": [
      "[I 2024-10-17 09:43:18,765] Trial 5 finished with value: 0.6742293043300945 and parameters: {'max_depth': 7, 'learning_rate': 0.03600314743188159, 'reg_lambda': 3.809317046295907, 'min_child_weight': 87}. Best is trial 2 with value: 0.6771905905773332.\n"
     ]
    },
    {
     "name": "stderr",
     "output_type": "stream",
     "text": [
      "[I 2024-10-17 09:43:45,658] Trial 6 finished with value: 0.676278804883065 and parameters: {'max_depth': 9, 'learning_rate': 0.09375206093332793, 'reg_lambda': 2.010475835122052, 'min_child_weight': 91}. Best is trial 2 with value: 0.6771905905773332.\n"
     ]
    },
    {
     "name": "stderr",
     "output_type": "stream",
     "text": [
      "[I 2024-10-17 09:44:34,567] Trial 7 finished with value: 0.6790225261755846 and parameters: {'max_depth': 9, 'learning_rate': 0.044056683164374826, 'reg_lambda': 2.5031147143865846, 'min_child_weight': 53}. Best is trial 7 with value: 0.6790225261755846.\n"
     ]
    },
    {
     "name": "stderr",
     "output_type": "stream",
     "text": [
      "[I 2024-10-17 09:45:14,931] Trial 8 finished with value: 0.6758658040698947 and parameters: {'max_depth': 6, 'learning_rate': 0.05587579687065582, 'reg_lambda': 3.935961643235747, 'min_child_weight': 65}. Best is trial 7 with value: 0.6790225261755846.\n"
     ]
    },
    {
     "name": "stderr",
     "output_type": "stream",
     "text": [
      "[I 2024-10-17 09:46:59,980] Trial 9 finished with value: 0.6718067945734449 and parameters: {'max_depth': 10, 'learning_rate': 0.011385992127314674, 'reg_lambda': 1.357039293227048, 'min_child_weight': 90}. Best is trial 7 with value: 0.6790225261755846.\n"
     ]
    },
    {
     "name": "stderr",
     "output_type": "stream",
     "text": [
      "[I 2024-10-17 09:48:13,258] Trial 10 finished with value: 0.6770774666020484 and parameters: {'max_depth': 8, 'learning_rate': 0.02795053265604196, 'reg_lambda': 2.938568811150679, 'min_child_weight': 50}. Best is trial 7 with value: 0.6790225261755846.\n"
     ]
    },
    {
     "name": "stderr",
     "output_type": "stream",
     "text": [
      "[I 2024-10-17 09:48:50,749] Trial 11 finished with value: 0.6777216524816451 and parameters: {'max_depth': 10, 'learning_rate': 0.07495623976914788, 'reg_lambda': 2.8672584233400973, 'min_child_weight': 81}. Best is trial 7 with value: 0.6790225261755846.\n"
     ]
    },
    {
     "name": "stderr",
     "output_type": "stream",
     "text": [
      "[I 2024-10-17 09:49:46,724] Trial 12 finished with value: 0.6781574422378758 and parameters: {'max_depth': 10, 'learning_rate': 0.040337991194926995, 'reg_lambda': 2.6332799777542086, 'min_child_weight': 100}. Best is trial 7 with value: 0.6790225261755846.\n"
     ]
    },
    {
     "name": "stderr",
     "output_type": "stream",
     "text": [
      "[I 2024-10-17 09:50:42,410] Trial 13 finished with value: 0.6744366158712475 and parameters: {'max_depth': 10, 'learning_rate': 0.03913379726574804, 'reg_lambda': 2.393588115364673, 'min_child_weight': 96}. Best is trial 7 with value: 0.6790225261755846.\n"
     ]
    },
    {
     "name": "stderr",
     "output_type": "stream",
     "text": [
      "[I 2024-10-17 09:52:00,594] Trial 14 finished with value: 0.6737658240444797 and parameters: {'max_depth': 8, 'learning_rate': 0.020369226664529602, 'reg_lambda': 0.1662053974849349, 'min_child_weight': 100}. Best is trial 7 with value: 0.6790225261755846.\n"
     ]
    },
    {
     "name": "stderr",
     "output_type": "stream",
     "text": [
      "[I 2024-10-17 09:52:45,341] Trial 15 finished with value: 0.6765733568143725 and parameters: {'max_depth': 8, 'learning_rate': 0.045896930902709666, 'reg_lambda': 3.28744700870842, 'min_child_weight': 76}. Best is trial 7 with value: 0.6790225261755846.\n"
     ]
    },
    {
     "name": "stderr",
     "output_type": "stream",
     "text": [
      "[I 2024-10-17 09:53:19,666] Trial 16 finished with value: 0.6783232987781966 and parameters: {'max_depth': 10, 'learning_rate': 0.0644176984005502, 'reg_lambda': 2.381100973372893, 'min_child_weight': 57}. Best is trial 7 with value: 0.6790225261755846.\n"
     ]
    },
    {
     "name": "stderr",
     "output_type": "stream",
     "text": [
      "[I 2024-10-17 09:53:50,976] Trial 17 finished with value: 0.6783256539173244 and parameters: {'max_depth': 9, 'learning_rate': 0.06937333505833965, 'reg_lambda': 2.0509212845294975, 'min_child_weight': 58}. Best is trial 7 with value: 0.6790225261755846.\n"
     ]
    },
    {
     "name": "stderr",
     "output_type": "stream",
     "text": [
      "[I 2024-10-17 09:54:23,888] Trial 18 finished with value: 0.6780786580439276 and parameters: {'max_depth': 7, 'learning_rate': 0.06785228754957347, 'reg_lambda': 0.4641868180004143, 'min_child_weight': 59}. Best is trial 7 with value: 0.6790225261755846.\n"
     ]
    },
    {
     "name": "stderr",
     "output_type": "stream",
     "text": [
      "[I 2024-10-17 09:55:06,585] Trial 19 finished with value: 0.6781030245455373 and parameters: {'max_depth': 9, 'learning_rate': 0.05157482113390624, 'reg_lambda': 1.876192148317918, 'min_child_weight': 50}. Best is trial 7 with value: 0.6790225261755846.\n"
     ]
    },
    {
     "name": "stdout",
     "output_type": "stream",
     "text": [
      "Best Parameters: {'max_depth': 9, 'learning_rate': 0.044056683164374826, 'reg_lambda': 2.5031147143865846, 'min_child_weight': 53}\n",
      "Best Score: 0.6790225261755846\n",
      "Start the modelling\n"
     ]
    },
    {
     "name": "stdout",
     "output_type": "stream",
     "text": [
      "[0]\ttrain-mlogloss:1.87515\teval-mlogloss:1.89104\n"
     ]
    },
    {
     "name": "stdout",
     "output_type": "stream",
     "text": [
      "[100]\ttrain-mlogloss:0.52683\teval-mlogloss:0.96863\n"
     ]
    },
    {
     "name": "stdout",
     "output_type": "stream",
     "text": [
      "[200]\ttrain-mlogloss:0.34746\teval-mlogloss:0.91276\n"
     ]
    },
    {
     "name": "stdout",
     "output_type": "stream",
     "text": [
      "[300]\ttrain-mlogloss:0.24579\teval-mlogloss:0.89779\n"
     ]
    },
    {
     "name": "stdout",
     "output_type": "stream",
     "text": [
      "[400]\ttrain-mlogloss:0.18031\teval-mlogloss:0.89460\n"
     ]
    },
    {
     "name": "stdout",
     "output_type": "stream",
     "text": [
      "[500]\ttrain-mlogloss:0.13362\teval-mlogloss:0.89689\n"
     ]
    },
    {
     "name": "stdout",
     "output_type": "stream",
     "text": [
      "[600]\ttrain-mlogloss:0.10391\teval-mlogloss:0.90278\n"
     ]
    },
    {
     "name": "stdout",
     "output_type": "stream",
     "text": [
      "[700]\ttrain-mlogloss:0.08361\teval-mlogloss:0.90972\n"
     ]
    },
    {
     "name": "stdout",
     "output_type": "stream",
     "text": [
      "[800]\ttrain-mlogloss:0.06947\teval-mlogloss:0.91843\n"
     ]
    },
    {
     "name": "stdout",
     "output_type": "stream",
     "text": [
      "[900]\ttrain-mlogloss:0.05913\teval-mlogloss:0.92799\n"
     ]
    },
    {
     "name": "stdout",
     "output_type": "stream",
     "text": [
      "[1000]\ttrain-mlogloss:0.05094\teval-mlogloss:0.93796\n"
     ]
    },
    {
     "name": "stdout",
     "output_type": "stream",
     "text": [
      "[1100]\ttrain-mlogloss:0.04454\teval-mlogloss:0.94732\n"
     ]
    },
    {
     "name": "stdout",
     "output_type": "stream",
     "text": [
      "[1200]\ttrain-mlogloss:0.03940\teval-mlogloss:0.95710\n"
     ]
    },
    {
     "name": "stdout",
     "output_type": "stream",
     "text": [
      "[1300]\ttrain-mlogloss:0.03537\teval-mlogloss:0.96593\n"
     ]
    },
    {
     "name": "stdout",
     "output_type": "stream",
     "text": [
      "[1395]\ttrain-mlogloss:0.03205\teval-mlogloss:0.97400\n"
     ]
    },
    {
     "name": "stdout",
     "output_type": "stream",
     "text": [
      "[0]\ttrain-mlogloss:1.87550\teval-mlogloss:1.89121\n"
     ]
    },
    {
     "name": "stdout",
     "output_type": "stream",
     "text": [
      "[100]\ttrain-mlogloss:0.52871\teval-mlogloss:0.97086\n"
     ]
    },
    {
     "name": "stdout",
     "output_type": "stream",
     "text": [
      "[200]\ttrain-mlogloss:0.36049\teval-mlogloss:0.91932\n"
     ]
    },
    {
     "name": "stdout",
     "output_type": "stream",
     "text": [
      "[300]\ttrain-mlogloss:0.25895\teval-mlogloss:0.90752\n"
     ]
    },
    {
     "name": "stdout",
     "output_type": "stream",
     "text": [
      "[400]\ttrain-mlogloss:0.18582\teval-mlogloss:0.90490\n"
     ]
    },
    {
     "name": "stdout",
     "output_type": "stream",
     "text": [
      "[500]\ttrain-mlogloss:0.13828\teval-mlogloss:0.90873\n"
     ]
    },
    {
     "name": "stdout",
     "output_type": "stream",
     "text": [
      "[600]\ttrain-mlogloss:0.10753\teval-mlogloss:0.91624\n"
     ]
    },
    {
     "name": "stdout",
     "output_type": "stream",
     "text": [
      "[700]\ttrain-mlogloss:0.08599\teval-mlogloss:0.92428\n"
     ]
    },
    {
     "name": "stdout",
     "output_type": "stream",
     "text": [
      "[800]\ttrain-mlogloss:0.07084\teval-mlogloss:0.93320\n"
     ]
    },
    {
     "name": "stdout",
     "output_type": "stream",
     "text": [
      "[900]\ttrain-mlogloss:0.06034\teval-mlogloss:0.94305\n"
     ]
    },
    {
     "name": "stdout",
     "output_type": "stream",
     "text": [
      "[1000]\ttrain-mlogloss:0.05206\teval-mlogloss:0.95308\n"
     ]
    },
    {
     "name": "stdout",
     "output_type": "stream",
     "text": [
      "[1100]\ttrain-mlogloss:0.04566\teval-mlogloss:0.96179\n"
     ]
    },
    {
     "name": "stdout",
     "output_type": "stream",
     "text": [
      "[1200]\ttrain-mlogloss:0.04068\teval-mlogloss:0.97156\n"
     ]
    },
    {
     "name": "stdout",
     "output_type": "stream",
     "text": [
      "[1300]\ttrain-mlogloss:0.03633\teval-mlogloss:0.98019\n"
     ]
    },
    {
     "name": "stdout",
     "output_type": "stream",
     "text": [
      "[1388]\ttrain-mlogloss:0.03325\teval-mlogloss:0.98740\n"
     ]
    },
    {
     "name": "stdout",
     "output_type": "stream",
     "text": [
      "[0]\ttrain-mlogloss:1.87599\teval-mlogloss:1.89089\n"
     ]
    },
    {
     "name": "stdout",
     "output_type": "stream",
     "text": [
      "[100]\ttrain-mlogloss:0.52328\teval-mlogloss:0.95234\n"
     ]
    },
    {
     "name": "stdout",
     "output_type": "stream",
     "text": [
      "[200]\ttrain-mlogloss:0.35018\teval-mlogloss:0.89917\n"
     ]
    },
    {
     "name": "stdout",
     "output_type": "stream",
     "text": [
      "[300]\ttrain-mlogloss:0.24753\teval-mlogloss:0.88460\n"
     ]
    },
    {
     "name": "stdout",
     "output_type": "stream",
     "text": [
      "[400]\ttrain-mlogloss:0.17954\teval-mlogloss:0.87887\n"
     ]
    },
    {
     "name": "stdout",
     "output_type": "stream",
     "text": [
      "[500]\ttrain-mlogloss:0.13622\teval-mlogloss:0.88082\n"
     ]
    },
    {
     "name": "stdout",
     "output_type": "stream",
     "text": [
      "[600]\ttrain-mlogloss:0.10567\teval-mlogloss:0.88657\n"
     ]
    },
    {
     "name": "stdout",
     "output_type": "stream",
     "text": [
      "[700]\ttrain-mlogloss:0.08588\teval-mlogloss:0.89312\n"
     ]
    },
    {
     "name": "stdout",
     "output_type": "stream",
     "text": [
      "[800]\ttrain-mlogloss:0.07077\teval-mlogloss:0.90081\n"
     ]
    },
    {
     "name": "stdout",
     "output_type": "stream",
     "text": [
      "[900]\ttrain-mlogloss:0.05946\teval-mlogloss:0.90841\n"
     ]
    },
    {
     "name": "stdout",
     "output_type": "stream",
     "text": [
      "[1000]\ttrain-mlogloss:0.05092\teval-mlogloss:0.91711\n"
     ]
    },
    {
     "name": "stdout",
     "output_type": "stream",
     "text": [
      "[1100]\ttrain-mlogloss:0.04459\teval-mlogloss:0.92586\n"
     ]
    },
    {
     "name": "stdout",
     "output_type": "stream",
     "text": [
      "[1200]\ttrain-mlogloss:0.03955\teval-mlogloss:0.93483\n"
     ]
    },
    {
     "name": "stdout",
     "output_type": "stream",
     "text": [
      "[1300]\ttrain-mlogloss:0.03552\teval-mlogloss:0.94330\n"
     ]
    },
    {
     "name": "stdout",
     "output_type": "stream",
     "text": [
      "[1400]\ttrain-mlogloss:0.03210\teval-mlogloss:0.95089\n"
     ]
    },
    {
     "name": "stdout",
     "output_type": "stream",
     "text": [
      "[1407]\ttrain-mlogloss:0.03189\teval-mlogloss:0.95171\n"
     ]
    },
    {
     "name": "stdout",
     "output_type": "stream",
     "text": [
      "[0]\ttrain-mlogloss:1.87504\teval-mlogloss:1.88988\n"
     ]
    },
    {
     "name": "stdout",
     "output_type": "stream",
     "text": [
      "[50]\ttrain-mlogloss:0.78708\teval-mlogloss:1.07019\n"
     ]
    },
    {
     "name": "stdout",
     "output_type": "stream",
     "text": [
      "[100]\ttrain-mlogloss:0.55862\teval-mlogloss:0.94437\n"
     ]
    },
    {
     "name": "stdout",
     "output_type": "stream",
     "text": [
      "[150]\ttrain-mlogloss:0.45999\teval-mlogloss:0.90670\n"
     ]
    },
    {
     "name": "stdout",
     "output_type": "stream",
     "text": [
      "[200]\ttrain-mlogloss:0.39501\teval-mlogloss:0.88858\n"
     ]
    },
    {
     "name": "stdout",
     "output_type": "stream",
     "text": [
      "[250]\ttrain-mlogloss:0.34035\teval-mlogloss:0.87748\n"
     ]
    },
    {
     "name": "stdout",
     "output_type": "stream",
     "text": [
      "[300]\ttrain-mlogloss:0.29591\teval-mlogloss:0.87006\n"
     ]
    },
    {
     "name": "stdout",
     "output_type": "stream",
     "text": [
      "[350]\ttrain-mlogloss:0.25986\teval-mlogloss:0.86539\n"
     ]
    },
    {
     "name": "stdout",
     "output_type": "stream",
     "text": [
      "[400]\ttrain-mlogloss:0.22549\teval-mlogloss:0.86151\n"
     ]
    },
    {
     "name": "stdout",
     "output_type": "stream",
     "text": [
      "[450]\ttrain-mlogloss:0.19544\teval-mlogloss:0.85910\n"
     ]
    },
    {
     "name": "stdout",
     "output_type": "stream",
     "text": [
      "[500]\ttrain-mlogloss:0.17263\teval-mlogloss:0.85869\n"
     ]
    },
    {
     "name": "stdout",
     "output_type": "stream",
     "text": [
      "[550]\ttrain-mlogloss:0.15268\teval-mlogloss:0.85862\n"
     ]
    },
    {
     "name": "stdout",
     "output_type": "stream",
     "text": [
      "[587]\ttrain-mlogloss:0.13987\teval-mlogloss:0.85943\n"
     ]
    },
    {
     "name": "stdout",
     "output_type": "stream",
     "text": [
      "\n",
      "Classification Report on Test Set:\n",
      "              precision    recall  f1-score   support\n",
      "\n",
      "           0       0.66      0.58      0.62      6132\n",
      "           1       0.82      0.86      0.84      3997\n",
      "           2       0.68      0.57      0.62      5728\n",
      "           3       0.83      0.88      0.86      4692\n",
      "           4       0.71      0.66      0.69      5641\n",
      "           5       0.57      0.46      0.51      6011\n",
      "           6       0.66      0.80      0.73     12794\n",
      "\n",
      "    accuracy                           0.69     44995\n",
      "   macro avg       0.71      0.69      0.70     44995\n",
      "weighted avg       0.69      0.69      0.69     44995\n",
      "\n"
     ]
    },
    {
     "data": {
      "image/png": "[encoded data removed]",
      "text/plain": [
       "<Figure size 640x480 with 1 Axes>"
      ]
     },
     "metadata": {},
     "output_type": "display_data"
    },
    {
     "data": {
      "image/png": "[encoded data removed]",
      "text/plain": [
       "<Figure size 640x480 with 2 Axes>"
      ]
     },
     "metadata": {},
     "output_type": "display_data"
    },
    {
     "name": "stdout",
     "output_type": "stream",
     "text": [
      "{'average_accuracy': 0.6867710544413933, 'average_f1_macro': np.float64(0.6840392048255062), 'average_f1_micro': np.float64(0.6867710544413933), 'average_auc': np.float64(0.9178542032615215), 'average_acc_kelas_generatif': 0.8851332013553691, 'average_acc_fase_padi': 0.7152158036671542}\n",
      "{'val_accuracy': 0.6942104678297588, 'val_f1_macro': np.float64(0.6950197926047144), 'val_f1_micro': np.float64(0.6942104678297588), 'val_auc': np.float64(0.9247747775909195), 'val_acc_kelas_generatif': 0.8836317135549873, 'val_acc_fase_padi': 0.728387675740353, 'val_relative_acc': np.float64(95.05698005698005)}\n",
      "=============================================================================\n",
      "=============================================================================\n",
      "CLUSTER:  4\n"
     ]
    },
    {
     "name": "stderr",
     "output_type": "stream",
     "text": [
      "[I 2024-10-17 09:57:29,802] A new study created in memory with name: no-name-63973edc-84cb-4f9e-b631-b5c3675f2b1e\n"
     ]
    },
    {
     "name": "stdout",
     "output_type": "stream",
     "text": [
      "[6 5 1 3 4 0 2]\n",
      "[0 1 2 3 4 5 6]\n",
      "Mapping of original to encoded classes: {np.int64(0): np.int64(0), np.int64(1): np.int64(1), np.int64(2): np.int64(2), np.int64(3): np.int64(3), np.int64(4): np.int64(4), np.int64(5): np.int64(5), np.int64(6): np.int64(6)}\n",
      "Build Best Parameter using Optuna-Hyperparameter Tuning\n"
     ]
    },
    {
     "name": "stderr",
     "output_type": "stream",
     "text": [
      "[I 2024-10-17 09:58:01,163] Trial 0 finished with value: 0.7715173955687766 and parameters: {'max_depth': 8, 'learning_rate': 0.06558026369517073, 'reg_lambda': 4.098944573452619, 'min_child_weight': 56}. Best is trial 0 with value: 0.7715173955687766.\n"
     ]
    },
    {
     "name": "stderr",
     "output_type": "stream",
     "text": [
      "[I 2024-10-17 09:58:34,094] Trial 1 finished with value: 0.7753820865922324 and parameters: {'max_depth': 10, 'learning_rate': 0.0895293638297826, 'reg_lambda': 4.112461940541927, 'min_child_weight': 55}. Best is trial 1 with value: 0.7753820865922324.\n"
     ]
    },
    {
     "name": "stderr",
     "output_type": "stream",
     "text": [
      "[I 2024-10-17 09:59:03,868] Trial 2 finished with value: 0.7759342422195196 and parameters: {'max_depth': 9, 'learning_rate': 0.07862582918174624, 'reg_lambda': 2.500390883434955, 'min_child_weight': 60}. Best is trial 2 with value: 0.7759342422195196.\n"
     ]
    },
    {
     "name": "stderr",
     "output_type": "stream",
     "text": [
      "[I 2024-10-17 09:59:46,824] Trial 3 finished with value: 0.7739665551865412 and parameters: {'max_depth': 7, 'learning_rate': 0.04579885017500552, 'reg_lambda': 2.8501577277623804, 'min_child_weight': 54}. Best is trial 2 with value: 0.7759342422195196.\n"
     ]
    },
    {
     "name": "stderr",
     "output_type": "stream",
     "text": [
      "[I 2024-10-17 10:00:15,748] Trial 4 finished with value: 0.7747603331457844 and parameters: {'max_depth': 9, 'learning_rate': 0.07393714234234144, 'reg_lambda': 1.3620386976047059, 'min_child_weight': 56}. Best is trial 2 with value: 0.7759342422195196.\n"
     ]
    },
    {
     "name": "stderr",
     "output_type": "stream",
     "text": [
      "[I 2024-10-17 10:00:40,189] Trial 5 finished with value: 0.7741294053093309 and parameters: {'max_depth': 7, 'learning_rate': 0.09811074387994118, 'reg_lambda': 4.954050927192945, 'min_child_weight': 88}. Best is trial 2 with value: 0.7759342422195196.\n"
     ]
    },
    {
     "name": "stderr",
     "output_type": "stream",
     "text": [
      "[I 2024-10-17 10:01:07,229] Trial 6 finished with value: 0.773376169951748 and parameters: {'max_depth': 7, 'learning_rate': 0.09061638895198218, 'reg_lambda': 2.081987854254018, 'min_child_weight': 97}. Best is trial 2 with value: 0.7759342422195196.\n"
     ]
    },
    {
     "name": "stderr",
     "output_type": "stream",
     "text": [
      "[I 2024-10-17 10:02:09,046] Trial 7 finished with value: 0.7732812155373431 and parameters: {'max_depth': 10, 'learning_rate': 0.032167982852202986, 'reg_lambda': 3.0995041493494306, 'min_child_weight': 73}. Best is trial 2 with value: 0.7759342422195196.\n"
     ]
    },
    {
     "name": "stderr",
     "output_type": "stream",
     "text": [
      "[I 2024-10-17 10:02:53,269] Trial 8 finished with value: 0.7728289555794318 and parameters: {'max_depth': 10, 'learning_rate': 0.04608392640699139, 'reg_lambda': 4.601877552044241, 'min_child_weight': 82}. Best is trial 2 with value: 0.7759342422195196.\n"
     ]
    },
    {
     "name": "stderr",
     "output_type": "stream",
     "text": [
      "[I 2024-10-17 10:03:51,073] Trial 9 finished with value: 0.7739045438784844 and parameters: {'max_depth': 9, 'learning_rate': 0.034490841920552455, 'reg_lambda': 3.3134395887888632, 'min_child_weight': 77}. Best is trial 2 with value: 0.7759342422195196.\n"
     ]
    },
    {
     "name": "stderr",
     "output_type": "stream",
     "text": [
      "[I 2024-10-17 10:05:04,854] Trial 10 finished with value: 0.7674862338894117 and parameters: {'max_depth': 6, 'learning_rate': 0.01583200888055431, 'reg_lambda': 0.3792595919651367, 'min_child_weight': 67}. Best is trial 2 with value: 0.7759342422195196.\n"
     ]
    },
    {
     "name": "stderr",
     "output_type": "stream",
     "text": [
      "[I 2024-10-17 10:05:32,208] Trial 11 finished with value: 0.7747681981174731 and parameters: {'max_depth': 9, 'learning_rate': 0.0818542612328984, 'reg_lambda': 3.7748701932544364, 'min_child_weight': 63}. Best is trial 2 with value: 0.7759342422195196.\n"
     ]
    },
    {
     "name": "stderr",
     "output_type": "stream",
     "text": [
      "[I 2024-10-17 10:06:00,559] Trial 12 finished with value: 0.7752603880998153 and parameters: {'max_depth': 10, 'learning_rate': 0.07130146310645487, 'reg_lambda': 2.0824066460062642, 'min_child_weight': 64}. Best is trial 2 with value: 0.7759342422195196.\n"
     ]
    },
    {
     "name": "stderr",
     "output_type": "stream",
     "text": [
      "[I 2024-10-17 10:06:26,865] Trial 13 finished with value: 0.7753152522693215 and parameters: {'max_depth': 9, 'learning_rate': 0.08438725477224783, 'reg_lambda': 1.2146646599476243, 'min_child_weight': 50}. Best is trial 2 with value: 0.7759342422195196.\n"
     ]
    },
    {
     "name": "stderr",
     "output_type": "stream",
     "text": [
      "[I 2024-10-17 10:06:45,212] Trial 14 finished with value: 0.7747776982381948 and parameters: {'max_depth': 8, 'learning_rate': 0.09997576157136737, 'reg_lambda': 3.8912746949096073, 'min_child_weight': 61}. Best is trial 2 with value: 0.7759342422195196.\n"
     ]
    },
    {
     "name": "stderr",
     "output_type": "stream",
     "text": [
      "[I 2024-10-17 10:07:11,377] Trial 15 finished with value: 0.7755038995307632 and parameters: {'max_depth': 10, 'learning_rate': 0.06601911041257762, 'reg_lambda': 2.143919556901375, 'min_child_weight': 71}. Best is trial 2 with value: 0.7759342422195196.\n"
     ]
    },
    {
     "name": "stderr",
     "output_type": "stream",
     "text": [
      "[I 2024-10-17 10:07:44,324] Trial 16 finished with value: 0.773611795286688 and parameters: {'max_depth': 8, 'learning_rate': 0.05951440319753953, 'reg_lambda': 2.280618695946414, 'min_child_weight': 71}. Best is trial 2 with value: 0.7759342422195196.\n"
     ]
    },
    {
     "name": "stderr",
     "output_type": "stream",
     "text": [
      "[I 2024-10-17 10:08:23,246] Trial 17 finished with value: 0.7739547101570242 and parameters: {'max_depth': 9, 'learning_rate': 0.053138270736473626, 'reg_lambda': 1.4875235133725155, 'min_child_weight': 81}. Best is trial 2 with value: 0.7759342422195196.\n"
     ]
    },
    {
     "name": "stderr",
     "output_type": "stream",
     "text": [
      "[I 2024-10-17 10:08:53,228] Trial 18 finished with value: 0.7733300345810935 and parameters: {'max_depth': 10, 'learning_rate': 0.07339437935651398, 'reg_lambda': 0.5858366715730423, 'min_child_weight': 68}. Best is trial 2 with value: 0.7759342422195196.\n"
     ]
    },
    {
     "name": "stderr",
     "output_type": "stream",
     "text": [
      "[I 2024-10-17 10:09:31,562] Trial 19 finished with value: 0.7737774662916173 and parameters: {'max_depth': 9, 'learning_rate': 0.06167088453362796, 'reg_lambda': 2.670853106953388, 'min_child_weight': 76}. Best is trial 2 with value: 0.7759342422195196.\n"
     ]
    },
    {
     "name": "stdout",
     "output_type": "stream",
     "text": [
      "Best Parameters: {'max_depth': 9, 'learning_rate': 0.07862582918174624, 'reg_lambda': 2.500390883434955, 'min_child_weight': 60}\n",
      "Best Score: 0.7759342422195196\n",
      "Start the modelling\n"
     ]
    },
    {
     "name": "stdout",
     "output_type": "stream",
     "text": [
      "[0]\ttrain-mlogloss:1.79771\teval-mlogloss:1.80888\n"
     ]
    },
    {
     "name": "stdout",
     "output_type": "stream",
     "text": [
      "[100]\ttrain-mlogloss:0.24020\teval-mlogloss:0.57935\n"
     ]
    },
    {
     "name": "stdout",
     "output_type": "stream",
     "text": [
      "[200]\ttrain-mlogloss:0.11951\teval-mlogloss:0.55758\n"
     ]
    },
    {
     "name": "stdout",
     "output_type": "stream",
     "text": [
      "[300]\ttrain-mlogloss:0.07034\teval-mlogloss:0.56172\n"
     ]
    },
    {
     "name": "stdout",
     "output_type": "stream",
     "text": [
      "[400]\ttrain-mlogloss:0.04767\teval-mlogloss:0.57307\n"
     ]
    },
    {
     "name": "stdout",
     "output_type": "stream",
     "text": [
      "[500]\ttrain-mlogloss:0.03513\teval-mlogloss:0.58505\n"
     ]
    },
    {
     "name": "stdout",
     "output_type": "stream",
     "text": [
      "[600]\ttrain-mlogloss:0.02803\teval-mlogloss:0.59646\n"
     ]
    },
    {
     "name": "stdout",
     "output_type": "stream",
     "text": [
      "[700]\ttrain-mlogloss:0.02308\teval-mlogloss:0.60602\n"
     ]
    },
    {
     "name": "stdout",
     "output_type": "stream",
     "text": [
      "[800]\ttrain-mlogloss:0.01960\teval-mlogloss:0.61517\n"
     ]
    },
    {
     "name": "stdout",
     "output_type": "stream",
     "text": [
      "[900]\ttrain-mlogloss:0.01711\teval-mlogloss:0.62309\n"
     ]
    },
    {
     "name": "stdout",
     "output_type": "stream",
     "text": [
      "[1000]\ttrain-mlogloss:0.01521\teval-mlogloss:0.63075\n"
     ]
    },
    {
     "name": "stdout",
     "output_type": "stream",
     "text": [
      "[1100]\ttrain-mlogloss:0.01370\teval-mlogloss:0.63658\n"
     ]
    },
    {
     "name": "stdout",
     "output_type": "stream",
     "text": [
      "[1200]\ttrain-mlogloss:0.01252\teval-mlogloss:0.64318\n"
     ]
    },
    {
     "name": "stdout",
     "output_type": "stream",
     "text": [
      "[1215]\ttrain-mlogloss:0.01237\teval-mlogloss:0.64394\n"
     ]
    },
    {
     "name": "stdout",
     "output_type": "stream",
     "text": [
      "[0]\ttrain-mlogloss:1.79769\teval-mlogloss:1.80825\n"
     ]
    },
    {
     "name": "stdout",
     "output_type": "stream",
     "text": [
      "[100]\ttrain-mlogloss:0.23814\teval-mlogloss:0.58427\n"
     ]
    },
    {
     "name": "stdout",
     "output_type": "stream",
     "text": [
      "[200]\ttrain-mlogloss:0.12024\teval-mlogloss:0.56721\n"
     ]
    },
    {
     "name": "stdout",
     "output_type": "stream",
     "text": [
      "[300]\ttrain-mlogloss:0.07130\teval-mlogloss:0.57547\n"
     ]
    },
    {
     "name": "stdout",
     "output_type": "stream",
     "text": [
      "[400]\ttrain-mlogloss:0.04783\teval-mlogloss:0.58924\n"
     ]
    },
    {
     "name": "stdout",
     "output_type": "stream",
     "text": [
      "[500]\ttrain-mlogloss:0.03525\teval-mlogloss:0.60450\n"
     ]
    },
    {
     "name": "stdout",
     "output_type": "stream",
     "text": [
      "[600]\ttrain-mlogloss:0.02742\teval-mlogloss:0.61841\n"
     ]
    },
    {
     "name": "stdout",
     "output_type": "stream",
     "text": [
      "[700]\ttrain-mlogloss:0.02271\teval-mlogloss:0.63004\n"
     ]
    },
    {
     "name": "stdout",
     "output_type": "stream",
     "text": [
      "[800]\ttrain-mlogloss:0.01930\teval-mlogloss:0.64200\n"
     ]
    },
    {
     "name": "stdout",
     "output_type": "stream",
     "text": [
      "[900]\ttrain-mlogloss:0.01685\teval-mlogloss:0.65129\n"
     ]
    },
    {
     "name": "stdout",
     "output_type": "stream",
     "text": [
      "[1000]\ttrain-mlogloss:0.01494\teval-mlogloss:0.66055\n"
     ]
    },
    {
     "name": "stdout",
     "output_type": "stream",
     "text": [
      "[1100]\ttrain-mlogloss:0.01345\teval-mlogloss:0.66867\n"
     ]
    },
    {
     "name": "stdout",
     "output_type": "stream",
     "text": [
      "[1200]\ttrain-mlogloss:0.01229\teval-mlogloss:0.67616\n"
     ]
    },
    {
     "name": "stdout",
     "output_type": "stream",
     "text": [
      "[1209]\ttrain-mlogloss:0.01220\teval-mlogloss:0.67670\n"
     ]
    },
    {
     "name": "stdout",
     "output_type": "stream",
     "text": [
      "[0]\ttrain-mlogloss:1.79865\teval-mlogloss:1.80790\n"
     ]
    },
    {
     "name": "stdout",
     "output_type": "stream",
     "text": [
      "[100]\ttrain-mlogloss:0.24271\teval-mlogloss:0.57002\n"
     ]
    },
    {
     "name": "stdout",
     "output_type": "stream",
     "text": [
      "[200]\ttrain-mlogloss:0.12420\teval-mlogloss:0.54701\n"
     ]
    },
    {
     "name": "stdout",
     "output_type": "stream",
     "text": [
      "[300]\ttrain-mlogloss:0.07224\teval-mlogloss:0.55220\n"
     ]
    },
    {
     "name": "stdout",
     "output_type": "stream",
     "text": [
      "[400]\ttrain-mlogloss:0.04955\teval-mlogloss:0.56258\n"
     ]
    },
    {
     "name": "stdout",
     "output_type": "stream",
     "text": [
      "[500]\ttrain-mlogloss:0.03667\teval-mlogloss:0.57472\n"
     ]
    },
    {
     "name": "stdout",
     "output_type": "stream",
     "text": [
      "[600]\ttrain-mlogloss:0.02895\teval-mlogloss:0.58583\n"
     ]
    },
    {
     "name": "stdout",
     "output_type": "stream",
     "text": [
      "[700]\ttrain-mlogloss:0.02391\teval-mlogloss:0.59623\n"
     ]
    },
    {
     "name": "stdout",
     "output_type": "stream",
     "text": [
      "[800]\ttrain-mlogloss:0.02025\teval-mlogloss:0.60483\n"
     ]
    },
    {
     "name": "stdout",
     "output_type": "stream",
     "text": [
      "[900]\ttrain-mlogloss:0.01762\teval-mlogloss:0.61255\n"
     ]
    },
    {
     "name": "stdout",
     "output_type": "stream",
     "text": [
      "[1000]\ttrain-mlogloss:0.01559\teval-mlogloss:0.61960\n"
     ]
    },
    {
     "name": "stdout",
     "output_type": "stream",
     "text": [
      "[1100]\ttrain-mlogloss:0.01401\teval-mlogloss:0.62699\n"
     ]
    },
    {
     "name": "stdout",
     "output_type": "stream",
     "text": [
      "[1200]\ttrain-mlogloss:0.01277\teval-mlogloss:0.63413\n"
     ]
    },
    {
     "name": "stdout",
     "output_type": "stream",
     "text": [
      "[1217]\ttrain-mlogloss:0.01258\teval-mlogloss:0.63527\n"
     ]
    },
    {
     "name": "stdout",
     "output_type": "stream",
     "text": [
      "[0]\ttrain-mlogloss:1.79678\teval-mlogloss:1.80484\n"
     ]
    },
    {
     "name": "stdout",
     "output_type": "stream",
     "text": [
      "[50]\ttrain-mlogloss:0.41295\teval-mlogloss:0.62131\n"
     ]
    },
    {
     "name": "stdout",
     "output_type": "stream",
     "text": [
      "[100]\ttrain-mlogloss:0.26982\teval-mlogloss:0.55004\n"
     ]
    },
    {
     "name": "stdout",
     "output_type": "stream",
     "text": [
      "[150]\ttrain-mlogloss:0.19593\teval-mlogloss:0.53013\n"
     ]
    },
    {
     "name": "stdout",
     "output_type": "stream",
     "text": [
      "[200]\ttrain-mlogloss:0.14555\teval-mlogloss:0.52224\n"
     ]
    },
    {
     "name": "stdout",
     "output_type": "stream",
     "text": [
      "[250]\ttrain-mlogloss:0.11203\teval-mlogloss:0.52034\n"
     ]
    },
    {
     "name": "stdout",
     "output_type": "stream",
     "text": [
      "[300]\ttrain-mlogloss:0.08824\teval-mlogloss:0.52109\n"
     ]
    },
    {
     "name": "stdout",
     "output_type": "stream",
     "text": [
      "[313]\ttrain-mlogloss:0.08249\teval-mlogloss:0.52159\n"
     ]
    },
    {
     "name": "stdout",
     "output_type": "stream",
     "text": [
      "\n",
      "Classification Report on Test Set:\n",
      "              precision    recall  f1-score   support\n",
      "\n",
      "           0       0.68      0.57      0.62      6098\n",
      "           1       0.88      0.92      0.90      8700\n",
      "           2       0.87      0.88      0.88      5180\n",
      "           3       0.92      0.94      0.93      9182\n",
      "           4       0.79      0.69      0.74      5679\n",
      "           5       0.63      0.52      0.57      5935\n",
      "           6       0.82      0.96      0.88     12277\n",
      "\n",
      "    accuracy                           0.82     53051\n",
      "   macro avg       0.80      0.78      0.79     53051\n",
      "weighted avg       0.81      0.82      0.81     53051\n",
      "\n"
     ]
    },
    {
     "data": {
      "image/png": "[encoded data removed]",
      "text/plain": [
       "<Figure size 640x480 with 1 Axes>"
      ]
     },
     "metadata": {},
     "output_type": "display_data"
    },
    {
     "data": {
      "image/png": "[encoded data removed]",
      "text/plain": [
       "<Figure size 640x480 with 2 Axes>"
      ]
     },
     "metadata": {},
     "output_type": "display_data"
    },
    {
     "name": "stdout",
     "output_type": "stream",
     "text": [
      "{'average_accuracy': 0.8101605408108344, 'average_f1_macro': np.float64(0.7768906102093771), 'average_f1_micro': np.float64(0.8101605408108344), 'average_auc': np.float64(0.9560624605423907), 'average_acc_kelas_generatif': 0.9402774677060272, 'average_acc_fase_padi': 0.8666073177720967}\n",
      "{'val_accuracy': 0.8190986032308534, 'val_f1_macro': np.float64(0.7884854487874197), 'val_f1_micro': np.float64(0.8190986032308534), 'val_auc': np.float64(0.961577026398665), 'val_acc_kelas_generatif': 0.9402091047702026, 'val_acc_fase_padi': 0.8746042239309697, 'val_relative_acc': np.float64(99.060513080062)}\n",
      "=============================================================================\n",
      "=============================================================================\n",
      "CLUSTER:  5\n"
     ]
    },
    {
     "name": "stderr",
     "output_type": "stream",
     "text": [
      "[I 2024-10-17 10:11:27,801] A new study created in memory with name: no-name-979a2310-1b0a-40d6-ad79-7430e28d5c83\n"
     ]
    },
    {
     "name": "stdout",
     "output_type": "stream",
     "text": [
      "[6 2 3 0 4 5 1]\n",
      "[0 1 2 3 4 5 6]\n",
      "Mapping of original to encoded classes: {np.int64(0): np.int64(0), np.int64(1): np.int64(1), np.int64(2): np.int64(2), np.int64(3): np.int64(3), np.int64(4): np.int64(4), np.int64(5): np.int64(5), np.int64(6): np.int64(6)}\n",
      "Build Best Parameter using Optuna-Hyperparameter Tuning\n"
     ]
    },
    {
     "name": "stderr",
     "output_type": "stream",
     "text": [
      "[I 2024-10-17 10:12:26,429] Trial 0 finished with value: 0.7858686431210788 and parameters: {'max_depth': 10, 'learning_rate': 0.02513950762399547, 'reg_lambda': 3.133022934419882, 'min_child_weight': 79}. Best is trial 0 with value: 0.7858686431210788.\n"
     ]
    },
    {
     "name": "stderr",
     "output_type": "stream",
     "text": [
      "[I 2024-10-17 10:12:51,836] Trial 1 finished with value: 0.781674615912341 and parameters: {'max_depth': 7, 'learning_rate': 0.08906842776673253, 'reg_lambda': 3.0959431945005784, 'min_child_weight': 71}. Best is trial 0 with value: 0.7858686431210788.\n"
     ]
    },
    {
     "name": "stderr",
     "output_type": "stream",
     "text": [
      "[I 2024-10-17 10:14:12,547] Trial 2 finished with value: 0.7823521000676367 and parameters: {'max_depth': 7, 'learning_rate': 0.02494276513239777, 'reg_lambda': 1.0226271030852423, 'min_child_weight': 72}. Best is trial 0 with value: 0.7858686431210788.\n"
     ]
    },
    {
     "name": "stderr",
     "output_type": "stream",
     "text": [
      "[I 2024-10-17 10:14:40,968] Trial 3 finished with value: 0.78732856396515 and parameters: {'max_depth': 10, 'learning_rate': 0.07149350666439877, 'reg_lambda': 2.344678421900885, 'min_child_weight': 66}. Best is trial 3 with value: 0.78732856396515.\n"
     ]
    },
    {
     "name": "stderr",
     "output_type": "stream",
     "text": [
      "[I 2024-10-17 10:15:11,233] Trial 4 finished with value: 0.7856150373142526 and parameters: {'max_depth': 9, 'learning_rate': 0.06734464175978967, 'reg_lambda': 3.2467408091132586, 'min_child_weight': 80}. Best is trial 3 with value: 0.78732856396515.\n"
     ]
    },
    {
     "name": "stderr",
     "output_type": "stream",
     "text": [
      "[I 2024-10-17 10:15:58,513] Trial 5 finished with value: 0.7876450206507118 and parameters: {'max_depth': 10, 'learning_rate': 0.03960937852336819, 'reg_lambda': 2.121206405326418, 'min_child_weight': 52}. Best is trial 5 with value: 0.7876450206507118.\n"
     ]
    },
    {
     "name": "stderr",
     "output_type": "stream",
     "text": [
      "[I 2024-10-17 10:16:29,441] Trial 6 finished with value: 0.7843659153183816 and parameters: {'max_depth': 10, 'learning_rate': 0.07103914043306676, 'reg_lambda': 1.8729179626940025, 'min_child_weight': 97}. Best is trial 5 with value: 0.7876450206507118.\n"
     ]
    },
    {
     "name": "stderr",
     "output_type": "stream",
     "text": [
      "[I 2024-10-17 10:17:00,698] Trial 7 finished with value: 0.7804764241820502 and parameters: {'max_depth': 7, 'learning_rate': 0.06530648927612011, 'reg_lambda': 1.152414750147914, 'min_child_weight': 85}. Best is trial 5 with value: 0.7876450206507118.\n"
     ]
    },
    {
     "name": "stderr",
     "output_type": "stream",
     "text": [
      "[I 2024-10-17 10:17:37,286] Trial 8 finished with value: 0.7838612944769526 and parameters: {'max_depth': 7, 'learning_rate': 0.042163772450748156, 'reg_lambda': 4.197936565513824, 'min_child_weight': 52}. Best is trial 5 with value: 0.7876450206507118.\n"
     ]
    },
    {
     "name": "stderr",
     "output_type": "stream",
     "text": [
      "[I 2024-10-17 10:18:03,043] Trial 9 finished with value: 0.7870781994272554 and parameters: {'max_depth': 10, 'learning_rate': 0.07830654416162472, 'reg_lambda': 0.24009465791091947, 'min_child_weight': 64}. Best is trial 5 with value: 0.7876450206507118.\n"
     ]
    },
    {
     "name": "stderr",
     "output_type": "stream",
     "text": [
      "[I 2024-10-17 10:18:43,134] Trial 10 finished with value: 0.7855320226812849 and parameters: {'max_depth': 8, 'learning_rate': 0.047663538876444825, 'reg_lambda': 4.910308622043736, 'min_child_weight': 51}. Best is trial 5 with value: 0.7876450206507118.\n"
     ]
    },
    {
     "name": "stderr",
     "output_type": "stream",
     "text": [
      "[I 2024-10-17 10:19:26,379] Trial 11 finished with value: 0.7840642059127059 and parameters: {'max_depth': 9, 'learning_rate': 0.04033827601762764, 'reg_lambda': 1.8478244977918297, 'min_child_weight': 61}. Best is trial 5 with value: 0.7876450206507118.\n"
     ]
    },
    {
     "name": "stderr",
     "output_type": "stream",
     "text": [
      "[I 2024-10-17 10:21:22,662] Trial 12 finished with value: 0.7830252600467698 and parameters: {'max_depth': 9, 'learning_rate': 0.010101024797307876, 'reg_lambda': 2.177036286417862, 'min_child_weight': 60}. Best is trial 5 with value: 0.7876450206507118.\n"
     ]
    },
    {
     "name": "stderr",
     "output_type": "stream",
     "text": [
      "[I 2024-10-17 10:21:42,997] Trial 13 finished with value: 0.7846523661267443 and parameters: {'max_depth': 9, 'learning_rate': 0.09613089388727283, 'reg_lambda': 2.6024337621999, 'min_child_weight': 56}. Best is trial 5 with value: 0.7876450206507118.\n"
     ]
    },
    {
     "name": "stderr",
     "output_type": "stream",
     "text": [
      "[I 2024-10-17 10:22:15,861] Trial 14 finished with value: 0.7810411168491522 and parameters: {'max_depth': 6, 'learning_rate': 0.05628284541229207, 'reg_lambda': 1.290735196321893, 'min_child_weight': 66}. Best is trial 5 with value: 0.7876450206507118.\n"
     ]
    },
    {
     "name": "stderr",
     "output_type": "stream",
     "text": [
      "[I 2024-10-17 10:22:42,788] Trial 15 finished with value: 0.7844865863653192 and parameters: {'max_depth': 10, 'learning_rate': 0.05578370241442269, 'reg_lambda': 3.885784443774564, 'min_child_weight': 90}. Best is trial 5 with value: 0.7876450206507118.\n"
     ]
    },
    {
     "name": "stderr",
     "output_type": "stream",
     "text": [
      "[I 2024-10-17 10:23:40,304] Trial 16 finished with value: 0.7844505978447169 and parameters: {'max_depth': 8, 'learning_rate': 0.02983042173319151, 'reg_lambda': 2.5184504196096578, 'min_child_weight': 68}. Best is trial 5 with value: 0.7876450206507118.\n"
     ]
    },
    {
     "name": "stderr",
     "output_type": "stream",
     "text": [
      "[I 2024-10-17 10:24:13,002] Trial 17 finished with value: 0.7862445970598331 and parameters: {'max_depth': 10, 'learning_rate': 0.08387208175261543, 'reg_lambda': 0.6046334599284333, 'min_child_weight': 57}. Best is trial 5 with value: 0.7876450206507118.\n"
     ]
    },
    {
     "name": "stderr",
     "output_type": "stream",
     "text": [
      "[I 2024-10-17 10:25:06,318] Trial 18 finished with value: 0.7849302230603792 and parameters: {'max_depth': 9, 'learning_rate': 0.034661721146100874, 'reg_lambda': 1.7023654973015416, 'min_child_weight': 76}. Best is trial 5 with value: 0.7876450206507118.\n"
     ]
    },
    {
     "name": "stderr",
     "output_type": "stream",
     "text": [
      "[I 2024-10-17 10:26:42,510] Trial 19 finished with value: 0.7837173930912363 and parameters: {'max_depth': 8, 'learning_rate': 0.012749317858004726, 'reg_lambda': 2.44464146200897, 'min_child_weight': 51}. Best is trial 5 with value: 0.7876450206507118.\n"
     ]
    },
    {
     "name": "stdout",
     "output_type": "stream",
     "text": [
      "Best Parameters: {'max_depth': 10, 'learning_rate': 0.03960937852336819, 'reg_lambda': 2.121206405326418, 'min_child_weight': 52}\n",
      "Best Score: 0.7876450206507118\n",
      "Start the modelling\n"
     ]
    },
    {
     "name": "stdout",
     "output_type": "stream",
     "text": [
      "[0]\ttrain-mlogloss:1.86473\teval-mlogloss:1.87403\n"
     ]
    },
    {
     "name": "stdout",
     "output_type": "stream",
     "text": [
      "[100]\ttrain-mlogloss:0.35148\teval-mlogloss:0.65436\n"
     ]
    },
    {
     "name": "stdout",
     "output_type": "stream",
     "text": [
      "[200]\ttrain-mlogloss:0.21160\teval-mlogloss:0.59981\n"
     ]
    },
    {
     "name": "stdout",
     "output_type": "stream",
     "text": [
      "[300]\ttrain-mlogloss:0.14327\teval-mlogloss:0.58855\n"
     ]
    },
    {
     "name": "stdout",
     "output_type": "stream",
     "text": [
      "[400]\ttrain-mlogloss:0.10288\teval-mlogloss:0.58797\n"
     ]
    },
    {
     "name": "stdout",
     "output_type": "stream",
     "text": [
      "[500]\ttrain-mlogloss:0.07847\teval-mlogloss:0.59316\n"
     ]
    },
    {
     "name": "stdout",
     "output_type": "stream",
     "text": [
      "[600]\ttrain-mlogloss:0.06277\teval-mlogloss:0.60075\n"
     ]
    },
    {
     "name": "stdout",
     "output_type": "stream",
     "text": [
      "[700]\ttrain-mlogloss:0.05089\teval-mlogloss:0.60771\n"
     ]
    },
    {
     "name": "stdout",
     "output_type": "stream",
     "text": [
      "[800]\ttrain-mlogloss:0.04317\teval-mlogloss:0.61525\n"
     ]
    },
    {
     "name": "stdout",
     "output_type": "stream",
     "text": [
      "[900]\ttrain-mlogloss:0.03690\teval-mlogloss:0.62300\n"
     ]
    },
    {
     "name": "stdout",
     "output_type": "stream",
     "text": [
      "[1000]\ttrain-mlogloss:0.03223\teval-mlogloss:0.63072\n"
     ]
    },
    {
     "name": "stdout",
     "output_type": "stream",
     "text": [
      "[1100]\ttrain-mlogloss:0.02857\teval-mlogloss:0.63810\n"
     ]
    },
    {
     "name": "stdout",
     "output_type": "stream",
     "text": [
      "[1200]\ttrain-mlogloss:0.02558\teval-mlogloss:0.64477\n"
     ]
    },
    {
     "name": "stdout",
     "output_type": "stream",
     "text": [
      "[1300]\ttrain-mlogloss:0.02328\teval-mlogloss:0.65121\n"
     ]
    },
    {
     "name": "stdout",
     "output_type": "stream",
     "text": [
      "[1371]\ttrain-mlogloss:0.02190\teval-mlogloss:0.65550\n"
     ]
    },
    {
     "name": "stdout",
     "output_type": "stream",
     "text": [
      "[0]\ttrain-mlogloss:1.86401\teval-mlogloss:1.87477\n"
     ]
    },
    {
     "name": "stdout",
     "output_type": "stream",
     "text": [
      "[100]\ttrain-mlogloss:0.33888\teval-mlogloss:0.67087\n"
     ]
    },
    {
     "name": "stdout",
     "output_type": "stream",
     "text": [
      "[200]\ttrain-mlogloss:0.19970\teval-mlogloss:0.61547\n"
     ]
    },
    {
     "name": "stdout",
     "output_type": "stream",
     "text": [
      "[300]\ttrain-mlogloss:0.13644\teval-mlogloss:0.60881\n"
     ]
    },
    {
     "name": "stdout",
     "output_type": "stream",
     "text": [
      "[400]\ttrain-mlogloss:0.09907\teval-mlogloss:0.61141\n"
     ]
    },
    {
     "name": "stdout",
     "output_type": "stream",
     "text": [
      "[500]\ttrain-mlogloss:0.07514\teval-mlogloss:0.61788\n"
     ]
    },
    {
     "name": "stdout",
     "output_type": "stream",
     "text": [
      "[600]\ttrain-mlogloss:0.05957\teval-mlogloss:0.62542\n"
     ]
    },
    {
     "name": "stdout",
     "output_type": "stream",
     "text": [
      "[700]\ttrain-mlogloss:0.04908\teval-mlogloss:0.63464\n"
     ]
    },
    {
     "name": "stdout",
     "output_type": "stream",
     "text": [
      "[800]\ttrain-mlogloss:0.04145\teval-mlogloss:0.64381\n"
     ]
    },
    {
     "name": "stdout",
     "output_type": "stream",
     "text": [
      "[900]\ttrain-mlogloss:0.03571\teval-mlogloss:0.65250\n"
     ]
    },
    {
     "name": "stdout",
     "output_type": "stream",
     "text": [
      "[1000]\ttrain-mlogloss:0.03148\teval-mlogloss:0.66040\n"
     ]
    },
    {
     "name": "stdout",
     "output_type": "stream",
     "text": [
      "[1100]\ttrain-mlogloss:0.02781\teval-mlogloss:0.66878\n"
     ]
    },
    {
     "name": "stdout",
     "output_type": "stream",
     "text": [
      "[1200]\ttrain-mlogloss:0.02488\teval-mlogloss:0.67593\n"
     ]
    },
    {
     "name": "stdout",
     "output_type": "stream",
     "text": [
      "[1300]\ttrain-mlogloss:0.02257\teval-mlogloss:0.68327\n"
     ]
    },
    {
     "name": "stdout",
     "output_type": "stream",
     "text": [
      "[1318]\ttrain-mlogloss:0.02221\teval-mlogloss:0.68446\n"
     ]
    },
    {
     "name": "stdout",
     "output_type": "stream",
     "text": [
      "[0]\ttrain-mlogloss:1.86516\teval-mlogloss:1.87393\n"
     ]
    },
    {
     "name": "stdout",
     "output_type": "stream",
     "text": [
      "[100]\ttrain-mlogloss:0.34276\teval-mlogloss:0.65542\n"
     ]
    },
    {
     "name": "stdout",
     "output_type": "stream",
     "text": [
      "[200]\ttrain-mlogloss:0.20824\teval-mlogloss:0.60223\n"
     ]
    },
    {
     "name": "stdout",
     "output_type": "stream",
     "text": [
      "[300]\ttrain-mlogloss:0.13936\teval-mlogloss:0.59349\n"
     ]
    },
    {
     "name": "stdout",
     "output_type": "stream",
     "text": [
      "[400]\ttrain-mlogloss:0.10042\teval-mlogloss:0.59416\n"
     ]
    },
    {
     "name": "stdout",
     "output_type": "stream",
     "text": [
      "[500]\ttrain-mlogloss:0.07456\teval-mlogloss:0.60017\n"
     ]
    },
    {
     "name": "stdout",
     "output_type": "stream",
     "text": [
      "[600]\ttrain-mlogloss:0.05893\teval-mlogloss:0.60745\n"
     ]
    },
    {
     "name": "stdout",
     "output_type": "stream",
     "text": [
      "[700]\ttrain-mlogloss:0.04844\teval-mlogloss:0.61519\n"
     ]
    },
    {
     "name": "stdout",
     "output_type": "stream",
     "text": [
      "[800]\ttrain-mlogloss:0.04073\teval-mlogloss:0.62358\n"
     ]
    },
    {
     "name": "stdout",
     "output_type": "stream",
     "text": [
      "[900]\ttrain-mlogloss:0.03487\teval-mlogloss:0.63248\n"
     ]
    },
    {
     "name": "stdout",
     "output_type": "stream",
     "text": [
      "[1000]\ttrain-mlogloss:0.03074\teval-mlogloss:0.63999\n"
     ]
    },
    {
     "name": "stdout",
     "output_type": "stream",
     "text": [
      "[1100]\ttrain-mlogloss:0.02727\teval-mlogloss:0.64727\n"
     ]
    },
    {
     "name": "stdout",
     "output_type": "stream",
     "text": [
      "[1200]\ttrain-mlogloss:0.02443\teval-mlogloss:0.65466\n"
     ]
    },
    {
     "name": "stdout",
     "output_type": "stream",
     "text": [
      "[1300]\ttrain-mlogloss:0.02219\teval-mlogloss:0.66118\n"
     ]
    },
    {
     "name": "stdout",
     "output_type": "stream",
     "text": [
      "[1316]\ttrain-mlogloss:0.02185\teval-mlogloss:0.66227\n"
     ]
    },
    {
     "name": "stdout",
     "output_type": "stream",
     "text": [
      "[0]\ttrain-mlogloss:1.86365\teval-mlogloss:1.87226\n"
     ]
    },
    {
     "name": "stdout",
     "output_type": "stream",
     "text": [
      "[50]\ttrain-mlogloss:0.60460\teval-mlogloss:0.80355\n"
     ]
    },
    {
     "name": "stdout",
     "output_type": "stream",
     "text": [
      "[100]\ttrain-mlogloss:0.36811\teval-mlogloss:0.64555\n"
     ]
    },
    {
     "name": "stdout",
     "output_type": "stream",
     "text": [
      "[150]\ttrain-mlogloss:0.28152\teval-mlogloss:0.60558\n"
     ]
    },
    {
     "name": "stdout",
     "output_type": "stream",
     "text": [
      "[200]\ttrain-mlogloss:0.23375\teval-mlogloss:0.59161\n"
     ]
    },
    {
     "name": "stdout",
     "output_type": "stream",
     "text": [
      "[250]\ttrain-mlogloss:0.19831\teval-mlogloss:0.58447\n"
     ]
    },
    {
     "name": "stdout",
     "output_type": "stream",
     "text": [
      "[300]\ttrain-mlogloss:0.16937\teval-mlogloss:0.58063\n"
     ]
    },
    {
     "name": "stdout",
     "output_type": "stream",
     "text": [
      "[350]\ttrain-mlogloss:0.14563\teval-mlogloss:0.57864\n"
     ]
    },
    {
     "name": "stdout",
     "output_type": "stream",
     "text": [
      "[400]\ttrain-mlogloss:0.12443\teval-mlogloss:0.57767\n"
     ]
    },
    {
     "name": "stdout",
     "output_type": "stream",
     "text": [
      "[450]\ttrain-mlogloss:0.10757\teval-mlogloss:0.57805\n"
     ]
    },
    {
     "name": "stdout",
     "output_type": "stream",
     "text": [
      "[459]\ttrain-mlogloss:0.10456\teval-mlogloss:0.57822\n"
     ]
    },
    {
     "name": "stdout",
     "output_type": "stream",
     "text": [
      "\n",
      "Classification Report on Test Set:\n",
      "              precision    recall  f1-score   support\n",
      "\n",
      "           0       0.78      0.66      0.72      5289\n",
      "           1       0.92      0.95      0.93      9451\n",
      "           2       0.89      0.80      0.84      5054\n",
      "           3       0.93      0.96      0.95      7111\n",
      "           4       0.76      0.64      0.70      6065\n",
      "           5       0.74      0.56      0.64      5433\n",
      "           6       0.72      0.87      0.79     13707\n",
      "\n",
      "    accuracy                           0.81     52110\n",
      "   macro avg       0.82      0.78      0.79     52110\n",
      "weighted avg       0.81      0.81      0.81     52110\n",
      "\n"
     ]
    },
    {
     "data": {
      "image/png": "[encoded data removed]",
      "text/plain": [
       "<Figure size 640x480 with 1 Axes>"
      ]
     },
     "metadata": {},
     "output_type": "display_data"
    },
    {
     "data": {
      "image/png": "[encoded data removed]",
      "text/plain": [
       "<Figure size 640x480 with 2 Axes>"
      ]
     },
     "metadata": {},
     "output_type": "display_data"
    },
    {
     "name": "stdout",
     "output_type": "stream",
     "text": [
      "{'average_accuracy': 0.8061973849185026, 'average_f1_macro': np.float64(0.7870264732565349), 'average_f1_micro': np.float64(0.8061973849185026), 'average_auc': np.float64(0.9514522737273445), 'average_acc_kelas_generatif': 0.9570067750151919, 'average_acc_fase_padi': 0.8503750995700449}\n",
      "{'val_accuracy': 0.8112454423335252, 'val_f1_macro': np.float64(0.7941789464474989), 'val_f1_micro': np.float64(0.8112454423335252), 'val_auc': np.float64(0.9543492719628822), 'val_acc_kelas_generatif': 0.9641400646885108, 'val_acc_fase_padi': 0.8594342689931722, 'val_relative_acc': np.float64(99.59356654045229)}\n",
      "=============================================================================\n",
      "=============================================================================\n",
      "CLUSTER:  6\n"
     ]
    },
    {
     "name": "stderr",
     "output_type": "stream",
     "text": [
      "[I 2024-10-17 10:29:01,264] A new study created in memory with name: no-name-b3b8b963-d006-4f3d-b37d-742d6d2b178f\n"
     ]
    },
    {
     "name": "stdout",
     "output_type": "stream",
     "text": [
      "[6 5 1 2 3 0 4]\n",
      "[0 1 2 3 4 5 6]\n",
      "Mapping of original to encoded classes: {np.int64(0): np.int64(0), np.int64(1): np.int64(1), np.int64(2): np.int64(2), np.int64(3): np.int64(3), np.int64(4): np.int64(4), np.int64(5): np.int64(5), np.int64(6): np.int64(6)}\n",
      "Build Best Parameter using Optuna-Hyperparameter Tuning\n"
     ]
    },
    {
     "name": "stderr",
     "output_type": "stream",
     "text": [
      "[I 2024-10-17 10:30:09,681] Trial 0 finished with value: 0.9485457512864804 and parameters: {'max_depth': 7, 'learning_rate': 0.05247209916418158, 'reg_lambda': 1.56978959921483, 'min_child_weight': 85}. Best is trial 0 with value: 0.9485457512864804.\n"
     ]
    },
    {
     "name": "stderr",
     "output_type": "stream",
     "text": [
      "[I 2024-10-17 10:30:43,450] Trial 1 finished with value: 0.946749512186623 and parameters: {'max_depth': 10, 'learning_rate': 0.08416090771093279, 'reg_lambda': 1.5144060595727513, 'min_child_weight': 83}. Best is trial 0 with value: 0.9485457512864804.\n"
     ]
    },
    {
     "name": "stderr",
     "output_type": "stream",
     "text": [
      "[I 2024-10-17 10:32:10,398] Trial 2 finished with value: 0.9447740195350138 and parameters: {'max_depth': 7, 'learning_rate': 0.017480539769757063, 'reg_lambda': 1.305864948065636, 'min_child_weight': 87}. Best is trial 0 with value: 0.9485457512864804.\n"
     ]
    },
    {
     "name": "stderr",
     "output_type": "stream",
     "text": [
      "[I 2024-10-17 10:32:43,869] Trial 3 finished with value: 0.9466197372660073 and parameters: {'max_depth': 9, 'learning_rate': 0.06551894395483682, 'reg_lambda': 3.861473196704338, 'min_child_weight': 74}. Best is trial 0 with value: 0.9485457512864804.\n"
     ]
    },
    {
     "name": "stderr",
     "output_type": "stream",
     "text": [
      "[I 2024-10-17 10:33:11,967] Trial 4 finished with value: 0.9477960219481391 and parameters: {'max_depth': 8, 'learning_rate': 0.0967211908703451, 'reg_lambda': 1.039128487677085, 'min_child_weight': 77}. Best is trial 0 with value: 0.9485457512864804.\n"
     ]
    },
    {
     "name": "stderr",
     "output_type": "stream",
     "text": [
      "[I 2024-10-17 10:33:48,815] Trial 5 finished with value: 0.9480502429991752 and parameters: {'max_depth': 7, 'learning_rate': 0.08037852675307845, 'reg_lambda': 4.737986887590666, 'min_child_weight': 88}. Best is trial 0 with value: 0.9485457512864804.\n"
     ]
    },
    {
     "name": "stderr",
     "output_type": "stream",
     "text": [
      "[I 2024-10-17 10:35:17,705] Trial 6 finished with value: 0.9483289743542856 and parameters: {'max_depth': 7, 'learning_rate': 0.03290357781395146, 'reg_lambda': 3.312773104761249, 'min_child_weight': 78}. Best is trial 0 with value: 0.9485457512864804.\n"
     ]
    },
    {
     "name": "stderr",
     "output_type": "stream",
     "text": [
      "[I 2024-10-17 10:36:04,401] Trial 7 finished with value: 0.9482978616041621 and parameters: {'max_depth': 7, 'learning_rate': 0.06784547791248272, 'reg_lambda': 0.5808155244268641, 'min_child_weight': 97}. Best is trial 0 with value: 0.9485457512864804.\n"
     ]
    },
    {
     "name": "stderr",
     "output_type": "stream",
     "text": [
      "[I 2024-10-17 10:36:37,232] Trial 8 finished with value: 0.9472597649028579 and parameters: {'max_depth': 9, 'learning_rate': 0.08538211841801378, 'reg_lambda': 1.3293567004811946, 'min_child_weight': 62}. Best is trial 0 with value: 0.9485457512864804.\n"
     ]
    },
    {
     "name": "stderr",
     "output_type": "stream",
     "text": [
      "[I 2024-10-17 10:37:36,437] Trial 9 finished with value: 0.9479629671849942 and parameters: {'max_depth': 8, 'learning_rate': 0.060945189927485245, 'reg_lambda': 0.9170200297715893, 'min_child_weight': 76}. Best is trial 0 with value: 0.9485457512864804.\n"
     ]
    },
    {
     "name": "stderr",
     "output_type": "stream",
     "text": [
      "[I 2024-10-17 10:38:29,061] Trial 10 finished with value: 0.9485528564841662 and parameters: {'max_depth': 6, 'learning_rate': 0.041858873990675914, 'reg_lambda': 2.392045980582255, 'min_child_weight': 61}. Best is trial 10 with value: 0.9485528564841662.\n"
     ]
    },
    {
     "name": "stderr",
     "output_type": "stream",
     "text": [
      "[I 2024-10-17 10:39:35,670] Trial 11 finished with value: 0.9494917530394212 and parameters: {'max_depth': 6, 'learning_rate': 0.041140647369408784, 'reg_lambda': 2.607126678745794, 'min_child_weight': 50}. Best is trial 11 with value: 0.9494917530394212.\n"
     ]
    },
    {
     "name": "stderr",
     "output_type": "stream",
     "text": [
      "[I 2024-10-17 10:40:42,285] Trial 12 finished with value: 0.9488933030816707 and parameters: {'max_depth': 6, 'learning_rate': 0.03887486576267117, 'reg_lambda': 2.69493653197208, 'min_child_weight': 53}. Best is trial 11 with value: 0.9494917530394212.\n"
     ]
    },
    {
     "name": "stderr",
     "output_type": "stream",
     "text": [
      "[I 2024-10-17 10:42:03,542] Trial 13 finished with value: 0.9477206743271221 and parameters: {'max_depth': 6, 'learning_rate': 0.0268645082356953, 'reg_lambda': 2.5763084489803356, 'min_child_weight': 53}. Best is trial 11 with value: 0.9494917530394212.\n"
     ]
    },
    {
     "name": "stderr",
     "output_type": "stream",
     "text": [
      "[I 2024-10-17 10:42:57,738] Trial 14 finished with value: 0.9495455037648194 and parameters: {'max_depth': 6, 'learning_rate': 0.04570561557789333, 'reg_lambda': 2.487572955608293, 'min_child_weight': 50}. Best is trial 14 with value: 0.9495455037648194.\n"
     ]
    },
    {
     "name": "stderr",
     "output_type": "stream",
     "text": [
      "[I 2024-10-17 10:44:14,157] Trial 15 finished with value: 0.9439137211354569 and parameters: {'max_depth': 6, 'learning_rate': 0.015737319244865003, 'reg_lambda': 2.0669704163888096, 'min_child_weight': 61}. Best is trial 14 with value: 0.9495455037648194.\n"
     ]
    },
    {
     "name": "stderr",
     "output_type": "stream",
     "text": [
      "[I 2024-10-17 10:45:14,654] Trial 16 finished with value: 0.9491144420116555 and parameters: {'max_depth': 6, 'learning_rate': 0.05128607473470873, 'reg_lambda': 3.383359341101727, 'min_child_weight': 50}. Best is trial 14 with value: 0.9495455037648194.\n"
     ]
    },
    {
     "name": "stderr",
     "output_type": "stream",
     "text": [
      "[I 2024-10-17 10:46:12,360] Trial 17 finished with value: 0.9476252865836776 and parameters: {'max_depth': 8, 'learning_rate': 0.0437956473989296, 'reg_lambda': 0.154525797575074, 'min_child_weight': 65}. Best is trial 14 with value: 0.9495455037648194.\n"
     ]
    },
    {
     "name": "stderr",
     "output_type": "stream",
     "text": [
      "[I 2024-10-17 10:47:46,288] Trial 18 finished with value: 0.9468658028781726 and parameters: {'max_depth': 9, 'learning_rate': 0.02624434132336775, 'reg_lambda': 3.2587046946365463, 'min_child_weight': 69}. Best is trial 14 with value: 0.9495455037648194.\n"
     ]
    },
    {
     "name": "stderr",
     "output_type": "stream",
     "text": [
      "[I 2024-10-17 10:49:03,078] Trial 19 finished with value: 0.9390013727139785 and parameters: {'max_depth': 6, 'learning_rate': 0.010479781752189152, 'reg_lambda': 4.084246743613747, 'min_child_weight': 56}. Best is trial 14 with value: 0.9495455037648194.\n"
     ]
    },
    {
     "name": "stdout",
     "output_type": "stream",
     "text": [
      "Best Parameters: {'max_depth': 6, 'learning_rate': 0.04570561557789333, 'reg_lambda': 2.487572955608293, 'min_child_weight': 50}\n",
      "Best Score: 0.9495455037648194\n",
      "Start the modelling\n"
     ]
    },
    {
     "name": "stdout",
     "output_type": "stream",
     "text": [
      "[0]\ttrain-mlogloss:1.82781\teval-mlogloss:1.83164\n"
     ]
    },
    {
     "name": "stdout",
     "output_type": "stream",
     "text": [
      "[100]\ttrain-mlogloss:0.15468\teval-mlogloss:0.23048\n"
     ]
    },
    {
     "name": "stdout",
     "output_type": "stream",
     "text": [
      "[200]\ttrain-mlogloss:0.07042\teval-mlogloss:0.16352\n"
     ]
    },
    {
     "name": "stdout",
     "output_type": "stream",
     "text": [
      "[300]\ttrain-mlogloss:0.04115\teval-mlogloss:0.14575\n"
     ]
    },
    {
     "name": "stdout",
     "output_type": "stream",
     "text": [
      "[400]\ttrain-mlogloss:0.02692\teval-mlogloss:0.13835\n"
     ]
    },
    {
     "name": "stdout",
     "output_type": "stream",
     "text": [
      "[500]\ttrain-mlogloss:0.01908\teval-mlogloss:0.13553\n"
     ]
    },
    {
     "name": "stdout",
     "output_type": "stream",
     "text": [
      "[600]\ttrain-mlogloss:0.01451\teval-mlogloss:0.13431\n"
     ]
    },
    {
     "name": "stdout",
     "output_type": "stream",
     "text": [
      "[700]\ttrain-mlogloss:0.01160\teval-mlogloss:0.13372\n"
     ]
    },
    {
     "name": "stdout",
     "output_type": "stream",
     "text": [
      "[800]\ttrain-mlogloss:0.00966\teval-mlogloss:0.13403\n"
     ]
    },
    {
     "name": "stdout",
     "output_type": "stream",
     "text": [
      "[900]\ttrain-mlogloss:0.00829\teval-mlogloss:0.13446\n"
     ]
    },
    {
     "name": "stdout",
     "output_type": "stream",
     "text": [
      "[1000]\ttrain-mlogloss:0.00729\teval-mlogloss:0.13481\n"
     ]
    },
    {
     "name": "stdout",
     "output_type": "stream",
     "text": [
      "[1100]\ttrain-mlogloss:0.00651\teval-mlogloss:0.13532\n"
     ]
    },
    {
     "name": "stdout",
     "output_type": "stream",
     "text": [
      "[1200]\ttrain-mlogloss:0.00591\teval-mlogloss:0.13576\n"
     ]
    },
    {
     "name": "stdout",
     "output_type": "stream",
     "text": [
      "[1300]\ttrain-mlogloss:0.00544\teval-mlogloss:0.13637\n"
     ]
    },
    {
     "name": "stdout",
     "output_type": "stream",
     "text": [
      "[1400]\ttrain-mlogloss:0.00506\teval-mlogloss:0.13688\n"
     ]
    },
    {
     "name": "stdout",
     "output_type": "stream",
     "text": [
      "[1500]\ttrain-mlogloss:0.00476\teval-mlogloss:0.13730\n"
     ]
    },
    {
     "name": "stdout",
     "output_type": "stream",
     "text": [
      "[1600]\ttrain-mlogloss:0.00450\teval-mlogloss:0.13781\n"
     ]
    },
    {
     "name": "stdout",
     "output_type": "stream",
     "text": [
      "[1700]\ttrain-mlogloss:0.00428\teval-mlogloss:0.13831\n"
     ]
    },
    {
     "name": "stdout",
     "output_type": "stream",
     "text": [
      "[1702]\ttrain-mlogloss:0.00427\teval-mlogloss:0.13831\n"
     ]
    },
    {
     "name": "stdout",
     "output_type": "stream",
     "text": [
      "[0]\ttrain-mlogloss:1.82920\teval-mlogloss:1.83279\n"
     ]
    },
    {
     "name": "stdout",
     "output_type": "stream",
     "text": [
      "[100]\ttrain-mlogloss:0.15866\teval-mlogloss:0.23224\n"
     ]
    },
    {
     "name": "stdout",
     "output_type": "stream",
     "text": [
      "[200]\ttrain-mlogloss:0.07443\teval-mlogloss:0.16406\n"
     ]
    },
    {
     "name": "stdout",
     "output_type": "stream",
     "text": [
      "[300]\ttrain-mlogloss:0.04415\teval-mlogloss:0.14560\n"
     ]
    },
    {
     "name": "stdout",
     "output_type": "stream",
     "text": [
      "[400]\ttrain-mlogloss:0.02899\teval-mlogloss:0.13873\n"
     ]
    },
    {
     "name": "stdout",
     "output_type": "stream",
     "text": [
      "[500]\ttrain-mlogloss:0.02034\teval-mlogloss:0.13580\n"
     ]
    },
    {
     "name": "stdout",
     "output_type": "stream",
     "text": [
      "[600]\ttrain-mlogloss:0.01501\teval-mlogloss:0.13423\n"
     ]
    },
    {
     "name": "stdout",
     "output_type": "stream",
     "text": [
      "[700]\ttrain-mlogloss:0.01188\teval-mlogloss:0.13422\n"
     ]
    },
    {
     "name": "stdout",
     "output_type": "stream",
     "text": [
      "[800]\ttrain-mlogloss:0.00981\teval-mlogloss:0.13479\n"
     ]
    },
    {
     "name": "stdout",
     "output_type": "stream",
     "text": [
      "[900]\ttrain-mlogloss:0.00840\teval-mlogloss:0.13532\n"
     ]
    },
    {
     "name": "stdout",
     "output_type": "stream",
     "text": [
      "[1000]\ttrain-mlogloss:0.00736\teval-mlogloss:0.13576\n"
     ]
    },
    {
     "name": "stdout",
     "output_type": "stream",
     "text": [
      "[1100]\ttrain-mlogloss:0.00658\teval-mlogloss:0.13657\n"
     ]
    },
    {
     "name": "stdout",
     "output_type": "stream",
     "text": [
      "[1200]\ttrain-mlogloss:0.00598\teval-mlogloss:0.13731\n"
     ]
    },
    {
     "name": "stdout",
     "output_type": "stream",
     "text": [
      "[1300]\ttrain-mlogloss:0.00550\teval-mlogloss:0.13823\n"
     ]
    },
    {
     "name": "stdout",
     "output_type": "stream",
     "text": [
      "[1400]\ttrain-mlogloss:0.00511\teval-mlogloss:0.13876\n"
     ]
    },
    {
     "name": "stdout",
     "output_type": "stream",
     "text": [
      "[1500]\ttrain-mlogloss:0.00479\teval-mlogloss:0.13939\n"
     ]
    },
    {
     "name": "stdout",
     "output_type": "stream",
     "text": [
      "[1600]\ttrain-mlogloss:0.00453\teval-mlogloss:0.14003\n"
     ]
    },
    {
     "name": "stdout",
     "output_type": "stream",
     "text": [
      "[1630]\ttrain-mlogloss:0.00446\teval-mlogloss:0.14012\n"
     ]
    },
    {
     "name": "stdout",
     "output_type": "stream",
     "text": [
      "[0]\ttrain-mlogloss:1.82986\teval-mlogloss:1.83189\n"
     ]
    },
    {
     "name": "stdout",
     "output_type": "stream",
     "text": [
      "[100]\ttrain-mlogloss:0.15974\teval-mlogloss:0.22859\n"
     ]
    },
    {
     "name": "stdout",
     "output_type": "stream",
     "text": [
      "[200]\ttrain-mlogloss:0.07329\teval-mlogloss:0.15815\n"
     ]
    },
    {
     "name": "stdout",
     "output_type": "stream",
     "text": [
      "[300]\ttrain-mlogloss:0.04397\teval-mlogloss:0.13942\n"
     ]
    },
    {
     "name": "stdout",
     "output_type": "stream",
     "text": [
      "[400]\ttrain-mlogloss:0.02864\teval-mlogloss:0.13140\n"
     ]
    },
    {
     "name": "stdout",
     "output_type": "stream",
     "text": [
      "[500]\ttrain-mlogloss:0.02014\teval-mlogloss:0.12789\n"
     ]
    },
    {
     "name": "stdout",
     "output_type": "stream",
     "text": [
      "[600]\ttrain-mlogloss:0.01513\teval-mlogloss:0.12642\n"
     ]
    },
    {
     "name": "stdout",
     "output_type": "stream",
     "text": [
      "[700]\ttrain-mlogloss:0.01196\teval-mlogloss:0.12568\n"
     ]
    },
    {
     "name": "stdout",
     "output_type": "stream",
     "text": [
      "[800]\ttrain-mlogloss:0.00992\teval-mlogloss:0.12570\n"
     ]
    },
    {
     "name": "stdout",
     "output_type": "stream",
     "text": [
      "[900]\ttrain-mlogloss:0.00844\teval-mlogloss:0.12630\n"
     ]
    },
    {
     "name": "stdout",
     "output_type": "stream",
     "text": [
      "[1000]\ttrain-mlogloss:0.00740\teval-mlogloss:0.12684\n"
     ]
    },
    {
     "name": "stdout",
     "output_type": "stream",
     "text": [
      "[1100]\ttrain-mlogloss:0.00661\teval-mlogloss:0.12731\n"
     ]
    },
    {
     "name": "stdout",
     "output_type": "stream",
     "text": [
      "[1200]\ttrain-mlogloss:0.00601\teval-mlogloss:0.12790\n"
     ]
    },
    {
     "name": "stdout",
     "output_type": "stream",
     "text": [
      "[1300]\ttrain-mlogloss:0.00554\teval-mlogloss:0.12844\n"
     ]
    },
    {
     "name": "stdout",
     "output_type": "stream",
     "text": [
      "[1400]\ttrain-mlogloss:0.00516\teval-mlogloss:0.12895\n"
     ]
    },
    {
     "name": "stdout",
     "output_type": "stream",
     "text": [
      "[1500]\ttrain-mlogloss:0.00484\teval-mlogloss:0.12974\n"
     ]
    },
    {
     "name": "stdout",
     "output_type": "stream",
     "text": [
      "[1600]\ttrain-mlogloss:0.00457\teval-mlogloss:0.13019\n"
     ]
    },
    {
     "name": "stdout",
     "output_type": "stream",
     "text": [
      "[1700]\ttrain-mlogloss:0.00435\teval-mlogloss:0.13066\n"
     ]
    },
    {
     "name": "stdout",
     "output_type": "stream",
     "text": [
      "[1721]\ttrain-mlogloss:0.00430\teval-mlogloss:0.13077\n"
     ]
    },
    {
     "name": "stdout",
     "output_type": "stream",
     "text": [
      "[0]\ttrain-mlogloss:1.82874\teval-mlogloss:1.83083\n"
     ]
    },
    {
     "name": "stdout",
     "output_type": "stream",
     "text": [
      "[50]\ttrain-mlogloss:0.36160\teval-mlogloss:0.40408\n"
     ]
    },
    {
     "name": "stdout",
     "output_type": "stream",
     "text": [
      "[100]\ttrain-mlogloss:0.16581\teval-mlogloss:0.22022\n"
     ]
    },
    {
     "name": "stdout",
     "output_type": "stream",
     "text": [
      "[150]\ttrain-mlogloss:0.10995\teval-mlogloss:0.17143\n"
     ]
    },
    {
     "name": "stdout",
     "output_type": "stream",
     "text": [
      "[200]\ttrain-mlogloss:0.08170\teval-mlogloss:0.14985\n"
     ]
    },
    {
     "name": "stdout",
     "output_type": "stream",
     "text": [
      "[250]\ttrain-mlogloss:0.06375\teval-mlogloss:0.13762\n"
     ]
    },
    {
     "name": "stdout",
     "output_type": "stream",
     "text": [
      "[300]\ttrain-mlogloss:0.05130\teval-mlogloss:0.12982\n"
     ]
    },
    {
     "name": "stdout",
     "output_type": "stream",
     "text": [
      "[350]\ttrain-mlogloss:0.04186\teval-mlogloss:0.12429\n"
     ]
    },
    {
     "name": "stdout",
     "output_type": "stream",
     "text": [
      "[400]\ttrain-mlogloss:0.03485\teval-mlogloss:0.12055\n"
     ]
    },
    {
     "name": "stdout",
     "output_type": "stream",
     "text": [
      "[450]\ttrain-mlogloss:0.02929\teval-mlogloss:0.11776\n"
     ]
    },
    {
     "name": "stdout",
     "output_type": "stream",
     "text": [
      "[500]\ttrain-mlogloss:0.02495\teval-mlogloss:0.11585\n"
     ]
    },
    {
     "name": "stdout",
     "output_type": "stream",
     "text": [
      "[550]\ttrain-mlogloss:0.02151\teval-mlogloss:0.11431\n"
     ]
    },
    {
     "name": "stdout",
     "output_type": "stream",
     "text": [
      "[600]\ttrain-mlogloss:0.01869\teval-mlogloss:0.11313\n"
     ]
    },
    {
     "name": "stdout",
     "output_type": "stream",
     "text": [
      "[650]\ttrain-mlogloss:0.01637\teval-mlogloss:0.11236\n"
     ]
    },
    {
     "name": "stdout",
     "output_type": "stream",
     "text": [
      "[700]\ttrain-mlogloss:0.01449\teval-mlogloss:0.11167\n"
     ]
    },
    {
     "name": "stdout",
     "output_type": "stream",
     "text": [
      "[750]\ttrain-mlogloss:0.01298\teval-mlogloss:0.11136\n"
     ]
    },
    {
     "name": "stdout",
     "output_type": "stream",
     "text": [
      "[800]\ttrain-mlogloss:0.01170\teval-mlogloss:0.11121\n"
     ]
    },
    {
     "name": "stdout",
     "output_type": "stream",
     "text": [
      "[850]\ttrain-mlogloss:0.01069\teval-mlogloss:0.11111\n"
     ]
    },
    {
     "name": "stdout",
     "output_type": "stream",
     "text": [
      "[900]\ttrain-mlogloss:0.00977\teval-mlogloss:0.11103\n"
     ]
    },
    {
     "name": "stdout",
     "output_type": "stream",
     "text": [
      "[939]\ttrain-mlogloss:0.00916\teval-mlogloss:0.11107\n"
     ]
    },
    {
     "name": "stdout",
     "output_type": "stream",
     "text": [
      "\n",
      "Classification Report on Test Set:\n",
      "              precision    recall  f1-score   support\n",
      "\n",
      "           0       0.98      0.96      0.97     11868\n",
      "           1       0.94      0.93      0.93     11172\n",
      "           2       0.94      0.95      0.95     10544\n",
      "           3       0.97      0.97      0.97     11514\n",
      "           4       0.96      0.97      0.96      6917\n",
      "           5       0.92      0.94      0.93      7097\n",
      "           6       0.98      0.98      0.98     13415\n",
      "\n",
      "    accuracy                           0.96     72527\n",
      "   macro avg       0.96      0.96      0.96     72527\n",
      "weighted avg       0.96      0.96      0.96     72527\n",
      "\n"
     ]
    },
    {
     "data": {
      "image/png": "[encoded data removed]",
      "text/plain": [
       "<Figure size 640x480 with 1 Axes>"
      ]
     },
     "metadata": {},
     "output_type": "display_data"
    },
    {
     "data": {
      "image/png": "[encoded data removed]",
      "text/plain": [
       "<Figure size 640x480 with 2 Axes>"
      ]
     },
     "metadata": {},
     "output_type": "display_data"
    },
    {
     "name": "stdout",
     "output_type": "stream",
     "text": [
      "{'average_accuracy': 0.9528359553453657, 'average_f1_macro': np.float64(0.9503006693633366), 'average_f1_micro': np.float64(0.9528359553453657), 'average_auc': np.float64(0.99816027160768), 'average_acc_kelas_generatif': 0.9574371944771075, 'average_acc_fase_padi': 0.9480384612214529}\n",
      "{'val_accuracy': 0.9592841286693231, 'val_f1_macro': np.float64(0.9572411859460955), 'val_f1_micro': np.float64(0.9592841286693231), 'val_auc': np.float64(0.9985744499365162), 'val_acc_kelas_generatif': 0.9661281917665451, 'val_acc_fase_padi': 0.953570627942312, 'val_relative_acc': np.float64(99.98933014660379)}\n",
      "=============================================================================\n",
      "=============================================================================\n",
      "CLUSTER:  7\n"
     ]
    },
    {
     "name": "stderr",
     "output_type": "stream",
     "text": [
      "[I 2024-10-17 10:51:38,624] A new study created in memory with name: no-name-2a7cb49f-4ad8-4d09-8fbc-2e89966c4a17\n"
     ]
    },
    {
     "name": "stdout",
     "output_type": "stream",
     "text": [
      "[1 5 6 3 2 4 0]\n",
      "[0 1 2 3 4 5 6]\n",
      "Mapping of original to encoded classes: {np.int64(0): np.int64(0), np.int64(1): np.int64(1), np.int64(2): np.int64(2), np.int64(3): np.int64(3), np.int64(4): np.int64(4), np.int64(5): np.int64(5), np.int64(6): np.int64(6)}\n",
      "Build Best Parameter using Optuna-Hyperparameter Tuning\n"
     ]
    },
    {
     "name": "stderr",
     "output_type": "stream",
     "text": [
      "[I 2024-10-17 10:52:29,636] Trial 0 finished with value: 0.6901547709148187 and parameters: {'max_depth': 8, 'learning_rate': 0.046966963165057725, 'reg_lambda': 0.8863658256343386, 'min_child_weight': 56}. Best is trial 0 with value: 0.6901547709148187.\n"
     ]
    },
    {
     "name": "stderr",
     "output_type": "stream",
     "text": [
      "[I 2024-10-17 10:52:59,076] Trial 1 finished with value: 0.687562347093467 and parameters: {'max_depth': 6, 'learning_rate': 0.09841611002068823, 'reg_lambda': 4.528325522891373, 'min_child_weight': 91}. Best is trial 0 with value: 0.6901547709148187.\n"
     ]
    },
    {
     "name": "stderr",
     "output_type": "stream",
     "text": [
      "[I 2024-10-17 10:53:36,547] Trial 2 finished with value: 0.693266894981432 and parameters: {'max_depth': 10, 'learning_rate': 0.05668742580785608, 'reg_lambda': 2.4848153629832277, 'min_child_weight': 91}. Best is trial 2 with value: 0.693266894981432.\n"
     ]
    },
    {
     "name": "stderr",
     "output_type": "stream",
     "text": [
      "[I 2024-10-17 10:54:03,800] Trial 3 finished with value: 0.6894370859635371 and parameters: {'max_depth': 8, 'learning_rate': 0.09989295504148006, 'reg_lambda': 2.308102315040542, 'min_child_weight': 70}. Best is trial 2 with value: 0.693266894981432.\n"
     ]
    },
    {
     "name": "stderr",
     "output_type": "stream",
     "text": [
      "[I 2024-10-17 10:54:41,121] Trial 4 finished with value: 0.690722905791653 and parameters: {'max_depth': 6, 'learning_rate': 0.07650963323528825, 'reg_lambda': 3.9794510665130187, 'min_child_weight': 83}. Best is trial 2 with value: 0.693266894981432.\n"
     ]
    },
    {
     "name": "stderr",
     "output_type": "stream",
     "text": [
      "[I 2024-10-17 10:56:07,336] Trial 5 finished with value: 0.6858421047844422 and parameters: {'max_depth': 6, 'learning_rate': 0.022791138704735904, 'reg_lambda': 3.2173471027497067, 'min_child_weight': 83}. Best is trial 2 with value: 0.693266894981432.\n"
     ]
    },
    {
     "name": "stderr",
     "output_type": "stream",
     "text": [
      "[I 2024-10-17 10:57:49,134] Trial 6 finished with value: 0.6887568434565464 and parameters: {'max_depth': 8, 'learning_rate': 0.018441759189083404, 'reg_lambda': 1.26346054095108, 'min_child_weight': 79}. Best is trial 2 with value: 0.693266894981432.\n"
     ]
    },
    {
     "name": "stderr",
     "output_type": "stream",
     "text": [
      "[I 2024-10-17 10:58:25,895] Trial 7 finished with value: 0.6940142947523102 and parameters: {'max_depth': 9, 'learning_rate': 0.07574784108075776, 'reg_lambda': 2.9632246858318747, 'min_child_weight': 55}. Best is trial 7 with value: 0.6940142947523102.\n"
     ]
    },
    {
     "name": "stderr",
     "output_type": "stream",
     "text": [
      "[I 2024-10-17 10:59:04,430] Trial 8 finished with value: 0.6915068108156622 and parameters: {'max_depth': 9, 'learning_rate': 0.05679758815700017, 'reg_lambda': 3.3971212529724912, 'min_child_weight': 93}. Best is trial 7 with value: 0.6940142947523102.\n"
     ]
    },
    {
     "name": "stderr",
     "output_type": "stream",
     "text": [
      "[I 2024-10-17 10:59:58,361] Trial 9 finished with value: 0.6937133311337904 and parameters: {'max_depth': 10, 'learning_rate': 0.04506034813262802, 'reg_lambda': 0.5930053162352402, 'min_child_weight': 61}. Best is trial 7 with value: 0.6940142947523102.\n"
     ]
    },
    {
     "name": "stderr",
     "output_type": "stream",
     "text": [
      "[I 2024-10-17 11:00:40,878] Trial 10 finished with value: 0.691986734676615 and parameters: {'max_depth': 9, 'learning_rate': 0.07615322012831749, 'reg_lambda': 1.9227080575771884, 'min_child_weight': 66}. Best is trial 7 with value: 0.6940142947523102.\n"
     ]
    },
    {
     "name": "stderr",
     "output_type": "stream",
     "text": [
      "[I 2024-10-17 11:01:44,040] Trial 11 finished with value: 0.6904363178076444 and parameters: {'max_depth': 10, 'learning_rate': 0.04136580467460544, 'reg_lambda': 0.5656201614212218, 'min_child_weight': 54}. Best is trial 7 with value: 0.6940142947523102.\n"
     ]
    },
    {
     "name": "stderr",
     "output_type": "stream",
     "text": [
      "[I 2024-10-17 11:02:20,915] Trial 12 finished with value: 0.6901334276697924 and parameters: {'max_depth': 9, 'learning_rate': 0.07361214523245015, 'reg_lambda': 1.6227140253091898, 'min_child_weight': 62}. Best is trial 7 with value: 0.6940142947523102.\n"
     ]
    },
    {
     "name": "stderr",
     "output_type": "stream",
     "text": [
      "[I 2024-10-17 11:03:34,340] Trial 13 finished with value: 0.6921522611447806 and parameters: {'max_depth': 10, 'learning_rate': 0.03262283660401319, 'reg_lambda': 0.2249660349050404, 'min_child_weight': 51}. Best is trial 7 with value: 0.6940142947523102.\n"
     ]
    },
    {
     "name": "stderr",
     "output_type": "stream",
     "text": [
      "[I 2024-10-17 11:04:07,263] Trial 14 finished with value: 0.6897642388887123 and parameters: {'max_depth': 9, 'learning_rate': 0.06587603028737515, 'reg_lambda': 3.3532827876342437, 'min_child_weight': 60}. Best is trial 7 with value: 0.6940142947523102.\n"
     ]
    },
    {
     "name": "stderr",
     "output_type": "stream",
     "text": [
      "[I 2024-10-17 11:04:35,985] Trial 15 finished with value: 0.6896337972529397 and parameters: {'max_depth': 7, 'learning_rate': 0.08731059581451059, 'reg_lambda': 2.8045789299197033, 'min_child_weight': 72}. Best is trial 7 with value: 0.6940142947523102.\n"
     ]
    },
    {
     "name": "stderr",
     "output_type": "stream",
     "text": [
      "[I 2024-10-17 11:05:39,210] Trial 16 finished with value: 0.6909051756236798 and parameters: {'max_depth': 10, 'learning_rate': 0.03953910355909118, 'reg_lambda': 4.894594794314916, 'min_child_weight': 50}. Best is trial 7 with value: 0.6940142947523102.\n"
     ]
    },
    {
     "name": "stderr",
     "output_type": "stream",
     "text": [
      "[I 2024-10-17 11:06:18,871] Trial 17 finished with value: 0.6907343710103772 and parameters: {'max_depth': 9, 'learning_rate': 0.0625835481892293, 'reg_lambda': 3.9162004218670594, 'min_child_weight': 63}. Best is trial 7 with value: 0.6940142947523102.\n"
     ]
    },
    {
     "name": "stderr",
     "output_type": "stream",
     "text": [
      "[I 2024-10-17 11:06:53,091] Trial 18 finished with value: 0.6887491225937192 and parameters: {'max_depth': 7, 'learning_rate': 0.08598995615362011, 'reg_lambda': 1.9606987360583648, 'min_child_weight': 57}. Best is trial 7 with value: 0.6940142947523102.\n"
     ]
    },
    {
     "name": "stderr",
     "output_type": "stream",
     "text": [
      "[I 2024-10-17 11:08:06,860] Trial 19 finished with value: 0.6922742597181054 and parameters: {'max_depth': 10, 'learning_rate': 0.02960776918717329, 'reg_lambda': 1.165753726990495, 'min_child_weight': 67}. Best is trial 7 with value: 0.6940142947523102.\n"
     ]
    },
    {
     "name": "stdout",
     "output_type": "stream",
     "text": [
      "Best Parameters: {'max_depth': 9, 'learning_rate': 0.07574784108075776, 'reg_lambda': 2.9632246858318747, 'min_child_weight': 55}\n",
      "Best Score: 0.6940142947523102\n",
      "Start the modelling\n"
     ]
    },
    {
     "name": "stdout",
     "output_type": "stream",
     "text": [
      "[0]\ttrain-mlogloss:1.82667\teval-mlogloss:1.83485\n"
     ]
    },
    {
     "name": "stdout",
     "output_type": "stream",
     "text": [
      "[100]\ttrain-mlogloss:0.36331\teval-mlogloss:0.70804\n"
     ]
    },
    {
     "name": "stdout",
     "output_type": "stream",
     "text": [
      "[200]\ttrain-mlogloss:0.18941\teval-mlogloss:0.67460\n"
     ]
    },
    {
     "name": "stdout",
     "output_type": "stream",
     "text": [
      "[300]\ttrain-mlogloss:0.10740\teval-mlogloss:0.67111\n"
     ]
    },
    {
     "name": "stdout",
     "output_type": "stream",
     "text": [
      "[400]\ttrain-mlogloss:0.07051\teval-mlogloss:0.67922\n"
     ]
    },
    {
     "name": "stdout",
     "output_type": "stream",
     "text": [
      "[500]\ttrain-mlogloss:0.05067\teval-mlogloss:0.68949\n"
     ]
    },
    {
     "name": "stdout",
     "output_type": "stream",
     "text": [
      "[600]\ttrain-mlogloss:0.03861\teval-mlogloss:0.70013\n"
     ]
    },
    {
     "name": "stdout",
     "output_type": "stream",
     "text": [
      "[700]\ttrain-mlogloss:0.03109\teval-mlogloss:0.71070\n"
     ]
    },
    {
     "name": "stdout",
     "output_type": "stream",
     "text": [
      "[800]\ttrain-mlogloss:0.02598\teval-mlogloss:0.72043\n"
     ]
    },
    {
     "name": "stdout",
     "output_type": "stream",
     "text": [
      "[900]\ttrain-mlogloss:0.02228\teval-mlogloss:0.72916\n"
     ]
    },
    {
     "name": "stdout",
     "output_type": "stream",
     "text": [
      "[1000]\ttrain-mlogloss:0.01952\teval-mlogloss:0.73708\n"
     ]
    },
    {
     "name": "stdout",
     "output_type": "stream",
     "text": [
      "[1100]\ttrain-mlogloss:0.01731\teval-mlogloss:0.74475\n"
     ]
    },
    {
     "name": "stdout",
     "output_type": "stream",
     "text": [
      "[1200]\ttrain-mlogloss:0.01558\teval-mlogloss:0.75186\n"
     ]
    },
    {
     "name": "stdout",
     "output_type": "stream",
     "text": [
      "[1270]\ttrain-mlogloss:0.01455\teval-mlogloss:0.75647\n"
     ]
    },
    {
     "name": "stdout",
     "output_type": "stream",
     "text": [
      "[0]\ttrain-mlogloss:1.82740\teval-mlogloss:1.83601\n"
     ]
    },
    {
     "name": "stdout",
     "output_type": "stream",
     "text": [
      "[100]\ttrain-mlogloss:0.35061\teval-mlogloss:0.70744\n"
     ]
    },
    {
     "name": "stdout",
     "output_type": "stream",
     "text": [
      "[200]\ttrain-mlogloss:0.17874\teval-mlogloss:0.67776\n"
     ]
    },
    {
     "name": "stdout",
     "output_type": "stream",
     "text": [
      "[300]\ttrain-mlogloss:0.10056\teval-mlogloss:0.67907\n"
     ]
    },
    {
     "name": "stdout",
     "output_type": "stream",
     "text": [
      "[400]\ttrain-mlogloss:0.06585\teval-mlogloss:0.68814\n"
     ]
    },
    {
     "name": "stdout",
     "output_type": "stream",
     "text": [
      "[500]\ttrain-mlogloss:0.04799\teval-mlogloss:0.70015\n"
     ]
    },
    {
     "name": "stdout",
     "output_type": "stream",
     "text": [
      "[600]\ttrain-mlogloss:0.03700\teval-mlogloss:0.71220\n"
     ]
    },
    {
     "name": "stdout",
     "output_type": "stream",
     "text": [
      "[700]\ttrain-mlogloss:0.02964\teval-mlogloss:0.72316\n"
     ]
    },
    {
     "name": "stdout",
     "output_type": "stream",
     "text": [
      "[800]\ttrain-mlogloss:0.02471\teval-mlogloss:0.73368\n"
     ]
    },
    {
     "name": "stdout",
     "output_type": "stream",
     "text": [
      "[900]\ttrain-mlogloss:0.02135\teval-mlogloss:0.74355\n"
     ]
    },
    {
     "name": "stdout",
     "output_type": "stream",
     "text": [
      "[1000]\ttrain-mlogloss:0.01873\teval-mlogloss:0.75209\n"
     ]
    },
    {
     "name": "stdout",
     "output_type": "stream",
     "text": [
      "[1100]\ttrain-mlogloss:0.01673\teval-mlogloss:0.76005\n"
     ]
    },
    {
     "name": "stdout",
     "output_type": "stream",
     "text": [
      "[1200]\ttrain-mlogloss:0.01511\teval-mlogloss:0.76788\n"
     ]
    },
    {
     "name": "stdout",
     "output_type": "stream",
     "text": [
      "[1259]\ttrain-mlogloss:0.01429\teval-mlogloss:0.77246\n"
     ]
    },
    {
     "name": "stdout",
     "output_type": "stream",
     "text": [
      "[0]\ttrain-mlogloss:1.82678\teval-mlogloss:1.83281\n"
     ]
    },
    {
     "name": "stdout",
     "output_type": "stream",
     "text": [
      "[100]\ttrain-mlogloss:0.36120\teval-mlogloss:0.71063\n"
     ]
    },
    {
     "name": "stdout",
     "output_type": "stream",
     "text": [
      "[200]\ttrain-mlogloss:0.18509\teval-mlogloss:0.68219\n"
     ]
    },
    {
     "name": "stdout",
     "output_type": "stream",
     "text": [
      "[300]\ttrain-mlogloss:0.10540\teval-mlogloss:0.68354\n"
     ]
    },
    {
     "name": "stdout",
     "output_type": "stream",
     "text": [
      "[400]\ttrain-mlogloss:0.06918\teval-mlogloss:0.69384\n"
     ]
    },
    {
     "name": "stdout",
     "output_type": "stream",
     "text": [
      "[500]\ttrain-mlogloss:0.05036\teval-mlogloss:0.70505\n"
     ]
    },
    {
     "name": "stdout",
     "output_type": "stream",
     "text": [
      "[600]\ttrain-mlogloss:0.03876\teval-mlogloss:0.71729\n"
     ]
    },
    {
     "name": "stdout",
     "output_type": "stream",
     "text": [
      "[700]\ttrain-mlogloss:0.03122\teval-mlogloss:0.72807\n"
     ]
    },
    {
     "name": "stdout",
     "output_type": "stream",
     "text": [
      "[800]\ttrain-mlogloss:0.02620\teval-mlogloss:0.73794\n"
     ]
    },
    {
     "name": "stdout",
     "output_type": "stream",
     "text": [
      "[900]\ttrain-mlogloss:0.02240\teval-mlogloss:0.74799\n"
     ]
    },
    {
     "name": "stdout",
     "output_type": "stream",
     "text": [
      "[1000]\ttrain-mlogloss:0.01953\teval-mlogloss:0.75695\n"
     ]
    },
    {
     "name": "stdout",
     "output_type": "stream",
     "text": [
      "[1100]\ttrain-mlogloss:0.01729\teval-mlogloss:0.76581\n"
     ]
    },
    {
     "name": "stdout",
     "output_type": "stream",
     "text": [
      "[1200]\ttrain-mlogloss:0.01550\teval-mlogloss:0.77408\n"
     ]
    },
    {
     "name": "stdout",
     "output_type": "stream",
     "text": [
      "[1237]\ttrain-mlogloss:0.01495\teval-mlogloss:0.77676\n"
     ]
    },
    {
     "name": "stdout",
     "output_type": "stream",
     "text": [
      "[0]\ttrain-mlogloss:1.82705\teval-mlogloss:1.83166\n"
     ]
    },
    {
     "name": "stdout",
     "output_type": "stream",
     "text": [
      "[50]\ttrain-mlogloss:0.55906\teval-mlogloss:0.77063\n"
     ]
    },
    {
     "name": "stdout",
     "output_type": "stream",
     "text": [
      "[100]\ttrain-mlogloss:0.39934\teval-mlogloss:0.69106\n"
     ]
    },
    {
     "name": "stdout",
     "output_type": "stream",
     "text": [
      "[150]\ttrain-mlogloss:0.30066\teval-mlogloss:0.66743\n"
     ]
    },
    {
     "name": "stdout",
     "output_type": "stream",
     "text": [
      "[200]\ttrain-mlogloss:0.22754\teval-mlogloss:0.65527\n"
     ]
    },
    {
     "name": "stdout",
     "output_type": "stream",
     "text": [
      "[250]\ttrain-mlogloss:0.17484\teval-mlogloss:0.65099\n"
     ]
    },
    {
     "name": "stdout",
     "output_type": "stream",
     "text": [
      "[300]\ttrain-mlogloss:0.13542\teval-mlogloss:0.64988\n"
     ]
    },
    {
     "name": "stdout",
     "output_type": "stream",
     "text": [
      "[333]\ttrain-mlogloss:0.11619\teval-mlogloss:0.65063\n"
     ]
    },
    {
     "name": "stdout",
     "output_type": "stream",
     "text": [
      "\n",
      "Classification Report on Test Set:\n",
      "              precision    recall  f1-score   support\n",
      "\n",
      "           0       0.50      0.42      0.45      6351\n",
      "           1       0.80      0.86      0.83     11713\n",
      "           2       0.86      0.89      0.87     10727\n",
      "           3       0.86      0.88      0.87     12073\n",
      "           4       0.84      0.90      0.87     11064\n",
      "           5       0.52      0.37      0.43      6274\n",
      "           6       0.55      0.58      0.57      6656\n",
      "\n",
      "    accuracy                           0.76     64858\n",
      "   macro avg       0.70      0.70      0.70     64858\n",
      "weighted avg       0.74      0.76      0.75     64858\n",
      "\n"
     ]
    },
    {
     "data": {
      "image/png": "[encoded data removed]",
      "text/plain": [
       "<Figure size 640x480 with 1 Axes>"
      ]
     },
     "metadata": {},
     "output_type": "display_data"
    },
    {
     "data": {
      "image/png": "[encoded data removed]",
      "text/plain": [
       "<Figure size 640x480 with 2 Axes>"
      ]
     },
     "metadata": {},
     "output_type": "display_data"
    },
    {
     "name": "stdout",
     "output_type": "stream",
     "text": [
      "{'average_accuracy': 0.7535976859035505, 'average_f1_macro': np.float64(0.6960345973563399), 'average_f1_micro': np.float64(0.7535976859035505), 'average_auc': np.float64(0.9439279414828702), 'average_acc_kelas_generatif': 0.8819087169485637, 'average_acc_fase_padi': 0.8809645388799278}\n",
      "{'val_accuracy': 0.7564217212988374, 'val_f1_macro': np.float64(0.6987790906914348), 'val_f1_micro': np.float64(0.7564217212988374), 'val_auc': np.float64(0.9474058448294677), 'val_acc_kelas_generatif': 0.8845357409094674, 'val_acc_fase_padi': 0.8820238278078856, 'val_relative_acc': np.float64(99.3837211698992)}\n",
      "=============================================================================\n"
     ]
    }
   ],
   "source": [
    "from sklearn.preprocessing import StandardScaler, LabelEncoder\n",
    "df['observation']=df['observation'].apply(lambda y: int(y))\n",
    "dict_report={}\n",
    "for i in np.sort(df.cluster_data.unique()):\n",
    "    print('=============================================================================')\n",
    "    print('CLUSTER: ', i)\n",
    "    df_x = df.query('cluster_data==@i')\n",
    "    sns.countplot(x='observation', hue='cluster_data', data=df_x,palette=sns.color_palette(\"Set2\"))\n",
    "    plt.savefig(f\"/data/ksa/05_Modelling/picture/{kdprov}_distplot_cluster_{i}.png\", dpi=300, bbox_inches='tight')\n",
    "    X_train, X_test, y_train, y_test = get_train_test(df_x, 0.7)\n",
    "    # Encode the labels\n",
    "    label_encoder = LabelEncoder()\n",
    "    y_train_encoded = label_encoder.fit_transform(y_train)\n",
    "    y_test_encoded = label_encoder.transform(y_test)\n",
    "    \n",
    "    # Output the unique encoded labels and the mapping\n",
    "    print(np.unique(y_train_encoded))\n",
    "    class_mapping = dict(zip(label_encoder.classes_, label_encoder.transform(label_encoder.classes_)))\n",
    "    print(\"Mapping of original to encoded classes:\", class_mapping)\n",
    "    \n",
    "    # Create an Optuna study and optimize the objective function\n",
    "    print('Build Best Parameter using Optuna-Hyperparameter Tuning')\n",
    "    study = optuna.create_study(direction='maximize')  # 'maximize' because we are optimizing accuracy\n",
    "    study.optimize(lambda trial: objective(trial, X_train, y_train_encoded), n_trials=20)  # Run for 50 trials\n",
    "    # Print the best parameters and the best score\n",
    "    print(f\"Best Parameters: {study.best_params}\")\n",
    "    print(f\"Best Score: {study.best_value}\")\n",
    "\n",
    "    print('Start the modelling')\n",
    "    model0, training_metrics0, validation_metrics0, report0, cm0 = evaluate_model(\n",
    "        X_train, y_train_encoded, X_test, y_test_encoded,cluster=i,best_params=study.best_params)\n",
    "    \n",
    "    dict_report[i]={'model':model0,\n",
    "                    'training_metrics':training_metrics0,\n",
    "                    'validation_metrics':validation_metrics0,\n",
    "                    'reports':report0,\n",
    "                    'cm':cm0,\n",
    "                    'params':study.best_params}\n",
    "    # Print the training and validation metrics\n",
    "    print(training_metrics0)\n",
    "    print(validation_metrics0)\n",
    "    print('=============================================================================')\n",
    "\n",
    "\n"
   ]
  },
  {
   "cell_type": "code",
   "execution_count": 11,
   "id": "26743d1e-45c9-4c26-81de-46e9f11f1698",
   "metadata": {
    "execution": {
     "iopub.execute_input": "2024-10-17T04:10:23.604267Z",
     "iopub.status.busy": "2024-10-17T04:10:23.603631Z",
     "iopub.status.idle": "2024-10-17T04:10:24.730007Z",
     "shell.execute_reply": "2024-10-17T04:10:24.728641Z"
    },
    "papermill": {
     "duration": 1.181447,
     "end_time": "2024-10-17T04:10:24.732959",
     "exception": false,
     "start_time": "2024-10-17T04:10:23.551512",
     "status": "completed"
    },
    "tags": []
   },
   "outputs": [],
   "source": [
    "with open(f'/data/ksa/05_Modelling/model/xgboost{kdprov}_v2.pkl','wb') as file:\n",
    "    pickle.dump(dict_report,file)"
   ]
  },
  {
   "cell_type": "code",
   "execution_count": null,
   "id": "76b68ced-340e-48b6-a01f-a22c31637ad8",
   "metadata": {
    "papermill": {
     "duration": 0.051228,
     "end_time": "2024-10-17T04:10:24.835129",
     "exception": false,
     "start_time": "2024-10-17T04:10:24.783901",
     "status": "completed"
    },
    "tags": []
   },
   "outputs": [],
   "source": []
  }
 ],
 "metadata": {
  "kernelspec": {
   "display_name": "Python 3 (ipykernel)",
   "language": "python",
   "name": "python3"
  },
  "language_info": {
   "codemirror_mode": {
    "name": "ipython",
    "version": 3
   },
   "file_extension": ".py",
   "mimetype": "text/x-python",
   "name": "python",
   "nbconvert_exporter": "python",
   "pygments_lexer": "ipython3",
   "version": "3.10.14"
  },
  "papermill": {
   "default_parameters": {},
   "duration": 8944.846063,
   "end_time": "2024-10-17T04:10:26.332674",
   "environment_variables": {},
   "exception": null,
   "input_path": "XGBOOST Base model.ipynb",
   "output_path": "XGBOOST_12.ipynb",
   "parameters": {
    "kdprov": 12
   },
   "start_time": "2024-10-17T01:41:21.486611",
   "version": "2.6.0"
  }
 },
 "nbformat": 4,
 "nbformat_minor": 5
}
