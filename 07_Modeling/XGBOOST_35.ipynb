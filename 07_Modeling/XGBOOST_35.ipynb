{
 "cells": [
  {
   "cell_type": "code",
   "execution_count": 1,
   "id": "d37f5160-5e12-40a3-8dc9-2d929bd94327",
   "metadata": {
    "execution": {
     "iopub.execute_input": "2024-10-24T02:34:04.272709Z",
     "iopub.status.busy": "2024-10-24T02:34:04.271432Z",
     "iopub.status.idle": "2024-10-24T02:34:06.136827Z",
     "shell.execute_reply": "2024-10-24T02:34:06.135765Z"
    },
    "papermill": {
     "duration": 1.876859,
     "end_time": "2024-10-24T02:34:06.142287",
     "exception": false,
     "start_time": "2024-10-24T02:34:04.265428",
     "status": "completed"
    },
    "tags": []
   },
   "outputs": [
    {
     "name": "stderr",
     "output_type": "stream",
     "text": [
      "/data/home/achmad.kurnianto/.local/lib/python3.10/site-packages/tqdm/auto.py:21: TqdmWarning: IProgress not found. Please update jupyter and ipywidgets. See https://ipywidgets.readthedocs.io/en/stable/user_install.html\n",
      "  from .autonotebook import tqdm as notebook_tqdm\n"
     ]
    }
   ],
   "source": [
    "import pandas as pd\n",
    "import geopandas as gpd\n",
    "import numpy as np\n",
    "import matplotlib.pyplot as plt\n",
    "import seaborn as sns\n",
    "import os\n",
    "from glob import glob\n",
    "import polars as pl\n",
    "import xgboost as xgb\n",
    "import optuna\n",
    "from sklearn.model_selection import StratifiedKFold, cross_val_score\n",
    "from sklearn.metrics import accuracy_score\n",
    "from sklearn.model_selection import train_test_split, cross_validate\n",
    "from sklearn.metrics import classification_report, confusion_matrix, ConfusionMatrixDisplay, accuracy_score, make_scorer, f1_score, roc_auc_score\n",
    "from sklearn.preprocessing import LabelEncoder\n",
    "import warnings\n",
    "\n",
    "# Suppress warnings globally\n",
    "warnings.filterwarnings(\"ignore\", category=UserWarning)\n",
    "warnings.filterwarnings(\"ignore\", category=DeprecationWarning)\n",
    "import pickle\n",
    "import warnings\n",
    "warnings.simplefilter(action='ignore', category=FutureWarning)\n",
    "warnings.simplefilter(action='ignore', category=pd.errors.SettingWithCopyWarning)\n",
    "from collections import Counter\n",
    "import numpy as np\n",
    "warnings.filterwarnings(\"ignore\", category=RuntimeWarning)"
   ]
  },
  {
   "cell_type": "code",
   "execution_count": 2,
   "id": "1164ac8a-4c5a-456c-a6c9-4e3f8f1fff85",
   "metadata": {
    "execution": {
     "iopub.execute_input": "2024-10-24T02:34:06.155865Z",
     "iopub.status.busy": "2024-10-24T02:34:06.154532Z",
     "iopub.status.idle": "2024-10-24T02:34:06.161889Z",
     "shell.execute_reply": "2024-10-24T02:34:06.160742Z"
    },
    "papermill": {
     "duration": 0.013788,
     "end_time": "2024-10-24T02:34:06.163640",
     "exception": false,
     "start_time": "2024-10-24T02:34:06.149852",
     "status": "completed"
    },
    "tags": []
   },
   "outputs": [],
   "source": [
    "def get_train_test(df, test_size):\n",
    "    # Make X and Y dataset\n",
    "    y = df.observation\n",
    "    print(y.unique())\n",
    "    X = df.loc[:,'VH_30':'VH_0']\n",
    "    X['nth'] = df.loc[:,'nth']\n",
    "    X['nth'] = X.nth.astype('category')\n",
    "    X_train, X_test, y_train, y_test = train_test_split(X, y, test_size=test_size, random_state=1234, stratify=y)\n",
    "    return X_train, X_test, y_train, y_test"
   ]
  },
  {
   "cell_type": "code",
   "execution_count": 3,
   "id": "02aaee39-f4fe-424f-a54a-71ae90874e0c",
   "metadata": {
    "execution": {
     "iopub.execute_input": "2024-10-24T02:34:06.172266Z",
     "iopub.status.busy": "2024-10-24T02:34:06.171322Z",
     "iopub.status.idle": "2024-10-24T02:34:06.177925Z",
     "shell.execute_reply": "2024-10-24T02:34:06.177073Z"
    },
    "papermill": {
     "duration": 0.012739,
     "end_time": "2024-10-24T02:34:06.179685",
     "exception": false,
     "start_time": "2024-10-24T02:34:06.166946",
     "status": "completed"
    },
    "tags": []
   },
   "outputs": [],
   "source": [
    "def akurasi_kelas_generatif(y_true, y_pred):\n",
    "    # Calculate accuracy specifically for class 3\n",
    "    class_3_mask = (y_true == 3)\n",
    "    if np.any(class_3_mask):  # Check if class 3 is present in the true labels\n",
    "        return accuracy_score(y_true[class_3_mask], y_pred[class_3_mask])\n",
    "    else:\n",
    "        return 0.0  # Return 0 if class 3 is not present in the true labels\n",
    "\n",
    "def akurasi_fase_padi(y_true, y_pred):\n",
    "    # Calculate accuracy specifically for classes 1, 2, 3, and 4\n",
    "    class_1234_mask = (y_true >= 1) & (y_true <= 4)\n",
    "    if np.any(class_1234_mask):  # Check if classes 1,2,3,4 are present in the true labels\n",
    "        return accuracy_score(y_true[class_1234_mask], y_pred[class_1234_mask])\n",
    "    else:\n",
    "        return 0.0  # Return 0 if none of the classes 0-3 are present in the true labels"
   ]
  },
  {
   "cell_type": "code",
   "execution_count": 4,
   "id": "9bc8ab03-1717-47d9-95ea-75e3db819b06",
   "metadata": {
    "editable": true,
    "execution": {
     "iopub.execute_input": "2024-10-24T02:34:06.188016Z",
     "iopub.status.busy": "2024-10-24T02:34:06.187139Z",
     "iopub.status.idle": "2024-10-24T02:34:06.191412Z",
     "shell.execute_reply": "2024-10-24T02:34:06.190576Z"
    },
    "papermill": {
     "duration": 0.010301,
     "end_time": "2024-10-24T02:34:06.193037",
     "exception": false,
     "start_time": "2024-10-24T02:34:06.182736",
     "status": "completed"
    },
    "slideshow": {
     "slide_type": ""
    },
    "tags": [
     "parameters"
    ]
   },
   "outputs": [],
   "source": [
    "kdprov='32'"
   ]
  },
  {
   "cell_type": "code",
   "execution_count": 5,
   "id": "1e74d9ad",
   "metadata": {
    "execution": {
     "iopub.execute_input": "2024-10-24T02:34:06.200792Z",
     "iopub.status.busy": "2024-10-24T02:34:06.200431Z",
     "iopub.status.idle": "2024-10-24T02:34:06.204831Z",
     "shell.execute_reply": "2024-10-24T02:34:06.203799Z"
    },
    "papermill": {
     "duration": 0.010438,
     "end_time": "2024-10-24T02:34:06.206577",
     "exception": false,
     "start_time": "2024-10-24T02:34:06.196139",
     "status": "completed"
    },
    "tags": [
     "injected-parameters"
    ]
   },
   "outputs": [],
   "source": [
    "# Parameters\n",
    "kdprov = 35\n"
   ]
  },
  {
   "cell_type": "code",
   "execution_count": 6,
   "id": "7e0bd5e8-90ad-4dac-938b-2892a96e6ea4",
   "metadata": {
    "editable": true,
    "execution": {
     "iopub.execute_input": "2024-10-24T02:34:06.216245Z",
     "iopub.status.busy": "2024-10-24T02:34:06.215498Z",
     "iopub.status.idle": "2024-10-24T02:34:06.771706Z",
     "shell.execute_reply": "2024-10-24T02:34:06.770333Z"
    },
    "papermill": {
     "duration": 0.563885,
     "end_time": "2024-10-24T02:34:06.773476",
     "exception": false,
     "start_time": "2024-10-24T02:34:06.209591",
     "status": "completed"
    },
    "slideshow": {
     "slide_type": ""
    },
    "tags": []
   },
   "outputs": [
    {
     "name": "stdout",
     "output_type": "stream",
     "text": [
      "(838446, 44)\n"
     ]
    },
    {
     "data": {
      "text/html": [
       "<div>\n",
       "<style scoped>\n",
       "    .dataframe tbody tr th:only-of-type {\n",
       "        vertical-align: middle;\n",
       "    }\n",
       "\n",
       "    .dataframe tbody tr th {\n",
       "        vertical-align: top;\n",
       "    }\n",
       "\n",
       "    .dataframe thead th {\n",
       "        text-align: right;\n",
       "    }\n",
       "</style>\n",
       "<table border=\"1\" class=\"dataframe\">\n",
       "  <thead>\n",
       "    <tr style=\"text-align: right;\">\n",
       "      <th></th>\n",
       "      <th>idpoint</th>\n",
       "      <th>idsubsegment</th>\n",
       "      <th>idsegment</th>\n",
       "      <th>nth</th>\n",
       "      <th>periode</th>\n",
       "      <th>observation</th>\n",
       "      <th>class</th>\n",
       "      <th>MGRS</th>\n",
       "      <th>VH_30</th>\n",
       "      <th>VH_29</th>\n",
       "      <th>...</th>\n",
       "      <th>VH_4</th>\n",
       "      <th>VH_3</th>\n",
       "      <th>VH_2</th>\n",
       "      <th>VH_1</th>\n",
       "      <th>VH_0</th>\n",
       "      <th>idkabkota</th>\n",
       "      <th>cluster_data</th>\n",
       "      <th>Sigma0VH_variance</th>\n",
       "      <th>winner</th>\n",
       "      <th>prior</th>\n",
       "    </tr>\n",
       "  </thead>\n",
       "  <tbody>\n",
       "    <tr>\n",
       "      <th>0</th>\n",
       "      <td>352902031A3#23</td>\n",
       "      <td>352902031A3</td>\n",
       "      <td>352902031</td>\n",
       "      <td>1</td>\n",
       "      <td>2022_03</td>\n",
       "      <td>2</td>\n",
       "      <td>V2</td>\n",
       "      <td>49MHN</td>\n",
       "      <td>-14.442355</td>\n",
       "      <td>-14.630594</td>\n",
       "      <td>...</td>\n",
       "      <td>-15.103313</td>\n",
       "      <td>-14.772108</td>\n",
       "      <td>-13.547131</td>\n",
       "      <td>-15.910433</td>\n",
       "      <td>-14.354086</td>\n",
       "      <td>3529</td>\n",
       "      <td>8</td>\n",
       "      <td>0.306146</td>\n",
       "      <td>R19C14</td>\n",
       "      <td>0.061788</td>\n",
       "    </tr>\n",
       "    <tr>\n",
       "      <th>1</th>\n",
       "      <td>352902032A2#09</td>\n",
       "      <td>352902032A2</td>\n",
       "      <td>352902032</td>\n",
       "      <td>1</td>\n",
       "      <td>2022_03</td>\n",
       "      <td>2</td>\n",
       "      <td>V2</td>\n",
       "      <td>49MHN</td>\n",
       "      <td>-14.780339</td>\n",
       "      <td>-14.659796</td>\n",
       "      <td>...</td>\n",
       "      <td>-15.058085</td>\n",
       "      <td>-14.376867</td>\n",
       "      <td>-14.307077</td>\n",
       "      <td>-13.904964</td>\n",
       "      <td>-13.743226</td>\n",
       "      <td>3529</td>\n",
       "      <td>8</td>\n",
       "      <td>0.241498</td>\n",
       "      <td>R19C14</td>\n",
       "      <td>0.061788</td>\n",
       "    </tr>\n",
       "    <tr>\n",
       "      <th>2</th>\n",
       "      <td>352902032B3#23</td>\n",
       "      <td>352902032B3</td>\n",
       "      <td>352902032</td>\n",
       "      <td>1</td>\n",
       "      <td>2022_03</td>\n",
       "      <td>2</td>\n",
       "      <td>V2</td>\n",
       "      <td>49MHN</td>\n",
       "      <td>-14.889246</td>\n",
       "      <td>-14.054317</td>\n",
       "      <td>...</td>\n",
       "      <td>-16.695141</td>\n",
       "      <td>-15.863261</td>\n",
       "      <td>-15.827219</td>\n",
       "      <td>-15.949875</td>\n",
       "      <td>-15.095640</td>\n",
       "      <td>3529</td>\n",
       "      <td>8</td>\n",
       "      <td>0.236998</td>\n",
       "      <td>R19C14</td>\n",
       "      <td>0.061788</td>\n",
       "    </tr>\n",
       "    <tr>\n",
       "      <th>3</th>\n",
       "      <td>352903002A1#10</td>\n",
       "      <td>352903002A1</td>\n",
       "      <td>352903002</td>\n",
       "      <td>1</td>\n",
       "      <td>2022_03</td>\n",
       "      <td>2</td>\n",
       "      <td>V2</td>\n",
       "      <td>49MHN</td>\n",
       "      <td>-21.030432</td>\n",
       "      <td>-18.848495</td>\n",
       "      <td>...</td>\n",
       "      <td>-20.426426</td>\n",
       "      <td>-19.460685</td>\n",
       "      <td>-19.205427</td>\n",
       "      <td>-19.538044</td>\n",
       "      <td>-19.017312</td>\n",
       "      <td>3529</td>\n",
       "      <td>8</td>\n",
       "      <td>0.193751</td>\n",
       "      <td>R11C15</td>\n",
       "      <td>0.218776</td>\n",
       "    </tr>\n",
       "    <tr>\n",
       "      <th>4</th>\n",
       "      <td>352903002B1#10</td>\n",
       "      <td>352903002B1</td>\n",
       "      <td>352903002</td>\n",
       "      <td>1</td>\n",
       "      <td>2022_03</td>\n",
       "      <td>2</td>\n",
       "      <td>V2</td>\n",
       "      <td>49MHN</td>\n",
       "      <td>-23.875937</td>\n",
       "      <td>-23.916334</td>\n",
       "      <td>...</td>\n",
       "      <td>-20.064854</td>\n",
       "      <td>-19.911311</td>\n",
       "      <td>-22.819595</td>\n",
       "      <td>-17.958206</td>\n",
       "      <td>-19.311778</td>\n",
       "      <td>3529</td>\n",
       "      <td>8</td>\n",
       "      <td>0.900768</td>\n",
       "      <td>R10C17</td>\n",
       "      <td>0.091853</td>\n",
       "    </tr>\n",
       "  </tbody>\n",
       "</table>\n",
       "<p>5 rows × 44 columns</p>\n",
       "</div>"
      ],
      "text/plain": [
       "          idpoint idsubsegment  idsegment  nth  periode  observation class  \\\n",
       "0  352902031A3#23  352902031A3  352902031    1  2022_03            2    V2   \n",
       "1  352902032A2#09  352902032A2  352902032    1  2022_03            2    V2   \n",
       "2  352902032B3#23  352902032B3  352902032    1  2022_03            2    V2   \n",
       "3  352903002A1#10  352903002A1  352903002    1  2022_03            2    V2   \n",
       "4  352903002B1#10  352903002B1  352903002    1  2022_03            2    V2   \n",
       "\n",
       "    MGRS      VH_30      VH_29  ...       VH_4       VH_3       VH_2  \\\n",
       "0  49MHN -14.442355 -14.630594  ... -15.103313 -14.772108 -13.547131   \n",
       "1  49MHN -14.780339 -14.659796  ... -15.058085 -14.376867 -14.307077   \n",
       "2  49MHN -14.889246 -14.054317  ... -16.695141 -15.863261 -15.827219   \n",
       "3  49MHN -21.030432 -18.848495  ... -20.426426 -19.460685 -19.205427   \n",
       "4  49MHN -23.875937 -23.916334  ... -20.064854 -19.911311 -22.819595   \n",
       "\n",
       "        VH_1       VH_0  idkabkota  cluster_data  Sigma0VH_variance  winner  \\\n",
       "0 -15.910433 -14.354086       3529             8           0.306146  R19C14   \n",
       "1 -13.904964 -13.743226       3529             8           0.241498  R19C14   \n",
       "2 -15.949875 -15.095640       3529             8           0.236998  R19C14   \n",
       "3 -19.538044 -19.017312       3529             8           0.193751  R11C15   \n",
       "4 -17.958206 -19.311778       3529             8           0.900768  R10C17   \n",
       "\n",
       "      prior  \n",
       "0  0.061788  \n",
       "1  0.061788  \n",
       "2  0.061788  \n",
       "3  0.218776  \n",
       "4  0.091853  \n",
       "\n",
       "[5 rows x 44 columns]"
      ]
     },
     "execution_count": 6,
     "metadata": {},
     "output_type": "execute_result"
    }
   ],
   "source": [
    "## Read VH dataset\n",
    "with open(f'/data/ksa/04_Data_Preprocessing/training-test/{kdprov}/training_VH_v2.pkl','rb') as file:\n",
    "    df=pickle.load(file)\n",
    "    if isinstance(df, pl.DataFrame):\n",
    "        df=df.to_pandas()\n",
    "print(df.shape)\n",
    "df.head()"
   ]
  },
  {
   "cell_type": "code",
   "execution_count": 7,
   "id": "ba9b5bc3-277c-4dc7-8e2b-40debb17c2cf",
   "metadata": {
    "execution": {
     "iopub.execute_input": "2024-10-24T02:34:06.783384Z",
     "iopub.status.busy": "2024-10-24T02:34:06.782507Z",
     "iopub.status.idle": "2024-10-24T02:34:09.084717Z",
     "shell.execute_reply": "2024-10-24T02:34:09.083602Z"
    },
    "papermill": {
     "duration": 2.31217,
     "end_time": "2024-10-24T02:34:09.089728",
     "exception": false,
     "start_time": "2024-10-24T02:34:06.777558",
     "status": "completed"
    },
    "tags": []
   },
   "outputs": [
    {
     "data": {
      "image/png": "[encoded data removed]",
      "text/plain": [
       "<Figure size 640x480 with 1 Axes>"
      ]
     },
     "metadata": {},
     "output_type": "display_data"
    }
   ],
   "source": [
    "sns.countplot(x='observation', hue='cluster_data', data=df,palette=sns.color_palette(\"Set2\"))\n",
    "plt.savefig(f\"/data/ksa/05_Modelling/picture/{kdprov}_distirbution_plot.png\", dpi=300, bbox_inches='tight')\n"
   ]
  },
  {
   "cell_type": "markdown",
   "id": "da80a265-9a12-4d2c-8b96-17ad999f2b53",
   "metadata": {
    "papermill": {
     "duration": 0.004489,
     "end_time": "2024-10-24T02:34:09.098684",
     "exception": false,
     "start_time": "2024-10-24T02:34:09.094195",
     "status": "completed"
    },
    "tags": []
   },
   "source": [
    "### Running Data"
   ]
  },
  {
   "cell_type": "code",
   "execution_count": 8,
   "id": "94f2a9fa-36a6-47a7-ab48-85cdb1f2f569",
   "metadata": {
    "execution": {
     "iopub.execute_input": "2024-10-24T02:34:09.166066Z",
     "iopub.status.busy": "2024-10-24T02:34:09.164993Z",
     "iopub.status.idle": "2024-10-24T02:34:09.178060Z",
     "shell.execute_reply": "2024-10-24T02:34:09.176563Z"
    },
    "papermill": {
     "duration": 0.021979,
     "end_time": "2024-10-24T02:34:09.180784",
     "exception": false,
     "start_time": "2024-10-24T02:34:09.158805",
     "status": "completed"
    },
    "tags": []
   },
   "outputs": [],
   "source": [
    "import optuna\n",
    "from xgboost import XGBClassifier\n",
    "\n",
    "# Example dataset\n",
    "\n",
    "# Define the objective function for Bayesian Optimization\n",
    "def objective(trial,X_train, y_train, n_splits=3):\n",
    "    \n",
    "    param = {\n",
    "        'max_depth': trial.suggest_int('max_depth', 6, 10),\n",
    "        'learning_rate': trial.suggest_uniform('learning_rate', 0.01, 0.1),\n",
    "        #'subsample': trial.suggest_uniform('subsample', 0.5, 0.7),\n",
    "        #'colsample_bytree': trial.suggest_uniform('colsample_bytree', 0.5, 0.7),\n",
    "        #'colsample_bylevel': trial.suggest_uniform('colsample_bylevel', 0.5, 0.7),\n",
    "        'reg_lambda': trial.suggest_uniform('reg_lambda', 0.1, 5),\n",
    "        'min_child_weight': trial.suggest_int('min_child_weight', 50, 100),\n",
    "        'objective': 'multi:softprob',  # Multiclass classification\n",
    "        'eval_metric': ['mlogloss'],\n",
    "        \"tree_method\":'hist',\n",
    "        \"num_class\": len(set(y_train)),\n",
    "        \"nthread\":20\n",
    "    }\n",
    "    \n",
    "    # Define the model\n",
    "    skf = StratifiedKFold(n_splits=n_splits,shuffle=True, random_state=42)\n",
    "    f1_macros=[]\n",
    "    for train_index, val_index in skf.split(X_train, y_train):\n",
    "        X_train_fold, X_val_fold = X_train.iloc[train_index], X_train.iloc[val_index]\n",
    "        y_train_fold, y_val_fold = y_train[train_index], y_train[val_index]\n",
    "\n",
    "        class_counts = Counter(y_train_fold)\n",
    "        total_samples = len(y_train_fold)\n",
    "        # Step 3: Calculate class weights as inverse of class frequency\n",
    "        class_weights = {cls: total_samples / count for cls, count in class_counts.items()}\n",
    "        sample_weights = np.array([class_weights[label] for label in y_train_fold])\n",
    "        # Create DMatrix with sample weights\n",
    "        dtrain_fold = xgb.DMatrix(X_train_fold, label=y_train_fold, enable_categorical=True, weight=sample_weights)\n",
    "        dval_fold = xgb.DMatrix(X_val_fold, label=y_val_fold, enable_categorical=True)\n",
    "        \n",
    "        evals = [(dtrain_fold, 'train'), (dval_fold, 'eval')]\n",
    "        model = xgb.train(param, dtrain_fold, \n",
    "                          num_boost_round=1000, evals=evals,early_stopping_rounds=50,\n",
    "                          verbose_eval=False)\n",
    "        y_val_pred_prob = model.predict(dval_fold)\n",
    "        y_val_pred = y_val_pred_prob.argmax(axis=1)\n",
    "        f1_macros.append(f1_score(y_val_fold, y_val_pred, average='macro'))\n",
    "    score=np.mean(f1_macros)\n",
    "    \n",
    "    return score"
   ]
  },
  {
   "cell_type": "code",
   "execution_count": 9,
   "id": "d60642b2-2944-4f3d-b337-3250ba03a3cd",
   "metadata": {
    "execution": {
     "iopub.execute_input": "2024-10-24T02:34:09.195915Z",
     "iopub.status.busy": "2024-10-24T02:34:09.195156Z",
     "iopub.status.idle": "2024-10-24T02:34:09.215969Z",
     "shell.execute_reply": "2024-10-24T02:34:09.215083Z"
    },
    "papermill": {
     "duration": 0.030718,
     "end_time": "2024-10-24T02:34:09.219779",
     "exception": false,
     "start_time": "2024-10-24T02:34:09.189061",
     "status": "completed"
    },
    "tags": []
   },
   "outputs": [],
   "source": [
    "def evaluate_model(X_train, y_train, X_test, y_test,cluster, best_params, n_splits=3):\n",
    "    # Convert data to DMatrix for XGBoost\n",
    "    class_counts = Counter(y_train)\n",
    "    total_samples = len(y_train)\n",
    "        # Step 3: Calculate class weights as inverse of class frequency\n",
    "    class_weights = {cls: total_samples / count for cls, count in class_counts.items()}\n",
    "    sample_weights = np.array([class_weights[label] for label in y_train])\n",
    "        # Create DMatrix with sample weights\n",
    "        \n",
    "    dtrain = xgb.DMatrix(X_train, label=y_train, enable_categorical=True,weight=sample_weights)\n",
    "    dtest = xgb.DMatrix(X_test, label=y_test, enable_categorical=True)\n",
    "    \n",
    "    params = best_params\n",
    "    params['objective']=\"multi:softprob\"\n",
    "    #params['tree_method']='approx'\n",
    "    params['eval_metric']='mlogloss'\n",
    "    params['num_class']=len(set(y_train))\n",
    "    params['nthread']=20\n",
    "    # Stratified K-Fold Cross Validation\n",
    "    skf = StratifiedKFold(n_splits=n_splits, shuffle=True, random_state=42)\n",
    "    \n",
    "    accuracies = []\n",
    "    f1_macros = []\n",
    "    f1_micros = []\n",
    "    aucs = []\n",
    "    acc_kelas_generatifs = []\n",
    "    acc_fase_padis = []\n",
    "\n",
    "    for train_index, val_index in skf.split(X_train, y_train):\n",
    "        X_train_fold, X_val_fold = X_train.iloc[train_index], X_train.iloc[val_index]\n",
    "        y_train_fold, y_val_fold = y_train[train_index], y_train[val_index]\n",
    "\n",
    "        class_counts = Counter(y_train_fold)\n",
    "        total_samples = len(y_train_fold)\n",
    "        # Step 3: Calculate class weights as inverse of class frequency\n",
    "        class_weights = {cls: total_samples / count for cls, count in class_counts.items()}\n",
    "        sample_weights = np.array([class_weights[label] for label in y_train_fold])\n",
    "        # Create DMatrix with sample weights\n",
    "        dtrain_fold = xgb.DMatrix(X_train_fold, label=y_train_fold, enable_categorical=True, weight=sample_weights)\n",
    "        dval_fold = xgb.DMatrix(X_val_fold, label=y_val_fold, enable_categorical=True)\n",
    "        \n",
    "        evals = [(dtrain_fold, 'train'), (dval_fold, 'eval')]\n",
    "        model = xgb.train(params, dtrain_fold, \n",
    "                          num_boost_round=10000, evals=evals,early_stopping_rounds=1000,verbose_eval=100)\n",
    "        \n",
    "        y_val_pred_prob = model.predict(dval_fold)\n",
    "        y_val_pred = y_val_pred_prob.argmax(axis=1)\n",
    "        \n",
    "        accuracies.append(accuracy_score(y_val_fold, y_val_pred))\n",
    "        f1_macros.append(f1_score(y_val_fold, y_val_pred, average='macro'))\n",
    "        f1_micros.append(f1_score(y_val_fold, y_val_pred, average='micro'))\n",
    "        aucs.append(roc_auc_score(y_val_fold, y_val_pred_prob, multi_class='ovr'))\n",
    "        acc_kelas_generatifs.append(akurasi_kelas_generatif(y_val_fold, y_val_pred))\n",
    "        acc_fase_padis.append(akurasi_fase_padi(y_val_fold, y_val_pred))\n",
    "\n",
    "    # Calculate average metrics\n",
    "    avg_accuracy = sum(accuracies) / len(accuracies)\n",
    "    avg_f1_macro = sum(f1_macros) / len(f1_macros)\n",
    "    avg_f1_micro = sum(f1_micros) / len(f1_micros)\n",
    "    avg_auc = sum(aucs) / len(aucs)\n",
    "    avg_acc_kelas_generatif = sum(acc_kelas_generatifs) / len(acc_kelas_generatifs)\n",
    "    avg_acc_fase_padi = sum(acc_fase_padis) / len(acc_fase_padis)\n",
    "    training_metrics = {\n",
    "        \"average_accuracy\": avg_accuracy,\n",
    "        \"average_f1_macro\": avg_f1_macro,\n",
    "        \"average_f1_micro\": avg_f1_micro,\n",
    "        \"average_auc\": avg_auc,\n",
    "        \"average_acc_kelas_generatif\": avg_acc_kelas_generatif,\n",
    "        \"average_acc_fase_padi\": avg_acc_fase_padi\n",
    "    }\n",
    "\n",
    "    \n",
    "    # Final model evaluation on the test set\n",
    "    evals = [(dtrain, 'train'), (dtest, 'eval')]\n",
    "    model = xgb.train(params, dtrain, \n",
    "                      num_boost_round=1000, evals=evals,early_stopping_rounds=50,\n",
    "                      verbose_eval=50)\n",
    "    y_test_pred_prob = model.predict(dtest)\n",
    "    y_test_pred = y_test_pred_prob.argmax(axis=1)\n",
    "\n",
    "    accuracy = accuracy_score(y_test, y_test_pred)\n",
    "    f1_macro = f1_score(y_test, y_test_pred, average='macro')\n",
    "    f1_micro = f1_score(y_test, y_test_pred, average='micro')\n",
    "    auc = roc_auc_score(y_test, y_test_pred_prob, multi_class='ovr')\n",
    "    acc_kelas_generatif = akurasi_kelas_generatif(y_test, y_test_pred)\n",
    "    acc_fase_padi = akurasi_fase_padi(y_test, y_test_pred)\n",
    "    \n",
    "    cm = confusion_matrix(y_test, y_test_pred)\n",
    "    relative_acc = 100 * (sum(cm[1, 1:3]) + sum(cm[1, 5:6]) + \n",
    "                          sum(cm[2, 1:4]) + \n",
    "                          sum(cm[3, 2:5]) + \n",
    "                          sum(cm[4, 3:6]) + \n",
    "                          sum(cm[5, 4:6])+sum(cm[5,1:2])) / sum(sum(cm[1:6, 1:6]))\n",
    "    validation_metrics = {\n",
    "        \"val_accuracy\": accuracy,\n",
    "        \"val_f1_macro\": f1_macro,\n",
    "        \"val_f1_micro\": f1_micro,\n",
    "        \"val_auc\": auc,\n",
    "        \"val_acc_kelas_generatif\": acc_kelas_generatif,\n",
    "        \"val_acc_fase_padi\": acc_fase_padi,\n",
    "        \"val_relative_acc\": relative_acc\n",
    "    }\n",
    "\n",
    "    print(\"\\nClassification Report on Test Set:\")\n",
    "    report = classification_report(y_test, y_test_pred)\n",
    "    print(report)\n",
    "    \n",
    "    # Display Confusion Matrix\n",
    "    cm_percentage = cm.astype('float') / cm.sum(axis=1)[:, np.newaxis] * 100\n",
    "\n",
    "    disp = ConfusionMatrixDisplay(confusion_matrix=cm_percentage)\n",
    "    disp.plot(cmap=plt.cm.Blues)\n",
    "    plt.savefig(f\"/data/ksa/05_Modelling/picture/{kdprov}_cm_cluster_{cluster}.png\", dpi=300, bbox_inches='tight')\n",
    "    plt.show()\n",
    "    \n",
    "    return model, training_metrics, validation_metrics, report, cm"
   ]
  },
  {
   "cell_type": "code",
   "execution_count": 10,
   "id": "f4462c6e-e78a-4409-8951-07e164e2986c",
   "metadata": {
    "editable": true,
    "execution": {
     "iopub.execute_input": "2024-10-24T02:34:09.235607Z",
     "iopub.status.busy": "2024-10-24T02:34:09.234821Z",
     "iopub.status.idle": "2024-10-24T04:52:34.725022Z",
     "shell.execute_reply": "2024-10-24T04:52:34.724046Z"
    },
    "papermill": {
     "duration": 8305.499717,
     "end_time": "2024-10-24T04:52:34.729373",
     "exception": false,
     "start_time": "2024-10-24T02:34:09.229656",
     "status": "completed"
    },
    "slideshow": {
     "slide_type": ""
    },
    "tags": []
   },
   "outputs": [
    {
     "name": "stdout",
     "output_type": "stream",
     "text": [
      "=============================================================================\n",
      "CLUSTER:  0\n"
     ]
    },
    {
     "name": "stderr",
     "output_type": "stream",
     "text": [
      "[I 2024-10-24 09:34:10,213] A new study created in memory with name: no-name-e2bd8382-5822-4a25-b6bc-66bb0292efa4\n"
     ]
    },
    {
     "name": "stdout",
     "output_type": "stream",
     "text": [
      "[3 2 6 1 4 0 5]\n",
      "[0 1 2 3 4 5 6]\n",
      "Mapping of original to encoded classes: {np.int64(0): np.int64(0), np.int64(1): np.int64(1), np.int64(2): np.int64(2), np.int64(3): np.int64(3), np.int64(4): np.int64(4), np.int64(5): np.int64(5), np.int64(6): np.int64(6)}\n",
      "Build Best Parameter using Optuna-Hyperparameter Tuning\n"
     ]
    },
    {
     "name": "stderr",
     "output_type": "stream",
     "text": [
      "[I 2024-10-24 09:34:45,951] Trial 0 finished with value: 0.8338590671315843 and parameters: {'max_depth': 7, 'learning_rate': 0.05653271402934078, 'reg_lambda': 3.468467879379797, 'min_child_weight': 92}. Best is trial 0 with value: 0.8338590671315843.\n"
     ]
    },
    {
     "name": "stderr",
     "output_type": "stream",
     "text": [
      "[I 2024-10-24 09:35:17,327] Trial 1 finished with value: 0.832563846031947 and parameters: {'max_depth': 6, 'learning_rate': 0.07177806992812899, 'reg_lambda': 2.902206033090663, 'min_child_weight': 97}. Best is trial 0 with value: 0.8338590671315843.\n"
     ]
    },
    {
     "name": "stderr",
     "output_type": "stream",
     "text": [
      "[I 2024-10-24 09:35:50,566] Trial 2 finished with value: 0.8343759475136673 and parameters: {'max_depth': 6, 'learning_rate': 0.0655343372644554, 'reg_lambda': 3.5874839249314854, 'min_child_weight': 96}. Best is trial 2 with value: 0.8343759475136673.\n"
     ]
    },
    {
     "name": "stderr",
     "output_type": "stream",
     "text": [
      "[I 2024-10-24 09:37:06,481] Trial 3 finished with value: 0.8368623395503878 and parameters: {'max_depth': 10, 'learning_rate': 0.03853136270511873, 'reg_lambda': 0.582088165608649, 'min_child_weight': 76}. Best is trial 3 with value: 0.8368623395503878.\n"
     ]
    },
    {
     "name": "stderr",
     "output_type": "stream",
     "text": [
      "[I 2024-10-24 09:39:34,682] Trial 4 finished with value: 0.8346209590664504 and parameters: {'max_depth': 9, 'learning_rate': 0.018248398467847114, 'reg_lambda': 1.188820302111872, 'min_child_weight': 89}. Best is trial 3 with value: 0.8368623395503878.\n"
     ]
    },
    {
     "name": "stderr",
     "output_type": "stream",
     "text": [
      "[I 2024-10-24 09:41:17,680] Trial 5 finished with value: 0.8331400454754831 and parameters: {'max_depth': 6, 'learning_rate': 0.035638312079805536, 'reg_lambda': 0.6414997471702518, 'min_child_weight': 95}. Best is trial 3 with value: 0.8368623395503878.\n"
     ]
    },
    {
     "name": "stderr",
     "output_type": "stream",
     "text": [
      "[I 2024-10-24 09:42:30,581] Trial 6 finished with value: 0.8367960657883593 and parameters: {'max_depth': 9, 'learning_rate': 0.05184272177903452, 'reg_lambda': 4.259548000877224, 'min_child_weight': 97}. Best is trial 3 with value: 0.8368623395503878.\n"
     ]
    },
    {
     "name": "stderr",
     "output_type": "stream",
     "text": [
      "[I 2024-10-24 09:44:30,350] Trial 7 finished with value: 0.8320473004084409 and parameters: {'max_depth': 7, 'learning_rate': 0.020898906151605664, 'reg_lambda': 2.0786831476118124, 'min_child_weight': 90}. Best is trial 3 with value: 0.8368623395503878.\n"
     ]
    },
    {
     "name": "stderr",
     "output_type": "stream",
     "text": [
      "[I 2024-10-24 09:45:10,151] Trial 8 finished with value: 0.8332920831028422 and parameters: {'max_depth': 9, 'learning_rate': 0.09737750353626524, 'reg_lambda': 0.7036566243043856, 'min_child_weight': 88}. Best is trial 3 with value: 0.8368623395503878.\n"
     ]
    },
    {
     "name": "stderr",
     "output_type": "stream",
     "text": [
      "[I 2024-10-24 09:46:15,254] Trial 9 finished with value: 0.8347253998974496 and parameters: {'max_depth': 8, 'learning_rate': 0.055120157713768936, 'reg_lambda': 0.3255440135944404, 'min_child_weight': 83}. Best is trial 3 with value: 0.8368623395503878.\n"
     ]
    },
    {
     "name": "stderr",
     "output_type": "stream",
     "text": [
      "[I 2024-10-24 09:47:50,927] Trial 10 finished with value: 0.8367235478147886 and parameters: {'max_depth': 10, 'learning_rate': 0.03576430556431105, 'reg_lambda': 1.7277553592433674, 'min_child_weight': 62}. Best is trial 3 with value: 0.8368623395503878.\n"
     ]
    },
    {
     "name": "stderr",
     "output_type": "stream",
     "text": [
      "[I 2024-10-24 09:49:19,719] Trial 11 finished with value: 0.8360551593241751 and parameters: {'max_depth': 10, 'learning_rate': 0.038560072499980245, 'reg_lambda': 4.750065985108154, 'min_child_weight': 71}. Best is trial 3 with value: 0.8368623395503878.\n"
     ]
    },
    {
     "name": "stderr",
     "output_type": "stream",
     "text": [
      "[I 2024-10-24 09:50:04,744] Trial 12 finished with value: 0.8364920575313003 and parameters: {'max_depth': 9, 'learning_rate': 0.0831434010854111, 'reg_lambda': 4.627322649866044, 'min_child_weight': 75}. Best is trial 3 with value: 0.8368623395503878.\n"
     ]
    },
    {
     "name": "stderr",
     "output_type": "stream",
     "text": [
      "[I 2024-10-24 09:51:16,262] Trial 13 finished with value: 0.8363151505710297 and parameters: {'max_depth': 10, 'learning_rate': 0.04482511871956621, 'reg_lambda': 4.093546698877548, 'min_child_weight': 50}. Best is trial 3 with value: 0.8368623395503878.\n"
     ]
    },
    {
     "name": "stderr",
     "output_type": "stream",
     "text": [
      "[I 2024-10-24 09:52:28,865] Trial 14 finished with value: 0.8361841533298316 and parameters: {'max_depth': 9, 'learning_rate': 0.04812062041744646, 'reg_lambda': 2.6446449031469093, 'min_child_weight': 66}. Best is trial 3 with value: 0.8368623395503878.\n"
     ]
    },
    {
     "name": "stderr",
     "output_type": "stream",
     "text": [
      "[I 2024-10-24 09:54:23,229] Trial 15 finished with value: 0.8340891508945595 and parameters: {'max_depth': 8, 'learning_rate': 0.028271306516869876, 'reg_lambda': 1.5611289004673852, 'min_child_weight': 81}. Best is trial 3 with value: 0.8368623395503878.\n"
     ]
    },
    {
     "name": "stderr",
     "output_type": "stream",
     "text": [
      "[I 2024-10-24 09:55:16,466] Trial 16 finished with value: 0.8366940664092103 and parameters: {'max_depth': 10, 'learning_rate': 0.06588491650957214, 'reg_lambda': 3.2012903152128662, 'min_child_weight': 57}. Best is trial 3 with value: 0.8368623395503878.\n"
     ]
    },
    {
     "name": "stderr",
     "output_type": "stream",
     "text": [
      "[I 2024-10-24 09:56:07,157] Trial 17 finished with value: 0.836005728218484 and parameters: {'max_depth': 9, 'learning_rate': 0.07738330557367872, 'reg_lambda': 2.2169771625320953, 'min_child_weight': 100}. Best is trial 3 with value: 0.8368623395503878.\n"
     ]
    },
    {
     "name": "stderr",
     "output_type": "stream",
     "text": [
      "[I 2024-10-24 09:57:19,283] Trial 18 finished with value: 0.833136639385387 and parameters: {'max_depth': 8, 'learning_rate': 0.04871079941276971, 'reg_lambda': 4.0304033582038326, 'min_child_weight': 82}. Best is trial 3 with value: 0.8368623395503878.\n"
     ]
    },
    {
     "name": "stderr",
     "output_type": "stream",
     "text": [
      "[I 2024-10-24 09:58:42,008] Trial 19 finished with value: 0.8364407854334585 and parameters: {'max_depth': 10, 'learning_rate': 0.026474465282529266, 'reg_lambda': 0.15858019626544095, 'min_child_weight': 76}. Best is trial 3 with value: 0.8368623395503878.\n"
     ]
    },
    {
     "name": "stdout",
     "output_type": "stream",
     "text": [
      "Best Parameters: {'max_depth': 10, 'learning_rate': 0.03853136270511873, 'reg_lambda': 0.582088165608649, 'min_child_weight': 76}\n",
      "Best Score: 0.8368623395503878\n",
      "Start the modelling\n",
      "[0]\ttrain-mlogloss:1.86304\teval-mlogloss:1.86636\n"
     ]
    },
    {
     "name": "stdout",
     "output_type": "stream",
     "text": [
      "[100]\ttrain-mlogloss:0.30312\teval-mlogloss:0.49059\n"
     ]
    },
    {
     "name": "stdout",
     "output_type": "stream",
     "text": [
      "[200]\ttrain-mlogloss:0.16473\teval-mlogloss:0.40473\n"
     ]
    },
    {
     "name": "stdout",
     "output_type": "stream",
     "text": [
      "[300]\ttrain-mlogloss:0.11348\teval-mlogloss:0.38334\n"
     ]
    },
    {
     "name": "stdout",
     "output_type": "stream",
     "text": [
      "[400]\ttrain-mlogloss:0.08296\teval-mlogloss:0.37684\n"
     ]
    },
    {
     "name": "stdout",
     "output_type": "stream",
     "text": [
      "[500]\ttrain-mlogloss:0.06373\teval-mlogloss:0.37551\n"
     ]
    },
    {
     "name": "stdout",
     "output_type": "stream",
     "text": [
      "[600]\ttrain-mlogloss:0.05155\teval-mlogloss:0.37597\n"
     ]
    },
    {
     "name": "stdout",
     "output_type": "stream",
     "text": [
      "[700]\ttrain-mlogloss:0.04264\teval-mlogloss:0.37809\n"
     ]
    },
    {
     "name": "stdout",
     "output_type": "stream",
     "text": [
      "[800]\ttrain-mlogloss:0.03688\teval-mlogloss:0.38035\n"
     ]
    },
    {
     "name": "stdout",
     "output_type": "stream",
     "text": [
      "[900]\ttrain-mlogloss:0.03228\teval-mlogloss:0.38346\n"
     ]
    },
    {
     "name": "stdout",
     "output_type": "stream",
     "text": [
      "[1000]\ttrain-mlogloss:0.02862\teval-mlogloss:0.38671\n"
     ]
    },
    {
     "name": "stdout",
     "output_type": "stream",
     "text": [
      "[1100]\ttrain-mlogloss:0.02564\teval-mlogloss:0.39013\n"
     ]
    },
    {
     "name": "stdout",
     "output_type": "stream",
     "text": [
      "[1200]\ttrain-mlogloss:0.02331\teval-mlogloss:0.39309\n"
     ]
    },
    {
     "name": "stdout",
     "output_type": "stream",
     "text": [
      "[1300]\ttrain-mlogloss:0.02129\teval-mlogloss:0.39596\n"
     ]
    },
    {
     "name": "stdout",
     "output_type": "stream",
     "text": [
      "[1400]\ttrain-mlogloss:0.01963\teval-mlogloss:0.39849\n"
     ]
    },
    {
     "name": "stdout",
     "output_type": "stream",
     "text": [
      "[1493]\ttrain-mlogloss:0.01834\teval-mlogloss:0.40095\n"
     ]
    },
    {
     "name": "stdout",
     "output_type": "stream",
     "text": [
      "[0]\ttrain-mlogloss:1.86369\teval-mlogloss:1.86714\n"
     ]
    },
    {
     "name": "stdout",
     "output_type": "stream",
     "text": [
      "[100]\ttrain-mlogloss:0.30858\teval-mlogloss:0.49441\n"
     ]
    },
    {
     "name": "stdout",
     "output_type": "stream",
     "text": [
      "[200]\ttrain-mlogloss:0.16567\teval-mlogloss:0.40954\n"
     ]
    },
    {
     "name": "stdout",
     "output_type": "stream",
     "text": [
      "[300]\ttrain-mlogloss:0.11273\teval-mlogloss:0.38817\n"
     ]
    },
    {
     "name": "stdout",
     "output_type": "stream",
     "text": [
      "[400]\ttrain-mlogloss:0.08362\teval-mlogloss:0.38081\n"
     ]
    },
    {
     "name": "stdout",
     "output_type": "stream",
     "text": [
      "[500]\ttrain-mlogloss:0.06407\teval-mlogloss:0.37852\n"
     ]
    },
    {
     "name": "stdout",
     "output_type": "stream",
     "text": [
      "[600]\ttrain-mlogloss:0.05183\teval-mlogloss:0.37880\n"
     ]
    },
    {
     "name": "stdout",
     "output_type": "stream",
     "text": [
      "[700]\ttrain-mlogloss:0.04297\teval-mlogloss:0.37993\n"
     ]
    },
    {
     "name": "stdout",
     "output_type": "stream",
     "text": [
      "[800]\ttrain-mlogloss:0.03694\teval-mlogloss:0.38196\n"
     ]
    },
    {
     "name": "stdout",
     "output_type": "stream",
     "text": [
      "[900]\ttrain-mlogloss:0.03237\teval-mlogloss:0.38440\n"
     ]
    },
    {
     "name": "stdout",
     "output_type": "stream",
     "text": [
      "[1000]\ttrain-mlogloss:0.02866\teval-mlogloss:0.38729\n"
     ]
    },
    {
     "name": "stdout",
     "output_type": "stream",
     "text": [
      "[1100]\ttrain-mlogloss:0.02573\teval-mlogloss:0.39023\n"
     ]
    },
    {
     "name": "stdout",
     "output_type": "stream",
     "text": [
      "[1200]\ttrain-mlogloss:0.02333\teval-mlogloss:0.39297\n"
     ]
    },
    {
     "name": "stdout",
     "output_type": "stream",
     "text": [
      "[1300]\ttrain-mlogloss:0.02141\teval-mlogloss:0.39561\n"
     ]
    },
    {
     "name": "stdout",
     "output_type": "stream",
     "text": [
      "[1400]\ttrain-mlogloss:0.01968\teval-mlogloss:0.39793\n"
     ]
    },
    {
     "name": "stdout",
     "output_type": "stream",
     "text": [
      "[1497]\ttrain-mlogloss:0.01827\teval-mlogloss:0.40030\n"
     ]
    },
    {
     "name": "stdout",
     "output_type": "stream",
     "text": [
      "[0]\ttrain-mlogloss:1.86318\teval-mlogloss:1.86637\n"
     ]
    },
    {
     "name": "stdout",
     "output_type": "stream",
     "text": [
      "[100]\ttrain-mlogloss:0.30209\teval-mlogloss:0.48829\n"
     ]
    },
    {
     "name": "stdout",
     "output_type": "stream",
     "text": [
      "[200]\ttrain-mlogloss:0.16166\teval-mlogloss:0.40151\n"
     ]
    },
    {
     "name": "stdout",
     "output_type": "stream",
     "text": [
      "[300]\ttrain-mlogloss:0.10992\teval-mlogloss:0.38026\n"
     ]
    },
    {
     "name": "stdout",
     "output_type": "stream",
     "text": [
      "[400]\ttrain-mlogloss:0.08079\teval-mlogloss:0.37383\n"
     ]
    },
    {
     "name": "stdout",
     "output_type": "stream",
     "text": [
      "[500]\ttrain-mlogloss:0.06176\teval-mlogloss:0.37241\n"
     ]
    },
    {
     "name": "stdout",
     "output_type": "stream",
     "text": [
      "[600]\ttrain-mlogloss:0.05034\teval-mlogloss:0.37362\n"
     ]
    },
    {
     "name": "stdout",
     "output_type": "stream",
     "text": [
      "[700]\ttrain-mlogloss:0.04209\teval-mlogloss:0.37570\n"
     ]
    },
    {
     "name": "stdout",
     "output_type": "stream",
     "text": [
      "[800]\ttrain-mlogloss:0.03591\teval-mlogloss:0.37802\n"
     ]
    },
    {
     "name": "stdout",
     "output_type": "stream",
     "text": [
      "[900]\ttrain-mlogloss:0.03161\teval-mlogloss:0.38088\n"
     ]
    },
    {
     "name": "stdout",
     "output_type": "stream",
     "text": [
      "[1000]\ttrain-mlogloss:0.02814\teval-mlogloss:0.38410\n"
     ]
    },
    {
     "name": "stdout",
     "output_type": "stream",
     "text": [
      "[1100]\ttrain-mlogloss:0.02543\teval-mlogloss:0.38755\n"
     ]
    },
    {
     "name": "stdout",
     "output_type": "stream",
     "text": [
      "[1200]\ttrain-mlogloss:0.02321\teval-mlogloss:0.39029\n"
     ]
    },
    {
     "name": "stdout",
     "output_type": "stream",
     "text": [
      "[1300]\ttrain-mlogloss:0.02119\teval-mlogloss:0.39353\n"
     ]
    },
    {
     "name": "stdout",
     "output_type": "stream",
     "text": [
      "[1400]\ttrain-mlogloss:0.01946\teval-mlogloss:0.39667\n"
     ]
    },
    {
     "name": "stdout",
     "output_type": "stream",
     "text": [
      "[1493]\ttrain-mlogloss:0.01811\teval-mlogloss:0.39919\n"
     ]
    },
    {
     "name": "stdout",
     "output_type": "stream",
     "text": [
      "[0]\ttrain-mlogloss:1.86168\teval-mlogloss:1.86468\n"
     ]
    },
    {
     "name": "stdout",
     "output_type": "stream",
     "text": [
      "[50]\ttrain-mlogloss:0.56809\teval-mlogloss:0.66921\n"
     ]
    },
    {
     "name": "stdout",
     "output_type": "stream",
     "text": [
      "[100]\ttrain-mlogloss:0.31774\teval-mlogloss:0.47334\n"
     ]
    },
    {
     "name": "stdout",
     "output_type": "stream",
     "text": [
      "[150]\ttrain-mlogloss:0.22849\teval-mlogloss:0.41477\n"
     ]
    },
    {
     "name": "stdout",
     "output_type": "stream",
     "text": [
      "[200]\ttrain-mlogloss:0.18277\teval-mlogloss:0.38951\n"
     ]
    },
    {
     "name": "stdout",
     "output_type": "stream",
     "text": [
      "[250]\ttrain-mlogloss:0.15198\teval-mlogloss:0.37560\n"
     ]
    },
    {
     "name": "stdout",
     "output_type": "stream",
     "text": [
      "[300]\ttrain-mlogloss:0.12927\teval-mlogloss:0.36712\n"
     ]
    },
    {
     "name": "stdout",
     "output_type": "stream",
     "text": [
      "[350]\ttrain-mlogloss:0.11208\teval-mlogloss:0.36161\n"
     ]
    },
    {
     "name": "stdout",
     "output_type": "stream",
     "text": [
      "[400]\ttrain-mlogloss:0.09752\teval-mlogloss:0.35804\n"
     ]
    },
    {
     "name": "stdout",
     "output_type": "stream",
     "text": [
      "[450]\ttrain-mlogloss:0.08551\teval-mlogloss:0.35564\n"
     ]
    },
    {
     "name": "stdout",
     "output_type": "stream",
     "text": [
      "[500]\ttrain-mlogloss:0.07549\teval-mlogloss:0.35407\n"
     ]
    },
    {
     "name": "stdout",
     "output_type": "stream",
     "text": [
      "[550]\ttrain-mlogloss:0.06821\teval-mlogloss:0.35325\n"
     ]
    },
    {
     "name": "stdout",
     "output_type": "stream",
     "text": [
      "[600]\ttrain-mlogloss:0.06153\teval-mlogloss:0.35296\n"
     ]
    },
    {
     "name": "stdout",
     "output_type": "stream",
     "text": [
      "[650]\ttrain-mlogloss:0.05626\teval-mlogloss:0.35301\n"
     ]
    },
    {
     "name": "stdout",
     "output_type": "stream",
     "text": [
      "[667]\ttrain-mlogloss:0.05454\teval-mlogloss:0.35308\n"
     ]
    },
    {
     "name": "stdout",
     "output_type": "stream",
     "text": [
      "\n",
      "Classification Report on Test Set:\n",
      "              precision    recall  f1-score   support\n",
      "\n",
      "           0       0.79      0.61      0.69      5466\n",
      "           1       0.92      0.94      0.93     11819\n",
      "           2       0.96      0.96      0.96     12092\n",
      "           3       0.95      0.95      0.95     12996\n",
      "           4       0.94      0.97      0.96     10051\n",
      "           5       0.64      0.57      0.61      6604\n",
      "           6       0.78      0.86      0.82     13907\n",
      "\n",
      "    accuracy                           0.88     72935\n",
      "   macro avg       0.85      0.84      0.84     72935\n",
      "weighted avg       0.87      0.88      0.87     72935\n",
      "\n"
     ]
    },
    {
     "data": {
      "image/png": "[encoded data removed]",
      "text/plain": [
       "<Figure size 640x480 with 1 Axes>"
      ]
     },
     "metadata": {},
     "output_type": "display_data"
    },
    {
     "data": {
      "image/png": "[encoded data removed]",
      "text/plain": [
       "<Figure size 640x480 with 2 Axes>"
      ]
     },
     "metadata": {},
     "output_type": "display_data"
    },
    {
     "name": "stdout",
     "output_type": "stream",
     "text": [
      "{'average_accuracy': 0.8720286655789103, 'average_f1_macro': np.float64(0.8388586941479651), 'average_f1_micro': np.float64(0.8720286655789103), 'average_auc': np.float64(0.9755651266377212), 'average_acc_kelas_generatif': 0.9508074449581887, 'average_acc_fase_padi': 0.9520000960507812}\n",
      "{'val_accuracy': 0.8751902378830465, 'val_f1_macro': np.float64(0.8431473385751501), 'val_f1_micro': np.float64(0.8751902378830465), 'val_auc': np.float64(0.9781983433655312), 'val_acc_kelas_generatif': 0.953601108033241, 'val_acc_fase_padi': 0.9545551343753993, 'val_relative_acc': np.float64(99.37337732055362)}\n",
      "=============================================================================\n",
      "=============================================================================\n",
      "CLUSTER:  1\n"
     ]
    },
    {
     "name": "stderr",
     "output_type": "stream",
     "text": [
      "[I 2024-10-24 10:01:04,213] A new study created in memory with name: no-name-64263ec7-5030-4122-b0bf-0a1cae1f2ee2\n"
     ]
    },
    {
     "name": "stdout",
     "output_type": "stream",
     "text": [
      "[1 5 2 6 4 0 3]\n",
      "[0 1 2 3 4 5 6]\n",
      "Mapping of original to encoded classes: {np.int64(0): np.int64(0), np.int64(1): np.int64(1), np.int64(2): np.int64(2), np.int64(3): np.int64(3), np.int64(4): np.int64(4), np.int64(5): np.int64(5), np.int64(6): np.int64(6)}\n",
      "Build Best Parameter using Optuna-Hyperparameter Tuning\n"
     ]
    },
    {
     "name": "stderr",
     "output_type": "stream",
     "text": [
      "[I 2024-10-24 10:01:25,285] Trial 0 finished with value: 0.8585242085357243 and parameters: {'max_depth': 8, 'learning_rate': 0.0855860303051371, 'reg_lambda': 3.219079357724614, 'min_child_weight': 92}. Best is trial 0 with value: 0.8585242085357243.\n"
     ]
    },
    {
     "name": "stderr",
     "output_type": "stream",
     "text": [
      "[I 2024-10-24 10:02:14,609] Trial 1 finished with value: 0.8628416504044919 and parameters: {'max_depth': 9, 'learning_rate': 0.03259961676095419, 'reg_lambda': 3.178960674883321, 'min_child_weight': 79}. Best is trial 1 with value: 0.8628416504044919.\n"
     ]
    },
    {
     "name": "stderr",
     "output_type": "stream",
     "text": [
      "[I 2024-10-24 10:02:46,215] Trial 2 finished with value: 0.859109386867145 and parameters: {'max_depth': 7, 'learning_rate': 0.053437673694629484, 'reg_lambda': 0.10592197544002213, 'min_child_weight': 85}. Best is trial 1 with value: 0.8628416504044919.\n"
     ]
    },
    {
     "name": "stderr",
     "output_type": "stream",
     "text": [
      "[I 2024-10-24 10:03:14,622] Trial 3 finished with value: 0.8610113963115574 and parameters: {'max_depth': 9, 'learning_rate': 0.05428873679014163, 'reg_lambda': 1.1992261673723752, 'min_child_weight': 62}. Best is trial 1 with value: 0.8628416504044919.\n"
     ]
    },
    {
     "name": "stderr",
     "output_type": "stream",
     "text": [
      "[I 2024-10-24 10:03:33,731] Trial 4 finished with value: 0.8606980232027978 and parameters: {'max_depth': 9, 'learning_rate': 0.08964216637038448, 'reg_lambda': 4.02259316391885, 'min_child_weight': 57}. Best is trial 1 with value: 0.8628416504044919.\n"
     ]
    },
    {
     "name": "stderr",
     "output_type": "stream",
     "text": [
      "[I 2024-10-24 10:03:57,234] Trial 5 finished with value: 0.8612654294460468 and parameters: {'max_depth': 9, 'learning_rate': 0.070444700236523, 'reg_lambda': 0.5610356078518783, 'min_child_weight': 82}. Best is trial 1 with value: 0.8628416504044919.\n"
     ]
    },
    {
     "name": "stderr",
     "output_type": "stream",
     "text": [
      "[I 2024-10-24 10:04:51,714] Trial 6 finished with value: 0.8608969377284433 and parameters: {'max_depth': 9, 'learning_rate': 0.028241027622423358, 'reg_lambda': 2.898353979021086, 'min_child_weight': 95}. Best is trial 1 with value: 0.8628416504044919.\n"
     ]
    },
    {
     "name": "stderr",
     "output_type": "stream",
     "text": [
      "[I 2024-10-24 10:05:17,731] Trial 7 finished with value: 0.8607371973022042 and parameters: {'max_depth': 7, 'learning_rate': 0.0641478893031321, 'reg_lambda': 4.799865764071242, 'min_child_weight': 90}. Best is trial 1 with value: 0.8628416504044919.\n"
     ]
    },
    {
     "name": "stderr",
     "output_type": "stream",
     "text": [
      "[I 2024-10-24 10:05:38,266] Trial 8 finished with value: 0.858945368941693 and parameters: {'max_depth': 7, 'learning_rate': 0.07378834481231616, 'reg_lambda': 3.0197309123113194, 'min_child_weight': 73}. Best is trial 1 with value: 0.8628416504044919.\n"
     ]
    },
    {
     "name": "stderr",
     "output_type": "stream",
     "text": [
      "[I 2024-10-24 10:06:02,470] Trial 9 finished with value: 0.8624278876780158 and parameters: {'max_depth': 8, 'learning_rate': 0.0700406574787348, 'reg_lambda': 3.966059137621951, 'min_child_weight': 85}. Best is trial 1 with value: 0.8628416504044919.\n"
     ]
    },
    {
     "name": "stderr",
     "output_type": "stream",
     "text": [
      "[I 2024-10-24 10:07:27,652] Trial 10 finished with value: 0.858191343087781 and parameters: {'max_depth': 10, 'learning_rate': 0.010143093124979019, 'reg_lambda': 1.5888485206376117, 'min_child_weight': 70}. Best is trial 1 with value: 0.8628416504044919.\n"
     ]
    },
    {
     "name": "stderr",
     "output_type": "stream",
     "text": [
      "[I 2024-10-24 10:08:11,437] Trial 11 finished with value: 0.8602150907463902 and parameters: {'max_depth': 8, 'learning_rate': 0.036181549092817684, 'reg_lambda': 4.043265246345655, 'min_child_weight': 80}. Best is trial 1 with value: 0.8628416504044919.\n"
     ]
    },
    {
     "name": "stderr",
     "output_type": "stream",
     "text": [
      "[I 2024-10-24 10:08:58,944] Trial 12 finished with value: 0.8584588735248492 and parameters: {'max_depth': 6, 'learning_rate': 0.033833161841753716, 'reg_lambda': 2.121996619184574, 'min_child_weight': 100}. Best is trial 1 with value: 0.8628416504044919.\n"
     ]
    },
    {
     "name": "stderr",
     "output_type": "stream",
     "text": [
      "[I 2024-10-24 10:09:36,650] Trial 13 finished with value: 0.861232771363535 and parameters: {'max_depth': 10, 'learning_rate': 0.04131803360531022, 'reg_lambda': 3.980285043525816, 'min_child_weight': 69}. Best is trial 1 with value: 0.8628416504044919.\n"
     ]
    },
    {
     "name": "stderr",
     "output_type": "stream",
     "text": [
      "[I 2024-10-24 10:09:54,026] Trial 14 finished with value: 0.8620620722461076 and parameters: {'max_depth': 8, 'learning_rate': 0.09974351226893471, 'reg_lambda': 4.97124974421268, 'min_child_weight': 78}. Best is trial 1 with value: 0.8628416504044919.\n"
     ]
    },
    {
     "name": "stderr",
     "output_type": "stream",
     "text": [
      "[I 2024-10-24 10:11:03,941] Trial 15 finished with value: 0.8580856207065845 and parameters: {'max_depth': 8, 'learning_rate': 0.01594014174975772, 'reg_lambda': 3.3680269547107664, 'min_child_weight': 50}. Best is trial 1 with value: 0.8628416504044919.\n"
     ]
    },
    {
     "name": "stderr",
     "output_type": "stream",
     "text": [
      "[I 2024-10-24 10:11:41,462] Trial 16 finished with value: 0.8615629354749844 and parameters: {'max_depth': 10, 'learning_rate': 0.04488412205760959, 'reg_lambda': 2.3511047905483364, 'min_child_weight': 86}. Best is trial 1 with value: 0.8628416504044919.\n"
     ]
    },
    {
     "name": "stderr",
     "output_type": "stream",
     "text": [
      "[I 2024-10-24 10:12:31,003] Trial 17 finished with value: 0.8570606384529863 and parameters: {'max_depth': 6, 'learning_rate': 0.024635592174777832, 'reg_lambda': 3.7070192953800585, 'min_child_weight': 65}. Best is trial 1 with value: 0.8628416504044919.\n"
     ]
    },
    {
     "name": "stderr",
     "output_type": "stream",
     "text": [
      "[I 2024-10-24 10:12:56,866] Trial 18 finished with value: 0.86377884562286 and parameters: {'max_depth': 9, 'learning_rate': 0.06317536540422969, 'reg_lambda': 4.464586481218989, 'min_child_weight': 76}. Best is trial 18 with value: 0.86377884562286.\n"
     ]
    },
    {
     "name": "stderr",
     "output_type": "stream",
     "text": [
      "[I 2024-10-24 10:13:29,052] Trial 19 finished with value: 0.8625613647345745 and parameters: {'max_depth': 9, 'learning_rate': 0.05026446025346638, 'reg_lambda': 4.5622258764990855, 'min_child_weight': 75}. Best is trial 18 with value: 0.86377884562286.\n"
     ]
    },
    {
     "name": "stdout",
     "output_type": "stream",
     "text": [
      "Best Parameters: {'max_depth': 9, 'learning_rate': 0.06317536540422969, 'reg_lambda': 4.464586481218989, 'min_child_weight': 76}\n",
      "Best Score: 0.86377884562286\n",
      "Start the modelling\n",
      "[0]\ttrain-mlogloss:1.81308\teval-mlogloss:1.82286\n"
     ]
    },
    {
     "name": "stdout",
     "output_type": "stream",
     "text": [
      "[100]\ttrain-mlogloss:0.18317\teval-mlogloss:0.43092\n"
     ]
    },
    {
     "name": "stdout",
     "output_type": "stream",
     "text": [
      "[200]\ttrain-mlogloss:0.09488\teval-mlogloss:0.39389\n"
     ]
    },
    {
     "name": "stdout",
     "output_type": "stream",
     "text": [
      "[300]\ttrain-mlogloss:0.06060\teval-mlogloss:0.38741\n"
     ]
    },
    {
     "name": "stdout",
     "output_type": "stream",
     "text": [
      "[400]\ttrain-mlogloss:0.04364\teval-mlogloss:0.38829\n"
     ]
    },
    {
     "name": "stdout",
     "output_type": "stream",
     "text": [
      "[500]\ttrain-mlogloss:0.03404\teval-mlogloss:0.39148\n"
     ]
    },
    {
     "name": "stdout",
     "output_type": "stream",
     "text": [
      "[600]\ttrain-mlogloss:0.02796\teval-mlogloss:0.39463\n"
     ]
    },
    {
     "name": "stdout",
     "output_type": "stream",
     "text": [
      "[700]\ttrain-mlogloss:0.02374\teval-mlogloss:0.39830\n"
     ]
    },
    {
     "name": "stdout",
     "output_type": "stream",
     "text": [
      "[800]\ttrain-mlogloss:0.02077\teval-mlogloss:0.40211\n"
     ]
    },
    {
     "name": "stdout",
     "output_type": "stream",
     "text": [
      "[900]\ttrain-mlogloss:0.01857\teval-mlogloss:0.40512\n"
     ]
    },
    {
     "name": "stdout",
     "output_type": "stream",
     "text": [
      "[1000]\ttrain-mlogloss:0.01694\teval-mlogloss:0.40807\n"
     ]
    },
    {
     "name": "stdout",
     "output_type": "stream",
     "text": [
      "[1100]\ttrain-mlogloss:0.01562\teval-mlogloss:0.41080\n"
     ]
    },
    {
     "name": "stdout",
     "output_type": "stream",
     "text": [
      "[1200]\ttrain-mlogloss:0.01457\teval-mlogloss:0.41366\n"
     ]
    },
    {
     "name": "stdout",
     "output_type": "stream",
     "text": [
      "[1300]\ttrain-mlogloss:0.01366\teval-mlogloss:0.41632\n"
     ]
    },
    {
     "name": "stdout",
     "output_type": "stream",
     "text": [
      "[1310]\ttrain-mlogloss:0.01358\teval-mlogloss:0.41663\n"
     ]
    },
    {
     "name": "stdout",
     "output_type": "stream",
     "text": [
      "[0]\ttrain-mlogloss:1.81198\teval-mlogloss:1.82086\n"
     ]
    },
    {
     "name": "stdout",
     "output_type": "stream",
     "text": [
      "[100]\ttrain-mlogloss:0.18468\teval-mlogloss:0.42779\n"
     ]
    },
    {
     "name": "stdout",
     "output_type": "stream",
     "text": [
      "[200]\ttrain-mlogloss:0.09355\teval-mlogloss:0.38529\n"
     ]
    },
    {
     "name": "stdout",
     "output_type": "stream",
     "text": [
      "[300]\ttrain-mlogloss:0.05991\teval-mlogloss:0.37830\n"
     ]
    },
    {
     "name": "stdout",
     "output_type": "stream",
     "text": [
      "[400]\ttrain-mlogloss:0.04271\teval-mlogloss:0.37884\n"
     ]
    },
    {
     "name": "stdout",
     "output_type": "stream",
     "text": [
      "[500]\ttrain-mlogloss:0.03376\teval-mlogloss:0.38227\n"
     ]
    },
    {
     "name": "stdout",
     "output_type": "stream",
     "text": [
      "[600]\ttrain-mlogloss:0.02774\teval-mlogloss:0.38694\n"
     ]
    },
    {
     "name": "stdout",
     "output_type": "stream",
     "text": [
      "[700]\ttrain-mlogloss:0.02365\teval-mlogloss:0.39060\n"
     ]
    },
    {
     "name": "stdout",
     "output_type": "stream",
     "text": [
      "[800]\ttrain-mlogloss:0.02077\teval-mlogloss:0.39399\n"
     ]
    },
    {
     "name": "stdout",
     "output_type": "stream",
     "text": [
      "[900]\ttrain-mlogloss:0.01867\teval-mlogloss:0.39741\n"
     ]
    },
    {
     "name": "stdout",
     "output_type": "stream",
     "text": [
      "[1000]\ttrain-mlogloss:0.01706\teval-mlogloss:0.40083\n"
     ]
    },
    {
     "name": "stdout",
     "output_type": "stream",
     "text": [
      "[1100]\ttrain-mlogloss:0.01578\teval-mlogloss:0.40386\n"
     ]
    },
    {
     "name": "stdout",
     "output_type": "stream",
     "text": [
      "[1200]\ttrain-mlogloss:0.01476\teval-mlogloss:0.40682\n"
     ]
    },
    {
     "name": "stdout",
     "output_type": "stream",
     "text": [
      "[1300]\ttrain-mlogloss:0.01389\teval-mlogloss:0.40960\n"
     ]
    },
    {
     "name": "stdout",
     "output_type": "stream",
     "text": [
      "[1326]\ttrain-mlogloss:0.01368\teval-mlogloss:0.41008\n"
     ]
    },
    {
     "name": "stdout",
     "output_type": "stream",
     "text": [
      "[0]\ttrain-mlogloss:1.81119\teval-mlogloss:1.82105\n"
     ]
    },
    {
     "name": "stdout",
     "output_type": "stream",
     "text": [
      "[100]\ttrain-mlogloss:0.18976\teval-mlogloss:0.43409\n"
     ]
    },
    {
     "name": "stdout",
     "output_type": "stream",
     "text": [
      "[200]\ttrain-mlogloss:0.10109\teval-mlogloss:0.39390\n"
     ]
    },
    {
     "name": "stdout",
     "output_type": "stream",
     "text": [
      "[300]\ttrain-mlogloss:0.06575\teval-mlogloss:0.38379\n"
     ]
    },
    {
     "name": "stdout",
     "output_type": "stream",
     "text": [
      "[400]\ttrain-mlogloss:0.04830\teval-mlogloss:0.38263\n"
     ]
    },
    {
     "name": "stdout",
     "output_type": "stream",
     "text": [
      "[500]\ttrain-mlogloss:0.03772\teval-mlogloss:0.38431\n"
     ]
    },
    {
     "name": "stdout",
     "output_type": "stream",
     "text": [
      "[600]\ttrain-mlogloss:0.03060\teval-mlogloss:0.38735\n"
     ]
    },
    {
     "name": "stdout",
     "output_type": "stream",
     "text": [
      "[700]\ttrain-mlogloss:0.02587\teval-mlogloss:0.39110\n"
     ]
    },
    {
     "name": "stdout",
     "output_type": "stream",
     "text": [
      "[800]\ttrain-mlogloss:0.02265\teval-mlogloss:0.39481\n"
     ]
    },
    {
     "name": "stdout",
     "output_type": "stream",
     "text": [
      "[900]\ttrain-mlogloss:0.02018\teval-mlogloss:0.39756\n"
     ]
    },
    {
     "name": "stdout",
     "output_type": "stream",
     "text": [
      "[1000]\ttrain-mlogloss:0.01830\teval-mlogloss:0.40018\n"
     ]
    },
    {
     "name": "stdout",
     "output_type": "stream",
     "text": [
      "[1100]\ttrain-mlogloss:0.01682\teval-mlogloss:0.40279\n"
     ]
    },
    {
     "name": "stdout",
     "output_type": "stream",
     "text": [
      "[1200]\ttrain-mlogloss:0.01562\teval-mlogloss:0.40546\n"
     ]
    },
    {
     "name": "stdout",
     "output_type": "stream",
     "text": [
      "[1300]\ttrain-mlogloss:0.01465\teval-mlogloss:0.40798\n"
     ]
    },
    {
     "name": "stdout",
     "output_type": "stream",
     "text": [
      "[1355]\ttrain-mlogloss:0.01419\teval-mlogloss:0.40908\n"
     ]
    },
    {
     "name": "stdout",
     "output_type": "stream",
     "text": [
      "[0]\ttrain-mlogloss:1.80752\teval-mlogloss:1.81651\n"
     ]
    },
    {
     "name": "stdout",
     "output_type": "stream",
     "text": [
      "[50]\ttrain-mlogloss:0.35826\teval-mlogloss:0.51889\n"
     ]
    },
    {
     "name": "stdout",
     "output_type": "stream",
     "text": [
      "[100]\ttrain-mlogloss:0.19231\teval-mlogloss:0.40372\n"
     ]
    },
    {
     "name": "stdout",
     "output_type": "stream",
     "text": [
      "[150]\ttrain-mlogloss:0.13785\teval-mlogloss:0.37428\n"
     ]
    },
    {
     "name": "stdout",
     "output_type": "stream",
     "text": [
      "[200]\ttrain-mlogloss:0.10639\teval-mlogloss:0.36108\n"
     ]
    },
    {
     "name": "stdout",
     "output_type": "stream",
     "text": [
      "[250]\ttrain-mlogloss:0.08614\teval-mlogloss:0.35421\n"
     ]
    },
    {
     "name": "stdout",
     "output_type": "stream",
     "text": [
      "[300]\ttrain-mlogloss:0.07147\teval-mlogloss:0.35055\n"
     ]
    },
    {
     "name": "stdout",
     "output_type": "stream",
     "text": [
      "[350]\ttrain-mlogloss:0.06010\teval-mlogloss:0.34827\n"
     ]
    },
    {
     "name": "stdout",
     "output_type": "stream",
     "text": [
      "[400]\ttrain-mlogloss:0.05160\teval-mlogloss:0.34748\n"
     ]
    },
    {
     "name": "stdout",
     "output_type": "stream",
     "text": [
      "[450]\ttrain-mlogloss:0.04495\teval-mlogloss:0.34748\n"
     ]
    },
    {
     "name": "stdout",
     "output_type": "stream",
     "text": [
      "[470]\ttrain-mlogloss:0.04261\teval-mlogloss:0.34749\n"
     ]
    },
    {
     "name": "stdout",
     "output_type": "stream",
     "text": [
      "\n",
      "Classification Report on Test Set:\n",
      "              precision    recall  f1-score   support\n",
      "\n",
      "           0       0.90      0.92      0.91      5235\n",
      "           1       0.91      0.95      0.93      8807\n",
      "           2       0.94      0.96      0.95      5520\n",
      "           3       0.92      0.87      0.90      5465\n",
      "           4       0.81      0.80      0.81      5424\n",
      "           5       0.72      0.68      0.70      5830\n",
      "           6       0.91      0.92      0.92     12772\n",
      "\n",
      "    accuracy                           0.88     49053\n",
      "   macro avg       0.88      0.87      0.87     49053\n",
      "weighted avg       0.88      0.88      0.88     49053\n",
      "\n"
     ]
    },
    {
     "data": {
      "image/png": "[encoded data removed]",
      "text/plain": [
       "<Figure size 640x480 with 1 Axes>"
      ]
     },
     "metadata": {},
     "output_type": "display_data"
    },
    {
     "data": {
      "image/png": "[encoded data removed]",
      "text/plain": [
       "<Figure size 640x480 with 2 Axes>"
      ]
     },
     "metadata": {},
     "output_type": "display_data"
    },
    {
     "name": "stdout",
     "output_type": "stream",
     "text": [
      "{'average_accuracy': 0.876034570995432, 'average_f1_macro': np.float64(0.8637424653357195), 'average_f1_micro': np.float64(0.876034570995432), 'average_auc': np.float64(0.9810367690901529), 'average_acc_kelas_generatif': 0.86464318154459, 'average_acc_fase_padi': 0.89505830094392}\n",
      "{'val_accuracy': 0.8836156809981041, 'val_f1_macro': np.float64(0.8734781395552212), 'val_f1_micro': np.float64(0.8836156809981041), 'val_auc': np.float64(0.9840673085032537), 'val_acc_kelas_generatif': 0.8742909423604758, 'val_acc_fase_padi': 0.9031170685279187, 'val_relative_acc': np.float64(98.28797190517999)}\n",
      "=============================================================================\n",
      "=============================================================================\n",
      "CLUSTER:  2\n"
     ]
    },
    {
     "name": "stderr",
     "output_type": "stream",
     "text": [
      "[I 2024-10-24 10:14:52,885] A new study created in memory with name: no-name-8bbcd9a2-1121-4b45-8621-7d8b9a7addb3\n"
     ]
    },
    {
     "name": "stdout",
     "output_type": "stream",
     "text": [
      "[1 2 6 5 0 4 3]\n",
      "[0 1 2 3 4 5 6]\n",
      "Mapping of original to encoded classes: {np.int64(0): np.int64(0), np.int64(1): np.int64(1), np.int64(2): np.int64(2), np.int64(3): np.int64(3), np.int64(4): np.int64(4), np.int64(5): np.int64(5), np.int64(6): np.int64(6)}\n",
      "Build Best Parameter using Optuna-Hyperparameter Tuning\n"
     ]
    },
    {
     "name": "stderr",
     "output_type": "stream",
     "text": [
      "[I 2024-10-24 10:15:32,347] Trial 0 finished with value: 0.7573003756103556 and parameters: {'max_depth': 7, 'learning_rate': 0.046848215651883046, 'reg_lambda': 0.9106832995722134, 'min_child_weight': 86}. Best is trial 0 with value: 0.7573003756103556.\n"
     ]
    },
    {
     "name": "stderr",
     "output_type": "stream",
     "text": [
      "[I 2024-10-24 10:15:55,775] Trial 1 finished with value: 0.7572489306038704 and parameters: {'max_depth': 9, 'learning_rate': 0.081880123829967, 'reg_lambda': 1.820269143423792, 'min_child_weight': 88}. Best is trial 0 with value: 0.7573003756103556.\n"
     ]
    },
    {
     "name": "stderr",
     "output_type": "stream",
     "text": [
      "[I 2024-10-24 10:16:19,452] Trial 2 finished with value: 0.7562454760833316 and parameters: {'max_depth': 6, 'learning_rate': 0.07970633867334959, 'reg_lambda': 1.393855412077728, 'min_child_weight': 93}. Best is trial 0 with value: 0.7573003756103556.\n"
     ]
    },
    {
     "name": "stderr",
     "output_type": "stream",
     "text": [
      "[I 2024-10-24 10:16:42,149] Trial 3 finished with value: 0.7563345428557163 and parameters: {'max_depth': 10, 'learning_rate': 0.08433639389882103, 'reg_lambda': 1.1657802116023321, 'min_child_weight': 80}. Best is trial 0 with value: 0.7573003756103556.\n"
     ]
    },
    {
     "name": "stderr",
     "output_type": "stream",
     "text": [
      "[I 2024-10-24 10:17:04,804] Trial 4 finished with value: 0.7572236601548786 and parameters: {'max_depth': 9, 'learning_rate': 0.08567281390393462, 'reg_lambda': 0.6615126821183603, 'min_child_weight': 89}. Best is trial 0 with value: 0.7573003756103556.\n"
     ]
    },
    {
     "name": "stderr",
     "output_type": "stream",
     "text": [
      "[I 2024-10-24 10:18:26,108] Trial 5 finished with value: 0.7543482199335609 and parameters: {'max_depth': 9, 'learning_rate': 0.01476485572204523, 'reg_lambda': 4.972055382563984, 'min_child_weight': 92}. Best is trial 0 with value: 0.7573003756103556.\n"
     ]
    },
    {
     "name": "stderr",
     "output_type": "stream",
     "text": [
      "[I 2024-10-24 10:18:44,930] Trial 6 finished with value: 0.7575681475628478 and parameters: {'max_depth': 6, 'learning_rate': 0.09993822894433502, 'reg_lambda': 2.6368859086909078, 'min_child_weight': 53}. Best is trial 6 with value: 0.7575681475628478.\n"
     ]
    },
    {
     "name": "stderr",
     "output_type": "stream",
     "text": [
      "[I 2024-10-24 10:19:52,758] Trial 7 finished with value: 0.7564730982957436 and parameters: {'max_depth': 7, 'learning_rate': 0.017750129562018806, 'reg_lambda': 2.955254747211814, 'min_child_weight': 59}. Best is trial 6 with value: 0.7575681475628478.\n"
     ]
    },
    {
     "name": "stderr",
     "output_type": "stream",
     "text": [
      "[I 2024-10-24 10:20:12,313] Trial 8 finished with value: 0.755102540328305 and parameters: {'max_depth': 9, 'learning_rate': 0.09924536339735293, 'reg_lambda': 4.145649555171184, 'min_child_weight': 66}. Best is trial 6 with value: 0.7575681475628478.\n"
     ]
    },
    {
     "name": "stderr",
     "output_type": "stream",
     "text": [
      "[I 2024-10-24 10:20:59,779] Trial 9 finished with value: 0.7556150135094599 and parameters: {'max_depth': 6, 'learning_rate': 0.0365867053339058, 'reg_lambda': 2.293421408107066, 'min_child_weight': 91}. Best is trial 6 with value: 0.7575681475628478.\n"
     ]
    },
    {
     "name": "stderr",
     "output_type": "stream",
     "text": [
      "[I 2024-10-24 10:21:26,904] Trial 10 finished with value: 0.7593200637021748 and parameters: {'max_depth': 7, 'learning_rate': 0.06503200679029468, 'reg_lambda': 3.259375509029794, 'min_child_weight': 51}. Best is trial 10 with value: 0.7593200637021748.\n"
     ]
    },
    {
     "name": "stderr",
     "output_type": "stream",
     "text": [
      "[I 2024-10-24 10:21:55,481] Trial 11 finished with value: 0.7577989279083335 and parameters: {'max_depth': 7, 'learning_rate': 0.06471940785871723, 'reg_lambda': 3.2683757227312404, 'min_child_weight': 50}. Best is trial 10 with value: 0.7593200637021748.\n"
     ]
    },
    {
     "name": "stderr",
     "output_type": "stream",
     "text": [
      "[I 2024-10-24 10:22:23,965] Trial 12 finished with value: 0.7575934687388385 and parameters: {'max_depth': 7, 'learning_rate': 0.0626036022760159, 'reg_lambda': 3.542078303754404, 'min_child_weight': 51}. Best is trial 10 with value: 0.7593200637021748.\n"
     ]
    },
    {
     "name": "stderr",
     "output_type": "stream",
     "text": [
      "[I 2024-10-24 10:22:51,986] Trial 13 finished with value: 0.7558465132583311 and parameters: {'max_depth': 8, 'learning_rate': 0.06438861691987657, 'reg_lambda': 3.5838353613145064, 'min_child_weight': 68}. Best is trial 10 with value: 0.7593200637021748.\n"
     ]
    },
    {
     "name": "stderr",
     "output_type": "stream",
     "text": [
      "[I 2024-10-24 10:23:26,249] Trial 14 finished with value: 0.7574497931181589 and parameters: {'max_depth': 8, 'learning_rate': 0.050494417126795345, 'reg_lambda': 3.5222784141678556, 'min_child_weight': 60}. Best is trial 10 with value: 0.7593200637021748.\n"
     ]
    },
    {
     "name": "stderr",
     "output_type": "stream",
     "text": [
      "[I 2024-10-24 10:23:53,677] Trial 15 finished with value: 0.7566804178078576 and parameters: {'max_depth': 7, 'learning_rate': 0.0684510772046307, 'reg_lambda': 4.40900362908849, 'min_child_weight': 71}. Best is trial 10 with value: 0.7593200637021748.\n"
     ]
    },
    {
     "name": "stderr",
     "output_type": "stream",
     "text": [
      "[I 2024-10-24 10:24:35,989] Trial 16 finished with value: 0.7556977029354157 and parameters: {'max_depth': 8, 'learning_rate': 0.03987641778336215, 'reg_lambda': 0.17593160312443779, 'min_child_weight': 100}. Best is trial 10 with value: 0.7593200637021748.\n"
     ]
    },
    {
     "name": "stderr",
     "output_type": "stream",
     "text": [
      "[I 2024-10-24 10:25:01,989] Trial 17 finished with value: 0.7594139994190717 and parameters: {'max_depth': 7, 'learning_rate': 0.07246805547857779, 'reg_lambda': 3.0022104038869157, 'min_child_weight': 57}. Best is trial 17 with value: 0.7594139994190717.\n"
     ]
    },
    {
     "name": "stderr",
     "output_type": "stream",
     "text": [
      "[I 2024-10-24 10:25:27,838] Trial 18 finished with value: 0.7579364841221947 and parameters: {'max_depth': 6, 'learning_rate': 0.07362738480391058, 'reg_lambda': 2.129427907349484, 'min_child_weight': 59}. Best is trial 17 with value: 0.7594139994190717.\n"
     ]
    },
    {
     "name": "stderr",
     "output_type": "stream",
     "text": [
      "[I 2024-10-24 10:26:00,344] Trial 19 finished with value: 0.7561279083361049 and parameters: {'max_depth': 7, 'learning_rate': 0.05575575597269261, 'reg_lambda': 4.055781232598962, 'min_child_weight': 76}. Best is trial 17 with value: 0.7594139994190717.\n"
     ]
    },
    {
     "name": "stdout",
     "output_type": "stream",
     "text": [
      "Best Parameters: {'max_depth': 7, 'learning_rate': 0.07246805547857779, 'reg_lambda': 3.0022104038869157, 'min_child_weight': 57}\n",
      "Best Score: 0.7594139994190717\n",
      "Start the modelling\n",
      "[0]\ttrain-mlogloss:1.81781\teval-mlogloss:1.82428\n"
     ]
    },
    {
     "name": "stdout",
     "output_type": "stream",
     "text": [
      "[100]\ttrain-mlogloss:0.37973\teval-mlogloss:0.60805\n"
     ]
    },
    {
     "name": "stdout",
     "output_type": "stream",
     "text": [
      "[200]\ttrain-mlogloss:0.24957\teval-mlogloss:0.56817\n"
     ]
    },
    {
     "name": "stdout",
     "output_type": "stream",
     "text": [
      "[300]\ttrain-mlogloss:0.17099\teval-mlogloss:0.55945\n"
     ]
    },
    {
     "name": "stdout",
     "output_type": "stream",
     "text": [
      "[400]\ttrain-mlogloss:0.11988\teval-mlogloss:0.55823\n"
     ]
    },
    {
     "name": "stdout",
     "output_type": "stream",
     "text": [
      "[500]\ttrain-mlogloss:0.08898\teval-mlogloss:0.56223\n"
     ]
    },
    {
     "name": "stdout",
     "output_type": "stream",
     "text": [
      "[600]\ttrain-mlogloss:0.06910\teval-mlogloss:0.56886\n"
     ]
    },
    {
     "name": "stdout",
     "output_type": "stream",
     "text": [
      "[700]\ttrain-mlogloss:0.05523\teval-mlogloss:0.57618\n"
     ]
    },
    {
     "name": "stdout",
     "output_type": "stream",
     "text": [
      "[800]\ttrain-mlogloss:0.04450\teval-mlogloss:0.58394\n"
     ]
    },
    {
     "name": "stdout",
     "output_type": "stream",
     "text": [
      "[900]\ttrain-mlogloss:0.03751\teval-mlogloss:0.59099\n"
     ]
    },
    {
     "name": "stdout",
     "output_type": "stream",
     "text": [
      "[1000]\ttrain-mlogloss:0.03207\teval-mlogloss:0.59831\n"
     ]
    },
    {
     "name": "stdout",
     "output_type": "stream",
     "text": [
      "[1100]\ttrain-mlogloss:0.02789\teval-mlogloss:0.60514\n"
     ]
    },
    {
     "name": "stdout",
     "output_type": "stream",
     "text": [
      "[1200]\ttrain-mlogloss:0.02473\teval-mlogloss:0.61159\n"
     ]
    },
    {
     "name": "stdout",
     "output_type": "stream",
     "text": [
      "[1300]\ttrain-mlogloss:0.02215\teval-mlogloss:0.61726\n"
     ]
    },
    {
     "name": "stdout",
     "output_type": "stream",
     "text": [
      "[1382]\ttrain-mlogloss:0.02037\teval-mlogloss:0.62227\n"
     ]
    },
    {
     "name": "stdout",
     "output_type": "stream",
     "text": [
      "[0]\ttrain-mlogloss:1.81778\teval-mlogloss:1.82281\n"
     ]
    },
    {
     "name": "stdout",
     "output_type": "stream",
     "text": [
      "[100]\ttrain-mlogloss:0.37379\teval-mlogloss:0.60572\n"
     ]
    },
    {
     "name": "stdout",
     "output_type": "stream",
     "text": [
      "[200]\ttrain-mlogloss:0.23895\teval-mlogloss:0.56632\n"
     ]
    },
    {
     "name": "stdout",
     "output_type": "stream",
     "text": [
      "[300]\ttrain-mlogloss:0.16357\teval-mlogloss:0.55677\n"
     ]
    },
    {
     "name": "stdout",
     "output_type": "stream",
     "text": [
      "[400]\ttrain-mlogloss:0.11449\teval-mlogloss:0.55835\n"
     ]
    },
    {
     "name": "stdout",
     "output_type": "stream",
     "text": [
      "[500]\ttrain-mlogloss:0.08478\teval-mlogloss:0.56378\n"
     ]
    },
    {
     "name": "stdout",
     "output_type": "stream",
     "text": [
      "[600]\ttrain-mlogloss:0.06552\teval-mlogloss:0.57165\n"
     ]
    },
    {
     "name": "stdout",
     "output_type": "stream",
     "text": [
      "[700]\ttrain-mlogloss:0.05187\teval-mlogloss:0.57991\n"
     ]
    },
    {
     "name": "stdout",
     "output_type": "stream",
     "text": [
      "[800]\ttrain-mlogloss:0.04284\teval-mlogloss:0.58800\n"
     ]
    },
    {
     "name": "stdout",
     "output_type": "stream",
     "text": [
      "[900]\ttrain-mlogloss:0.03608\teval-mlogloss:0.59603\n"
     ]
    },
    {
     "name": "stdout",
     "output_type": "stream",
     "text": [
      "[1000]\ttrain-mlogloss:0.03117\teval-mlogloss:0.60345\n"
     ]
    },
    {
     "name": "stdout",
     "output_type": "stream",
     "text": [
      "[1100]\ttrain-mlogloss:0.02719\teval-mlogloss:0.61069\n"
     ]
    },
    {
     "name": "stdout",
     "output_type": "stream",
     "text": [
      "[1200]\ttrain-mlogloss:0.02415\teval-mlogloss:0.61721\n"
     ]
    },
    {
     "name": "stdout",
     "output_type": "stream",
     "text": [
      "[1300]\ttrain-mlogloss:0.02137\teval-mlogloss:0.62446\n"
     ]
    },
    {
     "name": "stdout",
     "output_type": "stream",
     "text": [
      "[1335]\ttrain-mlogloss:0.02060\teval-mlogloss:0.62669\n"
     ]
    },
    {
     "name": "stdout",
     "output_type": "stream",
     "text": [
      "[0]\ttrain-mlogloss:1.81755\teval-mlogloss:1.82524\n"
     ]
    },
    {
     "name": "stdout",
     "output_type": "stream",
     "text": [
      "[100]\ttrain-mlogloss:0.37069\teval-mlogloss:0.61499\n"
     ]
    },
    {
     "name": "stdout",
     "output_type": "stream",
     "text": [
      "[200]\ttrain-mlogloss:0.23704\teval-mlogloss:0.57688\n"
     ]
    },
    {
     "name": "stdout",
     "output_type": "stream",
     "text": [
      "[300]\ttrain-mlogloss:0.16340\teval-mlogloss:0.56777\n"
     ]
    },
    {
     "name": "stdout",
     "output_type": "stream",
     "text": [
      "[400]\ttrain-mlogloss:0.11635\teval-mlogloss:0.56841\n"
     ]
    },
    {
     "name": "stdout",
     "output_type": "stream",
     "text": [
      "[500]\ttrain-mlogloss:0.08651\teval-mlogloss:0.57328\n"
     ]
    },
    {
     "name": "stdout",
     "output_type": "stream",
     "text": [
      "[600]\ttrain-mlogloss:0.06703\teval-mlogloss:0.58063\n"
     ]
    },
    {
     "name": "stdout",
     "output_type": "stream",
     "text": [
      "[700]\ttrain-mlogloss:0.05367\teval-mlogloss:0.58868\n"
     ]
    },
    {
     "name": "stdout",
     "output_type": "stream",
     "text": [
      "[800]\ttrain-mlogloss:0.04335\teval-mlogloss:0.59794\n"
     ]
    },
    {
     "name": "stdout",
     "output_type": "stream",
     "text": [
      "[900]\ttrain-mlogloss:0.03651\teval-mlogloss:0.60601\n"
     ]
    },
    {
     "name": "stdout",
     "output_type": "stream",
     "text": [
      "[1000]\ttrain-mlogloss:0.03129\teval-mlogloss:0.61424\n"
     ]
    },
    {
     "name": "stdout",
     "output_type": "stream",
     "text": [
      "[1100]\ttrain-mlogloss:0.02749\teval-mlogloss:0.62145\n"
     ]
    },
    {
     "name": "stdout",
     "output_type": "stream",
     "text": [
      "[1200]\ttrain-mlogloss:0.02438\teval-mlogloss:0.62923\n"
     ]
    },
    {
     "name": "stdout",
     "output_type": "stream",
     "text": [
      "[1300]\ttrain-mlogloss:0.02177\teval-mlogloss:0.63632\n"
     ]
    },
    {
     "name": "stdout",
     "output_type": "stream",
     "text": [
      "[1321]\ttrain-mlogloss:0.02126\teval-mlogloss:0.63781\n"
     ]
    },
    {
     "name": "stdout",
     "output_type": "stream",
     "text": [
      "[0]\ttrain-mlogloss:1.81790\teval-mlogloss:1.82246\n"
     ]
    },
    {
     "name": "stdout",
     "output_type": "stream",
     "text": [
      "[50]\ttrain-mlogloss:0.56325\teval-mlogloss:0.68147\n"
     ]
    },
    {
     "name": "stdout",
     "output_type": "stream",
     "text": [
      "[100]\ttrain-mlogloss:0.41257\teval-mlogloss:0.59234\n"
     ]
    },
    {
     "name": "stdout",
     "output_type": "stream",
     "text": [
      "[150]\ttrain-mlogloss:0.34057\teval-mlogloss:0.56584\n"
     ]
    },
    {
     "name": "stdout",
     "output_type": "stream",
     "text": [
      "[200]\ttrain-mlogloss:0.28666\teval-mlogloss:0.55173\n"
     ]
    },
    {
     "name": "stdout",
     "output_type": "stream",
     "text": [
      "[250]\ttrain-mlogloss:0.24270\teval-mlogloss:0.54283\n"
     ]
    },
    {
     "name": "stdout",
     "output_type": "stream",
     "text": [
      "[300]\ttrain-mlogloss:0.20593\teval-mlogloss:0.53696\n"
     ]
    },
    {
     "name": "stdout",
     "output_type": "stream",
     "text": [
      "[350]\ttrain-mlogloss:0.17643\teval-mlogloss:0.53337\n"
     ]
    },
    {
     "name": "stdout",
     "output_type": "stream",
     "text": [
      "[400]\ttrain-mlogloss:0.15264\teval-mlogloss:0.53192\n"
     ]
    },
    {
     "name": "stdout",
     "output_type": "stream",
     "text": [
      "[450]\ttrain-mlogloss:0.13325\teval-mlogloss:0.53127\n"
     ]
    },
    {
     "name": "stdout",
     "output_type": "stream",
     "text": [
      "[488]\ttrain-mlogloss:0.11996\teval-mlogloss:0.53142\n"
     ]
    },
    {
     "name": "stdout",
     "output_type": "stream",
     "text": [
      "\n",
      "Classification Report on Test Set:\n",
      "              precision    recall  f1-score   support\n",
      "\n",
      "           0       0.56      0.48      0.52      6628\n",
      "           1       0.92      0.95      0.93     10902\n",
      "           2       0.95      0.96      0.95     10622\n",
      "           3       0.94      0.96      0.95     11801\n",
      "           4       0.85      0.81      0.83      5338\n",
      "           5       0.55      0.47      0.51      6648\n",
      "           6       0.68      0.74      0.71     13916\n",
      "\n",
      "    accuracy                           0.80     65855\n",
      "   macro avg       0.78      0.77      0.77     65855\n",
      "weighted avg       0.80      0.80      0.80     65855\n",
      "\n"
     ]
    },
    {
     "data": {
      "image/png": "[encoded data removed]",
      "text/plain": [
       "<Figure size 640x480 with 1 Axes>"
      ]
     },
     "metadata": {},
     "output_type": "display_data"
    },
    {
     "data": {
      "image/png": "[encoded data removed]",
      "text/plain": [
       "<Figure size 640x480 with 2 Axes>"
      ]
     },
     "metadata": {},
     "output_type": "display_data"
    },
    {
     "name": "stdout",
     "output_type": "stream",
     "text": [
      "{'average_accuracy': 0.7958757124886736, 'average_f1_macro': np.float64(0.7586304878202227), 'average_f1_micro': np.float64(0.7958757124886736), 'average_auc': np.float64(0.9526870798559667), 'average_acc_kelas_generatif': 0.9515618821668644, 'average_acc_fase_padi': 0.933369784446432}\n",
      "{'val_accuracy': 0.8018829246070913, 'val_f1_macro': np.float64(0.7705104788861172), 'val_f1_micro': np.float64(0.8018829246070913), 'val_auc': np.float64(0.9574102281971906), 'val_acc_kelas_generatif': 0.9557664604694518, 'val_acc_fase_padi': 0.9362439541680677, 'val_relative_acc': np.float64(99.1213328851971)}\n",
      "=============================================================================\n",
      "=============================================================================\n",
      "CLUSTER:  3\n"
     ]
    },
    {
     "name": "stderr",
     "output_type": "stream",
     "text": [
      "[I 2024-10-24 10:27:35,818] A new study created in memory with name: no-name-07ef4e4c-9a25-42b2-8a2c-daef18a9238f\n"
     ]
    },
    {
     "name": "stdout",
     "output_type": "stream",
     "text": [
      "[1 2 6 3 5 4 0]\n",
      "[0 1 2 3 4 5 6]\n",
      "Mapping of original to encoded classes: {np.int64(0): np.int64(0), np.int64(1): np.int64(1), np.int64(2): np.int64(2), np.int64(3): np.int64(3), np.int64(4): np.int64(4), np.int64(5): np.int64(5), np.int64(6): np.int64(6)}\n",
      "Build Best Parameter using Optuna-Hyperparameter Tuning\n"
     ]
    },
    {
     "name": "stderr",
     "output_type": "stream",
     "text": [
      "[I 2024-10-24 10:28:28,961] Trial 0 finished with value: 0.7666685078029255 and parameters: {'max_depth': 10, 'learning_rate': 0.03330364604617233, 'reg_lambda': 3.3175103717418706, 'min_child_weight': 98}. Best is trial 0 with value: 0.7666685078029255.\n"
     ]
    },
    {
     "name": "stderr",
     "output_type": "stream",
     "text": [
      "[I 2024-10-24 10:29:01,584] Trial 1 finished with value: 0.7667252044065481 and parameters: {'max_depth': 6, 'learning_rate': 0.062332834042354124, 'reg_lambda': 2.849973603293706, 'min_child_weight': 76}. Best is trial 1 with value: 0.7667252044065481.\n"
     ]
    },
    {
     "name": "stderr",
     "output_type": "stream",
     "text": [
      "[I 2024-10-24 10:29:28,772] Trial 2 finished with value: 0.765840319909597 and parameters: {'max_depth': 7, 'learning_rate': 0.0682326306053583, 'reg_lambda': 4.226007338604964, 'min_child_weight': 55}. Best is trial 1 with value: 0.7667252044065481.\n"
     ]
    },
    {
     "name": "stderr",
     "output_type": "stream",
     "text": [
      "[I 2024-10-24 10:30:31,553] Trial 3 finished with value: 0.7588229754080049 and parameters: {'max_depth': 6, 'learning_rate': 0.011311736911901106, 'reg_lambda': 2.7523398355808153, 'min_child_weight': 67}. Best is trial 1 with value: 0.7667252044065481.\n"
     ]
    },
    {
     "name": "stderr",
     "output_type": "stream",
     "text": [
      "[I 2024-10-24 10:31:15,281] Trial 4 finished with value: 0.7661874578768259 and parameters: {'max_depth': 8, 'learning_rate': 0.03962007318824088, 'reg_lambda': 0.8350572329764433, 'min_child_weight': 59}. Best is trial 1 with value: 0.7667252044065481.\n"
     ]
    },
    {
     "name": "stderr",
     "output_type": "stream",
     "text": [
      "[I 2024-10-24 10:31:46,413] Trial 5 finished with value: 0.7666429686326693 and parameters: {'max_depth': 6, 'learning_rate': 0.06888664458855154, 'reg_lambda': 3.7276131868778335, 'min_child_weight': 93}. Best is trial 1 with value: 0.7667252044065481.\n"
     ]
    },
    {
     "name": "stderr",
     "output_type": "stream",
     "text": [
      "[I 2024-10-24 10:32:09,927] Trial 6 finished with value: 0.7670471859562445 and parameters: {'max_depth': 6, 'learning_rate': 0.08779144646271188, 'reg_lambda': 0.399262407266854, 'min_child_weight': 75}. Best is trial 6 with value: 0.7670471859562445.\n"
     ]
    },
    {
     "name": "stderr",
     "output_type": "stream",
     "text": [
      "[I 2024-10-24 10:32:37,176] Trial 7 finished with value: 0.7669814921527479 and parameters: {'max_depth': 9, 'learning_rate': 0.06880401972339628, 'reg_lambda': 4.133120633008394, 'min_child_weight': 74}. Best is trial 6 with value: 0.7670471859562445.\n"
     ]
    },
    {
     "name": "stderr",
     "output_type": "stream",
     "text": [
      "[I 2024-10-24 10:33:05,149] Trial 8 finished with value: 0.7672750671183332 and parameters: {'max_depth': 10, 'learning_rate': 0.06682862894084993, 'reg_lambda': 4.1456211355306545, 'min_child_weight': 68}. Best is trial 8 with value: 0.7672750671183332.\n"
     ]
    },
    {
     "name": "stderr",
     "output_type": "stream",
     "text": [
      "[I 2024-10-24 10:34:16,681] Trial 9 finished with value: 0.7630637766981954 and parameters: {'max_depth': 7, 'learning_rate': 0.012720733353118087, 'reg_lambda': 2.5099250805906963, 'min_child_weight': 88}. Best is trial 8 with value: 0.7672750671183332.\n"
     ]
    },
    {
     "name": "stderr",
     "output_type": "stream",
     "text": [
      "[I 2024-10-24 10:34:37,741] Trial 10 finished with value: 0.7670479862654745 and parameters: {'max_depth': 10, 'learning_rate': 0.09242819794730339, 'reg_lambda': 4.958361897491506, 'min_child_weight': 51}. Best is trial 8 with value: 0.7672750671183332.\n"
     ]
    },
    {
     "name": "stderr",
     "output_type": "stream",
     "text": [
      "[I 2024-10-24 10:34:57,439] Trial 11 finished with value: 0.7647975282370284 and parameters: {'max_depth': 10, 'learning_rate': 0.09900791035548459, 'reg_lambda': 4.9660491461714225, 'min_child_weight': 50}. Best is trial 8 with value: 0.7672750671183332.\n"
     ]
    },
    {
     "name": "stderr",
     "output_type": "stream",
     "text": [
      "[I 2024-10-24 10:35:20,342] Trial 12 finished with value: 0.7660996110742749 and parameters: {'max_depth': 9, 'learning_rate': 0.08530881345558114, 'reg_lambda': 4.859009171766315, 'min_child_weight': 64}. Best is trial 8 with value: 0.7672750671183332.\n"
     ]
    },
    {
     "name": "stderr",
     "output_type": "stream",
     "text": [
      "[I 2024-10-24 10:35:57,869] Trial 13 finished with value: 0.7686553289468309 and parameters: {'max_depth': 9, 'learning_rate': 0.04895044788159429, 'reg_lambda': 1.8370469501703646, 'min_child_weight': 83}. Best is trial 13 with value: 0.7686553289468309.\n"
     ]
    },
    {
     "name": "stderr",
     "output_type": "stream",
     "text": [
      "[I 2024-10-24 10:36:36,531] Trial 14 finished with value: 0.7685278973100592 and parameters: {'max_depth': 9, 'learning_rate': 0.04636668890817272, 'reg_lambda': 1.8112041758297872, 'min_child_weight': 85}. Best is trial 13 with value: 0.7686553289468309.\n"
     ]
    },
    {
     "name": "stderr",
     "output_type": "stream",
     "text": [
      "[I 2024-10-24 10:37:16,094] Trial 15 finished with value: 0.7682104132339437 and parameters: {'max_depth': 9, 'learning_rate': 0.04507739230924817, 'reg_lambda': 1.799257114637721, 'min_child_weight': 84}. Best is trial 13 with value: 0.7686553289468309.\n"
     ]
    },
    {
     "name": "stderr",
     "output_type": "stream",
     "text": [
      "[I 2024-10-24 10:38:09,851] Trial 16 finished with value: 0.7676079502350456 and parameters: {'max_depth': 8, 'learning_rate': 0.03183667309075978, 'reg_lambda': 1.5351509937286836, 'min_child_weight': 83}. Best is trial 13 with value: 0.7686553289468309.\n"
     ]
    },
    {
     "name": "stderr",
     "output_type": "stream",
     "text": [
      "[I 2024-10-24 10:38:42,135] Trial 17 finished with value: 0.7685811439701077 and parameters: {'max_depth': 9, 'learning_rate': 0.05384763391392949, 'reg_lambda': 1.6230831348813353, 'min_child_weight': 83}. Best is trial 13 with value: 0.7686553289468309.\n"
     ]
    },
    {
     "name": "stderr",
     "output_type": "stream",
     "text": [
      "[I 2024-10-24 10:39:15,475] Trial 18 finished with value: 0.7678889671788384 and parameters: {'max_depth': 8, 'learning_rate': 0.054223474556950466, 'reg_lambda': 1.1871388666076061, 'min_child_weight': 93}. Best is trial 13 with value: 0.7686553289468309.\n"
     ]
    },
    {
     "name": "stderr",
     "output_type": "stream",
     "text": [
      "[I 2024-10-24 10:40:17,651] Trial 19 finished with value: 0.7684023262866028 and parameters: {'max_depth': 8, 'learning_rate': 0.027505660178367457, 'reg_lambda': 2.162225997856175, 'min_child_weight': 79}. Best is trial 13 with value: 0.7686553289468309.\n"
     ]
    },
    {
     "name": "stdout",
     "output_type": "stream",
     "text": [
      "Best Parameters: {'max_depth': 9, 'learning_rate': 0.04895044788159429, 'reg_lambda': 1.8370469501703646, 'min_child_weight': 83}\n",
      "Best Score: 0.7686553289468309\n",
      "Start the modelling\n",
      "[0]\ttrain-mlogloss:1.85458\teval-mlogloss:1.85546\n"
     ]
    },
    {
     "name": "stdout",
     "output_type": "stream",
     "text": [
      "[100]\ttrain-mlogloss:0.34690\teval-mlogloss:0.54496\n"
     ]
    },
    {
     "name": "stdout",
     "output_type": "stream",
     "text": [
      "[200]\ttrain-mlogloss:0.21202\teval-mlogloss:0.48898\n"
     ]
    },
    {
     "name": "stdout",
     "output_type": "stream",
     "text": [
      "[300]\ttrain-mlogloss:0.14365\teval-mlogloss:0.47487\n"
     ]
    },
    {
     "name": "stdout",
     "output_type": "stream",
     "text": [
      "[400]\ttrain-mlogloss:0.10364\teval-mlogloss:0.47133\n"
     ]
    },
    {
     "name": "stdout",
     "output_type": "stream",
     "text": [
      "[500]\ttrain-mlogloss:0.07726\teval-mlogloss:0.47243\n"
     ]
    },
    {
     "name": "stdout",
     "output_type": "stream",
     "text": [
      "[600]\ttrain-mlogloss:0.06046\teval-mlogloss:0.47548\n"
     ]
    },
    {
     "name": "stdout",
     "output_type": "stream",
     "text": [
      "[700]\ttrain-mlogloss:0.04859\teval-mlogloss:0.48080\n"
     ]
    },
    {
     "name": "stdout",
     "output_type": "stream",
     "text": [
      "[800]\ttrain-mlogloss:0.04062\teval-mlogloss:0.48567\n"
     ]
    },
    {
     "name": "stdout",
     "output_type": "stream",
     "text": [
      "[900]\ttrain-mlogloss:0.03476\teval-mlogloss:0.49051\n"
     ]
    },
    {
     "name": "stdout",
     "output_type": "stream",
     "text": [
      "[1000]\ttrain-mlogloss:0.03032\teval-mlogloss:0.49544\n"
     ]
    },
    {
     "name": "stdout",
     "output_type": "stream",
     "text": [
      "[1100]\ttrain-mlogloss:0.02693\teval-mlogloss:0.50016\n"
     ]
    },
    {
     "name": "stdout",
     "output_type": "stream",
     "text": [
      "[1200]\ttrain-mlogloss:0.02423\teval-mlogloss:0.50447\n"
     ]
    },
    {
     "name": "stdout",
     "output_type": "stream",
     "text": [
      "[1300]\ttrain-mlogloss:0.02199\teval-mlogloss:0.50888\n"
     ]
    },
    {
     "name": "stdout",
     "output_type": "stream",
     "text": [
      "[1400]\ttrain-mlogloss:0.02014\teval-mlogloss:0.51285\n"
     ]
    },
    {
     "name": "stdout",
     "output_type": "stream",
     "text": [
      "[1431]\ttrain-mlogloss:0.01965\teval-mlogloss:0.51433\n"
     ]
    },
    {
     "name": "stdout",
     "output_type": "stream",
     "text": [
      "[0]\ttrain-mlogloss:1.85453\teval-mlogloss:1.85511\n"
     ]
    },
    {
     "name": "stdout",
     "output_type": "stream",
     "text": [
      "[100]\ttrain-mlogloss:0.34099\teval-mlogloss:0.53861\n"
     ]
    },
    {
     "name": "stdout",
     "output_type": "stream",
     "text": [
      "[200]\ttrain-mlogloss:0.20878\teval-mlogloss:0.48358\n"
     ]
    },
    {
     "name": "stdout",
     "output_type": "stream",
     "text": [
      "[300]\ttrain-mlogloss:0.14391\teval-mlogloss:0.47101\n"
     ]
    },
    {
     "name": "stdout",
     "output_type": "stream",
     "text": [
      "[400]\ttrain-mlogloss:0.10142\teval-mlogloss:0.46817\n"
     ]
    },
    {
     "name": "stdout",
     "output_type": "stream",
     "text": [
      "[500]\ttrain-mlogloss:0.07609\teval-mlogloss:0.47095\n"
     ]
    },
    {
     "name": "stdout",
     "output_type": "stream",
     "text": [
      "[600]\ttrain-mlogloss:0.05993\teval-mlogloss:0.47488\n"
     ]
    },
    {
     "name": "stdout",
     "output_type": "stream",
     "text": [
      "[700]\ttrain-mlogloss:0.04846\teval-mlogloss:0.48018\n"
     ]
    },
    {
     "name": "stdout",
     "output_type": "stream",
     "text": [
      "[800]\ttrain-mlogloss:0.04076\teval-mlogloss:0.48563\n"
     ]
    },
    {
     "name": "stdout",
     "output_type": "stream",
     "text": [
      "[900]\ttrain-mlogloss:0.03496\teval-mlogloss:0.49079\n"
     ]
    },
    {
     "name": "stdout",
     "output_type": "stream",
     "text": [
      "[1000]\ttrain-mlogloss:0.03068\teval-mlogloss:0.49620\n"
     ]
    },
    {
     "name": "stdout",
     "output_type": "stream",
     "text": [
      "[1100]\ttrain-mlogloss:0.02726\teval-mlogloss:0.50091\n"
     ]
    },
    {
     "name": "stdout",
     "output_type": "stream",
     "text": [
      "[1200]\ttrain-mlogloss:0.02453\teval-mlogloss:0.50549\n"
     ]
    },
    {
     "name": "stdout",
     "output_type": "stream",
     "text": [
      "[1300]\ttrain-mlogloss:0.02228\teval-mlogloss:0.50985\n"
     ]
    },
    {
     "name": "stdout",
     "output_type": "stream",
     "text": [
      "[1394]\ttrain-mlogloss:0.02059\teval-mlogloss:0.51392\n"
     ]
    },
    {
     "name": "stdout",
     "output_type": "stream",
     "text": [
      "[0]\ttrain-mlogloss:1.85452\teval-mlogloss:1.85546\n"
     ]
    },
    {
     "name": "stdout",
     "output_type": "stream",
     "text": [
      "[100]\ttrain-mlogloss:0.34529\teval-mlogloss:0.54580\n"
     ]
    },
    {
     "name": "stdout",
     "output_type": "stream",
     "text": [
      "[200]\ttrain-mlogloss:0.20409\teval-mlogloss:0.49346\n"
     ]
    },
    {
     "name": "stdout",
     "output_type": "stream",
     "text": [
      "[300]\ttrain-mlogloss:0.14021\teval-mlogloss:0.48351\n"
     ]
    },
    {
     "name": "stdout",
     "output_type": "stream",
     "text": [
      "[400]\ttrain-mlogloss:0.10071\teval-mlogloss:0.48383\n"
     ]
    },
    {
     "name": "stdout",
     "output_type": "stream",
     "text": [
      "[500]\ttrain-mlogloss:0.07607\teval-mlogloss:0.48694\n"
     ]
    },
    {
     "name": "stdout",
     "output_type": "stream",
     "text": [
      "[600]\ttrain-mlogloss:0.06055\teval-mlogloss:0.49179\n"
     ]
    },
    {
     "name": "stdout",
     "output_type": "stream",
     "text": [
      "[700]\ttrain-mlogloss:0.04924\teval-mlogloss:0.49792\n"
     ]
    },
    {
     "name": "stdout",
     "output_type": "stream",
     "text": [
      "[800]\ttrain-mlogloss:0.04082\teval-mlogloss:0.50458\n"
     ]
    },
    {
     "name": "stdout",
     "output_type": "stream",
     "text": [
      "[900]\ttrain-mlogloss:0.03473\teval-mlogloss:0.51080\n"
     ]
    },
    {
     "name": "stdout",
     "output_type": "stream",
     "text": [
      "[1000]\ttrain-mlogloss:0.03042\teval-mlogloss:0.51658\n"
     ]
    },
    {
     "name": "stdout",
     "output_type": "stream",
     "text": [
      "[1100]\ttrain-mlogloss:0.02697\teval-mlogloss:0.52174\n"
     ]
    },
    {
     "name": "stdout",
     "output_type": "stream",
     "text": [
      "[1200]\ttrain-mlogloss:0.02419\teval-mlogloss:0.52700\n"
     ]
    },
    {
     "name": "stdout",
     "output_type": "stream",
     "text": [
      "[1300]\ttrain-mlogloss:0.02194\teval-mlogloss:0.53193\n"
     ]
    },
    {
     "name": "stdout",
     "output_type": "stream",
     "text": [
      "[1339]\ttrain-mlogloss:0.02120\teval-mlogloss:0.53372\n"
     ]
    },
    {
     "name": "stdout",
     "output_type": "stream",
     "text": [
      "[0]\ttrain-mlogloss:1.85369\teval-mlogloss:1.85366\n"
     ]
    },
    {
     "name": "stdout",
     "output_type": "stream",
     "text": [
      "[50]\ttrain-mlogloss:0.58361\teval-mlogloss:0.68288\n"
     ]
    },
    {
     "name": "stdout",
     "output_type": "stream",
     "text": [
      "[100]\ttrain-mlogloss:0.36669\teval-mlogloss:0.53539\n"
     ]
    },
    {
     "name": "stdout",
     "output_type": "stream",
     "text": [
      "[150]\ttrain-mlogloss:0.28754\teval-mlogloss:0.49697\n"
     ]
    },
    {
     "name": "stdout",
     "output_type": "stream",
     "text": [
      "[200]\ttrain-mlogloss:0.24156\teval-mlogloss:0.48041\n"
     ]
    },
    {
     "name": "stdout",
     "output_type": "stream",
     "text": [
      "[250]\ttrain-mlogloss:0.20265\teval-mlogloss:0.47063\n"
     ]
    },
    {
     "name": "stdout",
     "output_type": "stream",
     "text": [
      "[300]\ttrain-mlogloss:0.17398\teval-mlogloss:0.46483\n"
     ]
    },
    {
     "name": "stdout",
     "output_type": "stream",
     "text": [
      "[350]\ttrain-mlogloss:0.15042\teval-mlogloss:0.46146\n"
     ]
    },
    {
     "name": "stdout",
     "output_type": "stream",
     "text": [
      "[400]\ttrain-mlogloss:0.13063\teval-mlogloss:0.45934\n"
     ]
    },
    {
     "name": "stdout",
     "output_type": "stream",
     "text": [
      "[450]\ttrain-mlogloss:0.11324\teval-mlogloss:0.45834\n"
     ]
    },
    {
     "name": "stdout",
     "output_type": "stream",
     "text": [
      "[500]\ttrain-mlogloss:0.09852\teval-mlogloss:0.45832\n"
     ]
    },
    {
     "name": "stdout",
     "output_type": "stream",
     "text": [
      "[529]\ttrain-mlogloss:0.09147\teval-mlogloss:0.45868\n"
     ]
    },
    {
     "name": "stdout",
     "output_type": "stream",
     "text": [
      "\n",
      "Classification Report on Test Set:\n",
      "              precision    recall  f1-score   support\n",
      "\n",
      "           0       0.56      0.41      0.47      6474\n",
      "           1       0.85      0.89      0.87     13183\n",
      "           2       0.93      0.94      0.94     13212\n",
      "           3       0.92      0.92      0.92     13379\n",
      "           4       0.82      0.88      0.85     12884\n",
      "           5       0.51      0.44      0.47      6660\n",
      "           6       0.87      0.95      0.91     10247\n",
      "\n",
      "    accuracy                           0.83     76039\n",
      "   macro avg       0.78      0.78      0.78     76039\n",
      "weighted avg       0.82      0.83      0.82     76039\n",
      "\n"
     ]
    },
    {
     "data": {
      "image/png": "[encoded data removed]",
      "text/plain": [
       "<Figure size 640x480 with 1 Axes>"
      ]
     },
     "metadata": {},
     "output_type": "display_data"
    },
    {
     "data": {
      "image/png": "[encoded data removed]",
      "text/plain": [
       "<Figure size 640x480 with 2 Axes>"
      ]
     },
     "metadata": {},
     "output_type": "display_data"
    },
    {
     "name": "stdout",
     "output_type": "stream",
     "text": [
      "{'average_accuracy': 0.8283670542556099, 'average_f1_macro': np.float64(0.7681477941733856), 'average_f1_micro': np.float64(0.8283670542556099), 'average_auc': np.float64(0.9612876174628643), 'average_acc_kelas_generatif': 0.9283230135740596, 'average_acc_fase_padi': 0.9127045049086903}\n",
      "{'val_accuracy': 0.830652691382054, 'val_f1_macro': np.float64(0.7755379977816445), 'val_f1_micro': np.float64(0.830652691382054), 'val_auc': np.float64(0.9640503533800306), 'val_acc_kelas_generatif': 0.922116750130802, 'val_acc_fase_padi': 0.908541911960196, 'val_relative_acc': np.float64(99.36637764594376)}\n",
      "=============================================================================\n",
      "=============================================================================\n",
      "CLUSTER:  4\n"
     ]
    },
    {
     "name": "stderr",
     "output_type": "stream",
     "text": [
      "[I 2024-10-24 10:42:21,254] A new study created in memory with name: no-name-d1c8fa1c-a952-4ea4-93fb-ddd5e4a24b3a\n"
     ]
    },
    {
     "name": "stdout",
     "output_type": "stream",
     "text": [
      "[6 1 2 3 4 5 0]\n",
      "[0 1 2 3 4 5 6]\n",
      "Mapping of original to encoded classes: {np.int64(0): np.int64(0), np.int64(1): np.int64(1), np.int64(2): np.int64(2), np.int64(3): np.int64(3), np.int64(4): np.int64(4), np.int64(5): np.int64(5), np.int64(6): np.int64(6)}\n",
      "Build Best Parameter using Optuna-Hyperparameter Tuning\n"
     ]
    },
    {
     "name": "stderr",
     "output_type": "stream",
     "text": [
      "[I 2024-10-24 10:42:43,307] Trial 0 finished with value: 0.7673013730965598 and parameters: {'max_depth': 8, 'learning_rate': 0.09012124156888662, 'reg_lambda': 0.9124388747022194, 'min_child_weight': 68}. Best is trial 0 with value: 0.7673013730965598.\n"
     ]
    },
    {
     "name": "stderr",
     "output_type": "stream",
     "text": [
      "[I 2024-10-24 10:43:18,793] Trial 1 finished with value: 0.7653605307919965 and parameters: {'max_depth': 8, 'learning_rate': 0.058416309622671435, 'reg_lambda': 3.7654078379152076, 'min_child_weight': 96}. Best is trial 0 with value: 0.7673013730965598.\n"
     ]
    },
    {
     "name": "stderr",
     "output_type": "stream",
     "text": [
      "[I 2024-10-24 10:43:48,488] Trial 2 finished with value: 0.7686006120884539 and parameters: {'max_depth': 10, 'learning_rate': 0.06611169987770885, 'reg_lambda': 4.769129166891595, 'min_child_weight': 64}. Best is trial 2 with value: 0.7686006120884539.\n"
     ]
    },
    {
     "name": "stderr",
     "output_type": "stream",
     "text": [
      "[I 2024-10-24 10:44:45,545] Trial 3 finished with value: 0.760667403808414 and parameters: {'max_depth': 6, 'learning_rate': 0.019634308804777425, 'reg_lambda': 4.845461057122665, 'min_child_weight': 50}. Best is trial 2 with value: 0.7686006120884539.\n"
     ]
    },
    {
     "name": "stderr",
     "output_type": "stream",
     "text": [
      "[I 2024-10-24 10:45:23,557] Trial 4 finished with value: 0.7660190439286158 and parameters: {'max_depth': 6, 'learning_rate': 0.05435213000053908, 'reg_lambda': 4.767340893375769, 'min_child_weight': 57}. Best is trial 2 with value: 0.7686006120884539.\n"
     ]
    },
    {
     "name": "stderr",
     "output_type": "stream",
     "text": [
      "[I 2024-10-24 10:46:15,862] Trial 5 finished with value: 0.7657443834637331 and parameters: {'max_depth': 7, 'learning_rate': 0.03685679011426516, 'reg_lambda': 0.4851353988083107, 'min_child_weight': 53}. Best is trial 2 with value: 0.7686006120884539.\n"
     ]
    },
    {
     "name": "stderr",
     "output_type": "stream",
     "text": [
      "[I 2024-10-24 10:47:37,608] Trial 6 finished with value: 0.7677702186378698 and parameters: {'max_depth': 9, 'learning_rate': 0.02256393734963792, 'reg_lambda': 4.148566989139753, 'min_child_weight': 60}. Best is trial 2 with value: 0.7686006120884539.\n"
     ]
    },
    {
     "name": "stderr",
     "output_type": "stream",
     "text": [
      "[I 2024-10-24 10:48:37,796] Trial 7 finished with value: 0.7683844683880211 and parameters: {'max_depth': 8, 'learning_rate': 0.03154088962217888, 'reg_lambda': 1.7490818807973936, 'min_child_weight': 66}. Best is trial 2 with value: 0.7686006120884539.\n"
     ]
    },
    {
     "name": "stderr",
     "output_type": "stream",
     "text": [
      "[I 2024-10-24 10:49:19,217] Trial 8 finished with value: 0.7674295935116723 and parameters: {'max_depth': 10, 'learning_rate': 0.048878113012000166, 'reg_lambda': 3.4448211230446435, 'min_child_weight': 67}. Best is trial 2 with value: 0.7686006120884539.\n"
     ]
    },
    {
     "name": "stderr",
     "output_type": "stream",
     "text": [
      "[I 2024-10-24 10:49:40,076] Trial 9 finished with value: 0.7664361635924449 and parameters: {'max_depth': 9, 'learning_rate': 0.09961269485902284, 'reg_lambda': 0.37144668904654443, 'min_child_weight': 60}. Best is trial 2 with value: 0.7686006120884539.\n"
     ]
    },
    {
     "name": "stderr",
     "output_type": "stream",
     "text": [
      "[I 2024-10-24 10:50:07,433] Trial 10 finished with value: 0.7657624691404092 and parameters: {'max_depth': 10, 'learning_rate': 0.07624476889529208, 'reg_lambda': 2.7804688089079828, 'min_child_weight': 84}. Best is trial 2 with value: 0.7686006120884539.\n"
     ]
    },
    {
     "name": "stderr",
     "output_type": "stream",
     "text": [
      "[I 2024-10-24 10:50:34,973] Trial 11 finished with value: 0.7667120780714122 and parameters: {'max_depth': 9, 'learning_rate': 0.07335435032533269, 'reg_lambda': 1.4638729545242894, 'min_child_weight': 78}. Best is trial 2 with value: 0.7686006120884539.\n"
     ]
    },
    {
     "name": "stderr",
     "output_type": "stream",
     "text": [
      "[I 2024-10-24 10:51:32,009] Trial 12 finished with value: 0.765676927021555 and parameters: {'max_depth': 7, 'learning_rate': 0.03584647209179717, 'reg_lambda': 2.1161211630540837, 'min_child_weight': 70}. Best is trial 2 with value: 0.7686006120884539.\n"
     ]
    },
    {
     "name": "stderr",
     "output_type": "stream",
     "text": [
      "[I 2024-10-24 10:52:04,056] Trial 13 finished with value: 0.7665707398244236 and parameters: {'max_depth': 7, 'learning_rate': 0.06971749615674676, 'reg_lambda': 2.3342093435608304, 'min_child_weight': 78}. Best is trial 2 with value: 0.7686006120884539.\n"
     ]
    },
    {
     "name": "stderr",
     "output_type": "stream",
     "text": [
      "[I 2024-10-24 10:53:35,669] Trial 14 finished with value: 0.7635048665992477 and parameters: {'max_depth': 9, 'learning_rate': 0.012343231130490375, 'reg_lambda': 1.6998780433527951, 'min_child_weight': 88}. Best is trial 2 with value: 0.7686006120884539.\n"
     ]
    },
    {
     "name": "stderr",
     "output_type": "stream",
     "text": [
      "[I 2024-10-24 10:54:30,384] Trial 15 finished with value: 0.7679914573806098 and parameters: {'max_depth': 10, 'learning_rate': 0.03651629957510019, 'reg_lambda': 3.0350857559354454, 'min_child_weight': 64}. Best is trial 2 with value: 0.7686006120884539.\n"
     ]
    },
    {
     "name": "stderr",
     "output_type": "stream",
     "text": [
      "[I 2024-10-24 10:55:14,268] Trial 16 finished with value: 0.7671813304182168 and parameters: {'max_depth': 8, 'learning_rate': 0.049322735689975215, 'reg_lambda': 1.405241861250115, 'min_child_weight': 73}. Best is trial 2 with value: 0.7686006120884539.\n"
     ]
    },
    {
     "name": "stderr",
     "output_type": "stream",
     "text": [
      "[I 2024-10-24 10:55:47,760] Trial 17 finished with value: 0.7659112936979069 and parameters: {'max_depth': 7, 'learning_rate': 0.06520871827734626, 'reg_lambda': 2.096494494287834, 'min_child_weight': 63}. Best is trial 2 with value: 0.7686006120884539.\n"
     ]
    },
    {
     "name": "stderr",
     "output_type": "stream",
     "text": [
      "[I 2024-10-24 10:56:14,321] Trial 18 finished with value: 0.7671110116939182 and parameters: {'max_depth': 9, 'learning_rate': 0.08115674885999202, 'reg_lambda': 4.377850769405117, 'min_child_weight': 55}. Best is trial 2 with value: 0.7686006120884539.\n"
     ]
    },
    {
     "name": "stderr",
     "output_type": "stream",
     "text": [
      "[I 2024-10-24 10:57:29,154] Trial 19 finished with value: 0.7675371604542383 and parameters: {'max_depth': 8, 'learning_rate': 0.025354259133029987, 'reg_lambda': 3.4480440417450366, 'min_child_weight': 77}. Best is trial 2 with value: 0.7686006120884539.\n"
     ]
    },
    {
     "name": "stdout",
     "output_type": "stream",
     "text": [
      "Best Parameters: {'max_depth': 10, 'learning_rate': 0.06611169987770885, 'reg_lambda': 4.769129166891595, 'min_child_weight': 64}\n",
      "Best Score: 0.7686006120884539\n",
      "Start the modelling\n",
      "[0]\ttrain-mlogloss:1.81995\teval-mlogloss:1.82354\n"
     ]
    },
    {
     "name": "stdout",
     "output_type": "stream",
     "text": [
      "[100]\ttrain-mlogloss:0.24634\teval-mlogloss:0.52551\n"
     ]
    },
    {
     "name": "stdout",
     "output_type": "stream",
     "text": [
      "[200]\ttrain-mlogloss:0.13784\teval-mlogloss:0.49084\n"
     ]
    },
    {
     "name": "stdout",
     "output_type": "stream",
     "text": [
      "[300]\ttrain-mlogloss:0.08398\teval-mlogloss:0.48610\n"
     ]
    },
    {
     "name": "stdout",
     "output_type": "stream",
     "text": [
      "[400]\ttrain-mlogloss:0.05907\teval-mlogloss:0.49093\n"
     ]
    },
    {
     "name": "stdout",
     "output_type": "stream",
     "text": [
      "[500]\ttrain-mlogloss:0.04424\teval-mlogloss:0.49670\n"
     ]
    },
    {
     "name": "stdout",
     "output_type": "stream",
     "text": [
      "[600]\ttrain-mlogloss:0.03547\teval-mlogloss:0.50360\n"
     ]
    },
    {
     "name": "stdout",
     "output_type": "stream",
     "text": [
      "[700]\ttrain-mlogloss:0.02909\teval-mlogloss:0.51095\n"
     ]
    },
    {
     "name": "stdout",
     "output_type": "stream",
     "text": [
      "[800]\ttrain-mlogloss:0.02468\teval-mlogloss:0.51854\n"
     ]
    },
    {
     "name": "stdout",
     "output_type": "stream",
     "text": [
      "[900]\ttrain-mlogloss:0.02143\teval-mlogloss:0.52486\n"
     ]
    },
    {
     "name": "stdout",
     "output_type": "stream",
     "text": [
      "[1000]\ttrain-mlogloss:0.01887\teval-mlogloss:0.53051\n"
     ]
    },
    {
     "name": "stdout",
     "output_type": "stream",
     "text": [
      "[1100]\ttrain-mlogloss:0.01699\teval-mlogloss:0.53558\n"
     ]
    },
    {
     "name": "stdout",
     "output_type": "stream",
     "text": [
      "[1200]\ttrain-mlogloss:0.01543\teval-mlogloss:0.54046\n"
     ]
    },
    {
     "name": "stdout",
     "output_type": "stream",
     "text": [
      "[1275]\ttrain-mlogloss:0.01442\teval-mlogloss:0.54405\n"
     ]
    },
    {
     "name": "stdout",
     "output_type": "stream",
     "text": [
      "[0]\ttrain-mlogloss:1.82041\teval-mlogloss:1.82399\n"
     ]
    },
    {
     "name": "stdout",
     "output_type": "stream",
     "text": [
      "[100]\ttrain-mlogloss:0.24444\teval-mlogloss:0.52354\n"
     ]
    },
    {
     "name": "stdout",
     "output_type": "stream",
     "text": [
      "[200]\ttrain-mlogloss:0.13310\teval-mlogloss:0.48737\n"
     ]
    },
    {
     "name": "stdout",
     "output_type": "stream",
     "text": [
      "[300]\ttrain-mlogloss:0.08291\teval-mlogloss:0.48243\n"
     ]
    },
    {
     "name": "stdout",
     "output_type": "stream",
     "text": [
      "[400]\ttrain-mlogloss:0.05734\teval-mlogloss:0.48570\n"
     ]
    },
    {
     "name": "stdout",
     "output_type": "stream",
     "text": [
      "[500]\ttrain-mlogloss:0.04302\teval-mlogloss:0.49124\n"
     ]
    },
    {
     "name": "stdout",
     "output_type": "stream",
     "text": [
      "[600]\ttrain-mlogloss:0.03452\teval-mlogloss:0.49838\n"
     ]
    },
    {
     "name": "stdout",
     "output_type": "stream",
     "text": [
      "[700]\ttrain-mlogloss:0.02867\teval-mlogloss:0.50492\n"
     ]
    },
    {
     "name": "stdout",
     "output_type": "stream",
     "text": [
      "[800]\ttrain-mlogloss:0.02427\teval-mlogloss:0.51146\n"
     ]
    },
    {
     "name": "stdout",
     "output_type": "stream",
     "text": [
      "[900]\ttrain-mlogloss:0.02128\teval-mlogloss:0.51705\n"
     ]
    },
    {
     "name": "stdout",
     "output_type": "stream",
     "text": [
      "[1000]\ttrain-mlogloss:0.01873\teval-mlogloss:0.52270\n"
     ]
    },
    {
     "name": "stdout",
     "output_type": "stream",
     "text": [
      "[1100]\ttrain-mlogloss:0.01681\teval-mlogloss:0.52719\n"
     ]
    },
    {
     "name": "stdout",
     "output_type": "stream",
     "text": [
      "[1200]\ttrain-mlogloss:0.01532\teval-mlogloss:0.53196\n"
     ]
    },
    {
     "name": "stdout",
     "output_type": "stream",
     "text": [
      "[1294]\ttrain-mlogloss:0.01413\teval-mlogloss:0.53618\n"
     ]
    },
    {
     "name": "stdout",
     "output_type": "stream",
     "text": [
      "[0]\ttrain-mlogloss:1.82010\teval-mlogloss:1.82422\n"
     ]
    },
    {
     "name": "stdout",
     "output_type": "stream",
     "text": [
      "[100]\ttrain-mlogloss:0.24744\teval-mlogloss:0.52509\n"
     ]
    },
    {
     "name": "stdout",
     "output_type": "stream",
     "text": [
      "[200]\ttrain-mlogloss:0.13361\teval-mlogloss:0.48870\n"
     ]
    },
    {
     "name": "stdout",
     "output_type": "stream",
     "text": [
      "[300]\ttrain-mlogloss:0.08439\teval-mlogloss:0.48350\n"
     ]
    },
    {
     "name": "stdout",
     "output_type": "stream",
     "text": [
      "[400]\ttrain-mlogloss:0.05991\teval-mlogloss:0.48688\n"
     ]
    },
    {
     "name": "stdout",
     "output_type": "stream",
     "text": [
      "[500]\ttrain-mlogloss:0.04558\teval-mlogloss:0.49156\n"
     ]
    },
    {
     "name": "stdout",
     "output_type": "stream",
     "text": [
      "[600]\ttrain-mlogloss:0.03634\teval-mlogloss:0.49712\n"
     ]
    },
    {
     "name": "stdout",
     "output_type": "stream",
     "text": [
      "[700]\ttrain-mlogloss:0.02971\teval-mlogloss:0.50371\n"
     ]
    },
    {
     "name": "stdout",
     "output_type": "stream",
     "text": [
      "[800]\ttrain-mlogloss:0.02495\teval-mlogloss:0.50982\n"
     ]
    },
    {
     "name": "stdout",
     "output_type": "stream",
     "text": [
      "[900]\ttrain-mlogloss:0.02164\teval-mlogloss:0.51576\n"
     ]
    },
    {
     "name": "stdout",
     "output_type": "stream",
     "text": [
      "[1000]\ttrain-mlogloss:0.01908\teval-mlogloss:0.52205\n"
     ]
    },
    {
     "name": "stdout",
     "output_type": "stream",
     "text": [
      "[1100]\ttrain-mlogloss:0.01706\teval-mlogloss:0.52706\n"
     ]
    },
    {
     "name": "stdout",
     "output_type": "stream",
     "text": [
      "[1200]\ttrain-mlogloss:0.01535\teval-mlogloss:0.53205\n"
     ]
    },
    {
     "name": "stdout",
     "output_type": "stream",
     "text": [
      "[1292]\ttrain-mlogloss:0.01410\teval-mlogloss:0.53651\n"
     ]
    },
    {
     "name": "stdout",
     "output_type": "stream",
     "text": [
      "[0]\ttrain-mlogloss:1.81910\teval-mlogloss:1.82183\n"
     ]
    },
    {
     "name": "stdout",
     "output_type": "stream",
     "text": [
      "[50]\ttrain-mlogloss:0.43790\teval-mlogloss:0.60912\n"
     ]
    },
    {
     "name": "stdout",
     "output_type": "stream",
     "text": [
      "[100]\ttrain-mlogloss:0.27155\teval-mlogloss:0.51024\n"
     ]
    },
    {
     "name": "stdout",
     "output_type": "stream",
     "text": [
      "[150]\ttrain-mlogloss:0.20498\teval-mlogloss:0.48359\n"
     ]
    },
    {
     "name": "stdout",
     "output_type": "stream",
     "text": [
      "[200]\ttrain-mlogloss:0.15902\teval-mlogloss:0.47101\n"
     ]
    },
    {
     "name": "stdout",
     "output_type": "stream",
     "text": [
      "[250]\ttrain-mlogloss:0.12463\teval-mlogloss:0.46463\n"
     ]
    },
    {
     "name": "stdout",
     "output_type": "stream",
     "text": [
      "[300]\ttrain-mlogloss:0.10177\teval-mlogloss:0.46151\n"
     ]
    },
    {
     "name": "stdout",
     "output_type": "stream",
     "text": [
      "[350]\ttrain-mlogloss:0.08430\teval-mlogloss:0.46074\n"
     ]
    },
    {
     "name": "stdout",
     "output_type": "stream",
     "text": [
      "[400]\ttrain-mlogloss:0.07146\teval-mlogloss:0.46134\n"
     ]
    },
    {
     "name": "stdout",
     "output_type": "stream",
     "text": [
      "[408]\ttrain-mlogloss:0.06964\teval-mlogloss:0.46148\n"
     ]
    },
    {
     "name": "stdout",
     "output_type": "stream",
     "text": [
      "\n",
      "Classification Report on Test Set:\n",
      "              precision    recall  f1-score   support\n",
      "\n",
      "           0       0.50      0.34      0.41      6684\n",
      "           1       0.89      0.93      0.91     12669\n",
      "           2       0.95      0.95      0.95     12351\n",
      "           3       0.93      0.94      0.94     12928\n",
      "           4       0.90      0.96      0.93     10494\n",
      "           5       0.62      0.46      0.53      6556\n",
      "           6       0.71      0.83      0.76     13819\n",
      "\n",
      "    accuracy                           0.83     75501\n",
      "   macro avg       0.79      0.77      0.78     75501\n",
      "weighted avg       0.82      0.83      0.82     75501\n",
      "\n"
     ]
    },
    {
     "data": {
      "image/png": "[encoded data removed]",
      "text/plain": [
       "<Figure size 640x480 with 1 Axes>"
      ]
     },
     "metadata": {},
     "output_type": "display_data"
    },
    {
     "data": {
      "image/png": "[encoded data removed]",
      "text/plain": [
       "<Figure size 640x480 with 2 Axes>"
      ]
     },
     "metadata": {},
     "output_type": "display_data"
    },
    {
     "name": "stdout",
     "output_type": "stream",
     "text": [
      "{'average_accuracy': 0.8243655679507852, 'average_f1_macro': np.float64(0.7681317833189212), 'average_f1_micro': np.float64(0.8243655679507852), 'average_auc': np.float64(0.9596870961247608), 'average_acc_kelas_generatif': 0.9379062960775216, 'average_acc_fase_padi': 0.9432589616939039}\n",
      "{'val_accuracy': 0.82922080502245, 'val_f1_macro': np.float64(0.7757430218776975), 'val_f1_micro': np.float64(0.82922080502245), 'val_auc': np.float64(0.9627993096179192), 'val_acc_kelas_generatif': 0.9446936881188119, 'val_acc_fase_padi': 0.946224350769993, 'val_relative_acc': np.float64(99.33202810088679)}\n",
      "=============================================================================\n",
      "=============================================================================\n",
      "CLUSTER:  5\n"
     ]
    },
    {
     "name": "stderr",
     "output_type": "stream",
     "text": [
      "[I 2024-10-24 10:59:20,075] A new study created in memory with name: no-name-816ddbf7-2cdb-42df-8ed3-427f40ec9b39\n"
     ]
    },
    {
     "name": "stdout",
     "output_type": "stream",
     "text": [
      "[6 2 4 3 1 5 0]\n",
      "[0 1 2 3 4 5 6]\n",
      "Mapping of original to encoded classes: {np.int64(0): np.int64(0), np.int64(1): np.int64(1), np.int64(2): np.int64(2), np.int64(3): np.int64(3), np.int64(4): np.int64(4), np.int64(5): np.int64(5), np.int64(6): np.int64(6)}\n",
      "Build Best Parameter using Optuna-Hyperparameter Tuning\n"
     ]
    },
    {
     "name": "stderr",
     "output_type": "stream",
     "text": [
      "[I 2024-10-24 11:00:12,050] Trial 0 finished with value: 0.5479438754329057 and parameters: {'max_depth': 7, 'learning_rate': 0.016826282771132156, 'reg_lambda': 4.252825990882851, 'min_child_weight': 89}. Best is trial 0 with value: 0.5479438754329057.\n"
     ]
    },
    {
     "name": "stderr",
     "output_type": "stream",
     "text": [
      "[I 2024-10-24 11:00:45,877] Trial 1 finished with value: 0.5477854773624616 and parameters: {'max_depth': 6, 'learning_rate': 0.029561521754994526, 'reg_lambda': 0.7893908014277118, 'min_child_weight': 61}. Best is trial 0 with value: 0.5479438754329057.\n"
     ]
    },
    {
     "name": "stderr",
     "output_type": "stream",
     "text": [
      "[I 2024-10-24 11:01:00,464] Trial 2 finished with value: 0.5455522600075391 and parameters: {'max_depth': 7, 'learning_rate': 0.09550982268527847, 'reg_lambda': 1.5938500060270278, 'min_child_weight': 98}. Best is trial 0 with value: 0.5479438754329057.\n"
     ]
    },
    {
     "name": "stderr",
     "output_type": "stream",
     "text": [
      "[I 2024-10-24 11:01:16,313] Trial 3 finished with value: 0.5524471354242434 and parameters: {'max_depth': 10, 'learning_rate': 0.08978125287289805, 'reg_lambda': 4.938174439921638, 'min_child_weight': 51}. Best is trial 3 with value: 0.5524471354242434.\n"
     ]
    },
    {
     "name": "stderr",
     "output_type": "stream",
     "text": [
      "[I 2024-10-24 11:01:33,222] Trial 4 finished with value: 0.5467080248724976 and parameters: {'max_depth': 7, 'learning_rate': 0.07241287227159597, 'reg_lambda': 3.504100413442605, 'min_child_weight': 66}. Best is trial 3 with value: 0.5524471354242434.\n"
     ]
    },
    {
     "name": "stderr",
     "output_type": "stream",
     "text": [
      "[I 2024-10-24 11:01:49,802] Trial 5 finished with value: 0.5493337009203499 and parameters: {'max_depth': 8, 'learning_rate': 0.07776060838327431, 'reg_lambda': 1.4306272502590738, 'min_child_weight': 58}. Best is trial 3 with value: 0.5524471354242434.\n"
     ]
    },
    {
     "name": "stderr",
     "output_type": "stream",
     "text": [
      "[I 2024-10-24 11:02:32,223] Trial 6 finished with value: 0.5471551763456438 and parameters: {'max_depth': 6, 'learning_rate': 0.022266170385125232, 'reg_lambda': 1.9093974280081212, 'min_child_weight': 83}. Best is trial 3 with value: 0.5524471354242434.\n"
     ]
    },
    {
     "name": "stderr",
     "output_type": "stream",
     "text": [
      "[I 2024-10-24 11:03:10,287] Trial 7 finished with value: 0.5513414991848969 and parameters: {'max_depth': 9, 'learning_rate': 0.0319724393610851, 'reg_lambda': 2.6597585154488046, 'min_child_weight': 75}. Best is trial 3 with value: 0.5524471354242434.\n"
     ]
    },
    {
     "name": "stderr",
     "output_type": "stream",
     "text": [
      "[I 2024-10-24 11:03:27,444] Trial 8 finished with value: 0.5502535510742566 and parameters: {'max_depth': 9, 'learning_rate': 0.07870286376787128, 'reg_lambda': 0.6431034279749727, 'min_child_weight': 69}. Best is trial 3 with value: 0.5524471354242434.\n"
     ]
    },
    {
     "name": "stderr",
     "output_type": "stream",
     "text": [
      "[I 2024-10-24 11:04:02,421] Trial 9 finished with value: 0.5456258003204613 and parameters: {'max_depth': 6, 'learning_rate': 0.026614264497749153, 'reg_lambda': 2.810221978746408, 'min_child_weight': 88}. Best is trial 3 with value: 0.5524471354242434.\n"
     ]
    },
    {
     "name": "stderr",
     "output_type": "stream",
     "text": [
      "[I 2024-10-24 11:04:28,595] Trial 10 finished with value: 0.5537891204167532 and parameters: {'max_depth': 10, 'learning_rate': 0.049485204129303066, 'reg_lambda': 4.991928134964745, 'min_child_weight': 50}. Best is trial 10 with value: 0.5537891204167532.\n"
     ]
    },
    {
     "name": "stderr",
     "output_type": "stream",
     "text": [
      "[I 2024-10-24 11:04:55,593] Trial 11 finished with value: 0.5517471078298333 and parameters: {'max_depth': 10, 'learning_rate': 0.04982213550542336, 'reg_lambda': 4.639248767852735, 'min_child_weight': 51}. Best is trial 10 with value: 0.5537891204167532.\n"
     ]
    },
    {
     "name": "stderr",
     "output_type": "stream",
     "text": [
      "[I 2024-10-24 11:05:24,071] Trial 12 finished with value: 0.5534530104577223 and parameters: {'max_depth': 10, 'learning_rate': 0.04989794764160003, 'reg_lambda': 4.8615572544376136, 'min_child_weight': 50}. Best is trial 10 with value: 0.5537891204167532.\n"
     ]
    },
    {
     "name": "stderr",
     "output_type": "stream",
     "text": [
      "[I 2024-10-24 11:05:51,897] Trial 13 finished with value: 0.551382368130251 and parameters: {'max_depth': 9, 'learning_rate': 0.0469354584409945, 'reg_lambda': 3.85370635515332, 'min_child_weight': 50}. Best is trial 10 with value: 0.5537891204167532.\n"
     ]
    },
    {
     "name": "stderr",
     "output_type": "stream",
     "text": [
      "[I 2024-10-24 11:06:14,190] Trial 14 finished with value: 0.5533692536989484 and parameters: {'max_depth': 10, 'learning_rate': 0.0622331868670738, 'reg_lambda': 3.477484335835734, 'min_child_weight': 59}. Best is trial 10 with value: 0.5537891204167532.\n"
     ]
    },
    {
     "name": "stderr",
     "output_type": "stream",
     "text": [
      "[I 2024-10-24 11:06:47,142] Trial 15 finished with value: 0.5525506873791985 and parameters: {'max_depth': 9, 'learning_rate': 0.0398579269297025, 'reg_lambda': 4.3391237195803765, 'min_child_weight': 57}. Best is trial 10 with value: 0.5537891204167532.\n"
     ]
    },
    {
     "name": "stderr",
     "output_type": "stream",
     "text": [
      "[I 2024-10-24 11:07:08,999] Trial 16 finished with value: 0.5540088711124479 and parameters: {'max_depth': 10, 'learning_rate': 0.0618181357860016, 'reg_lambda': 4.877042299598486, 'min_child_weight': 71}. Best is trial 16 with value: 0.5540088711124479.\n"
     ]
    },
    {
     "name": "stderr",
     "output_type": "stream",
     "text": [
      "[I 2024-10-24 11:07:30,320] Trial 17 finished with value: 0.5498625013772664 and parameters: {'max_depth': 8, 'learning_rate': 0.062159921973428095, 'reg_lambda': 3.6933709645876296, 'min_child_weight': 77}. Best is trial 16 with value: 0.5540088711124479.\n"
     ]
    },
    {
     "name": "stderr",
     "output_type": "stream",
     "text": [
      "[I 2024-10-24 11:07:52,845] Trial 18 finished with value: 0.5534365774052245 and parameters: {'max_depth': 10, 'learning_rate': 0.061935373994894, 'reg_lambda': 3.048552712897166, 'min_child_weight': 70}. Best is trial 16 with value: 0.5540088711124479.\n"
     ]
    },
    {
     "name": "stderr",
     "output_type": "stream",
     "text": [
      "[I 2024-10-24 11:08:11,640] Trial 19 finished with value: 0.5476657115955201 and parameters: {'max_depth': 9, 'learning_rate': 0.0694552963989857, 'reg_lambda': 2.1825675085665126, 'min_child_weight': 98}. Best is trial 16 with value: 0.5540088711124479.\n"
     ]
    },
    {
     "name": "stdout",
     "output_type": "stream",
     "text": [
      "Best Parameters: {'max_depth': 10, 'learning_rate': 0.0618181357860016, 'reg_lambda': 4.877042299598486, 'min_child_weight': 71}\n",
      "Best Score: 0.5540088711124479\n",
      "Start the modelling\n",
      "[0]\ttrain-mlogloss:1.86794\teval-mlogloss:1.89207\n"
     ]
    },
    {
     "name": "stdout",
     "output_type": "stream",
     "text": [
      "[100]\ttrain-mlogloss:0.64643\teval-mlogloss:1.23914\n"
     ]
    },
    {
     "name": "stdout",
     "output_type": "stream",
     "text": [
      "[200]\ttrain-mlogloss:0.42562\teval-mlogloss:1.22518\n"
     ]
    },
    {
     "name": "stdout",
     "output_type": "stream",
     "text": [
      "[300]\ttrain-mlogloss:0.29258\teval-mlogloss:1.22880\n"
     ]
    },
    {
     "name": "stdout",
     "output_type": "stream",
     "text": [
      "[400]\ttrain-mlogloss:0.21246\teval-mlogloss:1.23804\n"
     ]
    },
    {
     "name": "stdout",
     "output_type": "stream",
     "text": [
      "[500]\ttrain-mlogloss:0.16212\teval-mlogloss:1.25065\n"
     ]
    },
    {
     "name": "stdout",
     "output_type": "stream",
     "text": [
      "[600]\ttrain-mlogloss:0.12866\teval-mlogloss:1.26531\n"
     ]
    },
    {
     "name": "stdout",
     "output_type": "stream",
     "text": [
      "[700]\ttrain-mlogloss:0.10399\teval-mlogloss:1.27971\n"
     ]
    },
    {
     "name": "stdout",
     "output_type": "stream",
     "text": [
      "[800]\ttrain-mlogloss:0.08653\teval-mlogloss:1.29453\n"
     ]
    },
    {
     "name": "stdout",
     "output_type": "stream",
     "text": [
      "[900]\ttrain-mlogloss:0.07360\teval-mlogloss:1.30812\n"
     ]
    },
    {
     "name": "stdout",
     "output_type": "stream",
     "text": [
      "[1000]\ttrain-mlogloss:0.06452\teval-mlogloss:1.32154\n"
     ]
    },
    {
     "name": "stdout",
     "output_type": "stream",
     "text": [
      "[1100]\ttrain-mlogloss:0.05717\teval-mlogloss:1.33312\n"
     ]
    },
    {
     "name": "stdout",
     "output_type": "stream",
     "text": [
      "[1196]\ttrain-mlogloss:0.05162\teval-mlogloss:1.34385\n"
     ]
    },
    {
     "name": "stdout",
     "output_type": "stream",
     "text": [
      "[0]\ttrain-mlogloss:1.86856\teval-mlogloss:1.89030\n"
     ]
    },
    {
     "name": "stdout",
     "output_type": "stream",
     "text": [
      "[100]\ttrain-mlogloss:0.64904\teval-mlogloss:1.23126\n"
     ]
    },
    {
     "name": "stdout",
     "output_type": "stream",
     "text": [
      "[200]\ttrain-mlogloss:0.42888\teval-mlogloss:1.21690\n"
     ]
    },
    {
     "name": "stdout",
     "output_type": "stream",
     "text": [
      "[300]\ttrain-mlogloss:0.29747\teval-mlogloss:1.22164\n"
     ]
    },
    {
     "name": "stdout",
     "output_type": "stream",
     "text": [
      "[400]\ttrain-mlogloss:0.22056\teval-mlogloss:1.23318\n"
     ]
    },
    {
     "name": "stdout",
     "output_type": "stream",
     "text": [
      "[500]\ttrain-mlogloss:0.16910\teval-mlogloss:1.24925\n"
     ]
    },
    {
     "name": "stdout",
     "output_type": "stream",
     "text": [
      "[600]\ttrain-mlogloss:0.13265\teval-mlogloss:1.26472\n"
     ]
    },
    {
     "name": "stdout",
     "output_type": "stream",
     "text": [
      "[700]\ttrain-mlogloss:0.10870\teval-mlogloss:1.28106\n"
     ]
    },
    {
     "name": "stdout",
     "output_type": "stream",
     "text": [
      "[800]\ttrain-mlogloss:0.09041\teval-mlogloss:1.29624\n"
     ]
    },
    {
     "name": "stdout",
     "output_type": "stream",
     "text": [
      "[900]\ttrain-mlogloss:0.07698\teval-mlogloss:1.31122\n"
     ]
    },
    {
     "name": "stdout",
     "output_type": "stream",
     "text": [
      "[1000]\ttrain-mlogloss:0.06656\teval-mlogloss:1.32605\n"
     ]
    },
    {
     "name": "stdout",
     "output_type": "stream",
     "text": [
      "[1100]\ttrain-mlogloss:0.05886\teval-mlogloss:1.33884\n"
     ]
    },
    {
     "name": "stdout",
     "output_type": "stream",
     "text": [
      "[1200]\ttrain-mlogloss:0.05228\teval-mlogloss:1.35158\n"
     ]
    },
    {
     "name": "stdout",
     "output_type": "stream",
     "text": [
      "[0]\ttrain-mlogloss:1.86851\teval-mlogloss:1.89070\n"
     ]
    },
    {
     "name": "stdout",
     "output_type": "stream",
     "text": [
      "[100]\ttrain-mlogloss:0.64059\teval-mlogloss:1.23033\n"
     ]
    },
    {
     "name": "stdout",
     "output_type": "stream",
     "text": [
      "[200]\ttrain-mlogloss:0.41776\teval-mlogloss:1.21428\n"
     ]
    },
    {
     "name": "stdout",
     "output_type": "stream",
     "text": [
      "[300]\ttrain-mlogloss:0.28970\teval-mlogloss:1.21682\n"
     ]
    },
    {
     "name": "stdout",
     "output_type": "stream",
     "text": [
      "[400]\ttrain-mlogloss:0.20955\teval-mlogloss:1.22543\n"
     ]
    },
    {
     "name": "stdout",
     "output_type": "stream",
     "text": [
      "[500]\ttrain-mlogloss:0.15863\teval-mlogloss:1.23806\n"
     ]
    },
    {
     "name": "stdout",
     "output_type": "stream",
     "text": [
      "[600]\ttrain-mlogloss:0.12503\teval-mlogloss:1.25247\n"
     ]
    },
    {
     "name": "stdout",
     "output_type": "stream",
     "text": [
      "[700]\ttrain-mlogloss:0.10216\teval-mlogloss:1.26606\n"
     ]
    },
    {
     "name": "stdout",
     "output_type": "stream",
     "text": [
      "[800]\ttrain-mlogloss:0.08526\teval-mlogloss:1.28001\n"
     ]
    },
    {
     "name": "stdout",
     "output_type": "stream",
     "text": [
      "[900]\ttrain-mlogloss:0.07303\teval-mlogloss:1.29331\n"
     ]
    },
    {
     "name": "stdout",
     "output_type": "stream",
     "text": [
      "[1000]\ttrain-mlogloss:0.06354\teval-mlogloss:1.30772\n"
     ]
    },
    {
     "name": "stdout",
     "output_type": "stream",
     "text": [
      "[1100]\ttrain-mlogloss:0.05592\teval-mlogloss:1.32027\n"
     ]
    },
    {
     "name": "stdout",
     "output_type": "stream",
     "text": [
      "[1200]\ttrain-mlogloss:0.04978\teval-mlogloss:1.33169\n"
     ]
    },
    {
     "name": "stdout",
     "output_type": "stream",
     "text": [
      "[1208]\ttrain-mlogloss:0.04940\teval-mlogloss:1.33235\n"
     ]
    },
    {
     "name": "stdout",
     "output_type": "stream",
     "text": [
      "[0]\ttrain-mlogloss:1.86837\teval-mlogloss:1.89034\n"
     ]
    },
    {
     "name": "stdout",
     "output_type": "stream",
     "text": [
      "[50]\ttrain-mlogloss:0.89545\teval-mlogloss:1.28174\n"
     ]
    },
    {
     "name": "stdout",
     "output_type": "stream",
     "text": [
      "[100]\ttrain-mlogloss:0.70050\teval-mlogloss:1.23111\n"
     ]
    },
    {
     "name": "stdout",
     "output_type": "stream",
     "text": [
      "[150]\ttrain-mlogloss:0.57805\teval-mlogloss:1.21934\n"
     ]
    },
    {
     "name": "stdout",
     "output_type": "stream",
     "text": [
      "[200]\ttrain-mlogloss:0.47990\teval-mlogloss:1.21478\n"
     ]
    },
    {
     "name": "stdout",
     "output_type": "stream",
     "text": [
      "[250]\ttrain-mlogloss:0.40399\teval-mlogloss:1.21362\n"
     ]
    },
    {
     "name": "stdout",
     "output_type": "stream",
     "text": [
      "[299]\ttrain-mlogloss:0.34670\teval-mlogloss:1.21428\n"
     ]
    },
    {
     "name": "stdout",
     "output_type": "stream",
     "text": [
      "\n",
      "Classification Report on Test Set:\n",
      "              precision    recall  f1-score   support\n",
      "\n",
      "           0       0.35      0.28      0.31      6638\n",
      "           1       0.78      0.72      0.75      4631\n",
      "           2       0.73      0.66      0.69      5427\n",
      "           3       0.88      0.93      0.90      5422\n",
      "           4       0.38      0.42      0.40      6864\n",
      "           5       0.32      0.27      0.29      6668\n",
      "           6       0.51      0.59      0.55     13936\n",
      "\n",
      "    accuracy                           0.54     49586\n",
      "   macro avg       0.56      0.55      0.56     49586\n",
      "weighted avg       0.53      0.54      0.53     49586\n",
      "\n"
     ]
    },
    {
     "data": {
      "image/png": "[encoded data removed]",
      "text/plain": [
       "<Figure size 640x480 with 1 Axes>"
      ]
     },
     "metadata": {},
     "output_type": "display_data"
    },
    {
     "data": {
      "image/png": "[encoded data removed]",
      "text/plain": [
       "<Figure size 640x480 with 2 Axes>"
      ]
     },
     "metadata": {},
     "output_type": "display_data"
    },
    {
     "name": "stdout",
     "output_type": "stream",
     "text": [
      "{'average_accuracy': 0.5447273979399276, 'average_f1_macro': np.float64(0.552817093086798), 'average_f1_micro': np.float64(0.5447273979399276), 'average_auc': np.float64(0.8301647119963124), 'average_acc_kelas_generatif': 0.9311561223639243, 'average_acc_fase_padi': 0.6472431503651156}\n",
      "{'val_accuracy': 0.5395272859274796, 'val_f1_macro': np.float64(0.5563588253259107), 'val_f1_micro': np.float64(0.5395272859274796), 'val_auc': np.float64(0.8358183250124148), 'val_acc_kelas_generatif': 0.9269642198450756, 'val_acc_fase_padi': 0.6636680988184748, 'val_relative_acc': np.float64(92.64123122292877)}\n",
      "=============================================================================\n",
      "=============================================================================\n",
      "CLUSTER:  6\n"
     ]
    },
    {
     "name": "stderr",
     "output_type": "stream",
     "text": [
      "[I 2024-10-24 11:09:46,024] A new study created in memory with name: no-name-2fa6e82c-5f7b-4943-961a-6688a52ef731\n"
     ]
    },
    {
     "name": "stdout",
     "output_type": "stream",
     "text": [
      "[6 5 2 4 0 1 3]\n",
      "[0 1 2 3 4 5 6]\n",
      "Mapping of original to encoded classes: {np.int64(0): np.int64(0), np.int64(1): np.int64(1), np.int64(2): np.int64(2), np.int64(3): np.int64(3), np.int64(4): np.int64(4), np.int64(5): np.int64(5), np.int64(6): np.int64(6)}\n",
      "Build Best Parameter using Optuna-Hyperparameter Tuning\n"
     ]
    },
    {
     "name": "stderr",
     "output_type": "stream",
     "text": [
      "[I 2024-10-24 11:10:50,778] Trial 0 finished with value: 0.6271294154567073 and parameters: {'max_depth': 9, 'learning_rate': 0.02451996325272128, 'reg_lambda': 0.40753110045875196, 'min_child_weight': 90}. Best is trial 0 with value: 0.6271294154567073.\n"
     ]
    },
    {
     "name": "stderr",
     "output_type": "stream",
     "text": [
      "[I 2024-10-24 11:11:37,995] Trial 1 finished with value: 0.6282562583572007 and parameters: {'max_depth': 10, 'learning_rate': 0.035282872406208456, 'reg_lambda': 4.697672274500064, 'min_child_weight': 62}. Best is trial 1 with value: 0.6282562583572007.\n"
     ]
    },
    {
     "name": "stderr",
     "output_type": "stream",
     "text": [
      "[I 2024-10-24 11:12:06,261] Trial 2 finished with value: 0.6290566351934358 and parameters: {'max_depth': 10, 'learning_rate': 0.06263280004888062, 'reg_lambda': 0.2684996935298817, 'min_child_weight': 77}. Best is trial 2 with value: 0.6290566351934358.\n"
     ]
    },
    {
     "name": "stderr",
     "output_type": "stream",
     "text": [
      "[I 2024-10-24 11:12:31,671] Trial 3 finished with value: 0.6274419432220698 and parameters: {'max_depth': 10, 'learning_rate': 0.06703905497370598, 'reg_lambda': 2.555900719610957, 'min_child_weight': 59}. Best is trial 2 with value: 0.6290566351934358.\n"
     ]
    },
    {
     "name": "stderr",
     "output_type": "stream",
     "text": [
      "[I 2024-10-24 11:13:45,419] Trial 4 finished with value: 0.6250870437236132 and parameters: {'max_depth': 8, 'learning_rate': 0.013701453893259294, 'reg_lambda': 3.211853592094846, 'min_child_weight': 74}. Best is trial 2 with value: 0.6290566351934358.\n"
     ]
    },
    {
     "name": "stderr",
     "output_type": "stream",
     "text": [
      "[I 2024-10-24 11:14:47,580] Trial 5 finished with value: 0.6254224063900783 and parameters: {'max_depth': 7, 'learning_rate': 0.015953639577377603, 'reg_lambda': 2.473475207456162, 'min_child_weight': 75}. Best is trial 2 with value: 0.6290566351934358.\n"
     ]
    },
    {
     "name": "stderr",
     "output_type": "stream",
     "text": [
      "[I 2024-10-24 11:15:09,489] Trial 6 finished with value: 0.6273266527779812 and parameters: {'max_depth': 6, 'learning_rate': 0.08184229597635724, 'reg_lambda': 3.919900137454302, 'min_child_weight': 76}. Best is trial 2 with value: 0.6290566351934358.\n"
     ]
    },
    {
     "name": "stderr",
     "output_type": "stream",
     "text": [
      "[I 2024-10-24 11:16:12,559] Trial 7 finished with value: 0.6264261855882672 and parameters: {'max_depth': 9, 'learning_rate': 0.025902040173780255, 'reg_lambda': 1.976579414567178, 'min_child_weight': 91}. Best is trial 2 with value: 0.6290566351934358.\n"
     ]
    },
    {
     "name": "stderr",
     "output_type": "stream",
     "text": [
      "[I 2024-10-24 11:16:40,779] Trial 8 finished with value: 0.6316468321265863 and parameters: {'max_depth': 9, 'learning_rate': 0.058660774570884096, 'reg_lambda': 3.7561591696264296, 'min_child_weight': 56}. Best is trial 8 with value: 0.6316468321265863.\n"
     ]
    },
    {
     "name": "stderr",
     "output_type": "stream",
     "text": [
      "[I 2024-10-24 11:17:33,250] Trial 9 finished with value: 0.6324274222059257 and parameters: {'max_depth': 8, 'learning_rate': 0.03320255519189997, 'reg_lambda': 4.216437674794988, 'min_child_weight': 83}. Best is trial 9 with value: 0.6324274222059257.\n"
     ]
    },
    {
     "name": "stderr",
     "output_type": "stream",
     "text": [
      "[I 2024-10-24 11:18:11,577] Trial 10 finished with value: 0.6275310012958863 and parameters: {'max_depth': 7, 'learning_rate': 0.04353649699584397, 'reg_lambda': 4.88380027243522, 'min_child_weight': 100}. Best is trial 9 with value: 0.6324274222059257.\n"
     ]
    },
    {
     "name": "stderr",
     "output_type": "stream",
     "text": [
      "[I 2024-10-24 11:18:46,326] Trial 11 finished with value: 0.629848257929945 and parameters: {'max_depth': 8, 'learning_rate': 0.048704884086122224, 'reg_lambda': 3.7593477694239263, 'min_child_weight': 54}. Best is trial 9 with value: 0.6324274222059257.\n"
     ]
    },
    {
     "name": "stderr",
     "output_type": "stream",
     "text": [
      "[I 2024-10-24 11:19:06,288] Trial 12 finished with value: 0.6283457983322892 and parameters: {'max_depth': 9, 'learning_rate': 0.09840774133612853, 'reg_lambda': 3.9913593748689546, 'min_child_weight': 65}. Best is trial 9 with value: 0.6324274222059257.\n"
     ]
    },
    {
     "name": "stderr",
     "output_type": "stream",
     "text": [
      "[I 2024-10-24 11:19:32,837] Trial 13 finished with value: 0.6285800792034065 and parameters: {'max_depth': 7, 'learning_rate': 0.06775865434395867, 'reg_lambda': 3.218104670314643, 'min_child_weight': 51}. Best is trial 9 with value: 0.6324274222059257.\n"
     ]
    },
    {
     "name": "stderr",
     "output_type": "stream",
     "text": [
      "[I 2024-10-24 11:20:15,254] Trial 14 finished with value: 0.6285198849378001 and parameters: {'max_depth': 8, 'learning_rate': 0.038534317026619504, 'reg_lambda': 4.363177962037207, 'min_child_weight': 85}. Best is trial 9 with value: 0.6324274222059257.\n"
     ]
    },
    {
     "name": "stderr",
     "output_type": "stream",
     "text": [
      "[I 2024-10-24 11:20:47,699] Trial 15 finished with value: 0.6300832853349364 and parameters: {'max_depth': 9, 'learning_rate': 0.053732726870877386, 'reg_lambda': 3.0580302856898416, 'min_child_weight': 68}. Best is trial 9 with value: 0.6324274222059257.\n"
     ]
    },
    {
     "name": "stderr",
     "output_type": "stream",
     "text": [
      "[I 2024-10-24 11:21:11,915] Trial 16 finished with value: 0.6269186245078081 and parameters: {'max_depth': 6, 'learning_rate': 0.07530129255603528, 'reg_lambda': 1.2244188148028707, 'min_child_weight': 84}. Best is trial 9 with value: 0.6324274222059257.\n"
     ]
    },
    {
     "name": "stderr",
     "output_type": "stream",
     "text": [
      "[I 2024-10-24 11:22:07,255] Trial 17 finished with value: 0.6280580125603342 and parameters: {'max_depth': 8, 'learning_rate': 0.03056451895292066, 'reg_lambda': 4.337704590504295, 'min_child_weight': 69}. Best is trial 9 with value: 0.6324274222059257.\n"
     ]
    },
    {
     "name": "stderr",
     "output_type": "stream",
     "text": [
      "[I 2024-10-24 11:22:30,673] Trial 18 finished with value: 0.6291706552913793 and parameters: {'max_depth': 9, 'learning_rate': 0.08492951504912097, 'reg_lambda': 3.599439659292434, 'min_child_weight': 100}. Best is trial 9 with value: 0.6324274222059257.\n"
     ]
    },
    {
     "name": "stderr",
     "output_type": "stream",
     "text": [
      "[I 2024-10-24 11:23:03,005] Trial 19 finished with value: 0.6273213505580507 and parameters: {'max_depth': 7, 'learning_rate': 0.05450291679614679, 'reg_lambda': 2.1983092693549233, 'min_child_weight': 83}. Best is trial 9 with value: 0.6324274222059257.\n"
     ]
    },
    {
     "name": "stdout",
     "output_type": "stream",
     "text": [
      "Best Parameters: {'max_depth': 8, 'learning_rate': 0.03320255519189997, 'reg_lambda': 4.216437674794988, 'min_child_weight': 83}\n",
      "Best Score: 0.6324274222059257\n",
      "Start the modelling\n",
      "[0]\ttrain-mlogloss:1.90144\teval-mlogloss:1.90469\n"
     ]
    },
    {
     "name": "stdout",
     "output_type": "stream",
     "text": [
      "[100]\ttrain-mlogloss:0.80952\teval-mlogloss:1.00634\n"
     ]
    },
    {
     "name": "stdout",
     "output_type": "stream",
     "text": [
      "[200]\ttrain-mlogloss:0.64060\teval-mlogloss:0.93220\n"
     ]
    },
    {
     "name": "stdout",
     "output_type": "stream",
     "text": [
      "[300]\ttrain-mlogloss:0.54128\teval-mlogloss:0.91130\n"
     ]
    },
    {
     "name": "stdout",
     "output_type": "stream",
     "text": [
      "[400]\ttrain-mlogloss:0.46508\teval-mlogloss:0.90214\n"
     ]
    },
    {
     "name": "stdout",
     "output_type": "stream",
     "text": [
      "[500]\ttrain-mlogloss:0.40019\teval-mlogloss:0.89674\n"
     ]
    },
    {
     "name": "stdout",
     "output_type": "stream",
     "text": [
      "[600]\ttrain-mlogloss:0.34954\teval-mlogloss:0.89363\n"
     ]
    },
    {
     "name": "stdout",
     "output_type": "stream",
     "text": [
      "[700]\ttrain-mlogloss:0.30327\teval-mlogloss:0.89306\n"
     ]
    },
    {
     "name": "stdout",
     "output_type": "stream",
     "text": [
      "[800]\ttrain-mlogloss:0.26491\teval-mlogloss:0.89313\n"
     ]
    },
    {
     "name": "stdout",
     "output_type": "stream",
     "text": [
      "[900]\ttrain-mlogloss:0.23237\teval-mlogloss:0.89423\n"
     ]
    },
    {
     "name": "stdout",
     "output_type": "stream",
     "text": [
      "[1000]\ttrain-mlogloss:0.20571\teval-mlogloss:0.89685\n"
     ]
    },
    {
     "name": "stdout",
     "output_type": "stream",
     "text": [
      "[1100]\ttrain-mlogloss:0.18321\teval-mlogloss:0.90015\n"
     ]
    },
    {
     "name": "stdout",
     "output_type": "stream",
     "text": [
      "[1200]\ttrain-mlogloss:0.16481\teval-mlogloss:0.90406\n"
     ]
    },
    {
     "name": "stdout",
     "output_type": "stream",
     "text": [
      "[1300]\ttrain-mlogloss:0.14889\teval-mlogloss:0.90806\n"
     ]
    },
    {
     "name": "stdout",
     "output_type": "stream",
     "text": [
      "[1400]\ttrain-mlogloss:0.13549\teval-mlogloss:0.91238\n"
     ]
    },
    {
     "name": "stdout",
     "output_type": "stream",
     "text": [
      "[1500]\ttrain-mlogloss:0.12391\teval-mlogloss:0.91653\n"
     ]
    },
    {
     "name": "stdout",
     "output_type": "stream",
     "text": [
      "[1600]\ttrain-mlogloss:0.11343\teval-mlogloss:0.92086\n"
     ]
    },
    {
     "name": "stdout",
     "output_type": "stream",
     "text": [
      "[1700]\ttrain-mlogloss:0.10377\teval-mlogloss:0.92593\n"
     ]
    },
    {
     "name": "stdout",
     "output_type": "stream",
     "text": [
      "[1739]\ttrain-mlogloss:0.10026\teval-mlogloss:0.92793\n"
     ]
    },
    {
     "name": "stdout",
     "output_type": "stream",
     "text": [
      "[0]\ttrain-mlogloss:1.90145\teval-mlogloss:1.90487\n"
     ]
    },
    {
     "name": "stdout",
     "output_type": "stream",
     "text": [
      "[100]\ttrain-mlogloss:0.80338\teval-mlogloss:1.00521\n"
     ]
    },
    {
     "name": "stdout",
     "output_type": "stream",
     "text": [
      "[200]\ttrain-mlogloss:0.63050\teval-mlogloss:0.92955\n"
     ]
    },
    {
     "name": "stdout",
     "output_type": "stream",
     "text": [
      "[300]\ttrain-mlogloss:0.54009\teval-mlogloss:0.90907\n"
     ]
    },
    {
     "name": "stdout",
     "output_type": "stream",
     "text": [
      "[400]\ttrain-mlogloss:0.46356\teval-mlogloss:0.89759\n"
     ]
    },
    {
     "name": "stdout",
     "output_type": "stream",
     "text": [
      "[500]\ttrain-mlogloss:0.39768\teval-mlogloss:0.89092\n"
     ]
    },
    {
     "name": "stdout",
     "output_type": "stream",
     "text": [
      "[600]\ttrain-mlogloss:0.34113\teval-mlogloss:0.88717\n"
     ]
    },
    {
     "name": "stdout",
     "output_type": "stream",
     "text": [
      "[700]\ttrain-mlogloss:0.29757\teval-mlogloss:0.88573\n"
     ]
    },
    {
     "name": "stdout",
     "output_type": "stream",
     "text": [
      "[800]\ttrain-mlogloss:0.26265\teval-mlogloss:0.88609\n"
     ]
    },
    {
     "name": "stdout",
     "output_type": "stream",
     "text": [
      "[900]\ttrain-mlogloss:0.23196\teval-mlogloss:0.88748\n"
     ]
    },
    {
     "name": "stdout",
     "output_type": "stream",
     "text": [
      "[1000]\ttrain-mlogloss:0.20571\teval-mlogloss:0.88946\n"
     ]
    },
    {
     "name": "stdout",
     "output_type": "stream",
     "text": [
      "[1100]\ttrain-mlogloss:0.18464\teval-mlogloss:0.89204\n"
     ]
    },
    {
     "name": "stdout",
     "output_type": "stream",
     "text": [
      "[1200]\ttrain-mlogloss:0.16732\teval-mlogloss:0.89519\n"
     ]
    },
    {
     "name": "stdout",
     "output_type": "stream",
     "text": [
      "[1300]\ttrain-mlogloss:0.15004\teval-mlogloss:0.89851\n"
     ]
    },
    {
     "name": "stdout",
     "output_type": "stream",
     "text": [
      "[1400]\ttrain-mlogloss:0.13727\teval-mlogloss:0.90294\n"
     ]
    },
    {
     "name": "stdout",
     "output_type": "stream",
     "text": [
      "[1500]\ttrain-mlogloss:0.12466\teval-mlogloss:0.90711\n"
     ]
    },
    {
     "name": "stdout",
     "output_type": "stream",
     "text": [
      "[1600]\ttrain-mlogloss:0.11462\teval-mlogloss:0.91176\n"
     ]
    },
    {
     "name": "stdout",
     "output_type": "stream",
     "text": [
      "[1700]\ttrain-mlogloss:0.10490\teval-mlogloss:0.91651\n"
     ]
    },
    {
     "name": "stdout",
     "output_type": "stream",
     "text": [
      "[1736]\ttrain-mlogloss:0.10193\teval-mlogloss:0.91827\n"
     ]
    },
    {
     "name": "stdout",
     "output_type": "stream",
     "text": [
      "[0]\ttrain-mlogloss:1.90130\teval-mlogloss:1.90428\n"
     ]
    },
    {
     "name": "stdout",
     "output_type": "stream",
     "text": [
      "[100]\ttrain-mlogloss:0.80928\teval-mlogloss:1.00513\n"
     ]
    },
    {
     "name": "stdout",
     "output_type": "stream",
     "text": [
      "[200]\ttrain-mlogloss:0.63490\teval-mlogloss:0.92989\n"
     ]
    },
    {
     "name": "stdout",
     "output_type": "stream",
     "text": [
      "[300]\ttrain-mlogloss:0.53660\teval-mlogloss:0.90836\n"
     ]
    },
    {
     "name": "stdout",
     "output_type": "stream",
     "text": [
      "[400]\ttrain-mlogloss:0.45797\teval-mlogloss:0.89697\n"
     ]
    },
    {
     "name": "stdout",
     "output_type": "stream",
     "text": [
      "[500]\ttrain-mlogloss:0.39124\teval-mlogloss:0.89117\n"
     ]
    },
    {
     "name": "stdout",
     "output_type": "stream",
     "text": [
      "[600]\ttrain-mlogloss:0.33814\teval-mlogloss:0.88811\n"
     ]
    },
    {
     "name": "stdout",
     "output_type": "stream",
     "text": [
      "[700]\ttrain-mlogloss:0.29394\teval-mlogloss:0.88716\n"
     ]
    },
    {
     "name": "stdout",
     "output_type": "stream",
     "text": [
      "[800]\ttrain-mlogloss:0.25662\teval-mlogloss:0.88753\n"
     ]
    },
    {
     "name": "stdout",
     "output_type": "stream",
     "text": [
      "[900]\ttrain-mlogloss:0.22664\teval-mlogloss:0.88913\n"
     ]
    },
    {
     "name": "stdout",
     "output_type": "stream",
     "text": [
      "[1000]\ttrain-mlogloss:0.20174\teval-mlogloss:0.89149\n"
     ]
    },
    {
     "name": "stdout",
     "output_type": "stream",
     "text": [
      "[1100]\ttrain-mlogloss:0.17954\teval-mlogloss:0.89424\n"
     ]
    },
    {
     "name": "stdout",
     "output_type": "stream",
     "text": [
      "[1200]\ttrain-mlogloss:0.16155\teval-mlogloss:0.89762\n"
     ]
    },
    {
     "name": "stdout",
     "output_type": "stream",
     "text": [
      "[1300]\ttrain-mlogloss:0.14520\teval-mlogloss:0.90179\n"
     ]
    },
    {
     "name": "stdout",
     "output_type": "stream",
     "text": [
      "[1400]\ttrain-mlogloss:0.13235\teval-mlogloss:0.90593\n"
     ]
    },
    {
     "name": "stdout",
     "output_type": "stream",
     "text": [
      "[1500]\ttrain-mlogloss:0.12007\teval-mlogloss:0.90994\n"
     ]
    },
    {
     "name": "stdout",
     "output_type": "stream",
     "text": [
      "[1600]\ttrain-mlogloss:0.10995\teval-mlogloss:0.91396\n"
     ]
    },
    {
     "name": "stdout",
     "output_type": "stream",
     "text": [
      "[1700]\ttrain-mlogloss:0.10093\teval-mlogloss:0.91857\n"
     ]
    },
    {
     "name": "stdout",
     "output_type": "stream",
     "text": [
      "[1714]\ttrain-mlogloss:0.09995\teval-mlogloss:0.91921\n"
     ]
    },
    {
     "name": "stdout",
     "output_type": "stream",
     "text": [
      "[0]\ttrain-mlogloss:1.90147\teval-mlogloss:1.90407\n"
     ]
    },
    {
     "name": "stdout",
     "output_type": "stream",
     "text": [
      "[50]\ttrain-mlogloss:1.05901\teval-mlogloss:1.15557\n"
     ]
    },
    {
     "name": "stdout",
     "output_type": "stream",
     "text": [
      "[100]\ttrain-mlogloss:0.83056\teval-mlogloss:0.99604\n"
     ]
    },
    {
     "name": "stdout",
     "output_type": "stream",
     "text": [
      "[150]\ttrain-mlogloss:0.72754\teval-mlogloss:0.94130\n"
     ]
    },
    {
     "name": "stdout",
     "output_type": "stream",
     "text": [
      "[200]\ttrain-mlogloss:0.66932\teval-mlogloss:0.91841\n"
     ]
    },
    {
     "name": "stdout",
     "output_type": "stream",
     "text": [
      "[250]\ttrain-mlogloss:0.62416\teval-mlogloss:0.90600\n"
     ]
    },
    {
     "name": "stdout",
     "output_type": "stream",
     "text": [
      "[300]\ttrain-mlogloss:0.58567\teval-mlogloss:0.89765\n"
     ]
    },
    {
     "name": "stdout",
     "output_type": "stream",
     "text": [
      "[350]\ttrain-mlogloss:0.54867\teval-mlogloss:0.89135\n"
     ]
    },
    {
     "name": "stdout",
     "output_type": "stream",
     "text": [
      "[400]\ttrain-mlogloss:0.51565\teval-mlogloss:0.88634\n"
     ]
    },
    {
     "name": "stdout",
     "output_type": "stream",
     "text": [
      "[450]\ttrain-mlogloss:0.48374\teval-mlogloss:0.88223\n"
     ]
    },
    {
     "name": "stdout",
     "output_type": "stream",
     "text": [
      "[500]\ttrain-mlogloss:0.45490\teval-mlogloss:0.87912\n"
     ]
    },
    {
     "name": "stdout",
     "output_type": "stream",
     "text": [
      "[550]\ttrain-mlogloss:0.42738\teval-mlogloss:0.87651\n"
     ]
    },
    {
     "name": "stdout",
     "output_type": "stream",
     "text": [
      "[600]\ttrain-mlogloss:0.39970\teval-mlogloss:0.87453\n"
     ]
    },
    {
     "name": "stdout",
     "output_type": "stream",
     "text": [
      "[650]\ttrain-mlogloss:0.37538\teval-mlogloss:0.87297\n"
     ]
    },
    {
     "name": "stdout",
     "output_type": "stream",
     "text": [
      "[700]\ttrain-mlogloss:0.35278\teval-mlogloss:0.87171\n"
     ]
    },
    {
     "name": "stdout",
     "output_type": "stream",
     "text": [
      "[750]\ttrain-mlogloss:0.32996\teval-mlogloss:0.87085\n"
     ]
    },
    {
     "name": "stdout",
     "output_type": "stream",
     "text": [
      "[800]\ttrain-mlogloss:0.30942\teval-mlogloss:0.87015\n"
     ]
    },
    {
     "name": "stdout",
     "output_type": "stream",
     "text": [
      "[850]\ttrain-mlogloss:0.29268\teval-mlogloss:0.86976\n"
     ]
    },
    {
     "name": "stdout",
     "output_type": "stream",
     "text": [
      "[900]\ttrain-mlogloss:0.27691\teval-mlogloss:0.86982\n"
     ]
    },
    {
     "name": "stdout",
     "output_type": "stream",
     "text": [
      "[911]\ttrain-mlogloss:0.27361\teval-mlogloss:0.86985\n"
     ]
    },
    {
     "name": "stdout",
     "output_type": "stream",
     "text": [
      "\n",
      "Classification Report on Test Set:\n",
      "              precision    recall  f1-score   support\n",
      "\n",
      "           0       0.46      0.36      0.40      6693\n",
      "           1       0.88      0.94      0.91     10452\n",
      "           2       0.68      0.57      0.62      5993\n",
      "           3       0.91      0.96      0.94      8711\n",
      "           4       0.55      0.51      0.53      6473\n",
      "           5       0.49      0.37      0.42      6262\n",
      "           6       0.59      0.73      0.66     13908\n",
      "\n",
      "    accuracy                           0.68     58492\n",
      "   macro avg       0.65      0.64      0.64     58492\n",
      "weighted avg       0.67      0.68      0.67     58492\n",
      "\n"
     ]
    },
    {
     "data": {
      "image/png": "[encoded data removed]",
      "text/plain": [
       "<Figure size 640x480 with 1 Axes>"
      ]
     },
     "metadata": {},
     "output_type": "display_data"
    },
    {
     "data": {
      "image/png": "[encoded data removed]",
      "text/plain": [
       "<Figure size 640x480 with 2 Axes>"
      ]
     },
     "metadata": {},
     "output_type": "display_data"
    },
    {
     "name": "stdout",
     "output_type": "stream",
     "text": [
      "{'average_accuracy': 0.6767592149353758, 'average_f1_macro': np.float64(0.6309124452185965), 'average_f1_micro': np.float64(0.6767592149353758), 'average_auc': np.float64(0.8984711808512685), 'average_acc_kelas_generatif': 0.9590137613691637, 'average_acc_fase_padi': 0.7811880831847877}\n",
      "{'val_accuracy': 0.6814778089311359, 'val_f1_macro': np.float64(0.6397135684824099), 'val_f1_micro': np.float64(0.6814778089311359), 'val_auc': np.float64(0.9031952662580585), 'val_acc_kelas_generatif': 0.960280105613592, 'val_acc_fase_padi': 0.789560213727908, 'val_relative_acc': np.float64(97.37354396042764)}\n",
      "=============================================================================\n",
      "=============================================================================\n",
      "CLUSTER:  7\n"
     ]
    },
    {
     "name": "stderr",
     "output_type": "stream",
     "text": [
      "[I 2024-10-24 11:25:25,369] A new study created in memory with name: no-name-4e516131-5416-42ce-b082-2ef2edaede0e\n"
     ]
    },
    {
     "name": "stdout",
     "output_type": "stream",
     "text": [
      "[6 2 1 5 3 4 0]\n",
      "[0 1 2 3 4 5 6]\n",
      "Mapping of original to encoded classes: {np.int64(0): np.int64(0), np.int64(1): np.int64(1), np.int64(2): np.int64(2), np.int64(3): np.int64(3), np.int64(4): np.int64(4), np.int64(5): np.int64(5), np.int64(6): np.int64(6)}\n",
      "Build Best Parameter using Optuna-Hyperparameter Tuning\n"
     ]
    },
    {
     "name": "stderr",
     "output_type": "stream",
     "text": [
      "[I 2024-10-24 11:25:49,549] Trial 0 finished with value: 0.7399651093320107 and parameters: {'max_depth': 7, 'learning_rate': 0.08170815465270335, 'reg_lambda': 4.408640348671802, 'min_child_weight': 60}. Best is trial 0 with value: 0.7399651093320107.\n"
     ]
    },
    {
     "name": "stderr",
     "output_type": "stream",
     "text": [
      "[I 2024-10-24 11:26:59,193] Trial 1 finished with value: 0.7368077116461788 and parameters: {'max_depth': 7, 'learning_rate': 0.01231314703520255, 'reg_lambda': 1.8670407075601596, 'min_child_weight': 83}. Best is trial 0 with value: 0.7399651093320107.\n"
     ]
    },
    {
     "name": "stderr",
     "output_type": "stream",
     "text": [
      "[I 2024-10-24 11:27:31,510] Trial 2 finished with value: 0.741232100367434 and parameters: {'max_depth': 8, 'learning_rate': 0.060324517833861196, 'reg_lambda': 0.9722279354400408, 'min_child_weight': 83}. Best is trial 2 with value: 0.741232100367434.\n"
     ]
    },
    {
     "name": "stderr",
     "output_type": "stream",
     "text": [
      "[I 2024-10-24 11:28:40,949] Trial 3 finished with value: 0.7408908404704251 and parameters: {'max_depth': 7, 'learning_rate': 0.020721909969220687, 'reg_lambda': 1.6962042729245312, 'min_child_weight': 74}. Best is trial 2 with value: 0.741232100367434.\n"
     ]
    },
    {
     "name": "stderr",
     "output_type": "stream",
     "text": [
      "[I 2024-10-24 11:29:27,889] Trial 4 finished with value: 0.7399869171225012 and parameters: {'max_depth': 9, 'learning_rate': 0.03825471565782581, 'reg_lambda': 2.3569938540049913, 'min_child_weight': 84}. Best is trial 2 with value: 0.741232100367434.\n"
     ]
    },
    {
     "name": "stderr",
     "output_type": "stream",
     "text": [
      "[I 2024-10-24 11:29:53,579] Trial 5 finished with value: 0.7398528621693213 and parameters: {'max_depth': 8, 'learning_rate': 0.0818519056202938, 'reg_lambda': 4.095966995977946, 'min_child_weight': 95}. Best is trial 2 with value: 0.741232100367434.\n"
     ]
    },
    {
     "name": "stderr",
     "output_type": "stream",
     "text": [
      "[I 2024-10-24 11:30:27,987] Trial 6 finished with value: 0.7402665896881774 and parameters: {'max_depth': 10, 'learning_rate': 0.058387483264110585, 'reg_lambda': 4.230931566978853, 'min_child_weight': 64}. Best is trial 2 with value: 0.741232100367434.\n"
     ]
    },
    {
     "name": "stderr",
     "output_type": "stream",
     "text": [
      "[I 2024-10-24 11:30:52,105] Trial 7 finished with value: 0.7391944551895971 and parameters: {'max_depth': 7, 'learning_rate': 0.09045637973431188, 'reg_lambda': 0.8773260109780238, 'min_child_weight': 91}. Best is trial 2 with value: 0.741232100367434.\n"
     ]
    },
    {
     "name": "stderr",
     "output_type": "stream",
     "text": [
      "[I 2024-10-24 11:32:23,785] Trial 8 finished with value: 0.7390921945557346 and parameters: {'max_depth': 10, 'learning_rate': 0.018032246366307784, 'reg_lambda': 1.6487794848793278, 'min_child_weight': 53}. Best is trial 2 with value: 0.741232100367434.\n"
     ]
    },
    {
     "name": "stderr",
     "output_type": "stream",
     "text": [
      "[I 2024-10-24 11:32:56,827] Trial 9 finished with value: 0.7394642761525784 and parameters: {'max_depth': 6, 'learning_rate': 0.061855415795797175, 'reg_lambda': 2.7510715240074886, 'min_child_weight': 65}. Best is trial 2 with value: 0.741232100367434.\n"
     ]
    },
    {
     "name": "stderr",
     "output_type": "stream",
     "text": [
      "[I 2024-10-24 11:33:41,802] Trial 10 finished with value: 0.7392136692643184 and parameters: {'max_depth': 9, 'learning_rate': 0.0415134712413822, 'reg_lambda': 0.27770890071456356, 'min_child_weight': 76}. Best is trial 2 with value: 0.741232100367434.\n"
     ]
    },
    {
     "name": "stderr",
     "output_type": "stream",
     "text": [
      "[I 2024-10-24 11:34:33,884] Trial 11 finished with value: 0.7396771315980447 and parameters: {'max_depth': 8, 'learning_rate': 0.03541954187805079, 'reg_lambda': 1.1430384288494326, 'min_child_weight': 75}. Best is trial 2 with value: 0.741232100367434.\n"
     ]
    },
    {
     "name": "stderr",
     "output_type": "stream",
     "text": [
      "[I 2024-10-24 11:35:06,018] Trial 12 finished with value: 0.7424238801987827 and parameters: {'max_depth': 6, 'learning_rate': 0.06915041572797007, 'reg_lambda': 3.0303014185349597, 'min_child_weight': 83}. Best is trial 12 with value: 0.7424238801987827.\n"
     ]
    },
    {
     "name": "stderr",
     "output_type": "stream",
     "text": [
      "[I 2024-10-24 11:35:37,305] Trial 13 finished with value: 0.7389729107407502 and parameters: {'max_depth': 6, 'learning_rate': 0.07001051769386137, 'reg_lambda': 3.320558942419498, 'min_child_weight': 100}. Best is trial 12 with value: 0.7424238801987827.\n"
     ]
    },
    {
     "name": "stderr",
     "output_type": "stream",
     "text": [
      "[I 2024-10-24 11:36:09,289] Trial 14 finished with value: 0.7418035642366224 and parameters: {'max_depth': 6, 'learning_rate': 0.07055177766539308, 'reg_lambda': 3.360080870979256, 'min_child_weight': 85}. Best is trial 12 with value: 0.7424238801987827.\n"
     ]
    },
    {
     "name": "stderr",
     "output_type": "stream",
     "text": [
      "[I 2024-10-24 11:36:38,428] Trial 15 finished with value: 0.7393765854203157 and parameters: {'max_depth': 6, 'learning_rate': 0.0734317968921536, 'reg_lambda': 3.4516315002562132, 'min_child_weight': 90}. Best is trial 12 with value: 0.7424238801987827.\n"
     ]
    },
    {
     "name": "stderr",
     "output_type": "stream",
     "text": [
      "[I 2024-10-24 11:37:02,875] Trial 16 finished with value: 0.741152417030654 and parameters: {'max_depth': 6, 'learning_rate': 0.09522192799500817, 'reg_lambda': 3.4338016885923666, 'min_child_weight': 87}. Best is trial 12 with value: 0.7424238801987827.\n"
     ]
    },
    {
     "name": "stderr",
     "output_type": "stream",
     "text": [
      "[I 2024-10-24 11:37:45,304] Trial 17 finished with value: 0.7415488754125987 and parameters: {'max_depth': 6, 'learning_rate': 0.04793916496831141, 'reg_lambda': 4.919183434106977, 'min_child_weight': 79}. Best is trial 12 with value: 0.7424238801987827.\n"
     ]
    },
    {
     "name": "stderr",
     "output_type": "stream",
     "text": [
      "[I 2024-10-24 11:38:11,655] Trial 18 finished with value: 0.7406310745120829 and parameters: {'max_depth': 7, 'learning_rate': 0.07167550838612918, 'reg_lambda': 2.877418907476055, 'min_child_weight': 70}. Best is trial 12 with value: 0.7424238801987827.\n"
     ]
    },
    {
     "name": "stderr",
     "output_type": "stream",
     "text": [
      "[I 2024-10-24 11:38:53,418] Trial 19 finished with value: 0.7400582430122089 and parameters: {'max_depth': 6, 'learning_rate': 0.051182546689382546, 'reg_lambda': 2.249378788907934, 'min_child_weight': 97}. Best is trial 12 with value: 0.7424238801987827.\n"
     ]
    },
    {
     "name": "stdout",
     "output_type": "stream",
     "text": [
      "Best Parameters: {'max_depth': 6, 'learning_rate': 0.06915041572797007, 'reg_lambda': 3.0303014185349597, 'min_child_weight': 83}\n",
      "Best Score: 0.7424238801987827\n",
      "Start the modelling\n",
      "[0]\ttrain-mlogloss:1.82855\teval-mlogloss:1.82349\n"
     ]
    },
    {
     "name": "stdout",
     "output_type": "stream",
     "text": [
      "[100]\ttrain-mlogloss:0.49770\teval-mlogloss:0.58806\n"
     ]
    },
    {
     "name": "stdout",
     "output_type": "stream",
     "text": [
      "[200]\ttrain-mlogloss:0.36614\teval-mlogloss:0.54721\n"
     ]
    },
    {
     "name": "stdout",
     "output_type": "stream",
     "text": [
      "[300]\ttrain-mlogloss:0.27570\teval-mlogloss:0.53111\n"
     ]
    },
    {
     "name": "stdout",
     "output_type": "stream",
     "text": [
      "[400]\ttrain-mlogloss:0.21636\teval-mlogloss:0.52487\n"
     ]
    },
    {
     "name": "stdout",
     "output_type": "stream",
     "text": [
      "[500]\ttrain-mlogloss:0.17188\teval-mlogloss:0.52269\n"
     ]
    },
    {
     "name": "stdout",
     "output_type": "stream",
     "text": [
      "[600]\ttrain-mlogloss:0.13749\teval-mlogloss:0.52356\n"
     ]
    },
    {
     "name": "stdout",
     "output_type": "stream",
     "text": [
      "[700]\ttrain-mlogloss:0.11268\teval-mlogloss:0.52609\n"
     ]
    },
    {
     "name": "stdout",
     "output_type": "stream",
     "text": [
      "[800]\ttrain-mlogloss:0.09359\teval-mlogloss:0.52983\n"
     ]
    },
    {
     "name": "stdout",
     "output_type": "stream",
     "text": [
      "[900]\ttrain-mlogloss:0.07856\teval-mlogloss:0.53468\n"
     ]
    },
    {
     "name": "stdout",
     "output_type": "stream",
     "text": [
      "[1000]\ttrain-mlogloss:0.06753\teval-mlogloss:0.53978\n"
     ]
    },
    {
     "name": "stdout",
     "output_type": "stream",
     "text": [
      "[1100]\ttrain-mlogloss:0.05835\teval-mlogloss:0.54478\n"
     ]
    },
    {
     "name": "stdout",
     "output_type": "stream",
     "text": [
      "[1200]\ttrain-mlogloss:0.05101\teval-mlogloss:0.55020\n"
     ]
    },
    {
     "name": "stdout",
     "output_type": "stream",
     "text": [
      "[1300]\ttrain-mlogloss:0.04532\teval-mlogloss:0.55491\n"
     ]
    },
    {
     "name": "stdout",
     "output_type": "stream",
     "text": [
      "[1400]\ttrain-mlogloss:0.04063\teval-mlogloss:0.55940\n"
     ]
    },
    {
     "name": "stdout",
     "output_type": "stream",
     "text": [
      "[1500]\ttrain-mlogloss:0.03625\teval-mlogloss:0.56451\n"
     ]
    },
    {
     "name": "stdout",
     "output_type": "stream",
     "text": [
      "[1525]\ttrain-mlogloss:0.03515\teval-mlogloss:0.56602\n"
     ]
    },
    {
     "name": "stdout",
     "output_type": "stream",
     "text": [
      "[0]\ttrain-mlogloss:1.82828\teval-mlogloss:1.82316\n"
     ]
    },
    {
     "name": "stdout",
     "output_type": "stream",
     "text": [
      "[100]\ttrain-mlogloss:0.49742\teval-mlogloss:0.58999\n"
     ]
    },
    {
     "name": "stdout",
     "output_type": "stream",
     "text": [
      "[200]\ttrain-mlogloss:0.36898\teval-mlogloss:0.55022\n"
     ]
    },
    {
     "name": "stdout",
     "output_type": "stream",
     "text": [
      "[300]\ttrain-mlogloss:0.28170\teval-mlogloss:0.53587\n"
     ]
    },
    {
     "name": "stdout",
     "output_type": "stream",
     "text": [
      "[400]\ttrain-mlogloss:0.22035\teval-mlogloss:0.53023\n"
     ]
    },
    {
     "name": "stdout",
     "output_type": "stream",
     "text": [
      "[500]\ttrain-mlogloss:0.17630\teval-mlogloss:0.52931\n"
     ]
    },
    {
     "name": "stdout",
     "output_type": "stream",
     "text": [
      "[600]\ttrain-mlogloss:0.14239\teval-mlogloss:0.53099\n"
     ]
    },
    {
     "name": "stdout",
     "output_type": "stream",
     "text": [
      "[700]\ttrain-mlogloss:0.11670\teval-mlogloss:0.53451\n"
     ]
    },
    {
     "name": "stdout",
     "output_type": "stream",
     "text": [
      "[800]\ttrain-mlogloss:0.09746\teval-mlogloss:0.53875\n"
     ]
    },
    {
     "name": "stdout",
     "output_type": "stream",
     "text": [
      "[900]\ttrain-mlogloss:0.08160\teval-mlogloss:0.54358\n"
     ]
    },
    {
     "name": "stdout",
     "output_type": "stream",
     "text": [
      "[1000]\ttrain-mlogloss:0.06992\teval-mlogloss:0.54889\n"
     ]
    },
    {
     "name": "stdout",
     "output_type": "stream",
     "text": [
      "[1100]\ttrain-mlogloss:0.05989\teval-mlogloss:0.55547\n"
     ]
    },
    {
     "name": "stdout",
     "output_type": "stream",
     "text": [
      "[1200]\ttrain-mlogloss:0.05240\teval-mlogloss:0.56125\n"
     ]
    },
    {
     "name": "stdout",
     "output_type": "stream",
     "text": [
      "[1300]\ttrain-mlogloss:0.04651\teval-mlogloss:0.56717\n"
     ]
    },
    {
     "name": "stdout",
     "output_type": "stream",
     "text": [
      "[1400]\ttrain-mlogloss:0.04139\teval-mlogloss:0.57293\n"
     ]
    },
    {
     "name": "stdout",
     "output_type": "stream",
     "text": [
      "[1500]\ttrain-mlogloss:0.03736\teval-mlogloss:0.57826\n"
     ]
    },
    {
     "name": "stdout",
     "output_type": "stream",
     "text": [
      "[1532]\ttrain-mlogloss:0.03619\teval-mlogloss:0.57973\n"
     ]
    },
    {
     "name": "stdout",
     "output_type": "stream",
     "text": [
      "[0]\ttrain-mlogloss:1.82939\teval-mlogloss:1.82233\n"
     ]
    },
    {
     "name": "stdout",
     "output_type": "stream",
     "text": [
      "[100]\ttrain-mlogloss:0.50701\teval-mlogloss:0.58874\n"
     ]
    },
    {
     "name": "stdout",
     "output_type": "stream",
     "text": [
      "[200]\ttrain-mlogloss:0.37576\teval-mlogloss:0.54774\n"
     ]
    },
    {
     "name": "stdout",
     "output_type": "stream",
     "text": [
      "[300]\ttrain-mlogloss:0.28526\teval-mlogloss:0.53315\n"
     ]
    },
    {
     "name": "stdout",
     "output_type": "stream",
     "text": [
      "[400]\ttrain-mlogloss:0.22180\teval-mlogloss:0.52726\n"
     ]
    },
    {
     "name": "stdout",
     "output_type": "stream",
     "text": [
      "[500]\ttrain-mlogloss:0.17423\teval-mlogloss:0.52552\n"
     ]
    },
    {
     "name": "stdout",
     "output_type": "stream",
     "text": [
      "[600]\ttrain-mlogloss:0.13896\teval-mlogloss:0.52755\n"
     ]
    },
    {
     "name": "stdout",
     "output_type": "stream",
     "text": [
      "[700]\ttrain-mlogloss:0.11348\teval-mlogloss:0.53152\n"
     ]
    },
    {
     "name": "stdout",
     "output_type": "stream",
     "text": [
      "[800]\ttrain-mlogloss:0.09386\teval-mlogloss:0.53524\n"
     ]
    },
    {
     "name": "stdout",
     "output_type": "stream",
     "text": [
      "[900]\ttrain-mlogloss:0.07945\teval-mlogloss:0.54063\n"
     ]
    },
    {
     "name": "stdout",
     "output_type": "stream",
     "text": [
      "[1000]\ttrain-mlogloss:0.06787\teval-mlogloss:0.54570\n"
     ]
    },
    {
     "name": "stdout",
     "output_type": "stream",
     "text": [
      "[1100]\ttrain-mlogloss:0.05914\teval-mlogloss:0.55174\n"
     ]
    },
    {
     "name": "stdout",
     "output_type": "stream",
     "text": [
      "[1200]\ttrain-mlogloss:0.05182\teval-mlogloss:0.55775\n"
     ]
    },
    {
     "name": "stdout",
     "output_type": "stream",
     "text": [
      "[1300]\ttrain-mlogloss:0.04550\teval-mlogloss:0.56351\n"
     ]
    },
    {
     "name": "stdout",
     "output_type": "stream",
     "text": [
      "[1400]\ttrain-mlogloss:0.04069\teval-mlogloss:0.56911\n"
     ]
    },
    {
     "name": "stdout",
     "output_type": "stream",
     "text": [
      "[1464]\ttrain-mlogloss:0.03807\teval-mlogloss:0.57239\n"
     ]
    },
    {
     "name": "stdout",
     "output_type": "stream",
     "text": [
      "[0]\ttrain-mlogloss:1.82910\teval-mlogloss:1.82231\n"
     ]
    },
    {
     "name": "stdout",
     "output_type": "stream",
     "text": [
      "[50]\ttrain-mlogloss:0.67031\teval-mlogloss:0.67034\n"
     ]
    },
    {
     "name": "stdout",
     "output_type": "stream",
     "text": [
      "[100]\ttrain-mlogloss:0.53202\teval-mlogloss:0.57905\n"
     ]
    },
    {
     "name": "stdout",
     "output_type": "stream",
     "text": [
      "[150]\ttrain-mlogloss:0.46405\teval-mlogloss:0.55166\n"
     ]
    },
    {
     "name": "stdout",
     "output_type": "stream",
     "text": [
      "[200]\ttrain-mlogloss:0.41146\teval-mlogloss:0.53678\n"
     ]
    },
    {
     "name": "stdout",
     "output_type": "stream",
     "text": [
      "[250]\ttrain-mlogloss:0.36723\teval-mlogloss:0.52672\n"
     ]
    },
    {
     "name": "stdout",
     "output_type": "stream",
     "text": [
      "[300]\ttrain-mlogloss:0.32640\teval-mlogloss:0.51954\n"
     ]
    },
    {
     "name": "stdout",
     "output_type": "stream",
     "text": [
      "[350]\ttrain-mlogloss:0.29365\teval-mlogloss:0.51464\n"
     ]
    },
    {
     "name": "stdout",
     "output_type": "stream",
     "text": [
      "[400]\ttrain-mlogloss:0.26581\teval-mlogloss:0.51128\n"
     ]
    },
    {
     "name": "stdout",
     "output_type": "stream",
     "text": [
      "[450]\ttrain-mlogloss:0.23979\teval-mlogloss:0.50835\n"
     ]
    },
    {
     "name": "stdout",
     "output_type": "stream",
     "text": [
      "[500]\ttrain-mlogloss:0.21742\teval-mlogloss:0.50642\n"
     ]
    },
    {
     "name": "stdout",
     "output_type": "stream",
     "text": [
      "[550]\ttrain-mlogloss:0.19753\teval-mlogloss:0.50539\n"
     ]
    },
    {
     "name": "stdout",
     "output_type": "stream",
     "text": [
      "[600]\ttrain-mlogloss:0.18155\teval-mlogloss:0.50538\n"
     ]
    },
    {
     "name": "stdout",
     "output_type": "stream",
     "text": [
      "[626]\ttrain-mlogloss:0.17315\teval-mlogloss:0.50540\n"
     ]
    },
    {
     "name": "stdout",
     "output_type": "stream",
     "text": [
      "\n",
      "Classification Report on Test Set:\n",
      "              precision    recall  f1-score   support\n",
      "\n",
      "           0       0.47      0.35      0.40      6669\n",
      "           1       0.89      0.93      0.91     12775\n",
      "           2       0.92      0.95      0.94     12894\n",
      "           3       0.94      0.95      0.94     12981\n",
      "           4       0.88      0.95      0.91     11359\n",
      "           5       0.47      0.34      0.39      6658\n",
      "           6       0.72      0.81      0.76     13891\n",
      "\n",
      "    accuracy                           0.81     77227\n",
      "   macro avg       0.76      0.75      0.75     77227\n",
      "weighted avg       0.80      0.81      0.80     77227\n",
      "\n"
     ]
    },
    {
     "data": {
      "image/png": "[encoded data removed]",
      "text/plain": [
       "<Figure size 640x480 with 1 Axes>"
      ]
     },
     "metadata": {},
     "output_type": "display_data"
    },
    {
     "data": {
      "image/png": "[encoded data removed]",
      "text/plain": [
       "<Figure size 640x480 with 2 Axes>"
      ]
     },
     "metadata": {},
     "output_type": "display_data"
    },
    {
     "name": "stdout",
     "output_type": "stream",
     "text": [
      "{'average_accuracy': 0.8107985714993372, 'average_f1_macro': np.float64(0.7390735034780517), 'average_f1_micro': np.float64(0.8107985714993372), 'average_auc': np.float64(0.9486513949318346), 'average_acc_kelas_generatif': 0.9484107114991893, 'average_acc_fase_padi': 0.9430291342029787}\n",
      "{'val_accuracy': 0.8148833957035752, 'val_f1_macro': np.float64(0.7499586833490197), 'val_f1_micro': np.float64(0.8148833957035752), 'val_auc': np.float64(0.9520778072438251), 'val_acc_kelas_generatif': 0.9497727447808335, 'val_acc_fase_padi': 0.9436301465736168, 'val_relative_acc': np.float64(98.94168914712596)}\n",
      "=============================================================================\n",
      "=============================================================================\n",
      "CLUSTER:  8\n"
     ]
    },
    {
     "name": "stderr",
     "output_type": "stream",
     "text": [
      "[I 2024-10-24 11:40:38,305] A new study created in memory with name: no-name-a9f9ecdc-d0a9-467f-b934-9ea2264c1397\n"
     ]
    },
    {
     "name": "stdout",
     "output_type": "stream",
     "text": [
      "[2 1 6 3 5 4 0]\n",
      "[0 1 2 3 4 5 6]\n",
      "Mapping of original to encoded classes: {np.int64(0): np.int64(0), np.int64(1): np.int64(1), np.int64(2): np.int64(2), np.int64(3): np.int64(3), np.int64(4): np.int64(4), np.int64(5): np.int64(5), np.int64(6): np.int64(6)}\n",
      "Build Best Parameter using Optuna-Hyperparameter Tuning\n"
     ]
    },
    {
     "name": "stderr",
     "output_type": "stream",
     "text": [
      "[I 2024-10-24 11:41:02,546] Trial 0 finished with value: 0.8274313512871135 and parameters: {'max_depth': 7, 'learning_rate': 0.07208075480186223, 'reg_lambda': 1.0229740287225524, 'min_child_weight': 99}. Best is trial 0 with value: 0.8274313512871135.\n"
     ]
    },
    {
     "name": "stderr",
     "output_type": "stream",
     "text": [
      "[I 2024-10-24 11:41:55,621] Trial 1 finished with value: 0.824668188804452 and parameters: {'max_depth': 6, 'learning_rate': 0.019629119084489163, 'reg_lambda': 4.668441050847456, 'min_child_weight': 70}. Best is trial 0 with value: 0.8274313512871135.\n"
     ]
    },
    {
     "name": "stderr",
     "output_type": "stream",
     "text": [
      "[I 2024-10-24 11:42:25,490] Trial 2 finished with value: 0.829494818977604 and parameters: {'max_depth': 9, 'learning_rate': 0.056578537914736944, 'reg_lambda': 4.3346282092337045, 'min_child_weight': 76}. Best is trial 2 with value: 0.829494818977604.\n"
     ]
    },
    {
     "name": "stderr",
     "output_type": "stream",
     "text": [
      "[I 2024-10-24 11:43:17,865] Trial 3 finished with value: 0.8278373287475399 and parameters: {'max_depth': 8, 'learning_rate': 0.028518209605588887, 'reg_lambda': 2.1861940124710046, 'min_child_weight': 64}. Best is trial 2 with value: 0.829494818977604.\n"
     ]
    },
    {
     "name": "stderr",
     "output_type": "stream",
     "text": [
      "[I 2024-10-24 11:43:53,354] Trial 4 finished with value: 0.8289231859855101 and parameters: {'max_depth': 8, 'learning_rate': 0.048219711533465985, 'reg_lambda': 2.2414508180882833, 'min_child_weight': 97}. Best is trial 2 with value: 0.829494818977604.\n"
     ]
    },
    {
     "name": "stderr",
     "output_type": "stream",
     "text": [
      "[I 2024-10-24 11:44:54,754] Trial 5 finished with value: 0.8265901622943502 and parameters: {'max_depth': 7, 'learning_rate': 0.02486450081380738, 'reg_lambda': 4.598405021748216, 'min_child_weight': 64}. Best is trial 2 with value: 0.829494818977604.\n"
     ]
    },
    {
     "name": "stderr",
     "output_type": "stream",
     "text": [
      "[I 2024-10-24 11:45:21,342] Trial 6 finished with value: 0.8290010804453786 and parameters: {'max_depth': 10, 'learning_rate': 0.0614066236169351, 'reg_lambda': 1.697633795637429, 'min_child_weight': 60}. Best is trial 2 with value: 0.829494818977604.\n"
     ]
    },
    {
     "name": "stderr",
     "output_type": "stream",
     "text": [
      "[I 2024-10-24 11:45:39,874] Trial 7 finished with value: 0.8290799373395726 and parameters: {'max_depth': 10, 'learning_rate': 0.09238180398456786, 'reg_lambda': 2.415771219460753, 'min_child_weight': 54}. Best is trial 2 with value: 0.829494818977604.\n"
     ]
    },
    {
     "name": "stderr",
     "output_type": "stream",
     "text": [
      "[I 2024-10-24 11:46:13,748] Trial 8 finished with value: 0.8290270564284864 and parameters: {'max_depth': 8, 'learning_rate': 0.047667253600668626, 'reg_lambda': 3.4308373153924983, 'min_child_weight': 83}. Best is trial 2 with value: 0.829494818977604.\n"
     ]
    },
    {
     "name": "stderr",
     "output_type": "stream",
     "text": [
      "[I 2024-10-24 11:47:13,704] Trial 9 finished with value: 0.8289402870772052 and parameters: {'max_depth': 10, 'learning_rate': 0.025717186947306042, 'reg_lambda': 0.9540386563947868, 'min_child_weight': 98}. Best is trial 2 with value: 0.829494818977604.\n"
     ]
    },
    {
     "name": "stderr",
     "output_type": "stream",
     "text": [
      "[I 2024-10-24 11:47:34,206] Trial 10 finished with value: 0.8280569028478552 and parameters: {'max_depth': 9, 'learning_rate': 0.0851190511058006, 'reg_lambda': 3.5307154395111446, 'min_child_weight': 82}. Best is trial 2 with value: 0.829494818977604.\n"
     ]
    },
    {
     "name": "stderr",
     "output_type": "stream",
     "text": [
      "[I 2024-10-24 11:47:51,837] Trial 11 finished with value: 0.8278179355290151 and parameters: {'max_depth': 9, 'learning_rate': 0.09250732948310667, 'reg_lambda': 3.289473381356893, 'min_child_weight': 54}. Best is trial 2 with value: 0.829494818977604.\n"
     ]
    },
    {
     "name": "stderr",
     "output_type": "stream",
     "text": [
      "[I 2024-10-24 11:48:14,025] Trial 12 finished with value: 0.8301385869665489 and parameters: {'max_depth': 9, 'learning_rate': 0.07663411540859506, 'reg_lambda': 2.866509670947933, 'min_child_weight': 77}. Best is trial 12 with value: 0.8301385869665489.\n"
     ]
    },
    {
     "name": "stderr",
     "output_type": "stream",
     "text": [
      "[I 2024-10-24 11:48:36,985] Trial 13 finished with value: 0.8283757012280581 and parameters: {'max_depth': 9, 'learning_rate': 0.07160435205376378, 'reg_lambda': 4.000710445970529, 'min_child_weight': 78}. Best is trial 12 with value: 0.8301385869665489.\n"
     ]
    },
    {
     "name": "stderr",
     "output_type": "stream",
     "text": [
      "[I 2024-10-24 11:49:03,355] Trial 14 finished with value: 0.8289039986527055 and parameters: {'max_depth': 9, 'learning_rate': 0.05931890241464502, 'reg_lambda': 0.1619050356787355, 'min_child_weight': 90}. Best is trial 12 with value: 0.8301385869665489.\n"
     ]
    },
    {
     "name": "stderr",
     "output_type": "stream",
     "text": [
      "[I 2024-10-24 11:49:25,091] Trial 15 finished with value: 0.8281408370447502 and parameters: {'max_depth': 9, 'learning_rate': 0.07278017203280682, 'reg_lambda': 3.025358616658705, 'min_child_weight': 71}. Best is trial 12 with value: 0.8301385869665489.\n"
     ]
    },
    {
     "name": "stderr",
     "output_type": "stream",
     "text": [
      "[I 2024-10-24 11:50:05,534] Trial 16 finished with value: 0.8291954405836993 and parameters: {'max_depth': 7, 'learning_rate': 0.04010420197184087, 'reg_lambda': 4.1441502905407965, 'min_child_weight': 87}. Best is trial 12 with value: 0.8301385869665489.\n"
     ]
    },
    {
     "name": "stderr",
     "output_type": "stream",
     "text": [
      "[I 2024-10-24 11:50:27,141] Trial 17 finished with value: 0.8293759484157951 and parameters: {'max_depth': 8, 'learning_rate': 0.07744069687916058, 'reg_lambda': 4.931961402297691, 'min_child_weight': 76}. Best is trial 12 with value: 0.8301385869665489.\n"
     ]
    },
    {
     "name": "stderr",
     "output_type": "stream",
     "text": [
      "[I 2024-10-24 11:50:52,004] Trial 18 finished with value: 0.8297752747320214 and parameters: {'max_depth': 10, 'learning_rate': 0.06463188714941477, 'reg_lambda': 2.8855348375544057, 'min_child_weight': 70}. Best is trial 12 with value: 0.8301385869665489.\n"
     ]
    },
    {
     "name": "stderr",
     "output_type": "stream",
     "text": [
      "[I 2024-10-24 11:51:09,745] Trial 19 finished with value: 0.8283945894122923 and parameters: {'max_depth': 10, 'learning_rate': 0.09866998486345138, 'reg_lambda': 2.9283948792979704, 'min_child_weight': 69}. Best is trial 12 with value: 0.8301385869665489.\n"
     ]
    },
    {
     "name": "stdout",
     "output_type": "stream",
     "text": [
      "Best Parameters: {'max_depth': 9, 'learning_rate': 0.07663411540859506, 'reg_lambda': 2.866509670947933, 'min_child_weight': 77}\n",
      "Best Score: 0.8301385869665489\n",
      "Start the modelling\n",
      "[0]\ttrain-mlogloss:1.78109\teval-mlogloss:1.79519\n"
     ]
    },
    {
     "name": "stdout",
     "output_type": "stream",
     "text": [
      "[100]\ttrain-mlogloss:0.21018\teval-mlogloss:0.47522\n"
     ]
    },
    {
     "name": "stdout",
     "output_type": "stream",
     "text": [
      "[200]\ttrain-mlogloss:0.11742\teval-mlogloss:0.45146\n"
     ]
    },
    {
     "name": "stdout",
     "output_type": "stream",
     "text": [
      "[300]\ttrain-mlogloss:0.07478\teval-mlogloss:0.45113\n"
     ]
    },
    {
     "name": "stdout",
     "output_type": "stream",
     "text": [
      "[400]\ttrain-mlogloss:0.05315\teval-mlogloss:0.45673\n"
     ]
    },
    {
     "name": "stdout",
     "output_type": "stream",
     "text": [
      "[500]\ttrain-mlogloss:0.04052\teval-mlogloss:0.46367\n"
     ]
    },
    {
     "name": "stdout",
     "output_type": "stream",
     "text": [
      "[600]\ttrain-mlogloss:0.03252\teval-mlogloss:0.47166\n"
     ]
    },
    {
     "name": "stdout",
     "output_type": "stream",
     "text": [
      "[700]\ttrain-mlogloss:0.02690\teval-mlogloss:0.47992\n"
     ]
    },
    {
     "name": "stdout",
     "output_type": "stream",
     "text": [
      "[800]\ttrain-mlogloss:0.02309\teval-mlogloss:0.48576\n"
     ]
    },
    {
     "name": "stdout",
     "output_type": "stream",
     "text": [
      "[900]\ttrain-mlogloss:0.02024\teval-mlogloss:0.49184\n"
     ]
    },
    {
     "name": "stdout",
     "output_type": "stream",
     "text": [
      "[1000]\ttrain-mlogloss:0.01804\teval-mlogloss:0.49739\n"
     ]
    },
    {
     "name": "stdout",
     "output_type": "stream",
     "text": [
      "[1100]\ttrain-mlogloss:0.01635\teval-mlogloss:0.50230\n"
     ]
    },
    {
     "name": "stdout",
     "output_type": "stream",
     "text": [
      "[1200]\ttrain-mlogloss:0.01496\teval-mlogloss:0.50718\n"
     ]
    },
    {
     "name": "stdout",
     "output_type": "stream",
     "text": [
      "[1266]\ttrain-mlogloss:0.01422\teval-mlogloss:0.51025\n"
     ]
    },
    {
     "name": "stdout",
     "output_type": "stream",
     "text": [
      "[0]\ttrain-mlogloss:1.78069\teval-mlogloss:1.79478\n"
     ]
    },
    {
     "name": "stdout",
     "output_type": "stream",
     "text": [
      "[100]\ttrain-mlogloss:0.20673\teval-mlogloss:0.48145\n"
     ]
    },
    {
     "name": "stdout",
     "output_type": "stream",
     "text": [
      "[200]\ttrain-mlogloss:0.11209\teval-mlogloss:0.45764\n"
     ]
    },
    {
     "name": "stdout",
     "output_type": "stream",
     "text": [
      "[300]\ttrain-mlogloss:0.07416\teval-mlogloss:0.45906\n"
     ]
    },
    {
     "name": "stdout",
     "output_type": "stream",
     "text": [
      "[400]\ttrain-mlogloss:0.05255\teval-mlogloss:0.46482\n"
     ]
    },
    {
     "name": "stdout",
     "output_type": "stream",
     "text": [
      "[500]\ttrain-mlogloss:0.04012\teval-mlogloss:0.47269\n"
     ]
    },
    {
     "name": "stdout",
     "output_type": "stream",
     "text": [
      "[600]\ttrain-mlogloss:0.03237\teval-mlogloss:0.48042\n"
     ]
    },
    {
     "name": "stdout",
     "output_type": "stream",
     "text": [
      "[700]\ttrain-mlogloss:0.02689\teval-mlogloss:0.48768\n"
     ]
    },
    {
     "name": "stdout",
     "output_type": "stream",
     "text": [
      "[800]\ttrain-mlogloss:0.02303\teval-mlogloss:0.49466\n"
     ]
    },
    {
     "name": "stdout",
     "output_type": "stream",
     "text": [
      "[900]\ttrain-mlogloss:0.02017\teval-mlogloss:0.50075\n"
     ]
    },
    {
     "name": "stdout",
     "output_type": "stream",
     "text": [
      "[1000]\ttrain-mlogloss:0.01796\teval-mlogloss:0.50654\n"
     ]
    },
    {
     "name": "stdout",
     "output_type": "stream",
     "text": [
      "[1100]\ttrain-mlogloss:0.01614\teval-mlogloss:0.51242\n"
     ]
    },
    {
     "name": "stdout",
     "output_type": "stream",
     "text": [
      "[1200]\ttrain-mlogloss:0.01476\teval-mlogloss:0.51738\n"
     ]
    },
    {
     "name": "stdout",
     "output_type": "stream",
     "text": [
      "[1220]\ttrain-mlogloss:0.01449\teval-mlogloss:0.51814\n"
     ]
    },
    {
     "name": "stdout",
     "output_type": "stream",
     "text": [
      "[0]\ttrain-mlogloss:1.78141\teval-mlogloss:1.79472\n"
     ]
    },
    {
     "name": "stdout",
     "output_type": "stream",
     "text": [
      "[100]\ttrain-mlogloss:0.21117\teval-mlogloss:0.47318\n"
     ]
    },
    {
     "name": "stdout",
     "output_type": "stream",
     "text": [
      "[200]\ttrain-mlogloss:0.11549\teval-mlogloss:0.44504\n"
     ]
    },
    {
     "name": "stdout",
     "output_type": "stream",
     "text": [
      "[300]\ttrain-mlogloss:0.07308\teval-mlogloss:0.44148\n"
     ]
    },
    {
     "name": "stdout",
     "output_type": "stream",
     "text": [
      "[400]\ttrain-mlogloss:0.05225\teval-mlogloss:0.44609\n"
     ]
    },
    {
     "name": "stdout",
     "output_type": "stream",
     "text": [
      "[500]\ttrain-mlogloss:0.04002\teval-mlogloss:0.45256\n"
     ]
    },
    {
     "name": "stdout",
     "output_type": "stream",
     "text": [
      "[600]\ttrain-mlogloss:0.03224\teval-mlogloss:0.45907\n"
     ]
    },
    {
     "name": "stdout",
     "output_type": "stream",
     "text": [
      "[700]\ttrain-mlogloss:0.02690\teval-mlogloss:0.46567\n"
     ]
    },
    {
     "name": "stdout",
     "output_type": "stream",
     "text": [
      "[800]\ttrain-mlogloss:0.02296\teval-mlogloss:0.47257\n"
     ]
    },
    {
     "name": "stdout",
     "output_type": "stream",
     "text": [
      "[900]\ttrain-mlogloss:0.02020\teval-mlogloss:0.47826\n"
     ]
    },
    {
     "name": "stdout",
     "output_type": "stream",
     "text": [
      "[1000]\ttrain-mlogloss:0.01800\teval-mlogloss:0.48403\n"
     ]
    },
    {
     "name": "stdout",
     "output_type": "stream",
     "text": [
      "[1100]\ttrain-mlogloss:0.01629\teval-mlogloss:0.48907\n"
     ]
    },
    {
     "name": "stdout",
     "output_type": "stream",
     "text": [
      "[1200]\ttrain-mlogloss:0.01488\teval-mlogloss:0.49359\n"
     ]
    },
    {
     "name": "stdout",
     "output_type": "stream",
     "text": [
      "[1292]\ttrain-mlogloss:0.01384\teval-mlogloss:0.49794\n"
     ]
    },
    {
     "name": "stdout",
     "output_type": "stream",
     "text": [
      "[0]\ttrain-mlogloss:1.77799\teval-mlogloss:1.79098\n"
     ]
    },
    {
     "name": "stdout",
     "output_type": "stream",
     "text": [
      "[50]\ttrain-mlogloss:0.34927\teval-mlogloss:0.53485\n"
     ]
    },
    {
     "name": "stdout",
     "output_type": "stream",
     "text": [
      "[100]\ttrain-mlogloss:0.22334\teval-mlogloss:0.45830\n"
     ]
    },
    {
     "name": "stdout",
     "output_type": "stream",
     "text": [
      "[150]\ttrain-mlogloss:0.16808\teval-mlogloss:0.43776\n"
     ]
    },
    {
     "name": "stdout",
     "output_type": "stream",
     "text": [
      "[200]\ttrain-mlogloss:0.13348\teval-mlogloss:0.42896\n"
     ]
    },
    {
     "name": "stdout",
     "output_type": "stream",
     "text": [
      "[250]\ttrain-mlogloss:0.10790\teval-mlogloss:0.42507\n"
     ]
    },
    {
     "name": "stdout",
     "output_type": "stream",
     "text": [
      "[300]\ttrain-mlogloss:0.08838\teval-mlogloss:0.42381\n"
     ]
    },
    {
     "name": "stdout",
     "output_type": "stream",
     "text": [
      "[350]\ttrain-mlogloss:0.07305\teval-mlogloss:0.42375\n"
     ]
    },
    {
     "name": "stdout",
     "output_type": "stream",
     "text": [
      "[383]\ttrain-mlogloss:0.06618\teval-mlogloss:0.42453\n"
     ]
    },
    {
     "name": "stdout",
     "output_type": "stream",
     "text": [
      "\n",
      "Classification Report on Test Set:\n",
      "              precision    recall  f1-score   support\n",
      "\n",
      "           0       0.89      0.91      0.90     12626\n",
      "           1       0.92      0.96      0.94      6858\n",
      "           2       0.76      0.74      0.75      6525\n",
      "           3       0.94      0.96      0.95      6842\n",
      "           4       0.95      0.98      0.96      8856\n",
      "           5       0.66      0.58      0.62      6642\n",
      "           6       0.78      0.77      0.77     13879\n",
      "\n",
      "    accuracy                           0.85     62228\n",
      "   macro avg       0.84      0.84      0.84     62228\n",
      "weighted avg       0.84      0.85      0.84     62228\n",
      "\n"
     ]
    },
    {
     "data": {
      "image/png": "[encoded data removed]",
      "text/plain": [
       "<Figure size 640x480 with 1 Axes>"
      ]
     },
     "metadata": {},
     "output_type": "display_data"
    },
    {
     "data": {
      "image/png": "[encoded data removed]",
      "text/plain": [
       "<Figure size 640x480 with 2 Axes>"
      ]
     },
     "metadata": {},
     "output_type": "display_data"
    },
    {
     "name": "stdout",
     "output_type": "stream",
     "text": [
      "{'average_accuracy': 0.8377830344612255, 'average_f1_macro': np.float64(0.8298048488833322), 'average_f1_micro': np.float64(0.8377830344612255), 'average_auc': np.float64(0.9722331340332265), 'average_acc_kelas_generatif': 0.9539556353736485, 'average_acc_fase_padi': 0.9013079086536187}\n",
      "{'val_accuracy': 0.8462428488783185, 'val_f1_macro': np.float64(0.8407690838154144), 'val_f1_micro': np.float64(0.8462428488783185), 'val_auc': np.float64(0.9753095440178713), 'val_acc_kelas_generatif': 0.9577608886290558, 'val_acc_fase_padi': 0.9144802448333964, 'val_relative_acc': np.float64(98.43068607579387)}\n",
      "=============================================================================\n"
     ]
    }
   ],
   "source": [
    "from sklearn.preprocessing import StandardScaler, LabelEncoder\n",
    "df['observation']=df['observation'].apply(lambda y: int(y))\n",
    "dict_report={}\n",
    "for i in np.sort(df.cluster_data.unique()):\n",
    "    print('=============================================================================')\n",
    "    print('CLUSTER: ', i)\n",
    "    df_x = df.query('cluster_data==@i')\n",
    "    sns.countplot(x='observation', hue='cluster_data', data=df_x,palette=sns.color_palette(\"Set2\"))\n",
    "    plt.savefig(f\"/data/ksa/05_Modelling/picture/{kdprov}_distplot_cluster_{i}.png\", dpi=300, bbox_inches='tight')\n",
    "    X_train, X_test, y_train, y_test = get_train_test(df_x, 0.7)\n",
    "    # Encode the labels\n",
    "    label_encoder = LabelEncoder()\n",
    "    y_train_encoded = label_encoder.fit_transform(y_train)\n",
    "    y_test_encoded = label_encoder.transform(y_test)\n",
    "    \n",
    "    # Output the unique encoded labels and the mapping\n",
    "    print(np.unique(y_train_encoded))\n",
    "    class_mapping = dict(zip(label_encoder.classes_, label_encoder.transform(label_encoder.classes_)))\n",
    "    print(\"Mapping of original to encoded classes:\", class_mapping)\n",
    "    \n",
    "    # Create an Optuna study and optimize the objective function\n",
    "    print('Build Best Parameter using Optuna-Hyperparameter Tuning')\n",
    "    study = optuna.create_study(direction='maximize')  # 'maximize' because we are optimizing accuracy\n",
    "    study.optimize(lambda trial: objective(trial, X_train, y_train_encoded), n_trials=20)  # Run for 50 trials\n",
    "    # Print the best parameters and the best score\n",
    "    print(f\"Best Parameters: {study.best_params}\")\n",
    "    print(f\"Best Score: {study.best_value}\")\n",
    "\n",
    "    print('Start the modelling')\n",
    "    model0, training_metrics0, validation_metrics0, report0, cm0 = evaluate_model(\n",
    "        X_train, y_train_encoded, X_test, y_test_encoded,cluster=i,best_params=study.best_params)\n",
    "    \n",
    "    dict_report[i]={'model':model0,\n",
    "                    'training_metrics':training_metrics0,\n",
    "                    'validation_metrics':validation_metrics0,\n",
    "                    'reports':report0,\n",
    "                    'cm':cm0,\n",
    "                    'params':study.best_params}\n",
    "    # Print the training and validation metrics\n",
    "    print(training_metrics0)\n",
    "    print(validation_metrics0)\n",
    "    print('=============================================================================')\n",
    "\n",
    "\n"
   ]
  },
  {
   "cell_type": "code",
   "execution_count": 11,
   "id": "26743d1e-45c9-4c26-81de-46e9f11f1698",
   "metadata": {
    "execution": {
     "iopub.execute_input": "2024-10-24T04:52:34.837131Z",
     "iopub.status.busy": "2024-10-24T04:52:34.835602Z",
     "iopub.status.idle": "2024-10-24T04:52:35.804177Z",
     "shell.execute_reply": "2024-10-24T04:52:35.803211Z"
    },
    "papermill": {
     "duration": 1.026087,
     "end_time": "2024-10-24T04:52:35.808594",
     "exception": false,
     "start_time": "2024-10-24T04:52:34.782507",
     "status": "completed"
    },
    "tags": []
   },
   "outputs": [],
   "source": [
    "with open(f'/data/ksa/05_Modelling/model/xgboost{kdprov}_v2.pkl','wb') as file:\n",
    "    pickle.dump(dict_report,file)"
   ]
  },
  {
   "cell_type": "code",
   "execution_count": null,
   "id": "76b68ced-340e-48b6-a01f-a22c31637ad8",
   "metadata": {
    "papermill": {
     "duration": 0.051748,
     "end_time": "2024-10-24T04:52:35.919268",
     "exception": false,
     "start_time": "2024-10-24T04:52:35.867520",
     "status": "completed"
    },
    "tags": []
   },
   "outputs": [],
   "source": []
  }
 ],
 "metadata": {
  "kernelspec": {
   "display_name": "Python 3 (ipykernel)",
   "language": "python",
   "name": "python3"
  },
  "language_info": {
   "codemirror_mode": {
    "name": "ipython",
    "version": 3
   },
   "file_extension": ".py",
   "mimetype": "text/x-python",
   "name": "python",
   "nbconvert_exporter": "python",
   "pygments_lexer": "ipython3",
   "version": "3.10.14"
  },
  "papermill": {
   "default_parameters": {},
   "duration": 8313.945268,
   "end_time": "2024-10-24T04:52:37.021727",
   "environment_variables": {},
   "exception": null,
   "input_path": "XGBOOST Base model.ipynb",
   "output_path": "XGBOOST_35.ipynb",
   "parameters": {
    "kdprov": 35
   },
   "start_time": "2024-10-24T02:34:03.076459",
   "version": "2.6.0"
  }
 },
 "nbformat": 4,
 "nbformat_minor": 5
}