{
 "cells": [
  {
   "cell_type": "code",
   "execution_count": 13,
   "id": "bcdfec45-14ae-4b81-8291-6b6cfd7b86be",
   "metadata": {},
   "outputs": [],
   "source": [
    "import pandas as pd\n",
    "import numpy as np\n",
    "import traceback\n",
    "\n",
    "from esa_snappy import ProductIO\n",
    "from esa_snappy import GeoPos\n",
    "from esa_snappy import PixelPos\n",
    "\n",
    "from glob import glob\n",
    "from tqdm import tqdm\n",
    "import os\n",
    "import pickle\n",
    "\n",
    "import matplotlib.pyplot as plt\n",
    "import seaborn as sns\n",
    "\n",
    "# Suppress specific warning messages\n",
    "import warnings\n",
    "warnings.filterwarnings(\"ignore\", category=UserWarning, module=\"org.esa.snap.core.dataio.dimap.DimapProductReader\")\n"
   ]
  },
  {
   "cell_type": "code",
   "execution_count": 18,
   "id": "f5febbd3-102f-4a1f-b21e-128fdbb9941a",
   "metadata": {},
   "outputs": [],
   "source": [
    "\n",
    "def check_image(mgrs):\n",
    "    processed_mosaic = os.listdir(\"/data/ksa/01_Image_Acquisition/02_Processed_mosaic/\")\n",
    "    if(mgrs in processed_mosaic):\n",
    "        return True\n",
    "    else: \n",
    "        return False\n",
    "\n",
    "def get_gc(path_to_sentinel_data):\n",
    "    # path_to_sentinel_data = \"/data/ksa/01_Image_Acquisition/02_Processed_mosaic/48MXU/20230501_20230512.dim\"\n",
    "    product_subset = ProductIO.readProduct(path_to_sentinel_data)\n",
    "    gc = product_subset.getSceneGeoCoding()\n",
    "    bands_names = list(product_subset.getBandNames())\n",
    "    return product_subset,gc,bands_names\n",
    "\n",
    "def get_values(gc, bands_names, lat, long):\n",
    "    pixel_pos = gc.getPixelPos(GeoPos(lat, long), None)\n",
    "    data = list()\n",
    "    for i, band_name in enumerate(bands_names):\n",
    "        temp_band = product_subset.getBand(band_name)\n",
    "        width, height = temp_band.getRasterWidth(), temp_band.getRasterHeight()\n",
    "        try:\n",
    "            tmp = np.zeros(1)\n",
    "            temp_band.readPixels(int(pixel_pos.x), int(pixel_pos.y), 1, 1, tmp)\n",
    "            data.append(tmp[0])\n",
    "            data_values = [float(val) for val in data]\n",
    "        except Exception as e:\n",
    "            print(band_name)\n",
    "            print(width, height)\n",
    "            print(int(pixel_pos.x), int(pixel_pos.y))\n",
    "            print(e)\n",
    "            traceback.print_exc()\n",
    "    return data_values\n",
    "\n",
    "# data_values\n",
    "def get_value(gc, lat, long):    \n",
    "    \n",
    "    data = list()\n",
    "    pixel_pos = gc.getPixelPos(GeoPos(lat, lon), None)\n",
    "    data.append(lat).append(lon).append(int(pixel_pos.x)).append(int(pixel_pos.y))\n",
    "\n",
    "    for i, band_name in enumerate(bands_names):\n",
    "        temp_band = product_subset.getBand(band_name)\n",
    "        width, height = temp_band.getRasterWidth(), temp_band.getRasterHeight()\n",
    "        try:\n",
    "            tmp = np.zeros(1)\n",
    "            temp_band.readPixels(int(pixel_pos.x), int(pixel_pos.y), 1, 1, tmp)\n",
    "            data.append(tmp[0])\n",
    "        except Exception as e:\n",
    "            print(band_name)\n",
    "            print(width, height)\n",
    "            print(int(pixel_pos.x), int(pixel_pos.y))\n",
    "            print(e)\n",
    "            traceback.print_exc()\n",
    "    return data\n"
   ]
  },
  {
   "cell_type": "code",
   "execution_count": 19,
   "id": "2835e4da-936a-4d92-9ed7-99c929657fd3",
   "metadata": {},
   "outputs": [],
   "source": [
    "## 32 35 16 63 \n",
    "## 12 73 \n",
    "## 18 53 94 97  \n",
    "\n",
    "## edit with province\n",
    "idprov = \"12\""
   ]
  },
  {
   "cell_type": "code",
   "execution_count": 20,
   "id": "c22a1d6e-7f7e-4b86-a784-9bc892a4a6a9",
   "metadata": {},
   "outputs": [
    {
     "data": {
      "text/html": [
       "<div>\n",
       "<style scoped>\n",
       "    .dataframe tbody tr th:only-of-type {\n",
       "        vertical-align: middle;\n",
       "    }\n",
       "\n",
       "    .dataframe tbody tr th {\n",
       "        vertical-align: top;\n",
       "    }\n",
       "\n",
       "    .dataframe thead th {\n",
       "        text-align: right;\n",
       "    }\n",
       "</style>\n",
       "<table border=\"1\" class=\"dataframe\">\n",
       "  <thead>\n",
       "    <tr style=\"text-align: right;\">\n",
       "      <th></th>\n",
       "      <th>iterx</th>\n",
       "      <th>itery</th>\n",
       "      <th>lat</th>\n",
       "      <th>long</th>\n",
       "      <th>index</th>\n",
       "      <th>idsegmen</th>\n",
       "      <th>strati</th>\n",
       "      <th>idsubsegmen</th>\n",
       "      <th>EASTING</th>\n",
       "      <th>NORTHING</th>\n",
       "      <th>100kmSQ_ID</th>\n",
       "      <th>GZD</th>\n",
       "      <th>MGRS</th>\n",
       "      <th>idprov</th>\n",
       "      <th>idkab</th>\n",
       "      <th>idpoint</th>\n",
       "    </tr>\n",
       "  </thead>\n",
       "  <tbody>\n",
       "    <tr>\n",
       "      <th>204525</th>\n",
       "      <td>1</td>\n",
       "      <td>1</td>\n",
       "      <td>1.016546</td>\n",
       "      <td>97.787213</td>\n",
       "      <td>01</td>\n",
       "      <td>120106006</td>\n",
       "      <td>S2</td>\n",
       "      <td>A1</td>\n",
       "      <td>300000mE</td>\n",
       "      <td>100000mN</td>\n",
       "      <td>LB</td>\n",
       "      <td>47N</td>\n",
       "      <td>47NLB</td>\n",
       "      <td>12</td>\n",
       "      <td>1201</td>\n",
       "      <td>120106006A1#01</td>\n",
       "    </tr>\n",
       "    <tr>\n",
       "      <th>204526</th>\n",
       "      <td>1</td>\n",
       "      <td>2</td>\n",
       "      <td>1.016366</td>\n",
       "      <td>97.787213</td>\n",
       "      <td>02</td>\n",
       "      <td>120106006</td>\n",
       "      <td>S2</td>\n",
       "      <td>A1</td>\n",
       "      <td>300000mE</td>\n",
       "      <td>100000mN</td>\n",
       "      <td>LB</td>\n",
       "      <td>47N</td>\n",
       "      <td>47NLB</td>\n",
       "      <td>12</td>\n",
       "      <td>1201</td>\n",
       "      <td>120106006A1#02</td>\n",
       "    </tr>\n",
       "    <tr>\n",
       "      <th>204527</th>\n",
       "      <td>1</td>\n",
       "      <td>3</td>\n",
       "      <td>1.016186</td>\n",
       "      <td>97.787213</td>\n",
       "      <td>03</td>\n",
       "      <td>120106006</td>\n",
       "      <td>S2</td>\n",
       "      <td>A1</td>\n",
       "      <td>300000mE</td>\n",
       "      <td>100000mN</td>\n",
       "      <td>LB</td>\n",
       "      <td>47N</td>\n",
       "      <td>47NLB</td>\n",
       "      <td>12</td>\n",
       "      <td>1201</td>\n",
       "      <td>120106006A1#03</td>\n",
       "    </tr>\n",
       "    <tr>\n",
       "      <th>204528</th>\n",
       "      <td>1</td>\n",
       "      <td>4</td>\n",
       "      <td>1.016007</td>\n",
       "      <td>97.787213</td>\n",
       "      <td>04</td>\n",
       "      <td>120106006</td>\n",
       "      <td>S2</td>\n",
       "      <td>A1</td>\n",
       "      <td>300000mE</td>\n",
       "      <td>100000mN</td>\n",
       "      <td>LB</td>\n",
       "      <td>47N</td>\n",
       "      <td>47NLB</td>\n",
       "      <td>12</td>\n",
       "      <td>1201</td>\n",
       "      <td>120106006A1#04</td>\n",
       "    </tr>\n",
       "    <tr>\n",
       "      <th>204529</th>\n",
       "      <td>1</td>\n",
       "      <td>5</td>\n",
       "      <td>1.015827</td>\n",
       "      <td>97.787213</td>\n",
       "      <td>05</td>\n",
       "      <td>120106006</td>\n",
       "      <td>S2</td>\n",
       "      <td>A1</td>\n",
       "      <td>300000mE</td>\n",
       "      <td>100000mN</td>\n",
       "      <td>LB</td>\n",
       "      <td>47N</td>\n",
       "      <td>47NLB</td>\n",
       "      <td>12</td>\n",
       "      <td>1201</td>\n",
       "      <td>120106006A1#05</td>\n",
       "    </tr>\n",
       "  </tbody>\n",
       "</table>\n",
       "</div>"
      ],
      "text/plain": [
       "        iterx  itery       lat       long index   idsegmen strati idsubsegmen  \\\n",
       "204525      1      1  1.016546  97.787213    01  120106006     S2          A1   \n",
       "204526      1      2  1.016366  97.787213    02  120106006     S2          A1   \n",
       "204527      1      3  1.016186  97.787213    03  120106006     S2          A1   \n",
       "204528      1      4  1.016007  97.787213    04  120106006     S2          A1   \n",
       "204529      1      5  1.015827  97.787213    05  120106006     S2          A1   \n",
       "\n",
       "         EASTING  NORTHING 100kmSQ_ID  GZD   MGRS idprov idkab         idpoint  \n",
       "204525  300000mE  100000mN         LB  47N  47NLB     12  1201  120106006A1#01  \n",
       "204526  300000mE  100000mN         LB  47N  47NLB     12  1201  120106006A1#02  \n",
       "204527  300000mE  100000mN         LB  47N  47NLB     12  1201  120106006A1#03  \n",
       "204528  300000mE  100000mN         LB  47N  47NLB     12  1201  120106006A1#04  \n",
       "204529  300000mE  100000mN         LB  47N  47NLB     12  1201  120106006A1#05  "
      ]
     },
     "execution_count": 20,
     "metadata": {},
     "output_type": "execute_result"
    }
   ],
   "source": [
    "df_ksa = pd.read_csv(\"/data/raw/processed/cloned_points.csv\")\n",
    "# df_ksa.iloc[:1000].to_csv(\"cek.csv\")\n",
    "\n",
    "# df_ksa = pd.read_csv(\"/data/raw/processed/generated_points_unstable.csv\")\n",
    "df_ksa['idprov'] = df_ksa.idsegmen.astype('str').str[:2]\n",
    "df_ksa['idkab'] = df_ksa.idsegmen.astype('str').str[:4]\n",
    "\n",
    "df_ksa['index'] = [x.zfill(2) for x in df_ksa['index'].astype(\"str\")]\n",
    "df_ksa['idpoint'] = df_ksa.idsegmen.astype('str') + df_ksa.idsubsegmen.astype('str') + '#' + df_ksa['index']\n",
    "\n",
    "df_ksa = df_ksa.query('idprov == \"{0}\"'.format(idprov))\n",
    "\n",
    "df_ksa.head()"
   ]
  },
  {
   "cell_type": "code",
   "execution_count": 21,
   "id": "0d9c9ba4-dbc6-47fb-b79f-0ae9b7557614",
   "metadata": {},
   "outputs": [
    {
     "data": {
      "text/plain": [
       "['47NLB',\n",
       " '47NNA',\n",
       " '47NPA',\n",
       " '47NNB',\n",
       " '47NMB',\n",
       " '47NNC',\n",
       " '47NMC',\n",
       " '47NPC',\n",
       " '47NND',\n",
       " '47NMD',\n",
       " '47NLD',\n",
       " '47NME',\n",
       " '47NLE',\n",
       " '47NLA',\n",
       " '47NNE',\n",
       " '47NPB',\n",
       " '47NPD']"
      ]
     },
     "execution_count": 21,
     "metadata": {},
     "output_type": "execute_result"
    }
   ],
   "source": [
    "## list all MGRS\n",
    "mgrs_all_ = list(df_ksa.MGRS.unique())\n",
    "\n",
    "## Cek MGRS not done\n",
    "mgrs_done_ = os.listdir('/data/ksa/03_Sampling/data/'+idprov+'/') \n",
    "mgrs_done_ = [x[-9:-4] for x in mgrs_done_]\n",
    "\n",
    "mgrs_not_done_ = [x for x in mgrs_all_ if x not in mgrs_done_]\n",
    "mgrs_not_done_"
   ]
  },
  {
   "cell_type": "code",
   "execution_count": null,
   "id": "d7421b74-d669-4c55-991d-2213b1bb2e4c",
   "metadata": {
    "scrolled": true
   },
   "outputs": [
    {
     "name": "stdout",
     "output_type": "stream",
     "text": [
      "47NLB available\n"
     ]
    },
    {
     "name": "stderr",
     "output_type": "stream",
     "text": [
      "100%|██████████| 60/60 [31:46<00:00, 31.78s/it]\n"
     ]
    },
    {
     "name": "stdout",
     "output_type": "stream",
     "text": [
      "done sampling for : 47NLB\n",
      "47NNA available\n"
     ]
    },
    {
     "name": "stderr",
     "output_type": "stream",
     "text": [
      "100%|██████████| 60/60 [25:01<00:00, 25.03s/it]\n"
     ]
    },
    {
     "name": "stdout",
     "output_type": "stream",
     "text": [
      "done sampling for : 47NNA\n",
      "47NPA available\n"
     ]
    },
    {
     "name": "stderr",
     "output_type": "stream",
     "text": [
      "100%|██████████| 60/60 [02:04<00:00,  2.08s/it]\n"
     ]
    },
    {
     "name": "stdout",
     "output_type": "stream",
     "text": [
      "done sampling for : 47NPA\n",
      "47NNB available\n"
     ]
    },
    {
     "name": "stderr",
     "output_type": "stream",
     "text": [
      "  0%|          | 0/60 [00:00<?, ?it/s]Traceback (most recent call last):\n",
      "  File \"/tmp/ipykernel_170955/23781209.py\", line 23, in get_values\n",
      "    temp_band.readPixels(int(pixel_pos.x), int(pixel_pos.y), 1, 1, tmp)\n",
      "RuntimeError: java.io.IOException: DimapProductReader: Unable to read file '/data/ksa/01_Image_Acquisition/02_Processed_mosaic/47NNB/20220606_20220617.data/Sigma0_VH_db.img' referenced by 'Sigma0_VH_db'.\n",
      "Traceback (most recent call last):\n",
      "  File \"/tmp/ipykernel_170955/23781209.py\", line 23, in get_values\n",
      "    temp_band.readPixels(int(pixel_pos.x), int(pixel_pos.y), 1, 1, tmp)\n",
      "RuntimeError: java.io.IOException: DimapProductReader: Unable to read file '/data/ksa/01_Image_Acquisition/02_Processed_mosaic/47NNB/20220606_20220617.data/Sigma0_VH_db_count.img' referenced by 'Sigma0_VH_db_count'.\n",
      "  0%|          | 0/60 [00:01<?, ?it/s]\n"
     ]
    },
    {
     "name": "stdout",
     "output_type": "stream",
     "text": [
      "Sigma0_VH_db\n",
      "5004 5037\n",
      "2929 5037\n",
      "java.io.IOException: DimapProductReader: Unable to read file '/data/ksa/01_Image_Acquisition/02_Processed_mosaic/47NNB/20220606_20220617.data/Sigma0_VH_db.img' referenced by 'Sigma0_VH_db'.\n",
      "Sigma0_VH_db_count\n",
      "5004 5037\n",
      "2929 5037\n",
      "java.io.IOException: DimapProductReader: Unable to read file '/data/ksa/01_Image_Acquisition/02_Processed_mosaic/47NNB/20220606_20220617.data/Sigma0_VH_db_count.img' referenced by 'Sigma0_VH_db_count'.\n",
      "Error on : 47NNB\n",
      "47NMB available\n"
     ]
    },
    {
     "name": "stderr",
     "output_type": "stream",
     "text": [
      "100%|██████████| 60/60 [11:21<00:00, 11.35s/it]\n"
     ]
    },
    {
     "name": "stdout",
     "output_type": "stream",
     "text": [
      "done sampling for : 47NMB\n",
      "47NNC available\n"
     ]
    },
    {
     "name": "stderr",
     "output_type": "stream",
     "text": [
      "100%|██████████| 60/60 [1:04:29<00:00, 64.49s/it]\n"
     ]
    },
    {
     "name": "stdout",
     "output_type": "stream",
     "text": [
      "done sampling for : 47NNC\n",
      "47NMC available\n"
     ]
    },
    {
     "name": "stderr",
     "output_type": "stream",
     "text": [
      " 10%|█         | 6/60 [19:58<3:01:49, 202.04s/it]"
     ]
    }
   ],
   "source": [
    "for mgrs in mgrs_not_done_:\n",
    "    df_result = pd.DataFrame()\n",
    "    if(check_image(mgrs)):\n",
    "        try:\n",
    "            print(mgrs + \" available\")\n",
    "            path_to_mgrs = \"/data/ksa/01_Image_Acquisition/02_Processed_mosaic/\"+mgrs+\"/\"\n",
    "            all_sentinel_data = glob(path_to_mgrs+\"*.dim\")\n",
    "            df_ksa_mgrs = df_ksa.loc[df_ksa.MGRS == mgrs]\n",
    "            for sent in tqdm(all_sentinel_data):\n",
    "                path_to_sentinel_data = sent\n",
    "                periode = path_to_sentinel_data[-21:-4]\n",
    "                product_subset,gc,bands_names = get_gc(path_to_sentinel_data)\n",
    "                bands_names = [col for col in bands_names if 'VH' in col]\n",
    "                df_ksa_mgrs_tmp = df_ksa_mgrs.copy()\n",
    "                df_ksa_mgrs_tmp = df_ksa_mgrs_tmp.reset_index(drop=True)\n",
    "                df_ksa_mgrs_tmp.loc[:, bands_names] = 0.0\n",
    "                df_ksa_mgrs_tmp.loc[:, 'periode'] =periode  \n",
    "                # print(bands_names)\n",
    "                for i,r in df_ksa_mgrs_tmp.iterrows():\n",
    "                    val = get_values(gc, bands_names, r['lat'], r['long'])\n",
    "                    df_ksa_mgrs_tmp.loc[i,bands_names] = val\n",
    "                    # break\n",
    "                # break\n",
    "                df_result = pd.concat([df_result,df_ksa_mgrs_tmp])\n",
    "    \n",
    "            df_result = df_result[['idpoint','MGRS','Sigma0_VH_db','periode']]\n",
    "            with open('/data/ksa/03_Sampling/data/'+idprov+'/sampling_'+mgrs+'.pkl', 'wb') as f:\n",
    "                pickle.dump(df_result, f)\n",
    "            \n",
    "            print(\"done sampling for : \"+ mgrs)\n",
    "            # break\n",
    "        except: \n",
    "            print(\"Error on : \"+ mgrs)\n",
    "    else:\n",
    "        print(mgrs + \" not available\")\n",
    "        continue\n",
    "    # break"
   ]
  },
  {
   "cell_type": "code",
   "execution_count": null,
   "id": "9df8c6c8-a499-4b28-baff-7cfc266a2580",
   "metadata": {},
   "outputs": [],
   "source": [
    "## Cek error mgrs\n",
    "mgrs_done_ = os.listdir('/data/ksa/03_Sampling/data/'+idprov+'/') \n",
    "mgrs_done_ = [x[-9:-4] for x in mgrs_done_]\n",
    "\n",
    "mgrs_not_done_ = [x for x in mgrs_all_ if x not in mgrs_done_]\n",
    "mgrs_not_done_"
   ]
  },
  {
   "cell_type": "markdown",
   "id": "3d70785c-f551-45d7-98cd-b3958c942f29",
   "metadata": {
    "jp-MarkdownHeadingCollapsed": true
   },
   "source": [
    "### Cek "
   ]
  },
  {
   "cell_type": "code",
   "execution_count": null,
   "id": "a44e485d-6975-4966-ba5a-34deeadb1fe8",
   "metadata": {},
   "outputs": [],
   "source": [
    "## Cek VH Value Overtime on One Point\n",
    "\n",
    "filtered_df = df_.query('idpoint == \"321201001A1#02\"').sort_values('periode')\n",
    "\n",
    "plt.figure(figsize=(10, 6))\n",
    "plt.plot(filtered_df['periode'], filtered_df['Sigma0_VH_db'], marker='o')\n",
    "\n",
    "plt.title('Sigma0_VH_db over Time for idpoint \"321201003B2#13\"')\n",
    "plt.xlabel('Periode')\n",
    "plt.ylabel('Sigma0_VH_db')\n",
    "plt.grid(True)\n",
    "plt.xticks(rotation=45)  # Rotate x-axis labels if needed\n",
    "\n",
    "plt.tight_layout()\n",
    "plt.show()"
   ]
  },
  {
   "cell_type": "code",
   "execution_count": null,
   "id": "6bb45499-41dc-4b75-b027-829b58f423a6",
   "metadata": {},
   "outputs": [],
   "source": [
    "## Open one Sampling Data\n",
    "\n",
    "mgrs = '49LDM'\n",
    "with open('/data/ksa/03_Sampling/data/'+idprov+'/sampling_'+mgrs+'.pkl', 'rb') as f:\n",
    "    df_ = pickle.load(f)\n",
    "\n",
    "df_.head()"
   ]
  },
  {
   "cell_type": "code",
   "execution_count": null,
   "id": "9267319c-3c9a-425b-be35-308439b8be73",
   "metadata": {},
   "outputs": [],
   "source": [
    "df_.describe()"
   ]
  }
 ],
 "metadata": {
  "kernelspec": {
   "display_name": "Python 3 (ipykernel)",
   "language": "python",
   "name": "python3"
  },
  "language_info": {
   "codemirror_mode": {
    "name": "ipython",
    "version": 3
   },
   "file_extension": ".py",
   "mimetype": "text/x-python",
   "name": "python",
   "nbconvert_exporter": "python",
   "pygments_lexer": "ipython3",
   "version": "3.10.14"
  }
 },
 "nbformat": 4,
 "nbformat_minor": 5
}
