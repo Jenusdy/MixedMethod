{
 "cells": [
  {
   "cell_type": "code",
   "execution_count": 1,
   "id": "868e4aef-29ab-4394-9222-7eb66c758b83",
   "metadata": {},
   "outputs": [
    {
     "name": "stderr",
     "output_type": "stream",
     "text": [
      "WARNING: org.esa.snap.core.util.ServiceLoader: org.esa.snap.core.gpf.OperatorSpi: Provider eu.esa.opt.meris.sdr.aerosol.AerosolMergerOp$Spi not found\n",
      "WARNING: org.esa.snap.core.util.ServiceLoader: org.esa.snap.core.gpf.OperatorSpi: Provider eu.esa.opt.meris.sdr.aerosol.ModisAerosolOp$Spi not found\n",
      "WARNING: An illegal reflective access operation has occurred\n",
      "WARNING: Illegal reflective access by org.esa.snap.runtime.Engine (file:/opt/esa-snap/snap/modules/ext/org.esa.snap.snap-jp2-reader/org-esa-snap/snap-runtime.jar) to method java.lang.ClassLoader.initializePath(java.lang.String)\n",
      "WARNING: Please consider reporting this to the maintainers of org.esa.snap.runtime.Engine\n",
      "WARNING: Use --illegal-access=warn to enable warnings of further illegal reflective access operations\n",
      "WARNING: All illegal access operations will be denied in a future release\n",
      "INFO: org.esa.snap.core.gpf.operators.tooladapter.ToolAdapterIO: Initializing external tool adapters\n",
      "INFO: org.esa.snap.core.util.EngineVersionCheckActivator: Please check regularly for new updates for the best SNAP experience.\n"
     ]
    }
   ],
   "source": [
    "import pandas as pd\n",
    "import numpy as np\n",
    "import traceback\n",
    "\n",
    "from esa_snappy import ProductIO\n",
    "from esa_snappy import GeoPos\n",
    "from esa_snappy import PixelPos\n",
    "\n",
    "from glob import glob\n",
    "from tqdm import tqdm\n",
    "import os\n",
    "import pickle\n",
    "\n",
    "import matplotlib.pyplot as plt\n",
    "import seaborn as sns\n",
    "\n",
    "import warnings\n",
    "import pandas as pd\n",
    "from tqdm import tqdm\n",
    "\n",
    "# Suppress specific warnings\n",
    "warnings.filterwarnings(\"ignore\", category=FutureWarning, module='pandas', lineno=11)\n",
    "warnings.filterwarnings(\"ignore\", category=pd.errors.SettingWithCopyWarning)\n",
    "warnings.filterwarnings(\"ignore\", category=FutureWarning)\n",
    "warnings.filterwarnings(\"ignore\", category=pd.errors.SettingWithCopyWarning)\n"
   ]
  },
  {
   "cell_type": "code",
   "execution_count": 2,
   "id": "744b40de-0983-40c6-a2a4-37159b2e2481",
   "metadata": {},
   "outputs": [
    {
     "data": {
      "text/plain": [
       "['2021_01', '2021_02', '2021_03', '2021_04', '2021_05']"
      ]
     },
     "execution_count": 2,
     "metadata": {},
     "output_type": "execute_result"
    }
   ],
   "source": [
    "## Get ID and Year \n",
    "years = range(2021, 2024)\n",
    "numbers = range(1, 31)\n",
    "year_id_ = []\n",
    "for year in years:\n",
    "    for number in numbers:\n",
    "        year_id_.append(f\"{year}_{str(number).zfill(2)}\")\n",
    "year_id_[:5]\n"
   ]
  },
  {
   "cell_type": "code",
   "execution_count": 52,
   "id": "7d986784-5d81-4e86-8c39-7bb20c1bd53c",
   "metadata": {},
   "outputs": [
    {
     "name": "stdout",
     "output_type": "stream",
     "text": [
      "['VH_30', 'VH_29', 'VH_28', 'VH_27', 'VH_26', 'VH_25', 'VH_24', 'VH_23', 'VH_22', 'VH_21', 'VH_20', 'VH_19', 'VH_18', 'VH_17', 'VH_16', 'VH_15', 'VH_14', 'VH_13', 'VH_12', 'VH_11', 'VH_10', 'VH_9', 'VH_8', 'VH_7', 'VH_6', 'VH_5', 'VH_4', 'VH_3', 'VH_2', 'VH_1', 'VH_0']\n",
      "['VV_30', 'VV_29', 'VV_28', 'VV_27', 'VV_26', 'VV_25', 'VV_24', 'VV_23', 'VV_22', 'VV_21', 'VV_20', 'VV_19', 'VV_18', 'VV_17', 'VV_16', 'VV_15', 'VV_14', 'VV_13', 'VV_12', 'VV_11', 'VV_10', 'VV_9', 'VV_8', 'VV_7', 'VV_6', 'VV_5', 'VV_4', 'VV_3', 'VV_2', 'VV_1', 'VV_0']\n"
     ]
    }
   ],
   "source": [
    "vh_list = [f\"VH_{i}\" for i in range(30, -1, -1)]\n",
    "print(vh_list)\n",
    "\n",
    "vv_list = [f\"VV_{i}\" for i in range(30, -1, -1)]\n",
    "print(vv_list)"
   ]
  },
  {
   "cell_type": "code",
   "execution_count": 4,
   "id": "166ac5e7-f379-48e3-b77b-248148606c6e",
   "metadata": {},
   "outputs": [
    {
     "data": {
      "text/html": [
       "<div>\n",
       "<style scoped>\n",
       "    .dataframe tbody tr th:only-of-type {\n",
       "        vertical-align: middle;\n",
       "    }\n",
       "\n",
       "    .dataframe tbody tr th {\n",
       "        vertical-align: top;\n",
       "    }\n",
       "\n",
       "    .dataframe thead th {\n",
       "        text-align: right;\n",
       "    }\n",
       "</style>\n",
       "<table border=\"1\" class=\"dataframe\">\n",
       "  <thead>\n",
       "    <tr style=\"text-align: right;\">\n",
       "      <th></th>\n",
       "      <th>idpoint</th>\n",
       "      <th>2021_01</th>\n",
       "      <th>2021_02</th>\n",
       "      <th>2021_03</th>\n",
       "      <th>2021_04</th>\n",
       "      <th>2021_05</th>\n",
       "      <th>2021_06</th>\n",
       "      <th>2021_07</th>\n",
       "      <th>2021_08</th>\n",
       "      <th>2021_09</th>\n",
       "      <th>...</th>\n",
       "      <th>2023_21</th>\n",
       "      <th>2023_22</th>\n",
       "      <th>2023_23</th>\n",
       "      <th>2023_24</th>\n",
       "      <th>2023_25</th>\n",
       "      <th>2023_26</th>\n",
       "      <th>2023_27</th>\n",
       "      <th>2023_28</th>\n",
       "      <th>2023_29</th>\n",
       "      <th>2023_30</th>\n",
       "    </tr>\n",
       "  </thead>\n",
       "  <tbody>\n",
       "  </tbody>\n",
       "</table>\n",
       "<p>0 rows × 91 columns</p>\n",
       "</div>"
      ],
      "text/plain": [
       "Empty DataFrame\n",
       "Columns: [idpoint, 2021_01, 2021_02, 2021_03, 2021_04, 2021_05, 2021_06, 2021_07, 2021_08, 2021_09, 2021_10, 2021_11, 2021_12, 2021_13, 2021_14, 2021_15, 2021_16, 2021_17, 2021_18, 2021_19, 2021_20, 2021_21, 2021_22, 2021_23, 2021_24, 2021_25, 2021_26, 2021_27, 2021_28, 2021_29, 2021_30, 2022_01, 2022_02, 2022_03, 2022_04, 2022_05, 2022_06, 2022_07, 2022_08, 2022_09, 2022_10, 2022_11, 2022_12, 2022_13, 2022_14, 2022_15, 2022_16, 2022_17, 2022_18, 2022_19, 2022_20, 2022_21, 2022_22, 2022_23, 2022_24, 2022_25, 2022_26, 2022_27, 2022_28, 2022_29, 2022_30, 2023_01, 2023_02, 2023_03, 2023_04, 2023_05, 2023_06, 2023_07, 2023_08, 2023_09, 2023_10, 2023_11, 2023_12, 2023_13, 2023_14, 2023_15, 2023_16, 2023_17, 2023_18, 2023_19, 2023_20, 2023_21, 2023_22, 2023_23, 2023_24, 2023_25, 2023_26, 2023_27, 2023_28, 2023_29, 2023_30]\n",
       "Index: []\n",
       "\n",
       "[0 rows x 91 columns]"
      ]
     },
     "execution_count": 4,
     "metadata": {},
     "output_type": "execute_result"
    }
   ],
   "source": [
    "## Prep DF\n",
    "df_all_wide = pd.DataFrame(columns=[\"idpoint\"]+year_id_)\n",
    "df_all_wide"
   ]
  },
  {
   "cell_type": "markdown",
   "id": "d2ff4d4a-025e-4f09-ac9b-c7c4daa8d795",
   "metadata": {},
   "source": [
    "### Data Frame Bridging"
   ]
  },
  {
   "cell_type": "code",
   "execution_count": 5,
   "id": "5039c17b-0b01-456c-80b6-9d07299a91d1",
   "metadata": {},
   "outputs": [
    {
     "data": {
      "text/html": [
       "<div>\n",
       "<style scoped>\n",
       "    .dataframe tbody tr th:only-of-type {\n",
       "        vertical-align: middle;\n",
       "    }\n",
       "\n",
       "    .dataframe tbody tr th {\n",
       "        vertical-align: top;\n",
       "    }\n",
       "\n",
       "    .dataframe thead th {\n",
       "        text-align: right;\n",
       "    }\n",
       "</style>\n",
       "<table border=\"1\" class=\"dataframe\">\n",
       "  <thead>\n",
       "    <tr style=\"text-align: right;\">\n",
       "      <th></th>\n",
       "      <th>is_kabisat</th>\n",
       "      <th>id_per_image</th>\n",
       "      <th>periode_start</th>\n",
       "      <th>periode_end</th>\n",
       "    </tr>\n",
       "  </thead>\n",
       "  <tbody>\n",
       "    <tr>\n",
       "      <th>0</th>\n",
       "      <td>0</td>\n",
       "      <td>1</td>\n",
       "      <td>0101</td>\n",
       "      <td>0112</td>\n",
       "    </tr>\n",
       "    <tr>\n",
       "      <th>1</th>\n",
       "      <td>0</td>\n",
       "      <td>2</td>\n",
       "      <td>0113</td>\n",
       "      <td>0124</td>\n",
       "    </tr>\n",
       "  </tbody>\n",
       "</table>\n",
       "</div>"
      ],
      "text/plain": [
       "  is_kabisat id_per_image periode_start periode_end\n",
       "0          0            1          0101        0112\n",
       "1          0            2          0113        0124"
      ]
     },
     "execution_count": 5,
     "metadata": {},
     "output_type": "execute_result"
    }
   ],
   "source": [
    "df_bridging_citra = pd.read_excel(\"/data/ksa/03_Sampling/bridging.xlsx\", dtype='object', sheet_name=\"periode_to_date\")\n",
    "df_bridging_citra.head(2)"
   ]
  },
  {
   "cell_type": "code",
   "execution_count": 6,
   "id": "642ddd4d-e42e-4ab2-ba7c-0271ddf367cc",
   "metadata": {},
   "outputs": [
    {
     "data": {
      "text/html": [
       "<div>\n",
       "<style scoped>\n",
       "    .dataframe tbody tr th:only-of-type {\n",
       "        vertical-align: middle;\n",
       "    }\n",
       "\n",
       "    .dataframe tbody tr th {\n",
       "        vertical-align: top;\n",
       "    }\n",
       "\n",
       "    .dataframe thead th {\n",
       "        text-align: right;\n",
       "    }\n",
       "</style>\n",
       "<table border=\"1\" class=\"dataframe\">\n",
       "  <thead>\n",
       "    <tr style=\"text-align: right;\">\n",
       "      <th></th>\n",
       "      <th>is_kabisat</th>\n",
       "      <th>obs_in_a_year</th>\n",
       "      <th>id_per_image</th>\n",
       "      <th>periode_start</th>\n",
       "      <th>periode_end</th>\n",
       "    </tr>\n",
       "  </thead>\n",
       "  <tbody>\n",
       "    <tr>\n",
       "      <th>0</th>\n",
       "      <td>0</td>\n",
       "      <td>1</td>\n",
       "      <td>3</td>\n",
       "      <td>0125</td>\n",
       "      <td>0205</td>\n",
       "    </tr>\n",
       "    <tr>\n",
       "      <th>1</th>\n",
       "      <td>0</td>\n",
       "      <td>2</td>\n",
       "      <td>5</td>\n",
       "      <td>0218</td>\n",
       "      <td>0301</td>\n",
       "    </tr>\n",
       "  </tbody>\n",
       "</table>\n",
       "</div>"
      ],
      "text/plain": [
       "  is_kabisat obs_in_a_year id_per_image periode_start periode_end\n",
       "0          0             1            3          0125        0205\n",
       "1          0             2            5          0218        0301"
      ]
     },
     "execution_count": 6,
     "metadata": {},
     "output_type": "execute_result"
    }
   ],
   "source": [
    "df_bridging_ksa = pd.read_excel(\"/data/ksa/03_Sampling/bridging.xlsx\", dtype='object')\n",
    "df_bridging_ksa.head(2)"
   ]
  },
  {
   "cell_type": "markdown",
   "id": "4d15764c-2ebc-44ba-83aa-ba253580daec",
   "metadata": {},
   "source": [
    "### DataFrame VH VV Value"
   ]
  },
  {
   "cell_type": "code",
   "execution_count": 7,
   "id": "d0144c25-5d5a-47c6-ac67-2330ad53cbe4",
   "metadata": {},
   "outputs": [],
   "source": [
    "def get_df_values(mgrs):\n",
    "    with open('/data/ksa/03_Sampling/data/32/sampling_'+mgrs+'.pkl', 'rb') as f:\n",
    "        df_values = pickle.load(f)    \n",
    "    df_values[\"VH\"] = df_values.Sigma0_VH_db\n",
    "    df_values[\"VV\"] = df_values.Sigma0_VV_db\n",
    "    df_values.drop([\"Sigma0_VH_db\",\"Sigma0_VV_db\"],axis=True, inplace=True)\n",
    "    return df_values"
   ]
  },
  {
   "cell_type": "code",
   "execution_count": 13,
   "id": "ff0deed4-1505-48c8-9316-f6696bc31a25",
   "metadata": {},
   "outputs": [],
   "source": [
    "def reformat_to_wide(df_values, band, df_bridging_citra, df_all_wide):\n",
    "    \n",
    "    df_values[\"periode_start\"] = df_values.periode.str[4:8]\n",
    "    df_values[\"periode_end\"] = df_values.periode.str[-4:]\n",
    "    df_values[\"is_kabisat\"] = 0\n",
    "    \n",
    "    df_values = df_values.merge(df_bridging_citra, left_on=['periode_start','periode_end','is_kabisat'],  right_on=['periode_start','periode_end','is_kabisat'])\n",
    "    df_values['year_id_per_image'] = df_values.periode.str[:4]+\"_\"+df_values.id_per_image.astype(\"str\").str.zfill(2)\n",
    "    \n",
    "    df_VH_wide_res = df_values.sort_values('year_id_per_image').pivot(index='idpoint', columns='year_id_per_image', values=band).reset_index()\n",
    "    df_VH_wide_res = pd.concat([df_all_wide, df_VH_wide_res], axis=0)\n",
    "    df_VH_wide_res['idsubsegmen'] = df_VH_wide_res.idpoint.str[:-3]\n",
    "    return df_VH_wide_res"
   ]
  },
  {
   "cell_type": "markdown",
   "id": "4acc0e80-9066-41c1-a23a-29a6bd53b184",
   "metadata": {},
   "source": [
    "### DataFrame Label"
   ]
  },
  {
   "cell_type": "code",
   "execution_count": 9,
   "id": "7adeda78-e1a1-438e-be9f-f828813dfbae",
   "metadata": {},
   "outputs": [
    {
     "data": {
      "text/html": [
       "<div>\n",
       "<style scoped>\n",
       "    .dataframe tbody tr th:only-of-type {\n",
       "        vertical-align: middle;\n",
       "    }\n",
       "\n",
       "    .dataframe tbody tr th {\n",
       "        vertical-align: top;\n",
       "    }\n",
       "\n",
       "    .dataframe thead th {\n",
       "        text-align: right;\n",
       "    }\n",
       "</style>\n",
       "<table border=\"1\" class=\"dataframe\">\n",
       "  <thead>\n",
       "    <tr style=\"text-align: right;\">\n",
       "      <th></th>\n",
       "      <th>idsegmen</th>\n",
       "      <th>idsubsegmen</th>\n",
       "      <th>tahun</th>\n",
       "      <th>bulan</th>\n",
       "      <th>obs</th>\n",
       "      <th>nth</th>\n",
       "      <th>id_x</th>\n",
       "      <th>class</th>\n",
       "      <th>is_kabisat</th>\n",
       "      <th>obs_in_a_year</th>\n",
       "      <th>id_per_image</th>\n",
       "      <th>periode_start</th>\n",
       "      <th>periode_end</th>\n",
       "      <th>year_id_per_image</th>\n",
       "    </tr>\n",
       "  </thead>\n",
       "  <tbody>\n",
       "    <tr>\n",
       "      <th>0</th>\n",
       "      <td>110101001</td>\n",
       "      <td>A1</td>\n",
       "      <td>22</td>\n",
       "      <td>1</td>\n",
       "      <td>8.0</td>\n",
       "      <td>0</td>\n",
       "      <td>110101001A1</td>\n",
       "      <td>NV</td>\n",
       "      <td>0</td>\n",
       "      <td>1</td>\n",
       "      <td>3</td>\n",
       "      <td>0125</td>\n",
       "      <td>0205</td>\n",
       "      <td>2022_03</td>\n",
       "    </tr>\n",
       "    <tr>\n",
       "      <th>1</th>\n",
       "      <td>110101001</td>\n",
       "      <td>A2</td>\n",
       "      <td>22</td>\n",
       "      <td>1</td>\n",
       "      <td>4.0</td>\n",
       "      <td>0</td>\n",
       "      <td>110101001A2</td>\n",
       "      <td>H</td>\n",
       "      <td>0</td>\n",
       "      <td>1</td>\n",
       "      <td>3</td>\n",
       "      <td>0125</td>\n",
       "      <td>0205</td>\n",
       "      <td>2022_03</td>\n",
       "    </tr>\n",
       "    <tr>\n",
       "      <th>2</th>\n",
       "      <td>110101001</td>\n",
       "      <td>A3</td>\n",
       "      <td>22</td>\n",
       "      <td>1</td>\n",
       "      <td>4.0</td>\n",
       "      <td>0</td>\n",
       "      <td>110101001A3</td>\n",
       "      <td>H</td>\n",
       "      <td>0</td>\n",
       "      <td>1</td>\n",
       "      <td>3</td>\n",
       "      <td>0125</td>\n",
       "      <td>0205</td>\n",
       "      <td>2022_03</td>\n",
       "    </tr>\n",
       "    <tr>\n",
       "      <th>3</th>\n",
       "      <td>110101001</td>\n",
       "      <td>B1</td>\n",
       "      <td>22</td>\n",
       "      <td>1</td>\n",
       "      <td>8.0</td>\n",
       "      <td>0</td>\n",
       "      <td>110101001B1</td>\n",
       "      <td>NV</td>\n",
       "      <td>0</td>\n",
       "      <td>1</td>\n",
       "      <td>3</td>\n",
       "      <td>0125</td>\n",
       "      <td>0205</td>\n",
       "      <td>2022_03</td>\n",
       "    </tr>\n",
       "    <tr>\n",
       "      <th>4</th>\n",
       "      <td>110101001</td>\n",
       "      <td>B2</td>\n",
       "      <td>22</td>\n",
       "      <td>1</td>\n",
       "      <td>4.0</td>\n",
       "      <td>0</td>\n",
       "      <td>110101001B2</td>\n",
       "      <td>H</td>\n",
       "      <td>0</td>\n",
       "      <td>1</td>\n",
       "      <td>3</td>\n",
       "      <td>0125</td>\n",
       "      <td>0205</td>\n",
       "      <td>2022_03</td>\n",
       "    </tr>\n",
       "  </tbody>\n",
       "</table>\n",
       "</div>"
      ],
      "text/plain": [
       "    idsegmen idsubsegmen  tahun bulan  obs  nth         id_x class is_kabisat  \\\n",
       "0  110101001          A1     22     1  8.0    0  110101001A1    NV          0   \n",
       "1  110101001          A2     22     1  4.0    0  110101001A2     H          0   \n",
       "2  110101001          A3     22     1  4.0    0  110101001A3     H          0   \n",
       "3  110101001          B1     22     1  8.0    0  110101001B1    NV          0   \n",
       "4  110101001          B2     22     1  4.0    0  110101001B2     H          0   \n",
       "\n",
       "  obs_in_a_year id_per_image periode_start periode_end year_id_per_image  \n",
       "0             1            3          0125        0205           2022_03  \n",
       "1             1            3          0125        0205           2022_03  \n",
       "2             1            3          0125        0205           2022_03  \n",
       "3             1            3          0125        0205           2022_03  \n",
       "4             1            3          0125        0205           2022_03  "
      ]
     },
     "execution_count": 9,
     "metadata": {},
     "output_type": "execute_result"
    }
   ],
   "source": [
    "df_label = pd.read_csv(\"/data/raw/processed/relabelled_data_ksa.csv\")\n",
    "\n",
    "df_label = df_label.merge(df_bridging_ksa.query(\"is_kabisat == 0\"), how='left', left_on='bulan', right_on='obs_in_a_year')\n",
    "df_label['year_id_per_image'] = \"20\"+df_label.tahun.astype(\"str\")+\"_\"+df_label.id_per_image.astype(\"str\").str.zfill(2)\n",
    "df_label.head()"
   ]
  },
  {
   "cell_type": "code",
   "execution_count": 10,
   "id": "35c93baf-1b38-4aca-b4b5-134a752eef6f",
   "metadata": {
    "scrolled": true
   },
   "outputs": [
    {
     "data": {
      "text/plain": [
       "array(['2022_03', '2022_05', '2022_08', '2022_10', '2022_13', '2022_15',\n",
       "       '2022_18', '2022_20', '2022_23', '2022_25', '2022_28', '2022_30',\n",
       "       '2023_03', '2023_05', '2023_08', '2023_10', '2023_13', '2023_15',\n",
       "       '2023_18', '2023_20', '2023_23', '2023_25', '2023_28', '2023_30'],\n",
       "      dtype=object)"
      ]
     },
     "execution_count": 10,
     "metadata": {},
     "output_type": "execute_result"
    }
   ],
   "source": [
    "year_id_per_image_ = df_label.year_id_per_image.unique()\n",
    "year_id_per_image_"
   ]
  },
  {
   "cell_type": "markdown",
   "id": "33104061-5965-4a43-b82d-7bc293cbbee7",
   "metadata": {},
   "source": [
    "### RUN ALL"
   ]
  },
  {
   "cell_type": "code",
   "execution_count": null,
   "id": "00d80d91-68fb-4732-ad1b-aea73c06e3ae",
   "metadata": {},
   "outputs": [
    {
     "name": "stderr",
     "output_type": "stream",
     "text": [
      "  0%|          | 0/15 [00:00<?, ?it/s]"
     ]
    }
   ],
   "source": [
    "mgrs_ = ['48MXT', '48MYT', '48MXU', '48MXS', '48MYS', '48MZT', '48MZS',\n",
    "       '49MAN', '49MAM', '49MBM', '49MBN', '49MAP', '49MBP', '48MZU',\n",
    "       '48MYU']\n",
    "\n",
    "for mgrs in tqdm(mgrs_):\n",
    "    df_values = get_df_values(mgrs)\n",
    "    df_VH_wide = reformat_to_wide(df_values, \"VH\", df_bridging_citra, df_all_wide)\n",
    "    df_VV_wide = reformat_to_wide(df_values, \"VV\", df_bridging_citra, df_all_wide)\n",
    "\n",
    "    df_full = df_VH_wide[['idpoint','idsubsegmen']].copy()\n",
    "    # df_full = df_VV_wide[['idpoint','idsubsegmen']].copy()\n",
    "    df_full = df_full.merge(df_label[['id_x','tahun', 'bulan', 'obs', 'class', 'year_id_per_image']], how=\"left\", left_on = \"idsubsegmen\", right_on=\"id_x\")\n",
    "\n",
    "    df_wide_full = pd.DataFrame()\n",
    "    for yi in year_id_per_image_:\n",
    "        df_tmp = df_full.loc[df_full.year_id_per_image == yi]\n",
    "        df_tmp.loc[:,'MGRS'] = mgrs\n",
    "        ind = df_VH_wide.columns.to_list().index(yi)+1\n",
    "        # ind = df_VV_wide.columns.to_list().index(yi)+1\n",
    "        df_wide_tmp = pd.concat([df_VH_wide.iloc[:,0:1], df_VH_wide.iloc[:,ind-31:ind]], axis=1)\n",
    "        # df_wide_tmp = pd.concat([df_VV_wide.iloc[:,0:1], df_VV_wide.iloc[:,ind-31:ind]], axis=1)\n",
    "        df_wide_res = df_tmp.merge(df_wide_tmp, how='left', left_on='idpoint', right_on='idpoint')\n",
    "        df_wide_res.columns.values[-31:] = vh_list\n",
    "        df_wide_res.columns.values[-31:] = vv_list\n",
    "        # df_wide_res.drop('id_x', axis=1, inplace=True)\n",
    "        df_wide_full = pd.concat([df_wide_full,df_wide_res], axis=0) \n",
    "        # break\n",
    "    # break\n",
    "    with open('/data/ksa/03_Sampling/data-wide/32/wide_data_'+mgrs+'.pkl', 'wb') as f:\n",
    "        pickle.dump(df_wide_full, f)\n",
    "    # df_wide_full\n",
    "    # break"
   ]
  },
  {
   "cell_type": "code",
   "execution_count": 21,
   "id": "f1841d7c-c737-4395-ba44-11e9b8fa27f5",
   "metadata": {},
   "outputs": [],
   "source": [
    "# df_wide_full.loc[df_wide_full.idpoint == \"320101006A1#01\"]"
   ]
  },
  {
   "cell_type": "code",
   "execution_count": 26,
   "id": "29f1cfbc-48c8-432b-9963-af4211a49414",
   "metadata": {},
   "outputs": [],
   "source": [
    "# df_label.query(\"id_x == '327507007C3'\")"
   ]
  },
  {
   "cell_type": "code",
   "execution_count": 56,
   "id": "e29c0406-de4c-4465-b54a-90d88187e9a8",
   "metadata": {},
   "outputs": [
    {
     "data": {
      "text/plain": [
       "obs  class\n",
       "1.0  V1       170750\n",
       "2.0  V2       127450\n",
       "3.0  G        171500\n",
       "4.0  BL       117575\n",
       "     H        152200\n",
       "5.0  BL        52925\n",
       "     PL       132925\n",
       "6.0  P          6350\n",
       "7.0  NP        12700\n",
       "8.0  NV        28825\n",
       "dtype: int64"
      ]
     },
     "execution_count": 56,
     "metadata": {},
     "output_type": "execute_result"
    }
   ],
   "source": [
    "df_wide_full.groupby(['obs','class']).size()"
   ]
  },
  {
   "cell_type": "markdown",
   "id": "a4ad70f0-3d13-432f-83ba-e85db8b01d6a",
   "metadata": {},
   "source": [
    "### Reformat"
   ]
  },
  {
   "cell_type": "code",
   "execution_count": null,
   "id": "1c47dbbc-54dc-4699-82bc-00ce43623220",
   "metadata": {},
   "outputs": [],
   "source": [
    "recode_dict = {\n",
    "    'V1': '1.0',\n",
    "    'V2': '2.0',\n",
    "    'G': '3.0',\n",
    "    'H': '1.0',\n",
    "    'PL': '5.0',\n",
    "    'P': '99.0',\n",
    "    'NP': '6.0',\n",
    "    'NV': '7.0',\n",
    "    'BL': '0.0'\n",
    "}"
   ]
  },
  {
   "cell_type": "code",
   "execution_count": null,
   "id": "8e950196-5574-43ef-951a-e064a7aa4797",
   "metadata": {},
   "outputs": [],
   "source": [
    "mgrs"
   ]
  },
  {
   "cell_type": "code",
   "execution_count": null,
   "id": "926bbf74-ca54-4c8a-910b-b6f1e647186c",
   "metadata": {},
   "outputs": [],
   "source": [
    "mgrs_ = ['48MXT', '48MYT', '48MXU', '48MXS', '48MYS', '48MZT', '48MZS',\n",
    "       '49MAN', '49MAM', '49MBM', '49MBN', '49MAP', '49MBP', '48MZU',\n",
    "       '48MYU']\n",
    "\n",
    "# for mgrs in tqdm(mgrs_):\n",
    "mgrs"
   ]
  },
  {
   "cell_type": "code",
   "execution_count": null,
   "id": "623c3eb7-2cd9-474a-abd1-899ccf0e6b5b",
   "metadata": {},
   "outputs": [],
   "source": [
    "for mgrs in tqdm(mgrs_):\n",
    "    with open('/data/ksa/03_Sampling/data-wide/32/wide_data_'+mgrs+'.pkl', 'rb') as f:\n",
    "        df_sampling = pickle.load(f)\n",
    "    \n",
    "    df_sampling['observation'] = df_sampling['class'].replace(recode_dict)\n",
    "    df_sampling = df_sampling.loc[df_sampling.observation != '99.0'] \n",
    "    df_sampling['idsegment'] = df_sampling['idsubsegmen'].str[:-2]\n",
    "    df_sampling.rename(columns={'idsubsegmen': 'idsubsegment'}, inplace=True)\n",
    "    df_sampling.rename(columns={'bulan': 'nth'}, inplace=True)\n",
    "    df_sampling.rename(columns={'year_id_per_image': 'periode'}, inplace=True)\n",
    "    \n",
    "    df_sampling = df_sampling[['idpoint','idsubsegment','idsegment','nth','periode',\n",
    "     'observation', 'MGRS', 'VH_30', 'VH_29', 'VH_28', 'VH_27', 'VH_26', 'VH_25',\n",
    "     'VH_24', 'VH_23', 'VH_22', 'VH_21', 'VH_20', 'VH_19', 'VH_18', 'VH_17',\n",
    "     'VH_16', 'VH_15', 'VH_14', 'VH_13', 'VH_12', 'VH_11', 'VH_10', 'VH_9',\n",
    "     'VH_8', 'VH_7', 'VH_6', 'VH_5', 'VH_4', 'VH_3', 'VH_2', 'VH_1', 'VH_0']]\n",
    "\n",
    "    # df_sampling = df_sampling[['idpoint','idsubsegment','idsegment','nth','periode',\n",
    "    #  'observation', 'MGRS', 'VV_30', 'VV_29', 'VV_28', 'VV_27', 'VV_26', 'VV_25',\n",
    "    #  'VV_24', 'VV_23', 'VV_22', 'VV_21', 'VV_20', 'VV_19', 'VV_18', 'VV_17',\n",
    "    #  'VV_16', 'VV_15', 'VV_14', 'VV_13', 'VV_12', 'VV_11', 'VV_10', 'VV_9',\n",
    "    #  'VV_8', 'VV_7', 'VV_6', 'VV_5', 'VV_4', 'VV_3', 'VV_2', 'VV_1', 'VV_0']]\n",
    "    \n",
    "    with open('/data/ksa/03_Sampling/data-wide/32/sampling_VH_'+mgrs+'.pkl', 'wb') as f:\n",
    "        pickle.dump(df_sampling, f)\n",
    "\n",
    "    # with open('/data/ksa/03_Sampling/data-wide/32/sampling_VV_'+mgrs+'.pkl', 'wb') as f:\n",
    "    #     pickle.dump(df_sampling, f)\n",
    "\n",
    "    # break"
   ]
  },
  {
   "cell_type": "code",
   "execution_count": null,
   "id": "764282e0-1f74-4dc9-adda-977dbfab0799",
   "metadata": {},
   "outputs": [],
   "source": [
    "df_sampling.observation.unique()"
   ]
  },
  {
   "cell_type": "code",
   "execution_count": 70,
   "id": "bb63dfe9-0652-479a-a472-b9a31550090d",
   "metadata": {},
   "outputs": [],
   "source": [
    "# df_sampling.shape"
   ]
  },
  {
   "cell_type": "code",
   "execution_count": 69,
   "id": "c179af1e-a6db-46d9-9ea7-79e927f31f65",
   "metadata": {},
   "outputs": [],
   "source": [
    "# df_sampling.loc[df_sampling.observation.isna()]"
   ]
  },
  {
   "cell_type": "code",
   "execution_count": 50,
   "id": "18c121ef-4a9d-4f3d-9de9-c1e944d11990",
   "metadata": {},
   "outputs": [],
   "source": [
    "# df_sampling[:100]#.to_csv(\"sampel_to_explore_new.csv\")"
   ]
  },
  {
   "cell_type": "code",
   "execution_count": 38,
   "id": "4a8fc7dc-6225-40ac-9c15-c76e0441e06a",
   "metadata": {},
   "outputs": [
    {
     "data": {
      "text/plain": [
       "Index(['idpoint', 'idsubsegmen', 'id_x', 'tahun', 'nth', 'obs', 'class',\n",
       "       'periode', 'MGRS', 'VH_30', 'VH_29', 'VH_28', 'VH_27', 'VH_26', 'VH_25',\n",
       "       'VH_24', 'VH_23', 'VH_22', 'VH_21', 'VH_20', 'VH_19', 'VH_18', 'VH_17',\n",
       "       'VH_16', 'VH_15', 'VH_14', 'VH_13', 'VH_12', 'VH_11', 'VH_10', 'VH_9',\n",
       "       'VH_8', 'VH_7', 'VH_6', 'VH_5', 'VH_4', 'VH_3', 'VH_2', 'VH_1', 'VH_0',\n",
       "       'observation', 'idsegmen'],\n",
       "      dtype='object')"
      ]
     },
     "execution_count": 38,
     "metadata": {},
     "output_type": "execute_result"
    }
   ],
   "source": [
    "# df_sampling.columns"
   ]
  }
 ],
 "metadata": {
  "kernelspec": {
   "display_name": "Python 3 (ipykernel)",
   "language": "python",
   "name": "python3"
  },
  "language_info": {
   "codemirror_mode": {
    "name": "ipython",
    "version": 3
   },
   "file_extension": ".py",
   "mimetype": "text/x-python",
   "name": "python",
   "nbconvert_exporter": "python",
   "pygments_lexer": "ipython3",
   "version": "3.10.14"
  }
 },
 "nbformat": 4,
 "nbformat_minor": 5
}
