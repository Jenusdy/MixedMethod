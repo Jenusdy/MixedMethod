{
 "cells": [
  {
   "cell_type": "code",
   "execution_count": 24,
   "id": "f40306f3-0303-44fc-bd81-9468eb084b76",
   "metadata": {},
   "outputs": [],
   "source": [
    "import pandas as pd\n",
    "import numpy as np\n",
    "import traceback\n",
    "\n",
    "from esa_snappy import ProductIO\n",
    "from esa_snappy import GeoPos\n",
    "from esa_snappy import PixelPos\n",
    "\n",
    "from glob import glob\n",
    "from tqdm import tqdm\n",
    "import os\n",
    "import pickle\n"
   ]
  },
  {
   "cell_type": "code",
   "execution_count": 5,
   "id": "a091bc2e-dbcd-4e85-a44c-d3266228d3b6",
   "metadata": {},
   "outputs": [],
   "source": [
    "def check_image(mgrs):\n",
    "    processed_mosaic = os.listdir(\"/data/ksa/01_Image_Acquisition/02_Processed_mosaic/\")\n",
    "    if(mgrs in processed_mosaic):\n",
    "        return True\n",
    "    else: \n",
    "        return False"
   ]
  },
  {
   "cell_type": "code",
   "execution_count": null,
   "id": "d8a32d61-eb37-4040-b7d8-7949a6cf0f85",
   "metadata": {},
   "outputs": [],
   "source": [
    "# source : https://forum.step.esa.int/t/extracting-pixel-values-sentinel-2a-l2a-with-snap-or-snappy/29878/3"
   ]
  },
  {
   "cell_type": "code",
   "execution_count": 33,
   "id": "34c73c8e-6335-42c1-8eb5-86308f6eef43",
   "metadata": {},
   "outputs": [
    {
     "data": {
      "text/html": [
       "<div>\n",
       "<style scoped>\n",
       "    .dataframe tbody tr th:only-of-type {\n",
       "        vertical-align: middle;\n",
       "    }\n",
       "\n",
       "    .dataframe tbody tr th {\n",
       "        vertical-align: top;\n",
       "    }\n",
       "\n",
       "    .dataframe thead th {\n",
       "        text-align: right;\n",
       "    }\n",
       "</style>\n",
       "<table border=\"1\" class=\"dataframe\">\n",
       "  <thead>\n",
       "    <tr style=\"text-align: right;\">\n",
       "      <th></th>\n",
       "      <th>iterx</th>\n",
       "      <th>itery</th>\n",
       "      <th>lat</th>\n",
       "      <th>long</th>\n",
       "      <th>index</th>\n",
       "      <th>idsegmen</th>\n",
       "      <th>strati</th>\n",
       "      <th>idsubsegmen</th>\n",
       "      <th>EASTING</th>\n",
       "      <th>NORTHING</th>\n",
       "      <th>100kmSQ_ID</th>\n",
       "      <th>GZD</th>\n",
       "      <th>MGRS</th>\n",
       "      <th>idprov</th>\n",
       "      <th>idkab</th>\n",
       "      <th>idpoint</th>\n",
       "    </tr>\n",
       "  </thead>\n",
       "  <tbody>\n",
       "    <tr>\n",
       "      <th>0</th>\n",
       "      <td>1</td>\n",
       "      <td>1</td>\n",
       "      <td>2.381336</td>\n",
       "      <td>96.481115</td>\n",
       "      <td>01</td>\n",
       "      <td>110101001</td>\n",
       "      <td>S2</td>\n",
       "      <td>A1</td>\n",
       "      <td>200000mE</td>\n",
       "      <td>200000mN</td>\n",
       "      <td>KC</td>\n",
       "      <td>47N</td>\n",
       "      <td>47NKC</td>\n",
       "      <td>11</td>\n",
       "      <td>1101</td>\n",
       "      <td>110101001A1#01</td>\n",
       "    </tr>\n",
       "    <tr>\n",
       "      <th>1</th>\n",
       "      <td>1</td>\n",
       "      <td>2</td>\n",
       "      <td>2.381156</td>\n",
       "      <td>96.481115</td>\n",
       "      <td>02</td>\n",
       "      <td>110101001</td>\n",
       "      <td>S2</td>\n",
       "      <td>A1</td>\n",
       "      <td>200000mE</td>\n",
       "      <td>200000mN</td>\n",
       "      <td>KC</td>\n",
       "      <td>47N</td>\n",
       "      <td>47NKC</td>\n",
       "      <td>11</td>\n",
       "      <td>1101</td>\n",
       "      <td>110101001A1#02</td>\n",
       "    </tr>\n",
       "    <tr>\n",
       "      <th>2</th>\n",
       "      <td>1</td>\n",
       "      <td>3</td>\n",
       "      <td>2.380977</td>\n",
       "      <td>96.481115</td>\n",
       "      <td>03</td>\n",
       "      <td>110101001</td>\n",
       "      <td>S2</td>\n",
       "      <td>A1</td>\n",
       "      <td>200000mE</td>\n",
       "      <td>200000mN</td>\n",
       "      <td>KC</td>\n",
       "      <td>47N</td>\n",
       "      <td>47NKC</td>\n",
       "      <td>11</td>\n",
       "      <td>1101</td>\n",
       "      <td>110101001A1#03</td>\n",
       "    </tr>\n",
       "    <tr>\n",
       "      <th>3</th>\n",
       "      <td>1</td>\n",
       "      <td>4</td>\n",
       "      <td>2.380797</td>\n",
       "      <td>96.481115</td>\n",
       "      <td>04</td>\n",
       "      <td>110101001</td>\n",
       "      <td>S2</td>\n",
       "      <td>A1</td>\n",
       "      <td>200000mE</td>\n",
       "      <td>200000mN</td>\n",
       "      <td>KC</td>\n",
       "      <td>47N</td>\n",
       "      <td>47NKC</td>\n",
       "      <td>11</td>\n",
       "      <td>1101</td>\n",
       "      <td>110101001A1#04</td>\n",
       "    </tr>\n",
       "    <tr>\n",
       "      <th>4</th>\n",
       "      <td>1</td>\n",
       "      <td>5</td>\n",
       "      <td>2.380618</td>\n",
       "      <td>96.481115</td>\n",
       "      <td>05</td>\n",
       "      <td>110101001</td>\n",
       "      <td>S2</td>\n",
       "      <td>A1</td>\n",
       "      <td>200000mE</td>\n",
       "      <td>200000mN</td>\n",
       "      <td>KC</td>\n",
       "      <td>47N</td>\n",
       "      <td>47NKC</td>\n",
       "      <td>11</td>\n",
       "      <td>1101</td>\n",
       "      <td>110101001A1#05</td>\n",
       "    </tr>\n",
       "  </tbody>\n",
       "</table>\n",
       "</div>"
      ],
      "text/plain": [
       "   iterx  itery       lat       long index   idsegmen strati idsubsegmen  \\\n",
       "0      1      1  2.381336  96.481115    01  110101001     S2          A1   \n",
       "1      1      2  2.381156  96.481115    02  110101001     S2          A1   \n",
       "2      1      3  2.380977  96.481115    03  110101001     S2          A1   \n",
       "3      1      4  2.380797  96.481115    04  110101001     S2          A1   \n",
       "4      1      5  2.380618  96.481115    05  110101001     S2          A1   \n",
       "\n",
       "    EASTING  NORTHING 100kmSQ_ID  GZD   MGRS idprov idkab         idpoint  \n",
       "0  200000mE  200000mN         KC  47N  47NKC     11  1101  110101001A1#01  \n",
       "1  200000mE  200000mN         KC  47N  47NKC     11  1101  110101001A1#02  \n",
       "2  200000mE  200000mN         KC  47N  47NKC     11  1101  110101001A1#03  \n",
       "3  200000mE  200000mN         KC  47N  47NKC     11  1101  110101001A1#04  \n",
       "4  200000mE  200000mN         KC  47N  47NKC     11  1101  110101001A1#05  "
      ]
     },
     "execution_count": 33,
     "metadata": {},
     "output_type": "execute_result"
    }
   ],
   "source": [
    "df_ksa = pd.read_csv(\"/data/raw/processed/cloned_points.csv\")\n",
    "df_ksa['idprov'] = df_ksa.idsegmen.astype('str').str[:2]\n",
    "df_ksa['idkab'] = df_ksa.idsegmen.astype('str').str[:4]\n",
    "\n",
    "df_ksa['index'] = [x.zfill(2) for x in df_ksa['index'].astype(\"str\")]\n",
    "df_ksa['idpoint'] = df_ksa.idsegmen.astype('str') + df_ksa.idsubsegmen.astype('str') + '#' + df_ksa['index']\n",
    "df_ksa.head()"
   ]
  },
  {
   "cell_type": "code",
   "execution_count": 34,
   "id": "e6165906-d056-4835-a299-2658df059117",
   "metadata": {},
   "outputs": [],
   "source": [
    "# Filter only prov Jabar\n",
    "df_ksa = df_ksa.query('idprov == \"32\"')"
   ]
  },
  {
   "cell_type": "code",
   "execution_count": 53,
   "id": "19a8c398-1b2c-4074-a9d4-9bcd091140f5",
   "metadata": {},
   "outputs": [
    {
     "data": {
      "text/plain": [
       "array(['48MXT', '48MYT', '48MXU', '48MXS', '48MYS', '48MZT', '48MZS',\n",
       "       '49MAN', '49MAM', '49MBM', '49MBN', '49MAP', '49MBP', '48MZU',\n",
       "       '48MYU'], dtype=object)"
      ]
     },
     "execution_count": 53,
     "metadata": {},
     "output_type": "execute_result"
    }
   ],
   "source": [
    "mgrs_all_ = df_ksa.MGRS.unique()\n",
    "mgrs_all_"
   ]
  },
  {
   "cell_type": "code",
   "execution_count": 55,
   "id": "fc72d36f-7091-42a8-8080-67e1f0117778",
   "metadata": {},
   "outputs": [
    {
     "data": {
      "text/plain": [
       "['48MYT',\n",
       " '48MXS',\n",
       " '48MYS',\n",
       " '48MZT',\n",
       " '48MZS',\n",
       " '49MAN',\n",
       " '49MAM',\n",
       " '49MBM',\n",
       " '49MBN',\n",
       " '49MAP',\n",
       " '49MBP']"
      ]
     },
     "execution_count": 55,
     "metadata": {},
     "output_type": "execute_result"
    }
   ],
   "source": [
    "mgrs_ = [x for x in mgrs_all_ if x not in ['48MXU','48MYU','48MZU','48MXT']]\n",
    "mgrs_"
   ]
  },
  {
   "cell_type": "code",
   "execution_count": null,
   "id": "d1fba155-3292-4977-887c-e9eae5241fad",
   "metadata": {},
   "outputs": [
    {
     "name": "stdout",
     "output_type": "stream",
     "text": [
      "CPU times: user 10 μs, sys: 0 ns, total: 10 μs\n",
      "Wall time: 20.3 μs\n",
      "48MYT available\n"
     ]
    },
    {
     "name": "stderr",
     "output_type": "stream",
     "text": [
      " 40%|████      | 24/60 [1:54:44<3:12:03, 320.10s/it]"
     ]
    }
   ],
   "source": [
    "%time\n",
    "\n",
    "for mgrs in mgrs_:\n",
    "    df_result = pd.DataFrame()\n",
    "    if(check_image(mgrs)):\n",
    "        print(mgrs + \" available\")\n",
    "        path_to_mgrs = \"/data/ksa/01_Image_Acquisition/02_Processed_mosaic/\"+mgrs+\"/\"\n",
    "        all_sentinel_data = glob(path_to_mgrs+\"*.dim\")\n",
    "        df_ksa_mgrs = df_ksa.loc[df_ksa.MGRS == mgrs]\n",
    "        for sent in tqdm(all_sentinel_data):\n",
    "            path_to_sentinel_data = sent\n",
    "            periode = path_to_sentinel_data[-21:-4]\n",
    "            product_subset,gc,bands_names = get_gc(path_to_sentinel_data)\n",
    "            df_ksa_mgrs_tmp = df_ksa_mgrs.copy()\n",
    "            df_ksa_mgrs_tmp = df_ksa_mgrs_tmp.reset_index(drop=True)\n",
    "            df_ksa_mgrs_tmp.loc[:, bands_names] = 0.0\n",
    "            df_ksa_mgrs_tmp.loc[:, 'periode'] =periode  \n",
    "            # print(bands_names)\n",
    "            for i,r in df_ksa_mgrs_tmp.iterrows():\n",
    "                val = get_values(gc, bands_names, r['lat'], r['long'])\n",
    "                df_ksa_mgrs_tmp.loc[i,bands_names] = val\n",
    "                # break\n",
    "            # break\n",
    "            df_result = pd.concat([df_result,df_ksa_mgrs_tmp])\n",
    "\n",
    "        df_result = df_result[['idpoint','MGRS','Sigma0_VH_db','Sigma0_VV_db','periode']]\n",
    "        with open('/data/ksa/03_Sampling/data/32/sampling_'+mgrs+'.pkl', 'wb') as f:\n",
    "            pickle.dump(df_result, f)\n",
    "    else:\n",
    "        print(mgrs + \" not available\")\n",
    "        continue\n",
    "    # break"
   ]
  },
  {
   "cell_type": "code",
   "execution_count": null,
   "id": "bfecf86f-e434-4263-954f-83ac3af582c0",
   "metadata": {},
   "outputs": [],
   "source": [
    "df_result"
   ]
  },
  {
   "cell_type": "code",
   "execution_count": 52,
   "id": "b2e21a54-ed9f-41c9-89d4-5555503802a1",
   "metadata": {},
   "outputs": [
    {
     "data": {
      "text/html": [
       "<div>\n",
       "<style scoped>\n",
       "    .dataframe tbody tr th:only-of-type {\n",
       "        vertical-align: middle;\n",
       "    }\n",
       "\n",
       "    .dataframe tbody tr th {\n",
       "        vertical-align: top;\n",
       "    }\n",
       "\n",
       "    .dataframe thead th {\n",
       "        text-align: right;\n",
       "    }\n",
       "</style>\n",
       "<table border=\"1\" class=\"dataframe\">\n",
       "  <thead>\n",
       "    <tr style=\"text-align: right;\">\n",
       "      <th></th>\n",
       "      <th>idpoint</th>\n",
       "      <th>MGRS</th>\n",
       "      <th>Sigma0_VH_db</th>\n",
       "      <th>Sigma0_VV_db</th>\n",
       "      <th>periode</th>\n",
       "    </tr>\n",
       "  </thead>\n",
       "  <tbody>\n",
       "    <tr>\n",
       "      <th>0</th>\n",
       "      <td>320101006A1#01</td>\n",
       "      <td>48MXT</td>\n",
       "      <td>-18.347488</td>\n",
       "      <td>-12.085695</td>\n",
       "      <td>20220606_20220617</td>\n",
       "    </tr>\n",
       "    <tr>\n",
       "      <th>1</th>\n",
       "      <td>320101006A1#02</td>\n",
       "      <td>48MXT</td>\n",
       "      <td>-20.715675</td>\n",
       "      <td>-11.056552</td>\n",
       "      <td>20220606_20220617</td>\n",
       "    </tr>\n",
       "    <tr>\n",
       "      <th>2</th>\n",
       "      <td>320101006A1#03</td>\n",
       "      <td>48MXT</td>\n",
       "      <td>-19.152805</td>\n",
       "      <td>-9.379771</td>\n",
       "      <td>20220606_20220617</td>\n",
       "    </tr>\n",
       "    <tr>\n",
       "      <th>3</th>\n",
       "      <td>320101006A1#04</td>\n",
       "      <td>48MXT</td>\n",
       "      <td>-19.222429</td>\n",
       "      <td>-11.019622</td>\n",
       "      <td>20220606_20220617</td>\n",
       "    </tr>\n",
       "    <tr>\n",
       "      <th>4</th>\n",
       "      <td>320101006A1#05</td>\n",
       "      <td>48MXT</td>\n",
       "      <td>-19.996529</td>\n",
       "      <td>-9.069054</td>\n",
       "      <td>20220606_20220617</td>\n",
       "    </tr>\n",
       "  </tbody>\n",
       "</table>\n",
       "</div>"
      ],
      "text/plain": [
       "          idpoint   MGRS  Sigma0_VH_db  Sigma0_VV_db            periode\n",
       "0  320101006A1#01  48MXT    -18.347488    -12.085695  20220606_20220617\n",
       "1  320101006A1#02  48MXT    -20.715675    -11.056552  20220606_20220617\n",
       "2  320101006A1#03  48MXT    -19.152805     -9.379771  20220606_20220617\n",
       "3  320101006A1#04  48MXT    -19.222429    -11.019622  20220606_20220617\n",
       "4  320101006A1#05  48MXT    -19.996529     -9.069054  20220606_20220617"
      ]
     },
     "execution_count": 52,
     "metadata": {},
     "output_type": "execute_result"
    }
   ],
   "source": [
    "with open('/data/ksa/03_Sampling/data/32/sampling_'+mgrs+'.pkl', 'rb') as f:\n",
    "    df_ = pickle.load(f)\n",
    "df_.head()"
   ]
  },
  {
   "cell_type": "markdown",
   "id": "d6c4a1b3-00de-47a9-a6fb-93d9defa86e2",
   "metadata": {},
   "source": [
    "* idsegmen+idsubsegmen+#+index\n",
    "* MGRS\n",
    "* Sigma0_VH_db, Sigma0_VV_db\n",
    "* periode"
   ]
  },
  {
   "cell_type": "code",
   "execution_count": 10,
   "id": "daec8d1d-4131-4244-b4d5-4b3d06f91681",
   "metadata": {},
   "outputs": [],
   "source": [
    "def get_gc(path_to_sentinel_data):\n",
    "    # path_to_sentinel_data = \"/data/ksa/01_Image_Acquisition/02_Processed_mosaic/48MXU/20230501_20230512.dim\"\n",
    "    product_subset = ProductIO.readProduct(path_to_sentinel_data)\n",
    "    gc = product_subset.getSceneGeoCoding()\n",
    "    bands_names = list(product_subset.getBandNames())\n",
    "    return product_subset,gc,bands_names"
   ]
  },
  {
   "cell_type": "code",
   "execution_count": 13,
   "id": "3921295a-4070-48ef-acbd-37ee9c6422e3",
   "metadata": {},
   "outputs": [],
   "source": [
    "def get_values(gc, bands_names, lat, long):\n",
    "    pixel_pos = gc.getPixelPos(GeoPos(lat, long), None)\n",
    "    data = list()\n",
    "    for i, band_name in enumerate(bands_names):\n",
    "        temp_band = product_subset.getBand(band_name)\n",
    "        width, height = temp_band.getRasterWidth(), temp_band.getRasterHeight()\n",
    "        try:\n",
    "            tmp = np.zeros(1)\n",
    "            temp_band.readPixels(int(pixel_pos.x), int(pixel_pos.y), 1, 1, tmp)\n",
    "            data.append(tmp[0])\n",
    "            data_values = [float(val) for val in data]\n",
    "        except Exception as e:\n",
    "            print(band_name)\n",
    "            print(width, height)\n",
    "            print(int(pixel_pos.x), int(pixel_pos.y))\n",
    "            print(e)\n",
    "            traceback.print_exc()\n",
    "    return data_values\n",
    "\n",
    "# data_values"
   ]
  },
  {
   "cell_type": "code",
   "execution_count": null,
   "id": "a567b576-eef9-4e05-9399-da7f524aec66",
   "metadata": {},
   "outputs": [],
   "source": [
    "def get_value(gc, lat, long):    \n",
    "    \n",
    "    data = list()\n",
    "    pixel_pos = gc.getPixelPos(GeoPos(lat, lon), None)\n",
    "    data.append(lat).append(lon).append(int(pixel_pos.x)).append(int(pixel_pos.y))\n",
    "\n",
    "    for i, band_name in enumerate(bands_names):\n",
    "        temp_band = product_subset.getBand(band_name)\n",
    "        width, height = temp_band.getRasterWidth(), temp_band.getRasterHeight()\n",
    "        try:\n",
    "            tmp = np.zeros(1)\n",
    "            temp_band.readPixels(int(pixel_pos.x), int(pixel_pos.y), 1, 1, tmp)\n",
    "            data.append(tmp[0])\n",
    "        except Exception as e:\n",
    "            print(band_name)\n",
    "            print(width, height)\n",
    "            print(int(pixel_pos.x), int(pixel_pos.y))\n",
    "            print(e)\n",
    "            traceback.print_exc()\n",
    "    return data"
   ]
  },
  {
   "cell_type": "code",
   "execution_count": null,
   "id": "68a3c798-7c3b-4435-9ae9-66bb73501eba",
   "metadata": {},
   "outputs": [],
   "source": [
    "bands_names = list(product_subset.getBandNames())[1:13]\n",
    "cols = ['lat', 'lon', 'X', 'Y']\n",
    "cols.extend(bands_names)\n",
    "df_bands = pd.DataFrame(columns=cols)"
   ]
  },
  {
   "cell_type": "code",
   "execution_count": null,
   "id": "db113b33-7f61-410b-b30e-16bef301a18f",
   "metadata": {},
   "outputs": [],
   "source": [
    "for i,r in tqdm(data.iterrows(), total data.shape[0]) :\n",
    "    data = get_value(gc, data['lat'], data['long'])\n",
    "    df_bands = df_bands.apapend(data)"
   ]
  }
 ],
 "metadata": {
  "kernelspec": {
   "display_name": "Python 3 (ipykernel)",
   "language": "python",
   "name": "python3"
  },
  "language_info": {
   "codemirror_mode": {
    "name": "ipython",
    "version": 3
   },
   "file_extension": ".py",
   "mimetype": "text/x-python",
   "name": "python",
   "nbconvert_exporter": "python",
   "pygments_lexer": "ipython3",
   "version": "3.10.14"
  }
 },
 "nbformat": 4,
 "nbformat_minor": 5
}
