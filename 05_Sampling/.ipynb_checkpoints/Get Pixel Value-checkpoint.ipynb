{
 "cells": [
  {
   "cell_type": "code",
   "execution_count": null,
   "id": "f40306f3-0303-44fc-bd81-9468eb084b76",
   "metadata": {},
   "outputs": [],
   "source": [
    "import pandas as pd\n",
    "import numpy as np\n",
    "import traceback\n",
    "\n",
    "from esa_snappy import ProductIO\n",
    "from esa_snappy import GeoPos\n",
    "from esa_snappy import PixelPos"
   ]
  },
  {
   "cell_type": "code",
   "execution_count": 4,
   "id": "abc652cb-cb23-4e30-a884-93809ccd1c83",
   "metadata": {},
   "outputs": [
    {
     "name": "stdout",
     "output_type": "stream",
     "text": [
      "Defaulting to user installation because normal site-packages is not writeable\n",
      "Collecting python-snappy\n",
      "  Downloading python_snappy-0.7.2-py3-none-any.whl.metadata (1.3 kB)\n",
      "Collecting cramjam (from python-snappy)\n",
      "  Downloading cramjam-2.8.3-cp310-cp310-manylinux_2_17_x86_64.manylinux2014_x86_64.whl.metadata (4.2 kB)\n",
      "Downloading python_snappy-0.7.2-py3-none-any.whl (8.9 kB)\n",
      "Downloading cramjam-2.8.3-cp310-cp310-manylinux_2_17_x86_64.manylinux2014_x86_64.whl (2.0 MB)\n",
      "\u001b[2K   \u001b[90m━━━━━━━━━━━━━━━━━━━━━━━━━━━━━━━━━━━━━━━━\u001b[0m \u001b[32m2.0/2.0 MB\u001b[0m \u001b[31m19.0 MB/s\u001b[0m eta \u001b[36m0:00:00\u001b[0ma \u001b[36m0:00:01\u001b[0m\n",
      "\u001b[?25hInstalling collected packages: cramjam, python-snappy\n",
      "Successfully installed cramjam-2.8.3 python-snappy-0.7.2\n",
      "Note: you may need to restart the kernel to use updated packages.\n"
     ]
    }
   ],
   "source": [
    "# pip install python-snappy"
   ]
  },
  {
   "cell_type": "code",
   "execution_count": null,
   "id": "d8a32d61-eb37-4040-b7d8-7949a6cf0f85",
   "metadata": {},
   "outputs": [],
   "source": [
    "# source : https://forum.step.esa.int/t/extracting-pixel-values-sentinel-2a-l2a-with-snap-or-snappy/29878/3"
   ]
  },
  {
   "cell_type": "code",
   "execution_count": null,
   "id": "daec8d1d-4131-4244-b4d5-4b3d06f91681",
   "metadata": {},
   "outputs": [],
   "source": [
    "path_to_sentinel_data = \"S2A_MSIL2A_20160110T152632_N0201_R025_T18NXM_20160110T153105_subsetoutput_ndvi.dim\"\n",
    "product_subset = ProductIO.readProduct(path_to_sentinel_data)\n",
    "gc = product_subset.getSceneGeoCoding()"
   ]
  },
  {
   "cell_type": "code",
   "execution_count": null,
   "id": "0b5b063c-c289-49cc-a9f1-7c0699933088",
   "metadata": {},
   "outputs": [],
   "source": [
    "bands_names = list(product_subset.getBandNames())#[1:13]\n",
    "cols = ['lat', 'lon', 'X', 'Y']\n",
    "cols.extend(bands_names)\n",
    "df_bands = pd.DataFrame(columns=cols)\n",
    "df_bands"
   ]
  },
  {
   "cell_type": "code",
   "execution_count": null,
   "id": "3921295a-4070-48ef-acbd-37ee9c6422e3",
   "metadata": {},
   "outputs": [],
   "source": [
    "## Get for each long lat\n",
    "\n",
    "lat, lon = (5.914702982, -73.51362747)\n",
    "\n",
    "pixel_pos = gc.getPixelPos(GeoPos(lat, lon), None)\n",
    "data = list()\n",
    "# print(\"(lat, lon) -→ (X, Y) : (%s, %s) -→ (%s, %s)\" % (lat, lon, int(pixel_pos.x), int(pixel_pos.y)))\n",
    "\n",
    "# data.append(lat)\n",
    "# data.append(lon)\n",
    "# data.append(int(pixel_pos.x))\n",
    "# data.append(int(pixel_pos.y))\n",
    "\n",
    "data.append(lat).append(lon).append(int(pixel_pos.x)).append(int(pixel_pos.y))\n",
    "\n",
    "for i, band_name in enumerate(bands_names):\n",
    "    temp_band = product_subset.getBand(band_name)\n",
    "    width, height = temp_band.getRasterWidth(), temp_band.getRasterHeight()\n",
    "    try:\n",
    "        tmp = np.zeros(1)\n",
    "        temp_band.readPixels(int(pixel_pos.x), int(pixel_pos.y), 1, 1, tmp)\n",
    "        data.append(tmp[0])\n",
    "    except Exception as e:\n",
    "        print(band_name)\n",
    "        print(width, height)\n",
    "        print(int(pixel_pos.x), int(pixel_pos.y))\n",
    "        print(e)\n",
    "        traceback.print_exc()\n",
    "\n",
    "df_bands.loc[df_bands.shape[0]] = data\n",
    "df_bands"
   ]
  },
  {
   "cell_type": "code",
   "execution_count": null,
   "id": "a567b576-eef9-4e05-9399-da7f524aec66",
   "metadata": {},
   "outputs": [],
   "source": [
    "def get_value(gc, lat, long):    \n",
    "    \n",
    "    data = list()\n",
    "    pixel_pos = gc.getPixelPos(GeoPos(lat, lon), None)\n",
    "    data.append(lat).append(lon).append(int(pixel_pos.x)).append(int(pixel_pos.y))\n",
    "\n",
    "    for i, band_name in enumerate(bands_names):\n",
    "        temp_band = product_subset.getBand(band_name)\n",
    "        width, height = temp_band.getRasterWidth(), temp_band.getRasterHeight()\n",
    "        try:\n",
    "            tmp = np.zeros(1)\n",
    "            temp_band.readPixels(int(pixel_pos.x), int(pixel_pos.y), 1, 1, tmp)\n",
    "            data.append(tmp[0])\n",
    "        except Exception as e:\n",
    "            print(band_name)\n",
    "            print(width, height)\n",
    "            print(int(pixel_pos.x), int(pixel_pos.y))\n",
    "            print(e)\n",
    "            traceback.print_exc()\n",
    "    return data"
   ]
  },
  {
   "cell_type": "code",
   "execution_count": null,
   "id": "68a3c798-7c3b-4435-9ae9-66bb73501eba",
   "metadata": {},
   "outputs": [],
   "source": [
    "bands_names = list(product_subset.getBandNames())[1:13]\n",
    "cols = ['lat', 'lon', 'X', 'Y']\n",
    "cols.extend(bands_names)\n",
    "df_bands = pd.DataFrame(columns=cols)"
   ]
  },
  {
   "cell_type": "code",
   "execution_count": null,
   "id": "db113b33-7f61-410b-b30e-16bef301a18f",
   "metadata": {},
   "outputs": [],
   "source": [
    "for i,r in tqdm(data.iterrows(), total data.shape[0]) :\n",
    "    data = get_value(gc, data['lat'], data['long'])\n",
    "    df_bands = df_bands.apapend(data)"
   ]
  }
 ],
 "metadata": {
  "kernelspec": {
   "display_name": "Python 3 (ipykernel)",
   "language": "python",
   "name": "python3"
  },
  "language_info": {
   "codemirror_mode": {
    "name": "ipython",
    "version": 3
   },
   "file_extension": ".py",
   "mimetype": "text/x-python",
   "name": "python",
   "nbconvert_exporter": "python",
   "pygments_lexer": "ipython3",
   "version": "3.10.14"
  }
 },
 "nbformat": 4,
 "nbformat_minor": 5
}
