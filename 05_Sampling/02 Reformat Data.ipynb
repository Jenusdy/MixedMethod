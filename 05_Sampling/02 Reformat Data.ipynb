{
 "cells": [
  {
   "cell_type": "code",
   "execution_count": 67,
   "id": "b7b93835-d14e-4dbc-8d39-97b4263c707b",
   "metadata": {},
   "outputs": [
    {
     "name": "stdout",
     "output_type": "stream",
     "text": [
      "/opt/miniconda/envs/ksa/bin/python\n"
     ]
    }
   ],
   "source": [
    "import sys\n",
    "print(sys.executable)"
   ]
  },
  {
   "cell_type": "code",
   "execution_count": 68,
   "id": "405b01e3-233d-422c-a8f1-5856c18c54a9",
   "metadata": {},
   "outputs": [],
   "source": [
    "import pandas as pd\n",
    "import numpy as np\n",
    "import traceback\n",
    "\n",
    "from esa_snappy import ProductIO\n",
    "from esa_snappy import GeoPos\n",
    "from esa_snappy import PixelPos\n",
    "\n",
    "from glob import glob\n",
    "from tqdm import tqdm\n",
    "import os\n",
    "import pickle\n",
    "\n",
    "import matplotlib.pyplot as plt\n",
    "import seaborn as sns\n",
    "\n",
    "import warnings\n",
    "import pandas as pd\n",
    "from tqdm import tqdm\n",
    "\n",
    "# Suppress specific warnings\n",
    "warnings.filterwarnings(\"ignore\", category=FutureWarning, module='pandas', lineno=11)\n",
    "warnings.filterwarnings(\"ignore\", category=pd.errors.SettingWithCopyWarning)\n",
    "warnings.filterwarnings(\"ignore\", category=FutureWarning)\n",
    "warnings.filterwarnings(\"ignore\", category=pd.errors.SettingWithCopyWarning)"
   ]
  },
  {
   "cell_type": "code",
   "execution_count": 69,
   "id": "1950a653-c3d7-4488-af38-b212a4c44d3a",
   "metadata": {},
   "outputs": [],
   "source": [
    "data = 'imputed'\n",
    "idprov = '32'"
   ]
  },
  {
   "cell_type": "code",
   "execution_count": 70,
   "id": "5ea3fe5f-78e8-4890-96e1-92d378821e3f",
   "metadata": {},
   "outputs": [
    {
     "name": "stdout",
     "output_type": "stream",
     "text": [
      "['VH_30', 'VH_29', 'VH_28', 'VH_27', 'VH_26', 'VH_25', 'VH_24', 'VH_23', 'VH_22', 'VH_21', 'VH_20', 'VH_19', 'VH_18', 'VH_17', 'VH_16', 'VH_15', 'VH_14', 'VH_13', 'VH_12', 'VH_11', 'VH_10', 'VH_9', 'VH_8', 'VH_7', 'VH_6', 'VH_5', 'VH_4', 'VH_3', 'VH_2', 'VH_1', 'VH_0']\n",
      "['VV_30', 'VV_29', 'VV_28', 'VV_27', 'VV_26', 'VV_25', 'VV_24', 'VV_23', 'VV_22', 'VV_21', 'VV_20', 'VV_19', 'VV_18', 'VV_17', 'VV_16', 'VV_15', 'VV_14', 'VV_13', 'VV_12', 'VV_11', 'VV_10', 'VV_9', 'VV_8', 'VV_7', 'VV_6', 'VV_5', 'VV_4', 'VV_3', 'VV_2', 'VV_1', 'VV_0']\n"
     ]
    }
   ],
   "source": [
    "## Get ID and Year \n",
    "years = range(2021, 2024)\n",
    "numbers = range(1, 31)\n",
    "year_id_ = []\n",
    "for year in years:\n",
    "    for number in numbers:\n",
    "        year_id_.append(f\"{year}_{str(number).zfill(2)}\")\n",
    "year_id_[:5]\n",
    "\n",
    "vh_list = [f\"VH_{i}\" for i in range(30, -1, -1)]\n",
    "print(vh_list)\n",
    "\n",
    "vv_list = [f\"VV_{i}\" for i in range(30, -1, -1)]\n",
    "print(vv_list)\n"
   ]
  },
  {
   "cell_type": "code",
   "execution_count": 71,
   "id": "8b93f37d-0c6c-4851-8274-bb5e41ed983a",
   "metadata": {},
   "outputs": [],
   "source": [
    "## Prep DF\n",
    "df_all_wide = pd.DataFrame(columns=[\"idpoint\"]+year_id_)\n",
    "# df_all_wide\n",
    "\n",
    "df_bridging_citra = pd.read_excel(\"/data/ksa/03_Sampling/bridging.xlsx\", dtype='object', sheet_name=\"periode_to_date\")\n",
    "# df_bridging_citra.head(2)\n",
    "\n",
    "df_bridging_ksa = pd.read_excel(\"/data/ksa/03_Sampling/bridging.xlsx\", dtype='object')\n",
    "# df_bridging_ksa.head(2)"
   ]
  },
  {
   "cell_type": "code",
   "execution_count": 72,
   "id": "a6b74b42-198e-4124-8667-51205f921dcf",
   "metadata": {},
   "outputs": [],
   "source": [
    "def get_df_values(data, idprov, mgrs):\n",
    "    if(data == 'not imputed'):\n",
    "        with open('/data/ksa/03_Sampling/data/'+idprov+'/sampling_'+mgrs+'.pkl', 'rb') as f:\n",
    "            df_values = pickle.load(f)    \n",
    "        df_values[\"VH\"] = df_values.Sigma0_VH_db\n",
    "        df_values[\"VV\"] = df_values.Sigma0_VV_db\n",
    "        df_values.drop([\"Sigma0_VH_db\",\"Sigma0_VV_db\"],axis=True, inplace=True)\n",
    "    elif(data == 'imputed'):\n",
    "        with open('/data/ksa/04_Data_Preprocessing/'+idprov+'/01_imputation/'+mgrs+'_imputed_data.pkl', 'rb') as f:\n",
    "            df_values = pickle.load(f) \n",
    "        # print(df_values.columns)\n",
    "        df_values[\"VH\"] = df_values.Sigma0_VH_db_imputation\n",
    "        df_values[\"VV\"] = df_values.Sigma0_VV_db_imputation\n",
    "        df_values.drop([\"Sigma0_VH_db_imputation\",\"Sigma0_VV_db_imputation\"],axis=True, inplace=True)\n",
    "    return df_values\n",
    "\n",
    "def reformat_to_wide(df_values, band, df_bridging_citra, df_all_wide):\n",
    "    \n",
    "    df_values[\"periode_start\"] = df_values.periode.str[4:8]\n",
    "    df_values[\"periode_end\"] = df_values.periode.str[-4:]\n",
    "    df_values[\"is_kabisat\"] = 0\n",
    "    \n",
    "    df_values = df_values.merge(df_bridging_citra, left_on=['periode_start','periode_end','is_kabisat'],  right_on=['periode_start','periode_end','is_kabisat'])\n",
    "    df_values['year_id_per_image'] = df_values.periode.str[:4]+\"_\"+df_values.id_per_image.astype(\"str\").str.zfill(2)\n",
    "    \n",
    "    df_VH_wide_res = df_values.sort_values('year_id_per_image').pivot(index='idpoint', columns='year_id_per_image', values=band).reset_index()\n",
    "    df_VH_wide_res = pd.concat([df_all_wide, df_VH_wide_res], axis=0)\n",
    "    df_VH_wide_res['idsubsegmen'] = df_VH_wide_res.idpoint.str[:-3]\n",
    "    return df_VH_wide_res"
   ]
  },
  {
   "cell_type": "code",
   "execution_count": 73,
   "id": "ec02dd68-e780-488f-ab31-b71804cc6032",
   "metadata": {},
   "outputs": [
    {
     "data": {
      "text/html": [
       "<div>\n",
       "<style scoped>\n",
       "    .dataframe tbody tr th:only-of-type {\n",
       "        vertical-align: middle;\n",
       "    }\n",
       "\n",
       "    .dataframe tbody tr th {\n",
       "        vertical-align: top;\n",
       "    }\n",
       "\n",
       "    .dataframe thead th {\n",
       "        text-align: right;\n",
       "    }\n",
       "</style>\n",
       "<table border=\"1\" class=\"dataframe\">\n",
       "  <thead>\n",
       "    <tr style=\"text-align: right;\">\n",
       "      <th></th>\n",
       "      <th>idsegmen</th>\n",
       "      <th>idsubsegmen</th>\n",
       "      <th>tahun</th>\n",
       "      <th>bulan</th>\n",
       "      <th>obs</th>\n",
       "      <th>nth</th>\n",
       "      <th>id_x</th>\n",
       "      <th>class</th>\n",
       "      <th>is_kabisat</th>\n",
       "      <th>obs_in_a_year</th>\n",
       "      <th>id_per_image</th>\n",
       "      <th>periode_start</th>\n",
       "      <th>periode_end</th>\n",
       "      <th>year_id_per_image</th>\n",
       "    </tr>\n",
       "  </thead>\n",
       "  <tbody>\n",
       "    <tr>\n",
       "      <th>0</th>\n",
       "      <td>110101001</td>\n",
       "      <td>A1</td>\n",
       "      <td>22</td>\n",
       "      <td>1</td>\n",
       "      <td>8.0</td>\n",
       "      <td>0</td>\n",
       "      <td>110101001A1</td>\n",
       "      <td>NV</td>\n",
       "      <td>0</td>\n",
       "      <td>1</td>\n",
       "      <td>3</td>\n",
       "      <td>0125</td>\n",
       "      <td>0205</td>\n",
       "      <td>2022_03</td>\n",
       "    </tr>\n",
       "    <tr>\n",
       "      <th>1</th>\n",
       "      <td>110101001</td>\n",
       "      <td>A2</td>\n",
       "      <td>22</td>\n",
       "      <td>1</td>\n",
       "      <td>4.0</td>\n",
       "      <td>0</td>\n",
       "      <td>110101001A2</td>\n",
       "      <td>H</td>\n",
       "      <td>0</td>\n",
       "      <td>1</td>\n",
       "      <td>3</td>\n",
       "      <td>0125</td>\n",
       "      <td>0205</td>\n",
       "      <td>2022_03</td>\n",
       "    </tr>\n",
       "    <tr>\n",
       "      <th>2</th>\n",
       "      <td>110101001</td>\n",
       "      <td>A3</td>\n",
       "      <td>22</td>\n",
       "      <td>1</td>\n",
       "      <td>4.0</td>\n",
       "      <td>0</td>\n",
       "      <td>110101001A3</td>\n",
       "      <td>H</td>\n",
       "      <td>0</td>\n",
       "      <td>1</td>\n",
       "      <td>3</td>\n",
       "      <td>0125</td>\n",
       "      <td>0205</td>\n",
       "      <td>2022_03</td>\n",
       "    </tr>\n",
       "    <tr>\n",
       "      <th>3</th>\n",
       "      <td>110101001</td>\n",
       "      <td>B1</td>\n",
       "      <td>22</td>\n",
       "      <td>1</td>\n",
       "      <td>8.0</td>\n",
       "      <td>0</td>\n",
       "      <td>110101001B1</td>\n",
       "      <td>NV</td>\n",
       "      <td>0</td>\n",
       "      <td>1</td>\n",
       "      <td>3</td>\n",
       "      <td>0125</td>\n",
       "      <td>0205</td>\n",
       "      <td>2022_03</td>\n",
       "    </tr>\n",
       "    <tr>\n",
       "      <th>4</th>\n",
       "      <td>110101001</td>\n",
       "      <td>B2</td>\n",
       "      <td>22</td>\n",
       "      <td>1</td>\n",
       "      <td>4.0</td>\n",
       "      <td>0</td>\n",
       "      <td>110101001B2</td>\n",
       "      <td>H</td>\n",
       "      <td>0</td>\n",
       "      <td>1</td>\n",
       "      <td>3</td>\n",
       "      <td>0125</td>\n",
       "      <td>0205</td>\n",
       "      <td>2022_03</td>\n",
       "    </tr>\n",
       "  </tbody>\n",
       "</table>\n",
       "</div>"
      ],
      "text/plain": [
       "    idsegmen idsubsegmen  tahun bulan  obs  nth         id_x class is_kabisat  \\\n",
       "0  110101001          A1     22     1  8.0    0  110101001A1    NV          0   \n",
       "1  110101001          A2     22     1  4.0    0  110101001A2     H          0   \n",
       "2  110101001          A3     22     1  4.0    0  110101001A3     H          0   \n",
       "3  110101001          B1     22     1  8.0    0  110101001B1    NV          0   \n",
       "4  110101001          B2     22     1  4.0    0  110101001B2     H          0   \n",
       "\n",
       "  obs_in_a_year id_per_image periode_start periode_end year_id_per_image  \n",
       "0             1            3          0125        0205           2022_03  \n",
       "1             1            3          0125        0205           2022_03  \n",
       "2             1            3          0125        0205           2022_03  \n",
       "3             1            3          0125        0205           2022_03  \n",
       "4             1            3          0125        0205           2022_03  "
      ]
     },
     "execution_count": 73,
     "metadata": {},
     "output_type": "execute_result"
    }
   ],
   "source": [
    "df_label = pd.read_csv(\"/data/raw/processed/relabelled_data_ksa.csv\")\n",
    "\n",
    "df_label = df_label.merge(df_bridging_ksa.query(\"is_kabisat == 0\"), how='left', left_on='bulan', right_on='obs_in_a_year')\n",
    "df_label['year_id_per_image'] = \"20\"+df_label.tahun.astype(\"str\")+\"_\"+df_label.id_per_image.astype(\"str\").str.zfill(2)\n",
    "df_label.head()"
   ]
  },
  {
   "cell_type": "code",
   "execution_count": 74,
   "id": "67dfcb28-bedf-4152-81fe-17d80744ea2a",
   "metadata": {},
   "outputs": [
    {
     "data": {
      "text/plain": [
       "array(['2022_03', '2022_05', '2022_08', '2022_10', '2022_13', '2022_15',\n",
       "       '2022_18', '2022_20', '2022_23', '2022_25', '2022_28', '2022_30',\n",
       "       '2023_03', '2023_05', '2023_08', '2023_10', '2023_13', '2023_15',\n",
       "       '2023_18', '2023_20', '2023_23', '2023_25', '2023_28', '2023_30'],\n",
       "      dtype=object)"
      ]
     },
     "execution_count": 74,
     "metadata": {},
     "output_type": "execute_result"
    }
   ],
   "source": [
    "year_id_per_image_ = df_label.year_id_per_image.unique()\n",
    "year_id_per_image_\n"
   ]
  },
  {
   "cell_type": "code",
   "execution_count": 75,
   "id": "0cda5d4f-c8a6-41c7-86ae-9b10a4537734",
   "metadata": {},
   "outputs": [],
   "source": [
    "mgrs_ = ['48MXT', '48MYT', '48MXU', '48MXS', '48MYS', '48MZT', '48MZS',\n",
    "       '49MAN', '49MAM', '49MBM', '49MBN', '49MAP', '49MBP', '48MZU',\n",
    "       '48MYU']"
   ]
  },
  {
   "cell_type": "code",
   "execution_count": 76,
   "id": "e08c1987-ed2f-43e5-8b2c-d831fc8cbc3a",
   "metadata": {},
   "outputs": [
    {
     "name": "stderr",
     "output_type": "stream",
     "text": [
      "100%|██████████| 15/15 [09:57<00:00, 39.83s/it]\n"
     ]
    }
   ],
   "source": [
    "for mgrs in tqdm(mgrs_):\n",
    "    df_values = get_df_values(data, idprov, mgrs)\n",
    "    # df_VH_wide = reformat_to_wide(df_values, \"VH\", df_bridging_citra, df_all_wide)\n",
    "    df_VV_wide = reformat_to_wide(df_values, \"VV\", df_bridging_citra, df_all_wide)\n",
    "\n",
    "    # df_full = df_VH_wide[['idpoint','idsubsegmen']].copy()\n",
    "    df_full = df_VV_wide[['idpoint','idsubsegmen']].copy()\n",
    "    df_full = df_full.merge(df_label[['id_x','tahun', 'bulan', 'obs', 'class', 'year_id_per_image']], how=\"left\", left_on = \"idsubsegmen\", right_on=\"id_x\")\n",
    "\n",
    "    df_wide_full = pd.DataFrame()\n",
    "    for yi in year_id_per_image_:\n",
    "        df_tmp = df_full.loc[df_full.year_id_per_image == yi]\n",
    "        df_tmp.loc[:,'MGRS'] = mgrs\n",
    "        # ind = df_VH_wide.columns.to_list().index(yi)+1\n",
    "        ind = df_VV_wide.columns.to_list().index(yi)+1\n",
    "        # df_wide_tmp = pd.concat([df_VH_wide.iloc[:,0:1], df_VH_wide.iloc[:,ind-31:ind]], axis=1)\n",
    "        df_wide_tmp = pd.concat([df_VV_wide.iloc[:,0:1], df_VV_wide.iloc[:,ind-31:ind]], axis=1)\n",
    "        df_wide_res = df_tmp.merge(df_wide_tmp, how='left', left_on='idpoint', right_on='idpoint')\n",
    "        # df_wide_res.columns.values[-31:] = vh_list\n",
    "        df_wide_res.columns.values[-31:] = vv_list\n",
    "        # df_wide_res.drop('id_x', axis=1, inplace=True)\n",
    "        df_wide_full = pd.concat([df_wide_full,df_wide_res], axis=0) \n",
    "        # break\n",
    "    # break\n",
    "    if(data == 'not imputed'):\n",
    "        with open('/data/ksa/03_Sampling/data-wide/32/wide_data_'+mgrs+'.pkl', 'wb') as f:\n",
    "            pickle.dump(df_wide_full, f)\n",
    "    elif(data == 'imputed'):\n",
    "        with open('/data/ksa/04_Data_Preprocessing/32/01_imputation/wide_data/wide_data_'+mgrs+'.pkl', 'wb') as f:\n",
    "            pickle.dump(df_wide_full, f)\n",
    "    # df_wide_full\n",
    "    # break"
   ]
  },
  {
   "cell_type": "code",
   "execution_count": 77,
   "id": "32c8e1e6-bca2-45da-a865-aa133464e164",
   "metadata": {},
   "outputs": [
    {
     "data": {
      "text/plain": [
       "'48MYU'"
      ]
     },
     "execution_count": 77,
     "metadata": {},
     "output_type": "execute_result"
    }
   ],
   "source": [
    "recode_dict = {\n",
    "    'V1': '1.0',\n",
    "    'V2': '2.0',\n",
    "    'G': '3.0',\n",
    "    'H': '4.0',\n",
    "    'PL': '5.0',\n",
    "    'P': '99.0',\n",
    "    'NP': '6.0',\n",
    "    'NV': '7.0',\n",
    "    'BL': '0.0'\n",
    "}\n",
    "\n",
    "mgrs_ = ['48MXT', '48MYT', '48MXU', '48MXS', '48MYS', '48MZT', '48MZS',\n",
    "       '49MAN', '49MAM', '49MBM', '49MBN', '49MAP', '49MBP', '48MZU',\n",
    "       '48MYU']\n",
    "mgrs\n"
   ]
  },
  {
   "cell_type": "code",
   "execution_count": 78,
   "id": "eceae334-d22c-459e-a54a-d95b353d63b1",
   "metadata": {},
   "outputs": [
    {
     "name": "stderr",
     "output_type": "stream",
     "text": [
      "100%|██████████| 15/15 [00:44<00:00,  2.95s/it]\n"
     ]
    }
   ],
   "source": [
    "for mgrs in tqdm(mgrs_):\n",
    "    if(data == 'not imputed'):\n",
    "        with open('/data/ksa/03_Sampling/data-wide/32/wide_data_'+mgrs+'.pkl', 'rb') as f:\n",
    "            df_sampling = pickle.load(f)\n",
    "    elif(data == 'imputed'):\n",
    "        with open('/data/ksa/04_Data_Preprocessing/32/01_imputation/wide_data/wide_data_'+mgrs+'.pkl', 'rb') as f:\n",
    "            df_sampling = pickle.load(f)\n",
    "\n",
    "    \n",
    "    df_sampling['observation'] = df_sampling['class'].replace(recode_dict)\n",
    "    df_sampling = df_sampling.loc[df_sampling.observation != '99.0'] \n",
    "    df_sampling['idsegment'] = df_sampling['idsubsegmen'].str[:-2]\n",
    "    df_sampling.rename(columns={'idsubsegmen': 'idsubsegment'}, inplace=True)\n",
    "    df_sampling.rename(columns={'bulan': 'nth'}, inplace=True)\n",
    "    df_sampling.rename(columns={'year_id_per_image': 'periode'}, inplace=True)\n",
    "    \n",
    "    # df_sampling = df_sampling[['idpoint','idsubsegment','idsegment','nth','periode',\n",
    "    #  'observation','class', 'MGRS', 'VH_30', 'VH_29', 'VH_28', 'VH_27', 'VH_26', 'VH_25',\n",
    "    #  'VH_24', 'VH_23', 'VH_22', 'VH_21', 'VH_20', 'VH_19', 'VH_18', 'VH_17',\n",
    "    #  'VH_16', 'VH_15', 'VH_14', 'VH_13', 'VH_12', 'VH_11', 'VH_10', 'VH_9',\n",
    "    #  'VH_8', 'VH_7', 'VH_6', 'VH_5', 'VH_4', 'VH_3', 'VH_2', 'VH_1', 'VH_0']]\n",
    "\n",
    "    df_sampling = df_sampling[['idpoint','idsubsegment','idsegment','nth','periode',\n",
    "     'observation', 'class','MGRS', 'VV_30', 'VV_29', 'VV_28', 'VV_27', 'VV_26', 'VV_25',\n",
    "     'VV_24', 'VV_23', 'VV_22', 'VV_21', 'VV_20', 'VV_19', 'VV_18', 'VV_17',\n",
    "     'VV_16', 'VV_15', 'VV_14', 'VV_13', 'VV_12', 'VV_11', 'VV_10', 'VV_9',\n",
    "     'VV_8', 'VV_7', 'VV_6', 'VV_5', 'VV_4', 'VV_3', 'VV_2', 'VV_1', 'VV_0']]\n",
    "    \n",
    "    # if(data == 'not imputed'):\n",
    "    #     with open('/data/ksa/03_Sampling/data-wide/32/sampling_VH_'+mgrs+'.pkl', 'wb') as f:\n",
    "    #             pickle.dump(df_sampling, f)\n",
    "    # elif(data == 'imputed'):\n",
    "    #     with open('/data/ksa/04_Data_Preprocessing/32/wide_data/sampling_VH_'+mgrs+'.pkl', 'wb') as f:\n",
    "    #         pickle.dump(df_sampling, f)\n",
    "\n",
    "    if(data == 'not imputed'):\n",
    "        with open('/data/ksa/03_Sampling/data-wide/32/sampling_VV_'+mgrs+'.pkl', 'wb') as f:\n",
    "                pickle.dump(df_sampling, f)\n",
    "    elif(data == 'imputed'):\n",
    "        with open('/data/ksa/04_Data_Preprocessing/32/01_imputation/wide_data/sampling_VV_'+mgrs+'.pkl', 'wb') as f:\n",
    "            pickle.dump(df_sampling, f)\n",
    "            \n",
    "    \n",
    "    # break\n"
   ]
  },
  {
   "cell_type": "code",
   "execution_count": 79,
   "id": "2b318194-9a82-4add-898c-f7026e1c4acc",
   "metadata": {},
   "outputs": [
    {
     "data": {
      "text/plain": [
       "observation  class\n",
       "0.0          BL       170500\n",
       "1.0          V1       170750\n",
       "2.0          V2       127450\n",
       "3.0          G        171500\n",
       "4.0          H        152200\n",
       "5.0          PL       132925\n",
       "6.0          NP        12700\n",
       "7.0          NV        28825\n",
       "dtype: int64"
      ]
     },
     "execution_count": 79,
     "metadata": {},
     "output_type": "execute_result"
    }
   ],
   "source": [
    "df_sampling.groupby(['observation','class']).size()"
   ]
  },
  {
   "cell_type": "code",
   "execution_count": 81,
   "id": "f95a8470-c070-49e3-b3a3-7f1167e448a4",
   "metadata": {},
   "outputs": [
    {
     "data": {
      "text/html": [
       "<div>\n",
       "<style scoped>\n",
       "    .dataframe tbody tr th:only-of-type {\n",
       "        vertical-align: middle;\n",
       "    }\n",
       "\n",
       "    .dataframe tbody tr th {\n",
       "        vertical-align: top;\n",
       "    }\n",
       "\n",
       "    .dataframe thead th {\n",
       "        text-align: right;\n",
       "    }\n",
       "</style>\n",
       "<table border=\"1\" class=\"dataframe\">\n",
       "  <thead>\n",
       "    <tr style=\"text-align: right;\">\n",
       "      <th></th>\n",
       "      <th>periode</th>\n",
       "      <th>idpoint</th>\n",
       "      <th>MGRS</th>\n",
       "      <th>weight</th>\n",
       "      <th>Sigma0_VH_db_imputation</th>\n",
       "      <th>Sigma0_VV_db_imputation</th>\n",
       "    </tr>\n",
       "  </thead>\n",
       "  <tbody>\n",
       "    <tr>\n",
       "      <th>714479</th>\n",
       "      <td>20221215_20221226</td>\n",
       "      <td>321318003A1#01</td>\n",
       "      <td>48MYU</td>\n",
       "      <td>0</td>\n",
       "      <td>-19.935861</td>\n",
       "      <td>-12.366875</td>\n",
       "    </tr>\n",
       "  </tbody>\n",
       "</table>\n",
       "</div>"
      ],
      "text/plain": [
       "                  periode         idpoint   MGRS  weight  \\\n",
       "714479  20221215_20221226  321318003A1#01  48MYU       0   \n",
       "\n",
       "        Sigma0_VH_db_imputation  Sigma0_VV_db_imputation  \n",
       "714479               -19.935861               -12.366875  "
      ]
     },
     "execution_count": 81,
     "metadata": {},
     "output_type": "execute_result"
    }
   ],
   "source": [
    "idprov='32'\n",
    "mgrs='48MYU'\n",
    "with open('/data/ksa/04_Data_Preprocessing/'+idprov+'/01_imputation/'+mgrs+'_imputed_data.pkl', 'rb') as f:\n",
    "    df_values = pickle.load(f) \n",
    "df_values.loc[(df_values.idpoint == '321318003A1#01') & (df_values.periode == '20221215_20221226'),:]"
   ]
  },
  {
   "cell_type": "code",
   "execution_count": null,
   "id": "42f7ca22-b72b-4917-b608-bceb74ee51e1",
   "metadata": {},
   "outputs": [],
   "source": [
    "df_sampling.sort_values(\"periode\").query(\"idpoint == '321318003A1#01'\")"
   ]
  },
  {
   "cell_type": "code",
   "execution_count": 22,
   "id": "7e3b0bc0-b639-4b95-bbfe-dc6b538277d6",
   "metadata": {},
   "outputs": [],
   "source": [
    "# df_sampling.sort_values(\"periode\").query(\"idpoint == '321318003A1#01'\")\n",
    "# df_values.periode.unique()"
   ]
  },
  {
   "cell_type": "code",
   "execution_count": null,
   "id": "40d128af-5446-44d3-b5ec-71c8477180fe",
   "metadata": {},
   "outputs": [],
   "source": [
    "# with open('/data/ksa/03_Sampling/data-wide/32/sampling_VH_'+mgrs+'.pkl', 'rb') as f:\n",
    "#     df_VH = pickle.load(f)\n",
    "# df_VH.head(2)"
   ]
  },
  {
   "cell_type": "code",
   "execution_count": null,
   "id": "1d8efd9c-2e67-4fd4-84ac-1fdf03c132a0",
   "metadata": {},
   "outputs": [],
   "source": [
    "# with open('/data/ksa/03_Sampling/data-wide/32/sampling_VV_'+mgrs+'.pkl', 'rb') as f:\n",
    "#     df_VV = pickle.load(f)\n",
    "# df_VV.head(2)"
   ]
  },
  {
   "cell_type": "code",
   "execution_count": null,
   "id": "aa548aae-e41c-4039-8639-b1b1cb73ed58",
   "metadata": {},
   "outputs": [],
   "source": [
    "# df_label.loc[df_label.id_x == '327503106A2']"
   ]
  },
  {
   "cell_type": "code",
   "execution_count": null,
   "id": "28addb01-00fb-428f-9eee-2d7df7f3be18",
   "metadata": {},
   "outputs": [],
   "source": [
    "# df_VH.loc[df_VH.observation.isna()]"
   ]
  }
 ],
 "metadata": {
  "kernelspec": {
   "display_name": "Python 3 (ipykernel)",
   "language": "python",
   "name": "python3"
  },
  "language_info": {
   "codemirror_mode": {
    "name": "ipython",
    "version": 3
   },
   "file_extension": ".py",
   "mimetype": "text/x-python",
   "name": "python",
   "nbconvert_exporter": "python",
   "pygments_lexer": "ipython3",
   "version": "3.10.14"
  }
 },
 "nbformat": 4,
 "nbformat_minor": 5
}
