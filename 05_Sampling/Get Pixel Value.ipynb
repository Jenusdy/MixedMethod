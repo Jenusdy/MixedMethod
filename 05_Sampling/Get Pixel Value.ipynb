{
 "cells": [
  {
   "cell_type": "code",
   "execution_count": 2,
   "id": "f40306f3-0303-44fc-bd81-9468eb084b76",
   "metadata": {},
   "outputs": [
    {
     "name": "stderr",
     "output_type": "stream",
     "text": [
      "WARNING: org.esa.snap.core.util.ServiceLoader: org.esa.snap.core.gpf.OperatorSpi: Provider eu.esa.opt.meris.sdr.aerosol.AerosolMergerOp$Spi not found\n",
      "WARNING: org.esa.snap.core.util.ServiceLoader: org.esa.snap.core.gpf.OperatorSpi: Provider eu.esa.opt.meris.sdr.aerosol.ModisAerosolOp$Spi not found\n",
      "WARNING: An illegal reflective access operation has occurred\n",
      "WARNING: Illegal reflective access by org.esa.snap.runtime.Engine (file:/opt/esa-snap/snap/modules/ext/org.esa.snap.snap-jp2-reader/org-esa-snap/snap-runtime.jar) to method java.lang.ClassLoader.initializePath(java.lang.String)\n",
      "WARNING: Please consider reporting this to the maintainers of org.esa.snap.runtime.Engine\n",
      "WARNING: Use --illegal-access=warn to enable warnings of further illegal reflective access operations\n",
      "WARNING: All illegal access operations will be denied in a future release\n",
      "INFO: org.esa.snap.core.gpf.operators.tooladapter.ToolAdapterIO: Initializing external tool adapters\n",
      "INFO: org.esa.snap.core.util.EngineVersionCheckActivator: Please check regularly for new updates for the best SNAP experience.\n"
     ]
    }
   ],
   "source": [
    "import pandas as pd\n",
    "import numpy as np\n",
    "import traceback\n",
    "\n",
    "from esa_snappy import ProductIO\n",
    "from esa_snappy import GeoPos\n",
    "from esa_snappy import PixelPos"
   ]
  },
  {
   "cell_type": "code",
   "execution_count": 3,
   "id": "abc652cb-cb23-4e30-a884-93809ccd1c83",
   "metadata": {},
   "outputs": [],
   "source": [
    "# pip install python-snappy"
   ]
  },
  {
   "cell_type": "code",
   "execution_count": null,
   "id": "d8a32d61-eb37-4040-b7d8-7949a6cf0f85",
   "metadata": {},
   "outputs": [],
   "source": [
    "# source : https://forum.step.esa.int/t/extracting-pixel-values-sentinel-2a-l2a-with-snap-or-snappy/29878/3"
   ]
  },
  {
   "cell_type": "code",
   "execution_count": 7,
   "id": "daec8d1d-4131-4244-b4d5-4b3d06f91681",
   "metadata": {},
   "outputs": [],
   "source": [
    "path_to_sentinel_data = \"/data/ksa/01_Image_Acquisition/02_Processed_mosaic/48MXU/20230501_20230512.dim\"\n",
    "product_subset = ProductIO.readProduct(path_to_sentinel_data)\n",
    "gc = product_subset.getSceneGeoCoding()"
   ]
  },
  {
   "cell_type": "code",
   "execution_count": 9,
   "id": "396c601d-ef51-49e3-9494-84a127f79c88",
   "metadata": {},
   "outputs": [
    {
     "data": {
      "text/plain": [
       "['Sigma0_VH_db', 'Sigma0_VH_db_count', 'Sigma0_VV_db', 'Sigma0_VV_db_count']"
      ]
     },
     "execution_count": 9,
     "metadata": {},
     "output_type": "execute_result"
    }
   ],
   "source": [
    "bands_names = list(product_subset.getBandNames())#[1:13]\n",
    "bands_names"
   ]
  },
  {
   "cell_type": "code",
   "execution_count": 10,
   "id": "0b5b063c-c289-49cc-a9f1-7c0699933088",
   "metadata": {},
   "outputs": [
    {
     "data": {
      "text/html": [
       "<div>\n",
       "<style scoped>\n",
       "    .dataframe tbody tr th:only-of-type {\n",
       "        vertical-align: middle;\n",
       "    }\n",
       "\n",
       "    .dataframe tbody tr th {\n",
       "        vertical-align: top;\n",
       "    }\n",
       "\n",
       "    .dataframe thead th {\n",
       "        text-align: right;\n",
       "    }\n",
       "</style>\n",
       "<table border=\"1\" class=\"dataframe\">\n",
       "  <thead>\n",
       "    <tr style=\"text-align: right;\">\n",
       "      <th></th>\n",
       "      <th>lat</th>\n",
       "      <th>lon</th>\n",
       "      <th>X</th>\n",
       "      <th>Y</th>\n",
       "      <th>Sigma0_VH_db</th>\n",
       "      <th>Sigma0_VH_db_count</th>\n",
       "      <th>Sigma0_VV_db</th>\n",
       "      <th>Sigma0_VV_db_count</th>\n",
       "    </tr>\n",
       "  </thead>\n",
       "  <tbody>\n",
       "  </tbody>\n",
       "</table>\n",
       "</div>"
      ],
      "text/plain": [
       "Empty DataFrame\n",
       "Columns: [lat, lon, X, Y, Sigma0_VH_db, Sigma0_VH_db_count, Sigma0_VV_db, Sigma0_VV_db_count]\n",
       "Index: []"
      ]
     },
     "execution_count": 10,
     "metadata": {},
     "output_type": "execute_result"
    }
   ],
   "source": [
    "bands_names = list(product_subset.getBandNames())#[1:13]\n",
    "cols = ['lat', 'lon', 'X', 'Y']\n",
    "cols.extend(bands_names)\n",
    "df_bands = pd.DataFrame(columns=cols)\n",
    "df_bands"
   ]
  },
  {
   "cell_type": "code",
   "execution_count": 11,
   "id": "34c73c8e-6335-42c1-8eb5-86308f6eef43",
   "metadata": {},
   "outputs": [
    {
     "data": {
      "text/html": [
       "<div>\n",
       "<style scoped>\n",
       "    .dataframe tbody tr th:only-of-type {\n",
       "        vertical-align: middle;\n",
       "    }\n",
       "\n",
       "    .dataframe tbody tr th {\n",
       "        vertical-align: top;\n",
       "    }\n",
       "\n",
       "    .dataframe thead th {\n",
       "        text-align: right;\n",
       "    }\n",
       "</style>\n",
       "<table border=\"1\" class=\"dataframe\">\n",
       "  <thead>\n",
       "    <tr style=\"text-align: right;\">\n",
       "      <th></th>\n",
       "      <th>iterx</th>\n",
       "      <th>itery</th>\n",
       "      <th>lat</th>\n",
       "      <th>long</th>\n",
       "      <th>index</th>\n",
       "      <th>idsegmen</th>\n",
       "      <th>strati</th>\n",
       "      <th>idsubsegmen</th>\n",
       "      <th>EASTING</th>\n",
       "      <th>NORTHING</th>\n",
       "      <th>100kmSQ_ID</th>\n",
       "      <th>GZD</th>\n",
       "      <th>MGRS</th>\n",
       "    </tr>\n",
       "  </thead>\n",
       "  <tbody>\n",
       "    <tr>\n",
       "      <th>0</th>\n",
       "      <td>1</td>\n",
       "      <td>1</td>\n",
       "      <td>2.381336</td>\n",
       "      <td>96.481115</td>\n",
       "      <td>1</td>\n",
       "      <td>110101001</td>\n",
       "      <td>S2</td>\n",
       "      <td>A1</td>\n",
       "      <td>200000mE</td>\n",
       "      <td>200000mN</td>\n",
       "      <td>KC</td>\n",
       "      <td>47N</td>\n",
       "      <td>47NKC</td>\n",
       "    </tr>\n",
       "    <tr>\n",
       "      <th>1</th>\n",
       "      <td>1</td>\n",
       "      <td>2</td>\n",
       "      <td>2.381156</td>\n",
       "      <td>96.481115</td>\n",
       "      <td>2</td>\n",
       "      <td>110101001</td>\n",
       "      <td>S2</td>\n",
       "      <td>A1</td>\n",
       "      <td>200000mE</td>\n",
       "      <td>200000mN</td>\n",
       "      <td>KC</td>\n",
       "      <td>47N</td>\n",
       "      <td>47NKC</td>\n",
       "    </tr>\n",
       "    <tr>\n",
       "      <th>2</th>\n",
       "      <td>1</td>\n",
       "      <td>3</td>\n",
       "      <td>2.380977</td>\n",
       "      <td>96.481115</td>\n",
       "      <td>3</td>\n",
       "      <td>110101001</td>\n",
       "      <td>S2</td>\n",
       "      <td>A1</td>\n",
       "      <td>200000mE</td>\n",
       "      <td>200000mN</td>\n",
       "      <td>KC</td>\n",
       "      <td>47N</td>\n",
       "      <td>47NKC</td>\n",
       "    </tr>\n",
       "    <tr>\n",
       "      <th>3</th>\n",
       "      <td>1</td>\n",
       "      <td>4</td>\n",
       "      <td>2.380797</td>\n",
       "      <td>96.481115</td>\n",
       "      <td>4</td>\n",
       "      <td>110101001</td>\n",
       "      <td>S2</td>\n",
       "      <td>A1</td>\n",
       "      <td>200000mE</td>\n",
       "      <td>200000mN</td>\n",
       "      <td>KC</td>\n",
       "      <td>47N</td>\n",
       "      <td>47NKC</td>\n",
       "    </tr>\n",
       "    <tr>\n",
       "      <th>4</th>\n",
       "      <td>1</td>\n",
       "      <td>5</td>\n",
       "      <td>2.380618</td>\n",
       "      <td>96.481115</td>\n",
       "      <td>5</td>\n",
       "      <td>110101001</td>\n",
       "      <td>S2</td>\n",
       "      <td>A1</td>\n",
       "      <td>200000mE</td>\n",
       "      <td>200000mN</td>\n",
       "      <td>KC</td>\n",
       "      <td>47N</td>\n",
       "      <td>47NKC</td>\n",
       "    </tr>\n",
       "  </tbody>\n",
       "</table>\n",
       "</div>"
      ],
      "text/plain": [
       "   iterx  itery       lat       long  index   idsegmen strati idsubsegmen  \\\n",
       "0      1      1  2.381336  96.481115      1  110101001     S2          A1   \n",
       "1      1      2  2.381156  96.481115      2  110101001     S2          A1   \n",
       "2      1      3  2.380977  96.481115      3  110101001     S2          A1   \n",
       "3      1      4  2.380797  96.481115      4  110101001     S2          A1   \n",
       "4      1      5  2.380618  96.481115      5  110101001     S2          A1   \n",
       "\n",
       "    EASTING  NORTHING 100kmSQ_ID  GZD   MGRS  \n",
       "0  200000mE  200000mN         KC  47N  47NKC  \n",
       "1  200000mE  200000mN         KC  47N  47NKC  \n",
       "2  200000mE  200000mN         KC  47N  47NKC  \n",
       "3  200000mE  200000mN         KC  47N  47NKC  \n",
       "4  200000mE  200000mN         KC  47N  47NKC  "
      ]
     },
     "execution_count": 11,
     "metadata": {},
     "output_type": "execute_result"
    }
   ],
   "source": [
    "df_ksa = pd.read_csv(\"/data/raw/processed/cloned_points.csv\")\n",
    "df_ksa.head()"
   ]
  },
  {
   "cell_type": "code",
   "execution_count": null,
   "id": "3921295a-4070-48ef-acbd-37ee9c6422e3",
   "metadata": {},
   "outputs": [],
   "source": [
    "## Get for each long lat\n",
    "\n",
    "lat, lon = (5.914702982, -73.51362747)\n",
    "\n",
    "pixel_pos = gc.getPixelPos(GeoPos(lat, lon), None)\n",
    "data = list()\n",
    "# print(\"(lat, lon) -→ (X, Y) : (%s, %s) -→ (%s, %s)\" % (lat, lon, int(pixel_pos.x), int(pixel_pos.y)))\n",
    "\n",
    "# data.append(lat)\n",
    "# data.append(lon)\n",
    "# data.append(int(pixel_pos.x))\n",
    "# data.append(int(pixel_pos.y))\n",
    "\n",
    "data.append(lat).append(lon).append(int(pixel_pos.x)).append(int(pixel_pos.y))\n",
    "\n",
    "for i, band_name in enumerate(bands_names):\n",
    "    temp_band = product_subset.getBand(band_name)\n",
    "    width, height = temp_band.getRasterWidth(), temp_band.getRasterHeight()\n",
    "    try:\n",
    "        tmp = np.zeros(1)\n",
    "        temp_band.readPixels(int(pixel_pos.x), int(pixel_pos.y), 1, 1, tmp)\n",
    "        data.append(tmp[0])\n",
    "    except Exception as e:\n",
    "        print(band_name)\n",
    "        print(width, height)\n",
    "        print(int(pixel_pos.x), int(pixel_pos.y))\n",
    "        print(e)\n",
    "        traceback.print_exc()\n",
    "\n",
    "df_bands.loc[df_bands.shape[0]] = data\n",
    "df_bands"
   ]
  },
  {
   "cell_type": "code",
   "execution_count": null,
   "id": "a567b576-eef9-4e05-9399-da7f524aec66",
   "metadata": {},
   "outputs": [],
   "source": [
    "def get_value(gc, lat, long):    \n",
    "    \n",
    "    data = list()\n",
    "    pixel_pos = gc.getPixelPos(GeoPos(lat, lon), None)\n",
    "    data.append(lat).append(lon).append(int(pixel_pos.x)).append(int(pixel_pos.y))\n",
    "\n",
    "    for i, band_name in enumerate(bands_names):\n",
    "        temp_band = product_subset.getBand(band_name)\n",
    "        width, height = temp_band.getRasterWidth(), temp_band.getRasterHeight()\n",
    "        try:\n",
    "            tmp = np.zeros(1)\n",
    "            temp_band.readPixels(int(pixel_pos.x), int(pixel_pos.y), 1, 1, tmp)\n",
    "            data.append(tmp[0])\n",
    "        except Exception as e:\n",
    "            print(band_name)\n",
    "            print(width, height)\n",
    "            print(int(pixel_pos.x), int(pixel_pos.y))\n",
    "            print(e)\n",
    "            traceback.print_exc()\n",
    "    return data"
   ]
  },
  {
   "cell_type": "code",
   "execution_count": null,
   "id": "68a3c798-7c3b-4435-9ae9-66bb73501eba",
   "metadata": {},
   "outputs": [],
   "source": [
    "bands_names = list(product_subset.getBandNames())[1:13]\n",
    "cols = ['lat', 'lon', 'X', 'Y']\n",
    "cols.extend(bands_names)\n",
    "df_bands = pd.DataFrame(columns=cols)"
   ]
  },
  {
   "cell_type": "code",
   "execution_count": null,
   "id": "db113b33-7f61-410b-b30e-16bef301a18f",
   "metadata": {},
   "outputs": [],
   "source": [
    "for i,r in tqdm(data.iterrows(), total data.shape[0]) :\n",
    "    data = get_value(gc, data['lat'], data['long'])\n",
    "    df_bands = df_bands.apapend(data)"
   ]
  }
 ],
 "metadata": {
  "kernelspec": {
   "display_name": "Python 3 (ipykernel)",
   "language": "python",
   "name": "python3"
  },
  "language_info": {
   "codemirror_mode": {
    "name": "ipython",
    "version": 3
   },
   "file_extension": ".py",
   "mimetype": "text/x-python",
   "name": "python",
   "nbconvert_exporter": "python",
   "pygments_lexer": "ipython3",
   "version": "3.10.14"
  }
 },
 "nbformat": 4,
 "nbformat_minor": 5
}
