{
 "cells": [
  {
   "cell_type": "code",
   "execution_count": 1,
   "id": "bcdfec45-14ae-4b81-8291-6b6cfd7b86be",
   "metadata": {},
   "outputs": [
    {
     "name": "stderr",
     "output_type": "stream",
     "text": [
      "WARNING: org.esa.snap.core.util.ServiceLoader: org.esa.snap.core.gpf.OperatorSpi: Provider eu.esa.opt.meris.sdr.aerosol.AerosolMergerOp$Spi not found\n",
      "WARNING: org.esa.snap.core.util.ServiceLoader: org.esa.snap.core.gpf.OperatorSpi: Provider eu.esa.opt.meris.sdr.aerosol.ModisAerosolOp$Spi not found\n",
      "WARNING: An illegal reflective access operation has occurred\n",
      "WARNING: Illegal reflective access by org.esa.snap.runtime.Engine (file:/opt/esa-snap/snap/modules/ext/org.esa.snap.snap-jp2-reader/org-esa-snap/snap-runtime.jar) to method java.lang.ClassLoader.initializePath(java.lang.String)\n",
      "WARNING: Please consider reporting this to the maintainers of org.esa.snap.runtime.Engine\n",
      "WARNING: Use --illegal-access=warn to enable warnings of further illegal reflective access operations\n",
      "WARNING: All illegal access operations will be denied in a future release\n",
      "INFO: org.esa.snap.core.gpf.operators.tooladapter.ToolAdapterIO: Initializing external tool adapters\n",
      "INFO: org.esa.snap.core.util.EngineVersionCheckActivator: Please check regularly for new updates for the best SNAP experience.\n"
     ]
    }
   ],
   "source": [
    "import pandas as pd\n",
    "import numpy as np\n",
    "import traceback\n",
    "\n",
    "from esa_snappy import ProductIO\n",
    "from esa_snappy import GeoPos\n",
    "from esa_snappy import PixelPos\n",
    "\n",
    "from glob import glob\n",
    "from tqdm import tqdm\n",
    "import os\n",
    "import pickle\n",
    "\n",
    "import matplotlib.pyplot as plt\n",
    "import seaborn as sns\n",
    "\n",
    "# Suppress specific warning messages\n",
    "import warnings\n",
    "warnings.filterwarnings(\"ignore\", category=UserWarning, module=\"org.esa.snap.core.dataio.dimap.DimapProductReader\")\n"
   ]
  },
  {
   "cell_type": "code",
   "execution_count": 2,
   "id": "f5febbd3-102f-4a1f-b21e-128fdbb9941a",
   "metadata": {},
   "outputs": [],
   "source": [
    "\n",
    "def check_image(mgrs):\n",
    "    processed_mosaic = os.listdir(\"/data/ksa/01_Image_Acquisition/02_Processed_mosaic/\")\n",
    "    if(mgrs in processed_mosaic):\n",
    "        return True\n",
    "    else: \n",
    "        return False\n",
    "\n",
    "def get_gc(path_to_sentinel_data):\n",
    "    # path_to_sentinel_data = \"/data/ksa/01_Image_Acquisition/02_Processed_mosaic/48MXU/20230501_20230512.dim\"\n",
    "    product_subset = ProductIO.readProduct(path_to_sentinel_data)\n",
    "    gc = product_subset.getSceneGeoCoding()\n",
    "    bands_names = list(product_subset.getBandNames())\n",
    "    return product_subset,gc,bands_names\n",
    "\n",
    "def get_values(gc, bands_names, lat, long):\n",
    "    pixel_pos = gc.getPixelPos(GeoPos(lat, long), None)\n",
    "    data = list()\n",
    "    for i, band_name in enumerate(bands_names):\n",
    "        temp_band = product_subset.getBand(band_name)\n",
    "        width, height = temp_band.getRasterWidth(), temp_band.getRasterHeight()\n",
    "        try:\n",
    "            tmp = np.zeros(1)\n",
    "            temp_band.readPixels(int(pixel_pos.x), int(pixel_pos.y), 1, 1, tmp)\n",
    "            data.append(tmp[0])\n",
    "            data_values = [float(val) for val in data]\n",
    "        except Exception as e:\n",
    "            print(band_name)\n",
    "            print(width, height)\n",
    "            print(int(pixel_pos.x), int(pixel_pos.y))\n",
    "            print(e)\n",
    "            traceback.print_exc()\n",
    "    return data_values\n",
    "\n",
    "# data_values\n",
    "def get_value(gc, lat, long):    \n",
    "    \n",
    "    data = list()\n",
    "    pixel_pos = gc.getPixelPos(GeoPos(lat, lon), None)\n",
    "    data.append(lat).append(lon).append(int(pixel_pos.x)).append(int(pixel_pos.y))\n",
    "\n",
    "    for i, band_name in enumerate(bands_names):\n",
    "        temp_band = product_subset.getBand(band_name)\n",
    "        width, height = temp_band.getRasterWidth(), temp_band.getRasterHeight()\n",
    "        try:\n",
    "            tmp = np.zeros(1)\n",
    "            temp_band.readPixels(int(pixel_pos.x), int(pixel_pos.y), 1, 1, tmp)\n",
    "            data.append(tmp[0])\n",
    "        except Exception as e:\n",
    "            print(band_name)\n",
    "            print(width, height)\n",
    "            print(int(pixel_pos.x), int(pixel_pos.y))\n",
    "            print(e)\n",
    "            traceback.print_exc()\n",
    "    return data\n"
   ]
  },
  {
   "cell_type": "code",
   "execution_count": 3,
   "id": "2835e4da-936a-4d92-9ed7-99c929657fd3",
   "metadata": {},
   "outputs": [],
   "source": [
    "## 32 35 16 63 \n",
    "## 12 73 \n",
    "## 18 53 94 97  \n",
    "\n",
    "## edit with province\n",
    "idprov = \"73\""
   ]
  },
  {
   "cell_type": "code",
   "execution_count": 4,
   "id": "c22a1d6e-7f7e-4b86-a784-9bc892a4a6a9",
   "metadata": {},
   "outputs": [
    {
     "data": {
      "text/html": [
       "<div>\n",
       "<style scoped>\n",
       "    .dataframe tbody tr th:only-of-type {\n",
       "        vertical-align: middle;\n",
       "    }\n",
       "\n",
       "    .dataframe tbody tr th {\n",
       "        vertical-align: top;\n",
       "    }\n",
       "\n",
       "    .dataframe thead th {\n",
       "        text-align: right;\n",
       "    }\n",
       "</style>\n",
       "<table border=\"1\" class=\"dataframe\">\n",
       "  <thead>\n",
       "    <tr style=\"text-align: right;\">\n",
       "      <th></th>\n",
       "      <th>iterx</th>\n",
       "      <th>itery</th>\n",
       "      <th>lat</th>\n",
       "      <th>long</th>\n",
       "      <th>index</th>\n",
       "      <th>idsegmen</th>\n",
       "      <th>strati</th>\n",
       "      <th>idsubsegmen</th>\n",
       "      <th>EASTING</th>\n",
       "      <th>NORTHING</th>\n",
       "      <th>100kmSQ_ID</th>\n",
       "      <th>GZD</th>\n",
       "      <th>MGRS</th>\n",
       "      <th>idprov</th>\n",
       "      <th>idkab</th>\n",
       "      <th>idpoint</th>\n",
       "    </tr>\n",
       "  </thead>\n",
       "  <tbody>\n",
       "    <tr>\n",
       "      <th>5120775</th>\n",
       "      <td>1</td>\n",
       "      <td>1</td>\n",
       "      <td>-7.103411</td>\n",
       "      <td>120.640848</td>\n",
       "      <td>01</td>\n",
       "      <td>730102004</td>\n",
       "      <td>S1</td>\n",
       "      <td>A1</td>\n",
       "      <td>200000mE</td>\n",
       "      <td>9200000mN</td>\n",
       "      <td>TN</td>\n",
       "      <td>51M</td>\n",
       "      <td>51MTN</td>\n",
       "      <td>73</td>\n",
       "      <td>7301</td>\n",
       "      <td>730102004A1#01</td>\n",
       "    </tr>\n",
       "    <tr>\n",
       "      <th>5120776</th>\n",
       "      <td>1</td>\n",
       "      <td>2</td>\n",
       "      <td>-7.103590</td>\n",
       "      <td>120.640848</td>\n",
       "      <td>02</td>\n",
       "      <td>730102004</td>\n",
       "      <td>S1</td>\n",
       "      <td>A1</td>\n",
       "      <td>200000mE</td>\n",
       "      <td>9200000mN</td>\n",
       "      <td>TN</td>\n",
       "      <td>51M</td>\n",
       "      <td>51MTN</td>\n",
       "      <td>73</td>\n",
       "      <td>7301</td>\n",
       "      <td>730102004A1#02</td>\n",
       "    </tr>\n",
       "    <tr>\n",
       "      <th>5120777</th>\n",
       "      <td>1</td>\n",
       "      <td>3</td>\n",
       "      <td>-7.103768</td>\n",
       "      <td>120.640848</td>\n",
       "      <td>03</td>\n",
       "      <td>730102004</td>\n",
       "      <td>S1</td>\n",
       "      <td>A1</td>\n",
       "      <td>200000mE</td>\n",
       "      <td>9200000mN</td>\n",
       "      <td>TN</td>\n",
       "      <td>51M</td>\n",
       "      <td>51MTN</td>\n",
       "      <td>73</td>\n",
       "      <td>7301</td>\n",
       "      <td>730102004A1#03</td>\n",
       "    </tr>\n",
       "    <tr>\n",
       "      <th>5120778</th>\n",
       "      <td>1</td>\n",
       "      <td>4</td>\n",
       "      <td>-7.103946</td>\n",
       "      <td>120.640848</td>\n",
       "      <td>04</td>\n",
       "      <td>730102004</td>\n",
       "      <td>S1</td>\n",
       "      <td>A1</td>\n",
       "      <td>200000mE</td>\n",
       "      <td>9200000mN</td>\n",
       "      <td>TN</td>\n",
       "      <td>51M</td>\n",
       "      <td>51MTN</td>\n",
       "      <td>73</td>\n",
       "      <td>7301</td>\n",
       "      <td>730102004A1#04</td>\n",
       "    </tr>\n",
       "    <tr>\n",
       "      <th>5120779</th>\n",
       "      <td>1</td>\n",
       "      <td>5</td>\n",
       "      <td>-7.104125</td>\n",
       "      <td>120.640848</td>\n",
       "      <td>05</td>\n",
       "      <td>730102004</td>\n",
       "      <td>S1</td>\n",
       "      <td>A1</td>\n",
       "      <td>200000mE</td>\n",
       "      <td>9200000mN</td>\n",
       "      <td>TN</td>\n",
       "      <td>51M</td>\n",
       "      <td>51MTN</td>\n",
       "      <td>73</td>\n",
       "      <td>7301</td>\n",
       "      <td>730102004A1#05</td>\n",
       "    </tr>\n",
       "  </tbody>\n",
       "</table>\n",
       "</div>"
      ],
      "text/plain": [
       "         iterx  itery       lat        long index   idsegmen strati  \\\n",
       "5120775      1      1 -7.103411  120.640848    01  730102004     S1   \n",
       "5120776      1      2 -7.103590  120.640848    02  730102004     S1   \n",
       "5120777      1      3 -7.103768  120.640848    03  730102004     S1   \n",
       "5120778      1      4 -7.103946  120.640848    04  730102004     S1   \n",
       "5120779      1      5 -7.104125  120.640848    05  730102004     S1   \n",
       "\n",
       "        idsubsegmen   EASTING   NORTHING 100kmSQ_ID  GZD   MGRS idprov idkab  \\\n",
       "5120775          A1  200000mE  9200000mN         TN  51M  51MTN     73  7301   \n",
       "5120776          A1  200000mE  9200000mN         TN  51M  51MTN     73  7301   \n",
       "5120777          A1  200000mE  9200000mN         TN  51M  51MTN     73  7301   \n",
       "5120778          A1  200000mE  9200000mN         TN  51M  51MTN     73  7301   \n",
       "5120779          A1  200000mE  9200000mN         TN  51M  51MTN     73  7301   \n",
       "\n",
       "                idpoint  \n",
       "5120775  730102004A1#01  \n",
       "5120776  730102004A1#02  \n",
       "5120777  730102004A1#03  \n",
       "5120778  730102004A1#04  \n",
       "5120779  730102004A1#05  "
      ]
     },
     "execution_count": 4,
     "metadata": {},
     "output_type": "execute_result"
    }
   ],
   "source": [
    "df_ksa = pd.read_csv(\"/data/raw/processed/cloned_points.csv\")\n",
    "# df_ksa.iloc[:1000].to_csv(\"cek.csv\")\n",
    "\n",
    "# df_ksa = pd.read_csv(\"/data/raw/processed/generated_points_unstable.csv\")\n",
    "df_ksa['idprov'] = df_ksa.idsegmen.astype('str').str[:2]\n",
    "df_ksa['idkab'] = df_ksa.idsegmen.astype('str').str[:4]\n",
    "\n",
    "df_ksa['index'] = [x.zfill(2) for x in df_ksa['index'].astype(\"str\")]\n",
    "df_ksa['idpoint'] = df_ksa.idsegmen.astype('str') + df_ksa.idsubsegmen.astype('str') + '#' + df_ksa['index']\n",
    "\n",
    "df_ksa = df_ksa.query('idprov == \"{0}\"'.format(idprov))\n",
    "\n",
    "df_ksa.head()"
   ]
  },
  {
   "cell_type": "code",
   "execution_count": 6,
   "id": "0d9c9ba4-dbc6-47fb-b79f-0ae9b7557614",
   "metadata": {},
   "outputs": [
    {
     "data": {
      "text/plain": [
       "['51MTN',\n",
       " '51MTP',\n",
       " '51MSP',\n",
       " '51MTQ',\n",
       " '51MSQ',\n",
       " '50MRU',\n",
       " '50MQU',\n",
       " '50MQV',\n",
       " '50MRV',\n",
       " '50MQA',\n",
       " '50MRA',\n",
       " '51MSR',\n",
       " '51MTR',\n",
       " '50MQB',\n",
       " '50MRB',\n",
       " '51MTS',\n",
       " '51MSS',\n",
       " '51MST',\n",
       " '51MTT',\n",
       " '51MUT']"
      ]
     },
     "execution_count": 6,
     "metadata": {},
     "output_type": "execute_result"
    }
   ],
   "source": [
    "## list all MGRS\n",
    "mgrs_all_ = list(df_ksa.MGRS.unique())\n",
    "\n",
    "## Cek MGRS not done\n",
    "mgrs_done_ = os.listdir('/data/ksa/03_Sampling/data/'+idprov+'/') \n",
    "mgrs_done_ = [x[-9:-4] for x in mgrs_done_]\n",
    "\n",
    "mgrs_not_done_ = [x for x in mgrs_all_ if x not in mgrs_done_]\n",
    "mgrs_not_done_"
   ]
  },
  {
   "cell_type": "code",
   "execution_count": null,
   "id": "d7421b74-d669-4c55-991d-2213b1bb2e4c",
   "metadata": {
    "scrolled": true
   },
   "outputs": [
    {
     "name": "stdout",
     "output_type": "stream",
     "text": [
      "51MTN available\n"
     ]
    },
    {
     "name": "stderr",
     "output_type": "stream",
     "text": [
      "100%|██████████| 60/60 [03:54<00:00,  3.90s/it]\n"
     ]
    },
    {
     "name": "stdout",
     "output_type": "stream",
     "text": [
      "done sampling for : 51MTN\n",
      "51MTP available\n"
     ]
    },
    {
     "name": "stderr",
     "output_type": "stream",
     "text": [
      "100%|██████████| 60/60 [04:48<00:00,  4.81s/it]\n"
     ]
    },
    {
     "name": "stdout",
     "output_type": "stream",
     "text": [
      "done sampling for : 51MTP\n",
      "51MSP available\n"
     ]
    },
    {
     "name": "stderr",
     "output_type": "stream",
     "text": [
      "100%|██████████| 60/60 [15:45<00:00, 15.75s/it]\n"
     ]
    },
    {
     "name": "stdout",
     "output_type": "stream",
     "text": [
      "done sampling for : 51MSP\n",
      "51MTQ available\n"
     ]
    },
    {
     "name": "stderr",
     "output_type": "stream",
     "text": [
      "100%|██████████| 60/60 [18:37<00:00, 18.63s/it]\n"
     ]
    },
    {
     "name": "stdout",
     "output_type": "stream",
     "text": [
      "done sampling for : 51MTQ\n",
      "51MSQ available\n"
     ]
    },
    {
     "name": "stderr",
     "output_type": "stream",
     "text": [
      "100%|██████████| 60/60 [1:26:49<00:00, 86.83s/it] \n"
     ]
    },
    {
     "name": "stdout",
     "output_type": "stream",
     "text": [
      "done sampling for : 51MSQ\n",
      "50MRU available\n"
     ]
    },
    {
     "name": "stderr",
     "output_type": "stream",
     "text": [
      "  7%|▋         | 4/60 [04:39<1:04:46, 69.41s/it]"
     ]
    }
   ],
   "source": [
    "for mgrs in mgrs_not_done_:\n",
    "    df_result = pd.DataFrame()\n",
    "    if(check_image(mgrs)):\n",
    "        try:\n",
    "            print(mgrs + \" available\")\n",
    "            path_to_mgrs = \"/data/ksa/01_Image_Acquisition/02_Processed_mosaic/\"+mgrs+\"/\"\n",
    "            all_sentinel_data = glob(path_to_mgrs+\"*.dim\")\n",
    "            df_ksa_mgrs = df_ksa.loc[df_ksa.MGRS == mgrs]\n",
    "            for sent in tqdm(all_sentinel_data):\n",
    "                path_to_sentinel_data = sent\n",
    "                periode = path_to_sentinel_data[-21:-4]\n",
    "                product_subset,gc,bands_names = get_gc(path_to_sentinel_data)\n",
    "                bands_names = [col for col in bands_names if 'VH' in col]\n",
    "                df_ksa_mgrs_tmp = df_ksa_mgrs.copy()\n",
    "                df_ksa_mgrs_tmp = df_ksa_mgrs_tmp.reset_index(drop=True)\n",
    "                df_ksa_mgrs_tmp.loc[:, bands_names] = 0.0\n",
    "                df_ksa_mgrs_tmp.loc[:, 'periode'] =periode  \n",
    "                # print(bands_names)\n",
    "                for i,r in df_ksa_mgrs_tmp.iterrows():\n",
    "                    val = get_values(gc, bands_names, r['lat'], r['long'])\n",
    "                    df_ksa_mgrs_tmp.loc[i,bands_names] = val\n",
    "                    # break\n",
    "                # break\n",
    "                df_result = pd.concat([df_result,df_ksa_mgrs_tmp])\n",
    "    \n",
    "            df_result = df_result[['idpoint','MGRS','Sigma0_VH_db','periode']]\n",
    "            with open('/data/ksa/03_Sampling/data/'+idprov+'/sampling_'+mgrs+'.pkl', 'wb') as f:\n",
    "                pickle.dump(df_result, f)\n",
    "            \n",
    "            print(\"done sampling for : \"+ mgrs)\n",
    "            # break\n",
    "        except: \n",
    "            print(\"Error on : \"+ mgrs)\n",
    "    else:\n",
    "        print(mgrs + \" not available\")\n",
    "        continue\n",
    "    # break"
   ]
  },
  {
   "cell_type": "code",
   "execution_count": null,
   "id": "9df8c6c8-a499-4b28-baff-7cfc266a2580",
   "metadata": {},
   "outputs": [],
   "source": [
    "## Cek error mgrs\n",
    "mgrs_done_ = os.listdir('/data/ksa/03_Sampling/data/'+idprov+'/') \n",
    "mgrs_done_ = [x[-9:-4] for x in mgrs_done_]\n",
    "\n",
    "mgrs_not_done_ = [x for x in mgrs_all_ if x not in mgrs_done_]\n",
    "mgrs_not_done_"
   ]
  },
  {
   "cell_type": "markdown",
   "id": "3d70785c-f551-45d7-98cd-b3958c942f29",
   "metadata": {
    "jp-MarkdownHeadingCollapsed": true
   },
   "source": [
    "### Cek "
   ]
  },
  {
   "cell_type": "code",
   "execution_count": null,
   "id": "a44e485d-6975-4966-ba5a-34deeadb1fe8",
   "metadata": {},
   "outputs": [],
   "source": [
    "## Cek VH Value Overtime on One Point\n",
    "\n",
    "filtered_df = df_.query('idpoint == \"321201001A1#02\"').sort_values('periode')\n",
    "\n",
    "plt.figure(figsize=(10, 6))\n",
    "plt.plot(filtered_df['periode'], filtered_df['Sigma0_VH_db'], marker='o')\n",
    "\n",
    "plt.title('Sigma0_VH_db over Time for idpoint \"321201003B2#13\"')\n",
    "plt.xlabel('Periode')\n",
    "plt.ylabel('Sigma0_VH_db')\n",
    "plt.grid(True)\n",
    "plt.xticks(rotation=45)  # Rotate x-axis labels if needed\n",
    "\n",
    "plt.tight_layout()\n",
    "plt.show()"
   ]
  },
  {
   "cell_type": "code",
   "execution_count": null,
   "id": "6bb45499-41dc-4b75-b027-829b58f423a6",
   "metadata": {},
   "outputs": [],
   "source": [
    "## Open one Sampling Data\n",
    "\n",
    "mgrs = '49LDM'\n",
    "with open('/data/ksa/03_Sampling/data/'+idprov+'/sampling_'+mgrs+'.pkl', 'rb') as f:\n",
    "    df_ = pickle.load(f)\n",
    "\n",
    "df_.head()"
   ]
  },
  {
   "cell_type": "code",
   "execution_count": null,
   "id": "9267319c-3c9a-425b-be35-308439b8be73",
   "metadata": {},
   "outputs": [],
   "source": [
    "df_.describe()"
   ]
  }
 ],
 "metadata": {
  "kernelspec": {
   "display_name": "Python 3 (ipykernel)",
   "language": "python",
   "name": "python3"
  },
  "language_info": {
   "codemirror_mode": {
    "name": "ipython",
    "version": 3
   },
   "file_extension": ".py",
   "mimetype": "text/x-python",
   "name": "python",
   "nbconvert_exporter": "python",
   "pygments_lexer": "ipython3",
   "version": "3.10.14"
  }
 },
 "nbformat": 4,
 "nbformat_minor": 5
}
