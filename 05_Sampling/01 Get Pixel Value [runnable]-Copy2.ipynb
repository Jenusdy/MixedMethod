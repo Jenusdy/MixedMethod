{
 "cells": [
  {
   "cell_type": "code",
   "execution_count": 13,
   "id": "bcdfec45-14ae-4b81-8291-6b6cfd7b86be",
   "metadata": {},
   "outputs": [],
   "source": [
    "import pandas as pd\n",
    "import numpy as np\n",
    "import traceback\n",
    "\n",
    "from esa_snappy import ProductIO\n",
    "from esa_snappy import GeoPos\n",
    "from esa_snappy import PixelPos\n",
    "\n",
    "from glob import glob\n",
    "from tqdm import tqdm\n",
    "import os\n",
    "import pickle\n",
    "\n",
    "import matplotlib.pyplot as plt\n",
    "import seaborn as sns\n",
    "\n",
    "# Suppress specific warning messages\n",
    "import warnings\n",
    "warnings.filterwarnings(\"ignore\", category=UserWarning, module=\"org.esa.snap.core.dataio.dimap.DimapProductReader\")\n"
   ]
  },
  {
   "cell_type": "code",
   "execution_count": 14,
   "id": "f5febbd3-102f-4a1f-b21e-128fdbb9941a",
   "metadata": {},
   "outputs": [],
   "source": [
    "\n",
    "def check_image(mgrs):\n",
    "    processed_mosaic = os.listdir(\"/data/ksa/01_Image_Acquisition/02_Processed_mosaic/\")\n",
    "    if(mgrs in processed_mosaic):\n",
    "        return True\n",
    "    else: \n",
    "        return False\n",
    "\n",
    "def get_gc(path_to_sentinel_data):\n",
    "    # path_to_sentinel_data = \"/data/ksa/01_Image_Acquisition/02_Processed_mosaic/48MXU/20230501_20230512.dim\"\n",
    "    product_subset = ProductIO.readProduct(path_to_sentinel_data)\n",
    "    gc = product_subset.getSceneGeoCoding()\n",
    "    bands_names = list(product_subset.getBandNames())\n",
    "    return product_subset,gc,bands_names\n",
    "\n",
    "def get_values(gc, bands_names, lat, long):\n",
    "    pixel_pos = gc.getPixelPos(GeoPos(lat, long), None)\n",
    "    data = list()\n",
    "    for i, band_name in enumerate(bands_names):\n",
    "        temp_band = product_subset.getBand(band_name)\n",
    "        width, height = temp_band.getRasterWidth(), temp_band.getRasterHeight()\n",
    "        try:\n",
    "            tmp = np.zeros(1)\n",
    "            temp_band.readPixels(int(pixel_pos.x), int(pixel_pos.y), 1, 1, tmp)\n",
    "            data.append(tmp[0])\n",
    "            data_values = [float(val) for val in data]\n",
    "        except Exception as e:\n",
    "            #print('error occured at',int(pixel_pos.x), int(pixel_pos.y))\n",
    "            #print(int(pixel_pos.x), int(pixel_pos.y))\n",
    "            continue\n",
    "    return data_values\n",
    "\n",
    "# data_values\n",
    "def get_value(gc, lat, long):    \n",
    "    \n",
    "    data = list()\n",
    "    pixel_pos = gc.getPixelPos(GeoPos(lat, lon), None)\n",
    "    data.append(lat).append(lon).append(int(pixel_pos.x)).append(int(pixel_pos.y))\n",
    "\n",
    "    for i, band_name in enumerate(bands_names):\n",
    "        temp_band = product_subset.getBand(band_name)\n",
    "        width, height = temp_band.getRasterWidth(), temp_band.getRasterHeight()\n",
    "        try:\n",
    "            tmp = np.zeros(1)\n",
    "            temp_band.readPixels(int(pixel_pos.x), int(pixel_pos.y), 1, 1, tmp)\n",
    "            data.append(tmp[0])\n",
    "        except Exception as e:\n",
    "            print(int(pixel_pos.x), int(pixel_pos.y))\n",
    "            print(e)\n",
    "            #traceback.print_exc()\n",
    "            continue\n",
    "    return data\n"
   ]
  },
  {
   "cell_type": "code",
   "execution_count": 15,
   "id": "2835e4da-936a-4d92-9ed7-99c929657fd3",
   "metadata": {},
   "outputs": [],
   "source": [
    "## 32 35 16 63 12 73 18 53 94\n",
    "## 97  \n",
    "\n",
    "## edit with province\n",
    "idprov = \"95\""
   ]
  },
  {
   "cell_type": "code",
   "execution_count": 16,
   "id": "93806080-2e3d-458d-b486-c8d78284ab2b",
   "metadata": {},
   "outputs": [],
   "source": [
    "df_ksa = pd.read_csv(\"/data/raw/processed/cloned_points.csv\")\n",
    "# df_ksa.iloc[:1000].to_csv(\"cek.csv\")\n",
    "bridng_papua=pd.read_excel('/data/ksa/00_Data_Input/bridging_papua.xlsx')"
   ]
  },
  {
   "cell_type": "code",
   "execution_count": 17,
   "id": "7dab3d46-f996-4b28-8dd0-9ee3933b7aa2",
   "metadata": {},
   "outputs": [],
   "source": [
    "bridng_papua['KAB2022_2']=bridng_papua.KAB2022_2.astype(str)\n",
    "bridng_papua['KAB2023_1']=bridng_papua.KAB2023_1.astype(str)"
   ]
  },
  {
   "cell_type": "code",
   "execution_count": 18,
   "id": "94f18cec-d955-4a6c-9dad-59cef5b5db99",
   "metadata": {},
   "outputs": [],
   "source": [
    "# df_ksa = pd.read_csv(\"/data/raw/processed/generated_points_unstable.csv\")\n",
    "df_ksa['idprov'] = df_ksa.idsegmen.astype('str').str[:2]\n",
    "df_ksa['idkab'] = df_ksa.idsegmen.astype('str').str[:4]"
   ]
  },
  {
   "cell_type": "code",
   "execution_count": 19,
   "id": "95e26558-a220-4671-b56a-0d22bf7e5e88",
   "metadata": {},
   "outputs": [],
   "source": [
    "df_ksa_khusus=df_ksa.merge(bridng_papua, left_on='idkab',right_on='KAB2022_2',how='inner')\n",
    "df_ksa_khusus.idsegmen=df_ksa_khusus.apply(lambda y: y.KAB2023_1+str(y.idsegmen)[4:],axis=1)"
   ]
  },
  {
   "cell_type": "code",
   "execution_count": 20,
   "id": "c22a1d6e-7f7e-4b86-a784-9bc892a4a6a9",
   "metadata": {},
   "outputs": [
    {
     "data": {
      "text/plain": [
       "(11925, 25)"
      ]
     },
     "execution_count": 20,
     "metadata": {},
     "output_type": "execute_result"
    }
   ],
   "source": [
    "#df_ksa = pd.read_csv(\"/data/raw/processed/cloned_points.csv\")\n",
    "# df_ksa.iloc[:1000].to_csv(\"cek.csv\")\n",
    "\n",
    "# df_ksa = pd.read_csv(\"/data/raw/processed/generated_points_unstable.csv\")\n",
    "df_ksa_khusus['idprov'] = df_ksa_khusus.idsegmen.astype('str').str[:2]\n",
    "df_ksa_khusus['idkab'] = df_ksa_khusus.idsegmen.astype('str').str[:4]\n",
    "\n",
    "df_ksa_khusus['index'] = [x.zfill(2) for x in df_ksa_khusus['index'].astype(\"str\")]\n",
    "df_ksa_khusus['idpoint'] = df_ksa_khusus.idsegmen.astype('str') + df_ksa_khusus.idsubsegmen.astype('str') + '#' + df_ksa_khusus['index']\n",
    "\n",
    "df_ksa = df_ksa_khusus.query('idprov == \"{0}\"'.format(idprov))\n",
    "\n",
    "df_ksa.shape"
   ]
  },
  {
   "cell_type": "code",
   "execution_count": 21,
   "id": "0d9c9ba4-dbc6-47fb-b79f-0ae9b7557614",
   "metadata": {},
   "outputs": [
    {
     "data": {
      "text/plain": [
       "['54LVR', '54LVS', '54MVT', '54MUT']"
      ]
     },
     "execution_count": 21,
     "metadata": {},
     "output_type": "execute_result"
    }
   ],
   "source": [
    "## list all MGRS\n",
    "mgrs_all_ = list(df_ksa.MGRS.unique())\n",
    "\n",
    "## Cek MGRS not done\n",
    "mgrs_done_ = os.listdir('/data/ksa/03_Sampling/data/'+idprov+'/') \n",
    "mgrs_done_ = [x[-9:-4] for x in mgrs_done_]\n",
    "\n",
    "mgrs_not_done_ = [x for x in mgrs_all_ if x not in mgrs_done_]\n",
    "mgrs_not_done_"
   ]
  },
  {
   "cell_type": "code",
   "execution_count": 24,
   "id": "179c6a77-4994-437c-ba01-12a29afc695a",
   "metadata": {},
   "outputs": [
    {
     "data": {
      "text/plain": [
       "['54LVR', '54LVS', '54MVT', '54MUT']"
      ]
     },
     "execution_count": 24,
     "metadata": {},
     "output_type": "execute_result"
    }
   ],
   "source": [
    "mgrs_all_"
   ]
  },
  {
   "cell_type": "code",
   "execution_count": 23,
   "id": "d7421b74-d669-4c55-991d-2213b1bb2e4c",
   "metadata": {},
   "outputs": [
    {
     "name": "stdout",
     "output_type": "stream",
     "text": [
      "54LVR available\n"
     ]
    },
    {
     "name": "stderr",
     "output_type": "stream",
     "text": [
      "100%|██████████| 60/60 [14:32<00:00, 14.54s/it]\n"
     ]
    },
    {
     "name": "stdout",
     "output_type": "stream",
     "text": [
      "done sampling for : 54LVR\n",
      "54LVS available\n"
     ]
    },
    {
     "name": "stderr",
     "output_type": "stream",
     "text": [
      "100%|██████████| 60/60 [00:54<00:00,  1.11it/s]\n"
     ]
    },
    {
     "name": "stdout",
     "output_type": "stream",
     "text": [
      "done sampling for : 54LVS\n",
      "54MVT available\n"
     ]
    },
    {
     "name": "stderr",
     "output_type": "stream",
     "text": [
      "100%|██████████| 60/60 [00:59<00:00,  1.01it/s]\n"
     ]
    },
    {
     "name": "stdout",
     "output_type": "stream",
     "text": [
      "done sampling for : 54MVT\n",
      "54MUT available\n"
     ]
    },
    {
     "name": "stderr",
     "output_type": "stream",
     "text": [
      "100%|██████████| 60/60 [00:52<00:00,  1.14it/s]"
     ]
    },
    {
     "name": "stdout",
     "output_type": "stream",
     "text": [
      "done sampling for : 54MUT\n"
     ]
    },
    {
     "name": "stderr",
     "output_type": "stream",
     "text": [
      "\n"
     ]
    }
   ],
   "source": [
    "list_un_done=[]\n",
    "for mgrs in mgrs_not_done_:\n",
    "    df_result = pd.DataFrame()\n",
    "    if(check_image(mgrs)):\n",
    "        try:\n",
    "            print(mgrs + \" available\")\n",
    "            path_to_mgrs = \"/data/ksa/01_Image_Acquisition/02_Processed_mosaic/\"+mgrs+\"/\"\n",
    "            all_sentinel_data = glob(path_to_mgrs+\"*.dim\")\n",
    "            df_ksa_mgrs = df_ksa.loc[df_ksa.MGRS == mgrs]\n",
    "            for sent in tqdm(all_sentinel_data):\n",
    "                path_to_sentinel_data = sent\n",
    "                periode = path_to_sentinel_data[-21:-4]\n",
    "                product_subset,gc,bands_names = get_gc(path_to_sentinel_data)\n",
    "                bands_names = [col for col in bands_names if 'VH' in col]\n",
    "                df_ksa_mgrs_tmp = df_ksa_mgrs.copy()\n",
    "                df_ksa_mgrs_tmp = df_ksa_mgrs_tmp.reset_index(drop=True)\n",
    "                df_ksa_mgrs_tmp.loc[:, bands_names] = 0.0\n",
    "                df_ksa_mgrs_tmp.loc[:, 'periode'] =periode  \n",
    "                # print(bands_names)\n",
    "                for i,r in df_ksa_mgrs_tmp.iterrows():\n",
    "                    try:\n",
    "                        val = get_values(gc, bands_names, r['lat'], r['long'])\n",
    "                        df_ksa_mgrs_tmp.loc[i,bands_names] = val\n",
    "                    except:\n",
    "                        print('error while get the data on',r['lat'], r['long'])\n",
    "                        list_un_done.append([r['lat'], r['long']])\n",
    "                        continue\n",
    "                    # break\n",
    "                # break\n",
    "                df_result = pd.concat([df_result,df_ksa_mgrs_tmp])\n",
    "    \n",
    "            df_result = df_result[['idpoint','MGRS','Sigma0_VH_db','periode']]\n",
    "            with open('/data/ksa/03_Sampling/data/'+idprov+'/sampling_'+mgrs+'.pkl', 'wb') as f:\n",
    "                pickle.dump(df_result, f)\n",
    "            \n",
    "            print(\"done sampling for : \"+ mgrs)\n",
    "            # break\n",
    "        except: \n",
    "            print(\"Error on : \"+ mgrs)\n",
    "    else:\n",
    "        print(mgrs + \" not available\")\n",
    "        continue\n",
    "    # break"
   ]
  },
  {
   "cell_type": "code",
   "execution_count": 7,
   "id": "9df8c6c8-a499-4b28-baff-7cfc266a2580",
   "metadata": {},
   "outputs": [
    {
     "data": {
      "text/plain": [
       "['54LVR',\n",
       " '54LVS',\n",
       " '53MNS',\n",
       " '53MPQ',\n",
       " '53MPR',\n",
       " '54MVT',\n",
       " '54MUT',\n",
       " '54MUV',\n",
       " '54MVV']"
      ]
     },
     "execution_count": 7,
     "metadata": {},
     "output_type": "execute_result"
    }
   ],
   "source": [
    "## Cek error mgrs\n",
    "mgrs_done_ = os.listdir('/data/ksa/03_Sampling/data/'+idprov+'/') \n",
    "mgrs_done_ = [x[-9:-4] for x in mgrs_done_]\n",
    "\n",
    "mgrs_not_done_ = [x for x in mgrs_all_ if x not in mgrs_done_]\n",
    "mgrs_not_done_"
   ]
  },
  {
   "cell_type": "markdown",
   "id": "3d70785c-f551-45d7-98cd-b3958c942f29",
   "metadata": {},
   "source": [
    "### Cek "
   ]
  },
  {
   "cell_type": "code",
   "execution_count": 9,
   "id": "a44e485d-6975-4966-ba5a-34deeadb1fe8",
   "metadata": {},
   "outputs": [
    {
     "ename": "NameError",
     "evalue": "name 'df_' is not defined",
     "output_type": "error",
     "traceback": [
      "\u001b[0;31m---------------------------------------------------------------------------\u001b[0m",
      "\u001b[0;31mNameError\u001b[0m                                 Traceback (most recent call last)",
      "Cell \u001b[0;32mIn[9], line 3\u001b[0m\n\u001b[1;32m      1\u001b[0m \u001b[38;5;66;03m## Cek VH Value Overtime on One Point\u001b[39;00m\n\u001b[0;32m----> 3\u001b[0m filtered_df \u001b[38;5;241m=\u001b[39m \u001b[43mdf_\u001b[49m\u001b[38;5;241m.\u001b[39mquery(\u001b[38;5;124m'\u001b[39m\u001b[38;5;124midpoint == \u001b[39m\u001b[38;5;124m\"\u001b[39m\u001b[38;5;124m321201001A1#02\u001b[39m\u001b[38;5;124m\"\u001b[39m\u001b[38;5;124m'\u001b[39m)\u001b[38;5;241m.\u001b[39msort_values(\u001b[38;5;124m'\u001b[39m\u001b[38;5;124mperiode\u001b[39m\u001b[38;5;124m'\u001b[39m)\n\u001b[1;32m      5\u001b[0m plt\u001b[38;5;241m.\u001b[39mfigure(figsize\u001b[38;5;241m=\u001b[39m(\u001b[38;5;241m10\u001b[39m, \u001b[38;5;241m6\u001b[39m))\n\u001b[1;32m      6\u001b[0m plt\u001b[38;5;241m.\u001b[39mplot(filtered_df[\u001b[38;5;124m'\u001b[39m\u001b[38;5;124mperiode\u001b[39m\u001b[38;5;124m'\u001b[39m], filtered_df[\u001b[38;5;124m'\u001b[39m\u001b[38;5;124mSigma0_VH_db\u001b[39m\u001b[38;5;124m'\u001b[39m], marker\u001b[38;5;241m=\u001b[39m\u001b[38;5;124m'\u001b[39m\u001b[38;5;124mo\u001b[39m\u001b[38;5;124m'\u001b[39m)\n",
      "\u001b[0;31mNameError\u001b[0m: name 'df_' is not defined"
     ]
    }
   ],
   "source": [
    "## Cek VH Value Overtime on One Point\n",
    "\n",
    "filtered_df = df_.query('idpoint == \"321201001A1#02\"').sort_values('periode')\n",
    "\n",
    "plt.figure(figsize=(10, 6))\n",
    "plt.plot(filtered_df['periode'], filtered_df['Sigma0_VH_db'], marker='o')\n",
    "\n",
    "plt.title('Sigma0_VH_db over Time for idpoint \"321201003B2#13\"')\n",
    "plt.xlabel('Periode')\n",
    "plt.ylabel('Sigma0_VH_db')\n",
    "plt.grid(True)\n",
    "plt.xticks(rotation=45)  # Rotate x-axis labels if needed\n",
    "\n",
    "plt.tight_layout()\n",
    "plt.show()"
   ]
  },
  {
   "cell_type": "code",
   "execution_count": null,
   "id": "6bb45499-41dc-4b75-b027-829b58f423a6",
   "metadata": {},
   "outputs": [],
   "source": [
    "## Open one Sampling Data\n",
    "\n",
    "mgrs = '49LDM'\n",
    "with open('/data/ksa/03_Sampling/data/'+idprov+'/sampling_'+mgrs+'.pkl', 'rb') as f:\n",
    "    df_ = pickle.load(f)\n",
    "\n",
    "df_.head()"
   ]
  },
  {
   "cell_type": "code",
   "execution_count": null,
   "id": "9267319c-3c9a-425b-be35-308439b8be73",
   "metadata": {},
   "outputs": [],
   "source": [
    "df_.describe()"
   ]
  }
 ],
 "metadata": {
  "kernelspec": {
   "display_name": "Python 3 (ipykernel)",
   "language": "python",
   "name": "python3"
  },
  "language_info": {
   "codemirror_mode": {
    "name": "ipython",
    "version": 3
   },
   "file_extension": ".py",
   "mimetype": "text/x-python",
   "name": "python",
   "nbconvert_exporter": "python",
   "pygments_lexer": "ipython3",
   "version": "3.10.14"
  }
 },
 "nbformat": 4,
 "nbformat_minor": 5
}
