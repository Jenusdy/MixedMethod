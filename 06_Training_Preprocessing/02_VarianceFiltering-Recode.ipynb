{
 "cells": [
  {
   "cell_type": "code",
   "execution_count": 1,
   "id": "a8ece378-1dae-4a53-9763-565e5133d2df",
   "metadata": {},
   "outputs": [],
   "source": [
    "import pickle\n",
    "import polars as pl\n",
    "from datetime import datetime, timedelta\n",
    "import numpy as np\n",
    "from glob import glob\n",
    "from tqdm import tqdm\n",
    "import concurrent.futures\n",
    "import os\n",
    "import sys\n",
    "import pandas as pd\n",
    "import geopandas as gpd\n",
    "\n",
    "from tqdm import tqdm"
   ]
  },
  {
   "cell_type": "code",
   "execution_count": 2,
   "id": "eb6a772c-2dc3-4e36-bfc5-442d166f35b9",
   "metadata": {},
   "outputs": [],
   "source": [
    "idprov='95'\n",
    "df_distance=pd.read_csv('/data/raw/processed/idsub_distance_selindo.csv')\n",
    "data_cluster=gpd.read_file(f'/data/ksa/00_Data_Input/cluster_data/cluster_{idprov}_ok.gpkg')"
   ]
  },
  {
   "cell_type": "code",
   "execution_count": 3,
   "id": "1c7f95e5-8883-4291-8463-bf919b8f6e50",
   "metadata": {},
   "outputs": [],
   "source": [
    "prov_pickle_wide=glob(f'/data/ksa/04_Data_Preprocessing/{idprov}/01_imputation/wide_data/sampling_VH_*.pkl')"
   ]
  },
  {
   "cell_type": "code",
   "execution_count": 4,
   "id": "40bb5415-104f-4194-8674-7f2baecf0a29",
   "metadata": {},
   "outputs": [
    {
     "name": "stderr",
     "output_type": "stream",
     "text": [
      "100%|██████████| 4/4 [00:00<00:00,  9.64it/s]\n"
     ]
    }
   ],
   "source": [
    "dfs = []\n",
    "\n",
    "for pkl_file in tqdm(prov_pickle_wide):\n",
    "    df = pd.read_pickle(pkl_file).dropna()\n",
    "    df['idkabkota']=df.idsubsegment.apply(lambda y: y[:4])\n",
    "    df['observation']=df.observation.apply(lambda y: int(y))\n",
    "    pl_df=pl.from_pandas(df\n",
    "                        )\n",
    "    #print(pl_df.columns)\n",
    "    #pl_df = pl_df.with_columns([pl.col(\"observation \").cast(pl.Int64)])\n",
    "    dfs.append(pl_df)\n",
    "pl_df_combined = pl.concat(dfs, how=\"vertical\")\n",
    "#pl_df_combined = pl.from_pandas(combined_df)\n"
   ]
  },
  {
   "cell_type": "code",
   "execution_count": 5,
   "id": "9c45d838-8649-422b-905e-2daa95474d8b",
   "metadata": {},
   "outputs": [],
   "source": [
    "#just for 94\n",
    "data_cluster['cluster_data']=0\n",
    "cluster_data=pl.from_pandas(data_cluster[['idkab','cluster_data']])\n",
    "pl_df_combined=pl_df_combined.join(cluster_data,left_on='idkabkota',right_on='idkab',how='left')"
   ]
  },
  {
   "cell_type": "code",
   "execution_count": 10,
   "id": "e772f3fe-e893-4c5a-aee7-886feccfa896",
   "metadata": {},
   "outputs": [
    {
     "data": {
      "text/html": [
       "<div><style>\n",
       ".dataframe > thead > tr,\n",
       ".dataframe > tbody > tr {\n",
       "  text-align: right;\n",
       "  white-space: pre-wrap;\n",
       "}\n",
       "</style>\n",
       "<small>shape: (120_700, 41)</small><table border=\"1\" class=\"dataframe\"><thead><tr><th>idpoint</th><th>idsubsegment</th><th>idsegment</th><th>nth</th><th>periode</th><th>observation</th><th>class</th><th>MGRS</th><th>VH_30</th><th>VH_29</th><th>VH_28</th><th>VH_27</th><th>VH_26</th><th>VH_25</th><th>VH_24</th><th>VH_23</th><th>VH_22</th><th>VH_21</th><th>VH_20</th><th>VH_19</th><th>VH_18</th><th>VH_17</th><th>VH_16</th><th>VH_15</th><th>VH_14</th><th>VH_13</th><th>VH_12</th><th>VH_11</th><th>VH_10</th><th>VH_9</th><th>VH_8</th><th>VH_7</th><th>VH_6</th><th>VH_5</th><th>VH_4</th><th>VH_3</th><th>VH_2</th><th>VH_1</th><th>VH_0</th><th>idkabkota</th><th>cluster_data</th></tr><tr><td>str</td><td>str</td><td>str</td><td>i64</td><td>str</td><td>i64</td><td>str</td><td>str</td><td>f64</td><td>f64</td><td>f64</td><td>f64</td><td>f64</td><td>f64</td><td>f64</td><td>f64</td><td>f64</td><td>f64</td><td>f64</td><td>f64</td><td>f64</td><td>f64</td><td>f64</td><td>f64</td><td>f64</td><td>f64</td><td>f64</td><td>f64</td><td>f64</td><td>f64</td><td>f64</td><td>f64</td><td>f64</td><td>f64</td><td>f64</td><td>f64</td><td>f64</td><td>f64</td><td>f64</td><td>str</td><td>i64</td></tr></thead><tbody><tr><td>&quot;950104309A1#01&quot;</td><td>&quot;950104309A1&quot;</td><td>&quot;950104309&quot;</td><td>1</td><td>&quot;2022_03&quot;</td><td>6</td><td>&quot;NP&quot;</td><td>&quot;54LVS&quot;</td><td>-15.267017</td><td>-14.505255</td><td>-15.425903</td><td>-16.468752</td><td>-15.627224</td><td>-15.67943</td><td>-15.264399</td><td>-16.188999</td><td>-15.769554</td><td>-16.772329</td><td>-17.113848</td><td>-16.765179</td><td>-19.450386</td><td>-17.435328</td><td>-16.587332</td><td>-16.501287</td><td>-15.820472</td><td>-15.738201</td><td>-15.050714</td><td>-14.105463</td><td>-14.744896</td><td>-14.693724</td><td>-15.387698</td><td>-15.514237</td><td>-15.765416</td><td>-16.104027</td><td>-17.272125</td><td>-16.202618</td><td>-14.917972</td><td>-16.494663</td><td>-16.100204</td><td>&quot;9501&quot;</td><td>0</td></tr><tr><td>&quot;950104309A1#02&quot;</td><td>&quot;950104309A1&quot;</td><td>&quot;950104309&quot;</td><td>1</td><td>&quot;2022_03&quot;</td><td>6</td><td>&quot;NP&quot;</td><td>&quot;54LVS&quot;</td><td>-15.545425</td><td>-15.136057</td><td>-15.97317</td><td>-17.092134</td><td>-16.018103</td><td>-16.06563</td><td>-15.707749</td><td>-15.444011</td><td>-16.835285</td><td>-16.94595</td><td>-17.10266</td><td>-16.431044</td><td>-19.080738</td><td>-17.223346</td><td>-16.667591</td><td>-16.310491</td><td>-15.295516</td><td>-15.883364</td><td>-15.051763</td><td>-13.971258</td><td>-14.907809</td><td>-15.666601</td><td>-15.087698</td><td>-15.614631</td><td>-15.689068</td><td>-16.272843</td><td>-17.239288</td><td>-16.640381</td><td>-16.259346</td><td>-16.897736</td><td>-16.604695</td><td>&quot;9501&quot;</td><td>0</td></tr><tr><td>&quot;950104309A1#03&quot;</td><td>&quot;950104309A1&quot;</td><td>&quot;950104309&quot;</td><td>1</td><td>&quot;2022_03&quot;</td><td>6</td><td>&quot;NP&quot;</td><td>&quot;54LVS&quot;</td><td>-15.081805</td><td>-15.582939</td><td>-15.974492</td><td>-16.269899</td><td>-16.528959</td><td>-16.576262</td><td>-16.493195</td><td>-16.496466</td><td>-17.144741</td><td>-17.412956</td><td>-17.282543</td><td>-16.714308</td><td>-18.088755</td><td>-16.847383</td><td>-16.576366</td><td>-15.831636</td><td>-15.072727</td><td>-14.711138</td><td>-14.698113</td><td>-14.102802</td><td>-14.912554</td><td>-15.311652</td><td>-16.18298</td><td>-15.937101</td><td>-15.723689</td><td>-16.45885</td><td>-17.293987</td><td>-16.61751</td><td>-16.209307</td><td>-16.555347</td><td>-16.168014</td><td>&quot;9501&quot;</td><td>0</td></tr><tr><td>&quot;950104309A1#04&quot;</td><td>&quot;950104309A1&quot;</td><td>&quot;950104309&quot;</td><td>1</td><td>&quot;2022_03&quot;</td><td>6</td><td>&quot;NP&quot;</td><td>&quot;54LVS&quot;</td><td>-15.190509</td><td>-15.490117</td><td>-15.608857</td><td>-16.205917</td><td>-15.366982</td><td>-16.260111</td><td>-16.710827</td><td>-16.205597</td><td>-17.819567</td><td>-18.102028</td><td>-17.404493</td><td>-15.598152</td><td>-18.840685</td><td>-16.956352</td><td>-16.709345</td><td>-16.044848</td><td>-15.358318</td><td>-14.510735</td><td>-15.340473</td><td>-16.003563</td><td>-15.585822</td><td>-15.052164</td><td>-16.638023</td><td>-16.042763</td><td>-16.385624</td><td>-15.943397</td><td>-15.712965</td><td>-15.754011</td><td>-15.129875</td><td>-15.824692</td><td>-16.214305</td><td>&quot;9501&quot;</td><td>0</td></tr><tr><td>&quot;950104309A1#05&quot;</td><td>&quot;950104309A1&quot;</td><td>&quot;950104309&quot;</td><td>1</td><td>&quot;2022_03&quot;</td><td>6</td><td>&quot;NP&quot;</td><td>&quot;54LVS&quot;</td><td>-15.919489</td><td>-16.890448</td><td>-16.223655</td><td>-16.522982</td><td>-15.240166</td><td>-16.376899</td><td>-17.043068</td><td>-15.80102</td><td>-18.248425</td><td>-17.090389</td><td>-17.169501</td><td>-15.574532</td><td>-18.647285</td><td>-16.956173</td><td>-17.257921</td><td>-15.909712</td><td>-15.124194</td><td>-13.601419</td><td>-14.709009</td><td>-15.096437</td><td>-14.959707</td><td>-15.142719</td><td>-15.71074</td><td>-15.664811</td><td>-16.193209</td><td>-15.981299</td><td>-15.515672</td><td>-16.416261</td><td>-16.837654</td><td>-16.892063</td><td>-17.251857</td><td>&quot;9501&quot;</td><td>0</td></tr><tr><td>&hellip;</td><td>&hellip;</td><td>&hellip;</td><td>&hellip;</td><td>&hellip;</td><td>&hellip;</td><td>&hellip;</td><td>&hellip;</td><td>&hellip;</td><td>&hellip;</td><td>&hellip;</td><td>&hellip;</td><td>&hellip;</td><td>&hellip;</td><td>&hellip;</td><td>&hellip;</td><td>&hellip;</td><td>&hellip;</td><td>&hellip;</td><td>&hellip;</td><td>&hellip;</td><td>&hellip;</td><td>&hellip;</td><td>&hellip;</td><td>&hellip;</td><td>&hellip;</td><td>&hellip;</td><td>&hellip;</td><td>&hellip;</td><td>&hellip;</td><td>&hellip;</td><td>&hellip;</td><td>&hellip;</td><td>&hellip;</td><td>&hellip;</td><td>&hellip;</td><td>&hellip;</td><td>&hellip;</td><td>&hellip;</td><td>&hellip;</td><td>&hellip;</td></tr><tr><td>&quot;950201003C3#21&quot;</td><td>&quot;950201003C3&quot;</td><td>&quot;950201003&quot;</td><td>12</td><td>&quot;2023_30&quot;</td><td>6</td><td>&quot;NV&quot;</td><td>&quot;54MVT&quot;</td><td>-13.868608</td><td>-13.662426</td><td>-14.59272</td><td>-13.557177</td><td>-12.090015</td><td>-13.528204</td><td>-14.6435</td><td>-13.936707</td><td>-13.007035</td><td>-12.299778</td><td>-12.341965</td><td>-11.913018</td><td>-12.414866</td><td>-13.297618</td><td>-12.344851</td><td>-17.368162</td><td>-15.596712</td><td>-16.105923</td><td>-16.044212</td><td>-14.943595</td><td>-17.336386</td><td>-15.635265</td><td>-14.562532</td><td>-15.053845</td><td>-15.372893</td><td>-13.903325</td><td>-15.008942</td><td>-15.75469</td><td>-15.480909</td><td>-15.697531</td><td>-15.941812</td><td>&quot;9502&quot;</td><td>0</td></tr><tr><td>&quot;950201003C3#22&quot;</td><td>&quot;950201003C3&quot;</td><td>&quot;950201003&quot;</td><td>12</td><td>&quot;2023_30&quot;</td><td>6</td><td>&quot;NV&quot;</td><td>&quot;54MVT&quot;</td><td>-14.220582</td><td>-14.394161</td><td>-14.994831</td><td>-13.972037</td><td>-13.354317</td><td>-13.471991</td><td>-13.391424</td><td>-13.167938</td><td>-12.747548</td><td>-12.30275</td><td>-13.896383</td><td>-10.821289</td><td>-13.354507</td><td>-14.393958</td><td>-14.5887</td><td>-18.662056</td><td>-16.771036</td><td>-16.248566</td><td>-16.968658</td><td>-17.360718</td><td>-16.730791</td><td>-16.07628</td><td>-14.401028</td><td>-15.635299</td><td>-15.803896</td><td>-15.919836</td><td>-15.524071</td><td>-15.787477</td><td>-14.939304</td><td>-14.144947</td><td>-14.067695</td><td>&quot;9502&quot;</td><td>0</td></tr><tr><td>&quot;950201003C3#23&quot;</td><td>&quot;950201003C3&quot;</td><td>&quot;950201003&quot;</td><td>12</td><td>&quot;2023_30&quot;</td><td>6</td><td>&quot;NV&quot;</td><td>&quot;54MVT&quot;</td><td>-14.56641</td><td>-15.32053</td><td>-14.75309</td><td>-14.700775</td><td>-15.092854</td><td>-14.357133</td><td>-13.482676</td><td>-14.133934</td><td>-13.746225</td><td>-14.468336</td><td>-13.947365</td><td>-11.391563</td><td>-13.817242</td><td>-15.024438</td><td>-15.647329</td><td>-18.865162</td><td>-17.089854</td><td>-17.133507</td><td>-16.84449</td><td>-16.044239</td><td>-16.128651</td><td>-16.053528</td><td>-15.455608</td><td>-15.952008</td><td>-16.339773</td><td>-15.859334</td><td>-15.785198</td><td>-16.00275</td><td>-15.166599</td><td>-14.389915</td><td>-14.280923</td><td>&quot;9502&quot;</td><td>0</td></tr><tr><td>&quot;950201003C3#24&quot;</td><td>&quot;950201003C3&quot;</td><td>&quot;950201003&quot;</td><td>12</td><td>&quot;2023_30&quot;</td><td>6</td><td>&quot;NV&quot;</td><td>&quot;54MVT&quot;</td><td>-15.183313</td><td>-15.700511</td><td>-14.941547</td><td>-14.976543</td><td>-15.144198</td><td>-14.591178</td><td>-13.937848</td><td>-14.31365</td><td>-13.905429</td><td>-14.883383</td><td>-13.78155</td><td>-11.289942</td><td>-13.13719</td><td>-15.096125</td><td>-16.636953</td><td>-18.66008</td><td>-17.494104</td><td>-17.966106</td><td>-17.237742</td><td>-16.342752</td><td>-16.139957</td><td>-16.116955</td><td>-15.516619</td><td>-15.889021</td><td>-16.114887</td><td>-15.613803</td><td>-15.944861</td><td>-16.794933</td><td>-15.530989</td><td>-14.617422</td><td>-14.713329</td><td>&quot;9502&quot;</td><td>0</td></tr><tr><td>&quot;950201003C3#25&quot;</td><td>&quot;950201003C3&quot;</td><td>&quot;950201003&quot;</td><td>12</td><td>&quot;2023_30&quot;</td><td>6</td><td>&quot;NV&quot;</td><td>&quot;54MVT&quot;</td><td>-14.853826</td><td>-14.820118</td><td>-15.234455</td><td>-14.592645</td><td>-13.473927</td><td>-14.555968</td><td>-15.32163</td><td>-14.64301</td><td>-14.246436</td><td>-14.723188</td><td>-12.86869</td><td>-13.29225</td><td>-12.931717</td><td>-13.959345</td><td>-14.500134</td><td>-15.295026</td><td>-15.470215</td><td>-16.367254</td><td>-15.942558</td><td>-15.54405</td><td>-16.493855</td><td>-15.802789</td><td>-15.298582</td><td>-15.673891</td><td>-15.384228</td><td>-15.468503</td><td>-16.282559</td><td>-18.003845</td><td>-16.361839</td><td>-15.42991</td><td>-15.885936</td><td>&quot;9502&quot;</td><td>0</td></tr></tbody></table></div>"
      ],
      "text/plain": [
       "shape: (120_700, 41)\n",
       "┌────────────┬────────────┬───────────┬─────┬───┬────────────┬────────────┬───────────┬────────────┐\n",
       "│ idpoint    ┆ idsubsegme ┆ idsegment ┆ nth ┆ … ┆ VH_1       ┆ VH_0       ┆ idkabkota ┆ cluster_da │\n",
       "│ ---        ┆ nt         ┆ ---       ┆ --- ┆   ┆ ---        ┆ ---        ┆ ---       ┆ ta         │\n",
       "│ str        ┆ ---        ┆ str       ┆ i64 ┆   ┆ f64        ┆ f64        ┆ str       ┆ ---        │\n",
       "│            ┆ str        ┆           ┆     ┆   ┆            ┆            ┆           ┆ i64        │\n",
       "╞════════════╪════════════╪═══════════╪═════╪═══╪════════════╪════════════╪═══════════╪════════════╡\n",
       "│ 950104309A ┆ 950104309A ┆ 950104309 ┆ 1   ┆ … ┆ -16.494663 ┆ -16.100204 ┆ 9501      ┆ 0          │\n",
       "│ 1#01       ┆ 1          ┆           ┆     ┆   ┆            ┆            ┆           ┆            │\n",
       "│ 950104309A ┆ 950104309A ┆ 950104309 ┆ 1   ┆ … ┆ -16.897736 ┆ -16.604695 ┆ 9501      ┆ 0          │\n",
       "│ 1#02       ┆ 1          ┆           ┆     ┆   ┆            ┆            ┆           ┆            │\n",
       "│ 950104309A ┆ 950104309A ┆ 950104309 ┆ 1   ┆ … ┆ -16.555347 ┆ -16.168014 ┆ 9501      ┆ 0          │\n",
       "│ 1#03       ┆ 1          ┆           ┆     ┆   ┆            ┆            ┆           ┆            │\n",
       "│ 950104309A ┆ 950104309A ┆ 950104309 ┆ 1   ┆ … ┆ -15.824692 ┆ -16.214305 ┆ 9501      ┆ 0          │\n",
       "│ 1#04       ┆ 1          ┆           ┆     ┆   ┆            ┆            ┆           ┆            │\n",
       "│ 950104309A ┆ 950104309A ┆ 950104309 ┆ 1   ┆ … ┆ -16.892063 ┆ -17.251857 ┆ 9501      ┆ 0          │\n",
       "│ 1#05       ┆ 1          ┆           ┆     ┆   ┆            ┆            ┆           ┆            │\n",
       "│ …          ┆ …          ┆ …         ┆ …   ┆ … ┆ …          ┆ …          ┆ …         ┆ …          │\n",
       "│ 950201003C ┆ 950201003C ┆ 950201003 ┆ 12  ┆ … ┆ -15.697531 ┆ -15.941812 ┆ 9502      ┆ 0          │\n",
       "│ 3#21       ┆ 3          ┆           ┆     ┆   ┆            ┆            ┆           ┆            │\n",
       "│ 950201003C ┆ 950201003C ┆ 950201003 ┆ 12  ┆ … ┆ -14.144947 ┆ -14.067695 ┆ 9502      ┆ 0          │\n",
       "│ 3#22       ┆ 3          ┆           ┆     ┆   ┆            ┆            ┆           ┆            │\n",
       "│ 950201003C ┆ 950201003C ┆ 950201003 ┆ 12  ┆ … ┆ -14.389915 ┆ -14.280923 ┆ 9502      ┆ 0          │\n",
       "│ 3#23       ┆ 3          ┆           ┆     ┆   ┆            ┆            ┆           ┆            │\n",
       "│ 950201003C ┆ 950201003C ┆ 950201003 ┆ 12  ┆ … ┆ -14.617422 ┆ -14.713329 ┆ 9502      ┆ 0          │\n",
       "│ 3#24       ┆ 3          ┆           ┆     ┆   ┆            ┆            ┆           ┆            │\n",
       "│ 950201003C ┆ 950201003C ┆ 950201003 ┆ 12  ┆ … ┆ -15.42991  ┆ -15.885936 ┆ 9502      ┆ 0          │\n",
       "│ 3#25       ┆ 3          ┆           ┆     ┆   ┆            ┆            ┆           ┆            │\n",
       "└────────────┴────────────┴───────────┴─────┴───┴────────────┴────────────┴───────────┴────────────┘"
      ]
     },
     "execution_count": 10,
     "metadata": {},
     "output_type": "execute_result"
    }
   ],
   "source": [
    "pl_df_combined"
   ]
  },
  {
   "cell_type": "markdown",
   "id": "0d364f37-e695-4230-91ec-d9a5ac7f978c",
   "metadata": {},
   "source": [
    "## Filter Distance"
   ]
  },
  {
   "cell_type": "code",
   "execution_count": 12,
   "id": "2422ed5a-31e7-49f9-bebd-7a5f069a0d02",
   "metadata": {},
   "outputs": [
    {
     "ename": "KeyError",
     "evalue": "'idsubsegment'",
     "output_type": "error",
     "traceback": [
      "\u001b[0;31m---------------------------------------------------------------------------\u001b[0m",
      "\u001b[0;31mKeyError\u001b[0m                                  Traceback (most recent call last)",
      "Cell \u001b[0;32mIn[12], line 1\u001b[0m\n\u001b[0;32m----> 1\u001b[0m df_distance_group\u001b[38;5;241m=\u001b[39m\u001b[43mdf_distance\u001b[49m\u001b[38;5;241;43m.\u001b[39;49m\u001b[43mgroupby\u001b[49m\u001b[43m(\u001b[49m\u001b[38;5;124;43m'\u001b[39;49m\u001b[38;5;124;43midsubsegment\u001b[39;49m\u001b[38;5;124;43m'\u001b[39;49m\u001b[43m)\u001b[49m[[\u001b[38;5;124m'\u001b[39m\u001b[38;5;124mdistance_m\u001b[39m\u001b[38;5;124m'\u001b[39m]]\u001b[38;5;241m.\u001b[39mmax()\u001b[38;5;241m.\u001b[39mreset_index()\\\n\u001b[1;32m      2\u001b[0m    \u001b[38;5;241m.\u001b[39mquery(\u001b[38;5;124m'\u001b[39m\u001b[38;5;124mdistance_m<=20\u001b[39m\u001b[38;5;124m'\u001b[39m)\u001b[38;5;241m.\u001b[39mquery(\u001b[38;5;124m'\u001b[39m\u001b[38;5;124midsubsegment.str.slice(0,2)==@idprov\u001b[39m\u001b[38;5;124m'\u001b[39m)\n",
      "File \u001b[0;32m~/.local/lib/python3.10/site-packages/pandas/core/frame.py:9183\u001b[0m, in \u001b[0;36mDataFrame.groupby\u001b[0;34m(self, by, axis, level, as_index, sort, group_keys, observed, dropna)\u001b[0m\n\u001b[1;32m   9180\u001b[0m \u001b[38;5;28;01mif\u001b[39;00m level \u001b[38;5;129;01mis\u001b[39;00m \u001b[38;5;28;01mNone\u001b[39;00m \u001b[38;5;129;01mand\u001b[39;00m by \u001b[38;5;129;01mis\u001b[39;00m \u001b[38;5;28;01mNone\u001b[39;00m:\n\u001b[1;32m   9181\u001b[0m     \u001b[38;5;28;01mraise\u001b[39;00m \u001b[38;5;167;01mTypeError\u001b[39;00m(\u001b[38;5;124m\"\u001b[39m\u001b[38;5;124mYou have to supply one of \u001b[39m\u001b[38;5;124m'\u001b[39m\u001b[38;5;124mby\u001b[39m\u001b[38;5;124m'\u001b[39m\u001b[38;5;124m and \u001b[39m\u001b[38;5;124m'\u001b[39m\u001b[38;5;124mlevel\u001b[39m\u001b[38;5;124m'\u001b[39m\u001b[38;5;124m\"\u001b[39m)\n\u001b[0;32m-> 9183\u001b[0m \u001b[38;5;28;01mreturn\u001b[39;00m \u001b[43mDataFrameGroupBy\u001b[49m\u001b[43m(\u001b[49m\n\u001b[1;32m   9184\u001b[0m \u001b[43m    \u001b[49m\u001b[43mobj\u001b[49m\u001b[38;5;241;43m=\u001b[39;49m\u001b[38;5;28;43mself\u001b[39;49m\u001b[43m,\u001b[49m\n\u001b[1;32m   9185\u001b[0m \u001b[43m    \u001b[49m\u001b[43mkeys\u001b[49m\u001b[38;5;241;43m=\u001b[39;49m\u001b[43mby\u001b[49m\u001b[43m,\u001b[49m\n\u001b[1;32m   9186\u001b[0m \u001b[43m    \u001b[49m\u001b[43maxis\u001b[49m\u001b[38;5;241;43m=\u001b[39;49m\u001b[43maxis\u001b[49m\u001b[43m,\u001b[49m\n\u001b[1;32m   9187\u001b[0m \u001b[43m    \u001b[49m\u001b[43mlevel\u001b[49m\u001b[38;5;241;43m=\u001b[39;49m\u001b[43mlevel\u001b[49m\u001b[43m,\u001b[49m\n\u001b[1;32m   9188\u001b[0m \u001b[43m    \u001b[49m\u001b[43mas_index\u001b[49m\u001b[38;5;241;43m=\u001b[39;49m\u001b[43mas_index\u001b[49m\u001b[43m,\u001b[49m\n\u001b[1;32m   9189\u001b[0m \u001b[43m    \u001b[49m\u001b[43msort\u001b[49m\u001b[38;5;241;43m=\u001b[39;49m\u001b[43msort\u001b[49m\u001b[43m,\u001b[49m\n\u001b[1;32m   9190\u001b[0m \u001b[43m    \u001b[49m\u001b[43mgroup_keys\u001b[49m\u001b[38;5;241;43m=\u001b[39;49m\u001b[43mgroup_keys\u001b[49m\u001b[43m,\u001b[49m\n\u001b[1;32m   9191\u001b[0m \u001b[43m    \u001b[49m\u001b[43mobserved\u001b[49m\u001b[38;5;241;43m=\u001b[39;49m\u001b[43mobserved\u001b[49m\u001b[43m,\u001b[49m\n\u001b[1;32m   9192\u001b[0m \u001b[43m    \u001b[49m\u001b[43mdropna\u001b[49m\u001b[38;5;241;43m=\u001b[39;49m\u001b[43mdropna\u001b[49m\u001b[43m,\u001b[49m\n\u001b[1;32m   9193\u001b[0m \u001b[43m\u001b[49m\u001b[43m)\u001b[49m\n",
      "File \u001b[0;32m~/.local/lib/python3.10/site-packages/pandas/core/groupby/groupby.py:1329\u001b[0m, in \u001b[0;36mGroupBy.__init__\u001b[0;34m(self, obj, keys, axis, level, grouper, exclusions, selection, as_index, sort, group_keys, observed, dropna)\u001b[0m\n\u001b[1;32m   1326\u001b[0m \u001b[38;5;28mself\u001b[39m\u001b[38;5;241m.\u001b[39mdropna \u001b[38;5;241m=\u001b[39m dropna\n\u001b[1;32m   1328\u001b[0m \u001b[38;5;28;01mif\u001b[39;00m grouper \u001b[38;5;129;01mis\u001b[39;00m \u001b[38;5;28;01mNone\u001b[39;00m:\n\u001b[0;32m-> 1329\u001b[0m     grouper, exclusions, obj \u001b[38;5;241m=\u001b[39m \u001b[43mget_grouper\u001b[49m\u001b[43m(\u001b[49m\n\u001b[1;32m   1330\u001b[0m \u001b[43m        \u001b[49m\u001b[43mobj\u001b[49m\u001b[43m,\u001b[49m\n\u001b[1;32m   1331\u001b[0m \u001b[43m        \u001b[49m\u001b[43mkeys\u001b[49m\u001b[43m,\u001b[49m\n\u001b[1;32m   1332\u001b[0m \u001b[43m        \u001b[49m\u001b[43maxis\u001b[49m\u001b[38;5;241;43m=\u001b[39;49m\u001b[43maxis\u001b[49m\u001b[43m,\u001b[49m\n\u001b[1;32m   1333\u001b[0m \u001b[43m        \u001b[49m\u001b[43mlevel\u001b[49m\u001b[38;5;241;43m=\u001b[39;49m\u001b[43mlevel\u001b[49m\u001b[43m,\u001b[49m\n\u001b[1;32m   1334\u001b[0m \u001b[43m        \u001b[49m\u001b[43msort\u001b[49m\u001b[38;5;241;43m=\u001b[39;49m\u001b[43msort\u001b[49m\u001b[43m,\u001b[49m\n\u001b[1;32m   1335\u001b[0m \u001b[43m        \u001b[49m\u001b[43mobserved\u001b[49m\u001b[38;5;241;43m=\u001b[39;49m\u001b[38;5;28;43;01mFalse\u001b[39;49;00m\u001b[43m \u001b[49m\u001b[38;5;28;43;01mif\u001b[39;49;00m\u001b[43m \u001b[49m\u001b[43mobserved\u001b[49m\u001b[43m \u001b[49m\u001b[38;5;129;43;01mis\u001b[39;49;00m\u001b[43m \u001b[49m\u001b[43mlib\u001b[49m\u001b[38;5;241;43m.\u001b[39;49m\u001b[43mno_default\u001b[49m\u001b[43m \u001b[49m\u001b[38;5;28;43;01melse\u001b[39;49;00m\u001b[43m \u001b[49m\u001b[43mobserved\u001b[49m\u001b[43m,\u001b[49m\n\u001b[1;32m   1336\u001b[0m \u001b[43m        \u001b[49m\u001b[43mdropna\u001b[49m\u001b[38;5;241;43m=\u001b[39;49m\u001b[38;5;28;43mself\u001b[39;49m\u001b[38;5;241;43m.\u001b[39;49m\u001b[43mdropna\u001b[49m\u001b[43m,\u001b[49m\n\u001b[1;32m   1337\u001b[0m \u001b[43m    \u001b[49m\u001b[43m)\u001b[49m\n\u001b[1;32m   1339\u001b[0m \u001b[38;5;28;01mif\u001b[39;00m observed \u001b[38;5;129;01mis\u001b[39;00m lib\u001b[38;5;241m.\u001b[39mno_default:\n\u001b[1;32m   1340\u001b[0m     \u001b[38;5;28;01mif\u001b[39;00m \u001b[38;5;28many\u001b[39m(ping\u001b[38;5;241m.\u001b[39m_passed_categorical \u001b[38;5;28;01mfor\u001b[39;00m ping \u001b[38;5;129;01min\u001b[39;00m grouper\u001b[38;5;241m.\u001b[39mgroupings):\n",
      "File \u001b[0;32m~/.local/lib/python3.10/site-packages/pandas/core/groupby/grouper.py:1043\u001b[0m, in \u001b[0;36mget_grouper\u001b[0;34m(obj, key, axis, level, sort, observed, validate, dropna)\u001b[0m\n\u001b[1;32m   1041\u001b[0m         in_axis, level, gpr \u001b[38;5;241m=\u001b[39m \u001b[38;5;28;01mFalse\u001b[39;00m, gpr, \u001b[38;5;28;01mNone\u001b[39;00m\n\u001b[1;32m   1042\u001b[0m     \u001b[38;5;28;01melse\u001b[39;00m:\n\u001b[0;32m-> 1043\u001b[0m         \u001b[38;5;28;01mraise\u001b[39;00m \u001b[38;5;167;01mKeyError\u001b[39;00m(gpr)\n\u001b[1;32m   1044\u001b[0m \u001b[38;5;28;01melif\u001b[39;00m \u001b[38;5;28misinstance\u001b[39m(gpr, Grouper) \u001b[38;5;129;01mand\u001b[39;00m gpr\u001b[38;5;241m.\u001b[39mkey \u001b[38;5;129;01mis\u001b[39;00m \u001b[38;5;129;01mnot\u001b[39;00m \u001b[38;5;28;01mNone\u001b[39;00m:\n\u001b[1;32m   1045\u001b[0m     \u001b[38;5;66;03m# Add key to exclusions\u001b[39;00m\n\u001b[1;32m   1046\u001b[0m     exclusions\u001b[38;5;241m.\u001b[39madd(gpr\u001b[38;5;241m.\u001b[39mkey)\n",
      "\u001b[0;31mKeyError\u001b[0m: 'idsubsegment'"
     ]
    }
   ],
   "source": [
    "df_distance_group=df_distance.groupby('idsubsegment')[['distance_m']].max().reset_index()\\\n",
    "   .query('distance_m<=20').query('idsubsegment.str.slice(0,2)==@idprov')"
   ]
  },
  {
   "cell_type": "code",
   "execution_count": 11,
   "id": "09e2a0ff-814d-4611-be1e-b341558af6b1",
   "metadata": {},
   "outputs": [
    {
     "data": {
      "text/html": [
       "<div>\n",
       "<style scoped>\n",
       "    .dataframe tbody tr th:only-of-type {\n",
       "        vertical-align: middle;\n",
       "    }\n",
       "\n",
       "    .dataframe tbody tr th {\n",
       "        vertical-align: top;\n",
       "    }\n",
       "\n",
       "    .dataframe thead th {\n",
       "        text-align: right;\n",
       "    }\n",
       "</style>\n",
       "<table border=\"1\" class=\"dataframe\">\n",
       "  <thead>\n",
       "    <tr style=\"text-align: right;\">\n",
       "      <th></th>\n",
       "      <th>idsubsegmen_repair</th>\n",
       "      <th>distance_m</th>\n",
       "    </tr>\n",
       "  </thead>\n",
       "  <tbody>\n",
       "  </tbody>\n",
       "</table>\n",
       "</div>"
      ],
      "text/plain": [
       "Empty DataFrame\n",
       "Columns: [idsubsegmen_repair, distance_m]\n",
       "Index: []"
      ]
     },
     "execution_count": 11,
     "metadata": {},
     "output_type": "execute_result"
    }
   ],
   "source": [
    "df_distance_group"
   ]
  },
  {
   "cell_type": "code",
   "execution_count": 7,
   "id": "99342a58-5aa1-4f33-b32f-7e69e74ac611",
   "metadata": {},
   "outputs": [],
   "source": [
    "ls_idsubsegmen=df_distance_group.idsubsegmen_repair.to_list()"
   ]
  },
  {
   "cell_type": "code",
   "execution_count": 8,
   "id": "5e723788-485f-46ca-b233-7d86dcb1d499",
   "metadata": {},
   "outputs": [],
   "source": [
    "pl_train1=pl_df_combined.filter(pl.col(\"idsubsegment\").is_in(ls_idsubsegmen))"
   ]
  },
  {
   "cell_type": "code",
   "execution_count": 9,
   "id": "46afc70b-81ff-4a87-b1ff-d930ff17e843",
   "metadata": {},
   "outputs": [
    {
     "data": {
      "text/plain": [
       "(0, 41)"
      ]
     },
     "execution_count": 9,
     "metadata": {},
     "output_type": "execute_result"
    }
   ],
   "source": [
    "pl_train1.shape"
   ]
  },
  {
   "cell_type": "markdown",
   "id": "bdc81a60-7c58-48be-8215-1a333d1ec286",
   "metadata": {},
   "source": [
    "## Create the variance per observation per VH_0 per cluster"
   ]
  },
  {
   "cell_type": "code",
   "execution_count": 22,
   "id": "2712102c-6006-4d00-9c67-106666081885",
   "metadata": {},
   "outputs": [],
   "source": [
    "dt_var=pl_train1.group_by(['periode','idsubsegment','cluster_data','observation']).agg([\n",
    "    pl.col(\"VH_0\").var().alias(\"Sigma0VH_variance\")])"
   ]
  },
  {
   "cell_type": "code",
   "execution_count": 23,
   "id": "8c1fb631-592b-4933-b29f-2234947d2b36",
   "metadata": {},
   "outputs": [
    {
     "name": "stdout",
     "output_type": "stream",
     "text": [
      "Cluster: 0  observation:  0\n",
      "679\n",
      "Cluster: 0  observation:  1\n",
      "529\n",
      "Cluster: 0  observation:  2\n",
      "489\n",
      "Cluster: 0  observation:  3\n",
      "580\n",
      "Cluster: 0  observation:  4\n",
      "570\n",
      "Cluster: 0  observation:  5\n",
      "408\n",
      "Cluster: 0  observation:  6\n",
      "1362\n"
     ]
    }
   ],
   "source": [
    "df_sample_train=[]\n",
    "for cl in cluster_data.to_pandas().cluster_data.unique():\n",
    "    dt_var_calc=dt_var.filter(pl.col(\"cluster_data\")==cl)\n",
    "    for obs in dt_var_calc.select(pl.col(\"observation\").unique()).to_pandas().observation:\n",
    "        print('Cluster:',cl,' observation: ',obs)\n",
    "        q10_obs=dt_var_calc.filter(pl.col(\"observation\")==obs).select(pl.col(\"Sigma0VH_variance\").quantile(0.30)).item()\n",
    "        df_true = dt_var_calc.filter(pl.col(\"observation\")==obs).filter(pl.col(\"Sigma0VH_variance\") <= q10_obs)\n",
    "        df_false=dt_var_calc.filter(pl.col(\"Sigma0VH_variance\") > q10_obs).sample(fraction=0.2,with_replacement=False)\n",
    "        df_rows=pl.concat([df_true,df_false], how=\"vertical\")\n",
    "        print(df_rows.shape[0])\n",
    "        \n",
    "        df_sample_train.append(df_rows)\n",
    "df_sample_train=pl.concat(df_sample_train,how='vertical')"
   ]
  },
  {
   "cell_type": "code",
   "execution_count": 24,
   "id": "f372e23b-cc66-4c3d-9434-8425c1619897",
   "metadata": {},
   "outputs": [],
   "source": [
    "pl_train_2=pl_train1.join(df_sample_train,on=['periode','idsubsegment','cluster_data','observation'],how='inner')"
   ]
  },
  {
   "cell_type": "code",
   "execution_count": 25,
   "id": "15393855-7d8a-4ed1-9ee4-79454c7727c3",
   "metadata": {},
   "outputs": [],
   "source": [
    "with open(f\"/data/ksa/04_Data_Preprocessing/training-test/{idprov}/training_VH.pkl\",'wb') as file:\n",
    "    pickle.dump(pl_train_2,file)"
   ]
  },
  {
   "cell_type": "code",
   "execution_count": 26,
   "id": "3022dc30-dfc5-4a7f-b19d-a41cf88c66a9",
   "metadata": {},
   "outputs": [],
   "source": [
    "with open(f\"/data/ksa/04_Data_Preprocessing/training-test/{idprov}/fulldataset_VH.pkl\",'wb') as file:\n",
    "    pickle.dump(pl_df_combined,file)"
   ]
  }
 ],
 "metadata": {
  "kernelspec": {
   "display_name": "Python 3 (ipykernel)",
   "language": "python",
   "name": "python3"
  },
  "language_info": {
   "codemirror_mode": {
    "name": "ipython",
    "version": 3
   },
   "file_extension": ".py",
   "mimetype": "text/x-python",
   "name": "python",
   "nbconvert_exporter": "python",
   "pygments_lexer": "ipython3",
   "version": "3.10.14"
  }
 },
 "nbformat": 4,
 "nbformat_minor": 5
}
