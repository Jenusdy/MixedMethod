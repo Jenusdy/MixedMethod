{
 "cells": [
  {
   "cell_type": "code",
   "execution_count": 1,
   "id": "e2026a56-49b2-4ea4-a314-57a5174c268e",
   "metadata": {},
   "outputs": [],
   "source": [
    "import pandas as pd\n",
    "from glob import glob\n",
    "from tqdm import tqdm\n",
    "import os\n",
    "import pickle\n"
   ]
  },
  {
   "cell_type": "code",
   "execution_count": 16,
   "id": "1f28d70c-64e5-4acb-9e9f-bb328726c225",
   "metadata": {},
   "outputs": [],
   "source": [
    "def get_all_file(idprov, band):\n",
    "    path_prov = '/data/ksa/03_Sampling/data-wide/'+idprov+'/'\n",
    "    all_files_ = glob(path_prov+'*.pkl')\n",
    "    files_ = [s for s in all_files_ if band in s]\n",
    "    return files_\n",
    "\n",
    "def get_all_file2(idprov, band):\n",
    "    path_prov = '/data/ksa/04_Data_Preprocessing/'+idprov+'/'\n",
    "    files_ = glob(path_prov+'*.pkl')\n",
    "    # files_ = [s for s in all_files_ if band in s]\n",
    "    return files_\n",
    "    \n",
    "def combine_all_data(band, idprov):\n",
    "    files = get_all_file(idprov, band)\n",
    "    df_sample_all = pd.DataFrame()\n",
    "    for i in files:\n",
    "        with open(i, 'rb') as f:\n",
    "            df_tmp = pickle.load(f)\n",
    "        df_sample_all = pd.concat([df_sample_all, df_tmp])\n",
    "    return df_sample_all\n",
    "\n",
    "def split_data(df, cutoff_date):\n",
    "    df['year'] = df['periode'].str[:4]\n",
    "    df['date'] = pd.to_datetime(df['year'].astype(str) + '-' + df['nth'].astype(str), format='%Y-%m')\n",
    "\n",
    "    # Split the dataset into training and testing sets\n",
    "    training_set = df[df['date'] <= cutoff_date]\n",
    "    testing_set = df[df['date'] > cutoff_date]\n",
    "\n",
    "    return training_set, testing_set"
   ]
  },
  {
   "cell_type": "code",
   "execution_count": null,
   "id": "5f9276a4-525e-4d58-b223-ee22e55a8791",
   "metadata": {},
   "outputs": [],
   "source": [
    "band = 'VV'\n",
    "idprov='32'\n",
    "cutoff_date = '2023-09-30'\n",
    "df_all = combine_all_data(band, idprov)\n",
    "df_train, df_test = split_data(df_all, '2023-09-30')"
   ]
  },
  {
   "cell_type": "code",
   "execution_count": null,
   "id": "bc3f82c9-5afe-4bb5-95db-371e6e1e38d1",
   "metadata": {},
   "outputs": [],
   "source": [
    "print(f'Training set: {len(df_train)} records')\n",
    "print(f'Testing set: {len(df_test)} records')\n",
    "print('Testing set proportion: ', str(round(100*(len(df_test))/(len(df_train)+len(df_test)) ,2)))"
   ]
  },
  {
   "cell_type": "code",
   "execution_count": null,
   "id": "24a560e8-0015-484c-9a84-09f86027157a",
   "metadata": {},
   "outputs": [],
   "source": [
    "with open('/data/ksa/04_Data_Preprocessing/training-test/32/training_'+idprov+'_'+band+'.pkl', 'wb') as f:\n",
    "    pickle.dump(df_train, f)\n",
    "\n",
    "with open('/data/ksa/04_Data_Preprocessing/training-test/32/testing_'+idprov+'_'+band+'.pkl', 'wb') as f:\n",
    "    pickle.dump(df_test, f)"
   ]
  },
  {
   "cell_type": "code",
   "execution_count": null,
   "id": "023d1ccb-b7e9-42cc-8ebb-ac6d6ff12ebc",
   "metadata": {},
   "outputs": [],
   "source": [
    "df_train.head()\n"
   ]
  }
 ],
 "metadata": {
  "kernelspec": {
   "display_name": "Python 3 (ipykernel)",
   "language": "python",
   "name": "python3"
  },
  "language_info": {
   "codemirror_mode": {
    "name": "ipython",
    "version": 3
   },
   "file_extension": ".py",
   "mimetype": "text/x-python",
   "name": "python",
   "nbconvert_exporter": "python",
   "pygments_lexer": "ipython3",
   "version": "3.10.14"
  }
 },
 "nbformat": 4,
 "nbformat_minor": 5
}
