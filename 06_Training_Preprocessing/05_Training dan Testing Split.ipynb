{
 "cells": [
  {
   "cell_type": "code",
   "execution_count": 2,
   "id": "e2026a56-49b2-4ea4-a314-57a5174c268e",
   "metadata": {},
   "outputs": [],
   "source": [
    "import pandas as pd\n",
    "from glob import glob\n",
    "from tqdm import tqdm\n",
    "import os\n",
    "import pickle\n"
   ]
  },
  {
   "cell_type": "code",
   "execution_count": 8,
   "id": "1f28d70c-64e5-4acb-9e9f-bb328726c225",
   "metadata": {},
   "outputs": [],
   "source": [
    "def get_all_file(idprov, band):\n",
    "    path_prov = '/data/ksa/03_Sampling/data-wide/'+idprov+'/'\n",
    "    all_files_ = glob(path_prov+'*.pkl')\n",
    "    files_ = [s for s in all_files_ if band in s]\n",
    "    return files_\n",
    "\n",
    "def get_all_file2(idprov, band):\n",
    "    path_prov = '/data/ksa/04_Data_Preprocessing/'+idprov+'/01_imputation/wide_data/'\n",
    "    all_files_ = glob(path_prov+'*.pkl')\n",
    "    files_ = [s for s in all_files_ if band in s]\n",
    "    return files_\n",
    "    \n",
    "def combine_all_data(band, idprov):\n",
    "    files = get_all_file(idprov, band)\n",
    "    df_sample_all = pd.DataFrame()\n",
    "    for i in files:\n",
    "        with open(i, 'rb') as f:\n",
    "            df_tmp = pickle.load(f)\n",
    "        df_sample_all = pd.concat([df_sample_all, df_tmp])\n",
    "    return df_sample_all\n",
    "\n",
    "def combine_all_data2(band, idprov):\n",
    "    files = get_all_file2(idprov, band)\n",
    "    df_sample_all = pd.DataFrame()\n",
    "    for i in files:\n",
    "        with open(i, 'rb') as f:\n",
    "            df_tmp = pickle.load(f)\n",
    "        df_sample_all = pd.concat([df_sample_all, df_tmp])\n",
    "    return df_sample_all\n",
    "\n",
    "def split_data(df, cutoff_date):\n",
    "    df['year'] = df['periode'].str[:4]\n",
    "    df['date'] = pd.to_datetime(df['year'].astype(str) + '-' + df['nth'].astype(str), format='%Y-%m')\n",
    "\n",
    "    # Split the dataset into training and testing sets\n",
    "    training_set = df[df['date'] <= cutoff_date]\n",
    "    testing_set = df[df['date'] > cutoff_date]\n",
    "\n",
    "    return training_set, testing_set"
   ]
  },
  {
   "cell_type": "code",
   "execution_count": 11,
   "id": "3a5643c4-b838-441d-96a4-42ccd16e2e2e",
   "metadata": {},
   "outputs": [],
   "source": [
    "# combine_all_data2(band, idprov).isna().sum()"
   ]
  },
  {
   "cell_type": "code",
   "execution_count": 16,
   "id": "5f9276a4-525e-4d58-b223-ee22e55a8791",
   "metadata": {},
   "outputs": [],
   "source": [
    "band = 'VV'\n",
    "idprov='32'\n",
    "cutoff_date = '2023-09-30'\n",
    "df_all = combine_all_data2(band, idprov)\n",
    "df_train, df_test = split_data(df_all, '2023-09-30')"
   ]
  },
  {
   "cell_type": "code",
   "execution_count": 20,
   "id": "bc3f82c9-5afe-4bb5-95db-371e6e1e38d1",
   "metadata": {},
   "outputs": [
    {
     "name": "stdout",
     "output_type": "stream",
     "text": [
      "Training set: 10767550 records\n",
      "Testing set: 1519550 records\n",
      "Testing set proportion:  12.37\n"
     ]
    }
   ],
   "source": [
    "print(f'Training set: {len(df_train)} records')\n",
    "print(f'Testing set: {len(df_test)} records')\n",
    "print('Testing set proportion: ', str(round(100*(len(df_test))/(len(df_train)+len(df_test)) ,2)))"
   ]
  },
  {
   "cell_type": "code",
   "execution_count": null,
   "id": "24a560e8-0015-484c-9a84-09f86027157a",
   "metadata": {},
   "outputs": [],
   "source": [
    "with open('/data/ksa/04_Data_Preprocessing/training-test/'+idprov+'/training_imputation_'+idprov+'_'+band+'.pkl', 'wb') as f:\n",
    "    pickle.dump(df_train, f)\n",
    "\n",
    "with open('/data/ksa/04_Data_Preprocessing/training-test/'+idprov+'/testing_imputation_'+idprov+'_'+band+'.pkl', 'wb') as f:\n",
    "    pickle.dump(df_test, f)"
   ]
  },
  {
   "cell_type": "markdown",
   "id": "fe749859-3f67-4fa1-8f8f-26a3defe6bc2",
   "metadata": {},
   "source": [
    "## cek"
   ]
  },
  {
   "cell_type": "code",
   "execution_count": 3,
   "id": "d00b92ad-c078-48c2-a75b-206f24ce11a5",
   "metadata": {},
   "outputs": [],
   "source": [
    "band = 'VV'\n",
    "idprov='32'\n",
    "with open('/data/ksa/04_Data_Preprocessing/training-test/'+idprov+'/training_imputation_'+idprov+'_'+band+'.pkl', 'rb') as f:\n",
    "    df = pickle.load(f)"
   ]
  },
  {
   "cell_type": "code",
   "execution_count": 5,
   "id": "509ad3ce-681b-4239-9415-f1ce1c160948",
   "metadata": {},
   "outputs": [
    {
     "data": {
      "text/plain": [
       "observation\n",
       "0.0    1242600\n",
       "1.0    1683475\n",
       "2.0    1302225\n",
       "3.0    1846325\n",
       "4.0    1263575\n",
       "5.0     760750\n",
       "6.0    1381675\n",
       "7.0    1263550\n",
       "dtype: int64"
      ]
     },
     "execution_count": 5,
     "metadata": {},
     "output_type": "execute_result"
    }
   ],
   "source": [
    "df.groupby('observation').size()"
   ]
  },
  {
   "cell_type": "code",
   "execution_count": 19,
   "id": "023d1ccb-b7e9-42cc-8ebb-ac6d6ff12ebc",
   "metadata": {},
   "outputs": [
    {
     "data": {
      "text/plain": [
       "idpoint             0\n",
       "idsubsegment        0\n",
       "idsegment           0\n",
       "nth                 0\n",
       "periode             0\n",
       "observation     23375\n",
       "class           23375\n",
       "MGRS                0\n",
       "VV_30               0\n",
       "VV_29               0\n",
       "VV_28               0\n",
       "VV_27               0\n",
       "VV_26               0\n",
       "VV_25               0\n",
       "VV_24               0\n",
       "VV_23               0\n",
       "VV_22               0\n",
       "VV_21               0\n",
       "VV_20               0\n",
       "VV_19               0\n",
       "VV_18               0\n",
       "VV_17               0\n",
       "VV_16               0\n",
       "VV_15               0\n",
       "VV_14               0\n",
       "VV_13               0\n",
       "VV_12               0\n",
       "VV_11               0\n",
       "VV_10               0\n",
       "VV_9                0\n",
       "VV_8                0\n",
       "VV_7                0\n",
       "VV_6                0\n",
       "VV_5                0\n",
       "VV_4                0\n",
       "VV_3                0\n",
       "VV_2                0\n",
       "VV_1                0\n",
       "VV_0                0\n",
       "year                0\n",
       "date                0\n",
       "dtype: int64"
      ]
     },
     "execution_count": 19,
     "metadata": {},
     "output_type": "execute_result"
    }
   ],
   "source": [
    "df_train.isna().sum()\n"
   ]
  }
 ],
 "metadata": {
  "kernelspec": {
   "display_name": "Python 3 (ipykernel)",
   "language": "python",
   "name": "python3"
  },
  "language_info": {
   "codemirror_mode": {
    "name": "ipython",
    "version": 3
   },
   "file_extension": ".py",
   "mimetype": "text/x-python",
   "name": "python",
   "nbconvert_exporter": "python",
   "pygments_lexer": "ipython3",
   "version": "3.10.14"
  }
 },
 "nbformat": 4,
 "nbformat_minor": 5
}
