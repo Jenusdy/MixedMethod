{
 "cells": [
  {
   "cell_type": "code",
   "execution_count": 32,
   "id": "8dfbcfef-b89a-43bd-899e-9f1ec569f514",
   "metadata": {},
   "outputs": [
    {
     "name": "stdout",
     "output_type": "stream",
     "text": [
      "Trained SOM weights:\n",
      "[[[-0.19786131 -0.32882646 -0.05820343 ... -0.0592632  -0.21464244\n",
      "    0.20589703]\n",
      "  [ 0.10210404  0.02052326  0.1386073  ...  0.01925841  0.14710839\n",
      "   -0.05521957]\n",
      "  [ 0.15426593  0.19380949 -0.06276283 ...  0.21031484  0.3166414\n",
      "   -0.26047532]\n",
      "  ...\n",
      "  [-0.11598037  0.21204181 -0.12845136 ...  0.12441296 -0.26314805\n",
      "    0.10697122]\n",
      "  [ 0.19556421  0.12941047  0.33237627 ...  0.35936321 -0.00381212\n",
      "   -0.16877822]\n",
      "  [-0.08160426  0.17150076 -0.13819759 ... -0.25958289 -0.05841381\n",
      "   -0.14818107]]\n",
      "\n",
      " [[-0.21878325 -0.35867264  0.12616449 ... -0.33645164  0.32294309\n",
      "    0.32408277]\n",
      "  [ 0.2641151  -0.30944888  0.17074407 ... -0.15510729 -0.13374559\n",
      "    0.31322811]\n",
      "  [-0.18204598 -0.34397725 -0.15010331 ... -0.16052233 -0.10025197\n",
      "   -0.15489028]\n",
      "  ...\n",
      "  [ 0.06247634 -0.22099509  0.14369696 ... -0.15826512  0.22967461\n",
      "    0.05408841]\n",
      "  [ 0.2323068  -0.29753625 -0.21774873 ... -0.05527262 -0.30536394\n",
      "    0.3022914 ]\n",
      "  [-0.30233135 -0.08927881 -0.10340576 ... -0.30202214  0.08303743\n",
      "    0.04962539]]\n",
      "\n",
      " [[ 0.06239784 -0.35308519  0.3699916  ...  0.22330769  0.30722186\n",
      "   -0.21724819]\n",
      "  [-0.16777097  0.09455519  0.35412208 ... -0.10202876  0.23549577\n",
      "    0.30418225]\n",
      "  [-0.28162924  0.20521531 -0.02595879 ...  0.22526192 -0.06754997\n",
      "    0.13617799]\n",
      "  ...\n",
      "  [ 0.30430082  0.16777426 -0.36073569 ... -0.10972311  0.09512978\n",
      "    0.21872849]\n",
      "  [-0.0144287   0.26280679 -0.16109002 ...  0.05046176  0.04244874\n",
      "   -0.23120925]\n",
      "  [-0.20648741  0.07169254  0.10737584 ... -0.06614538 -0.27328074\n",
      "    0.22626036]]\n",
      "\n",
      " ...\n",
      "\n",
      " [[-0.00135083 -0.21572481  0.10949915 ... -0.33406055  0.13802761\n",
      "   -0.34299866]\n",
      "  [ 0.26797622  0.28266115  0.18882009 ... -0.25753914  0.25906741\n",
      "   -0.22882777]\n",
      "  [-0.04363209 -0.23969939 -0.20750203 ...  0.0970039   0.29628845\n",
      "   -0.2872181 ]\n",
      "  ...\n",
      "  [ 0.40580834  0.64293444  0.34040609 ...  0.68391119  0.32902711\n",
      "    0.62837504]\n",
      "  [ 0.30552717  0.74715528  0.52231347 ...  0.44882542  0.41471596\n",
      "    0.63140081]\n",
      "  [ 0.25322204  0.66343799  0.33737857 ...  0.32774295  0.2367142\n",
      "    0.37014615]]\n",
      "\n",
      " [[ 0.27971707  0.16970047  0.24897485 ... -0.09608714 -0.3165722\n",
      "   -0.11511831]\n",
      "  [ 0.21271915 -0.17637486 -0.28084282 ...  0.2776419   0.33502047\n",
      "    0.14220853]\n",
      "  [-0.19633916  0.12963287  0.09610158 ... -0.02586348 -0.3794358\n",
      "    0.28746381]\n",
      "  ...\n",
      "  [ 0.50878103  0.57960649  0.55280277 ...  0.54467338  0.37715682\n",
      "    0.37876177]\n",
      "  [ 0.33853518  0.68428402  0.56651977 ...  0.33511521  0.5200004\n",
      "    0.50470056]\n",
      "  [ 0.14918541  0.29645386  0.14798268 ...  0.12593667  0.25315802\n",
      "    0.31294841]]\n",
      "\n",
      " [[-0.07859692  0.10300564  0.01253905 ... -0.4543105   0.26902328\n",
      "   -0.01050522]\n",
      "  [-0.20939186 -0.12138942  0.0846896  ...  0.05711809  0.25196908\n",
      "   -0.12977467]\n",
      "  [ 0.11284437 -0.01708715 -0.20724109 ... -0.0365339   0.35534554\n",
      "    0.06129183]\n",
      "  ...\n",
      "  [ 0.3140177   0.44816079  0.14692847 ...  0.20680752  0.05372968\n",
      "    0.25016195]\n",
      "  [ 0.14600301  0.40540385 -0.06308091 ... -0.02362893 -0.07344922\n",
      "    0.21198855]\n",
      "  [ 0.12549061  0.25709823  0.07806343 ...  0.12516578 -0.10454759\n",
      "   -0.2920348 ]]]\n"
     ]
    },
    {
     "ename": "ValueError",
     "evalue": "operands could not be broadcast together with shapes (9,) (10,10,22) ",
     "output_type": "error",
     "traceback": [
      "\u001b[0;31m---------------------------------------------------------------------------\u001b[0m",
      "\u001b[0;31mValueError\u001b[0m                                Traceback (most recent call last)",
      "Cell \u001b[0;32mIn[32], line 38\u001b[0m\n\u001b[1;32m     36\u001b[0m \u001b[38;5;66;03m# Test the SOM with a sample input\u001b[39;00m\n\u001b[1;32m     37\u001b[0m sample_input \u001b[38;5;241m=\u001b[39m np\u001b[38;5;241m.\u001b[39mrandom\u001b[38;5;241m.\u001b[39mrand(\u001b[38;5;241m9\u001b[39m)\n\u001b[0;32m---> 38\u001b[0m winner \u001b[38;5;241m=\u001b[39m \u001b[43msom\u001b[49m\u001b[38;5;241;43m.\u001b[39;49m\u001b[43mwinner\u001b[49m\u001b[43m(\u001b[49m\u001b[43msample_input\u001b[49m\u001b[43m)\u001b[49m\n\u001b[1;32m     39\u001b[0m \u001b[38;5;28mprint\u001b[39m(\u001b[38;5;124mf\u001b[39m\u001b[38;5;124m\"\u001b[39m\u001b[38;5;124mWinner neuron for input \u001b[39m\u001b[38;5;132;01m{\u001b[39;00msample_input\u001b[38;5;132;01m}\u001b[39;00m\u001b[38;5;124m: \u001b[39m\u001b[38;5;132;01m{\u001b[39;00mwinner\u001b[38;5;132;01m}\u001b[39;00m\u001b[38;5;124m\"\u001b[39m)\n",
      "File \u001b[0;32m~/.local/lib/python3.10/site-packages/minisom.py:319\u001b[0m, in \u001b[0;36mMiniSom.winner\u001b[0;34m(self, x)\u001b[0m\n\u001b[1;32m    317\u001b[0m \u001b[38;5;28;01mdef\u001b[39;00m \u001b[38;5;21mwinner\u001b[39m(\u001b[38;5;28mself\u001b[39m, x):\n\u001b[1;32m    318\u001b[0m \u001b[38;5;250m    \u001b[39m\u001b[38;5;124;03m\"\"\"Computes the coordinates of the winning neuron for the sample x.\"\"\"\u001b[39;00m\n\u001b[0;32m--> 319\u001b[0m     \u001b[38;5;28;43mself\u001b[39;49m\u001b[38;5;241;43m.\u001b[39;49m\u001b[43m_activate\u001b[49m\u001b[43m(\u001b[49m\u001b[43mx\u001b[49m\u001b[43m)\u001b[49m\n\u001b[1;32m    320\u001b[0m     \u001b[38;5;28;01mreturn\u001b[39;00m unravel_index(\u001b[38;5;28mself\u001b[39m\u001b[38;5;241m.\u001b[39m_activation_map\u001b[38;5;241m.\u001b[39margmin(),\n\u001b[1;32m    321\u001b[0m                          \u001b[38;5;28mself\u001b[39m\u001b[38;5;241m.\u001b[39m_activation_map\u001b[38;5;241m.\u001b[39mshape)\n",
      "File \u001b[0;32m~/.local/lib/python3.10/site-packages/minisom.py:253\u001b[0m, in \u001b[0;36mMiniSom._activate\u001b[0;34m(self, x)\u001b[0m\n\u001b[1;32m    250\u001b[0m \u001b[38;5;28;01mdef\u001b[39;00m \u001b[38;5;21m_activate\u001b[39m(\u001b[38;5;28mself\u001b[39m, x):\n\u001b[1;32m    251\u001b[0m \u001b[38;5;250m    \u001b[39m\u001b[38;5;124;03m\"\"\"Updates matrix activation_map, in this matrix\u001b[39;00m\n\u001b[1;32m    252\u001b[0m \u001b[38;5;124;03m       the element i,j is the response of the neuron i,j to x.\"\"\"\u001b[39;00m\n\u001b[0;32m--> 253\u001b[0m     \u001b[38;5;28mself\u001b[39m\u001b[38;5;241m.\u001b[39m_activation_map \u001b[38;5;241m=\u001b[39m \u001b[38;5;28;43mself\u001b[39;49m\u001b[38;5;241;43m.\u001b[39;49m\u001b[43m_activation_distance\u001b[49m\u001b[43m(\u001b[49m\u001b[43mx\u001b[49m\u001b[43m,\u001b[49m\u001b[43m \u001b[49m\u001b[38;5;28;43mself\u001b[39;49m\u001b[38;5;241;43m.\u001b[39;49m\u001b[43m_weights\u001b[49m\u001b[43m)\u001b[49m\n",
      "File \u001b[0;32m~/.local/lib/python3.10/site-packages/minisom.py:297\u001b[0m, in \u001b[0;36mMiniSom._euclidean_distance\u001b[0;34m(self, x, w)\u001b[0m\n\u001b[1;32m    296\u001b[0m \u001b[38;5;28;01mdef\u001b[39;00m \u001b[38;5;21m_euclidean_distance\u001b[39m(\u001b[38;5;28mself\u001b[39m, x, w):\n\u001b[0;32m--> 297\u001b[0m     \u001b[38;5;28;01mreturn\u001b[39;00m linalg\u001b[38;5;241m.\u001b[39mnorm(\u001b[43msubtract\u001b[49m\u001b[43m(\u001b[49m\u001b[43mx\u001b[49m\u001b[43m,\u001b[49m\u001b[43m \u001b[49m\u001b[43mw\u001b[49m\u001b[43m)\u001b[49m, axis\u001b[38;5;241m=\u001b[39m\u001b[38;5;241m-\u001b[39m\u001b[38;5;241m1\u001b[39m)\n",
      "\u001b[0;31mValueError\u001b[0m: operands could not be broadcast together with shapes (9,) (10,10,22) "
     ]
    }
   ],
   "source": [
    "import numpy as np\n",
    "from minisom import MiniSom\n",
    "from dtaidistance import dtw\n",
    "\n",
    "class DTWMiniSom(MiniSom):\n",
    "    def __init__(self, x, y, input_len, sigma=1.0, learning_rate=0.5, time_series_indices=None):\n",
    "        super().__init__(x, y, input_len, sigma, learning_rate)\n",
    "        self.time_series_indices = time_series_indices or []\n",
    "\n",
    "    def _calculate_distance(self, a, b):\n",
    "        total_distance = 0\n",
    "\n",
    "        total_dist_dtw= 0\n",
    "        for indices in self.time_series_indices:\n",
    "            ts_a = a[indices]\n",
    "            ts_b = b[indices]\n",
    "            dtw_distance = dtw.distance(ts_a, ts_b)\n",
    "            total_dist_dtw += dtw_distance\n",
    "\n",
    "        total_dist_euc=np.\n",
    "        \n",
    "        return total_distance\n",
    "\n",
    "# Example data with multiple time series\n",
    "np.random.seed(42)\n",
    "data = np.random.rand(100, 22)  # 100 samples, 9 features (3 time series with 3 points each)\n",
    "\n",
    "# Define the indices for the multiple time series\n",
    "time_series_indices = [range(0, 11), range(11, 22)]\n",
    "\n",
    "# Create and train the SOM\n",
    "som = DTWMiniSom(10, 10, 22, time_series_indices=time_series_indices)\n",
    "som.train(data, 100)\n",
    "\n",
    "# Display the results\n",
    "print(\"Trained SOM weights:\")\n",
    "print(som.get_weights())\n",
    "\n",
    "# Test the SOM with a sample input\n",
    "sample_input = np.random.rand(9)\n",
    "winner = som.winner(sample_input)\n",
    "print(f\"Winner neuron for input {sample_input}: {winner}\")\n"
   ]
  },
  {
   "cell_type": "code",
   "execution_count": 30,
   "id": "d963257d-d18f-4150-81b7-8eb99c752260",
   "metadata": {},
   "outputs": [
    {
     "data": {
      "text/plain": [
       "(100, 9)"
      ]
     },
     "execution_count": 30,
     "metadata": {},
     "output_type": "execute_result"
    }
   ],
   "source": [
    "data.shape"
   ]
  },
  {
   "cell_type": "code",
   "execution_count": 27,
   "id": "472c97ba-ce6e-4523-bd1f-04062af4eca8",
   "metadata": {},
   "outputs": [
    {
     "ename": "ModuleNotFoundError",
     "evalue": "No module named 'fastdtw'",
     "output_type": "error",
     "traceback": [
      "\u001b[0;31m---------------------------------------------------------------------------\u001b[0m",
      "\u001b[0;31mModuleNotFoundError\u001b[0m                       Traceback (most recent call last)",
      "Cell \u001b[0;32mIn[27], line 4\u001b[0m\n\u001b[1;32m      2\u001b[0m \u001b[38;5;28;01mfrom\u001b[39;00m \u001b[38;5;21;01mminisom\u001b[39;00m \u001b[38;5;28;01mimport\u001b[39;00m MiniSom\n\u001b[1;32m      3\u001b[0m \u001b[38;5;28;01mfrom\u001b[39;00m \u001b[38;5;21;01mscipy\u001b[39;00m\u001b[38;5;21;01m.\u001b[39;00m\u001b[38;5;21;01mspatial\u001b[39;00m\u001b[38;5;21;01m.\u001b[39;00m\u001b[38;5;21;01mdistance\u001b[39;00m \u001b[38;5;28;01mimport\u001b[39;00m euclidean\n\u001b[0;32m----> 4\u001b[0m \u001b[38;5;28;01mfrom\u001b[39;00m \u001b[38;5;21;01mfastdtw\u001b[39;00m \u001b[38;5;28;01mimport\u001b[39;00m fastdtw\n\u001b[1;32m      6\u001b[0m \u001b[38;5;28;01mclass\u001b[39;00m \u001b[38;5;21;01mCombinedMiniSom\u001b[39;00m(MiniSom):\n\u001b[1;32m      7\u001b[0m     \u001b[38;5;28;01mdef\u001b[39;00m \u001b[38;5;21m__init__\u001b[39m(\u001b[38;5;28mself\u001b[39m, x, y, input_len, sigma\u001b[38;5;241m=\u001b[39m\u001b[38;5;241m1.0\u001b[39m, learning_rate\u001b[38;5;241m=\u001b[39m\u001b[38;5;241m0.5\u001b[39m, dtw_indices\u001b[38;5;241m=\u001b[39m\u001b[38;5;28;01mNone\u001b[39;00m, alpha\u001b[38;5;241m=\u001b[39m\u001b[38;5;241m0.5\u001b[39m):\n",
      "\u001b[0;31mModuleNotFoundError\u001b[0m: No module named 'fastdtw'"
     ]
    }
   ],
   "source": [
    "import numpy as np\n",
    "from minisom import MiniSom\n",
    "from scipy.spatial.distance import euclidean\n",
    "from fastdtw import fastdtw\n",
    "\n",
    "class CombinedMiniSom(MiniSom):\n",
    "    def __init__(self, x, y, input_len, sigma=1.0, learning_rate=0.5, dtw_indices=None, alpha=0.5):\n",
    "        super().__init__(x, y, input_len, sigma, learning_rate)\n",
    "        self.dtw_indices = dtw_indices\n",
    "        self.alpha = alpha  # Weighting factor between Euclidean and DTW\n",
    "\n",
    "    def _calculate_distance(self, a, b):\n",
    "        if self.dtw_indices is None:\n",
    "            # If no DTW indices are provided, fallback to Euclidean distance\n",
    "            return np.linalg.norm(a - b)\n",
    "        else:\n",
    "            # Split features for Euclidean and DTW\n",
    "            euclidean_part_a = np.delete(a, self.dtw_indices)\n",
    "            euclidean_part_b = np.delete(b, self.dtw_indices)\n",
    "            dtw_part_a = a[self.dtw_indices]\n",
    "            dtw_part_b = b[self.dtw_indices]\n",
    "\n",
    "            # Compute Euclidean distance for non-sequence features\n",
    "            euclidean_dist = np.linalg.norm(euclidean_part_a - euclidean_part_b)\n",
    "\n",
    "            # Compute DTW distance for sequence features\n",
    "            dtw_dist, _ = fastdtw(dtw_part_a, dtw_part_b, dist=euclidean)\n",
    "\n",
    "            # Combine distances with weighting\n",
    "            return self.alpha * euclidean_dist + (1 - self.alpha) * dtw_dist\n",
    "\n",
    "# Example data with combined features\n",
    "np.random.seed(42)\n",
    "data = np.random.rand(100, 6)  # 100 samples, 6 features (3 normal, 3 time series)\n",
    "\n",
    "# Assume the last 3 features are time series data for DTW\n",
    "dtw_indices = [3, 4, 5]\n",
    "\n",
    "# Create and train the SOM\n",
    "som = CombinedMiniSom(10, 10, 6, dtw_indices=dtw_indices, alpha=0.5)\n",
    "som.train(data, 100)\n",
    "\n",
    "# Display the results\n",
    "print(\"Trained SOM weights:\")\n",
    "print(som.get_weights())\n",
    "\n",
    "# Test the SOM with a sample input\n",
    "sample_input = np.random.rand(6)\n",
    "winner = som.winner(sample_input)\n",
    "print(f\"Winner neuron for input {sample_input}: {winner}\")\n"
   ]
  },
  {
   "cell_type": "code",
   "execution_count": 25,
   "id": "0168ba76-58f0-463b-9cb2-8d6e91fdab30",
   "metadata": {},
   "outputs": [],
   "source": [
    "# Generate sample data\n",
    "np.random.seed(42)\n",
    "data = np.random.rand(100, 22)  # 100 samples with 3 features each"
   ]
  },
  {
   "cell_type": "code",
   "execution_count": 26,
   "id": "ea72ad69-1843-4727-8fd1-16077a00764c",
   "metadata": {},
   "outputs": [
    {
     "ename": "ValueError",
     "evalue": "Received 22 features, expected 11.",
     "output_type": "error",
     "traceback": [
      "\u001b[0;31m---------------------------------------------------------------------------\u001b[0m",
      "\u001b[0;31mValueError\u001b[0m                                Traceback (most recent call last)",
      "Cell \u001b[0;32mIn[26], line 3\u001b[0m\n\u001b[1;32m      1\u001b[0m \u001b[38;5;66;03m# Create and train the SOM\u001b[39;00m\n\u001b[1;32m      2\u001b[0m som \u001b[38;5;241m=\u001b[39m CustomMiniSom(\u001b[38;5;241m10\u001b[39m, \u001b[38;5;241m10\u001b[39m, band\u001b[38;5;241m=\u001b[39m\u001b[38;5;241m2\u001b[39m, length_time\u001b[38;5;241m=\u001b[39m\u001b[38;5;241m11\u001b[39m, learning_rate\u001b[38;5;241m=\u001b[39m\u001b[38;5;241m0.5\u001b[39m,distdtw\u001b[38;5;241m=\u001b[39m\u001b[38;5;28;01mTrue\u001b[39;00m)\n\u001b[0;32m----> 3\u001b[0m \u001b[43msom\u001b[49m\u001b[38;5;241;43m.\u001b[39;49m\u001b[43mtrain\u001b[49m\u001b[43m(\u001b[49m\u001b[43mdata\u001b[49m\u001b[43m,\u001b[49m\u001b[43m \u001b[49m\u001b[38;5;241;43m100\u001b[39;49m\u001b[43m)\u001b[49m  \u001b[38;5;66;03m# Train with 100 iterations\u001b[39;00m\n\u001b[1;32m      5\u001b[0m \u001b[38;5;66;03m# Display the results\u001b[39;00m\n\u001b[1;32m      6\u001b[0m \u001b[38;5;28mprint\u001b[39m(\u001b[38;5;124m\"\u001b[39m\u001b[38;5;124mTrained SOM weights:\u001b[39m\u001b[38;5;124m\"\u001b[39m)\n",
      "File \u001b[0;32m~/.local/lib/python3.10/site-packages/minisom.py:419\u001b[0m, in \u001b[0;36mMiniSom.train\u001b[0;34m(self, data, num_iteration, random_order, verbose, use_epochs)\u001b[0m\n\u001b[1;32m    393\u001b[0m \u001b[38;5;250m\u001b[39m\u001b[38;5;124;03m\"\"\"Trains the SOM.\u001b[39;00m\n\u001b[1;32m    394\u001b[0m \n\u001b[1;32m    395\u001b[0m \u001b[38;5;124;03mParameters\u001b[39;00m\n\u001b[0;32m   (...)\u001b[0m\n\u001b[1;32m    416\u001b[0m \u001b[38;5;124;03m    the learning rate is constat throughout a single epoch.\u001b[39;00m\n\u001b[1;32m    417\u001b[0m \u001b[38;5;124;03m\"\"\"\u001b[39;00m\n\u001b[1;32m    418\u001b[0m \u001b[38;5;28mself\u001b[39m\u001b[38;5;241m.\u001b[39m_check_iteration_number(num_iteration)\n\u001b[0;32m--> 419\u001b[0m \u001b[38;5;28;43mself\u001b[39;49m\u001b[38;5;241;43m.\u001b[39;49m\u001b[43m_check_input_len\u001b[49m\u001b[43m(\u001b[49m\u001b[43mdata\u001b[49m\u001b[43m)\u001b[49m\n\u001b[1;32m    420\u001b[0m random_generator \u001b[38;5;241m=\u001b[39m \u001b[38;5;28;01mNone\u001b[39;00m\n\u001b[1;32m    421\u001b[0m \u001b[38;5;28;01mif\u001b[39;00m random_order:\n",
      "File \u001b[0;32m~/.local/lib/python3.10/site-packages/minisom.py:315\u001b[0m, in \u001b[0;36mMiniSom._check_input_len\u001b[0;34m(self, data)\u001b[0m\n\u001b[1;32m    312\u001b[0m \u001b[38;5;28;01mif\u001b[39;00m \u001b[38;5;28mself\u001b[39m\u001b[38;5;241m.\u001b[39m_input_len \u001b[38;5;241m!=\u001b[39m data_len:\n\u001b[1;32m    313\u001b[0m     msg \u001b[38;5;241m=\u001b[39m \u001b[38;5;124m'\u001b[39m\u001b[38;5;124mReceived \u001b[39m\u001b[38;5;132;01m%d\u001b[39;00m\u001b[38;5;124m features, expected \u001b[39m\u001b[38;5;132;01m%d\u001b[39;00m\u001b[38;5;124m.\u001b[39m\u001b[38;5;124m'\u001b[39m \u001b[38;5;241m%\u001b[39m (data_len,\n\u001b[1;32m    314\u001b[0m                                                   \u001b[38;5;28mself\u001b[39m\u001b[38;5;241m.\u001b[39m_input_len)\n\u001b[0;32m--> 315\u001b[0m     \u001b[38;5;28;01mraise\u001b[39;00m \u001b[38;5;167;01mValueError\u001b[39;00m(msg)\n",
      "\u001b[0;31mValueError\u001b[0m: Received 22 features, expected 11."
     ]
    }
   ],
   "source": [
    "\n",
    "# Create and train the SOM\n",
    "som = CustomMiniSom(10, 10, band=2, length_time=11, learning_rate=0.5,distdtw=True)\n",
    "som.train(data, 100)  # Train with 100 iterations\n",
    "\n",
    "# Display the results\n",
    "print(\"Trained SOM weights:\")\n",
    "print(som.get_weights())"
   ]
  },
  {
   "cell_type": "code",
   "execution_count": null,
   "id": "f3c3ad87-712d-4ee9-a45b-e2372f255fa4",
   "metadata": {},
   "outputs": [],
   "source": []
  },
  {
   "cell_type": "code",
   "execution_count": 18,
   "id": "d3c1582b-774e-4f00-b0e0-2ed062f8bb36",
   "metadata": {},
   "outputs": [
    {
     "name": "stdout",
     "output_type": "stream",
     "text": [
      "Same as :meth:`distance` but with different defaults to choose the fast C-based version of\n",
      "    the implementation (use_c = True).\n",
      "\n",
      "    Note: the series are expected to be arrays of the type ``double``.\n",
      "    Thus ``numpy.array([1,2,3], dtype=numpy.double)`` or\n",
      "    ``array.array('d', [1,2,3])``\n",
      "    \n"
     ]
    }
   ],
   "source": [
    "print(dtw.distance_fast.__doc__)"
   ]
  },
  {
   "cell_type": "code",
   "execution_count": 4,
   "id": "a3eb8ce9-432c-468a-b480-91e7cf79d606",
   "metadata": {},
   "outputs": [
    {
     "name": "stdout",
     "output_type": "stream",
     "text": [
      "Defaulting to user installation because normal site-packages is not writeable\n",
      "Collecting dtaidistance\n",
      "  Downloading dtaidistance-2.3.12-cp310-cp310-manylinux_2_17_x86_64.manylinux2014_x86_64.whl.metadata (13 kB)\n",
      "Requirement already satisfied: numpy in /data/home/achmad.firmansyah/.local/lib/python3.10/site-packages (from dtaidistance) (2.0.1)\n",
      "Downloading dtaidistance-2.3.12-cp310-cp310-manylinux_2_17_x86_64.manylinux2014_x86_64.whl (2.9 MB)\n",
      "\u001b[2K   \u001b[90m━━━━━━━━━━━━━━━━━━━━━━━━━━━━━━━━━━━━━━━━\u001b[0m \u001b[32m2.9/2.9 MB\u001b[0m \u001b[31m23.2 MB/s\u001b[0m eta \u001b[36m0:00:00\u001b[0m00:01\u001b[0m00:01\u001b[0m\n",
      "\u001b[?25hInstalling collected packages: dtaidistance\n",
      "Successfully installed dtaidistance-2.3.12\n"
     ]
    }
   ],
   "source": [
    "!pip install dtaidistance"
   ]
  },
  {
   "cell_type": "code",
   "execution_count": null,
   "id": "2e3a781f-a91d-4258-aca3-8ad47dab1070",
   "metadata": {},
   "outputs": [],
   "source": []
  }
 ],
 "metadata": {
  "kernelspec": {
   "display_name": "Python 3 (ipykernel)",
   "language": "python",
   "name": "python3"
  },
  "language_info": {
   "codemirror_mode": {
    "name": "ipython",
    "version": 3
   },
   "file_extension": ".py",
   "mimetype": "text/x-python",
   "name": "python",
   "nbconvert_exporter": "python",
   "pygments_lexer": "ipython3",
   "version": "3.10.14"
  }
 },
 "nbformat": 4,
 "nbformat_minor": 5
}
