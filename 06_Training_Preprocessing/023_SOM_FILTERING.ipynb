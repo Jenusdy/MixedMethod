{
 "cells": [
  {
   "cell_type": "code",
   "execution_count": 100,
   "id": "bf595619-fcc2-4764-bc13-bd9be3ac91f5",
   "metadata": {},
   "outputs": [],
   "source": [
    "import pickle\n",
    "import pandas as pd\n",
    "import polars as pl\n",
    "import numpy as np\n",
    "import dtwsom\n",
    "from concurrent.futures import ProcessPoolExecutor, as_completed\n",
    "import os\n",
    "import seaborn as sns\n",
    "import matplotlib.pyplot as plt\n",
    "from tqdm import tqdm"
   ]
  },
  {
   "cell_type": "code",
   "execution_count": 101,
   "id": "0d26695b-37dd-4095-abcf-8fd3b3cedbfc",
   "metadata": {},
   "outputs": [],
   "source": [
    "kdprov='32'\n",
    "df_variabce=pd.read_pickle(f'/data/ksa/04_Data_Preprocessing/{kdprov}/02_variance_filtering/variance_filtering.pkl')"
   ]
  },
  {
   "cell_type": "code",
   "execution_count": 102,
   "id": "52d85a4b-8f4e-4fa7-ae87-a35ef2f2d59d",
   "metadata": {},
   "outputs": [],
   "source": [
    "df_training_vh=pd.read_pickle(f'/data/ksa/04_Data_Preprocessing/training-test/{kdprov}/training_imputation_{kdprov}_VH.pkl')\n",
    "df_training_vv=pd.read_pickle(f'/data/ksa/04_Data_Preprocessing/training-test/{kdprov}/training_imputation_{kdprov}_VV.pkl')\n",
    "df_training_vh=pl.from_pandas(df_training_vh)\n",
    "df_training_vv=pl.from_pandas(df_training_vv)"
   ]
  },
  {
   "cell_type": "code",
   "execution_count": 79,
   "id": "ee29872f-7502-4c14-b851-683c01acd72d",
   "metadata": {},
   "outputs": [],
   "source": [
    "df_training_vv_var=df_training_vv.filter(\n",
    "    (pl.col(\"idsubsegment\").is_in(df_variabce.idsubsegment))\n",
    ")\n",
    "df_training_vh_var=df_training_vh.filter(\n",
    "    (pl.col(\"idsubsegment\").is_in(df_variabce.idsubsegment))\n",
    ")\n",
    "df_inner = df_training_vv_var.join(df_training_vh_var, \n",
    "                                   on=['idpoint','idsubsegment','idsegment','nth',\n",
    "                                       'periode','observation','class','MGRS'], how=\"inner\")"
   ]
  },
  {
   "cell_type": "code",
   "execution_count": 103,
   "id": "43474789-194e-42e3-9c75-75d1777716ec",
   "metadata": {},
   "outputs": [],
   "source": [
    "df_select=df_inner.select(['idpoint','nth','MGRS','periode','idsubsegment',\n",
    "                           'VV_10', 'VV_9', 'VV_8', 'VV_7', 'VV_6', 'VV_5', 'VV_4', 'VV_3', 'VV_2', 'VV_1',\n",
    "                           'VV_0',  'VH_10', 'VH_9', 'VH_8', 'VH_7', 'VH_6', 'VH_5','VH_4', 'VH_3', 'VH_2', \n",
    "                           'VH_1', 'VH_0'])"
   ]
  },
  {
   "cell_type": "code",
   "execution_count": 104,
   "id": "bd60b533-2a87-43e7-82db-d58cda6c0a54",
   "metadata": {},
   "outputs": [],
   "source": [
    "bridging_date=pd.read_excel(\"/data/ksa/03_Sampling/bridging.xlsx\", dtype='object', sheet_name=\"periode_to_date\")\n",
    "df_variabce['periode_start']=df_variabce['periode'].apply(lambda y: y.split('_')[0][4:])\n",
    "df_variabce['periode_end']=df_variabce['periode'].apply(lambda y: y.split('_')[1][4:])\n",
    "df_variabce['tahun']=df_variabce['periode'].apply(lambda y: y[:4])"
   ]
  },
  {
   "cell_type": "code",
   "execution_count": 105,
   "id": "5a978025-e424-4ea2-afc6-6e8972b7c984",
   "metadata": {},
   "outputs": [],
   "source": [
    "df_variabce=df_variabce.merge(bridging_date.query('is_kabisat==0')[['periode_start','periode_end','id_per_image']])\n",
    "df_variabce['periode_y']=df_variabce.apply(lambda y: str(y.tahun)+'_'+str(y.id_per_image).zfill(2),axis=1)\n",
    "df_variabce['periode_x']=df_variabce['periode']\n",
    "df_variabce['periode']=df_variabce['periode_y']\n",
    "df_10_variance=df_variabce.query('less_q10==True')\n",
    "data_for_dtw=df_select.join(pl.from_dataframe(df_10_variance[['periode','idsubsegment','obs']]),\n",
    "               on=['idsubsegment','periode'],how='inner').to_pandas()\n",
    "data_for_dtw_drop=data_for_dtw.drop(columns=['MGRS'],axis=1)"
   ]
  },
  {
   "cell_type": "code",
   "execution_count": 106,
   "id": "bf92de7c-b6ad-442b-bd4a-6af441a9d90b",
   "metadata": {},
   "outputs": [],
   "source": [
    "with open(f'//data/ksa/04_Data_Preprocessing/training-test/{kdprov}/som_training_yy.pkl','rb') as file:\n",
    "    som=pickle.load(file)\n",
    "    weights = som.get_weights()"
   ]
  },
  {
   "cell_type": "code",
   "execution_count": 107,
   "id": "c7c338ee-c421-46fb-9c38-6f15018a4d4e",
   "metadata": {},
   "outputs": [],
   "source": [
    "def som_winner(data,som):\n",
    "    dummy=np.zeros((2,11))\n",
    "    dummy[0,:]=[ data[f'VV_{i}'] for i in range(0,11) ]\n",
    "    dummy[1,:]=[ data[f'VV_{i}'] for i in range(0,11) ]\n",
    "    return som.winner(dummy)"
   ]
  },
  {
   "cell_type": "code",
   "execution_count": 108,
   "id": "41ff3329-f6a8-4f54-a7ff-612b0dd79ee5",
   "metadata": {},
   "outputs": [],
   "source": [
    "data_for_dtw_pl=pl.from_pandas(data_for_dtw)\n",
    "rows = data_for_dtw_pl.to_dicts()"
   ]
  },
  {
   "cell_type": "code",
   "execution_count": 109,
   "id": "5d7e85a6-7143-4b08-a73b-49e0ceeaad9a",
   "metadata": {},
   "outputs": [
    {
     "name": "stderr",
     "output_type": "stream",
     "text": [
      "100%|██████████| 1074500/1074500 [57:36<00:00, 310.84it/s] \n"
     ]
    }
   ],
   "source": [
    "# Define the function to process each row\n",
    "def process_row(row):\n",
    "    return som_winner(row, som)\n",
    "# Initialize a list to store the results\n",
    "som_rep_list = []\n",
    "# Use ProcessPoolExecutor to run the computation in parallel\n",
    "with ProcessPoolExecutor(max_workers=30) as executor:\n",
    "    # Submit all tasks to the executor\n",
    "    futures = [executor.submit(process_row, row) for row in rows]\n",
    "    # Use tqdm to display the progress bar\n",
    "    for future in tqdm(as_completed(futures), total=len(futures)):\n",
    "        # Collect the result from each future\n",
    "        som_rep_list.append(future.result())\n",
    "# Add the results back to the Polars DataFrame\n",
    "data_for_dtw_pl = data_for_dtw_pl.with_columns(pl.Series(\"som_rep\", som_rep_list))"
   ]
  },
  {
   "cell_type": "code",
   "execution_count": 110,
   "id": "a513fb8c-6315-445e-9e17-6730bd104d1b",
   "metadata": {},
   "outputs": [],
   "source": [
    "df_data=data_for_dtw_pl.to_pandas()\n",
    "df_data['som_rep2']=df_data.som_rep.apply(lambda y:str(f'R{y[0]}C{y[1]}'))\n",
    "with open(f'//data/ksa/04_Data_Preprocessing/training-test/{kdprov}/som_winner.pkl','wb') as file:\n",
    "    pickle.dump(df_data,file)\n",
    "pivoting=pd.pivot_table(df_data, \n",
    "               columns='obs',index='som_rep2',values='idpoint',aggfunc='count',fill_value=0)"
   ]
  },
  {
   "cell_type": "code",
   "execution_count": 113,
   "id": "322c99ee-ca63-4880-a2b8-ae240bf87703",
   "metadata": {},
   "outputs": [
    {
     "name": "stdout",
     "output_type": "stream",
     "text": [
      "[[   36    10    20    26    10    36   122]\n",
      " [    3     1     2     2     0     1     1]\n",
      " [   57     3     0    35   141     0     3]\n",
      " [   48     1     0     3    58     0     1]\n",
      " [10783  9905 17642  7975  6003   987  1414]\n",
      " [42114 30536 39971 42136 22686  9087  7849]\n",
      " [ 3335  2414  3230  4145  1696  4464  8818]\n",
      " [  102    59    83    87    40   108   287]\n",
      " [    0     0     0     0     1     0     1]\n",
      " [ 6997  4175  3272  5482  4655  1689  1233]\n",
      " [ 1248   113    85   883  2561    57    79]\n",
      " [20500 22401 25499 23118  8110 15269 10524]\n",
      " [ 5625  4300  5858  7456  2649  9579 12828]\n",
      " [  232   152   209   264    91   261   704]\n",
      " [    1     1     0     0     0     1     4]\n",
      " [    0     0     0     0     1     0     2]\n",
      " [  138   102   128   160    68   187   411]\n",
      " [ 1122   859  1152  1423   553  1456  3297]\n",
      " [   11    17     9    14     9    27    72]\n",
      " [  146   100   164   174    82   211   443]\n",
      " [   94    63   101   114    39   112   286]\n",
      " [    1     1     2     2     1     4     6]\n",
      " [    6    10     9    10     2     7    23]\n",
      " [   77    45    76    68    27    81   236]\n",
      " [    4     1     0     3     0     3    14]\n",
      " [    1     0     0     0     0     0     1]\n",
      " [    5     6     8     7     4    13    27]\n",
      " [    1     2     2     1     2     2     9]\n",
      " [    0     1     2     0     0     0     2]\n",
      " [    0     0     1     2     0     0     5]\n",
      " [    0     0     0     1     0     0     0]\n",
      " [    0     0     0     2     0     1     0]\n",
      " [    9     2     2     4     4     4    24]\n",
      " [    1     0     0     1     1     0     1]\n",
      " [    1     0     0     1     1     2     2]\n",
      " [   84    58    92    86    26    97   345]\n",
      " [    0     1     0     0     0     0     5]\n",
      " [    0     0     0     0     0     0     1]\n",
      " [    2     3     2     4     2     5    18]\n",
      " [    3     2     1     1     0     2     2]\n",
      " [    0     1     0     0     1     2     7]\n",
      " [    2     0     0     2     1     1     6]\n",
      " [   36    17    39    46    14    48   171]\n",
      " [    7     8     1     5     0     3    11]\n",
      " [   21    14     9    13     7    11    33]\n",
      " [   47    31    24    41    31    34   100]\n",
      " [    0     1     0     1     0     0     0]\n",
      " [   37    25    27    41    19    40   127]\n",
      " [   34    29    31    44    19    48   140]\n",
      " [    1     0     0     0     0     0     0]\n",
      " [   18    14    33    32     9    51   161]\n",
      " [  381   202   173   480   294   663   357]\n",
      " [   29     0     7    73    48    42     6]\n",
      " [    7    14    12    10     4    17    25]\n",
      " [  142    96   104   110    78   180   380]\n",
      " [   44    31    40    48    20    57   185]\n",
      " [    0     0     0     1     0     1     2]\n",
      " [  372   127   818  7342  1337   212   210]\n",
      " [    0     0     0     2     0     0     5]\n",
      " [  797   334   368  1309   616   883   443]\n",
      " [   38    19    17    25    13    35   102]\n",
      " [    0     0     0     0     0     1     0]\n",
      " [    1     0     0     0     0     1     3]\n",
      " [    8     6    55   147    14     6    10]\n",
      " [    1     1     1     2     0     2     6]\n",
      " [   10     8    15    15     8    16    52]\n",
      " [   66    62   155   189    42    30    40]\n",
      " [ 6338  4499  5451  7380  2975 11224 12080]\n",
      " [    7     2     4     4     2     6     9]\n",
      " [  849   878  7851 16579  1496   364   703]\n",
      " [    2     1     0     0     2     0     0]\n",
      " [   48    18    30    44    10    73   220]\n",
      " [    1     1     0     0     1     0     5]\n",
      " [ 1193   837  1014  1561   587  1319   804]\n",
      " [    6     0     7     6     1     3    21]\n",
      " [    0     1     0     0     0     0     1]\n",
      " [  102    35    29     7    63    10     4]\n",
      " [    1     0     0     1     1     1     0]\n",
      " [    8     0     4     2     6     3     1]\n",
      " [    2     2     2     4     0     4     6]\n",
      " [20159 15070 26026 46112 13650 17482 11548]\n",
      " [  343   243   367   434   163   406   933]\n",
      " [    1     0     1     2     0     0     1]\n",
      " [    0     0     0     0     0     0     1]\n",
      " [   34     9    52    30    24     1    20]\n",
      " [  225    14    18    42   239    16    12]\n",
      " [ 4793  1170  1401   512  1517   167   252]\n",
      " [ 1462  1144  3163  3782  1503   239   372]\n",
      " [37693 29770 39498 53015 18867 60474 47024]\n",
      " [  196   146   178   239    93   246   671]\n",
      " [    1     1     3     1     2     0     5]]\n"
     ]
    }
   ],
   "source": [
    "print(pivoting.values)"
   ]
  },
  {
   "cell_type": "code",
   "execution_count": 114,
   "id": "bdff09df-ad38-492e-aeb1-56b94caf5ce5",
   "metadata": {},
   "outputs": [],
   "source": [
    "row_totals = pivoting.sum(axis=1)"
   ]
  },
  {
   "cell_type": "code",
   "execution_count": 116,
   "id": "9e24e1c3-bc4e-4758-899e-ccf5b88bb0f3",
   "metadata": {},
   "outputs": [
    {
     "data": {
      "text/plain": [
       "array([   260,     10,    239,    111,  54709, 194379,  28102,    766,\n",
       "            2,  27503,   5026, 125421,  48295,   1913,      7,      3,\n",
       "         1194,   9862,    159,   1320,    809,     17,     67,    610,\n",
       "           25,      2,     70,     19,      5,      8,      1,      3,\n",
       "           49,      4,      7,    788,      6,      1,     36,     11,\n",
       "           11,     12,    371,     35,    108,    308,      2,    316,\n",
       "          345,      1,    318,   2550,    205,     89,   1090,    425,\n",
       "            4,  10418,      7,   4750,    249,      1,      5,    246,\n",
       "           13,    124,    584,  49947,     34,  28720,      5,    443,\n",
       "            8,   7315,     44,      2,    250,      4,     24,     20,\n",
       "       150047,   2889,      5,      1,    170,    566,   9812,  11665,\n",
       "       286341,   1769,     13])"
      ]
     },
     "execution_count": 116,
     "metadata": {},
     "output_type": "execute_result"
    }
   ],
   "source": [
    "row_totals.values"
   ]
  },
  {
   "cell_type": "code",
   "execution_count": 118,
   "id": "ece955b0-63f8-4b6f-8842-ea5c0ca18e40",
   "metadata": {},
   "outputs": [
    {
     "name": "stdout",
     "output_type": "stream",
     "text": [
      "[[ 13.84615385   3.84615385   7.69230769  10.           3.84615385\n",
      "   13.84615385  46.92307692]\n",
      " [ 30.          10.          20.          20.           0.\n",
      "   10.          10.        ]\n",
      " [ 23.84937238   1.25523013   0.          14.64435146  58.9958159\n",
      "    0.           1.25523013]\n",
      " [ 43.24324324   0.9009009    0.           2.7027027   52.25225225\n",
      "    0.           0.9009009 ]\n",
      " [ 19.70973697  18.10488219  32.24697947  14.57712625  10.97260049\n",
      "    1.80409073   2.58458389]\n",
      " [ 21.6659207   15.70951595  20.56343535  21.6772388   11.67101384\n",
      "    4.67488772   4.03798764]\n",
      " [ 11.86748274   8.59013593  11.49384385  14.74983987   6.03515764\n",
      "   15.88499039  31.37854957]\n",
      " [ 13.31592689   7.70234987  10.83550914  11.35770235   5.22193211\n",
      "   14.09921671  37.46736292]\n",
      " [  0.           0.           0.           0.          50.\n",
      "    0.          50.        ]\n",
      " [ 25.440861    15.18016216  11.89688398  19.93237101  16.92542632\n",
      "    6.14114824   4.48314729]\n",
      " [ 24.83087943   2.24830879   1.69120573  17.56864306  50.95503382\n",
      "    1.13410267   1.5718265 ]\n",
      " [ 16.34495021  17.86064535  20.33072611  18.43231995   6.46622177\n",
      "   12.1741973    8.39093932]\n",
      " [ 11.64716844   8.90361321  12.12962004  15.43845119   5.48503986\n",
      "   19.83435138  26.56175588]\n",
      " [ 12.12754835   7.94563513  10.9252483   13.80031364   4.75692629\n",
      "   13.6434919   36.80083638]\n",
      " [ 14.28571429  14.28571429   0.           0.           0.\n",
      "   14.28571429  57.14285714]\n",
      " [  0.           0.           0.           0.          33.33333333\n",
      "    0.          66.66666667]\n",
      " [ 11.55778894   8.54271357  10.72026801  13.40033501   5.69514238\n",
      "   15.66164154  34.42211055]\n",
      " [ 11.37700264   8.71020077  11.68120057  14.42912188   5.60738187\n",
      "   14.76373961  33.43135267]\n",
      " [  6.91823899  10.6918239    5.66037736   8.80503145   5.66037736\n",
      "   16.98113208  45.28301887]\n",
      " [ 11.06060606   7.57575758  12.42424242  13.18181818   6.21212121\n",
      "   15.98484848  33.56060606]\n",
      " [ 11.61928307   7.78739184  12.48454883  14.09147095   4.82076638\n",
      "   13.84425216  35.35228677]\n",
      " [  5.88235294   5.88235294  11.76470588  11.76470588   5.88235294\n",
      "   23.52941176  35.29411765]\n",
      " [  8.95522388  14.92537313  13.43283582  14.92537313   2.98507463\n",
      "   10.44776119  34.32835821]\n",
      " [ 12.62295082   7.37704918  12.45901639  11.14754098   4.42622951\n",
      "   13.27868852  38.68852459]\n",
      " [ 16.           4.           0.          12.           0.\n",
      "   12.          56.        ]\n",
      " [ 50.           0.           0.           0.           0.\n",
      "    0.          50.        ]\n",
      " [  7.14285714   8.57142857  11.42857143  10.           5.71428571\n",
      "   18.57142857  38.57142857]\n",
      " [  5.26315789  10.52631579  10.52631579   5.26315789  10.52631579\n",
      "   10.52631579  47.36842105]\n",
      " [  0.          20.          40.           0.           0.\n",
      "    0.          40.        ]\n",
      " [  0.           0.          12.5         25.           0.\n",
      "    0.          62.5       ]\n",
      " [  0.           0.           0.         100.           0.\n",
      "    0.           0.        ]\n",
      " [  0.           0.           0.          66.66666667   0.\n",
      "   33.33333333   0.        ]\n",
      " [ 18.36734694   4.08163265   4.08163265   8.16326531   8.16326531\n",
      "    8.16326531  48.97959184]\n",
      " [ 25.           0.           0.          25.          25.\n",
      "    0.          25.        ]\n",
      " [ 14.28571429   0.           0.          14.28571429  14.28571429\n",
      "   28.57142857  28.57142857]\n",
      " [ 10.65989848   7.36040609  11.6751269   10.91370558   3.29949239\n",
      "   12.30964467  43.78172589]\n",
      " [  0.          16.66666667   0.           0.           0.\n",
      "    0.          83.33333333]\n",
      " [  0.           0.           0.           0.           0.\n",
      "    0.         100.        ]\n",
      " [  5.55555556   8.33333333   5.55555556  11.11111111   5.55555556\n",
      "   13.88888889  50.        ]\n",
      " [ 27.27272727  18.18181818   9.09090909   9.09090909   0.\n",
      "   18.18181818  18.18181818]\n",
      " [  0.           9.09090909   0.           0.           9.09090909\n",
      "   18.18181818  63.63636364]\n",
      " [ 16.66666667   0.           0.          16.66666667   8.33333333\n",
      "    8.33333333  50.        ]\n",
      " [  9.70350404   4.58221024  10.51212938  12.39892183   3.77358491\n",
      "   12.93800539  46.0916442 ]\n",
      " [ 20.          22.85714286   2.85714286  14.28571429   0.\n",
      "    8.57142857  31.42857143]\n",
      " [ 19.44444444  12.96296296   8.33333333  12.03703704   6.48148148\n",
      "   10.18518519  30.55555556]\n",
      " [ 15.25974026  10.06493506   7.79220779  13.31168831  10.06493506\n",
      "   11.03896104  32.46753247]\n",
      " [  0.          50.           0.          50.           0.\n",
      "    0.           0.        ]\n",
      " [ 11.70886076   7.91139241   8.5443038   12.97468354   6.01265823\n",
      "   12.65822785  40.18987342]\n",
      " [  9.85507246   8.4057971    8.98550725  12.75362319   5.50724638\n",
      "   13.91304348  40.57971014]\n",
      " [100.           0.           0.           0.           0.\n",
      "    0.           0.        ]\n",
      " [  5.66037736   4.40251572  10.37735849  10.06289308   2.83018868\n",
      "   16.03773585  50.62893082]\n",
      " [ 14.94117647   7.92156863   6.78431373  18.82352941  11.52941176\n",
      "   26.          14.        ]\n",
      " [ 14.14634146   0.           3.41463415  35.6097561   23.41463415\n",
      "   20.48780488   2.92682927]\n",
      " [  7.86516854  15.73033708  13.48314607  11.23595506   4.49438202\n",
      "   19.1011236   28.08988764]\n",
      " [ 13.02752294   8.80733945   9.5412844   10.09174312   7.1559633\n",
      "   16.51376147  34.86238532]\n",
      " [ 10.35294118   7.29411765   9.41176471  11.29411765   4.70588235\n",
      "   13.41176471  43.52941176]\n",
      " [  0.           0.           0.          25.           0.\n",
      "   25.          50.        ]\n",
      " [  3.57074294   1.21904396   7.85179497  70.47417931  12.8335573\n",
      "    2.03493953   2.01574199]\n",
      " [  0.           0.           0.          28.57142857   0.\n",
      "    0.          71.42857143]\n",
      " [ 16.77894737   7.03157895   7.74736842  27.55789474  12.96842105\n",
      "   18.58947368   9.32631579]\n",
      " [ 15.26104418   7.63052209   6.82730924  10.04016064   5.22088353\n",
      "   14.0562249   40.96385542]\n",
      " [  0.           0.           0.           0.           0.\n",
      "  100.           0.        ]\n",
      " [ 20.           0.           0.           0.           0.\n",
      "   20.          60.        ]\n",
      " [  3.25203252   2.43902439  22.35772358  59.75609756   5.69105691\n",
      "    2.43902439   4.06504065]\n",
      " [  7.69230769   7.69230769   7.69230769  15.38461538   0.\n",
      "   15.38461538  46.15384615]\n",
      " [  8.06451613   6.4516129   12.09677419  12.09677419   6.4516129\n",
      "   12.90322581  41.93548387]\n",
      " [ 11.30136986  10.61643836  26.54109589  32.3630137    7.19178082\n",
      "    5.1369863    6.84931507]\n",
      " [ 12.68945082   9.007548    10.91356838  14.7756622    5.95631369\n",
      "   22.47182013  24.18563677]\n",
      " [ 20.58823529   5.88235294  11.76470588  11.76470588   5.88235294\n",
      "   17.64705882  26.47058824]\n",
      " [  2.95612813   3.05710306  27.33635097  57.72632312   5.20891365\n",
      "    1.26740947   2.44777159]\n",
      " [ 40.          20.           0.           0.          40.\n",
      "    0.           0.        ]\n",
      " [ 10.83521445   4.06320542   6.77200903   9.93227991   2.25733634\n",
      "   16.4785553   49.66139955]\n",
      " [ 12.5         12.5          0.           0.          12.5\n",
      "    0.          62.5       ]\n",
      " [ 16.3089542   11.44224197  13.86192755  21.33971292   8.02460697\n",
      "   18.03144224  10.99111415]\n",
      " [ 13.63636364   0.          15.90909091  13.63636364   2.27272727\n",
      "    6.81818182  47.72727273]\n",
      " [  0.          50.           0.           0.           0.\n",
      "    0.          50.        ]\n",
      " [ 40.8         14.          11.6          2.8         25.2\n",
      "    4.           1.6       ]\n",
      " [ 25.           0.           0.          25.          25.\n",
      "   25.           0.        ]\n",
      " [ 33.33333333   0.          16.66666667   8.33333333  25.\n",
      "   12.5          4.16666667]\n",
      " [ 10.          10.          10.          20.           0.\n",
      "   20.          30.        ]\n",
      " [ 13.43512366  10.0435197   17.34523183  30.73170407   9.09714956\n",
      "   11.65101601   7.69625517]\n",
      " [ 11.87262028   8.41121495  12.70335756  15.02249913   5.64209069\n",
      "   14.05330564  32.29491173]\n",
      " [ 20.           0.          20.          40.           0.\n",
      "    0.          20.        ]\n",
      " [  0.           0.           0.           0.           0.\n",
      "    0.         100.        ]\n",
      " [ 20.           5.29411765  30.58823529  17.64705882  14.11764706\n",
      "    0.58823529  11.76470588]\n",
      " [ 39.75265018   2.47349823   3.18021201   7.4204947   42.22614841\n",
      "    2.82685512   2.12014134]\n",
      " [ 48.84834896  11.92417448  14.27843457   5.21810029  15.46066042\n",
      "    1.70199755   2.56828373]\n",
      " [ 12.53321903   9.8071153   27.11530219  32.42177454  12.88469781\n",
      "    2.04886412   3.189027  ]\n",
      " [ 13.16367548  10.39669485  13.79404277  18.51463814   6.58899704\n",
      "   21.11957421  16.42237751]\n",
      " [ 11.07970605   8.25325042  10.06218202  13.51045789   5.25720746\n",
      "   13.90616167  37.93103448]\n",
      " [  7.69230769   7.69230769  23.07692308   7.69230769  15.38461538\n",
      "    0.          38.46153846]]\n"
     ]
    }
   ],
   "source": [
    "row_totals = pivoting.sum(axis=1)\n",
    "\n",
    "# Calculate percentages\n",
    "percentage_df = pivoting.div(row_totals, axis=0) * 100\n",
    "\n",
    "# Reset the index if you want 'Category' as a column again\n",
    "#percentage_df.reset_index(inplace=True)\n",
    "print(percentage_df.values)"
   ]
  },
  {
   "cell_type": "code",
   "execution_count": 67,
   "id": "ac707738-3185-4086-af5a-c351d1d2f608",
   "metadata": {},
   "outputs": [
    {
     "data": {
      "image/png": "[encoded data removed]",
      "text/plain": [
       "<Figure size 1000x200 with 2 Axes>"
      ]
     },
     "metadata": {},
     "output_type": "display_data"
    }
   ],
   "source": [
    "plt.figure(figsize=(10, 2))\n",
    "sns.heatmap(percentage_df.set_index('som_rep2').T, annot=False, cmap='viridis', cbar_kws={'label': 'Percentage'})\n",
    "plt.title('Heatmap of Percentages per Row')\n",
    "plt.xlabel('som_rep2')\n",
    "plt.ylabel('Subcategory')\n",
    "plt.show()"
   ]
  },
  {
   "cell_type": "code",
   "execution_count": 70,
   "id": "972f5f36-0df4-4d14-b531-82d5bc34dae8",
   "metadata": {},
   "outputs": [],
   "source": [
    "target=df_data.obs.values"
   ]
  },
  {
   "cell_type": "code",
   "execution_count": null,
   "id": "19aa547b-6a37-4f71-910b-a8f02fd4a723",
   "metadata": {},
   "outputs": [],
   "source": [
    "np_dtw=np.zeros((df_data.shape[0],2,31))\n",
    "np_dtw[:,0,:]=gab_median_frac.iloc[:,:][[f'VV_{i}' for i in range(0,31)]].to_numpy()\n",
    "np_dtw[:,1,:]=gab_median_frac.iloc[:,:][[f'VH_{i}' for i in range(0,31)]].to_numpy()"
   ]
  },
  {
   "cell_type": "code",
   "execution_count": 72,
   "id": "e058cce9-6df3-4e69-8d4a-a6c6d981723d",
   "metadata": {},
   "outputs": [
    {
     "data": {
      "text/plain": [
       "\u001b[0;31mSignature:\u001b[0m \u001b[0msom\u001b[0m\u001b[0;34m.\u001b[0m\u001b[0mlabels_map\u001b[0m\u001b[0;34m(\u001b[0m\u001b[0mdata\u001b[0m\u001b[0;34m,\u001b[0m \u001b[0mlabels\u001b[0m\u001b[0;34m)\u001b[0m\u001b[0;34m\u001b[0m\u001b[0;34m\u001b[0m\u001b[0m\n",
       "\u001b[0;31mDocstring:\u001b[0m\n",
       "Returns a dictionary wm where wm[(i,j)] is a dictionary\n",
       "that contains the number of samples from a given label\n",
       "that have been mapped in position i,j.\n",
       "\n",
       "Parameters\n",
       "----------\n",
       "data : np.array or list\n",
       "    Data matrix.\n",
       "\n",
       "label : np.array or list\n",
       "    Labels for each sample in data.\n",
       "\u001b[0;31mFile:\u001b[0m      ~/.local/lib/python3.10/site-packages/dtwsom/dtwsom.py\n",
       "\u001b[0;31mType:\u001b[0m      method"
      ]
     },
     "metadata": {},
     "output_type": "display_data"
    }
   ],
   "source": [
    "som.labels_map("
   ]
  },
  {
   "cell_type": "code",
   "execution_count": null,
   "id": "16298a57-0ea7-479c-9261-ff5d8f9a0781",
   "metadata": {},
   "outputs": [],
   "source": []
  }
 ],
 "metadata": {
  "kernelspec": {
   "display_name": "Python 3 (ipykernel)",
   "language": "python",
   "name": "python3"
  },
  "language_info": {
   "codemirror_mode": {
    "name": "ipython",
    "version": 3
   },
   "file_extension": ".py",
   "mimetype": "text/x-python",
   "name": "python",
   "nbconvert_exporter": "python",
   "pygments_lexer": "ipython3",
   "version": "3.10.14"
  }
 },
 "nbformat": 4,
 "nbformat_minor": 5
}
