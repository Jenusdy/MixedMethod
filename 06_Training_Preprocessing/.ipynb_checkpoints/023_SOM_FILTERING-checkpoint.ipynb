{
 "cells": [
  {
   "cell_type": "code",
   "execution_count": 34,
   "id": "bf595619-fcc2-4764-bc13-bd9be3ac91f5",
   "metadata": {},
   "outputs": [],
   "source": [
    "import pickle\n",
    "import pandas as pd\n",
    "import polars as pl\n",
    "import numpy as np\n",
    "import dtwsom\n",
    "from concurrent.futures import ProcessPoolExecutor, as_completed\n",
    "import os\n",
    "import seaborn as sns\n",
    "import matplotlib.pyplot as plt\n",
    "from tqdm import tqdm"
   ]
  },
  {
   "cell_type": "code",
   "execution_count": 35,
   "id": "0d26695b-37dd-4095-abcf-8fd3b3cedbfc",
   "metadata": {},
   "outputs": [],
   "source": [
    "kdprov='32'\n",
    "df_variabce=pd.read_pickle(f'/data/ksa/04_Data_Preprocessing/{kdprov}/02_variance_filtering/variance_filtering.pkl')"
   ]
  },
  {
   "cell_type": "code",
   "execution_count": 36,
   "id": "a4989bc2-4496-4060-9fe0-7be84247a08a",
   "metadata": {},
   "outputs": [
    {
     "data": {
      "text/html": [
       "<div>\n",
       "<style scoped>\n",
       "    .dataframe tbody tr th:only-of-type {\n",
       "        vertical-align: middle;\n",
       "    }\n",
       "\n",
       "    .dataframe tbody tr th {\n",
       "        vertical-align: top;\n",
       "    }\n",
       "\n",
       "    .dataframe thead th {\n",
       "        text-align: right;\n",
       "    }\n",
       "</style>\n",
       "<table border=\"1\" class=\"dataframe\">\n",
       "  <thead>\n",
       "    <tr style=\"text-align: right;\">\n",
       "      <th></th>\n",
       "      <th>periode</th>\n",
       "      <th>idsubsegment</th>\n",
       "      <th>mean_var</th>\n",
       "      <th>tahun</th>\n",
       "      <th>bulan</th>\n",
       "      <th>obs</th>\n",
       "      <th>p5</th>\n",
       "      <th>p10</th>\n",
       "      <th>p20</th>\n",
       "      <th>p30</th>\n",
       "      <th>less_q5</th>\n",
       "      <th>less_q10</th>\n",
       "      <th>less_q20</th>\n",
       "      <th>less_q30</th>\n",
       "    </tr>\n",
       "  </thead>\n",
       "  <tbody>\n",
       "    <tr>\n",
       "      <th>0</th>\n",
       "      <td>20220125_20220205</td>\n",
       "      <td>320101006A1</td>\n",
       "      <td>0.131505</td>\n",
       "      <td>22</td>\n",
       "      <td>1</td>\n",
       "      <td>2.0</td>\n",
       "      <td>0.169263</td>\n",
       "      <td>0.222436</td>\n",
       "      <td>0.308105</td>\n",
       "      <td>0.384747</td>\n",
       "      <td>True</td>\n",
       "      <td>True</td>\n",
       "      <td>True</td>\n",
       "      <td>True</td>\n",
       "    </tr>\n",
       "    <tr>\n",
       "      <th>1</th>\n",
       "      <td>20220218_20220301</td>\n",
       "      <td>320101006A1</td>\n",
       "      <td>1.194184</td>\n",
       "      <td>22</td>\n",
       "      <td>2</td>\n",
       "      <td>2.0</td>\n",
       "      <td>0.169263</td>\n",
       "      <td>0.222436</td>\n",
       "      <td>0.308105</td>\n",
       "      <td>0.384747</td>\n",
       "      <td>False</td>\n",
       "      <td>False</td>\n",
       "      <td>False</td>\n",
       "      <td>False</td>\n",
       "    </tr>\n",
       "  </tbody>\n",
       "</table>\n",
       "</div>"
      ],
      "text/plain": [
       "             periode idsubsegment  mean_var tahun bulan  obs        p5  \\\n",
       "0  20220125_20220205  320101006A1  0.131505    22     1  2.0  0.169263   \n",
       "1  20220218_20220301  320101006A1  1.194184    22     2  2.0  0.169263   \n",
       "\n",
       "        p10       p20       p30  less_q5  less_q10  less_q20  less_q30  \n",
       "0  0.222436  0.308105  0.384747     True      True      True      True  \n",
       "1  0.222436  0.308105  0.384747    False     False     False     False  "
      ]
     },
     "execution_count": 36,
     "metadata": {},
     "output_type": "execute_result"
    }
   ],
   "source": [
    "df_variabce.head(2)"
   ]
  },
  {
   "cell_type": "code",
   "execution_count": 37,
   "id": "52d85a4b-8f4e-4fa7-ae87-a35ef2f2d59d",
   "metadata": {},
   "outputs": [],
   "source": [
    "df_training_vh=pd.read_pickle(f'/data/ksa/04_Data_Preprocessing/training-test/{kdprov}/training_imputation_{kdprov}_VH.pkl')\n",
    "df_training_vv=pd.read_pickle(f'/data/ksa/04_Data_Preprocessing/training-test/{kdprov}/training_imputation_{kdprov}_VV.pkl')"
   ]
  },
  {
   "cell_type": "code",
   "execution_count": 38,
   "id": "7fc68de5-4a2b-4c86-bf90-07ba20cd14c1",
   "metadata": {},
   "outputs": [],
   "source": [
    "df_training_vh=pl.from_pandas(df_training_vh)\n",
    "df_training_vv=pl.from_pandas(df_training_vv)"
   ]
  },
  {
   "cell_type": "code",
   "execution_count": 39,
   "id": "c7186ade-76ae-4291-b89b-60eab511b2ba",
   "metadata": {},
   "outputs": [
    {
     "data": {
      "text/html": [
       "<div><style>\n",
       ".dataframe > thead > tr,\n",
       ".dataframe > tbody > tr {\n",
       "  text-align: right;\n",
       "  white-space: pre-wrap;\n",
       "}\n",
       "</style>\n",
       "<small>shape: (10_767_550, 41)</small><table border=\"1\" class=\"dataframe\"><thead><tr><th>idpoint</th><th>idsubsegment</th><th>idsegment</th><th>nth</th><th>periode</th><th>observation</th><th>class</th><th>MGRS</th><th>VV_30</th><th>VV_29</th><th>VV_28</th><th>VV_27</th><th>VV_26</th><th>VV_25</th><th>VV_24</th><th>VV_23</th><th>VV_22</th><th>VV_21</th><th>VV_20</th><th>VV_19</th><th>VV_18</th><th>VV_17</th><th>VV_16</th><th>VV_15</th><th>VV_14</th><th>VV_13</th><th>VV_12</th><th>VV_11</th><th>VV_10</th><th>VV_9</th><th>VV_8</th><th>VV_7</th><th>VV_6</th><th>VV_5</th><th>VV_4</th><th>VV_3</th><th>VV_2</th><th>VV_1</th><th>VV_0</th><th>year</th><th>date</th></tr><tr><td>str</td><td>str</td><td>str</td><td>i64</td><td>str</td><td>str</td><td>str</td><td>str</td><td>f64</td><td>f64</td><td>f64</td><td>f64</td><td>f64</td><td>f64</td><td>f64</td><td>f64</td><td>f64</td><td>f64</td><td>f64</td><td>f64</td><td>f64</td><td>f64</td><td>f64</td><td>f64</td><td>f64</td><td>f64</td><td>f64</td><td>f64</td><td>f64</td><td>f64</td><td>f64</td><td>f64</td><td>f64</td><td>f64</td><td>f64</td><td>f64</td><td>f64</td><td>f64</td><td>f64</td><td>str</td><td>datetime[ns]</td></tr></thead><tbody><tr><td>&quot;321216004A1#01&quot;</td><td>&quot;321216004A1&quot;</td><td>&quot;321216004&quot;</td><td>1</td><td>&quot;2022_03&quot;</td><td>&quot;2.0&quot;</td><td>&quot;V2&quot;</td><td>&quot;49MAP&quot;</td><td>-10.396426</td><td>-9.450124</td><td>-8.203821</td><td>-7.959953</td><td>-5.820173</td><td>-8.173692</td><td>-8.430491</td><td>-15.05382</td><td>-15.336088</td><td>-11.277904</td><td>-12.320101</td><td>-12.215375</td><td>-10.251871</td><td>-10.776735</td><td>-11.079051</td><td>-11.032716</td><td>-10.870481</td><td>-12.222801</td><td>-11.693762</td><td>-11.316793</td><td>-11.511075</td><td>-12.084036</td><td>-10.519159</td><td>-11.003079</td><td>-10.189072</td><td>-13.208158</td><td>-16.748653</td><td>-13.581258</td><td>-10.937398</td><td>-11.49781</td><td>-11.43221</td><td>&quot;2022&quot;</td><td>2022-01-01 00:00:00</td></tr><tr><td>&quot;321216004A1#02&quot;</td><td>&quot;321216004A1&quot;</td><td>&quot;321216004&quot;</td><td>1</td><td>&quot;2022_03&quot;</td><td>&quot;2.0&quot;</td><td>&quot;V2&quot;</td><td>&quot;49MAP&quot;</td><td>-10.032044</td><td>-8.307462</td><td>-7.909235</td><td>-8.187766</td><td>-6.266153</td><td>-8.179283</td><td>-8.630699</td><td>-13.041665</td><td>-14.932037</td><td>-12.262942</td><td>-12.015411</td><td>-11.098397</td><td>-9.05132</td><td>-9.57127</td><td>-9.883789</td><td>-10.117431</td><td>-10.184915</td><td>-11.973206</td><td>-11.148575</td><td>-10.524063</td><td>-10.860401</td><td>-11.420726</td><td>-10.103855</td><td>-10.604276</td><td>-9.972892</td><td>-12.830419</td><td>-15.986698</td><td>-13.495283</td><td>-11.496466</td><td>-11.431231</td><td>-10.696453</td><td>&quot;2022&quot;</td><td>2022-01-01 00:00:00</td></tr><tr><td>&quot;321216004A1#03&quot;</td><td>&quot;321216004A1&quot;</td><td>&quot;321216004&quot;</td><td>1</td><td>&quot;2022_03&quot;</td><td>&quot;2.0&quot;</td><td>&quot;V2&quot;</td><td>&quot;49MAP&quot;</td><td>-9.521249</td><td>-8.483735</td><td>-8.126285</td><td>-8.481356</td><td>-6.607345</td><td>-7.608532</td><td>-7.346963</td><td>-10.839412</td><td>-15.309116</td><td>-12.158161</td><td>-11.243083</td><td>-8.883849</td><td>-9.604089</td><td>-9.457707</td><td>-9.79875</td><td>-10.07695</td><td>-10.424845</td><td>-10.918825</td><td>-10.94558</td><td>-10.943883</td><td>-10.58161</td><td>-10.390226</td><td>-9.791052</td><td>-9.102615</td><td>-7.288841</td><td>-11.381972</td><td>-15.76795</td><td>-12.962037</td><td>-10.414447</td><td>-12.586448</td><td>-11.035741</td><td>&quot;2022&quot;</td><td>2022-01-01 00:00:00</td></tr><tr><td>&quot;321216004A1#04&quot;</td><td>&quot;321216004A1&quot;</td><td>&quot;321216004&quot;</td><td>1</td><td>&quot;2022_03&quot;</td><td>&quot;2.0&quot;</td><td>&quot;V2&quot;</td><td>&quot;49MAP&quot;</td><td>-9.146229</td><td>-7.901982</td><td>-7.502713</td><td>-7.892557</td><td>-6.529975</td><td>-7.526692</td><td>-7.329951</td><td>-11.435196</td><td>-16.172394</td><td>-12.319621</td><td>-12.994387</td><td>-12.091397</td><td>-11.542945</td><td>-10.596852</td><td>-9.675714</td><td>-9.936444</td><td>-9.93948</td><td>-10.936728</td><td>-10.92298</td><td>-10.960719</td><td>-10.741453</td><td>-10.995338</td><td>-9.039623</td><td>-8.217264</td><td>-5.673685</td><td>-10.888506</td><td>-16.436401</td><td>-13.151064</td><td>-10.710898</td><td>-11.991153</td><td>-11.291538</td><td>&quot;2022&quot;</td><td>2022-01-01 00:00:00</td></tr><tr><td>&quot;321216004A1#05&quot;</td><td>&quot;321216004A1&quot;</td><td>&quot;321216004&quot;</td><td>1</td><td>&quot;2022_03&quot;</td><td>&quot;2.0&quot;</td><td>&quot;V2&quot;</td><td>&quot;49MAP&quot;</td><td>-8.904285</td><td>-7.75883</td><td>-7.359162</td><td>-7.37206</td><td>-7.475123</td><td>-8.206438</td><td>-7.773859</td><td>-12.672632</td><td>-17.115803</td><td>-11.638521</td><td>-12.839111</td><td>-12.54865</td><td>-10.303668</td><td>-10.274735</td><td>-9.838783</td><td>-10.180563</td><td>-10.441009</td><td>-11.181442</td><td>-10.810324</td><td>-10.489445</td><td>-10.295127</td><td>-10.444609</td><td>-9.114521</td><td>-9.102986</td><td>-7.781568</td><td>-11.685213</td><td>-16.081036</td><td>-12.954643</td><td>-10.233786</td><td>-11.872468</td><td>-11.185385</td><td>&quot;2022&quot;</td><td>2022-01-01 00:00:00</td></tr><tr><td>&hellip;</td><td>&hellip;</td><td>&hellip;</td><td>&hellip;</td><td>&hellip;</td><td>&hellip;</td><td>&hellip;</td><td>&hellip;</td><td>&hellip;</td><td>&hellip;</td><td>&hellip;</td><td>&hellip;</td><td>&hellip;</td><td>&hellip;</td><td>&hellip;</td><td>&hellip;</td><td>&hellip;</td><td>&hellip;</td><td>&hellip;</td><td>&hellip;</td><td>&hellip;</td><td>&hellip;</td><td>&hellip;</td><td>&hellip;</td><td>&hellip;</td><td>&hellip;</td><td>&hellip;</td><td>&hellip;</td><td>&hellip;</td><td>&hellip;</td><td>&hellip;</td><td>&hellip;</td><td>&hellip;</td><td>&hellip;</td><td>&hellip;</td><td>&hellip;</td><td>&hellip;</td><td>&hellip;</td><td>&hellip;</td><td>&hellip;</td><td>&hellip;</td></tr><tr><td>&quot;320611108C3#21&quot;</td><td>&quot;320611108C3&quot;</td><td>&quot;320611108&quot;</td><td>9</td><td>&quot;2023_23&quot;</td><td>&quot;2.0&quot;</td><td>&quot;V2&quot;</td><td>&quot;48MZS&quot;</td><td>-7.810546</td><td>-8.25983</td><td>-7.464606</td><td>-7.402752</td><td>-7.095931</td><td>-7.313564</td><td>-7.683671</td><td>-7.487093</td><td>-6.937946</td><td>-8.859563</td><td>-8.424025</td><td>-8.698429</td><td>-8.316526</td><td>-7.037574</td><td>-10.050342</td><td>-9.115036</td><td>-9.305223</td><td>-7.512376</td><td>-7.525995</td><td>-6.538045</td><td>-6.955973</td><td>-6.975267</td><td>-8.195428</td><td>-7.602043</td><td>-7.421929</td><td>-7.29618</td><td>-6.888129</td><td>-7.903832</td><td>-7.989654</td><td>-8.014138</td><td>-8.915658</td><td>&quot;2023&quot;</td><td>2023-09-01 00:00:00</td></tr><tr><td>&quot;320611108C3#22&quot;</td><td>&quot;320611108C3&quot;</td><td>&quot;320611108&quot;</td><td>9</td><td>&quot;2023_23&quot;</td><td>&quot;2.0&quot;</td><td>&quot;V2&quot;</td><td>&quot;48MZS&quot;</td><td>-7.485729</td><td>-7.200227</td><td>-6.566957</td><td>-5.828629</td><td>-4.9049</td><td>-5.910247</td><td>-6.761181</td><td>-7.070704</td><td>-8.224265</td><td>-6.32142</td><td>-7.80374</td><td>-8.923034</td><td>-8.075183</td><td>-7.26592</td><td>-8.197623</td><td>-8.208216</td><td>-8.733279</td><td>-7.549978</td><td>-7.45224</td><td>-7.261676</td><td>-7.417298</td><td>-7.522438</td><td>-7.530992</td><td>-6.777047</td><td>-5.970366</td><td>-6.445502</td><td>-6.889185</td><td>-6.850836</td><td>-7.28026</td><td>-7.5218</td><td>-8.236604</td><td>&quot;2023&quot;</td><td>2023-09-01 00:00:00</td></tr><tr><td>&quot;320611108C3#23&quot;</td><td>&quot;320611108C3&quot;</td><td>&quot;320611108&quot;</td><td>9</td><td>&quot;2023_23&quot;</td><td>&quot;2.0&quot;</td><td>&quot;V2&quot;</td><td>&quot;48MZS&quot;</td><td>-7.86787</td><td>-6.994126</td><td>-7.558501</td><td>-6.224036</td><td>-5.128356</td><td>-5.639809</td><td>-5.97545</td><td>-6.53018</td><td>-7.581528</td><td>-6.998275</td><td>-8.270405</td><td>-9.318497</td><td>-8.824873</td><td>-8.635197</td><td>-8.074065</td><td>-8.293799</td><td>-7.767694</td><td>-9.53211</td><td>-8.329453</td><td>-7.135418</td><td>-7.130155</td><td>-6.922751</td><td>-6.224716</td><td>-5.919777</td><td>-5.551929</td><td>-6.016574</td><td>-6.568192</td><td>-6.764529</td><td>-7.320638</td><td>-7.765913</td><td>-8.164395</td><td>&quot;2023&quot;</td><td>2023-09-01 00:00:00</td></tr><tr><td>&quot;320611108C3#24&quot;</td><td>&quot;320611108C3&quot;</td><td>&quot;320611108&quot;</td><td>9</td><td>&quot;2023_23&quot;</td><td>&quot;2.0&quot;</td><td>&quot;V2&quot;</td><td>&quot;48MZS&quot;</td><td>-8.335123</td><td>-8.890245</td><td>-7.394633</td><td>-6.838417</td><td>-5.98516</td><td>-5.979192</td><td>-5.835594</td><td>-6.484282</td><td>-7.474847</td><td>-6.848505</td><td>-7.68324</td><td>-8.396265</td><td>-7.928728</td><td>-7.379582</td><td>-8.117556</td><td>-7.979452</td><td>-7.684826</td><td>-8.856369</td><td>-6.786531</td><td>-7.299412</td><td>-7.121236</td><td>-7.588251</td><td>-5.541092</td><td>-5.960042</td><td>-5.908043</td><td>-6.082708</td><td>-6.632596</td><td>-6.03178</td><td>-6.787791</td><td>-7.357431</td><td>-7.356794</td><td>&quot;2023&quot;</td><td>2023-09-01 00:00:00</td></tr><tr><td>&quot;320611108C3#25&quot;</td><td>&quot;320611108C3&quot;</td><td>&quot;320611108&quot;</td><td>9</td><td>&quot;2023_23&quot;</td><td>&quot;2.0&quot;</td><td>&quot;V2&quot;</td><td>&quot;48MZS&quot;</td><td>-7.98524</td><td>-8.273266</td><td>-7.530774</td><td>-6.995182</td><td>-6.305656</td><td>-6.51544</td><td>-6.475158</td><td>-7.15427</td><td>-8.294689</td><td>-6.91962</td><td>-7.547133</td><td>-7.668495</td><td>-7.713405</td><td>-7.859119</td><td>-7.438278</td><td>-7.31567</td><td>-6.931215</td><td>-7.56514</td><td>-5.822345</td><td>-7.941699</td><td>-6.568663</td><td>-6.200136</td><td>-4.802892</td><td>-6.079422</td><td>-7.40462</td><td>-6.458871</td><td>-5.855216</td><td>-6.508673</td><td>-7.153318</td><td>-8.014401</td><td>-7.53014</td><td>&quot;2023&quot;</td><td>2023-09-01 00:00:00</td></tr></tbody></table></div>"
      ],
      "text/plain": [
       "shape: (10_767_550, 41)\n",
       "┌──────────────┬──────────────┬───────────┬─────┬───┬────────────┬────────────┬──────┬─────────────┐\n",
       "│ idpoint      ┆ idsubsegment ┆ idsegment ┆ nth ┆ … ┆ VV_1       ┆ VV_0       ┆ year ┆ date        │\n",
       "│ ---          ┆ ---          ┆ ---       ┆ --- ┆   ┆ ---        ┆ ---        ┆ ---  ┆ ---         │\n",
       "│ str          ┆ str          ┆ str       ┆ i64 ┆   ┆ f64        ┆ f64        ┆ str  ┆ datetime[ns │\n",
       "│              ┆              ┆           ┆     ┆   ┆            ┆            ┆      ┆ ]           │\n",
       "╞══════════════╪══════════════╪═══════════╪═════╪═══╪════════════╪════════════╪══════╪═════════════╡\n",
       "│ 321216004A1# ┆ 321216004A1  ┆ 321216004 ┆ 1   ┆ … ┆ -11.49781  ┆ -11.43221  ┆ 2022 ┆ 2022-01-01  │\n",
       "│ 01           ┆              ┆           ┆     ┆   ┆            ┆            ┆      ┆ 00:00:00    │\n",
       "│ 321216004A1# ┆ 321216004A1  ┆ 321216004 ┆ 1   ┆ … ┆ -11.431231 ┆ -10.696453 ┆ 2022 ┆ 2022-01-01  │\n",
       "│ 02           ┆              ┆           ┆     ┆   ┆            ┆            ┆      ┆ 00:00:00    │\n",
       "│ 321216004A1# ┆ 321216004A1  ┆ 321216004 ┆ 1   ┆ … ┆ -12.586448 ┆ -11.035741 ┆ 2022 ┆ 2022-01-01  │\n",
       "│ 03           ┆              ┆           ┆     ┆   ┆            ┆            ┆      ┆ 00:00:00    │\n",
       "│ 321216004A1# ┆ 321216004A1  ┆ 321216004 ┆ 1   ┆ … ┆ -11.991153 ┆ -11.291538 ┆ 2022 ┆ 2022-01-01  │\n",
       "│ 04           ┆              ┆           ┆     ┆   ┆            ┆            ┆      ┆ 00:00:00    │\n",
       "│ 321216004A1# ┆ 321216004A1  ┆ 321216004 ┆ 1   ┆ … ┆ -11.872468 ┆ -11.185385 ┆ 2022 ┆ 2022-01-01  │\n",
       "│ 05           ┆              ┆           ┆     ┆   ┆            ┆            ┆      ┆ 00:00:00    │\n",
       "│ …            ┆ …            ┆ …         ┆ …   ┆ … ┆ …          ┆ …          ┆ …    ┆ …           │\n",
       "│ 320611108C3# ┆ 320611108C3  ┆ 320611108 ┆ 9   ┆ … ┆ -8.014138  ┆ -8.915658  ┆ 2023 ┆ 2023-09-01  │\n",
       "│ 21           ┆              ┆           ┆     ┆   ┆            ┆            ┆      ┆ 00:00:00    │\n",
       "│ 320611108C3# ┆ 320611108C3  ┆ 320611108 ┆ 9   ┆ … ┆ -7.5218    ┆ -8.236604  ┆ 2023 ┆ 2023-09-01  │\n",
       "│ 22           ┆              ┆           ┆     ┆   ┆            ┆            ┆      ┆ 00:00:00    │\n",
       "│ 320611108C3# ┆ 320611108C3  ┆ 320611108 ┆ 9   ┆ … ┆ -7.765913  ┆ -8.164395  ┆ 2023 ┆ 2023-09-01  │\n",
       "│ 23           ┆              ┆           ┆     ┆   ┆            ┆            ┆      ┆ 00:00:00    │\n",
       "│ 320611108C3# ┆ 320611108C3  ┆ 320611108 ┆ 9   ┆ … ┆ -7.357431  ┆ -7.356794  ┆ 2023 ┆ 2023-09-01  │\n",
       "│ 24           ┆              ┆           ┆     ┆   ┆            ┆            ┆      ┆ 00:00:00    │\n",
       "│ 320611108C3# ┆ 320611108C3  ┆ 320611108 ┆ 9   ┆ … ┆ -8.014401  ┆ -7.53014   ┆ 2023 ┆ 2023-09-01  │\n",
       "│ 25           ┆              ┆           ┆     ┆   ┆            ┆            ┆      ┆ 00:00:00    │\n",
       "└──────────────┴──────────────┴───────────┴─────┴───┴────────────┴────────────┴──────┴─────────────┘"
      ]
     },
     "execution_count": 39,
     "metadata": {},
     "output_type": "execute_result"
    }
   ],
   "source": [
    "df_training_vv"
   ]
  },
  {
   "cell_type": "code",
   "execution_count": 40,
   "id": "ee29872f-7502-4c14-b851-683c01acd72d",
   "metadata": {},
   "outputs": [],
   "source": [
    "df_training_vv_var=df_training_vv.filter(\n",
    "    (pl.col(\"idsubsegment\").is_in(df_variabce.idsubsegment))\n",
    ")\n",
    "\n",
    "df_training_vh_var=df_training_vh.filter(\n",
    "    (pl.col(\"idsubsegment\").is_in(df_variabce.idsubsegment))\n",
    ")"
   ]
  },
  {
   "cell_type": "code",
   "execution_count": 41,
   "id": "43474789-194e-42e3-9c75-75d1777716ec",
   "metadata": {},
   "outputs": [],
   "source": [
    "df_inner = df_training_vv_var.join(df_training_vh_var, on=['idpoint','idsubsegment','idsegment','nth',\n",
    "                                                           'periode','observation','class','MGRS'], how=\"inner\")"
   ]
  },
  {
   "cell_type": "code",
   "execution_count": 42,
   "id": "592fb931-6167-4310-bbf2-45d700960d98",
   "metadata": {},
   "outputs": [],
   "source": [
    "df_select=df_inner.select(['idpoint','nth','MGRS',\n",
    " 'periode','idsubsegment','VV_30', 'VV_29','VV_28', 'VV_27', 'VV_26', 'VV_25', 'VV_24', 'VV_23', 'VV_22', 'VV_21', 'VV_20', 'VV_19', 'VV_18',\n",
    " 'VV_17', 'VV_16','VV_15', 'VV_14', 'VV_13', 'VV_12', 'VV_11', 'VV_10', 'VV_9', 'VV_8', 'VV_7', 'VV_6', 'VV_5', 'VV_4', 'VV_3', 'VV_2', 'VV_1',\n",
    " 'VV_0', 'VH_30', 'VH_29','VH_28', 'VH_27', 'VH_26', 'VH_25', 'VH_24', 'VH_23', 'VH_22', 'VH_21', 'VH_20', 'VH_19', 'VH_18', 'VH_17', 'VH_16',\n",
    " 'VH_15', 'VH_14', 'VH_13', 'VH_12', 'VH_11', 'VH_10', 'VH_9', 'VH_8', 'VH_7', 'VH_6', 'VH_5','VH_4', 'VH_3', 'VH_2', 'VH_1', 'VH_0'])"
   ]
  },
  {
   "cell_type": "code",
   "execution_count": 43,
   "id": "bd60b533-2a87-43e7-82db-d58cda6c0a54",
   "metadata": {},
   "outputs": [
    {
     "data": {
      "text/html": [
       "<div>\n",
       "<style scoped>\n",
       "    .dataframe tbody tr th:only-of-type {\n",
       "        vertical-align: middle;\n",
       "    }\n",
       "\n",
       "    .dataframe tbody tr th {\n",
       "        vertical-align: top;\n",
       "    }\n",
       "\n",
       "    .dataframe thead th {\n",
       "        text-align: right;\n",
       "    }\n",
       "</style>\n",
       "<table border=\"1\" class=\"dataframe\">\n",
       "  <thead>\n",
       "    <tr style=\"text-align: right;\">\n",
       "      <th></th>\n",
       "      <th>is_kabisat</th>\n",
       "      <th>id_per_image</th>\n",
       "      <th>periode_start</th>\n",
       "      <th>periode_end</th>\n",
       "    </tr>\n",
       "  </thead>\n",
       "  <tbody>\n",
       "    <tr>\n",
       "      <th>0</th>\n",
       "      <td>0</td>\n",
       "      <td>1</td>\n",
       "      <td>0101</td>\n",
       "      <td>0112</td>\n",
       "    </tr>\n",
       "    <tr>\n",
       "      <th>1</th>\n",
       "      <td>0</td>\n",
       "      <td>2</td>\n",
       "      <td>0113</td>\n",
       "      <td>0124</td>\n",
       "    </tr>\n",
       "  </tbody>\n",
       "</table>\n",
       "</div>"
      ],
      "text/plain": [
       "  is_kabisat id_per_image periode_start periode_end\n",
       "0          0            1          0101        0112\n",
       "1          0            2          0113        0124"
      ]
     },
     "execution_count": 43,
     "metadata": {},
     "output_type": "execute_result"
    }
   ],
   "source": [
    "bridging_date=pd.read_excel(\"/data/ksa/03_Sampling/bridging.xlsx\", dtype='object', sheet_name=\"periode_to_date\")\n",
    "bridging_date.head(2)"
   ]
  },
  {
   "cell_type": "code",
   "execution_count": 44,
   "id": "8bfb0901-a5e5-4d26-aa60-57fc85e959d6",
   "metadata": {},
   "outputs": [],
   "source": [
    "df_variabce['periode_start']=df_variabce['periode'].apply(lambda y: y.split('_')[0][4:])\n",
    "df_variabce['periode_end']=df_variabce['periode'].apply(lambda y: y.split('_')[1][4:])\n",
    "df_variabce['tahun']=df_variabce['periode'].apply(lambda y: y[:4])"
   ]
  },
  {
   "cell_type": "code",
   "execution_count": 45,
   "id": "5a978025-e424-4ea2-afc6-6e8972b7c984",
   "metadata": {},
   "outputs": [],
   "source": [
    "df_variabce=df_variabce.merge(bridging_date.query('is_kabisat==0')[['periode_start','periode_end','id_per_image']])"
   ]
  },
  {
   "cell_type": "code",
   "execution_count": 46,
   "id": "19ec5cc4-de58-44a6-86a5-13c1e87ff1e6",
   "metadata": {},
   "outputs": [],
   "source": [
    "df_variabce['periode_y']=df_variabce.apply(lambda y: str(y.tahun)+'_'+str(y.id_per_image).zfill(2),axis=1)"
   ]
  },
  {
   "cell_type": "code",
   "execution_count": 47,
   "id": "73c734f9-e76b-4975-9203-0f0194ee7082",
   "metadata": {},
   "outputs": [],
   "source": [
    "df_variabce['periode_x']=df_variabce['periode']\n",
    "df_variabce['periode']=df_variabce['periode_y']"
   ]
  },
  {
   "cell_type": "code",
   "execution_count": 48,
   "id": "924a82f8-0db8-4865-93af-92521af22dc6",
   "metadata": {},
   "outputs": [],
   "source": [
    "df_10_variance=df_variabce.query('less_q10==True')"
   ]
  },
  {
   "cell_type": "code",
   "execution_count": 49,
   "id": "2a6fcefc-5b83-4329-858c-6c86feddb25b",
   "metadata": {},
   "outputs": [],
   "source": [
    "data_for_dtw=df_select.join(pl.from_dataframe(df_10_variance[['periode','idsubsegment','obs']]),\n",
    "               on=['idsubsegment','periode'],how='inner').to_pandas()"
   ]
  },
  {
   "cell_type": "code",
   "execution_count": 50,
   "id": "967cdb48-1fe9-4c7e-9a53-9f411461343e",
   "metadata": {},
   "outputs": [],
   "source": [
    "data_for_dtw_drop=data_for_dtw.drop(columns=['MGRS'],axis=1)"
   ]
  },
  {
   "cell_type": "code",
   "execution_count": 51,
   "id": "060e3e80-89fd-4187-88c9-5cc7b6169b2e",
   "metadata": {},
   "outputs": [],
   "source": [
    "vv_median=data_for_dtw_drop.groupby(['idsubsegment','periode','obs'])[[f'VV_{i}' for i in range(0,31)]].agg('median').reset_index()\n",
    "vh_median=data_for_dtw_drop.groupby(['idsubsegment','periode','obs'])[[f'VH_{i}' for i in range(0,31)]].agg('median').reset_index()\n",
    "gab_median=vv_median.merge(vh_median)"
   ]
  },
  {
   "cell_type": "code",
   "execution_count": 52,
   "id": "79295d69-e6be-445a-a804-12e31a3c0fe3",
   "metadata": {},
   "outputs": [],
   "source": [
    "gab_median_frac=gab_median.groupby('obs').sample(frac=0.3,random_state=1234)"
   ]
  },
  {
   "cell_type": "code",
   "execution_count": 53,
   "id": "1743f378-8d48-428b-9920-bb8799fc0343",
   "metadata": {},
   "outputs": [
    {
     "data": {
      "text/plain": [
       "obs\n",
       "4.0    2801\n",
       "3.0    2216\n",
       "1.0    2020\n",
       "7.0    1658\n",
       "2.0    1563\n",
       "8.0    1516\n",
       "5.0    1120\n",
       "Name: count, dtype: int64"
      ]
     },
     "execution_count": 53,
     "metadata": {},
     "output_type": "execute_result"
    }
   ],
   "source": [
    "gab_median_frac.obs.value_counts()"
   ]
  },
  {
   "cell_type": "code",
   "execution_count": 54,
   "id": "81356d77-4718-46e2-805b-ae634b9b06b8",
   "metadata": {},
   "outputs": [],
   "source": [
    "np_dtw=np.zeros((gab_median_frac.shape[0],2,31))\n",
    "np_dtw[:,0,:]=gab_median_frac.iloc[:,:][[f'VV_{i}' for i in range(0,31)]].to_numpy()\n",
    "np_dtw[:,1,:]=gab_median_frac.iloc[:,:][[f'VH_{i}' for i in range(0,31)]].to_numpy()"
   ]
  },
  {
   "cell_type": "code",
   "execution_count": 55,
   "id": "bf92de7c-b6ad-442b-bd4a-6af441a9d90b",
   "metadata": {},
   "outputs": [],
   "source": [
    "with open(f'//data/ksa/04_Data_Preprocessing/training-test/{kdprov}/som_training_fin.pkl','rb') as file:\n",
    "    som=pickle.load(file)\n",
    "    weights = som.get_weights()"
   ]
  },
  {
   "cell_type": "code",
   "execution_count": 56,
   "id": "c7c338ee-c421-46fb-9c38-6f15018a4d4e",
   "metadata": {},
   "outputs": [],
   "source": [
    "def som_winner(data,som):\n",
    "    dummy=np.zeros((2,31))\n",
    "    dummy[0,:]=[ data[f'VV_{i}'] for i in range(0,31) ]\n",
    "    dummy[1,:]=[ data[f'VV_{i}'] for i in range(0,31) ]\n",
    "    return som.winner(dummy)"
   ]
  },
  {
   "cell_type": "code",
   "execution_count": 57,
   "id": "41ff3329-f6a8-4f54-a7ff-612b0dd79ee5",
   "metadata": {},
   "outputs": [],
   "source": [
    "data_for_dtw_pl=pl.from_pandas(data_for_dtw)\n",
    "rows = data_for_dtw_pl.to_dicts()"
   ]
  },
  {
   "cell_type": "code",
   "execution_count": null,
   "id": "5d7e85a6-7143-4b08-a73b-49e0ceeaad9a",
   "metadata": {},
   "outputs": [
    {
     "name": "stderr",
     "output_type": "stream",
     "text": [
      " 91%|█████████ | 979926/1074500 [1:02:51<05:55, 265.82it/s]"
     ]
    }
   ],
   "source": [
    "# Define the function to process each row\n",
    "def process_row(row):\n",
    "    return som_winner(row, som)\n",
    "\n",
    "# Initialize a list to store the results\n",
    "som_rep_list = []\n",
    "\n",
    "# Use ProcessPoolExecutor to run the computation in parallel\n",
    "with ProcessPoolExecutor(max_workers=30) as executor:\n",
    "    # Submit all tasks to the executor\n",
    "    futures = [executor.submit(process_row, row) for row in rows]\n",
    "    \n",
    "    # Use tqdm to display the progress bar\n",
    "    for future in tqdm(as_completed(futures), total=len(futures)):\n",
    "        # Collect the result from each future\n",
    "        som_rep_list.append(future.result())\n",
    "\n",
    "# Add the results back to the Polars DataFrame\n",
    "data_for_dtw_pl = data_for_dtw_pl.with_columns(pl.Series(\"som_rep\", som_rep_list))"
   ]
  },
  {
   "cell_type": "code",
   "execution_count": 59,
   "id": "e15f0bbb-1a86-48f1-907e-2929646b3370",
   "metadata": {},
   "outputs": [
    {
     "data": {
      "text/html": [
       "<div><style>\n",
       ".dataframe > thead > tr,\n",
       ".dataframe > tbody > tr {\n",
       "  text-align: right;\n",
       "  white-space: pre-wrap;\n",
       "}\n",
       "</style>\n",
       "<small>shape: (2, 69)</small><table border=\"1\" class=\"dataframe\"><thead><tr><th>idpoint</th><th>nth</th><th>MGRS</th><th>periode</th><th>idsubsegment</th><th>VV_30</th><th>VV_29</th><th>VV_28</th><th>VV_27</th><th>VV_26</th><th>VV_25</th><th>VV_24</th><th>VV_23</th><th>VV_22</th><th>VV_21</th><th>VV_20</th><th>VV_19</th><th>VV_18</th><th>VV_17</th><th>VV_16</th><th>VV_15</th><th>VV_14</th><th>VV_13</th><th>VV_12</th><th>VV_11</th><th>VV_10</th><th>VV_9</th><th>VV_8</th><th>VV_7</th><th>VV_6</th><th>VV_5</th><th>VV_4</th><th>VV_3</th><th>VV_2</th><th>VV_1</th><th>VV_0</th><th>VH_30</th><th>VH_29</th><th>VH_28</th><th>VH_27</th><th>VH_26</th><th>VH_25</th><th>VH_24</th><th>VH_23</th><th>VH_22</th><th>VH_21</th><th>VH_20</th><th>VH_19</th><th>VH_18</th><th>VH_17</th><th>VH_16</th><th>VH_15</th><th>VH_14</th><th>VH_13</th><th>VH_12</th><th>VH_11</th><th>VH_10</th><th>VH_9</th><th>VH_8</th><th>VH_7</th><th>VH_6</th><th>VH_5</th><th>VH_4</th><th>VH_3</th><th>VH_2</th><th>VH_1</th><th>VH_0</th><th>obs</th><th>som_rep</th></tr><tr><td>str</td><td>i64</td><td>str</td><td>str</td><td>str</td><td>f64</td><td>f64</td><td>f64</td><td>f64</td><td>f64</td><td>f64</td><td>f64</td><td>f64</td><td>f64</td><td>f64</td><td>f64</td><td>f64</td><td>f64</td><td>f64</td><td>f64</td><td>f64</td><td>f64</td><td>f64</td><td>f64</td><td>f64</td><td>f64</td><td>f64</td><td>f64</td><td>f64</td><td>f64</td><td>f64</td><td>f64</td><td>f64</td><td>f64</td><td>f64</td><td>f64</td><td>f64</td><td>f64</td><td>f64</td><td>f64</td><td>f64</td><td>f64</td><td>f64</td><td>f64</td><td>f64</td><td>f64</td><td>f64</td><td>f64</td><td>f64</td><td>f64</td><td>f64</td><td>f64</td><td>f64</td><td>f64</td><td>f64</td><td>f64</td><td>f64</td><td>f64</td><td>f64</td><td>f64</td><td>f64</td><td>f64</td><td>f64</td><td>f64</td><td>f64</td><td>f64</td><td>f64</td><td>str</td><td>list[i64]</td></tr></thead><tbody><tr><td>&quot;320201009A2#01&quot;</td><td>1</td><td>&quot;48MXS&quot;</td><td>&quot;2022_03&quot;</td><td>&quot;320201009A2&quot;</td><td>-6.688304</td><td>-5.647415</td><td>-5.653961</td><td>-5.214524</td><td>-5.984255</td><td>-6.313479</td><td>-7.591896</td><td>-5.184158</td><td>-7.605564</td><td>-7.875592</td><td>-7.139762</td><td>-6.088626</td><td>-7.598005</td><td>-7.311598</td><td>-7.57814</td><td>-7.06569</td><td>-6.405716</td><td>-7.084654</td><td>-6.8948</td><td>-6.573953</td><td>-6.98158</td><td>-7.914701</td><td>-5.194419</td><td>-4.788635</td><td>-3.380418</td><td>-5.229918</td><td>-6.960913</td><td>-6.855444</td><td>-7.316586</td><td>-6.687626</td><td>-6.535304</td><td>-13.300971</td><td>-14.100189</td><td>-13.400254</td><td>-12.77698</td><td>-14.560461</td><td>-14.228013</td><td>-14.565607</td><td>-13.907003</td><td>-15.201345</td><td>-15.467748</td><td>-15.111167</td><td>-14.952894</td><td>-14.073334</td><td>-14.364877</td><td>-14.663478</td><td>-13.723788</td><td>-12.920895</td><td>-13.300989</td><td>-13.289921</td><td>-13.122756</td><td>-14.103665</td><td>-15.400703</td><td>-13.708651</td><td>-13.268532</td><td>-12.061973</td><td>-13.173245</td><td>-14.03883</td><td>-13.904123</td><td>-14.517735</td><td>-12.964956</td><td>-13.35733</td><td>&quot;2.0&quot;</td><td>[15, 12]</td></tr><tr><td>&quot;320201009A2#02&quot;</td><td>1</td><td>&quot;48MXS&quot;</td><td>&quot;2022_03&quot;</td><td>&quot;320201009A2&quot;</td><td>-7.216889</td><td>-6.106942</td><td>-6.652912</td><td>-6.506538</td><td>-8.864445</td><td>-7.962569</td><td>-8.247337</td><td>-5.941014</td><td>-7.246414</td><td>-7.346685</td><td>-7.300765</td><td>-7.407995</td><td>-7.65325</td><td>-8.051192</td><td>-8.485</td><td>-8.178201</td><td>-8.088162</td><td>-7.459393</td><td>-7.594568</td><td>-7.402484</td><td>-7.895018</td><td>-8.316748</td><td>-8.200068</td><td>-7.172538</td><td>-5.965944</td><td>-6.796745</td><td>-7.206963</td><td>-7.673921</td><td>-8.692631</td><td>-7.154953</td><td>-7.405133</td><td>-14.137568</td><td>-14.138426</td><td>-14.303849</td><td>-14.651376</td><td>-14.361085</td><td>-14.480448</td><td>-14.656582</td><td>-14.105457</td><td>-13.689484</td><td>-14.776381</td><td>-14.145375</td><td>-14.517175</td><td>-12.141506</td><td>-13.394633</td><td>-14.171278</td><td>-14.064459</td><td>-14.447248</td><td>-14.047224</td><td>-14.892591</td><td>-15.431562</td><td>-15.048952</td><td>-14.910593</td><td>-13.767241</td><td>-12.654428</td><td>-10.993368</td><td>-12.656797</td><td>-14.19066</td><td>-13.979087</td><td>-14.409728</td><td>-13.998713</td><td>-14.271786</td><td>&quot;2.0&quot;</td><td>[16, 13]</td></tr></tbody></table></div>"
      ],
      "text/plain": [
       "shape: (2, 69)\n",
       "┌────────────────┬─────┬───────┬─────────┬───┬────────────┬────────────┬─────┬───────────┐\n",
       "│ idpoint        ┆ nth ┆ MGRS  ┆ periode ┆ … ┆ VH_1       ┆ VH_0       ┆ obs ┆ som_rep   │\n",
       "│ ---            ┆ --- ┆ ---   ┆ ---     ┆   ┆ ---        ┆ ---        ┆ --- ┆ ---       │\n",
       "│ str            ┆ i64 ┆ str   ┆ str     ┆   ┆ f64        ┆ f64        ┆ str ┆ list[i64] │\n",
       "╞════════════════╪═════╪═══════╪═════════╪═══╪════════════╪════════════╪═════╪═══════════╡\n",
       "│ 320201009A2#01 ┆ 1   ┆ 48MXS ┆ 2022_03 ┆ … ┆ -12.964956 ┆ -13.35733  ┆ 2.0 ┆ [15, 12]  │\n",
       "│ 320201009A2#02 ┆ 1   ┆ 48MXS ┆ 2022_03 ┆ … ┆ -13.998713 ┆ -14.271786 ┆ 2.0 ┆ [16, 13]  │\n",
       "└────────────────┴─────┴───────┴─────────┴───┴────────────┴────────────┴─────┴───────────┘"
      ]
     },
     "execution_count": 59,
     "metadata": {},
     "output_type": "execute_result"
    }
   ],
   "source": [
    "data_for_dtw_pl.head(2)"
   ]
  },
  {
   "cell_type": "code",
   "execution_count": 60,
   "id": "a513fb8c-6315-445e-9e17-6730bd104d1b",
   "metadata": {},
   "outputs": [],
   "source": [
    "df_data=data_for_dtw_pl.to_pandas()\n",
    "df_data['som_rep2']=df_data.som_rep.apply(lambda y:str(f'R{y[0]}C{y[1]}'))\n"
   ]
  },
  {
   "cell_type": "code",
   "execution_count": 62,
   "id": "7c1def1e-c931-41a2-b499-13461efdd635",
   "metadata": {},
   "outputs": [],
   "source": [
    "with open(f'//data/ksa/04_Data_Preprocessing/training-test/{kdprov}/som_winner.pkl','wb') as file:\n",
    "    pickle.dump(df_data,file)"
   ]
  },
  {
   "cell_type": "code",
   "execution_count": 63,
   "id": "bf81da83-49e0-4cfb-a023-e99202bbe412",
   "metadata": {},
   "outputs": [],
   "source": [
    "pivoting=pd.pivot_table(df_data, \n",
    "               columns='obs',index='som_rep2',values='idpoint',aggfunc='count',fill_value=0)"
   ]
  },
  {
   "cell_type": "code",
   "execution_count": 64,
   "id": "bdff09df-ad38-492e-aeb1-56b94caf5ce5",
   "metadata": {},
   "outputs": [
    {
     "data": {
      "text/html": [
       "<div>\n",
       "<style scoped>\n",
       "    .dataframe tbody tr th:only-of-type {\n",
       "        vertical-align: middle;\n",
       "    }\n",
       "\n",
       "    .dataframe tbody tr th {\n",
       "        vertical-align: top;\n",
       "    }\n",
       "\n",
       "    .dataframe thead th {\n",
       "        text-align: right;\n",
       "    }\n",
       "</style>\n",
       "<table border=\"1\" class=\"dataframe\">\n",
       "  <thead>\n",
       "    <tr style=\"text-align: right;\">\n",
       "      <th>obs</th>\n",
       "      <th>1.0</th>\n",
       "      <th>2.0</th>\n",
       "      <th>3.0</th>\n",
       "      <th>4.0</th>\n",
       "      <th>5.0</th>\n",
       "      <th>7.0</th>\n",
       "      <th>8.0</th>\n",
       "    </tr>\n",
       "    <tr>\n",
       "      <th>som_rep2</th>\n",
       "      <th></th>\n",
       "      <th></th>\n",
       "      <th></th>\n",
       "      <th></th>\n",
       "      <th></th>\n",
       "      <th></th>\n",
       "      <th></th>\n",
       "    </tr>\n",
       "  </thead>\n",
       "  <tbody>\n",
       "    <tr>\n",
       "      <th>R0C8</th>\n",
       "      <td>1</td>\n",
       "      <td>0</td>\n",
       "      <td>0</td>\n",
       "      <td>0</td>\n",
       "      <td>0</td>\n",
       "      <td>0</td>\n",
       "      <td>0</td>\n",
       "    </tr>\n",
       "    <tr>\n",
       "      <th>R0C9</th>\n",
       "      <td>6</td>\n",
       "      <td>0</td>\n",
       "      <td>2</td>\n",
       "      <td>2</td>\n",
       "      <td>2</td>\n",
       "      <td>3</td>\n",
       "      <td>13</td>\n",
       "    </tr>\n",
       "    <tr>\n",
       "      <th>R10C11</th>\n",
       "      <td>13</td>\n",
       "      <td>11</td>\n",
       "      <td>14</td>\n",
       "      <td>15</td>\n",
       "      <td>6</td>\n",
       "      <td>26</td>\n",
       "      <td>62</td>\n",
       "    </tr>\n",
       "    <tr>\n",
       "      <th>R10C12</th>\n",
       "      <td>0</td>\n",
       "      <td>3</td>\n",
       "      <td>0</td>\n",
       "      <td>0</td>\n",
       "      <td>0</td>\n",
       "      <td>1</td>\n",
       "      <td>1</td>\n",
       "    </tr>\n",
       "    <tr>\n",
       "      <th>R10C17</th>\n",
       "      <td>0</td>\n",
       "      <td>0</td>\n",
       "      <td>3</td>\n",
       "      <td>75</td>\n",
       "      <td>8</td>\n",
       "      <td>0</td>\n",
       "      <td>1</td>\n",
       "    </tr>\n",
       "    <tr>\n",
       "      <th>...</th>\n",
       "      <td>...</td>\n",
       "      <td>...</td>\n",
       "      <td>...</td>\n",
       "      <td>...</td>\n",
       "      <td>...</td>\n",
       "      <td>...</td>\n",
       "      <td>...</td>\n",
       "    </tr>\n",
       "    <tr>\n",
       "      <th>R9C11</th>\n",
       "      <td>1</td>\n",
       "      <td>1</td>\n",
       "      <td>0</td>\n",
       "      <td>0</td>\n",
       "      <td>1</td>\n",
       "      <td>0</td>\n",
       "      <td>2</td>\n",
       "    </tr>\n",
       "    <tr>\n",
       "      <th>R9C12</th>\n",
       "      <td>1</td>\n",
       "      <td>0</td>\n",
       "      <td>3</td>\n",
       "      <td>2</td>\n",
       "      <td>2</td>\n",
       "      <td>4</td>\n",
       "      <td>4</td>\n",
       "    </tr>\n",
       "    <tr>\n",
       "      <th>R9C2</th>\n",
       "      <td>5</td>\n",
       "      <td>0</td>\n",
       "      <td>3</td>\n",
       "      <td>5</td>\n",
       "      <td>1</td>\n",
       "      <td>6</td>\n",
       "      <td>12</td>\n",
       "    </tr>\n",
       "    <tr>\n",
       "      <th>R9C3</th>\n",
       "      <td>2</td>\n",
       "      <td>0</td>\n",
       "      <td>3</td>\n",
       "      <td>2</td>\n",
       "      <td>0</td>\n",
       "      <td>4</td>\n",
       "      <td>9</td>\n",
       "    </tr>\n",
       "    <tr>\n",
       "      <th>R9C8</th>\n",
       "      <td>0</td>\n",
       "      <td>0</td>\n",
       "      <td>0</td>\n",
       "      <td>0</td>\n",
       "      <td>0</td>\n",
       "      <td>0</td>\n",
       "      <td>4</td>\n",
       "    </tr>\n",
       "  </tbody>\n",
       "</table>\n",
       "<p>96 rows × 7 columns</p>\n",
       "</div>"
      ],
      "text/plain": [
       "obs       1.0  2.0  3.0  4.0  5.0  7.0  8.0\n",
       "som_rep2                                   \n",
       "R0C8        1    0    0    0    0    0    0\n",
       "R0C9        6    0    2    2    2    3   13\n",
       "R10C11     13   11   14   15    6   26   62\n",
       "R10C12      0    3    0    0    0    1    1\n",
       "R10C17      0    0    3   75    8    0    1\n",
       "...       ...  ...  ...  ...  ...  ...  ...\n",
       "R9C11       1    1    0    0    1    0    2\n",
       "R9C12       1    0    3    2    2    4    4\n",
       "R9C2        5    0    3    5    1    6   12\n",
       "R9C3        2    0    3    2    0    4    9\n",
       "R9C8        0    0    0    0    0    0    4\n",
       "\n",
       "[96 rows x 7 columns]"
      ]
     },
     "execution_count": 64,
     "metadata": {},
     "output_type": "execute_result"
    }
   ],
   "source": [
    "pivoting"
   ]
  },
  {
   "cell_type": "code",
   "execution_count": 65,
   "id": "ece955b0-63f8-4b6f-8842-ea5c0ca18e40",
   "metadata": {},
   "outputs": [
    {
     "data": {
      "text/html": [
       "<div>\n",
       "<style scoped>\n",
       "    .dataframe tbody tr th:only-of-type {\n",
       "        vertical-align: middle;\n",
       "    }\n",
       "\n",
       "    .dataframe tbody tr th {\n",
       "        vertical-align: top;\n",
       "    }\n",
       "\n",
       "    .dataframe thead th {\n",
       "        text-align: right;\n",
       "    }\n",
       "</style>\n",
       "<table border=\"1\" class=\"dataframe\">\n",
       "  <thead>\n",
       "    <tr style=\"text-align: right;\">\n",
       "      <th>obs</th>\n",
       "      <th>som_rep2</th>\n",
       "      <th>1.0</th>\n",
       "      <th>2.0</th>\n",
       "      <th>3.0</th>\n",
       "      <th>4.0</th>\n",
       "      <th>5.0</th>\n",
       "      <th>7.0</th>\n",
       "      <th>8.0</th>\n",
       "    </tr>\n",
       "  </thead>\n",
       "  <tbody>\n",
       "    <tr>\n",
       "      <th>0</th>\n",
       "      <td>R0C8</td>\n",
       "      <td>100.000000</td>\n",
       "      <td>0.000000</td>\n",
       "      <td>0.000000</td>\n",
       "      <td>0.000000</td>\n",
       "      <td>0.000000</td>\n",
       "      <td>0.000000</td>\n",
       "      <td>0.000000</td>\n",
       "    </tr>\n",
       "    <tr>\n",
       "      <th>1</th>\n",
       "      <td>R0C9</td>\n",
       "      <td>21.428571</td>\n",
       "      <td>0.000000</td>\n",
       "      <td>7.142857</td>\n",
       "      <td>7.142857</td>\n",
       "      <td>7.142857</td>\n",
       "      <td>10.714286</td>\n",
       "      <td>46.428571</td>\n",
       "    </tr>\n",
       "    <tr>\n",
       "      <th>2</th>\n",
       "      <td>R10C11</td>\n",
       "      <td>8.843537</td>\n",
       "      <td>7.482993</td>\n",
       "      <td>9.523810</td>\n",
       "      <td>10.204082</td>\n",
       "      <td>4.081633</td>\n",
       "      <td>17.687075</td>\n",
       "      <td>42.176871</td>\n",
       "    </tr>\n",
       "    <tr>\n",
       "      <th>3</th>\n",
       "      <td>R10C12</td>\n",
       "      <td>0.000000</td>\n",
       "      <td>60.000000</td>\n",
       "      <td>0.000000</td>\n",
       "      <td>0.000000</td>\n",
       "      <td>0.000000</td>\n",
       "      <td>20.000000</td>\n",
       "      <td>20.000000</td>\n",
       "    </tr>\n",
       "    <tr>\n",
       "      <th>4</th>\n",
       "      <td>R10C17</td>\n",
       "      <td>0.000000</td>\n",
       "      <td>0.000000</td>\n",
       "      <td>3.448276</td>\n",
       "      <td>86.206897</td>\n",
       "      <td>9.195402</td>\n",
       "      <td>0.000000</td>\n",
       "      <td>1.149425</td>\n",
       "    </tr>\n",
       "    <tr>\n",
       "      <th>...</th>\n",
       "      <td>...</td>\n",
       "      <td>...</td>\n",
       "      <td>...</td>\n",
       "      <td>...</td>\n",
       "      <td>...</td>\n",
       "      <td>...</td>\n",
       "      <td>...</td>\n",
       "      <td>...</td>\n",
       "    </tr>\n",
       "    <tr>\n",
       "      <th>91</th>\n",
       "      <td>R9C11</td>\n",
       "      <td>20.000000</td>\n",
       "      <td>20.000000</td>\n",
       "      <td>0.000000</td>\n",
       "      <td>0.000000</td>\n",
       "      <td>20.000000</td>\n",
       "      <td>0.000000</td>\n",
       "      <td>40.000000</td>\n",
       "    </tr>\n",
       "    <tr>\n",
       "      <th>92</th>\n",
       "      <td>R9C12</td>\n",
       "      <td>6.250000</td>\n",
       "      <td>0.000000</td>\n",
       "      <td>18.750000</td>\n",
       "      <td>12.500000</td>\n",
       "      <td>12.500000</td>\n",
       "      <td>25.000000</td>\n",
       "      <td>25.000000</td>\n",
       "    </tr>\n",
       "    <tr>\n",
       "      <th>93</th>\n",
       "      <td>R9C2</td>\n",
       "      <td>15.625000</td>\n",
       "      <td>0.000000</td>\n",
       "      <td>9.375000</td>\n",
       "      <td>15.625000</td>\n",
       "      <td>3.125000</td>\n",
       "      <td>18.750000</td>\n",
       "      <td>37.500000</td>\n",
       "    </tr>\n",
       "    <tr>\n",
       "      <th>94</th>\n",
       "      <td>R9C3</td>\n",
       "      <td>10.000000</td>\n",
       "      <td>0.000000</td>\n",
       "      <td>15.000000</td>\n",
       "      <td>10.000000</td>\n",
       "      <td>0.000000</td>\n",
       "      <td>20.000000</td>\n",
       "      <td>45.000000</td>\n",
       "    </tr>\n",
       "    <tr>\n",
       "      <th>95</th>\n",
       "      <td>R9C8</td>\n",
       "      <td>0.000000</td>\n",
       "      <td>0.000000</td>\n",
       "      <td>0.000000</td>\n",
       "      <td>0.000000</td>\n",
       "      <td>0.000000</td>\n",
       "      <td>0.000000</td>\n",
       "      <td>100.000000</td>\n",
       "    </tr>\n",
       "  </tbody>\n",
       "</table>\n",
       "<p>96 rows × 8 columns</p>\n",
       "</div>"
      ],
      "text/plain": [
       "obs som_rep2         1.0        2.0        3.0        4.0        5.0  \\\n",
       "0       R0C8  100.000000   0.000000   0.000000   0.000000   0.000000   \n",
       "1       R0C9   21.428571   0.000000   7.142857   7.142857   7.142857   \n",
       "2     R10C11    8.843537   7.482993   9.523810  10.204082   4.081633   \n",
       "3     R10C12    0.000000  60.000000   0.000000   0.000000   0.000000   \n",
       "4     R10C17    0.000000   0.000000   3.448276  86.206897   9.195402   \n",
       "..       ...         ...        ...        ...        ...        ...   \n",
       "91     R9C11   20.000000  20.000000   0.000000   0.000000  20.000000   \n",
       "92     R9C12    6.250000   0.000000  18.750000  12.500000  12.500000   \n",
       "93      R9C2   15.625000   0.000000   9.375000  15.625000   3.125000   \n",
       "94      R9C3   10.000000   0.000000  15.000000  10.000000   0.000000   \n",
       "95      R9C8    0.000000   0.000000   0.000000   0.000000   0.000000   \n",
       "\n",
       "obs        7.0         8.0  \n",
       "0     0.000000    0.000000  \n",
       "1    10.714286   46.428571  \n",
       "2    17.687075   42.176871  \n",
       "3    20.000000   20.000000  \n",
       "4     0.000000    1.149425  \n",
       "..         ...         ...  \n",
       "91    0.000000   40.000000  \n",
       "92   25.000000   25.000000  \n",
       "93   18.750000   37.500000  \n",
       "94   20.000000   45.000000  \n",
       "95    0.000000  100.000000  \n",
       "\n",
       "[96 rows x 8 columns]"
      ]
     },
     "execution_count": 65,
     "metadata": {},
     "output_type": "execute_result"
    }
   ],
   "source": [
    "row_totals = pivoting.sum(axis=1)\n",
    "\n",
    "# Calculate percentages\n",
    "percentage_df = pivoting.div(row_totals, axis=0) * 100\n",
    "\n",
    "# Reset the index if you want 'Category' as a column again\n",
    "percentage_df.reset_index(inplace=True)\n",
    "percentage_df"
   ]
  },
  {
   "cell_type": "code",
   "execution_count": 67,
   "id": "ac707738-3185-4086-af5a-c351d1d2f608",
   "metadata": {},
   "outputs": [
    {
     "data": {
      "image/png": "[encoded data removed]",
      "text/plain": [
       "<Figure size 1000x200 with 2 Axes>"
      ]
     },
     "metadata": {},
     "output_type": "display_data"
    }
   ],
   "source": [
    "plt.figure(figsize=(10, 2))\n",
    "sns.heatmap(percentage_df.set_index('som_rep2').T, annot=False, cmap='viridis', cbar_kws={'label': 'Percentage'})\n",
    "plt.title('Heatmap of Percentages per Row')\n",
    "plt.xlabel('som_rep2')\n",
    "plt.ylabel('Subcategory')\n",
    "plt.show()"
   ]
  }
 ],
 "metadata": {
  "kernelspec": {
   "display_name": "Python 3 (ipykernel)",
   "language": "python",
   "name": "python3"
  },
  "language_info": {
   "codemirror_mode": {
    "name": "ipython",
    "version": 3
   },
   "file_extension": ".py",
   "mimetype": "text/x-python",
   "name": "python",
   "nbconvert_exporter": "python",
   "pygments_lexer": "ipython3",
   "version": "3.10.14"
  }
 },
 "nbformat": 4,
 "nbformat_minor": 5
}
