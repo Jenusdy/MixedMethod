{
 "cells": [
  {
   "cell_type": "code",
   "execution_count": 1,
   "id": "701e4e8f-cb86-48b9-b359-e8102d1da17a",
   "metadata": {},
   "outputs": [],
   "source": [
    "import os\n",
    "# Set the number of processors to be used via environment variables\n",
    "os.environ['OMP_NUM_THREADS'] = '10'\n",
    "os.environ['TF_NUM_INTRAOP_THREADS'] = '10'\n",
    "os.environ['TF_NUM_INTEROP_THREADS'] = '10'"
   ]
  },
  {
   "cell_type": "code",
   "execution_count": 2,
   "id": "dd484c0b-11d9-412b-9b7f-97a88fb55c40",
   "metadata": {},
   "outputs": [
    {
     "name": "stderr",
     "output_type": "stream",
     "text": [
      "/tmp/ipykernel_2029880/1045350448.py:34: SettingWithCopyWarning: \n",
      "A value is trying to be set on a copy of a slice from a DataFrame.\n",
      "Try using .loc[row_indexer,col_indexer] = value instead\n",
      "\n",
      "See the caveats in the documentation: https://pandas.pydata.org/pandas-docs/stable/user_guide/indexing.html#returning-a-view-versus-a-copy\n",
      "  df2['idss'] = df2['idsubsegment']+df2['periode']\n"
     ]
    }
   ],
   "source": [
    "import pickle\n",
    "import polars as pl\n",
    "import pandas as pd\n",
    "from glob import glob\n",
    "\n",
    "kdprov = \"32\"\n",
    "data_imputation=glob(f'/data/ksa/04_Data_Preprocessing/{kdprov}/01_imputation/*_imputed_data.pkl')\n",
    "bridging_date=pd.read_excel(\"/data/ksa/03_Sampling/bridging.xlsx\", dtype='object', sheet_name=\"periode_to_date\")\n",
    "bridging_ksa=pd.read_excel(\"/data/ksa/03_Sampling/bridging.xlsx\", dtype='object')\n",
    "\n",
    "ls_dt=[]\n",
    "for j in data_imputation:\n",
    "    with open(j,'rb') as file:\n",
    "        y=pickle.load(file)\n",
    "        y['idsubsegment']=y['idpoint'].apply(lambda y1: y1.split('#')[0])\n",
    "        y=pl.from_pandas(y)\n",
    "        ls_dt.append(y)\n",
    "df=pl.concat(ls_dt).to_pandas()\n",
    "df['periode_start']=df.periode.apply(lambda y: y.split('_')[0][4:])\n",
    "df=df.sort_values(['idsubsegment','periode']).merge(bridging_ksa.query('is_kabisat==0')[['periode_start','obs_in_a_year']])\n",
    "df['tahun']=df.periode.apply(lambda y:str(y.split('_')[0][2:4]))\n",
    "\n",
    "df['bulan']=df['obs_in_a_year'].astype(str)\n",
    "df['VV'] = df['Sigma0_VV_db_imputation']\n",
    "df['VH'] = df['Sigma0_VH_db_imputation']\n",
    "\n",
    "df_label = pd.read_csv(\"/data/raw/processed/relabelled_data_ksa.csv\",dtype='object')\n",
    "df_label['idsubsegment']=df_label['id_x']\n",
    "df = df[['periode','idsubsegment','tahun','bulan','VV','VH']].merge(\n",
    "    df_label[['idsubsegment','tahun','bulan','obs']])\n",
    "df2 = df.query('obs not in [\"0.0\",\"6.0\",\"12.0\"]')\n",
    "#df2['segment'] = df2.idsubsegment.str[:9]\n",
    "\n",
    "df2['idss'] = df2['idsubsegment']+df2['periode']\n",
    "df2var = df2[['idss','VV','VH']]\n",
    "df2var = df2var.groupby(df2var.idss).agg([\"var\"]).reset_index()\n",
    "df2var.columns = df2var.columns.droplevel(1)\n",
    "df2var.rename({'VV': 'Var_VV', 'VH': 'Var_VH'}, axis=1)\n",
    "df2var = df2var.rename({'VV': 'Var_VV', 'VH': 'Var_VH'}, axis=1)\n",
    "df2a = df2.merge(df2var, on = 'idss', how ='left')"
   ]
  },
  {
   "cell_type": "code",
   "execution_count": 7,
   "id": "0ed65490-aca1-4e28-a2d9-7bd5b3e1e58c",
   "metadata": {},
   "outputs": [],
   "source": [
    "df2a['sequence']=df2a.sort_values(['Var_VH'],ascending=False).groupby('obs').cumcount()"
   ]
  },
  {
   "cell_type": "code",
   "execution_count": 6,
   "id": "2286c631-f6ca-4040-9abf-cd2127cc8916",
   "metadata": {},
   "outputs": [
    {
     "ename": "ValueError",
     "evalue": "Cannot set a DataFrame with multiple columns to the single column countg",
     "output_type": "error",
     "traceback": [
      "\u001b[0;31m---------------------------------------------------------------------------\u001b[0m",
      "\u001b[0;31mValueError\u001b[0m                                Traceback (most recent call last)",
      "\u001b[0;32m/tmp/ipykernel_2029880/1319004275.py\u001b[0m in \u001b[0;36m?\u001b[0;34m()\u001b[0m\n\u001b[1;32m      1\u001b[0m \u001b[0mdf2a\u001b[0m\u001b[0;34m[\u001b[0m\u001b[0;34m'sequence'\u001b[0m\u001b[0;34m]\u001b[0m\u001b[0;34m=\u001b[0m\u001b[0mdf2a\u001b[0m\u001b[0;34m.\u001b[0m\u001b[0msort_values\u001b[0m\u001b[0;34m(\u001b[0m\u001b[0;34m[\u001b[0m\u001b[0;34m'Var_VH'\u001b[0m\u001b[0;34m]\u001b[0m\u001b[0;34m,\u001b[0m\u001b[0mascending\u001b[0m\u001b[0;34m=\u001b[0m\u001b[0;32mFalse\u001b[0m\u001b[0;34m)\u001b[0m\u001b[0;34m.\u001b[0m\u001b[0mgroupby\u001b[0m\u001b[0;34m(\u001b[0m\u001b[0;34m'obs'\u001b[0m\u001b[0;34m)\u001b[0m\u001b[0;34m.\u001b[0m\u001b[0mcumcount\u001b[0m\u001b[0;34m(\u001b[0m\u001b[0;34m)\u001b[0m\u001b[0;34m\u001b[0m\u001b[0;34m\u001b[0m\u001b[0m\n\u001b[0;32m----> 2\u001b[0;31m \u001b[0mdf2a\u001b[0m\u001b[0;34m[\u001b[0m\u001b[0;34m'countg'\u001b[0m\u001b[0;34m]\u001b[0m \u001b[0;34m=\u001b[0m \u001b[0mdf2a\u001b[0m\u001b[0;34m.\u001b[0m\u001b[0mgroupby\u001b[0m\u001b[0;34m(\u001b[0m\u001b[0;34m'obs'\u001b[0m\u001b[0;34m)\u001b[0m\u001b[0;34m.\u001b[0m\u001b[0mcount\u001b[0m\u001b[0;34m(\u001b[0m\u001b[0;34m)\u001b[0m\u001b[0;34m\u001b[0m\u001b[0;34m\u001b[0m\u001b[0m\n\u001b[0m",
      "\u001b[0;32m~/.local/lib/python3.10/site-packages/pandas/core/frame.py\u001b[0m in \u001b[0;36m?\u001b[0;34m(self, key, value)\u001b[0m\n\u001b[1;32m   4297\u001b[0m             \u001b[0mself\u001b[0m\u001b[0;34m.\u001b[0m\u001b[0m_setitem_frame\u001b[0m\u001b[0;34m(\u001b[0m\u001b[0mkey\u001b[0m\u001b[0;34m,\u001b[0m \u001b[0mvalue\u001b[0m\u001b[0;34m)\u001b[0m\u001b[0;34m\u001b[0m\u001b[0;34m\u001b[0m\u001b[0m\n\u001b[1;32m   4298\u001b[0m         \u001b[0;32melif\u001b[0m \u001b[0misinstance\u001b[0m\u001b[0;34m(\u001b[0m\u001b[0mkey\u001b[0m\u001b[0;34m,\u001b[0m \u001b[0;34m(\u001b[0m\u001b[0mSeries\u001b[0m\u001b[0;34m,\u001b[0m \u001b[0mnp\u001b[0m\u001b[0;34m.\u001b[0m\u001b[0mndarray\u001b[0m\u001b[0;34m,\u001b[0m \u001b[0mlist\u001b[0m\u001b[0;34m,\u001b[0m \u001b[0mIndex\u001b[0m\u001b[0;34m)\u001b[0m\u001b[0;34m)\u001b[0m\u001b[0;34m:\u001b[0m\u001b[0;34m\u001b[0m\u001b[0;34m\u001b[0m\u001b[0m\n\u001b[1;32m   4299\u001b[0m             \u001b[0mself\u001b[0m\u001b[0;34m.\u001b[0m\u001b[0m_setitem_array\u001b[0m\u001b[0;34m(\u001b[0m\u001b[0mkey\u001b[0m\u001b[0;34m,\u001b[0m \u001b[0mvalue\u001b[0m\u001b[0;34m)\u001b[0m\u001b[0;34m\u001b[0m\u001b[0;34m\u001b[0m\u001b[0m\n\u001b[1;32m   4300\u001b[0m         \u001b[0;32melif\u001b[0m \u001b[0misinstance\u001b[0m\u001b[0;34m(\u001b[0m\u001b[0mvalue\u001b[0m\u001b[0;34m,\u001b[0m \u001b[0mDataFrame\u001b[0m\u001b[0;34m)\u001b[0m\u001b[0;34m:\u001b[0m\u001b[0;34m\u001b[0m\u001b[0;34m\u001b[0m\u001b[0m\n\u001b[0;32m-> 4301\u001b[0;31m             \u001b[0mself\u001b[0m\u001b[0;34m.\u001b[0m\u001b[0m_set_item_frame_value\u001b[0m\u001b[0;34m(\u001b[0m\u001b[0mkey\u001b[0m\u001b[0;34m,\u001b[0m \u001b[0mvalue\u001b[0m\u001b[0;34m)\u001b[0m\u001b[0;34m\u001b[0m\u001b[0;34m\u001b[0m\u001b[0m\n\u001b[0m\u001b[1;32m   4302\u001b[0m         elif (\n\u001b[1;32m   4303\u001b[0m             \u001b[0mis_list_like\u001b[0m\u001b[0;34m(\u001b[0m\u001b[0mvalue\u001b[0m\u001b[0;34m)\u001b[0m\u001b[0;34m\u001b[0m\u001b[0;34m\u001b[0m\u001b[0m\n\u001b[1;32m   4304\u001b[0m             \u001b[0;32mand\u001b[0m \u001b[0;32mnot\u001b[0m \u001b[0mself\u001b[0m\u001b[0;34m.\u001b[0m\u001b[0mcolumns\u001b[0m\u001b[0;34m.\u001b[0m\u001b[0mis_unique\u001b[0m\u001b[0;34m\u001b[0m\u001b[0;34m\u001b[0m\u001b[0m\n",
      "\u001b[0;32m~/.local/lib/python3.10/site-packages/pandas/core/frame.py\u001b[0m in \u001b[0;36m?\u001b[0;34m(self, key, value)\u001b[0m\n\u001b[1;32m   4455\u001b[0m \u001b[0;34m\u001b[0m\u001b[0m\n\u001b[1;32m   4456\u001b[0m             \u001b[0;32mreturn\u001b[0m \u001b[0mself\u001b[0m\u001b[0;34m.\u001b[0m\u001b[0misetitem\u001b[0m\u001b[0;34m(\u001b[0m\u001b[0mlocs\u001b[0m\u001b[0;34m,\u001b[0m \u001b[0mvalue\u001b[0m\u001b[0;34m)\u001b[0m\u001b[0;34m\u001b[0m\u001b[0;34m\u001b[0m\u001b[0m\n\u001b[1;32m   4457\u001b[0m \u001b[0;34m\u001b[0m\u001b[0m\n\u001b[1;32m   4458\u001b[0m         \u001b[0;32mif\u001b[0m \u001b[0mlen\u001b[0m\u001b[0;34m(\u001b[0m\u001b[0mvalue\u001b[0m\u001b[0;34m.\u001b[0m\u001b[0mcolumns\u001b[0m\u001b[0;34m)\u001b[0m \u001b[0;34m>\u001b[0m \u001b[0;36m1\u001b[0m\u001b[0;34m:\u001b[0m\u001b[0;34m\u001b[0m\u001b[0;34m\u001b[0m\u001b[0m\n\u001b[0;32m-> 4459\u001b[0;31m             raise ValueError(\n\u001b[0m\u001b[1;32m   4460\u001b[0m                 \u001b[0;34m\"Cannot set a DataFrame with multiple columns to the single \"\u001b[0m\u001b[0;34m\u001b[0m\u001b[0;34m\u001b[0m\u001b[0m\n\u001b[1;32m   4461\u001b[0m                 \u001b[0;34mf\"column {key}\"\u001b[0m\u001b[0;34m\u001b[0m\u001b[0;34m\u001b[0m\u001b[0m\n\u001b[1;32m   4462\u001b[0m             )\n",
      "\u001b[0;31mValueError\u001b[0m: Cannot set a DataFrame with multiple columns to the single column countg"
     ]
    }
   ],
   "source": [
    "df2a['sequence']=df2a.sort_values(['Var_VH'],ascending=False).groupby('obs').cumcount()"
   ]
  },
  {
   "cell_type": "code",
   "execution_count": null,
   "id": "f2c1024d-e9c7-4d32-a377-46856837e078",
   "metadata": {},
   "outputs": [],
   "source": [
    "import matplotlib.pyplot as plt\n",
    "from matplotlib.colors import ListedColormap\n",
    "from sklearn import datasets\n",
    "\n",
    "from sklearn_som.som import SOM\n",
    "\n",
    "# Extract just two features (just for ease of visualization)\n",
    "som_class = df2[['VV','VH']].values\n",
    "\n",
    "# Build a 3x1 SOM (3 clusters)\n",
    "som = SOM(m=5, n=5, dim=2, random_state=1234)\n",
    "\n",
    "# Fit it to the data\n",
    "som.fit(som_class)\n",
    "\n",
    "# Assign each datapoint to its predicted cluster\n",
    "df2['som_val'] = som.predict(som_class)"
   ]
  },
  {
   "cell_type": "code",
   "execution_count": null,
   "id": "ae8f2d86-575f-4076-9d2b-39aa742a737d",
   "metadata": {},
   "outputs": [],
   "source": [
    "df"
   ]
  },
  {
   "cell_type": "code",
   "execution_count": null,
   "id": "830bf2fc-8910-4050-8fa4-9fc454844574",
   "metadata": {},
   "outputs": [],
   "source": []
  },
  {
   "cell_type": "code",
   "execution_count": null,
   "id": "6a917905-84f5-4a9d-b020-46a91204ad53",
   "metadata": {},
   "outputs": [],
   "source": [
    "pd.crosstab(df_c2['som_val'], df_c2['obs'])"
   ]
  },
  {
   "cell_type": "code",
   "execution_count": null,
   "id": "7a1414f6-fe38-4125-a3cc-8aae895fcb03",
   "metadata": {},
   "outputs": [],
   "source": [
    "annual_income = df['Annual Income (k$)'].tolist()\n",
    "spending_score = df['Spending Score (1-100)'].tolist()\n",
    "fig = plt.figure(figsize=(6,6))\n",
    "plt.scatter(annual_income, spending_score)\n",
    "plt.suptitle(\"Scatter Plot of Annual Income & Spending Score\")\n",
    "plt.xlabel(\"Annual Income (k$)\")\n",
    "plt.ylabel(\"Spending Score (1-100)\")\n",
    "plt.show()\n"
   ]
  },
  {
   "cell_type": "code",
   "execution_count": null,
   "id": "d7811685-15f3-4694-8153-28577e1b7b99",
   "metadata": {},
   "outputs": [],
   "source": [
    "from minisom import MiniSom  \n",
    "import numpy as np # linear algebra\n",
    "import pandas as pd # data processing, CSV file I/O (e.g. pd.read_csv)\n",
    "import matplotlib.pyplot as plt\n",
    "# I use linear som topography\n",
    "som_shape = (1, 5)\n",
    "\n",
    "som = MiniSom(som_shape[0], som_shape[1], som_class.shape[1], sigma=0.5, learning_rate=0.5)\n",
    "\n",
    "max_iter = 1000\n",
    "q_error = []\n",
    "t_error = []\n",
    "\n",
    "for i in range(max_iter):\n",
    "    rand_i = np.random.randint(len(som_class))\n",
    "    som.update(som_class[rand_i], som.winner(som_class[rand_i]), i, max_iter)\n",
    "    q_error.append(som.quantization_error(som_class))\n",
    "    t_error.append(som.topographic_error(som_class))\n",
    "\n",
    "plt.plot(np.arange(max_iter), q_error, label='quantization error')\n",
    "plt.plot(np.arange(max_iter), t_error, label='topographic error')\n",
    "plt.ylabel('Quantization error')\n",
    "plt.xlabel('Iteration index')\n",
    "plt.legend()\n",
    "plt.show()"
   ]
  },
  {
   "cell_type": "code",
   "execution_count": null,
   "id": "22604430-fbb5-421c-9ea4-7f678c956650",
   "metadata": {},
   "outputs": [],
   "source": []
  }
 ],
 "metadata": {
  "kernelspec": {
   "display_name": "Python 3 (ipykernel)",
   "language": "python",
   "name": "python3"
  },
  "language_info": {
   "codemirror_mode": {
    "name": "ipython",
    "version": 3
   },
   "file_extension": ".py",
   "mimetype": "text/x-python",
   "name": "python",
   "nbconvert_exporter": "python",
   "pygments_lexer": "ipython3",
   "version": "3.10.14"
  }
 },
 "nbformat": 4,
 "nbformat_minor": 5
}
