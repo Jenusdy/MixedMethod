{
 "cells": [
  {
   "cell_type": "code",
   "execution_count": 3,
   "id": "8d617065-649e-4643-aac3-7a845190203b",
   "metadata": {},
   "outputs": [],
   "source": [
    "import pandas as pd"
   ]
  },
  {
   "cell_type": "code",
   "execution_count": 13,
   "id": "ec35df2b-5265-48e7-b4b9-57bbfa985ba4",
   "metadata": {},
   "outputs": [],
   "source": [
    "df_relabelled = pd.read_csv(\"/data/ksa/00_Data_Input/relabelled_data_ksa_explore.csv\")"
   ]
  },
  {
   "cell_type": "code",
   "execution_count": 14,
   "id": "65d1b999-8e72-40d6-ae93-945f88063774",
   "metadata": {},
   "outputs": [],
   "source": [
    "recode_dict = {\n",
    "    'V1': '1.0',\n",
    "    'V2': '2.0',\n",
    "    'G': '3.0',\n",
    "    'H': '4.0',\n",
    "    'PL': '5.0',\n",
    "    'P': '99.0',\n",
    "    'NP': '6.0',\n",
    "    'NV': '7.0',\n",
    "    'BL': '0.0'\n",
    "}\n"
   ]
  },
  {
   "cell_type": "code",
   "execution_count": 16,
   "id": "ac1471c3-1bb5-4e72-81e3-58f387ff055d",
   "metadata": {},
   "outputs": [],
   "source": [
    "df_relabelled['observation'] = df_relabelled['class'].replace(recode_dict)\n",
    "df_relabelled.drop(['obs','n'], axis=1, inplace=True)"
   ]
  },
  {
   "cell_type": "code",
   "execution_count": 18,
   "id": "a2d2ffad-1000-4f61-8109-b00ba67965d0",
   "metadata": {},
   "outputs": [],
   "source": [
    "df_relabelled.to_csv(\"/data/ksa/00_Data_Input/relabelled_data_ksa_explore.csv\")"
   ]
  },
  {
   "cell_type": "code",
   "execution_count": 19,
   "id": "7a8518e2-340d-4ca5-afed-266d56463f8d",
   "metadata": {},
   "outputs": [
    {
     "data": {
      "text/plain": [
       "observation\n",
       "1.0      621\n",
       "2.0      502\n",
       "3.0      773\n",
       "4.0     1071\n",
       "5.0      547\n",
       "6.0       85\n",
       "99.0     236\n",
       "dtype: int64"
      ]
     },
     "execution_count": 19,
     "metadata": {},
     "output_type": "execute_result"
    }
   ],
   "source": [
    "df_relabelled.groupby('observation').size()"
   ]
  }
 ],
 "metadata": {
  "kernelspec": {
   "display_name": "Python 3 (ipykernel)",
   "language": "python",
   "name": "python3"
  },
  "language_info": {
   "codemirror_mode": {
    "name": "ipython",
    "version": 3
   },
   "file_extension": ".py",
   "mimetype": "text/x-python",
   "name": "python",
   "nbconvert_exporter": "python",
   "pygments_lexer": "ipython3",
   "version": "3.10.14"
  }
 },
 "nbformat": 4,
 "nbformat_minor": 5
}
