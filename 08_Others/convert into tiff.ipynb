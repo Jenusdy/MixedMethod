{
 "cells": [
  {
   "cell_type": "code",
   "execution_count": 44,
   "id": "eea0d8d1-8c17-492b-ab25-33ff025276e0",
   "metadata": {},
   "outputs": [],
   "source": [
    "import esa_snappy\n",
    "from esa_snappy import ProductIO,GPF\n",
    "import xarray as xr\n",
    "import rioxarray\n",
    "import os\n",
    "# Read the .dim file\n",
    "file_path = '/data/ksa/01_Image_Acquisition/02_Processed_mosaic/48MZT/20230302_20230313.dim'\n"
   ]
  },
  {
   "cell_type": "code",
   "execution_count": 45,
   "id": "4517ce96-f5f1-485c-98d2-9032c0460fec",
   "metadata": {},
   "outputs": [
    {
     "name": "stdout",
     "output_type": "stream",
     "text": [
      "\n",
      "100% done.\n",
      "GeoTIFF exported to temp.tif\n"
     ]
    }
   ],
   "source": [
    "\n",
    "def export_dim_to_geotiff(input_file, output_file):\n",
    "    # Step 1: Read the .dim file using snappy\n",
    "    product = ProductIO.readProduct(input_file)\n",
    "\n",
    "    # Optional: If needed, resample/reproject the product to a desired projection (e.g., EPSG:4326)\n",
    "    parameters = esa_snappy.HashMap()\n",
    "    parameters.put('crs', 'EPSG:4326')\n",
    "    reprojected_product = GPF.createProduct('Reproject', parameters, product)\n",
    "\n",
    "    # Step 2: Write the product to a GeoTIFF file using ProductIO\n",
    "    ProductIO.writeProduct(reprojected_product, output_file, 'GeoTIFF')\n",
    "\n",
    "# Example usage\n",
    "input_dim_file = '/data/ksa/01_Image_Acquisition/02_Processed_mosaic/48MZT/20230302_20230313.dim'\n",
    "output_tiff_file = 'temp.tif'\n",
    "\n",
    "export_dim_to_geotiff(input_dim_file, output_tiff_file)\n",
    "\n",
    "print(f\"GeoTIFF exported to {output_tiff_file}\")\n"
   ]
  }
 ],
 "metadata": {
  "kernelspec": {
   "display_name": "Python 3 (ipykernel)",
   "language": "python",
   "name": "python3"
  },
  "language_info": {
   "codemirror_mode": {
    "name": "ipython",
    "version": 3
   },
   "file_extension": ".py",
   "mimetype": "text/x-python",
   "name": "python",
   "nbconvert_exporter": "python",
   "pygments_lexer": "ipython3",
   "version": "3.10.14"
  }
 },
 "nbformat": 4,
 "nbformat_minor": 5
}
