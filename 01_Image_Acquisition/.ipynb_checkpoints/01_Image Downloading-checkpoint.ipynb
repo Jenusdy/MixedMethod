{
 "cells": [
  {
   "cell_type": "code",
   "execution_count": null,
   "id": "57d88d5d-a956-4986-82c3-3c79f3f83dde",
   "metadata": {},
   "outputs": [],
   "source": [
    "import asf_search as asf\n",
    "import geopandas as gpd\n",
    "from shapely.geometry import box\n",
    "from datetime import date\n",
    "import json"
   ]
  },
  {
   "cell_type": "code",
   "execution_count": null,
   "id": "e2b3f9f3-5894-42ea-a797-10fa703dd07f",
   "metadata": {},
   "outputs": [],
   "source": [
    "data_provinsi='/data/ksa/00_Data_Input/provinsi.gpkg'"
   ]
  },
  {
   "cell_type": "code",
   "execution_count": null,
   "id": "7083acd1-3a30-41f1-92d4-f4562833f248",
   "metadata": {},
   "outputs": [],
   "source": [
    "gpd_provinsi=gpd.read_file(data_provinsi)"
   ]
  },
  {
   "cell_type": "code",
   "execution_count": null,
   "id": "a9d77d17-9842-48a8-9015-d74b88fe1653",
   "metadata": {},
   "outputs": [],
   "source": [
    "kdprov='35'"
   ]
  },
  {
   "cell_type": "code",
   "execution_count": null,
   "id": "48257028-fb17-403f-8b5b-0156479ec212",
   "metadata": {},
   "outputs": [],
   "source": [
    "prov_=gpd_provinsi.query('provno==@kdprov')\n",
    "bounds = prov_.total_bounds\n",
    "gdf_bounds = gpd.GeoSeries([box(*bounds)])\n",
    "wkt_aoi = gdf_bounds.to_wkt().values.tolist()[0]"
   ]
  },
  {
   "cell_type": "code",
   "execution_count": 16,
   "id": "ad2b9d66-73cf-44c4-8121-aff141a30e99",
   "metadata": {},
   "outputs": [
    {
     "name": "stdout",
     "output_type": "stream",
     "text": [
      "Total Images Found: 1433\n"
     ]
    }
   ],
   "source": [
    "results = asf.search(\n",
    "    platform= asf.PLATFORM.SENTINEL1A,\n",
    "    processingLevel=[asf.PRODUCT_TYPE.GRD_HD],\n",
    "    start = date(2021, 1, 1),\n",
    "    end = date(2023, 12, 31),\n",
    "    intersectsWith = wkt_aoi\n",
    "    )\n",
    "print(f'Total Images Found: {len(results)}')\n",
    "metadata = results.geojson()"
   ]
  },
  {
   "cell_type": "code",
   "execution_count": 17,
   "id": "825c85b4-7d6e-4869-8a07-468e8c49cd14",
   "metadata": {},
   "outputs": [],
   "source": [
    "json_object = json.dumps(metadata)\n",
    "with open(f'/data/ksa/01_Image_Acquisition/04_Json_Raw_Download/{kdprov}_metadata_ASF.json', 'w') as f:\n",
    "    f.write(json_object)"
   ]
  },
  {
   "cell_type": "code",
   "execution_count": 18,
   "id": "6e802b15-1a09-44c2-8243-bcd8ce532bdb",
   "metadata": {},
   "outputs": [],
   "source": [
    "with open('config.txt', 'r') as file:\n",
    "    token = file.read().rstrip()"
   ]
  },
  {
   "cell_type": "code",
   "execution_count": 19,
   "id": "e56d3577-aac3-4909-85ea-8a6bcfadd4d3",
   "metadata": {},
   "outputs": [],
   "source": [
    "session=asf.ASFSession().auth_with_token(token)"
   ]
  },
  {
   "cell_type": "code",
   "execution_count": null,
   "id": "c3337f66-37ae-4c05-86db-b034f07728c0",
   "metadata": {},
   "outputs": [],
   "source": [
    "results.download(\n",
    "     path = '/data/ksa/01_Image_Acquisition/01_Raw_Image',\n",
    "     session = session,\n",
    "     processes = 50\n",
    "  )"
   ]
  }
 ],
 "metadata": {
  "kernelspec": {
   "display_name": "Python 3 (ipykernel)",
   "language": "python",
   "name": "python3"
  },
  "language_info": {
   "codemirror_mode": {
    "name": "ipython",
    "version": 3
   },
   "file_extension": ".py",
   "mimetype": "text/x-python",
   "name": "python",
   "nbconvert_exporter": "python",
   "pygments_lexer": "ipython3",
   "version": "3.10.14"
  }
 },
 "nbformat": 4,
 "nbformat_minor": 5
}
