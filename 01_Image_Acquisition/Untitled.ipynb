{
 "cells": [
  {
   "cell_type": "code",
   "execution_count": 14,
   "id": "6cd7a679-0630-4937-899f-10cf66b6eeae",
   "metadata": {},
   "outputs": [],
   "source": [
    "from glob import glob"
   ]
  },
  {
   "cell_type": "code",
   "execution_count": 15,
   "id": "531b3b1c-84a3-44b5-96f2-849ac393d3ea",
   "metadata": {},
   "outputs": [],
   "source": [
    "dt=glob('/data/ksa/01_Image_Acquisition/01_Raw_Image/*')"
   ]
  },
  {
   "cell_type": "code",
   "execution_count": 16,
   "id": "7f41f98b-5041-448d-a5c2-0ab66e2bcf3e",
   "metadata": {},
   "outputs": [
    {
     "data": {
      "text/plain": [
       "531"
      ]
     },
     "execution_count": 16,
     "metadata": {},
     "output_type": "execute_result"
    }
   ],
   "source": [
    "len(dt)"
   ]
  }
 ],
 "metadata": {
  "kernelspec": {
   "display_name": "Python 3 (ipykernel)",
   "language": "python",
   "name": "python3"
  },
  "language_info": {
   "codemirror_mode": {
    "name": "ipython",
    "version": 3
   },
   "file_extension": ".py",
   "mimetype": "text/x-python",
   "name": "python",
   "nbconvert_exporter": "python",
   "pygments_lexer": "ipython3",
   "version": "3.10.14"
  }
 },
 "nbformat": 4,
 "nbformat_minor": 5
}
