{
 "cells": [
  {
   "cell_type": "code",
   "execution_count": 1,
   "id": "395e380a-cf52-446c-877b-b0a1c030a91c",
   "metadata": {},
   "outputs": [],
   "source": [
    "import geopandas as gpd\n",
    "from shapely.geometry import box\n",
    "from datetime import date\n",
    "import json\n",
    "import os\n",
    "import hashlib"
   ]
  },
  {
   "cell_type": "code",
   "execution_count": 2,
   "id": "934fcc90-300c-48af-af7a-e53b2d64c839",
   "metadata": {},
   "outputs": [],
   "source": [
    "def read_json(path):\n",
    "    with open(path, 'r') as file:\n",
    "        data = json.load(file)\n",
    "    return data"
   ]
  },
  {
   "cell_type": "code",
   "execution_count": 3,
   "id": "23624069-c738-4f13-83ba-d41fcd3599f7",
   "metadata": {},
   "outputs": [],
   "source": [
    "def get_file_size(file_path):\n",
    "    \"\"\"Get the size of a file in bytes.\"\"\"\n",
    "    return os.path.getsize(file_path)"
   ]
  },
  {
   "cell_type": "code",
   "execution_count": 4,
   "id": "3a2eff05-3601-463e-a97e-8b9a39bdbf4d",
   "metadata": {},
   "outputs": [],
   "source": [
    "def write_json(idprov, dict_list):\n",
    "    path_file = f'/data/ksa/01_Image_Acquisition/05_Json_Check_Download/{idprov}_download_ASF.json'\n",
    "    with open(path_file, 'w') as json_file:\n",
    "        json.dump(dict_list, json_file, ensure_ascii=False, indent=4)"
   ]
  },
  {
   "cell_type": "code",
   "execution_count": 5,
   "id": "9bb95871-75fb-4994-aa37-bb6a1b2297c2",
   "metadata": {},
   "outputs": [],
   "source": [
    "def remove_file(file_path):\n",
    "    \"\"\"Remove a file.\"\"\"\n",
    "    try:\n",
    "        os.remove(file_path)\n",
    "    except FileNotFoundError:\n",
    "        print(f\"File {file_path} not found.\")\n",
    "    except PermissionError:\n",
    "        print(f\"Permission denied to remove file {file_path}.\")\n",
    "    except Exception as e:\n",
    "        print(f\"Error occurred while removing file {file_path}: {e}\")"
   ]
  },
  {
   "cell_type": "code",
   "execution_count": 6,
   "id": "430050ae-a1bb-4ef7-ba04-5f3faf872497",
   "metadata": {},
   "outputs": [],
   "source": [
    "def remove_corrupt(list_file):\n",
    "    for i in list_file:\n",
    "        remove_file(i)"
   ]
  },
  {
   "cell_type": "markdown",
   "id": "b0de7b0e-adf5-411b-bc3a-d7e8f4c1df07",
   "metadata": {},
   "source": [
    "### Ganti Kode Provinsi Sebelum di Running"
   ]
  },
  {
   "cell_type": "code",
   "execution_count": 7,
   "id": "a287831d-122d-4aa3-920b-21aea56f6b1c",
   "metadata": {},
   "outputs": [],
   "source": [
    "idprov = '16'"
   ]
  },
  {
   "cell_type": "code",
   "execution_count": 11,
   "id": "da3b6369-81eb-44ac-98ea-14d6fc262767",
   "metadata": {},
   "outputs": [],
   "source": [
    "path_file = f'/data/ksa/01_Image_Acquisition/04_Json_Raw_Download/{idprov}_metadata_ASF.json'\n",
    "data = read_json(path_file)"
   ]
  },
  {
   "cell_type": "code",
   "execution_count": 12,
   "id": "099b2246-8d30-4b90-8448-49ce661f9fcc",
   "metadata": {},
   "outputs": [],
   "source": [
    "dict_result = {}\n",
    "undownloaded_files = []\n",
    "downloaded_files = []\n",
    "corrupt_files = []\n",
    "\n",
    "for item in data['features']:\n",
    "    filename = item['properties']['fileName'][:-4]\n",
    "    \n",
    "    # Check if file exists\n",
    "    path_file = f'/data/ksa/01_Image_Acquisition/01_Raw_Image/{filename}.zip'\n",
    "    if not os.path.exists(path_file):\n",
    "        undownloaded_files.append(filename)\n",
    "    else:\n",
    "        size_file = get_file_size(path_file)\n",
    "        if size_file != item['properties']['bytes']:\n",
    "            corrupt_files.append(path_file)\n",
    "        else:\n",
    "            downloaded_files.append(filename)\n",
    "            \n",
    "dict_result['undownloaded'] = undownloaded_files\n",
    "dict_result['corrupted'] = corrupt_files\n",
    "dict_result['downloaded'] = downloaded_files"
   ]
  },
  {
   "cell_type": "code",
   "execution_count": 13,
   "id": "894ac014-9a29-44e9-9549-cad8186a7930",
   "metadata": {},
   "outputs": [
    {
     "name": "stdout",
     "output_type": "stream",
     "text": [
      "Data Image sudah selesai didownload. Silakan lanjut ke proses selanjutnya\n"
     ]
    }
   ],
   "source": [
    "write_json(idprov, dict_result)\n",
    "if len(undownloaded_files) == 0 and len(corrupt_files) == 0:\n",
    "    print(\"Data Image sudah selesai didownload. Silakan lanjut ke proses selanjutnya\")\n",
    "elif len(corrupt_files) > 0:\n",
    "    remove_corrupt(corrupt_files)\n",
    "    print(\"Masih terdapat file yang belum sempurna didownload. Harap running ulang kodingan download file\")\n",
    "else:\n",
    "    print(\"Masih terdapat data image yang belum didownload\")"
   ]
  },
  {
   "cell_type": "code",
   "execution_count": 11,
   "id": "c455e6e8-45be-4270-976c-b6b33869c9dd",
   "metadata": {},
   "outputs": [
    {
     "data": {
      "text/markdown": [
       "### Lihat Result [Disini](../../01_Image_Acquisition/05_Json_Check_Download/16_download_ASF.json)"
      ],
      "text/plain": [
       "<IPython.core.display.Markdown object>"
      ]
     },
     "metadata": {},
     "output_type": "display_data"
    }
   ],
   "source": [
    "from IPython.display import display, Markdown\n",
    "markdown_link = f\"### Lihat Result [Disini](../../01_Image_Acquisition/05_Json_Check_Download/{idprov}_download_ASF.json)\"\n",
    "display(Markdown(markdown_link))"
   ]
  }
 ],
 "metadata": {
  "kernelspec": {
   "display_name": "Python 3 (ipykernel)",
   "language": "python",
   "name": "python3"
  },
  "language_info": {
   "codemirror_mode": {
    "name": "ipython",
    "version": 3
   },
   "file_extension": ".py",
   "mimetype": "text/x-python",
   "name": "python",
   "nbconvert_exporter": "python",
   "pygments_lexer": "ipython3",
   "version": "3.10.14"
  }
 },
 "nbformat": 4,
 "nbformat_minor": 5
}
