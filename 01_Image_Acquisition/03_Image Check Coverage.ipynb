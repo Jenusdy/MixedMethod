{
 "cells": [
  {
   "cell_type": "code",
   "execution_count": 1,
   "id": "74811844-589e-4546-a527-d9b36adccc18",
   "metadata": {},
   "outputs": [],
   "source": [
    "import json\n",
    "import os\n",
    "import geopandas as gpd\n",
    "from glob import glob\n",
    "from shapely.geometry import box\n",
    "from shapely.geometry import Polygon\n",
    "from datetime import date\n",
    "from tqdm import tqdm\n",
    "from datetime import datetime, timedelta"
   ]
  },
  {
   "cell_type": "code",
   "execution_count": 2,
   "id": "315dc073-baea-4ba5-b805-72528af56b8e",
   "metadata": {},
   "outputs": [],
   "source": [
    "def read_json(path_file):\n",
    "    with open(path_file, 'r') as file:\n",
    "        data = json.load(file)\n",
    "    return data"
   ]
  },
  {
   "cell_type": "code",
   "execution_count": 3,
   "id": "6b6f6ae8-3c8a-4ffa-bec4-214e823f6e6c",
   "metadata": {},
   "outputs": [],
   "source": [
    "def write_json(id_wilayah, dict_list):\n",
    "    path_file = f'/data/ksa/01_Image_Acquisition/05_Json_Coverage/{id_wilayah}_coverage_ASF.json'\n",
    "    with open(path_file, 'w') as json_file:\n",
    "        json.dump(dict_list, json_file, ensure_ascii=False, indent=4)"
   ]
  },
  {
   "cell_type": "code",
   "execution_count": 4,
   "id": "2a33d3c3-0019-4283-97e2-475f263a9aa5",
   "metadata": {},
   "outputs": [],
   "source": [
    "def get_df_asf(path_file):\n",
    "    data = read_json(path_file)\n",
    "\n",
    "    asf_images = []\n",
    "    for item in data['features']:\n",
    "        filename = item['properties']['fileName'][:-4]\n",
    "        tahun = item['properties']['processingDate'][:4]\n",
    "        bulan = item['properties']['processingDate'][5:7]\n",
    "        tanggal = item['properties']['processingDate'][8:10]\n",
    "        geometry = item['geometry']['coordinates'][0]\n",
    "        polygon = Polygon(geometry)\n",
    "        asf_images.append(\n",
    "           {\n",
    "               'filename': filename, \n",
    "               'tahun': tahun,\n",
    "               'bulan': bulan,\n",
    "               'tanggal': tanggal,\n",
    "               'geometry': polygon\n",
    "           }\n",
    "        )\n",
    "    return gpd.GeoDataFrame(asf_images, geometry='geometry')"
   ]
  },
  {
   "cell_type": "code",
   "execution_count": 5,
   "id": "2f71686e-3bb6-4049-93db-1c947f5f9cd5",
   "metadata": {},
   "outputs": [],
   "source": [
    "def get_df_input(id_wilayah):\n",
    "    gdf_mgrs = gpd.read_file('/data/ksa/00_Data_Input/indo_mgrs_grid_100km_overlay.gpkg')\n",
    "    \n",
    "    if len(id_wilayah) == 2 :\n",
    "        gdf_wilayah = gpd.read_file('/data/ksa/00_Data_Input/provinsi.gpkg')\n",
    "        gdf_wilayah = gdf_wilayah[gdf_wilayah['provno'] == id_wilayah]\n",
    "    else :\n",
    "        gdf_wilayah = gpd.read_file('/data/ksa/00_Data_Input/kabupaten.gpkg')\n",
    "        gdf_wilayah = gdf_wilayah[gdf_wilayah['idkab'] == id_wilayah]\n",
    "        \n",
    "    intersecting_gdf = gpd.sjoin(gdf_mgrs, gdf_wilayah, how='inner', predicate='intersects')\n",
    "    gdf_mgrs = gdf_mgrs[gdf_mgrs.index.isin(intersecting_gdf.index)]\n",
    "    return gdf_mgrs, gdf_wilayah"
   ]
  },
  {
   "cell_type": "code",
   "execution_count": 49,
   "id": "6a324070-aca2-4cdf-9591-779cfbfdbe65",
   "metadata": {},
   "outputs": [],
   "source": [
    "def generate_date_pairs(year):\n",
    "    start_date = datetime(year, 1, 1)\n",
    "    date_pairs = []\n",
    "    \n",
    "    while start_date.year == year:\n",
    "        end_date = start_date + timedelta(days=11)\n",
    "        # Ensure the end date is still within the same year\n",
    "        if end_date.year != year:\n",
    "            break\n",
    "\n",
    "        start_date_str = \"2023-08-01\"\n",
    "        end_date_str = \"2024-09-30\"\n",
    "        \n",
    "        start_periode = datetime.strptime(start_date_str, \"%Y-%m-%d\")\n",
    "        end_periode = datetime.strptime(end_date_str, \"%Y-%m-%d\")\n",
    "        \n",
    "        # Check if the date falls within the range\n",
    "        if start_periode <= start_date <= end_periode:\n",
    "            date_pairs.append([start_date.strftime('%Y-%m-%d'), end_date.strftime('%Y-%m-%d')])\n",
    "        start_date = end_date + timedelta(days=1)\n",
    "    return date_pairs"
   ]
  },
  {
   "cell_type": "code",
   "execution_count": 7,
   "id": "94920b7d-64da-4193-b3c9-5eade73dc24c",
   "metadata": {},
   "outputs": [],
   "source": [
    "from tqdm import tqdm\n",
    "\n",
    "def get_periode_data(row, periode, gdf_asf):\n",
    "    startPeriode = periode[0].split('-')\n",
    "    endPeriode = periode[1].split('-')\n",
    "\n",
    "    periode = {\n",
    "        'start_periode': periode[0],\n",
    "        'end_periode': periode[1]\n",
    "    }\n",
    "\n",
    "    gdf_asf_filter = gdf_asf[\n",
    "        ((gdf_asf['tahun'] >= startPeriode[0]) & (gdf_asf['bulan'] >= startPeriode[1]) & (gdf_asf['tanggal'] >= startPeriode[2])) &\n",
    "        ((gdf_asf['tahun'] <= endPeriode[0]) & (gdf_asf['bulan'] <= endPeriode[1]) & (gdf_asf['tanggal'] <= endPeriode[2]))\n",
    "    ]\n",
    "    \n",
    "    if gdf_asf_filter.empty:\n",
    "        periode.update({\n",
    "            'image_asf': '',\n",
    "            'coverage': 0,\n",
    "            'alasan': 'Tidak ada image periode tersebut'\n",
    "        })\n",
    "        return periode\n",
    "\n",
    "    overlapping_rows = gdf_asf_filter[gdf_asf_filter.intersects(row['geometry'])]\n",
    "    if overlapping_rows.empty:\n",
    "        periode.update({\n",
    "            'image_asf': '',\n",
    "            'coverage': 0,\n",
    "            'alasan': 'Tidak ada image yang overlap dengan MGRS'\n",
    "        })\n",
    "        return periode\n",
    "\n",
    "    periode['image_asf'] = overlapping_rows['filename'].to_list()\n",
    "    df_temp = overlapping_rows.dissolve()\n",
    "    area1 = row['geometry'].area\n",
    "    intersection = row['geometry'].intersection(df_temp['geometry'])[0].area\n",
    "    percentage_covered = (intersection / area1) * 100\n",
    "    periode['coverage'] = percentage_covered\n",
    "\n",
    "    periode['alasan'] = 'Coverage di bawah 80%' if percentage_covered < 80 else 'Sudah OK!'\n",
    "    return periode"
   ]
  },
  {
   "cell_type": "code",
   "execution_count": 36,
   "id": "27aee7dd-1e65-4cb4-b097-1d0a35c88d81",
   "metadata": {},
   "outputs": [],
   "source": [
    "def process_rows(gdf_mgrs, gdf_asf):\n",
    "    dict_list = []\n",
    "    periode_range = []\n",
    "    years = [2023, 2024]\n",
    "    for year in years:\n",
    "        date_pairs = generate_date_pairs(year)\n",
    "        date_pairs[-1][1] = date_pairs[-1][1][:-2] + '31'\n",
    "        periode_range = periode_range + date_pairs\n",
    "    \n",
    "    for _, row in tqdm(gdf_mgrs.iterrows(), total=gdf_mgrs.shape[0]):\n",
    "        periode_list = [get_periode_data(row, periode, gdf_asf) for periode in periode_range]\n",
    "        \n",
    "        dict_list.append({\n",
    "            'id': row['MGRS'],\n",
    "            'geometry': row['geometry'].wkt,\n",
    "            'periode': periode_list\n",
    "        })\n",
    "    \n",
    "    return dict_list"
   ]
  },
  {
   "cell_type": "markdown",
   "id": "8493902d-a2e1-4818-a9ee-0416d566d997",
   "metadata": {},
   "source": [
    "### Running For Kabupaten"
   ]
  },
  {
   "cell_type": "code",
   "execution_count": 29,
   "id": "a0950b97-2462-48a5-a12e-9d5ed22da4b7",
   "metadata": {},
   "outputs": [],
   "source": [
    "list_file = glob('/data/ksa/01_Image_Acquisition/04_Json_Raw_Download/*_groundtruth_metadata_ASF.json')"
   ]
  },
  {
   "cell_type": "code",
   "execution_count": 50,
   "id": "2049f7de-41a6-4517-9787-a7d8554b3512",
   "metadata": {},
   "outputs": [
    {
     "name": "stderr",
     "output_type": "stream",
     "text": [
      "100%|██████████| 2/2 [00:00<00:00,  5.59it/s]\n",
      "100%|██████████| 5/5 [00:00<00:00,  5.04it/s]\n",
      "100%|██████████| 2/2 [00:00<00:00,  4.47it/s]\n",
      "100%|██████████| 6/6 [00:01<00:00,  5.50it/s]\n",
      "100%|██████████| 25/25 [00:04<00:00,  5.75it/s]\n",
      "100%|██████████| 2/2 [00:00<00:00,  4.79it/s]\n",
      "100%|██████████| 1/1 [00:00<00:00,  5.26it/s]\n",
      "100%|██████████| 3/3 [00:00<00:00,  4.85it/s]\n",
      "100%|██████████| 6/6 [00:01<00:00,  4.47it/s]\n",
      "100%|██████████| 2/2 [00:00<00:00,  4.48it/s]\n",
      "100%|██████████| 4/4 [00:00<00:00,  4.23it/s]\n",
      "100%|██████████| 6/6 [00:01<00:00,  4.85it/s]\n",
      "100%|██████████| 4/4 [00:00<00:00,  5.21it/s]\n",
      "100%|██████████| 3/3 [00:00<00:00,  5.05it/s]\n",
      "100%|██████████| 3/3 [00:00<00:00,  5.14it/s]\n",
      "100%|██████████| 2/2 [00:00<00:00,  5.38it/s]\n",
      "100%|██████████| 2/2 [00:00<00:00,  5.07it/s]\n",
      "100%|██████████| 4/4 [00:00<00:00,  5.16it/s]\n",
      "100%|██████████| 2/2 [00:00<00:00,  5.17it/s]\n",
      "100%|██████████| 7/7 [00:01<00:00,  4.70it/s]\n",
      "100%|██████████| 2/2 [00:00<00:00,  5.08it/s]\n",
      "100%|██████████| 3/3 [00:00<00:00,  5.22it/s]\n",
      "100%|██████████| 2/2 [00:00<00:00,  5.36it/s]\n",
      "100%|██████████| 4/4 [00:00<00:00,  5.35it/s]\n",
      "100%|██████████| 2/2 [00:00<00:00,  4.98it/s]\n",
      "100%|██████████| 3/3 [00:00<00:00,  5.26it/s]\n"
     ]
    }
   ],
   "source": [
    "for path_file in list_file:\n",
    "    id_wilayah = path_file.split('/')[-1][:4]\n",
    "    gdf_mgrs, gdf_wilayah = get_df_input(id_wilayah)\n",
    "    gdf_asf = get_df_asf(path_file)\n",
    "    dict_list = process_rows(gdf_mgrs, gdf_asf)\n",
    "    write_json(id_wilayah, dict_list)"
   ]
  },
  {
   "cell_type": "code",
   "execution_count": 22,
   "id": "c714b8b5-0bc1-47e8-820a-1579b22a16f9",
   "metadata": {},
   "outputs": [],
   "source": [
    "list_file = sorted(glob('/data/ksa/01_Image_Acquisition/05_Json_Coverage/*_coverage_ASF.json'))"
   ]
  },
  {
   "cell_type": "code",
   "execution_count": 25,
   "id": "511b3cf5-a955-4537-a279-02cf8098cd8d",
   "metadata": {},
   "outputs": [],
   "source": [
    "for i in list_file:\n",
    "    id_wilayah = i.split('/')[-1].split('_')[0]\n",
    "    if len(id_wilayah) == 4: \n",
    "        data = read_json(i)\n",
    "        \n",
    "        break"
   ]
  },
  {
   "cell_type": "markdown",
   "id": "87995d9d-59c3-490e-963a-efe5008ae0b7",
   "metadata": {},
   "source": [
    "### Running for Provinsi"
   ]
  },
  {
   "cell_type": "code",
   "execution_count": null,
   "id": "6271b97a-69d4-4469-b37c-beadf2ac6d5b",
   "metadata": {},
   "outputs": [],
   "source": [
    "id_wilayah = '32'"
   ]
  },
  {
   "cell_type": "code",
   "execution_count": null,
   "id": "d7be235c-f6a7-45d5-8f38-17c922a63717",
   "metadata": {},
   "outputs": [],
   "source": [
    "gdf_mgrs, gdf_wilayah = get_df_input(id_wilayah)\n",
    "gdf_asf = get_df_asf(id_wilayah)"
   ]
  },
  {
   "cell_type": "code",
   "execution_count": null,
   "id": "d298f669-c704-4ea5-a144-a33fdc221ad4",
   "metadata": {},
   "outputs": [],
   "source": [
    "dict_list = process_rows(gdf_mgrs, gdf_asf)"
   ]
  },
  {
   "cell_type": "code",
   "execution_count": null,
   "id": "2e501d2d-d4fd-4634-913e-219148676e7e",
   "metadata": {},
   "outputs": [],
   "source": [
    "write_json(id_wilayah, dict_list)"
   ]
  },
  {
   "cell_type": "code",
   "execution_count": null,
   "id": "55a4d04b-acd4-49c8-a0ed-8d3062d7c1b5",
   "metadata": {},
   "outputs": [],
   "source": [
    "from IPython.display import display, Markdown\n",
    "markdown_link = f\"### Lihat Result [Disini](../../01_Image_Acquisition/05_Json_Coverage/{id_wilayah}_coverage_ASF.json)\"\n",
    "display(Markdown(markdown_link))"
   ]
  }
 ],
 "metadata": {
  "kernelspec": {
   "display_name": "Python 3 (ipykernel)",
   "language": "python",
   "name": "python3"
  },
  "language_info": {
   "codemirror_mode": {
    "name": "ipython",
    "version": 3
   },
   "file_extension": ".py",
   "mimetype": "text/x-python",
   "name": "python",
   "nbconvert_exporter": "python",
   "pygments_lexer": "ipython3",
   "version": "3.10.14"
  }
 },
 "nbformat": 4,
 "nbformat_minor": 5
}
