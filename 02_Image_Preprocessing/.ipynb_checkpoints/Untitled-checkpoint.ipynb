{
 "cells": [
  {
   "cell_type": "code",
   "execution_count": null,
   "id": "30aeb18a-e2f5-4da6-b482-fbf4ee68f2c2",
   "metadata": {},
   "outputs": [],
   "source": [
    "from esa_snappy import ProductIO, HashMap, GPF, ProductUtils,jpy\n",
    "import os,gc\n",
    "import geopandas as gpd\n",
    "from shapely import wkt\n",
    "import pickle\n",
    "import sys\n",
    "import json\n",
    "gc.enable()\n",
    "gc.collect()"
   ]
  },
  {
   "cell_type": "code",
   "execution_count": null,
   "id": "87baa98e-8f65-41ce-bef0-8f10ed5a326d",
   "metadata": {},
   "outputs": [],
   "source": [
    "sentinel_1 = ProductIO.readProduct('/data/ksa/01_Image_Acquisition/02_Processed_Image/S1A_IW_GRDH_1SDV_20210103T110633_20210103T110702_035972_0436D8_DEF8.tif')"
   ]
  },
  {
   "cell_type": "code",
   "execution_count": null,
   "id": "a8a53d4e-7c83-4aba-b924-0bc490e1cf68",
   "metadata": {},
   "outputs": [],
   "source": [
    "json_dt='/data/ksa/01_Image_Acquisition/05_Json_Coverage/32_coverage_ASF.json'\n",
    "with open(json_dt,'r') as file:\n",
    "    json_file=json.load(file)"
   ]
  },
  {
   "cell_type": "code",
   "execution_count": null,
   "id": "14bcabea-0991-47b8-b6a3-54a06370e838",
   "metadata": {},
   "outputs": [],
   "source": [
    "#[wkt.load()json_file[0]['geometry']]#\n",
    "total_bounds=gpd.GeoDataFrame(geometry=[wkt.loads(json_file[0]['geometry'])]).total_bounds\n",
    "north=total_bounds[0]\n",
    "south=total_bounds[2]\n",
    "west=total_bounds[1]\n",
    "east=total_bounds[3]"
   ]
  },
  {
   "cell_type": "code",
   "execution_count": null,
   "id": "c39222b8-b932-4bf0-a2fb-a788bc4dde25",
   "metadata": {},
   "outputs": [],
   "source": [
    "total_bounds"
   ]
  },
  {
   "cell_type": "code",
   "execution_count": null,
   "id": "41375edc-de03-4013-b571-696728f0faec",
   "metadata": {},
   "outputs": [],
   "source": [
    "def mosaicing(list_sources,bound,outflnm):\n",
    "    #print('Mosaicking Process Begin')\n",
    "    products = jpy.array('org.esa.snap.core.datamodel.Product',len(list_sources))\n",
    "    Variable = jpy.get_type('org.esa.snap.core.gpf.common.MosaicOp$Variable')\n",
    "    variables = jpy.array('org.esa.snap.core.gpf.common.MosaicOp$Variable', 2)\n",
    "    \n",
    "    parameters = HashMap()\n",
    "    parameters.put('combine', 'OR')\n",
    "    parameters.put('crs', 'EPSG:3857')\n",
    "    parameters.put('resampling', 'Nearest')\n",
    "    parameters.put('pixelSizeX', 20.0)\n",
    "    parameters.put('pixelSizeY', 20.0)\n",
    "    parameters.put('orthorectify', False)\n",
    "    parameters.put('westBound',bound[0])\n",
    "    parameters.put('southBound',bound[1])\n",
    "    parameters.put('northBound',bound[3])\n",
    "    parameters.put('eastBound',bound[2])\n",
    "    \n",
    "    for i in range(len(list_sources)):\n",
    "        p=ProductIO.readProduct('/data/ksa/01_Image_Acquisition/02_Processed_Image/'+list_sources[i]+'.tif')\n",
    "        products[i]=p\n",
    "    if len(list_sources)>0:\n",
    "        band_names = products[0].getBandNames()\n",
    "        i=0\n",
    "        for band in band_names:\n",
    "            print(band)\n",
    "            variables[i]=Variable(band,band)\n",
    "            i=i+1 \n",
    "    parameters.put('variables', variables) \n",
    "    output = GPF.createProduct('Mosaic', parameters, products)\n",
    "    ProductIO.writeProduct(output, outflnm, 'GeoTIFF')"
   ]
  },
  {
   "cell_type": "code",
   "execution_count": null,
   "id": "b3a021f3-5c62-43e7-a65f-21930ab96ba4",
   "metadata": {},
   "outputs": [],
   "source": [
    "mosaicing(json_file[0]['periode'][0]['image_asf'],\n",
    "         total_bounds,'temp')"
   ]
  },
  {
   "cell_type": "code",
   "execution_count": null,
   "id": "d34e37f9-5efd-4192-bc8f-6bb468796921",
   "metadata": {},
   "outputs": [],
   "source": [
    "\n",
    "def mosaicing(list_sources,bound,outflnm,band):\n",
    "    #print('Mosaicking Process Begin')\n",
    "    products = jpy.array('org.esa.snap.core.datamodel.Product',len(list_sources))\n",
    "    Variable = jpy.get_type('org.esa.snap.core.gpf.common.MosaicOp$Variable')\n",
    "    variables = jpy.array('org.esa.snap.core.gpf.common.MosaicOp$Variable', 1)\n",
    "    \n",
    "    parameters = HashMap()\n",
    "    parameters.put('combine', 'OR')\n",
    "    parameters.put('crs', 'EPSG:3857')\n",
    "    parameters.put('resampling', 'Nearest')\n",
    "    parameters.put('pixelSizeX', 20.0)\n",
    "    parameters.put('pixelSizeY', 20.0)\n",
    "    parameters.put('orthorectify', False)\n",
    "    parameters.put('westBound',bound[0])\n",
    "    parameters.put('southBound',bound[1])\n",
    "    parameters.put('northBound',bound[2])\n",
    "    parameters.put('eastBound',bound[3])\n",
    "    str_='Gamma0_'+band+'_db'\n",
    "    variables[0]=Variable(str_,str_)\n",
    "    parameters.put('variables', variables) \n",
    "    #print('Data:')\n",
    "    for i in range(len(list_sources)):\n",
    "    #    print(list_sources[i])\n",
    "        p=ProductIO.readProduct(list_sources[i])\n",
    "        products[i]=p\n",
    "    output = GPF.createProduct('Mosaic', parameters, products)\n",
    "    #print('Done')\n",
    "    ProductIO.writeProduct(output, outflnm, 'GeoTIFF')\n",
    "    #print('+++++++++++++++++++++++++++++++++++++++++')\n",
    "    for i in range(len(list_sources)):\n",
    "    #    print(list_sources[i])\n",
    "        products[i]=None\n",
    "\n",
    "def running_mosaicing(str_pickle,path_shp):\n",
    "    gdf_=gpd.read_file(path_shp)\n",
    "    with open(str_pickle,'rb') as file:\n",
    "        dict_grid_date=pickle.load(file)\n",
    "    for grid in dict_grid_date.keys():\n",
    "        boundary=gdf_.query('ID_GRID==@grid')\n",
    "        west=boundary['left'].values[0]\n",
    "        east=boundary['right'].values[0]\n",
    "        north=boundary['top'].values[0]\n",
    "        south=boundary['bottom'].values[0]\n",
    "        bound=[west,south,north,east]\n",
    "        for bands in ['VH','VV']:\n",
    "            for period_range in dict_grid_date[grid][bands].keys():\n",
    "                lst_sources=dict_grid_date[grid][bands][period_range]\n",
    "                path_sources=[]\n",
    "                if len(lst_sources)>0:\n",
    "                    for i in lst_sources:\n",
    "                        path_sources.append('shared_ksa/00_SATELLITE IMAGERY/01_PREPROCESSING_1/'+grid+'/'+bands+'/'+i)\n",
    "                    outflnm='shared_ksa/00_SATELLITE IMAGERY/01_MOSAIC/'+grid+'/'+bands+'/'+period_range\n",
    "                    if os.path.exists(outflnm+'.tif'):\n",
    "                        print(outflnm,' is already exists')\n",
    "                        pass\n",
    "                    else:\n",
    "                        print('running for ', outflnm)\n",
    "                        mosaicing(path_sources,bound,outflnm,bands)\n",
    "        \n"
   ]
  },
  {
   "cell_type": "code",
   "execution_count": null,
   "id": "519e51a2-4018-4a1d-97f2-a104947ad640",
   "metadata": {},
   "outputs": [],
   "source": [
    "\n",
    "if __name__==\"__main__\":\n",
    "    str_pickle=sys.argv[1]\n",
    "    path_shp=sys.argv[2]\n",
    "    running_mosaicing(str_pickle,path_shp)"
   ]
  }
 ],
 "metadata": {
  "kernelspec": {
   "display_name": "Python 3 (ipykernel)",
   "language": "python",
   "name": "python3"
  },
  "language_info": {
   "codemirror_mode": {
    "name": "ipython",
    "version": 3
   },
   "file_extension": ".py",
   "mimetype": "text/x-python",
   "name": "python",
   "nbconvert_exporter": "python",
   "pygments_lexer": "ipython3",
   "version": "3.10.14"
  }
 },
 "nbformat": 4,
 "nbformat_minor": 5
}
