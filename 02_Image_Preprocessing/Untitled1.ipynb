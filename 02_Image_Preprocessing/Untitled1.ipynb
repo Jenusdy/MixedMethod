{
 "cells": [
  {
   "cell_type": "code",
   "execution_count": 1,
   "id": "05e27ec3-7ce5-4919-b818-cfb3f97f89fa",
   "metadata": {},
   "outputs": [],
   "source": [
    "from glob import glob\n",
    "import os"
   ]
  },
  {
   "cell_type": "code",
   "execution_count": 2,
   "id": "538d904c-34f3-4c60-ab77-3d7104f260ee",
   "metadata": {},
   "outputs": [],
   "source": [
    "dt=glob('/data/ksa/01_Image_Acquisition/01_Raw_Image/*.zip')"
   ]
  },
  {
   "cell_type": "code",
   "execution_count": 3,
   "id": "2d70ca8e-1def-472a-8381-cfb7e20224bc",
   "metadata": {},
   "outputs": [
    {
     "data": {
      "text/plain": [
       "2895"
      ]
     },
     "execution_count": 3,
     "metadata": {},
     "output_type": "execute_result"
    }
   ],
   "source": [
    "len(dt)"
   ]
  },
  {
   "cell_type": "code",
   "execution_count": 4,
   "id": "f3bef683-69df-4a8f-8819-24152709365e",
   "metadata": {},
   "outputs": [],
   "source": [
    "for i in dt:\n",
    "    os.remove(i)"
   ]
  }
 ],
 "metadata": {
  "kernelspec": {
   "display_name": "Python 3 (ipykernel)",
   "language": "python",
   "name": "python3"
  },
  "language_info": {
   "codemirror_mode": {
    "name": "ipython",
    "version": 3
   },
   "file_extension": ".py",
   "mimetype": "text/x-python",
   "name": "python",
   "nbconvert_exporter": "python",
   "pygments_lexer": "ipython3",
   "version": "3.10.14"
  }
 },
 "nbformat": 4,
 "nbformat_minor": 5
}
